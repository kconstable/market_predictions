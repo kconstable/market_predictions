{
  "nbformat": 4,
  "nbformat_minor": 0,
  "metadata": {
    "colab": {
      "name": "data_preprocessing.ipynb",
      "provenance": [],
      "collapsed_sections": [
        "TAnqKBgDbFt0"
      ],
      "toc_visible": true,
      "authorship_tag": "ABX9TyNXhjEHk/QQaVXt/zzXBcNh",
      "include_colab_link": true
    },
    "kernelspec": {
      "name": "python3",
      "display_name": "Python 3"
    },
    "language_info": {
      "name": "python"
    },
    "accelerator": "GPU"
  },
  "cells": [
    {
      "cell_type": "markdown",
      "metadata": {
        "id": "view-in-github",
        "colab_type": "text"
      },
      "source": [
        "<a href=\"https://colab.research.google.com/github/kconstable/market_predictions/blob/main/data_preprocessing.ipynb\" target=\"_parent\"><img src=\"https://colab.research.google.com/assets/colab-badge.svg\" alt=\"Open In Colab\"/></a>"
      ]
    },
    {
      "cell_type": "markdown",
      "metadata": {
        "id": "sahnivo9hvrY"
      },
      "source": [
        "# Data Preprocessing for Deep Learning\n"
      ]
    },
    {
      "cell_type": "markdown",
      "metadata": {
        "id": "07-vhmw4cmDI"
      },
      "source": [
        "## Import Libraries "
      ]
    },
    {
      "cell_type": "code",
      "metadata": {
        "colab": {
          "base_uri": "https://localhost:8080/"
        },
        "id": "tNFMcf2vhiWz",
        "outputId": "26690360-1b9c-4426-b08e-abeec066f507"
      },
      "source": [
        "# install keras tuner\n",
        "!pip install -q -U keras-tuner"
      ],
      "execution_count": 2,
      "outputs": [
        {
          "output_type": "stream",
          "name": "stdout",
          "text": [
            "\u001b[?25l\r\u001b[K     |███▍                            | 10 kB 31.2 MB/s eta 0:00:01\r\u001b[K     |██████▊                         | 20 kB 8.9 MB/s eta 0:00:01\r\u001b[K     |██████████                      | 30 kB 8.0 MB/s eta 0:00:01\r\u001b[K     |█████████████▍                  | 40 kB 7.6 MB/s eta 0:00:01\r\u001b[K     |████████████████▊               | 51 kB 4.0 MB/s eta 0:00:01\r\u001b[K     |████████████████████            | 61 kB 4.3 MB/s eta 0:00:01\r\u001b[K     |███████████████████████▍        | 71 kB 4.3 MB/s eta 0:00:01\r\u001b[K     |██████████████████████████▊     | 81 kB 4.8 MB/s eta 0:00:01\r\u001b[K     |██████████████████████████████▏ | 92 kB 5.1 MB/s eta 0:00:01\r\u001b[K     |████████████████████████████████| 97 kB 3.4 MB/s \n",
            "\u001b[?25h"
          ]
        }
      ]
    },
    {
      "cell_type": "code",
      "metadata": {
        "colab": {
          "base_uri": "https://localhost:8080/"
        },
        "id": "HpjQAe3ZnFZT",
        "outputId": "85fc59fa-ff7d-4433-be2a-cd355b95de11"
      },
      "source": [
        "# check the collab connection\n",
        "gpu_info = !nvidia-smi\n",
        "gpu_info = '\\n'.join(gpu_info)\n",
        "if gpu_info.find('failed') >= 0:\n",
        "  print('Not connected to a GPU')\n",
        "else:\n",
        "  print(gpu_info)"
      ],
      "execution_count": 1,
      "outputs": [
        {
          "output_type": "stream",
          "name": "stdout",
          "text": [
            "Wed Sep 22 00:10:12 2021       \n",
            "+-----------------------------------------------------------------------------+\n",
            "| NVIDIA-SMI 470.63.01    Driver Version: 460.32.03    CUDA Version: 11.2     |\n",
            "|-------------------------------+----------------------+----------------------+\n",
            "| GPU  Name        Persistence-M| Bus-Id        Disp.A | Volatile Uncorr. ECC |\n",
            "| Fan  Temp  Perf  Pwr:Usage/Cap|         Memory-Usage | GPU-Util  Compute M. |\n",
            "|                               |                      |               MIG M. |\n",
            "|===============================+======================+======================|\n",
            "|   0  Tesla P100-PCIE...  Off  | 00000000:00:04.0 Off |                    0 |\n",
            "| N/A   48C    P0    30W / 250W |      0MiB / 16280MiB |      0%      Default |\n",
            "|                               |                      |                  N/A |\n",
            "+-------------------------------+----------------------+----------------------+\n",
            "                                                                               \n",
            "+-----------------------------------------------------------------------------+\n",
            "| Processes:                                                                  |\n",
            "|  GPU   GI   CI        PID   Type   Process name                  GPU Memory |\n",
            "|        ID   ID                                                   Usage      |\n",
            "|=============================================================================|\n",
            "|  No running processes found                                                 |\n",
            "+-----------------------------------------------------------------------------+\n"
          ]
        }
      ]
    },
    {
      "cell_type": "code",
      "metadata": {
        "colab": {
          "base_uri": "https://localhost:8080/"
        },
        "id": "qAEgND5ohu_y",
        "outputId": "0fd27b56-4d98-488b-9528-7eaa3d0fe113"
      },
      "source": [
        "# deep learning /RNN\n",
        "import tensorflow as tf\n",
        "from keras import backend as K\n",
        "from tensorflow import keras\n",
        "from keras.models import Sequential,backend\n",
        "from keras.layers import LSTM, Dense, Dropout\n",
        "from keras.callbacks import EarlyStopping\n",
        "import keras_tuner as kt\n",
        "from kerastuner.tuners import Hyperband\n",
        "from sklearn.preprocessing import MinMaxScaler\n",
        "from sklearn.metrics import mean_absolute_error, mean_squared_error\n",
        "\n",
        "# stats, data structures and plotting\n",
        "import random as rn\n",
        "import math\n",
        "import numpy as np\n",
        "import pandas as pd\n",
        "import timeit\n",
        "import plotly.graph_objects as go\n",
        "from plotly.subplots import make_subplots\n",
        "from statsmodels.tsa.stattools import adfuller\n",
        "from scipy import stats\n",
        "\n",
        "# File operations\n",
        "import os\n",
        "import pickle\n",
        "from google.colab import files\n",
        "from google.colab import drive\n",
        "drive.mount('/content/drive')\n",
        "\n",
        "\n",
        "# Set Seeds\n",
        "seed = 1985\n",
        "np.random.seed(seed)\n",
        "rn.seed(seed)\n",
        "# os.environ['PYTHONHASHSEED']=str(seed)"
      ],
      "execution_count": 4,
      "outputs": [
        {
          "output_type": "stream",
          "name": "stdout",
          "text": [
            "Drive already mounted at /content/drive; to attempt to forcibly remount, call drive.mount(\"/content/drive\", force_remount=True).\n"
          ]
        }
      ]
    },
    {
      "cell_type": "markdown",
      "metadata": {
        "id": "1h15JNv-iamW"
      },
      "source": [
        "## Load Data"
      ]
    },
    {
      "cell_type": "code",
      "metadata": {
        "id": "YVFeOvp6icWo",
        "colab": {
          "base_uri": "https://localhost:8080/"
        },
        "outputId": "884dddc5-eb10-465a-ca0f-5b13259ea4c5"
      },
      "source": [
        "stock = 'VMW'\n",
        "df_vmw = pd.read_pickle(f'/content/drive/MyDrive/Colab Notebooks/data/{stock}_market_data.pickle')\n",
        "df_vmw_features = pd.read_pickle(f'/content/drive/MyDrive/Colab Notebooks/data/{stock}_market_data_features.pickle')\n",
        "print(f\"\\n{stock}\")\n",
        "print(\"=\"*60)\n",
        "print(f\"{stock}-all features: \",df_vmw.shape)\n",
        "print(f\"{stock}-optimal features: \",df_vmw_features.shape)\n",
        "\n",
        "\n",
        "crypto='BTC'\n",
        "df_btc = pd.read_pickle(f'/content/drive/MyDrive/Colab Notebooks/data/{crypto}_market_data.pickle')\n",
        "df_btc_features = pd.read_pickle(f'/content/drive/MyDrive/Colab Notebooks/data/{crypto}_market_data_features.pickle')\n",
        "print(f\"\\n{crypto}\")\n",
        "print(\"=\"*60)\n",
        "print(f\"{crypto}-all features: \",df_btc.shape)\n",
        "print(f\"{crypto}-optimal features: \",df_btc_features.shape)\n",
        "\n",
        "\n",
        "stock='BLX.TO'\n",
        "df_blx = pd.read_pickle(f'/content/drive/MyDrive/Colab Notebooks/data/{stock}_market_data.pickle')\n",
        "df_blx_features = pd.read_pickle(f'/content/drive/MyDrive/Colab Notebooks/data/{stock}_market_data_features.pickle')\n",
        "print(f\"\\n{stock}\")\n",
        "print(\"=\"*60)\n",
        "print(f\"{stock}-all features: \",df_blx.shape)\n",
        "print(f\"{stock}-optimal features: \",df_blx_features.shape)"
      ],
      "execution_count": 47,
      "outputs": [
        {
          "output_type": "stream",
          "name": "stdout",
          "text": [
            "\n",
            "VMW\n",
            "============================================================\n",
            "VMW-all features:  (2570, 29)\n",
            "VMW-optimal features:  (2510, 10)\n",
            "\n",
            "BTC\n",
            "============================================================\n",
            "BTC-all features:  (1000, 28)\n",
            "BTC-optimal features:  (940, 10)\n",
            "\n",
            "BLX.TO\n",
            "============================================================\n",
            "BLX.TO-all features:  (2550, 10)\n",
            "BLX.TO-optimal features:  (2550, 10)\n"
          ]
        }
      ]
    },
    {
      "cell_type": "markdown",
      "metadata": {
        "id": "AKUw170RVZQ_"
      },
      "source": [
        "## Prepare Data for Deep Learning\n"
      ]
    },
    {
      "cell_type": "markdown",
      "metadata": {
        "id": "N4qHCumNV0Cq"
      },
      "source": [
        "### Prepare the Data \n",
        "+ Reverse the date-time index\n",
        "+ Convert the date-time index to an integer index\n",
        "+ Convert to numpay arrays"
      ]
    },
    {
      "cell_type": "code",
      "metadata": {
        "id": "fWaAdRxXipxQ"
      },
      "source": [
        "def prepare_data(df,y='close',features=[]):\n",
        "  \"\"\"\n",
        "  Filter, scale and convert dataframe data to numpy arrays\n",
        "\n",
        "  Inputs: \n",
        "    df       => A dataframe of observations with features and y-labels\n",
        "    y        => The name of the column that is the truth labels\n",
        "    features => A list of features.  Used to subset columns\n",
        "\n",
        "  Outputs:\n",
        "    scaled_y => numpy array of the y-label data\n",
        "    scaled_x => numpy array of the training features\n",
        "\n",
        "  \"\"\"\n",
        "\n",
        "  # reverse the index such that dates are in chronological order\n",
        "  df = df.iloc[::-1]\n",
        "\n",
        "  # Subset features, get the y-label values\n",
        "  df_y = df[y]\n",
        "  df_X = df[features]\n",
        "\n",
        "  # replace the date index with an integer index\n",
        "  df_X.reset_index(drop=True,inplace=True)\n",
        "\n",
        "  # convert to numpay arrays\n",
        "  array_X = np.array(df_X)\n",
        "  array_y = np.array(df_y).reshape(-1,1)\n",
        "\n",
        "  # print the output\n",
        "  print(\"\\nData Preparation\")\n",
        "  print(\"=\"*60)\n",
        "  print(f\"=> {len(features)} Features\")\n",
        "  print(f\"=> Input Dimensions :{array_X.shape}\")\n",
        "  print(f\"=> Output Dimensions:{array_y.shape}\")\n",
        "  print(\"\\n\")\n",
        "\n",
        "  return array_y, array_X\n"
      ],
      "execution_count": 5,
      "outputs": []
    },
    {
      "cell_type": "markdown",
      "metadata": {
        "id": "d5QUVRHgQ5Xc"
      },
      "source": [
        "### Split the Data into Train/Test Sets\n",
        "+ Time series data cannot be split randomly like other observational data because the order is important.  \n",
        "+ The data is split into train/test based on dates"
      ]
    },
    {
      "cell_type": "code",
      "metadata": {
        "id": "CjyPjV4zsnNg"
      },
      "source": [
        "def split_train_test(X,idx_close,train_pct=0.80):\n",
        "  \"\"\"\n",
        "  \"\"\"\n",
        "\n",
        "  # Train\n",
        "  train_num = math.ceil(X.shape[0]*train_pct)\n",
        "  train_X = X[0:train_num,:]\n",
        "  train_str = f'{round(train_X.shape[0]/X.shape[0],3)*100}%'\n",
        "\n",
        "  # Test\n",
        "  # test_X = X[train_num-n_steps:,:]  # if you use this, need to add n_steps as a param!\n",
        "  test_X = X[train_num:,:]\n",
        "  test_str =f'{round(test_X.shape[0]/X.shape[0],3)*100}%'\n",
        "\n",
        "  # print the results\n",
        "  print(\"\\nSplit Data (X)\")\n",
        "  print(\"=\"*60)\n",
        "  print(f'Data  :100.0% {X.shape}')\n",
        "  print(f'Train :{train_str:>6} {train_X.shape}')\n",
        "  print(f'Test  :{test_str:>6} {test_X.shape}')\n",
        "  print('\\n')\n",
        "\n",
        "  # create the line plots\n",
        "  plot_train_test_data(train_X,test_X,idx_close)\n",
        "\n",
        "  return train_X,test_X\n"
      ],
      "execution_count": 6,
      "outputs": []
    },
    {
      "cell_type": "code",
      "metadata": {
        "id": "9ZgO4Lz3tRYv"
      },
      "source": [
        "def plot_train_test_data(train_x,test_x,idx_close):\n",
        "  \"\"\"\n",
        "  \"\"\"\n",
        "\n",
        "  ts0 = list(range(0,train_x.shape[0]))\n",
        "  ts1 = list(range(train_x.shape[0],train_x.shape[0]+test_x.shape[0]))\n",
        "\n",
        "  fig = go.Figure()\n",
        "  fig.add_trace(go.Scatter(x=ts0,y=train_x[:,idx_close],name='Train'))\n",
        "  fig.add_trace(go.Scatter(x=ts1,y=test_x[:,idx_close],name='Test'))\n",
        "  fig.add_shape(type ='rect',\n",
        "                  x0=ts1[0],x1=ts1[-1],\n",
        "                  y0=0,y1=1,\n",
        "                  line=dict(color='#F6B28D'),\n",
        "                  fillcolor='#F6B28D',\n",
        "                  opacity=0.1)\n",
        "  fig.add_shape(type ='rect',\n",
        "                  x0=ts0[0],x1=ts0[-1],\n",
        "                  y0=0,y1=1,\n",
        "                  line=dict(color='#7BA1AA'),\n",
        "                  fillcolor='#7BA1AA',\n",
        "                  opacity=0.1)\n",
        "  fig.update_layout(title = 'Train/Test Datasets (Scaled)',\n",
        "                      template=\"plotly_white\",\n",
        "                      yaxis_title='Closing Price (Scaled)',\n",
        "                      xaxis_title='time steps',\n",
        "                      width = 600,\n",
        "                      height =600)\n",
        "  fig.update_shapes(dict(xref='x',yref='paper'))\n",
        "  fig.show()\n",
        "\n"
      ],
      "execution_count": 7,
      "outputs": []
    },
    {
      "cell_type": "markdown",
      "metadata": {
        "id": "pgdFdUFnVold"
      },
      "source": [
        "### Partition the Data"
      ]
    },
    {
      "cell_type": "code",
      "metadata": {
        "id": "Org74SkESW4u"
      },
      "source": [
        "def create_partitions(data,idx_close,n_steps,n_predict,visualize=False):\n",
        "  \"\"\"\n",
        "  This function partitions the train/test data into batches with times-step windows for training\n",
        "\n",
        "  Each batch consists of n_steps of training data, and n_predict steps of label data\n",
        "  The function outputs an x array [samples, time steps, features] and a y array [samples, time steps]\n",
        "\n",
        "  Inputs:\n",
        "    data      => train or test array\n",
        "    idx_close => the position of y value in the data\n",
        "    n_steps   => the number of time steps in each training batch\n",
        "    n_predict => the number of time steps that will be predicted\n",
        "    visualize => boolean, will plot a visual of training/prediction windows\n",
        "  Outputs:\n",
        "    array(i)  => np.array of batched & partitioned training data with features\n",
        "    array(p)  => np.array of batched & partitioned y-lables \n",
        "\n",
        "  Reference:\n",
        "    https://www.relataly.com/time-series-forecasting-multi-step-regression-using-neural-networks-with-multiple-outputs-in-python/5800/\n",
        "  \"\"\"\n",
        "  n = data.shape[0]\n",
        "  window = n_steps + n_predict\n",
        "  i, p = [],[]\n",
        "\n",
        "  # print the moving window\n",
        "  if visualize:\n",
        "    print(\"Data Window: I(Input), P(Predict),-(scanned), +(to be scanned)\")\n",
        "    print(\"=\"*max(n,100))\n",
        "\n",
        "  # create the partitions\n",
        "  for step in range(n_steps, n-n_predict):\n",
        "    # get the input window + all features\n",
        "\n",
        "    # train window\n",
        "    i.append(data[step-n_steps:step,:])\n",
        "\n",
        "    # get the prediction window + the closing price\n",
        "    p.append(data[step:step+n_predict,idx_close])\n",
        "\n",
        "    # print the moving window\n",
        "    if visualize and step <= 50:\n",
        "      scanned = n-((step-n_steps)+window)\n",
        "      print(\"-\"*(step-n_steps),'I'*n_steps,'P'*n_predict,\"+\"*scanned,sep=\"\")\n",
        "    \n",
        "  return np.array(i),np.array(p)"
      ],
      "execution_count": 8,
      "outputs": []
    },
    {
      "cell_type": "code",
      "metadata": {
        "id": "wjSwwN3h-vEG"
      },
      "source": [
        "def plot_training_window(x_array,y_array,idx_close,n_steps,n_predict,batch):\n",
        "  \"\"\"\n",
        "  Inputs: \n",
        "    x_array/y_array => partitioned data from create_partitions\n",
        "    idx_close       => the position of the y-label (close price)\n",
        "    n_steps         => the number of time steps in each training batch\n",
        "    n_predict       => the number of time steps predicted each training batch\n",
        "    batch           => the batch number to plot\n",
        "  Outputs:\n",
        "    A line chart with the train/predict values\n",
        "  \"\"\"\n",
        "  # convert the arrays to dataframes\n",
        "  # align the x indexes to compare\n",
        "  df_y = pd.DataFrame(y_array[batch],index=range(n_steps-1,n_predict+n_steps-1),columns=['y'])\n",
        "  df_x = pd.DataFrame(x_array[batch+1])[idx_close]\n",
        "  df_x = pd.DataFrame(df_x)\n",
        "  df_x.columns = ['x']\n",
        "\n",
        "  # create the plots\n",
        "  fig = go.Figure()\n",
        "  fig.add_trace(go.Scatter(x=df_x.index,y=df_x['x'],name='train window'))\n",
        "  fig.add_trace(go.Scatter(x=df_y.index,y=df_y['y'],name='predict window'))\n",
        "  fig.update_layout(template='plotly_white',\n",
        "                    title='Train/Predict Windows',\n",
        "                    yaxis_title = 'Closing Price (Scaled)',\n",
        "                    xaxis_title='Period',\n",
        "                    width = 600,\n",
        "                    height = 600)\n",
        "  fig.show()\n"
      ],
      "execution_count": 9,
      "outputs": []
    },
    {
      "cell_type": "markdown",
      "metadata": {
        "id": "LGNorbPjJ6Ku"
      },
      "source": [
        "### Data Transformations\n",
        "\n",
        "#### Check for stationarity\n",
        "+ Augmented Dickey-Fuller (ADF) test for stationarity\n",
        "+ null: the data is non-stationary\n",
        "+ alternative: the data is stationary\n",
        "+ => if the test stat is less than all critical values,  we cannot reject the null, therefore the data is non-stationary\n",
        "\n",
        "**Reference**\n",
        "\n",
        " https://analyzingalpha.com/check-time-series-stationarity-python#augmented-dickey-fuller-adf"
      ]
    },
    {
      "cell_type": "code",
      "metadata": {
        "id": "FmF3WIaraUg9"
      },
      "source": [
        "def transform_stationary(df,features_to_transform,transform='log'):\n",
        "  \"\"\"\n",
        "  transform: log, boxcox\n",
        "  \"\"\"\n",
        "  # transform each column in the features_to_transform list\n",
        "  for feature in df.columns:\n",
        "    if feature in features_to_transform:\n",
        "      # log transform\n",
        "      if transform=='log':\n",
        "        df[feature] = df[feature].apply(np.log)\n",
        "\n",
        "      # boxcox transform  \n",
        "      elif transform=='boxcox':\n",
        "        bc,_ = stats.boxcox(df[feature])\n",
        "        df[feature] = bc\n",
        "\n",
        "      else:\n",
        "        print(\"Transformation not recognized\")\n",
        "\n",
        "  # check the closing price for stationarity using the augmented dicky fuller test\n",
        "  t_stat, p_value, _, _, critical_values, _  = adfuller(df.close.values, autolag='AIC')\n",
        "  print('Augmented Dicky Fuller Test for Stationarity')\n",
        "  print(\"=\"*60)\n",
        "  print(f'ADF Statistic: {t_stat:.2f}')\n",
        "  for key, value in critical_values.items():\n",
        "    print('Critial Values:')\n",
        "    if t_stat < value:\n",
        "      print(f'   {key}, {value:.2f} => non-stationary')\n",
        "    else:\n",
        "      print(f'   {key}, {value:.2f} => stationary')"
      ],
      "execution_count": 10,
      "outputs": []
    },
    {
      "cell_type": "markdown",
      "metadata": {
        "id": "gKMEqyw7cdho"
      },
      "source": [
        "### Process the Data"
      ]
    },
    {
      "cell_type": "code",
      "metadata": {
        "colab": {
          "base_uri": "https://localhost:8080/",
          "height": 1000
        },
        "id": "GSWNcMJGkPke",
        "outputId": "9972470b-fb4e-4225-a134-78c5bc7297a1"
      },
      "source": [
        "# Training Config\n",
        "\n",
        "# uncomment the desired data\n",
        "# df = df_btc.copy()\n",
        "df = df_btc_features.copy()\n",
        "# df = df_vmw.copy()\n",
        "# df = df_vmw_features.copy()\n",
        "# df = df_blx.copy()\n",
        "# df = df_blx_features.copy()\n",
        "\n",
        "\n",
        "# Extract the features needed for training\n",
        "features = [c for c in df.columns if c not in ['symbol']]\n",
        "n_steps  = 40   # The number of time steps included in each training batch\n",
        "n_predict = 5   # The number of time steps into the future the model will predict\n",
        "idx_close = df.columns.get_loc(\"close\") # index postiion variable (closing price)\n",
        "transform = 'log'\n",
        "\n",
        "# difference the price data\n",
        "features_to_transform = ['open','high','low','close']  # blx_features\n",
        "transform_stationary(df,features_to_transform,transform)\n",
        "\n",
        "\n",
        "# Scale the data and convert to numpy arrays\n",
        "array_y,array_X = prepare_data(df,'close',features)\n",
        "\n",
        "\n",
        "# scale the input and outputs\n",
        "scaler_X = MinMaxScaler(feature_range=(0,1))\n",
        "scaler_y = MinMaxScaler(feature_range=(0,1))\n",
        "scaled_X = scaler_X.fit_transform(array_X)\n",
        "scaled_y = scaler_y.fit_transform(array_y)\n",
        "\n",
        "\n",
        "# split into train, test\n",
        "train_pct = 0.80\n",
        "train_x,test_x=split_train_test(scaled_X,idx_close,train_pct)\n",
        "\n",
        "\n",
        "# Partition the train/test data into time series windows for training\n",
        "# LSTM input format: [samples, time steps, features]\n",
        "x_train, y_train = create_partitions(train_x,idx_close,n_steps, n_predict)\n",
        "x_test,  y_test  = create_partitions(test_x, idx_close,n_steps, n_predict)\n",
        "\n",
        "\n",
        "# Print the results\n",
        "print('Train/Test Dimensions')\n",
        "print('='*60)\n",
        "print(\"Train Data Dimensions: \",\"x\",x_train.shape,\"y\",y_train.shape)\n",
        "print(\"Test Data Dimensions : \",\"x\",x_test.shape,\" y\",y_test.shape)\n",
        "\n",
        "print(\"\\n\\nCheck the dimensions of the training windows\")\n",
        "print(\"=\"*60)\n",
        "print('The last value in the training batch should match the first value in the predict batch')\n",
        "print(\"Last Training Value:   \",x_train[1][n_steps-1][idx_close])\n",
        "print(\"First Prediction Value:\",y_train[0][0])\n",
        "\n",
        "# Make sure the train/predict batch windows are aligned\n",
        "plot_training_window(x_train,y_train,idx_close,n_steps,n_predict,seed//10)\n",
        "\n",
        "# save to google drive\n",
        "np.save('/content/drive/MyDrive/Colab Notebooks/data/x_train',x_train)\n",
        "np.save('/content/drive/MyDrive/Colab Notebooks/data/y_train',y_train)\n",
        "np.save('/content/drive/MyDrive/Colab Notebooks/data/x_test',x_test)\n",
        "np.save('/content/drive/MyDrive/Colab Notebooks/data/y_test',y_test)\n"
      ],
      "execution_count": 52,
      "outputs": [
        {
          "output_type": "stream",
          "name": "stdout",
          "text": [
            "Augmented Dicky Fuller Test for Stationarity\n",
            "============================================================\n",
            "ADF Statistic: -0.70\n",
            "Critial Values:\n",
            "   1%, -3.44 => stationary\n",
            "Critial Values:\n",
            "   5%, -2.86 => stationary\n",
            "Critial Values:\n",
            "   10%, -2.57 => stationary\n",
            "\n",
            "Data Preparation\n",
            "============================================================\n",
            "=> 10 Features\n",
            "=> Input Dimensions :(940, 10)\n",
            "=> Output Dimensions:(940, 1)\n",
            "\n",
            "\n",
            "\n",
            "Split Data (X)\n",
            "============================================================\n",
            "Data  :100.0% (940, 10)\n",
            "Train : 80.0% (752, 10)\n",
            "Test  : 20.0% (188, 10)\n",
            "\n",
            "\n"
          ]
        },
        {
          "output_type": "display_data",
          "data": {
            "text/html": [
              "<html>\n",
              "<head><meta charset=\"utf-8\" /></head>\n",
              "<body>\n",
              "    <div>\n",
              "            <script src=\"https://cdnjs.cloudflare.com/ajax/libs/mathjax/2.7.5/MathJax.js?config=TeX-AMS-MML_SVG\"></script><script type=\"text/javascript\">if (window.MathJax) {MathJax.Hub.Config({SVG: {font: \"STIX-Web\"}});}</script>\n",
              "                <script type=\"text/javascript\">window.PlotlyConfig = {MathJaxConfig: 'local'};</script>\n",
              "        <script src=\"https://cdn.plot.ly/plotly-latest.min.js\"></script>    \n",
              "            <div id=\"b670ea1a-7351-46e1-95e0-37fd300b7ffd\" class=\"plotly-graph-div\" style=\"height:600px; width:600px;\"></div>\n",
              "            <script type=\"text/javascript\">\n",
              "                \n",
              "                    window.PLOTLYENV=window.PLOTLYENV || {};\n",
              "                    \n",
              "                if (document.getElementById(\"b670ea1a-7351-46e1-95e0-37fd300b7ffd\")) {\n",
              "                    Plotly.newPlot(\n",
              "                        'b670ea1a-7351-46e1-95e0-37fd300b7ffd',\n",
              "                        [{\"name\": \"Train\", \"type\": \"scatter\", \"x\": [0, 1, 2, 3, 4, 5, 6, 7, 8, 9, 10, 11, 12, 13, 14, 15, 16, 17, 18, 19, 20, 21, 22, 23, 24, 25, 26, 27, 28, 29, 30, 31, 32, 33, 34, 35, 36, 37, 38, 39, 40, 41, 42, 43, 44, 45, 46, 47, 48, 49, 50, 51, 52, 53, 54, 55, 56, 57, 58, 59, 60, 61, 62, 63, 64, 65, 66, 67, 68, 69, 70, 71, 72, 73, 74, 75, 76, 77, 78, 79, 80, 81, 82, 83, 84, 85, 86, 87, 88, 89, 90, 91, 92, 93, 94, 95, 96, 97, 98, 99, 100, 101, 102, 103, 104, 105, 106, 107, 108, 109, 110, 111, 112, 113, 114, 115, 116, 117, 118, 119, 120, 121, 122, 123, 124, 125, 126, 127, 128, 129, 130, 131, 132, 133, 134, 135, 136, 137, 138, 139, 140, 141, 142, 143, 144, 145, 146, 147, 148, 149, 150, 151, 152, 153, 154, 155, 156, 157, 158, 159, 160, 161, 162, 163, 164, 165, 166, 167, 168, 169, 170, 171, 172, 173, 174, 175, 176, 177, 178, 179, 180, 181, 182, 183, 184, 185, 186, 187, 188, 189, 190, 191, 192, 193, 194, 195, 196, 197, 198, 199, 200, 201, 202, 203, 204, 205, 206, 207, 208, 209, 210, 211, 212, 213, 214, 215, 216, 217, 218, 219, 220, 221, 222, 223, 224, 225, 226, 227, 228, 229, 230, 231, 232, 233, 234, 235, 236, 237, 238, 239, 240, 241, 242, 243, 244, 245, 246, 247, 248, 249, 250, 251, 252, 253, 254, 255, 256, 257, 258, 259, 260, 261, 262, 263, 264, 265, 266, 267, 268, 269, 270, 271, 272, 273, 274, 275, 276, 277, 278, 279, 280, 281, 282, 283, 284, 285, 286, 287, 288, 289, 290, 291, 292, 293, 294, 295, 296, 297, 298, 299, 300, 301, 302, 303, 304, 305, 306, 307, 308, 309, 310, 311, 312, 313, 314, 315, 316, 317, 318, 319, 320, 321, 322, 323, 324, 325, 326, 327, 328, 329, 330, 331, 332, 333, 334, 335, 336, 337, 338, 339, 340, 341, 342, 343, 344, 345, 346, 347, 348, 349, 350, 351, 352, 353, 354, 355, 356, 357, 358, 359, 360, 361, 362, 363, 364, 365, 366, 367, 368, 369, 370, 371, 372, 373, 374, 375, 376, 377, 378, 379, 380, 381, 382, 383, 384, 385, 386, 387, 388, 389, 390, 391, 392, 393, 394, 395, 396, 397, 398, 399, 400, 401, 402, 403, 404, 405, 406, 407, 408, 409, 410, 411, 412, 413, 414, 415, 416, 417, 418, 419, 420, 421, 422, 423, 424, 425, 426, 427, 428, 429, 430, 431, 432, 433, 434, 435, 436, 437, 438, 439, 440, 441, 442, 443, 444, 445, 446, 447, 448, 449, 450, 451, 452, 453, 454, 455, 456, 457, 458, 459, 460, 461, 462, 463, 464, 465, 466, 467, 468, 469, 470, 471, 472, 473, 474, 475, 476, 477, 478, 479, 480, 481, 482, 483, 484, 485, 486, 487, 488, 489, 490, 491, 492, 493, 494, 495, 496, 497, 498, 499, 500, 501, 502, 503, 504, 505, 506, 507, 508, 509, 510, 511, 512, 513, 514, 515, 516, 517, 518, 519, 520, 521, 522, 523, 524, 525, 526, 527, 528, 529, 530, 531, 532, 533, 534, 535, 536, 537, 538, 539, 540, 541, 542, 543, 544, 545, 546, 547, 548, 549, 550, 551, 552, 553, 554, 555, 556, 557, 558, 559, 560, 561, 562, 563, 564, 565, 566, 567, 568, 569, 570, 571, 572, 573, 574, 575, 576, 577, 578, 579, 580, 581, 582, 583, 584, 585, 586, 587, 588, 589, 590, 591, 592, 593, 594, 595, 596, 597, 598, 599, 600, 601, 602, 603, 604, 605, 606, 607, 608, 609, 610, 611, 612, 613, 614, 615, 616, 617, 618, 619, 620, 621, 622, 623, 624, 625, 626, 627, 628, 629, 630, 631, 632, 633, 634, 635, 636, 637, 638, 639, 640, 641, 642, 643, 644, 645, 646, 647, 648, 649, 650, 651, 652, 653, 654, 655, 656, 657, 658, 659, 660, 661, 662, 663, 664, 665, 666, 667, 668, 669, 670, 671, 672, 673, 674, 675, 676, 677, 678, 679, 680, 681, 682, 683, 684, 685, 686, 687, 688, 689, 690, 691, 692, 693, 694, 695, 696, 697, 698, 699, 700, 701, 702, 703, 704, 705, 706, 707, 708, 709, 710, 711, 712, 713, 714, 715, 716, 717, 718, 719, 720, 721, 722, 723, 724, 725, 726, 727, 728, 729, 730, 731, 732, 733, 734, 735, 736, 737, 738, 739, 740, 741, 742, 743, 744, 745, 746, 747, 748, 749, 750, 751], \"y\": [0.002668394292381304, 0.010515725567655121, 0.008792162930959524, 0.00960842544793028, 0.009204224175002107, 0.010062828274682634, 0.009779932318226159, 0.00865531849977419, 0.0, 0.013247417839049369, 0.013622388230656313, 0.014696732074711338, 0.013900393065141792, 0.02094985220620771, 0.01860039406952607, 0.014512141793868505, 0.015522111782162007, 0.014001514147853111, 0.01501294761325056, 0.019223783761237456, 0.026526464452824694, 0.02433612712036215, 0.024925612524838936, 0.027364950172777736, 0.029769216189142966, 0.02429189802516296, 0.02484789582251201, 0.02652910156788746, 0.025311292736111657, 0.02033130263586358, 0.02144159202712448, 0.029334326731000004, 0.028440202769894896, 0.03497474545287371, 0.03529385250215311, 0.035034814569790296, 0.03850225665760698, 0.09438162284794194, 0.09979953084086901, 0.09736815215795946, 0.10492714225069077, 0.10765631114515051, 0.11637088352439351, 0.12087999862747534, 0.11498759915127765, 0.1256453624821714, 0.10579991620258333, 0.10794383410119845, 0.10774915368430715, 0.11370661936445536, 0.10633151434549859, 0.11660578148285827, 0.11858088465307537, 0.1223254318069178, 0.1223415035372093, 0.12454773853932544, 0.12217137384917187, 0.12887381617475846, 0.13771284829071595, 0.13265675083338824, 0.11973501645300244, 0.12603323010283596, 0.1248111612943461, 0.1255969319118524, 0.12096336947573594, 0.12647759217361143, 0.13058267213300567, 0.13768464146666304, 0.15518163887001712, 0.15862716837308044, 0.15536032770582464, 0.1536594179991546, 0.1596459753265953, 0.16803508469672135, 0.18084952738686288, 0.19003806645131016, 0.22687841153848343, 0.22141645296872303, 0.26075173234510407, 0.2677709730212645, 0.27748588730242707, 0.26416493498216553, 0.24049781060131492, 0.235783619295999, 0.27656271447574365, 0.2673537855405801, 0.26587435626293, 0.2533391572459398, 0.26348924162329723, 0.2685371144656781, 0.2712035841241498, 0.2961443974513571, 0.3018973540955585, 0.30025756374905965, 0.29741952949676476, 0.28175592565569163, 0.2937065876973799, 0.29325639758321476, 0.3006750882758227, 0.27514845332746063, 0.2560339037246746, 0.26010884979522153, 0.26057043253276113, 0.2692287936439053, 0.26537283974747305, 0.253325308423197, 0.26932673792187245, 0.264983616754745, 0.2756609454956953, 0.2795774651125087, 0.29759544103954605, 0.3039975816689604, 0.30973245207885736, 0.32363813690436727, 0.3147396880229629, 0.3214205343587766, 0.3312366400800859, 0.35424997930166047, 0.3734601511999194, 0.37920801463220677, 0.3840348700922327, 0.40757175923151046, 0.4435864353211669, 0.39263649647757193, 0.4244328656349752, 0.4100140857725654, 0.37752596238423486, 0.37001132889216803, 0.3771607864943003, 0.41110316240602396, 0.3868606190606405, 0.3812896343431058, 0.3903446340662837, 0.39499844944478335, 0.4198013537373675, 0.4284642438967414, 0.41603415540687605, 0.39303720750185667, 0.40567080784005016, 0.39343653276656365, 0.35474596327034247, 0.3770266312813422, 0.32835620917296904, 0.33677263649298794, 0.3700852300838049, 0.3659900813731989, 0.37381213396477575, 0.3688334465930847, 0.36044951070162456, 0.3438756388291675, 0.3402289913976966, 0.34440925330263994, 0.3424122603838913, 0.3297311887632559, 0.3321390456306603, 0.3308856964131617, 0.33334271286449724, 0.3514895983310149, 0.36162857228838163, 0.36664184840455105, 0.37631569822467936, 0.3799550269753418, 0.40780821169352954, 0.3973201303195326, 0.41213477762631934, 0.4128615410792489, 0.4093288454866477, 0.39199316339670753, 0.3994080691307498, 0.39468464223043664, 0.3787763737740879, 0.35043444228019416, 0.3588664731345621, 0.36015071902342166, 0.35619113355428134, 0.3593057812423486, 0.3795136555109666, 0.3744764318885818, 0.3536501947169439, 0.3521649023589495, 0.36212241352868446, 0.35336468685174527, 0.35365436100113445, 0.36153556040087986, 0.3551219880451204, 0.33870072339143764, 0.33054478343751637, 0.33372244855403066, 0.3338300822367395, 0.33884486901675714, 0.3604389534013914, 0.36969135336733494, 0.36808676670634854, 0.36800244522749637, 0.3590306367920162, 0.3643634495023016, 0.3618386072858857, 0.35918071116209926, 0.3521045790280173, 0.3541969452707314, 0.3629842965075154, 0.36050910242833867, 0.3602693120841902, 0.3591427712916637, 0.3574054702526337, 0.35521774620256963, 0.35415049060338344, 0.3571642439192777, 0.3545524325322047, 0.3481855614697169, 0.3496803238092352, 0.3380208504920166, 0.2911510455871502, 0.28852544577816897, 0.2728810037269578, 0.27783226149172746, 0.278731071337714, 0.27201046075006774, 0.2825980624862323, 0.28272973004189517, 0.2855845456454156, 0.2798096209855503, 0.2760718742754511, 0.27559811644275545, 0.2636121099188271, 0.2783563443743722, 0.2774220897324784, 0.29394277929902035, 0.2938312869769635, 0.2812854945764549, 0.2830544410989795, 0.2819887779954109, 0.28508967888260317, 0.27702956666853673, 0.26972308983507665, 0.27318001559321825, 0.2677466026508939, 0.2677909111608021, 0.2797835003836502, 0.27866492147966637, 0.2709661218154822, 0.24578935353872788, 0.24322336369774122, 0.2977997464401363, 0.320449382005632, 0.33171030333658313, 0.3194996454146626, 0.3271615494931974, 0.3175655281973708, 0.31703160495966687, 0.3205108012583264, 0.3227128945973363, 0.3191004198944194, 0.3266269949521998, 0.3234376973987021, 0.32458546457593984, 0.3199224913730707, 0.30259681586502696, 0.3040259639473053, 0.3131042198565739, 0.30096915791790524, 0.3045264751476937, 0.30273285058664845, 0.29746025757847283, 0.2902622240184227, 0.2910631352361972, 0.2915347742892944, 0.2782307732348497, 0.27592080868562396, 0.27437483508517024, 0.2533073041393612, 0.23630629292802752, 0.23839985982522194, 0.21816528149867187, 0.2285341484665837, 0.23083327361848127, 0.2477599263581718, 0.24355955364659065, 0.25843757442352233, 0.2493214796507699, 0.24219952331420513, 0.2375661468067798, 0.23749034454016238, 0.23270705685551896, 0.2421094618864017, 0.24864754341485318, 0.2468061164281936, 0.2478344879259078, 0.2397012068488431, 0.23416316034358076, 0.23347371489126845, 0.2328910505150268, 0.23583359288990247, 0.22627226000745937, 0.22898063264978719, 0.21757510154489612, 0.20361320479944434, 0.2367711015170073, 0.2305457791344736, 0.23238924570139874, 0.22968040361370878, 0.24742772456060447, 0.23866561563975175, 0.235702093747729, 0.23321134195858217, 0.2330827713872088, 0.23565210148757032, 0.23861989296480823, 0.24207324021478716, 0.23522760945555143, 0.23275159605462958, 0.2330265375619942, 0.22133557635724044, 0.24000433954547695, 0.24044274860005865, 0.24066485911326962, 0.2592701184431503, 0.276424397051791, 0.27254239921981593, 0.2619722823965316, 0.2786541816938888, 0.2709665608954146, 0.2781365654861303, 0.27491059791188555, 0.3040499471879734, 0.3045053186856421, 0.3004340827767953, 0.30815371680192793, 0.30825958126260167, 0.2996938881177371, 0.2972838710143195, 0.3010804288704225, 0.29891036167139173, 0.28745738161589296, 0.2888991092749862, 0.28476810658027363, 0.2961676972500604, 0.3079280561016575, 0.32590873360768846, 0.3231678694280147, 0.33109193670283865, 0.3251069353992144, 0.32629919319484824, 0.3243010431900042, 0.3228159878598853, 0.3191888779976306, 0.3347313699936878, 0.3405433642942137, 0.3420439385861451, 0.3449498897800778, 0.3539687731925989, 0.3434084193711655, 0.3564344050206545, 0.35997752868092636, 0.3566599528632972, 0.360587407649938, 0.34529385504377474, 0.34573976252033933, 0.33815693012161807, 0.35441804094421636, 0.33406213576974597, 0.33415865731076577, 0.33710502880654536, 0.33615069767200056, 0.3464183760728168, 0.33634293790203484, 0.32370920879708365, 0.30305887917022556, 0.30457716564946535, 0.2993379926649249, 0.292412131060408, 0.29275363016209655, 0.3082311431906586, 0.30204813102383543, 0.3016781098040573, 0.31369624391148054, 0.3166858748022139, 0.30710045081529724, 0.2715500531569015, 0.26698628679573666, 0.2654147715959825, 0.26719271917147536, 0.09020354173622502, 0.143138256013839, 0.11649277767556576, 0.12914716045732755, 0.10661311838101817, 0.12593646895164534, 0.13122576869398905, 0.17818472614511283, 0.18080301951058297, 0.17958823873374152, 0.1578252529353863, 0.19519278251762673, 0.20998266142387, 0.20645180301743782, 0.20959818547204323, 0.18925149829232746, 0.1824040023200859, 0.16175263330857792, 0.19119921479504765, 0.19208253977841316, 0.20462715744442495, 0.2125508847242683, 0.20942775346210807, 0.21579603587777285, 0.21144463706071104, 0.23928157077249024, 0.2328538680585015, 0.24078590779201736, 0.23704727508851375, 0.21589513753299716, 0.21681345253101236, 0.21819129608190968, 0.21481481222365062, 0.216396892756741, 0.20347601746918187, 0.2281560259167943, 0.22444802094145144, 0.23535394202838766, 0.22908697276617573, 0.2142437456951467, 0.21499295207763058, 0.22930449899548133, 0.24653231732389402, 0.24759480305502723, 0.24917110084466465, 0.25631186028608477, 0.2600237076865577, 0.2584057241693345, 0.30279102048741224, 0.2963720154020728, 0.304726799759397, 0.3104679574597897, 0.3073975200837542, 0.3065174670742765, 0.31241636321390365, 0.31711134066145075, 0.348185914091784, 0.3415512846110662, 0.332060057427888, 0.30054552290565395, 0.29397486279895313, 0.3040811229590812, 0.32346455534779306, 0.3412626255183451, 0.3237311323370764, 0.3261738427846037, 0.33721381639398373, 0.33916880021660445, 0.34067054787404816, 0.33102604180647965, 0.3142391275047469, 0.31815279348435066, 0.3185039925907791, 0.30044740899642974, 0.3076425126213822, 0.305293635311338, 0.31945871022099626, 0.3334044983494513, 0.3278888426589597, 0.3378563961385552, 0.32867986633658175, 0.3556650791199969, 0.33127067929376874, 0.33671143920200874, 0.34115759988161143, 0.3350653277589828, 0.3367136250026852, 0.33964095239986536, 0.34090389852553526, 0.3405588593687514, 0.34459205138513704, 0.3223670085339352, 0.32930768800524657, 0.32961300186326037, 0.324700450441493, 0.3278496183788282, 0.3315498986121339, 0.3293080600467704, 0.3263633523364158, 0.3234970847683831, 0.3253350244128872, 0.3229088217707594, 0.33741929320207165, 0.33520182235284723, 0.32297701068477025, 0.32119217917820153, 0.3178535181784552, 0.31203246701451626, 0.31608649923216614, 0.31901806878928607, 0.31694298855518577, 0.3205256776023151, 0.3149331250046714, 0.31383544489600546, 0.3168238992261361, 0.3142686376251502, 0.3247795992174254, 0.3214928159724493, 0.32822449848516255, 0.3205420789967617, 0.32266816092573025, 0.32060310073255627, 0.32321405381539803, 0.3209305305199539, 0.32143423096172974, 0.3192110847677232, 0.3167568214867358, 0.31755014159817563, 0.3181635457576024, 0.3196468962455672, 0.3177985529652516, 0.32650138617616786, 0.33127511894863826, 0.33440992959999294, 0.33200098925000976, 0.3379544245354995, 0.34624609734294465, 0.3831857058124375, 0.3792144723038753, 0.385431545657414, 0.3854023592703655, 0.3928064660617423, 0.40698470689203603, 0.3845046491579329, 0.38919528190851693, 0.38832041633570347, 0.40530191596356335, 0.4058277169318507, 0.4007549152787502, 0.4057962808253248, 0.40340099796515405, 0.40971190340532093, 0.39456101932144216, 0.39984561337298974, 0.40635243503907725, 0.4057702316395231, 0.408510081668354, 0.41024683500166104, 0.42102295186316097, 0.41125088962696177, 0.40559202748933165, 0.4085442472406431, 0.3988396080735961, 0.4028362339988538, 0.4023881836171719, 0.405400544732355, 0.392276710774647, 0.39669820920668997, 0.39264861768360726, 0.39870429940798235, 0.3968336765059286, 0.40428854827883454, 0.40242990083910746, 0.4105710079082945, 0.3944515768355976, 0.3535904725595711, 0.36403897244366856, 0.3544866286269066, 0.3575734063894389, 0.36157595909259355, 0.3530970301680756, 0.35630072988873707, 0.36033234098993594, 0.3620661451663709, 0.3638592526794695, 0.36019468490285433, 0.37156033630691354, 0.37528708876027306, 0.38075254055615115, 0.38030154612179334, 0.38008903763739044, 0.3848003266422202, 0.3796665377610724, 0.3630590109803702, 0.36683787925933675, 0.35706695065089233, 0.37368391257852807, 0.37205165697409415, 0.37343061194967886, 0.37492579247617375, 0.372362911510006, 0.3770838077909513, 0.37500226402382575, 0.36981904685790434, 0.36819938603917457, 0.36725399933504255, 0.371390688012188, 0.3755123029763747, 0.3691728070870055, 0.37138276469349885, 0.3798370811765275, 0.38384531700168134, 0.3914918061620827, 0.39384748572284733, 0.3987452334736048, 0.3954402703532889, 0.39535793376631956, 0.3980379939582641, 0.3923047107510378, 0.39357419033801655, 0.3979773860022129, 0.4054985465690235, 0.4102169736274206, 0.43507083375094346, 0.4402009554184394, 0.4389646555144422, 0.44406831169417327, 0.441834794384806, 0.4424656015322541, 0.45787883075258673, 0.44819798105611586, 0.4531872339413119, 0.45590888880612823, 0.4618546529297025, 0.4611005868696063, 0.4556301310623745, 0.46774262317781856, 0.4707550528085833, 0.5050324997679265, 0.5048042903066237, 0.4871549161956219, 0.5024271095034654, 0.4990731963841104, 0.4983557027076073, 0.5071543053840406, 0.5205389569842644, 0.5211617714645533, 0.5157204475063772, 0.5132256679418923, 0.5295380835987, 0.5489221532203188, 0.5512423825811581, 0.5517709088298619, 0.5682487925493653, 0.5691561190978565, 0.5636654753337704, 0.5627764651819733, 0.5776422500384748, 0.5694442473753352, 0.5386044473155898, 0.5384000775611448, 0.5501259141351511, 0.5592502909666961, 0.587355629358612, 0.5703057191236698, 0.5784514670158996, 0.5824229345595016, 0.5681515683093203, 0.5774151958811311, 0.5812879074008501, 0.5777688587656677, 0.5619340206335068, 0.566082932845613, 0.5605962556818369, 0.5563636455505998, 0.5711253994491194, 0.5779174602797008, 0.5797153549647742, 0.5825050593118393, 0.615514451050478, 0.6388483443241704, 0.6436080806351252, 0.654327529692444, 0.6488737992921023, 0.6376499557090503, 0.6541675469906165, 0.6455134776185911, 0.6529588247963045, 0.6672563727002587, 0.6917610039896829, 0.6889354455288226, 0.6994653120273933, 0.7034169678848383, 0.7220803180468276, 0.7226662962995389, 0.7275996671030103, 0.7602167595072169, 0.7690963212126376, 0.7581355220975636, 0.7790851669555274, 0.8071825606950633, 0.8318043100006465, 0.8419318555625943, 0.8376138679320086, 0.8201630170895515, 0.7938621411682165, 0.7801385792211972, 0.8129014510648656, 0.8292249227714676, 0.8069225433443865, 0.7996870685536654, 0.7980556818905429, 0.8058575750363577, 0.7986731577467308, 0.7944957448183283, 0.7453731574961489, 0.7685102112485294, 0.7591170867375361, 0.761108288179007, 0.7610460626730053, 0.763370074421903, 0.7398049199750782, 0.7729678351077394, 0.7822107069456234, 0.7823204894945941, 0.7700865801805814, 0.7746683455469578, 0.7944759867732709, 0.8152258071101337, 0.8087811685745319, 0.821454939754684, 0.8296065044643401, 0.8260729780691598, 0.8889122687966111, 0.8892579778126013, 0.8768054761574016, 0.9008174553428061, 0.8957756589891654, 0.8947770404747883, 0.9052547408550247, 0.900388408515624, 0.9092598791318265, 0.9300373759070979, 0.9261847478339389, 0.9547325962673963, 0.9543241323650915, 0.9640720750070839, 0.943088848187331, 0.907517924327228, 0.9131284723145083, 0.8941793947560632, 0.8881673295060839, 0.8868679776537691, 0.8793744600280218, 0.9124958001845185, 0.9042592016434905, 0.9178683648837929, 0.903775006843146, 0.9065132423036135, 0.9074545357407979, 0.922194592167978, 0.9317591532341729, 0.9482388340993166, 0.954389710107749, 0.9663013868798118, 0.9629240738684328, 0.9865260325607608, 0.9735118084044565, 0.952832793049196, 0.9609432646532996]}, {\"name\": \"Test\", \"type\": \"scatter\", \"x\": [752, 753, 754, 755, 756, 757, 758, 759, 760, 761, 762, 763, 764, 765, 766, 767, 768, 769, 770, 771, 772, 773, 774, 775, 776, 777, 778, 779, 780, 781, 782, 783, 784, 785, 786, 787, 788, 789, 790, 791, 792, 793, 794, 795, 796, 797, 798, 799, 800, 801, 802, 803, 804, 805, 806, 807, 808, 809, 810, 811, 812, 813, 814, 815, 816, 817, 818, 819, 820, 821, 822, 823, 824, 825, 826, 827, 828, 829, 830, 831, 832, 833, 834, 835, 836, 837, 838, 839, 840, 841, 842, 843, 844, 845, 846, 847, 848, 849, 850, 851, 852, 853, 854, 855, 856, 857, 858, 859, 860, 861, 862, 863, 864, 865, 866, 867, 868, 869, 870, 871, 872, 873, 874, 875, 876, 877, 878, 879, 880, 881, 882, 883, 884, 885, 886, 887, 888, 889, 890, 891, 892, 893, 894, 895, 896, 897, 898, 899, 900, 901, 902, 903, 904, 905, 906, 907, 908, 909, 910, 911, 912, 913, 914, 915, 916, 917, 918, 919, 920, 921, 922, 923, 924, 925, 926, 927, 928, 929, 930, 931, 932, 933, 934, 935, 936, 937, 938, 939], \"y\": [0.9731811781686228, 0.9655386541741349, 0.9678634840922489, 0.9683017657987611, 0.9637222037476807, 0.9430600702296719, 0.9447336111847089, 0.9312779628078571, 0.9244123632543375, 0.9491429146608152, 0.9541724370450924, 0.9539230858640906, 0.9654611290975263, 0.9721851429645878, 0.9721490556590338, 0.9720284780574451, 0.9734025089401954, 0.9618776950625225, 0.9689056844107267, 0.974475995131852, 0.9676275917556163, 0.9550313489311875, 0.9681516701005104, 0.9685456863549788, 0.9782619005877216, 0.9796337606245049, 0.9787968736204182, 1.0, 0.9965742987927779, 0.9976936654713398, 0.9873676231585868, 0.9796585847780066, 0.9562662290384889, 0.953009689913543, 0.9579866074881465, 0.9411299742712327, 0.9271285828057376, 0.9232527076872676, 0.9157531309135698, 0.9087816550739305, 0.9425266664778436, 0.9490557411812772, 0.9479931415757981, 0.9396036655281121, 0.96582020335731, 0.9664671998102188, 0.9589414787469135, 0.9626018878321463, 0.9372617152112355, 0.9642409639764211, 0.9577910884853376, 0.9634961153799169, 0.9728766808599056, 0.9691405410290765, 0.954166128132103, 0.9595124403231159, 0.9128101852678268, 0.9130913961831588, 0.9142979447188262, 0.8918471498503884, 0.8893420199515423, 0.8666841018555873, 0.8610728801603078, 0.8064225677207957, 0.8414441235519923, 0.8117748534872842, 0.8136389531216359, 0.7863302203734808, 0.8260784241318864, 0.8217718979098447, 0.8301001306435136, 0.8236528734522977, 0.7964290449862301, 0.7858207710037024, 0.796209575690848, 0.8117918684314942, 0.8064513597948362, 0.8147556753949061, 0.8301439192283362, 0.8077532737616795, 0.7949419415906132, 0.7977380774067351, 0.7749457372349453, 0.7731361357688158, 0.8130584937993253, 0.8062846210320975, 0.8125299976551132, 0.7952681199548013, 0.82810828499658, 0.8413541792944303, 0.838103860056358, 0.8219950131114437, 0.8196360250763273, 0.7979694751908402, 0.7946495019653175, 0.7958031668752952, 0.7539297621998284, 0.7638230333168146, 0.7762581238845634, 0.7864098759405542, 0.7536569347438515, 0.7613674428303678, 0.7867880954972137, 0.784696972935857, 0.7988716825719142, 0.7902684817638193, 0.7744405572388309, 0.7773905821227021, 0.7864712309541133, 0.7926869205891607, 0.7763843067803116, 0.7818796102195065, 0.7781773354048678, 0.7677669876701705, 0.7776954142343695, 0.7744214280829005, 0.7822805071168175, 0.7700190033613366, 0.7662002973358613, 0.7671699683271194, 0.7569367683061858, 0.7514134908510348, 0.7529384147152904, 0.7558144888297216, 0.7452535120183175, 0.7330635123676759, 0.7598464569977872, 0.7614130343181591, 0.7757979626993534, 0.7822717700031538, 0.7936288239212494, 0.8116386097623356, 0.8320327624098689, 0.8370102287358447, 0.836983125986587, 0.8557451945034003, 0.8494777961940589, 0.8354747596618779, 0.8292547880895493, 0.8206890372874329, 0.8343926005255184, 0.8443500926982725, 0.8609667689410778, 0.8749534374069761, 0.8687512588572859, 0.8879886900068659, 0.8828627376098819, 0.882290703289498, 0.8735797204498694, 0.8995708851585245, 0.8941403435726842, 0.8934312082708811, 0.8852977051532522, 0.8759270824642131, 0.8760006610706959, 0.8918293024360144, 0.9106119974010212, 0.9070196562281194, 0.9100171241690922, 0.9117978837027949, 0.8986414921793351, 0.9081103437716247, 0.8924556795744465, 0.9088041177370307, 0.9075492542442407, 0.906629660702071, 0.8934993454601012, 0.8943825107509089, 0.9069377814443911, 0.9100701855132747, 0.915410305321283, 0.9148217259140647, 0.9275773737174373, 0.933695086399013, 0.8926049427437404, 0.8864238005089118, 0.8890661531185735, 0.8771458416517364, 0.8796710400258996, 0.8862473345507644, 0.8778503489798464, 0.8944619752913416, 0.9019307855875525, 0.8991125072539985, 0.8958678385757417, 0.903182315742991, 0.8954340565794885, 0.8930219579316505]}],\n",
              "                        {\"height\": 600, \"shapes\": [{\"fillcolor\": \"#F6B28D\", \"line\": {\"color\": \"#F6B28D\"}, \"opacity\": 0.1, \"type\": \"rect\", \"x0\": 752, \"x1\": 939, \"xref\": \"x\", \"y0\": 0, \"y1\": 1, \"yref\": \"paper\"}, {\"fillcolor\": \"#7BA1AA\", \"line\": {\"color\": \"#7BA1AA\"}, \"opacity\": 0.1, \"type\": \"rect\", \"x0\": 0, \"x1\": 751, \"xref\": \"x\", \"y0\": 0, \"y1\": 1, \"yref\": \"paper\"}], \"template\": {\"data\": {\"bar\": [{\"error_x\": {\"color\": \"#2a3f5f\"}, \"error_y\": {\"color\": \"#2a3f5f\"}, \"marker\": {\"line\": {\"color\": \"white\", \"width\": 0.5}}, \"type\": \"bar\"}], \"barpolar\": [{\"marker\": {\"line\": {\"color\": \"white\", \"width\": 0.5}}, \"type\": \"barpolar\"}], \"carpet\": [{\"aaxis\": {\"endlinecolor\": \"#2a3f5f\", \"gridcolor\": \"#C8D4E3\", \"linecolor\": \"#C8D4E3\", \"minorgridcolor\": \"#C8D4E3\", \"startlinecolor\": \"#2a3f5f\"}, \"baxis\": {\"endlinecolor\": \"#2a3f5f\", \"gridcolor\": \"#C8D4E3\", \"linecolor\": \"#C8D4E3\", \"minorgridcolor\": \"#C8D4E3\", \"startlinecolor\": \"#2a3f5f\"}, \"type\": \"carpet\"}], \"choropleth\": [{\"colorbar\": {\"outlinewidth\": 0, \"ticks\": \"\"}, \"type\": \"choropleth\"}], \"contour\": [{\"colorbar\": {\"outlinewidth\": 0, \"ticks\": \"\"}, \"colorscale\": [[0.0, \"#0d0887\"], [0.1111111111111111, \"#46039f\"], [0.2222222222222222, \"#7201a8\"], [0.3333333333333333, \"#9c179e\"], [0.4444444444444444, \"#bd3786\"], [0.5555555555555556, \"#d8576b\"], [0.6666666666666666, \"#ed7953\"], [0.7777777777777778, \"#fb9f3a\"], [0.8888888888888888, \"#fdca26\"], [1.0, \"#f0f921\"]], \"type\": \"contour\"}], \"contourcarpet\": [{\"colorbar\": {\"outlinewidth\": 0, \"ticks\": \"\"}, \"type\": \"contourcarpet\"}], \"heatmap\": [{\"colorbar\": {\"outlinewidth\": 0, \"ticks\": \"\"}, \"colorscale\": [[0.0, \"#0d0887\"], [0.1111111111111111, \"#46039f\"], [0.2222222222222222, \"#7201a8\"], [0.3333333333333333, \"#9c179e\"], [0.4444444444444444, \"#bd3786\"], [0.5555555555555556, \"#d8576b\"], [0.6666666666666666, \"#ed7953\"], [0.7777777777777778, \"#fb9f3a\"], [0.8888888888888888, \"#fdca26\"], [1.0, \"#f0f921\"]], \"type\": \"heatmap\"}], \"heatmapgl\": [{\"colorbar\": {\"outlinewidth\": 0, \"ticks\": \"\"}, \"colorscale\": [[0.0, \"#0d0887\"], [0.1111111111111111, \"#46039f\"], [0.2222222222222222, \"#7201a8\"], [0.3333333333333333, \"#9c179e\"], [0.4444444444444444, \"#bd3786\"], [0.5555555555555556, \"#d8576b\"], [0.6666666666666666, \"#ed7953\"], [0.7777777777777778, \"#fb9f3a\"], [0.8888888888888888, \"#fdca26\"], [1.0, \"#f0f921\"]], \"type\": \"heatmapgl\"}], \"histogram\": [{\"marker\": {\"colorbar\": {\"outlinewidth\": 0, \"ticks\": \"\"}}, \"type\": \"histogram\"}], \"histogram2d\": [{\"colorbar\": {\"outlinewidth\": 0, \"ticks\": \"\"}, \"colorscale\": [[0.0, \"#0d0887\"], [0.1111111111111111, \"#46039f\"], [0.2222222222222222, \"#7201a8\"], [0.3333333333333333, \"#9c179e\"], [0.4444444444444444, \"#bd3786\"], [0.5555555555555556, \"#d8576b\"], [0.6666666666666666, \"#ed7953\"], [0.7777777777777778, \"#fb9f3a\"], [0.8888888888888888, \"#fdca26\"], [1.0, \"#f0f921\"]], \"type\": \"histogram2d\"}], \"histogram2dcontour\": [{\"colorbar\": {\"outlinewidth\": 0, \"ticks\": \"\"}, \"colorscale\": [[0.0, \"#0d0887\"], [0.1111111111111111, \"#46039f\"], [0.2222222222222222, \"#7201a8\"], [0.3333333333333333, \"#9c179e\"], [0.4444444444444444, \"#bd3786\"], [0.5555555555555556, \"#d8576b\"], [0.6666666666666666, \"#ed7953\"], [0.7777777777777778, \"#fb9f3a\"], [0.8888888888888888, \"#fdca26\"], [1.0, \"#f0f921\"]], \"type\": \"histogram2dcontour\"}], \"mesh3d\": [{\"colorbar\": {\"outlinewidth\": 0, \"ticks\": \"\"}, \"type\": \"mesh3d\"}], \"parcoords\": [{\"line\": {\"colorbar\": {\"outlinewidth\": 0, \"ticks\": \"\"}}, \"type\": \"parcoords\"}], \"pie\": [{\"automargin\": true, \"type\": \"pie\"}], \"scatter\": [{\"marker\": {\"colorbar\": {\"outlinewidth\": 0, \"ticks\": \"\"}}, \"type\": \"scatter\"}], \"scatter3d\": [{\"line\": {\"colorbar\": {\"outlinewidth\": 0, \"ticks\": \"\"}}, \"marker\": {\"colorbar\": {\"outlinewidth\": 0, \"ticks\": \"\"}}, \"type\": \"scatter3d\"}], \"scattercarpet\": [{\"marker\": {\"colorbar\": {\"outlinewidth\": 0, \"ticks\": \"\"}}, \"type\": \"scattercarpet\"}], \"scattergeo\": [{\"marker\": {\"colorbar\": {\"outlinewidth\": 0, \"ticks\": \"\"}}, \"type\": \"scattergeo\"}], \"scattergl\": [{\"marker\": {\"colorbar\": {\"outlinewidth\": 0, \"ticks\": \"\"}}, \"type\": \"scattergl\"}], \"scattermapbox\": [{\"marker\": {\"colorbar\": {\"outlinewidth\": 0, \"ticks\": \"\"}}, \"type\": \"scattermapbox\"}], \"scatterpolar\": [{\"marker\": {\"colorbar\": {\"outlinewidth\": 0, \"ticks\": \"\"}}, \"type\": \"scatterpolar\"}], \"scatterpolargl\": [{\"marker\": {\"colorbar\": {\"outlinewidth\": 0, \"ticks\": \"\"}}, \"type\": \"scatterpolargl\"}], \"scatterternary\": [{\"marker\": {\"colorbar\": {\"outlinewidth\": 0, \"ticks\": \"\"}}, \"type\": \"scatterternary\"}], \"surface\": [{\"colorbar\": {\"outlinewidth\": 0, \"ticks\": \"\"}, \"colorscale\": [[0.0, \"#0d0887\"], [0.1111111111111111, \"#46039f\"], [0.2222222222222222, \"#7201a8\"], [0.3333333333333333, \"#9c179e\"], [0.4444444444444444, \"#bd3786\"], [0.5555555555555556, \"#d8576b\"], [0.6666666666666666, \"#ed7953\"], [0.7777777777777778, \"#fb9f3a\"], [0.8888888888888888, \"#fdca26\"], [1.0, \"#f0f921\"]], \"type\": \"surface\"}], \"table\": [{\"cells\": {\"fill\": {\"color\": \"#EBF0F8\"}, \"line\": {\"color\": \"white\"}}, \"header\": {\"fill\": {\"color\": \"#C8D4E3\"}, \"line\": {\"color\": \"white\"}}, \"type\": \"table\"}]}, \"layout\": {\"annotationdefaults\": {\"arrowcolor\": \"#2a3f5f\", \"arrowhead\": 0, \"arrowwidth\": 1}, \"coloraxis\": {\"colorbar\": {\"outlinewidth\": 0, \"ticks\": \"\"}}, \"colorscale\": {\"diverging\": [[0, \"#8e0152\"], [0.1, \"#c51b7d\"], [0.2, \"#de77ae\"], [0.3, \"#f1b6da\"], [0.4, \"#fde0ef\"], [0.5, \"#f7f7f7\"], [0.6, \"#e6f5d0\"], [0.7, \"#b8e186\"], [0.8, \"#7fbc41\"], [0.9, \"#4d9221\"], [1, \"#276419\"]], \"sequential\": [[0.0, \"#0d0887\"], [0.1111111111111111, \"#46039f\"], [0.2222222222222222, \"#7201a8\"], [0.3333333333333333, \"#9c179e\"], [0.4444444444444444, \"#bd3786\"], [0.5555555555555556, \"#d8576b\"], [0.6666666666666666, \"#ed7953\"], [0.7777777777777778, \"#fb9f3a\"], [0.8888888888888888, \"#fdca26\"], [1.0, \"#f0f921\"]], \"sequentialminus\": [[0.0, \"#0d0887\"], [0.1111111111111111, \"#46039f\"], [0.2222222222222222, \"#7201a8\"], [0.3333333333333333, \"#9c179e\"], [0.4444444444444444, \"#bd3786\"], [0.5555555555555556, \"#d8576b\"], [0.6666666666666666, \"#ed7953\"], [0.7777777777777778, \"#fb9f3a\"], [0.8888888888888888, \"#fdca26\"], [1.0, \"#f0f921\"]]}, \"colorway\": [\"#636efa\", \"#EF553B\", \"#00cc96\", \"#ab63fa\", \"#FFA15A\", \"#19d3f3\", \"#FF6692\", \"#B6E880\", \"#FF97FF\", \"#FECB52\"], \"font\": {\"color\": \"#2a3f5f\"}, \"geo\": {\"bgcolor\": \"white\", \"lakecolor\": \"white\", \"landcolor\": \"white\", \"showlakes\": true, \"showland\": true, \"subunitcolor\": \"#C8D4E3\"}, \"hoverlabel\": {\"align\": \"left\"}, \"hovermode\": \"closest\", \"mapbox\": {\"style\": \"light\"}, \"paper_bgcolor\": \"white\", \"plot_bgcolor\": \"white\", \"polar\": {\"angularaxis\": {\"gridcolor\": \"#EBF0F8\", \"linecolor\": \"#EBF0F8\", \"ticks\": \"\"}, \"bgcolor\": \"white\", \"radialaxis\": {\"gridcolor\": \"#EBF0F8\", \"linecolor\": \"#EBF0F8\", \"ticks\": \"\"}}, \"scene\": {\"xaxis\": {\"backgroundcolor\": \"white\", \"gridcolor\": \"#DFE8F3\", \"gridwidth\": 2, \"linecolor\": \"#EBF0F8\", \"showbackground\": true, \"ticks\": \"\", \"zerolinecolor\": \"#EBF0F8\"}, \"yaxis\": {\"backgroundcolor\": \"white\", \"gridcolor\": \"#DFE8F3\", \"gridwidth\": 2, \"linecolor\": \"#EBF0F8\", \"showbackground\": true, \"ticks\": \"\", \"zerolinecolor\": \"#EBF0F8\"}, \"zaxis\": {\"backgroundcolor\": \"white\", \"gridcolor\": \"#DFE8F3\", \"gridwidth\": 2, \"linecolor\": \"#EBF0F8\", \"showbackground\": true, \"ticks\": \"\", \"zerolinecolor\": \"#EBF0F8\"}}, \"shapedefaults\": {\"line\": {\"color\": \"#2a3f5f\"}}, \"ternary\": {\"aaxis\": {\"gridcolor\": \"#DFE8F3\", \"linecolor\": \"#A2B1C6\", \"ticks\": \"\"}, \"baxis\": {\"gridcolor\": \"#DFE8F3\", \"linecolor\": \"#A2B1C6\", \"ticks\": \"\"}, \"bgcolor\": \"white\", \"caxis\": {\"gridcolor\": \"#DFE8F3\", \"linecolor\": \"#A2B1C6\", \"ticks\": \"\"}}, \"title\": {\"x\": 0.05}, \"xaxis\": {\"automargin\": true, \"gridcolor\": \"#EBF0F8\", \"linecolor\": \"#EBF0F8\", \"ticks\": \"\", \"title\": {\"standoff\": 15}, \"zerolinecolor\": \"#EBF0F8\", \"zerolinewidth\": 2}, \"yaxis\": {\"automargin\": true, \"gridcolor\": \"#EBF0F8\", \"linecolor\": \"#EBF0F8\", \"ticks\": \"\", \"title\": {\"standoff\": 15}, \"zerolinecolor\": \"#EBF0F8\", \"zerolinewidth\": 2}}}, \"title\": {\"text\": \"Train/Test Datasets (Scaled)\"}, \"width\": 600, \"xaxis\": {\"title\": {\"text\": \"time steps\"}}, \"yaxis\": {\"title\": {\"text\": \"Closing Price (Scaled)\"}}},\n",
              "                        {\"responsive\": true}\n",
              "                    ).then(function(){\n",
              "                            \n",
              "var gd = document.getElementById('b670ea1a-7351-46e1-95e0-37fd300b7ffd');\n",
              "var x = new MutationObserver(function (mutations, observer) {{\n",
              "        var display = window.getComputedStyle(gd).display;\n",
              "        if (!display || display === 'none') {{\n",
              "            console.log([gd, 'removed!']);\n",
              "            Plotly.purge(gd);\n",
              "            observer.disconnect();\n",
              "        }}\n",
              "}});\n",
              "\n",
              "// Listen for the removal of the full notebook cells\n",
              "var notebookContainer = gd.closest('#notebook-container');\n",
              "if (notebookContainer) {{\n",
              "    x.observe(notebookContainer, {childList: true});\n",
              "}}\n",
              "\n",
              "// Listen for the clearing of the current output cell\n",
              "var outputEl = gd.closest('.output');\n",
              "if (outputEl) {{\n",
              "    x.observe(outputEl, {childList: true});\n",
              "}}\n",
              "\n",
              "                        })\n",
              "                };\n",
              "                \n",
              "            </script>\n",
              "        </div>\n",
              "</body>\n",
              "</html>"
            ]
          },
          "metadata": {}
        },
        {
          "output_type": "stream",
          "name": "stdout",
          "text": [
            "Train/Test Dimensions\n",
            "============================================================\n",
            "Train Data Dimensions:  x (707, 40, 10) y (707, 5)\n",
            "Test Data Dimensions :  x (143, 40, 10)  y (143, 5)\n",
            "\n",
            "\n",
            "Check the dimensions of the training windows\n",
            "============================================================\n",
            "The last value in the training batch should match the first value in the predict batch\n",
            "Last Training Value:    0.10492714225069077\n",
            "First Prediction Value: 0.10492714225069077\n"
          ]
        },
        {
          "output_type": "display_data",
          "data": {
            "text/html": [
              "<html>\n",
              "<head><meta charset=\"utf-8\" /></head>\n",
              "<body>\n",
              "    <div>\n",
              "            <script src=\"https://cdnjs.cloudflare.com/ajax/libs/mathjax/2.7.5/MathJax.js?config=TeX-AMS-MML_SVG\"></script><script type=\"text/javascript\">if (window.MathJax) {MathJax.Hub.Config({SVG: {font: \"STIX-Web\"}});}</script>\n",
              "                <script type=\"text/javascript\">window.PlotlyConfig = {MathJaxConfig: 'local'};</script>\n",
              "        <script src=\"https://cdn.plot.ly/plotly-latest.min.js\"></script>    \n",
              "            <div id=\"a99ecc62-488b-4d43-aad7-098562386424\" class=\"plotly-graph-div\" style=\"height:600px; width:600px;\"></div>\n",
              "            <script type=\"text/javascript\">\n",
              "                \n",
              "                    window.PLOTLYENV=window.PLOTLYENV || {};\n",
              "                    \n",
              "                if (document.getElementById(\"a99ecc62-488b-4d43-aad7-098562386424\")) {\n",
              "                    Plotly.newPlot(\n",
              "                        'a99ecc62-488b-4d43-aad7-098562386424',\n",
              "                        [{\"name\": \"train window\", \"type\": \"scatter\", \"x\": [0, 1, 2, 3, 4, 5, 6, 7, 8, 9, 10, 11, 12, 13, 14, 15, 16, 17, 18, 19, 20, 21, 22, 23, 24, 25, 26, 27, 28, 29, 30, 31, 32, 33, 34, 35, 36, 37, 38, 39], \"y\": [0.3541969452707314, 0.3629842965075154, 0.36050910242833867, 0.3602693120841902, 0.3591427712916637, 0.3574054702526337, 0.35521774620256963, 0.35415049060338344, 0.3571642439192777, 0.3545524325322047, 0.3481855614697169, 0.3496803238092352, 0.3380208504920166, 0.2911510455871502, 0.28852544577816897, 0.2728810037269578, 0.27783226149172746, 0.278731071337714, 0.27201046075006774, 0.2825980624862323, 0.28272973004189517, 0.2855845456454156, 0.2798096209855503, 0.2760718742754511, 0.27559811644275545, 0.2636121099188271, 0.2783563443743722, 0.2774220897324784, 0.29394277929902035, 0.2938312869769635, 0.2812854945764549, 0.2830544410989795, 0.2819887779954109, 0.28508967888260317, 0.27702956666853673, 0.26972308983507665, 0.27318001559321825, 0.2677466026508939, 0.2677909111608021, 0.2797835003836502]}, {\"name\": \"predict window\", \"type\": \"scatter\", \"x\": [39, 40, 41, 42, 43], \"y\": [0.2797835003836502, 0.27866492147966637, 0.2709661218154822, 0.24578935353872788, 0.24322336369774122]}],\n",
              "                        {\"height\": 600, \"template\": {\"data\": {\"bar\": [{\"error_x\": {\"color\": \"#2a3f5f\"}, \"error_y\": {\"color\": \"#2a3f5f\"}, \"marker\": {\"line\": {\"color\": \"white\", \"width\": 0.5}}, \"type\": \"bar\"}], \"barpolar\": [{\"marker\": {\"line\": {\"color\": \"white\", \"width\": 0.5}}, \"type\": \"barpolar\"}], \"carpet\": [{\"aaxis\": {\"endlinecolor\": \"#2a3f5f\", \"gridcolor\": \"#C8D4E3\", \"linecolor\": \"#C8D4E3\", \"minorgridcolor\": \"#C8D4E3\", \"startlinecolor\": \"#2a3f5f\"}, \"baxis\": {\"endlinecolor\": \"#2a3f5f\", \"gridcolor\": \"#C8D4E3\", \"linecolor\": \"#C8D4E3\", \"minorgridcolor\": \"#C8D4E3\", \"startlinecolor\": \"#2a3f5f\"}, \"type\": \"carpet\"}], \"choropleth\": [{\"colorbar\": {\"outlinewidth\": 0, \"ticks\": \"\"}, \"type\": \"choropleth\"}], \"contour\": [{\"colorbar\": {\"outlinewidth\": 0, \"ticks\": \"\"}, \"colorscale\": [[0.0, \"#0d0887\"], [0.1111111111111111, \"#46039f\"], [0.2222222222222222, \"#7201a8\"], [0.3333333333333333, \"#9c179e\"], [0.4444444444444444, \"#bd3786\"], [0.5555555555555556, \"#d8576b\"], [0.6666666666666666, \"#ed7953\"], [0.7777777777777778, \"#fb9f3a\"], [0.8888888888888888, \"#fdca26\"], [1.0, \"#f0f921\"]], \"type\": \"contour\"}], \"contourcarpet\": [{\"colorbar\": {\"outlinewidth\": 0, \"ticks\": \"\"}, \"type\": \"contourcarpet\"}], \"heatmap\": [{\"colorbar\": {\"outlinewidth\": 0, \"ticks\": \"\"}, \"colorscale\": [[0.0, \"#0d0887\"], [0.1111111111111111, \"#46039f\"], [0.2222222222222222, \"#7201a8\"], [0.3333333333333333, \"#9c179e\"], [0.4444444444444444, \"#bd3786\"], [0.5555555555555556, \"#d8576b\"], [0.6666666666666666, \"#ed7953\"], [0.7777777777777778, \"#fb9f3a\"], [0.8888888888888888, \"#fdca26\"], [1.0, \"#f0f921\"]], \"type\": \"heatmap\"}], \"heatmapgl\": [{\"colorbar\": {\"outlinewidth\": 0, \"ticks\": \"\"}, \"colorscale\": [[0.0, \"#0d0887\"], [0.1111111111111111, \"#46039f\"], [0.2222222222222222, \"#7201a8\"], [0.3333333333333333, \"#9c179e\"], [0.4444444444444444, \"#bd3786\"], [0.5555555555555556, \"#d8576b\"], [0.6666666666666666, \"#ed7953\"], [0.7777777777777778, \"#fb9f3a\"], [0.8888888888888888, \"#fdca26\"], [1.0, \"#f0f921\"]], \"type\": \"heatmapgl\"}], \"histogram\": [{\"marker\": {\"colorbar\": {\"outlinewidth\": 0, \"ticks\": \"\"}}, \"type\": \"histogram\"}], \"histogram2d\": [{\"colorbar\": {\"outlinewidth\": 0, \"ticks\": \"\"}, \"colorscale\": [[0.0, \"#0d0887\"], [0.1111111111111111, \"#46039f\"], [0.2222222222222222, \"#7201a8\"], [0.3333333333333333, \"#9c179e\"], [0.4444444444444444, \"#bd3786\"], [0.5555555555555556, \"#d8576b\"], [0.6666666666666666, \"#ed7953\"], [0.7777777777777778, \"#fb9f3a\"], [0.8888888888888888, \"#fdca26\"], [1.0, \"#f0f921\"]], \"type\": \"histogram2d\"}], \"histogram2dcontour\": [{\"colorbar\": {\"outlinewidth\": 0, \"ticks\": \"\"}, \"colorscale\": [[0.0, \"#0d0887\"], [0.1111111111111111, \"#46039f\"], [0.2222222222222222, \"#7201a8\"], [0.3333333333333333, \"#9c179e\"], [0.4444444444444444, \"#bd3786\"], [0.5555555555555556, \"#d8576b\"], [0.6666666666666666, \"#ed7953\"], [0.7777777777777778, \"#fb9f3a\"], [0.8888888888888888, \"#fdca26\"], [1.0, \"#f0f921\"]], \"type\": \"histogram2dcontour\"}], \"mesh3d\": [{\"colorbar\": {\"outlinewidth\": 0, \"ticks\": \"\"}, \"type\": \"mesh3d\"}], \"parcoords\": [{\"line\": {\"colorbar\": {\"outlinewidth\": 0, \"ticks\": \"\"}}, \"type\": \"parcoords\"}], \"pie\": [{\"automargin\": true, \"type\": \"pie\"}], \"scatter\": [{\"marker\": {\"colorbar\": {\"outlinewidth\": 0, \"ticks\": \"\"}}, \"type\": \"scatter\"}], \"scatter3d\": [{\"line\": {\"colorbar\": {\"outlinewidth\": 0, \"ticks\": \"\"}}, \"marker\": {\"colorbar\": {\"outlinewidth\": 0, \"ticks\": \"\"}}, \"type\": \"scatter3d\"}], \"scattercarpet\": [{\"marker\": {\"colorbar\": {\"outlinewidth\": 0, \"ticks\": \"\"}}, \"type\": \"scattercarpet\"}], \"scattergeo\": [{\"marker\": {\"colorbar\": {\"outlinewidth\": 0, \"ticks\": \"\"}}, \"type\": \"scattergeo\"}], \"scattergl\": [{\"marker\": {\"colorbar\": {\"outlinewidth\": 0, \"ticks\": \"\"}}, \"type\": \"scattergl\"}], \"scattermapbox\": [{\"marker\": {\"colorbar\": {\"outlinewidth\": 0, \"ticks\": \"\"}}, \"type\": \"scattermapbox\"}], \"scatterpolar\": [{\"marker\": {\"colorbar\": {\"outlinewidth\": 0, \"ticks\": \"\"}}, \"type\": \"scatterpolar\"}], \"scatterpolargl\": [{\"marker\": {\"colorbar\": {\"outlinewidth\": 0, \"ticks\": \"\"}}, \"type\": \"scatterpolargl\"}], \"scatterternary\": [{\"marker\": {\"colorbar\": {\"outlinewidth\": 0, \"ticks\": \"\"}}, \"type\": \"scatterternary\"}], \"surface\": [{\"colorbar\": {\"outlinewidth\": 0, \"ticks\": \"\"}, \"colorscale\": [[0.0, \"#0d0887\"], [0.1111111111111111, \"#46039f\"], [0.2222222222222222, \"#7201a8\"], [0.3333333333333333, \"#9c179e\"], [0.4444444444444444, \"#bd3786\"], [0.5555555555555556, \"#d8576b\"], [0.6666666666666666, \"#ed7953\"], [0.7777777777777778, \"#fb9f3a\"], [0.8888888888888888, \"#fdca26\"], [1.0, \"#f0f921\"]], \"type\": \"surface\"}], \"table\": [{\"cells\": {\"fill\": {\"color\": \"#EBF0F8\"}, \"line\": {\"color\": \"white\"}}, \"header\": {\"fill\": {\"color\": \"#C8D4E3\"}, \"line\": {\"color\": \"white\"}}, \"type\": \"table\"}]}, \"layout\": {\"annotationdefaults\": {\"arrowcolor\": \"#2a3f5f\", \"arrowhead\": 0, \"arrowwidth\": 1}, \"coloraxis\": {\"colorbar\": {\"outlinewidth\": 0, \"ticks\": \"\"}}, \"colorscale\": {\"diverging\": [[0, \"#8e0152\"], [0.1, \"#c51b7d\"], [0.2, \"#de77ae\"], [0.3, \"#f1b6da\"], [0.4, \"#fde0ef\"], [0.5, \"#f7f7f7\"], [0.6, \"#e6f5d0\"], [0.7, \"#b8e186\"], [0.8, \"#7fbc41\"], [0.9, \"#4d9221\"], [1, \"#276419\"]], \"sequential\": [[0.0, \"#0d0887\"], [0.1111111111111111, \"#46039f\"], [0.2222222222222222, \"#7201a8\"], [0.3333333333333333, \"#9c179e\"], [0.4444444444444444, \"#bd3786\"], [0.5555555555555556, \"#d8576b\"], [0.6666666666666666, \"#ed7953\"], [0.7777777777777778, \"#fb9f3a\"], [0.8888888888888888, \"#fdca26\"], [1.0, \"#f0f921\"]], \"sequentialminus\": [[0.0, \"#0d0887\"], [0.1111111111111111, \"#46039f\"], [0.2222222222222222, \"#7201a8\"], [0.3333333333333333, \"#9c179e\"], [0.4444444444444444, \"#bd3786\"], [0.5555555555555556, \"#d8576b\"], [0.6666666666666666, \"#ed7953\"], [0.7777777777777778, \"#fb9f3a\"], [0.8888888888888888, \"#fdca26\"], [1.0, \"#f0f921\"]]}, \"colorway\": [\"#636efa\", \"#EF553B\", \"#00cc96\", \"#ab63fa\", \"#FFA15A\", \"#19d3f3\", \"#FF6692\", \"#B6E880\", \"#FF97FF\", \"#FECB52\"], \"font\": {\"color\": \"#2a3f5f\"}, \"geo\": {\"bgcolor\": \"white\", \"lakecolor\": \"white\", \"landcolor\": \"white\", \"showlakes\": true, \"showland\": true, \"subunitcolor\": \"#C8D4E3\"}, \"hoverlabel\": {\"align\": \"left\"}, \"hovermode\": \"closest\", \"mapbox\": {\"style\": \"light\"}, \"paper_bgcolor\": \"white\", \"plot_bgcolor\": \"white\", \"polar\": {\"angularaxis\": {\"gridcolor\": \"#EBF0F8\", \"linecolor\": \"#EBF0F8\", \"ticks\": \"\"}, \"bgcolor\": \"white\", \"radialaxis\": {\"gridcolor\": \"#EBF0F8\", \"linecolor\": \"#EBF0F8\", \"ticks\": \"\"}}, \"scene\": {\"xaxis\": {\"backgroundcolor\": \"white\", \"gridcolor\": \"#DFE8F3\", \"gridwidth\": 2, \"linecolor\": \"#EBF0F8\", \"showbackground\": true, \"ticks\": \"\", \"zerolinecolor\": \"#EBF0F8\"}, \"yaxis\": {\"backgroundcolor\": \"white\", \"gridcolor\": \"#DFE8F3\", \"gridwidth\": 2, \"linecolor\": \"#EBF0F8\", \"showbackground\": true, \"ticks\": \"\", \"zerolinecolor\": \"#EBF0F8\"}, \"zaxis\": {\"backgroundcolor\": \"white\", \"gridcolor\": \"#DFE8F3\", \"gridwidth\": 2, \"linecolor\": \"#EBF0F8\", \"showbackground\": true, \"ticks\": \"\", \"zerolinecolor\": \"#EBF0F8\"}}, \"shapedefaults\": {\"line\": {\"color\": \"#2a3f5f\"}}, \"ternary\": {\"aaxis\": {\"gridcolor\": \"#DFE8F3\", \"linecolor\": \"#A2B1C6\", \"ticks\": \"\"}, \"baxis\": {\"gridcolor\": \"#DFE8F3\", \"linecolor\": \"#A2B1C6\", \"ticks\": \"\"}, \"bgcolor\": \"white\", \"caxis\": {\"gridcolor\": \"#DFE8F3\", \"linecolor\": \"#A2B1C6\", \"ticks\": \"\"}}, \"title\": {\"x\": 0.05}, \"xaxis\": {\"automargin\": true, \"gridcolor\": \"#EBF0F8\", \"linecolor\": \"#EBF0F8\", \"ticks\": \"\", \"title\": {\"standoff\": 15}, \"zerolinecolor\": \"#EBF0F8\", \"zerolinewidth\": 2}, \"yaxis\": {\"automargin\": true, \"gridcolor\": \"#EBF0F8\", \"linecolor\": \"#EBF0F8\", \"ticks\": \"\", \"title\": {\"standoff\": 15}, \"zerolinecolor\": \"#EBF0F8\", \"zerolinewidth\": 2}}}, \"title\": {\"text\": \"Train/Predict Windows\"}, \"width\": 600, \"xaxis\": {\"title\": {\"text\": \"Period\"}}, \"yaxis\": {\"title\": {\"text\": \"Closing Price (Scaled)\"}}},\n",
              "                        {\"responsive\": true}\n",
              "                    ).then(function(){\n",
              "                            \n",
              "var gd = document.getElementById('a99ecc62-488b-4d43-aad7-098562386424');\n",
              "var x = new MutationObserver(function (mutations, observer) {{\n",
              "        var display = window.getComputedStyle(gd).display;\n",
              "        if (!display || display === 'none') {{\n",
              "            console.log([gd, 'removed!']);\n",
              "            Plotly.purge(gd);\n",
              "            observer.disconnect();\n",
              "        }}\n",
              "}});\n",
              "\n",
              "// Listen for the removal of the full notebook cells\n",
              "var notebookContainer = gd.closest('#notebook-container');\n",
              "if (notebookContainer) {{\n",
              "    x.observe(notebookContainer, {childList: true});\n",
              "}}\n",
              "\n",
              "// Listen for the clearing of the current output cell\n",
              "var outputEl = gd.closest('.output');\n",
              "if (outputEl) {{\n",
              "    x.observe(outputEl, {childList: true});\n",
              "}}\n",
              "\n",
              "                        })\n",
              "                };\n",
              "                \n",
              "            </script>\n",
              "        </div>\n",
              "</body>\n",
              "</html>"
            ]
          },
          "metadata": {}
        }
      ]
    },
    {
      "cell_type": "markdown",
      "metadata": {
        "id": "fA_WcAx3YT2r"
      },
      "source": [
        "# Deep Learning LSTM"
      ]
    },
    {
      "cell_type": "markdown",
      "metadata": {
        "id": "GcGrkK63g1ZX"
      },
      "source": [
        "### Build the LSTM Model"
      ]
    },
    {
      "cell_type": "code",
      "metadata": {
        "id": "2euanyq81ht2"
      },
      "source": [
        "def create_lstm_model(config,x_train,n_predict,lr=0.001):\n",
        "  \"\"\"\n",
        "  \"\"\"\n",
        "  # get window size\n",
        "  n_steps = config['data']['n_steps']\n",
        "  n_predict = config['data']['n_predict']\n",
        "  n_features = x_train.shape[2]\n",
        "\n",
        "  # clear previous models\n",
        "  backend.clear_session()\n",
        "\n",
        "  # LSTM Model+ first layer\n",
        "  model = Sequential(name='LSTM')\n",
        "  model.add(LSTM(n_steps,return_sequences=True,input_shape=(n_steps,n_features)))\n",
        "\n",
        "  # add additional layers\n",
        "  for layer,nodes,ret_seq,drop in config['layers']:\n",
        "    # add LSTM layers + dropout\n",
        "    if layer=='lstm':\n",
        "      model.add(LSTM(nodes,return_sequences =ret_seq))\n",
        "      if drop is not None:\n",
        "        model.add(Dropout(drop))\n",
        "\n",
        "    # Add Dense Layers + dropout\n",
        "    elif layer =='dense':\n",
        "      model.add(Dense(nodes))\n",
        "      if drop is not None:\n",
        "        model.add(Dropout(drop))\n",
        "\n",
        "  # add the prediction layer\n",
        "  model.add(Dense(n_predict))\n",
        "  \n",
        "  # compile\n",
        "  model.compile(optimizer=tf.keras.optimizers.Adam(learning_rate=lr),\n",
        "                loss='mse')\n",
        "  model.summary()\n",
        "\n",
        "  return model\n"
      ],
      "execution_count": 11,
      "outputs": []
    },
    {
      "cell_type": "markdown",
      "metadata": {
        "id": "k43YdoAag6Hi"
      },
      "source": [
        "### Calculate Model Performance"
      ]
    },
    {
      "cell_type": "code",
      "metadata": {
        "id": "vgZrENeE1V6h"
      },
      "source": [
        "def calculate_performance(x_test,y_test,model,scaler_y):\n",
        "  \"\"\"\n",
        "  \"\"\"\n",
        "\n",
        "  # Predict the prices\n",
        "  y_pred = model.predict(x_test)\n",
        "\n",
        "  # convert units back to the original scale\n",
        "  y_pred_unscaled = scaler_y.inverse_transform(y_pred)\n",
        "  y_test_unscaled = scaler_y.inverse_transform(y_test)\n",
        "\n",
        "  # # Root mean squarred error,mean abs error, mean abs percent error, median abs percent error\n",
        "  rmse  = math.sqrt(mean_squared_error(y_test_unscaled, y_pred_unscaled))\n",
        "  mae   = mean_absolute_error(y_test_unscaled, y_pred_unscaled)\n",
        "  mape  = np.mean((np.abs(np.subtract(y_test_unscaled, y_pred_unscaled)/ y_test_unscaled))) * 100\n",
        "  mdape = np.median((np.abs(np.subtract(y_test_unscaled, y_pred_unscaled)/ y_test_unscaled)) ) * 100\n",
        "\n",
        "  print(\"\\nModel Error\")\n",
        "  print(\"=\"*62)\n",
        "  print(f'{\"Mean Absolute Error (MAE)\" :-<55} {np.round(mae, 2):>5}')\n",
        "  print(f'{\"Root Mean Squared Error (MSE)\" :-<55} {np.round(rmse,2):>5}')\n",
        "  print(f'{\"Mean Absolute Percentage Error (MAPE)\" :-<55} {np.round(mape, 2):>5}%')\n",
        "  print(f'{\"Median Absolute Percentage Error (MDAPE)\" :-<55} {np.round(mdape, 2):>5}%')\n",
        "\n",
        "  return y_pred\n"
      ],
      "execution_count": 12,
      "outputs": []
    },
    {
      "cell_type": "markdown",
      "metadata": {
        "id": "JMMZUcmEg9hw"
      },
      "source": [
        "### Plot Training Metrics"
      ]
    },
    {
      "cell_type": "code",
      "metadata": {
        "id": "PALdRNgOrzLy"
      },
      "source": [
        "\n",
        "def plot_training_metrics(history):\n",
        "  \"\"\"\n",
        "  \"\"\"\n",
        "  # get the number of epochs\n",
        "  epochs = list(range(1, len(history.history['loss']) + 1))\n",
        "\n",
        "  # min_train_loss = min(history.history['loss'])\n",
        "  # min_val_loss = min(history.history['val_loss'])\n",
        "\n",
        "  # create the line plots\n",
        "  fig = go.Figure()\n",
        "  fig.add_trace(go.Scatter(x=epochs,\n",
        "                           y=history.history['loss'],\n",
        "                           name = 'train-loss',\n",
        "                           line=dict(width=3,color='royalblue')))\n",
        "  fig.add_trace(go.Scatter(x=epochs,\n",
        "                           y=history.history['val_loss'],\n",
        "                           name='val-loss',\n",
        "                           line=dict(width=3,color='crimson')))\n",
        "\n",
        "  fig.update_layout(title = 'Training Metrics',\n",
        "                    template=\"plotly_white\",\n",
        "                    width = 700,\n",
        "                    height= 500,\n",
        "                    yaxis_title='loss',\n",
        "                    xaxis_title='epochs')\n",
        "\n",
        "  fig.show()\n",
        "\n"
      ],
      "execution_count": 13,
      "outputs": []
    },
    {
      "cell_type": "markdown",
      "metadata": {
        "id": "Fj_cJeIUTqcA"
      },
      "source": [
        "## Plot Predicted vs Actual Price"
      ]
    },
    {
      "cell_type": "code",
      "metadata": {
        "id": "XQbBzIj0S-5x"
      },
      "source": [
        "def plot_price_predictions(batch, idx_close, x_test, y_pred_scaled,scaler_y): \n",
        "  \"\"\"\n",
        "  \"\"\"\n",
        "\n",
        "  # unscale the y predictions\n",
        "  y_pred_unscaled = scaler_y.inverse_transform(y_pred_scaled)\n",
        "\n",
        "  # unscale the x_test data\n",
        "  x_test_np = np.array(pd.DataFrame(x_test[batch])[idx_close]).reshape(-1,1)\n",
        "  x_test_unscaled = scaler_y.inverse_transform(x_test_np)\n",
        "  x_test_df = pd.DataFrame(x_test_unscaled)\n",
        "\n",
        "  # set the indexes for plotting\n",
        "  max_test_idx=x_test_df.shape[0]\n",
        "  max_pred_idx =y_pred_unscaled[0].shape[0]\n",
        "  test_idx = list(range(batch,batch + max_test_idx))\n",
        "  pred_idx = list(range(batch + max_test_idx,batch + max_test_idx + max_pred_idx))\n",
        "\n",
        "\n",
        "  # combine the actual + predicted prices\n",
        "  data = pd.DataFrame(list(zip(y_pred_unscaled[batch], x_test_df[0])), columns=['pred', 'actual'])\n",
        "\n",
        "  # create the plot\n",
        "  fig = go.Figure()\n",
        "  fig.add_trace(go.Scatter(x=test_idx, y=x_test_df[0],\n",
        "                        mode='lines',\n",
        "                        name='Test Data',\n",
        "                        fill='tozeroy',\n",
        "                        line_color='#ccc'))\n",
        "  fig.add_trace(go.Scatter(x=pred_idx, y=data['actual'],\n",
        "                        mode='lines+markers', \n",
        "                        name='Actual Price',\n",
        "                        fill='tozeroy',\n",
        "                        line_color ='#ccc')) \n",
        "  fig.add_trace(go.Scatter(x=pred_idx, y=data['pred'],\n",
        "                        mode='lines+markers',\n",
        "                        name='Predicted Price',\n",
        "                        line_color='red'))\n",
        "\n",
        "  fig.update_layout(template = 'plotly_white',\n",
        "                      title= 'Actual vs Predicted Price',\n",
        "                      xaxis_title = 'Batch',\n",
        "                      yaxis_title = 'Price',\n",
        "                      width=600,\n",
        "                      height=400)\n",
        "\n",
        "  fig.show()\n",
        "  "
      ],
      "execution_count": 14,
      "outputs": []
    },
    {
      "cell_type": "code",
      "metadata": {
        "id": "feLlg3wjNlGS"
      },
      "source": [
        "def plot_n_price_predictions(idx_close,x_test,y_pred_scaled,scaler_y,n_batches=2):\n",
        "  \"\"\"\n",
        "  \"\"\"\n",
        "\n",
        "  # select random batch numbers\n",
        "  batches=[]\n",
        "  [batches.append(rn.randint(0,y_pred_scaled.shape[0])) for r in list(range(n_batches))]\n",
        "\n",
        "  # plot predictions\n",
        "  for batch in batches:\n",
        "    plot_price_predictions(batch, idx_close, x_test, y_pred_scaled,scaler_y)\n"
      ],
      "execution_count": 15,
      "outputs": []
    },
    {
      "cell_type": "markdown",
      "metadata": {
        "id": "Fv3doKGGg_2R"
      },
      "source": [
        "## Train the Model\n",
        "Training config file."
      ]
    },
    {
      "cell_type": "code",
      "metadata": {
        "colab": {
          "base_uri": "https://localhost:8080/"
        },
        "id": "WKXbNCQql_ge",
        "outputId": "20224dc1-872d-489d-a3f3-da53a13c5cf4"
      },
      "source": [
        "config ={\n",
        "    'data': {'n_steps':n_steps,'n_predict':n_predict},\n",
        "    'layers': [('lstm',256,True,0.3),('lstm',128,False,0.2),('dense',32,None,0.1),('dense',16,None,0.1)],\n",
        "    'train':{'epochs':250,'batch_size':128,'early_stop':EarlyStopping(monitor='loss',patience=10)}\n",
        "}\n",
        "config"
      ],
      "execution_count": 22,
      "outputs": [
        {
          "output_type": "execute_result",
          "data": {
            "text/plain": [
              "{'data': {'n_predict': 5, 'n_steps': 40},\n",
              " 'layers': [('lstm', 256, True, 0.3),\n",
              "  ('lstm', 128, False, 0.2),\n",
              "  ('dense', 32, None, 0.1),\n",
              "  ('dense', 16, None, 0.1)],\n",
              " 'train': {'batch_size': 128,\n",
              "  'early_stop': <keras.callbacks.EarlyStopping at 0x7f8e5dcb8610>,\n",
              "  'epochs': 250}}"
            ]
          },
          "metadata": {},
          "execution_count": 22
        }
      ]
    },
    {
      "cell_type": "markdown",
      "metadata": {
        "id": "iC1uKsFdS9Q4"
      },
      "source": [
        "### Bitcoin\n",
        "+ train with all features\n",
        "+ train with the optimal features"
      ]
    },
    {
      "cell_type": "code",
      "metadata": {
        "colab": {
          "base_uri": "https://localhost:8080/",
          "height": 1000
        },
        "id": "C6Je3J4du1i6",
        "outputId": "739cd681-9eaa-4e57-b9db-b3fa4f79be52"
      },
      "source": [
        "# BTC - all features\n",
        "modelname = f'model_{crypto}_{transform}'\n",
        "model = create_lstm_model(config,x_train,n_predict)\n",
        "\n",
        "# Train the model\n",
        "tic = timeit.default_timer()\n",
        "history = model.fit(x_train,\n",
        "                    y_train,\n",
        "                    batch_size=config['train']['batch_size'],\n",
        "                    epochs=config['train']['epochs'],\n",
        "                    callbacks = [config['train']['early_stop']],\n",
        "                    validation_split =0.10, \n",
        "                    verbose = 0\n",
        "                    )\n",
        "\n",
        "# print the training time\n",
        "toc =timeit.default_timer()\n",
        "print('\\nTraining Time')\n",
        "print('='*60)\n",
        "print(f'Minutes:{round((toc-tic)/60,2)}\\n')\n",
        "\n",
        "\n",
        "# predict prices\n",
        "# calculate the performance metrics\n",
        "# plot training metrics\n",
        "# plot predictions for random batches\n",
        "y_pred_scaled = calculate_performance(x_test,y_test,model,scaler_y)\n",
        "plot_training_metrics(history)\n",
        "plot_n_price_predictions(idx_close,x_test,y_pred_scaled,scaler_y,2)\n",
        "\n",
        "\n",
        "# save model and training performance\n",
        "model.save(f'/content/drive/MyDrive/Colab Notebooks/models/{modelname}_all')\n",
        "\n",
        "df_hist = pd.DataFrame(history.history) \n",
        "df_hist.to_csv(f'/content/drive/MyDrive/Colab Notebooks/models/{modelname}_all/train_history.csv')\n"
      ],
      "execution_count": 76,
      "outputs": [
        {
          "output_type": "stream",
          "name": "stdout",
          "text": [
            "Model: \"LSTM\"\n",
            "_________________________________________________________________\n",
            "Layer (type)                 Output Shape              Param #   \n",
            "=================================================================\n",
            "lstm (LSTM)                  (None, 40, 40)            10880     \n",
            "_________________________________________________________________\n",
            "lstm_1 (LSTM)                (None, 40, 256)           304128    \n",
            "_________________________________________________________________\n",
            "dropout (Dropout)            (None, 40, 256)           0         \n",
            "_________________________________________________________________\n",
            "lstm_2 (LSTM)                (None, 128)               197120    \n",
            "_________________________________________________________________\n",
            "dropout_1 (Dropout)          (None, 128)               0         \n",
            "_________________________________________________________________\n",
            "dense (Dense)                (None, 32)                4128      \n",
            "_________________________________________________________________\n",
            "dropout_2 (Dropout)          (None, 32)                0         \n",
            "_________________________________________________________________\n",
            "dense_1 (Dense)              (None, 16)                528       \n",
            "_________________________________________________________________\n",
            "dropout_3 (Dropout)          (None, 16)                0         \n",
            "_________________________________________________________________\n",
            "dense_2 (Dense)              (None, 5)                 85        \n",
            "=================================================================\n",
            "Total params: 516,869\n",
            "Trainable params: 516,869\n",
            "Non-trainable params: 0\n",
            "_________________________________________________________________\n",
            "\n",
            "Training Time\n",
            "============================================================\n",
            "Minutes:6.25\n",
            "\n",
            "\n",
            "Model Error\n",
            "==============================================================\n",
            "Mean Absolute Error (MAE)------------------------------  0.33\n",
            "Root Mean Squared Error (MSE)--------------------------  0.34\n",
            "Mean Absolute Percentage Error (MAPE)------------------  3.13%\n",
            "Median Absolute Percentage Error (MDAPE)---------------  3.04%\n"
          ]
        },
        {
          "output_type": "display_data",
          "data": {
            "text/html": [
              "<html>\n",
              "<head><meta charset=\"utf-8\" /></head>\n",
              "<body>\n",
              "    <div>\n",
              "            <script src=\"https://cdnjs.cloudflare.com/ajax/libs/mathjax/2.7.5/MathJax.js?config=TeX-AMS-MML_SVG\"></script><script type=\"text/javascript\">if (window.MathJax) {MathJax.Hub.Config({SVG: {font: \"STIX-Web\"}});}</script>\n",
              "                <script type=\"text/javascript\">window.PlotlyConfig = {MathJaxConfig: 'local'};</script>\n",
              "        <script src=\"https://cdn.plot.ly/plotly-latest.min.js\"></script>    \n",
              "            <div id=\"3d6b530b-4e3a-453a-87e7-97be04fccbd4\" class=\"plotly-graph-div\" style=\"height:500px; width:700px;\"></div>\n",
              "            <script type=\"text/javascript\">\n",
              "                \n",
              "                    window.PLOTLYENV=window.PLOTLYENV || {};\n",
              "                    \n",
              "                if (document.getElementById(\"3d6b530b-4e3a-453a-87e7-97be04fccbd4\")) {\n",
              "                    Plotly.newPlot(\n",
              "                        '3d6b530b-4e3a-453a-87e7-97be04fccbd4',\n",
              "                        [{\"line\": {\"color\": \"royalblue\", \"width\": 3}, \"name\": \"train-loss\", \"type\": \"scatter\", \"x\": [1, 2, 3, 4, 5, 6, 7, 8, 9, 10, 11, 12, 13, 14, 15, 16, 17, 18, 19, 20, 21, 22, 23, 24, 25, 26, 27, 28, 29, 30, 31, 32, 33, 34, 35, 36, 37, 38, 39, 40, 41, 42, 43, 44, 45, 46, 47, 48, 49, 50, 51, 52, 53, 54, 55, 56, 57, 58, 59, 60, 61, 62, 63, 64, 65, 66, 67, 68, 69, 70, 71, 72, 73, 74, 75, 76, 77, 78, 79, 80, 81, 82, 83, 84, 85, 86, 87, 88, 89, 90, 91, 92, 93, 94, 95, 96, 97, 98, 99, 100, 101, 102, 103, 104, 105, 106, 107, 108, 109, 110, 111, 112, 113, 114, 115, 116, 117, 118, 119, 120, 121, 122, 123, 124, 125, 126, 127, 128, 129, 130], \"y\": [0.06323007494211197, 0.018396809697151184, 0.013955439440906048, 0.010658715851604939, 0.009123388677835464, 0.008720530197024345, 0.006677211262285709, 0.006402349099516869, 0.006576778832823038, 0.006147615611553192, 0.00621225219219923, 0.005772201810032129, 0.005237468518316746, 0.0054588294588029385, 0.005521552171558142, 0.005003495141863823, 0.005363446660339832, 0.005056446418166161, 0.004759844858199358, 0.004389933776110411, 0.003965673502534628, 0.003802193095907569, 0.003954875282943249, 0.003687269054353237, 0.0035361945629119873, 0.003702994901686907, 0.003943921998143196, 0.0035685671027749777, 0.00362015119753778, 0.003849989967420697, 0.0034463866613805294, 0.0034773764200508595, 0.00352288456633687, 0.002996628638356924, 0.003087954595685005, 0.002968207001686096, 0.0027501829899847507, 0.0030091125518083572, 0.0030825408175587654, 0.002936256118118763, 0.002879898762330413, 0.00299500091932714, 0.002735632238909602, 0.0026864060200750828, 0.0027114562690258026, 0.0026469756849110126, 0.0026757624000310898, 0.0028040437027812004, 0.0025470538530498743, 0.002384471008554101, 0.0023264545015990734, 0.002098053228110075, 0.0022970023564994335, 0.002245195908471942, 0.002123629441484809, 0.0021119778975844383, 0.002097669756039977, 0.0022888637613505125, 0.002120512304827571, 0.002061766106635332, 0.00223528896458447, 0.002117724623531103, 0.002042229287326336, 0.0018645355012267828, 0.0019050397677347064, 0.002068723551928997, 0.0020370252896100283, 0.0017515001818537712, 0.0016732242656871676, 0.0019213476916775107, 0.0016721230931580067, 0.0017048297449946404, 0.0017849304713308811, 0.0017399232601746917, 0.0017238683067262173, 0.001680157263763249, 0.0016876261215656996, 0.0016416988801211119, 0.0014982935972511768, 0.0015879581915214658, 0.0016770639922469854, 0.0015838741092011333, 0.0016017237212508917, 0.001547366613522172, 0.001481949002481997, 0.001561070792376995, 0.001573513844050467, 0.0016517466865479946, 0.0016104301903396845, 0.0014574843226000667, 0.00143611675594002, 0.0015047895722091198, 0.001359091722406447, 0.001502739149145782, 0.0015365310246124864, 0.0014238030416890979, 0.0012507818173617125, 0.0014007824938744307, 0.0013266204623505473, 0.001445668749511242, 0.0013233714271336794, 0.0012489851796999574, 0.0012725398410111666, 0.001300977193750441, 0.00134175643324852, 0.0013815771089866757, 0.0012283363612368703, 0.0012284329859539866, 0.0013389689847826958, 0.0012365427101030946, 0.0013012668350711465, 0.0013607192086055875, 0.0015101644676178694, 0.0014836093178018928, 0.001279402757063508, 0.0012234851019456983, 0.0015260609798133373, 0.0013259501429274678, 0.0012668510898947716, 0.001046214485540986, 0.001270520850084722, 0.0012086204951629043, 0.001224989420734346, 0.0012338283704593778, 0.00116404565051198, 0.0010648546740412712, 0.0011849632719531655, 0.0011162093142047524, 0.0011354718590155244, 0.0012029838981106877]}, {\"line\": {\"color\": \"crimson\", \"width\": 3}, \"name\": \"val-loss\", \"type\": \"scatter\", \"x\": [1, 2, 3, 4, 5, 6, 7, 8, 9, 10, 11, 12, 13, 14, 15, 16, 17, 18, 19, 20, 21, 22, 23, 24, 25, 26, 27, 28, 29, 30, 31, 32, 33, 34, 35, 36, 37, 38, 39, 40, 41, 42, 43, 44, 45, 46, 47, 48, 49, 50, 51, 52, 53, 54, 55, 56, 57, 58, 59, 60, 61, 62, 63, 64, 65, 66, 67, 68, 69, 70, 71, 72, 73, 74, 75, 76, 77, 78, 79, 80, 81, 82, 83, 84, 85, 86, 87, 88, 89, 90, 91, 92, 93, 94, 95, 96, 97, 98, 99, 100, 101, 102, 103, 104, 105, 106, 107, 108, 109, 110, 111, 112, 113, 114, 115, 116, 117, 118, 119, 120, 121, 122, 123, 124, 125, 126, 127, 128, 129, 130], \"y\": [0.17615514993667603, 0.14649315178394318, 0.07404676824808121, 0.06162024289369583, 0.03166160732507706, 0.01847236044704914, 0.012606083415448666, 0.008194690570235252, 0.013518757186830044, 0.013325667940080166, 0.01174771599471569, 0.021702870726585388, 0.014092291705310345, 0.012007873505353928, 0.00890298467129469, 0.017244035378098488, 0.008457220159471035, 0.01631963811814785, 0.005725334398448467, 0.009752082638442516, 0.005899581592530012, 0.0058970022946596146, 0.008315053768455982, 0.0065680560655891895, 0.010168581269681454, 0.008964848704636097, 0.013855241239070892, 0.010644860565662384, 0.012079224921762943, 0.008778830990195274, 0.011236499063670635, 0.007909509353339672, 0.010855027474462986, 0.007872349582612514, 0.009660952724516392, 0.008156999945640564, 0.008266333490610123, 0.0041003418155014515, 0.004576701205223799, 0.004251090344041586, 0.004940879996865988, 0.006148127373307943, 0.007435752544552088, 0.008121115155518055, 0.007279976271092892, 0.009249209426343441, 0.007837611250579357, 0.0040517388842999935, 0.004766794852912426, 0.006060065235942602, 0.008206037804484367, 0.011297517456114292, 0.008434835821390152, 0.006885277573019266, 0.005945930723100901, 0.006014507729560137, 0.0050983731634914875, 0.004593838006258011, 0.0057648662477731705, 0.0019120585639029741, 0.006654918193817139, 0.0027413549832999706, 0.004860367625951767, 0.0024673829320818186, 0.0030520609579980373, 0.0019824448972940445, 0.005728007759898901, 0.002434405731037259, 0.0044135646894574165, 0.003433228237554431, 0.0034776953980326653, 0.004320893436670303, 0.004902882967144251, 0.002871635602787137, 0.0027802186086773872, 0.004413950257003307, 0.0016113562742248178, 0.0041905720718204975, 0.004129078239202499, 0.0022107691038399935, 0.002462780801579356, 0.0015408815816044807, 0.0026484753470867872, 0.002714955247938633, 0.002630466129630804, 0.0033477596007287502, 0.005029608029872179, 0.0074766757898032665, 0.0023254803381860256, 0.002507138531655073, 0.002590228570625186, 0.0046315621584653854, 0.0019266848685219884, 0.0024735648185014725, 0.001403167494572699, 0.00226365658454597, 0.003510493552312255, 0.0024087983183562756, 0.0014560382114723325, 0.001634937128983438, 0.002871071919798851, 0.001515181502327323, 0.001811773981899023, 0.0016594402259215713, 0.001108494121581316, 0.0015461459988728166, 0.0021673075389117002, 0.0022668903693556786, 0.0028914392460137606, 0.0009914471302181482, 0.001856977236457169, 0.0019240359542891383, 0.004118533805012703, 0.005691154859960079, 0.001855674316175282, 0.0016452526906505227, 0.0016239258693531156, 0.002583299996331334, 0.0025847209617495537, 0.0027852363418787718, 0.004397669807076454, 0.0030149156227707863, 0.002291608601808548, 0.0021980279125273228, 0.0020932748448103666, 0.002013967139646411, 0.0016729680355638266, 0.0019467310048639774, 0.0013990841107442975, 0.006107588764280081]}],\n",
              "                        {\"height\": 500, \"template\": {\"data\": {\"bar\": [{\"error_x\": {\"color\": \"#2a3f5f\"}, \"error_y\": {\"color\": \"#2a3f5f\"}, \"marker\": {\"line\": {\"color\": \"white\", \"width\": 0.5}}, \"type\": \"bar\"}], \"barpolar\": [{\"marker\": {\"line\": {\"color\": \"white\", \"width\": 0.5}}, \"type\": \"barpolar\"}], \"carpet\": [{\"aaxis\": {\"endlinecolor\": \"#2a3f5f\", \"gridcolor\": \"#C8D4E3\", \"linecolor\": \"#C8D4E3\", \"minorgridcolor\": \"#C8D4E3\", \"startlinecolor\": \"#2a3f5f\"}, \"baxis\": {\"endlinecolor\": \"#2a3f5f\", \"gridcolor\": \"#C8D4E3\", \"linecolor\": \"#C8D4E3\", \"minorgridcolor\": \"#C8D4E3\", \"startlinecolor\": \"#2a3f5f\"}, \"type\": \"carpet\"}], \"choropleth\": [{\"colorbar\": {\"outlinewidth\": 0, \"ticks\": \"\"}, \"type\": \"choropleth\"}], \"contour\": [{\"colorbar\": {\"outlinewidth\": 0, \"ticks\": \"\"}, \"colorscale\": [[0.0, \"#0d0887\"], [0.1111111111111111, \"#46039f\"], [0.2222222222222222, \"#7201a8\"], [0.3333333333333333, \"#9c179e\"], [0.4444444444444444, \"#bd3786\"], [0.5555555555555556, \"#d8576b\"], [0.6666666666666666, \"#ed7953\"], [0.7777777777777778, \"#fb9f3a\"], [0.8888888888888888, \"#fdca26\"], [1.0, \"#f0f921\"]], \"type\": \"contour\"}], \"contourcarpet\": [{\"colorbar\": {\"outlinewidth\": 0, \"ticks\": \"\"}, \"type\": \"contourcarpet\"}], \"heatmap\": [{\"colorbar\": {\"outlinewidth\": 0, \"ticks\": \"\"}, \"colorscale\": [[0.0, \"#0d0887\"], [0.1111111111111111, \"#46039f\"], [0.2222222222222222, \"#7201a8\"], [0.3333333333333333, \"#9c179e\"], [0.4444444444444444, \"#bd3786\"], [0.5555555555555556, \"#d8576b\"], [0.6666666666666666, \"#ed7953\"], [0.7777777777777778, \"#fb9f3a\"], [0.8888888888888888, \"#fdca26\"], [1.0, \"#f0f921\"]], \"type\": \"heatmap\"}], \"heatmapgl\": [{\"colorbar\": {\"outlinewidth\": 0, \"ticks\": \"\"}, \"colorscale\": [[0.0, \"#0d0887\"], [0.1111111111111111, \"#46039f\"], [0.2222222222222222, \"#7201a8\"], [0.3333333333333333, \"#9c179e\"], [0.4444444444444444, \"#bd3786\"], [0.5555555555555556, \"#d8576b\"], [0.6666666666666666, \"#ed7953\"], [0.7777777777777778, \"#fb9f3a\"], [0.8888888888888888, \"#fdca26\"], [1.0, \"#f0f921\"]], \"type\": \"heatmapgl\"}], \"histogram\": [{\"marker\": {\"colorbar\": {\"outlinewidth\": 0, \"ticks\": \"\"}}, \"type\": \"histogram\"}], \"histogram2d\": [{\"colorbar\": {\"outlinewidth\": 0, \"ticks\": \"\"}, \"colorscale\": [[0.0, \"#0d0887\"], [0.1111111111111111, \"#46039f\"], [0.2222222222222222, \"#7201a8\"], [0.3333333333333333, \"#9c179e\"], [0.4444444444444444, \"#bd3786\"], [0.5555555555555556, \"#d8576b\"], [0.6666666666666666, \"#ed7953\"], [0.7777777777777778, \"#fb9f3a\"], [0.8888888888888888, \"#fdca26\"], [1.0, \"#f0f921\"]], \"type\": \"histogram2d\"}], \"histogram2dcontour\": [{\"colorbar\": {\"outlinewidth\": 0, \"ticks\": \"\"}, \"colorscale\": [[0.0, \"#0d0887\"], [0.1111111111111111, \"#46039f\"], [0.2222222222222222, \"#7201a8\"], [0.3333333333333333, \"#9c179e\"], [0.4444444444444444, \"#bd3786\"], [0.5555555555555556, \"#d8576b\"], [0.6666666666666666, \"#ed7953\"], [0.7777777777777778, \"#fb9f3a\"], [0.8888888888888888, \"#fdca26\"], [1.0, \"#f0f921\"]], \"type\": \"histogram2dcontour\"}], \"mesh3d\": [{\"colorbar\": {\"outlinewidth\": 0, \"ticks\": \"\"}, \"type\": \"mesh3d\"}], \"parcoords\": [{\"line\": {\"colorbar\": {\"outlinewidth\": 0, \"ticks\": \"\"}}, \"type\": \"parcoords\"}], \"pie\": [{\"automargin\": true, \"type\": \"pie\"}], \"scatter\": [{\"marker\": {\"colorbar\": {\"outlinewidth\": 0, \"ticks\": \"\"}}, \"type\": \"scatter\"}], \"scatter3d\": [{\"line\": {\"colorbar\": {\"outlinewidth\": 0, \"ticks\": \"\"}}, \"marker\": {\"colorbar\": {\"outlinewidth\": 0, \"ticks\": \"\"}}, \"type\": \"scatter3d\"}], \"scattercarpet\": [{\"marker\": {\"colorbar\": {\"outlinewidth\": 0, \"ticks\": \"\"}}, \"type\": \"scattercarpet\"}], \"scattergeo\": [{\"marker\": {\"colorbar\": {\"outlinewidth\": 0, \"ticks\": \"\"}}, \"type\": \"scattergeo\"}], \"scattergl\": [{\"marker\": {\"colorbar\": {\"outlinewidth\": 0, \"ticks\": \"\"}}, \"type\": \"scattergl\"}], \"scattermapbox\": [{\"marker\": {\"colorbar\": {\"outlinewidth\": 0, \"ticks\": \"\"}}, \"type\": \"scattermapbox\"}], \"scatterpolar\": [{\"marker\": {\"colorbar\": {\"outlinewidth\": 0, \"ticks\": \"\"}}, \"type\": \"scatterpolar\"}], \"scatterpolargl\": [{\"marker\": {\"colorbar\": {\"outlinewidth\": 0, \"ticks\": \"\"}}, \"type\": \"scatterpolargl\"}], \"scatterternary\": [{\"marker\": {\"colorbar\": {\"outlinewidth\": 0, \"ticks\": \"\"}}, \"type\": \"scatterternary\"}], \"surface\": [{\"colorbar\": {\"outlinewidth\": 0, \"ticks\": \"\"}, \"colorscale\": [[0.0, \"#0d0887\"], [0.1111111111111111, \"#46039f\"], [0.2222222222222222, \"#7201a8\"], [0.3333333333333333, \"#9c179e\"], [0.4444444444444444, \"#bd3786\"], [0.5555555555555556, \"#d8576b\"], [0.6666666666666666, \"#ed7953\"], [0.7777777777777778, \"#fb9f3a\"], [0.8888888888888888, \"#fdca26\"], [1.0, \"#f0f921\"]], \"type\": \"surface\"}], \"table\": [{\"cells\": {\"fill\": {\"color\": \"#EBF0F8\"}, \"line\": {\"color\": \"white\"}}, \"header\": {\"fill\": {\"color\": \"#C8D4E3\"}, \"line\": {\"color\": \"white\"}}, \"type\": \"table\"}]}, \"layout\": {\"annotationdefaults\": {\"arrowcolor\": \"#2a3f5f\", \"arrowhead\": 0, \"arrowwidth\": 1}, \"coloraxis\": {\"colorbar\": {\"outlinewidth\": 0, \"ticks\": \"\"}}, \"colorscale\": {\"diverging\": [[0, \"#8e0152\"], [0.1, \"#c51b7d\"], [0.2, \"#de77ae\"], [0.3, \"#f1b6da\"], [0.4, \"#fde0ef\"], [0.5, \"#f7f7f7\"], [0.6, \"#e6f5d0\"], [0.7, \"#b8e186\"], [0.8, \"#7fbc41\"], [0.9, \"#4d9221\"], [1, \"#276419\"]], \"sequential\": [[0.0, \"#0d0887\"], [0.1111111111111111, \"#46039f\"], [0.2222222222222222, \"#7201a8\"], [0.3333333333333333, \"#9c179e\"], [0.4444444444444444, \"#bd3786\"], [0.5555555555555556, \"#d8576b\"], [0.6666666666666666, \"#ed7953\"], [0.7777777777777778, \"#fb9f3a\"], [0.8888888888888888, \"#fdca26\"], [1.0, \"#f0f921\"]], \"sequentialminus\": [[0.0, \"#0d0887\"], [0.1111111111111111, \"#46039f\"], [0.2222222222222222, \"#7201a8\"], [0.3333333333333333, \"#9c179e\"], [0.4444444444444444, \"#bd3786\"], [0.5555555555555556, \"#d8576b\"], [0.6666666666666666, \"#ed7953\"], [0.7777777777777778, \"#fb9f3a\"], [0.8888888888888888, \"#fdca26\"], [1.0, \"#f0f921\"]]}, \"colorway\": [\"#636efa\", \"#EF553B\", \"#00cc96\", \"#ab63fa\", \"#FFA15A\", \"#19d3f3\", \"#FF6692\", \"#B6E880\", \"#FF97FF\", \"#FECB52\"], \"font\": {\"color\": \"#2a3f5f\"}, \"geo\": {\"bgcolor\": \"white\", \"lakecolor\": \"white\", \"landcolor\": \"white\", \"showlakes\": true, \"showland\": true, \"subunitcolor\": \"#C8D4E3\"}, \"hoverlabel\": {\"align\": \"left\"}, \"hovermode\": \"closest\", \"mapbox\": {\"style\": \"light\"}, \"paper_bgcolor\": \"white\", \"plot_bgcolor\": \"white\", \"polar\": {\"angularaxis\": {\"gridcolor\": \"#EBF0F8\", \"linecolor\": \"#EBF0F8\", \"ticks\": \"\"}, \"bgcolor\": \"white\", \"radialaxis\": {\"gridcolor\": \"#EBF0F8\", \"linecolor\": \"#EBF0F8\", \"ticks\": \"\"}}, \"scene\": {\"xaxis\": {\"backgroundcolor\": \"white\", \"gridcolor\": \"#DFE8F3\", \"gridwidth\": 2, \"linecolor\": \"#EBF0F8\", \"showbackground\": true, \"ticks\": \"\", \"zerolinecolor\": \"#EBF0F8\"}, \"yaxis\": {\"backgroundcolor\": \"white\", \"gridcolor\": \"#DFE8F3\", \"gridwidth\": 2, \"linecolor\": \"#EBF0F8\", \"showbackground\": true, \"ticks\": \"\", \"zerolinecolor\": \"#EBF0F8\"}, \"zaxis\": {\"backgroundcolor\": \"white\", \"gridcolor\": \"#DFE8F3\", \"gridwidth\": 2, \"linecolor\": \"#EBF0F8\", \"showbackground\": true, \"ticks\": \"\", \"zerolinecolor\": \"#EBF0F8\"}}, \"shapedefaults\": {\"line\": {\"color\": \"#2a3f5f\"}}, \"ternary\": {\"aaxis\": {\"gridcolor\": \"#DFE8F3\", \"linecolor\": \"#A2B1C6\", \"ticks\": \"\"}, \"baxis\": {\"gridcolor\": \"#DFE8F3\", \"linecolor\": \"#A2B1C6\", \"ticks\": \"\"}, \"bgcolor\": \"white\", \"caxis\": {\"gridcolor\": \"#DFE8F3\", \"linecolor\": \"#A2B1C6\", \"ticks\": \"\"}}, \"title\": {\"x\": 0.05}, \"xaxis\": {\"automargin\": true, \"gridcolor\": \"#EBF0F8\", \"linecolor\": \"#EBF0F8\", \"ticks\": \"\", \"title\": {\"standoff\": 15}, \"zerolinecolor\": \"#EBF0F8\", \"zerolinewidth\": 2}, \"yaxis\": {\"automargin\": true, \"gridcolor\": \"#EBF0F8\", \"linecolor\": \"#EBF0F8\", \"ticks\": \"\", \"title\": {\"standoff\": 15}, \"zerolinecolor\": \"#EBF0F8\", \"zerolinewidth\": 2}}}, \"title\": {\"text\": \"Training Metrics\"}, \"width\": 700, \"xaxis\": {\"title\": {\"text\": \"epochs\"}}, \"yaxis\": {\"title\": {\"text\": \"loss\"}}},\n",
              "                        {\"responsive\": true}\n",
              "                    ).then(function(){\n",
              "                            \n",
              "var gd = document.getElementById('3d6b530b-4e3a-453a-87e7-97be04fccbd4');\n",
              "var x = new MutationObserver(function (mutations, observer) {{\n",
              "        var display = window.getComputedStyle(gd).display;\n",
              "        if (!display || display === 'none') {{\n",
              "            console.log([gd, 'removed!']);\n",
              "            Plotly.purge(gd);\n",
              "            observer.disconnect();\n",
              "        }}\n",
              "}});\n",
              "\n",
              "// Listen for the removal of the full notebook cells\n",
              "var notebookContainer = gd.closest('#notebook-container');\n",
              "if (notebookContainer) {{\n",
              "    x.observe(notebookContainer, {childList: true});\n",
              "}}\n",
              "\n",
              "// Listen for the clearing of the current output cell\n",
              "var outputEl = gd.closest('.output');\n",
              "if (outputEl) {{\n",
              "    x.observe(outputEl, {childList: true});\n",
              "}}\n",
              "\n",
              "                        })\n",
              "                };\n",
              "                \n",
              "            </script>\n",
              "        </div>\n",
              "</body>\n",
              "</html>"
            ]
          },
          "metadata": {}
        },
        {
          "output_type": "display_data",
          "data": {
            "text/html": [
              "<html>\n",
              "<head><meta charset=\"utf-8\" /></head>\n",
              "<body>\n",
              "    <div>\n",
              "            <script src=\"https://cdnjs.cloudflare.com/ajax/libs/mathjax/2.7.5/MathJax.js?config=TeX-AMS-MML_SVG\"></script><script type=\"text/javascript\">if (window.MathJax) {MathJax.Hub.Config({SVG: {font: \"STIX-Web\"}});}</script>\n",
              "                <script type=\"text/javascript\">window.PlotlyConfig = {MathJaxConfig: 'local'};</script>\n",
              "        <script src=\"https://cdn.plot.ly/plotly-latest.min.js\"></script>    \n",
              "            <div id=\"2af6f2c5-e836-4d46-a62c-35937c34fe3d\" class=\"plotly-graph-div\" style=\"height:400px; width:600px;\"></div>\n",
              "            <script type=\"text/javascript\">\n",
              "                \n",
              "                    window.PLOTLYENV=window.PLOTLYENV || {};\n",
              "                    \n",
              "                if (document.getElementById(\"2af6f2c5-e836-4d46-a62c-35937c34fe3d\")) {\n",
              "                    Plotly.newPlot(\n",
              "                        '2af6f2c5-e836-4d46-a62c-35937c34fe3d',\n",
              "                        [{\"fill\": \"tozeroy\", \"line\": {\"color\": \"#ccc\"}, \"mode\": \"lines\", \"name\": \"Test Data\", \"type\": \"scatter\", \"x\": [93, 94, 95, 96, 97, 98, 99, 100, 101, 102, 103, 104, 105, 106, 107, 108, 109, 110, 111, 112, 113, 114, 115, 116, 117, 118, 119, 120, 121, 122, 123, 124, 125, 126, 127, 128, 129, 130, 131, 132], \"y\": [10.514040857292054, 10.477659737337413, 10.485600094450746, 10.42087529840576, 10.415736462948972, 10.529106413629064, 10.509870234720319, 10.527605610952074, 10.478586005896817, 10.571844221963795, 10.609459394447178, 10.600229265018621, 10.55448399159909, 10.547785029654214, 10.486257208826391, 10.476829278728948, 10.480105411212044, 10.361194954589283, 10.389289478909223, 10.424602162676319, 10.453430711055768, 10.360420189852075, 10.382316189101887, 10.454504764157841, 10.448566476107173, 10.488819262055246, 10.464388228934425, 10.419440708014072, 10.427818073282275, 10.45360494462323, 10.471256016907827, 10.424960491927731, 10.44056583967291, 10.430052264477302, 10.40048936620503, 10.428683723588778, 10.419386385785343, 10.441704290999889, 10.406884552272023, 10.396040340278358]}, {\"fill\": \"tozeroy\", \"line\": {\"color\": \"#ccc\"}, \"mode\": \"lines+markers\", \"name\": \"Actual Price\", \"type\": \"scatter\", \"x\": [133, 134, 135, 136, 137], \"y\": [10.514040857292054, 10.477659737337413, 10.485600094450746, 10.42087529840576, 10.415736462948972]}, {\"line\": {\"color\": \"red\"}, \"mode\": \"lines+markers\", \"name\": \"Predicted Price\", \"type\": \"scatter\", \"x\": [133, 134, 135, 136, 137], \"y\": [10.063397407531738, 10.070898056030273, 10.091297149658203, 10.096734046936035, 10.101543426513672]}],\n",
              "                        {\"height\": 400, \"template\": {\"data\": {\"bar\": [{\"error_x\": {\"color\": \"#2a3f5f\"}, \"error_y\": {\"color\": \"#2a3f5f\"}, \"marker\": {\"line\": {\"color\": \"white\", \"width\": 0.5}}, \"type\": \"bar\"}], \"barpolar\": [{\"marker\": {\"line\": {\"color\": \"white\", \"width\": 0.5}}, \"type\": \"barpolar\"}], \"carpet\": [{\"aaxis\": {\"endlinecolor\": \"#2a3f5f\", \"gridcolor\": \"#C8D4E3\", \"linecolor\": \"#C8D4E3\", \"minorgridcolor\": \"#C8D4E3\", \"startlinecolor\": \"#2a3f5f\"}, \"baxis\": {\"endlinecolor\": \"#2a3f5f\", \"gridcolor\": \"#C8D4E3\", \"linecolor\": \"#C8D4E3\", \"minorgridcolor\": \"#C8D4E3\", \"startlinecolor\": \"#2a3f5f\"}, \"type\": \"carpet\"}], \"choropleth\": [{\"colorbar\": {\"outlinewidth\": 0, \"ticks\": \"\"}, \"type\": \"choropleth\"}], \"contour\": [{\"colorbar\": {\"outlinewidth\": 0, \"ticks\": \"\"}, \"colorscale\": [[0.0, \"#0d0887\"], [0.1111111111111111, \"#46039f\"], [0.2222222222222222, \"#7201a8\"], [0.3333333333333333, \"#9c179e\"], [0.4444444444444444, \"#bd3786\"], [0.5555555555555556, \"#d8576b\"], [0.6666666666666666, \"#ed7953\"], [0.7777777777777778, \"#fb9f3a\"], [0.8888888888888888, \"#fdca26\"], [1.0, \"#f0f921\"]], \"type\": \"contour\"}], \"contourcarpet\": [{\"colorbar\": {\"outlinewidth\": 0, \"ticks\": \"\"}, \"type\": \"contourcarpet\"}], \"heatmap\": [{\"colorbar\": {\"outlinewidth\": 0, \"ticks\": \"\"}, \"colorscale\": [[0.0, \"#0d0887\"], [0.1111111111111111, \"#46039f\"], [0.2222222222222222, \"#7201a8\"], [0.3333333333333333, \"#9c179e\"], [0.4444444444444444, \"#bd3786\"], [0.5555555555555556, \"#d8576b\"], [0.6666666666666666, \"#ed7953\"], [0.7777777777777778, \"#fb9f3a\"], [0.8888888888888888, \"#fdca26\"], [1.0, \"#f0f921\"]], \"type\": \"heatmap\"}], \"heatmapgl\": [{\"colorbar\": {\"outlinewidth\": 0, \"ticks\": \"\"}, \"colorscale\": [[0.0, \"#0d0887\"], [0.1111111111111111, \"#46039f\"], [0.2222222222222222, \"#7201a8\"], [0.3333333333333333, \"#9c179e\"], [0.4444444444444444, \"#bd3786\"], [0.5555555555555556, \"#d8576b\"], [0.6666666666666666, \"#ed7953\"], [0.7777777777777778, \"#fb9f3a\"], [0.8888888888888888, \"#fdca26\"], [1.0, \"#f0f921\"]], \"type\": \"heatmapgl\"}], \"histogram\": [{\"marker\": {\"colorbar\": {\"outlinewidth\": 0, \"ticks\": \"\"}}, \"type\": \"histogram\"}], \"histogram2d\": [{\"colorbar\": {\"outlinewidth\": 0, \"ticks\": \"\"}, \"colorscale\": [[0.0, \"#0d0887\"], [0.1111111111111111, \"#46039f\"], [0.2222222222222222, \"#7201a8\"], [0.3333333333333333, \"#9c179e\"], [0.4444444444444444, \"#bd3786\"], [0.5555555555555556, \"#d8576b\"], [0.6666666666666666, \"#ed7953\"], [0.7777777777777778, \"#fb9f3a\"], [0.8888888888888888, \"#fdca26\"], [1.0, \"#f0f921\"]], \"type\": \"histogram2d\"}], \"histogram2dcontour\": [{\"colorbar\": {\"outlinewidth\": 0, \"ticks\": \"\"}, \"colorscale\": [[0.0, \"#0d0887\"], [0.1111111111111111, \"#46039f\"], [0.2222222222222222, \"#7201a8\"], [0.3333333333333333, \"#9c179e\"], [0.4444444444444444, \"#bd3786\"], [0.5555555555555556, \"#d8576b\"], [0.6666666666666666, \"#ed7953\"], [0.7777777777777778, \"#fb9f3a\"], [0.8888888888888888, \"#fdca26\"], [1.0, \"#f0f921\"]], \"type\": \"histogram2dcontour\"}], \"mesh3d\": [{\"colorbar\": {\"outlinewidth\": 0, \"ticks\": \"\"}, \"type\": \"mesh3d\"}], \"parcoords\": [{\"line\": {\"colorbar\": {\"outlinewidth\": 0, \"ticks\": \"\"}}, \"type\": \"parcoords\"}], \"pie\": [{\"automargin\": true, \"type\": \"pie\"}], \"scatter\": [{\"marker\": {\"colorbar\": {\"outlinewidth\": 0, \"ticks\": \"\"}}, \"type\": \"scatter\"}], \"scatter3d\": [{\"line\": {\"colorbar\": {\"outlinewidth\": 0, \"ticks\": \"\"}}, \"marker\": {\"colorbar\": {\"outlinewidth\": 0, \"ticks\": \"\"}}, \"type\": \"scatter3d\"}], \"scattercarpet\": [{\"marker\": {\"colorbar\": {\"outlinewidth\": 0, \"ticks\": \"\"}}, \"type\": \"scattercarpet\"}], \"scattergeo\": [{\"marker\": {\"colorbar\": {\"outlinewidth\": 0, \"ticks\": \"\"}}, \"type\": \"scattergeo\"}], \"scattergl\": [{\"marker\": {\"colorbar\": {\"outlinewidth\": 0, \"ticks\": \"\"}}, \"type\": \"scattergl\"}], \"scattermapbox\": [{\"marker\": {\"colorbar\": {\"outlinewidth\": 0, \"ticks\": \"\"}}, \"type\": \"scattermapbox\"}], \"scatterpolar\": [{\"marker\": {\"colorbar\": {\"outlinewidth\": 0, \"ticks\": \"\"}}, \"type\": \"scatterpolar\"}], \"scatterpolargl\": [{\"marker\": {\"colorbar\": {\"outlinewidth\": 0, \"ticks\": \"\"}}, \"type\": \"scatterpolargl\"}], \"scatterternary\": [{\"marker\": {\"colorbar\": {\"outlinewidth\": 0, \"ticks\": \"\"}}, \"type\": \"scatterternary\"}], \"surface\": [{\"colorbar\": {\"outlinewidth\": 0, \"ticks\": \"\"}, \"colorscale\": [[0.0, \"#0d0887\"], [0.1111111111111111, \"#46039f\"], [0.2222222222222222, \"#7201a8\"], [0.3333333333333333, \"#9c179e\"], [0.4444444444444444, \"#bd3786\"], [0.5555555555555556, \"#d8576b\"], [0.6666666666666666, \"#ed7953\"], [0.7777777777777778, \"#fb9f3a\"], [0.8888888888888888, \"#fdca26\"], [1.0, \"#f0f921\"]], \"type\": \"surface\"}], \"table\": [{\"cells\": {\"fill\": {\"color\": \"#EBF0F8\"}, \"line\": {\"color\": \"white\"}}, \"header\": {\"fill\": {\"color\": \"#C8D4E3\"}, \"line\": {\"color\": \"white\"}}, \"type\": \"table\"}]}, \"layout\": {\"annotationdefaults\": {\"arrowcolor\": \"#2a3f5f\", \"arrowhead\": 0, \"arrowwidth\": 1}, \"coloraxis\": {\"colorbar\": {\"outlinewidth\": 0, \"ticks\": \"\"}}, \"colorscale\": {\"diverging\": [[0, \"#8e0152\"], [0.1, \"#c51b7d\"], [0.2, \"#de77ae\"], [0.3, \"#f1b6da\"], [0.4, \"#fde0ef\"], [0.5, \"#f7f7f7\"], [0.6, \"#e6f5d0\"], [0.7, \"#b8e186\"], [0.8, \"#7fbc41\"], [0.9, \"#4d9221\"], [1, \"#276419\"]], \"sequential\": [[0.0, \"#0d0887\"], [0.1111111111111111, \"#46039f\"], [0.2222222222222222, \"#7201a8\"], [0.3333333333333333, \"#9c179e\"], [0.4444444444444444, \"#bd3786\"], [0.5555555555555556, \"#d8576b\"], [0.6666666666666666, \"#ed7953\"], [0.7777777777777778, \"#fb9f3a\"], [0.8888888888888888, \"#fdca26\"], [1.0, \"#f0f921\"]], \"sequentialminus\": [[0.0, \"#0d0887\"], [0.1111111111111111, \"#46039f\"], [0.2222222222222222, \"#7201a8\"], [0.3333333333333333, \"#9c179e\"], [0.4444444444444444, \"#bd3786\"], [0.5555555555555556, \"#d8576b\"], [0.6666666666666666, \"#ed7953\"], [0.7777777777777778, \"#fb9f3a\"], [0.8888888888888888, \"#fdca26\"], [1.0, \"#f0f921\"]]}, \"colorway\": [\"#636efa\", \"#EF553B\", \"#00cc96\", \"#ab63fa\", \"#FFA15A\", \"#19d3f3\", \"#FF6692\", \"#B6E880\", \"#FF97FF\", \"#FECB52\"], \"font\": {\"color\": \"#2a3f5f\"}, \"geo\": {\"bgcolor\": \"white\", \"lakecolor\": \"white\", \"landcolor\": \"white\", \"showlakes\": true, \"showland\": true, \"subunitcolor\": \"#C8D4E3\"}, \"hoverlabel\": {\"align\": \"left\"}, \"hovermode\": \"closest\", \"mapbox\": {\"style\": \"light\"}, \"paper_bgcolor\": \"white\", \"plot_bgcolor\": \"white\", \"polar\": {\"angularaxis\": {\"gridcolor\": \"#EBF0F8\", \"linecolor\": \"#EBF0F8\", \"ticks\": \"\"}, \"bgcolor\": \"white\", \"radialaxis\": {\"gridcolor\": \"#EBF0F8\", \"linecolor\": \"#EBF0F8\", \"ticks\": \"\"}}, \"scene\": {\"xaxis\": {\"backgroundcolor\": \"white\", \"gridcolor\": \"#DFE8F3\", \"gridwidth\": 2, \"linecolor\": \"#EBF0F8\", \"showbackground\": true, \"ticks\": \"\", \"zerolinecolor\": \"#EBF0F8\"}, \"yaxis\": {\"backgroundcolor\": \"white\", \"gridcolor\": \"#DFE8F3\", \"gridwidth\": 2, \"linecolor\": \"#EBF0F8\", \"showbackground\": true, \"ticks\": \"\", \"zerolinecolor\": \"#EBF0F8\"}, \"zaxis\": {\"backgroundcolor\": \"white\", \"gridcolor\": \"#DFE8F3\", \"gridwidth\": 2, \"linecolor\": \"#EBF0F8\", \"showbackground\": true, \"ticks\": \"\", \"zerolinecolor\": \"#EBF0F8\"}}, \"shapedefaults\": {\"line\": {\"color\": \"#2a3f5f\"}}, \"ternary\": {\"aaxis\": {\"gridcolor\": \"#DFE8F3\", \"linecolor\": \"#A2B1C6\", \"ticks\": \"\"}, \"baxis\": {\"gridcolor\": \"#DFE8F3\", \"linecolor\": \"#A2B1C6\", \"ticks\": \"\"}, \"bgcolor\": \"white\", \"caxis\": {\"gridcolor\": \"#DFE8F3\", \"linecolor\": \"#A2B1C6\", \"ticks\": \"\"}}, \"title\": {\"x\": 0.05}, \"xaxis\": {\"automargin\": true, \"gridcolor\": \"#EBF0F8\", \"linecolor\": \"#EBF0F8\", \"ticks\": \"\", \"title\": {\"standoff\": 15}, \"zerolinecolor\": \"#EBF0F8\", \"zerolinewidth\": 2}, \"yaxis\": {\"automargin\": true, \"gridcolor\": \"#EBF0F8\", \"linecolor\": \"#EBF0F8\", \"ticks\": \"\", \"title\": {\"standoff\": 15}, \"zerolinecolor\": \"#EBF0F8\", \"zerolinewidth\": 2}}}, \"title\": {\"text\": \"Actual vs Predicted Price\"}, \"width\": 600, \"xaxis\": {\"title\": {\"text\": \"Batch\"}}, \"yaxis\": {\"title\": {\"text\": \"Price\"}}},\n",
              "                        {\"responsive\": true}\n",
              "                    ).then(function(){\n",
              "                            \n",
              "var gd = document.getElementById('2af6f2c5-e836-4d46-a62c-35937c34fe3d');\n",
              "var x = new MutationObserver(function (mutations, observer) {{\n",
              "        var display = window.getComputedStyle(gd).display;\n",
              "        if (!display || display === 'none') {{\n",
              "            console.log([gd, 'removed!']);\n",
              "            Plotly.purge(gd);\n",
              "            observer.disconnect();\n",
              "        }}\n",
              "}});\n",
              "\n",
              "// Listen for the removal of the full notebook cells\n",
              "var notebookContainer = gd.closest('#notebook-container');\n",
              "if (notebookContainer) {{\n",
              "    x.observe(notebookContainer, {childList: true});\n",
              "}}\n",
              "\n",
              "// Listen for the clearing of the current output cell\n",
              "var outputEl = gd.closest('.output');\n",
              "if (outputEl) {{\n",
              "    x.observe(outputEl, {childList: true});\n",
              "}}\n",
              "\n",
              "                        })\n",
              "                };\n",
              "                \n",
              "            </script>\n",
              "        </div>\n",
              "</body>\n",
              "</html>"
            ]
          },
          "metadata": {}
        },
        {
          "output_type": "display_data",
          "data": {
            "text/html": [
              "<html>\n",
              "<head><meta charset=\"utf-8\" /></head>\n",
              "<body>\n",
              "    <div>\n",
              "            <script src=\"https://cdnjs.cloudflare.com/ajax/libs/mathjax/2.7.5/MathJax.js?config=TeX-AMS-MML_SVG\"></script><script type=\"text/javascript\">if (window.MathJax) {MathJax.Hub.Config({SVG: {font: \"STIX-Web\"}});}</script>\n",
              "                <script type=\"text/javascript\">window.PlotlyConfig = {MathJaxConfig: 'local'};</script>\n",
              "        <script src=\"https://cdn.plot.ly/plotly-latest.min.js\"></script>    \n",
              "            <div id=\"be98dec7-6b91-4640-916f-3e5c0b2a311f\" class=\"plotly-graph-div\" style=\"height:400px; width:600px;\"></div>\n",
              "            <script type=\"text/javascript\">\n",
              "                \n",
              "                    window.PLOTLYENV=window.PLOTLYENV || {};\n",
              "                    \n",
              "                if (document.getElementById(\"be98dec7-6b91-4640-916f-3e5c0b2a311f\")) {\n",
              "                    Plotly.newPlot(\n",
              "                        'be98dec7-6b91-4640-916f-3e5c0b2a311f',\n",
              "                        [{\"fill\": \"tozeroy\", \"line\": {\"color\": \"#ccc\"}, \"mode\": \"lines\", \"name\": \"Test Data\", \"type\": \"scatter\", \"x\": [53, 54, 55, 56, 57, 58, 59, 60, 61, 62, 63, 64, 65, 66, 67, 68, 69, 70, 71, 72, 73, 74, 75, 76, 77, 78, 79, 80, 81, 82, 83, 84, 85, 86, 87, 88, 89, 90, 91, 92], \"y\": [10.800937302584847, 10.896765065955865, 10.915306076898887, 10.912288548105277, 10.88846444219873, 10.962913140805849, 10.964750456024063, 10.943379207734395, 10.953773894269311, 10.881813863299643, 10.958428478587585, 10.940112374469736, 10.9563132866797, 10.982951849587357, 10.97234210584348, 10.929818353857291, 10.945000602084018, 10.81237736504424, 10.813175936801388, 10.816602246136052, 10.752847357083192, 10.745733387190374, 10.681390317698114, 10.665455789823714, 10.510261970330783, 10.609714814631426, 10.525461182083475, 10.530754779306559, 10.453204508292304, 10.566079902482919, 10.553850397777254, 10.57750058731633, 10.559191918544023, 10.481882755388813, 10.451757793900292, 10.481259515068833, 10.525509500456465, 10.510343732936374, 10.53392600353503, 10.577624936426616]}, {\"fill\": \"tozeroy\", \"line\": {\"color\": \"#ccc\"}, \"mode\": \"lines+markers\", \"name\": \"Actual Price\", \"type\": \"scatter\", \"x\": [93, 94, 95, 96, 97], \"y\": [10.800937302584847, 10.896765065955865, 10.915306076898887, 10.912288548105277, 10.88846444219873]}, {\"line\": {\"color\": \"red\"}, \"mode\": \"lines+markers\", \"name\": \"Predicted Price\", \"type\": \"scatter\", \"x\": [93, 94, 95, 96, 97], \"y\": [10.152375221252441, 10.159567832946777, 10.185381889343262, 10.190038681030273, 10.200319290161133]}],\n",
              "                        {\"height\": 400, \"template\": {\"data\": {\"bar\": [{\"error_x\": {\"color\": \"#2a3f5f\"}, \"error_y\": {\"color\": \"#2a3f5f\"}, \"marker\": {\"line\": {\"color\": \"white\", \"width\": 0.5}}, \"type\": \"bar\"}], \"barpolar\": [{\"marker\": {\"line\": {\"color\": \"white\", \"width\": 0.5}}, \"type\": \"barpolar\"}], \"carpet\": [{\"aaxis\": {\"endlinecolor\": \"#2a3f5f\", \"gridcolor\": \"#C8D4E3\", \"linecolor\": \"#C8D4E3\", \"minorgridcolor\": \"#C8D4E3\", \"startlinecolor\": \"#2a3f5f\"}, \"baxis\": {\"endlinecolor\": \"#2a3f5f\", \"gridcolor\": \"#C8D4E3\", \"linecolor\": \"#C8D4E3\", \"minorgridcolor\": \"#C8D4E3\", \"startlinecolor\": \"#2a3f5f\"}, \"type\": \"carpet\"}], \"choropleth\": [{\"colorbar\": {\"outlinewidth\": 0, \"ticks\": \"\"}, \"type\": \"choropleth\"}], \"contour\": [{\"colorbar\": {\"outlinewidth\": 0, \"ticks\": \"\"}, \"colorscale\": [[0.0, \"#0d0887\"], [0.1111111111111111, \"#46039f\"], [0.2222222222222222, \"#7201a8\"], [0.3333333333333333, \"#9c179e\"], [0.4444444444444444, \"#bd3786\"], [0.5555555555555556, \"#d8576b\"], [0.6666666666666666, \"#ed7953\"], [0.7777777777777778, \"#fb9f3a\"], [0.8888888888888888, \"#fdca26\"], [1.0, \"#f0f921\"]], \"type\": \"contour\"}], \"contourcarpet\": [{\"colorbar\": {\"outlinewidth\": 0, \"ticks\": \"\"}, \"type\": \"contourcarpet\"}], \"heatmap\": [{\"colorbar\": {\"outlinewidth\": 0, \"ticks\": \"\"}, \"colorscale\": [[0.0, \"#0d0887\"], [0.1111111111111111, \"#46039f\"], [0.2222222222222222, \"#7201a8\"], [0.3333333333333333, \"#9c179e\"], [0.4444444444444444, \"#bd3786\"], [0.5555555555555556, \"#d8576b\"], [0.6666666666666666, \"#ed7953\"], [0.7777777777777778, \"#fb9f3a\"], [0.8888888888888888, \"#fdca26\"], [1.0, \"#f0f921\"]], \"type\": \"heatmap\"}], \"heatmapgl\": [{\"colorbar\": {\"outlinewidth\": 0, \"ticks\": \"\"}, \"colorscale\": [[0.0, \"#0d0887\"], [0.1111111111111111, \"#46039f\"], [0.2222222222222222, \"#7201a8\"], [0.3333333333333333, \"#9c179e\"], [0.4444444444444444, \"#bd3786\"], [0.5555555555555556, \"#d8576b\"], [0.6666666666666666, \"#ed7953\"], [0.7777777777777778, \"#fb9f3a\"], [0.8888888888888888, \"#fdca26\"], [1.0, \"#f0f921\"]], \"type\": \"heatmapgl\"}], \"histogram\": [{\"marker\": {\"colorbar\": {\"outlinewidth\": 0, \"ticks\": \"\"}}, \"type\": \"histogram\"}], \"histogram2d\": [{\"colorbar\": {\"outlinewidth\": 0, \"ticks\": \"\"}, \"colorscale\": [[0.0, \"#0d0887\"], [0.1111111111111111, \"#46039f\"], [0.2222222222222222, \"#7201a8\"], [0.3333333333333333, \"#9c179e\"], [0.4444444444444444, \"#bd3786\"], [0.5555555555555556, \"#d8576b\"], [0.6666666666666666, \"#ed7953\"], [0.7777777777777778, \"#fb9f3a\"], [0.8888888888888888, \"#fdca26\"], [1.0, \"#f0f921\"]], \"type\": \"histogram2d\"}], \"histogram2dcontour\": [{\"colorbar\": {\"outlinewidth\": 0, \"ticks\": \"\"}, \"colorscale\": [[0.0, \"#0d0887\"], [0.1111111111111111, \"#46039f\"], [0.2222222222222222, \"#7201a8\"], [0.3333333333333333, \"#9c179e\"], [0.4444444444444444, \"#bd3786\"], [0.5555555555555556, \"#d8576b\"], [0.6666666666666666, \"#ed7953\"], [0.7777777777777778, \"#fb9f3a\"], [0.8888888888888888, \"#fdca26\"], [1.0, \"#f0f921\"]], \"type\": \"histogram2dcontour\"}], \"mesh3d\": [{\"colorbar\": {\"outlinewidth\": 0, \"ticks\": \"\"}, \"type\": \"mesh3d\"}], \"parcoords\": [{\"line\": {\"colorbar\": {\"outlinewidth\": 0, \"ticks\": \"\"}}, \"type\": \"parcoords\"}], \"pie\": [{\"automargin\": true, \"type\": \"pie\"}], \"scatter\": [{\"marker\": {\"colorbar\": {\"outlinewidth\": 0, \"ticks\": \"\"}}, \"type\": \"scatter\"}], \"scatter3d\": [{\"line\": {\"colorbar\": {\"outlinewidth\": 0, \"ticks\": \"\"}}, \"marker\": {\"colorbar\": {\"outlinewidth\": 0, \"ticks\": \"\"}}, \"type\": \"scatter3d\"}], \"scattercarpet\": [{\"marker\": {\"colorbar\": {\"outlinewidth\": 0, \"ticks\": \"\"}}, \"type\": \"scattercarpet\"}], \"scattergeo\": [{\"marker\": {\"colorbar\": {\"outlinewidth\": 0, \"ticks\": \"\"}}, \"type\": \"scattergeo\"}], \"scattergl\": [{\"marker\": {\"colorbar\": {\"outlinewidth\": 0, \"ticks\": \"\"}}, \"type\": \"scattergl\"}], \"scattermapbox\": [{\"marker\": {\"colorbar\": {\"outlinewidth\": 0, \"ticks\": \"\"}}, \"type\": \"scattermapbox\"}], \"scatterpolar\": [{\"marker\": {\"colorbar\": {\"outlinewidth\": 0, \"ticks\": \"\"}}, \"type\": \"scatterpolar\"}], \"scatterpolargl\": [{\"marker\": {\"colorbar\": {\"outlinewidth\": 0, \"ticks\": \"\"}}, \"type\": \"scatterpolargl\"}], \"scatterternary\": [{\"marker\": {\"colorbar\": {\"outlinewidth\": 0, \"ticks\": \"\"}}, \"type\": \"scatterternary\"}], \"surface\": [{\"colorbar\": {\"outlinewidth\": 0, \"ticks\": \"\"}, \"colorscale\": [[0.0, \"#0d0887\"], [0.1111111111111111, \"#46039f\"], [0.2222222222222222, \"#7201a8\"], [0.3333333333333333, \"#9c179e\"], [0.4444444444444444, \"#bd3786\"], [0.5555555555555556, \"#d8576b\"], [0.6666666666666666, \"#ed7953\"], [0.7777777777777778, \"#fb9f3a\"], [0.8888888888888888, \"#fdca26\"], [1.0, \"#f0f921\"]], \"type\": \"surface\"}], \"table\": [{\"cells\": {\"fill\": {\"color\": \"#EBF0F8\"}, \"line\": {\"color\": \"white\"}}, \"header\": {\"fill\": {\"color\": \"#C8D4E3\"}, \"line\": {\"color\": \"white\"}}, \"type\": \"table\"}]}, \"layout\": {\"annotationdefaults\": {\"arrowcolor\": \"#2a3f5f\", \"arrowhead\": 0, \"arrowwidth\": 1}, \"coloraxis\": {\"colorbar\": {\"outlinewidth\": 0, \"ticks\": \"\"}}, \"colorscale\": {\"diverging\": [[0, \"#8e0152\"], [0.1, \"#c51b7d\"], [0.2, \"#de77ae\"], [0.3, \"#f1b6da\"], [0.4, \"#fde0ef\"], [0.5, \"#f7f7f7\"], [0.6, \"#e6f5d0\"], [0.7, \"#b8e186\"], [0.8, \"#7fbc41\"], [0.9, \"#4d9221\"], [1, \"#276419\"]], \"sequential\": [[0.0, \"#0d0887\"], [0.1111111111111111, \"#46039f\"], [0.2222222222222222, \"#7201a8\"], [0.3333333333333333, \"#9c179e\"], [0.4444444444444444, \"#bd3786\"], [0.5555555555555556, \"#d8576b\"], [0.6666666666666666, \"#ed7953\"], [0.7777777777777778, \"#fb9f3a\"], [0.8888888888888888, \"#fdca26\"], [1.0, \"#f0f921\"]], \"sequentialminus\": [[0.0, \"#0d0887\"], [0.1111111111111111, \"#46039f\"], [0.2222222222222222, \"#7201a8\"], [0.3333333333333333, \"#9c179e\"], [0.4444444444444444, \"#bd3786\"], [0.5555555555555556, \"#d8576b\"], [0.6666666666666666, \"#ed7953\"], [0.7777777777777778, \"#fb9f3a\"], [0.8888888888888888, \"#fdca26\"], [1.0, \"#f0f921\"]]}, \"colorway\": [\"#636efa\", \"#EF553B\", \"#00cc96\", \"#ab63fa\", \"#FFA15A\", \"#19d3f3\", \"#FF6692\", \"#B6E880\", \"#FF97FF\", \"#FECB52\"], \"font\": {\"color\": \"#2a3f5f\"}, \"geo\": {\"bgcolor\": \"white\", \"lakecolor\": \"white\", \"landcolor\": \"white\", \"showlakes\": true, \"showland\": true, \"subunitcolor\": \"#C8D4E3\"}, \"hoverlabel\": {\"align\": \"left\"}, \"hovermode\": \"closest\", \"mapbox\": {\"style\": \"light\"}, \"paper_bgcolor\": \"white\", \"plot_bgcolor\": \"white\", \"polar\": {\"angularaxis\": {\"gridcolor\": \"#EBF0F8\", \"linecolor\": \"#EBF0F8\", \"ticks\": \"\"}, \"bgcolor\": \"white\", \"radialaxis\": {\"gridcolor\": \"#EBF0F8\", \"linecolor\": \"#EBF0F8\", \"ticks\": \"\"}}, \"scene\": {\"xaxis\": {\"backgroundcolor\": \"white\", \"gridcolor\": \"#DFE8F3\", \"gridwidth\": 2, \"linecolor\": \"#EBF0F8\", \"showbackground\": true, \"ticks\": \"\", \"zerolinecolor\": \"#EBF0F8\"}, \"yaxis\": {\"backgroundcolor\": \"white\", \"gridcolor\": \"#DFE8F3\", \"gridwidth\": 2, \"linecolor\": \"#EBF0F8\", \"showbackground\": true, \"ticks\": \"\", \"zerolinecolor\": \"#EBF0F8\"}, \"zaxis\": {\"backgroundcolor\": \"white\", \"gridcolor\": \"#DFE8F3\", \"gridwidth\": 2, \"linecolor\": \"#EBF0F8\", \"showbackground\": true, \"ticks\": \"\", \"zerolinecolor\": \"#EBF0F8\"}}, \"shapedefaults\": {\"line\": {\"color\": \"#2a3f5f\"}}, \"ternary\": {\"aaxis\": {\"gridcolor\": \"#DFE8F3\", \"linecolor\": \"#A2B1C6\", \"ticks\": \"\"}, \"baxis\": {\"gridcolor\": \"#DFE8F3\", \"linecolor\": \"#A2B1C6\", \"ticks\": \"\"}, \"bgcolor\": \"white\", \"caxis\": {\"gridcolor\": \"#DFE8F3\", \"linecolor\": \"#A2B1C6\", \"ticks\": \"\"}}, \"title\": {\"x\": 0.05}, \"xaxis\": {\"automargin\": true, \"gridcolor\": \"#EBF0F8\", \"linecolor\": \"#EBF0F8\", \"ticks\": \"\", \"title\": {\"standoff\": 15}, \"zerolinecolor\": \"#EBF0F8\", \"zerolinewidth\": 2}, \"yaxis\": {\"automargin\": true, \"gridcolor\": \"#EBF0F8\", \"linecolor\": \"#EBF0F8\", \"ticks\": \"\", \"title\": {\"standoff\": 15}, \"zerolinecolor\": \"#EBF0F8\", \"zerolinewidth\": 2}}}, \"title\": {\"text\": \"Actual vs Predicted Price\"}, \"width\": 600, \"xaxis\": {\"title\": {\"text\": \"Batch\"}}, \"yaxis\": {\"title\": {\"text\": \"Price\"}}},\n",
              "                        {\"responsive\": true}\n",
              "                    ).then(function(){\n",
              "                            \n",
              "var gd = document.getElementById('be98dec7-6b91-4640-916f-3e5c0b2a311f');\n",
              "var x = new MutationObserver(function (mutations, observer) {{\n",
              "        var display = window.getComputedStyle(gd).display;\n",
              "        if (!display || display === 'none') {{\n",
              "            console.log([gd, 'removed!']);\n",
              "            Plotly.purge(gd);\n",
              "            observer.disconnect();\n",
              "        }}\n",
              "}});\n",
              "\n",
              "// Listen for the removal of the full notebook cells\n",
              "var notebookContainer = gd.closest('#notebook-container');\n",
              "if (notebookContainer) {{\n",
              "    x.observe(notebookContainer, {childList: true});\n",
              "}}\n",
              "\n",
              "// Listen for the clearing of the current output cell\n",
              "var outputEl = gd.closest('.output');\n",
              "if (outputEl) {{\n",
              "    x.observe(outputEl, {childList: true});\n",
              "}}\n",
              "\n",
              "                        })\n",
              "                };\n",
              "                \n",
              "            </script>\n",
              "        </div>\n",
              "</body>\n",
              "</html>"
            ]
          },
          "metadata": {}
        },
        {
          "output_type": "stream",
          "name": "stderr",
          "text": [
            "WARNING:absl:Found untraced functions such as lstm_cell_layer_call_fn, lstm_cell_layer_call_and_return_conditional_losses, lstm_cell_1_layer_call_fn, lstm_cell_1_layer_call_and_return_conditional_losses, lstm_cell_2_layer_call_fn while saving (showing 5 of 15). These functions will not be directly callable after loading.\n"
          ]
        },
        {
          "output_type": "stream",
          "name": "stdout",
          "text": [
            "INFO:tensorflow:Assets written to: /content/drive/MyDrive/Colab Notebooks/models/model_BTC_log_all/assets\n"
          ]
        },
        {
          "output_type": "stream",
          "name": "stderr",
          "text": [
            "INFO:tensorflow:Assets written to: /content/drive/MyDrive/Colab Notebooks/models/model_BTC_log_all/assets\n"
          ]
        }
      ]
    },
    {
      "cell_type": "code",
      "metadata": {
        "colab": {
          "base_uri": "https://localhost:8080/",
          "height": 1000
        },
        "id": "GiHOCL1XQdPb",
        "outputId": "be0a26a4-b598-437f-fab6-6f51fba485c8"
      },
      "source": [
        "# BTC -optimal features\n",
        "modelname = f'model_{crypto}_{transform}'\n",
        "model = create_lstm_model(config,x_train,n_predict)\n",
        "\n",
        "# train\n",
        "tic = timeit.default_timer()\n",
        "history = model.fit(x_train,\n",
        "                    y_train,\n",
        "                    batch_size=config['train']['batch_size'],\n",
        "                    epochs=config['train']['epochs'],\n",
        "                    callbacks = [config['train']['early_stop']],\n",
        "                    validation_split =0.10, \n",
        "                    verbose = 0\n",
        "                    )\n",
        "\n",
        "# print the training time\n",
        "toc =timeit.default_timer()\n",
        "print('\\nTraining Time')\n",
        "print('='*60)\n",
        "print(f'Minutes:{round((toc-tic)/60,2)}\\n')\n",
        "\n",
        "# predict prices\n",
        "# calculate the performance metrics\n",
        "# plot training metrics\n",
        "# plot predictions for random batches\n",
        "y_pred_scaled = calculate_performance(x_test,y_test,model,scaler_y)\n",
        "plot_training_metrics(history)\n",
        "plot_n_price_predictions(idx_close,x_test,y_pred_scaled,scaler_y,2)\n",
        "\n",
        "\n",
        "# save model and training performance\n",
        "model.save(f'/content/drive/MyDrive/Colab Notebooks/models/{modelname}_features')\n",
        "\n",
        "df_hist = pd.DataFrame(history.history) \n",
        "df_hist.to_csv(f'/content/drive/MyDrive/Colab Notebooks/models/{modelname}_features/train_history.csv')"
      ],
      "execution_count": 78,
      "outputs": [
        {
          "output_type": "stream",
          "name": "stdout",
          "text": [
            "Model: \"LSTM\"\n",
            "_________________________________________________________________\n",
            "Layer (type)                 Output Shape              Param #   \n",
            "=================================================================\n",
            "lstm (LSTM)                  (None, 40, 40)            8800      \n",
            "_________________________________________________________________\n",
            "lstm_1 (LSTM)                (None, 40, 256)           304128    \n",
            "_________________________________________________________________\n",
            "dropout (Dropout)            (None, 40, 256)           0         \n",
            "_________________________________________________________________\n",
            "lstm_2 (LSTM)                (None, 128)               197120    \n",
            "_________________________________________________________________\n",
            "dropout_1 (Dropout)          (None, 128)               0         \n",
            "_________________________________________________________________\n",
            "dense (Dense)                (None, 32)                4128      \n",
            "_________________________________________________________________\n",
            "dropout_2 (Dropout)          (None, 32)                0         \n",
            "_________________________________________________________________\n",
            "dense_1 (Dense)              (None, 16)                528       \n",
            "_________________________________________________________________\n",
            "dropout_3 (Dropout)          (None, 16)                0         \n",
            "_________________________________________________________________\n",
            "dense_2 (Dense)              (None, 5)                 85        \n",
            "=================================================================\n",
            "Total params: 514,789\n",
            "Trainable params: 514,789\n",
            "Non-trainable params: 0\n",
            "_________________________________________________________________\n",
            "\n",
            "Training Time\n",
            "============================================================\n",
            "Minutes:4.1\n",
            "\n",
            "\n",
            "Model Error\n",
            "==============================================================\n",
            "Mean Absolute Error (MAE)------------------------------  0.24\n",
            "Root Mean Squared Error (MSE)--------------------------  0.27\n",
            "Mean Absolute Percentage Error (MAPE)------------------  2.29%\n",
            "Median Absolute Percentage Error (MDAPE)---------------   2.1%\n"
          ]
        },
        {
          "output_type": "display_data",
          "data": {
            "text/html": [
              "<html>\n",
              "<head><meta charset=\"utf-8\" /></head>\n",
              "<body>\n",
              "    <div>\n",
              "            <script src=\"https://cdnjs.cloudflare.com/ajax/libs/mathjax/2.7.5/MathJax.js?config=TeX-AMS-MML_SVG\"></script><script type=\"text/javascript\">if (window.MathJax) {MathJax.Hub.Config({SVG: {font: \"STIX-Web\"}});}</script>\n",
              "                <script type=\"text/javascript\">window.PlotlyConfig = {MathJaxConfig: 'local'};</script>\n",
              "        <script src=\"https://cdn.plot.ly/plotly-latest.min.js\"></script>    \n",
              "            <div id=\"6931c133-f230-48d4-9af8-7910ac84c462\" class=\"plotly-graph-div\" style=\"height:500px; width:700px;\"></div>\n",
              "            <script type=\"text/javascript\">\n",
              "                \n",
              "                    window.PLOTLYENV=window.PLOTLYENV || {};\n",
              "                    \n",
              "                if (document.getElementById(\"6931c133-f230-48d4-9af8-7910ac84c462\")) {\n",
              "                    Plotly.newPlot(\n",
              "                        '6931c133-f230-48d4-9af8-7910ac84c462',\n",
              "                        [{\"line\": {\"color\": \"royalblue\", \"width\": 3}, \"name\": \"train-loss\", \"type\": \"scatter\", \"x\": [1, 2, 3, 4, 5, 6, 7, 8, 9, 10, 11, 12, 13, 14, 15, 16, 17, 18, 19, 20, 21, 22, 23, 24, 25, 26, 27, 28, 29, 30, 31, 32, 33, 34, 35, 36, 37, 38, 39, 40, 41, 42, 43, 44, 45, 46, 47, 48, 49, 50, 51, 52, 53, 54, 55, 56, 57, 58, 59, 60, 61, 62, 63, 64, 65, 66, 67, 68, 69, 70, 71, 72, 73, 74, 75, 76, 77, 78, 79, 80, 81, 82, 83, 84, 85, 86, 87, 88, 89, 90, 91, 92, 93, 94, 95], \"y\": [0.05634976178407669, 0.01986554078757763, 0.012918290682137012, 0.011533777229487896, 0.008814538829028606, 0.009026577696204185, 0.008161582984030247, 0.007345395162701607, 0.007059688679873943, 0.0067759184166789055, 0.006590802688151598, 0.006736771669238806, 0.006130790803581476, 0.005849429406225681, 0.005778704769909382, 0.005278755445033312, 0.005739827640354633, 0.005077033769339323, 0.004949376918375492, 0.004697384778410196, 0.004781118128448725, 0.00461305258795619, 0.004311277996748686, 0.004653616342693567, 0.004196313675493002, 0.004323406610637903, 0.004222431685775518, 0.004083328880369663, 0.004302405286580324, 0.003747759386897087, 0.004054560791701078, 0.003744102083146572, 0.003586977254599333, 0.003599788760766387, 0.0034560393542051315, 0.003793667769059539, 0.003289407817646861, 0.0031800486613065004, 0.0034793082159012556, 0.003319421550258994, 0.003019197378307581, 0.0029784319922327995, 0.0031641225796192884, 0.002752976957708597, 0.002781806280836463, 0.0028717799577862024, 0.0026623085141181946, 0.0026898665819317102, 0.0027392299380153418, 0.002640985883772373, 0.0025292758364230394, 0.0027121177408844233, 0.002574975835159421, 0.002327664289623499, 0.0022614202462136745, 0.0022835745476186275, 0.0022026023361831903, 0.0023222577292472124, 0.0022505391389131546, 0.0021898436825722456, 0.002412488218396902, 0.002121187513694167, 0.0020007737912237644, 0.0021384546998888254, 0.002338235964998603, 0.002218867652118206, 0.0020306785590946674, 0.002210326259955764, 0.0021426451858133078, 0.001997079700231552, 0.0019417915027588606, 0.001869752537459135, 0.0018595921574160457, 0.0019754834938794374, 0.0021728447172790766, 0.0019055482698604465, 0.0018456497928127646, 0.0017183972522616386, 0.0016622303519397974, 0.0016538873314857483, 0.001770869712345302, 0.0017808184493333101, 0.0016916944878175855, 0.001685634022578597, 0.0015525156632065773, 0.0016645718133077025, 0.0015804236754775047, 0.001706003793515265, 0.0015990958781912923, 0.0017046420834958553, 0.001707445946522057, 0.0015619981568306684, 0.0015957430005073547, 0.0016251925844699144, 0.0015728826401755214]}, {\"line\": {\"color\": \"crimson\", \"width\": 3}, \"name\": \"val-loss\", \"type\": \"scatter\", \"x\": [1, 2, 3, 4, 5, 6, 7, 8, 9, 10, 11, 12, 13, 14, 15, 16, 17, 18, 19, 20, 21, 22, 23, 24, 25, 26, 27, 28, 29, 30, 31, 32, 33, 34, 35, 36, 37, 38, 39, 40, 41, 42, 43, 44, 45, 46, 47, 48, 49, 50, 51, 52, 53, 54, 55, 56, 57, 58, 59, 60, 61, 62, 63, 64, 65, 66, 67, 68, 69, 70, 71, 72, 73, 74, 75, 76, 77, 78, 79, 80, 81, 82, 83, 84, 85, 86, 87, 88, 89, 90, 91, 92, 93, 94, 95], \"y\": [0.16764098405838013, 0.019877303391695023, 0.020503688603639603, 0.0048466031439602375, 0.005095107015222311, 0.006616233382374048, 0.00974275078624487, 0.002403970342129469, 0.0013588983565568924, 0.002278665080666542, 0.005805119872093201, 0.0020185401663184166, 0.001438881503418088, 0.00131008040625602, 0.0013137838104739785, 0.003157590050250292, 0.001074245315976441, 0.002206339268013835, 0.0017943748971447349, 0.000874465680681169, 0.001111319288611412, 0.0007260782876983285, 0.0018934931140393019, 0.0017988436156883836, 0.00177091418299824, 0.0014069387689232826, 0.0015739890513941646, 0.0018023059237748384, 0.0007837340235710144, 0.001906752004288137, 0.004158644936978817, 0.001468381262384355, 0.0019140182994306087, 0.0019605273846536875, 0.0028870408423244953, 0.0006900144508108497, 0.0031311255879700184, 0.003402122063562274, 0.003879009513184428, 0.0009209216805174947, 0.0006265933043323457, 0.0012947228970006108, 0.0007165108690969646, 0.0007441985071636736, 0.001055454253219068, 0.002953664865344763, 0.002559648361057043, 0.001425253925845027, 0.0015005336608737707, 0.002410468878224492, 0.004037271719425917, 0.0011568766785785556, 0.002363138133659959, 0.0021189795807003975, 0.003711528843268752, 0.002035786397755146, 0.003592970548197627, 0.0026344191282987595, 0.0009030775399878621, 0.0021592124830931425, 0.001850334694609046, 0.0008630636730231345, 0.0032258641440421343, 0.0013983409153297544, 0.0006393498624674976, 0.0014657978899776936, 0.0011283060302957892, 0.000696131493896246, 0.0025522380601614714, 0.0017574371304363012, 0.00146190426312387, 0.0037377486005425453, 0.001974456710740924, 0.00103863631375134, 0.0009597805328667164, 0.0015350542962551117, 0.0017151255160570145, 0.0019302989821881056, 0.0011429029982537031, 0.0018155593425035477, 0.0011495060753077269, 0.0010908275144174695, 0.001052415114827454, 0.002207244047895074, 0.0030228127725422382, 0.00208880752325058, 0.0023102047853171825, 0.0021235181484371424, 0.0010339227737858891, 0.0025099380873143673, 0.003946052864193916, 0.0011594687821343541, 0.002400825032964349, 0.0022585445549339056, 0.004858050961047411]}],\n",
              "                        {\"height\": 500, \"template\": {\"data\": {\"bar\": [{\"error_x\": {\"color\": \"#2a3f5f\"}, \"error_y\": {\"color\": \"#2a3f5f\"}, \"marker\": {\"line\": {\"color\": \"white\", \"width\": 0.5}}, \"type\": \"bar\"}], \"barpolar\": [{\"marker\": {\"line\": {\"color\": \"white\", \"width\": 0.5}}, \"type\": \"barpolar\"}], \"carpet\": [{\"aaxis\": {\"endlinecolor\": \"#2a3f5f\", \"gridcolor\": \"#C8D4E3\", \"linecolor\": \"#C8D4E3\", \"minorgridcolor\": \"#C8D4E3\", \"startlinecolor\": \"#2a3f5f\"}, \"baxis\": {\"endlinecolor\": \"#2a3f5f\", \"gridcolor\": \"#C8D4E3\", \"linecolor\": \"#C8D4E3\", \"minorgridcolor\": \"#C8D4E3\", \"startlinecolor\": \"#2a3f5f\"}, \"type\": \"carpet\"}], \"choropleth\": [{\"colorbar\": {\"outlinewidth\": 0, \"ticks\": \"\"}, \"type\": \"choropleth\"}], \"contour\": [{\"colorbar\": {\"outlinewidth\": 0, \"ticks\": \"\"}, \"colorscale\": [[0.0, \"#0d0887\"], [0.1111111111111111, \"#46039f\"], [0.2222222222222222, \"#7201a8\"], [0.3333333333333333, \"#9c179e\"], [0.4444444444444444, \"#bd3786\"], [0.5555555555555556, \"#d8576b\"], [0.6666666666666666, \"#ed7953\"], [0.7777777777777778, \"#fb9f3a\"], [0.8888888888888888, \"#fdca26\"], [1.0, \"#f0f921\"]], \"type\": \"contour\"}], \"contourcarpet\": [{\"colorbar\": {\"outlinewidth\": 0, \"ticks\": \"\"}, \"type\": \"contourcarpet\"}], \"heatmap\": [{\"colorbar\": {\"outlinewidth\": 0, \"ticks\": \"\"}, \"colorscale\": [[0.0, \"#0d0887\"], [0.1111111111111111, \"#46039f\"], [0.2222222222222222, \"#7201a8\"], [0.3333333333333333, \"#9c179e\"], [0.4444444444444444, \"#bd3786\"], [0.5555555555555556, \"#d8576b\"], [0.6666666666666666, \"#ed7953\"], [0.7777777777777778, \"#fb9f3a\"], [0.8888888888888888, \"#fdca26\"], [1.0, \"#f0f921\"]], \"type\": \"heatmap\"}], \"heatmapgl\": [{\"colorbar\": {\"outlinewidth\": 0, \"ticks\": \"\"}, \"colorscale\": [[0.0, \"#0d0887\"], [0.1111111111111111, \"#46039f\"], [0.2222222222222222, \"#7201a8\"], [0.3333333333333333, \"#9c179e\"], [0.4444444444444444, \"#bd3786\"], [0.5555555555555556, \"#d8576b\"], [0.6666666666666666, \"#ed7953\"], [0.7777777777777778, \"#fb9f3a\"], [0.8888888888888888, \"#fdca26\"], [1.0, \"#f0f921\"]], \"type\": \"heatmapgl\"}], \"histogram\": [{\"marker\": {\"colorbar\": {\"outlinewidth\": 0, \"ticks\": \"\"}}, \"type\": \"histogram\"}], \"histogram2d\": [{\"colorbar\": {\"outlinewidth\": 0, \"ticks\": \"\"}, \"colorscale\": [[0.0, \"#0d0887\"], [0.1111111111111111, \"#46039f\"], [0.2222222222222222, \"#7201a8\"], [0.3333333333333333, \"#9c179e\"], [0.4444444444444444, \"#bd3786\"], [0.5555555555555556, \"#d8576b\"], [0.6666666666666666, \"#ed7953\"], [0.7777777777777778, \"#fb9f3a\"], [0.8888888888888888, \"#fdca26\"], [1.0, \"#f0f921\"]], \"type\": \"histogram2d\"}], \"histogram2dcontour\": [{\"colorbar\": {\"outlinewidth\": 0, \"ticks\": \"\"}, \"colorscale\": [[0.0, \"#0d0887\"], [0.1111111111111111, \"#46039f\"], [0.2222222222222222, \"#7201a8\"], [0.3333333333333333, \"#9c179e\"], [0.4444444444444444, \"#bd3786\"], [0.5555555555555556, \"#d8576b\"], [0.6666666666666666, \"#ed7953\"], [0.7777777777777778, \"#fb9f3a\"], [0.8888888888888888, \"#fdca26\"], [1.0, \"#f0f921\"]], \"type\": \"histogram2dcontour\"}], \"mesh3d\": [{\"colorbar\": {\"outlinewidth\": 0, \"ticks\": \"\"}, \"type\": \"mesh3d\"}], \"parcoords\": [{\"line\": {\"colorbar\": {\"outlinewidth\": 0, \"ticks\": \"\"}}, \"type\": \"parcoords\"}], \"pie\": [{\"automargin\": true, \"type\": \"pie\"}], \"scatter\": [{\"marker\": {\"colorbar\": {\"outlinewidth\": 0, \"ticks\": \"\"}}, \"type\": \"scatter\"}], \"scatter3d\": [{\"line\": {\"colorbar\": {\"outlinewidth\": 0, \"ticks\": \"\"}}, \"marker\": {\"colorbar\": {\"outlinewidth\": 0, \"ticks\": \"\"}}, \"type\": \"scatter3d\"}], \"scattercarpet\": [{\"marker\": {\"colorbar\": {\"outlinewidth\": 0, \"ticks\": \"\"}}, \"type\": \"scattercarpet\"}], \"scattergeo\": [{\"marker\": {\"colorbar\": {\"outlinewidth\": 0, \"ticks\": \"\"}}, \"type\": \"scattergeo\"}], \"scattergl\": [{\"marker\": {\"colorbar\": {\"outlinewidth\": 0, \"ticks\": \"\"}}, \"type\": \"scattergl\"}], \"scattermapbox\": [{\"marker\": {\"colorbar\": {\"outlinewidth\": 0, \"ticks\": \"\"}}, \"type\": \"scattermapbox\"}], \"scatterpolar\": [{\"marker\": {\"colorbar\": {\"outlinewidth\": 0, \"ticks\": \"\"}}, \"type\": \"scatterpolar\"}], \"scatterpolargl\": [{\"marker\": {\"colorbar\": {\"outlinewidth\": 0, \"ticks\": \"\"}}, \"type\": \"scatterpolargl\"}], \"scatterternary\": [{\"marker\": {\"colorbar\": {\"outlinewidth\": 0, \"ticks\": \"\"}}, \"type\": \"scatterternary\"}], \"surface\": [{\"colorbar\": {\"outlinewidth\": 0, \"ticks\": \"\"}, \"colorscale\": [[0.0, \"#0d0887\"], [0.1111111111111111, \"#46039f\"], [0.2222222222222222, \"#7201a8\"], [0.3333333333333333, \"#9c179e\"], [0.4444444444444444, \"#bd3786\"], [0.5555555555555556, \"#d8576b\"], [0.6666666666666666, \"#ed7953\"], [0.7777777777777778, \"#fb9f3a\"], [0.8888888888888888, \"#fdca26\"], [1.0, \"#f0f921\"]], \"type\": \"surface\"}], \"table\": [{\"cells\": {\"fill\": {\"color\": \"#EBF0F8\"}, \"line\": {\"color\": \"white\"}}, \"header\": {\"fill\": {\"color\": \"#C8D4E3\"}, \"line\": {\"color\": \"white\"}}, \"type\": \"table\"}]}, \"layout\": {\"annotationdefaults\": {\"arrowcolor\": \"#2a3f5f\", \"arrowhead\": 0, \"arrowwidth\": 1}, \"coloraxis\": {\"colorbar\": {\"outlinewidth\": 0, \"ticks\": \"\"}}, \"colorscale\": {\"diverging\": [[0, \"#8e0152\"], [0.1, \"#c51b7d\"], [0.2, \"#de77ae\"], [0.3, \"#f1b6da\"], [0.4, \"#fde0ef\"], [0.5, \"#f7f7f7\"], [0.6, \"#e6f5d0\"], [0.7, \"#b8e186\"], [0.8, \"#7fbc41\"], [0.9, \"#4d9221\"], [1, \"#276419\"]], \"sequential\": [[0.0, \"#0d0887\"], [0.1111111111111111, \"#46039f\"], [0.2222222222222222, \"#7201a8\"], [0.3333333333333333, \"#9c179e\"], [0.4444444444444444, \"#bd3786\"], [0.5555555555555556, \"#d8576b\"], [0.6666666666666666, \"#ed7953\"], [0.7777777777777778, \"#fb9f3a\"], [0.8888888888888888, \"#fdca26\"], [1.0, \"#f0f921\"]], \"sequentialminus\": [[0.0, \"#0d0887\"], [0.1111111111111111, \"#46039f\"], [0.2222222222222222, \"#7201a8\"], [0.3333333333333333, \"#9c179e\"], [0.4444444444444444, \"#bd3786\"], [0.5555555555555556, \"#d8576b\"], [0.6666666666666666, \"#ed7953\"], [0.7777777777777778, \"#fb9f3a\"], [0.8888888888888888, \"#fdca26\"], [1.0, \"#f0f921\"]]}, \"colorway\": [\"#636efa\", \"#EF553B\", \"#00cc96\", \"#ab63fa\", \"#FFA15A\", \"#19d3f3\", \"#FF6692\", \"#B6E880\", \"#FF97FF\", \"#FECB52\"], \"font\": {\"color\": \"#2a3f5f\"}, \"geo\": {\"bgcolor\": \"white\", \"lakecolor\": \"white\", \"landcolor\": \"white\", \"showlakes\": true, \"showland\": true, \"subunitcolor\": \"#C8D4E3\"}, \"hoverlabel\": {\"align\": \"left\"}, \"hovermode\": \"closest\", \"mapbox\": {\"style\": \"light\"}, \"paper_bgcolor\": \"white\", \"plot_bgcolor\": \"white\", \"polar\": {\"angularaxis\": {\"gridcolor\": \"#EBF0F8\", \"linecolor\": \"#EBF0F8\", \"ticks\": \"\"}, \"bgcolor\": \"white\", \"radialaxis\": {\"gridcolor\": \"#EBF0F8\", \"linecolor\": \"#EBF0F8\", \"ticks\": \"\"}}, \"scene\": {\"xaxis\": {\"backgroundcolor\": \"white\", \"gridcolor\": \"#DFE8F3\", \"gridwidth\": 2, \"linecolor\": \"#EBF0F8\", \"showbackground\": true, \"ticks\": \"\", \"zerolinecolor\": \"#EBF0F8\"}, \"yaxis\": {\"backgroundcolor\": \"white\", \"gridcolor\": \"#DFE8F3\", \"gridwidth\": 2, \"linecolor\": \"#EBF0F8\", \"showbackground\": true, \"ticks\": \"\", \"zerolinecolor\": \"#EBF0F8\"}, \"zaxis\": {\"backgroundcolor\": \"white\", \"gridcolor\": \"#DFE8F3\", \"gridwidth\": 2, \"linecolor\": \"#EBF0F8\", \"showbackground\": true, \"ticks\": \"\", \"zerolinecolor\": \"#EBF0F8\"}}, \"shapedefaults\": {\"line\": {\"color\": \"#2a3f5f\"}}, \"ternary\": {\"aaxis\": {\"gridcolor\": \"#DFE8F3\", \"linecolor\": \"#A2B1C6\", \"ticks\": \"\"}, \"baxis\": {\"gridcolor\": \"#DFE8F3\", \"linecolor\": \"#A2B1C6\", \"ticks\": \"\"}, \"bgcolor\": \"white\", \"caxis\": {\"gridcolor\": \"#DFE8F3\", \"linecolor\": \"#A2B1C6\", \"ticks\": \"\"}}, \"title\": {\"x\": 0.05}, \"xaxis\": {\"automargin\": true, \"gridcolor\": \"#EBF0F8\", \"linecolor\": \"#EBF0F8\", \"ticks\": \"\", \"title\": {\"standoff\": 15}, \"zerolinecolor\": \"#EBF0F8\", \"zerolinewidth\": 2}, \"yaxis\": {\"automargin\": true, \"gridcolor\": \"#EBF0F8\", \"linecolor\": \"#EBF0F8\", \"ticks\": \"\", \"title\": {\"standoff\": 15}, \"zerolinecolor\": \"#EBF0F8\", \"zerolinewidth\": 2}}}, \"title\": {\"text\": \"Training Metrics\"}, \"width\": 700, \"xaxis\": {\"title\": {\"text\": \"epochs\"}}, \"yaxis\": {\"title\": {\"text\": \"loss\"}}},\n",
              "                        {\"responsive\": true}\n",
              "                    ).then(function(){\n",
              "                            \n",
              "var gd = document.getElementById('6931c133-f230-48d4-9af8-7910ac84c462');\n",
              "var x = new MutationObserver(function (mutations, observer) {{\n",
              "        var display = window.getComputedStyle(gd).display;\n",
              "        if (!display || display === 'none') {{\n",
              "            console.log([gd, 'removed!']);\n",
              "            Plotly.purge(gd);\n",
              "            observer.disconnect();\n",
              "        }}\n",
              "}});\n",
              "\n",
              "// Listen for the removal of the full notebook cells\n",
              "var notebookContainer = gd.closest('#notebook-container');\n",
              "if (notebookContainer) {{\n",
              "    x.observe(notebookContainer, {childList: true});\n",
              "}}\n",
              "\n",
              "// Listen for the clearing of the current output cell\n",
              "var outputEl = gd.closest('.output');\n",
              "if (outputEl) {{\n",
              "    x.observe(outputEl, {childList: true});\n",
              "}}\n",
              "\n",
              "                        })\n",
              "                };\n",
              "                \n",
              "            </script>\n",
              "        </div>\n",
              "</body>\n",
              "</html>"
            ]
          },
          "metadata": {}
        },
        {
          "output_type": "display_data",
          "data": {
            "text/html": [
              "<html>\n",
              "<head><meta charset=\"utf-8\" /></head>\n",
              "<body>\n",
              "    <div>\n",
              "            <script src=\"https://cdnjs.cloudflare.com/ajax/libs/mathjax/2.7.5/MathJax.js?config=TeX-AMS-MML_SVG\"></script><script type=\"text/javascript\">if (window.MathJax) {MathJax.Hub.Config({SVG: {font: \"STIX-Web\"}});}</script>\n",
              "                <script type=\"text/javascript\">window.PlotlyConfig = {MathJaxConfig: 'local'};</script>\n",
              "        <script src=\"https://cdn.plot.ly/plotly-latest.min.js\"></script>    \n",
              "            <div id=\"6f28f458-15a0-43ce-917e-22f2abc8d3dd\" class=\"plotly-graph-div\" style=\"height:400px; width:600px;\"></div>\n",
              "            <script type=\"text/javascript\">\n",
              "                \n",
              "                    window.PLOTLYENV=window.PLOTLYENV || {};\n",
              "                    \n",
              "                if (document.getElementById(\"6f28f458-15a0-43ce-917e-22f2abc8d3dd\")) {\n",
              "                    Plotly.newPlot(\n",
              "                        '6f28f458-15a0-43ce-917e-22f2abc8d3dd',\n",
              "                        [{\"fill\": \"tozeroy\", \"line\": {\"color\": \"#ccc\"}, \"mode\": \"lines\", \"name\": \"Test Data\", \"type\": \"scatter\", \"x\": [132, 133, 134, 135, 136, 137, 138, 139, 140, 141, 142, 143, 144, 145, 146, 147, 148, 149, 150, 151, 152, 153, 154, 155, 156, 157, 158, 159, 160, 161, 162, 163, 164, 165, 166, 167, 168, 169, 170, 171], \"y\": [10.473930797145576, 10.525074282482853, 10.582988799407083, 10.597123613574535, 10.597046648247378, 10.650326436499919, 10.632528523944766, 10.592763248561692, 10.575100016599102, 10.550775332540315, 10.589690175377404, 10.61796707213936, 10.66515445933413, 10.704873253322848, 10.687260549289931, 10.741890253752098, 10.727333774648573, 10.725709333961985, 10.700972225644158, 10.774780918479548, 10.759359478912216, 10.757345704221615, 10.734248500228874, 10.707638172470022, 10.707847118118515, 10.752796674693997, 10.806135037127264, 10.795933647187153, 10.804445739393069, 10.809502670658368, 10.772141664652592, 10.799030939008446, 10.754575435989532, 10.80100109117684, 10.79743757891689, 10.794826153147854, 10.75753919754622, 10.760047175792012, 10.795701142379043, 10.804596420922662]}, {\"fill\": \"tozeroy\", \"line\": {\"color\": \"#ccc\"}, \"mode\": \"lines+markers\", \"name\": \"Actual Price\", \"type\": \"scatter\", \"x\": [172, 173, 174, 175, 176], \"y\": [10.473930797145576, 10.525074282482853, 10.582988799407083, 10.597123613574535, 10.597046648247378]}, {\"line\": {\"color\": \"red\"}, \"mode\": \"lines+markers\", \"name\": \"Predicted Price\", \"type\": \"scatter\", \"x\": [172, 173, 174, 175, 176], \"y\": [10.497579574584961, 10.519671440124512, 10.483576774597168, 10.584507942199707, 10.461252212524414]}],\n",
              "                        {\"height\": 400, \"template\": {\"data\": {\"bar\": [{\"error_x\": {\"color\": \"#2a3f5f\"}, \"error_y\": {\"color\": \"#2a3f5f\"}, \"marker\": {\"line\": {\"color\": \"white\", \"width\": 0.5}}, \"type\": \"bar\"}], \"barpolar\": [{\"marker\": {\"line\": {\"color\": \"white\", \"width\": 0.5}}, \"type\": \"barpolar\"}], \"carpet\": [{\"aaxis\": {\"endlinecolor\": \"#2a3f5f\", \"gridcolor\": \"#C8D4E3\", \"linecolor\": \"#C8D4E3\", \"minorgridcolor\": \"#C8D4E3\", \"startlinecolor\": \"#2a3f5f\"}, \"baxis\": {\"endlinecolor\": \"#2a3f5f\", \"gridcolor\": \"#C8D4E3\", \"linecolor\": \"#C8D4E3\", \"minorgridcolor\": \"#C8D4E3\", \"startlinecolor\": \"#2a3f5f\"}, \"type\": \"carpet\"}], \"choropleth\": [{\"colorbar\": {\"outlinewidth\": 0, \"ticks\": \"\"}, \"type\": \"choropleth\"}], \"contour\": [{\"colorbar\": {\"outlinewidth\": 0, \"ticks\": \"\"}, \"colorscale\": [[0.0, \"#0d0887\"], [0.1111111111111111, \"#46039f\"], [0.2222222222222222, \"#7201a8\"], [0.3333333333333333, \"#9c179e\"], [0.4444444444444444, \"#bd3786\"], [0.5555555555555556, \"#d8576b\"], [0.6666666666666666, \"#ed7953\"], [0.7777777777777778, \"#fb9f3a\"], [0.8888888888888888, \"#fdca26\"], [1.0, \"#f0f921\"]], \"type\": \"contour\"}], \"contourcarpet\": [{\"colorbar\": {\"outlinewidth\": 0, \"ticks\": \"\"}, \"type\": \"contourcarpet\"}], \"heatmap\": [{\"colorbar\": {\"outlinewidth\": 0, \"ticks\": \"\"}, \"colorscale\": [[0.0, \"#0d0887\"], [0.1111111111111111, \"#46039f\"], [0.2222222222222222, \"#7201a8\"], [0.3333333333333333, \"#9c179e\"], [0.4444444444444444, \"#bd3786\"], [0.5555555555555556, \"#d8576b\"], [0.6666666666666666, \"#ed7953\"], [0.7777777777777778, \"#fb9f3a\"], [0.8888888888888888, \"#fdca26\"], [1.0, \"#f0f921\"]], \"type\": \"heatmap\"}], \"heatmapgl\": [{\"colorbar\": {\"outlinewidth\": 0, \"ticks\": \"\"}, \"colorscale\": [[0.0, \"#0d0887\"], [0.1111111111111111, \"#46039f\"], [0.2222222222222222, \"#7201a8\"], [0.3333333333333333, \"#9c179e\"], [0.4444444444444444, \"#bd3786\"], [0.5555555555555556, \"#d8576b\"], [0.6666666666666666, \"#ed7953\"], [0.7777777777777778, \"#fb9f3a\"], [0.8888888888888888, \"#fdca26\"], [1.0, \"#f0f921\"]], \"type\": \"heatmapgl\"}], \"histogram\": [{\"marker\": {\"colorbar\": {\"outlinewidth\": 0, \"ticks\": \"\"}}, \"type\": \"histogram\"}], \"histogram2d\": [{\"colorbar\": {\"outlinewidth\": 0, \"ticks\": \"\"}, \"colorscale\": [[0.0, \"#0d0887\"], [0.1111111111111111, \"#46039f\"], [0.2222222222222222, \"#7201a8\"], [0.3333333333333333, \"#9c179e\"], [0.4444444444444444, \"#bd3786\"], [0.5555555555555556, \"#d8576b\"], [0.6666666666666666, \"#ed7953\"], [0.7777777777777778, \"#fb9f3a\"], [0.8888888888888888, \"#fdca26\"], [1.0, \"#f0f921\"]], \"type\": \"histogram2d\"}], \"histogram2dcontour\": [{\"colorbar\": {\"outlinewidth\": 0, \"ticks\": \"\"}, \"colorscale\": [[0.0, \"#0d0887\"], [0.1111111111111111, \"#46039f\"], [0.2222222222222222, \"#7201a8\"], [0.3333333333333333, \"#9c179e\"], [0.4444444444444444, \"#bd3786\"], [0.5555555555555556, \"#d8576b\"], [0.6666666666666666, \"#ed7953\"], [0.7777777777777778, \"#fb9f3a\"], [0.8888888888888888, \"#fdca26\"], [1.0, \"#f0f921\"]], \"type\": \"histogram2dcontour\"}], \"mesh3d\": [{\"colorbar\": {\"outlinewidth\": 0, \"ticks\": \"\"}, \"type\": \"mesh3d\"}], \"parcoords\": [{\"line\": {\"colorbar\": {\"outlinewidth\": 0, \"ticks\": \"\"}}, \"type\": \"parcoords\"}], \"pie\": [{\"automargin\": true, \"type\": \"pie\"}], \"scatter\": [{\"marker\": {\"colorbar\": {\"outlinewidth\": 0, \"ticks\": \"\"}}, \"type\": \"scatter\"}], \"scatter3d\": [{\"line\": {\"colorbar\": {\"outlinewidth\": 0, \"ticks\": \"\"}}, \"marker\": {\"colorbar\": {\"outlinewidth\": 0, \"ticks\": \"\"}}, \"type\": \"scatter3d\"}], \"scattercarpet\": [{\"marker\": {\"colorbar\": {\"outlinewidth\": 0, \"ticks\": \"\"}}, \"type\": \"scattercarpet\"}], \"scattergeo\": [{\"marker\": {\"colorbar\": {\"outlinewidth\": 0, \"ticks\": \"\"}}, \"type\": \"scattergeo\"}], \"scattergl\": [{\"marker\": {\"colorbar\": {\"outlinewidth\": 0, \"ticks\": \"\"}}, \"type\": \"scattergl\"}], \"scattermapbox\": [{\"marker\": {\"colorbar\": {\"outlinewidth\": 0, \"ticks\": \"\"}}, \"type\": \"scattermapbox\"}], \"scatterpolar\": [{\"marker\": {\"colorbar\": {\"outlinewidth\": 0, \"ticks\": \"\"}}, \"type\": \"scatterpolar\"}], \"scatterpolargl\": [{\"marker\": {\"colorbar\": {\"outlinewidth\": 0, \"ticks\": \"\"}}, \"type\": \"scatterpolargl\"}], \"scatterternary\": [{\"marker\": {\"colorbar\": {\"outlinewidth\": 0, \"ticks\": \"\"}}, \"type\": \"scatterternary\"}], \"surface\": [{\"colorbar\": {\"outlinewidth\": 0, \"ticks\": \"\"}, \"colorscale\": [[0.0, \"#0d0887\"], [0.1111111111111111, \"#46039f\"], [0.2222222222222222, \"#7201a8\"], [0.3333333333333333, \"#9c179e\"], [0.4444444444444444, \"#bd3786\"], [0.5555555555555556, \"#d8576b\"], [0.6666666666666666, \"#ed7953\"], [0.7777777777777778, \"#fb9f3a\"], [0.8888888888888888, \"#fdca26\"], [1.0, \"#f0f921\"]], \"type\": \"surface\"}], \"table\": [{\"cells\": {\"fill\": {\"color\": \"#EBF0F8\"}, \"line\": {\"color\": \"white\"}}, \"header\": {\"fill\": {\"color\": \"#C8D4E3\"}, \"line\": {\"color\": \"white\"}}, \"type\": \"table\"}]}, \"layout\": {\"annotationdefaults\": {\"arrowcolor\": \"#2a3f5f\", \"arrowhead\": 0, \"arrowwidth\": 1}, \"coloraxis\": {\"colorbar\": {\"outlinewidth\": 0, \"ticks\": \"\"}}, \"colorscale\": {\"diverging\": [[0, \"#8e0152\"], [0.1, \"#c51b7d\"], [0.2, \"#de77ae\"], [0.3, \"#f1b6da\"], [0.4, \"#fde0ef\"], [0.5, \"#f7f7f7\"], [0.6, \"#e6f5d0\"], [0.7, \"#b8e186\"], [0.8, \"#7fbc41\"], [0.9, \"#4d9221\"], [1, \"#276419\"]], \"sequential\": [[0.0, \"#0d0887\"], [0.1111111111111111, \"#46039f\"], [0.2222222222222222, \"#7201a8\"], [0.3333333333333333, \"#9c179e\"], [0.4444444444444444, \"#bd3786\"], [0.5555555555555556, \"#d8576b\"], [0.6666666666666666, \"#ed7953\"], [0.7777777777777778, \"#fb9f3a\"], [0.8888888888888888, \"#fdca26\"], [1.0, \"#f0f921\"]], \"sequentialminus\": [[0.0, \"#0d0887\"], [0.1111111111111111, \"#46039f\"], [0.2222222222222222, \"#7201a8\"], [0.3333333333333333, \"#9c179e\"], [0.4444444444444444, \"#bd3786\"], [0.5555555555555556, \"#d8576b\"], [0.6666666666666666, \"#ed7953\"], [0.7777777777777778, \"#fb9f3a\"], [0.8888888888888888, \"#fdca26\"], [1.0, \"#f0f921\"]]}, \"colorway\": [\"#636efa\", \"#EF553B\", \"#00cc96\", \"#ab63fa\", \"#FFA15A\", \"#19d3f3\", \"#FF6692\", \"#B6E880\", \"#FF97FF\", \"#FECB52\"], \"font\": {\"color\": \"#2a3f5f\"}, \"geo\": {\"bgcolor\": \"white\", \"lakecolor\": \"white\", \"landcolor\": \"white\", \"showlakes\": true, \"showland\": true, \"subunitcolor\": \"#C8D4E3\"}, \"hoverlabel\": {\"align\": \"left\"}, \"hovermode\": \"closest\", \"mapbox\": {\"style\": \"light\"}, \"paper_bgcolor\": \"white\", \"plot_bgcolor\": \"white\", \"polar\": {\"angularaxis\": {\"gridcolor\": \"#EBF0F8\", \"linecolor\": \"#EBF0F8\", \"ticks\": \"\"}, \"bgcolor\": \"white\", \"radialaxis\": {\"gridcolor\": \"#EBF0F8\", \"linecolor\": \"#EBF0F8\", \"ticks\": \"\"}}, \"scene\": {\"xaxis\": {\"backgroundcolor\": \"white\", \"gridcolor\": \"#DFE8F3\", \"gridwidth\": 2, \"linecolor\": \"#EBF0F8\", \"showbackground\": true, \"ticks\": \"\", \"zerolinecolor\": \"#EBF0F8\"}, \"yaxis\": {\"backgroundcolor\": \"white\", \"gridcolor\": \"#DFE8F3\", \"gridwidth\": 2, \"linecolor\": \"#EBF0F8\", \"showbackground\": true, \"ticks\": \"\", \"zerolinecolor\": \"#EBF0F8\"}, \"zaxis\": {\"backgroundcolor\": \"white\", \"gridcolor\": \"#DFE8F3\", \"gridwidth\": 2, \"linecolor\": \"#EBF0F8\", \"showbackground\": true, \"ticks\": \"\", \"zerolinecolor\": \"#EBF0F8\"}}, \"shapedefaults\": {\"line\": {\"color\": \"#2a3f5f\"}}, \"ternary\": {\"aaxis\": {\"gridcolor\": \"#DFE8F3\", \"linecolor\": \"#A2B1C6\", \"ticks\": \"\"}, \"baxis\": {\"gridcolor\": \"#DFE8F3\", \"linecolor\": \"#A2B1C6\", \"ticks\": \"\"}, \"bgcolor\": \"white\", \"caxis\": {\"gridcolor\": \"#DFE8F3\", \"linecolor\": \"#A2B1C6\", \"ticks\": \"\"}}, \"title\": {\"x\": 0.05}, \"xaxis\": {\"automargin\": true, \"gridcolor\": \"#EBF0F8\", \"linecolor\": \"#EBF0F8\", \"ticks\": \"\", \"title\": {\"standoff\": 15}, \"zerolinecolor\": \"#EBF0F8\", \"zerolinewidth\": 2}, \"yaxis\": {\"automargin\": true, \"gridcolor\": \"#EBF0F8\", \"linecolor\": \"#EBF0F8\", \"ticks\": \"\", \"title\": {\"standoff\": 15}, \"zerolinecolor\": \"#EBF0F8\", \"zerolinewidth\": 2}}}, \"title\": {\"text\": \"Actual vs Predicted Price\"}, \"width\": 600, \"xaxis\": {\"title\": {\"text\": \"Batch\"}}, \"yaxis\": {\"title\": {\"text\": \"Price\"}}},\n",
              "                        {\"responsive\": true}\n",
              "                    ).then(function(){\n",
              "                            \n",
              "var gd = document.getElementById('6f28f458-15a0-43ce-917e-22f2abc8d3dd');\n",
              "var x = new MutationObserver(function (mutations, observer) {{\n",
              "        var display = window.getComputedStyle(gd).display;\n",
              "        if (!display || display === 'none') {{\n",
              "            console.log([gd, 'removed!']);\n",
              "            Plotly.purge(gd);\n",
              "            observer.disconnect();\n",
              "        }}\n",
              "}});\n",
              "\n",
              "// Listen for the removal of the full notebook cells\n",
              "var notebookContainer = gd.closest('#notebook-container');\n",
              "if (notebookContainer) {{\n",
              "    x.observe(notebookContainer, {childList: true});\n",
              "}}\n",
              "\n",
              "// Listen for the clearing of the current output cell\n",
              "var outputEl = gd.closest('.output');\n",
              "if (outputEl) {{\n",
              "    x.observe(outputEl, {childList: true});\n",
              "}}\n",
              "\n",
              "                        })\n",
              "                };\n",
              "                \n",
              "            </script>\n",
              "        </div>\n",
              "</body>\n",
              "</html>"
            ]
          },
          "metadata": {}
        },
        {
          "output_type": "display_data",
          "data": {
            "text/html": [
              "<html>\n",
              "<head><meta charset=\"utf-8\" /></head>\n",
              "<body>\n",
              "    <div>\n",
              "            <script src=\"https://cdnjs.cloudflare.com/ajax/libs/mathjax/2.7.5/MathJax.js?config=TeX-AMS-MML_SVG\"></script><script type=\"text/javascript\">if (window.MathJax) {MathJax.Hub.Config({SVG: {font: \"STIX-Web\"}});}</script>\n",
              "                <script type=\"text/javascript\">window.PlotlyConfig = {MathJaxConfig: 'local'};</script>\n",
              "        <script src=\"https://cdn.plot.ly/plotly-latest.min.js\"></script>    \n",
              "            <div id=\"2fc987fb-0f0e-473a-af69-209599b94c05\" class=\"plotly-graph-div\" style=\"height:400px; width:600px;\"></div>\n",
              "            <script type=\"text/javascript\">\n",
              "                \n",
              "                    window.PLOTLYENV=window.PLOTLYENV || {};\n",
              "                    \n",
              "                if (document.getElementById(\"2fc987fb-0f0e-473a-af69-209599b94c05\")) {\n",
              "                    Plotly.newPlot(\n",
              "                        '2fc987fb-0f0e-473a-af69-209599b94c05',\n",
              "                        [{\"fill\": \"tozeroy\", \"line\": {\"color\": \"#ccc\"}, \"mode\": \"lines\", \"name\": \"Test Data\", \"type\": \"scatter\", \"x\": [139, 140, 141, 142, 143, 144, 145, 146, 147, 148, 149, 150, 151, 152, 153, 154, 155, 156, 157, 158, 159, 160, 161, 162, 163, 164, 165, 166, 167, 168, 169, 170, 171, 172, 173, 174, 175, 176, 177, 178], \"y\": [10.592763248561692, 10.575100016599102, 10.550775332540315, 10.589690175377404, 10.61796707213936, 10.66515445933413, 10.704873253322848, 10.687260549289931, 10.741890253752098, 10.727333774648573, 10.725709333961985, 10.700972225644158, 10.774780918479548, 10.759359478912216, 10.757345704221615, 10.734248500228874, 10.707638172470022, 10.707847118118515, 10.752796674693997, 10.806135037127264, 10.795933647187153, 10.804445739393069, 10.809502670658368, 10.772141664652592, 10.799030939008446, 10.754575435989532, 10.80100109117684, 10.79743757891689, 10.794826153147854, 10.75753919754622, 10.760047175792012, 10.795701142379043, 10.804596420922662, 10.819761084262362, 10.818089659485382, 10.854312649150868, 10.87168549031559, 10.75499930769892, 10.737446341770063, 10.744949991349275]}, {\"fill\": \"tozeroy\", \"line\": {\"color\": \"#ccc\"}, \"mode\": \"lines+markers\", \"name\": \"Actual Price\", \"type\": \"scatter\", \"x\": [179, 180, 181, 182, 183], \"y\": [10.592763248561692, 10.575100016599102, 10.550775332540315, 10.589690175377404, 10.61796707213936]}, {\"line\": {\"color\": \"red\"}, \"mode\": \"lines+markers\", \"name\": \"Predicted Price\", \"type\": \"scatter\", \"x\": [179, 180, 181, 182, 183], \"y\": [10.478832244873047, 10.501327514648438, 10.464738845825195, 10.563251495361328, 10.444165229797363]}],\n",
              "                        {\"height\": 400, \"template\": {\"data\": {\"bar\": [{\"error_x\": {\"color\": \"#2a3f5f\"}, \"error_y\": {\"color\": \"#2a3f5f\"}, \"marker\": {\"line\": {\"color\": \"white\", \"width\": 0.5}}, \"type\": \"bar\"}], \"barpolar\": [{\"marker\": {\"line\": {\"color\": \"white\", \"width\": 0.5}}, \"type\": \"barpolar\"}], \"carpet\": [{\"aaxis\": {\"endlinecolor\": \"#2a3f5f\", \"gridcolor\": \"#C8D4E3\", \"linecolor\": \"#C8D4E3\", \"minorgridcolor\": \"#C8D4E3\", \"startlinecolor\": \"#2a3f5f\"}, \"baxis\": {\"endlinecolor\": \"#2a3f5f\", \"gridcolor\": \"#C8D4E3\", \"linecolor\": \"#C8D4E3\", \"minorgridcolor\": \"#C8D4E3\", \"startlinecolor\": \"#2a3f5f\"}, \"type\": \"carpet\"}], \"choropleth\": [{\"colorbar\": {\"outlinewidth\": 0, \"ticks\": \"\"}, \"type\": \"choropleth\"}], \"contour\": [{\"colorbar\": {\"outlinewidth\": 0, \"ticks\": \"\"}, \"colorscale\": [[0.0, \"#0d0887\"], [0.1111111111111111, \"#46039f\"], [0.2222222222222222, \"#7201a8\"], [0.3333333333333333, \"#9c179e\"], [0.4444444444444444, \"#bd3786\"], [0.5555555555555556, \"#d8576b\"], [0.6666666666666666, \"#ed7953\"], [0.7777777777777778, \"#fb9f3a\"], [0.8888888888888888, \"#fdca26\"], [1.0, \"#f0f921\"]], \"type\": \"contour\"}], \"contourcarpet\": [{\"colorbar\": {\"outlinewidth\": 0, \"ticks\": \"\"}, \"type\": \"contourcarpet\"}], \"heatmap\": [{\"colorbar\": {\"outlinewidth\": 0, \"ticks\": \"\"}, \"colorscale\": [[0.0, \"#0d0887\"], [0.1111111111111111, \"#46039f\"], [0.2222222222222222, \"#7201a8\"], [0.3333333333333333, \"#9c179e\"], [0.4444444444444444, \"#bd3786\"], [0.5555555555555556, \"#d8576b\"], [0.6666666666666666, \"#ed7953\"], [0.7777777777777778, \"#fb9f3a\"], [0.8888888888888888, \"#fdca26\"], [1.0, \"#f0f921\"]], \"type\": \"heatmap\"}], \"heatmapgl\": [{\"colorbar\": {\"outlinewidth\": 0, \"ticks\": \"\"}, \"colorscale\": [[0.0, \"#0d0887\"], [0.1111111111111111, \"#46039f\"], [0.2222222222222222, \"#7201a8\"], [0.3333333333333333, \"#9c179e\"], [0.4444444444444444, \"#bd3786\"], [0.5555555555555556, \"#d8576b\"], [0.6666666666666666, \"#ed7953\"], [0.7777777777777778, \"#fb9f3a\"], [0.8888888888888888, \"#fdca26\"], [1.0, \"#f0f921\"]], \"type\": \"heatmapgl\"}], \"histogram\": [{\"marker\": {\"colorbar\": {\"outlinewidth\": 0, \"ticks\": \"\"}}, \"type\": \"histogram\"}], \"histogram2d\": [{\"colorbar\": {\"outlinewidth\": 0, \"ticks\": \"\"}, \"colorscale\": [[0.0, \"#0d0887\"], [0.1111111111111111, \"#46039f\"], [0.2222222222222222, \"#7201a8\"], [0.3333333333333333, \"#9c179e\"], [0.4444444444444444, \"#bd3786\"], [0.5555555555555556, \"#d8576b\"], [0.6666666666666666, \"#ed7953\"], [0.7777777777777778, \"#fb9f3a\"], [0.8888888888888888, \"#fdca26\"], [1.0, \"#f0f921\"]], \"type\": \"histogram2d\"}], \"histogram2dcontour\": [{\"colorbar\": {\"outlinewidth\": 0, \"ticks\": \"\"}, \"colorscale\": [[0.0, \"#0d0887\"], [0.1111111111111111, \"#46039f\"], [0.2222222222222222, \"#7201a8\"], [0.3333333333333333, \"#9c179e\"], [0.4444444444444444, \"#bd3786\"], [0.5555555555555556, \"#d8576b\"], [0.6666666666666666, \"#ed7953\"], [0.7777777777777778, \"#fb9f3a\"], [0.8888888888888888, \"#fdca26\"], [1.0, \"#f0f921\"]], \"type\": \"histogram2dcontour\"}], \"mesh3d\": [{\"colorbar\": {\"outlinewidth\": 0, \"ticks\": \"\"}, \"type\": \"mesh3d\"}], \"parcoords\": [{\"line\": {\"colorbar\": {\"outlinewidth\": 0, \"ticks\": \"\"}}, \"type\": \"parcoords\"}], \"pie\": [{\"automargin\": true, \"type\": \"pie\"}], \"scatter\": [{\"marker\": {\"colorbar\": {\"outlinewidth\": 0, \"ticks\": \"\"}}, \"type\": \"scatter\"}], \"scatter3d\": [{\"line\": {\"colorbar\": {\"outlinewidth\": 0, \"ticks\": \"\"}}, \"marker\": {\"colorbar\": {\"outlinewidth\": 0, \"ticks\": \"\"}}, \"type\": \"scatter3d\"}], \"scattercarpet\": [{\"marker\": {\"colorbar\": {\"outlinewidth\": 0, \"ticks\": \"\"}}, \"type\": \"scattercarpet\"}], \"scattergeo\": [{\"marker\": {\"colorbar\": {\"outlinewidth\": 0, \"ticks\": \"\"}}, \"type\": \"scattergeo\"}], \"scattergl\": [{\"marker\": {\"colorbar\": {\"outlinewidth\": 0, \"ticks\": \"\"}}, \"type\": \"scattergl\"}], \"scattermapbox\": [{\"marker\": {\"colorbar\": {\"outlinewidth\": 0, \"ticks\": \"\"}}, \"type\": \"scattermapbox\"}], \"scatterpolar\": [{\"marker\": {\"colorbar\": {\"outlinewidth\": 0, \"ticks\": \"\"}}, \"type\": \"scatterpolar\"}], \"scatterpolargl\": [{\"marker\": {\"colorbar\": {\"outlinewidth\": 0, \"ticks\": \"\"}}, \"type\": \"scatterpolargl\"}], \"scatterternary\": [{\"marker\": {\"colorbar\": {\"outlinewidth\": 0, \"ticks\": \"\"}}, \"type\": \"scatterternary\"}], \"surface\": [{\"colorbar\": {\"outlinewidth\": 0, \"ticks\": \"\"}, \"colorscale\": [[0.0, \"#0d0887\"], [0.1111111111111111, \"#46039f\"], [0.2222222222222222, \"#7201a8\"], [0.3333333333333333, \"#9c179e\"], [0.4444444444444444, \"#bd3786\"], [0.5555555555555556, \"#d8576b\"], [0.6666666666666666, \"#ed7953\"], [0.7777777777777778, \"#fb9f3a\"], [0.8888888888888888, \"#fdca26\"], [1.0, \"#f0f921\"]], \"type\": \"surface\"}], \"table\": [{\"cells\": {\"fill\": {\"color\": \"#EBF0F8\"}, \"line\": {\"color\": \"white\"}}, \"header\": {\"fill\": {\"color\": \"#C8D4E3\"}, \"line\": {\"color\": \"white\"}}, \"type\": \"table\"}]}, \"layout\": {\"annotationdefaults\": {\"arrowcolor\": \"#2a3f5f\", \"arrowhead\": 0, \"arrowwidth\": 1}, \"coloraxis\": {\"colorbar\": {\"outlinewidth\": 0, \"ticks\": \"\"}}, \"colorscale\": {\"diverging\": [[0, \"#8e0152\"], [0.1, \"#c51b7d\"], [0.2, \"#de77ae\"], [0.3, \"#f1b6da\"], [0.4, \"#fde0ef\"], [0.5, \"#f7f7f7\"], [0.6, \"#e6f5d0\"], [0.7, \"#b8e186\"], [0.8, \"#7fbc41\"], [0.9, \"#4d9221\"], [1, \"#276419\"]], \"sequential\": [[0.0, \"#0d0887\"], [0.1111111111111111, \"#46039f\"], [0.2222222222222222, \"#7201a8\"], [0.3333333333333333, \"#9c179e\"], [0.4444444444444444, \"#bd3786\"], [0.5555555555555556, \"#d8576b\"], [0.6666666666666666, \"#ed7953\"], [0.7777777777777778, \"#fb9f3a\"], [0.8888888888888888, \"#fdca26\"], [1.0, \"#f0f921\"]], \"sequentialminus\": [[0.0, \"#0d0887\"], [0.1111111111111111, \"#46039f\"], [0.2222222222222222, \"#7201a8\"], [0.3333333333333333, \"#9c179e\"], [0.4444444444444444, \"#bd3786\"], [0.5555555555555556, \"#d8576b\"], [0.6666666666666666, \"#ed7953\"], [0.7777777777777778, \"#fb9f3a\"], [0.8888888888888888, \"#fdca26\"], [1.0, \"#f0f921\"]]}, \"colorway\": [\"#636efa\", \"#EF553B\", \"#00cc96\", \"#ab63fa\", \"#FFA15A\", \"#19d3f3\", \"#FF6692\", \"#B6E880\", \"#FF97FF\", \"#FECB52\"], \"font\": {\"color\": \"#2a3f5f\"}, \"geo\": {\"bgcolor\": \"white\", \"lakecolor\": \"white\", \"landcolor\": \"white\", \"showlakes\": true, \"showland\": true, \"subunitcolor\": \"#C8D4E3\"}, \"hoverlabel\": {\"align\": \"left\"}, \"hovermode\": \"closest\", \"mapbox\": {\"style\": \"light\"}, \"paper_bgcolor\": \"white\", \"plot_bgcolor\": \"white\", \"polar\": {\"angularaxis\": {\"gridcolor\": \"#EBF0F8\", \"linecolor\": \"#EBF0F8\", \"ticks\": \"\"}, \"bgcolor\": \"white\", \"radialaxis\": {\"gridcolor\": \"#EBF0F8\", \"linecolor\": \"#EBF0F8\", \"ticks\": \"\"}}, \"scene\": {\"xaxis\": {\"backgroundcolor\": \"white\", \"gridcolor\": \"#DFE8F3\", \"gridwidth\": 2, \"linecolor\": \"#EBF0F8\", \"showbackground\": true, \"ticks\": \"\", \"zerolinecolor\": \"#EBF0F8\"}, \"yaxis\": {\"backgroundcolor\": \"white\", \"gridcolor\": \"#DFE8F3\", \"gridwidth\": 2, \"linecolor\": \"#EBF0F8\", \"showbackground\": true, \"ticks\": \"\", \"zerolinecolor\": \"#EBF0F8\"}, \"zaxis\": {\"backgroundcolor\": \"white\", \"gridcolor\": \"#DFE8F3\", \"gridwidth\": 2, \"linecolor\": \"#EBF0F8\", \"showbackground\": true, \"ticks\": \"\", \"zerolinecolor\": \"#EBF0F8\"}}, \"shapedefaults\": {\"line\": {\"color\": \"#2a3f5f\"}}, \"ternary\": {\"aaxis\": {\"gridcolor\": \"#DFE8F3\", \"linecolor\": \"#A2B1C6\", \"ticks\": \"\"}, \"baxis\": {\"gridcolor\": \"#DFE8F3\", \"linecolor\": \"#A2B1C6\", \"ticks\": \"\"}, \"bgcolor\": \"white\", \"caxis\": {\"gridcolor\": \"#DFE8F3\", \"linecolor\": \"#A2B1C6\", \"ticks\": \"\"}}, \"title\": {\"x\": 0.05}, \"xaxis\": {\"automargin\": true, \"gridcolor\": \"#EBF0F8\", \"linecolor\": \"#EBF0F8\", \"ticks\": \"\", \"title\": {\"standoff\": 15}, \"zerolinecolor\": \"#EBF0F8\", \"zerolinewidth\": 2}, \"yaxis\": {\"automargin\": true, \"gridcolor\": \"#EBF0F8\", \"linecolor\": \"#EBF0F8\", \"ticks\": \"\", \"title\": {\"standoff\": 15}, \"zerolinecolor\": \"#EBF0F8\", \"zerolinewidth\": 2}}}, \"title\": {\"text\": \"Actual vs Predicted Price\"}, \"width\": 600, \"xaxis\": {\"title\": {\"text\": \"Batch\"}}, \"yaxis\": {\"title\": {\"text\": \"Price\"}}},\n",
              "                        {\"responsive\": true}\n",
              "                    ).then(function(){\n",
              "                            \n",
              "var gd = document.getElementById('2fc987fb-0f0e-473a-af69-209599b94c05');\n",
              "var x = new MutationObserver(function (mutations, observer) {{\n",
              "        var display = window.getComputedStyle(gd).display;\n",
              "        if (!display || display === 'none') {{\n",
              "            console.log([gd, 'removed!']);\n",
              "            Plotly.purge(gd);\n",
              "            observer.disconnect();\n",
              "        }}\n",
              "}});\n",
              "\n",
              "// Listen for the removal of the full notebook cells\n",
              "var notebookContainer = gd.closest('#notebook-container');\n",
              "if (notebookContainer) {{\n",
              "    x.observe(notebookContainer, {childList: true});\n",
              "}}\n",
              "\n",
              "// Listen for the clearing of the current output cell\n",
              "var outputEl = gd.closest('.output');\n",
              "if (outputEl) {{\n",
              "    x.observe(outputEl, {childList: true});\n",
              "}}\n",
              "\n",
              "                        })\n",
              "                };\n",
              "                \n",
              "            </script>\n",
              "        </div>\n",
              "</body>\n",
              "</html>"
            ]
          },
          "metadata": {}
        },
        {
          "output_type": "stream",
          "name": "stderr",
          "text": [
            "WARNING:absl:Found untraced functions such as lstm_cell_layer_call_fn, lstm_cell_layer_call_and_return_conditional_losses, lstm_cell_1_layer_call_fn, lstm_cell_1_layer_call_and_return_conditional_losses, lstm_cell_2_layer_call_fn while saving (showing 5 of 15). These functions will not be directly callable after loading.\n"
          ]
        },
        {
          "output_type": "stream",
          "name": "stdout",
          "text": [
            "INFO:tensorflow:Assets written to: /content/drive/MyDrive/Colab Notebooks/models/model_BTC_log_features/assets\n"
          ]
        },
        {
          "output_type": "stream",
          "name": "stderr",
          "text": [
            "INFO:tensorflow:Assets written to: /content/drive/MyDrive/Colab Notebooks/models/model_BTC_log_features/assets\n"
          ]
        }
      ]
    },
    {
      "cell_type": "markdown",
      "metadata": {
        "id": "pD3E9YDpTFgp"
      },
      "source": [
        "### VM Ware\n",
        "+ train with all features\n",
        "+ train with optimal features"
      ]
    },
    {
      "cell_type": "code",
      "metadata": {
        "colab": {
          "base_uri": "https://localhost:8080/",
          "height": 1000
        },
        "id": "U82sdpFfTE4j",
        "outputId": "3aacb499-7b34-41c1-c6fa-a25b322b6e8f"
      },
      "source": [
        "# VW Ware -all features\n",
        "stock= 'VWM'\n",
        "modelname = f'model_{stock}_{transform}'\n",
        "model = create_lstm_model(config,x_train,n_predict)\n",
        "\n",
        "# train\n",
        "tic = timeit.default_timer()\n",
        "history = model.fit(x_train,\n",
        "                    y_train,\n",
        "                    batch_size=config['train']['batch_size'],\n",
        "                    epochs=config['train']['epochs'],\n",
        "                    callbacks = [config['train']['early_stop']],\n",
        "                    validation_split =0.10, \n",
        "                    verbose = 0\n",
        "                    )\n",
        "\n",
        "\n",
        "# print the training time\n",
        "toc =timeit.default_timer()\n",
        "print('\\nTraining Time')\n",
        "print('='*60)\n",
        "print(f'Minutes:{round((toc-tic)/60,2)}\\n')\n",
        "\n",
        "# predict prices\n",
        "# calculate the performance metrics\n",
        "# plot training metrics\n",
        "# plot predictions for random batches\n",
        "y_pred_scaled = calculate_performance(x_test,y_test,model,scaler_y)\n",
        "plot_training_metrics(history)\n",
        "plot_n_price_predictions(idx_close,x_test,y_pred_scaled,scaler_y,2)\n",
        "\n",
        "\n",
        "# save model and training performance\n",
        "model.save(f'/content/drive/MyDrive/Colab Notebooks/models/{modelname}_all')\n",
        "\n",
        "df_hist = pd.DataFrame(history.history) \n",
        "df_hist.to_csv(f'/content/drive/MyDrive/Colab Notebooks/models/{modelname}_all/train_history.csv')"
      ],
      "execution_count": 80,
      "outputs": [
        {
          "output_type": "stream",
          "name": "stdout",
          "text": [
            "Model: \"LSTM\"\n",
            "_________________________________________________________________\n",
            "Layer (type)                 Output Shape              Param #   \n",
            "=================================================================\n",
            "lstm (LSTM)                  (None, 40, 40)            11040     \n",
            "_________________________________________________________________\n",
            "lstm_1 (LSTM)                (None, 40, 256)           304128    \n",
            "_________________________________________________________________\n",
            "dropout (Dropout)            (None, 40, 256)           0         \n",
            "_________________________________________________________________\n",
            "lstm_2 (LSTM)                (None, 128)               197120    \n",
            "_________________________________________________________________\n",
            "dropout_1 (Dropout)          (None, 128)               0         \n",
            "_________________________________________________________________\n",
            "dense (Dense)                (None, 32)                4128      \n",
            "_________________________________________________________________\n",
            "dropout_2 (Dropout)          (None, 32)                0         \n",
            "_________________________________________________________________\n",
            "dense_1 (Dense)              (None, 16)                528       \n",
            "_________________________________________________________________\n",
            "dropout_3 (Dropout)          (None, 16)                0         \n",
            "_________________________________________________________________\n",
            "dense_2 (Dense)              (None, 5)                 85        \n",
            "=================================================================\n",
            "Total params: 517,029\n",
            "Trainable params: 517,029\n",
            "Non-trainable params: 0\n",
            "_________________________________________________________________\n",
            "\n",
            "Training Time\n",
            "============================================================\n",
            "Minutes:13.16\n",
            "\n",
            "\n",
            "Model Error\n",
            "==============================================================\n",
            "Mean Absolute Error (MAE)------------------------------  0.05\n",
            "Root Mean Squared Error (MSE)--------------------------  0.06\n",
            "Mean Absolute Percentage Error (MAPE)------------------  0.98%\n",
            "Median Absolute Percentage Error (MDAPE)---------------  0.76%\n"
          ]
        },
        {
          "output_type": "display_data",
          "data": {
            "text/html": [
              "<html>\n",
              "<head><meta charset=\"utf-8\" /></head>\n",
              "<body>\n",
              "    <div>\n",
              "            <script src=\"https://cdnjs.cloudflare.com/ajax/libs/mathjax/2.7.5/MathJax.js?config=TeX-AMS-MML_SVG\"></script><script type=\"text/javascript\">if (window.MathJax) {MathJax.Hub.Config({SVG: {font: \"STIX-Web\"}});}</script>\n",
              "                <script type=\"text/javascript\">window.PlotlyConfig = {MathJaxConfig: 'local'};</script>\n",
              "        <script src=\"https://cdn.plot.ly/plotly-latest.min.js\"></script>    \n",
              "            <div id=\"1042add6-5ab5-4f61-bd14-0acbd0952333\" class=\"plotly-graph-div\" style=\"height:500px; width:700px;\"></div>\n",
              "            <script type=\"text/javascript\">\n",
              "                \n",
              "                    window.PLOTLYENV=window.PLOTLYENV || {};\n",
              "                    \n",
              "                if (document.getElementById(\"1042add6-5ab5-4f61-bd14-0acbd0952333\")) {\n",
              "                    Plotly.newPlot(\n",
              "                        '1042add6-5ab5-4f61-bd14-0acbd0952333',\n",
              "                        [{\"line\": {\"color\": \"royalblue\", \"width\": 3}, \"name\": \"train-loss\", \"type\": \"scatter\", \"x\": [1, 2, 3, 4, 5, 6, 7, 8, 9, 10, 11, 12, 13, 14, 15, 16, 17, 18, 19, 20, 21, 22, 23, 24, 25, 26, 27, 28, 29, 30, 31, 32, 33, 34, 35, 36, 37, 38, 39, 40, 41, 42, 43, 44, 45, 46, 47, 48, 49, 50, 51, 52, 53, 54, 55, 56, 57, 58, 59, 60, 61, 62, 63, 64, 65, 66, 67, 68, 69, 70, 71, 72, 73, 74, 75, 76, 77, 78, 79, 80, 81, 82, 83, 84, 85, 86, 87, 88, 89, 90, 91, 92, 93, 94, 95, 96, 97, 98, 99, 100, 101, 102, 103, 104, 105, 106, 107], \"y\": [0.06101709231734276, 0.02110440284013748, 0.01624101959168911, 0.013533694669604301, 0.01265043206512928, 0.011983088217675686, 0.010700208134949207, 0.010139843448996544, 0.009269781410694122, 0.008502977900207043, 0.008078754879534245, 0.008154080249369144, 0.007357812952250242, 0.007200972642749548, 0.006618056911975145, 0.0065355459228158, 0.006610622629523277, 0.005955013912171125, 0.0060568018816411495, 0.006874333135783672, 0.0062003349885344505, 0.005378718487918377, 0.004904498346149921, 0.004702340345829725, 0.004982892889529467, 0.004481371492147446, 0.0043519604951143265, 0.004281875677406788, 0.004340995103120804, 0.004137368872761726, 0.0038846065290272236, 0.004217279609292746, 0.003739218460395932, 0.0037126573733985424, 0.0037365909665822983, 0.0036824471317231655, 0.0039327251724898815, 0.003741838503628969, 0.0032520119566470385, 0.0035618559923022985, 0.0032066362909972668, 0.0033333508763462305, 0.003217722289264202, 0.0031282480340451, 0.0031244191341102123, 0.0032024686224758625, 0.002927394350990653, 0.0028834000695496798, 0.00306185195222497, 0.002788122743368149, 0.0026874977629631758, 0.0027880363631993532, 0.0027511485386639833, 0.002531021134927869, 0.0024557700380682945, 0.0027462525758892298, 0.0028987338300794363, 0.0028185290284454823, 0.002502399031072855, 0.002489822916686535, 0.002429892774671316, 0.0025405471678823233, 0.002504603937268257, 0.0023854076862335205, 0.0021942672319710255, 0.0023947034496814013, 0.0024450819473713636, 0.0025124705862253904, 0.002124818041920662, 0.002206339966505766, 0.002191955456510186, 0.0021110137458890676, 0.0021966237109154463, 0.002075308933854103, 0.0019332763040438294, 0.002067079534754157, 0.0020221963059157133, 0.001882163342088461, 0.002081074984744191, 0.0020866417326033115, 0.0019208920421078801, 0.0019928275141865015, 0.001956300577148795, 0.0018523980397731066, 0.0020338704343885183, 0.0017849620198830962, 0.0018141194013878703, 0.0018262705998495221, 0.0017502097180113196, 0.0017117069801315665, 0.0017925180727615952, 0.0019313583616167307, 0.0018031236249953508, 0.0016051223501563072, 0.0017516904044896364, 0.0016351453959941864, 0.0015503618633374572, 0.0017530161421746016, 0.0017170024802908301, 0.001965959556400776, 0.0016727136680856347, 0.0015755672939121723, 0.001595910987816751, 0.001644897274672985, 0.0016667612362653017, 0.0015749651938676834, 0.001595567213371396]}, {\"line\": {\"color\": \"crimson\", \"width\": 3}, \"name\": \"val-loss\", \"type\": \"scatter\", \"x\": [1, 2, 3, 4, 5, 6, 7, 8, 9, 10, 11, 12, 13, 14, 15, 16, 17, 18, 19, 20, 21, 22, 23, 24, 25, 26, 27, 28, 29, 30, 31, 32, 33, 34, 35, 36, 37, 38, 39, 40, 41, 42, 43, 44, 45, 46, 47, 48, 49, 50, 51, 52, 53, 54, 55, 56, 57, 58, 59, 60, 61, 62, 63, 64, 65, 66, 67, 68, 69, 70, 71, 72, 73, 74, 75, 76, 77, 78, 79, 80, 81, 82, 83, 84, 85, 86, 87, 88, 89, 90, 91, 92, 93, 94, 95, 96, 97, 98, 99, 100, 101, 102, 103, 104, 105, 106, 107], \"y\": [0.00895706843584776, 0.005299109499901533, 0.003399890149012208, 0.005336099769920111, 0.004757632501423359, 0.009431537240743637, 0.0036781462840735912, 0.0032618341501802206, 0.006862567737698555, 0.0032719888258725405, 0.008368049748241901, 0.002419833792373538, 0.0033871368505060673, 0.006316633429378271, 0.00804384145885706, 0.006577123422175646, 0.002406504936516285, 0.002182197058573365, 0.006797781679779291, 0.003924654331058264, 0.002498841844499111, 0.0036797593347728252, 0.002551271114498377, 0.0020017626229673624, 0.0021843486465513706, 0.00285843457095325, 0.002055095974355936, 0.002399532124400139, 0.002673499984666705, 0.003913762979209423, 0.00672536063939333, 0.004049562383443117, 0.0026393167208880186, 0.0027030485216528177, 0.0029216972179710865, 0.004291928838938475, 0.00391346262767911, 0.0028460489120334387, 0.003530201967805624, 0.004969095811247826, 0.00508266082033515, 0.0028194752521812916, 0.003650056663900614, 0.0036600809544324875, 0.004117180127650499, 0.002179308095946908, 0.0023167964536696672, 0.0021999075543135405, 0.002506180899217725, 0.00356869213283062, 0.002036310965195298, 0.0019909748807549477, 0.0021659245248883963, 0.0019866470247507095, 0.004734718706458807, 0.002040963852778077, 0.0018443036824464798, 0.0019598999060690403, 0.002367486245930195, 0.003833936993032694, 0.004428818356245756, 0.0017895884811878204, 0.002490068320184946, 0.002940094331279397, 0.004002148751169443, 0.00666301092132926, 0.005658240523189306, 0.0024880964774638414, 0.002496809931471944, 0.001813286915421486, 0.002208937890827656, 0.0019587210845202208, 0.001753775984980166, 0.0017368154367431998, 0.002027754206210375, 0.0022016556467860937, 0.0027099575381726027, 0.0017643326427787542, 0.0017182512674480677, 0.0020000990480184555, 0.00188077287748456, 0.0018355200299993157, 0.00201333942823112, 0.0021367515437304974, 0.001957168336957693, 0.001703969668596983, 0.002053978620097041, 0.002765642013400793, 0.0022981087677180767, 0.0024099666625261307, 0.0031975472811609507, 0.002750708954408765, 0.0025059848558157682, 0.0019402155885472894, 0.002305844333022833, 0.0015235489699989557, 0.001542497775517404, 0.001575626665726304, 0.005766881629824638, 0.0032212771475315094, 0.0021563146729022264, 0.0020713431295007467, 0.0018957830034196377, 0.001895506284199655, 0.0018664068775251508, 0.003648807993158698, 0.0027754679322242737]}],\n",
              "                        {\"height\": 500, \"template\": {\"data\": {\"bar\": [{\"error_x\": {\"color\": \"#2a3f5f\"}, \"error_y\": {\"color\": \"#2a3f5f\"}, \"marker\": {\"line\": {\"color\": \"white\", \"width\": 0.5}}, \"type\": \"bar\"}], \"barpolar\": [{\"marker\": {\"line\": {\"color\": \"white\", \"width\": 0.5}}, \"type\": \"barpolar\"}], \"carpet\": [{\"aaxis\": {\"endlinecolor\": \"#2a3f5f\", \"gridcolor\": \"#C8D4E3\", \"linecolor\": \"#C8D4E3\", \"minorgridcolor\": \"#C8D4E3\", \"startlinecolor\": \"#2a3f5f\"}, \"baxis\": {\"endlinecolor\": \"#2a3f5f\", \"gridcolor\": \"#C8D4E3\", \"linecolor\": \"#C8D4E3\", \"minorgridcolor\": \"#C8D4E3\", \"startlinecolor\": \"#2a3f5f\"}, \"type\": \"carpet\"}], \"choropleth\": [{\"colorbar\": {\"outlinewidth\": 0, \"ticks\": \"\"}, \"type\": \"choropleth\"}], \"contour\": [{\"colorbar\": {\"outlinewidth\": 0, \"ticks\": \"\"}, \"colorscale\": [[0.0, \"#0d0887\"], [0.1111111111111111, \"#46039f\"], [0.2222222222222222, \"#7201a8\"], [0.3333333333333333, \"#9c179e\"], [0.4444444444444444, \"#bd3786\"], [0.5555555555555556, \"#d8576b\"], [0.6666666666666666, \"#ed7953\"], [0.7777777777777778, \"#fb9f3a\"], [0.8888888888888888, \"#fdca26\"], [1.0, \"#f0f921\"]], \"type\": \"contour\"}], \"contourcarpet\": [{\"colorbar\": {\"outlinewidth\": 0, \"ticks\": \"\"}, \"type\": \"contourcarpet\"}], \"heatmap\": [{\"colorbar\": {\"outlinewidth\": 0, \"ticks\": \"\"}, \"colorscale\": [[0.0, \"#0d0887\"], [0.1111111111111111, \"#46039f\"], [0.2222222222222222, \"#7201a8\"], [0.3333333333333333, \"#9c179e\"], [0.4444444444444444, \"#bd3786\"], [0.5555555555555556, \"#d8576b\"], [0.6666666666666666, \"#ed7953\"], [0.7777777777777778, \"#fb9f3a\"], [0.8888888888888888, \"#fdca26\"], [1.0, \"#f0f921\"]], \"type\": \"heatmap\"}], \"heatmapgl\": [{\"colorbar\": {\"outlinewidth\": 0, \"ticks\": \"\"}, \"colorscale\": [[0.0, \"#0d0887\"], [0.1111111111111111, \"#46039f\"], [0.2222222222222222, \"#7201a8\"], [0.3333333333333333, \"#9c179e\"], [0.4444444444444444, \"#bd3786\"], [0.5555555555555556, \"#d8576b\"], [0.6666666666666666, \"#ed7953\"], [0.7777777777777778, \"#fb9f3a\"], [0.8888888888888888, \"#fdca26\"], [1.0, \"#f0f921\"]], \"type\": \"heatmapgl\"}], \"histogram\": [{\"marker\": {\"colorbar\": {\"outlinewidth\": 0, \"ticks\": \"\"}}, \"type\": \"histogram\"}], \"histogram2d\": [{\"colorbar\": {\"outlinewidth\": 0, \"ticks\": \"\"}, \"colorscale\": [[0.0, \"#0d0887\"], [0.1111111111111111, \"#46039f\"], [0.2222222222222222, \"#7201a8\"], [0.3333333333333333, \"#9c179e\"], [0.4444444444444444, \"#bd3786\"], [0.5555555555555556, \"#d8576b\"], [0.6666666666666666, \"#ed7953\"], [0.7777777777777778, \"#fb9f3a\"], [0.8888888888888888, \"#fdca26\"], [1.0, \"#f0f921\"]], \"type\": \"histogram2d\"}], \"histogram2dcontour\": [{\"colorbar\": {\"outlinewidth\": 0, \"ticks\": \"\"}, \"colorscale\": [[0.0, \"#0d0887\"], [0.1111111111111111, \"#46039f\"], [0.2222222222222222, \"#7201a8\"], [0.3333333333333333, \"#9c179e\"], [0.4444444444444444, \"#bd3786\"], [0.5555555555555556, \"#d8576b\"], [0.6666666666666666, \"#ed7953\"], [0.7777777777777778, \"#fb9f3a\"], [0.8888888888888888, \"#fdca26\"], [1.0, \"#f0f921\"]], \"type\": \"histogram2dcontour\"}], \"mesh3d\": [{\"colorbar\": {\"outlinewidth\": 0, \"ticks\": \"\"}, \"type\": \"mesh3d\"}], \"parcoords\": [{\"line\": {\"colorbar\": {\"outlinewidth\": 0, \"ticks\": \"\"}}, \"type\": \"parcoords\"}], \"pie\": [{\"automargin\": true, \"type\": \"pie\"}], \"scatter\": [{\"marker\": {\"colorbar\": {\"outlinewidth\": 0, \"ticks\": \"\"}}, \"type\": \"scatter\"}], \"scatter3d\": [{\"line\": {\"colorbar\": {\"outlinewidth\": 0, \"ticks\": \"\"}}, \"marker\": {\"colorbar\": {\"outlinewidth\": 0, \"ticks\": \"\"}}, \"type\": \"scatter3d\"}], \"scattercarpet\": [{\"marker\": {\"colorbar\": {\"outlinewidth\": 0, \"ticks\": \"\"}}, \"type\": \"scattercarpet\"}], \"scattergeo\": [{\"marker\": {\"colorbar\": {\"outlinewidth\": 0, \"ticks\": \"\"}}, \"type\": \"scattergeo\"}], \"scattergl\": [{\"marker\": {\"colorbar\": {\"outlinewidth\": 0, \"ticks\": \"\"}}, \"type\": \"scattergl\"}], \"scattermapbox\": [{\"marker\": {\"colorbar\": {\"outlinewidth\": 0, \"ticks\": \"\"}}, \"type\": \"scattermapbox\"}], \"scatterpolar\": [{\"marker\": {\"colorbar\": {\"outlinewidth\": 0, \"ticks\": \"\"}}, \"type\": \"scatterpolar\"}], \"scatterpolargl\": [{\"marker\": {\"colorbar\": {\"outlinewidth\": 0, \"ticks\": \"\"}}, \"type\": \"scatterpolargl\"}], \"scatterternary\": [{\"marker\": {\"colorbar\": {\"outlinewidth\": 0, \"ticks\": \"\"}}, \"type\": \"scatterternary\"}], \"surface\": [{\"colorbar\": {\"outlinewidth\": 0, \"ticks\": \"\"}, \"colorscale\": [[0.0, \"#0d0887\"], [0.1111111111111111, \"#46039f\"], [0.2222222222222222, \"#7201a8\"], [0.3333333333333333, \"#9c179e\"], [0.4444444444444444, \"#bd3786\"], [0.5555555555555556, \"#d8576b\"], [0.6666666666666666, \"#ed7953\"], [0.7777777777777778, \"#fb9f3a\"], [0.8888888888888888, \"#fdca26\"], [1.0, \"#f0f921\"]], \"type\": \"surface\"}], \"table\": [{\"cells\": {\"fill\": {\"color\": \"#EBF0F8\"}, \"line\": {\"color\": \"white\"}}, \"header\": {\"fill\": {\"color\": \"#C8D4E3\"}, \"line\": {\"color\": \"white\"}}, \"type\": \"table\"}]}, \"layout\": {\"annotationdefaults\": {\"arrowcolor\": \"#2a3f5f\", \"arrowhead\": 0, \"arrowwidth\": 1}, \"coloraxis\": {\"colorbar\": {\"outlinewidth\": 0, \"ticks\": \"\"}}, \"colorscale\": {\"diverging\": [[0, \"#8e0152\"], [0.1, \"#c51b7d\"], [0.2, \"#de77ae\"], [0.3, \"#f1b6da\"], [0.4, \"#fde0ef\"], [0.5, \"#f7f7f7\"], [0.6, \"#e6f5d0\"], [0.7, \"#b8e186\"], [0.8, \"#7fbc41\"], [0.9, \"#4d9221\"], [1, \"#276419\"]], \"sequential\": [[0.0, \"#0d0887\"], [0.1111111111111111, \"#46039f\"], [0.2222222222222222, \"#7201a8\"], [0.3333333333333333, \"#9c179e\"], [0.4444444444444444, \"#bd3786\"], [0.5555555555555556, \"#d8576b\"], [0.6666666666666666, \"#ed7953\"], [0.7777777777777778, \"#fb9f3a\"], [0.8888888888888888, \"#fdca26\"], [1.0, \"#f0f921\"]], \"sequentialminus\": [[0.0, \"#0d0887\"], [0.1111111111111111, \"#46039f\"], [0.2222222222222222, \"#7201a8\"], [0.3333333333333333, \"#9c179e\"], [0.4444444444444444, \"#bd3786\"], [0.5555555555555556, \"#d8576b\"], [0.6666666666666666, \"#ed7953\"], [0.7777777777777778, \"#fb9f3a\"], [0.8888888888888888, \"#fdca26\"], [1.0, \"#f0f921\"]]}, \"colorway\": [\"#636efa\", \"#EF553B\", \"#00cc96\", \"#ab63fa\", \"#FFA15A\", \"#19d3f3\", \"#FF6692\", \"#B6E880\", \"#FF97FF\", \"#FECB52\"], \"font\": {\"color\": \"#2a3f5f\"}, \"geo\": {\"bgcolor\": \"white\", \"lakecolor\": \"white\", \"landcolor\": \"white\", \"showlakes\": true, \"showland\": true, \"subunitcolor\": \"#C8D4E3\"}, \"hoverlabel\": {\"align\": \"left\"}, \"hovermode\": \"closest\", \"mapbox\": {\"style\": \"light\"}, \"paper_bgcolor\": \"white\", \"plot_bgcolor\": \"white\", \"polar\": {\"angularaxis\": {\"gridcolor\": \"#EBF0F8\", \"linecolor\": \"#EBF0F8\", \"ticks\": \"\"}, \"bgcolor\": \"white\", \"radialaxis\": {\"gridcolor\": \"#EBF0F8\", \"linecolor\": \"#EBF0F8\", \"ticks\": \"\"}}, \"scene\": {\"xaxis\": {\"backgroundcolor\": \"white\", \"gridcolor\": \"#DFE8F3\", \"gridwidth\": 2, \"linecolor\": \"#EBF0F8\", \"showbackground\": true, \"ticks\": \"\", \"zerolinecolor\": \"#EBF0F8\"}, \"yaxis\": {\"backgroundcolor\": \"white\", \"gridcolor\": \"#DFE8F3\", \"gridwidth\": 2, \"linecolor\": \"#EBF0F8\", \"showbackground\": true, \"ticks\": \"\", \"zerolinecolor\": \"#EBF0F8\"}, \"zaxis\": {\"backgroundcolor\": \"white\", \"gridcolor\": \"#DFE8F3\", \"gridwidth\": 2, \"linecolor\": \"#EBF0F8\", \"showbackground\": true, \"ticks\": \"\", \"zerolinecolor\": \"#EBF0F8\"}}, \"shapedefaults\": {\"line\": {\"color\": \"#2a3f5f\"}}, \"ternary\": {\"aaxis\": {\"gridcolor\": \"#DFE8F3\", \"linecolor\": \"#A2B1C6\", \"ticks\": \"\"}, \"baxis\": {\"gridcolor\": \"#DFE8F3\", \"linecolor\": \"#A2B1C6\", \"ticks\": \"\"}, \"bgcolor\": \"white\", \"caxis\": {\"gridcolor\": \"#DFE8F3\", \"linecolor\": \"#A2B1C6\", \"ticks\": \"\"}}, \"title\": {\"x\": 0.05}, \"xaxis\": {\"automargin\": true, \"gridcolor\": \"#EBF0F8\", \"linecolor\": \"#EBF0F8\", \"ticks\": \"\", \"title\": {\"standoff\": 15}, \"zerolinecolor\": \"#EBF0F8\", \"zerolinewidth\": 2}, \"yaxis\": {\"automargin\": true, \"gridcolor\": \"#EBF0F8\", \"linecolor\": \"#EBF0F8\", \"ticks\": \"\", \"title\": {\"standoff\": 15}, \"zerolinecolor\": \"#EBF0F8\", \"zerolinewidth\": 2}}}, \"title\": {\"text\": \"Training Metrics\"}, \"width\": 700, \"xaxis\": {\"title\": {\"text\": \"epochs\"}}, \"yaxis\": {\"title\": {\"text\": \"loss\"}}},\n",
              "                        {\"responsive\": true}\n",
              "                    ).then(function(){\n",
              "                            \n",
              "var gd = document.getElementById('1042add6-5ab5-4f61-bd14-0acbd0952333');\n",
              "var x = new MutationObserver(function (mutations, observer) {{\n",
              "        var display = window.getComputedStyle(gd).display;\n",
              "        if (!display || display === 'none') {{\n",
              "            console.log([gd, 'removed!']);\n",
              "            Plotly.purge(gd);\n",
              "            observer.disconnect();\n",
              "        }}\n",
              "}});\n",
              "\n",
              "// Listen for the removal of the full notebook cells\n",
              "var notebookContainer = gd.closest('#notebook-container');\n",
              "if (notebookContainer) {{\n",
              "    x.observe(notebookContainer, {childList: true});\n",
              "}}\n",
              "\n",
              "// Listen for the clearing of the current output cell\n",
              "var outputEl = gd.closest('.output');\n",
              "if (outputEl) {{\n",
              "    x.observe(outputEl, {childList: true});\n",
              "}}\n",
              "\n",
              "                        })\n",
              "                };\n",
              "                \n",
              "            </script>\n",
              "        </div>\n",
              "</body>\n",
              "</html>"
            ]
          },
          "metadata": {}
        },
        {
          "output_type": "display_data",
          "data": {
            "text/html": [
              "<html>\n",
              "<head><meta charset=\"utf-8\" /></head>\n",
              "<body>\n",
              "    <div>\n",
              "            <script src=\"https://cdnjs.cloudflare.com/ajax/libs/mathjax/2.7.5/MathJax.js?config=TeX-AMS-MML_SVG\"></script><script type=\"text/javascript\">if (window.MathJax) {MathJax.Hub.Config({SVG: {font: \"STIX-Web\"}});}</script>\n",
              "                <script type=\"text/javascript\">window.PlotlyConfig = {MathJaxConfig: 'local'};</script>\n",
              "        <script src=\"https://cdn.plot.ly/plotly-latest.min.js\"></script>    \n",
              "            <div id=\"8860f8be-99cc-493e-a573-4a8a7e17b085\" class=\"plotly-graph-div\" style=\"height:400px; width:600px;\"></div>\n",
              "            <script type=\"text/javascript\">\n",
              "                \n",
              "                    window.PLOTLYENV=window.PLOTLYENV || {};\n",
              "                    \n",
              "                if (document.getElementById(\"8860f8be-99cc-493e-a573-4a8a7e17b085\")) {\n",
              "                    Plotly.newPlot(\n",
              "                        '8860f8be-99cc-493e-a573-4a8a7e17b085',\n",
              "                        [{\"fill\": \"tozeroy\", \"line\": {\"color\": \"#ccc\"}, \"mode\": \"lines\", \"name\": \"Test Data\", \"type\": \"scatter\", \"x\": [258, 259, 260, 261, 262, 263, 264, 265, 266, 267, 268, 269, 270, 271, 272, 273, 274, 275, 276, 277, 278, 279, 280, 281, 282, 283, 284, 285, 286, 287, 288, 289, 290, 291, 292, 293, 294, 295, 296, 297], \"y\": [4.963893031544124, 4.97583678855356, 4.951522029603749, 4.950106501021434, 4.94356913673158, 4.960113631748675, 4.93461780767234, 4.944353031302275, 4.953359226276525, 4.962774697744756, 4.981824212242136, 4.967519003022628, 4.974662633637438, 4.9624949187683205, 4.977147449935266, 4.990432586778736, 4.995521656286208, 5.012300573415317, 5.0204536030335944, 5.025326842839245, 5.043683148142456, 5.0476741415312425, 5.031613700481447, 5.027885647502783, 5.010101818490112, 5.007697650108913, 5.008566488927144, 4.995318589984363, 5.005287687769661, 4.960183750600158, 4.935193098929397, 4.866687938419193, 4.865686590367103, 4.857717187671543, 4.844187086458591, 4.882271478895685, 4.895897616625833, 4.946914216538403, 4.943711708730681, 4.947766489317265]}, {\"fill\": \"tozeroy\", \"line\": {\"color\": \"#ccc\"}, \"mode\": \"lines+markers\", \"name\": \"Actual Price\", \"type\": \"scatter\", \"x\": [298, 299, 300, 301, 302], \"y\": [4.963893031544124, 4.97583678855356, 4.951522029603749, 4.950106501021434, 4.94356913673158]}, {\"line\": {\"color\": \"red\"}, \"mode\": \"lines+markers\", \"name\": \"Predicted Price\", \"type\": \"scatter\", \"x\": [298, 299, 300, 301, 302], \"y\": [4.940337657928467, 4.934676170349121, 4.939664363861084, 4.921699047088623, 4.912163734436035]}],\n",
              "                        {\"height\": 400, \"template\": {\"data\": {\"bar\": [{\"error_x\": {\"color\": \"#2a3f5f\"}, \"error_y\": {\"color\": \"#2a3f5f\"}, \"marker\": {\"line\": {\"color\": \"white\", \"width\": 0.5}}, \"type\": \"bar\"}], \"barpolar\": [{\"marker\": {\"line\": {\"color\": \"white\", \"width\": 0.5}}, \"type\": \"barpolar\"}], \"carpet\": [{\"aaxis\": {\"endlinecolor\": \"#2a3f5f\", \"gridcolor\": \"#C8D4E3\", \"linecolor\": \"#C8D4E3\", \"minorgridcolor\": \"#C8D4E3\", \"startlinecolor\": \"#2a3f5f\"}, \"baxis\": {\"endlinecolor\": \"#2a3f5f\", \"gridcolor\": \"#C8D4E3\", \"linecolor\": \"#C8D4E3\", \"minorgridcolor\": \"#C8D4E3\", \"startlinecolor\": \"#2a3f5f\"}, \"type\": \"carpet\"}], \"choropleth\": [{\"colorbar\": {\"outlinewidth\": 0, \"ticks\": \"\"}, \"type\": \"choropleth\"}], \"contour\": [{\"colorbar\": {\"outlinewidth\": 0, \"ticks\": \"\"}, \"colorscale\": [[0.0, \"#0d0887\"], [0.1111111111111111, \"#46039f\"], [0.2222222222222222, \"#7201a8\"], [0.3333333333333333, \"#9c179e\"], [0.4444444444444444, \"#bd3786\"], [0.5555555555555556, \"#d8576b\"], [0.6666666666666666, \"#ed7953\"], [0.7777777777777778, \"#fb9f3a\"], [0.8888888888888888, \"#fdca26\"], [1.0, \"#f0f921\"]], \"type\": \"contour\"}], \"contourcarpet\": [{\"colorbar\": {\"outlinewidth\": 0, \"ticks\": \"\"}, \"type\": \"contourcarpet\"}], \"heatmap\": [{\"colorbar\": {\"outlinewidth\": 0, \"ticks\": \"\"}, \"colorscale\": [[0.0, \"#0d0887\"], [0.1111111111111111, \"#46039f\"], [0.2222222222222222, \"#7201a8\"], [0.3333333333333333, \"#9c179e\"], [0.4444444444444444, \"#bd3786\"], [0.5555555555555556, \"#d8576b\"], [0.6666666666666666, \"#ed7953\"], [0.7777777777777778, \"#fb9f3a\"], [0.8888888888888888, \"#fdca26\"], [1.0, \"#f0f921\"]], \"type\": \"heatmap\"}], \"heatmapgl\": [{\"colorbar\": {\"outlinewidth\": 0, \"ticks\": \"\"}, \"colorscale\": [[0.0, \"#0d0887\"], [0.1111111111111111, \"#46039f\"], [0.2222222222222222, \"#7201a8\"], [0.3333333333333333, \"#9c179e\"], [0.4444444444444444, \"#bd3786\"], [0.5555555555555556, \"#d8576b\"], [0.6666666666666666, \"#ed7953\"], [0.7777777777777778, \"#fb9f3a\"], [0.8888888888888888, \"#fdca26\"], [1.0, \"#f0f921\"]], \"type\": \"heatmapgl\"}], \"histogram\": [{\"marker\": {\"colorbar\": {\"outlinewidth\": 0, \"ticks\": \"\"}}, \"type\": \"histogram\"}], \"histogram2d\": [{\"colorbar\": {\"outlinewidth\": 0, \"ticks\": \"\"}, \"colorscale\": [[0.0, \"#0d0887\"], [0.1111111111111111, \"#46039f\"], [0.2222222222222222, \"#7201a8\"], [0.3333333333333333, \"#9c179e\"], [0.4444444444444444, \"#bd3786\"], [0.5555555555555556, \"#d8576b\"], [0.6666666666666666, \"#ed7953\"], [0.7777777777777778, \"#fb9f3a\"], [0.8888888888888888, \"#fdca26\"], [1.0, \"#f0f921\"]], \"type\": \"histogram2d\"}], \"histogram2dcontour\": [{\"colorbar\": {\"outlinewidth\": 0, \"ticks\": \"\"}, \"colorscale\": [[0.0, \"#0d0887\"], [0.1111111111111111, \"#46039f\"], [0.2222222222222222, \"#7201a8\"], [0.3333333333333333, \"#9c179e\"], [0.4444444444444444, \"#bd3786\"], [0.5555555555555556, \"#d8576b\"], [0.6666666666666666, \"#ed7953\"], [0.7777777777777778, \"#fb9f3a\"], [0.8888888888888888, \"#fdca26\"], [1.0, \"#f0f921\"]], \"type\": \"histogram2dcontour\"}], \"mesh3d\": [{\"colorbar\": {\"outlinewidth\": 0, \"ticks\": \"\"}, \"type\": \"mesh3d\"}], \"parcoords\": [{\"line\": {\"colorbar\": {\"outlinewidth\": 0, \"ticks\": \"\"}}, \"type\": \"parcoords\"}], \"pie\": [{\"automargin\": true, \"type\": \"pie\"}], \"scatter\": [{\"marker\": {\"colorbar\": {\"outlinewidth\": 0, \"ticks\": \"\"}}, \"type\": \"scatter\"}], \"scatter3d\": [{\"line\": {\"colorbar\": {\"outlinewidth\": 0, \"ticks\": \"\"}}, \"marker\": {\"colorbar\": {\"outlinewidth\": 0, \"ticks\": \"\"}}, \"type\": \"scatter3d\"}], \"scattercarpet\": [{\"marker\": {\"colorbar\": {\"outlinewidth\": 0, \"ticks\": \"\"}}, \"type\": \"scattercarpet\"}], \"scattergeo\": [{\"marker\": {\"colorbar\": {\"outlinewidth\": 0, \"ticks\": \"\"}}, \"type\": \"scattergeo\"}], \"scattergl\": [{\"marker\": {\"colorbar\": {\"outlinewidth\": 0, \"ticks\": \"\"}}, \"type\": \"scattergl\"}], \"scattermapbox\": [{\"marker\": {\"colorbar\": {\"outlinewidth\": 0, \"ticks\": \"\"}}, \"type\": \"scattermapbox\"}], \"scatterpolar\": [{\"marker\": {\"colorbar\": {\"outlinewidth\": 0, \"ticks\": \"\"}}, \"type\": \"scatterpolar\"}], \"scatterpolargl\": [{\"marker\": {\"colorbar\": {\"outlinewidth\": 0, \"ticks\": \"\"}}, \"type\": \"scatterpolargl\"}], \"scatterternary\": [{\"marker\": {\"colorbar\": {\"outlinewidth\": 0, \"ticks\": \"\"}}, \"type\": \"scatterternary\"}], \"surface\": [{\"colorbar\": {\"outlinewidth\": 0, \"ticks\": \"\"}, \"colorscale\": [[0.0, \"#0d0887\"], [0.1111111111111111, \"#46039f\"], [0.2222222222222222, \"#7201a8\"], [0.3333333333333333, \"#9c179e\"], [0.4444444444444444, \"#bd3786\"], [0.5555555555555556, \"#d8576b\"], [0.6666666666666666, \"#ed7953\"], [0.7777777777777778, \"#fb9f3a\"], [0.8888888888888888, \"#fdca26\"], [1.0, \"#f0f921\"]], \"type\": \"surface\"}], \"table\": [{\"cells\": {\"fill\": {\"color\": \"#EBF0F8\"}, \"line\": {\"color\": \"white\"}}, \"header\": {\"fill\": {\"color\": \"#C8D4E3\"}, \"line\": {\"color\": \"white\"}}, \"type\": \"table\"}]}, \"layout\": {\"annotationdefaults\": {\"arrowcolor\": \"#2a3f5f\", \"arrowhead\": 0, \"arrowwidth\": 1}, \"coloraxis\": {\"colorbar\": {\"outlinewidth\": 0, \"ticks\": \"\"}}, \"colorscale\": {\"diverging\": [[0, \"#8e0152\"], [0.1, \"#c51b7d\"], [0.2, \"#de77ae\"], [0.3, \"#f1b6da\"], [0.4, \"#fde0ef\"], [0.5, \"#f7f7f7\"], [0.6, \"#e6f5d0\"], [0.7, \"#b8e186\"], [0.8, \"#7fbc41\"], [0.9, \"#4d9221\"], [1, \"#276419\"]], \"sequential\": [[0.0, \"#0d0887\"], [0.1111111111111111, \"#46039f\"], [0.2222222222222222, \"#7201a8\"], [0.3333333333333333, \"#9c179e\"], [0.4444444444444444, \"#bd3786\"], [0.5555555555555556, \"#d8576b\"], [0.6666666666666666, \"#ed7953\"], [0.7777777777777778, \"#fb9f3a\"], [0.8888888888888888, \"#fdca26\"], [1.0, \"#f0f921\"]], \"sequentialminus\": [[0.0, \"#0d0887\"], [0.1111111111111111, \"#46039f\"], [0.2222222222222222, \"#7201a8\"], [0.3333333333333333, \"#9c179e\"], [0.4444444444444444, \"#bd3786\"], [0.5555555555555556, \"#d8576b\"], [0.6666666666666666, \"#ed7953\"], [0.7777777777777778, \"#fb9f3a\"], [0.8888888888888888, \"#fdca26\"], [1.0, \"#f0f921\"]]}, \"colorway\": [\"#636efa\", \"#EF553B\", \"#00cc96\", \"#ab63fa\", \"#FFA15A\", \"#19d3f3\", \"#FF6692\", \"#B6E880\", \"#FF97FF\", \"#FECB52\"], \"font\": {\"color\": \"#2a3f5f\"}, \"geo\": {\"bgcolor\": \"white\", \"lakecolor\": \"white\", \"landcolor\": \"white\", \"showlakes\": true, \"showland\": true, \"subunitcolor\": \"#C8D4E3\"}, \"hoverlabel\": {\"align\": \"left\"}, \"hovermode\": \"closest\", \"mapbox\": {\"style\": \"light\"}, \"paper_bgcolor\": \"white\", \"plot_bgcolor\": \"white\", \"polar\": {\"angularaxis\": {\"gridcolor\": \"#EBF0F8\", \"linecolor\": \"#EBF0F8\", \"ticks\": \"\"}, \"bgcolor\": \"white\", \"radialaxis\": {\"gridcolor\": \"#EBF0F8\", \"linecolor\": \"#EBF0F8\", \"ticks\": \"\"}}, \"scene\": {\"xaxis\": {\"backgroundcolor\": \"white\", \"gridcolor\": \"#DFE8F3\", \"gridwidth\": 2, \"linecolor\": \"#EBF0F8\", \"showbackground\": true, \"ticks\": \"\", \"zerolinecolor\": \"#EBF0F8\"}, \"yaxis\": {\"backgroundcolor\": \"white\", \"gridcolor\": \"#DFE8F3\", \"gridwidth\": 2, \"linecolor\": \"#EBF0F8\", \"showbackground\": true, \"ticks\": \"\", \"zerolinecolor\": \"#EBF0F8\"}, \"zaxis\": {\"backgroundcolor\": \"white\", \"gridcolor\": \"#DFE8F3\", \"gridwidth\": 2, \"linecolor\": \"#EBF0F8\", \"showbackground\": true, \"ticks\": \"\", \"zerolinecolor\": \"#EBF0F8\"}}, \"shapedefaults\": {\"line\": {\"color\": \"#2a3f5f\"}}, \"ternary\": {\"aaxis\": {\"gridcolor\": \"#DFE8F3\", \"linecolor\": \"#A2B1C6\", \"ticks\": \"\"}, \"baxis\": {\"gridcolor\": \"#DFE8F3\", \"linecolor\": \"#A2B1C6\", \"ticks\": \"\"}, \"bgcolor\": \"white\", \"caxis\": {\"gridcolor\": \"#DFE8F3\", \"linecolor\": \"#A2B1C6\", \"ticks\": \"\"}}, \"title\": {\"x\": 0.05}, \"xaxis\": {\"automargin\": true, \"gridcolor\": \"#EBF0F8\", \"linecolor\": \"#EBF0F8\", \"ticks\": \"\", \"title\": {\"standoff\": 15}, \"zerolinecolor\": \"#EBF0F8\", \"zerolinewidth\": 2}, \"yaxis\": {\"automargin\": true, \"gridcolor\": \"#EBF0F8\", \"linecolor\": \"#EBF0F8\", \"ticks\": \"\", \"title\": {\"standoff\": 15}, \"zerolinecolor\": \"#EBF0F8\", \"zerolinewidth\": 2}}}, \"title\": {\"text\": \"Actual vs Predicted Price\"}, \"width\": 600, \"xaxis\": {\"title\": {\"text\": \"Batch\"}}, \"yaxis\": {\"title\": {\"text\": \"Price\"}}},\n",
              "                        {\"responsive\": true}\n",
              "                    ).then(function(){\n",
              "                            \n",
              "var gd = document.getElementById('8860f8be-99cc-493e-a573-4a8a7e17b085');\n",
              "var x = new MutationObserver(function (mutations, observer) {{\n",
              "        var display = window.getComputedStyle(gd).display;\n",
              "        if (!display || display === 'none') {{\n",
              "            console.log([gd, 'removed!']);\n",
              "            Plotly.purge(gd);\n",
              "            observer.disconnect();\n",
              "        }}\n",
              "}});\n",
              "\n",
              "// Listen for the removal of the full notebook cells\n",
              "var notebookContainer = gd.closest('#notebook-container');\n",
              "if (notebookContainer) {{\n",
              "    x.observe(notebookContainer, {childList: true});\n",
              "}}\n",
              "\n",
              "// Listen for the clearing of the current output cell\n",
              "var outputEl = gd.closest('.output');\n",
              "if (outputEl) {{\n",
              "    x.observe(outputEl, {childList: true});\n",
              "}}\n",
              "\n",
              "                        })\n",
              "                };\n",
              "                \n",
              "            </script>\n",
              "        </div>\n",
              "</body>\n",
              "</html>"
            ]
          },
          "metadata": {}
        },
        {
          "output_type": "display_data",
          "data": {
            "text/html": [
              "<html>\n",
              "<head><meta charset=\"utf-8\" /></head>\n",
              "<body>\n",
              "    <div>\n",
              "            <script src=\"https://cdnjs.cloudflare.com/ajax/libs/mathjax/2.7.5/MathJax.js?config=TeX-AMS-MML_SVG\"></script><script type=\"text/javascript\">if (window.MathJax) {MathJax.Hub.Config({SVG: {font: \"STIX-Web\"}});}</script>\n",
              "                <script type=\"text/javascript\">window.PlotlyConfig = {MathJaxConfig: 'local'};</script>\n",
              "        <script src=\"https://cdn.plot.ly/plotly-latest.min.js\"></script>    \n",
              "            <div id=\"b9023b46-7757-44d3-b6e2-f36c6ff0d5ba\" class=\"plotly-graph-div\" style=\"height:400px; width:600px;\"></div>\n",
              "            <script type=\"text/javascript\">\n",
              "                \n",
              "                    window.PLOTLYENV=window.PLOTLYENV || {};\n",
              "                    \n",
              "                if (document.getElementById(\"b9023b46-7757-44d3-b6e2-f36c6ff0d5ba\")) {\n",
              "                    Plotly.newPlot(\n",
              "                        'b9023b46-7757-44d3-b6e2-f36c6ff0d5ba',\n",
              "                        [{\"fill\": \"tozeroy\", \"line\": {\"color\": \"#ccc\"}, \"mode\": \"lines\", \"name\": \"Test Data\", \"type\": \"scatter\", \"x\": [147, 148, 149, 150, 151, 152, 153, 154, 155, 156, 157, 158, 159, 160, 161, 162, 163, 164, 165, 166, 167, 168, 169, 170, 171, 172, 173, 174, 175, 176, 177, 178, 179, 180, 181, 182, 183, 184, 185, 186], \"y\": [4.816645932434619, 4.87106666636795, 4.878474390493917, 4.866995843894645, 4.913095964916915, 4.894401058429723, 4.907494535176743, 4.916178083743369, 4.887487895940722, 4.828073708497692, 4.852030263919617, 4.8396096970441524, 4.853357507741732, 4.867149761087499, 4.864684238611951, 4.905052531521191, 4.87915893130787, 4.831030044796529, 4.838976685470555, 4.84245330085602, 4.843162940152507, 4.892602227184663, 4.943854260405905, 4.949610592258481, 4.927615938376164, 4.904237203306436, 4.896495613354671, 4.90141548910036, 4.9346897371814515, 4.936701665718133, 4.942142297650955, 4.916764078486185, 4.902307417210627, 4.926746310087428, 4.939210897417889, 4.958920858409577, 5.0515852804252095, 5.037861280349847, 5.030045687616079, 5.006560336054226]}, {\"fill\": \"tozeroy\", \"line\": {\"color\": \"#ccc\"}, \"mode\": \"lines+markers\", \"name\": \"Actual Price\", \"type\": \"scatter\", \"x\": [187, 188, 189, 190, 191], \"y\": [4.816645932434619, 4.87106666636795, 4.878474390493917, 4.866995843894645, 4.913095964916915]}, {\"line\": {\"color\": \"red\"}, \"mode\": \"lines+markers\", \"name\": \"Predicted Price\", \"type\": \"scatter\", \"x\": [187, 188, 189, 190, 191], \"y\": [4.937628269195557, 4.923033237457275, 4.933152198791504, 4.911087989807129, 4.9034504890441895]}],\n",
              "                        {\"height\": 400, \"template\": {\"data\": {\"bar\": [{\"error_x\": {\"color\": \"#2a3f5f\"}, \"error_y\": {\"color\": \"#2a3f5f\"}, \"marker\": {\"line\": {\"color\": \"white\", \"width\": 0.5}}, \"type\": \"bar\"}], \"barpolar\": [{\"marker\": {\"line\": {\"color\": \"white\", \"width\": 0.5}}, \"type\": \"barpolar\"}], \"carpet\": [{\"aaxis\": {\"endlinecolor\": \"#2a3f5f\", \"gridcolor\": \"#C8D4E3\", \"linecolor\": \"#C8D4E3\", \"minorgridcolor\": \"#C8D4E3\", \"startlinecolor\": \"#2a3f5f\"}, \"baxis\": {\"endlinecolor\": \"#2a3f5f\", \"gridcolor\": \"#C8D4E3\", \"linecolor\": \"#C8D4E3\", \"minorgridcolor\": \"#C8D4E3\", \"startlinecolor\": \"#2a3f5f\"}, \"type\": \"carpet\"}], \"choropleth\": [{\"colorbar\": {\"outlinewidth\": 0, \"ticks\": \"\"}, \"type\": \"choropleth\"}], \"contour\": [{\"colorbar\": {\"outlinewidth\": 0, \"ticks\": \"\"}, \"colorscale\": [[0.0, \"#0d0887\"], [0.1111111111111111, \"#46039f\"], [0.2222222222222222, \"#7201a8\"], [0.3333333333333333, \"#9c179e\"], [0.4444444444444444, \"#bd3786\"], [0.5555555555555556, \"#d8576b\"], [0.6666666666666666, \"#ed7953\"], [0.7777777777777778, \"#fb9f3a\"], [0.8888888888888888, \"#fdca26\"], [1.0, \"#f0f921\"]], \"type\": \"contour\"}], \"contourcarpet\": [{\"colorbar\": {\"outlinewidth\": 0, \"ticks\": \"\"}, \"type\": \"contourcarpet\"}], \"heatmap\": [{\"colorbar\": {\"outlinewidth\": 0, \"ticks\": \"\"}, \"colorscale\": [[0.0, \"#0d0887\"], [0.1111111111111111, \"#46039f\"], [0.2222222222222222, \"#7201a8\"], [0.3333333333333333, \"#9c179e\"], [0.4444444444444444, \"#bd3786\"], [0.5555555555555556, \"#d8576b\"], [0.6666666666666666, \"#ed7953\"], [0.7777777777777778, \"#fb9f3a\"], [0.8888888888888888, \"#fdca26\"], [1.0, \"#f0f921\"]], \"type\": \"heatmap\"}], \"heatmapgl\": [{\"colorbar\": {\"outlinewidth\": 0, \"ticks\": \"\"}, \"colorscale\": [[0.0, \"#0d0887\"], [0.1111111111111111, \"#46039f\"], [0.2222222222222222, \"#7201a8\"], [0.3333333333333333, \"#9c179e\"], [0.4444444444444444, \"#bd3786\"], [0.5555555555555556, \"#d8576b\"], [0.6666666666666666, \"#ed7953\"], [0.7777777777777778, \"#fb9f3a\"], [0.8888888888888888, \"#fdca26\"], [1.0, \"#f0f921\"]], \"type\": \"heatmapgl\"}], \"histogram\": [{\"marker\": {\"colorbar\": {\"outlinewidth\": 0, \"ticks\": \"\"}}, \"type\": \"histogram\"}], \"histogram2d\": [{\"colorbar\": {\"outlinewidth\": 0, \"ticks\": \"\"}, \"colorscale\": [[0.0, \"#0d0887\"], [0.1111111111111111, \"#46039f\"], [0.2222222222222222, \"#7201a8\"], [0.3333333333333333, \"#9c179e\"], [0.4444444444444444, \"#bd3786\"], [0.5555555555555556, \"#d8576b\"], [0.6666666666666666, \"#ed7953\"], [0.7777777777777778, \"#fb9f3a\"], [0.8888888888888888, \"#fdca26\"], [1.0, \"#f0f921\"]], \"type\": \"histogram2d\"}], \"histogram2dcontour\": [{\"colorbar\": {\"outlinewidth\": 0, \"ticks\": \"\"}, \"colorscale\": [[0.0, \"#0d0887\"], [0.1111111111111111, \"#46039f\"], [0.2222222222222222, \"#7201a8\"], [0.3333333333333333, \"#9c179e\"], [0.4444444444444444, \"#bd3786\"], [0.5555555555555556, \"#d8576b\"], [0.6666666666666666, \"#ed7953\"], [0.7777777777777778, \"#fb9f3a\"], [0.8888888888888888, \"#fdca26\"], [1.0, \"#f0f921\"]], \"type\": \"histogram2dcontour\"}], \"mesh3d\": [{\"colorbar\": {\"outlinewidth\": 0, \"ticks\": \"\"}, \"type\": \"mesh3d\"}], \"parcoords\": [{\"line\": {\"colorbar\": {\"outlinewidth\": 0, \"ticks\": \"\"}}, \"type\": \"parcoords\"}], \"pie\": [{\"automargin\": true, \"type\": \"pie\"}], \"scatter\": [{\"marker\": {\"colorbar\": {\"outlinewidth\": 0, \"ticks\": \"\"}}, \"type\": \"scatter\"}], \"scatter3d\": [{\"line\": {\"colorbar\": {\"outlinewidth\": 0, \"ticks\": \"\"}}, \"marker\": {\"colorbar\": {\"outlinewidth\": 0, \"ticks\": \"\"}}, \"type\": \"scatter3d\"}], \"scattercarpet\": [{\"marker\": {\"colorbar\": {\"outlinewidth\": 0, \"ticks\": \"\"}}, \"type\": \"scattercarpet\"}], \"scattergeo\": [{\"marker\": {\"colorbar\": {\"outlinewidth\": 0, \"ticks\": \"\"}}, \"type\": \"scattergeo\"}], \"scattergl\": [{\"marker\": {\"colorbar\": {\"outlinewidth\": 0, \"ticks\": \"\"}}, \"type\": \"scattergl\"}], \"scattermapbox\": [{\"marker\": {\"colorbar\": {\"outlinewidth\": 0, \"ticks\": \"\"}}, \"type\": \"scattermapbox\"}], \"scatterpolar\": [{\"marker\": {\"colorbar\": {\"outlinewidth\": 0, \"ticks\": \"\"}}, \"type\": \"scatterpolar\"}], \"scatterpolargl\": [{\"marker\": {\"colorbar\": {\"outlinewidth\": 0, \"ticks\": \"\"}}, \"type\": \"scatterpolargl\"}], \"scatterternary\": [{\"marker\": {\"colorbar\": {\"outlinewidth\": 0, \"ticks\": \"\"}}, \"type\": \"scatterternary\"}], \"surface\": [{\"colorbar\": {\"outlinewidth\": 0, \"ticks\": \"\"}, \"colorscale\": [[0.0, \"#0d0887\"], [0.1111111111111111, \"#46039f\"], [0.2222222222222222, \"#7201a8\"], [0.3333333333333333, \"#9c179e\"], [0.4444444444444444, \"#bd3786\"], [0.5555555555555556, \"#d8576b\"], [0.6666666666666666, \"#ed7953\"], [0.7777777777777778, \"#fb9f3a\"], [0.8888888888888888, \"#fdca26\"], [1.0, \"#f0f921\"]], \"type\": \"surface\"}], \"table\": [{\"cells\": {\"fill\": {\"color\": \"#EBF0F8\"}, \"line\": {\"color\": \"white\"}}, \"header\": {\"fill\": {\"color\": \"#C8D4E3\"}, \"line\": {\"color\": \"white\"}}, \"type\": \"table\"}]}, \"layout\": {\"annotationdefaults\": {\"arrowcolor\": \"#2a3f5f\", \"arrowhead\": 0, \"arrowwidth\": 1}, \"coloraxis\": {\"colorbar\": {\"outlinewidth\": 0, \"ticks\": \"\"}}, \"colorscale\": {\"diverging\": [[0, \"#8e0152\"], [0.1, \"#c51b7d\"], [0.2, \"#de77ae\"], [0.3, \"#f1b6da\"], [0.4, \"#fde0ef\"], [0.5, \"#f7f7f7\"], [0.6, \"#e6f5d0\"], [0.7, \"#b8e186\"], [0.8, \"#7fbc41\"], [0.9, \"#4d9221\"], [1, \"#276419\"]], \"sequential\": [[0.0, \"#0d0887\"], [0.1111111111111111, \"#46039f\"], [0.2222222222222222, \"#7201a8\"], [0.3333333333333333, \"#9c179e\"], [0.4444444444444444, \"#bd3786\"], [0.5555555555555556, \"#d8576b\"], [0.6666666666666666, \"#ed7953\"], [0.7777777777777778, \"#fb9f3a\"], [0.8888888888888888, \"#fdca26\"], [1.0, \"#f0f921\"]], \"sequentialminus\": [[0.0, \"#0d0887\"], [0.1111111111111111, \"#46039f\"], [0.2222222222222222, \"#7201a8\"], [0.3333333333333333, \"#9c179e\"], [0.4444444444444444, \"#bd3786\"], [0.5555555555555556, \"#d8576b\"], [0.6666666666666666, \"#ed7953\"], [0.7777777777777778, \"#fb9f3a\"], [0.8888888888888888, \"#fdca26\"], [1.0, \"#f0f921\"]]}, \"colorway\": [\"#636efa\", \"#EF553B\", \"#00cc96\", \"#ab63fa\", \"#FFA15A\", \"#19d3f3\", \"#FF6692\", \"#B6E880\", \"#FF97FF\", \"#FECB52\"], \"font\": {\"color\": \"#2a3f5f\"}, \"geo\": {\"bgcolor\": \"white\", \"lakecolor\": \"white\", \"landcolor\": \"white\", \"showlakes\": true, \"showland\": true, \"subunitcolor\": \"#C8D4E3\"}, \"hoverlabel\": {\"align\": \"left\"}, \"hovermode\": \"closest\", \"mapbox\": {\"style\": \"light\"}, \"paper_bgcolor\": \"white\", \"plot_bgcolor\": \"white\", \"polar\": {\"angularaxis\": {\"gridcolor\": \"#EBF0F8\", \"linecolor\": \"#EBF0F8\", \"ticks\": \"\"}, \"bgcolor\": \"white\", \"radialaxis\": {\"gridcolor\": \"#EBF0F8\", \"linecolor\": \"#EBF0F8\", \"ticks\": \"\"}}, \"scene\": {\"xaxis\": {\"backgroundcolor\": \"white\", \"gridcolor\": \"#DFE8F3\", \"gridwidth\": 2, \"linecolor\": \"#EBF0F8\", \"showbackground\": true, \"ticks\": \"\", \"zerolinecolor\": \"#EBF0F8\"}, \"yaxis\": {\"backgroundcolor\": \"white\", \"gridcolor\": \"#DFE8F3\", \"gridwidth\": 2, \"linecolor\": \"#EBF0F8\", \"showbackground\": true, \"ticks\": \"\", \"zerolinecolor\": \"#EBF0F8\"}, \"zaxis\": {\"backgroundcolor\": \"white\", \"gridcolor\": \"#DFE8F3\", \"gridwidth\": 2, \"linecolor\": \"#EBF0F8\", \"showbackground\": true, \"ticks\": \"\", \"zerolinecolor\": \"#EBF0F8\"}}, \"shapedefaults\": {\"line\": {\"color\": \"#2a3f5f\"}}, \"ternary\": {\"aaxis\": {\"gridcolor\": \"#DFE8F3\", \"linecolor\": \"#A2B1C6\", \"ticks\": \"\"}, \"baxis\": {\"gridcolor\": \"#DFE8F3\", \"linecolor\": \"#A2B1C6\", \"ticks\": \"\"}, \"bgcolor\": \"white\", \"caxis\": {\"gridcolor\": \"#DFE8F3\", \"linecolor\": \"#A2B1C6\", \"ticks\": \"\"}}, \"title\": {\"x\": 0.05}, \"xaxis\": {\"automargin\": true, \"gridcolor\": \"#EBF0F8\", \"linecolor\": \"#EBF0F8\", \"ticks\": \"\", \"title\": {\"standoff\": 15}, \"zerolinecolor\": \"#EBF0F8\", \"zerolinewidth\": 2}, \"yaxis\": {\"automargin\": true, \"gridcolor\": \"#EBF0F8\", \"linecolor\": \"#EBF0F8\", \"ticks\": \"\", \"title\": {\"standoff\": 15}, \"zerolinecolor\": \"#EBF0F8\", \"zerolinewidth\": 2}}}, \"title\": {\"text\": \"Actual vs Predicted Price\"}, \"width\": 600, \"xaxis\": {\"title\": {\"text\": \"Batch\"}}, \"yaxis\": {\"title\": {\"text\": \"Price\"}}},\n",
              "                        {\"responsive\": true}\n",
              "                    ).then(function(){\n",
              "                            \n",
              "var gd = document.getElementById('b9023b46-7757-44d3-b6e2-f36c6ff0d5ba');\n",
              "var x = new MutationObserver(function (mutations, observer) {{\n",
              "        var display = window.getComputedStyle(gd).display;\n",
              "        if (!display || display === 'none') {{\n",
              "            console.log([gd, 'removed!']);\n",
              "            Plotly.purge(gd);\n",
              "            observer.disconnect();\n",
              "        }}\n",
              "}});\n",
              "\n",
              "// Listen for the removal of the full notebook cells\n",
              "var notebookContainer = gd.closest('#notebook-container');\n",
              "if (notebookContainer) {{\n",
              "    x.observe(notebookContainer, {childList: true});\n",
              "}}\n",
              "\n",
              "// Listen for the clearing of the current output cell\n",
              "var outputEl = gd.closest('.output');\n",
              "if (outputEl) {{\n",
              "    x.observe(outputEl, {childList: true});\n",
              "}}\n",
              "\n",
              "                        })\n",
              "                };\n",
              "                \n",
              "            </script>\n",
              "        </div>\n",
              "</body>\n",
              "</html>"
            ]
          },
          "metadata": {}
        },
        {
          "output_type": "stream",
          "name": "stderr",
          "text": [
            "WARNING:absl:Found untraced functions such as lstm_cell_layer_call_fn, lstm_cell_layer_call_and_return_conditional_losses, lstm_cell_1_layer_call_fn, lstm_cell_1_layer_call_and_return_conditional_losses, lstm_cell_2_layer_call_fn while saving (showing 5 of 15). These functions will not be directly callable after loading.\n"
          ]
        },
        {
          "output_type": "stream",
          "name": "stdout",
          "text": [
            "INFO:tensorflow:Assets written to: /content/drive/MyDrive/Colab Notebooks/models/model_VWM_log_all/assets\n"
          ]
        },
        {
          "output_type": "stream",
          "name": "stderr",
          "text": [
            "INFO:tensorflow:Assets written to: /content/drive/MyDrive/Colab Notebooks/models/model_VWM_log_all/assets\n"
          ]
        }
      ]
    },
    {
      "cell_type": "code",
      "metadata": {
        "colab": {
          "base_uri": "https://localhost:8080/",
          "height": 1000
        },
        "id": "jIRGn9b_5f8L",
        "outputId": "abb236b3-c8f1-4e0d-95c6-d49591595718"
      },
      "source": [
        "# VW Ware -optimal features\n",
        "stock= 'VWM'\n",
        "modelname = f'model_{stock}_{transform}'\n",
        "model = create_lstm_model(config,x_train,n_predict)\n",
        "\n",
        "# train\n",
        "tic = timeit.default_timer()\n",
        "history = model.fit(x_train,\n",
        "                    y_train,\n",
        "                    batch_size=config['train']['batch_size'],\n",
        "                    epochs=config['train']['epochs'],\n",
        "                    callbacks = [config['train']['early_stop']],\n",
        "                    validation_split =0.10, \n",
        "                    verbose = 0\n",
        "                    )\n",
        "\n",
        "# print the training time\n",
        "toc =timeit.default_timer()\n",
        "print('\\nTraining Time')\n",
        "print('='*60)\n",
        "print(f'Minutes:{round((toc-tic)/60,2)}\\n')\n",
        "\n",
        "# predict prices\n",
        "# calculate the performance metrics\n",
        "# plot training metrics\n",
        "# plot predictions for random batches\n",
        "y_pred_scaled = calculate_performance(x_test,y_test,model,scaler_y)\n",
        "plot_training_metrics(history)\n",
        "plot_n_price_predictions(idx_close,x_test,y_pred_scaled,scaler_y,2)\n",
        "\n",
        "# save model and training performance\n",
        "model.save(f'/content/drive/MyDrive/Colab Notebooks/models/{modelname}_features')\n",
        "\n",
        "df_hist = pd.DataFrame(history.history) \n",
        "df_hist.to_csv(f'/content/drive/MyDrive/Colab Notebooks/models/{modelname}_features/train_history.csv')"
      ],
      "execution_count": 44,
      "outputs": [
        {
          "output_type": "stream",
          "name": "stdout",
          "text": [
            "Model: \"LSTM\"\n",
            "_________________________________________________________________\n",
            "Layer (type)                 Output Shape              Param #   \n",
            "=================================================================\n",
            "lstm (LSTM)                  (None, 40, 40)            8160      \n",
            "_________________________________________________________________\n",
            "lstm_1 (LSTM)                (None, 40, 1024)          4362240   \n",
            "_________________________________________________________________\n",
            "dropout (Dropout)            (None, 40, 1024)          0         \n",
            "_________________________________________________________________\n",
            "lstm_2 (LSTM)                (None, 512)               3147776   \n",
            "_________________________________________________________________\n",
            "dropout_1 (Dropout)          (None, 512)               0         \n",
            "_________________________________________________________________\n",
            "dense (Dense)                (None, 256)               131328    \n",
            "_________________________________________________________________\n",
            "dropout_2 (Dropout)          (None, 256)               0         \n",
            "_________________________________________________________________\n",
            "dense_1 (Dense)              (None, 128)               32896     \n",
            "_________________________________________________________________\n",
            "dropout_3 (Dropout)          (None, 128)               0         \n",
            "_________________________________________________________________\n",
            "dense_2 (Dense)              (None, 5)                 645       \n",
            "=================================================================\n",
            "Total params: 7,683,045\n",
            "Trainable params: 7,683,045\n",
            "Non-trainable params: 0\n",
            "_________________________________________________________________\n",
            "\n",
            "Training Time\n",
            "============================================================\n",
            "Minutes:1.59\n",
            "\n",
            "\n",
            "Model Error\n",
            "==============================================================\n",
            "Mean Absolute Error (MAE)------------------------------  0.06\n",
            "Root Mean Squared Error (MSE)--------------------------  0.08\n",
            "Mean Absolute Percentage Error (MAPE)------------------  1.27%\n",
            "Median Absolute Percentage Error (MDAPE)---------------  1.14%\n"
          ]
        },
        {
          "output_type": "display_data",
          "data": {
            "text/html": [
              "<html>\n",
              "<head><meta charset=\"utf-8\" /></head>\n",
              "<body>\n",
              "    <div>\n",
              "            <script src=\"https://cdnjs.cloudflare.com/ajax/libs/mathjax/2.7.5/MathJax.js?config=TeX-AMS-MML_SVG\"></script><script type=\"text/javascript\">if (window.MathJax) {MathJax.Hub.Config({SVG: {font: \"STIX-Web\"}});}</script>\n",
              "                <script type=\"text/javascript\">window.PlotlyConfig = {MathJaxConfig: 'local'};</script>\n",
              "        <script src=\"https://cdn.plot.ly/plotly-latest.min.js\"></script>    \n",
              "            <div id=\"4968aa5d-928f-4185-909b-d537459dc81b\" class=\"plotly-graph-div\" style=\"height:500px; width:700px;\"></div>\n",
              "            <script type=\"text/javascript\">\n",
              "                \n",
              "                    window.PLOTLYENV=window.PLOTLYENV || {};\n",
              "                    \n",
              "                if (document.getElementById(\"4968aa5d-928f-4185-909b-d537459dc81b\")) {\n",
              "                    Plotly.newPlot(\n",
              "                        '4968aa5d-928f-4185-909b-d537459dc81b',\n",
              "                        [{\"line\": {\"color\": \"royalblue\", \"width\": 3}, \"name\": \"train-loss\", \"type\": \"scatter\", \"x\": [1, 2, 3, 4, 5, 6, 7, 8, 9, 10, 11, 12, 13, 14, 15, 16, 17, 18, 19, 20, 21, 22, 23, 24, 25, 26, 27, 28, 29, 30, 31, 32, 33, 34, 35, 36, 37, 38, 39, 40, 41, 42, 43, 44, 45, 46, 47, 48, 49, 50, 51, 52, 53, 54, 55, 56, 57, 58, 59, 60, 61, 62, 63, 64, 65, 66, 67, 68, 69, 70, 71, 72, 73, 74, 75, 76, 77, 78, 79, 80, 81, 82, 83, 84, 85, 86, 87, 88, 89, 90, 91, 92, 93, 94, 95, 96, 97, 98, 99, 100, 101, 102, 103, 104, 105, 106, 107, 108, 109, 110, 111, 112, 113, 114, 115, 116, 117, 118, 119, 120, 121, 122, 123, 124, 125], \"y\": [0.10445991903543472, 0.012064647860825062, 0.006237960886210203, 0.004856014624238014, 0.0038718227297067642, 0.0035397568717598915, 0.0034672440961003304, 0.0034259699750691652, 0.003303443780168891, 0.0029125618748366833, 0.002711028791964054, 0.0029903105460107327, 0.0028511544223874807, 0.0028150177095085382, 0.0027721645310521126, 0.002595321973785758, 0.0026246660854667425, 0.0024686537217348814, 0.002401982666924596, 0.00237884558737278, 0.002278056927025318, 0.0023533154744654894, 0.002099699340760708, 0.0023074906785041094, 0.002210524631664157, 0.0022364214528352022, 0.002205910859629512, 0.0020334229338914156, 0.0021681913640350103, 0.002076909877359867, 0.002052202122285962, 0.0019971653819084167, 0.0018870789790526032, 0.002015593694522977, 0.0019708184991031885, 0.0019615041092038155, 0.0020803993102163076, 0.0017990432679653168, 0.0018288022838532925, 0.0017066829605028033, 0.0017586193280294538, 0.0018009814666584134, 0.0017467038705945015, 0.001779145677573979, 0.001706354902125895, 0.0016808895161375403, 0.0018708027200773358, 0.0017844595713540912, 0.002057437552139163, 0.0015775978099554777, 0.0015572631964460015, 0.00171327602583915, 0.0016981040826067328, 0.0016147212591022253, 0.0015271498123183846, 0.0015622528735548258, 0.001501806895248592, 0.0014784353552386165, 0.0014560236595571041, 0.0014816253678873181, 0.0014482608530670404, 0.0014254554407671094, 0.0014808489941060543, 0.0015620632329955697, 0.001426072558388114, 0.0013871804112568498, 0.0013136211782693863, 0.0013631099136546254, 0.0013106445549055934, 0.0015733902109786868, 0.0014150405768305063, 0.00129218481015414, 0.0012819957919418812, 0.0012956741265952587, 0.0013154110638424754, 0.001344054937362671, 0.0014406173722818494, 0.00142732507083565, 0.0013556492049247026, 0.0012981260661035776, 0.0013949369313195348, 0.0012625216040760279, 0.0012127843219786882, 0.001249367487616837, 0.0012840772978961468, 0.001256864983588457, 0.0011498838430270553, 0.0012363707646727562, 0.0011629981454461813, 0.0012566907098516822, 0.0012046084739267826, 0.00124371109995991, 0.0011934844078496099, 0.0011246608337387443, 0.0011981468414887786, 0.0011697319569066167, 0.0012146960943937302, 0.0011562263825908303, 0.0012519089505076408, 0.001213624607771635, 0.0011256416328251362, 0.0011039524106308818, 0.0011710908729583025, 0.0011385685065761209, 0.0011696538422256708, 0.0011144845047965646, 0.0011087754974141717, 0.00108378566801548, 0.0010528196580708027, 0.0010857910383492708, 0.0011277681915089488, 0.0010562862735241652, 0.0011068297317251563, 0.0011881173122674227, 0.001032167812809348, 0.001051138387992978, 0.0010810719104483724, 0.0011234970297664404, 0.0011093525681644678, 0.0011076151859015226, 0.0010355758713558316, 0.001075100270099938, 0.0011793524026870728, 0.0010699288686737418, 0.0011207463685423136]}, {\"line\": {\"color\": \"crimson\", \"width\": 3}, \"name\": \"val-loss\", \"type\": \"scatter\", \"x\": [1, 2, 3, 4, 5, 6, 7, 8, 9, 10, 11, 12, 13, 14, 15, 16, 17, 18, 19, 20, 21, 22, 23, 24, 25, 26, 27, 28, 29, 30, 31, 32, 33, 34, 35, 36, 37, 38, 39, 40, 41, 42, 43, 44, 45, 46, 47, 48, 49, 50, 51, 52, 53, 54, 55, 56, 57, 58, 59, 60, 61, 62, 63, 64, 65, 66, 67, 68, 69, 70, 71, 72, 73, 74, 75, 76, 77, 78, 79, 80, 81, 82, 83, 84, 85, 86, 87, 88, 89, 90, 91, 92, 93, 94, 95, 96, 97, 98, 99, 100, 101, 102, 103, 104, 105, 106, 107, 108, 109, 110, 111, 112, 113, 114, 115, 116, 117, 118, 119, 120, 121, 122, 123, 124, 125], \"y\": [0.017829502001404762, 0.005480752792209387, 0.002947853645309806, 0.004539788700640202, 0.005447635892778635, 0.005393714644014835, 0.0022736266255378723, 0.0014148257905617356, 0.0029279296286404133, 0.0027817185036838055, 0.005205582827329636, 0.002978219883516431, 0.0023357723839581013, 0.0020915360655635595, 0.0023257427383214235, 0.001215090393088758, 0.0014660333981737494, 0.002746318466961384, 0.0017275589052587748, 0.0011971627827733755, 0.003647854784503579, 0.0032125881407409906, 0.005894486792385578, 0.005326217971742153, 0.0047216033563017845, 0.004312069155275822, 0.001201860373839736, 0.0011200361186638474, 0.0026674482505768538, 0.00497293658554554, 0.003966033924371004, 0.0025244553107768297, 0.0011717734159901738, 0.001227881875820458, 0.0020856796763837337, 0.00366799789480865, 0.0011972634820267558, 0.0011054369388148189, 0.0010202889097854495, 0.0020982343703508377, 0.0009540062164887786, 0.001171456533484161, 0.0009384597069583833, 0.0014497960219159722, 0.001759515143930912, 0.0011309785768389702, 0.001022564247250557, 0.008141934871673584, 0.0009798281826078892, 0.0028229686431586742, 0.0013295974349603057, 0.0010724621824920177, 0.001953889150172472, 0.0009679158683866262, 0.0016197219956666231, 0.0010023681679740548, 0.0009648993727751076, 0.002016504993662238, 0.0031198684591799974, 0.0015534471021965146, 0.0017767039826139808, 0.0010182807454839349, 0.0011212026001885533, 0.0033443530555814505, 0.002437792718410492, 0.002255690284073353, 0.0015560468891635537, 0.0023198185954242945, 0.0009773226920515299, 0.0039607263170182705, 0.0015669496497139335, 0.0022713581565767527, 0.002101913560181856, 0.0015047445194795728, 0.0011107284808531404, 0.0010421520564705133, 0.0011353085283190012, 0.0032904462423175573, 0.001490828930400312, 0.0017315064324066043, 0.0030318780336529016, 0.0012781928526237607, 0.0016641952097415924, 0.002443256787955761, 0.0018407487077638507, 0.0009191324934363365, 0.0015736670466139913, 0.0018438715487718582, 0.0011864397674798965, 0.0031709414906799793, 0.001713486504741013, 0.001799178309738636, 0.0009146060911007226, 0.0011074254289269447, 0.0011632610112428665, 0.0010116072371602058, 0.0009932821849361062, 0.0011406907578930259, 0.0009274397743865848, 0.0022872351109981537, 0.001375572755932808, 0.0009787008166313171, 0.0013068742118775845, 0.001484296633861959, 0.0017626265762373805, 0.0015323413535952568, 0.0009616603492759168, 0.001642414485104382, 0.0011236188001930714, 0.003415531711652875, 0.0016469444381073117, 0.0017376720206812024, 0.0009436171385459602, 0.001076421933248639, 0.0017313366988673806, 0.0010572352912276983, 0.001651288941502571, 0.0010038742329925299, 0.0024850235786288977, 0.0009912339737638831, 0.0012617778265848756, 0.002266993746161461, 0.0016499935882166028, 0.0014213531976565719, 0.0018558877054601908]}],\n",
              "                        {\"height\": 500, \"template\": {\"data\": {\"bar\": [{\"error_x\": {\"color\": \"#2a3f5f\"}, \"error_y\": {\"color\": \"#2a3f5f\"}, \"marker\": {\"line\": {\"color\": \"white\", \"width\": 0.5}}, \"type\": \"bar\"}], \"barpolar\": [{\"marker\": {\"line\": {\"color\": \"white\", \"width\": 0.5}}, \"type\": \"barpolar\"}], \"carpet\": [{\"aaxis\": {\"endlinecolor\": \"#2a3f5f\", \"gridcolor\": \"#C8D4E3\", \"linecolor\": \"#C8D4E3\", \"minorgridcolor\": \"#C8D4E3\", \"startlinecolor\": \"#2a3f5f\"}, \"baxis\": {\"endlinecolor\": \"#2a3f5f\", \"gridcolor\": \"#C8D4E3\", \"linecolor\": \"#C8D4E3\", \"minorgridcolor\": \"#C8D4E3\", \"startlinecolor\": \"#2a3f5f\"}, \"type\": \"carpet\"}], \"choropleth\": [{\"colorbar\": {\"outlinewidth\": 0, \"ticks\": \"\"}, \"type\": \"choropleth\"}], \"contour\": [{\"colorbar\": {\"outlinewidth\": 0, \"ticks\": \"\"}, \"colorscale\": [[0.0, \"#0d0887\"], [0.1111111111111111, \"#46039f\"], [0.2222222222222222, \"#7201a8\"], [0.3333333333333333, \"#9c179e\"], [0.4444444444444444, \"#bd3786\"], [0.5555555555555556, \"#d8576b\"], [0.6666666666666666, \"#ed7953\"], [0.7777777777777778, \"#fb9f3a\"], [0.8888888888888888, \"#fdca26\"], [1.0, \"#f0f921\"]], \"type\": \"contour\"}], \"contourcarpet\": [{\"colorbar\": {\"outlinewidth\": 0, \"ticks\": \"\"}, \"type\": \"contourcarpet\"}], \"heatmap\": [{\"colorbar\": {\"outlinewidth\": 0, \"ticks\": \"\"}, \"colorscale\": [[0.0, \"#0d0887\"], [0.1111111111111111, \"#46039f\"], [0.2222222222222222, \"#7201a8\"], [0.3333333333333333, \"#9c179e\"], [0.4444444444444444, \"#bd3786\"], [0.5555555555555556, \"#d8576b\"], [0.6666666666666666, \"#ed7953\"], [0.7777777777777778, \"#fb9f3a\"], [0.8888888888888888, \"#fdca26\"], [1.0, \"#f0f921\"]], \"type\": \"heatmap\"}], \"heatmapgl\": [{\"colorbar\": {\"outlinewidth\": 0, \"ticks\": \"\"}, \"colorscale\": [[0.0, \"#0d0887\"], [0.1111111111111111, \"#46039f\"], [0.2222222222222222, \"#7201a8\"], [0.3333333333333333, \"#9c179e\"], [0.4444444444444444, \"#bd3786\"], [0.5555555555555556, \"#d8576b\"], [0.6666666666666666, \"#ed7953\"], [0.7777777777777778, \"#fb9f3a\"], [0.8888888888888888, \"#fdca26\"], [1.0, \"#f0f921\"]], \"type\": \"heatmapgl\"}], \"histogram\": [{\"marker\": {\"colorbar\": {\"outlinewidth\": 0, \"ticks\": \"\"}}, \"type\": \"histogram\"}], \"histogram2d\": [{\"colorbar\": {\"outlinewidth\": 0, \"ticks\": \"\"}, \"colorscale\": [[0.0, \"#0d0887\"], [0.1111111111111111, \"#46039f\"], [0.2222222222222222, \"#7201a8\"], [0.3333333333333333, \"#9c179e\"], [0.4444444444444444, \"#bd3786\"], [0.5555555555555556, \"#d8576b\"], [0.6666666666666666, \"#ed7953\"], [0.7777777777777778, \"#fb9f3a\"], [0.8888888888888888, \"#fdca26\"], [1.0, \"#f0f921\"]], \"type\": \"histogram2d\"}], \"histogram2dcontour\": [{\"colorbar\": {\"outlinewidth\": 0, \"ticks\": \"\"}, \"colorscale\": [[0.0, \"#0d0887\"], [0.1111111111111111, \"#46039f\"], [0.2222222222222222, \"#7201a8\"], [0.3333333333333333, \"#9c179e\"], [0.4444444444444444, \"#bd3786\"], [0.5555555555555556, \"#d8576b\"], [0.6666666666666666, \"#ed7953\"], [0.7777777777777778, \"#fb9f3a\"], [0.8888888888888888, \"#fdca26\"], [1.0, \"#f0f921\"]], \"type\": \"histogram2dcontour\"}], \"mesh3d\": [{\"colorbar\": {\"outlinewidth\": 0, \"ticks\": \"\"}, \"type\": \"mesh3d\"}], \"parcoords\": [{\"line\": {\"colorbar\": {\"outlinewidth\": 0, \"ticks\": \"\"}}, \"type\": \"parcoords\"}], \"pie\": [{\"automargin\": true, \"type\": \"pie\"}], \"scatter\": [{\"marker\": {\"colorbar\": {\"outlinewidth\": 0, \"ticks\": \"\"}}, \"type\": \"scatter\"}], \"scatter3d\": [{\"line\": {\"colorbar\": {\"outlinewidth\": 0, \"ticks\": \"\"}}, \"marker\": {\"colorbar\": {\"outlinewidth\": 0, \"ticks\": \"\"}}, \"type\": \"scatter3d\"}], \"scattercarpet\": [{\"marker\": {\"colorbar\": {\"outlinewidth\": 0, \"ticks\": \"\"}}, \"type\": \"scattercarpet\"}], \"scattergeo\": [{\"marker\": {\"colorbar\": {\"outlinewidth\": 0, \"ticks\": \"\"}}, \"type\": \"scattergeo\"}], \"scattergl\": [{\"marker\": {\"colorbar\": {\"outlinewidth\": 0, \"ticks\": \"\"}}, \"type\": \"scattergl\"}], \"scattermapbox\": [{\"marker\": {\"colorbar\": {\"outlinewidth\": 0, \"ticks\": \"\"}}, \"type\": \"scattermapbox\"}], \"scatterpolar\": [{\"marker\": {\"colorbar\": {\"outlinewidth\": 0, \"ticks\": \"\"}}, \"type\": \"scatterpolar\"}], \"scatterpolargl\": [{\"marker\": {\"colorbar\": {\"outlinewidth\": 0, \"ticks\": \"\"}}, \"type\": \"scatterpolargl\"}], \"scatterternary\": [{\"marker\": {\"colorbar\": {\"outlinewidth\": 0, \"ticks\": \"\"}}, \"type\": \"scatterternary\"}], \"surface\": [{\"colorbar\": {\"outlinewidth\": 0, \"ticks\": \"\"}, \"colorscale\": [[0.0, \"#0d0887\"], [0.1111111111111111, \"#46039f\"], [0.2222222222222222, \"#7201a8\"], [0.3333333333333333, \"#9c179e\"], [0.4444444444444444, \"#bd3786\"], [0.5555555555555556, \"#d8576b\"], [0.6666666666666666, \"#ed7953\"], [0.7777777777777778, \"#fb9f3a\"], [0.8888888888888888, \"#fdca26\"], [1.0, \"#f0f921\"]], \"type\": \"surface\"}], \"table\": [{\"cells\": {\"fill\": {\"color\": \"#EBF0F8\"}, \"line\": {\"color\": \"white\"}}, \"header\": {\"fill\": {\"color\": \"#C8D4E3\"}, \"line\": {\"color\": \"white\"}}, \"type\": \"table\"}]}, \"layout\": {\"annotationdefaults\": {\"arrowcolor\": \"#2a3f5f\", \"arrowhead\": 0, \"arrowwidth\": 1}, \"coloraxis\": {\"colorbar\": {\"outlinewidth\": 0, \"ticks\": \"\"}}, \"colorscale\": {\"diverging\": [[0, \"#8e0152\"], [0.1, \"#c51b7d\"], [0.2, \"#de77ae\"], [0.3, \"#f1b6da\"], [0.4, \"#fde0ef\"], [0.5, \"#f7f7f7\"], [0.6, \"#e6f5d0\"], [0.7, \"#b8e186\"], [0.8, \"#7fbc41\"], [0.9, \"#4d9221\"], [1, \"#276419\"]], \"sequential\": [[0.0, \"#0d0887\"], [0.1111111111111111, \"#46039f\"], [0.2222222222222222, \"#7201a8\"], [0.3333333333333333, \"#9c179e\"], [0.4444444444444444, \"#bd3786\"], [0.5555555555555556, \"#d8576b\"], [0.6666666666666666, \"#ed7953\"], [0.7777777777777778, \"#fb9f3a\"], [0.8888888888888888, \"#fdca26\"], [1.0, \"#f0f921\"]], \"sequentialminus\": [[0.0, \"#0d0887\"], [0.1111111111111111, \"#46039f\"], [0.2222222222222222, \"#7201a8\"], [0.3333333333333333, \"#9c179e\"], [0.4444444444444444, \"#bd3786\"], [0.5555555555555556, \"#d8576b\"], [0.6666666666666666, \"#ed7953\"], [0.7777777777777778, \"#fb9f3a\"], [0.8888888888888888, \"#fdca26\"], [1.0, \"#f0f921\"]]}, \"colorway\": [\"#636efa\", \"#EF553B\", \"#00cc96\", \"#ab63fa\", \"#FFA15A\", \"#19d3f3\", \"#FF6692\", \"#B6E880\", \"#FF97FF\", \"#FECB52\"], \"font\": {\"color\": \"#2a3f5f\"}, \"geo\": {\"bgcolor\": \"white\", \"lakecolor\": \"white\", \"landcolor\": \"white\", \"showlakes\": true, \"showland\": true, \"subunitcolor\": \"#C8D4E3\"}, \"hoverlabel\": {\"align\": \"left\"}, \"hovermode\": \"closest\", \"mapbox\": {\"style\": \"light\"}, \"paper_bgcolor\": \"white\", \"plot_bgcolor\": \"white\", \"polar\": {\"angularaxis\": {\"gridcolor\": \"#EBF0F8\", \"linecolor\": \"#EBF0F8\", \"ticks\": \"\"}, \"bgcolor\": \"white\", \"radialaxis\": {\"gridcolor\": \"#EBF0F8\", \"linecolor\": \"#EBF0F8\", \"ticks\": \"\"}}, \"scene\": {\"xaxis\": {\"backgroundcolor\": \"white\", \"gridcolor\": \"#DFE8F3\", \"gridwidth\": 2, \"linecolor\": \"#EBF0F8\", \"showbackground\": true, \"ticks\": \"\", \"zerolinecolor\": \"#EBF0F8\"}, \"yaxis\": {\"backgroundcolor\": \"white\", \"gridcolor\": \"#DFE8F3\", \"gridwidth\": 2, \"linecolor\": \"#EBF0F8\", \"showbackground\": true, \"ticks\": \"\", \"zerolinecolor\": \"#EBF0F8\"}, \"zaxis\": {\"backgroundcolor\": \"white\", \"gridcolor\": \"#DFE8F3\", \"gridwidth\": 2, \"linecolor\": \"#EBF0F8\", \"showbackground\": true, \"ticks\": \"\", \"zerolinecolor\": \"#EBF0F8\"}}, \"shapedefaults\": {\"line\": {\"color\": \"#2a3f5f\"}}, \"ternary\": {\"aaxis\": {\"gridcolor\": \"#DFE8F3\", \"linecolor\": \"#A2B1C6\", \"ticks\": \"\"}, \"baxis\": {\"gridcolor\": \"#DFE8F3\", \"linecolor\": \"#A2B1C6\", \"ticks\": \"\"}, \"bgcolor\": \"white\", \"caxis\": {\"gridcolor\": \"#DFE8F3\", \"linecolor\": \"#A2B1C6\", \"ticks\": \"\"}}, \"title\": {\"x\": 0.05}, \"xaxis\": {\"automargin\": true, \"gridcolor\": \"#EBF0F8\", \"linecolor\": \"#EBF0F8\", \"ticks\": \"\", \"title\": {\"standoff\": 15}, \"zerolinecolor\": \"#EBF0F8\", \"zerolinewidth\": 2}, \"yaxis\": {\"automargin\": true, \"gridcolor\": \"#EBF0F8\", \"linecolor\": \"#EBF0F8\", \"ticks\": \"\", \"title\": {\"standoff\": 15}, \"zerolinecolor\": \"#EBF0F8\", \"zerolinewidth\": 2}}}, \"title\": {\"text\": \"Training Metrics\"}, \"width\": 700, \"xaxis\": {\"title\": {\"text\": \"epochs\"}}, \"yaxis\": {\"title\": {\"text\": \"loss\"}}},\n",
              "                        {\"responsive\": true}\n",
              "                    ).then(function(){\n",
              "                            \n",
              "var gd = document.getElementById('4968aa5d-928f-4185-909b-d537459dc81b');\n",
              "var x = new MutationObserver(function (mutations, observer) {{\n",
              "        var display = window.getComputedStyle(gd).display;\n",
              "        if (!display || display === 'none') {{\n",
              "            console.log([gd, 'removed!']);\n",
              "            Plotly.purge(gd);\n",
              "            observer.disconnect();\n",
              "        }}\n",
              "}});\n",
              "\n",
              "// Listen for the removal of the full notebook cells\n",
              "var notebookContainer = gd.closest('#notebook-container');\n",
              "if (notebookContainer) {{\n",
              "    x.observe(notebookContainer, {childList: true});\n",
              "}}\n",
              "\n",
              "// Listen for the clearing of the current output cell\n",
              "var outputEl = gd.closest('.output');\n",
              "if (outputEl) {{\n",
              "    x.observe(outputEl, {childList: true});\n",
              "}}\n",
              "\n",
              "                        })\n",
              "                };\n",
              "                \n",
              "            </script>\n",
              "        </div>\n",
              "</body>\n",
              "</html>"
            ]
          },
          "metadata": {}
        },
        {
          "output_type": "display_data",
          "data": {
            "text/html": [
              "<html>\n",
              "<head><meta charset=\"utf-8\" /></head>\n",
              "<body>\n",
              "    <div>\n",
              "            <script src=\"https://cdnjs.cloudflare.com/ajax/libs/mathjax/2.7.5/MathJax.js?config=TeX-AMS-MML_SVG\"></script><script type=\"text/javascript\">if (window.MathJax) {MathJax.Hub.Config({SVG: {font: \"STIX-Web\"}});}</script>\n",
              "                <script type=\"text/javascript\">window.PlotlyConfig = {MathJaxConfig: 'local'};</script>\n",
              "        <script src=\"https://cdn.plot.ly/plotly-latest.min.js\"></script>    \n",
              "            <div id=\"c40b7756-904f-4135-b4c5-dfbf72b1a64f\" class=\"plotly-graph-div\" style=\"height:400px; width:600px;\"></div>\n",
              "            <script type=\"text/javascript\">\n",
              "                \n",
              "                    window.PLOTLYENV=window.PLOTLYENV || {};\n",
              "                    \n",
              "                if (document.getElementById(\"c40b7756-904f-4135-b4c5-dfbf72b1a64f\")) {\n",
              "                    Plotly.newPlot(\n",
              "                        'c40b7756-904f-4135-b4c5-dfbf72b1a64f',\n",
              "                        [{\"fill\": \"tozeroy\", \"line\": {\"color\": \"#ccc\"}, \"mode\": \"lines\", \"name\": \"Test Data\", \"type\": \"scatter\", \"x\": [236, 237, 238, 239, 240, 241, 242, 243, 244, 245, 246, 247, 248, 249, 250, 251, 252, 253, 254, 255, 256, 257, 258, 259, 260, 261, 262, 263, 264, 265, 266, 267, 268, 269, 270, 271, 272, 273, 274, 275], \"y\": [4.972864196409257, 4.9507437368556495, 4.990636647589566, 4.969952178820721, 4.923405711483329, 4.90141548910036, 4.942570563182127, 4.940355881083839, 4.955897477656921, 4.947482479090987, 4.963893031544124, 4.97583678855356, 4.951522029603749, 4.950106501021434, 4.94356913673158, 4.960113631748675, 4.93461780767234, 4.944353031302275, 4.953359226276525, 4.962774697744756, 4.981824212242136, 4.967519003022628, 4.974662633637438, 4.9624949187683205, 4.977147449935266, 4.990432586778736, 4.995521656286208, 5.012300573415317, 5.0204536030335944, 5.025326842839245, 5.043683148142456, 5.0476741415312425, 5.031613700481447, 5.027885647502783, 5.010101818490112, 5.007697650108913, 5.008566488927144, 4.995318589984363, 5.005287687769661, 4.960183750600158]}, {\"fill\": \"tozeroy\", \"line\": {\"color\": \"#ccc\"}, \"mode\": \"lines+markers\", \"name\": \"Actual Price\", \"type\": \"scatter\", \"x\": [276, 277, 278, 279, 280], \"y\": [4.972864196409257, 4.9507437368556495, 4.990636647589566, 4.969952178820721, 4.923405711483329]}, {\"line\": {\"color\": \"red\"}, \"mode\": \"lines+markers\", \"name\": \"Predicted Price\", \"type\": \"scatter\", \"x\": [276, 277, 278, 279, 280], \"y\": [4.964584827423096, 4.959169864654541, 4.936751365661621, 4.927417755126953, 4.916008472442627]}],\n",
              "                        {\"height\": 400, \"template\": {\"data\": {\"bar\": [{\"error_x\": {\"color\": \"#2a3f5f\"}, \"error_y\": {\"color\": \"#2a3f5f\"}, \"marker\": {\"line\": {\"color\": \"white\", \"width\": 0.5}}, \"type\": \"bar\"}], \"barpolar\": [{\"marker\": {\"line\": {\"color\": \"white\", \"width\": 0.5}}, \"type\": \"barpolar\"}], \"carpet\": [{\"aaxis\": {\"endlinecolor\": \"#2a3f5f\", \"gridcolor\": \"#C8D4E3\", \"linecolor\": \"#C8D4E3\", \"minorgridcolor\": \"#C8D4E3\", \"startlinecolor\": \"#2a3f5f\"}, \"baxis\": {\"endlinecolor\": \"#2a3f5f\", \"gridcolor\": \"#C8D4E3\", \"linecolor\": \"#C8D4E3\", \"minorgridcolor\": \"#C8D4E3\", \"startlinecolor\": \"#2a3f5f\"}, \"type\": \"carpet\"}], \"choropleth\": [{\"colorbar\": {\"outlinewidth\": 0, \"ticks\": \"\"}, \"type\": \"choropleth\"}], \"contour\": [{\"colorbar\": {\"outlinewidth\": 0, \"ticks\": \"\"}, \"colorscale\": [[0.0, \"#0d0887\"], [0.1111111111111111, \"#46039f\"], [0.2222222222222222, \"#7201a8\"], [0.3333333333333333, \"#9c179e\"], [0.4444444444444444, \"#bd3786\"], [0.5555555555555556, \"#d8576b\"], [0.6666666666666666, \"#ed7953\"], [0.7777777777777778, \"#fb9f3a\"], [0.8888888888888888, \"#fdca26\"], [1.0, \"#f0f921\"]], \"type\": \"contour\"}], \"contourcarpet\": [{\"colorbar\": {\"outlinewidth\": 0, \"ticks\": \"\"}, \"type\": \"contourcarpet\"}], \"heatmap\": [{\"colorbar\": {\"outlinewidth\": 0, \"ticks\": \"\"}, \"colorscale\": [[0.0, \"#0d0887\"], [0.1111111111111111, \"#46039f\"], [0.2222222222222222, \"#7201a8\"], [0.3333333333333333, \"#9c179e\"], [0.4444444444444444, \"#bd3786\"], [0.5555555555555556, \"#d8576b\"], [0.6666666666666666, \"#ed7953\"], [0.7777777777777778, \"#fb9f3a\"], [0.8888888888888888, \"#fdca26\"], [1.0, \"#f0f921\"]], \"type\": \"heatmap\"}], \"heatmapgl\": [{\"colorbar\": {\"outlinewidth\": 0, \"ticks\": \"\"}, \"colorscale\": [[0.0, \"#0d0887\"], [0.1111111111111111, \"#46039f\"], [0.2222222222222222, \"#7201a8\"], [0.3333333333333333, \"#9c179e\"], [0.4444444444444444, \"#bd3786\"], [0.5555555555555556, \"#d8576b\"], [0.6666666666666666, \"#ed7953\"], [0.7777777777777778, \"#fb9f3a\"], [0.8888888888888888, \"#fdca26\"], [1.0, \"#f0f921\"]], \"type\": \"heatmapgl\"}], \"histogram\": [{\"marker\": {\"colorbar\": {\"outlinewidth\": 0, \"ticks\": \"\"}}, \"type\": \"histogram\"}], \"histogram2d\": [{\"colorbar\": {\"outlinewidth\": 0, \"ticks\": \"\"}, \"colorscale\": [[0.0, \"#0d0887\"], [0.1111111111111111, \"#46039f\"], [0.2222222222222222, \"#7201a8\"], [0.3333333333333333, \"#9c179e\"], [0.4444444444444444, \"#bd3786\"], [0.5555555555555556, \"#d8576b\"], [0.6666666666666666, \"#ed7953\"], [0.7777777777777778, \"#fb9f3a\"], [0.8888888888888888, \"#fdca26\"], [1.0, \"#f0f921\"]], \"type\": \"histogram2d\"}], \"histogram2dcontour\": [{\"colorbar\": {\"outlinewidth\": 0, \"ticks\": \"\"}, \"colorscale\": [[0.0, \"#0d0887\"], [0.1111111111111111, \"#46039f\"], [0.2222222222222222, \"#7201a8\"], [0.3333333333333333, \"#9c179e\"], [0.4444444444444444, \"#bd3786\"], [0.5555555555555556, \"#d8576b\"], [0.6666666666666666, \"#ed7953\"], [0.7777777777777778, \"#fb9f3a\"], [0.8888888888888888, \"#fdca26\"], [1.0, \"#f0f921\"]], \"type\": \"histogram2dcontour\"}], \"mesh3d\": [{\"colorbar\": {\"outlinewidth\": 0, \"ticks\": \"\"}, \"type\": \"mesh3d\"}], \"parcoords\": [{\"line\": {\"colorbar\": {\"outlinewidth\": 0, \"ticks\": \"\"}}, \"type\": \"parcoords\"}], \"pie\": [{\"automargin\": true, \"type\": \"pie\"}], \"scatter\": [{\"marker\": {\"colorbar\": {\"outlinewidth\": 0, \"ticks\": \"\"}}, \"type\": \"scatter\"}], \"scatter3d\": [{\"line\": {\"colorbar\": {\"outlinewidth\": 0, \"ticks\": \"\"}}, \"marker\": {\"colorbar\": {\"outlinewidth\": 0, \"ticks\": \"\"}}, \"type\": \"scatter3d\"}], \"scattercarpet\": [{\"marker\": {\"colorbar\": {\"outlinewidth\": 0, \"ticks\": \"\"}}, \"type\": \"scattercarpet\"}], \"scattergeo\": [{\"marker\": {\"colorbar\": {\"outlinewidth\": 0, \"ticks\": \"\"}}, \"type\": \"scattergeo\"}], \"scattergl\": [{\"marker\": {\"colorbar\": {\"outlinewidth\": 0, \"ticks\": \"\"}}, \"type\": \"scattergl\"}], \"scattermapbox\": [{\"marker\": {\"colorbar\": {\"outlinewidth\": 0, \"ticks\": \"\"}}, \"type\": \"scattermapbox\"}], \"scatterpolar\": [{\"marker\": {\"colorbar\": {\"outlinewidth\": 0, \"ticks\": \"\"}}, \"type\": \"scatterpolar\"}], \"scatterpolargl\": [{\"marker\": {\"colorbar\": {\"outlinewidth\": 0, \"ticks\": \"\"}}, \"type\": \"scatterpolargl\"}], \"scatterternary\": [{\"marker\": {\"colorbar\": {\"outlinewidth\": 0, \"ticks\": \"\"}}, \"type\": \"scatterternary\"}], \"surface\": [{\"colorbar\": {\"outlinewidth\": 0, \"ticks\": \"\"}, \"colorscale\": [[0.0, \"#0d0887\"], [0.1111111111111111, \"#46039f\"], [0.2222222222222222, \"#7201a8\"], [0.3333333333333333, \"#9c179e\"], [0.4444444444444444, \"#bd3786\"], [0.5555555555555556, \"#d8576b\"], [0.6666666666666666, \"#ed7953\"], [0.7777777777777778, \"#fb9f3a\"], [0.8888888888888888, \"#fdca26\"], [1.0, \"#f0f921\"]], \"type\": \"surface\"}], \"table\": [{\"cells\": {\"fill\": {\"color\": \"#EBF0F8\"}, \"line\": {\"color\": \"white\"}}, \"header\": {\"fill\": {\"color\": \"#C8D4E3\"}, \"line\": {\"color\": \"white\"}}, \"type\": \"table\"}]}, \"layout\": {\"annotationdefaults\": {\"arrowcolor\": \"#2a3f5f\", \"arrowhead\": 0, \"arrowwidth\": 1}, \"coloraxis\": {\"colorbar\": {\"outlinewidth\": 0, \"ticks\": \"\"}}, \"colorscale\": {\"diverging\": [[0, \"#8e0152\"], [0.1, \"#c51b7d\"], [0.2, \"#de77ae\"], [0.3, \"#f1b6da\"], [0.4, \"#fde0ef\"], [0.5, \"#f7f7f7\"], [0.6, \"#e6f5d0\"], [0.7, \"#b8e186\"], [0.8, \"#7fbc41\"], [0.9, \"#4d9221\"], [1, \"#276419\"]], \"sequential\": [[0.0, \"#0d0887\"], [0.1111111111111111, \"#46039f\"], [0.2222222222222222, \"#7201a8\"], [0.3333333333333333, \"#9c179e\"], [0.4444444444444444, \"#bd3786\"], [0.5555555555555556, \"#d8576b\"], [0.6666666666666666, \"#ed7953\"], [0.7777777777777778, \"#fb9f3a\"], [0.8888888888888888, \"#fdca26\"], [1.0, \"#f0f921\"]], \"sequentialminus\": [[0.0, \"#0d0887\"], [0.1111111111111111, \"#46039f\"], [0.2222222222222222, \"#7201a8\"], [0.3333333333333333, \"#9c179e\"], [0.4444444444444444, \"#bd3786\"], [0.5555555555555556, \"#d8576b\"], [0.6666666666666666, \"#ed7953\"], [0.7777777777777778, \"#fb9f3a\"], [0.8888888888888888, \"#fdca26\"], [1.0, \"#f0f921\"]]}, \"colorway\": [\"#636efa\", \"#EF553B\", \"#00cc96\", \"#ab63fa\", \"#FFA15A\", \"#19d3f3\", \"#FF6692\", \"#B6E880\", \"#FF97FF\", \"#FECB52\"], \"font\": {\"color\": \"#2a3f5f\"}, \"geo\": {\"bgcolor\": \"white\", \"lakecolor\": \"white\", \"landcolor\": \"white\", \"showlakes\": true, \"showland\": true, \"subunitcolor\": \"#C8D4E3\"}, \"hoverlabel\": {\"align\": \"left\"}, \"hovermode\": \"closest\", \"mapbox\": {\"style\": \"light\"}, \"paper_bgcolor\": \"white\", \"plot_bgcolor\": \"white\", \"polar\": {\"angularaxis\": {\"gridcolor\": \"#EBF0F8\", \"linecolor\": \"#EBF0F8\", \"ticks\": \"\"}, \"bgcolor\": \"white\", \"radialaxis\": {\"gridcolor\": \"#EBF0F8\", \"linecolor\": \"#EBF0F8\", \"ticks\": \"\"}}, \"scene\": {\"xaxis\": {\"backgroundcolor\": \"white\", \"gridcolor\": \"#DFE8F3\", \"gridwidth\": 2, \"linecolor\": \"#EBF0F8\", \"showbackground\": true, \"ticks\": \"\", \"zerolinecolor\": \"#EBF0F8\"}, \"yaxis\": {\"backgroundcolor\": \"white\", \"gridcolor\": \"#DFE8F3\", \"gridwidth\": 2, \"linecolor\": \"#EBF0F8\", \"showbackground\": true, \"ticks\": \"\", \"zerolinecolor\": \"#EBF0F8\"}, \"zaxis\": {\"backgroundcolor\": \"white\", \"gridcolor\": \"#DFE8F3\", \"gridwidth\": 2, \"linecolor\": \"#EBF0F8\", \"showbackground\": true, \"ticks\": \"\", \"zerolinecolor\": \"#EBF0F8\"}}, \"shapedefaults\": {\"line\": {\"color\": \"#2a3f5f\"}}, \"ternary\": {\"aaxis\": {\"gridcolor\": \"#DFE8F3\", \"linecolor\": \"#A2B1C6\", \"ticks\": \"\"}, \"baxis\": {\"gridcolor\": \"#DFE8F3\", \"linecolor\": \"#A2B1C6\", \"ticks\": \"\"}, \"bgcolor\": \"white\", \"caxis\": {\"gridcolor\": \"#DFE8F3\", \"linecolor\": \"#A2B1C6\", \"ticks\": \"\"}}, \"title\": {\"x\": 0.05}, \"xaxis\": {\"automargin\": true, \"gridcolor\": \"#EBF0F8\", \"linecolor\": \"#EBF0F8\", \"ticks\": \"\", \"title\": {\"standoff\": 15}, \"zerolinecolor\": \"#EBF0F8\", \"zerolinewidth\": 2}, \"yaxis\": {\"automargin\": true, \"gridcolor\": \"#EBF0F8\", \"linecolor\": \"#EBF0F8\", \"ticks\": \"\", \"title\": {\"standoff\": 15}, \"zerolinecolor\": \"#EBF0F8\", \"zerolinewidth\": 2}}}, \"title\": {\"text\": \"Actual vs Predicted Price\"}, \"width\": 600, \"xaxis\": {\"title\": {\"text\": \"Batch\"}}, \"yaxis\": {\"title\": {\"text\": \"Price\"}}},\n",
              "                        {\"responsive\": true}\n",
              "                    ).then(function(){\n",
              "                            \n",
              "var gd = document.getElementById('c40b7756-904f-4135-b4c5-dfbf72b1a64f');\n",
              "var x = new MutationObserver(function (mutations, observer) {{\n",
              "        var display = window.getComputedStyle(gd).display;\n",
              "        if (!display || display === 'none') {{\n",
              "            console.log([gd, 'removed!']);\n",
              "            Plotly.purge(gd);\n",
              "            observer.disconnect();\n",
              "        }}\n",
              "}});\n",
              "\n",
              "// Listen for the removal of the full notebook cells\n",
              "var notebookContainer = gd.closest('#notebook-container');\n",
              "if (notebookContainer) {{\n",
              "    x.observe(notebookContainer, {childList: true});\n",
              "}}\n",
              "\n",
              "// Listen for the clearing of the current output cell\n",
              "var outputEl = gd.closest('.output');\n",
              "if (outputEl) {{\n",
              "    x.observe(outputEl, {childList: true});\n",
              "}}\n",
              "\n",
              "                        })\n",
              "                };\n",
              "                \n",
              "            </script>\n",
              "        </div>\n",
              "</body>\n",
              "</html>"
            ]
          },
          "metadata": {}
        },
        {
          "output_type": "display_data",
          "data": {
            "text/html": [
              "<html>\n",
              "<head><meta charset=\"utf-8\" /></head>\n",
              "<body>\n",
              "    <div>\n",
              "            <script src=\"https://cdnjs.cloudflare.com/ajax/libs/mathjax/2.7.5/MathJax.js?config=TeX-AMS-MML_SVG\"></script><script type=\"text/javascript\">if (window.MathJax) {MathJax.Hub.Config({SVG: {font: \"STIX-Web\"}});}</script>\n",
              "                <script type=\"text/javascript\">window.PlotlyConfig = {MathJaxConfig: 'local'};</script>\n",
              "        <script src=\"https://cdn.plot.ly/plotly-latest.min.js\"></script>    \n",
              "            <div id=\"c88fe01c-1c25-42cf-a08b-e241e40c3abc\" class=\"plotly-graph-div\" style=\"height:400px; width:600px;\"></div>\n",
              "            <script type=\"text/javascript\">\n",
              "                \n",
              "                    window.PLOTLYENV=window.PLOTLYENV || {};\n",
              "                    \n",
              "                if (document.getElementById(\"c88fe01c-1c25-42cf-a08b-e241e40c3abc\")) {\n",
              "                    Plotly.newPlot(\n",
              "                        'c88fe01c-1c25-42cf-a08b-e241e40c3abc',\n",
              "                        [{\"fill\": \"tozeroy\", \"line\": {\"color\": \"#ccc\"}, \"mode\": \"lines\", \"name\": \"Test Data\", \"type\": \"scatter\", \"x\": [234, 235, 236, 237, 238, 239, 240, 241, 242, 243, 244, 245, 246, 247, 248, 249, 250, 251, 252, 253, 254, 255, 256, 257, 258, 259, 260, 261, 262, 263, 264, 265, 266, 267, 268, 269, 270, 271, 272, 273], \"y\": [4.9621450849358215, 4.984222870144423, 4.972864196409257, 4.9507437368556495, 4.990636647589566, 4.969952178820721, 4.923405711483329, 4.90141548910036, 4.942570563182127, 4.940355881083839, 4.955897477656921, 4.947482479090987, 4.963893031544124, 4.97583678855356, 4.951522029603749, 4.950106501021434, 4.94356913673158, 4.960113631748675, 4.93461780767234, 4.944353031302275, 4.953359226276525, 4.962774697744756, 4.981824212242136, 4.967519003022628, 4.974662633637438, 4.9624949187683205, 4.977147449935266, 4.990432586778736, 4.995521656286208, 5.012300573415317, 5.0204536030335944, 5.025326842839245, 5.043683148142456, 5.0476741415312425, 5.031613700481447, 5.027885647502783, 5.010101818490112, 5.007697650108913, 5.008566488927144, 4.995318589984363]}, {\"fill\": \"tozeroy\", \"line\": {\"color\": \"#ccc\"}, \"mode\": \"lines+markers\", \"name\": \"Actual Price\", \"type\": \"scatter\", \"x\": [274, 275, 276, 277, 278], \"y\": [4.9621450849358215, 4.984222870144423, 4.972864196409257, 4.9507437368556495, 4.990636647589566]}, {\"line\": {\"color\": \"red\"}, \"mode\": \"lines+markers\", \"name\": \"Predicted Price\", \"type\": \"scatter\", \"x\": [274, 275, 276, 277, 278], \"y\": [4.978095054626465, 4.9729905128479, 4.950137615203857, 4.94037389755249, 4.928962707519531]}],\n",
              "                        {\"height\": 400, \"template\": {\"data\": {\"bar\": [{\"error_x\": {\"color\": \"#2a3f5f\"}, \"error_y\": {\"color\": \"#2a3f5f\"}, \"marker\": {\"line\": {\"color\": \"white\", \"width\": 0.5}}, \"type\": \"bar\"}], \"barpolar\": [{\"marker\": {\"line\": {\"color\": \"white\", \"width\": 0.5}}, \"type\": \"barpolar\"}], \"carpet\": [{\"aaxis\": {\"endlinecolor\": \"#2a3f5f\", \"gridcolor\": \"#C8D4E3\", \"linecolor\": \"#C8D4E3\", \"minorgridcolor\": \"#C8D4E3\", \"startlinecolor\": \"#2a3f5f\"}, \"baxis\": {\"endlinecolor\": \"#2a3f5f\", \"gridcolor\": \"#C8D4E3\", \"linecolor\": \"#C8D4E3\", \"minorgridcolor\": \"#C8D4E3\", \"startlinecolor\": \"#2a3f5f\"}, \"type\": \"carpet\"}], \"choropleth\": [{\"colorbar\": {\"outlinewidth\": 0, \"ticks\": \"\"}, \"type\": \"choropleth\"}], \"contour\": [{\"colorbar\": {\"outlinewidth\": 0, \"ticks\": \"\"}, \"colorscale\": [[0.0, \"#0d0887\"], [0.1111111111111111, \"#46039f\"], [0.2222222222222222, \"#7201a8\"], [0.3333333333333333, \"#9c179e\"], [0.4444444444444444, \"#bd3786\"], [0.5555555555555556, \"#d8576b\"], [0.6666666666666666, \"#ed7953\"], [0.7777777777777778, \"#fb9f3a\"], [0.8888888888888888, \"#fdca26\"], [1.0, \"#f0f921\"]], \"type\": \"contour\"}], \"contourcarpet\": [{\"colorbar\": {\"outlinewidth\": 0, \"ticks\": \"\"}, \"type\": \"contourcarpet\"}], \"heatmap\": [{\"colorbar\": {\"outlinewidth\": 0, \"ticks\": \"\"}, \"colorscale\": [[0.0, \"#0d0887\"], [0.1111111111111111, \"#46039f\"], [0.2222222222222222, \"#7201a8\"], [0.3333333333333333, \"#9c179e\"], [0.4444444444444444, \"#bd3786\"], [0.5555555555555556, \"#d8576b\"], [0.6666666666666666, \"#ed7953\"], [0.7777777777777778, \"#fb9f3a\"], [0.8888888888888888, \"#fdca26\"], [1.0, \"#f0f921\"]], \"type\": \"heatmap\"}], \"heatmapgl\": [{\"colorbar\": {\"outlinewidth\": 0, \"ticks\": \"\"}, \"colorscale\": [[0.0, \"#0d0887\"], [0.1111111111111111, \"#46039f\"], [0.2222222222222222, \"#7201a8\"], [0.3333333333333333, \"#9c179e\"], [0.4444444444444444, \"#bd3786\"], [0.5555555555555556, \"#d8576b\"], [0.6666666666666666, \"#ed7953\"], [0.7777777777777778, \"#fb9f3a\"], [0.8888888888888888, \"#fdca26\"], [1.0, \"#f0f921\"]], \"type\": \"heatmapgl\"}], \"histogram\": [{\"marker\": {\"colorbar\": {\"outlinewidth\": 0, \"ticks\": \"\"}}, \"type\": \"histogram\"}], \"histogram2d\": [{\"colorbar\": {\"outlinewidth\": 0, \"ticks\": \"\"}, \"colorscale\": [[0.0, \"#0d0887\"], [0.1111111111111111, \"#46039f\"], [0.2222222222222222, \"#7201a8\"], [0.3333333333333333, \"#9c179e\"], [0.4444444444444444, \"#bd3786\"], [0.5555555555555556, \"#d8576b\"], [0.6666666666666666, \"#ed7953\"], [0.7777777777777778, \"#fb9f3a\"], [0.8888888888888888, \"#fdca26\"], [1.0, \"#f0f921\"]], \"type\": \"histogram2d\"}], \"histogram2dcontour\": [{\"colorbar\": {\"outlinewidth\": 0, \"ticks\": \"\"}, \"colorscale\": [[0.0, \"#0d0887\"], [0.1111111111111111, \"#46039f\"], [0.2222222222222222, \"#7201a8\"], [0.3333333333333333, \"#9c179e\"], [0.4444444444444444, \"#bd3786\"], [0.5555555555555556, \"#d8576b\"], [0.6666666666666666, \"#ed7953\"], [0.7777777777777778, \"#fb9f3a\"], [0.8888888888888888, \"#fdca26\"], [1.0, \"#f0f921\"]], \"type\": \"histogram2dcontour\"}], \"mesh3d\": [{\"colorbar\": {\"outlinewidth\": 0, \"ticks\": \"\"}, \"type\": \"mesh3d\"}], \"parcoords\": [{\"line\": {\"colorbar\": {\"outlinewidth\": 0, \"ticks\": \"\"}}, \"type\": \"parcoords\"}], \"pie\": [{\"automargin\": true, \"type\": \"pie\"}], \"scatter\": [{\"marker\": {\"colorbar\": {\"outlinewidth\": 0, \"ticks\": \"\"}}, \"type\": \"scatter\"}], \"scatter3d\": [{\"line\": {\"colorbar\": {\"outlinewidth\": 0, \"ticks\": \"\"}}, \"marker\": {\"colorbar\": {\"outlinewidth\": 0, \"ticks\": \"\"}}, \"type\": \"scatter3d\"}], \"scattercarpet\": [{\"marker\": {\"colorbar\": {\"outlinewidth\": 0, \"ticks\": \"\"}}, \"type\": \"scattercarpet\"}], \"scattergeo\": [{\"marker\": {\"colorbar\": {\"outlinewidth\": 0, \"ticks\": \"\"}}, \"type\": \"scattergeo\"}], \"scattergl\": [{\"marker\": {\"colorbar\": {\"outlinewidth\": 0, \"ticks\": \"\"}}, \"type\": \"scattergl\"}], \"scattermapbox\": [{\"marker\": {\"colorbar\": {\"outlinewidth\": 0, \"ticks\": \"\"}}, \"type\": \"scattermapbox\"}], \"scatterpolar\": [{\"marker\": {\"colorbar\": {\"outlinewidth\": 0, \"ticks\": \"\"}}, \"type\": \"scatterpolar\"}], \"scatterpolargl\": [{\"marker\": {\"colorbar\": {\"outlinewidth\": 0, \"ticks\": \"\"}}, \"type\": \"scatterpolargl\"}], \"scatterternary\": [{\"marker\": {\"colorbar\": {\"outlinewidth\": 0, \"ticks\": \"\"}}, \"type\": \"scatterternary\"}], \"surface\": [{\"colorbar\": {\"outlinewidth\": 0, \"ticks\": \"\"}, \"colorscale\": [[0.0, \"#0d0887\"], [0.1111111111111111, \"#46039f\"], [0.2222222222222222, \"#7201a8\"], [0.3333333333333333, \"#9c179e\"], [0.4444444444444444, \"#bd3786\"], [0.5555555555555556, \"#d8576b\"], [0.6666666666666666, \"#ed7953\"], [0.7777777777777778, \"#fb9f3a\"], [0.8888888888888888, \"#fdca26\"], [1.0, \"#f0f921\"]], \"type\": \"surface\"}], \"table\": [{\"cells\": {\"fill\": {\"color\": \"#EBF0F8\"}, \"line\": {\"color\": \"white\"}}, \"header\": {\"fill\": {\"color\": \"#C8D4E3\"}, \"line\": {\"color\": \"white\"}}, \"type\": \"table\"}]}, \"layout\": {\"annotationdefaults\": {\"arrowcolor\": \"#2a3f5f\", \"arrowhead\": 0, \"arrowwidth\": 1}, \"coloraxis\": {\"colorbar\": {\"outlinewidth\": 0, \"ticks\": \"\"}}, \"colorscale\": {\"diverging\": [[0, \"#8e0152\"], [0.1, \"#c51b7d\"], [0.2, \"#de77ae\"], [0.3, \"#f1b6da\"], [0.4, \"#fde0ef\"], [0.5, \"#f7f7f7\"], [0.6, \"#e6f5d0\"], [0.7, \"#b8e186\"], [0.8, \"#7fbc41\"], [0.9, \"#4d9221\"], [1, \"#276419\"]], \"sequential\": [[0.0, \"#0d0887\"], [0.1111111111111111, \"#46039f\"], [0.2222222222222222, \"#7201a8\"], [0.3333333333333333, \"#9c179e\"], [0.4444444444444444, \"#bd3786\"], [0.5555555555555556, \"#d8576b\"], [0.6666666666666666, \"#ed7953\"], [0.7777777777777778, \"#fb9f3a\"], [0.8888888888888888, \"#fdca26\"], [1.0, \"#f0f921\"]], \"sequentialminus\": [[0.0, \"#0d0887\"], [0.1111111111111111, \"#46039f\"], [0.2222222222222222, \"#7201a8\"], [0.3333333333333333, \"#9c179e\"], [0.4444444444444444, \"#bd3786\"], [0.5555555555555556, \"#d8576b\"], [0.6666666666666666, \"#ed7953\"], [0.7777777777777778, \"#fb9f3a\"], [0.8888888888888888, \"#fdca26\"], [1.0, \"#f0f921\"]]}, \"colorway\": [\"#636efa\", \"#EF553B\", \"#00cc96\", \"#ab63fa\", \"#FFA15A\", \"#19d3f3\", \"#FF6692\", \"#B6E880\", \"#FF97FF\", \"#FECB52\"], \"font\": {\"color\": \"#2a3f5f\"}, \"geo\": {\"bgcolor\": \"white\", \"lakecolor\": \"white\", \"landcolor\": \"white\", \"showlakes\": true, \"showland\": true, \"subunitcolor\": \"#C8D4E3\"}, \"hoverlabel\": {\"align\": \"left\"}, \"hovermode\": \"closest\", \"mapbox\": {\"style\": \"light\"}, \"paper_bgcolor\": \"white\", \"plot_bgcolor\": \"white\", \"polar\": {\"angularaxis\": {\"gridcolor\": \"#EBF0F8\", \"linecolor\": \"#EBF0F8\", \"ticks\": \"\"}, \"bgcolor\": \"white\", \"radialaxis\": {\"gridcolor\": \"#EBF0F8\", \"linecolor\": \"#EBF0F8\", \"ticks\": \"\"}}, \"scene\": {\"xaxis\": {\"backgroundcolor\": \"white\", \"gridcolor\": \"#DFE8F3\", \"gridwidth\": 2, \"linecolor\": \"#EBF0F8\", \"showbackground\": true, \"ticks\": \"\", \"zerolinecolor\": \"#EBF0F8\"}, \"yaxis\": {\"backgroundcolor\": \"white\", \"gridcolor\": \"#DFE8F3\", \"gridwidth\": 2, \"linecolor\": \"#EBF0F8\", \"showbackground\": true, \"ticks\": \"\", \"zerolinecolor\": \"#EBF0F8\"}, \"zaxis\": {\"backgroundcolor\": \"white\", \"gridcolor\": \"#DFE8F3\", \"gridwidth\": 2, \"linecolor\": \"#EBF0F8\", \"showbackground\": true, \"ticks\": \"\", \"zerolinecolor\": \"#EBF0F8\"}}, \"shapedefaults\": {\"line\": {\"color\": \"#2a3f5f\"}}, \"ternary\": {\"aaxis\": {\"gridcolor\": \"#DFE8F3\", \"linecolor\": \"#A2B1C6\", \"ticks\": \"\"}, \"baxis\": {\"gridcolor\": \"#DFE8F3\", \"linecolor\": \"#A2B1C6\", \"ticks\": \"\"}, \"bgcolor\": \"white\", \"caxis\": {\"gridcolor\": \"#DFE8F3\", \"linecolor\": \"#A2B1C6\", \"ticks\": \"\"}}, \"title\": {\"x\": 0.05}, \"xaxis\": {\"automargin\": true, \"gridcolor\": \"#EBF0F8\", \"linecolor\": \"#EBF0F8\", \"ticks\": \"\", \"title\": {\"standoff\": 15}, \"zerolinecolor\": \"#EBF0F8\", \"zerolinewidth\": 2}, \"yaxis\": {\"automargin\": true, \"gridcolor\": \"#EBF0F8\", \"linecolor\": \"#EBF0F8\", \"ticks\": \"\", \"title\": {\"standoff\": 15}, \"zerolinecolor\": \"#EBF0F8\", \"zerolinewidth\": 2}}}, \"title\": {\"text\": \"Actual vs Predicted Price\"}, \"width\": 600, \"xaxis\": {\"title\": {\"text\": \"Batch\"}}, \"yaxis\": {\"title\": {\"text\": \"Price\"}}},\n",
              "                        {\"responsive\": true}\n",
              "                    ).then(function(){\n",
              "                            \n",
              "var gd = document.getElementById('c88fe01c-1c25-42cf-a08b-e241e40c3abc');\n",
              "var x = new MutationObserver(function (mutations, observer) {{\n",
              "        var display = window.getComputedStyle(gd).display;\n",
              "        if (!display || display === 'none') {{\n",
              "            console.log([gd, 'removed!']);\n",
              "            Plotly.purge(gd);\n",
              "            observer.disconnect();\n",
              "        }}\n",
              "}});\n",
              "\n",
              "// Listen for the removal of the full notebook cells\n",
              "var notebookContainer = gd.closest('#notebook-container');\n",
              "if (notebookContainer) {{\n",
              "    x.observe(notebookContainer, {childList: true});\n",
              "}}\n",
              "\n",
              "// Listen for the clearing of the current output cell\n",
              "var outputEl = gd.closest('.output');\n",
              "if (outputEl) {{\n",
              "    x.observe(outputEl, {childList: true});\n",
              "}}\n",
              "\n",
              "                        })\n",
              "                };\n",
              "                \n",
              "            </script>\n",
              "        </div>\n",
              "</body>\n",
              "</html>"
            ]
          },
          "metadata": {}
        },
        {
          "output_type": "stream",
          "name": "stderr",
          "text": [
            "WARNING:absl:Found untraced functions such as lstm_cell_layer_call_fn, lstm_cell_layer_call_and_return_conditional_losses, lstm_cell_1_layer_call_fn, lstm_cell_1_layer_call_and_return_conditional_losses, lstm_cell_2_layer_call_fn while saving (showing 5 of 15). These functions will not be directly callable after loading.\n"
          ]
        },
        {
          "output_type": "stream",
          "name": "stdout",
          "text": [
            "INFO:tensorflow:Assets written to: /content/drive/MyDrive/Colab Notebooks/models/model_VWM_log_features/assets\n"
          ]
        },
        {
          "output_type": "stream",
          "name": "stderr",
          "text": [
            "INFO:tensorflow:Assets written to: /content/drive/MyDrive/Colab Notebooks/models/model_VWM_log_features/assets\n"
          ]
        }
      ]
    },
    {
      "cell_type": "markdown",
      "metadata": {
        "id": "TobMN5jOvIIj"
      },
      "source": [
        "### BLX.TO"
      ]
    },
    {
      "cell_type": "code",
      "metadata": {
        "colab": {
          "base_uri": "https://localhost:8080/",
          "height": 1000
        },
        "id": "pWe0wsANnike",
        "outputId": "60ad8c82-e912-4d40-acd9-a8d607d589c1"
      },
      "source": [
        "# BLX  -all features\n",
        "stock= 'BLX.TO'\n",
        "modelname = f'model_{stock}_{transform}'\n",
        "model = create_lstm_model(config,x_train,n_predict)\n",
        "\n",
        "# train\n",
        "tic = timeit.default_timer()\n",
        "history = model.fit(x_train,\n",
        "                    y_train,\n",
        "                    batch_size=config['train']['batch_size'],\n",
        "                    epochs=config['train']['epochs'],\n",
        "                    callbacks = [config['train']['early_stop']],\n",
        "                    validation_split =0.10, \n",
        "                    verbose = 0\n",
        "                    )\n",
        "\n",
        "# print the training time\n",
        "toc =timeit.default_timer()\n",
        "print('\\nTraining Time')\n",
        "print('='*60)\n",
        "print(f'Minutes:{round((toc-tic)/60,2)}\\n')\n",
        "\n",
        "# predict prices\n",
        "# calculate the performance metrics\n",
        "# plot training metrics\n",
        "# plot predictions for random batches\n",
        "y_pred_scaled = calculate_performance(x_test,y_test,model,scaler_y)\n",
        "plot_training_metrics(history)\n",
        "plot_n_price_predictions(idx_close,x_test,y_pred_scaled,scaler_y,2)\n",
        "\n",
        "\n",
        "# save model and training performance\n",
        "model.save(f'/content/drive/MyDrive/Colab Notebooks/models/{modelname}_all')\n",
        "\n",
        "df_hist = pd.DataFrame(history.history) \n",
        "df_hist.to_csv(f'/content/drive/MyDrive/Colab Notebooks/models/{modelname}_all/train_history.csv')"
      ],
      "execution_count": 22,
      "outputs": [
        {
          "output_type": "stream",
          "name": "stdout",
          "text": [
            "Model: \"LSTM\"\n",
            "_________________________________________________________________\n",
            "Layer (type)                 Output Shape              Param #   \n",
            "=================================================================\n",
            "lstm (LSTM)                  (None, 40, 40)            11040     \n",
            "_________________________________________________________________\n",
            "lstm_1 (LSTM)                (None, 40, 256)           304128    \n",
            "_________________________________________________________________\n",
            "dropout (Dropout)            (None, 40, 256)           0         \n",
            "_________________________________________________________________\n",
            "lstm_2 (LSTM)                (None, 128)               197120    \n",
            "_________________________________________________________________\n",
            "dropout_1 (Dropout)          (None, 128)               0         \n",
            "_________________________________________________________________\n",
            "dense (Dense)                (None, 32)                4128      \n",
            "_________________________________________________________________\n",
            "dropout_2 (Dropout)          (None, 32)                0         \n",
            "_________________________________________________________________\n",
            "dense_1 (Dense)              (None, 16)                528       \n",
            "_________________________________________________________________\n",
            "dropout_3 (Dropout)          (None, 16)                0         \n",
            "_________________________________________________________________\n",
            "dense_2 (Dense)              (None, 5)                 85        \n",
            "=================================================================\n",
            "Total params: 517,029\n",
            "Trainable params: 517,029\n",
            "Non-trainable params: 0\n",
            "_________________________________________________________________\n",
            "\n",
            "Training Time\n",
            "============================================================\n",
            "Minutes:11.18\n",
            "\n",
            "\n",
            "Model Error\n",
            "==============================================================\n",
            "Mean Absolute Error (MAE)------------------------------  0.19\n",
            "Root Mean Squared Error (MSE)--------------------------  0.21\n",
            "Mean Absolute Percentage Error (MAPE)------------------  5.19%\n",
            "Median Absolute Percentage Error (MDAPE)---------------  5.52%\n"
          ]
        },
        {
          "output_type": "display_data",
          "data": {
            "text/html": [
              "<html>\n",
              "<head><meta charset=\"utf-8\" /></head>\n",
              "<body>\n",
              "    <div>\n",
              "            <script src=\"https://cdnjs.cloudflare.com/ajax/libs/mathjax/2.7.5/MathJax.js?config=TeX-AMS-MML_SVG\"></script><script type=\"text/javascript\">if (window.MathJax) {MathJax.Hub.Config({SVG: {font: \"STIX-Web\"}});}</script>\n",
              "                <script type=\"text/javascript\">window.PlotlyConfig = {MathJaxConfig: 'local'};</script>\n",
              "        <script src=\"https://cdn.plot.ly/plotly-latest.min.js\"></script>    \n",
              "            <div id=\"56cbaf04-3b2e-4cda-b464-a2bfcfd8cf55\" class=\"plotly-graph-div\" style=\"height:500px; width:700px;\"></div>\n",
              "            <script type=\"text/javascript\">\n",
              "                \n",
              "                    window.PLOTLYENV=window.PLOTLYENV || {};\n",
              "                    \n",
              "                if (document.getElementById(\"56cbaf04-3b2e-4cda-b464-a2bfcfd8cf55\")) {\n",
              "                    Plotly.newPlot(\n",
              "                        '56cbaf04-3b2e-4cda-b464-a2bfcfd8cf55',\n",
              "                        [{\"line\": {\"color\": \"royalblue\", \"width\": 3}, \"name\": \"train-loss\", \"type\": \"scatter\", \"x\": [1, 2, 3, 4, 5, 6, 7, 8, 9, 10, 11, 12, 13, 14, 15, 16, 17, 18, 19, 20, 21, 22, 23, 24, 25, 26, 27, 28, 29, 30, 31, 32, 33, 34, 35, 36, 37, 38, 39, 40, 41, 42, 43, 44, 45, 46, 47, 48, 49, 50, 51, 52, 53, 54, 55, 56, 57, 58, 59, 60, 61, 62, 63, 64, 65, 66, 67, 68, 69, 70, 71, 72, 73, 74, 75, 76, 77, 78, 79, 80, 81, 82, 83, 84, 85, 86, 87, 88, 89, 90, 91, 92, 93, 94, 95], \"y\": [0.029154835268855095, 0.010767050087451935, 0.009077012538909912, 0.008006356656551361, 0.007728085853159428, 0.006598739884793758, 0.0062153576873242855, 0.005717195104807615, 0.00554205197840929, 0.004613448865711689, 0.0045408448204398155, 0.00451466953381896, 0.0041579147800803185, 0.0039011253975331783, 0.0038088064175099134, 0.0037502157501876354, 0.003278678050264716, 0.0033981481101363897, 0.0032093289773911238, 0.0030297075863927603, 0.002860283013433218, 0.002750315936282277, 0.00262406631372869, 0.0026823231019079685, 0.002467815764248371, 0.0023282277397811413, 0.002465310040861368, 0.0023269059602171183, 0.0019871254917234182, 0.0019997181370854378, 0.001932224491611123, 0.0020345342345535755, 0.0020708416122943163, 0.001911663101054728, 0.001786696258932352, 0.0017688266234472394, 0.0019307916518300772, 0.001737346057780087, 0.001777889672666788, 0.001694315578788519, 0.0015983537305146456, 0.001597874565050006, 0.0016123828245326877, 0.0016326518962159753, 0.0016424396308138967, 0.0016209868481382728, 0.0014969197800382972, 0.0014164824970066547, 0.0014677804429084063, 0.0014436413766816258, 0.0015363444108515978, 0.0013607547152787447, 0.0013317257398739457, 0.001381902489811182, 0.0013311420334503055, 0.0012995615834370255, 0.001346539705991745, 0.001303928205743432, 0.0013787932693958282, 0.0012588145909830928, 0.00118490238673985, 0.0012422753497958183, 0.0011887026485055685, 0.0012424472952261567, 0.0012699590297415853, 0.0011552699143067002, 0.001141538959927857, 0.001106459996663034, 0.0012182671343907714, 0.0011773623991757631, 0.0012005898170173168, 0.0011085685109719634, 0.0010576666099950671, 0.0011123702861368656, 0.001035587745718658, 0.00109432777389884, 0.0010784229962155223, 0.0010916972532868385, 0.001019671675749123, 0.0010119122453033924, 0.0010195960057899356, 0.0010295428801327944, 0.0009602727950550616, 0.0009180583874695003, 0.0008396313060075045, 0.0009913149988278747, 0.0009638461051508784, 0.0009645371465012431, 0.0009214932797476649, 0.000924757681787014, 0.0009108022786676884, 0.0009748924057930708, 0.0009470483637414873, 0.0009358019451610744, 0.0009122350020334125]}, {\"line\": {\"color\": \"crimson\", \"width\": 3}, \"name\": \"val-loss\", \"type\": \"scatter\", \"x\": [1, 2, 3, 4, 5, 6, 7, 8, 9, 10, 11, 12, 13, 14, 15, 16, 17, 18, 19, 20, 21, 22, 23, 24, 25, 26, 27, 28, 29, 30, 31, 32, 33, 34, 35, 36, 37, 38, 39, 40, 41, 42, 43, 44, 45, 46, 47, 48, 49, 50, 51, 52, 53, 54, 55, 56, 57, 58, 59, 60, 61, 62, 63, 64, 65, 66, 67, 68, 69, 70, 71, 72, 73, 74, 75, 76, 77, 78, 79, 80, 81, 82, 83, 84, 85, 86, 87, 88, 89, 90, 91, 92, 93, 94, 95], \"y\": [0.0017399442149326205, 0.0003811062779277563, 0.0011045814026147127, 0.0011689948150888085, 0.0005398416542448103, 0.0009086600039154291, 0.00047622976126149297, 0.0010442493949085474, 0.00042515102541074157, 0.0005069317412562668, 0.0005623465403914452, 0.0002950914786197245, 0.00030677812173962593, 0.0001725343317957595, 0.0008809729479253292, 0.0007887737010605633, 0.0005851143505424261, 0.0001917730551213026, 0.0003643467789515853, 0.0007262389990501106, 0.00024554532137699425, 0.0004415413714013994, 0.001421443303115666, 0.0004593152552843094, 0.0003647336270660162, 0.00040198725764639676, 0.0002496509987395257, 0.0001771514944266528, 0.00017414367175661027, 0.00027446114108897746, 0.0004017877799924463, 0.0002862158289644867, 0.0002276525046909228, 0.00021542311878874898, 0.00022933566651772708, 0.00024334977206308395, 0.0002582574088592082, 0.00039702095091342926, 0.00029933085897937417, 0.0002824793045874685, 0.00025411605020053685, 0.0008898428059183061, 0.0001853659050539136, 0.0002751040447037667, 0.00016829927335493267, 0.0006209782441146672, 0.00027394137578085065, 0.00014670524979010224, 0.0002759135386440903, 0.00015072796668391675, 0.00016134695033542812, 0.00033455819357186556, 0.000219733890844509, 0.0001307374332100153, 0.00018964400805998594, 0.00019669038010761142, 0.00026015410549007356, 0.0005116526735946536, 0.00021690888388548046, 0.00020516416407190263, 0.00035006960388273, 0.00014950998593121767, 0.0003536880831234157, 0.00030853829230181873, 0.00012567061639856547, 0.0005744740483351052, 0.00016106826660688967, 0.0001811409165384248, 0.00012915287516079843, 0.0001319244474871084, 0.0007062715012580156, 0.0008822465315461159, 0.00017182885494548827, 0.00012294526095502079, 0.0006006328039802611, 0.00012873213563580066, 0.00019234433420933783, 0.000563303881790489, 0.000309113587718457, 0.0012294170446693897, 0.00020141412096563727, 0.00040831559454090893, 0.0008352732984349132, 0.0007950161816552281, 0.0005897387745790184, 0.0002653092087712139, 0.00019345573673490435, 0.00026335715665481985, 0.0006409474881365895, 0.00016596542263869196, 0.0006322034751065075, 0.0004488482081796974, 0.00013428187230601907, 0.00031120580388233066, 0.00021294767793733627]}],\n",
              "                        {\"height\": 500, \"template\": {\"data\": {\"bar\": [{\"error_x\": {\"color\": \"#2a3f5f\"}, \"error_y\": {\"color\": \"#2a3f5f\"}, \"marker\": {\"line\": {\"color\": \"white\", \"width\": 0.5}}, \"type\": \"bar\"}], \"barpolar\": [{\"marker\": {\"line\": {\"color\": \"white\", \"width\": 0.5}}, \"type\": \"barpolar\"}], \"carpet\": [{\"aaxis\": {\"endlinecolor\": \"#2a3f5f\", \"gridcolor\": \"#C8D4E3\", \"linecolor\": \"#C8D4E3\", \"minorgridcolor\": \"#C8D4E3\", \"startlinecolor\": \"#2a3f5f\"}, \"baxis\": {\"endlinecolor\": \"#2a3f5f\", \"gridcolor\": \"#C8D4E3\", \"linecolor\": \"#C8D4E3\", \"minorgridcolor\": \"#C8D4E3\", \"startlinecolor\": \"#2a3f5f\"}, \"type\": \"carpet\"}], \"choropleth\": [{\"colorbar\": {\"outlinewidth\": 0, \"ticks\": \"\"}, \"type\": \"choropleth\"}], \"contour\": [{\"colorbar\": {\"outlinewidth\": 0, \"ticks\": \"\"}, \"colorscale\": [[0.0, \"#0d0887\"], [0.1111111111111111, \"#46039f\"], [0.2222222222222222, \"#7201a8\"], [0.3333333333333333, \"#9c179e\"], [0.4444444444444444, \"#bd3786\"], [0.5555555555555556, \"#d8576b\"], [0.6666666666666666, \"#ed7953\"], [0.7777777777777778, \"#fb9f3a\"], [0.8888888888888888, \"#fdca26\"], [1.0, \"#f0f921\"]], \"type\": \"contour\"}], \"contourcarpet\": [{\"colorbar\": {\"outlinewidth\": 0, \"ticks\": \"\"}, \"type\": \"contourcarpet\"}], \"heatmap\": [{\"colorbar\": {\"outlinewidth\": 0, \"ticks\": \"\"}, \"colorscale\": [[0.0, \"#0d0887\"], [0.1111111111111111, \"#46039f\"], [0.2222222222222222, \"#7201a8\"], [0.3333333333333333, \"#9c179e\"], [0.4444444444444444, \"#bd3786\"], [0.5555555555555556, \"#d8576b\"], [0.6666666666666666, \"#ed7953\"], [0.7777777777777778, \"#fb9f3a\"], [0.8888888888888888, \"#fdca26\"], [1.0, \"#f0f921\"]], \"type\": \"heatmap\"}], \"heatmapgl\": [{\"colorbar\": {\"outlinewidth\": 0, \"ticks\": \"\"}, \"colorscale\": [[0.0, \"#0d0887\"], [0.1111111111111111, \"#46039f\"], [0.2222222222222222, \"#7201a8\"], [0.3333333333333333, \"#9c179e\"], [0.4444444444444444, \"#bd3786\"], [0.5555555555555556, \"#d8576b\"], [0.6666666666666666, \"#ed7953\"], [0.7777777777777778, \"#fb9f3a\"], [0.8888888888888888, \"#fdca26\"], [1.0, \"#f0f921\"]], \"type\": \"heatmapgl\"}], \"histogram\": [{\"marker\": {\"colorbar\": {\"outlinewidth\": 0, \"ticks\": \"\"}}, \"type\": \"histogram\"}], \"histogram2d\": [{\"colorbar\": {\"outlinewidth\": 0, \"ticks\": \"\"}, \"colorscale\": [[0.0, \"#0d0887\"], [0.1111111111111111, \"#46039f\"], [0.2222222222222222, \"#7201a8\"], [0.3333333333333333, \"#9c179e\"], [0.4444444444444444, \"#bd3786\"], [0.5555555555555556, \"#d8576b\"], [0.6666666666666666, \"#ed7953\"], [0.7777777777777778, \"#fb9f3a\"], [0.8888888888888888, \"#fdca26\"], [1.0, \"#f0f921\"]], \"type\": \"histogram2d\"}], \"histogram2dcontour\": [{\"colorbar\": {\"outlinewidth\": 0, \"ticks\": \"\"}, \"colorscale\": [[0.0, \"#0d0887\"], [0.1111111111111111, \"#46039f\"], [0.2222222222222222, \"#7201a8\"], [0.3333333333333333, \"#9c179e\"], [0.4444444444444444, \"#bd3786\"], [0.5555555555555556, \"#d8576b\"], [0.6666666666666666, \"#ed7953\"], [0.7777777777777778, \"#fb9f3a\"], [0.8888888888888888, \"#fdca26\"], [1.0, \"#f0f921\"]], \"type\": \"histogram2dcontour\"}], \"mesh3d\": [{\"colorbar\": {\"outlinewidth\": 0, \"ticks\": \"\"}, \"type\": \"mesh3d\"}], \"parcoords\": [{\"line\": {\"colorbar\": {\"outlinewidth\": 0, \"ticks\": \"\"}}, \"type\": \"parcoords\"}], \"pie\": [{\"automargin\": true, \"type\": \"pie\"}], \"scatter\": [{\"marker\": {\"colorbar\": {\"outlinewidth\": 0, \"ticks\": \"\"}}, \"type\": \"scatter\"}], \"scatter3d\": [{\"line\": {\"colorbar\": {\"outlinewidth\": 0, \"ticks\": \"\"}}, \"marker\": {\"colorbar\": {\"outlinewidth\": 0, \"ticks\": \"\"}}, \"type\": \"scatter3d\"}], \"scattercarpet\": [{\"marker\": {\"colorbar\": {\"outlinewidth\": 0, \"ticks\": \"\"}}, \"type\": \"scattercarpet\"}], \"scattergeo\": [{\"marker\": {\"colorbar\": {\"outlinewidth\": 0, \"ticks\": \"\"}}, \"type\": \"scattergeo\"}], \"scattergl\": [{\"marker\": {\"colorbar\": {\"outlinewidth\": 0, \"ticks\": \"\"}}, \"type\": \"scattergl\"}], \"scattermapbox\": [{\"marker\": {\"colorbar\": {\"outlinewidth\": 0, \"ticks\": \"\"}}, \"type\": \"scattermapbox\"}], \"scatterpolar\": [{\"marker\": {\"colorbar\": {\"outlinewidth\": 0, \"ticks\": \"\"}}, \"type\": \"scatterpolar\"}], \"scatterpolargl\": [{\"marker\": {\"colorbar\": {\"outlinewidth\": 0, \"ticks\": \"\"}}, \"type\": \"scatterpolargl\"}], \"scatterternary\": [{\"marker\": {\"colorbar\": {\"outlinewidth\": 0, \"ticks\": \"\"}}, \"type\": \"scatterternary\"}], \"surface\": [{\"colorbar\": {\"outlinewidth\": 0, \"ticks\": \"\"}, \"colorscale\": [[0.0, \"#0d0887\"], [0.1111111111111111, \"#46039f\"], [0.2222222222222222, \"#7201a8\"], [0.3333333333333333, \"#9c179e\"], [0.4444444444444444, \"#bd3786\"], [0.5555555555555556, \"#d8576b\"], [0.6666666666666666, \"#ed7953\"], [0.7777777777777778, \"#fb9f3a\"], [0.8888888888888888, \"#fdca26\"], [1.0, \"#f0f921\"]], \"type\": \"surface\"}], \"table\": [{\"cells\": {\"fill\": {\"color\": \"#EBF0F8\"}, \"line\": {\"color\": \"white\"}}, \"header\": {\"fill\": {\"color\": \"#C8D4E3\"}, \"line\": {\"color\": \"white\"}}, \"type\": \"table\"}]}, \"layout\": {\"annotationdefaults\": {\"arrowcolor\": \"#2a3f5f\", \"arrowhead\": 0, \"arrowwidth\": 1}, \"coloraxis\": {\"colorbar\": {\"outlinewidth\": 0, \"ticks\": \"\"}}, \"colorscale\": {\"diverging\": [[0, \"#8e0152\"], [0.1, \"#c51b7d\"], [0.2, \"#de77ae\"], [0.3, \"#f1b6da\"], [0.4, \"#fde0ef\"], [0.5, \"#f7f7f7\"], [0.6, \"#e6f5d0\"], [0.7, \"#b8e186\"], [0.8, \"#7fbc41\"], [0.9, \"#4d9221\"], [1, \"#276419\"]], \"sequential\": [[0.0, \"#0d0887\"], [0.1111111111111111, \"#46039f\"], [0.2222222222222222, \"#7201a8\"], [0.3333333333333333, \"#9c179e\"], [0.4444444444444444, \"#bd3786\"], [0.5555555555555556, \"#d8576b\"], [0.6666666666666666, \"#ed7953\"], [0.7777777777777778, \"#fb9f3a\"], [0.8888888888888888, \"#fdca26\"], [1.0, \"#f0f921\"]], \"sequentialminus\": [[0.0, \"#0d0887\"], [0.1111111111111111, \"#46039f\"], [0.2222222222222222, \"#7201a8\"], [0.3333333333333333, \"#9c179e\"], [0.4444444444444444, \"#bd3786\"], [0.5555555555555556, \"#d8576b\"], [0.6666666666666666, \"#ed7953\"], [0.7777777777777778, \"#fb9f3a\"], [0.8888888888888888, \"#fdca26\"], [1.0, \"#f0f921\"]]}, \"colorway\": [\"#636efa\", \"#EF553B\", \"#00cc96\", \"#ab63fa\", \"#FFA15A\", \"#19d3f3\", \"#FF6692\", \"#B6E880\", \"#FF97FF\", \"#FECB52\"], \"font\": {\"color\": \"#2a3f5f\"}, \"geo\": {\"bgcolor\": \"white\", \"lakecolor\": \"white\", \"landcolor\": \"white\", \"showlakes\": true, \"showland\": true, \"subunitcolor\": \"#C8D4E3\"}, \"hoverlabel\": {\"align\": \"left\"}, \"hovermode\": \"closest\", \"mapbox\": {\"style\": \"light\"}, \"paper_bgcolor\": \"white\", \"plot_bgcolor\": \"white\", \"polar\": {\"angularaxis\": {\"gridcolor\": \"#EBF0F8\", \"linecolor\": \"#EBF0F8\", \"ticks\": \"\"}, \"bgcolor\": \"white\", \"radialaxis\": {\"gridcolor\": \"#EBF0F8\", \"linecolor\": \"#EBF0F8\", \"ticks\": \"\"}}, \"scene\": {\"xaxis\": {\"backgroundcolor\": \"white\", \"gridcolor\": \"#DFE8F3\", \"gridwidth\": 2, \"linecolor\": \"#EBF0F8\", \"showbackground\": true, \"ticks\": \"\", \"zerolinecolor\": \"#EBF0F8\"}, \"yaxis\": {\"backgroundcolor\": \"white\", \"gridcolor\": \"#DFE8F3\", \"gridwidth\": 2, \"linecolor\": \"#EBF0F8\", \"showbackground\": true, \"ticks\": \"\", \"zerolinecolor\": \"#EBF0F8\"}, \"zaxis\": {\"backgroundcolor\": \"white\", \"gridcolor\": \"#DFE8F3\", \"gridwidth\": 2, \"linecolor\": \"#EBF0F8\", \"showbackground\": true, \"ticks\": \"\", \"zerolinecolor\": \"#EBF0F8\"}}, \"shapedefaults\": {\"line\": {\"color\": \"#2a3f5f\"}}, \"ternary\": {\"aaxis\": {\"gridcolor\": \"#DFE8F3\", \"linecolor\": \"#A2B1C6\", \"ticks\": \"\"}, \"baxis\": {\"gridcolor\": \"#DFE8F3\", \"linecolor\": \"#A2B1C6\", \"ticks\": \"\"}, \"bgcolor\": \"white\", \"caxis\": {\"gridcolor\": \"#DFE8F3\", \"linecolor\": \"#A2B1C6\", \"ticks\": \"\"}}, \"title\": {\"x\": 0.05}, \"xaxis\": {\"automargin\": true, \"gridcolor\": \"#EBF0F8\", \"linecolor\": \"#EBF0F8\", \"ticks\": \"\", \"title\": {\"standoff\": 15}, \"zerolinecolor\": \"#EBF0F8\", \"zerolinewidth\": 2}, \"yaxis\": {\"automargin\": true, \"gridcolor\": \"#EBF0F8\", \"linecolor\": \"#EBF0F8\", \"ticks\": \"\", \"title\": {\"standoff\": 15}, \"zerolinecolor\": \"#EBF0F8\", \"zerolinewidth\": 2}}}, \"title\": {\"text\": \"Training Metrics\"}, \"width\": 700, \"xaxis\": {\"title\": {\"text\": \"epochs\"}}, \"yaxis\": {\"title\": {\"text\": \"loss\"}}},\n",
              "                        {\"responsive\": true}\n",
              "                    ).then(function(){\n",
              "                            \n",
              "var gd = document.getElementById('56cbaf04-3b2e-4cda-b464-a2bfcfd8cf55');\n",
              "var x = new MutationObserver(function (mutations, observer) {{\n",
              "        var display = window.getComputedStyle(gd).display;\n",
              "        if (!display || display === 'none') {{\n",
              "            console.log([gd, 'removed!']);\n",
              "            Plotly.purge(gd);\n",
              "            observer.disconnect();\n",
              "        }}\n",
              "}});\n",
              "\n",
              "// Listen for the removal of the full notebook cells\n",
              "var notebookContainer = gd.closest('#notebook-container');\n",
              "if (notebookContainer) {{\n",
              "    x.observe(notebookContainer, {childList: true});\n",
              "}}\n",
              "\n",
              "// Listen for the clearing of the current output cell\n",
              "var outputEl = gd.closest('.output');\n",
              "if (outputEl) {{\n",
              "    x.observe(outputEl, {childList: true});\n",
              "}}\n",
              "\n",
              "                        })\n",
              "                };\n",
              "                \n",
              "            </script>\n",
              "        </div>\n",
              "</body>\n",
              "</html>"
            ]
          },
          "metadata": {}
        },
        {
          "output_type": "display_data",
          "data": {
            "text/html": [
              "<html>\n",
              "<head><meta charset=\"utf-8\" /></head>\n",
              "<body>\n",
              "    <div>\n",
              "            <script src=\"https://cdnjs.cloudflare.com/ajax/libs/mathjax/2.7.5/MathJax.js?config=TeX-AMS-MML_SVG\"></script><script type=\"text/javascript\">if (window.MathJax) {MathJax.Hub.Config({SVG: {font: \"STIX-Web\"}});}</script>\n",
              "                <script type=\"text/javascript\">window.PlotlyConfig = {MathJaxConfig: 'local'};</script>\n",
              "        <script src=\"https://cdn.plot.ly/plotly-latest.min.js\"></script>    \n",
              "            <div id=\"936ed441-a3d4-4f1b-8f01-bff674a0946a\" class=\"plotly-graph-div\" style=\"height:400px; width:600px;\"></div>\n",
              "            <script type=\"text/javascript\">\n",
              "                \n",
              "                    window.PLOTLYENV=window.PLOTLYENV || {};\n",
              "                    \n",
              "                if (document.getElementById(\"936ed441-a3d4-4f1b-8f01-bff674a0946a\")) {\n",
              "                    Plotly.newPlot(\n",
              "                        '936ed441-a3d4-4f1b-8f01-bff674a0946a',\n",
              "                        [{\"fill\": \"tozeroy\", \"line\": {\"color\": \"#ccc\"}, \"mode\": \"lines\", \"name\": \"Test Data\", \"type\": \"scatter\", \"x\": [188, 189, 190, 191, 192, 193, 194, 195, 196, 197, 198, 199, 200, 201, 202, 203, 204, 205, 206, 207, 208, 209, 210, 211, 212, 213, 214, 215, 216, 217, 218, 219, 220, 221, 222, 223, 224, 225, 226, 227], \"y\": [3.3196257279683437, 3.334701390373791, 3.3178157727231046, 3.3207101307494686, 3.3210713371828704, 3.342861804649192, 3.3551534431607486, 3.3368366225017656, 3.3386125064705343, 3.3600281046240843, 3.361069590571376, 3.3614165116503107, 3.3593331775634563, 3.349904087274605, 3.358289880650879, 3.2924979647388146, 3.312730400339825, 3.343568268825519, 3.351306612048691, 3.3775875160230218, 3.4141136069287015, 3.4151002868311466, 3.3921566370100065, 3.3775875160230218, 3.3717685709713434, 3.391820219849558, 3.369362658142137, 3.401863826205316, 3.4307561839036995, 3.4445761049641, 3.4509394735569696, 3.4619788539220138, 3.4769230921902907, 3.4763048541489607, 3.479700443150099, 3.475067230228611, 3.488902962081261, 3.52311998561896, 3.551053137206533, 3.542407550213679]}, {\"fill\": \"tozeroy\", \"line\": {\"color\": \"#ccc\"}, \"mode\": \"lines+markers\", \"name\": \"Actual Price\", \"type\": \"scatter\", \"x\": [228, 229, 230, 231, 232], \"y\": [3.3196257279683437, 3.334701390373791, 3.3178157727231046, 3.3207101307494686, 3.3210713371828704]}, {\"line\": {\"color\": \"red\"}, \"mode\": \"lines+markers\", \"name\": \"Predicted Price\", \"type\": \"scatter\", \"x\": [228, 229, 230, 231, 232], \"y\": [3.300560235977173, 3.2950055599212646, 3.294682264328003, 3.286911725997925, 3.2929446697235107]}],\n",
              "                        {\"height\": 400, \"template\": {\"data\": {\"bar\": [{\"error_x\": {\"color\": \"#2a3f5f\"}, \"error_y\": {\"color\": \"#2a3f5f\"}, \"marker\": {\"line\": {\"color\": \"white\", \"width\": 0.5}}, \"type\": \"bar\"}], \"barpolar\": [{\"marker\": {\"line\": {\"color\": \"white\", \"width\": 0.5}}, \"type\": \"barpolar\"}], \"carpet\": [{\"aaxis\": {\"endlinecolor\": \"#2a3f5f\", \"gridcolor\": \"#C8D4E3\", \"linecolor\": \"#C8D4E3\", \"minorgridcolor\": \"#C8D4E3\", \"startlinecolor\": \"#2a3f5f\"}, \"baxis\": {\"endlinecolor\": \"#2a3f5f\", \"gridcolor\": \"#C8D4E3\", \"linecolor\": \"#C8D4E3\", \"minorgridcolor\": \"#C8D4E3\", \"startlinecolor\": \"#2a3f5f\"}, \"type\": \"carpet\"}], \"choropleth\": [{\"colorbar\": {\"outlinewidth\": 0, \"ticks\": \"\"}, \"type\": \"choropleth\"}], \"contour\": [{\"colorbar\": {\"outlinewidth\": 0, \"ticks\": \"\"}, \"colorscale\": [[0.0, \"#0d0887\"], [0.1111111111111111, \"#46039f\"], [0.2222222222222222, \"#7201a8\"], [0.3333333333333333, \"#9c179e\"], [0.4444444444444444, \"#bd3786\"], [0.5555555555555556, \"#d8576b\"], [0.6666666666666666, \"#ed7953\"], [0.7777777777777778, \"#fb9f3a\"], [0.8888888888888888, \"#fdca26\"], [1.0, \"#f0f921\"]], \"type\": \"contour\"}], \"contourcarpet\": [{\"colorbar\": {\"outlinewidth\": 0, \"ticks\": \"\"}, \"type\": \"contourcarpet\"}], \"heatmap\": [{\"colorbar\": {\"outlinewidth\": 0, \"ticks\": \"\"}, \"colorscale\": [[0.0, \"#0d0887\"], [0.1111111111111111, \"#46039f\"], [0.2222222222222222, \"#7201a8\"], [0.3333333333333333, \"#9c179e\"], [0.4444444444444444, \"#bd3786\"], [0.5555555555555556, \"#d8576b\"], [0.6666666666666666, \"#ed7953\"], [0.7777777777777778, \"#fb9f3a\"], [0.8888888888888888, \"#fdca26\"], [1.0, \"#f0f921\"]], \"type\": \"heatmap\"}], \"heatmapgl\": [{\"colorbar\": {\"outlinewidth\": 0, \"ticks\": \"\"}, \"colorscale\": [[0.0, \"#0d0887\"], [0.1111111111111111, \"#46039f\"], [0.2222222222222222, \"#7201a8\"], [0.3333333333333333, \"#9c179e\"], [0.4444444444444444, \"#bd3786\"], [0.5555555555555556, \"#d8576b\"], [0.6666666666666666, \"#ed7953\"], [0.7777777777777778, \"#fb9f3a\"], [0.8888888888888888, \"#fdca26\"], [1.0, \"#f0f921\"]], \"type\": \"heatmapgl\"}], \"histogram\": [{\"marker\": {\"colorbar\": {\"outlinewidth\": 0, \"ticks\": \"\"}}, \"type\": \"histogram\"}], \"histogram2d\": [{\"colorbar\": {\"outlinewidth\": 0, \"ticks\": \"\"}, \"colorscale\": [[0.0, \"#0d0887\"], [0.1111111111111111, \"#46039f\"], [0.2222222222222222, \"#7201a8\"], [0.3333333333333333, \"#9c179e\"], [0.4444444444444444, \"#bd3786\"], [0.5555555555555556, \"#d8576b\"], [0.6666666666666666, \"#ed7953\"], [0.7777777777777778, \"#fb9f3a\"], [0.8888888888888888, \"#fdca26\"], [1.0, \"#f0f921\"]], \"type\": \"histogram2d\"}], \"histogram2dcontour\": [{\"colorbar\": {\"outlinewidth\": 0, \"ticks\": \"\"}, \"colorscale\": [[0.0, \"#0d0887\"], [0.1111111111111111, \"#46039f\"], [0.2222222222222222, \"#7201a8\"], [0.3333333333333333, \"#9c179e\"], [0.4444444444444444, \"#bd3786\"], [0.5555555555555556, \"#d8576b\"], [0.6666666666666666, \"#ed7953\"], [0.7777777777777778, \"#fb9f3a\"], [0.8888888888888888, \"#fdca26\"], [1.0, \"#f0f921\"]], \"type\": \"histogram2dcontour\"}], \"mesh3d\": [{\"colorbar\": {\"outlinewidth\": 0, \"ticks\": \"\"}, \"type\": \"mesh3d\"}], \"parcoords\": [{\"line\": {\"colorbar\": {\"outlinewidth\": 0, \"ticks\": \"\"}}, \"type\": \"parcoords\"}], \"pie\": [{\"automargin\": true, \"type\": \"pie\"}], \"scatter\": [{\"marker\": {\"colorbar\": {\"outlinewidth\": 0, \"ticks\": \"\"}}, \"type\": \"scatter\"}], \"scatter3d\": [{\"line\": {\"colorbar\": {\"outlinewidth\": 0, \"ticks\": \"\"}}, \"marker\": {\"colorbar\": {\"outlinewidth\": 0, \"ticks\": \"\"}}, \"type\": \"scatter3d\"}], \"scattercarpet\": [{\"marker\": {\"colorbar\": {\"outlinewidth\": 0, \"ticks\": \"\"}}, \"type\": \"scattercarpet\"}], \"scattergeo\": [{\"marker\": {\"colorbar\": {\"outlinewidth\": 0, \"ticks\": \"\"}}, \"type\": \"scattergeo\"}], \"scattergl\": [{\"marker\": {\"colorbar\": {\"outlinewidth\": 0, \"ticks\": \"\"}}, \"type\": \"scattergl\"}], \"scattermapbox\": [{\"marker\": {\"colorbar\": {\"outlinewidth\": 0, \"ticks\": \"\"}}, \"type\": \"scattermapbox\"}], \"scatterpolar\": [{\"marker\": {\"colorbar\": {\"outlinewidth\": 0, \"ticks\": \"\"}}, \"type\": \"scatterpolar\"}], \"scatterpolargl\": [{\"marker\": {\"colorbar\": {\"outlinewidth\": 0, \"ticks\": \"\"}}, \"type\": \"scatterpolargl\"}], \"scatterternary\": [{\"marker\": {\"colorbar\": {\"outlinewidth\": 0, \"ticks\": \"\"}}, \"type\": \"scatterternary\"}], \"surface\": [{\"colorbar\": {\"outlinewidth\": 0, \"ticks\": \"\"}, \"colorscale\": [[0.0, \"#0d0887\"], [0.1111111111111111, \"#46039f\"], [0.2222222222222222, \"#7201a8\"], [0.3333333333333333, \"#9c179e\"], [0.4444444444444444, \"#bd3786\"], [0.5555555555555556, \"#d8576b\"], [0.6666666666666666, \"#ed7953\"], [0.7777777777777778, \"#fb9f3a\"], [0.8888888888888888, \"#fdca26\"], [1.0, \"#f0f921\"]], \"type\": \"surface\"}], \"table\": [{\"cells\": {\"fill\": {\"color\": \"#EBF0F8\"}, \"line\": {\"color\": \"white\"}}, \"header\": {\"fill\": {\"color\": \"#C8D4E3\"}, \"line\": {\"color\": \"white\"}}, \"type\": \"table\"}]}, \"layout\": {\"annotationdefaults\": {\"arrowcolor\": \"#2a3f5f\", \"arrowhead\": 0, \"arrowwidth\": 1}, \"coloraxis\": {\"colorbar\": {\"outlinewidth\": 0, \"ticks\": \"\"}}, \"colorscale\": {\"diverging\": [[0, \"#8e0152\"], [0.1, \"#c51b7d\"], [0.2, \"#de77ae\"], [0.3, \"#f1b6da\"], [0.4, \"#fde0ef\"], [0.5, \"#f7f7f7\"], [0.6, \"#e6f5d0\"], [0.7, \"#b8e186\"], [0.8, \"#7fbc41\"], [0.9, \"#4d9221\"], [1, \"#276419\"]], \"sequential\": [[0.0, \"#0d0887\"], [0.1111111111111111, \"#46039f\"], [0.2222222222222222, \"#7201a8\"], [0.3333333333333333, \"#9c179e\"], [0.4444444444444444, \"#bd3786\"], [0.5555555555555556, \"#d8576b\"], [0.6666666666666666, \"#ed7953\"], [0.7777777777777778, \"#fb9f3a\"], [0.8888888888888888, \"#fdca26\"], [1.0, \"#f0f921\"]], \"sequentialminus\": [[0.0, \"#0d0887\"], [0.1111111111111111, \"#46039f\"], [0.2222222222222222, \"#7201a8\"], [0.3333333333333333, \"#9c179e\"], [0.4444444444444444, \"#bd3786\"], [0.5555555555555556, \"#d8576b\"], [0.6666666666666666, \"#ed7953\"], [0.7777777777777778, \"#fb9f3a\"], [0.8888888888888888, \"#fdca26\"], [1.0, \"#f0f921\"]]}, \"colorway\": [\"#636efa\", \"#EF553B\", \"#00cc96\", \"#ab63fa\", \"#FFA15A\", \"#19d3f3\", \"#FF6692\", \"#B6E880\", \"#FF97FF\", \"#FECB52\"], \"font\": {\"color\": \"#2a3f5f\"}, \"geo\": {\"bgcolor\": \"white\", \"lakecolor\": \"white\", \"landcolor\": \"white\", \"showlakes\": true, \"showland\": true, \"subunitcolor\": \"#C8D4E3\"}, \"hoverlabel\": {\"align\": \"left\"}, \"hovermode\": \"closest\", \"mapbox\": {\"style\": \"light\"}, \"paper_bgcolor\": \"white\", \"plot_bgcolor\": \"white\", \"polar\": {\"angularaxis\": {\"gridcolor\": \"#EBF0F8\", \"linecolor\": \"#EBF0F8\", \"ticks\": \"\"}, \"bgcolor\": \"white\", \"radialaxis\": {\"gridcolor\": \"#EBF0F8\", \"linecolor\": \"#EBF0F8\", \"ticks\": \"\"}}, \"scene\": {\"xaxis\": {\"backgroundcolor\": \"white\", \"gridcolor\": \"#DFE8F3\", \"gridwidth\": 2, \"linecolor\": \"#EBF0F8\", \"showbackground\": true, \"ticks\": \"\", \"zerolinecolor\": \"#EBF0F8\"}, \"yaxis\": {\"backgroundcolor\": \"white\", \"gridcolor\": \"#DFE8F3\", \"gridwidth\": 2, \"linecolor\": \"#EBF0F8\", \"showbackground\": true, \"ticks\": \"\", \"zerolinecolor\": \"#EBF0F8\"}, \"zaxis\": {\"backgroundcolor\": \"white\", \"gridcolor\": \"#DFE8F3\", \"gridwidth\": 2, \"linecolor\": \"#EBF0F8\", \"showbackground\": true, \"ticks\": \"\", \"zerolinecolor\": \"#EBF0F8\"}}, \"shapedefaults\": {\"line\": {\"color\": \"#2a3f5f\"}}, \"ternary\": {\"aaxis\": {\"gridcolor\": \"#DFE8F3\", \"linecolor\": \"#A2B1C6\", \"ticks\": \"\"}, \"baxis\": {\"gridcolor\": \"#DFE8F3\", \"linecolor\": \"#A2B1C6\", \"ticks\": \"\"}, \"bgcolor\": \"white\", \"caxis\": {\"gridcolor\": \"#DFE8F3\", \"linecolor\": \"#A2B1C6\", \"ticks\": \"\"}}, \"title\": {\"x\": 0.05}, \"xaxis\": {\"automargin\": true, \"gridcolor\": \"#EBF0F8\", \"linecolor\": \"#EBF0F8\", \"ticks\": \"\", \"title\": {\"standoff\": 15}, \"zerolinecolor\": \"#EBF0F8\", \"zerolinewidth\": 2}, \"yaxis\": {\"automargin\": true, \"gridcolor\": \"#EBF0F8\", \"linecolor\": \"#EBF0F8\", \"ticks\": \"\", \"title\": {\"standoff\": 15}, \"zerolinecolor\": \"#EBF0F8\", \"zerolinewidth\": 2}}}, \"title\": {\"text\": \"Actual vs Predicted Price\"}, \"width\": 600, \"xaxis\": {\"title\": {\"text\": \"Batch\"}}, \"yaxis\": {\"title\": {\"text\": \"Price\"}}},\n",
              "                        {\"responsive\": true}\n",
              "                    ).then(function(){\n",
              "                            \n",
              "var gd = document.getElementById('936ed441-a3d4-4f1b-8f01-bff674a0946a');\n",
              "var x = new MutationObserver(function (mutations, observer) {{\n",
              "        var display = window.getComputedStyle(gd).display;\n",
              "        if (!display || display === 'none') {{\n",
              "            console.log([gd, 'removed!']);\n",
              "            Plotly.purge(gd);\n",
              "            observer.disconnect();\n",
              "        }}\n",
              "}});\n",
              "\n",
              "// Listen for the removal of the full notebook cells\n",
              "var notebookContainer = gd.closest('#notebook-container');\n",
              "if (notebookContainer) {{\n",
              "    x.observe(notebookContainer, {childList: true});\n",
              "}}\n",
              "\n",
              "// Listen for the clearing of the current output cell\n",
              "var outputEl = gd.closest('.output');\n",
              "if (outputEl) {{\n",
              "    x.observe(outputEl, {childList: true});\n",
              "}}\n",
              "\n",
              "                        })\n",
              "                };\n",
              "                \n",
              "            </script>\n",
              "        </div>\n",
              "</body>\n",
              "</html>"
            ]
          },
          "metadata": {}
        },
        {
          "output_type": "display_data",
          "data": {
            "text/html": [
              "<html>\n",
              "<head><meta charset=\"utf-8\" /></head>\n",
              "<body>\n",
              "    <div>\n",
              "            <script src=\"https://cdnjs.cloudflare.com/ajax/libs/mathjax/2.7.5/MathJax.js?config=TeX-AMS-MML_SVG\"></script><script type=\"text/javascript\">if (window.MathJax) {MathJax.Hub.Config({SVG: {font: \"STIX-Web\"}});}</script>\n",
              "                <script type=\"text/javascript\">window.PlotlyConfig = {MathJaxConfig: 'local'};</script>\n",
              "        <script src=\"https://cdn.plot.ly/plotly-latest.min.js\"></script>    \n",
              "            <div id=\"0d3096b1-1c70-4b32-85ca-b2bb21aa7739\" class=\"plotly-graph-div\" style=\"height:400px; width:600px;\"></div>\n",
              "            <script type=\"text/javascript\">\n",
              "                \n",
              "                    window.PLOTLYENV=window.PLOTLYENV || {};\n",
              "                    \n",
              "                if (document.getElementById(\"0d3096b1-1c70-4b32-85ca-b2bb21aa7739\")) {\n",
              "                    Plotly.newPlot(\n",
              "                        '0d3096b1-1c70-4b32-85ca-b2bb21aa7739',\n",
              "                        [{\"fill\": \"tozeroy\", \"line\": {\"color\": \"#ccc\"}, \"mode\": \"lines\", \"name\": \"Test Data\", \"type\": \"scatter\", \"x\": [417, 418, 419, 420, 421, 422, 423, 424, 425, 426, 427, 428, 429, 430, 431, 432, 433, 434, 435, 436, 437, 438, 439, 440, 441, 442, 443, 444, 445, 446, 447, 448, 449, 450, 451, 452, 453, 454, 455, 456], \"y\": [3.7421832261362473, 3.756538102587751, 3.7556030861568446, 3.7621299158535293, 3.7395725684294545, 3.7297814454343623, 3.7230393057606412, 3.7064737625148876, 3.6737658163038884, 3.6485781573404106, 3.6256733782101436, 3.612808017162641, 3.581850881355413, 3.586015818654697, 3.584906863730958, 3.5684053006460617, 3.5452977256359124, 3.5567756134805992, 3.5553480614894135, 3.549904701823348, 3.5898875049069856, 3.6160399079369787, 3.6149637711637683, 3.6068556186353455, 3.594568774642695, 3.609565647394211, 3.6160399079369787, 3.606312730456974, 3.6144252681889886, 3.6109179126442243, 3.612808017162641, 3.62886402170395, 3.6280673147171787, 3.6197972929264925, 3.623540612805596, 3.6230067099632284, 3.6519561000093383, 3.6483178423578133, 3.6735119769828146, 3.643358938812127]}, {\"fill\": \"tozeroy\", \"line\": {\"color\": \"#ccc\"}, \"mode\": \"lines+markers\", \"name\": \"Actual Price\", \"type\": \"scatter\", \"x\": [457, 458, 459, 460, 461], \"y\": [3.7421832261362473, 3.756538102587751, 3.7556030861568446, 3.7621299158535293, 3.7395725684294545]}, {\"line\": {\"color\": \"red\"}, \"mode\": \"lines+markers\", \"name\": \"Predicted Price\", \"type\": \"scatter\", \"x\": [457, 458, 459, 460, 461], \"y\": [3.42248797416687, 3.4203174114227295, 3.4318435192108154, 3.4176180362701416, 3.431140899658203]}],\n",
              "                        {\"height\": 400, \"template\": {\"data\": {\"bar\": [{\"error_x\": {\"color\": \"#2a3f5f\"}, \"error_y\": {\"color\": \"#2a3f5f\"}, \"marker\": {\"line\": {\"color\": \"white\", \"width\": 0.5}}, \"type\": \"bar\"}], \"barpolar\": [{\"marker\": {\"line\": {\"color\": \"white\", \"width\": 0.5}}, \"type\": \"barpolar\"}], \"carpet\": [{\"aaxis\": {\"endlinecolor\": \"#2a3f5f\", \"gridcolor\": \"#C8D4E3\", \"linecolor\": \"#C8D4E3\", \"minorgridcolor\": \"#C8D4E3\", \"startlinecolor\": \"#2a3f5f\"}, \"baxis\": {\"endlinecolor\": \"#2a3f5f\", \"gridcolor\": \"#C8D4E3\", \"linecolor\": \"#C8D4E3\", \"minorgridcolor\": \"#C8D4E3\", \"startlinecolor\": \"#2a3f5f\"}, \"type\": \"carpet\"}], \"choropleth\": [{\"colorbar\": {\"outlinewidth\": 0, \"ticks\": \"\"}, \"type\": \"choropleth\"}], \"contour\": [{\"colorbar\": {\"outlinewidth\": 0, \"ticks\": \"\"}, \"colorscale\": [[0.0, \"#0d0887\"], [0.1111111111111111, \"#46039f\"], [0.2222222222222222, \"#7201a8\"], [0.3333333333333333, \"#9c179e\"], [0.4444444444444444, \"#bd3786\"], [0.5555555555555556, \"#d8576b\"], [0.6666666666666666, \"#ed7953\"], [0.7777777777777778, \"#fb9f3a\"], [0.8888888888888888, \"#fdca26\"], [1.0, \"#f0f921\"]], \"type\": \"contour\"}], \"contourcarpet\": [{\"colorbar\": {\"outlinewidth\": 0, \"ticks\": \"\"}, \"type\": \"contourcarpet\"}], \"heatmap\": [{\"colorbar\": {\"outlinewidth\": 0, \"ticks\": \"\"}, \"colorscale\": [[0.0, \"#0d0887\"], [0.1111111111111111, \"#46039f\"], [0.2222222222222222, \"#7201a8\"], [0.3333333333333333, \"#9c179e\"], [0.4444444444444444, \"#bd3786\"], [0.5555555555555556, \"#d8576b\"], [0.6666666666666666, \"#ed7953\"], [0.7777777777777778, \"#fb9f3a\"], [0.8888888888888888, \"#fdca26\"], [1.0, \"#f0f921\"]], \"type\": \"heatmap\"}], \"heatmapgl\": [{\"colorbar\": {\"outlinewidth\": 0, \"ticks\": \"\"}, \"colorscale\": [[0.0, \"#0d0887\"], [0.1111111111111111, \"#46039f\"], [0.2222222222222222, \"#7201a8\"], [0.3333333333333333, \"#9c179e\"], [0.4444444444444444, \"#bd3786\"], [0.5555555555555556, \"#d8576b\"], [0.6666666666666666, \"#ed7953\"], [0.7777777777777778, \"#fb9f3a\"], [0.8888888888888888, \"#fdca26\"], [1.0, \"#f0f921\"]], \"type\": \"heatmapgl\"}], \"histogram\": [{\"marker\": {\"colorbar\": {\"outlinewidth\": 0, \"ticks\": \"\"}}, \"type\": \"histogram\"}], \"histogram2d\": [{\"colorbar\": {\"outlinewidth\": 0, \"ticks\": \"\"}, \"colorscale\": [[0.0, \"#0d0887\"], [0.1111111111111111, \"#46039f\"], [0.2222222222222222, \"#7201a8\"], [0.3333333333333333, \"#9c179e\"], [0.4444444444444444, \"#bd3786\"], [0.5555555555555556, \"#d8576b\"], [0.6666666666666666, \"#ed7953\"], [0.7777777777777778, \"#fb9f3a\"], [0.8888888888888888, \"#fdca26\"], [1.0, \"#f0f921\"]], \"type\": \"histogram2d\"}], \"histogram2dcontour\": [{\"colorbar\": {\"outlinewidth\": 0, \"ticks\": \"\"}, \"colorscale\": [[0.0, \"#0d0887\"], [0.1111111111111111, \"#46039f\"], [0.2222222222222222, \"#7201a8\"], [0.3333333333333333, \"#9c179e\"], [0.4444444444444444, \"#bd3786\"], [0.5555555555555556, \"#d8576b\"], [0.6666666666666666, \"#ed7953\"], [0.7777777777777778, \"#fb9f3a\"], [0.8888888888888888, \"#fdca26\"], [1.0, \"#f0f921\"]], \"type\": \"histogram2dcontour\"}], \"mesh3d\": [{\"colorbar\": {\"outlinewidth\": 0, \"ticks\": \"\"}, \"type\": \"mesh3d\"}], \"parcoords\": [{\"line\": {\"colorbar\": {\"outlinewidth\": 0, \"ticks\": \"\"}}, \"type\": \"parcoords\"}], \"pie\": [{\"automargin\": true, \"type\": \"pie\"}], \"scatter\": [{\"marker\": {\"colorbar\": {\"outlinewidth\": 0, \"ticks\": \"\"}}, \"type\": \"scatter\"}], \"scatter3d\": [{\"line\": {\"colorbar\": {\"outlinewidth\": 0, \"ticks\": \"\"}}, \"marker\": {\"colorbar\": {\"outlinewidth\": 0, \"ticks\": \"\"}}, \"type\": \"scatter3d\"}], \"scattercarpet\": [{\"marker\": {\"colorbar\": {\"outlinewidth\": 0, \"ticks\": \"\"}}, \"type\": \"scattercarpet\"}], \"scattergeo\": [{\"marker\": {\"colorbar\": {\"outlinewidth\": 0, \"ticks\": \"\"}}, \"type\": \"scattergeo\"}], \"scattergl\": [{\"marker\": {\"colorbar\": {\"outlinewidth\": 0, \"ticks\": \"\"}}, \"type\": \"scattergl\"}], \"scattermapbox\": [{\"marker\": {\"colorbar\": {\"outlinewidth\": 0, \"ticks\": \"\"}}, \"type\": \"scattermapbox\"}], \"scatterpolar\": [{\"marker\": {\"colorbar\": {\"outlinewidth\": 0, \"ticks\": \"\"}}, \"type\": \"scatterpolar\"}], \"scatterpolargl\": [{\"marker\": {\"colorbar\": {\"outlinewidth\": 0, \"ticks\": \"\"}}, \"type\": \"scatterpolargl\"}], \"scatterternary\": [{\"marker\": {\"colorbar\": {\"outlinewidth\": 0, \"ticks\": \"\"}}, \"type\": \"scatterternary\"}], \"surface\": [{\"colorbar\": {\"outlinewidth\": 0, \"ticks\": \"\"}, \"colorscale\": [[0.0, \"#0d0887\"], [0.1111111111111111, \"#46039f\"], [0.2222222222222222, \"#7201a8\"], [0.3333333333333333, \"#9c179e\"], [0.4444444444444444, \"#bd3786\"], [0.5555555555555556, \"#d8576b\"], [0.6666666666666666, \"#ed7953\"], [0.7777777777777778, \"#fb9f3a\"], [0.8888888888888888, \"#fdca26\"], [1.0, \"#f0f921\"]], \"type\": \"surface\"}], \"table\": [{\"cells\": {\"fill\": {\"color\": \"#EBF0F8\"}, \"line\": {\"color\": \"white\"}}, \"header\": {\"fill\": {\"color\": \"#C8D4E3\"}, \"line\": {\"color\": \"white\"}}, \"type\": \"table\"}]}, \"layout\": {\"annotationdefaults\": {\"arrowcolor\": \"#2a3f5f\", \"arrowhead\": 0, \"arrowwidth\": 1}, \"coloraxis\": {\"colorbar\": {\"outlinewidth\": 0, \"ticks\": \"\"}}, \"colorscale\": {\"diverging\": [[0, \"#8e0152\"], [0.1, \"#c51b7d\"], [0.2, \"#de77ae\"], [0.3, \"#f1b6da\"], [0.4, \"#fde0ef\"], [0.5, \"#f7f7f7\"], [0.6, \"#e6f5d0\"], [0.7, \"#b8e186\"], [0.8, \"#7fbc41\"], [0.9, \"#4d9221\"], [1, \"#276419\"]], \"sequential\": [[0.0, \"#0d0887\"], [0.1111111111111111, \"#46039f\"], [0.2222222222222222, \"#7201a8\"], [0.3333333333333333, \"#9c179e\"], [0.4444444444444444, \"#bd3786\"], [0.5555555555555556, \"#d8576b\"], [0.6666666666666666, \"#ed7953\"], [0.7777777777777778, \"#fb9f3a\"], [0.8888888888888888, \"#fdca26\"], [1.0, \"#f0f921\"]], \"sequentialminus\": [[0.0, \"#0d0887\"], [0.1111111111111111, \"#46039f\"], [0.2222222222222222, \"#7201a8\"], [0.3333333333333333, \"#9c179e\"], [0.4444444444444444, \"#bd3786\"], [0.5555555555555556, \"#d8576b\"], [0.6666666666666666, \"#ed7953\"], [0.7777777777777778, \"#fb9f3a\"], [0.8888888888888888, \"#fdca26\"], [1.0, \"#f0f921\"]]}, \"colorway\": [\"#636efa\", \"#EF553B\", \"#00cc96\", \"#ab63fa\", \"#FFA15A\", \"#19d3f3\", \"#FF6692\", \"#B6E880\", \"#FF97FF\", \"#FECB52\"], \"font\": {\"color\": \"#2a3f5f\"}, \"geo\": {\"bgcolor\": \"white\", \"lakecolor\": \"white\", \"landcolor\": \"white\", \"showlakes\": true, \"showland\": true, \"subunitcolor\": \"#C8D4E3\"}, \"hoverlabel\": {\"align\": \"left\"}, \"hovermode\": \"closest\", \"mapbox\": {\"style\": \"light\"}, \"paper_bgcolor\": \"white\", \"plot_bgcolor\": \"white\", \"polar\": {\"angularaxis\": {\"gridcolor\": \"#EBF0F8\", \"linecolor\": \"#EBF0F8\", \"ticks\": \"\"}, \"bgcolor\": \"white\", \"radialaxis\": {\"gridcolor\": \"#EBF0F8\", \"linecolor\": \"#EBF0F8\", \"ticks\": \"\"}}, \"scene\": {\"xaxis\": {\"backgroundcolor\": \"white\", \"gridcolor\": \"#DFE8F3\", \"gridwidth\": 2, \"linecolor\": \"#EBF0F8\", \"showbackground\": true, \"ticks\": \"\", \"zerolinecolor\": \"#EBF0F8\"}, \"yaxis\": {\"backgroundcolor\": \"white\", \"gridcolor\": \"#DFE8F3\", \"gridwidth\": 2, \"linecolor\": \"#EBF0F8\", \"showbackground\": true, \"ticks\": \"\", \"zerolinecolor\": \"#EBF0F8\"}, \"zaxis\": {\"backgroundcolor\": \"white\", \"gridcolor\": \"#DFE8F3\", \"gridwidth\": 2, \"linecolor\": \"#EBF0F8\", \"showbackground\": true, \"ticks\": \"\", \"zerolinecolor\": \"#EBF0F8\"}}, \"shapedefaults\": {\"line\": {\"color\": \"#2a3f5f\"}}, \"ternary\": {\"aaxis\": {\"gridcolor\": \"#DFE8F3\", \"linecolor\": \"#A2B1C6\", \"ticks\": \"\"}, \"baxis\": {\"gridcolor\": \"#DFE8F3\", \"linecolor\": \"#A2B1C6\", \"ticks\": \"\"}, \"bgcolor\": \"white\", \"caxis\": {\"gridcolor\": \"#DFE8F3\", \"linecolor\": \"#A2B1C6\", \"ticks\": \"\"}}, \"title\": {\"x\": 0.05}, \"xaxis\": {\"automargin\": true, \"gridcolor\": \"#EBF0F8\", \"linecolor\": \"#EBF0F8\", \"ticks\": \"\", \"title\": {\"standoff\": 15}, \"zerolinecolor\": \"#EBF0F8\", \"zerolinewidth\": 2}, \"yaxis\": {\"automargin\": true, \"gridcolor\": \"#EBF0F8\", \"linecolor\": \"#EBF0F8\", \"ticks\": \"\", \"title\": {\"standoff\": 15}, \"zerolinecolor\": \"#EBF0F8\", \"zerolinewidth\": 2}}}, \"title\": {\"text\": \"Actual vs Predicted Price\"}, \"width\": 600, \"xaxis\": {\"title\": {\"text\": \"Batch\"}}, \"yaxis\": {\"title\": {\"text\": \"Price\"}}},\n",
              "                        {\"responsive\": true}\n",
              "                    ).then(function(){\n",
              "                            \n",
              "var gd = document.getElementById('0d3096b1-1c70-4b32-85ca-b2bb21aa7739');\n",
              "var x = new MutationObserver(function (mutations, observer) {{\n",
              "        var display = window.getComputedStyle(gd).display;\n",
              "        if (!display || display === 'none') {{\n",
              "            console.log([gd, 'removed!']);\n",
              "            Plotly.purge(gd);\n",
              "            observer.disconnect();\n",
              "        }}\n",
              "}});\n",
              "\n",
              "// Listen for the removal of the full notebook cells\n",
              "var notebookContainer = gd.closest('#notebook-container');\n",
              "if (notebookContainer) {{\n",
              "    x.observe(notebookContainer, {childList: true});\n",
              "}}\n",
              "\n",
              "// Listen for the clearing of the current output cell\n",
              "var outputEl = gd.closest('.output');\n",
              "if (outputEl) {{\n",
              "    x.observe(outputEl, {childList: true});\n",
              "}}\n",
              "\n",
              "                        })\n",
              "                };\n",
              "                \n",
              "            </script>\n",
              "        </div>\n",
              "</body>\n",
              "</html>"
            ]
          },
          "metadata": {}
        },
        {
          "output_type": "stream",
          "name": "stderr",
          "text": [
            "WARNING:absl:Found untraced functions such as lstm_cell_layer_call_fn, lstm_cell_layer_call_and_return_conditional_losses, lstm_cell_1_layer_call_fn, lstm_cell_1_layer_call_and_return_conditional_losses, lstm_cell_2_layer_call_fn while saving (showing 5 of 15). These functions will not be directly callable after loading.\n"
          ]
        },
        {
          "output_type": "stream",
          "name": "stdout",
          "text": [
            "INFO:tensorflow:Assets written to: /content/drive/MyDrive/Colab Notebooks/models/model_BLX.TO_log_all/assets\n"
          ]
        },
        {
          "output_type": "stream",
          "name": "stderr",
          "text": [
            "INFO:tensorflow:Assets written to: /content/drive/MyDrive/Colab Notebooks/models/model_BLX.TO_log_all/assets\n"
          ]
        }
      ]
    },
    {
      "cell_type": "code",
      "metadata": {
        "colab": {
          "base_uri": "https://localhost:8080/",
          "height": 1000
        },
        "id": "A2aUo9-xvAVJ",
        "outputId": "79bd966c-2453-4da9-eb61-5b771459d3c7"
      },
      "source": [
        "# BLX  -optimal features\n",
        "stock= 'BLX.TO'\n",
        "modelname = f'model_{stock}_{transform}'\n",
        "model = create_lstm_model(config,x_train,n_predict)\n",
        "\n",
        "# train\n",
        "tic = timeit.default_timer()\n",
        "history = model.fit(x_train,\n",
        "                    y_train,\n",
        "                    batch_size=config['train']['batch_size'],\n",
        "                    epochs=config['train']['epochs'],\n",
        "                    callbacks = [config['train']['early_stop']],\n",
        "                    validation_split =0.10, \n",
        "                    verbose = 0\n",
        "                    )\n",
        "\n",
        "# print the training time\n",
        "toc =timeit.default_timer()\n",
        "print('\\nTraining Time')\n",
        "print('='*60)\n",
        "print(f'Minutes:{round((toc-tic)/60,2)}\\n')\n",
        "\n",
        "# predict prices\n",
        "# calculate the performance metrics\n",
        "# plot training metrics\n",
        "# plot predictions for random batches\n",
        "y_pred_scaled = calculate_performance(x_test,y_test,model,scaler_y)\n",
        "plot_training_metrics(history)\n",
        "plot_n_price_predictions(idx_close,x_test,y_pred_scaled,scaler_y,2)\n",
        "\n",
        "\n",
        "# save model and training performance\n",
        "model.save(f'/content/drive/MyDrive/Colab Notebooks/models/{modelname}_features')\n",
        "\n",
        "df_hist = pd.DataFrame(history.history) \n",
        "df_hist.to_csv(f'/content/drive/MyDrive/Colab Notebooks/models/{modelname}_features/train_history.csv')"
      ],
      "execution_count": 50,
      "outputs": [
        {
          "output_type": "stream",
          "name": "stdout",
          "text": [
            "Model: \"LSTM\"\n",
            "_________________________________________________________________\n",
            "Layer (type)                 Output Shape              Param #   \n",
            "=================================================================\n",
            "lstm (LSTM)                  (None, 40, 40)            8160      \n",
            "_________________________________________________________________\n",
            "lstm_1 (LSTM)                (None, 40, 1024)          4362240   \n",
            "_________________________________________________________________\n",
            "dropout (Dropout)            (None, 40, 1024)          0         \n",
            "_________________________________________________________________\n",
            "lstm_2 (LSTM)                (None, 512)               3147776   \n",
            "_________________________________________________________________\n",
            "dropout_1 (Dropout)          (None, 512)               0         \n",
            "_________________________________________________________________\n",
            "dense (Dense)                (None, 256)               131328    \n",
            "_________________________________________________________________\n",
            "dropout_2 (Dropout)          (None, 256)               0         \n",
            "_________________________________________________________________\n",
            "dense_1 (Dense)              (None, 128)               32896     \n",
            "_________________________________________________________________\n",
            "dropout_3 (Dropout)          (None, 128)               0         \n",
            "_________________________________________________________________\n",
            "dense_2 (Dense)              (None, 5)                 645       \n",
            "=================================================================\n",
            "Total params: 7,683,045\n",
            "Trainable params: 7,683,045\n",
            "Non-trainable params: 0\n",
            "_________________________________________________________________\n",
            "\n",
            "Training Time\n",
            "============================================================\n",
            "Minutes:1.22\n",
            "\n",
            "\n",
            "Model Error\n",
            "==============================================================\n",
            "Mean Absolute Error (MAE)------------------------------  0.07\n",
            "Root Mean Squared Error (MSE)--------------------------  0.09\n",
            "Mean Absolute Percentage Error (MAPE)------------------  1.99%\n",
            "Median Absolute Percentage Error (MDAPE)---------------   1.8%\n"
          ]
        },
        {
          "output_type": "display_data",
          "data": {
            "text/html": [
              "<html>\n",
              "<head><meta charset=\"utf-8\" /></head>\n",
              "<body>\n",
              "    <div>\n",
              "            <script src=\"https://cdnjs.cloudflare.com/ajax/libs/mathjax/2.7.5/MathJax.js?config=TeX-AMS-MML_SVG\"></script><script type=\"text/javascript\">if (window.MathJax) {MathJax.Hub.Config({SVG: {font: \"STIX-Web\"}});}</script>\n",
              "                <script type=\"text/javascript\">window.PlotlyConfig = {MathJaxConfig: 'local'};</script>\n",
              "        <script src=\"https://cdn.plot.ly/plotly-latest.min.js\"></script>    \n",
              "            <div id=\"ccd16c46-9368-4f20-b9b7-271290151259\" class=\"plotly-graph-div\" style=\"height:500px; width:700px;\"></div>\n",
              "            <script type=\"text/javascript\">\n",
              "                \n",
              "                    window.PLOTLYENV=window.PLOTLYENV || {};\n",
              "                    \n",
              "                if (document.getElementById(\"ccd16c46-9368-4f20-b9b7-271290151259\")) {\n",
              "                    Plotly.newPlot(\n",
              "                        'ccd16c46-9368-4f20-b9b7-271290151259',\n",
              "                        [{\"line\": {\"color\": \"royalblue\", \"width\": 3}, \"name\": \"train-loss\", \"type\": \"scatter\", \"x\": [1, 2, 3, 4, 5, 6, 7, 8, 9, 10, 11, 12, 13, 14, 15, 16, 17, 18, 19, 20, 21, 22, 23, 24, 25, 26, 27, 28, 29, 30, 31, 32, 33, 34, 35, 36, 37, 38, 39, 40, 41, 42, 43, 44, 45, 46, 47, 48, 49, 50, 51, 52, 53, 54, 55, 56, 57, 58, 59, 60, 61, 62, 63, 64, 65, 66, 67, 68, 69, 70, 71, 72, 73, 74, 75, 76, 77, 78, 79, 80, 81, 82, 83, 84, 85, 86, 87, 88, 89, 90, 91], \"y\": [0.04623189568519592, 0.004810687154531479, 0.002987759653478861, 0.002346753142774105, 0.002149973763152957, 0.001948444521985948, 0.0017210139194503427, 0.0019088401459157467, 0.0017695898422971368, 0.0017442107200622559, 0.0016754126409068704, 0.0016009145183488727, 0.0015162196941673756, 0.0016146976267918944, 0.0013676475500687957, 0.0013706708559766412, 0.001495322328992188, 0.00135523930657655, 0.0012864659074693918, 0.0011656591668725014, 0.0013899781042709947, 0.0020574925001710653, 0.0014366810210049152, 0.00125871691852808, 0.0013476165477186441, 0.0013369596563279629, 0.0010710834758356214, 0.0011604037135839462, 0.0012452378869056702, 0.0010729704517871141, 0.0010701058199629188, 0.001267723273485899, 0.001189730130136013, 0.0009883290622383356, 0.0010304399766027927, 0.0009939005831256509, 0.0010967152193188667, 0.001005416619591415, 0.0009701121598482132, 0.0008311779238283634, 0.000983267673291266, 0.0009327077423222363, 0.0011403544340282679, 0.0008450797176919878, 0.0010869500692933798, 0.00077940768096596, 0.0008725668885745108, 0.0009278465295210481, 0.0008266635704785585, 0.0008353549055755138, 0.000798528257291764, 0.00085133669199422, 0.000802369904704392, 0.0008688059169799089, 0.0007468487601727247, 0.0008008472505025566, 0.0007011169800534844, 0.0007411795668303967, 0.0006999800680205226, 0.0007789065130054951, 0.0007315907860174775, 0.0008061585831455886, 0.0006586471572518349, 0.0006815802771598101, 0.0006876297993585467, 0.0008479302050545812, 0.0008038940140977502, 0.0014763808576390147, 0.00089338852558285, 0.0007173005724325776, 0.0006485013873316348, 0.0006264230469241738, 0.0006465208134613931, 0.0014150107745081186, 0.0007911075954325497, 0.0006650974391959608, 0.0006151855341158807, 0.0006658149068243802, 0.0006006530020385981, 0.0006228702259249985, 0.0005353919113986194, 0.0006540004396811128, 0.0006289331358857453, 0.0007193162455223501, 0.0006135349976830184, 0.0006025643670000136, 0.000779583235271275, 0.0006407086621038616, 0.0005871591856703162, 0.0005736945895478129, 0.0006993377464823425]}, {\"line\": {\"color\": \"crimson\", \"width\": 3}, \"name\": \"val-loss\", \"type\": \"scatter\", \"x\": [1, 2, 3, 4, 5, 6, 7, 8, 9, 10, 11, 12, 13, 14, 15, 16, 17, 18, 19, 20, 21, 22, 23, 24, 25, 26, 27, 28, 29, 30, 31, 32, 33, 34, 35, 36, 37, 38, 39, 40, 41, 42, 43, 44, 45, 46, 47, 48, 49, 50, 51, 52, 53, 54, 55, 56, 57, 58, 59, 60, 61, 62, 63, 64, 65, 66, 67, 68, 69, 70, 71, 72, 73, 74, 75, 76, 77, 78, 79, 80, 81, 82, 83, 84, 85, 86, 87, 88, 89, 90, 91], \"y\": [0.013709740713238716, 0.001879276242107153, 0.0007385880453512073, 0.0007240375853143632, 0.0030824034474790096, 0.0027227080427110195, 0.0004908216069452465, 0.0003513169940561056, 0.001490220776759088, 0.0009110972750931978, 0.00435255654156208, 0.0021692554000765085, 0.00038314246921800077, 0.0032494363840669394, 0.001215193304233253, 0.00018450699280947447, 0.0030260365456342697, 0.0013102930970489979, 0.0012049811193719506, 0.0033139330334961414, 0.0017607155023142695, 0.0014487785520032048, 0.00237184576690197, 0.0001887320977402851, 0.0001816915173549205, 0.0004707613552454859, 0.00024390348698943853, 0.006147785112261772, 0.0031372776720672846, 0.001489652437157929, 0.00017161529103759676, 0.002034732373431325, 0.003253872971981764, 0.00017897937505040318, 0.0026378787588328123, 0.0007776446873322129, 0.0016034531872719526, 0.0015991617692634463, 0.0009364815196022391, 0.000855023565236479, 0.0002103046717820689, 0.004090951289981604, 0.0011484712595120072, 0.0005260318866930902, 0.0009171913843601942, 0.0009230804280377924, 0.0036027145106345415, 0.00013022837811149657, 0.0007241510320454836, 0.0018636774038895965, 0.0010739329736679792, 0.001458286656998098, 0.00298367440700531, 0.0014214924303814769, 0.00037655342021025717, 0.0001558099320391193, 0.0012275413610041142, 0.0008982741856016219, 0.0001472772128181532, 0.0016836154973134398, 0.00045598993892781436, 0.00028716621454805136, 0.0021212142892181873, 0.001862637116573751, 0.0023456704802811146, 0.0004921845975331962, 0.007810817565768957, 0.00013336715346667916, 0.0019447223749011755, 0.002059158170595765, 0.0010032764403149486, 0.0008221156895160675, 0.00810728594660759, 0.0005450349999591708, 0.003812945680692792, 0.0005508217145688832, 0.0004907484981231391, 0.000978168100118637, 0.0015280510997399688, 0.0011043872218579054, 0.0009745681309141219, 0.0006006677285768092, 0.0001840358745539561, 0.0015630079433321953, 0.0007011801935732365, 0.0002926158194895834, 0.0033500492572784424, 0.0004415307193994522, 0.0006245258264243603, 0.00022481041378341615, 0.0013105800608173013]}],\n",
              "                        {\"height\": 500, \"template\": {\"data\": {\"bar\": [{\"error_x\": {\"color\": \"#2a3f5f\"}, \"error_y\": {\"color\": \"#2a3f5f\"}, \"marker\": {\"line\": {\"color\": \"white\", \"width\": 0.5}}, \"type\": \"bar\"}], \"barpolar\": [{\"marker\": {\"line\": {\"color\": \"white\", \"width\": 0.5}}, \"type\": \"barpolar\"}], \"carpet\": [{\"aaxis\": {\"endlinecolor\": \"#2a3f5f\", \"gridcolor\": \"#C8D4E3\", \"linecolor\": \"#C8D4E3\", \"minorgridcolor\": \"#C8D4E3\", \"startlinecolor\": \"#2a3f5f\"}, \"baxis\": {\"endlinecolor\": \"#2a3f5f\", \"gridcolor\": \"#C8D4E3\", \"linecolor\": \"#C8D4E3\", \"minorgridcolor\": \"#C8D4E3\", \"startlinecolor\": \"#2a3f5f\"}, \"type\": \"carpet\"}], \"choropleth\": [{\"colorbar\": {\"outlinewidth\": 0, \"ticks\": \"\"}, \"type\": \"choropleth\"}], \"contour\": [{\"colorbar\": {\"outlinewidth\": 0, \"ticks\": \"\"}, \"colorscale\": [[0.0, \"#0d0887\"], [0.1111111111111111, \"#46039f\"], [0.2222222222222222, \"#7201a8\"], [0.3333333333333333, \"#9c179e\"], [0.4444444444444444, \"#bd3786\"], [0.5555555555555556, \"#d8576b\"], [0.6666666666666666, \"#ed7953\"], [0.7777777777777778, \"#fb9f3a\"], [0.8888888888888888, \"#fdca26\"], [1.0, \"#f0f921\"]], \"type\": \"contour\"}], \"contourcarpet\": [{\"colorbar\": {\"outlinewidth\": 0, \"ticks\": \"\"}, \"type\": \"contourcarpet\"}], \"heatmap\": [{\"colorbar\": {\"outlinewidth\": 0, \"ticks\": \"\"}, \"colorscale\": [[0.0, \"#0d0887\"], [0.1111111111111111, \"#46039f\"], [0.2222222222222222, \"#7201a8\"], [0.3333333333333333, \"#9c179e\"], [0.4444444444444444, \"#bd3786\"], [0.5555555555555556, \"#d8576b\"], [0.6666666666666666, \"#ed7953\"], [0.7777777777777778, \"#fb9f3a\"], [0.8888888888888888, \"#fdca26\"], [1.0, \"#f0f921\"]], \"type\": \"heatmap\"}], \"heatmapgl\": [{\"colorbar\": {\"outlinewidth\": 0, \"ticks\": \"\"}, \"colorscale\": [[0.0, \"#0d0887\"], [0.1111111111111111, \"#46039f\"], [0.2222222222222222, \"#7201a8\"], [0.3333333333333333, \"#9c179e\"], [0.4444444444444444, \"#bd3786\"], [0.5555555555555556, \"#d8576b\"], [0.6666666666666666, \"#ed7953\"], [0.7777777777777778, \"#fb9f3a\"], [0.8888888888888888, \"#fdca26\"], [1.0, \"#f0f921\"]], \"type\": \"heatmapgl\"}], \"histogram\": [{\"marker\": {\"colorbar\": {\"outlinewidth\": 0, \"ticks\": \"\"}}, \"type\": \"histogram\"}], \"histogram2d\": [{\"colorbar\": {\"outlinewidth\": 0, \"ticks\": \"\"}, \"colorscale\": [[0.0, \"#0d0887\"], [0.1111111111111111, \"#46039f\"], [0.2222222222222222, \"#7201a8\"], [0.3333333333333333, \"#9c179e\"], [0.4444444444444444, \"#bd3786\"], [0.5555555555555556, \"#d8576b\"], [0.6666666666666666, \"#ed7953\"], [0.7777777777777778, \"#fb9f3a\"], [0.8888888888888888, \"#fdca26\"], [1.0, \"#f0f921\"]], \"type\": \"histogram2d\"}], \"histogram2dcontour\": [{\"colorbar\": {\"outlinewidth\": 0, \"ticks\": \"\"}, \"colorscale\": [[0.0, \"#0d0887\"], [0.1111111111111111, \"#46039f\"], [0.2222222222222222, \"#7201a8\"], [0.3333333333333333, \"#9c179e\"], [0.4444444444444444, \"#bd3786\"], [0.5555555555555556, \"#d8576b\"], [0.6666666666666666, \"#ed7953\"], [0.7777777777777778, \"#fb9f3a\"], [0.8888888888888888, \"#fdca26\"], [1.0, \"#f0f921\"]], \"type\": \"histogram2dcontour\"}], \"mesh3d\": [{\"colorbar\": {\"outlinewidth\": 0, \"ticks\": \"\"}, \"type\": \"mesh3d\"}], \"parcoords\": [{\"line\": {\"colorbar\": {\"outlinewidth\": 0, \"ticks\": \"\"}}, \"type\": \"parcoords\"}], \"pie\": [{\"automargin\": true, \"type\": \"pie\"}], \"scatter\": [{\"marker\": {\"colorbar\": {\"outlinewidth\": 0, \"ticks\": \"\"}}, \"type\": \"scatter\"}], \"scatter3d\": [{\"line\": {\"colorbar\": {\"outlinewidth\": 0, \"ticks\": \"\"}}, \"marker\": {\"colorbar\": {\"outlinewidth\": 0, \"ticks\": \"\"}}, \"type\": \"scatter3d\"}], \"scattercarpet\": [{\"marker\": {\"colorbar\": {\"outlinewidth\": 0, \"ticks\": \"\"}}, \"type\": \"scattercarpet\"}], \"scattergeo\": [{\"marker\": {\"colorbar\": {\"outlinewidth\": 0, \"ticks\": \"\"}}, \"type\": \"scattergeo\"}], \"scattergl\": [{\"marker\": {\"colorbar\": {\"outlinewidth\": 0, \"ticks\": \"\"}}, \"type\": \"scattergl\"}], \"scattermapbox\": [{\"marker\": {\"colorbar\": {\"outlinewidth\": 0, \"ticks\": \"\"}}, \"type\": \"scattermapbox\"}], \"scatterpolar\": [{\"marker\": {\"colorbar\": {\"outlinewidth\": 0, \"ticks\": \"\"}}, \"type\": \"scatterpolar\"}], \"scatterpolargl\": [{\"marker\": {\"colorbar\": {\"outlinewidth\": 0, \"ticks\": \"\"}}, \"type\": \"scatterpolargl\"}], \"scatterternary\": [{\"marker\": {\"colorbar\": {\"outlinewidth\": 0, \"ticks\": \"\"}}, \"type\": \"scatterternary\"}], \"surface\": [{\"colorbar\": {\"outlinewidth\": 0, \"ticks\": \"\"}, \"colorscale\": [[0.0, \"#0d0887\"], [0.1111111111111111, \"#46039f\"], [0.2222222222222222, \"#7201a8\"], [0.3333333333333333, \"#9c179e\"], [0.4444444444444444, \"#bd3786\"], [0.5555555555555556, \"#d8576b\"], [0.6666666666666666, \"#ed7953\"], [0.7777777777777778, \"#fb9f3a\"], [0.8888888888888888, \"#fdca26\"], [1.0, \"#f0f921\"]], \"type\": \"surface\"}], \"table\": [{\"cells\": {\"fill\": {\"color\": \"#EBF0F8\"}, \"line\": {\"color\": \"white\"}}, \"header\": {\"fill\": {\"color\": \"#C8D4E3\"}, \"line\": {\"color\": \"white\"}}, \"type\": \"table\"}]}, \"layout\": {\"annotationdefaults\": {\"arrowcolor\": \"#2a3f5f\", \"arrowhead\": 0, \"arrowwidth\": 1}, \"coloraxis\": {\"colorbar\": {\"outlinewidth\": 0, \"ticks\": \"\"}}, \"colorscale\": {\"diverging\": [[0, \"#8e0152\"], [0.1, \"#c51b7d\"], [0.2, \"#de77ae\"], [0.3, \"#f1b6da\"], [0.4, \"#fde0ef\"], [0.5, \"#f7f7f7\"], [0.6, \"#e6f5d0\"], [0.7, \"#b8e186\"], [0.8, \"#7fbc41\"], [0.9, \"#4d9221\"], [1, \"#276419\"]], \"sequential\": [[0.0, \"#0d0887\"], [0.1111111111111111, \"#46039f\"], [0.2222222222222222, \"#7201a8\"], [0.3333333333333333, \"#9c179e\"], [0.4444444444444444, \"#bd3786\"], [0.5555555555555556, \"#d8576b\"], [0.6666666666666666, \"#ed7953\"], [0.7777777777777778, \"#fb9f3a\"], [0.8888888888888888, \"#fdca26\"], [1.0, \"#f0f921\"]], \"sequentialminus\": [[0.0, \"#0d0887\"], [0.1111111111111111, \"#46039f\"], [0.2222222222222222, \"#7201a8\"], [0.3333333333333333, \"#9c179e\"], [0.4444444444444444, \"#bd3786\"], [0.5555555555555556, \"#d8576b\"], [0.6666666666666666, \"#ed7953\"], [0.7777777777777778, \"#fb9f3a\"], [0.8888888888888888, \"#fdca26\"], [1.0, \"#f0f921\"]]}, \"colorway\": [\"#636efa\", \"#EF553B\", \"#00cc96\", \"#ab63fa\", \"#FFA15A\", \"#19d3f3\", \"#FF6692\", \"#B6E880\", \"#FF97FF\", \"#FECB52\"], \"font\": {\"color\": \"#2a3f5f\"}, \"geo\": {\"bgcolor\": \"white\", \"lakecolor\": \"white\", \"landcolor\": \"white\", \"showlakes\": true, \"showland\": true, \"subunitcolor\": \"#C8D4E3\"}, \"hoverlabel\": {\"align\": \"left\"}, \"hovermode\": \"closest\", \"mapbox\": {\"style\": \"light\"}, \"paper_bgcolor\": \"white\", \"plot_bgcolor\": \"white\", \"polar\": {\"angularaxis\": {\"gridcolor\": \"#EBF0F8\", \"linecolor\": \"#EBF0F8\", \"ticks\": \"\"}, \"bgcolor\": \"white\", \"radialaxis\": {\"gridcolor\": \"#EBF0F8\", \"linecolor\": \"#EBF0F8\", \"ticks\": \"\"}}, \"scene\": {\"xaxis\": {\"backgroundcolor\": \"white\", \"gridcolor\": \"#DFE8F3\", \"gridwidth\": 2, \"linecolor\": \"#EBF0F8\", \"showbackground\": true, \"ticks\": \"\", \"zerolinecolor\": \"#EBF0F8\"}, \"yaxis\": {\"backgroundcolor\": \"white\", \"gridcolor\": \"#DFE8F3\", \"gridwidth\": 2, \"linecolor\": \"#EBF0F8\", \"showbackground\": true, \"ticks\": \"\", \"zerolinecolor\": \"#EBF0F8\"}, \"zaxis\": {\"backgroundcolor\": \"white\", \"gridcolor\": \"#DFE8F3\", \"gridwidth\": 2, \"linecolor\": \"#EBF0F8\", \"showbackground\": true, \"ticks\": \"\", \"zerolinecolor\": \"#EBF0F8\"}}, \"shapedefaults\": {\"line\": {\"color\": \"#2a3f5f\"}}, \"ternary\": {\"aaxis\": {\"gridcolor\": \"#DFE8F3\", \"linecolor\": \"#A2B1C6\", \"ticks\": \"\"}, \"baxis\": {\"gridcolor\": \"#DFE8F3\", \"linecolor\": \"#A2B1C6\", \"ticks\": \"\"}, \"bgcolor\": \"white\", \"caxis\": {\"gridcolor\": \"#DFE8F3\", \"linecolor\": \"#A2B1C6\", \"ticks\": \"\"}}, \"title\": {\"x\": 0.05}, \"xaxis\": {\"automargin\": true, \"gridcolor\": \"#EBF0F8\", \"linecolor\": \"#EBF0F8\", \"ticks\": \"\", \"title\": {\"standoff\": 15}, \"zerolinecolor\": \"#EBF0F8\", \"zerolinewidth\": 2}, \"yaxis\": {\"automargin\": true, \"gridcolor\": \"#EBF0F8\", \"linecolor\": \"#EBF0F8\", \"ticks\": \"\", \"title\": {\"standoff\": 15}, \"zerolinecolor\": \"#EBF0F8\", \"zerolinewidth\": 2}}}, \"title\": {\"text\": \"Training Metrics\"}, \"width\": 700, \"xaxis\": {\"title\": {\"text\": \"epochs\"}}, \"yaxis\": {\"title\": {\"text\": \"loss\"}}},\n",
              "                        {\"responsive\": true}\n",
              "                    ).then(function(){\n",
              "                            \n",
              "var gd = document.getElementById('ccd16c46-9368-4f20-b9b7-271290151259');\n",
              "var x = new MutationObserver(function (mutations, observer) {{\n",
              "        var display = window.getComputedStyle(gd).display;\n",
              "        if (!display || display === 'none') {{\n",
              "            console.log([gd, 'removed!']);\n",
              "            Plotly.purge(gd);\n",
              "            observer.disconnect();\n",
              "        }}\n",
              "}});\n",
              "\n",
              "// Listen for the removal of the full notebook cells\n",
              "var notebookContainer = gd.closest('#notebook-container');\n",
              "if (notebookContainer) {{\n",
              "    x.observe(notebookContainer, {childList: true});\n",
              "}}\n",
              "\n",
              "// Listen for the clearing of the current output cell\n",
              "var outputEl = gd.closest('.output');\n",
              "if (outputEl) {{\n",
              "    x.observe(outputEl, {childList: true});\n",
              "}}\n",
              "\n",
              "                        })\n",
              "                };\n",
              "                \n",
              "            </script>\n",
              "        </div>\n",
              "</body>\n",
              "</html>"
            ]
          },
          "metadata": {}
        },
        {
          "output_type": "display_data",
          "data": {
            "text/html": [
              "<html>\n",
              "<head><meta charset=\"utf-8\" /></head>\n",
              "<body>\n",
              "    <div>\n",
              "            <script src=\"https://cdnjs.cloudflare.com/ajax/libs/mathjax/2.7.5/MathJax.js?config=TeX-AMS-MML_SVG\"></script><script type=\"text/javascript\">if (window.MathJax) {MathJax.Hub.Config({SVG: {font: \"STIX-Web\"}});}</script>\n",
              "                <script type=\"text/javascript\">window.PlotlyConfig = {MathJaxConfig: 'local'};</script>\n",
              "        <script src=\"https://cdn.plot.ly/plotly-latest.min.js\"></script>    \n",
              "            <div id=\"7f8bd1aa-f1f6-48ae-be50-4f6640ca1ae2\" class=\"plotly-graph-div\" style=\"height:400px; width:600px;\"></div>\n",
              "            <script type=\"text/javascript\">\n",
              "                \n",
              "                    window.PLOTLYENV=window.PLOTLYENV || {};\n",
              "                    \n",
              "                if (document.getElementById(\"7f8bd1aa-f1f6-48ae-be50-4f6640ca1ae2\")) {\n",
              "                    Plotly.newPlot(\n",
              "                        '7f8bd1aa-f1f6-48ae-be50-4f6640ca1ae2',\n",
              "                        [{\"fill\": \"tozeroy\", \"line\": {\"color\": \"#ccc\"}, \"mode\": \"lines\", \"name\": \"Test Data\", \"type\": \"scatter\", \"x\": [107, 108, 109, 110, 111, 112, 113, 114, 115, 116, 117, 118, 119, 120, 121, 122, 123, 124, 125, 126, 127, 128, 129, 130, 131, 132, 133, 134, 135, 136, 137, 138, 139, 140, 141, 142, 143, 144, 145, 146], \"y\": [3.4151002868311466, 3.4262151446374434, 3.427189961936409, 3.435598808379488, 3.4534735262275262, 3.4522073025699003, 3.4474446328274753, 3.461665128429245, 3.452524008827496, 3.4407385562826884, 3.436564525499447, 3.4200191359027436, 3.3551534431607486, 3.3816747151732915, 3.4075107437187473, 3.449987545831587, 3.4388142452334622, 3.426865128410733, 3.3488509012899463, 3.3210713371828704, 3.2910104226273997, 3.1608228934195837, 3.2492110246642736, 3.1717842173343502, 3.254242968705492, 3.170945291110651, 3.2188758248682006, 3.1018924693823817, 2.9090844668283187, 3.055886196373738, 3.19948911106801, 3.230804395733475, 3.2264470903645193, 3.19948911106801, 3.2188758248682006, 3.2031528644029645, 3.2168738221975275, 3.18179681662678, 3.285038027121869, 3.306520334720247]}, {\"fill\": \"tozeroy\", \"line\": {\"color\": \"#ccc\"}, \"mode\": \"lines+markers\", \"name\": \"Actual Price\", \"type\": \"scatter\", \"x\": [147, 148, 149, 150, 151], \"y\": [3.4151002868311466, 3.4262151446374434, 3.427189961936409, 3.435598808379488, 3.4534735262275262]}, {\"line\": {\"color\": \"red\"}, \"mode\": \"lines+markers\", \"name\": \"Predicted Price\", \"type\": \"scatter\", \"x\": [147, 148, 149, 150, 151], \"y\": [3.2342753410339355, 3.236464500427246, 3.2459452152252197, 3.233064651489258, 3.249464988708496]}],\n",
              "                        {\"height\": 400, \"template\": {\"data\": {\"bar\": [{\"error_x\": {\"color\": \"#2a3f5f\"}, \"error_y\": {\"color\": \"#2a3f5f\"}, \"marker\": {\"line\": {\"color\": \"white\", \"width\": 0.5}}, \"type\": \"bar\"}], \"barpolar\": [{\"marker\": {\"line\": {\"color\": \"white\", \"width\": 0.5}}, \"type\": \"barpolar\"}], \"carpet\": [{\"aaxis\": {\"endlinecolor\": \"#2a3f5f\", \"gridcolor\": \"#C8D4E3\", \"linecolor\": \"#C8D4E3\", \"minorgridcolor\": \"#C8D4E3\", \"startlinecolor\": \"#2a3f5f\"}, \"baxis\": {\"endlinecolor\": \"#2a3f5f\", \"gridcolor\": \"#C8D4E3\", \"linecolor\": \"#C8D4E3\", \"minorgridcolor\": \"#C8D4E3\", \"startlinecolor\": \"#2a3f5f\"}, \"type\": \"carpet\"}], \"choropleth\": [{\"colorbar\": {\"outlinewidth\": 0, \"ticks\": \"\"}, \"type\": \"choropleth\"}], \"contour\": [{\"colorbar\": {\"outlinewidth\": 0, \"ticks\": \"\"}, \"colorscale\": [[0.0, \"#0d0887\"], [0.1111111111111111, \"#46039f\"], [0.2222222222222222, \"#7201a8\"], [0.3333333333333333, \"#9c179e\"], [0.4444444444444444, \"#bd3786\"], [0.5555555555555556, \"#d8576b\"], [0.6666666666666666, \"#ed7953\"], [0.7777777777777778, \"#fb9f3a\"], [0.8888888888888888, \"#fdca26\"], [1.0, \"#f0f921\"]], \"type\": \"contour\"}], \"contourcarpet\": [{\"colorbar\": {\"outlinewidth\": 0, \"ticks\": \"\"}, \"type\": \"contourcarpet\"}], \"heatmap\": [{\"colorbar\": {\"outlinewidth\": 0, \"ticks\": \"\"}, \"colorscale\": [[0.0, \"#0d0887\"], [0.1111111111111111, \"#46039f\"], [0.2222222222222222, \"#7201a8\"], [0.3333333333333333, \"#9c179e\"], [0.4444444444444444, \"#bd3786\"], [0.5555555555555556, \"#d8576b\"], [0.6666666666666666, \"#ed7953\"], [0.7777777777777778, \"#fb9f3a\"], [0.8888888888888888, \"#fdca26\"], [1.0, \"#f0f921\"]], \"type\": \"heatmap\"}], \"heatmapgl\": [{\"colorbar\": {\"outlinewidth\": 0, \"ticks\": \"\"}, \"colorscale\": [[0.0, \"#0d0887\"], [0.1111111111111111, \"#46039f\"], [0.2222222222222222, \"#7201a8\"], [0.3333333333333333, \"#9c179e\"], [0.4444444444444444, \"#bd3786\"], [0.5555555555555556, \"#d8576b\"], [0.6666666666666666, \"#ed7953\"], [0.7777777777777778, \"#fb9f3a\"], [0.8888888888888888, \"#fdca26\"], [1.0, \"#f0f921\"]], \"type\": \"heatmapgl\"}], \"histogram\": [{\"marker\": {\"colorbar\": {\"outlinewidth\": 0, \"ticks\": \"\"}}, \"type\": \"histogram\"}], \"histogram2d\": [{\"colorbar\": {\"outlinewidth\": 0, \"ticks\": \"\"}, \"colorscale\": [[0.0, \"#0d0887\"], [0.1111111111111111, \"#46039f\"], [0.2222222222222222, \"#7201a8\"], [0.3333333333333333, \"#9c179e\"], [0.4444444444444444, \"#bd3786\"], [0.5555555555555556, \"#d8576b\"], [0.6666666666666666, \"#ed7953\"], [0.7777777777777778, \"#fb9f3a\"], [0.8888888888888888, \"#fdca26\"], [1.0, \"#f0f921\"]], \"type\": \"histogram2d\"}], \"histogram2dcontour\": [{\"colorbar\": {\"outlinewidth\": 0, \"ticks\": \"\"}, \"colorscale\": [[0.0, \"#0d0887\"], [0.1111111111111111, \"#46039f\"], [0.2222222222222222, \"#7201a8\"], [0.3333333333333333, \"#9c179e\"], [0.4444444444444444, \"#bd3786\"], [0.5555555555555556, \"#d8576b\"], [0.6666666666666666, \"#ed7953\"], [0.7777777777777778, \"#fb9f3a\"], [0.8888888888888888, \"#fdca26\"], [1.0, \"#f0f921\"]], \"type\": \"histogram2dcontour\"}], \"mesh3d\": [{\"colorbar\": {\"outlinewidth\": 0, \"ticks\": \"\"}, \"type\": \"mesh3d\"}], \"parcoords\": [{\"line\": {\"colorbar\": {\"outlinewidth\": 0, \"ticks\": \"\"}}, \"type\": \"parcoords\"}], \"pie\": [{\"automargin\": true, \"type\": \"pie\"}], \"scatter\": [{\"marker\": {\"colorbar\": {\"outlinewidth\": 0, \"ticks\": \"\"}}, \"type\": \"scatter\"}], \"scatter3d\": [{\"line\": {\"colorbar\": {\"outlinewidth\": 0, \"ticks\": \"\"}}, \"marker\": {\"colorbar\": {\"outlinewidth\": 0, \"ticks\": \"\"}}, \"type\": \"scatter3d\"}], \"scattercarpet\": [{\"marker\": {\"colorbar\": {\"outlinewidth\": 0, \"ticks\": \"\"}}, \"type\": \"scattercarpet\"}], \"scattergeo\": [{\"marker\": {\"colorbar\": {\"outlinewidth\": 0, \"ticks\": \"\"}}, \"type\": \"scattergeo\"}], \"scattergl\": [{\"marker\": {\"colorbar\": {\"outlinewidth\": 0, \"ticks\": \"\"}}, \"type\": \"scattergl\"}], \"scattermapbox\": [{\"marker\": {\"colorbar\": {\"outlinewidth\": 0, \"ticks\": \"\"}}, \"type\": \"scattermapbox\"}], \"scatterpolar\": [{\"marker\": {\"colorbar\": {\"outlinewidth\": 0, \"ticks\": \"\"}}, \"type\": \"scatterpolar\"}], \"scatterpolargl\": [{\"marker\": {\"colorbar\": {\"outlinewidth\": 0, \"ticks\": \"\"}}, \"type\": \"scatterpolargl\"}], \"scatterternary\": [{\"marker\": {\"colorbar\": {\"outlinewidth\": 0, \"ticks\": \"\"}}, \"type\": \"scatterternary\"}], \"surface\": [{\"colorbar\": {\"outlinewidth\": 0, \"ticks\": \"\"}, \"colorscale\": [[0.0, \"#0d0887\"], [0.1111111111111111, \"#46039f\"], [0.2222222222222222, \"#7201a8\"], [0.3333333333333333, \"#9c179e\"], [0.4444444444444444, \"#bd3786\"], [0.5555555555555556, \"#d8576b\"], [0.6666666666666666, \"#ed7953\"], [0.7777777777777778, \"#fb9f3a\"], [0.8888888888888888, \"#fdca26\"], [1.0, \"#f0f921\"]], \"type\": \"surface\"}], \"table\": [{\"cells\": {\"fill\": {\"color\": \"#EBF0F8\"}, \"line\": {\"color\": \"white\"}}, \"header\": {\"fill\": {\"color\": \"#C8D4E3\"}, \"line\": {\"color\": \"white\"}}, \"type\": \"table\"}]}, \"layout\": {\"annotationdefaults\": {\"arrowcolor\": \"#2a3f5f\", \"arrowhead\": 0, \"arrowwidth\": 1}, \"coloraxis\": {\"colorbar\": {\"outlinewidth\": 0, \"ticks\": \"\"}}, \"colorscale\": {\"diverging\": [[0, \"#8e0152\"], [0.1, \"#c51b7d\"], [0.2, \"#de77ae\"], [0.3, \"#f1b6da\"], [0.4, \"#fde0ef\"], [0.5, \"#f7f7f7\"], [0.6, \"#e6f5d0\"], [0.7, \"#b8e186\"], [0.8, \"#7fbc41\"], [0.9, \"#4d9221\"], [1, \"#276419\"]], \"sequential\": [[0.0, \"#0d0887\"], [0.1111111111111111, \"#46039f\"], [0.2222222222222222, \"#7201a8\"], [0.3333333333333333, \"#9c179e\"], [0.4444444444444444, \"#bd3786\"], [0.5555555555555556, \"#d8576b\"], [0.6666666666666666, \"#ed7953\"], [0.7777777777777778, \"#fb9f3a\"], [0.8888888888888888, \"#fdca26\"], [1.0, \"#f0f921\"]], \"sequentialminus\": [[0.0, \"#0d0887\"], [0.1111111111111111, \"#46039f\"], [0.2222222222222222, \"#7201a8\"], [0.3333333333333333, \"#9c179e\"], [0.4444444444444444, \"#bd3786\"], [0.5555555555555556, \"#d8576b\"], [0.6666666666666666, \"#ed7953\"], [0.7777777777777778, \"#fb9f3a\"], [0.8888888888888888, \"#fdca26\"], [1.0, \"#f0f921\"]]}, \"colorway\": [\"#636efa\", \"#EF553B\", \"#00cc96\", \"#ab63fa\", \"#FFA15A\", \"#19d3f3\", \"#FF6692\", \"#B6E880\", \"#FF97FF\", \"#FECB52\"], \"font\": {\"color\": \"#2a3f5f\"}, \"geo\": {\"bgcolor\": \"white\", \"lakecolor\": \"white\", \"landcolor\": \"white\", \"showlakes\": true, \"showland\": true, \"subunitcolor\": \"#C8D4E3\"}, \"hoverlabel\": {\"align\": \"left\"}, \"hovermode\": \"closest\", \"mapbox\": {\"style\": \"light\"}, \"paper_bgcolor\": \"white\", \"plot_bgcolor\": \"white\", \"polar\": {\"angularaxis\": {\"gridcolor\": \"#EBF0F8\", \"linecolor\": \"#EBF0F8\", \"ticks\": \"\"}, \"bgcolor\": \"white\", \"radialaxis\": {\"gridcolor\": \"#EBF0F8\", \"linecolor\": \"#EBF0F8\", \"ticks\": \"\"}}, \"scene\": {\"xaxis\": {\"backgroundcolor\": \"white\", \"gridcolor\": \"#DFE8F3\", \"gridwidth\": 2, \"linecolor\": \"#EBF0F8\", \"showbackground\": true, \"ticks\": \"\", \"zerolinecolor\": \"#EBF0F8\"}, \"yaxis\": {\"backgroundcolor\": \"white\", \"gridcolor\": \"#DFE8F3\", \"gridwidth\": 2, \"linecolor\": \"#EBF0F8\", \"showbackground\": true, \"ticks\": \"\", \"zerolinecolor\": \"#EBF0F8\"}, \"zaxis\": {\"backgroundcolor\": \"white\", \"gridcolor\": \"#DFE8F3\", \"gridwidth\": 2, \"linecolor\": \"#EBF0F8\", \"showbackground\": true, \"ticks\": \"\", \"zerolinecolor\": \"#EBF0F8\"}}, \"shapedefaults\": {\"line\": {\"color\": \"#2a3f5f\"}}, \"ternary\": {\"aaxis\": {\"gridcolor\": \"#DFE8F3\", \"linecolor\": \"#A2B1C6\", \"ticks\": \"\"}, \"baxis\": {\"gridcolor\": \"#DFE8F3\", \"linecolor\": \"#A2B1C6\", \"ticks\": \"\"}, \"bgcolor\": \"white\", \"caxis\": {\"gridcolor\": \"#DFE8F3\", \"linecolor\": \"#A2B1C6\", \"ticks\": \"\"}}, \"title\": {\"x\": 0.05}, \"xaxis\": {\"automargin\": true, \"gridcolor\": \"#EBF0F8\", \"linecolor\": \"#EBF0F8\", \"ticks\": \"\", \"title\": {\"standoff\": 15}, \"zerolinecolor\": \"#EBF0F8\", \"zerolinewidth\": 2}, \"yaxis\": {\"automargin\": true, \"gridcolor\": \"#EBF0F8\", \"linecolor\": \"#EBF0F8\", \"ticks\": \"\", \"title\": {\"standoff\": 15}, \"zerolinecolor\": \"#EBF0F8\", \"zerolinewidth\": 2}}}, \"title\": {\"text\": \"Actual vs Predicted Price\"}, \"width\": 600, \"xaxis\": {\"title\": {\"text\": \"Batch\"}}, \"yaxis\": {\"title\": {\"text\": \"Price\"}}},\n",
              "                        {\"responsive\": true}\n",
              "                    ).then(function(){\n",
              "                            \n",
              "var gd = document.getElementById('7f8bd1aa-f1f6-48ae-be50-4f6640ca1ae2');\n",
              "var x = new MutationObserver(function (mutations, observer) {{\n",
              "        var display = window.getComputedStyle(gd).display;\n",
              "        if (!display || display === 'none') {{\n",
              "            console.log([gd, 'removed!']);\n",
              "            Plotly.purge(gd);\n",
              "            observer.disconnect();\n",
              "        }}\n",
              "}});\n",
              "\n",
              "// Listen for the removal of the full notebook cells\n",
              "var notebookContainer = gd.closest('#notebook-container');\n",
              "if (notebookContainer) {{\n",
              "    x.observe(notebookContainer, {childList: true});\n",
              "}}\n",
              "\n",
              "// Listen for the clearing of the current output cell\n",
              "var outputEl = gd.closest('.output');\n",
              "if (outputEl) {{\n",
              "    x.observe(outputEl, {childList: true});\n",
              "}}\n",
              "\n",
              "                        })\n",
              "                };\n",
              "                \n",
              "            </script>\n",
              "        </div>\n",
              "</body>\n",
              "</html>"
            ]
          },
          "metadata": {}
        },
        {
          "output_type": "display_data",
          "data": {
            "text/html": [
              "<html>\n",
              "<head><meta charset=\"utf-8\" /></head>\n",
              "<body>\n",
              "    <div>\n",
              "            <script src=\"https://cdnjs.cloudflare.com/ajax/libs/mathjax/2.7.5/MathJax.js?config=TeX-AMS-MML_SVG\"></script><script type=\"text/javascript\">if (window.MathJax) {MathJax.Hub.Config({SVG: {font: \"STIX-Web\"}});}</script>\n",
              "                <script type=\"text/javascript\">window.PlotlyConfig = {MathJaxConfig: 'local'};</script>\n",
              "        <script src=\"https://cdn.plot.ly/plotly-latest.min.js\"></script>    \n",
              "            <div id=\"a2eb7b30-4f55-4ea1-8ef5-385bb26d69af\" class=\"plotly-graph-div\" style=\"height:400px; width:600px;\"></div>\n",
              "            <script type=\"text/javascript\">\n",
              "                \n",
              "                    window.PLOTLYENV=window.PLOTLYENV || {};\n",
              "                    \n",
              "                if (document.getElementById(\"a2eb7b30-4f55-4ea1-8ef5-385bb26d69af\")) {\n",
              "                    Plotly.newPlot(\n",
              "                        'a2eb7b30-4f55-4ea1-8ef5-385bb26d69af',\n",
              "                        [{\"fill\": \"tozeroy\", \"line\": {\"color\": \"#ccc\"}, \"mode\": \"lines\", \"name\": \"Test Data\", \"type\": \"scatter\", \"x\": [235, 236, 237, 238, 239, 240, 241, 242, 243, 244, 245, 246, 247, 248, 249, 250, 251, 252, 253, 254, 255, 256, 257, 258, 259, 260, 261, 262, 263, 264, 265, 266, 267, 268, 269, 270, 271, 272, 273, 274], \"y\": [3.499231121933521, 3.499231121933521, 3.502549875922443, 3.4983240923928776, 3.488902962081261, 3.505557396986398, 3.501645852958961, 3.5157158351047473, 3.5076572927632825, 3.501645852958961, 3.497113438491982, 3.5115454388310208, 3.5052570515869337, 3.506457892319648, 3.4959013171314526, 3.482470101790892, 3.4946877247494936, 3.5157158351047473, 3.5049566159530077, 3.5133348815990053, 3.5234150143864045, 3.5467396869528134, 3.543853682063679, 3.544431549748063, 3.5522002551986827, 3.549042508926137, 3.581850881355413, 3.561897992353146, 3.5681232529781366, 3.5923685537330927, 3.613886475072506, 3.6386382376771897, 3.6503984672956546, 3.6788291182604347, 3.675540889674756, 3.6921241842788253, 3.6975913947159578, 3.7268975213014572, 3.7232808808312687, 3.7431308689458525]}, {\"fill\": \"tozeroy\", \"line\": {\"color\": \"#ccc\"}, \"mode\": \"lines+markers\", \"name\": \"Actual Price\", \"type\": \"scatter\", \"x\": [275, 276, 277, 278, 279], \"y\": [3.499231121933521, 3.499231121933521, 3.502549875922443, 3.4983240923928776, 3.488902962081261]}, {\"line\": {\"color\": \"red\"}, \"mode\": \"lines+markers\", \"name\": \"Predicted Price\", \"type\": \"scatter\", \"x\": [275, 276, 277, 278, 279], \"y\": [3.619908571243286, 3.6140995025634766, 3.6274242401123047, 3.6159374713897705, 3.631620168685913]}],\n",
              "                        {\"height\": 400, \"template\": {\"data\": {\"bar\": [{\"error_x\": {\"color\": \"#2a3f5f\"}, \"error_y\": {\"color\": \"#2a3f5f\"}, \"marker\": {\"line\": {\"color\": \"white\", \"width\": 0.5}}, \"type\": \"bar\"}], \"barpolar\": [{\"marker\": {\"line\": {\"color\": \"white\", \"width\": 0.5}}, \"type\": \"barpolar\"}], \"carpet\": [{\"aaxis\": {\"endlinecolor\": \"#2a3f5f\", \"gridcolor\": \"#C8D4E3\", \"linecolor\": \"#C8D4E3\", \"minorgridcolor\": \"#C8D4E3\", \"startlinecolor\": \"#2a3f5f\"}, \"baxis\": {\"endlinecolor\": \"#2a3f5f\", \"gridcolor\": \"#C8D4E3\", \"linecolor\": \"#C8D4E3\", \"minorgridcolor\": \"#C8D4E3\", \"startlinecolor\": \"#2a3f5f\"}, \"type\": \"carpet\"}], \"choropleth\": [{\"colorbar\": {\"outlinewidth\": 0, \"ticks\": \"\"}, \"type\": \"choropleth\"}], \"contour\": [{\"colorbar\": {\"outlinewidth\": 0, \"ticks\": \"\"}, \"colorscale\": [[0.0, \"#0d0887\"], [0.1111111111111111, \"#46039f\"], [0.2222222222222222, \"#7201a8\"], [0.3333333333333333, \"#9c179e\"], [0.4444444444444444, \"#bd3786\"], [0.5555555555555556, \"#d8576b\"], [0.6666666666666666, \"#ed7953\"], [0.7777777777777778, \"#fb9f3a\"], [0.8888888888888888, \"#fdca26\"], [1.0, \"#f0f921\"]], \"type\": \"contour\"}], \"contourcarpet\": [{\"colorbar\": {\"outlinewidth\": 0, \"ticks\": \"\"}, \"type\": \"contourcarpet\"}], \"heatmap\": [{\"colorbar\": {\"outlinewidth\": 0, \"ticks\": \"\"}, \"colorscale\": [[0.0, \"#0d0887\"], [0.1111111111111111, \"#46039f\"], [0.2222222222222222, \"#7201a8\"], [0.3333333333333333, \"#9c179e\"], [0.4444444444444444, \"#bd3786\"], [0.5555555555555556, \"#d8576b\"], [0.6666666666666666, \"#ed7953\"], [0.7777777777777778, \"#fb9f3a\"], [0.8888888888888888, \"#fdca26\"], [1.0, \"#f0f921\"]], \"type\": \"heatmap\"}], \"heatmapgl\": [{\"colorbar\": {\"outlinewidth\": 0, \"ticks\": \"\"}, \"colorscale\": [[0.0, \"#0d0887\"], [0.1111111111111111, \"#46039f\"], [0.2222222222222222, \"#7201a8\"], [0.3333333333333333, \"#9c179e\"], [0.4444444444444444, \"#bd3786\"], [0.5555555555555556, \"#d8576b\"], [0.6666666666666666, \"#ed7953\"], [0.7777777777777778, \"#fb9f3a\"], [0.8888888888888888, \"#fdca26\"], [1.0, \"#f0f921\"]], \"type\": \"heatmapgl\"}], \"histogram\": [{\"marker\": {\"colorbar\": {\"outlinewidth\": 0, \"ticks\": \"\"}}, \"type\": \"histogram\"}], \"histogram2d\": [{\"colorbar\": {\"outlinewidth\": 0, \"ticks\": \"\"}, \"colorscale\": [[0.0, \"#0d0887\"], [0.1111111111111111, \"#46039f\"], [0.2222222222222222, \"#7201a8\"], [0.3333333333333333, \"#9c179e\"], [0.4444444444444444, \"#bd3786\"], [0.5555555555555556, \"#d8576b\"], [0.6666666666666666, \"#ed7953\"], [0.7777777777777778, \"#fb9f3a\"], [0.8888888888888888, \"#fdca26\"], [1.0, \"#f0f921\"]], \"type\": \"histogram2d\"}], \"histogram2dcontour\": [{\"colorbar\": {\"outlinewidth\": 0, \"ticks\": \"\"}, \"colorscale\": [[0.0, \"#0d0887\"], [0.1111111111111111, \"#46039f\"], [0.2222222222222222, \"#7201a8\"], [0.3333333333333333, \"#9c179e\"], [0.4444444444444444, \"#bd3786\"], [0.5555555555555556, \"#d8576b\"], [0.6666666666666666, \"#ed7953\"], [0.7777777777777778, \"#fb9f3a\"], [0.8888888888888888, \"#fdca26\"], [1.0, \"#f0f921\"]], \"type\": \"histogram2dcontour\"}], \"mesh3d\": [{\"colorbar\": {\"outlinewidth\": 0, \"ticks\": \"\"}, \"type\": \"mesh3d\"}], \"parcoords\": [{\"line\": {\"colorbar\": {\"outlinewidth\": 0, \"ticks\": \"\"}}, \"type\": \"parcoords\"}], \"pie\": [{\"automargin\": true, \"type\": \"pie\"}], \"scatter\": [{\"marker\": {\"colorbar\": {\"outlinewidth\": 0, \"ticks\": \"\"}}, \"type\": \"scatter\"}], \"scatter3d\": [{\"line\": {\"colorbar\": {\"outlinewidth\": 0, \"ticks\": \"\"}}, \"marker\": {\"colorbar\": {\"outlinewidth\": 0, \"ticks\": \"\"}}, \"type\": \"scatter3d\"}], \"scattercarpet\": [{\"marker\": {\"colorbar\": {\"outlinewidth\": 0, \"ticks\": \"\"}}, \"type\": \"scattercarpet\"}], \"scattergeo\": [{\"marker\": {\"colorbar\": {\"outlinewidth\": 0, \"ticks\": \"\"}}, \"type\": \"scattergeo\"}], \"scattergl\": [{\"marker\": {\"colorbar\": {\"outlinewidth\": 0, \"ticks\": \"\"}}, \"type\": \"scattergl\"}], \"scattermapbox\": [{\"marker\": {\"colorbar\": {\"outlinewidth\": 0, \"ticks\": \"\"}}, \"type\": \"scattermapbox\"}], \"scatterpolar\": [{\"marker\": {\"colorbar\": {\"outlinewidth\": 0, \"ticks\": \"\"}}, \"type\": \"scatterpolar\"}], \"scatterpolargl\": [{\"marker\": {\"colorbar\": {\"outlinewidth\": 0, \"ticks\": \"\"}}, \"type\": \"scatterpolargl\"}], \"scatterternary\": [{\"marker\": {\"colorbar\": {\"outlinewidth\": 0, \"ticks\": \"\"}}, \"type\": \"scatterternary\"}], \"surface\": [{\"colorbar\": {\"outlinewidth\": 0, \"ticks\": \"\"}, \"colorscale\": [[0.0, \"#0d0887\"], [0.1111111111111111, \"#46039f\"], [0.2222222222222222, \"#7201a8\"], [0.3333333333333333, \"#9c179e\"], [0.4444444444444444, \"#bd3786\"], [0.5555555555555556, \"#d8576b\"], [0.6666666666666666, \"#ed7953\"], [0.7777777777777778, \"#fb9f3a\"], [0.8888888888888888, \"#fdca26\"], [1.0, \"#f0f921\"]], \"type\": \"surface\"}], \"table\": [{\"cells\": {\"fill\": {\"color\": \"#EBF0F8\"}, \"line\": {\"color\": \"white\"}}, \"header\": {\"fill\": {\"color\": \"#C8D4E3\"}, \"line\": {\"color\": \"white\"}}, \"type\": \"table\"}]}, \"layout\": {\"annotationdefaults\": {\"arrowcolor\": \"#2a3f5f\", \"arrowhead\": 0, \"arrowwidth\": 1}, \"coloraxis\": {\"colorbar\": {\"outlinewidth\": 0, \"ticks\": \"\"}}, \"colorscale\": {\"diverging\": [[0, \"#8e0152\"], [0.1, \"#c51b7d\"], [0.2, \"#de77ae\"], [0.3, \"#f1b6da\"], [0.4, \"#fde0ef\"], [0.5, \"#f7f7f7\"], [0.6, \"#e6f5d0\"], [0.7, \"#b8e186\"], [0.8, \"#7fbc41\"], [0.9, \"#4d9221\"], [1, \"#276419\"]], \"sequential\": [[0.0, \"#0d0887\"], [0.1111111111111111, \"#46039f\"], [0.2222222222222222, \"#7201a8\"], [0.3333333333333333, \"#9c179e\"], [0.4444444444444444, \"#bd3786\"], [0.5555555555555556, \"#d8576b\"], [0.6666666666666666, \"#ed7953\"], [0.7777777777777778, \"#fb9f3a\"], [0.8888888888888888, \"#fdca26\"], [1.0, \"#f0f921\"]], \"sequentialminus\": [[0.0, \"#0d0887\"], [0.1111111111111111, \"#46039f\"], [0.2222222222222222, \"#7201a8\"], [0.3333333333333333, \"#9c179e\"], [0.4444444444444444, \"#bd3786\"], [0.5555555555555556, \"#d8576b\"], [0.6666666666666666, \"#ed7953\"], [0.7777777777777778, \"#fb9f3a\"], [0.8888888888888888, \"#fdca26\"], [1.0, \"#f0f921\"]]}, \"colorway\": [\"#636efa\", \"#EF553B\", \"#00cc96\", \"#ab63fa\", \"#FFA15A\", \"#19d3f3\", \"#FF6692\", \"#B6E880\", \"#FF97FF\", \"#FECB52\"], \"font\": {\"color\": \"#2a3f5f\"}, \"geo\": {\"bgcolor\": \"white\", \"lakecolor\": \"white\", \"landcolor\": \"white\", \"showlakes\": true, \"showland\": true, \"subunitcolor\": \"#C8D4E3\"}, \"hoverlabel\": {\"align\": \"left\"}, \"hovermode\": \"closest\", \"mapbox\": {\"style\": \"light\"}, \"paper_bgcolor\": \"white\", \"plot_bgcolor\": \"white\", \"polar\": {\"angularaxis\": {\"gridcolor\": \"#EBF0F8\", \"linecolor\": \"#EBF0F8\", \"ticks\": \"\"}, \"bgcolor\": \"white\", \"radialaxis\": {\"gridcolor\": \"#EBF0F8\", \"linecolor\": \"#EBF0F8\", \"ticks\": \"\"}}, \"scene\": {\"xaxis\": {\"backgroundcolor\": \"white\", \"gridcolor\": \"#DFE8F3\", \"gridwidth\": 2, \"linecolor\": \"#EBF0F8\", \"showbackground\": true, \"ticks\": \"\", \"zerolinecolor\": \"#EBF0F8\"}, \"yaxis\": {\"backgroundcolor\": \"white\", \"gridcolor\": \"#DFE8F3\", \"gridwidth\": 2, \"linecolor\": \"#EBF0F8\", \"showbackground\": true, \"ticks\": \"\", \"zerolinecolor\": \"#EBF0F8\"}, \"zaxis\": {\"backgroundcolor\": \"white\", \"gridcolor\": \"#DFE8F3\", \"gridwidth\": 2, \"linecolor\": \"#EBF0F8\", \"showbackground\": true, \"ticks\": \"\", \"zerolinecolor\": \"#EBF0F8\"}}, \"shapedefaults\": {\"line\": {\"color\": \"#2a3f5f\"}}, \"ternary\": {\"aaxis\": {\"gridcolor\": \"#DFE8F3\", \"linecolor\": \"#A2B1C6\", \"ticks\": \"\"}, \"baxis\": {\"gridcolor\": \"#DFE8F3\", \"linecolor\": \"#A2B1C6\", \"ticks\": \"\"}, \"bgcolor\": \"white\", \"caxis\": {\"gridcolor\": \"#DFE8F3\", \"linecolor\": \"#A2B1C6\", \"ticks\": \"\"}}, \"title\": {\"x\": 0.05}, \"xaxis\": {\"automargin\": true, \"gridcolor\": \"#EBF0F8\", \"linecolor\": \"#EBF0F8\", \"ticks\": \"\", \"title\": {\"standoff\": 15}, \"zerolinecolor\": \"#EBF0F8\", \"zerolinewidth\": 2}, \"yaxis\": {\"automargin\": true, \"gridcolor\": \"#EBF0F8\", \"linecolor\": \"#EBF0F8\", \"ticks\": \"\", \"title\": {\"standoff\": 15}, \"zerolinecolor\": \"#EBF0F8\", \"zerolinewidth\": 2}}}, \"title\": {\"text\": \"Actual vs Predicted Price\"}, \"width\": 600, \"xaxis\": {\"title\": {\"text\": \"Batch\"}}, \"yaxis\": {\"title\": {\"text\": \"Price\"}}},\n",
              "                        {\"responsive\": true}\n",
              "                    ).then(function(){\n",
              "                            \n",
              "var gd = document.getElementById('a2eb7b30-4f55-4ea1-8ef5-385bb26d69af');\n",
              "var x = new MutationObserver(function (mutations, observer) {{\n",
              "        var display = window.getComputedStyle(gd).display;\n",
              "        if (!display || display === 'none') {{\n",
              "            console.log([gd, 'removed!']);\n",
              "            Plotly.purge(gd);\n",
              "            observer.disconnect();\n",
              "        }}\n",
              "}});\n",
              "\n",
              "// Listen for the removal of the full notebook cells\n",
              "var notebookContainer = gd.closest('#notebook-container');\n",
              "if (notebookContainer) {{\n",
              "    x.observe(notebookContainer, {childList: true});\n",
              "}}\n",
              "\n",
              "// Listen for the clearing of the current output cell\n",
              "var outputEl = gd.closest('.output');\n",
              "if (outputEl) {{\n",
              "    x.observe(outputEl, {childList: true});\n",
              "}}\n",
              "\n",
              "                        })\n",
              "                };\n",
              "                \n",
              "            </script>\n",
              "        </div>\n",
              "</body>\n",
              "</html>"
            ]
          },
          "metadata": {}
        },
        {
          "output_type": "stream",
          "name": "stderr",
          "text": [
            "WARNING:absl:Found untraced functions such as lstm_cell_layer_call_fn, lstm_cell_layer_call_and_return_conditional_losses, lstm_cell_1_layer_call_fn, lstm_cell_1_layer_call_and_return_conditional_losses, lstm_cell_2_layer_call_fn while saving (showing 5 of 15). These functions will not be directly callable after loading.\n"
          ]
        },
        {
          "output_type": "stream",
          "name": "stdout",
          "text": [
            "INFO:tensorflow:Assets written to: /content/drive/MyDrive/Colab Notebooks/models/model_BLX.TO_log_features/assets\n"
          ]
        },
        {
          "output_type": "stream",
          "name": "stderr",
          "text": [
            "INFO:tensorflow:Assets written to: /content/drive/MyDrive/Colab Notebooks/models/model_BLX.TO_log_features/assets\n"
          ]
        }
      ]
    },
    {
      "cell_type": "markdown",
      "metadata": {
        "id": "LdUBFl_VQei5"
      },
      "source": [
        "## Load Saved Model"
      ]
    },
    {
      "cell_type": "code",
      "metadata": {
        "id": "LQFngZAlMS1Z"
      },
      "source": [
        "# get saved training evaluation\n",
        "modelname = 'model_BTC_log_features'\n",
        "model = keras.models.load_model(f'/content/drive/MyDrive/Colab Notebooks/models/{modelname}')\n",
        "df_hist = pd.read_csv(f'/content/drive/MyDrive/Colab Notebooks/models/{modelname}/train_history.csv')"
      ],
      "execution_count": 15,
      "outputs": []
    },
    {
      "cell_type": "markdown",
      "metadata": {
        "id": "TAnqKBgDbFt0"
      },
      "source": [
        "## Old keep for now"
      ]
    },
    {
      "cell_type": "code",
      "metadata": {
        "colab": {
          "base_uri": "https://localhost:8080/",
          "height": 0
        },
        "id": "zWR1KQgfcagj",
        "outputId": "f1900d07-74fa-4380-b639-da84fc47a19c"
      },
      "source": [
        "\n",
        "# Plot train+test+predict\n",
        "# test numbers don't line up \n",
        "#=> check create paritions to see why the number of records don't match\n",
        "\n",
        "y_test_unscaled = scaler_y.inverse_transform(y_test)\n",
        "\n",
        "# train data\n",
        "train_unscaled = scaler_X.inverse_transform(train_x)\n",
        "df_train=pd.DataFrame(train_unscaled[:,idx_close])\n",
        "df_train.columns=['price']\n",
        "print(df_train.shape)\n",
        "\n",
        "\n",
        "# test data\n",
        "test_unscaled = scaler_X.inverse_transform(test_x)\n",
        "df_test = pd.DataFrame(test_unscaled[:,idx_close])\n",
        "df_test.columns = ['price']\n",
        "\n",
        "\n",
        "# reindex the the test set to start from the train set\n",
        "idx_last_train = df_train.shape[0]\n",
        "idx_last_test = df_test.shape[0]\n",
        "idx_rng = list(range(idx_last_train,idx_last_train + idx_last_test))\n",
        "\n",
        "df_test['idx'] = idx_rng\n",
        "df_test.set_index('idx',drop=True,inplace=True)\n",
        "print(df_test.shape)\n",
        "\n",
        "\n",
        "\n",
        "# get the predictions\n",
        "y_pred = model.predict(x_test)\n",
        "\n",
        "# convert units back to the original scale\n",
        "y_pred_unscaled = scaler_y.inverse_transform(y_pred)\n",
        "\n",
        "# reset the index to align with the train/test indexes\n",
        "# idx will be supplied by the caller function\n",
        "idx = y_test_unscaled.shape[0]-1\n",
        "idx_pred_start = idx_last_train  + idx_last_test -(idx_last_test - idx)\n",
        "idx_rng = list(range(idx_pred_start,idx_pred_start+n_predict))\n",
        "\n",
        "\n",
        "y_pred =y_pred_unscaled[idx,:]\n",
        "df_pred = pd.DataFrame(y_pred)\n",
        "df_pred.columns =['price']\n",
        "df_pred['idx']=idx_rng\n",
        "df_pred.set_index('idx',drop=True,inplace=True)\n",
        "print(df_pred.shape)\n",
        "\n",
        "\n",
        "fig = go.Figure()\n",
        "fig.add_trace(go.Scatter(x=df_train.index,y=df_train.price,name='Train'))\n",
        "fig.add_trace(go.Scatter(x=df_test.index,y=df_test.price,name='Test'))\n",
        "fig.add_trace(go.Scatter(x=df_pred.index,y=df_pred.price,name='Predict'))\n",
        "fig.show()  \n",
        "\n",
        "print(idx,idx_last_train,idx_last_test,idx_pred_start)\n",
        "df_pred\n",
        "\n"
      ],
      "execution_count": 42,
      "outputs": [
        {
          "output_type": "stream",
          "name": "stdout",
          "text": [
            "(2317, 1)\n",
            "(579, 1)\n",
            "(5, 1)\n"
          ]
        },
        {
          "output_type": "display_data",
          "data": {
            "text/html": [
              "<html>\n",
              "<head><meta charset=\"utf-8\" /></head>\n",
              "<body>\n",
              "    <div>\n",
              "            <script src=\"https://cdnjs.cloudflare.com/ajax/libs/mathjax/2.7.5/MathJax.js?config=TeX-AMS-MML_SVG\"></script><script type=\"text/javascript\">if (window.MathJax) {MathJax.Hub.Config({SVG: {font: \"STIX-Web\"}});}</script>\n",
              "                <script type=\"text/javascript\">window.PlotlyConfig = {MathJaxConfig: 'local'};</script>\n",
              "        <script src=\"https://cdn.plot.ly/plotly-latest.min.js\"></script>    \n",
              "            <div id=\"7be2d971-c2f7-419e-b56e-b6c43297a47e\" class=\"plotly-graph-div\" style=\"height:525px; width:100%;\"></div>\n",
              "            <script type=\"text/javascript\">\n",
              "                \n",
              "                    window.PLOTLYENV=window.PLOTLYENV || {};\n",
              "                    \n",
              "                if (document.getElementById(\"7be2d971-c2f7-419e-b56e-b6c43297a47e\")) {\n",
              "                    Plotly.newPlot(\n",
              "                        '7be2d971-c2f7-419e-b56e-b6c43297a47e',\n",
              "                        [{\"name\": \"Train\", \"type\": \"scatter\", \"x\": [0, 1, 2, 3, 4, 5, 6, 7, 8, 9, 10, 11, 12, 13, 14, 15, 16, 17, 18, 19, 20, 21, 22, 23, 24, 25, 26, 27, 28, 29, 30, 31, 32, 33, 34, 35, 36, 37, 38, 39, 40, 41, 42, 43, 44, 45, 46, 47, 48, 49, 50, 51, 52, 53, 54, 55, 56, 57, 58, 59, 60, 61, 62, 63, 64, 65, 66, 67, 68, 69, 70, 71, 72, 73, 74, 75, 76, 77, 78, 79, 80, 81, 82, 83, 84, 85, 86, 87, 88, 89, 90, 91, 92, 93, 94, 95, 96, 97, 98, 99, 100, 101, 102, 103, 104, 105, 106, 107, 108, 109, 110, 111, 112, 113, 114, 115, 116, 117, 118, 119, 120, 121, 122, 123, 124, 125, 126, 127, 128, 129, 130, 131, 132, 133, 134, 135, 136, 137, 138, 139, 140, 141, 142, 143, 144, 145, 146, 147, 148, 149, 150, 151, 152, 153, 154, 155, 156, 157, 158, 159, 160, 161, 162, 163, 164, 165, 166, 167, 168, 169, 170, 171, 172, 173, 174, 175, 176, 177, 178, 179, 180, 181, 182, 183, 184, 185, 186, 187, 188, 189, 190, 191, 192, 193, 194, 195, 196, 197, 198, 199, 200, 201, 202, 203, 204, 205, 206, 207, 208, 209, 210, 211, 212, 213, 214, 215, 216, 217, 218, 219, 220, 221, 222, 223, 224, 225, 226, 227, 228, 229, 230, 231, 232, 233, 234, 235, 236, 237, 238, 239, 240, 241, 242, 243, 244, 245, 246, 247, 248, 249, 250, 251, 252, 253, 254, 255, 256, 257, 258, 259, 260, 261, 262, 263, 264, 265, 266, 267, 268, 269, 270, 271, 272, 273, 274, 275, 276, 277, 278, 279, 280, 281, 282, 283, 284, 285, 286, 287, 288, 289, 290, 291, 292, 293, 294, 295, 296, 297, 298, 299, 300, 301, 302, 303, 304, 305, 306, 307, 308, 309, 310, 311, 312, 313, 314, 315, 316, 317, 318, 319, 320, 321, 322, 323, 324, 325, 326, 327, 328, 329, 330, 331, 332, 333, 334, 335, 336, 337, 338, 339, 340, 341, 342, 343, 344, 345, 346, 347, 348, 349, 350, 351, 352, 353, 354, 355, 356, 357, 358, 359, 360, 361, 362, 363, 364, 365, 366, 367, 368, 369, 370, 371, 372, 373, 374, 375, 376, 377, 378, 379, 380, 381, 382, 383, 384, 385, 386, 387, 388, 389, 390, 391, 392, 393, 394, 395, 396, 397, 398, 399, 400, 401, 402, 403, 404, 405, 406, 407, 408, 409, 410, 411, 412, 413, 414, 415, 416, 417, 418, 419, 420, 421, 422, 423, 424, 425, 426, 427, 428, 429, 430, 431, 432, 433, 434, 435, 436, 437, 438, 439, 440, 441, 442, 443, 444, 445, 446, 447, 448, 449, 450, 451, 452, 453, 454, 455, 456, 457, 458, 459, 460, 461, 462, 463, 464, 465, 466, 467, 468, 469, 470, 471, 472, 473, 474, 475, 476, 477, 478, 479, 480, 481, 482, 483, 484, 485, 486, 487, 488, 489, 490, 491, 492, 493, 494, 495, 496, 497, 498, 499, 500, 501, 502, 503, 504, 505, 506, 507, 508, 509, 510, 511, 512, 513, 514, 515, 516, 517, 518, 519, 520, 521, 522, 523, 524, 525, 526, 527, 528, 529, 530, 531, 532, 533, 534, 535, 536, 537, 538, 539, 540, 541, 542, 543, 544, 545, 546, 547, 548, 549, 550, 551, 552, 553, 554, 555, 556, 557, 558, 559, 560, 561, 562, 563, 564, 565, 566, 567, 568, 569, 570, 571, 572, 573, 574, 575, 576, 577, 578, 579, 580, 581, 582, 583, 584, 585, 586, 587, 588, 589, 590, 591, 592, 593, 594, 595, 596, 597, 598, 599, 600, 601, 602, 603, 604, 605, 606, 607, 608, 609, 610, 611, 612, 613, 614, 615, 616, 617, 618, 619, 620, 621, 622, 623, 624, 625, 626, 627, 628, 629, 630, 631, 632, 633, 634, 635, 636, 637, 638, 639, 640, 641, 642, 643, 644, 645, 646, 647, 648, 649, 650, 651, 652, 653, 654, 655, 656, 657, 658, 659, 660, 661, 662, 663, 664, 665, 666, 667, 668, 669, 670, 671, 672, 673, 674, 675, 676, 677, 678, 679, 680, 681, 682, 683, 684, 685, 686, 687, 688, 689, 690, 691, 692, 693, 694, 695, 696, 697, 698, 699, 700, 701, 702, 703, 704, 705, 706, 707, 708, 709, 710, 711, 712, 713, 714, 715, 716, 717, 718, 719, 720, 721, 722, 723, 724, 725, 726, 727, 728, 729, 730, 731, 732, 733, 734, 735, 736, 737, 738, 739, 740, 741, 742, 743, 744, 745, 746, 747, 748, 749, 750, 751, 752, 753, 754, 755, 756, 757, 758, 759, 760, 761, 762, 763, 764, 765, 766, 767, 768, 769, 770, 771, 772, 773, 774, 775, 776, 777, 778, 779, 780, 781, 782, 783, 784, 785, 786, 787, 788, 789, 790, 791, 792, 793, 794, 795, 796, 797, 798, 799, 800, 801, 802, 803, 804, 805, 806, 807, 808, 809, 810, 811, 812, 813, 814, 815, 816, 817, 818, 819, 820, 821, 822, 823, 824, 825, 826, 827, 828, 829, 830, 831, 832, 833, 834, 835, 836, 837, 838, 839, 840, 841, 842, 843, 844, 845, 846, 847, 848, 849, 850, 851, 852, 853, 854, 855, 856, 857, 858, 859, 860, 861, 862, 863, 864, 865, 866, 867, 868, 869, 870, 871, 872, 873, 874, 875, 876, 877, 878, 879, 880, 881, 882, 883, 884, 885, 886, 887, 888, 889, 890, 891, 892, 893, 894, 895, 896, 897, 898, 899, 900, 901, 902, 903, 904, 905, 906, 907, 908, 909, 910, 911, 912, 913, 914, 915, 916, 917, 918, 919, 920, 921, 922, 923, 924, 925, 926, 927, 928, 929, 930, 931, 932, 933, 934, 935, 936, 937, 938, 939, 940, 941, 942, 943, 944, 945, 946, 947, 948, 949, 950, 951, 952, 953, 954, 955, 956, 957, 958, 959, 960, 961, 962, 963, 964, 965, 966, 967, 968, 969, 970, 971, 972, 973, 974, 975, 976, 977, 978, 979, 980, 981, 982, 983, 984, 985, 986, 987, 988, 989, 990, 991, 992, 993, 994, 995, 996, 997, 998, 999, 1000, 1001, 1002, 1003, 1004, 1005, 1006, 1007, 1008, 1009, 1010, 1011, 1012, 1013, 1014, 1015, 1016, 1017, 1018, 1019, 1020, 1021, 1022, 1023, 1024, 1025, 1026, 1027, 1028, 1029, 1030, 1031, 1032, 1033, 1034, 1035, 1036, 1037, 1038, 1039, 1040, 1041, 1042, 1043, 1044, 1045, 1046, 1047, 1048, 1049, 1050, 1051, 1052, 1053, 1054, 1055, 1056, 1057, 1058, 1059, 1060, 1061, 1062, 1063, 1064, 1065, 1066, 1067, 1068, 1069, 1070, 1071, 1072, 1073, 1074, 1075, 1076, 1077, 1078, 1079, 1080, 1081, 1082, 1083, 1084, 1085, 1086, 1087, 1088, 1089, 1090, 1091, 1092, 1093, 1094, 1095, 1096, 1097, 1098, 1099, 1100, 1101, 1102, 1103, 1104, 1105, 1106, 1107, 1108, 1109, 1110, 1111, 1112, 1113, 1114, 1115, 1116, 1117, 1118, 1119, 1120, 1121, 1122, 1123, 1124, 1125, 1126, 1127, 1128, 1129, 1130, 1131, 1132, 1133, 1134, 1135, 1136, 1137, 1138, 1139, 1140, 1141, 1142, 1143, 1144, 1145, 1146, 1147, 1148, 1149, 1150, 1151, 1152, 1153, 1154, 1155, 1156, 1157, 1158, 1159, 1160, 1161, 1162, 1163, 1164, 1165, 1166, 1167, 1168, 1169, 1170, 1171, 1172, 1173, 1174, 1175, 1176, 1177, 1178, 1179, 1180, 1181, 1182, 1183, 1184, 1185, 1186, 1187, 1188, 1189, 1190, 1191, 1192, 1193, 1194, 1195, 1196, 1197, 1198, 1199, 1200, 1201, 1202, 1203, 1204, 1205, 1206, 1207, 1208, 1209, 1210, 1211, 1212, 1213, 1214, 1215, 1216, 1217, 1218, 1219, 1220, 1221, 1222, 1223, 1224, 1225, 1226, 1227, 1228, 1229, 1230, 1231, 1232, 1233, 1234, 1235, 1236, 1237, 1238, 1239, 1240, 1241, 1242, 1243, 1244, 1245, 1246, 1247, 1248, 1249, 1250, 1251, 1252, 1253, 1254, 1255, 1256, 1257, 1258, 1259, 1260, 1261, 1262, 1263, 1264, 1265, 1266, 1267, 1268, 1269, 1270, 1271, 1272, 1273, 1274, 1275, 1276, 1277, 1278, 1279, 1280, 1281, 1282, 1283, 1284, 1285, 1286, 1287, 1288, 1289, 1290, 1291, 1292, 1293, 1294, 1295, 1296, 1297, 1298, 1299, 1300, 1301, 1302, 1303, 1304, 1305, 1306, 1307, 1308, 1309, 1310, 1311, 1312, 1313, 1314, 1315, 1316, 1317, 1318, 1319, 1320, 1321, 1322, 1323, 1324, 1325, 1326, 1327, 1328, 1329, 1330, 1331, 1332, 1333, 1334, 1335, 1336, 1337, 1338, 1339, 1340, 1341, 1342, 1343, 1344, 1345, 1346, 1347, 1348, 1349, 1350, 1351, 1352, 1353, 1354, 1355, 1356, 1357, 1358, 1359, 1360, 1361, 1362, 1363, 1364, 1365, 1366, 1367, 1368, 1369, 1370, 1371, 1372, 1373, 1374, 1375, 1376, 1377, 1378, 1379, 1380, 1381, 1382, 1383, 1384, 1385, 1386, 1387, 1388, 1389, 1390, 1391, 1392, 1393, 1394, 1395, 1396, 1397, 1398, 1399, 1400, 1401, 1402, 1403, 1404, 1405, 1406, 1407, 1408, 1409, 1410, 1411, 1412, 1413, 1414, 1415, 1416, 1417, 1418, 1419, 1420, 1421, 1422, 1423, 1424, 1425, 1426, 1427, 1428, 1429, 1430, 1431, 1432, 1433, 1434, 1435, 1436, 1437, 1438, 1439, 1440, 1441, 1442, 1443, 1444, 1445, 1446, 1447, 1448, 1449, 1450, 1451, 1452, 1453, 1454, 1455, 1456, 1457, 1458, 1459, 1460, 1461, 1462, 1463, 1464, 1465, 1466, 1467, 1468, 1469, 1470, 1471, 1472, 1473, 1474, 1475, 1476, 1477, 1478, 1479, 1480, 1481, 1482, 1483, 1484, 1485, 1486, 1487, 1488, 1489, 1490, 1491, 1492, 1493, 1494, 1495, 1496, 1497, 1498, 1499, 1500, 1501, 1502, 1503, 1504, 1505, 1506, 1507, 1508, 1509, 1510, 1511, 1512, 1513, 1514, 1515, 1516, 1517, 1518, 1519, 1520, 1521, 1522, 1523, 1524, 1525, 1526, 1527, 1528, 1529, 1530, 1531, 1532, 1533, 1534, 1535, 1536, 1537, 1538, 1539, 1540, 1541, 1542, 1543, 1544, 1545, 1546, 1547, 1548, 1549, 1550, 1551, 1552, 1553, 1554, 1555, 1556, 1557, 1558, 1559, 1560, 1561, 1562, 1563, 1564, 1565, 1566, 1567, 1568, 1569, 1570, 1571, 1572, 1573, 1574, 1575, 1576, 1577, 1578, 1579, 1580, 1581, 1582, 1583, 1584, 1585, 1586, 1587, 1588, 1589, 1590, 1591, 1592, 1593, 1594, 1595, 1596, 1597, 1598, 1599, 1600, 1601, 1602, 1603, 1604, 1605, 1606, 1607, 1608, 1609, 1610, 1611, 1612, 1613, 1614, 1615, 1616, 1617, 1618, 1619, 1620, 1621, 1622, 1623, 1624, 1625, 1626, 1627, 1628, 1629, 1630, 1631, 1632, 1633, 1634, 1635, 1636, 1637, 1638, 1639, 1640, 1641, 1642, 1643, 1644, 1645, 1646, 1647, 1648, 1649, 1650, 1651, 1652, 1653, 1654, 1655, 1656, 1657, 1658, 1659, 1660, 1661, 1662, 1663, 1664, 1665, 1666, 1667, 1668, 1669, 1670, 1671, 1672, 1673, 1674, 1675, 1676, 1677, 1678, 1679, 1680, 1681, 1682, 1683, 1684, 1685, 1686, 1687, 1688, 1689, 1690, 1691, 1692, 1693, 1694, 1695, 1696, 1697, 1698, 1699, 1700, 1701, 1702, 1703, 1704, 1705, 1706, 1707, 1708, 1709, 1710, 1711, 1712, 1713, 1714, 1715, 1716, 1717, 1718, 1719, 1720, 1721, 1722, 1723, 1724, 1725, 1726, 1727, 1728, 1729, 1730, 1731, 1732, 1733, 1734, 1735, 1736, 1737, 1738, 1739, 1740, 1741, 1742, 1743, 1744, 1745, 1746, 1747, 1748, 1749, 1750, 1751, 1752, 1753, 1754, 1755, 1756, 1757, 1758, 1759, 1760, 1761, 1762, 1763, 1764, 1765, 1766, 1767, 1768, 1769, 1770, 1771, 1772, 1773, 1774, 1775, 1776, 1777, 1778, 1779, 1780, 1781, 1782, 1783, 1784, 1785, 1786, 1787, 1788, 1789, 1790, 1791, 1792, 1793, 1794, 1795, 1796, 1797, 1798, 1799, 1800, 1801, 1802, 1803, 1804, 1805, 1806, 1807, 1808, 1809, 1810, 1811, 1812, 1813, 1814, 1815, 1816, 1817, 1818, 1819, 1820, 1821, 1822, 1823, 1824, 1825, 1826, 1827, 1828, 1829, 1830, 1831, 1832, 1833, 1834, 1835, 1836, 1837, 1838, 1839, 1840, 1841, 1842, 1843, 1844, 1845, 1846, 1847, 1848, 1849, 1850, 1851, 1852, 1853, 1854, 1855, 1856, 1857, 1858, 1859, 1860, 1861, 1862, 1863, 1864, 1865, 1866, 1867, 1868, 1869, 1870, 1871, 1872, 1873, 1874, 1875, 1876, 1877, 1878, 1879, 1880, 1881, 1882, 1883, 1884, 1885, 1886, 1887, 1888, 1889, 1890, 1891, 1892, 1893, 1894, 1895, 1896, 1897, 1898, 1899, 1900, 1901, 1902, 1903, 1904, 1905, 1906, 1907, 1908, 1909, 1910, 1911, 1912, 1913, 1914, 1915, 1916, 1917, 1918, 1919, 1920, 1921, 1922, 1923, 1924, 1925, 1926, 1927, 1928, 1929, 1930, 1931, 1932, 1933, 1934, 1935, 1936, 1937, 1938, 1939, 1940, 1941, 1942, 1943, 1944, 1945, 1946, 1947, 1948, 1949, 1950, 1951, 1952, 1953, 1954, 1955, 1956, 1957, 1958, 1959, 1960, 1961, 1962, 1963, 1964, 1965, 1966, 1967, 1968, 1969, 1970, 1971, 1972, 1973, 1974, 1975, 1976, 1977, 1978, 1979, 1980, 1981, 1982, 1983, 1984, 1985, 1986, 1987, 1988, 1989, 1990, 1991, 1992, 1993, 1994, 1995, 1996, 1997, 1998, 1999, 2000, 2001, 2002, 2003, 2004, 2005, 2006, 2007, 2008, 2009, 2010, 2011, 2012, 2013, 2014, 2015, 2016, 2017, 2018, 2019, 2020, 2021, 2022, 2023, 2024, 2025, 2026, 2027, 2028, 2029, 2030, 2031, 2032, 2033, 2034, 2035, 2036, 2037, 2038, 2039, 2040, 2041, 2042, 2043, 2044, 2045, 2046, 2047, 2048, 2049, 2050, 2051, 2052, 2053, 2054, 2055, 2056, 2057, 2058, 2059, 2060, 2061, 2062, 2063, 2064, 2065, 2066, 2067, 2068, 2069, 2070, 2071, 2072, 2073, 2074, 2075, 2076, 2077, 2078, 2079, 2080, 2081, 2082, 2083, 2084, 2085, 2086, 2087, 2088, 2089, 2090, 2091, 2092, 2093, 2094, 2095, 2096, 2097, 2098, 2099, 2100, 2101, 2102, 2103, 2104, 2105, 2106, 2107, 2108, 2109, 2110, 2111, 2112, 2113, 2114, 2115, 2116, 2117, 2118, 2119, 2120, 2121, 2122, 2123, 2124, 2125, 2126, 2127, 2128, 2129, 2130, 2131, 2132, 2133, 2134, 2135, 2136, 2137, 2138, 2139, 2140, 2141, 2142, 2143, 2144, 2145, 2146, 2147, 2148, 2149, 2150, 2151, 2152, 2153, 2154, 2155, 2156, 2157, 2158, 2159, 2160, 2161, 2162, 2163, 2164, 2165, 2166, 2167, 2168, 2169, 2170, 2171, 2172, 2173, 2174, 2175, 2176, 2177, 2178, 2179, 2180, 2181, 2182, 2183, 2184, 2185, 2186, 2187, 2188, 2189, 2190, 2191, 2192, 2193, 2194, 2195, 2196, 2197, 2198, 2199, 2200, 2201, 2202, 2203, 2204, 2205, 2206, 2207, 2208, 2209, 2210, 2211, 2212, 2213, 2214, 2215, 2216, 2217, 2218, 2219, 2220, 2221, 2222, 2223, 2224, 2225, 2226, 2227, 2228, 2229, 2230, 2231, 2232, 2233, 2234, 2235, 2236, 2237, 2238, 2239, 2240, 2241, 2242, 2243, 2244, 2245, 2246, 2247, 2248, 2249, 2250, 2251, 2252, 2253, 2254, 2255, 2256, 2257, 2258, 2259, 2260, 2261, 2262, 2263, 2264, 2265, 2266, 2267, 2268, 2269, 2270, 2271, 2272, 2273, 2274, 2275, 2276, 2277, 2278, 2279, 2280, 2281, 2282, 2283, 2284, 2285, 2286, 2287, 2288, 2289, 2290, 2291, 2292, 2293, 2294, 2295, 2296, 2297, 2298, 2299, 2300, 2301, 2302, 2303, 2304, 2305, 2306, 2307, 2308, 2309, 2310, 2311, 2312, 2313, 2314, 2315, 2316], \"y\": [2.337952236831337, 2.336019869080283, 2.307572634505085, 2.299580583973747, 2.288486168614544, 2.2975725511705014, 2.3135250330323798, 2.306577114263583, 2.3045830956567186, 2.3145136638593193, 2.3282528397426234, 2.365559892155434, 2.3561258599220753, 2.340843805111136, 2.3561258599220753, 2.340843805111136, 2.3427668826268775, 2.3263016196113617, 2.3398808777377424, 2.3456445824544927, 2.3513752571634776, 2.3617969526258915, 2.3513752571634776, 2.359910159613315, 2.336986519711378, 2.3398808777377424, 2.3456445824544927, 2.33214389523559, 2.337952236831337, 2.3340837600534163, 2.3233676321765744, 2.3340837600534163, 2.336019869080283, 2.3045830956567186, 2.298577071596507, 2.278292400425001, 2.2741856184723477, 2.255493485460195, 2.2617630984737906, 2.2278615467981093, 2.209372711271867, 2.2192034840549946, 2.252343876557299, 2.2364452904895007, 2.2407096892759584, 2.2669579153508947, 2.2544447176661104, 2.2192034840549946, 2.238579763018133, 2.286455711064162, 2.2762411176544437, 2.2512917986064953, 2.224623551524334, 2.180417459019838, 2.174751721484161, 2.157559320943788, 2.122261538862764, 2.1471001901536506, 2.1174596088673567, 2.1447610078004784, 2.163323025660538, 2.1849270495258133, 2.2027647577118348, 2.191653532286764, 2.174751721484161, 2.189416394888408, 2.1713368063840917, 2.186051276738094, 2.155244505095337, 2.1656192379208883, 2.174751721484161, 2.167910189667444, 2.163323025660538, 2.163323025660538, 2.152924318439639, 2.1598687907924505, 2.1471001901536506, 2.1400661634962708, 2.134166441369082, 2.1234584270966104, 2.1294214739848565, 2.1186622548331173, 2.1138429683971682, 2.0592388343623163, 2.0719132752590443, 2.0681277817795625, 2.063058062429312, 2.0943301541735866, 2.089391872533004, 2.0844290831908747, 2.0980179272527715, 2.0980179272527715, 2.0831845279586703, 2.066862759472976, 2.0844290831908747, 2.0844290831908747, 2.086913556518537, 2.0992441689760155, 2.0980179272527715, 2.1162555148025524, 2.1102132003465894, 2.130609828254235, 2.1471001901536506, 2.1471001901536506, 2.1540850846756014, 2.157559320943788, 2.1482677326096886, 2.1471001901536506, 2.1294214739848565, 2.066862759472976, 2.1041341542702074, 2.0794415416798357, 2.050270164379556, 2.052840859882657, 2.0731719286662407, 2.0731719286662407, 2.081938421878423, 2.0781907597781832, 2.061786606441115, 2.0794415416798357, 2.0794415416798357, 2.050270164379556, 2.0541237336955462, 2.0541237336955462, 2.057962510002712, 2.0541237336955462, 2.0228711901914416, 2.018895041811802, 2.0215475632609334, 2.010894999144726, 2.0014800002101243, 2.0014800002101243, 2.0082140323914683, 2.0014800002101243, 2.004179057179289, 2.0135687975291283, 2.017566137961748, 2.0794415416798357, 2.0943301541735866, 2.1065702090680887, 2.1077860146889784, 2.1041341542702074, 2.0769384114617173, 2.0856720914304723, 2.080690761080268, 2.086913556518537, 2.1041341542702074, 2.0992441689760155, 2.0980179272527715, 2.0943301541735866, 2.0992441689760155, 2.0856720914304723, 2.0794415416798357, 2.0794415416798357, 2.066862759472976, 2.064327903869788, 2.05668455455722, 2.057962510002712, 2.057962510002712, 2.0541237336955462, 2.05668455455722, 2.060513531794317, 2.089391872533004, 2.089391872533004, 2.1041341542702074, 2.1126345090356, 2.1102132003465894, 2.128231705849268, 2.167910189667444, 2.175887439948088, 2.166765369851511, 2.157559320943788, 2.1598687907924505, 2.163323025660538, 2.149433913499871, 2.128231705849268, 2.1294214739848565, 2.135349173618132, 2.1471001901536506, 2.1400661634962708, 2.1424163408412245, 2.122261538862764, 2.1294214739848565, 2.151762203259462, 2.1471001901536506, 2.163323025660538, 2.169053700369523, 2.169053700369523, 2.163323025660538, 2.149433913499871, 2.151762203259462, 2.145931282948669, 2.145931282948669, 2.145931282948669, 2.145931282948669, 2.138889000323256, 2.1126345090356, 2.128231705849268, 2.1234584270966104, 2.122261538862764, 2.122261538862764, 2.1186622548331173, 2.086913556518537, 2.0992441689760155, 2.102913897864978, 2.1004689088719113, 2.0980179272527715, 2.096790180014449, 2.0980179272527715, 2.102913897864978, 2.0930978681273213, 2.1138429683971682, 2.125847914493992, 2.1234584270966104, 2.122261538862764, 2.1138429683971682, 2.1162555148025524, 2.1174596088673567, 2.1162555148025524, 2.1210632163706555, 2.128231705849268, 2.1400661634962708, 2.1435893615035875, 2.1400661634962708, 2.1587147225743437, 2.186051276738094, 2.157559320943788, 2.187174241482718, 2.2364452904895007, 2.222459048514761, 2.2267833795777636, 2.2159372862683733, 2.1972245773362196, 2.200552367428894, 2.191653532286764, 2.186051276738094, 2.1770218700187, 2.180417459019838, 2.174751721484161, 2.1610215286722587, 2.174751721484161, 2.1849270495258133, 2.186051276738094, 2.1815467646169897, 2.1838015570040787, 2.169053700369523, 2.1644717908644115, 2.1587147225743437, 2.1424163408412245, 2.130609828254235, 2.1041341542702074, 2.1090003439213802, 2.1150499691472033, 2.1150499691472033, 2.1186622548331173, 2.1004689088719113, 2.0943301541735866, 2.086913556518537, 2.0918640616783932, 2.0794415416798357, 2.0980179272527715, 2.1065702090680887, 2.1210632163706555, 2.130609828254235, 2.124653884501384, 2.1400661634962708, 2.145931282948669, 2.150598735996164, 2.1471001901536506, 2.150598735996164, 2.157559320943788, 2.1234584270966104, 2.134166441369082, 2.136530508663963, 2.1329823086078656, 2.122261538862764, 2.145931282948669, 2.1400661634962708, 2.151762203259462, 2.151762203259462, 2.151762203259462, 2.162172939277301, 2.180417459019838, 2.169053700369523, 2.175887439948088, 2.174751721484161, 2.175887439948088, 2.1736147116970854, 2.169053700369523, 2.1713368063840917, 2.169053700369523, 2.174751721484161, 2.163323025660538, 2.1412419425852827, 2.1400661634962708, 2.145931282948669, 2.1138429683971682, 2.1424163408412245, 2.1400661634962708, 2.149433913499871, 2.188295946591918, 2.194999882314108, 2.162172939277301, 2.1540850846756014, 2.1644717908644115, 2.1564025828159643, 2.1587147225743437, 2.169053700369523, 2.1713368063840917, 2.157559320943788, 2.163323025660538, 2.189416394888408, 2.163323025660538, 2.169053700369523, 2.169053700369523, 2.163323025660538, 2.162172939277301, 2.157559320943788, 2.138889000323256, 2.0918640616783932, 2.130609828254235, 2.1210632163706555, 2.1114245875328868, 2.128231705849268, 2.1162555148025524, 2.1041341542702074, 2.1041341542702074, 2.096790180014449, 2.136530508663963, 2.1234584270966104, 2.1041341542702074, 2.1090003439213802, 2.102913897864978, 2.0794415416798357, 2.0706530356467567, 2.0706530356467567, 2.0943301541735866, 2.0918640616783932, 2.1114245875328868, 2.1400661634962708, 2.1174596088673567, 2.1162555148025524, 2.0930978681273213, 2.0918640616783932, 2.1174596088673567, 2.1065702090680887, 2.0794415416798357, 2.0794415416798357, 2.105352923464337, 2.0844290831908747, 2.1016921506146558, 2.086913556518537, 2.096790180014449, 2.081938421878423, 2.075684492802124, 2.0844290831908747, 2.0794415416798357, 2.0731719286662407, 2.065596134857783, 2.0082140323914683, 1.9600947840472698, 1.9629077254238845, 1.9726911717329552, 1.9473377010464987, 1.9712993830601329, 1.94876321803772, 1.9416152247724328, 1.922787731634459, 1.8870696490323797, 1.8082887711792655, 1.8500283773520307, 1.8389610707123492, 1.8484548129046001, 1.8484548129046001, 1.8562979903656263, 1.8764069432883397, 1.9358598132018119, 1.9358598132018119, 1.9643112344262046, 1.9080599249242156, 1.8946168546677629, 1.916922612182061, 1.9213246735826988, 1.864080130807681, 1.8718021769015913, 1.9095425048844386, 1.9095425048844386, 1.9065751436566365, 1.944480556245719, 1.9139771019523042, 1.8976198599275322, 1.8687205103641833, 1.8562979903656263, 1.8484548129046001, 1.9286186519452522, 1.9430489167742813, 1.9242486522741338, 1.9416152247724328, 1.9401794743463283, 1.9401794743463283, 1.944480556245719, 1.916922612182061, 1.8870696490323797, 1.8870696490323797, 1.8870696490323797, 1.864080130807681, 1.864080130807681, 1.8531680973566986, 1.851599469584072, 1.8325814637483102, 1.8213182714695995, 1.824549292051046, 1.8082887711792655, 1.8229350866965048, 1.8164520818184267, 1.8164520818184267, 1.80005827204275, 1.80005827204275, 1.791759469228055, 1.7900914121273581, 1.786746927404511, 1.7884205679625405, 1.7934247485471162, 1.900613874140137, 1.9242486522741338, 1.9095425048844386, 1.9110228900548725, 1.888583653863595, 1.8809906029559975, 1.8764069432883397, 1.918392120161421, 1.918392120161421, 1.9242486522741338, 1.890095369948917, 1.937301774518713, 1.9035989509835904, 1.8870696490323797, 1.9035989509835904, 1.9021075263969205, 1.9035989509835904, 1.916922612182061, 1.9387416595767009, 1.9416152247724328, 1.9615022438151493, 1.9726911717329552, 2.0320878452963655, 1.998773638612381, 2.0215475632609334, 2.0014800002101243, 1.9878743481543455, 1.9629077254238845, 1.9459101490553132, 1.9387416595767009, 1.9401794743463283, 1.9387416595767009, 1.9300710850255671, 1.9416152247724328, 1.94876321803772, 1.9558604799084813, 1.9459101490553132, 1.9643112344262046, 1.9643112344262046, 1.9685099809725544, 1.9782390361706736, 1.9823798288367047, 2.0135687975291283, 2.0149030205422647, 2.012232791986386, 2.0255131996542803, 2.0215475632609334, 2.0412203288596382, 2.0476928433652555, 2.0541237336955462, 2.0554049638515948, 2.0149030205422647, 2.046401687601636, 2.0693912058263346, 2.1090003439213802, 2.1174596088673567, 2.138889000323256, 2.128231705849268, 2.134166441369082, 2.1435893615035875, 2.1150499691472033, 2.1210632163706555, 2.134166441369082, 2.131796772013764, 2.1162555148025524, 2.124653884501384, 2.1150499691472033, 2.0980179272527715, 2.0906287310704004, 2.102913897864978, 2.1016921506146558, 2.1102132003465894, 2.128231705849268, 2.124653884501384, 2.127040520479115, 2.127040520479115, 2.134166441369082, 2.131796772013764, 2.1198634561787513, 2.134166441369082, 2.134166441369082, 2.134166441369082, 2.0980179272527715, 2.1210632163706555, 2.1126345090356, 2.1162555148025524, 2.0930978681273213, 2.0881534822818573, 2.0719132752590443, 2.0347056478384444, 2.0412203288596382, 2.066862759472976, 2.064327903869788, 2.065596134857783, 2.081938421878423, 2.0769384114617173, 2.1102132003465894, 2.080690761080268, 2.0918640616783932, 2.0906287310704004, 2.0980179272527715, 2.081938421878423, 2.081938421878423, 2.096790180014449, 2.0794415416798357, 2.0918640616783932, 2.0794415416798357, 2.080690761080268, 2.0794415416798357, 2.0794415416798357, 2.0794415416798357, 2.0794415416798357, 2.0906287310704004, 2.0794415416798357, 2.0856720914304723, 2.080690761080268, 2.081938421878423, 2.0744289998562917, 2.0918640616783932, 2.0918640616783932, 2.0918640616783932, 2.1150499691472033, 2.1138429683971682, 2.1150499691472033, 2.0918640616783932, 2.0744289998562917, 2.0831845279586703, 2.0881534822818573, 2.0980179272527715, 2.0980179272527715, 2.080690761080268, 2.0856720914304723, 2.080690761080268, 2.0294631718735947, 2.0149030205422647, 2.0228711901914416, 2.0347056478384444, 2.028148247292285, 2.0320878452963655, 2.0215475632609334, 2.0541237336955462, 2.060513531794317, 2.0541237336955462, 2.061786606441115, 2.0541237336955462, 2.066862759472976, 2.0781907597781832, 2.075684492802124, 2.05668455455722, 2.0451088625993306, 2.038619547159581, 2.0744289998562917, 2.0794415416798357, 2.0856720914304723, 2.1102132003465894, 2.134166441369082, 2.122261538862764, 2.1016921506146558, 2.1004689088719113, 2.1077860146889784, 2.1150499691472033, 2.1114245875328868, 2.1424163408412245, 2.128231705849268, 2.1329823086078656, 2.136530508663963, 2.1400661634962708, 2.151762203259462, 2.151762203259462, 2.167910189667444, 2.1598687907924505, 2.151762203259462, 2.149433913499871, 2.157559320943788, 2.151762203259462, 2.152924318439639, 2.188295946591918, 2.206074192613202, 2.2192034840549946, 2.214846178686039, 2.1983350716202463, 2.174751721484161, 2.169053700369523, 2.167910189667444, 2.163323025660538, 2.1610215286722587, 2.151762203259462, 2.163323025660538, 2.169053700369523, 2.169053700369523, 2.163323025660538, 2.151762203259462, 2.1482677326096886, 2.157559320943788, 2.163323025660538, 2.169053700369523, 2.1424163408412245, 2.151762203259462, 2.163323025660538, 2.163323025660538, 2.1610215286722587, 2.151762203259462, 2.134166441369082, 2.1186622548331173, 2.1150499691472033, 2.0943301541735866, 2.1198634561787513, 2.1102132003465894, 2.128231705849268, 2.128231705849268, 2.1126345090356, 2.1198634561787513, 2.1210632163706555, 2.162172939277301, 2.1736147116970854, 2.1713368063840917, 2.1540850846756014, 2.1400661634962708, 2.1482677326096886, 2.149433913499871, 2.150598735996164, 2.1424163408412245, 2.167910189667444, 2.1540850846756014, 2.1656192379208883, 2.167910189667444, 2.189416394888408, 2.2159372862683733, 2.2071749081893874, 2.2192034840549946, 2.1983350716202463, 2.2027647577118348, 2.211565694606877, 2.1983350716202463, 2.2049722641270453, 2.224623551524334, 2.2364452904895007, 2.2512917986064953, 2.2669579153508947, 2.2844211223663744, 2.2874714551839976, 2.2762411176544437, 2.256541154492639, 2.255493485460195, 2.262804222982201, 2.2669579153508947, 2.2669579153508947, 2.256541154492639, 2.255493485460195, 2.2834022735772717, 2.2741856184723477, 2.2772672850097555, 2.3025850929940455, 2.3025850929940455, 2.299580583973747, 2.295560478057081, 2.2353763433005955, 2.225704048658088, 2.209372711271867, 2.21046980408624, 2.1972245773362196, 2.1983350716202463, 2.2027647577118348, 2.206074192613202, 2.200552367428894, 2.199444334074532, 2.1972245773362196, 2.2126603854660587, 2.2082744135228043, 2.214846178686039, 2.2321626286975, 2.252343876557299, 2.2460147415056513, 2.2375130962503307, 2.225704048658088, 2.2181159363675955, 2.234306252240751, 2.2321626286975, 2.21375387928743, 2.194999882314108, 2.1972245773362196, 2.1972245773362196, 2.1972245773362196, 2.180417459019838, 2.180417459019838, 2.1983350716202463, 2.192770226986839, 2.2159372862683733, 2.2289385528257473, 2.1972245773362196, 2.178155014615869, 2.1938856760707046, 2.2192034840549946, 2.2235418856535927, 2.217027204632399, 2.2213750375685026, 2.2181159363675955, 2.224623551524334, 2.2407096892759584, 2.2617630984737906, 2.2407096892759584, 2.234306252240751, 2.2126603854660587, 2.2071749081893874, 2.217027204632399, 2.1972245773362196, 2.194999882314108, 2.1972245773362196, 2.21046980408624, 2.21375387928743, 2.2027647577118348, 2.2027647577118348, 2.238579763018133, 2.2353763433005955, 2.2407096892759584, 2.2428350885882717, 2.2417729535972883, 2.2460147415056513, 2.2512917986064953, 2.2407096892759584, 2.2502386126218363, 2.214846178686039, 2.2300144001592104, 2.2407096892759584, 2.2364452904895007, 2.2417729535972883, 2.2460147415056513, 2.2460147415056513, 2.255493485460195, 2.2544447176661104, 2.2669579153508947, 2.263844264677615, 2.272125885509337, 2.2844211223663744, 2.2975725511705014, 2.2874714551839976, 2.294552921296781, 2.3025850929940455, 2.306577114263583, 2.325324579963535, 2.306577114263583, 2.3145136638593193, 2.344686269012681, 2.34660197841082, 2.3513752571634776, 2.3513752571634776, 2.3513752571634776, 2.365559892155434, 2.365559892155434, 2.336986519711378, 2.33214389523559, 2.33214389523559, 2.322387720290225, 2.312535423847214, 2.3105532626432224, 2.3272777055844167, 2.3272777055844167, 2.305580601973844, 2.322387720290225, 2.307572634505085, 2.3025850929940455, 2.306577114263583, 2.3025850929940455, 2.317473705487796, 2.305580601973844, 2.3025850929940455, 2.3085671646715933, 2.309560706730471, 2.318458442150336, 2.3025850929940455, 2.3115448343655176, 2.303584593327129, 2.33214389523559, 2.318458442150336, 2.331172549845958, 2.3340837600534163, 2.3340837600534163, 2.3272777055844167, 2.3272777055844167, 2.3272777055844167, 2.3272777055844167, 2.33214389523559, 2.368372833532048, 2.411439497906128, 2.395164274287139, 2.3942522815198695, 2.402430427963762, 2.406945108318288, 2.3942522815198695, 2.395164274287139, 2.3933394562625097, 2.4042387467205457, 2.388762789235098, 2.411439497906128, 2.39698576841553, 2.39698576841553, 2.388762789235098, 2.390595970316759, 2.3850863145057892, 2.3795461341301736, 2.3749057545736716, 2.3739750890807185, 2.3589654264301534, 2.3427668826268775, 2.333114298028869, 2.316487998163037, 2.336019869080283, 2.3145136638593193, 2.309560706730471, 2.307572634505085, 2.3045830956567186, 2.3272777055844167, 2.3749057545736716, 2.3570732782781154, 2.3570732782781154, 2.349468678892896, 2.3427668826268775, 2.3456445824544927, 2.3282528397426234, 2.34660197841082, 2.336019869080283, 2.322387720290225, 2.3340837600534163, 2.3513752571634776, 2.3513752571634776, 2.3523271848888596, 2.341805806147327, 2.336986519711378, 2.340843805111136, 2.365559892155434, 2.368372833532048, 2.3711778844596574, 2.365559892155434, 2.3664984187376983, 2.3702437414678603, 2.3646204839134985, 2.382320061012899, 2.390595970316759, 2.388762789235098, 2.4168062370840686, 2.4292177439274116, 2.4292177439274116, 2.418588768750352, 2.415913778301049, 2.406945108318288, 2.4042387467205457, 2.3702437414678603, 2.3513752571634776, 2.3542283261458836, 2.330200260027019, 2.3499456643538834, 2.3608540011180215, 2.350422422408206, 2.3608540011180215, 2.3513752571634776, 2.3608540011180215, 2.3933394562625097, 2.386006701133118, 2.359910159613315, 2.3749057545736716, 2.3617969526258915, 2.3589654264301534, 2.336986519711378, 2.322387720290225, 2.3570732782781154, 2.3513752571634776, 2.329227023940467, 2.341805806147327, 2.341805806147327, 2.3282528397426234, 2.322387720290225, 2.340843805111136, 2.33214389523559, 2.331172549845958, 2.336986519711378, 2.3542283261458836, 2.359910159613315, 2.372111155642656, 2.3702437414678603, 2.355177543113216, 2.336986519711378, 2.341805806147327, 2.330200260027019, 2.350422422408206, 2.3513752571634776, 2.3427668826268775, 2.340843805111136, 2.350422422408206, 2.341805806147327, 2.3570732782781154, 2.3739750890807185, 2.378619779270043, 2.3749057545736716, 2.365559892155434, 2.3485140248824456, 2.3702437414678603, 2.3523271848888596, 2.350422422408206, 2.3389170222414357, 2.3340837600534163, 2.329227023940467, 2.3389170222414357, 2.3045830956567186, 2.3243465847755584, 2.3115448343655176, 2.3272777055844167, 2.322387720290225, 2.336986519711378, 2.3427668826268775, 2.347558458636777, 2.3427668826268775, 2.347558458636777, 2.34660197841082, 2.3664984187376983, 2.3749057545736716, 2.3758355547336385, 2.3841650799864684, 2.3832429960115, 2.392425796993835, 2.3693087250369538, 2.388762789235098, 2.3960754360813845, 2.402430427963762, 2.3978952727983707, 2.3978952727983707, 2.395164274287139, 2.390595970316759, 2.402430427963762, 2.3978952727983707, 2.3795461341301736, 2.3933394562625097, 2.3739750890807185, 2.3664984187376983, 2.390595970316759, 2.3795461341301736, 2.378619779270043, 2.382320061012899, 2.382320061012899, 2.3813962734183356, 2.3813962734183356, 2.378619779270043, 2.388762789235098, 2.3997118037247684, 2.406945108318288, 2.424802725718295, 2.4423470353692043, 2.4344901638739844, 2.4561641809223462, 2.4595888418037104, 2.4874035299865875, 2.485739636091892, 2.4932054526026954, 2.5176964726109907, 2.501435951739211, 2.498151876538021, 2.4849066497880004, 2.4807312783775197, 2.5176964726109907, 2.5289235352047745, 2.501435951739211, 2.5087859235779435, 2.501435951739211, 2.4973291697865574, 2.503891949699081, 2.506341930508065, 2.503891949699081, 2.5160822672564502, 2.5176964726109907, 2.50470927708418, 2.509599262378372, 2.506341930508065, 2.5160822672564502, 2.5664866367804233, 2.5680215564985067, 2.5748996883147055, 2.58173083442354, 2.5794589667292236, 2.558776498354456, 2.5680215564985067, 2.5794589667292236, 2.5900171341906173, 2.580216829592325, 2.5710843460290524, 2.560323289072755, 2.561867690924129, 2.557227311367627, 2.550226115908643, 2.5764217586237734, 2.5756610130564646, 2.574137783515943, 2.5726122302071057, 2.5710843460290524, 2.570319527636131, 2.5779415157551897, 2.5680215564985067, 2.569554123848285, 2.567254391136754, 2.557227311367627, 2.563409711275944, 2.553343811341229, 2.5649493574615367, 2.5641798306825083, 2.546315277916644, 2.547098670044448, 2.555675720676208, 2.5649493574615367, 2.5726122302071057, 2.5771819258971713, 2.5764217586237734, 2.5726122302071057, 2.555675720676208, 2.547098670044448, 2.5641798306825083, 2.552565298261815, 2.558002204858551, 2.557227311367627, 2.551786178627545, 2.553343811341229, 2.558002204858551, 2.543961412569315, 2.5494451709255714, 2.546315277916644, 2.5478814489493886, 2.5494451709255714, 2.557227311367627, 2.5649493574615367, 2.5922651681085, 2.589266665112243, 2.6026896854443833, 2.609334228163053, 2.605648267484129, 2.605648267484129, 2.6108048166633746, 2.6217658325051976, 2.631888840136646, 2.6217658325051976, 2.611539300721366, 2.6100697927420065, 2.612273245708441, 2.6100697927420065, 2.6026896854443833, 2.604909442182697, 2.604170070614818, 2.6034301519721073, 2.609334228163053, 2.6275629501895237, 2.6137395216309685, 2.619583219779879, 2.614471854142644, 2.617395832834079, 2.6019486702196644, 2.5847519847577165, 2.583997552432231, 2.587011872725154, 2.587011872725154, 2.5832425505088623, 2.5847519847577165, 2.580216829592325, 2.560323289072755, 2.569554123848285, 2.5710843460290524, 2.583997552432231, 2.591516384846259, 2.60638654732571, 2.6071242825122494, 2.6108048166633746, 2.6078614738467776, 2.6181254935742233, 2.6137395216309685, 2.6026896854443833, 2.612273245708441, 2.6188546222977394, 2.6239436918052106, 2.596000697293587, 2.591516384846259, 2.5764217586237734, 2.591516384846259, 2.614471854142644, 2.613006652415316, 2.622492312740563, 2.626840145676667, 2.617395832834079, 2.6210388241125804, 2.6210388241125804, 2.6361960973342264, 2.6188546222977394, 2.6304489550786583, 2.6454653259105885, 2.640484881606444, 2.6369121732688705, 2.6282852326333477, 2.622492312740563, 2.6152036507358583, 2.609334228163053, 2.617395832834079, 2.6304489550786583, 2.6354795082673745, 2.640484881606444, 2.6166656393003573, 2.6188546222977394, 2.631888840136646, 2.620311286794203, 2.6152036507358583, 2.6100697927420065, 2.613006652415316, 2.6100697927420065, 2.601207105484161, 2.5952547069568657, 2.590767040487478, 2.5832425505088623, 2.5847519847577165, 2.5726122302071057, 2.5726122302071057, 2.5809741185342334, 2.5771819258971713, 2.58173083442354, 2.580216829592325, 2.5764217586237734, 2.5756610130564646, 2.543175557911976, 2.570319527636131, 2.5626389983283526, 2.5626389983283526, 2.5626389983283526, 2.565718292524414, 2.5687881337687024, 2.5756610130564646, 2.5764217586237734, 2.5832425505088623, 2.5748996883147055, 2.569554123848285, 2.574137783515943, 2.548663615590751, 2.5494451709255714, 2.5392369943330477, 2.542389085201363, 2.531313022602156, 2.525728644308255, 2.5209170873110334, 2.531313022602156, 2.5376572151735295, 2.529720665577793, 2.554899021608035, 2.5733752977756086, 2.5726122302071057, 2.5809741185342334, 2.587011872725154, 2.5794589667292236, 2.5764217586237734, 2.5710843460290524, 2.5649493574615367, 2.5794589667292236, 2.58173083442354, 2.617395832834079, 2.60859812213055, 2.5937610547000824, 2.5982353350950036, 2.6019486702196644, 2.5824869781268642, 2.5952547069568657, 2.6004649904222727, 2.604909442182697, 2.5945081597030812, 2.591516384846259, 2.601207105484161, 2.6026896854443833, 2.596000697293587, 2.602319246469968, 2.5945081597030812, 2.604909442182697, 2.605648267484129, 2.6100697927420065, 2.6137395216309685, 2.6239436918052106, 2.6100697927420065, 2.6026896854443833, 2.6026896854443833, 2.589266665112243, 2.5930133911138515, 2.596000697293587, 2.5649493574615367, 2.563409711275944, 2.5626389983283526, 2.5626389983283526, 2.565718292524414, 2.5610957881455465, 2.560323289072755, 2.559550192783766, 2.557227311367627, 2.553343811341229, 2.556451816951096, 2.550226115908643, 2.547098670044448, 2.550226115908643, 2.558002204858551, 2.553343811341229, 2.5478814489493886, 2.546315277916644, 2.546315277916644, 2.5416019934645457, 2.553343811341229, 2.551786178627545, 2.551006451492524, 2.550226115908643, 2.558002204858551, 2.557227311367627, 2.5687881337687024, 2.5832425505088623, 2.5771819258971713, 2.583997552432231, 2.6108048166633746, 2.6411978941143697, 2.604170070614818, 2.6071242825122494, 2.60638654732571, 2.604170070614818, 2.589266665112243, 2.6019486702196644, 2.5967461315435356, 2.5952547069568657, 2.5855058483441162, 2.5771819258971713, 2.580216829592325, 2.58851563240702, 2.5974910105351463, 2.596000697293587, 2.596000697293587, 2.5952547069568657, 2.5726122302071057, 2.5610957881455465, 2.569554123848285, 2.58173083442354, 2.580216829592325, 2.5922651681085, 2.5771819258971713, 2.583997552432231, 2.5664866367804233, 2.5945081597030812, 2.589266665112243, 2.5726122302071057, 2.559550192783766, 2.5649493574615367, 2.5756610130564646, 2.5748996883147055, 2.5756610130564646, 2.580216829592325, 2.5877640352277083, 2.5922651681085, 2.5974910105351463, 2.6019486702196644, 2.6078614738467776, 2.5862591440482876, 2.596000697293587, 2.5967461315435356, 2.5967461315435356, 2.5937610547000824, 2.596000697293587, 2.5779415157551897, 2.5809741185342334, 2.5847519847577165, 2.615934912194404, 2.6004649904222727, 2.611539300721366, 2.6181254935742233, 2.6239436918052106, 2.6253929674212007, 2.626116818339524, 2.617395832834079, 2.620311286794203, 2.626116818339524, 2.60859812213055, 2.614471854142644, 2.6282852326333477, 2.6275629501895237, 2.6297282343267403, 2.6326080059353516, 2.626840145676667, 2.640484881606444, 2.6588599569114386, 2.668616131856803, 2.655352412101761, 2.653945942109009, 2.6518325211039815, 2.6525374911719513, 2.6658383522929006, 2.664446563620078, 2.6623552418400807, 2.667228206581955, 2.6700021334646804, 2.6461747973841225, 2.6411978941143697, 2.639057329615259, 2.6454653259105885, 2.663052835171474, 2.6454653259105885, 2.629006993761757, 2.615934912194404, 2.609334228163053, 2.5855058483441162, 2.5824869781268642, 2.5974910105351463, 2.6071242825122494, 2.60859812213055, 2.5937610547000824, 2.587388024694983, 2.5771819258971713, 2.589266665112243, 2.5756610130564646, 2.5945081597030812, 2.6100697927420065, 2.6232182655855123, 2.6232182655855123, 2.626840145676667, 2.590767040487478, 2.5862591440482876, 2.5922651681085, 2.591516384846259, 2.598979106047848, 2.6034301519721073, 2.5952547069568657, 2.5952547069568657, 2.5945081597030812, 2.6217658325051976, 2.6354795082673745, 2.6361960973342264, 2.644044871126298, 2.6518325211039815, 2.6461747973841225, 2.639057329615259, 2.6397713603489157, 2.640484881606444, 2.6275629501895237, 2.5937610547000824, 2.615934912194404, 2.615934912194404, 2.6282852326333477, 2.6311691567662523, 2.6426223957797546, 2.614471854142644, 2.6326080059353516, 2.6333266549062735, 2.619583219779879, 2.6181254935742233, 2.6210388241125804, 2.611539300721366, 2.6188546222977394, 2.615934912194404, 2.6152036507358583, 2.601207105484161, 2.5726122302071057, 2.555675720676208, 2.5193080765053333, 2.546315277916644, 2.5610957881455465, 2.557227311367627, 2.5641798306825083, 2.5922651681085, 2.546315277916644, 2.523325759691945, 2.529720665577793, 2.5273273656719524, 2.510411940196362, 2.503073953743449, 2.4965057856313524, 2.495681722955959, 2.4782176616372036, 2.506341930508065, 2.503073953743449, 2.510411940196362, 2.506341930508065, 2.5079719227189963, 2.4989739069994363, 2.513656063073986, 2.546315277916644, 2.5494451709255714, 2.5321082512722946, 2.5321082512722946, 2.545531271604435, 2.5718485799218085, 2.58173083442354, 2.5982353350950036, 2.570319527636131, 2.5832425505088623, 2.604170070614818, 2.624668592163159, 2.6217658325051976, 2.6239436918052106, 2.6217658325051976, 2.6239436918052106, 2.6426223957797546, 2.647592232065096, 2.6411978941143697, 2.6546494243750947, 2.643333886382519, 2.6340447877917144, 2.6333266549062735, 2.6483001966964363, 2.6483001966964363, 2.6333266549062735, 2.644755350729896, 2.6354795082673745, 2.6311691567662523, 2.6181254935742233, 2.613006652415316, 2.631888840136646, 2.6232182655855123, 2.6217658325051976, 2.5900171341906173, 2.5862591440482876, 2.5997223242165823, 2.5748996883147055, 2.604909442182697, 2.5967461315435356, 2.596000697293587, 2.604909442182697, 2.5877640352277083, 2.578700529074361, 2.5779415157551897, 2.587011872725154, 2.5832425505088623, 2.5922651681085, 2.580216829592325, 2.5832425505088623, 2.5847519847577165, 2.563409711275944, 2.551006451492524, 2.559550192783766, 2.567254391136754, 2.557227311367627, 2.551786178627545, 2.5764217586237734, 2.6397713603489157, 2.639057329615259, 2.640484881606444, 2.647592232065096, 2.655352412101761, 2.655352412101761, 2.6665335208992764, 2.6616571615324998, 2.670694414558441, 2.671386216730619, 2.6700021334646804, 2.65605490598383, 2.6397713603489157, 2.60638654732571, 2.615934912194404, 2.6369121732688705, 2.673458756332591, 2.6411978941143697, 2.6397713603489157, 2.6347624053323777, 2.626840145676667, 2.649714624089247, 2.655352412101761, 2.6511270537025893, 2.6858045921548905, 2.6748380668960965, 2.6727683869575705, 2.6837575085331657, 2.710048203764883, 2.726544783738374, 2.73046379593911, 2.7212954278522306, 2.706048198431537, 2.7073833121145063, 2.716018370751387, 2.7206373166076814, 2.710048203764883, 2.70805020110221, 2.7140322727797574, 2.7206373166076814, 2.731115474033206, 2.731766727719526, 2.7427736371605955, 2.7343675094195836, 2.751109690562657, 2.726544783738374, 2.7466296830696852, 2.7794401971888836, 2.794839331174601, 2.7825390530929495, 2.7800607370784824, 2.8021475244813256, 2.7899373605743945, 2.7794401971888836, 2.7732135270086236, 2.785628335747585, 2.7862450486872667, 2.7744619666214616, 2.7707119622269207, 2.7644305345383176, 2.760009940032921, 2.776954179749421, 2.7781979610042917, 2.772588722239781, 2.776954179749421, 2.7781979610042917, 2.7750856024383683, 2.768831673362069, 2.7732135270086236, 2.7819200496686656, 2.7813006628418027, 2.7788192719904172, 2.7788192719904172, 2.7794401971888836, 2.7669478423496954, 2.768831673362069, 2.7930039069823738, 2.7899373605743945, 2.7744619666214616, 2.7936160894318567, 2.7960610784249234, 2.7880929087757464, 2.7911651078127173, 2.783157673589016, 2.7893229212309465, 2.811208293204836, 2.7942278973432626, 2.8178010650613294, 2.8207834710894493, 2.8027541365715076, 2.8124102164264526, 2.803360380906535, 2.799108932049177, 2.813610696762703, 2.811208293204836, 2.808800104202353, 2.8172035149987327, 2.8069901489571136, 2.8124102164264526, 2.826129489167811, 2.866761892257031, 2.8780742300857587, 2.8690346205080335, 2.8887037007954675, 2.8701690505786455, 2.8361502037295256, 2.851284369188118, 2.8690346205080335, 2.8864752876170416, 2.8875901149342877, 2.9041650800285006, 2.9041650800285006, 2.896464271895322, 2.884800712846709, 2.893699547988839, 2.9047128751668225, 2.926382195419198, 2.926382195419198, 2.9322598505984176, 2.9311937524164198, 2.928523523860541, 2.9402195636237325, 2.924773184613497, 2.9317269435780786, 2.9231615807191558, 2.9210087273580543, 2.9183111265854063, 2.9269179575536315, 2.9418039315284354, 2.930660276810276, 2.9386326815134183, 2.9391619220655962, 2.9391619220655962, 2.9454910571172443, 2.9616582932202395, 2.968874819384108, 2.9796028916241073, 2.9882040071331994, 2.972975286431375, 2.9801108926510342, 2.9902170928658807, 2.9992261628082466, 3.0061775314155303, 3.000222178826843, 3.0140632302387145, 2.9992261628082466, 2.993730270883318, 2.993730270883318, 2.9745086371023644, 2.961140828784372, 2.9866915289018414, 2.983659692319722, 2.9816333491744893, 2.9734866646066713, 2.9816333491744893, 2.9932291433358724, 2.995232148512309, 2.9932291433358724, 2.9806186357439426, 2.962692419475791, 2.9719517448885875, 2.9486406660201405, 2.9454910571172443, 2.94706710157271, 2.9396908826703663, 2.9412760877579323, 2.9439125248241944, 2.9517803860248084, 2.9699015135194693, 2.955430976780465, 2.9512577834521614, 2.9418039315284354, 2.93651291389402, 2.942331496826876, 2.9269179575536315, 2.916689066213538, 2.8887037007954675, 2.884241897520628, 2.9036169846461855, 2.9047128751668225, 2.9161477942111484, 2.9215473753646144, 2.9317269435780786, 2.9156062290747062, 2.8875901149342877, 2.883682769745368, 2.8931456847788897, 2.9107188992270343, 2.914522218128448, 2.953868069455292, 2.9454910571172443, 2.946016681308058, 2.9595868269176373, 2.9507349076232554, 2.9381031607173544, 2.924773184613497, 2.928523523860541, 2.9279886214674717, 2.9290581402859983, 2.9090844668283187, 2.914522218128448, 2.9079933592459843, 2.8892600290434745, 2.8892600290434745, 2.8780742300857587, 2.8763855159214247, 2.8808824318750488, 2.8864752876170416, 2.8887037007954675, 2.9025198918318122, 2.9079933592459843, 2.9134370308271613, 2.9279886214674717, 2.942331496826876, 2.9407479652212314, 2.9444389791664403, 2.9454910571172443, 2.950211758252182, 2.9569914452375605, 2.946016681308058, 2.946016681308058, 2.929592471049446, 2.932792473780117, 2.9439125248241944, 2.929592471049446, 2.8803214220426634, 2.8437459165561094, 2.8213788864092133, 2.792391349535961, 2.828496354178077, 2.826721730819709, 2.8361502037295256, 2.8201877010390604, 2.8213788864092133, 2.848970892158587, 2.8616292890305104, 2.8808824318750488, 2.8604851241459652, 2.8570447537800976, 2.866192902199006, 2.8610573702273894, 2.8903717578961645, 2.8541687092322037, 2.863913698933143, 2.831447079246135, 2.834389123145228, 2.843163674909384, 2.8449093838194073, 2.8449093838194073, 2.8735646395797834, 2.847812143477369, 2.856470206220483, 2.864483986944037, 2.858766418480834, 2.862200880929468, 2.854744580253014, 2.851861903134289, 2.864483986944037, 2.9418039315284354, 2.9601050959108397, 2.952302715626655, 2.9322598505984176, 2.9668182633893485, 2.9657883971809187, 2.97092715463502, 2.968361076757859, 2.954910279033736, 2.937043277205311, 2.9439125248241944, 2.930660276810276, 2.9338568698359038, 2.950211758252182, 2.9575110607337933, 2.961140828784372, 2.9590682891823996, 2.9564715596006885, 2.9657883971809187, 2.953868069455292, 2.9621754900251482, 2.962692419475791, 2.961140828784372, 2.987700101856727, 2.9866915289018414, 2.9987277825337895, 3.0091419604639085, 3.0027078872904163, 3.012097627640255, 3.0037004432031678, 3.000222178826843, 3.0061775314155303, 3.005682604407159, 3.0076608444192643, 3.0155349008501706, 3.0145540277945786, 3.0076608444192643, 3.0061775314155303, 3.013080911888604, 3.0061775314155303, 3.0007198150650303, 3.000222178826843, 3.005682604407159, 3.041661205442391, 3.038791763014438, 3.0301337002713233, 3.0349529867072724, 3.027715319407042, 3.013080911888604, 3.017982882488811, 3.0199369622508083, 3.0257763949023677, 3.0204248861443626, 3.018960399673198, 3.032064202801381, 3.0325462466767075, 3.0325462466767075, 3.023833703664866, 3.0483247236731614, 3.0359140631868233, 3.039749158970765, 3.0666566118906893, 3.071303460401065, 3.0740812399649675, 3.067122269640664, 3.0661907372025525, 3.068052935133617, 3.0777729838902004, 3.080073421987742, 3.0763901765714454, 3.062455905596899, 3.0647918094854854, 3.0661907372025525, 3.067587710654419, 3.0591764461105257, 3.052112606990099, 3.052112606990099, 3.0430928449138284, 3.045474365448805, 3.0483247236731614, 3.0469005601283903, 3.037353948244811, 3.0349529867072724, 3.041661205442391, 3.0392705755684744, 3.043569602968151, 3.045474365448805, 3.056356895370426, 3.054944133185837, 3.0535293722802077, 3.0832851705618523, 3.0883114548470845, 3.091042453358316, 3.080532875246456, 3.0814511489565284, 3.0846584827483925, 3.086943153607375, 3.080532875246456, 3.075928815548268, 3.0809921175048145, 3.093312601892855, 3.100092288878234, 3.1059310658520665, 3.1036894150590832, 3.0978374964911444, 3.08922261664133, 3.096482176654134, 3.091951131294534, 3.109953417644014, 3.1112906141882632, 3.1250046092581303, 3.1271990362962967, 3.122364924487357, 3.1166215908294443, 3.1059310658520665, 3.1041381473977774, 3.102791345847399, 3.100092288878234, 3.1210424645194377, 3.104586678466073, 3.0991909819222214, 3.100092288878234, 3.087399462079815, 3.0851158346886765, 3.0860299115347716, 3.0937660138253564, 3.094219220268645, 3.089677886396519, 3.08922261664133, 3.067122269640664, 3.061520014091994, 3.0535293722802077, 3.065724645374026, 3.054944133185837, 3.0525850851467737, 3.062455905596899, 3.05870707271538, 3.058237478905388, 3.0535293722802077, 3.046425387869509, 3.0540011816779664, 3.0469005601283903, 3.0516399054922867, 3.056356895370426, 3.055415275715165, 3.0591764461105257, 3.107720775502038, 3.111735949310297, 3.1032404812692764, 3.093312601892855, 3.0955776085237066, 3.096029994869355, 3.098288861879083, 3.0955776085237066, 3.0791538816930633, 3.0860299115347716, 3.094219220268645, 3.086486636822455, 3.0955776085237066, 3.092858984284714, 3.0878555624297968, 3.089677886396519, 3.09058780456667, 3.08922261664133, 3.089677886396519, 3.091951131294534, 3.091042453358316, 3.08876713952118, 3.0814511489565284, 3.086486636822455, 3.084200921541599, 3.068517943279639, 3.0846584827483925, 3.0914968955383704, 3.092858984284714, 3.109060958860994, 3.120159851929043, 3.108167702883779, 3.096029994869355, 3.094672221408894, 3.0717669598299886, 3.0633909220278057, 3.05870707271538, 3.065724645374026, 3.067587710654419, 3.0689827352935835, 3.071303460401065, 3.0717669598299886, 3.05870707271538, 3.064325065019603, 3.067587710654419, 3.073618812211062, 3.0666566118906893, 3.0694473113762717, 3.0851158346886765, 3.0937660138253564, 3.094672221408894, 3.096029994869355, 3.096029994869355, 3.0969341540629585, 3.0991909819222214, 3.102791345847399, 3.109060958860994, 3.119718253334982, 3.1210424645194377, 3.113959654918641, 3.1179499062782403, 3.126760535960395, 3.1350593387750902, 3.139832617527748, 3.132009891846539, 3.1241254883223895, 3.120159851929043, 3.1210424645194377, 3.125443880075648, 3.1250046092581303, 3.1054831375131102, 3.0937660138253564, 3.0855729775537806, 3.094672221408894, 3.09874002362822, 3.09058780456667, 3.102791345847399, 3.107720775502038, 3.1166215908294443, 3.1315734964654043, 3.1359289040472746, 3.147594622863237, 3.1458749319837103, 3.1535903581695712, 3.150596984114906, 3.138099514840913, 3.1561489949598958, 3.154443964708812, 3.1488824530476656, 3.1548704948922883, 3.1548704948922883, 3.160398895109225, 3.159125820462427, 3.1625170911988163, 3.1633631149379418, 3.1616703510974213, 3.1582762027392706, 3.1354942159291497, 3.1432898379116057, 3.1315734964654043, 3.1354942159291497, 3.1376657694426577, 3.1359289040472746, 3.1458749319837103, 3.1531632815028194, 3.1570004211501135, 3.1557230098629323, 3.142858338444285, 3.1376657694426577, 3.1514531485507664, 3.1633631149379418, 3.1535903581695712, 3.145444546782318, 3.1471649773142003, 3.1467351470905185, 3.159550358783386, 3.1826266921930797, 3.19948911106801, 3.2088254890146994, 3.2100368762009963, 3.2100368762009963, 3.201526186533088, 3.2039652121324464, 3.1830413718589847, 3.167161389181522, 3.169265324314866, 3.1620938107692163, 3.1629401925378975, 3.1629401925378975, 3.1376657694426577, 3.125882958019036, 3.125443880075648, 3.132446096869813, 3.1359289040472746, 3.1346242724206097, 3.139399623366404, 3.133753571451366, 3.132446096869813, 3.1458749319837103, 3.1437211512674406, 3.1432898379116057, 3.1432898379116057, 3.1450139762697455, 3.154443964708812, 3.1620938107692163, 3.1612467120315646, 3.1599747169480397, 3.126321843257593, 3.120159851929043, 3.1170645587215158, 3.108167702883779, 3.120159851929043, 3.1188344706879745, 3.1188344706879745, 3.1072736482868986, 3.1032404812692764, 3.104586678466073, 3.1054831375131102, 3.094219220268645, 3.096029994869355, 3.094219220268645, 3.1036894150590832, 3.0991909819222214, 3.107720775502038, 3.096482176654134, 3.102791345847399, 3.1232455938529506, 3.107720775502038, 3.1023420086122493, 3.1041381473977774, 3.109953417644014, 3.1086144306106633, 3.1072736482868986, 3.110399348532117, 3.104586678466073, 3.102791345847399, 3.0991909819222214, 3.100542637906336, 3.1041381473977774, 3.105035008444441, 3.107720775502038, 3.106826321059578, 3.1250046092581303, 3.12060125559986, 3.119718253334982, 3.1219242987917504, 3.133317936506554, 3.145444546782318, 3.133317936506554, 3.139399623366404, 3.1471649773142003, 3.1548704948922883, 3.1535903581695712, 3.1523085805960878, 3.1535903581695712, 3.128951117340214, 3.1432898379116057, 3.125882958019036, 3.12982600803469, 3.1183922862898785, 3.0991909819222214, 3.0754672415728446, 3.073618812211062, 3.0525850851467737, 3.083743150876704, 3.0878555624297968, 3.0823685802135374, 3.075928815548268, 3.0763901765714454, 3.0726933146901194, 3.0819099697950434, 3.067587710654419, 3.070839746040796, 3.064325065019603, 3.0469005601283903, 3.0378334495726262, 3.0368742168851663, 3.033509637888021, 3.038791763014438, 3.0368742168851663, 3.045474365448805, 3.068517943279639, 3.067122269640664, 3.0638581026015914, 3.041661205442391, 3.0218872310308424, 3.046425387869509, 3.0339909856710814, 3.039749158970765, 3.0411835364579085, 3.038312721089109, 3.0473755067058295, 3.050220458838061, 3.045949989714608, 3.038312721089109, 3.0497468618602293, 3.039749158970765, 3.0392705755684744, 3.0325462466767075, 3.0257763949023677, 2.998229153752578, 3.004692014925463, 3.0061775314155303, 3.0106208860477417, 3.0096351787229825, 3.0076608444192643, 3.0017143452315387, 2.987700101856727, 2.9856819377004897, 2.9796028916241073, 2.972463646614637, 2.9780773383152703, 2.989714201228428, 2.983659692319722, 2.9887076586170265, 2.9932291433358724, 2.990719731730447, 2.982140320034524, 2.9927277645336923, 2.961140828784372, 2.9402195636237325, 2.9533465570575532, 2.947591898226056, 2.942331496826876, 2.949164637737656, 2.9396908826703663, 2.9407479652212314, 2.9391619220655962, 2.934388643312939, 2.9338568698359038, 2.932792473780117, 2.937043277205311, 2.9381031607173544, 2.934388643312939, 2.955430976780465, 2.953868069455292, 2.9575110607337933, 2.978586114719021, 2.9714395809849465, 2.9601050959108397, 2.972463646614637, 3.000222178826843, 2.991222118076105, 2.9816333491744893, 2.9861868607104594, 2.970414465569701, 2.9699015135194693, 2.935982269148217, 2.9096295745005794, 2.9052603703899154, 2.8898160479624417, 2.883682769745368, 2.88703285663065, 2.8920370372152258, 2.8881470628740535, 2.8808824318750488, 2.8604851241459652, 2.8290871961450446, 2.8142103969306005, 2.828496354178077, 2.8118094353930627, 2.7997173896280336, 2.8172035149987327, 2.828496354178077, 2.840247370713596, 2.859912550411456, 2.8570447537800976, 2.8713021951758138, 2.8763855159214247, 2.882003508225648, 2.8981194446869907, 2.9161477942111484, 2.8975680247667595, 2.8425810940598164, 2.845490610223448, 2.833213344056216, 2.847812143477369, 2.8326249356838407, 2.836736542063533, 2.850128299695199, 2.87751164216656, 2.862200880929468, 2.8124102164264526, 2.8735646395797834, 2.8616292890305104, 2.859339648648436, 2.8390784635086144, 2.845490610223448, 2.8320361808832013, 2.850128299695199, 2.872999508171694, 2.8684669225081145, 2.89591193827178, 2.87751164216656, 2.8808824318750488, 2.8881470628740535, 2.88703285663065, 2.884800712846709, 2.87976009730157, 2.8903717578961645, 2.8909271591878647, 2.9030685886905716, 2.8931456847788897, 2.8986705607108596, 2.8920370372152258, 2.8859174075467844, 2.9090844668283187, 2.8970163006148333, 2.859339648648436, 2.8627721462977607, 2.865053949911875, 2.8535925063928684, 2.8237570088141806, 2.7837759116303458, 2.799108932049177, 2.826129489167811, 2.8237570088141806, 2.827905162910489, 2.822568654544802, 2.827905162910489, 2.850128299695199, 2.8786365016777435, 2.8903717578961645, 2.896464271895322, 2.8914822521801917, 2.8931456847788897, 2.8746939451769347, 2.869601996409779, 2.8786365016777435, 2.893699547988839, 2.907447358686419, 2.91180703861623, 2.9019708937395166, 2.916689066213538, 2.9402195636237325, 2.9338568698359038, 2.928523523860541, 2.929592471049446, 2.9279886214674717, 2.9338568698359038, 2.935451342669061, 2.9279886214674717, 2.917770732084279, 2.911263116927541, 2.91180703861623, 2.9085390618516134, 2.89480635496403, 2.9014215940827497, 2.915064370486536, 2.915064370486536, 2.9107188992270343, 2.9052603703899154, 2.91180703861623, 2.917770732084279, 2.9161477942111484, 2.929592471049446, 2.916689066213538, 2.922623801733353, 2.9433857931817817, 2.915064370486536, 2.8925915146344776, 2.918851229218033, 2.91180703861623, 2.91180703861623, 2.9161477942111484, 2.9172300453990334, 2.919930560137709, 2.9386326815134183, 2.9465420293632194, 2.933324813425374, 2.9454910571172443, 2.952302715626655, 2.9590682891823996, 2.958549482426275, 2.944965156500338, 2.9517803860248084, 2.961140828784372, 2.9428587839469227, 2.942331496826876, 2.9402195636237325, 2.9301265164559966, 2.9391619220655962, 2.932792473780117, 2.952302715626655, 2.961140828784372, 2.958549482426275, 2.9657883971809187, 2.9290581402859983, 2.9418039315284354, 2.9595868269176373, 2.9386326815134183, 2.928523523860541, 2.9269179575536315, 2.933324813425374, 2.922085733385692, 2.91235066461494, 2.9079933592459843, 2.91180703861623, 2.906354462402774, 2.906354462402774, 2.9128939952449864, 2.91235066461494, 2.9069010598473755, 2.907447358686419, 2.91235066461494, 2.93651291389402, 2.930660276810276, 2.925309809257445, 2.918851229218033, 2.9052603703899154, 2.8981194446869907, 2.9069010598473755, 2.9107188992270343, 2.89977188240808, 2.9107188992270343, 2.914522218128448, 2.9172300453990334, 2.924236271848921, 2.9231615807191558]}, {\"name\": \"Test\", \"type\": \"scatter\", \"x\": [2317, 2318, 2319, 2320, 2321, 2322, 2323, 2324, 2325, 2326, 2327, 2328, 2329, 2330, 2331, 2332, 2333, 2334, 2335, 2336, 2337, 2338, 2339, 2340, 2341, 2342, 2343, 2344, 2345, 2346, 2347, 2348, 2349, 2350, 2351, 2352, 2353, 2354, 2355, 2356, 2357, 2358, 2359, 2360, 2361, 2362, 2363, 2364, 2365, 2366, 2367, 2368, 2369, 2370, 2371, 2372, 2373, 2374, 2375, 2376, 2377, 2378, 2379, 2380, 2381, 2382, 2383, 2384, 2385, 2386, 2387, 2388, 2389, 2390, 2391, 2392, 2393, 2394, 2395, 2396, 2397, 2398, 2399, 2400, 2401, 2402, 2403, 2404, 2405, 2406, 2407, 2408, 2409, 2410, 2411, 2412, 2413, 2414, 2415, 2416, 2417, 2418, 2419, 2420, 2421, 2422, 2423, 2424, 2425, 2426, 2427, 2428, 2429, 2430, 2431, 2432, 2433, 2434, 2435, 2436, 2437, 2438, 2439, 2440, 2441, 2442, 2443, 2444, 2445, 2446, 2447, 2448, 2449, 2450, 2451, 2452, 2453, 2454, 2455, 2456, 2457, 2458, 2459, 2460, 2461, 2462, 2463, 2464, 2465, 2466, 2467, 2468, 2469, 2470, 2471, 2472, 2473, 2474, 2475, 2476, 2477, 2478, 2479, 2480, 2481, 2482, 2483, 2484, 2485, 2486, 2487, 2488, 2489, 2490, 2491, 2492, 2493, 2494, 2495, 2496, 2497, 2498, 2499, 2500, 2501, 2502, 2503, 2504, 2505, 2506, 2507, 2508, 2509, 2510, 2511, 2512, 2513, 2514, 2515, 2516, 2517, 2518, 2519, 2520, 2521, 2522, 2523, 2524, 2525, 2526, 2527, 2528, 2529, 2530, 2531, 2532, 2533, 2534, 2535, 2536, 2537, 2538, 2539, 2540, 2541, 2542, 2543, 2544, 2545, 2546, 2547, 2548, 2549, 2550, 2551, 2552, 2553, 2554, 2555, 2556, 2557, 2558, 2559, 2560, 2561, 2562, 2563, 2564, 2565, 2566, 2567, 2568, 2569, 2570, 2571, 2572, 2573, 2574, 2575, 2576, 2577, 2578, 2579, 2580, 2581, 2582, 2583, 2584, 2585, 2586, 2587, 2588, 2589, 2590, 2591, 2592, 2593, 2594, 2595, 2596, 2597, 2598, 2599, 2600, 2601, 2602, 2603, 2604, 2605, 2606, 2607, 2608, 2609, 2610, 2611, 2612, 2613, 2614, 2615, 2616, 2617, 2618, 2619, 2620, 2621, 2622, 2623, 2624, 2625, 2626, 2627, 2628, 2629, 2630, 2631, 2632, 2633, 2634, 2635, 2636, 2637, 2638, 2639, 2640, 2641, 2642, 2643, 2644, 2645, 2646, 2647, 2648, 2649, 2650, 2651, 2652, 2653, 2654, 2655, 2656, 2657, 2658, 2659, 2660, 2661, 2662, 2663, 2664, 2665, 2666, 2667, 2668, 2669, 2670, 2671, 2672, 2673, 2674, 2675, 2676, 2677, 2678, 2679, 2680, 2681, 2682, 2683, 2684, 2685, 2686, 2687, 2688, 2689, 2690, 2691, 2692, 2693, 2694, 2695, 2696, 2697, 2698, 2699, 2700, 2701, 2702, 2703, 2704, 2705, 2706, 2707, 2708, 2709, 2710, 2711, 2712, 2713, 2714, 2715, 2716, 2717, 2718, 2719, 2720, 2721, 2722, 2723, 2724, 2725, 2726, 2727, 2728, 2729, 2730, 2731, 2732, 2733, 2734, 2735, 2736, 2737, 2738, 2739, 2740, 2741, 2742, 2743, 2744, 2745, 2746, 2747, 2748, 2749, 2750, 2751, 2752, 2753, 2754, 2755, 2756, 2757, 2758, 2759, 2760, 2761, 2762, 2763, 2764, 2765, 2766, 2767, 2768, 2769, 2770, 2771, 2772, 2773, 2774, 2775, 2776, 2777, 2778, 2779, 2780, 2781, 2782, 2783, 2784, 2785, 2786, 2787, 2788, 2789, 2790, 2791, 2792, 2793, 2794, 2795, 2796, 2797, 2798, 2799, 2800, 2801, 2802, 2803, 2804, 2805, 2806, 2807, 2808, 2809, 2810, 2811, 2812, 2813, 2814, 2815, 2816, 2817, 2818, 2819, 2820, 2821, 2822, 2823, 2824, 2825, 2826, 2827, 2828, 2829, 2830, 2831, 2832, 2833, 2834, 2835, 2836, 2837, 2838, 2839, 2840, 2841, 2842, 2843, 2844, 2845, 2846, 2847, 2848, 2849, 2850, 2851, 2852, 2853, 2854, 2855, 2856, 2857, 2858, 2859, 2860, 2861, 2862, 2863, 2864, 2865, 2866, 2867, 2868, 2869, 2870, 2871, 2872, 2873, 2874, 2875, 2876, 2877, 2878, 2879, 2880, 2881, 2882, 2883, 2884, 2885, 2886, 2887, 2888, 2889, 2890, 2891, 2892, 2893, 2894, 2895], \"y\": [2.915064370486536, 2.9069010598473755, 2.9156062290747062, 2.919930560137709, 2.9269179575536315, 2.928523523860541, 2.9349201341572337, 2.962692419475791, 2.9569914452375605, 2.9601050959108397, 2.9668182633893485, 2.968874819384108, 2.9745086371023644, 2.9826470340053355, 2.982140320034524, 2.9871959425317045, 2.9987277825337895, 3.001217203784561, 2.9992261628082466, 2.9882040071331994, 2.9806186357439426, 2.9801108926510342, 2.9801108926510342, 2.9801108926510342, 2.9811261211646287, 2.983659692319722, 2.994231147427724, 2.991222118076105, 2.9932291433358724, 2.991724252156452, 2.9947317732204075, 2.995732273553991, 2.9927277645336923, 2.9882040071331994, 2.9856819377004897, 2.9927277645336923, 2.9932291433358724, 2.987700101856727, 2.9882040071331994, 2.990719731730447, 2.987700101856727, 2.9932291433358724, 2.9902170928658807, 2.991724252156452, 2.993730270883318, 2.995232148512309, 2.995732273553991, 2.9932291433358724, 2.9861868607104594, 3.006672213592325, 3.013080911888604, 3.0086484988205373, 3.0145540277945786, 3.013572191682322, 3.0155349008501706, 3.01651481273652, 3.017982882488811, 3.0281994636914926, 3.027715319407042, 3.038791763014438, 3.0392705755684744, 3.0378334495726262, 3.039749158970765, 3.0392705755684744, 3.031099417391282, 3.0291670496402285, 3.0601145324832593, 3.0773122605464143, 3.067587710654419, 3.0666566118906893, 3.0661907372025525, 3.067122269640664, 3.0819099697950434, 3.0832851705618523, 3.092405160814252, 3.100992784211484, 3.0878555624297968, 3.1018924693823817, 3.1018924693823817, 3.114847754444153, 3.1175073304799117, 3.121483478859551, 3.1250046092581303, 3.121483478859551, 3.1175073304799117, 3.119276459645446, 3.12060125559986, 3.108167702883779, 3.1166215908294443, 3.1232455938529506, 3.1276373444339294, 3.125443880075648, 3.125443880075648, 3.1250046092581303, 3.120159851929043, 3.12060125559986, 3.0955776085237066, 3.100992784211484, 3.0996417369445024, 3.0996417369445024, 3.104586678466073, 3.0878555624297968, 3.075005454448499, 3.0638581026015914, 3.071303460401065, 3.0661907372025525, 3.0722302445267164, 3.0819099697950434, 3.0883114548470845, 3.080073421987742, 3.0791538816930633, 3.0851158346886765, 3.092858984284714, 3.108167702883779, 3.1188344706879745, 3.138966441639899, 3.150596984114906, 3.164630810015805, 3.1608228934195837, 3.171364842197149, 3.1763857732472487, 3.1822118404966093, 3.1888289035159043, 3.1855258451866466, 3.1855258451866466, 3.1747149290824312, 3.1871787381249463, 3.188416617383492, 3.2128577525426376, 3.2072080200005186, 3.1949928844048685, 3.208017081533325, 3.205993199037187, 3.20761263258949, 3.2164729402518906, 3.223664341599998, 3.217274543501227, 3.205993199037187, 3.217675104291682, 3.228430037673012, 3.2011191032789417, 3.19744787745458, 3.1986731175506815, 3.2068032436339315, 3.205993199037187, 3.212455257065278, 3.2100368762009963, 3.2128577525426376, 3.1970391302590264, 3.1921210875593813, 3.196630215920881, 3.1933528676371155, 3.194173212227829, 3.1990811975400213, 3.22525543183224, 3.2414197893030954, 3.2437635403759804, 3.264995760481754, 3.2634667081960758, 3.264231526588998, 3.2726061472891685, 3.2699490950522008, 3.279406324608233, 3.285038027121869, 3.295836866004329, 3.3043193066856684, 3.313822302177155, 3.3243163373261977, 3.318540147981146, 3.3170908723651555, 3.3178157727231046, 3.3210713371828704, 3.329343277894172, 3.3350575791576103, 3.3769046890931107, 3.3833727967496032, 3.411807560774171, 3.4151002868311466, 3.4262151446374434, 3.427189961936409, 3.435598808379488, 3.4534735262275262, 3.4522073025699003, 3.4474446328274753, 3.461665128429245, 3.452524008827496, 3.4407385562826884, 3.436564525499447, 3.4200191359027436, 3.3551534431607486, 3.3816747151732915, 3.4075107437187473, 3.449987545831587, 3.4388142452334622, 3.426865128410733, 3.3488509012899463, 3.3210713371828704, 3.2910104226273997, 3.1608228934195837, 3.2492110246642736, 3.1717842173343502, 3.254242968705492, 3.170945291110651, 3.2188758248682006, 3.1018924693823817, 2.9090844668283187, 3.055886196373738, 3.19948911106801, 3.230804395733475, 3.2264470903645193, 3.19948911106801, 3.2188758248682006, 3.2031528644029645, 3.2168738221975275, 3.18179681662678, 3.285038027121869, 3.306520334720247, 3.3253956682458736, 3.3575937441800234, 3.334701390373791, 3.34603697048488, 3.3090820927543496, 3.3235961356386037, 3.3361253849184407, 3.283539338193923, 3.263849190510932, 3.2924979647388146, 3.305787196857497, 3.2913825156549485, 3.3318473035273626, 3.312001802857684, 3.3250360206965914, 3.2939832973550063, 3.2928695047765273, 3.3032169733019514, 3.3264738354662193, 3.3894621254437345, 3.3796332037463146, 3.391820219849558, 3.3975239762958465, 3.3847291889548488, 3.351656936102019, 3.3488509012899463, 3.3446270301737613, 3.3575937441800234, 3.3386125064705343, 3.3196257279683437, 3.334701390373791, 3.3178157727231046, 3.3207101307494686, 3.3210713371828704, 3.342861804649192, 3.3551534431607486, 3.3368366225017656, 3.3386125064705343, 3.3600281046240843, 3.361069590571376, 3.3614165116503107, 3.3593331775634563, 3.349904087274605, 3.358289880650879, 3.2924979647388146, 3.312730400339825, 3.343568268825519, 3.351306612048691, 3.3775875160230218, 3.4141136069287015, 3.4151002868311466, 3.3921566370100065, 3.3775875160230218, 3.3717685709713434, 3.391820219849558, 3.369362658142137, 3.401863826205316, 3.4307561839036995, 3.4445761049641, 3.4509394735569696, 3.4619788539220138, 3.4769230921902907, 3.4763048541489607, 3.479700443150099, 3.475067230228611, 3.488902962081261, 3.52311998561896, 3.551053137206533, 3.542407550213679, 3.5536323047059106, 3.5533460588187404, 3.551053137206533, 3.531055368920369, 3.547027829873695, 3.5336865647082343, 3.540089380528774, 3.5284172316728752, 3.537765824444175, 3.545874759696932, 3.5536323047059106, 3.554776469590456, 3.544431549748063, 3.5183876490735586, 3.5553480614894135, 3.5325179989895132, 3.521643534738023, 3.494384096388273, 3.499231121933521, 3.499231121933521, 3.499231121933521, 3.502549875922443, 3.4983240923928776, 3.488902962081261, 3.505557396986398, 3.501645852958961, 3.5157158351047473, 3.5076572927632825, 3.501645852958961, 3.497113438491982, 3.5115454388310208, 3.5052570515869337, 3.506457892319648, 3.4959013171314526, 3.482470101790892, 3.4946877247494936, 3.5157158351047473, 3.5049566159530077, 3.5133348815990053, 3.5234150143864045, 3.5467396869528134, 3.543853682063679, 3.544431549748063, 3.5522002551986827, 3.549042508926137, 3.581850881355413, 3.561897992353146, 3.5681232529781366, 3.5923685537330927, 3.613886475072506, 3.6386382376771897, 3.6503984672956546, 3.6788291182604347, 3.675540889674756, 3.6921241842788253, 3.6975913947159578, 3.7268975213014572, 3.7232808808312687, 3.7431308689458525, 3.740997408376043, 3.740997408376043, 3.7431308689458525, 3.759104899003433, 3.738859386418957, 3.7381456954168546, 3.7340917969354845, 3.695855067850362, 3.688629422858727, 3.6816030451431603, 3.6732580732109796, 3.6506582412937387, 3.665098925448533, 3.657130755799356, 3.6696966346971625, 3.6871279210751298, 3.676300671907076, 3.688629422858727, 3.695606774863363, 3.675794214565281, 3.6462328793924637, 3.652734007477583, 3.6783239401744194, 3.6712245188752153, 3.6501386257975055, 3.6540291766781894, 3.6449275665847534, 3.636796374243711, 3.6691868207682004, 3.6848714327163976, 3.680595234526239, 3.6916256797819615, 3.6888794541139363, 3.6998193941522706, 3.714547200862514, 3.7013019741124933, 3.685373314784649, 3.6876286722122837, 3.679586407202344, 3.676300671907076, 3.6666338451666167, 3.6625354787743345, 3.6436205477083212, 3.6686767467964168, 3.674526947889536, 3.6699514442284173, 3.6724959748634123, 3.688129172723232, 3.6936182084611096, 3.6871279210751298, 3.765145809567386, 3.7975096186393853, 3.827553848801696, 3.8450281366038674, 3.864302269216734, 3.8552409913291616, 3.8792931808052273, 3.861571461932048, 3.904998390491182, 3.9589065913269965, 4.012953724006587, 4.01764348729183, 4.018003328965378, 4.014579593753238, 3.9725535051681784, 3.9900945408483017, 3.966511190712216, 3.9684033388642534, 3.95718755738252, 3.9847156908215866, 4.002229273314295, 4.0033251638349325, 3.967646909176143, 3.906004933102583, 3.910622024512518, 3.9154172384961616, 3.9047969603364066, 3.8979240810486444, 3.891207865714226, 3.9001528328576587, 3.9247417778359206, 3.920586236088634, 3.8844462376579116, 3.8809450498572846, 3.883417748417812, 3.855664271758762, 3.8316802527456075, 3.8279890098181366, 3.811318301306514, 3.8179320820285505, 3.7679216614538893, 3.7400477406883357, 3.738859386418957, 3.7302612918927056, 3.790533107840436, 3.783052624131186, 3.76861442213279, 3.7074558396868715, 3.700313831739599, 3.6838669122903918, 3.65687265797885, 3.696351468952637, 3.6965995771290743, 3.7278597537548204, 3.7177098357818132, 3.7140597526442347, 3.696103299203256, 3.667400422436812, 3.6179203651734424, 3.5997749790311153, 3.6189933266497696, 3.6304555339762192, 3.602231647388264, 3.6506582412937387, 3.6653549090669792, 3.6790816116338254, 3.6735119769828146, 3.6768068728796672, 3.7285808209654885, 3.700066643504501, 3.730740908208854, 3.721588628523641, 3.7067193722422673, 3.74879794432518, 3.7539647007698704, 3.759104899003433, 3.7546671946519394, 3.7628266990660193, 3.77413929806476, 3.7089271494177143, 3.7421832261362473, 3.756538102587751, 3.7556030861568446, 3.7621299158535293, 3.7395725684294545, 3.7297814454343623, 3.7230393057606412, 3.7064737625148876, 3.6737658163038884, 3.6485781573404106, 3.6256733782101436, 3.612808017162641, 3.581850881355413, 3.586015818654697, 3.584906863730958, 3.5684053006460617, 3.5452977256359124, 3.5567756134805992, 3.5553480614894135, 3.549904701823348, 3.5898875049069856, 3.6160399079369787, 3.6149637711637683, 3.6068556186353455, 3.594568774642695, 3.609565647394211, 3.6160399079369787, 3.606312730456974, 3.6144252681889886, 3.6109179126442243, 3.612808017162641, 3.62886402170395, 3.6280673147171787, 3.6197972929264925, 3.623540612805596, 3.6230067099632284, 3.6519561000093383, 3.6483178423578133, 3.6735119769828146, 3.643358938812127, 3.6691868207682004, 3.654546775033431, 3.6509179478268177, 3.653511310276145, 3.654546775033431, 3.6470152500152375, 3.6238074573702215, 3.6160399079369787, 3.6251406131469297, 3.636796374243711, 3.630985475695034, 3.666378188767423, 3.6597080768136565, 3.6689318163042404, 3.6747805297344347, 3.6516966629862204, 3.6410013738694724, 3.6315151367243654, 3.6331024386449378, 3.62886402170395, 3.609294974771094, 3.6222053208459437, 3.6280673147171787, 3.636796374243711, 3.6381123370602833, 3.643358938812127, 3.6436205477083212, 3.6357423557008075, 3.64597195310266, 3.658935577740864, 3.647536490579554, 3.6704608685899185, 3.6686767467964168, 3.6488384045767526, 3.663818023518565, 3.6470152500152375, 3.6428355156125294, 3.6125382208572137, 3.594568774642695, 3.584629432740137, 3.5937442589988975, 3.6027767550605247, 3.610647605844363, 3.6041382256588457, 3.6133473915014993, 3.628598523229006, 3.627801604605346, 3.6373229671995344, 3.6333667441836774, 3.6320445173613978, 3.6430972614588084, 3.6464937376174986, 3.6550641056192057, 3.6808472824166723, 3.681351187693145, 3.6901286735143684, 3.6818548391769723, 3.670715483486265, 3.6709700335703683, 3.6615082573178044, 3.654805473780185, 3.666889436222321, 3.6686767467964168, 3.6622787723167574]}, {\"name\": \"Predict\", \"type\": \"scatter\", \"x\": [2850, 2851, 2852, 2853, 2854], \"y\": [3.470705509185791, 3.443459987640381, 3.424234390258789, 3.414137125015259, 3.4227991104125977]}],\n",
              "                        {\"template\": {\"data\": {\"bar\": [{\"error_x\": {\"color\": \"#2a3f5f\"}, \"error_y\": {\"color\": \"#2a3f5f\"}, \"marker\": {\"line\": {\"color\": \"#E5ECF6\", \"width\": 0.5}}, \"type\": \"bar\"}], \"barpolar\": [{\"marker\": {\"line\": {\"color\": \"#E5ECF6\", \"width\": 0.5}}, \"type\": \"barpolar\"}], \"carpet\": [{\"aaxis\": {\"endlinecolor\": \"#2a3f5f\", \"gridcolor\": \"white\", \"linecolor\": \"white\", \"minorgridcolor\": \"white\", \"startlinecolor\": \"#2a3f5f\"}, \"baxis\": {\"endlinecolor\": \"#2a3f5f\", \"gridcolor\": \"white\", \"linecolor\": \"white\", \"minorgridcolor\": \"white\", \"startlinecolor\": \"#2a3f5f\"}, \"type\": \"carpet\"}], \"choropleth\": [{\"colorbar\": {\"outlinewidth\": 0, \"ticks\": \"\"}, \"type\": \"choropleth\"}], \"contour\": [{\"colorbar\": {\"outlinewidth\": 0, \"ticks\": \"\"}, \"colorscale\": [[0.0, \"#0d0887\"], [0.1111111111111111, \"#46039f\"], [0.2222222222222222, \"#7201a8\"], [0.3333333333333333, \"#9c179e\"], [0.4444444444444444, \"#bd3786\"], [0.5555555555555556, \"#d8576b\"], [0.6666666666666666, \"#ed7953\"], [0.7777777777777778, \"#fb9f3a\"], [0.8888888888888888, \"#fdca26\"], [1.0, \"#f0f921\"]], \"type\": \"contour\"}], \"contourcarpet\": [{\"colorbar\": {\"outlinewidth\": 0, \"ticks\": \"\"}, \"type\": \"contourcarpet\"}], \"heatmap\": [{\"colorbar\": {\"outlinewidth\": 0, \"ticks\": \"\"}, \"colorscale\": [[0.0, \"#0d0887\"], [0.1111111111111111, \"#46039f\"], [0.2222222222222222, \"#7201a8\"], [0.3333333333333333, \"#9c179e\"], [0.4444444444444444, \"#bd3786\"], [0.5555555555555556, \"#d8576b\"], [0.6666666666666666, \"#ed7953\"], [0.7777777777777778, \"#fb9f3a\"], [0.8888888888888888, \"#fdca26\"], [1.0, \"#f0f921\"]], \"type\": \"heatmap\"}], \"heatmapgl\": [{\"colorbar\": {\"outlinewidth\": 0, \"ticks\": \"\"}, \"colorscale\": [[0.0, \"#0d0887\"], [0.1111111111111111, \"#46039f\"], [0.2222222222222222, \"#7201a8\"], [0.3333333333333333, \"#9c179e\"], [0.4444444444444444, \"#bd3786\"], [0.5555555555555556, \"#d8576b\"], [0.6666666666666666, \"#ed7953\"], [0.7777777777777778, \"#fb9f3a\"], [0.8888888888888888, \"#fdca26\"], [1.0, \"#f0f921\"]], \"type\": \"heatmapgl\"}], \"histogram\": [{\"marker\": {\"colorbar\": {\"outlinewidth\": 0, \"ticks\": \"\"}}, \"type\": \"histogram\"}], \"histogram2d\": [{\"colorbar\": {\"outlinewidth\": 0, \"ticks\": \"\"}, \"colorscale\": [[0.0, \"#0d0887\"], [0.1111111111111111, \"#46039f\"], [0.2222222222222222, \"#7201a8\"], [0.3333333333333333, \"#9c179e\"], [0.4444444444444444, \"#bd3786\"], [0.5555555555555556, \"#d8576b\"], [0.6666666666666666, \"#ed7953\"], [0.7777777777777778, \"#fb9f3a\"], [0.8888888888888888, \"#fdca26\"], [1.0, \"#f0f921\"]], \"type\": \"histogram2d\"}], \"histogram2dcontour\": [{\"colorbar\": {\"outlinewidth\": 0, \"ticks\": \"\"}, \"colorscale\": [[0.0, \"#0d0887\"], [0.1111111111111111, \"#46039f\"], [0.2222222222222222, \"#7201a8\"], [0.3333333333333333, \"#9c179e\"], [0.4444444444444444, \"#bd3786\"], [0.5555555555555556, \"#d8576b\"], [0.6666666666666666, \"#ed7953\"], [0.7777777777777778, \"#fb9f3a\"], [0.8888888888888888, \"#fdca26\"], [1.0, \"#f0f921\"]], \"type\": \"histogram2dcontour\"}], \"mesh3d\": [{\"colorbar\": {\"outlinewidth\": 0, \"ticks\": \"\"}, \"type\": \"mesh3d\"}], \"parcoords\": [{\"line\": {\"colorbar\": {\"outlinewidth\": 0, \"ticks\": \"\"}}, \"type\": \"parcoords\"}], \"pie\": [{\"automargin\": true, \"type\": \"pie\"}], \"scatter\": [{\"marker\": {\"colorbar\": {\"outlinewidth\": 0, \"ticks\": \"\"}}, \"type\": \"scatter\"}], \"scatter3d\": [{\"line\": {\"colorbar\": {\"outlinewidth\": 0, \"ticks\": \"\"}}, \"marker\": {\"colorbar\": {\"outlinewidth\": 0, \"ticks\": \"\"}}, \"type\": \"scatter3d\"}], \"scattercarpet\": [{\"marker\": {\"colorbar\": {\"outlinewidth\": 0, \"ticks\": \"\"}}, \"type\": \"scattercarpet\"}], \"scattergeo\": [{\"marker\": {\"colorbar\": {\"outlinewidth\": 0, \"ticks\": \"\"}}, \"type\": \"scattergeo\"}], \"scattergl\": [{\"marker\": {\"colorbar\": {\"outlinewidth\": 0, \"ticks\": \"\"}}, \"type\": \"scattergl\"}], \"scattermapbox\": [{\"marker\": {\"colorbar\": {\"outlinewidth\": 0, \"ticks\": \"\"}}, \"type\": \"scattermapbox\"}], \"scatterpolar\": [{\"marker\": {\"colorbar\": {\"outlinewidth\": 0, \"ticks\": \"\"}}, \"type\": \"scatterpolar\"}], \"scatterpolargl\": [{\"marker\": {\"colorbar\": {\"outlinewidth\": 0, \"ticks\": \"\"}}, \"type\": \"scatterpolargl\"}], \"scatterternary\": [{\"marker\": {\"colorbar\": {\"outlinewidth\": 0, \"ticks\": \"\"}}, \"type\": \"scatterternary\"}], \"surface\": [{\"colorbar\": {\"outlinewidth\": 0, \"ticks\": \"\"}, \"colorscale\": [[0.0, \"#0d0887\"], [0.1111111111111111, \"#46039f\"], [0.2222222222222222, \"#7201a8\"], [0.3333333333333333, \"#9c179e\"], [0.4444444444444444, \"#bd3786\"], [0.5555555555555556, \"#d8576b\"], [0.6666666666666666, \"#ed7953\"], [0.7777777777777778, \"#fb9f3a\"], [0.8888888888888888, \"#fdca26\"], [1.0, \"#f0f921\"]], \"type\": \"surface\"}], \"table\": [{\"cells\": {\"fill\": {\"color\": \"#EBF0F8\"}, \"line\": {\"color\": \"white\"}}, \"header\": {\"fill\": {\"color\": \"#C8D4E3\"}, \"line\": {\"color\": \"white\"}}, \"type\": \"table\"}]}, \"layout\": {\"annotationdefaults\": {\"arrowcolor\": \"#2a3f5f\", \"arrowhead\": 0, \"arrowwidth\": 1}, \"coloraxis\": {\"colorbar\": {\"outlinewidth\": 0, \"ticks\": \"\"}}, \"colorscale\": {\"diverging\": [[0, \"#8e0152\"], [0.1, \"#c51b7d\"], [0.2, \"#de77ae\"], [0.3, \"#f1b6da\"], [0.4, \"#fde0ef\"], [0.5, \"#f7f7f7\"], [0.6, \"#e6f5d0\"], [0.7, \"#b8e186\"], [0.8, \"#7fbc41\"], [0.9, \"#4d9221\"], [1, \"#276419\"]], \"sequential\": [[0.0, \"#0d0887\"], [0.1111111111111111, \"#46039f\"], [0.2222222222222222, \"#7201a8\"], [0.3333333333333333, \"#9c179e\"], [0.4444444444444444, \"#bd3786\"], [0.5555555555555556, \"#d8576b\"], [0.6666666666666666, \"#ed7953\"], [0.7777777777777778, \"#fb9f3a\"], [0.8888888888888888, \"#fdca26\"], [1.0, \"#f0f921\"]], \"sequentialminus\": [[0.0, \"#0d0887\"], [0.1111111111111111, \"#46039f\"], [0.2222222222222222, \"#7201a8\"], [0.3333333333333333, \"#9c179e\"], [0.4444444444444444, \"#bd3786\"], [0.5555555555555556, \"#d8576b\"], [0.6666666666666666, \"#ed7953\"], [0.7777777777777778, \"#fb9f3a\"], [0.8888888888888888, \"#fdca26\"], [1.0, \"#f0f921\"]]}, \"colorway\": [\"#636efa\", \"#EF553B\", \"#00cc96\", \"#ab63fa\", \"#FFA15A\", \"#19d3f3\", \"#FF6692\", \"#B6E880\", \"#FF97FF\", \"#FECB52\"], \"font\": {\"color\": \"#2a3f5f\"}, \"geo\": {\"bgcolor\": \"white\", \"lakecolor\": \"white\", \"landcolor\": \"#E5ECF6\", \"showlakes\": true, \"showland\": true, \"subunitcolor\": \"white\"}, \"hoverlabel\": {\"align\": \"left\"}, \"hovermode\": \"closest\", \"mapbox\": {\"style\": \"light\"}, \"paper_bgcolor\": \"white\", \"plot_bgcolor\": \"#E5ECF6\", \"polar\": {\"angularaxis\": {\"gridcolor\": \"white\", \"linecolor\": \"white\", \"ticks\": \"\"}, \"bgcolor\": \"#E5ECF6\", \"radialaxis\": {\"gridcolor\": \"white\", \"linecolor\": \"white\", \"ticks\": \"\"}}, \"scene\": {\"xaxis\": {\"backgroundcolor\": \"#E5ECF6\", \"gridcolor\": \"white\", \"gridwidth\": 2, \"linecolor\": \"white\", \"showbackground\": true, \"ticks\": \"\", \"zerolinecolor\": \"white\"}, \"yaxis\": {\"backgroundcolor\": \"#E5ECF6\", \"gridcolor\": \"white\", \"gridwidth\": 2, \"linecolor\": \"white\", \"showbackground\": true, \"ticks\": \"\", \"zerolinecolor\": \"white\"}, \"zaxis\": {\"backgroundcolor\": \"#E5ECF6\", \"gridcolor\": \"white\", \"gridwidth\": 2, \"linecolor\": \"white\", \"showbackground\": true, \"ticks\": \"\", \"zerolinecolor\": \"white\"}}, \"shapedefaults\": {\"line\": {\"color\": \"#2a3f5f\"}}, \"ternary\": {\"aaxis\": {\"gridcolor\": \"white\", \"linecolor\": \"white\", \"ticks\": \"\"}, \"baxis\": {\"gridcolor\": \"white\", \"linecolor\": \"white\", \"ticks\": \"\"}, \"bgcolor\": \"#E5ECF6\", \"caxis\": {\"gridcolor\": \"white\", \"linecolor\": \"white\", \"ticks\": \"\"}}, \"title\": {\"x\": 0.05}, \"xaxis\": {\"automargin\": true, \"gridcolor\": \"white\", \"linecolor\": \"white\", \"ticks\": \"\", \"title\": {\"standoff\": 15}, \"zerolinecolor\": \"white\", \"zerolinewidth\": 2}, \"yaxis\": {\"automargin\": true, \"gridcolor\": \"white\", \"linecolor\": \"white\", \"ticks\": \"\", \"title\": {\"standoff\": 15}, \"zerolinecolor\": \"white\", \"zerolinewidth\": 2}}}},\n",
              "                        {\"responsive\": true}\n",
              "                    ).then(function(){\n",
              "                            \n",
              "var gd = document.getElementById('7be2d971-c2f7-419e-b56e-b6c43297a47e');\n",
              "var x = new MutationObserver(function (mutations, observer) {{\n",
              "        var display = window.getComputedStyle(gd).display;\n",
              "        if (!display || display === 'none') {{\n",
              "            console.log([gd, 'removed!']);\n",
              "            Plotly.purge(gd);\n",
              "            observer.disconnect();\n",
              "        }}\n",
              "}});\n",
              "\n",
              "// Listen for the removal of the full notebook cells\n",
              "var notebookContainer = gd.closest('#notebook-container');\n",
              "if (notebookContainer) {{\n",
              "    x.observe(notebookContainer, {childList: true});\n",
              "}}\n",
              "\n",
              "// Listen for the clearing of the current output cell\n",
              "var outputEl = gd.closest('.output');\n",
              "if (outputEl) {{\n",
              "    x.observe(outputEl, {childList: true});\n",
              "}}\n",
              "\n",
              "                        })\n",
              "                };\n",
              "                \n",
              "            </script>\n",
              "        </div>\n",
              "</body>\n",
              "</html>"
            ]
          },
          "metadata": {}
        },
        {
          "output_type": "stream",
          "name": "stdout",
          "text": [
            "533 2317 579 2850\n"
          ]
        },
        {
          "output_type": "execute_result",
          "data": {
            "text/html": [
              "<div>\n",
              "<style scoped>\n",
              "    .dataframe tbody tr th:only-of-type {\n",
              "        vertical-align: middle;\n",
              "    }\n",
              "\n",
              "    .dataframe tbody tr th {\n",
              "        vertical-align: top;\n",
              "    }\n",
              "\n",
              "    .dataframe thead th {\n",
              "        text-align: right;\n",
              "    }\n",
              "</style>\n",
              "<table border=\"1\" class=\"dataframe\">\n",
              "  <thead>\n",
              "    <tr style=\"text-align: right;\">\n",
              "      <th></th>\n",
              "      <th>price</th>\n",
              "    </tr>\n",
              "    <tr>\n",
              "      <th>idx</th>\n",
              "      <th></th>\n",
              "    </tr>\n",
              "  </thead>\n",
              "  <tbody>\n",
              "    <tr>\n",
              "      <th>2850</th>\n",
              "      <td>3.470706</td>\n",
              "    </tr>\n",
              "    <tr>\n",
              "      <th>2851</th>\n",
              "      <td>3.443460</td>\n",
              "    </tr>\n",
              "    <tr>\n",
              "      <th>2852</th>\n",
              "      <td>3.424234</td>\n",
              "    </tr>\n",
              "    <tr>\n",
              "      <th>2853</th>\n",
              "      <td>3.414137</td>\n",
              "    </tr>\n",
              "    <tr>\n",
              "      <th>2854</th>\n",
              "      <td>3.422799</td>\n",
              "    </tr>\n",
              "  </tbody>\n",
              "</table>\n",
              "</div>"
            ],
            "text/plain": [
              "         price\n",
              "idx           \n",
              "2850  3.470706\n",
              "2851  3.443460\n",
              "2852  3.424234\n",
              "2853  3.414137\n",
              "2854  3.422799"
            ]
          },
          "metadata": {},
          "execution_count": 42
        }
      ]
    },
    {
      "cell_type": "markdown",
      "metadata": {
        "id": "m7tE_itGbKB4"
      },
      "source": [
        "# Hyperparameter Tuning"
      ]
    },
    {
      "cell_type": "code",
      "metadata": {
        "id": "Rh1Faq5P8BgX"
      },
      "source": [
        "def build_tuner_model(hp):\n",
        "  \"\"\"\n",
        "  \"\"\"\n",
        "  # Clear previous session\n",
        "  backend.clear_session()\n",
        "\n",
        "  # searchable parameters\n",
        "  lstm_nodes    = hp.Choice('lstm_units',values=LSTM_UNITS)\n",
        "  dense_nodes   = hp.Choice('dense_units',values=DENSE)\n",
        "  dropout_lstm  = hp.Choice('lstm_dropout',values=DROPOUT_LSTM)\n",
        "  dropout_dense = hp.Choice('dense_dropout',values=DROPOUT_DENSE)\n",
        "  learn_rate    = hp.Choice('learn_rate',values = LEARN_RATE)\n",
        "\n",
        "\n",
        "  # LSTM Model+ first layer\n",
        "  model = Sequential()\n",
        "  model.add(LSTM(N_STEPS,return_sequences=True,input_shape=(N_STEPS,N_FEATURES)))\n",
        "\n",
        "\n",
        "  # add layers\n",
        "  model.add(LSTM(units=lstm_nodes,return_sequences=True))\n",
        "  model.add(Dropout(dropout_lstm))\n",
        "  model.add(LSTM(lstm_nodes//2,return_sequences=False))\n",
        "  model.add(Dropout(max(0.1,dropout_lstm//2)))\n",
        "  model.add(Dense(units=dense_nodes))\n",
        "  model.add(Dropout(dropout_dense))\n",
        "  model.add(Dense(dense_nodes//2))\n",
        "  model.add(Dropout(max(0.1,dropout_dense//2)))\n",
        "\n",
        "  # add prediction layer\n",
        "  model.add(Dense(5))\n",
        "\n",
        "  # compile\n",
        "  model.compile(loss='mse',optimizer =tf.keras.optimizers.Adam(learning_rate=learn_rate))\n",
        "  model.summary()\n",
        "\n",
        "  return model"
      ],
      "execution_count": 20,
      "outputs": []
    },
    {
      "cell_type": "markdown",
      "metadata": {
        "id": "t0Mf550SB8yf"
      },
      "source": [
        "#### BTC - Tuning"
      ]
    },
    {
      "cell_type": "code",
      "metadata": {
        "colab": {
          "base_uri": "https://localhost:8080/"
        },
        "id": "R1vPCgLTbRsi",
        "outputId": "3ca2c987-2318-47a4-e769-92bfcbca2d3a"
      },
      "source": [
        "# batch_size\n",
        "# BTC - tuned with optimzed features\n",
        "\n",
        "# Searchable hyperparameters\n",
        "LSTM_UNITS    = [256,512,1024,2048]\n",
        "DENSE         = [128,256,512,1024,2048]\n",
        "DROPOUT_LSTM  = [0.1,0.20,0.3,0.50]\n",
        "DROPOUT_DENSE = [0.1,0.20,0.3,0.50]\n",
        "N_FEATURES    = x_train.shape[2]\n",
        "N_STEPS       = config['data']['n_steps']\n",
        "N_PREDICT     = config['data']['n_predict']\n",
        "LEARN_RATE    = [0.001,0.0001]\n",
        "\n",
        "# initialize\n",
        "hp = kt.HyperParameters()\n",
        "# batch_size = hp.Int('batch_size',32,256,step=32)\n",
        "\n",
        "# Setup the Tuner\n",
        "tuner = Hyperband(\n",
        "    build_tuner_model,\n",
        "    max_epochs = 50,\n",
        "    objective = 'val_loss', \n",
        "    directory = 'tune_hyperband',\n",
        "    project_name = 'prices_tune_hyperband',\n",
        "    overwrite = True\n",
        ")\n",
        "\n",
        "# Implement early stopping\n",
        "stop_early = tf.keras.callbacks.EarlyStopping(monitor='val_loss', patience=5)\n",
        "\n",
        "\n",
        "# Perform hyper\n",
        "tuner.search(x_train,\n",
        "             y_train,\n",
        "             batch_size = 128,\n",
        "             epochs = 50,\n",
        "             validation_split=0.10,\n",
        "             callbacks=[stop_early]\n",
        ")\n",
        "\n",
        "\n",
        "\n",
        "# Get the optimal hyperparameters\n",
        "best_hps=tuner.get_best_hyperparameters(num_trials=1)[0]\n",
        "best_model = tuner.get_best_models(num_models=1)[0]\n",
        "\n",
        "print(\"Hyperparmeter Search\")\n",
        "print(\"=\"*60)\n",
        "print(f\"First LSTM Node Size:          {best_hps.get('lstm_units')}\")\n",
        "print(f\"First LSTM Dropout Rate:       {best_hps.get('lstm_dropout')}\")\n",
        "print(f\"Second LSTM Node Size:         {best_hps.get('lstm_units')//2}\")\n",
        "print(f\"Second LSTM Dropout Rate:      {max(0.1,best_hps.get('lstm_dropout')//2)}\")\n",
        "print(f\"First Dense Node Size:         {best_hps.get('dense_units')}\")\n",
        "print(f\"First Dense Node Droput Rate:  {best_hps.get('dense_dropout')}\")\n",
        "print(f\"Second Dense Node Size:        {best_hps.get('dense_units')//2}\")\n",
        "print(f\"Second Dense Node Dropout Rate:{max(0.1,best_hps.get('dense_dropout')//2)}\")\n",
        "print(f\"Learning Rate:                 {best_hps.get('learn_rate')}\")\n",
        "\n",
        "\n",
        "print('\\n\\n')\n",
        "# show the optimal hyperparameters\n",
        "tuner.oracle.get_best_trials(num_trials=1)[0].hyperparameters.values\n"
      ],
      "execution_count": 23,
      "outputs": [
        {
          "output_type": "stream",
          "name": "stdout",
          "text": [
            "Trial 90 Complete [00h 01m 39s]\n",
            "val_loss: 0.0005997736006975174\n",
            "\n",
            "Best val_loss So Far: 0.00035921321250498295\n",
            "Total elapsed time: 00h 32m 06s\n",
            "INFO:tensorflow:Oracle triggered exit\n",
            "Model: \"sequential\"\n",
            "_________________________________________________________________\n",
            "Layer (type)                 Output Shape              Param #   \n",
            "=================================================================\n",
            "lstm (LSTM)                  (None, 40, 40)            8800      \n",
            "_________________________________________________________________\n",
            "lstm_1 (LSTM)                (None, 40, 1024)          4362240   \n",
            "_________________________________________________________________\n",
            "dropout (Dropout)            (None, 40, 1024)          0         \n",
            "_________________________________________________________________\n",
            "lstm_2 (LSTM)                (None, 512)               3147776   \n",
            "_________________________________________________________________\n",
            "dropout_1 (Dropout)          (None, 512)               0         \n",
            "_________________________________________________________________\n",
            "dense (Dense)                (None, 256)               131328    \n",
            "_________________________________________________________________\n",
            "dropout_2 (Dropout)          (None, 256)               0         \n",
            "_________________________________________________________________\n",
            "dense_1 (Dense)              (None, 128)               32896     \n",
            "_________________________________________________________________\n",
            "dropout_3 (Dropout)          (None, 128)               0         \n",
            "_________________________________________________________________\n",
            "dense_2 (Dense)              (None, 5)                 645       \n",
            "=================================================================\n",
            "Total params: 7,683,685\n",
            "Trainable params: 7,683,685\n",
            "Non-trainable params: 0\n",
            "_________________________________________________________________\n",
            "Hyperparmeter Search\n",
            "============================================================\n",
            "First LSTM Node Size:          1024\n",
            "First LSTM Dropout Rate:       0.3\n",
            "Second LSTM Node Size:         512\n",
            "Second LSTM Dropout Rate:      0.1\n",
            "First Dense Node Size:         256\n",
            "First Dense Node Droput Rate:  0.2\n",
            "Second Dense Node Size:        128\n",
            "Second Dense Node Dropout Rate:0.1\n",
            "Learning Rate:                 0.001\n",
            "\n",
            "\n",
            "\n"
          ]
        },
        {
          "output_type": "execute_result",
          "data": {
            "text/plain": [
              "{'dense_dropout': 0.2,\n",
              " 'dense_units': 256,\n",
              " 'learn_rate': 0.001,\n",
              " 'lstm_dropout': 0.3,\n",
              " 'lstm_units': 1024,\n",
              " 'tuner/bracket': 0,\n",
              " 'tuner/epochs': 50,\n",
              " 'tuner/initial_epoch': 0,\n",
              " 'tuner/round': 0}"
            ]
          },
          "metadata": {},
          "execution_count": 23
        }
      ]
    },
    {
      "cell_type": "markdown",
      "metadata": {
        "id": "6TlbTrujCAbQ"
      },
      "source": [
        "#### VM Ware Tuning"
      ]
    },
    {
      "cell_type": "code",
      "metadata": {
        "colab": {
          "base_uri": "https://localhost:8080/"
        },
        "id": "hGgjGO-oBsXR",
        "outputId": "6042300d-4cb9-4d33-e84c-d6c965355e90"
      },
      "source": [
        "# batch_size\n",
        "# VM Ware - tuned with all features\n",
        "\n",
        "# Searchable hyperparameters\n",
        "LSTM_UNITS    = [256,512,1024,2048]\n",
        "DENSE         = [128,256,512,1024,2048]\n",
        "DROPOUT_LSTM  = [0.1,0.20,0.3,0.50]\n",
        "DROPOUT_DENSE = [0.1,0.20,0.3,0.50]\n",
        "N_FEATURES    = x_train.shape[2]\n",
        "N_STEPS       = config['data']['n_steps']\n",
        "N_PREDICT     = config['data']['n_predict']\n",
        "LEARN_RATE    = [0.001,0.0001]\n",
        "\n",
        "# initialize\n",
        "hp = kt.HyperParameters()\n",
        "# batch_size = hp.Int('batch_size',32,256,step=32)\n",
        "\n",
        "# Setup the Tuner\n",
        "tuner = Hyperband(\n",
        "    build_tuner_model,\n",
        "    max_epochs = 50,\n",
        "    objective = 'val_loss', \n",
        "    directory = 'tune_hyperband',\n",
        "    project_name = 'prices_tune_hyperband',\n",
        "    overwrite = True\n",
        ")\n",
        "\n",
        "# Implement early stopping\n",
        "stop_early = tf.keras.callbacks.EarlyStopping(monitor='val_loss', patience=5)\n",
        "\n",
        "\n",
        "# Perform hyper\n",
        "tuner.search(x_train,\n",
        "             y_train,\n",
        "             batch_size = 128,\n",
        "             epochs = 50,\n",
        "             validation_split=0.10,\n",
        "             callbacks=[stop_early]\n",
        ")\n",
        "\n",
        "\n",
        "\n",
        "# Get the optimal hyperparameters\n",
        "best_hps=tuner.get_best_hyperparameters(num_trials=1)[0]\n",
        "best_model = tuner.get_best_models(num_models=1)[0]\n",
        "\n",
        "print(\"Hyperparmeter Search\")\n",
        "print(\"=\"*60)\n",
        "print(f\"First LSTM Node Size:          {best_hps.get('lstm_units')}\")\n",
        "print(f\"First LSTM Dropout Rate:       {best_hps.get('lstm_dropout')}\")\n",
        "print(f\"Second LSTM Node Size:         {best_hps.get('lstm_units')//2}\")\n",
        "print(f\"Second LSTM Dropout Rate:      {max(0.1,best_hps.get('lstm_dropout')//2)}\")\n",
        "print(f\"First Dense Node Size:         {best_hps.get('dense_units')}\")\n",
        "print(f\"First Dense Node Droput Rate:  {best_hps.get('dense_dropout')}\")\n",
        "print(f\"Second Dense Node Size:        {best_hps.get('dense_units')//2}\")\n",
        "print(f\"Second Dense Node Dropout Rate:{max(0.1,best_hps.get('dense_dropout')//2)}\")\n",
        "print(f\"Learning Rate:                 {best_hps.get('learn_rate')}\")\n",
        "\n",
        "\n",
        "print('\\n\\n')\n",
        "# show the optimal hyperparameters\n",
        "tuner.oracle.get_best_trials(num_trials=1)[0].hyperparameters.values"
      ],
      "execution_count": 32,
      "outputs": [
        {
          "output_type": "stream",
          "name": "stdout",
          "text": [
            "Trial 90 Complete [00h 02m 42s]\n",
            "val_loss: 0.0016828429652377963\n",
            "\n",
            "Best val_loss So Far: 0.0013963136589154601\n",
            "Total elapsed time: 00h 48m 12s\n",
            "INFO:tensorflow:Oracle triggered exit\n"
          ]
        },
        {
          "output_type": "stream",
          "name": "stderr",
          "text": [
            "INFO:tensorflow:Oracle triggered exit\n"
          ]
        },
        {
          "output_type": "stream",
          "name": "stdout",
          "text": [
            "Model: \"sequential\"\n",
            "_________________________________________________________________\n",
            "Layer (type)                 Output Shape              Param #   \n",
            "=================================================================\n",
            "lstm (LSTM)                  (None, 40, 40)            11040     \n",
            "_________________________________________________________________\n",
            "lstm_1 (LSTM)                (None, 40, 256)           304128    \n",
            "_________________________________________________________________\n",
            "dropout (Dropout)            (None, 40, 256)           0         \n",
            "_________________________________________________________________\n",
            "lstm_2 (LSTM)                (None, 128)               197120    \n",
            "_________________________________________________________________\n",
            "dropout_1 (Dropout)          (None, 128)               0         \n",
            "_________________________________________________________________\n",
            "dense (Dense)                (None, 1024)              132096    \n",
            "_________________________________________________________________\n",
            "dropout_2 (Dropout)          (None, 1024)              0         \n",
            "_________________________________________________________________\n",
            "dense_1 (Dense)              (None, 512)               524800    \n",
            "_________________________________________________________________\n",
            "dropout_3 (Dropout)          (None, 512)               0         \n",
            "_________________________________________________________________\n",
            "dense_2 (Dense)              (None, 5)                 2565      \n",
            "=================================================================\n",
            "Total params: 1,171,749\n",
            "Trainable params: 1,171,749\n",
            "Non-trainable params: 0\n",
            "_________________________________________________________________\n",
            "WARNING:tensorflow:Unresolved object in checkpoint: (root).optimizer.iter\n"
          ]
        },
        {
          "output_type": "stream",
          "name": "stderr",
          "text": [
            "WARNING:tensorflow:Unresolved object in checkpoint: (root).optimizer.iter\n"
          ]
        },
        {
          "output_type": "stream",
          "name": "stdout",
          "text": [
            "WARNING:tensorflow:Unresolved object in checkpoint: (root).optimizer.beta_1\n"
          ]
        },
        {
          "output_type": "stream",
          "name": "stderr",
          "text": [
            "WARNING:tensorflow:Unresolved object in checkpoint: (root).optimizer.beta_1\n"
          ]
        },
        {
          "output_type": "stream",
          "name": "stdout",
          "text": [
            "WARNING:tensorflow:Unresolved object in checkpoint: (root).optimizer.beta_2\n"
          ]
        },
        {
          "output_type": "stream",
          "name": "stderr",
          "text": [
            "WARNING:tensorflow:Unresolved object in checkpoint: (root).optimizer.beta_2\n"
          ]
        },
        {
          "output_type": "stream",
          "name": "stdout",
          "text": [
            "WARNING:tensorflow:Unresolved object in checkpoint: (root).optimizer.decay\n"
          ]
        },
        {
          "output_type": "stream",
          "name": "stderr",
          "text": [
            "WARNING:tensorflow:Unresolved object in checkpoint: (root).optimizer.decay\n"
          ]
        },
        {
          "output_type": "stream",
          "name": "stdout",
          "text": [
            "WARNING:tensorflow:Unresolved object in checkpoint: (root).optimizer.learning_rate\n"
          ]
        },
        {
          "output_type": "stream",
          "name": "stderr",
          "text": [
            "WARNING:tensorflow:Unresolved object in checkpoint: (root).optimizer.learning_rate\n"
          ]
        },
        {
          "output_type": "stream",
          "name": "stdout",
          "text": [
            "WARNING:tensorflow:A checkpoint was restored (e.g. tf.train.Checkpoint.restore or tf.keras.Model.load_weights) but not all checkpointed values were used. See above for specific issues. Use expect_partial() on the load status object, e.g. tf.train.Checkpoint.restore(...).expect_partial(), to silence these warnings, or use assert_consumed() to make the check explicit. See https://www.tensorflow.org/guide/checkpoint#loading_mechanics for details.\n"
          ]
        },
        {
          "output_type": "stream",
          "name": "stderr",
          "text": [
            "WARNING:tensorflow:A checkpoint was restored (e.g. tf.train.Checkpoint.restore or tf.keras.Model.load_weights) but not all checkpointed values were used. See above for specific issues. Use expect_partial() on the load status object, e.g. tf.train.Checkpoint.restore(...).expect_partial(), to silence these warnings, or use assert_consumed() to make the check explicit. See https://www.tensorflow.org/guide/checkpoint#loading_mechanics for details.\n"
          ]
        },
        {
          "output_type": "stream",
          "name": "stdout",
          "text": [
            "Hyperparmeter Search\n",
            "============================================================\n",
            "First LSTM Node Size:          256\n",
            "First LSTM Dropout Rate:       0.2\n",
            "Second LSTM Node Size:         128\n",
            "Second LSTM Dropout Rate:      0.1\n",
            "First Dense Node Size:         1024\n",
            "First Dense Node Droput Rate:  0.1\n",
            "Second Dense Node Size:        512\n",
            "Second Dense Node Dropout Rate:0.1\n",
            "Learning Rate:                 0.001\n",
            "\n",
            "\n",
            "\n"
          ]
        },
        {
          "output_type": "execute_result",
          "data": {
            "text/plain": [
              "{'dense_dropout': 0.1,\n",
              " 'dense_units': 1024,\n",
              " 'learn_rate': 0.001,\n",
              " 'lstm_dropout': 0.2,\n",
              " 'lstm_units': 256,\n",
              " 'tuner/bracket': 2,\n",
              " 'tuner/epochs': 17,\n",
              " 'tuner/initial_epoch': 6,\n",
              " 'tuner/round': 1,\n",
              " 'tuner/trial_id': 'd651267c803a3a4a29afc56ce0e8d32c'}"
            ]
          },
          "metadata": {},
          "execution_count": 32
        }
      ]
    },
    {
      "cell_type": "markdown",
      "metadata": {
        "id": "-2ESaGK8CEH_"
      },
      "source": [
        "#### BLX Tuning"
      ]
    },
    {
      "cell_type": "code",
      "metadata": {
        "colab": {
          "base_uri": "https://localhost:8080/"
        },
        "id": "Y72VcG2HCEdE",
        "outputId": "288ef145-0187-491c-8109-f586fe47a142"
      },
      "source": [
        "\n",
        "# BLX.TO -tuned with optimal features\n",
        "\n",
        "# Searchable hyperparameters\n",
        "LSTM_UNITS    = [256,512,1024,2048]\n",
        "DENSE         = [128,256,512,1024,2048]\n",
        "DROPOUT_LSTM  = [0.1,0.20,0.3,0.50]\n",
        "DROPOUT_DENSE = [0.1,0.20,0.3,0.50]\n",
        "N_FEATURES    = x_train.shape[2]\n",
        "N_STEPS       = config['data']['n_steps']\n",
        "N_PREDICT     = config['data']['n_predict']\n",
        "LEARN_RATE    = [0.001,0.0001]\n",
        "\n",
        "# initialize\n",
        "hp = kt.HyperParameters()\n",
        "# batch_size = hp.Int('batch_size',32,256,step=32)\n",
        "\n",
        "# Setup the Tuner\n",
        "tuner = Hyperband(\n",
        "    build_tuner_model,\n",
        "    max_epochs = 50,\n",
        "    objective = 'val_loss', \n",
        "    directory = 'tune_hyperband',\n",
        "    project_name = 'prices_tune_hyperband',\n",
        "    overwrite = True\n",
        ")\n",
        "\n",
        "# Implement early stopping\n",
        "stop_early = tf.keras.callbacks.EarlyStopping(monitor='val_loss', patience=5)\n",
        "\n",
        "\n",
        "# Perform hyper\n",
        "tuner.search(x_train,\n",
        "             y_train,\n",
        "             batch_size = 128,\n",
        "             epochs = 50,\n",
        "             validation_split=0.10,\n",
        "             callbacks=[stop_early]\n",
        ")\n",
        "\n",
        "\n",
        "\n",
        "# Get the optimal hyperparameters\n",
        "best_hps=tuner.get_best_hyperparameters(num_trials=1)[0]\n",
        "best_model = tuner.get_best_models(num_models=1)[0]\n",
        "\n",
        "print(\"Hyperparmeter Search\")\n",
        "print(\"=\"*60)\n",
        "print(f\"First LSTM Node Size:          {best_hps.get('lstm_units')}\")\n",
        "print(f\"First LSTM Dropout Rate:       {best_hps.get('lstm_dropout')}\")\n",
        "print(f\"Second LSTM Node Size:         {best_hps.get('lstm_units')//2}\")\n",
        "print(f\"Second LSTM Dropout Rate:      {max(0.1,best_hps.get('lstm_dropout')//2)}\")\n",
        "print(f\"First Dense Node Size:         {best_hps.get('dense_units')}\")\n",
        "print(f\"First Dense Node Droput Rate:  {best_hps.get('dense_dropout')}\")\n",
        "print(f\"Second Dense Node Size:        {best_hps.get('dense_units')//2}\")\n",
        "print(f\"Second Dense Node Dropout Rate:{max(0.1,best_hps.get('dense_dropout')//2)}\")\n",
        "print(f\"Learning Rate:                 {best_hps.get('learn_rate')}\")\n",
        "\n",
        "\n",
        "print('\\n\\n')\n",
        "# show the optimal hyperparameters\n",
        "tuner.oracle.get_best_trials(num_trials=1)[0].hyperparameters.values"
      ],
      "execution_count": 34,
      "outputs": [
        {
          "output_type": "stream",
          "name": "stdout",
          "text": [
            "Trial 90 Complete [00h 02m 36s]\n",
            "val_loss: 0.0001785490894690156\n",
            "\n",
            "Best val_loss So Far: 0.00015114902635104954\n",
            "Total elapsed time: 01h 02m 51s\n",
            "INFO:tensorflow:Oracle triggered exit\n"
          ]
        },
        {
          "output_type": "stream",
          "name": "stderr",
          "text": [
            "INFO:tensorflow:Oracle triggered exit\n"
          ]
        },
        {
          "output_type": "stream",
          "name": "stdout",
          "text": [
            "Model: \"sequential\"\n",
            "_________________________________________________________________\n",
            "Layer (type)                 Output Shape              Param #   \n",
            "=================================================================\n",
            "lstm (LSTM)                  (None, 40, 40)            8160      \n",
            "_________________________________________________________________\n",
            "lstm_1 (LSTM)                (None, 40, 256)           304128    \n",
            "_________________________________________________________________\n",
            "dropout (Dropout)            (None, 40, 256)           0         \n",
            "_________________________________________________________________\n",
            "lstm_2 (LSTM)                (None, 128)               197120    \n",
            "_________________________________________________________________\n",
            "dropout_1 (Dropout)          (None, 128)               0         \n",
            "_________________________________________________________________\n",
            "dense (Dense)                (None, 2048)              264192    \n",
            "_________________________________________________________________\n",
            "dropout_2 (Dropout)          (None, 2048)              0         \n",
            "_________________________________________________________________\n",
            "dense_1 (Dense)              (None, 1024)              2098176   \n",
            "_________________________________________________________________\n",
            "dropout_3 (Dropout)          (None, 1024)              0         \n",
            "_________________________________________________________________\n",
            "dense_2 (Dense)              (None, 5)                 5125      \n",
            "=================================================================\n",
            "Total params: 2,876,901\n",
            "Trainable params: 2,876,901\n",
            "Non-trainable params: 0\n",
            "_________________________________________________________________\n",
            "WARNING:tensorflow:Unresolved object in checkpoint: (root).optimizer.iter\n"
          ]
        },
        {
          "output_type": "stream",
          "name": "stderr",
          "text": [
            "WARNING:tensorflow:Unresolved object in checkpoint: (root).optimizer.iter\n"
          ]
        },
        {
          "output_type": "stream",
          "name": "stdout",
          "text": [
            "WARNING:tensorflow:Unresolved object in checkpoint: (root).optimizer.beta_1\n"
          ]
        },
        {
          "output_type": "stream",
          "name": "stderr",
          "text": [
            "WARNING:tensorflow:Unresolved object in checkpoint: (root).optimizer.beta_1\n"
          ]
        },
        {
          "output_type": "stream",
          "name": "stdout",
          "text": [
            "WARNING:tensorflow:Unresolved object in checkpoint: (root).optimizer.beta_2\n"
          ]
        },
        {
          "output_type": "stream",
          "name": "stderr",
          "text": [
            "WARNING:tensorflow:Unresolved object in checkpoint: (root).optimizer.beta_2\n"
          ]
        },
        {
          "output_type": "stream",
          "name": "stdout",
          "text": [
            "WARNING:tensorflow:Unresolved object in checkpoint: (root).optimizer.decay\n"
          ]
        },
        {
          "output_type": "stream",
          "name": "stderr",
          "text": [
            "WARNING:tensorflow:Unresolved object in checkpoint: (root).optimizer.decay\n"
          ]
        },
        {
          "output_type": "stream",
          "name": "stdout",
          "text": [
            "WARNING:tensorflow:Unresolved object in checkpoint: (root).optimizer.learning_rate\n"
          ]
        },
        {
          "output_type": "stream",
          "name": "stderr",
          "text": [
            "WARNING:tensorflow:Unresolved object in checkpoint: (root).optimizer.learning_rate\n"
          ]
        },
        {
          "output_type": "stream",
          "name": "stdout",
          "text": [
            "WARNING:tensorflow:A checkpoint was restored (e.g. tf.train.Checkpoint.restore or tf.keras.Model.load_weights) but not all checkpointed values were used. See above for specific issues. Use expect_partial() on the load status object, e.g. tf.train.Checkpoint.restore(...).expect_partial(), to silence these warnings, or use assert_consumed() to make the check explicit. See https://www.tensorflow.org/guide/checkpoint#loading_mechanics for details.\n"
          ]
        },
        {
          "output_type": "stream",
          "name": "stderr",
          "text": [
            "WARNING:tensorflow:A checkpoint was restored (e.g. tf.train.Checkpoint.restore or tf.keras.Model.load_weights) but not all checkpointed values were used. See above for specific issues. Use expect_partial() on the load status object, e.g. tf.train.Checkpoint.restore(...).expect_partial(), to silence these warnings, or use assert_consumed() to make the check explicit. See https://www.tensorflow.org/guide/checkpoint#loading_mechanics for details.\n"
          ]
        },
        {
          "output_type": "stream",
          "name": "stdout",
          "text": [
            "Hyperparmeter Search\n",
            "============================================================\n",
            "First LSTM Node Size:          256\n",
            "First LSTM Dropout Rate:       0.2\n",
            "Second LSTM Node Size:         128\n",
            "Second LSTM Dropout Rate:      0.1\n",
            "First Dense Node Size:         2048\n",
            "First Dense Node Droput Rate:  0.3\n",
            "Second Dense Node Size:        1024\n",
            "Second Dense Node Dropout Rate:0.1\n",
            "Learning Rate:                 0.0001\n",
            "\n",
            "\n",
            "\n"
          ]
        },
        {
          "output_type": "execute_result",
          "data": {
            "text/plain": [
              "{'dense_dropout': 0.3,\n",
              " 'dense_units': 2048,\n",
              " 'learn_rate': 0.0001,\n",
              " 'lstm_dropout': 0.2,\n",
              " 'lstm_units': 256,\n",
              " 'tuner/bracket': 1,\n",
              " 'tuner/epochs': 50,\n",
              " 'tuner/initial_epoch': 17,\n",
              " 'tuner/round': 1,\n",
              " 'tuner/trial_id': '38de88e4f7e467feebf81ee00d7fb814'}"
            ]
          },
          "metadata": {},
          "execution_count": 34
        }
      ]
    },
    {
      "cell_type": "markdown",
      "metadata": {
        "id": "Mdj_exehn5u_"
      },
      "source": [
        "### Search for batch size\n",
        "+ 128/256 show the best performance\n",
        "+ Keep the 128 batch size for final training"
      ]
    },
    {
      "cell_type": "code",
      "metadata": {
        "colab": {
          "base_uri": "https://localhost:8080/"
        },
        "id": "JxbwFcx4g6LI",
        "outputId": "c369a3b4-5fe2-4f13-8492-7d1cd4781ff6"
      },
      "source": [
        "# optimized hyperparams for BTC with feature selection\n",
        "config ={\n",
        "    'data': {'n_steps':n_steps,'n_predict':n_predict},\n",
        "    'layers': [('lstm',1024,True,0.3),('lstm',512,False,0.1),('dense',256,None,0.2),('dense',128,None,0.1)],\n",
        "    'train':{'epochs':250,'batch_size':128,'early_stop':EarlyStopping(monitor='loss',patience=10)}\n",
        "}\n",
        "\n",
        "# test batch sizes\n",
        "batch_size = [32,64,128,256,512,1024]\n",
        "\n",
        "# BTC -optimal features\n",
        "model = create_lstm_model(config,x_train,n_predict,lr=0.001)\n",
        "\n",
        "# test batch sizes for performance\n",
        "for batch in batch_size:\n",
        "\n",
        "  # train\n",
        "  history = model.fit(x_train,\n",
        "                      y_train,\n",
        "                      batch_size=batch,\n",
        "                      epochs=config['train']['epochs'],\n",
        "                      callbacks = [config['train']['early_stop']],\n",
        "                      validation_split =0.10, \n",
        "                      verbose = 0\n",
        "                      )\n",
        "\n",
        "  print(f\"\\n\\nBatch Size: {batch}\")\n",
        "  # predict prices\n",
        "  # calculate the performance metrics\n",
        "  y_pred_scaled = calculate_performance(x_test,y_test,model,scaler_y)\n",
        "\n"
      ],
      "execution_count": 53,
      "outputs": [
        {
          "output_type": "stream",
          "name": "stdout",
          "text": [
            "Model: \"LSTM\"\n",
            "_________________________________________________________________\n",
            "Layer (type)                 Output Shape              Param #   \n",
            "=================================================================\n",
            "lstm (LSTM)                  (None, 40, 40)            8160      \n",
            "_________________________________________________________________\n",
            "lstm_1 (LSTM)                (None, 40, 1024)          4362240   \n",
            "_________________________________________________________________\n",
            "dropout (Dropout)            (None, 40, 1024)          0         \n",
            "_________________________________________________________________\n",
            "lstm_2 (LSTM)                (None, 512)               3147776   \n",
            "_________________________________________________________________\n",
            "dropout_1 (Dropout)          (None, 512)               0         \n",
            "_________________________________________________________________\n",
            "dense (Dense)                (None, 256)               131328    \n",
            "_________________________________________________________________\n",
            "dropout_2 (Dropout)          (None, 256)               0         \n",
            "_________________________________________________________________\n",
            "dense_1 (Dense)              (None, 128)               32896     \n",
            "_________________________________________________________________\n",
            "dropout_3 (Dropout)          (None, 128)               0         \n",
            "_________________________________________________________________\n",
            "dense_2 (Dense)              (None, 5)                 645       \n",
            "=================================================================\n",
            "Total params: 7,683,045\n",
            "Trainable params: 7,683,045\n",
            "Non-trainable params: 0\n",
            "_________________________________________________________________\n",
            "\n",
            "\n",
            "Batch Size: 32\n",
            "\n",
            "Model Error\n",
            "==============================================================\n",
            "Mean Absolute Error (MAE)------------------------------  0.11\n",
            "Root Mean Squared Error (MSE)--------------------------  0.13\n",
            "Mean Absolute Percentage Error (MAPE)------------------  1.08%\n",
            "Median Absolute Percentage Error (MDAPE)---------------  1.12%\n",
            "\n",
            "\n",
            "Batch Size: 64\n",
            "\n",
            "Model Error\n",
            "==============================================================\n",
            "Mean Absolute Error (MAE)------------------------------  0.05\n",
            "Root Mean Squared Error (MSE)--------------------------  0.06\n",
            "Mean Absolute Percentage Error (MAPE)------------------  0.48%\n",
            "Median Absolute Percentage Error (MDAPE)---------------  0.42%\n",
            "\n",
            "\n",
            "Batch Size: 128\n",
            "\n",
            "Model Error\n",
            "==============================================================\n",
            "Mean Absolute Error (MAE)------------------------------  0.12\n",
            "Root Mean Squared Error (MSE)--------------------------  0.14\n",
            "Mean Absolute Percentage Error (MAPE)------------------  1.11%\n",
            "Median Absolute Percentage Error (MDAPE)---------------  1.05%\n",
            "\n",
            "\n",
            "Batch Size: 256\n",
            "\n",
            "Model Error\n",
            "==============================================================\n",
            "Mean Absolute Error (MAE)------------------------------  0.13\n",
            "Root Mean Squared Error (MSE)--------------------------  0.15\n",
            "Mean Absolute Percentage Error (MAPE)------------------  1.19%\n",
            "Median Absolute Percentage Error (MDAPE)---------------  1.13%\n",
            "\n",
            "\n",
            "Batch Size: 512\n",
            "\n",
            "Model Error\n",
            "==============================================================\n",
            "Mean Absolute Error (MAE)------------------------------   0.1\n",
            "Root Mean Squared Error (MSE)--------------------------  0.13\n",
            "Mean Absolute Percentage Error (MAPE)------------------  0.96%\n",
            "Median Absolute Percentage Error (MDAPE)---------------  0.87%\n",
            "\n",
            "\n",
            "Batch Size: 1024\n",
            "\n",
            "Model Error\n",
            "==============================================================\n",
            "Mean Absolute Error (MAE)------------------------------  0.08\n",
            "Root Mean Squared Error (MSE)--------------------------   0.1\n",
            "Mean Absolute Percentage Error (MAPE)------------------  0.77%\n",
            "Median Absolute Percentage Error (MDAPE)---------------  0.66%\n"
          ]
        }
      ]
    },
    {
      "cell_type": "markdown",
      "metadata": {
        "id": "VPM1WorTqH0N"
      },
      "source": [
        "## Re-Train with Optimized Hyperparmeters"
      ]
    },
    {
      "cell_type": "code",
      "metadata": {
        "colab": {
          "base_uri": "https://localhost:8080/"
        },
        "id": "VBFyKPZvpgVI",
        "outputId": "e2ed1500-3c1a-44f5-8b11-7a041800b090"
      },
      "source": [
        "# update with optimized hyperparameters\n",
        "config ={\n",
        "    'data': {'n_steps':n_steps,'n_predict':n_predict},\n",
        "    'layers': [('lstm',512,True,0.2),('lstm',256,False,0.1),('dense',256,None,0.2),('dense',128,None,0.1)],\n",
        "    'train':{'epochs':250,'batch_size':128,'early_stop':EarlyStopping(monitor='loss',patience=10)}\n",
        "}\n",
        "config"
      ],
      "execution_count": 25,
      "outputs": [
        {
          "output_type": "execute_result",
          "data": {
            "text/plain": [
              "{'data': {'n_predict': 5, 'n_steps': 40},\n",
              " 'layers': [('lstm', 512, True, 0.2),\n",
              "  ('lstm', 256, False, 0.1),\n",
              "  ('dense', 256, None, 0.2),\n",
              "  ('dense', 128, None, 0.1)],\n",
              " 'train': {'batch_size': 128,\n",
              "  'early_stop': <keras.callbacks.EarlyStopping at 0x7f149edbedd0>,\n",
              "  'epochs': 250}}"
            ]
          },
          "metadata": {},
          "execution_count": 25
        }
      ]
    },
    {
      "cell_type": "markdown",
      "metadata": {
        "id": "33rTPXn0qImu"
      },
      "source": [
        "### Bitcoin"
      ]
    },
    {
      "cell_type": "code",
      "metadata": {
        "colab": {
          "base_uri": "https://localhost:8080/",
          "height": 1000
        },
        "id": "4IRmrxeTqJwK",
        "outputId": "1110e4c9-525b-4b9c-ba1f-9b85a1fda89c"
      },
      "source": [
        "# optimized hyperparams for BTC with feature selection\n",
        "config ={\n",
        "    'data': {'n_steps':n_steps,'n_predict':n_predict},\n",
        "    'layers': [('lstm',1024,True,0.3),('lstm',512,False,0.1),('dense',256,None,0.2),('dense',128,None,0.1)],\n",
        "    'train':{'epochs':250,'batch_size':128,'early_stop':EarlyStopping(monitor='loss',patience=10)}\n",
        "}\n",
        "\n",
        "# BTC -optimal features\n",
        "crypto ='BTC'\n",
        "modelname = f'model_{crypto}_{transform}'\n",
        "model = create_lstm_model(config,x_train,n_predict,lr=0.001)\n",
        "\n",
        "\n",
        "# train\n",
        "tic = timeit.default_timer()\n",
        "history = model.fit(x_train,\n",
        "                    y_train,\n",
        "                    batch_size=config['train']['batch_size'],\n",
        "                    epochs=config['train']['epochs'],\n",
        "                    callbacks = [config['train']['early_stop']],\n",
        "                    validation_split =0.10, \n",
        "                    verbose = 0\n",
        "                    )\n",
        "\n",
        "# print the training time\n",
        "toc =timeit.default_timer()\n",
        "print('\\nTraining Time')\n",
        "print('='*60)\n",
        "print(f'Minutes:{round((toc-tic)/60,2)}\\n')\n",
        "\n",
        "# predict prices\n",
        "# calculate the performance metrics\n",
        "# plot training metrics\n",
        "# plot predictions for random batches\n",
        "y_pred_scaled = calculate_performance(x_test,y_test,model,scaler_y)\n",
        "plot_training_metrics(history)\n",
        "plot_n_price_predictions(idx_close,x_test,y_pred_scaled,scaler_y,2)\n",
        "\n",
        "\n",
        "# save model and training performance\n",
        "model.save(f'/content/drive/MyDrive/Colab Notebooks/models/{modelname}_features_optimized')\n",
        "\n",
        "df_hist = pd.DataFrame(history.history) \n",
        "df_hist.to_csv(f'/content/drive/MyDrive/Colab Notebooks/models/{modelname}_features_optimized/train_history.csv')"
      ],
      "execution_count": 36,
      "outputs": [
        {
          "output_type": "stream",
          "name": "stdout",
          "text": [
            "Model: \"LSTM\"\n",
            "_________________________________________________________________\n",
            "Layer (type)                 Output Shape              Param #   \n",
            "=================================================================\n",
            "lstm (LSTM)                  (None, 40, 40)            8160      \n",
            "_________________________________________________________________\n",
            "lstm_1 (LSTM)                (None, 40, 1024)          4362240   \n",
            "_________________________________________________________________\n",
            "dropout (Dropout)            (None, 40, 1024)          0         \n",
            "_________________________________________________________________\n",
            "lstm_2 (LSTM)                (None, 512)               3147776   \n",
            "_________________________________________________________________\n",
            "dropout_1 (Dropout)          (None, 512)               0         \n",
            "_________________________________________________________________\n",
            "dense (Dense)                (None, 256)               131328    \n",
            "_________________________________________________________________\n",
            "dropout_2 (Dropout)          (None, 256)               0         \n",
            "_________________________________________________________________\n",
            "dense_1 (Dense)              (None, 128)               32896     \n",
            "_________________________________________________________________\n",
            "dropout_3 (Dropout)          (None, 128)               0         \n",
            "_________________________________________________________________\n",
            "dense_2 (Dense)              (None, 5)                 645       \n",
            "=================================================================\n",
            "Total params: 7,683,045\n",
            "Trainable params: 7,683,045\n",
            "Non-trainable params: 0\n",
            "_________________________________________________________________\n",
            "\n",
            "Training Time\n",
            "============================================================\n",
            "Minutes:0.39\n",
            "\n",
            "\n",
            "Model Error\n",
            "==============================================================\n",
            "Mean Absolute Error (MAE)------------------------------  0.07\n",
            "Root Mean Squared Error (MSE)--------------------------  0.09\n",
            "Mean Absolute Percentage Error (MAPE)------------------  0.65%\n",
            "Median Absolute Percentage Error (MDAPE)---------------  0.54%\n"
          ]
        },
        {
          "output_type": "display_data",
          "data": {
            "text/html": [
              "<html>\n",
              "<head><meta charset=\"utf-8\" /></head>\n",
              "<body>\n",
              "    <div>\n",
              "            <script src=\"https://cdnjs.cloudflare.com/ajax/libs/mathjax/2.7.5/MathJax.js?config=TeX-AMS-MML_SVG\"></script><script type=\"text/javascript\">if (window.MathJax) {MathJax.Hub.Config({SVG: {font: \"STIX-Web\"}});}</script>\n",
              "                <script type=\"text/javascript\">window.PlotlyConfig = {MathJaxConfig: 'local'};</script>\n",
              "        <script src=\"https://cdn.plot.ly/plotly-latest.min.js\"></script>    \n",
              "            <div id=\"d65bccc6-6de8-4cbe-8a5e-4f359a5f28a8\" class=\"plotly-graph-div\" style=\"height:500px; width:700px;\"></div>\n",
              "            <script type=\"text/javascript\">\n",
              "                \n",
              "                    window.PLOTLYENV=window.PLOTLYENV || {};\n",
              "                    \n",
              "                if (document.getElementById(\"d65bccc6-6de8-4cbe-8a5e-4f359a5f28a8\")) {\n",
              "                    Plotly.newPlot(\n",
              "                        'd65bccc6-6de8-4cbe-8a5e-4f359a5f28a8',\n",
              "                        [{\"line\": {\"color\": \"royalblue\", \"width\": 3}, \"name\": \"train-loss\", \"type\": \"scatter\", \"x\": [1, 2, 3, 4, 5, 6, 7, 8, 9, 10, 11, 12, 13, 14, 15, 16, 17, 18, 19, 20, 21, 22, 23, 24, 25, 26, 27, 28, 29, 30, 31, 32, 33, 34, 35, 36, 37, 38, 39, 40, 41, 42, 43, 44, 45, 46, 47, 48, 49, 50, 51, 52, 53, 54, 55, 56, 57, 58, 59, 60, 61, 62, 63, 64], \"y\": [0.13841763138771057, 0.017752790823578835, 0.009145569056272507, 0.006366862449795008, 0.004687496926635504, 0.004007779527455568, 0.0031092462595552206, 0.002525399439036846, 0.0024776672944426537, 0.0024280627258121967, 0.002332831732928753, 0.0022740887943655252, 0.0023309600073844194, 0.00233221217058599, 0.0023045793641358614, 0.002239512512460351, 0.002173150423914194, 0.0023327600210905075, 0.0021818068344146013, 0.0019724054727703333, 0.0018388278549537063, 0.001833772868849337, 0.0018859991105273366, 0.0017674934351816773, 0.0017738385358825326, 0.0016313382657244802, 0.0017001008382067084, 0.001490147435106337, 0.0016328566707670689, 0.0016961614601314068, 0.0016018013702705503, 0.00152898661326617, 0.0014606515178456903, 0.0014202316524460912, 0.001534981420263648, 0.0014744638465344906, 0.0014250717358663678, 0.0013590792659670115, 0.0013036548625677824, 0.0013435784494504333, 0.0014241631142795086, 0.0014007712015882134, 0.0013059607008472085, 0.0012366237351670861, 0.0013325769687071443, 0.0012717916397377849, 0.001262347912415862, 0.0011913841590285301, 0.001231618458405137, 0.001078358618542552, 0.001106727635487914, 0.001129025244154036, 0.001166844042018056, 0.0010294539388269186, 0.0010949940187856555, 0.001289155101403594, 0.0011060475371778011, 0.0010724132880568504, 0.001041565090417862, 0.001082293689250946, 0.0010709899943321943, 0.0010974149918183684, 0.0012542419135570526, 0.001348139368928969]}, {\"line\": {\"color\": \"crimson\", \"width\": 3}, \"name\": \"val-loss\", \"type\": \"scatter\", \"x\": [1, 2, 3, 4, 5, 6, 7, 8, 9, 10, 11, 12, 13, 14, 15, 16, 17, 18, 19, 20, 21, 22, 23, 24, 25, 26, 27, 28, 29, 30, 31, 32, 33, 34, 35, 36, 37, 38, 39, 40, 41, 42, 43, 44, 45, 46, 47, 48, 49, 50, 51, 52, 53, 54, 55, 56, 57, 58, 59, 60, 61, 62, 63, 64], \"y\": [0.3169736862182617, 0.1306760460138321, 0.08041170984506607, 0.02969541773200035, 0.008428867906332016, 0.005260793026536703, 0.0020290177781134844, 0.002273471327498555, 0.0015580555191263556, 0.002661630045622587, 0.004568497650325298, 0.007079999428242445, 0.004195411689579487, 0.004088518675416708, 0.0014418994542211294, 0.0016178053338080645, 0.004607765469700098, 0.001114700105972588, 0.0015160018811002374, 0.0014073168858885765, 0.001069453195668757, 0.0026854844763875008, 0.0014623206807300448, 0.0011100583942607045, 0.0012166526867076755, 0.0009979072492569685, 0.0016799916047602892, 0.001285148086026311, 0.0009340110700577497, 0.0013700868003070354, 0.001530607813037932, 0.0022443458437919617, 0.0010591673199087381, 0.001065719174221158, 0.0018866454483941197, 0.001413012738339603, 0.0023105198051780462, 0.001188176916912198, 0.0008013314218260348, 0.0016706857131794095, 0.003305402584373951, 0.0009721104288473725, 0.0013650343753397465, 0.0014597048284485936, 0.0008817945490591228, 0.0008429218432866037, 0.002256040694192052, 0.0009663258097134531, 0.000840386375784874, 0.0010795290581882, 0.0015333901392295957, 0.0009031129884533584, 0.0011307626264169812, 0.001233487855643034, 0.006000851280987263, 0.001437586615793407, 0.0012396472739055753, 0.0010219933465123177, 0.001104258350096643, 0.00101492612157017, 0.0012552127009257674, 0.0015803332207724452, 0.0009036671835929155, 0.000913751486223191]}],\n",
              "                        {\"height\": 500, \"template\": {\"data\": {\"bar\": [{\"error_x\": {\"color\": \"#2a3f5f\"}, \"error_y\": {\"color\": \"#2a3f5f\"}, \"marker\": {\"line\": {\"color\": \"white\", \"width\": 0.5}}, \"type\": \"bar\"}], \"barpolar\": [{\"marker\": {\"line\": {\"color\": \"white\", \"width\": 0.5}}, \"type\": \"barpolar\"}], \"carpet\": [{\"aaxis\": {\"endlinecolor\": \"#2a3f5f\", \"gridcolor\": \"#C8D4E3\", \"linecolor\": \"#C8D4E3\", \"minorgridcolor\": \"#C8D4E3\", \"startlinecolor\": \"#2a3f5f\"}, \"baxis\": {\"endlinecolor\": \"#2a3f5f\", \"gridcolor\": \"#C8D4E3\", \"linecolor\": \"#C8D4E3\", \"minorgridcolor\": \"#C8D4E3\", \"startlinecolor\": \"#2a3f5f\"}, \"type\": \"carpet\"}], \"choropleth\": [{\"colorbar\": {\"outlinewidth\": 0, \"ticks\": \"\"}, \"type\": \"choropleth\"}], \"contour\": [{\"colorbar\": {\"outlinewidth\": 0, \"ticks\": \"\"}, \"colorscale\": [[0.0, \"#0d0887\"], [0.1111111111111111, \"#46039f\"], [0.2222222222222222, \"#7201a8\"], [0.3333333333333333, \"#9c179e\"], [0.4444444444444444, \"#bd3786\"], [0.5555555555555556, \"#d8576b\"], [0.6666666666666666, \"#ed7953\"], [0.7777777777777778, \"#fb9f3a\"], [0.8888888888888888, \"#fdca26\"], [1.0, \"#f0f921\"]], \"type\": \"contour\"}], \"contourcarpet\": [{\"colorbar\": {\"outlinewidth\": 0, \"ticks\": \"\"}, \"type\": \"contourcarpet\"}], \"heatmap\": [{\"colorbar\": {\"outlinewidth\": 0, \"ticks\": \"\"}, \"colorscale\": [[0.0, \"#0d0887\"], [0.1111111111111111, \"#46039f\"], [0.2222222222222222, \"#7201a8\"], [0.3333333333333333, \"#9c179e\"], [0.4444444444444444, \"#bd3786\"], [0.5555555555555556, \"#d8576b\"], [0.6666666666666666, \"#ed7953\"], [0.7777777777777778, \"#fb9f3a\"], [0.8888888888888888, \"#fdca26\"], [1.0, \"#f0f921\"]], \"type\": \"heatmap\"}], \"heatmapgl\": [{\"colorbar\": {\"outlinewidth\": 0, \"ticks\": \"\"}, \"colorscale\": [[0.0, \"#0d0887\"], [0.1111111111111111, \"#46039f\"], [0.2222222222222222, \"#7201a8\"], [0.3333333333333333, \"#9c179e\"], [0.4444444444444444, \"#bd3786\"], [0.5555555555555556, \"#d8576b\"], [0.6666666666666666, \"#ed7953\"], [0.7777777777777778, \"#fb9f3a\"], [0.8888888888888888, \"#fdca26\"], [1.0, \"#f0f921\"]], \"type\": \"heatmapgl\"}], \"histogram\": [{\"marker\": {\"colorbar\": {\"outlinewidth\": 0, \"ticks\": \"\"}}, \"type\": \"histogram\"}], \"histogram2d\": [{\"colorbar\": {\"outlinewidth\": 0, \"ticks\": \"\"}, \"colorscale\": [[0.0, \"#0d0887\"], [0.1111111111111111, \"#46039f\"], [0.2222222222222222, \"#7201a8\"], [0.3333333333333333, \"#9c179e\"], [0.4444444444444444, \"#bd3786\"], [0.5555555555555556, \"#d8576b\"], [0.6666666666666666, \"#ed7953\"], [0.7777777777777778, \"#fb9f3a\"], [0.8888888888888888, \"#fdca26\"], [1.0, \"#f0f921\"]], \"type\": \"histogram2d\"}], \"histogram2dcontour\": [{\"colorbar\": {\"outlinewidth\": 0, \"ticks\": \"\"}, \"colorscale\": [[0.0, \"#0d0887\"], [0.1111111111111111, \"#46039f\"], [0.2222222222222222, \"#7201a8\"], [0.3333333333333333, \"#9c179e\"], [0.4444444444444444, \"#bd3786\"], [0.5555555555555556, \"#d8576b\"], [0.6666666666666666, \"#ed7953\"], [0.7777777777777778, \"#fb9f3a\"], [0.8888888888888888, \"#fdca26\"], [1.0, \"#f0f921\"]], \"type\": \"histogram2dcontour\"}], \"mesh3d\": [{\"colorbar\": {\"outlinewidth\": 0, \"ticks\": \"\"}, \"type\": \"mesh3d\"}], \"parcoords\": [{\"line\": {\"colorbar\": {\"outlinewidth\": 0, \"ticks\": \"\"}}, \"type\": \"parcoords\"}], \"pie\": [{\"automargin\": true, \"type\": \"pie\"}], \"scatter\": [{\"marker\": {\"colorbar\": {\"outlinewidth\": 0, \"ticks\": \"\"}}, \"type\": \"scatter\"}], \"scatter3d\": [{\"line\": {\"colorbar\": {\"outlinewidth\": 0, \"ticks\": \"\"}}, \"marker\": {\"colorbar\": {\"outlinewidth\": 0, \"ticks\": \"\"}}, \"type\": \"scatter3d\"}], \"scattercarpet\": [{\"marker\": {\"colorbar\": {\"outlinewidth\": 0, \"ticks\": \"\"}}, \"type\": \"scattercarpet\"}], \"scattergeo\": [{\"marker\": {\"colorbar\": {\"outlinewidth\": 0, \"ticks\": \"\"}}, \"type\": \"scattergeo\"}], \"scattergl\": [{\"marker\": {\"colorbar\": {\"outlinewidth\": 0, \"ticks\": \"\"}}, \"type\": \"scattergl\"}], \"scattermapbox\": [{\"marker\": {\"colorbar\": {\"outlinewidth\": 0, \"ticks\": \"\"}}, \"type\": \"scattermapbox\"}], \"scatterpolar\": [{\"marker\": {\"colorbar\": {\"outlinewidth\": 0, \"ticks\": \"\"}}, \"type\": \"scatterpolar\"}], \"scatterpolargl\": [{\"marker\": {\"colorbar\": {\"outlinewidth\": 0, \"ticks\": \"\"}}, \"type\": \"scatterpolargl\"}], \"scatterternary\": [{\"marker\": {\"colorbar\": {\"outlinewidth\": 0, \"ticks\": \"\"}}, \"type\": \"scatterternary\"}], \"surface\": [{\"colorbar\": {\"outlinewidth\": 0, \"ticks\": \"\"}, \"colorscale\": [[0.0, \"#0d0887\"], [0.1111111111111111, \"#46039f\"], [0.2222222222222222, \"#7201a8\"], [0.3333333333333333, \"#9c179e\"], [0.4444444444444444, \"#bd3786\"], [0.5555555555555556, \"#d8576b\"], [0.6666666666666666, \"#ed7953\"], [0.7777777777777778, \"#fb9f3a\"], [0.8888888888888888, \"#fdca26\"], [1.0, \"#f0f921\"]], \"type\": \"surface\"}], \"table\": [{\"cells\": {\"fill\": {\"color\": \"#EBF0F8\"}, \"line\": {\"color\": \"white\"}}, \"header\": {\"fill\": {\"color\": \"#C8D4E3\"}, \"line\": {\"color\": \"white\"}}, \"type\": \"table\"}]}, \"layout\": {\"annotationdefaults\": {\"arrowcolor\": \"#2a3f5f\", \"arrowhead\": 0, \"arrowwidth\": 1}, \"coloraxis\": {\"colorbar\": {\"outlinewidth\": 0, \"ticks\": \"\"}}, \"colorscale\": {\"diverging\": [[0, \"#8e0152\"], [0.1, \"#c51b7d\"], [0.2, \"#de77ae\"], [0.3, \"#f1b6da\"], [0.4, \"#fde0ef\"], [0.5, \"#f7f7f7\"], [0.6, \"#e6f5d0\"], [0.7, \"#b8e186\"], [0.8, \"#7fbc41\"], [0.9, \"#4d9221\"], [1, \"#276419\"]], \"sequential\": [[0.0, \"#0d0887\"], [0.1111111111111111, \"#46039f\"], [0.2222222222222222, \"#7201a8\"], [0.3333333333333333, \"#9c179e\"], [0.4444444444444444, \"#bd3786\"], [0.5555555555555556, \"#d8576b\"], [0.6666666666666666, \"#ed7953\"], [0.7777777777777778, \"#fb9f3a\"], [0.8888888888888888, \"#fdca26\"], [1.0, \"#f0f921\"]], \"sequentialminus\": [[0.0, \"#0d0887\"], [0.1111111111111111, \"#46039f\"], [0.2222222222222222, \"#7201a8\"], [0.3333333333333333, \"#9c179e\"], [0.4444444444444444, \"#bd3786\"], [0.5555555555555556, \"#d8576b\"], [0.6666666666666666, \"#ed7953\"], [0.7777777777777778, \"#fb9f3a\"], [0.8888888888888888, \"#fdca26\"], [1.0, \"#f0f921\"]]}, \"colorway\": [\"#636efa\", \"#EF553B\", \"#00cc96\", \"#ab63fa\", \"#FFA15A\", \"#19d3f3\", \"#FF6692\", \"#B6E880\", \"#FF97FF\", \"#FECB52\"], \"font\": {\"color\": \"#2a3f5f\"}, \"geo\": {\"bgcolor\": \"white\", \"lakecolor\": \"white\", \"landcolor\": \"white\", \"showlakes\": true, \"showland\": true, \"subunitcolor\": \"#C8D4E3\"}, \"hoverlabel\": {\"align\": \"left\"}, \"hovermode\": \"closest\", \"mapbox\": {\"style\": \"light\"}, \"paper_bgcolor\": \"white\", \"plot_bgcolor\": \"white\", \"polar\": {\"angularaxis\": {\"gridcolor\": \"#EBF0F8\", \"linecolor\": \"#EBF0F8\", \"ticks\": \"\"}, \"bgcolor\": \"white\", \"radialaxis\": {\"gridcolor\": \"#EBF0F8\", \"linecolor\": \"#EBF0F8\", \"ticks\": \"\"}}, \"scene\": {\"xaxis\": {\"backgroundcolor\": \"white\", \"gridcolor\": \"#DFE8F3\", \"gridwidth\": 2, \"linecolor\": \"#EBF0F8\", \"showbackground\": true, \"ticks\": \"\", \"zerolinecolor\": \"#EBF0F8\"}, \"yaxis\": {\"backgroundcolor\": \"white\", \"gridcolor\": \"#DFE8F3\", \"gridwidth\": 2, \"linecolor\": \"#EBF0F8\", \"showbackground\": true, \"ticks\": \"\", \"zerolinecolor\": \"#EBF0F8\"}, \"zaxis\": {\"backgroundcolor\": \"white\", \"gridcolor\": \"#DFE8F3\", \"gridwidth\": 2, \"linecolor\": \"#EBF0F8\", \"showbackground\": true, \"ticks\": \"\", \"zerolinecolor\": \"#EBF0F8\"}}, \"shapedefaults\": {\"line\": {\"color\": \"#2a3f5f\"}}, \"ternary\": {\"aaxis\": {\"gridcolor\": \"#DFE8F3\", \"linecolor\": \"#A2B1C6\", \"ticks\": \"\"}, \"baxis\": {\"gridcolor\": \"#DFE8F3\", \"linecolor\": \"#A2B1C6\", \"ticks\": \"\"}, \"bgcolor\": \"white\", \"caxis\": {\"gridcolor\": \"#DFE8F3\", \"linecolor\": \"#A2B1C6\", \"ticks\": \"\"}}, \"title\": {\"x\": 0.05}, \"xaxis\": {\"automargin\": true, \"gridcolor\": \"#EBF0F8\", \"linecolor\": \"#EBF0F8\", \"ticks\": \"\", \"title\": {\"standoff\": 15}, \"zerolinecolor\": \"#EBF0F8\", \"zerolinewidth\": 2}, \"yaxis\": {\"automargin\": true, \"gridcolor\": \"#EBF0F8\", \"linecolor\": \"#EBF0F8\", \"ticks\": \"\", \"title\": {\"standoff\": 15}, \"zerolinecolor\": \"#EBF0F8\", \"zerolinewidth\": 2}}}, \"title\": {\"text\": \"Training Metrics\"}, \"width\": 700, \"xaxis\": {\"title\": {\"text\": \"epochs\"}}, \"yaxis\": {\"title\": {\"text\": \"loss\"}}},\n",
              "                        {\"responsive\": true}\n",
              "                    ).then(function(){\n",
              "                            \n",
              "var gd = document.getElementById('d65bccc6-6de8-4cbe-8a5e-4f359a5f28a8');\n",
              "var x = new MutationObserver(function (mutations, observer) {{\n",
              "        var display = window.getComputedStyle(gd).display;\n",
              "        if (!display || display === 'none') {{\n",
              "            console.log([gd, 'removed!']);\n",
              "            Plotly.purge(gd);\n",
              "            observer.disconnect();\n",
              "        }}\n",
              "}});\n",
              "\n",
              "// Listen for the removal of the full notebook cells\n",
              "var notebookContainer = gd.closest('#notebook-container');\n",
              "if (notebookContainer) {{\n",
              "    x.observe(notebookContainer, {childList: true});\n",
              "}}\n",
              "\n",
              "// Listen for the clearing of the current output cell\n",
              "var outputEl = gd.closest('.output');\n",
              "if (outputEl) {{\n",
              "    x.observe(outputEl, {childList: true});\n",
              "}}\n",
              "\n",
              "                        })\n",
              "                };\n",
              "                \n",
              "            </script>\n",
              "        </div>\n",
              "</body>\n",
              "</html>"
            ]
          },
          "metadata": {}
        },
        {
          "output_type": "display_data",
          "data": {
            "text/html": [
              "<html>\n",
              "<head><meta charset=\"utf-8\" /></head>\n",
              "<body>\n",
              "    <div>\n",
              "            <script src=\"https://cdnjs.cloudflare.com/ajax/libs/mathjax/2.7.5/MathJax.js?config=TeX-AMS-MML_SVG\"></script><script type=\"text/javascript\">if (window.MathJax) {MathJax.Hub.Config({SVG: {font: \"STIX-Web\"}});}</script>\n",
              "                <script type=\"text/javascript\">window.PlotlyConfig = {MathJaxConfig: 'local'};</script>\n",
              "        <script src=\"https://cdn.plot.ly/plotly-latest.min.js\"></script>    \n",
              "            <div id=\"75fb2d60-5f65-45eb-bf5e-7d526bd5abe1\" class=\"plotly-graph-div\" style=\"height:400px; width:600px;\"></div>\n",
              "            <script type=\"text/javascript\">\n",
              "                \n",
              "                    window.PLOTLYENV=window.PLOTLYENV || {};\n",
              "                    \n",
              "                if (document.getElementById(\"75fb2d60-5f65-45eb-bf5e-7d526bd5abe1\")) {\n",
              "                    Plotly.newPlot(\n",
              "                        '75fb2d60-5f65-45eb-bf5e-7d526bd5abe1',\n",
              "                        [{\"fill\": \"tozeroy\", \"line\": {\"color\": \"#ccc\"}, \"mode\": \"lines\", \"name\": \"Test Data\", \"type\": \"scatter\", \"x\": [131, 132, 133, 134, 135, 136, 137, 138, 139, 140, 141, 142, 143, 144, 145, 146, 147, 148, 149, 150, 151, 152, 153, 154, 155, 156, 157, 158, 159, 160, 161, 162, 163, 164, 165, 166, 167, 168, 169, 170], \"y\": [10.525074282482853, 10.582988799407083, 10.597123613574535, 10.597046648247378, 10.650326436499919, 10.632528523944766, 10.592763248561692, 10.575100016599102, 10.550775332540315, 10.589690175377404, 10.61796707213936, 10.66515445933413, 10.704873253322848, 10.687260549289931, 10.741890253752098, 10.727333774648573, 10.725709333961985, 10.700972225644158, 10.774780918479548, 10.759359478912216, 10.757345704221615, 10.734248500228874, 10.707638172470022, 10.707847118118515, 10.752796674693997, 10.806135037127264, 10.795933647187153, 10.804445739393069, 10.809502670658368, 10.772141664652592, 10.799030939008446, 10.754575435989532, 10.80100109117684, 10.79743757891689, 10.794826153147854, 10.75753919754622, 10.760047175792012, 10.795701142379043, 10.804596420922662, 10.819761084262362]}, {\"fill\": \"tozeroy\", \"line\": {\"color\": \"#ccc\"}, \"mode\": \"lines+markers\", \"name\": \"Actual Price\", \"type\": \"scatter\", \"x\": [171, 172, 173, 174, 175], \"y\": [10.525074282482853, 10.582988799407083, 10.597123613574535, 10.597046648247378, 10.650326436499919]}, {\"line\": {\"color\": \"red\"}, \"mode\": \"lines+markers\", \"name\": \"Predicted Price\", \"type\": \"scatter\", \"x\": [171, 172, 173, 174, 175], \"y\": [10.824068069458008, 10.791191101074219, 10.899174690246582, 10.872791290283203, 10.892165184020996]}],\n",
              "                        {\"height\": 400, \"template\": {\"data\": {\"bar\": [{\"error_x\": {\"color\": \"#2a3f5f\"}, \"error_y\": {\"color\": \"#2a3f5f\"}, \"marker\": {\"line\": {\"color\": \"white\", \"width\": 0.5}}, \"type\": \"bar\"}], \"barpolar\": [{\"marker\": {\"line\": {\"color\": \"white\", \"width\": 0.5}}, \"type\": \"barpolar\"}], \"carpet\": [{\"aaxis\": {\"endlinecolor\": \"#2a3f5f\", \"gridcolor\": \"#C8D4E3\", \"linecolor\": \"#C8D4E3\", \"minorgridcolor\": \"#C8D4E3\", \"startlinecolor\": \"#2a3f5f\"}, \"baxis\": {\"endlinecolor\": \"#2a3f5f\", \"gridcolor\": \"#C8D4E3\", \"linecolor\": \"#C8D4E3\", \"minorgridcolor\": \"#C8D4E3\", \"startlinecolor\": \"#2a3f5f\"}, \"type\": \"carpet\"}], \"choropleth\": [{\"colorbar\": {\"outlinewidth\": 0, \"ticks\": \"\"}, \"type\": \"choropleth\"}], \"contour\": [{\"colorbar\": {\"outlinewidth\": 0, \"ticks\": \"\"}, \"colorscale\": [[0.0, \"#0d0887\"], [0.1111111111111111, \"#46039f\"], [0.2222222222222222, \"#7201a8\"], [0.3333333333333333, \"#9c179e\"], [0.4444444444444444, \"#bd3786\"], [0.5555555555555556, \"#d8576b\"], [0.6666666666666666, \"#ed7953\"], [0.7777777777777778, \"#fb9f3a\"], [0.8888888888888888, \"#fdca26\"], [1.0, \"#f0f921\"]], \"type\": \"contour\"}], \"contourcarpet\": [{\"colorbar\": {\"outlinewidth\": 0, \"ticks\": \"\"}, \"type\": \"contourcarpet\"}], \"heatmap\": [{\"colorbar\": {\"outlinewidth\": 0, \"ticks\": \"\"}, \"colorscale\": [[0.0, \"#0d0887\"], [0.1111111111111111, \"#46039f\"], [0.2222222222222222, \"#7201a8\"], [0.3333333333333333, \"#9c179e\"], [0.4444444444444444, \"#bd3786\"], [0.5555555555555556, \"#d8576b\"], [0.6666666666666666, \"#ed7953\"], [0.7777777777777778, \"#fb9f3a\"], [0.8888888888888888, \"#fdca26\"], [1.0, \"#f0f921\"]], \"type\": \"heatmap\"}], \"heatmapgl\": [{\"colorbar\": {\"outlinewidth\": 0, \"ticks\": \"\"}, \"colorscale\": [[0.0, \"#0d0887\"], [0.1111111111111111, \"#46039f\"], [0.2222222222222222, \"#7201a8\"], [0.3333333333333333, \"#9c179e\"], [0.4444444444444444, \"#bd3786\"], [0.5555555555555556, \"#d8576b\"], [0.6666666666666666, \"#ed7953\"], [0.7777777777777778, \"#fb9f3a\"], [0.8888888888888888, \"#fdca26\"], [1.0, \"#f0f921\"]], \"type\": \"heatmapgl\"}], \"histogram\": [{\"marker\": {\"colorbar\": {\"outlinewidth\": 0, \"ticks\": \"\"}}, \"type\": \"histogram\"}], \"histogram2d\": [{\"colorbar\": {\"outlinewidth\": 0, \"ticks\": \"\"}, \"colorscale\": [[0.0, \"#0d0887\"], [0.1111111111111111, \"#46039f\"], [0.2222222222222222, \"#7201a8\"], [0.3333333333333333, \"#9c179e\"], [0.4444444444444444, \"#bd3786\"], [0.5555555555555556, \"#d8576b\"], [0.6666666666666666, \"#ed7953\"], [0.7777777777777778, \"#fb9f3a\"], [0.8888888888888888, \"#fdca26\"], [1.0, \"#f0f921\"]], \"type\": \"histogram2d\"}], \"histogram2dcontour\": [{\"colorbar\": {\"outlinewidth\": 0, \"ticks\": \"\"}, \"colorscale\": [[0.0, \"#0d0887\"], [0.1111111111111111, \"#46039f\"], [0.2222222222222222, \"#7201a8\"], [0.3333333333333333, \"#9c179e\"], [0.4444444444444444, \"#bd3786\"], [0.5555555555555556, \"#d8576b\"], [0.6666666666666666, \"#ed7953\"], [0.7777777777777778, \"#fb9f3a\"], [0.8888888888888888, \"#fdca26\"], [1.0, \"#f0f921\"]], \"type\": \"histogram2dcontour\"}], \"mesh3d\": [{\"colorbar\": {\"outlinewidth\": 0, \"ticks\": \"\"}, \"type\": \"mesh3d\"}], \"parcoords\": [{\"line\": {\"colorbar\": {\"outlinewidth\": 0, \"ticks\": \"\"}}, \"type\": \"parcoords\"}], \"pie\": [{\"automargin\": true, \"type\": \"pie\"}], \"scatter\": [{\"marker\": {\"colorbar\": {\"outlinewidth\": 0, \"ticks\": \"\"}}, \"type\": \"scatter\"}], \"scatter3d\": [{\"line\": {\"colorbar\": {\"outlinewidth\": 0, \"ticks\": \"\"}}, \"marker\": {\"colorbar\": {\"outlinewidth\": 0, \"ticks\": \"\"}}, \"type\": \"scatter3d\"}], \"scattercarpet\": [{\"marker\": {\"colorbar\": {\"outlinewidth\": 0, \"ticks\": \"\"}}, \"type\": \"scattercarpet\"}], \"scattergeo\": [{\"marker\": {\"colorbar\": {\"outlinewidth\": 0, \"ticks\": \"\"}}, \"type\": \"scattergeo\"}], \"scattergl\": [{\"marker\": {\"colorbar\": {\"outlinewidth\": 0, \"ticks\": \"\"}}, \"type\": \"scattergl\"}], \"scattermapbox\": [{\"marker\": {\"colorbar\": {\"outlinewidth\": 0, \"ticks\": \"\"}}, \"type\": \"scattermapbox\"}], \"scatterpolar\": [{\"marker\": {\"colorbar\": {\"outlinewidth\": 0, \"ticks\": \"\"}}, \"type\": \"scatterpolar\"}], \"scatterpolargl\": [{\"marker\": {\"colorbar\": {\"outlinewidth\": 0, \"ticks\": \"\"}}, \"type\": \"scatterpolargl\"}], \"scatterternary\": [{\"marker\": {\"colorbar\": {\"outlinewidth\": 0, \"ticks\": \"\"}}, \"type\": \"scatterternary\"}], \"surface\": [{\"colorbar\": {\"outlinewidth\": 0, \"ticks\": \"\"}, \"colorscale\": [[0.0, \"#0d0887\"], [0.1111111111111111, \"#46039f\"], [0.2222222222222222, \"#7201a8\"], [0.3333333333333333, \"#9c179e\"], [0.4444444444444444, \"#bd3786\"], [0.5555555555555556, \"#d8576b\"], [0.6666666666666666, \"#ed7953\"], [0.7777777777777778, \"#fb9f3a\"], [0.8888888888888888, \"#fdca26\"], [1.0, \"#f0f921\"]], \"type\": \"surface\"}], \"table\": [{\"cells\": {\"fill\": {\"color\": \"#EBF0F8\"}, \"line\": {\"color\": \"white\"}}, \"header\": {\"fill\": {\"color\": \"#C8D4E3\"}, \"line\": {\"color\": \"white\"}}, \"type\": \"table\"}]}, \"layout\": {\"annotationdefaults\": {\"arrowcolor\": \"#2a3f5f\", \"arrowhead\": 0, \"arrowwidth\": 1}, \"coloraxis\": {\"colorbar\": {\"outlinewidth\": 0, \"ticks\": \"\"}}, \"colorscale\": {\"diverging\": [[0, \"#8e0152\"], [0.1, \"#c51b7d\"], [0.2, \"#de77ae\"], [0.3, \"#f1b6da\"], [0.4, \"#fde0ef\"], [0.5, \"#f7f7f7\"], [0.6, \"#e6f5d0\"], [0.7, \"#b8e186\"], [0.8, \"#7fbc41\"], [0.9, \"#4d9221\"], [1, \"#276419\"]], \"sequential\": [[0.0, \"#0d0887\"], [0.1111111111111111, \"#46039f\"], [0.2222222222222222, \"#7201a8\"], [0.3333333333333333, \"#9c179e\"], [0.4444444444444444, \"#bd3786\"], [0.5555555555555556, \"#d8576b\"], [0.6666666666666666, \"#ed7953\"], [0.7777777777777778, \"#fb9f3a\"], [0.8888888888888888, \"#fdca26\"], [1.0, \"#f0f921\"]], \"sequentialminus\": [[0.0, \"#0d0887\"], [0.1111111111111111, \"#46039f\"], [0.2222222222222222, \"#7201a8\"], [0.3333333333333333, \"#9c179e\"], [0.4444444444444444, \"#bd3786\"], [0.5555555555555556, \"#d8576b\"], [0.6666666666666666, \"#ed7953\"], [0.7777777777777778, \"#fb9f3a\"], [0.8888888888888888, \"#fdca26\"], [1.0, \"#f0f921\"]]}, \"colorway\": [\"#636efa\", \"#EF553B\", \"#00cc96\", \"#ab63fa\", \"#FFA15A\", \"#19d3f3\", \"#FF6692\", \"#B6E880\", \"#FF97FF\", \"#FECB52\"], \"font\": {\"color\": \"#2a3f5f\"}, \"geo\": {\"bgcolor\": \"white\", \"lakecolor\": \"white\", \"landcolor\": \"white\", \"showlakes\": true, \"showland\": true, \"subunitcolor\": \"#C8D4E3\"}, \"hoverlabel\": {\"align\": \"left\"}, \"hovermode\": \"closest\", \"mapbox\": {\"style\": \"light\"}, \"paper_bgcolor\": \"white\", \"plot_bgcolor\": \"white\", \"polar\": {\"angularaxis\": {\"gridcolor\": \"#EBF0F8\", \"linecolor\": \"#EBF0F8\", \"ticks\": \"\"}, \"bgcolor\": \"white\", \"radialaxis\": {\"gridcolor\": \"#EBF0F8\", \"linecolor\": \"#EBF0F8\", \"ticks\": \"\"}}, \"scene\": {\"xaxis\": {\"backgroundcolor\": \"white\", \"gridcolor\": \"#DFE8F3\", \"gridwidth\": 2, \"linecolor\": \"#EBF0F8\", \"showbackground\": true, \"ticks\": \"\", \"zerolinecolor\": \"#EBF0F8\"}, \"yaxis\": {\"backgroundcolor\": \"white\", \"gridcolor\": \"#DFE8F3\", \"gridwidth\": 2, \"linecolor\": \"#EBF0F8\", \"showbackground\": true, \"ticks\": \"\", \"zerolinecolor\": \"#EBF0F8\"}, \"zaxis\": {\"backgroundcolor\": \"white\", \"gridcolor\": \"#DFE8F3\", \"gridwidth\": 2, \"linecolor\": \"#EBF0F8\", \"showbackground\": true, \"ticks\": \"\", \"zerolinecolor\": \"#EBF0F8\"}}, \"shapedefaults\": {\"line\": {\"color\": \"#2a3f5f\"}}, \"ternary\": {\"aaxis\": {\"gridcolor\": \"#DFE8F3\", \"linecolor\": \"#A2B1C6\", \"ticks\": \"\"}, \"baxis\": {\"gridcolor\": \"#DFE8F3\", \"linecolor\": \"#A2B1C6\", \"ticks\": \"\"}, \"bgcolor\": \"white\", \"caxis\": {\"gridcolor\": \"#DFE8F3\", \"linecolor\": \"#A2B1C6\", \"ticks\": \"\"}}, \"title\": {\"x\": 0.05}, \"xaxis\": {\"automargin\": true, \"gridcolor\": \"#EBF0F8\", \"linecolor\": \"#EBF0F8\", \"ticks\": \"\", \"title\": {\"standoff\": 15}, \"zerolinecolor\": \"#EBF0F8\", \"zerolinewidth\": 2}, \"yaxis\": {\"automargin\": true, \"gridcolor\": \"#EBF0F8\", \"linecolor\": \"#EBF0F8\", \"ticks\": \"\", \"title\": {\"standoff\": 15}, \"zerolinecolor\": \"#EBF0F8\", \"zerolinewidth\": 2}}}, \"title\": {\"text\": \"Actual vs Predicted Price\"}, \"width\": 600, \"xaxis\": {\"title\": {\"text\": \"Batch\"}}, \"yaxis\": {\"title\": {\"text\": \"Price\"}}},\n",
              "                        {\"responsive\": true}\n",
              "                    ).then(function(){\n",
              "                            \n",
              "var gd = document.getElementById('75fb2d60-5f65-45eb-bf5e-7d526bd5abe1');\n",
              "var x = new MutationObserver(function (mutations, observer) {{\n",
              "        var display = window.getComputedStyle(gd).display;\n",
              "        if (!display || display === 'none') {{\n",
              "            console.log([gd, 'removed!']);\n",
              "            Plotly.purge(gd);\n",
              "            observer.disconnect();\n",
              "        }}\n",
              "}});\n",
              "\n",
              "// Listen for the removal of the full notebook cells\n",
              "var notebookContainer = gd.closest('#notebook-container');\n",
              "if (notebookContainer) {{\n",
              "    x.observe(notebookContainer, {childList: true});\n",
              "}}\n",
              "\n",
              "// Listen for the clearing of the current output cell\n",
              "var outputEl = gd.closest('.output');\n",
              "if (outputEl) {{\n",
              "    x.observe(outputEl, {childList: true});\n",
              "}}\n",
              "\n",
              "                        })\n",
              "                };\n",
              "                \n",
              "            </script>\n",
              "        </div>\n",
              "</body>\n",
              "</html>"
            ]
          },
          "metadata": {}
        },
        {
          "output_type": "display_data",
          "data": {
            "text/html": [
              "<html>\n",
              "<head><meta charset=\"utf-8\" /></head>\n",
              "<body>\n",
              "    <div>\n",
              "            <script src=\"https://cdnjs.cloudflare.com/ajax/libs/mathjax/2.7.5/MathJax.js?config=TeX-AMS-MML_SVG\"></script><script type=\"text/javascript\">if (window.MathJax) {MathJax.Hub.Config({SVG: {font: \"STIX-Web\"}});}</script>\n",
              "                <script type=\"text/javascript\">window.PlotlyConfig = {MathJaxConfig: 'local'};</script>\n",
              "        <script src=\"https://cdn.plot.ly/plotly-latest.min.js\"></script>    \n",
              "            <div id=\"509a7f01-8a58-4e9b-a52c-2d46717e57bb\" class=\"plotly-graph-div\" style=\"height:400px; width:600px;\"></div>\n",
              "            <script type=\"text/javascript\">\n",
              "                \n",
              "                    window.PLOTLYENV=window.PLOTLYENV || {};\n",
              "                    \n",
              "                if (document.getElementById(\"509a7f01-8a58-4e9b-a52c-2d46717e57bb\")) {\n",
              "                    Plotly.newPlot(\n",
              "                        '509a7f01-8a58-4e9b-a52c-2d46717e57bb',\n",
              "                        [{\"fill\": \"tozeroy\", \"line\": {\"color\": \"#ccc\"}, \"mode\": \"lines\", \"name\": \"Test Data\", \"type\": \"scatter\", \"x\": [7, 8, 9, 10, 11, 12, 13, 14, 15, 16, 17, 18, 19, 20, 21, 22, 23, 24, 25, 26, 27, 28, 29, 30, 31, 32, 33, 34, 35, 36, 37, 38, 39, 40, 41, 42, 43, 44, 45, 46], \"y\": [10.86482143729278, 10.845324776244428, 10.915553628736088, 10.92983626966161, 10.929128171931747, 10.961893455768932, 10.98098804732333, 10.980885568004656, 10.980543156448334, 10.984445075600787, 10.951717359970601, 10.971675169205646, 10.98749351969597, 10.968045691679201, 10.932275374037427, 10.9695339488625, 10.970652860809087, 10.99824458591514, 11.002140340384134, 10.99976378140669, 11.059975590290321, 11.050247418006242, 11.053426151713417, 11.02410266068058, 11.002210835044194, 10.935782138260963, 10.926534345840967, 10.940667601685737, 10.892798794062363, 10.853038190275313, 10.84203163172766, 10.820734626968926, 10.800937302584847, 10.896765065955865, 10.915306076898887, 10.912288548105277, 10.88846444219873, 10.962913140805849, 10.964750456024063, 10.943379207734395]}, {\"fill\": \"tozeroy\", \"line\": {\"color\": \"#ccc\"}, \"mode\": \"lines+markers\", \"name\": \"Actual Price\", \"type\": \"scatter\", \"x\": [47, 48, 49, 50, 51], \"y\": [10.86482143729278, 10.845324776244428, 10.915553628736088, 10.92983626966161, 10.929128171931747]}, {\"line\": {\"color\": \"red\"}, \"mode\": \"lines+markers\", \"name\": \"Predicted Price\", \"type\": \"scatter\", \"x\": [47, 48, 49, 50, 51], \"y\": [11.053706169128418, 10.993643760681152, 11.158763885498047, 11.098555564880371, 11.11571979522705]}],\n",
              "                        {\"height\": 400, \"template\": {\"data\": {\"bar\": [{\"error_x\": {\"color\": \"#2a3f5f\"}, \"error_y\": {\"color\": \"#2a3f5f\"}, \"marker\": {\"line\": {\"color\": \"white\", \"width\": 0.5}}, \"type\": \"bar\"}], \"barpolar\": [{\"marker\": {\"line\": {\"color\": \"white\", \"width\": 0.5}}, \"type\": \"barpolar\"}], \"carpet\": [{\"aaxis\": {\"endlinecolor\": \"#2a3f5f\", \"gridcolor\": \"#C8D4E3\", \"linecolor\": \"#C8D4E3\", \"minorgridcolor\": \"#C8D4E3\", \"startlinecolor\": \"#2a3f5f\"}, \"baxis\": {\"endlinecolor\": \"#2a3f5f\", \"gridcolor\": \"#C8D4E3\", \"linecolor\": \"#C8D4E3\", \"minorgridcolor\": \"#C8D4E3\", \"startlinecolor\": \"#2a3f5f\"}, \"type\": \"carpet\"}], \"choropleth\": [{\"colorbar\": {\"outlinewidth\": 0, \"ticks\": \"\"}, \"type\": \"choropleth\"}], \"contour\": [{\"colorbar\": {\"outlinewidth\": 0, \"ticks\": \"\"}, \"colorscale\": [[0.0, \"#0d0887\"], [0.1111111111111111, \"#46039f\"], [0.2222222222222222, \"#7201a8\"], [0.3333333333333333, \"#9c179e\"], [0.4444444444444444, \"#bd3786\"], [0.5555555555555556, \"#d8576b\"], [0.6666666666666666, \"#ed7953\"], [0.7777777777777778, \"#fb9f3a\"], [0.8888888888888888, \"#fdca26\"], [1.0, \"#f0f921\"]], \"type\": \"contour\"}], \"contourcarpet\": [{\"colorbar\": {\"outlinewidth\": 0, \"ticks\": \"\"}, \"type\": \"contourcarpet\"}], \"heatmap\": [{\"colorbar\": {\"outlinewidth\": 0, \"ticks\": \"\"}, \"colorscale\": [[0.0, \"#0d0887\"], [0.1111111111111111, \"#46039f\"], [0.2222222222222222, \"#7201a8\"], [0.3333333333333333, \"#9c179e\"], [0.4444444444444444, \"#bd3786\"], [0.5555555555555556, \"#d8576b\"], [0.6666666666666666, \"#ed7953\"], [0.7777777777777778, \"#fb9f3a\"], [0.8888888888888888, \"#fdca26\"], [1.0, \"#f0f921\"]], \"type\": \"heatmap\"}], \"heatmapgl\": [{\"colorbar\": {\"outlinewidth\": 0, \"ticks\": \"\"}, \"colorscale\": [[0.0, \"#0d0887\"], [0.1111111111111111, \"#46039f\"], [0.2222222222222222, \"#7201a8\"], [0.3333333333333333, \"#9c179e\"], [0.4444444444444444, \"#bd3786\"], [0.5555555555555556, \"#d8576b\"], [0.6666666666666666, \"#ed7953\"], [0.7777777777777778, \"#fb9f3a\"], [0.8888888888888888, \"#fdca26\"], [1.0, \"#f0f921\"]], \"type\": \"heatmapgl\"}], \"histogram\": [{\"marker\": {\"colorbar\": {\"outlinewidth\": 0, \"ticks\": \"\"}}, \"type\": \"histogram\"}], \"histogram2d\": [{\"colorbar\": {\"outlinewidth\": 0, \"ticks\": \"\"}, \"colorscale\": [[0.0, \"#0d0887\"], [0.1111111111111111, \"#46039f\"], [0.2222222222222222, \"#7201a8\"], [0.3333333333333333, \"#9c179e\"], [0.4444444444444444, \"#bd3786\"], [0.5555555555555556, \"#d8576b\"], [0.6666666666666666, \"#ed7953\"], [0.7777777777777778, \"#fb9f3a\"], [0.8888888888888888, \"#fdca26\"], [1.0, \"#f0f921\"]], \"type\": \"histogram2d\"}], \"histogram2dcontour\": [{\"colorbar\": {\"outlinewidth\": 0, \"ticks\": \"\"}, \"colorscale\": [[0.0, \"#0d0887\"], [0.1111111111111111, \"#46039f\"], [0.2222222222222222, \"#7201a8\"], [0.3333333333333333, \"#9c179e\"], [0.4444444444444444, \"#bd3786\"], [0.5555555555555556, \"#d8576b\"], [0.6666666666666666, \"#ed7953\"], [0.7777777777777778, \"#fb9f3a\"], [0.8888888888888888, \"#fdca26\"], [1.0, \"#f0f921\"]], \"type\": \"histogram2dcontour\"}], \"mesh3d\": [{\"colorbar\": {\"outlinewidth\": 0, \"ticks\": \"\"}, \"type\": \"mesh3d\"}], \"parcoords\": [{\"line\": {\"colorbar\": {\"outlinewidth\": 0, \"ticks\": \"\"}}, \"type\": \"parcoords\"}], \"pie\": [{\"automargin\": true, \"type\": \"pie\"}], \"scatter\": [{\"marker\": {\"colorbar\": {\"outlinewidth\": 0, \"ticks\": \"\"}}, \"type\": \"scatter\"}], \"scatter3d\": [{\"line\": {\"colorbar\": {\"outlinewidth\": 0, \"ticks\": \"\"}}, \"marker\": {\"colorbar\": {\"outlinewidth\": 0, \"ticks\": \"\"}}, \"type\": \"scatter3d\"}], \"scattercarpet\": [{\"marker\": {\"colorbar\": {\"outlinewidth\": 0, \"ticks\": \"\"}}, \"type\": \"scattercarpet\"}], \"scattergeo\": [{\"marker\": {\"colorbar\": {\"outlinewidth\": 0, \"ticks\": \"\"}}, \"type\": \"scattergeo\"}], \"scattergl\": [{\"marker\": {\"colorbar\": {\"outlinewidth\": 0, \"ticks\": \"\"}}, \"type\": \"scattergl\"}], \"scattermapbox\": [{\"marker\": {\"colorbar\": {\"outlinewidth\": 0, \"ticks\": \"\"}}, \"type\": \"scattermapbox\"}], \"scatterpolar\": [{\"marker\": {\"colorbar\": {\"outlinewidth\": 0, \"ticks\": \"\"}}, \"type\": \"scatterpolar\"}], \"scatterpolargl\": [{\"marker\": {\"colorbar\": {\"outlinewidth\": 0, \"ticks\": \"\"}}, \"type\": \"scatterpolargl\"}], \"scatterternary\": [{\"marker\": {\"colorbar\": {\"outlinewidth\": 0, \"ticks\": \"\"}}, \"type\": \"scatterternary\"}], \"surface\": [{\"colorbar\": {\"outlinewidth\": 0, \"ticks\": \"\"}, \"colorscale\": [[0.0, \"#0d0887\"], [0.1111111111111111, \"#46039f\"], [0.2222222222222222, \"#7201a8\"], [0.3333333333333333, \"#9c179e\"], [0.4444444444444444, \"#bd3786\"], [0.5555555555555556, \"#d8576b\"], [0.6666666666666666, \"#ed7953\"], [0.7777777777777778, \"#fb9f3a\"], [0.8888888888888888, \"#fdca26\"], [1.0, \"#f0f921\"]], \"type\": \"surface\"}], \"table\": [{\"cells\": {\"fill\": {\"color\": \"#EBF0F8\"}, \"line\": {\"color\": \"white\"}}, \"header\": {\"fill\": {\"color\": \"#C8D4E3\"}, \"line\": {\"color\": \"white\"}}, \"type\": \"table\"}]}, \"layout\": {\"annotationdefaults\": {\"arrowcolor\": \"#2a3f5f\", \"arrowhead\": 0, \"arrowwidth\": 1}, \"coloraxis\": {\"colorbar\": {\"outlinewidth\": 0, \"ticks\": \"\"}}, \"colorscale\": {\"diverging\": [[0, \"#8e0152\"], [0.1, \"#c51b7d\"], [0.2, \"#de77ae\"], [0.3, \"#f1b6da\"], [0.4, \"#fde0ef\"], [0.5, \"#f7f7f7\"], [0.6, \"#e6f5d0\"], [0.7, \"#b8e186\"], [0.8, \"#7fbc41\"], [0.9, \"#4d9221\"], [1, \"#276419\"]], \"sequential\": [[0.0, \"#0d0887\"], [0.1111111111111111, \"#46039f\"], [0.2222222222222222, \"#7201a8\"], [0.3333333333333333, \"#9c179e\"], [0.4444444444444444, \"#bd3786\"], [0.5555555555555556, \"#d8576b\"], [0.6666666666666666, \"#ed7953\"], [0.7777777777777778, \"#fb9f3a\"], [0.8888888888888888, \"#fdca26\"], [1.0, \"#f0f921\"]], \"sequentialminus\": [[0.0, \"#0d0887\"], [0.1111111111111111, \"#46039f\"], [0.2222222222222222, \"#7201a8\"], [0.3333333333333333, \"#9c179e\"], [0.4444444444444444, \"#bd3786\"], [0.5555555555555556, \"#d8576b\"], [0.6666666666666666, \"#ed7953\"], [0.7777777777777778, \"#fb9f3a\"], [0.8888888888888888, \"#fdca26\"], [1.0, \"#f0f921\"]]}, \"colorway\": [\"#636efa\", \"#EF553B\", \"#00cc96\", \"#ab63fa\", \"#FFA15A\", \"#19d3f3\", \"#FF6692\", \"#B6E880\", \"#FF97FF\", \"#FECB52\"], \"font\": {\"color\": \"#2a3f5f\"}, \"geo\": {\"bgcolor\": \"white\", \"lakecolor\": \"white\", \"landcolor\": \"white\", \"showlakes\": true, \"showland\": true, \"subunitcolor\": \"#C8D4E3\"}, \"hoverlabel\": {\"align\": \"left\"}, \"hovermode\": \"closest\", \"mapbox\": {\"style\": \"light\"}, \"paper_bgcolor\": \"white\", \"plot_bgcolor\": \"white\", \"polar\": {\"angularaxis\": {\"gridcolor\": \"#EBF0F8\", \"linecolor\": \"#EBF0F8\", \"ticks\": \"\"}, \"bgcolor\": \"white\", \"radialaxis\": {\"gridcolor\": \"#EBF0F8\", \"linecolor\": \"#EBF0F8\", \"ticks\": \"\"}}, \"scene\": {\"xaxis\": {\"backgroundcolor\": \"white\", \"gridcolor\": \"#DFE8F3\", \"gridwidth\": 2, \"linecolor\": \"#EBF0F8\", \"showbackground\": true, \"ticks\": \"\", \"zerolinecolor\": \"#EBF0F8\"}, \"yaxis\": {\"backgroundcolor\": \"white\", \"gridcolor\": \"#DFE8F3\", \"gridwidth\": 2, \"linecolor\": \"#EBF0F8\", \"showbackground\": true, \"ticks\": \"\", \"zerolinecolor\": \"#EBF0F8\"}, \"zaxis\": {\"backgroundcolor\": \"white\", \"gridcolor\": \"#DFE8F3\", \"gridwidth\": 2, \"linecolor\": \"#EBF0F8\", \"showbackground\": true, \"ticks\": \"\", \"zerolinecolor\": \"#EBF0F8\"}}, \"shapedefaults\": {\"line\": {\"color\": \"#2a3f5f\"}}, \"ternary\": {\"aaxis\": {\"gridcolor\": \"#DFE8F3\", \"linecolor\": \"#A2B1C6\", \"ticks\": \"\"}, \"baxis\": {\"gridcolor\": \"#DFE8F3\", \"linecolor\": \"#A2B1C6\", \"ticks\": \"\"}, \"bgcolor\": \"white\", \"caxis\": {\"gridcolor\": \"#DFE8F3\", \"linecolor\": \"#A2B1C6\", \"ticks\": \"\"}}, \"title\": {\"x\": 0.05}, \"xaxis\": {\"automargin\": true, \"gridcolor\": \"#EBF0F8\", \"linecolor\": \"#EBF0F8\", \"ticks\": \"\", \"title\": {\"standoff\": 15}, \"zerolinecolor\": \"#EBF0F8\", \"zerolinewidth\": 2}, \"yaxis\": {\"automargin\": true, \"gridcolor\": \"#EBF0F8\", \"linecolor\": \"#EBF0F8\", \"ticks\": \"\", \"title\": {\"standoff\": 15}, \"zerolinecolor\": \"#EBF0F8\", \"zerolinewidth\": 2}}}, \"title\": {\"text\": \"Actual vs Predicted Price\"}, \"width\": 600, \"xaxis\": {\"title\": {\"text\": \"Batch\"}}, \"yaxis\": {\"title\": {\"text\": \"Price\"}}},\n",
              "                        {\"responsive\": true}\n",
              "                    ).then(function(){\n",
              "                            \n",
              "var gd = document.getElementById('509a7f01-8a58-4e9b-a52c-2d46717e57bb');\n",
              "var x = new MutationObserver(function (mutations, observer) {{\n",
              "        var display = window.getComputedStyle(gd).display;\n",
              "        if (!display || display === 'none') {{\n",
              "            console.log([gd, 'removed!']);\n",
              "            Plotly.purge(gd);\n",
              "            observer.disconnect();\n",
              "        }}\n",
              "}});\n",
              "\n",
              "// Listen for the removal of the full notebook cells\n",
              "var notebookContainer = gd.closest('#notebook-container');\n",
              "if (notebookContainer) {{\n",
              "    x.observe(notebookContainer, {childList: true});\n",
              "}}\n",
              "\n",
              "// Listen for the clearing of the current output cell\n",
              "var outputEl = gd.closest('.output');\n",
              "if (outputEl) {{\n",
              "    x.observe(outputEl, {childList: true});\n",
              "}}\n",
              "\n",
              "                        })\n",
              "                };\n",
              "                \n",
              "            </script>\n",
              "        </div>\n",
              "</body>\n",
              "</html>"
            ]
          },
          "metadata": {}
        },
        {
          "output_type": "stream",
          "name": "stderr",
          "text": [
            "WARNING:absl:Found untraced functions such as lstm_cell_layer_call_fn, lstm_cell_layer_call_and_return_conditional_losses, lstm_cell_1_layer_call_fn, lstm_cell_1_layer_call_and_return_conditional_losses, lstm_cell_2_layer_call_fn while saving (showing 5 of 15). These functions will not be directly callable after loading.\n"
          ]
        },
        {
          "output_type": "stream",
          "name": "stdout",
          "text": [
            "INFO:tensorflow:Assets written to: /content/drive/MyDrive/Colab Notebooks/models/model_BTC_log_features_optimized/assets\n"
          ]
        },
        {
          "output_type": "stream",
          "name": "stderr",
          "text": [
            "INFO:tensorflow:Assets written to: /content/drive/MyDrive/Colab Notebooks/models/model_BTC_log_features_optimized/assets\n"
          ]
        }
      ]
    },
    {
      "cell_type": "markdown",
      "metadata": {
        "id": "XqkR_87g6ARV"
      },
      "source": [
        "### VM Ware"
      ]
    },
    {
      "cell_type": "code",
      "metadata": {
        "colab": {
          "base_uri": "https://localhost:8080/",
          "height": 1000
        },
        "id": "GEZRzau_6Ap-",
        "outputId": "5b9912e4-ad71-42de-c977-cac495dda248"
      },
      "source": [
        "# VW Ware -all features\n",
        "\n",
        "# optimized hyperparams for VMW with feature selection\n",
        "config ={\n",
        "    'data': {'n_steps':n_steps,'n_predict':n_predict},\n",
        "    'layers': [('lstm',1024,True,0.3),('lstm',512,False,0.1),('dense',256,None,0.2),('dense',128,None,0.1)],\n",
        "    'train':{'epochs':250,'batch_size':128,'early_stop':EarlyStopping(monitor='loss',patience=10)}\n",
        "}\n",
        "\n",
        "\n",
        "stock= 'VWM'\n",
        "modelname = f'model_{stock}_{transform}'\n",
        "model = create_lstm_model(config,x_train,n_predict)\n",
        "\n",
        "# train\n",
        "tic = timeit.default_timer()\n",
        "history = model.fit(x_train,\n",
        "                    y_train,\n",
        "                    batch_size=config['train']['batch_size'],\n",
        "                    epochs=config['train']['epochs'],\n",
        "                    callbacks = [config['train']['early_stop']],\n",
        "                    validation_split =0.10, \n",
        "                    verbose = 0\n",
        "                    )\n",
        "\n",
        "\n",
        "# print the training time\n",
        "toc =timeit.default_timer()\n",
        "print('\\nTraining Time')\n",
        "print('='*60)\n",
        "print(f'Minutes:{round((toc-tic)/60,2)}\\n')\n",
        "\n",
        "# predict prices\n",
        "# calculate the performance metrics\n",
        "# plot training metrics\n",
        "# plot predictions for random batches\n",
        "y_pred_scaled = calculate_performance(x_test,y_test,model,scaler_y)\n",
        "plot_training_metrics(history)\n",
        "plot_n_price_predictions(idx_close,x_test,y_pred_scaled,scaler_y,2)\n",
        "\n",
        "\n",
        "# save model and training performance\n",
        "model.save(f'/content/drive/MyDrive/Colab Notebooks/models/{modelname}_all_optimized')\n",
        "\n",
        "df_hist = pd.DataFrame(history.history) \n",
        "df_hist.to_csv(f'/content/drive/MyDrive/Colab Notebooks/models/{modelname}_all_optimized/train_history.csv')"
      ],
      "execution_count": 46,
      "outputs": [
        {
          "output_type": "stream",
          "name": "stdout",
          "text": [
            "Model: \"LSTM\"\n",
            "_________________________________________________________________\n",
            "Layer (type)                 Output Shape              Param #   \n",
            "=================================================================\n",
            "lstm (LSTM)                  (None, 40, 40)            11040     \n",
            "_________________________________________________________________\n",
            "lstm_1 (LSTM)                (None, 40, 1024)          4362240   \n",
            "_________________________________________________________________\n",
            "dropout (Dropout)            (None, 40, 1024)          0         \n",
            "_________________________________________________________________\n",
            "lstm_2 (LSTM)                (None, 512)               3147776   \n",
            "_________________________________________________________________\n",
            "dropout_1 (Dropout)          (None, 512)               0         \n",
            "_________________________________________________________________\n",
            "dense (Dense)                (None, 256)               131328    \n",
            "_________________________________________________________________\n",
            "dropout_2 (Dropout)          (None, 256)               0         \n",
            "_________________________________________________________________\n",
            "dense_1 (Dense)              (None, 128)               32896     \n",
            "_________________________________________________________________\n",
            "dropout_3 (Dropout)          (None, 128)               0         \n",
            "_________________________________________________________________\n",
            "dense_2 (Dense)              (None, 5)                 645       \n",
            "=================================================================\n",
            "Total params: 7,685,925\n",
            "Trainable params: 7,685,925\n",
            "Non-trainable params: 0\n",
            "_________________________________________________________________\n",
            "\n",
            "Training Time\n",
            "============================================================\n",
            "Minutes:1.52\n",
            "\n",
            "\n",
            "Model Error\n",
            "==============================================================\n",
            "Mean Absolute Error (MAE)------------------------------  0.05\n",
            "Root Mean Squared Error (MSE)--------------------------  0.07\n",
            "Mean Absolute Percentage Error (MAPE)------------------  1.08%\n",
            "Median Absolute Percentage Error (MDAPE)---------------  0.91%\n"
          ]
        },
        {
          "output_type": "display_data",
          "data": {
            "text/html": [
              "<html>\n",
              "<head><meta charset=\"utf-8\" /></head>\n",
              "<body>\n",
              "    <div>\n",
              "            <script src=\"https://cdnjs.cloudflare.com/ajax/libs/mathjax/2.7.5/MathJax.js?config=TeX-AMS-MML_SVG\"></script><script type=\"text/javascript\">if (window.MathJax) {MathJax.Hub.Config({SVG: {font: \"STIX-Web\"}});}</script>\n",
              "                <script type=\"text/javascript\">window.PlotlyConfig = {MathJaxConfig: 'local'};</script>\n",
              "        <script src=\"https://cdn.plot.ly/plotly-latest.min.js\"></script>    \n",
              "            <div id=\"e61bf064-c9b7-4239-98db-1c18ce5d381d\" class=\"plotly-graph-div\" style=\"height:500px; width:700px;\"></div>\n",
              "            <script type=\"text/javascript\">\n",
              "                \n",
              "                    window.PLOTLYENV=window.PLOTLYENV || {};\n",
              "                    \n",
              "                if (document.getElementById(\"e61bf064-c9b7-4239-98db-1c18ce5d381d\")) {\n",
              "                    Plotly.newPlot(\n",
              "                        'e61bf064-c9b7-4239-98db-1c18ce5d381d',\n",
              "                        [{\"line\": {\"color\": \"royalblue\", \"width\": 3}, \"name\": \"train-loss\", \"type\": \"scatter\", \"x\": [1, 2, 3, 4, 5, 6, 7, 8, 9, 10, 11, 12, 13, 14, 15, 16, 17, 18, 19, 20, 21, 22, 23, 24, 25, 26, 27, 28, 29, 30, 31, 32, 33, 34, 35, 36, 37, 38, 39, 40, 41, 42, 43, 44, 45, 46, 47, 48, 49, 50, 51, 52, 53, 54, 55, 56, 57, 58, 59, 60, 61, 62, 63, 64, 65, 66, 67, 68, 69, 70, 71, 72, 73, 74, 75, 76, 77, 78, 79, 80, 81, 82, 83, 84, 85, 86, 87, 88, 89, 90, 91, 92, 93, 94, 95, 96, 97, 98, 99, 100, 101, 102, 103, 104, 105, 106, 107, 108, 109, 110, 111, 112, 113, 114, 115], \"y\": [0.11758984625339508, 0.00943788979202509, 0.00522897532209754, 0.004155270289629698, 0.0038144653663039207, 0.003866784740239382, 0.003557879012078047, 0.0033359171357005835, 0.003119921777397394, 0.0029585433658212423, 0.0030972773674875498, 0.0028243267443031073, 0.002715643495321274, 0.00288814352825284, 0.002763645024970174, 0.0024972206447273493, 0.0024782486725598574, 0.0024859930854290724, 0.002525574527680874, 0.002572534140199423, 0.002194097964093089, 0.002312656259164214, 0.002531530102714896, 0.0022990433499217033, 0.002120913239195943, 0.00213316990993917, 0.002662498503923416, 0.002305274596437812, 0.00209122896194458, 0.0020147121977061033, 0.0020223802421242, 0.0019022373016923666, 0.0018826121231541038, 0.0019342697924003005, 0.0018642428331077099, 0.0018106956267729402, 0.0017992152133956552, 0.001708367606624961, 0.0020375095773488283, 0.0019274121150374413, 0.001975279301404953, 0.0019699011463671923, 0.00183950609061867, 0.0016327546909451485, 0.0017159809358417988, 0.0017295627621933818, 0.0015291478484869003, 0.0016309632919728756, 0.0015489464858546853, 0.001495559816248715, 0.0016097811749204993, 0.0015441541327163577, 0.0015069893561303616, 0.0015263496898114681, 0.0014280586037784815, 0.0015044165775179863, 0.0016688548494130373, 0.0015417162794619799, 0.0014168041525408626, 0.0014008671278133988, 0.0015804959693923593, 0.0013490922283381224, 0.0014036183711141348, 0.0016954593593254685, 0.0014053073246032, 0.0015194695442914963, 0.0014029026497155428, 0.0013625049032270908, 0.0016145711997523904, 0.0014653983525931835, 0.0013473612489178777, 0.0012683841632679105, 0.0013367203064262867, 0.0013181936228647828, 0.0013266251189634204, 0.0012920817825943232, 0.0012621835339814425, 0.0013354291440919042, 0.001399541855789721, 0.0014048299053683877, 0.0013470147969201207, 0.0012061214074492455, 0.0012038323329761624, 0.0012191454879939556, 0.0011962720891460776, 0.001244951388798654, 0.0012285306584089994, 0.0011779327178373933, 0.0011796612525358796, 0.0012658567866310477, 0.0011668201768770814, 0.0011470788158476353, 0.0012153727002441883, 0.0012727957218885422, 0.001245957100763917, 0.0012032644590362906, 0.0011017195647582412, 0.0011343929218128324, 0.001072544720955193, 0.0011897683143615723, 0.0010795231210067868, 0.001061436254531145, 0.0010311438236385584, 0.001040894421748817, 0.0010016794549301267, 0.0011078872485086322, 0.0011259583989158273, 0.0011014548363164067, 0.0011095027439296246, 0.001104235532693565, 0.0011049029417335987, 0.001097124652005732, 0.001128764939494431, 0.0011170969810336828, 0.0012284759432077408]}, {\"line\": {\"color\": \"crimson\", \"width\": 3}, \"name\": \"val-loss\", \"type\": \"scatter\", \"x\": [1, 2, 3, 4, 5, 6, 7, 8, 9, 10, 11, 12, 13, 14, 15, 16, 17, 18, 19, 20, 21, 22, 23, 24, 25, 26, 27, 28, 29, 30, 31, 32, 33, 34, 35, 36, 37, 38, 39, 40, 41, 42, 43, 44, 45, 46, 47, 48, 49, 50, 51, 52, 53, 54, 55, 56, 57, 58, 59, 60, 61, 62, 63, 64, 65, 66, 67, 68, 69, 70, 71, 72, 73, 74, 75, 76, 77, 78, 79, 80, 81, 82, 83, 84, 85, 86, 87, 88, 89, 90, 91, 92, 93, 94, 95, 96, 97, 98, 99, 100, 101, 102, 103, 104, 105, 106, 107, 108, 109, 110, 111, 112, 113, 114, 115], \"y\": [0.015724942088127136, 0.012718217447400093, 0.013915006071329117, 0.006877378560602665, 0.013574360869824886, 0.005930198356509209, 0.005567952990531921, 0.0037599902134388685, 0.004452191758900881, 0.0031808780040591955, 0.004767189733684063, 0.0033471405040472746, 0.0034164839889854193, 0.006254485808312893, 0.005112642887979746, 0.0019486219389364123, 0.002299950225278735, 0.003349761012941599, 0.0029442114755511284, 0.0030912046786397696, 0.003155785147100687, 0.002682511694729328, 0.005208845250308514, 0.006880688015371561, 0.002690529217943549, 0.007374261971563101, 0.0019873958081007004, 0.002173115499317646, 0.0029157225508242846, 0.0038867793045938015, 0.002455596812069416, 0.0026835862081497908, 0.0017225733026862144, 0.0021992027759552, 0.002302152570337057, 0.0022756988182663918, 0.002826691372320056, 0.0016602147370576859, 0.003778869053348899, 0.0058704037219285965, 0.0018056267872452736, 0.005246307700872421, 0.0022122161462903023, 0.0037194599863141775, 0.0018118100706487894, 0.0027005383744835854, 0.0033605885691940784, 0.0034314021468162537, 0.0022138613276183605, 0.0037014686968177557, 0.001864150632172823, 0.003396865213289857, 0.0016058748587965965, 0.001902962801977992, 0.003644789569079876, 0.0015985348727554083, 0.0018634088337421417, 0.0031092457938939333, 0.003687599441036582, 0.001687265234068036, 0.002852346282452345, 0.002179230796173215, 0.006164364982396364, 0.0018622125498950481, 0.002135927090421319, 0.002346437657251954, 0.0036579647567123175, 0.0042775166220963, 0.0020699671003967524, 0.002683598781004548, 0.003305490594357252, 0.002040131250396371, 0.0029115003999322653, 0.004100351594388485, 0.0025213006883859634, 0.001639052527025342, 0.0036109653301537037, 0.004164058715105057, 0.0017301258631050587, 0.00333384214900434, 0.002360823331400752, 0.001867951825261116, 0.001662482158280909, 0.0016968646086752415, 0.00409672362729907, 0.0015892647206783295, 0.002426047110930085, 0.0015860932180657983, 0.002570372074842453, 0.0016327559715136886, 0.0016702971188351512, 0.001561057404614985, 0.0016686446033418179, 0.0015764408744871616, 0.0029540746472775936, 0.0016435639699921012, 0.002553484169766307, 0.0020445750560611486, 0.002283472800627351, 0.0015865598106756806, 0.001596496207639575, 0.0017657418502494693, 0.0017798381159082055, 0.0029197554104030132, 0.0015625075902789831, 0.0015882409643381834, 0.0020096611697226763, 0.0032572438940405846, 0.0015782940899953246, 0.002675653202459216, 0.0016775240655988455, 0.002861135406419635, 0.0016252938657999039, 0.00751532195135951, 0.002177400980144739]}],\n",
              "                        {\"height\": 500, \"template\": {\"data\": {\"bar\": [{\"error_x\": {\"color\": \"#2a3f5f\"}, \"error_y\": {\"color\": \"#2a3f5f\"}, \"marker\": {\"line\": {\"color\": \"white\", \"width\": 0.5}}, \"type\": \"bar\"}], \"barpolar\": [{\"marker\": {\"line\": {\"color\": \"white\", \"width\": 0.5}}, \"type\": \"barpolar\"}], \"carpet\": [{\"aaxis\": {\"endlinecolor\": \"#2a3f5f\", \"gridcolor\": \"#C8D4E3\", \"linecolor\": \"#C8D4E3\", \"minorgridcolor\": \"#C8D4E3\", \"startlinecolor\": \"#2a3f5f\"}, \"baxis\": {\"endlinecolor\": \"#2a3f5f\", \"gridcolor\": \"#C8D4E3\", \"linecolor\": \"#C8D4E3\", \"minorgridcolor\": \"#C8D4E3\", \"startlinecolor\": \"#2a3f5f\"}, \"type\": \"carpet\"}], \"choropleth\": [{\"colorbar\": {\"outlinewidth\": 0, \"ticks\": \"\"}, \"type\": \"choropleth\"}], \"contour\": [{\"colorbar\": {\"outlinewidth\": 0, \"ticks\": \"\"}, \"colorscale\": [[0.0, \"#0d0887\"], [0.1111111111111111, \"#46039f\"], [0.2222222222222222, \"#7201a8\"], [0.3333333333333333, \"#9c179e\"], [0.4444444444444444, \"#bd3786\"], [0.5555555555555556, \"#d8576b\"], [0.6666666666666666, \"#ed7953\"], [0.7777777777777778, \"#fb9f3a\"], [0.8888888888888888, \"#fdca26\"], [1.0, \"#f0f921\"]], \"type\": \"contour\"}], \"contourcarpet\": [{\"colorbar\": {\"outlinewidth\": 0, \"ticks\": \"\"}, \"type\": \"contourcarpet\"}], \"heatmap\": [{\"colorbar\": {\"outlinewidth\": 0, \"ticks\": \"\"}, \"colorscale\": [[0.0, \"#0d0887\"], [0.1111111111111111, \"#46039f\"], [0.2222222222222222, \"#7201a8\"], [0.3333333333333333, \"#9c179e\"], [0.4444444444444444, \"#bd3786\"], [0.5555555555555556, \"#d8576b\"], [0.6666666666666666, \"#ed7953\"], [0.7777777777777778, \"#fb9f3a\"], [0.8888888888888888, \"#fdca26\"], [1.0, \"#f0f921\"]], \"type\": \"heatmap\"}], \"heatmapgl\": [{\"colorbar\": {\"outlinewidth\": 0, \"ticks\": \"\"}, \"colorscale\": [[0.0, \"#0d0887\"], [0.1111111111111111, \"#46039f\"], [0.2222222222222222, \"#7201a8\"], [0.3333333333333333, \"#9c179e\"], [0.4444444444444444, \"#bd3786\"], [0.5555555555555556, \"#d8576b\"], [0.6666666666666666, \"#ed7953\"], [0.7777777777777778, \"#fb9f3a\"], [0.8888888888888888, \"#fdca26\"], [1.0, \"#f0f921\"]], \"type\": \"heatmapgl\"}], \"histogram\": [{\"marker\": {\"colorbar\": {\"outlinewidth\": 0, \"ticks\": \"\"}}, \"type\": \"histogram\"}], \"histogram2d\": [{\"colorbar\": {\"outlinewidth\": 0, \"ticks\": \"\"}, \"colorscale\": [[0.0, \"#0d0887\"], [0.1111111111111111, \"#46039f\"], [0.2222222222222222, \"#7201a8\"], [0.3333333333333333, \"#9c179e\"], [0.4444444444444444, \"#bd3786\"], [0.5555555555555556, \"#d8576b\"], [0.6666666666666666, \"#ed7953\"], [0.7777777777777778, \"#fb9f3a\"], [0.8888888888888888, \"#fdca26\"], [1.0, \"#f0f921\"]], \"type\": \"histogram2d\"}], \"histogram2dcontour\": [{\"colorbar\": {\"outlinewidth\": 0, \"ticks\": \"\"}, \"colorscale\": [[0.0, \"#0d0887\"], [0.1111111111111111, \"#46039f\"], [0.2222222222222222, \"#7201a8\"], [0.3333333333333333, \"#9c179e\"], [0.4444444444444444, \"#bd3786\"], [0.5555555555555556, \"#d8576b\"], [0.6666666666666666, \"#ed7953\"], [0.7777777777777778, \"#fb9f3a\"], [0.8888888888888888, \"#fdca26\"], [1.0, \"#f0f921\"]], \"type\": \"histogram2dcontour\"}], \"mesh3d\": [{\"colorbar\": {\"outlinewidth\": 0, \"ticks\": \"\"}, \"type\": \"mesh3d\"}], \"parcoords\": [{\"line\": {\"colorbar\": {\"outlinewidth\": 0, \"ticks\": \"\"}}, \"type\": \"parcoords\"}], \"pie\": [{\"automargin\": true, \"type\": \"pie\"}], \"scatter\": [{\"marker\": {\"colorbar\": {\"outlinewidth\": 0, \"ticks\": \"\"}}, \"type\": \"scatter\"}], \"scatter3d\": [{\"line\": {\"colorbar\": {\"outlinewidth\": 0, \"ticks\": \"\"}}, \"marker\": {\"colorbar\": {\"outlinewidth\": 0, \"ticks\": \"\"}}, \"type\": \"scatter3d\"}], \"scattercarpet\": [{\"marker\": {\"colorbar\": {\"outlinewidth\": 0, \"ticks\": \"\"}}, \"type\": \"scattercarpet\"}], \"scattergeo\": [{\"marker\": {\"colorbar\": {\"outlinewidth\": 0, \"ticks\": \"\"}}, \"type\": \"scattergeo\"}], \"scattergl\": [{\"marker\": {\"colorbar\": {\"outlinewidth\": 0, \"ticks\": \"\"}}, \"type\": \"scattergl\"}], \"scattermapbox\": [{\"marker\": {\"colorbar\": {\"outlinewidth\": 0, \"ticks\": \"\"}}, \"type\": \"scattermapbox\"}], \"scatterpolar\": [{\"marker\": {\"colorbar\": {\"outlinewidth\": 0, \"ticks\": \"\"}}, \"type\": \"scatterpolar\"}], \"scatterpolargl\": [{\"marker\": {\"colorbar\": {\"outlinewidth\": 0, \"ticks\": \"\"}}, \"type\": \"scatterpolargl\"}], \"scatterternary\": [{\"marker\": {\"colorbar\": {\"outlinewidth\": 0, \"ticks\": \"\"}}, \"type\": \"scatterternary\"}], \"surface\": [{\"colorbar\": {\"outlinewidth\": 0, \"ticks\": \"\"}, \"colorscale\": [[0.0, \"#0d0887\"], [0.1111111111111111, \"#46039f\"], [0.2222222222222222, \"#7201a8\"], [0.3333333333333333, \"#9c179e\"], [0.4444444444444444, \"#bd3786\"], [0.5555555555555556, \"#d8576b\"], [0.6666666666666666, \"#ed7953\"], [0.7777777777777778, \"#fb9f3a\"], [0.8888888888888888, \"#fdca26\"], [1.0, \"#f0f921\"]], \"type\": \"surface\"}], \"table\": [{\"cells\": {\"fill\": {\"color\": \"#EBF0F8\"}, \"line\": {\"color\": \"white\"}}, \"header\": {\"fill\": {\"color\": \"#C8D4E3\"}, \"line\": {\"color\": \"white\"}}, \"type\": \"table\"}]}, \"layout\": {\"annotationdefaults\": {\"arrowcolor\": \"#2a3f5f\", \"arrowhead\": 0, \"arrowwidth\": 1}, \"coloraxis\": {\"colorbar\": {\"outlinewidth\": 0, \"ticks\": \"\"}}, \"colorscale\": {\"diverging\": [[0, \"#8e0152\"], [0.1, \"#c51b7d\"], [0.2, \"#de77ae\"], [0.3, \"#f1b6da\"], [0.4, \"#fde0ef\"], [0.5, \"#f7f7f7\"], [0.6, \"#e6f5d0\"], [0.7, \"#b8e186\"], [0.8, \"#7fbc41\"], [0.9, \"#4d9221\"], [1, \"#276419\"]], \"sequential\": [[0.0, \"#0d0887\"], [0.1111111111111111, \"#46039f\"], [0.2222222222222222, \"#7201a8\"], [0.3333333333333333, \"#9c179e\"], [0.4444444444444444, \"#bd3786\"], [0.5555555555555556, \"#d8576b\"], [0.6666666666666666, \"#ed7953\"], [0.7777777777777778, \"#fb9f3a\"], [0.8888888888888888, \"#fdca26\"], [1.0, \"#f0f921\"]], \"sequentialminus\": [[0.0, \"#0d0887\"], [0.1111111111111111, \"#46039f\"], [0.2222222222222222, \"#7201a8\"], [0.3333333333333333, \"#9c179e\"], [0.4444444444444444, \"#bd3786\"], [0.5555555555555556, \"#d8576b\"], [0.6666666666666666, \"#ed7953\"], [0.7777777777777778, \"#fb9f3a\"], [0.8888888888888888, \"#fdca26\"], [1.0, \"#f0f921\"]]}, \"colorway\": [\"#636efa\", \"#EF553B\", \"#00cc96\", \"#ab63fa\", \"#FFA15A\", \"#19d3f3\", \"#FF6692\", \"#B6E880\", \"#FF97FF\", \"#FECB52\"], \"font\": {\"color\": \"#2a3f5f\"}, \"geo\": {\"bgcolor\": \"white\", \"lakecolor\": \"white\", \"landcolor\": \"white\", \"showlakes\": true, \"showland\": true, \"subunitcolor\": \"#C8D4E3\"}, \"hoverlabel\": {\"align\": \"left\"}, \"hovermode\": \"closest\", \"mapbox\": {\"style\": \"light\"}, \"paper_bgcolor\": \"white\", \"plot_bgcolor\": \"white\", \"polar\": {\"angularaxis\": {\"gridcolor\": \"#EBF0F8\", \"linecolor\": \"#EBF0F8\", \"ticks\": \"\"}, \"bgcolor\": \"white\", \"radialaxis\": {\"gridcolor\": \"#EBF0F8\", \"linecolor\": \"#EBF0F8\", \"ticks\": \"\"}}, \"scene\": {\"xaxis\": {\"backgroundcolor\": \"white\", \"gridcolor\": \"#DFE8F3\", \"gridwidth\": 2, \"linecolor\": \"#EBF0F8\", \"showbackground\": true, \"ticks\": \"\", \"zerolinecolor\": \"#EBF0F8\"}, \"yaxis\": {\"backgroundcolor\": \"white\", \"gridcolor\": \"#DFE8F3\", \"gridwidth\": 2, \"linecolor\": \"#EBF0F8\", \"showbackground\": true, \"ticks\": \"\", \"zerolinecolor\": \"#EBF0F8\"}, \"zaxis\": {\"backgroundcolor\": \"white\", \"gridcolor\": \"#DFE8F3\", \"gridwidth\": 2, \"linecolor\": \"#EBF0F8\", \"showbackground\": true, \"ticks\": \"\", \"zerolinecolor\": \"#EBF0F8\"}}, \"shapedefaults\": {\"line\": {\"color\": \"#2a3f5f\"}}, \"ternary\": {\"aaxis\": {\"gridcolor\": \"#DFE8F3\", \"linecolor\": \"#A2B1C6\", \"ticks\": \"\"}, \"baxis\": {\"gridcolor\": \"#DFE8F3\", \"linecolor\": \"#A2B1C6\", \"ticks\": \"\"}, \"bgcolor\": \"white\", \"caxis\": {\"gridcolor\": \"#DFE8F3\", \"linecolor\": \"#A2B1C6\", \"ticks\": \"\"}}, \"title\": {\"x\": 0.05}, \"xaxis\": {\"automargin\": true, \"gridcolor\": \"#EBF0F8\", \"linecolor\": \"#EBF0F8\", \"ticks\": \"\", \"title\": {\"standoff\": 15}, \"zerolinecolor\": \"#EBF0F8\", \"zerolinewidth\": 2}, \"yaxis\": {\"automargin\": true, \"gridcolor\": \"#EBF0F8\", \"linecolor\": \"#EBF0F8\", \"ticks\": \"\", \"title\": {\"standoff\": 15}, \"zerolinecolor\": \"#EBF0F8\", \"zerolinewidth\": 2}}}, \"title\": {\"text\": \"Training Metrics\"}, \"width\": 700, \"xaxis\": {\"title\": {\"text\": \"epochs\"}}, \"yaxis\": {\"title\": {\"text\": \"loss\"}}},\n",
              "                        {\"responsive\": true}\n",
              "                    ).then(function(){\n",
              "                            \n",
              "var gd = document.getElementById('e61bf064-c9b7-4239-98db-1c18ce5d381d');\n",
              "var x = new MutationObserver(function (mutations, observer) {{\n",
              "        var display = window.getComputedStyle(gd).display;\n",
              "        if (!display || display === 'none') {{\n",
              "            console.log([gd, 'removed!']);\n",
              "            Plotly.purge(gd);\n",
              "            observer.disconnect();\n",
              "        }}\n",
              "}});\n",
              "\n",
              "// Listen for the removal of the full notebook cells\n",
              "var notebookContainer = gd.closest('#notebook-container');\n",
              "if (notebookContainer) {{\n",
              "    x.observe(notebookContainer, {childList: true});\n",
              "}}\n",
              "\n",
              "// Listen for the clearing of the current output cell\n",
              "var outputEl = gd.closest('.output');\n",
              "if (outputEl) {{\n",
              "    x.observe(outputEl, {childList: true});\n",
              "}}\n",
              "\n",
              "                        })\n",
              "                };\n",
              "                \n",
              "            </script>\n",
              "        </div>\n",
              "</body>\n",
              "</html>"
            ]
          },
          "metadata": {}
        },
        {
          "output_type": "display_data",
          "data": {
            "text/html": [
              "<html>\n",
              "<head><meta charset=\"utf-8\" /></head>\n",
              "<body>\n",
              "    <div>\n",
              "            <script src=\"https://cdnjs.cloudflare.com/ajax/libs/mathjax/2.7.5/MathJax.js?config=TeX-AMS-MML_SVG\"></script><script type=\"text/javascript\">if (window.MathJax) {MathJax.Hub.Config({SVG: {font: \"STIX-Web\"}});}</script>\n",
              "                <script type=\"text/javascript\">window.PlotlyConfig = {MathJaxConfig: 'local'};</script>\n",
              "        <script src=\"https://cdn.plot.ly/plotly-latest.min.js\"></script>    \n",
              "            <div id=\"f1145033-5083-40c0-935a-ab63aadec378\" class=\"plotly-graph-div\" style=\"height:400px; width:600px;\"></div>\n",
              "            <script type=\"text/javascript\">\n",
              "                \n",
              "                    window.PLOTLYENV=window.PLOTLYENV || {};\n",
              "                    \n",
              "                if (document.getElementById(\"f1145033-5083-40c0-935a-ab63aadec378\")) {\n",
              "                    Plotly.newPlot(\n",
              "                        'f1145033-5083-40c0-935a-ab63aadec378',\n",
              "                        [{\"fill\": \"tozeroy\", \"line\": {\"color\": \"#ccc\"}, \"mode\": \"lines\", \"name\": \"Test Data\", \"type\": \"scatter\", \"x\": [445, 446, 447, 448, 449, 450, 451, 452, 453, 454, 455, 456, 457, 458, 459, 460, 461, 462, 463, 464, 465, 466, 467, 468, 469, 470, 471, 472, 473, 474, 475, 476, 477, 478, 479, 480, 481, 482, 483, 484], \"y\": [5.078729984561593, 5.068589687356812, 5.058536174080804, 5.0559272832879625, 5.040323537798081, 5.0584090689010965, 5.060313952326803, 5.049727793902352, 5.048701494902712, 5.0570098446061555, 5.072043922224899, 5.086237387589806, 5.0749862976535045, 5.050688993553429, 5.0605676628444645, 5.05477976308044, 5.062721607294587, 5.06398646959325, 5.071918522513154, 5.039611402332773, 5.0186695991245776, 5.014095965725237, 5.016948656152848, 5.011101851907898, 5.016219672390156, 5.04542311958192, 5.051905188294473, 5.055736121341352, 5.064744619743288, 5.058790335983303, 5.0561821090522265, 5.046710038233246, 5.041293815050048, 5.035262863920986, 5.038055889672248, 5.058218380834414, 5.05477976308044, 5.066511404655174, 5.058663263106837, 5.057773300553659]}, {\"fill\": \"tozeroy\", \"line\": {\"color\": \"#ccc\"}, \"mode\": \"lines+markers\", \"name\": \"Actual Price\", \"type\": \"scatter\", \"x\": [485, 486, 487, 488, 489], \"y\": [5.078729984561593, 5.068589687356812, 5.058536174080804, 5.0559272832879625, 5.040323537798081]}, {\"line\": {\"color\": \"red\"}, \"mode\": \"lines+markers\", \"name\": \"Predicted Price\", \"type\": \"scatter\", \"x\": [485, 486, 487, 488, 489], \"y\": [5.070833683013916, 5.067725658416748, 5.084193229675293, 5.102881908416748, 5.120734691619873]}],\n",
              "                        {\"height\": 400, \"template\": {\"data\": {\"bar\": [{\"error_x\": {\"color\": \"#2a3f5f\"}, \"error_y\": {\"color\": \"#2a3f5f\"}, \"marker\": {\"line\": {\"color\": \"white\", \"width\": 0.5}}, \"type\": \"bar\"}], \"barpolar\": [{\"marker\": {\"line\": {\"color\": \"white\", \"width\": 0.5}}, \"type\": \"barpolar\"}], \"carpet\": [{\"aaxis\": {\"endlinecolor\": \"#2a3f5f\", \"gridcolor\": \"#C8D4E3\", \"linecolor\": \"#C8D4E3\", \"minorgridcolor\": \"#C8D4E3\", \"startlinecolor\": \"#2a3f5f\"}, \"baxis\": {\"endlinecolor\": \"#2a3f5f\", \"gridcolor\": \"#C8D4E3\", \"linecolor\": \"#C8D4E3\", \"minorgridcolor\": \"#C8D4E3\", \"startlinecolor\": \"#2a3f5f\"}, \"type\": \"carpet\"}], \"choropleth\": [{\"colorbar\": {\"outlinewidth\": 0, \"ticks\": \"\"}, \"type\": \"choropleth\"}], \"contour\": [{\"colorbar\": {\"outlinewidth\": 0, \"ticks\": \"\"}, \"colorscale\": [[0.0, \"#0d0887\"], [0.1111111111111111, \"#46039f\"], [0.2222222222222222, \"#7201a8\"], [0.3333333333333333, \"#9c179e\"], [0.4444444444444444, \"#bd3786\"], [0.5555555555555556, \"#d8576b\"], [0.6666666666666666, \"#ed7953\"], [0.7777777777777778, \"#fb9f3a\"], [0.8888888888888888, \"#fdca26\"], [1.0, \"#f0f921\"]], \"type\": \"contour\"}], \"contourcarpet\": [{\"colorbar\": {\"outlinewidth\": 0, \"ticks\": \"\"}, \"type\": \"contourcarpet\"}], \"heatmap\": [{\"colorbar\": {\"outlinewidth\": 0, \"ticks\": \"\"}, \"colorscale\": [[0.0, \"#0d0887\"], [0.1111111111111111, \"#46039f\"], [0.2222222222222222, \"#7201a8\"], [0.3333333333333333, \"#9c179e\"], [0.4444444444444444, \"#bd3786\"], [0.5555555555555556, \"#d8576b\"], [0.6666666666666666, \"#ed7953\"], [0.7777777777777778, \"#fb9f3a\"], [0.8888888888888888, \"#fdca26\"], [1.0, \"#f0f921\"]], \"type\": \"heatmap\"}], \"heatmapgl\": [{\"colorbar\": {\"outlinewidth\": 0, \"ticks\": \"\"}, \"colorscale\": [[0.0, \"#0d0887\"], [0.1111111111111111, \"#46039f\"], [0.2222222222222222, \"#7201a8\"], [0.3333333333333333, \"#9c179e\"], [0.4444444444444444, \"#bd3786\"], [0.5555555555555556, \"#d8576b\"], [0.6666666666666666, \"#ed7953\"], [0.7777777777777778, \"#fb9f3a\"], [0.8888888888888888, \"#fdca26\"], [1.0, \"#f0f921\"]], \"type\": \"heatmapgl\"}], \"histogram\": [{\"marker\": {\"colorbar\": {\"outlinewidth\": 0, \"ticks\": \"\"}}, \"type\": \"histogram\"}], \"histogram2d\": [{\"colorbar\": {\"outlinewidth\": 0, \"ticks\": \"\"}, \"colorscale\": [[0.0, \"#0d0887\"], [0.1111111111111111, \"#46039f\"], [0.2222222222222222, \"#7201a8\"], [0.3333333333333333, \"#9c179e\"], [0.4444444444444444, \"#bd3786\"], [0.5555555555555556, \"#d8576b\"], [0.6666666666666666, \"#ed7953\"], [0.7777777777777778, \"#fb9f3a\"], [0.8888888888888888, \"#fdca26\"], [1.0, \"#f0f921\"]], \"type\": \"histogram2d\"}], \"histogram2dcontour\": [{\"colorbar\": {\"outlinewidth\": 0, \"ticks\": \"\"}, \"colorscale\": [[0.0, \"#0d0887\"], [0.1111111111111111, \"#46039f\"], [0.2222222222222222, \"#7201a8\"], [0.3333333333333333, \"#9c179e\"], [0.4444444444444444, \"#bd3786\"], [0.5555555555555556, \"#d8576b\"], [0.6666666666666666, \"#ed7953\"], [0.7777777777777778, \"#fb9f3a\"], [0.8888888888888888, \"#fdca26\"], [1.0, \"#f0f921\"]], \"type\": \"histogram2dcontour\"}], \"mesh3d\": [{\"colorbar\": {\"outlinewidth\": 0, \"ticks\": \"\"}, \"type\": \"mesh3d\"}], \"parcoords\": [{\"line\": {\"colorbar\": {\"outlinewidth\": 0, \"ticks\": \"\"}}, \"type\": \"parcoords\"}], \"pie\": [{\"automargin\": true, \"type\": \"pie\"}], \"scatter\": [{\"marker\": {\"colorbar\": {\"outlinewidth\": 0, \"ticks\": \"\"}}, \"type\": \"scatter\"}], \"scatter3d\": [{\"line\": {\"colorbar\": {\"outlinewidth\": 0, \"ticks\": \"\"}}, \"marker\": {\"colorbar\": {\"outlinewidth\": 0, \"ticks\": \"\"}}, \"type\": \"scatter3d\"}], \"scattercarpet\": [{\"marker\": {\"colorbar\": {\"outlinewidth\": 0, \"ticks\": \"\"}}, \"type\": \"scattercarpet\"}], \"scattergeo\": [{\"marker\": {\"colorbar\": {\"outlinewidth\": 0, \"ticks\": \"\"}}, \"type\": \"scattergeo\"}], \"scattergl\": [{\"marker\": {\"colorbar\": {\"outlinewidth\": 0, \"ticks\": \"\"}}, \"type\": \"scattergl\"}], \"scattermapbox\": [{\"marker\": {\"colorbar\": {\"outlinewidth\": 0, \"ticks\": \"\"}}, \"type\": \"scattermapbox\"}], \"scatterpolar\": [{\"marker\": {\"colorbar\": {\"outlinewidth\": 0, \"ticks\": \"\"}}, \"type\": \"scatterpolar\"}], \"scatterpolargl\": [{\"marker\": {\"colorbar\": {\"outlinewidth\": 0, \"ticks\": \"\"}}, \"type\": \"scatterpolargl\"}], \"scatterternary\": [{\"marker\": {\"colorbar\": {\"outlinewidth\": 0, \"ticks\": \"\"}}, \"type\": \"scatterternary\"}], \"surface\": [{\"colorbar\": {\"outlinewidth\": 0, \"ticks\": \"\"}, \"colorscale\": [[0.0, \"#0d0887\"], [0.1111111111111111, \"#46039f\"], [0.2222222222222222, \"#7201a8\"], [0.3333333333333333, \"#9c179e\"], [0.4444444444444444, \"#bd3786\"], [0.5555555555555556, \"#d8576b\"], [0.6666666666666666, \"#ed7953\"], [0.7777777777777778, \"#fb9f3a\"], [0.8888888888888888, \"#fdca26\"], [1.0, \"#f0f921\"]], \"type\": \"surface\"}], \"table\": [{\"cells\": {\"fill\": {\"color\": \"#EBF0F8\"}, \"line\": {\"color\": \"white\"}}, \"header\": {\"fill\": {\"color\": \"#C8D4E3\"}, \"line\": {\"color\": \"white\"}}, \"type\": \"table\"}]}, \"layout\": {\"annotationdefaults\": {\"arrowcolor\": \"#2a3f5f\", \"arrowhead\": 0, \"arrowwidth\": 1}, \"coloraxis\": {\"colorbar\": {\"outlinewidth\": 0, \"ticks\": \"\"}}, \"colorscale\": {\"diverging\": [[0, \"#8e0152\"], [0.1, \"#c51b7d\"], [0.2, \"#de77ae\"], [0.3, \"#f1b6da\"], [0.4, \"#fde0ef\"], [0.5, \"#f7f7f7\"], [0.6, \"#e6f5d0\"], [0.7, \"#b8e186\"], [0.8, \"#7fbc41\"], [0.9, \"#4d9221\"], [1, \"#276419\"]], \"sequential\": [[0.0, \"#0d0887\"], [0.1111111111111111, \"#46039f\"], [0.2222222222222222, \"#7201a8\"], [0.3333333333333333, \"#9c179e\"], [0.4444444444444444, \"#bd3786\"], [0.5555555555555556, \"#d8576b\"], [0.6666666666666666, \"#ed7953\"], [0.7777777777777778, \"#fb9f3a\"], [0.8888888888888888, \"#fdca26\"], [1.0, \"#f0f921\"]], \"sequentialminus\": [[0.0, \"#0d0887\"], [0.1111111111111111, \"#46039f\"], [0.2222222222222222, \"#7201a8\"], [0.3333333333333333, \"#9c179e\"], [0.4444444444444444, \"#bd3786\"], [0.5555555555555556, \"#d8576b\"], [0.6666666666666666, \"#ed7953\"], [0.7777777777777778, \"#fb9f3a\"], [0.8888888888888888, \"#fdca26\"], [1.0, \"#f0f921\"]]}, \"colorway\": [\"#636efa\", \"#EF553B\", \"#00cc96\", \"#ab63fa\", \"#FFA15A\", \"#19d3f3\", \"#FF6692\", \"#B6E880\", \"#FF97FF\", \"#FECB52\"], \"font\": {\"color\": \"#2a3f5f\"}, \"geo\": {\"bgcolor\": \"white\", \"lakecolor\": \"white\", \"landcolor\": \"white\", \"showlakes\": true, \"showland\": true, \"subunitcolor\": \"#C8D4E3\"}, \"hoverlabel\": {\"align\": \"left\"}, \"hovermode\": \"closest\", \"mapbox\": {\"style\": \"light\"}, \"paper_bgcolor\": \"white\", \"plot_bgcolor\": \"white\", \"polar\": {\"angularaxis\": {\"gridcolor\": \"#EBF0F8\", \"linecolor\": \"#EBF0F8\", \"ticks\": \"\"}, \"bgcolor\": \"white\", \"radialaxis\": {\"gridcolor\": \"#EBF0F8\", \"linecolor\": \"#EBF0F8\", \"ticks\": \"\"}}, \"scene\": {\"xaxis\": {\"backgroundcolor\": \"white\", \"gridcolor\": \"#DFE8F3\", \"gridwidth\": 2, \"linecolor\": \"#EBF0F8\", \"showbackground\": true, \"ticks\": \"\", \"zerolinecolor\": \"#EBF0F8\"}, \"yaxis\": {\"backgroundcolor\": \"white\", \"gridcolor\": \"#DFE8F3\", \"gridwidth\": 2, \"linecolor\": \"#EBF0F8\", \"showbackground\": true, \"ticks\": \"\", \"zerolinecolor\": \"#EBF0F8\"}, \"zaxis\": {\"backgroundcolor\": \"white\", \"gridcolor\": \"#DFE8F3\", \"gridwidth\": 2, \"linecolor\": \"#EBF0F8\", \"showbackground\": true, \"ticks\": \"\", \"zerolinecolor\": \"#EBF0F8\"}}, \"shapedefaults\": {\"line\": {\"color\": \"#2a3f5f\"}}, \"ternary\": {\"aaxis\": {\"gridcolor\": \"#DFE8F3\", \"linecolor\": \"#A2B1C6\", \"ticks\": \"\"}, \"baxis\": {\"gridcolor\": \"#DFE8F3\", \"linecolor\": \"#A2B1C6\", \"ticks\": \"\"}, \"bgcolor\": \"white\", \"caxis\": {\"gridcolor\": \"#DFE8F3\", \"linecolor\": \"#A2B1C6\", \"ticks\": \"\"}}, \"title\": {\"x\": 0.05}, \"xaxis\": {\"automargin\": true, \"gridcolor\": \"#EBF0F8\", \"linecolor\": \"#EBF0F8\", \"ticks\": \"\", \"title\": {\"standoff\": 15}, \"zerolinecolor\": \"#EBF0F8\", \"zerolinewidth\": 2}, \"yaxis\": {\"automargin\": true, \"gridcolor\": \"#EBF0F8\", \"linecolor\": \"#EBF0F8\", \"ticks\": \"\", \"title\": {\"standoff\": 15}, \"zerolinecolor\": \"#EBF0F8\", \"zerolinewidth\": 2}}}, \"title\": {\"text\": \"Actual vs Predicted Price\"}, \"width\": 600, \"xaxis\": {\"title\": {\"text\": \"Batch\"}}, \"yaxis\": {\"title\": {\"text\": \"Price\"}}},\n",
              "                        {\"responsive\": true}\n",
              "                    ).then(function(){\n",
              "                            \n",
              "var gd = document.getElementById('f1145033-5083-40c0-935a-ab63aadec378');\n",
              "var x = new MutationObserver(function (mutations, observer) {{\n",
              "        var display = window.getComputedStyle(gd).display;\n",
              "        if (!display || display === 'none') {{\n",
              "            console.log([gd, 'removed!']);\n",
              "            Plotly.purge(gd);\n",
              "            observer.disconnect();\n",
              "        }}\n",
              "}});\n",
              "\n",
              "// Listen for the removal of the full notebook cells\n",
              "var notebookContainer = gd.closest('#notebook-container');\n",
              "if (notebookContainer) {{\n",
              "    x.observe(notebookContainer, {childList: true});\n",
              "}}\n",
              "\n",
              "// Listen for the clearing of the current output cell\n",
              "var outputEl = gd.closest('.output');\n",
              "if (outputEl) {{\n",
              "    x.observe(outputEl, {childList: true});\n",
              "}}\n",
              "\n",
              "                        })\n",
              "                };\n",
              "                \n",
              "            </script>\n",
              "        </div>\n",
              "</body>\n",
              "</html>"
            ]
          },
          "metadata": {}
        },
        {
          "output_type": "display_data",
          "data": {
            "text/html": [
              "<html>\n",
              "<head><meta charset=\"utf-8\" /></head>\n",
              "<body>\n",
              "    <div>\n",
              "            <script src=\"https://cdnjs.cloudflare.com/ajax/libs/mathjax/2.7.5/MathJax.js?config=TeX-AMS-MML_SVG\"></script><script type=\"text/javascript\">if (window.MathJax) {MathJax.Hub.Config({SVG: {font: \"STIX-Web\"}});}</script>\n",
              "                <script type=\"text/javascript\">window.PlotlyConfig = {MathJaxConfig: 'local'};</script>\n",
              "        <script src=\"https://cdn.plot.ly/plotly-latest.min.js\"></script>    \n",
              "            <div id=\"cb1083b4-5eb3-4a81-b209-9e333bd72268\" class=\"plotly-graph-div\" style=\"height:400px; width:600px;\"></div>\n",
              "            <script type=\"text/javascript\">\n",
              "                \n",
              "                    window.PLOTLYENV=window.PLOTLYENV || {};\n",
              "                    \n",
              "                if (document.getElementById(\"cb1083b4-5eb3-4a81-b209-9e333bd72268\")) {\n",
              "                    Plotly.newPlot(\n",
              "                        'cb1083b4-5eb3-4a81-b209-9e333bd72268',\n",
              "                        [{\"fill\": \"tozeroy\", \"line\": {\"color\": \"#ccc\"}, \"mode\": \"lines\", \"name\": \"Test Data\", \"type\": \"scatter\", \"x\": [321, 322, 323, 324, 325, 326, 327, 328, 329, 330, 331, 332, 333, 334, 335, 336, 337, 338, 339, 340, 341, 342, 343, 344, 345, 346, 347, 348, 349, 350, 351, 352, 353, 354, 355, 356, 357, 358, 359, 360], \"y\": [4.967449396646655, 4.974731739749902, 4.972517971983128, 4.997887721273753, 4.9426419229423875, 4.957445465582136, 4.945492145764051, 4.95639027924386, 4.9621450849358215, 4.955193053846446, 4.937490960058253, 4.927615938376164, 4.943497843108764, 4.932169120816822, 4.940141296483037, 4.937275759741795, 4.970160461530537, 4.961865129726826, 4.952299717083292, 4.962215061493703, 4.891851758106289, 4.909340575944674, 4.903866379702973, 4.88507207112091, 4.887864841928826, 4.898511216291551, 4.901564199041894, 4.914711592792766, 4.94577672174776, 4.979901134726394, 4.943711708730681, 4.926166137469806, 4.924859517074852, 4.960884668831699, 4.958218561871125, 4.974524407083897, 4.981686972140363, 4.9890711161804155, 4.994912333631019, 4.987093685513222]}, {\"fill\": \"tozeroy\", \"line\": {\"color\": \"#ccc\"}, \"mode\": \"lines+markers\", \"name\": \"Actual Price\", \"type\": \"scatter\", \"x\": [361, 362, 363, 364, 365], \"y\": [4.967449396646655, 4.974731739749902, 4.972517971983128, 4.997887721273753, 4.9426419229423875]}, {\"line\": {\"color\": \"red\"}, \"mode\": \"lines+markers\", \"name\": \"Predicted Price\", \"type\": \"scatter\", \"x\": [361, 362, 363, 364, 365], \"y\": [4.938432693481445, 4.929426193237305, 4.934230327606201, 4.95028018951416, 4.958221912384033]}],\n",
              "                        {\"height\": 400, \"template\": {\"data\": {\"bar\": [{\"error_x\": {\"color\": \"#2a3f5f\"}, \"error_y\": {\"color\": \"#2a3f5f\"}, \"marker\": {\"line\": {\"color\": \"white\", \"width\": 0.5}}, \"type\": \"bar\"}], \"barpolar\": [{\"marker\": {\"line\": {\"color\": \"white\", \"width\": 0.5}}, \"type\": \"barpolar\"}], \"carpet\": [{\"aaxis\": {\"endlinecolor\": \"#2a3f5f\", \"gridcolor\": \"#C8D4E3\", \"linecolor\": \"#C8D4E3\", \"minorgridcolor\": \"#C8D4E3\", \"startlinecolor\": \"#2a3f5f\"}, \"baxis\": {\"endlinecolor\": \"#2a3f5f\", \"gridcolor\": \"#C8D4E3\", \"linecolor\": \"#C8D4E3\", \"minorgridcolor\": \"#C8D4E3\", \"startlinecolor\": \"#2a3f5f\"}, \"type\": \"carpet\"}], \"choropleth\": [{\"colorbar\": {\"outlinewidth\": 0, \"ticks\": \"\"}, \"type\": \"choropleth\"}], \"contour\": [{\"colorbar\": {\"outlinewidth\": 0, \"ticks\": \"\"}, \"colorscale\": [[0.0, \"#0d0887\"], [0.1111111111111111, \"#46039f\"], [0.2222222222222222, \"#7201a8\"], [0.3333333333333333, \"#9c179e\"], [0.4444444444444444, \"#bd3786\"], [0.5555555555555556, \"#d8576b\"], [0.6666666666666666, \"#ed7953\"], [0.7777777777777778, \"#fb9f3a\"], [0.8888888888888888, \"#fdca26\"], [1.0, \"#f0f921\"]], \"type\": \"contour\"}], \"contourcarpet\": [{\"colorbar\": {\"outlinewidth\": 0, \"ticks\": \"\"}, \"type\": \"contourcarpet\"}], \"heatmap\": [{\"colorbar\": {\"outlinewidth\": 0, \"ticks\": \"\"}, \"colorscale\": [[0.0, \"#0d0887\"], [0.1111111111111111, \"#46039f\"], [0.2222222222222222, \"#7201a8\"], [0.3333333333333333, \"#9c179e\"], [0.4444444444444444, \"#bd3786\"], [0.5555555555555556, \"#d8576b\"], [0.6666666666666666, \"#ed7953\"], [0.7777777777777778, \"#fb9f3a\"], [0.8888888888888888, \"#fdca26\"], [1.0, \"#f0f921\"]], \"type\": \"heatmap\"}], \"heatmapgl\": [{\"colorbar\": {\"outlinewidth\": 0, \"ticks\": \"\"}, \"colorscale\": [[0.0, \"#0d0887\"], [0.1111111111111111, \"#46039f\"], [0.2222222222222222, \"#7201a8\"], [0.3333333333333333, \"#9c179e\"], [0.4444444444444444, \"#bd3786\"], [0.5555555555555556, \"#d8576b\"], [0.6666666666666666, \"#ed7953\"], [0.7777777777777778, \"#fb9f3a\"], [0.8888888888888888, \"#fdca26\"], [1.0, \"#f0f921\"]], \"type\": \"heatmapgl\"}], \"histogram\": [{\"marker\": {\"colorbar\": {\"outlinewidth\": 0, \"ticks\": \"\"}}, \"type\": \"histogram\"}], \"histogram2d\": [{\"colorbar\": {\"outlinewidth\": 0, \"ticks\": \"\"}, \"colorscale\": [[0.0, \"#0d0887\"], [0.1111111111111111, \"#46039f\"], [0.2222222222222222, \"#7201a8\"], [0.3333333333333333, \"#9c179e\"], [0.4444444444444444, \"#bd3786\"], [0.5555555555555556, \"#d8576b\"], [0.6666666666666666, \"#ed7953\"], [0.7777777777777778, \"#fb9f3a\"], [0.8888888888888888, \"#fdca26\"], [1.0, \"#f0f921\"]], \"type\": \"histogram2d\"}], \"histogram2dcontour\": [{\"colorbar\": {\"outlinewidth\": 0, \"ticks\": \"\"}, \"colorscale\": [[0.0, \"#0d0887\"], [0.1111111111111111, \"#46039f\"], [0.2222222222222222, \"#7201a8\"], [0.3333333333333333, \"#9c179e\"], [0.4444444444444444, \"#bd3786\"], [0.5555555555555556, \"#d8576b\"], [0.6666666666666666, \"#ed7953\"], [0.7777777777777778, \"#fb9f3a\"], [0.8888888888888888, \"#fdca26\"], [1.0, \"#f0f921\"]], \"type\": \"histogram2dcontour\"}], \"mesh3d\": [{\"colorbar\": {\"outlinewidth\": 0, \"ticks\": \"\"}, \"type\": \"mesh3d\"}], \"parcoords\": [{\"line\": {\"colorbar\": {\"outlinewidth\": 0, \"ticks\": \"\"}}, \"type\": \"parcoords\"}], \"pie\": [{\"automargin\": true, \"type\": \"pie\"}], \"scatter\": [{\"marker\": {\"colorbar\": {\"outlinewidth\": 0, \"ticks\": \"\"}}, \"type\": \"scatter\"}], \"scatter3d\": [{\"line\": {\"colorbar\": {\"outlinewidth\": 0, \"ticks\": \"\"}}, \"marker\": {\"colorbar\": {\"outlinewidth\": 0, \"ticks\": \"\"}}, \"type\": \"scatter3d\"}], \"scattercarpet\": [{\"marker\": {\"colorbar\": {\"outlinewidth\": 0, \"ticks\": \"\"}}, \"type\": \"scattercarpet\"}], \"scattergeo\": [{\"marker\": {\"colorbar\": {\"outlinewidth\": 0, \"ticks\": \"\"}}, \"type\": \"scattergeo\"}], \"scattergl\": [{\"marker\": {\"colorbar\": {\"outlinewidth\": 0, \"ticks\": \"\"}}, \"type\": \"scattergl\"}], \"scattermapbox\": [{\"marker\": {\"colorbar\": {\"outlinewidth\": 0, \"ticks\": \"\"}}, \"type\": \"scattermapbox\"}], \"scatterpolar\": [{\"marker\": {\"colorbar\": {\"outlinewidth\": 0, \"ticks\": \"\"}}, \"type\": \"scatterpolar\"}], \"scatterpolargl\": [{\"marker\": {\"colorbar\": {\"outlinewidth\": 0, \"ticks\": \"\"}}, \"type\": \"scatterpolargl\"}], \"scatterternary\": [{\"marker\": {\"colorbar\": {\"outlinewidth\": 0, \"ticks\": \"\"}}, \"type\": \"scatterternary\"}], \"surface\": [{\"colorbar\": {\"outlinewidth\": 0, \"ticks\": \"\"}, \"colorscale\": [[0.0, \"#0d0887\"], [0.1111111111111111, \"#46039f\"], [0.2222222222222222, \"#7201a8\"], [0.3333333333333333, \"#9c179e\"], [0.4444444444444444, \"#bd3786\"], [0.5555555555555556, \"#d8576b\"], [0.6666666666666666, \"#ed7953\"], [0.7777777777777778, \"#fb9f3a\"], [0.8888888888888888, \"#fdca26\"], [1.0, \"#f0f921\"]], \"type\": \"surface\"}], \"table\": [{\"cells\": {\"fill\": {\"color\": \"#EBF0F8\"}, \"line\": {\"color\": \"white\"}}, \"header\": {\"fill\": {\"color\": \"#C8D4E3\"}, \"line\": {\"color\": \"white\"}}, \"type\": \"table\"}]}, \"layout\": {\"annotationdefaults\": {\"arrowcolor\": \"#2a3f5f\", \"arrowhead\": 0, \"arrowwidth\": 1}, \"coloraxis\": {\"colorbar\": {\"outlinewidth\": 0, \"ticks\": \"\"}}, \"colorscale\": {\"diverging\": [[0, \"#8e0152\"], [0.1, \"#c51b7d\"], [0.2, \"#de77ae\"], [0.3, \"#f1b6da\"], [0.4, \"#fde0ef\"], [0.5, \"#f7f7f7\"], [0.6, \"#e6f5d0\"], [0.7, \"#b8e186\"], [0.8, \"#7fbc41\"], [0.9, \"#4d9221\"], [1, \"#276419\"]], \"sequential\": [[0.0, \"#0d0887\"], [0.1111111111111111, \"#46039f\"], [0.2222222222222222, \"#7201a8\"], [0.3333333333333333, \"#9c179e\"], [0.4444444444444444, \"#bd3786\"], [0.5555555555555556, \"#d8576b\"], [0.6666666666666666, \"#ed7953\"], [0.7777777777777778, \"#fb9f3a\"], [0.8888888888888888, \"#fdca26\"], [1.0, \"#f0f921\"]], \"sequentialminus\": [[0.0, \"#0d0887\"], [0.1111111111111111, \"#46039f\"], [0.2222222222222222, \"#7201a8\"], [0.3333333333333333, \"#9c179e\"], [0.4444444444444444, \"#bd3786\"], [0.5555555555555556, \"#d8576b\"], [0.6666666666666666, \"#ed7953\"], [0.7777777777777778, \"#fb9f3a\"], [0.8888888888888888, \"#fdca26\"], [1.0, \"#f0f921\"]]}, \"colorway\": [\"#636efa\", \"#EF553B\", \"#00cc96\", \"#ab63fa\", \"#FFA15A\", \"#19d3f3\", \"#FF6692\", \"#B6E880\", \"#FF97FF\", \"#FECB52\"], \"font\": {\"color\": \"#2a3f5f\"}, \"geo\": {\"bgcolor\": \"white\", \"lakecolor\": \"white\", \"landcolor\": \"white\", \"showlakes\": true, \"showland\": true, \"subunitcolor\": \"#C8D4E3\"}, \"hoverlabel\": {\"align\": \"left\"}, \"hovermode\": \"closest\", \"mapbox\": {\"style\": \"light\"}, \"paper_bgcolor\": \"white\", \"plot_bgcolor\": \"white\", \"polar\": {\"angularaxis\": {\"gridcolor\": \"#EBF0F8\", \"linecolor\": \"#EBF0F8\", \"ticks\": \"\"}, \"bgcolor\": \"white\", \"radialaxis\": {\"gridcolor\": \"#EBF0F8\", \"linecolor\": \"#EBF0F8\", \"ticks\": \"\"}}, \"scene\": {\"xaxis\": {\"backgroundcolor\": \"white\", \"gridcolor\": \"#DFE8F3\", \"gridwidth\": 2, \"linecolor\": \"#EBF0F8\", \"showbackground\": true, \"ticks\": \"\", \"zerolinecolor\": \"#EBF0F8\"}, \"yaxis\": {\"backgroundcolor\": \"white\", \"gridcolor\": \"#DFE8F3\", \"gridwidth\": 2, \"linecolor\": \"#EBF0F8\", \"showbackground\": true, \"ticks\": \"\", \"zerolinecolor\": \"#EBF0F8\"}, \"zaxis\": {\"backgroundcolor\": \"white\", \"gridcolor\": \"#DFE8F3\", \"gridwidth\": 2, \"linecolor\": \"#EBF0F8\", \"showbackground\": true, \"ticks\": \"\", \"zerolinecolor\": \"#EBF0F8\"}}, \"shapedefaults\": {\"line\": {\"color\": \"#2a3f5f\"}}, \"ternary\": {\"aaxis\": {\"gridcolor\": \"#DFE8F3\", \"linecolor\": \"#A2B1C6\", \"ticks\": \"\"}, \"baxis\": {\"gridcolor\": \"#DFE8F3\", \"linecolor\": \"#A2B1C6\", \"ticks\": \"\"}, \"bgcolor\": \"white\", \"caxis\": {\"gridcolor\": \"#DFE8F3\", \"linecolor\": \"#A2B1C6\", \"ticks\": \"\"}}, \"title\": {\"x\": 0.05}, \"xaxis\": {\"automargin\": true, \"gridcolor\": \"#EBF0F8\", \"linecolor\": \"#EBF0F8\", \"ticks\": \"\", \"title\": {\"standoff\": 15}, \"zerolinecolor\": \"#EBF0F8\", \"zerolinewidth\": 2}, \"yaxis\": {\"automargin\": true, \"gridcolor\": \"#EBF0F8\", \"linecolor\": \"#EBF0F8\", \"ticks\": \"\", \"title\": {\"standoff\": 15}, \"zerolinecolor\": \"#EBF0F8\", \"zerolinewidth\": 2}}}, \"title\": {\"text\": \"Actual vs Predicted Price\"}, \"width\": 600, \"xaxis\": {\"title\": {\"text\": \"Batch\"}}, \"yaxis\": {\"title\": {\"text\": \"Price\"}}},\n",
              "                        {\"responsive\": true}\n",
              "                    ).then(function(){\n",
              "                            \n",
              "var gd = document.getElementById('cb1083b4-5eb3-4a81-b209-9e333bd72268');\n",
              "var x = new MutationObserver(function (mutations, observer) {{\n",
              "        var display = window.getComputedStyle(gd).display;\n",
              "        if (!display || display === 'none') {{\n",
              "            console.log([gd, 'removed!']);\n",
              "            Plotly.purge(gd);\n",
              "            observer.disconnect();\n",
              "        }}\n",
              "}});\n",
              "\n",
              "// Listen for the removal of the full notebook cells\n",
              "var notebookContainer = gd.closest('#notebook-container');\n",
              "if (notebookContainer) {{\n",
              "    x.observe(notebookContainer, {childList: true});\n",
              "}}\n",
              "\n",
              "// Listen for the clearing of the current output cell\n",
              "var outputEl = gd.closest('.output');\n",
              "if (outputEl) {{\n",
              "    x.observe(outputEl, {childList: true});\n",
              "}}\n",
              "\n",
              "                        })\n",
              "                };\n",
              "                \n",
              "            </script>\n",
              "        </div>\n",
              "</body>\n",
              "</html>"
            ]
          },
          "metadata": {}
        },
        {
          "output_type": "stream",
          "name": "stderr",
          "text": [
            "WARNING:absl:Found untraced functions such as lstm_cell_layer_call_fn, lstm_cell_layer_call_and_return_conditional_losses, lstm_cell_1_layer_call_fn, lstm_cell_1_layer_call_and_return_conditional_losses, lstm_cell_2_layer_call_fn while saving (showing 5 of 15). These functions will not be directly callable after loading.\n"
          ]
        },
        {
          "output_type": "stream",
          "name": "stdout",
          "text": [
            "INFO:tensorflow:Assets written to: /content/drive/MyDrive/Colab Notebooks/models/model_VWM_log_all_optimized/assets\n"
          ]
        },
        {
          "output_type": "stream",
          "name": "stderr",
          "text": [
            "INFO:tensorflow:Assets written to: /content/drive/MyDrive/Colab Notebooks/models/model_VWM_log_all_optimized/assets\n"
          ]
        }
      ]
    },
    {
      "cell_type": "markdown",
      "metadata": {
        "id": "bnvOzkjnNzT2"
      },
      "source": [
        "### Boralex"
      ]
    },
    {
      "cell_type": "code",
      "metadata": {
        "colab": {
          "base_uri": "https://localhost:8080/",
          "height": 1000
        },
        "id": "WqViT04YNzhY",
        "outputId": "9901e955-0faf-436f-a8b3-cef6efc42310"
      },
      "source": [
        "# BLX.TO -optimal features\n",
        "\n",
        "# optimized hyperparams for BLX.TO with feature selection\n",
        "config ={\n",
        "    'data': {'n_steps':n_steps,'n_predict':n_predict},\n",
        "    'layers': [('lstm',1024,True,0.3),('lstm',512,False,0.1),('dense',256,None,0.2),('dense',128,None,0.1)],\n",
        "    'train':{'epochs':250,'batch_size':128,'early_stop':EarlyStopping(monitor='loss',patience=10)}\n",
        "}\n",
        "\n",
        "\n",
        "stock = 'BLX.TO'\n",
        "modelname = f'model_{stock}_{transform}'\n",
        "model = create_lstm_model(config,x_train,n_predict,lr=0.001)\n",
        "\n",
        "\n",
        "# train\n",
        "tic = timeit.default_timer()\n",
        "history = model.fit(x_train,\n",
        "                    y_train,\n",
        "                    batch_size=config['train']['batch_size'],\n",
        "                    epochs=config['train']['epochs'],\n",
        "                    callbacks = [config['train']['early_stop']],\n",
        "                    validation_split =0.10, \n",
        "                    verbose = 0\n",
        "                    )\n",
        "\n",
        "# print the training time\n",
        "toc =timeit.default_timer()\n",
        "print('\\nTraining Time')\n",
        "print('='*60)\n",
        "print(f'Minutes:{round((toc-tic)/60,2)}\\n')\n",
        "\n",
        "# predict prices\n",
        "# calculate the performance metrics\n",
        "# plot training metrics\n",
        "# plot predictions for random batches\n",
        "y_pred_scaled = calculate_performance(x_test,y_test,model,scaler_y)\n",
        "plot_training_metrics(history)\n",
        "plot_n_price_predictions(idx_close,x_test,y_pred_scaled,scaler_y,2)\n",
        "\n",
        "\n",
        "# save model and training performance\n",
        "model.save(f'/content/drive/MyDrive/Colab Notebooks/models/{modelname}_features_optimized')\n",
        "\n",
        "df_hist = pd.DataFrame(history.history) \n",
        "df_hist.to_csv(f'/content/drive/MyDrive/Colab Notebooks/models/{modelname}_features_optimized/train_history.csv')"
      ],
      "execution_count": 51,
      "outputs": [
        {
          "output_type": "stream",
          "name": "stdout",
          "text": [
            "Model: \"LSTM\"\n",
            "_________________________________________________________________\n",
            "Layer (type)                 Output Shape              Param #   \n",
            "=================================================================\n",
            "lstm (LSTM)                  (None, 40, 40)            8160      \n",
            "_________________________________________________________________\n",
            "lstm_1 (LSTM)                (None, 40, 1024)          4362240   \n",
            "_________________________________________________________________\n",
            "dropout (Dropout)            (None, 40, 1024)          0         \n",
            "_________________________________________________________________\n",
            "lstm_2 (LSTM)                (None, 512)               3147776   \n",
            "_________________________________________________________________\n",
            "dropout_1 (Dropout)          (None, 512)               0         \n",
            "_________________________________________________________________\n",
            "dense (Dense)                (None, 256)               131328    \n",
            "_________________________________________________________________\n",
            "dropout_2 (Dropout)          (None, 256)               0         \n",
            "_________________________________________________________________\n",
            "dense_1 (Dense)              (None, 128)               32896     \n",
            "_________________________________________________________________\n",
            "dropout_3 (Dropout)          (None, 128)               0         \n",
            "_________________________________________________________________\n",
            "dense_2 (Dense)              (None, 5)                 645       \n",
            "=================================================================\n",
            "Total params: 7,683,045\n",
            "Trainable params: 7,683,045\n",
            "Non-trainable params: 0\n",
            "_________________________________________________________________\n",
            "\n",
            "Training Time\n",
            "============================================================\n",
            "Minutes:1.18\n",
            "\n",
            "\n",
            "Model Error\n",
            "==============================================================\n",
            "Mean Absolute Error (MAE)------------------------------  0.05\n",
            "Root Mean Squared Error (MSE)--------------------------  0.07\n",
            "Mean Absolute Percentage Error (MAPE)------------------  1.53%\n",
            "Median Absolute Percentage Error (MDAPE)---------------   1.1%\n"
          ]
        },
        {
          "output_type": "display_data",
          "data": {
            "text/html": [
              "<html>\n",
              "<head><meta charset=\"utf-8\" /></head>\n",
              "<body>\n",
              "    <div>\n",
              "            <script src=\"https://cdnjs.cloudflare.com/ajax/libs/mathjax/2.7.5/MathJax.js?config=TeX-AMS-MML_SVG\"></script><script type=\"text/javascript\">if (window.MathJax) {MathJax.Hub.Config({SVG: {font: \"STIX-Web\"}});}</script>\n",
              "                <script type=\"text/javascript\">window.PlotlyConfig = {MathJaxConfig: 'local'};</script>\n",
              "        <script src=\"https://cdn.plot.ly/plotly-latest.min.js\"></script>    \n",
              "            <div id=\"f69c8361-0069-4dc7-a66c-6245c8952b52\" class=\"plotly-graph-div\" style=\"height:500px; width:700px;\"></div>\n",
              "            <script type=\"text/javascript\">\n",
              "                \n",
              "                    window.PLOTLYENV=window.PLOTLYENV || {};\n",
              "                    \n",
              "                if (document.getElementById(\"f69c8361-0069-4dc7-a66c-6245c8952b52\")) {\n",
              "                    Plotly.newPlot(\n",
              "                        'f69c8361-0069-4dc7-a66c-6245c8952b52',\n",
              "                        [{\"line\": {\"color\": \"royalblue\", \"width\": 3}, \"name\": \"train-loss\", \"type\": \"scatter\", \"x\": [1, 2, 3, 4, 5, 6, 7, 8, 9, 10, 11, 12, 13, 14, 15, 16, 17, 18, 19, 20, 21, 22, 23, 24, 25, 26, 27, 28, 29, 30, 31, 32, 33, 34, 35, 36, 37, 38, 39, 40, 41, 42, 43, 44, 45, 46, 47, 48, 49, 50, 51, 52, 53, 54, 55, 56, 57, 58, 59, 60, 61, 62, 63, 64, 65, 66, 67, 68, 69, 70, 71, 72, 73, 74, 75, 76, 77, 78, 79, 80, 81, 82, 83, 84, 85, 86, 87, 88, 89], \"y\": [0.06771466881036758, 0.006121915765106678, 0.0036189269740134478, 0.0025325824972242117, 0.00216718134470284, 0.00306496093980968, 0.002273713704198599, 0.0019573650788515806, 0.0017940591787919402, 0.0015871168579906225, 0.0017335691954940557, 0.0015187393873929977, 0.00163985975086689, 0.0014299240428954363, 0.00140483770519495, 0.00140457134693861, 0.0015120893949642777, 0.0015063452301546931, 0.00129900558385998, 0.001253949012607336, 0.0016115927137434483, 0.0015215374296531081, 0.0012038903078064322, 0.0011813677847385406, 0.0012028993805870414, 0.001348117832094431, 0.0012583688367158175, 0.0015820258995518088, 0.0011180690489709377, 0.0011484813876450062, 0.0010721280705183744, 0.001129678450524807, 0.0010435458971187472, 0.0009685494005680084, 0.001413960475474596, 0.0010825442150235176, 0.0009036105475388467, 0.0009889958892017603, 0.0011184426257386804, 0.0011008806759491563, 0.0010642488487064838, 0.0012160598998889327, 0.0011183031601831317, 0.0009638193296268582, 0.0009024342871271074, 0.0009523715125396848, 0.000870438409037888, 0.0008344193920493126, 0.0008963354048319161, 0.0010125819826498628, 0.0009181207278743386, 0.0014759402256458998, 0.001097600208595395, 0.0008188487263396382, 0.0007370341918431222, 0.0010640147374942899, 0.000792613485828042, 0.0007682769210077822, 0.000941731093917042, 0.0009554774151183665, 0.0008191281813196838, 0.0008507745806127787, 0.0006821556598879397, 0.0007775997510179877, 0.0007174016791395843, 0.0007849633693695068, 0.0007692458457313478, 0.0006974072894081473, 0.0007364288903772831, 0.000761291419621557, 0.0006605380331166089, 0.0006366799934767187, 0.0006490707164630294, 0.0007165622664615512, 0.0006798127433285117, 0.000633052724879235, 0.0006700009107589722, 0.0006156282033771276, 0.0005942375282756984, 0.0006739472737535834, 0.0006472728564403951, 0.0006796129746362567, 0.0007302097510546446, 0.0006421447615139186, 0.0006988655659370124, 0.0006732172332704067, 0.0006779622053727508, 0.0007655572262592614, 0.0006589014665223658]}, {\"line\": {\"color\": \"crimson\", \"width\": 3}, \"name\": \"val-loss\", \"type\": \"scatter\", \"x\": [1, 2, 3, 4, 5, 6, 7, 8, 9, 10, 11, 12, 13, 14, 15, 16, 17, 18, 19, 20, 21, 22, 23, 24, 25, 26, 27, 28, 29, 30, 31, 32, 33, 34, 35, 36, 37, 38, 39, 40, 41, 42, 43, 44, 45, 46, 47, 48, 49, 50, 51, 52, 53, 54, 55, 56, 57, 58, 59, 60, 61, 62, 63, 64, 65, 66, 67, 68, 69, 70, 71, 72, 73, 74, 75, 76, 77, 78, 79, 80, 81, 82, 83, 84, 85, 86, 87, 88, 89], \"y\": [0.0008850485901348293, 0.004295216873288155, 0.0034817864652723074, 0.002198669360950589, 0.0006916551501490176, 0.0011040387907996774, 0.00043403252493590117, 0.002701288089156151, 0.0016948020784184337, 0.00019439810421317816, 0.0011108039179816842, 0.0007975813932716846, 0.0007635387009941041, 0.002408459549769759, 0.0004920951905660331, 0.0025806885678321123, 0.00036546250339597464, 0.004515911918133497, 0.001258389325812459, 0.004519094247370958, 0.00027836000663228333, 0.0011427563149482012, 0.000465246441308409, 0.0018559226300567389, 0.0007432119455188513, 0.004217466339468956, 0.00020165048772469163, 0.0005395931657403708, 0.0005660865572281182, 0.0029701644089072943, 0.0014675164129585028, 0.002217555418610573, 0.0017324697691947222, 0.0035150283947587013, 0.002919786609709263, 0.0010090568102896214, 0.002018235856667161, 0.0001734316028887406, 0.0001648363540880382, 0.0012677439954131842, 0.005451914854347706, 0.00015475125110242516, 0.0002070772461593151, 0.00017468101577833295, 0.0023313849233090878, 0.0012467334745451808, 0.0007338715367950499, 0.003436469938606024, 0.0009230002760887146, 0.00022038865427020937, 0.0056350016966462135, 0.0031879418529570103, 0.0030835208017379045, 0.0013304880121722817, 0.0002125927567249164, 0.0005891654291190207, 0.0020430516451597214, 0.00020015757763758302, 0.00018643782823346555, 0.00022613648616243154, 0.00014672141696792096, 0.00044009427074342966, 0.0021933431271463633, 0.0008573149680159986, 0.0034046650398522615, 0.00015535281272605062, 0.00038005009992048144, 0.0008376136538572609, 0.002321140142157674, 0.0014224479673430324, 0.0012074207188561559, 0.0005328485858626664, 0.0015894848620519042, 0.000312437885440886, 0.0022353576496243477, 0.0006518568843603134, 0.0015289586735889316, 0.0007271233480423689, 0.00020157999824732542, 0.00036927289329469204, 0.0002890722535084933, 0.0011476316722109914, 0.0006972336559556425, 0.0012612922582775354, 0.0010961421066895127, 0.00014395028119906783, 0.0013763547176495194, 0.00020796208991669118, 0.0006078773876652122]}],\n",
              "                        {\"height\": 500, \"template\": {\"data\": {\"bar\": [{\"error_x\": {\"color\": \"#2a3f5f\"}, \"error_y\": {\"color\": \"#2a3f5f\"}, \"marker\": {\"line\": {\"color\": \"white\", \"width\": 0.5}}, \"type\": \"bar\"}], \"barpolar\": [{\"marker\": {\"line\": {\"color\": \"white\", \"width\": 0.5}}, \"type\": \"barpolar\"}], \"carpet\": [{\"aaxis\": {\"endlinecolor\": \"#2a3f5f\", \"gridcolor\": \"#C8D4E3\", \"linecolor\": \"#C8D4E3\", \"minorgridcolor\": \"#C8D4E3\", \"startlinecolor\": \"#2a3f5f\"}, \"baxis\": {\"endlinecolor\": \"#2a3f5f\", \"gridcolor\": \"#C8D4E3\", \"linecolor\": \"#C8D4E3\", \"minorgridcolor\": \"#C8D4E3\", \"startlinecolor\": \"#2a3f5f\"}, \"type\": \"carpet\"}], \"choropleth\": [{\"colorbar\": {\"outlinewidth\": 0, \"ticks\": \"\"}, \"type\": \"choropleth\"}], \"contour\": [{\"colorbar\": {\"outlinewidth\": 0, \"ticks\": \"\"}, \"colorscale\": [[0.0, \"#0d0887\"], [0.1111111111111111, \"#46039f\"], [0.2222222222222222, \"#7201a8\"], [0.3333333333333333, \"#9c179e\"], [0.4444444444444444, \"#bd3786\"], [0.5555555555555556, \"#d8576b\"], [0.6666666666666666, \"#ed7953\"], [0.7777777777777778, \"#fb9f3a\"], [0.8888888888888888, \"#fdca26\"], [1.0, \"#f0f921\"]], \"type\": \"contour\"}], \"contourcarpet\": [{\"colorbar\": {\"outlinewidth\": 0, \"ticks\": \"\"}, \"type\": \"contourcarpet\"}], \"heatmap\": [{\"colorbar\": {\"outlinewidth\": 0, \"ticks\": \"\"}, \"colorscale\": [[0.0, \"#0d0887\"], [0.1111111111111111, \"#46039f\"], [0.2222222222222222, \"#7201a8\"], [0.3333333333333333, \"#9c179e\"], [0.4444444444444444, \"#bd3786\"], [0.5555555555555556, \"#d8576b\"], [0.6666666666666666, \"#ed7953\"], [0.7777777777777778, \"#fb9f3a\"], [0.8888888888888888, \"#fdca26\"], [1.0, \"#f0f921\"]], \"type\": \"heatmap\"}], \"heatmapgl\": [{\"colorbar\": {\"outlinewidth\": 0, \"ticks\": \"\"}, \"colorscale\": [[0.0, \"#0d0887\"], [0.1111111111111111, \"#46039f\"], [0.2222222222222222, \"#7201a8\"], [0.3333333333333333, \"#9c179e\"], [0.4444444444444444, \"#bd3786\"], [0.5555555555555556, \"#d8576b\"], [0.6666666666666666, \"#ed7953\"], [0.7777777777777778, \"#fb9f3a\"], [0.8888888888888888, \"#fdca26\"], [1.0, \"#f0f921\"]], \"type\": \"heatmapgl\"}], \"histogram\": [{\"marker\": {\"colorbar\": {\"outlinewidth\": 0, \"ticks\": \"\"}}, \"type\": \"histogram\"}], \"histogram2d\": [{\"colorbar\": {\"outlinewidth\": 0, \"ticks\": \"\"}, \"colorscale\": [[0.0, \"#0d0887\"], [0.1111111111111111, \"#46039f\"], [0.2222222222222222, \"#7201a8\"], [0.3333333333333333, \"#9c179e\"], [0.4444444444444444, \"#bd3786\"], [0.5555555555555556, \"#d8576b\"], [0.6666666666666666, \"#ed7953\"], [0.7777777777777778, \"#fb9f3a\"], [0.8888888888888888, \"#fdca26\"], [1.0, \"#f0f921\"]], \"type\": \"histogram2d\"}], \"histogram2dcontour\": [{\"colorbar\": {\"outlinewidth\": 0, \"ticks\": \"\"}, \"colorscale\": [[0.0, \"#0d0887\"], [0.1111111111111111, \"#46039f\"], [0.2222222222222222, \"#7201a8\"], [0.3333333333333333, \"#9c179e\"], [0.4444444444444444, \"#bd3786\"], [0.5555555555555556, \"#d8576b\"], [0.6666666666666666, \"#ed7953\"], [0.7777777777777778, \"#fb9f3a\"], [0.8888888888888888, \"#fdca26\"], [1.0, \"#f0f921\"]], \"type\": \"histogram2dcontour\"}], \"mesh3d\": [{\"colorbar\": {\"outlinewidth\": 0, \"ticks\": \"\"}, \"type\": \"mesh3d\"}], \"parcoords\": [{\"line\": {\"colorbar\": {\"outlinewidth\": 0, \"ticks\": \"\"}}, \"type\": \"parcoords\"}], \"pie\": [{\"automargin\": true, \"type\": \"pie\"}], \"scatter\": [{\"marker\": {\"colorbar\": {\"outlinewidth\": 0, \"ticks\": \"\"}}, \"type\": \"scatter\"}], \"scatter3d\": [{\"line\": {\"colorbar\": {\"outlinewidth\": 0, \"ticks\": \"\"}}, \"marker\": {\"colorbar\": {\"outlinewidth\": 0, \"ticks\": \"\"}}, \"type\": \"scatter3d\"}], \"scattercarpet\": [{\"marker\": {\"colorbar\": {\"outlinewidth\": 0, \"ticks\": \"\"}}, \"type\": \"scattercarpet\"}], \"scattergeo\": [{\"marker\": {\"colorbar\": {\"outlinewidth\": 0, \"ticks\": \"\"}}, \"type\": \"scattergeo\"}], \"scattergl\": [{\"marker\": {\"colorbar\": {\"outlinewidth\": 0, \"ticks\": \"\"}}, \"type\": \"scattergl\"}], \"scattermapbox\": [{\"marker\": {\"colorbar\": {\"outlinewidth\": 0, \"ticks\": \"\"}}, \"type\": \"scattermapbox\"}], \"scatterpolar\": [{\"marker\": {\"colorbar\": {\"outlinewidth\": 0, \"ticks\": \"\"}}, \"type\": \"scatterpolar\"}], \"scatterpolargl\": [{\"marker\": {\"colorbar\": {\"outlinewidth\": 0, \"ticks\": \"\"}}, \"type\": \"scatterpolargl\"}], \"scatterternary\": [{\"marker\": {\"colorbar\": {\"outlinewidth\": 0, \"ticks\": \"\"}}, \"type\": \"scatterternary\"}], \"surface\": [{\"colorbar\": {\"outlinewidth\": 0, \"ticks\": \"\"}, \"colorscale\": [[0.0, \"#0d0887\"], [0.1111111111111111, \"#46039f\"], [0.2222222222222222, \"#7201a8\"], [0.3333333333333333, \"#9c179e\"], [0.4444444444444444, \"#bd3786\"], [0.5555555555555556, \"#d8576b\"], [0.6666666666666666, \"#ed7953\"], [0.7777777777777778, \"#fb9f3a\"], [0.8888888888888888, \"#fdca26\"], [1.0, \"#f0f921\"]], \"type\": \"surface\"}], \"table\": [{\"cells\": {\"fill\": {\"color\": \"#EBF0F8\"}, \"line\": {\"color\": \"white\"}}, \"header\": {\"fill\": {\"color\": \"#C8D4E3\"}, \"line\": {\"color\": \"white\"}}, \"type\": \"table\"}]}, \"layout\": {\"annotationdefaults\": {\"arrowcolor\": \"#2a3f5f\", \"arrowhead\": 0, \"arrowwidth\": 1}, \"coloraxis\": {\"colorbar\": {\"outlinewidth\": 0, \"ticks\": \"\"}}, \"colorscale\": {\"diverging\": [[0, \"#8e0152\"], [0.1, \"#c51b7d\"], [0.2, \"#de77ae\"], [0.3, \"#f1b6da\"], [0.4, \"#fde0ef\"], [0.5, \"#f7f7f7\"], [0.6, \"#e6f5d0\"], [0.7, \"#b8e186\"], [0.8, \"#7fbc41\"], [0.9, \"#4d9221\"], [1, \"#276419\"]], \"sequential\": [[0.0, \"#0d0887\"], [0.1111111111111111, \"#46039f\"], [0.2222222222222222, \"#7201a8\"], [0.3333333333333333, \"#9c179e\"], [0.4444444444444444, \"#bd3786\"], [0.5555555555555556, \"#d8576b\"], [0.6666666666666666, \"#ed7953\"], [0.7777777777777778, \"#fb9f3a\"], [0.8888888888888888, \"#fdca26\"], [1.0, \"#f0f921\"]], \"sequentialminus\": [[0.0, \"#0d0887\"], [0.1111111111111111, \"#46039f\"], [0.2222222222222222, \"#7201a8\"], [0.3333333333333333, \"#9c179e\"], [0.4444444444444444, \"#bd3786\"], [0.5555555555555556, \"#d8576b\"], [0.6666666666666666, \"#ed7953\"], [0.7777777777777778, \"#fb9f3a\"], [0.8888888888888888, \"#fdca26\"], [1.0, \"#f0f921\"]]}, \"colorway\": [\"#636efa\", \"#EF553B\", \"#00cc96\", \"#ab63fa\", \"#FFA15A\", \"#19d3f3\", \"#FF6692\", \"#B6E880\", \"#FF97FF\", \"#FECB52\"], \"font\": {\"color\": \"#2a3f5f\"}, \"geo\": {\"bgcolor\": \"white\", \"lakecolor\": \"white\", \"landcolor\": \"white\", \"showlakes\": true, \"showland\": true, \"subunitcolor\": \"#C8D4E3\"}, \"hoverlabel\": {\"align\": \"left\"}, \"hovermode\": \"closest\", \"mapbox\": {\"style\": \"light\"}, \"paper_bgcolor\": \"white\", \"plot_bgcolor\": \"white\", \"polar\": {\"angularaxis\": {\"gridcolor\": \"#EBF0F8\", \"linecolor\": \"#EBF0F8\", \"ticks\": \"\"}, \"bgcolor\": \"white\", \"radialaxis\": {\"gridcolor\": \"#EBF0F8\", \"linecolor\": \"#EBF0F8\", \"ticks\": \"\"}}, \"scene\": {\"xaxis\": {\"backgroundcolor\": \"white\", \"gridcolor\": \"#DFE8F3\", \"gridwidth\": 2, \"linecolor\": \"#EBF0F8\", \"showbackground\": true, \"ticks\": \"\", \"zerolinecolor\": \"#EBF0F8\"}, \"yaxis\": {\"backgroundcolor\": \"white\", \"gridcolor\": \"#DFE8F3\", \"gridwidth\": 2, \"linecolor\": \"#EBF0F8\", \"showbackground\": true, \"ticks\": \"\", \"zerolinecolor\": \"#EBF0F8\"}, \"zaxis\": {\"backgroundcolor\": \"white\", \"gridcolor\": \"#DFE8F3\", \"gridwidth\": 2, \"linecolor\": \"#EBF0F8\", \"showbackground\": true, \"ticks\": \"\", \"zerolinecolor\": \"#EBF0F8\"}}, \"shapedefaults\": {\"line\": {\"color\": \"#2a3f5f\"}}, \"ternary\": {\"aaxis\": {\"gridcolor\": \"#DFE8F3\", \"linecolor\": \"#A2B1C6\", \"ticks\": \"\"}, \"baxis\": {\"gridcolor\": \"#DFE8F3\", \"linecolor\": \"#A2B1C6\", \"ticks\": \"\"}, \"bgcolor\": \"white\", \"caxis\": {\"gridcolor\": \"#DFE8F3\", \"linecolor\": \"#A2B1C6\", \"ticks\": \"\"}}, \"title\": {\"x\": 0.05}, \"xaxis\": {\"automargin\": true, \"gridcolor\": \"#EBF0F8\", \"linecolor\": \"#EBF0F8\", \"ticks\": \"\", \"title\": {\"standoff\": 15}, \"zerolinecolor\": \"#EBF0F8\", \"zerolinewidth\": 2}, \"yaxis\": {\"automargin\": true, \"gridcolor\": \"#EBF0F8\", \"linecolor\": \"#EBF0F8\", \"ticks\": \"\", \"title\": {\"standoff\": 15}, \"zerolinecolor\": \"#EBF0F8\", \"zerolinewidth\": 2}}}, \"title\": {\"text\": \"Training Metrics\"}, \"width\": 700, \"xaxis\": {\"title\": {\"text\": \"epochs\"}}, \"yaxis\": {\"title\": {\"text\": \"loss\"}}},\n",
              "                        {\"responsive\": true}\n",
              "                    ).then(function(){\n",
              "                            \n",
              "var gd = document.getElementById('f69c8361-0069-4dc7-a66c-6245c8952b52');\n",
              "var x = new MutationObserver(function (mutations, observer) {{\n",
              "        var display = window.getComputedStyle(gd).display;\n",
              "        if (!display || display === 'none') {{\n",
              "            console.log([gd, 'removed!']);\n",
              "            Plotly.purge(gd);\n",
              "            observer.disconnect();\n",
              "        }}\n",
              "}});\n",
              "\n",
              "// Listen for the removal of the full notebook cells\n",
              "var notebookContainer = gd.closest('#notebook-container');\n",
              "if (notebookContainer) {{\n",
              "    x.observe(notebookContainer, {childList: true});\n",
              "}}\n",
              "\n",
              "// Listen for the clearing of the current output cell\n",
              "var outputEl = gd.closest('.output');\n",
              "if (outputEl) {{\n",
              "    x.observe(outputEl, {childList: true});\n",
              "}}\n",
              "\n",
              "                        })\n",
              "                };\n",
              "                \n",
              "            </script>\n",
              "        </div>\n",
              "</body>\n",
              "</html>"
            ]
          },
          "metadata": {}
        },
        {
          "output_type": "display_data",
          "data": {
            "text/html": [
              "<html>\n",
              "<head><meta charset=\"utf-8\" /></head>\n",
              "<body>\n",
              "    <div>\n",
              "            <script src=\"https://cdnjs.cloudflare.com/ajax/libs/mathjax/2.7.5/MathJax.js?config=TeX-AMS-MML_SVG\"></script><script type=\"text/javascript\">if (window.MathJax) {MathJax.Hub.Config({SVG: {font: \"STIX-Web\"}});}</script>\n",
              "                <script type=\"text/javascript\">window.PlotlyConfig = {MathJaxConfig: 'local'};</script>\n",
              "        <script src=\"https://cdn.plot.ly/plotly-latest.min.js\"></script>    \n",
              "            <div id=\"a81fe5f4-8139-4fb2-bf44-3a42c8ae3b68\" class=\"plotly-graph-div\" style=\"height:400px; width:600px;\"></div>\n",
              "            <script type=\"text/javascript\">\n",
              "                \n",
              "                    window.PLOTLYENV=window.PLOTLYENV || {};\n",
              "                    \n",
              "                if (document.getElementById(\"a81fe5f4-8139-4fb2-bf44-3a42c8ae3b68\")) {\n",
              "                    Plotly.newPlot(\n",
              "                        'a81fe5f4-8139-4fb2-bf44-3a42c8ae3b68',\n",
              "                        [{\"fill\": \"tozeroy\", \"line\": {\"color\": \"#ccc\"}, \"mode\": \"lines\", \"name\": \"Test Data\", \"type\": \"scatter\", \"x\": [34, 35, 36, 37, 38, 39, 40, 41, 42, 43, 44, 45, 46, 47, 48, 49, 50, 51, 52, 53, 54, 55, 56, 57, 58, 59, 60, 61, 62, 63, 64, 65, 66, 67, 68, 69, 70, 71, 72, 73], \"y\": [3.071303460401065, 3.0661907372025525, 3.0722302445267164, 3.0819099697950434, 3.0883114548470845, 3.080073421987742, 3.0791538816930633, 3.0851158346886765, 3.092858984284714, 3.108167702883779, 3.1188344706879745, 3.138966441639899, 3.150596984114906, 3.164630810015805, 3.1608228934195837, 3.171364842197149, 3.1763857732472487, 3.1822118404966093, 3.1888289035159043, 3.1855258451866466, 3.1855258451866466, 3.1747149290824312, 3.1871787381249463, 3.188416617383492, 3.2128577525426376, 3.2072080200005186, 3.1949928844048685, 3.208017081533325, 3.205993199037187, 3.20761263258949, 3.2164729402518906, 3.223664341599998, 3.217274543501227, 3.205993199037187, 3.217675104291682, 3.228430037673012, 3.2011191032789417, 3.19744787745458, 3.1986731175506815, 3.2068032436339315]}, {\"fill\": \"tozeroy\", \"line\": {\"color\": \"#ccc\"}, \"mode\": \"lines+markers\", \"name\": \"Actual Price\", \"type\": \"scatter\", \"x\": [74, 75, 76, 77, 78], \"y\": [3.071303460401065, 3.0661907372025525, 3.0722302445267164, 3.0819099697950434, 3.0883114548470845]}, {\"line\": {\"color\": \"red\"}, \"mode\": \"lines+markers\", \"name\": \"Predicted Price\", \"type\": \"scatter\", \"x\": [74, 75, 76, 77, 78], \"y\": [3.1785776615142822, 3.1759135723114014, 3.172276496887207, 3.1670916080474854, 3.17203688621521]}],\n",
              "                        {\"height\": 400, \"template\": {\"data\": {\"bar\": [{\"error_x\": {\"color\": \"#2a3f5f\"}, \"error_y\": {\"color\": \"#2a3f5f\"}, \"marker\": {\"line\": {\"color\": \"white\", \"width\": 0.5}}, \"type\": \"bar\"}], \"barpolar\": [{\"marker\": {\"line\": {\"color\": \"white\", \"width\": 0.5}}, \"type\": \"barpolar\"}], \"carpet\": [{\"aaxis\": {\"endlinecolor\": \"#2a3f5f\", \"gridcolor\": \"#C8D4E3\", \"linecolor\": \"#C8D4E3\", \"minorgridcolor\": \"#C8D4E3\", \"startlinecolor\": \"#2a3f5f\"}, \"baxis\": {\"endlinecolor\": \"#2a3f5f\", \"gridcolor\": \"#C8D4E3\", \"linecolor\": \"#C8D4E3\", \"minorgridcolor\": \"#C8D4E3\", \"startlinecolor\": \"#2a3f5f\"}, \"type\": \"carpet\"}], \"choropleth\": [{\"colorbar\": {\"outlinewidth\": 0, \"ticks\": \"\"}, \"type\": \"choropleth\"}], \"contour\": [{\"colorbar\": {\"outlinewidth\": 0, \"ticks\": \"\"}, \"colorscale\": [[0.0, \"#0d0887\"], [0.1111111111111111, \"#46039f\"], [0.2222222222222222, \"#7201a8\"], [0.3333333333333333, \"#9c179e\"], [0.4444444444444444, \"#bd3786\"], [0.5555555555555556, \"#d8576b\"], [0.6666666666666666, \"#ed7953\"], [0.7777777777777778, \"#fb9f3a\"], [0.8888888888888888, \"#fdca26\"], [1.0, \"#f0f921\"]], \"type\": \"contour\"}], \"contourcarpet\": [{\"colorbar\": {\"outlinewidth\": 0, \"ticks\": \"\"}, \"type\": \"contourcarpet\"}], \"heatmap\": [{\"colorbar\": {\"outlinewidth\": 0, \"ticks\": \"\"}, \"colorscale\": [[0.0, \"#0d0887\"], [0.1111111111111111, \"#46039f\"], [0.2222222222222222, \"#7201a8\"], [0.3333333333333333, \"#9c179e\"], [0.4444444444444444, \"#bd3786\"], [0.5555555555555556, \"#d8576b\"], [0.6666666666666666, \"#ed7953\"], [0.7777777777777778, \"#fb9f3a\"], [0.8888888888888888, \"#fdca26\"], [1.0, \"#f0f921\"]], \"type\": \"heatmap\"}], \"heatmapgl\": [{\"colorbar\": {\"outlinewidth\": 0, \"ticks\": \"\"}, \"colorscale\": [[0.0, \"#0d0887\"], [0.1111111111111111, \"#46039f\"], [0.2222222222222222, \"#7201a8\"], [0.3333333333333333, \"#9c179e\"], [0.4444444444444444, \"#bd3786\"], [0.5555555555555556, \"#d8576b\"], [0.6666666666666666, \"#ed7953\"], [0.7777777777777778, \"#fb9f3a\"], [0.8888888888888888, \"#fdca26\"], [1.0, \"#f0f921\"]], \"type\": \"heatmapgl\"}], \"histogram\": [{\"marker\": {\"colorbar\": {\"outlinewidth\": 0, \"ticks\": \"\"}}, \"type\": \"histogram\"}], \"histogram2d\": [{\"colorbar\": {\"outlinewidth\": 0, \"ticks\": \"\"}, \"colorscale\": [[0.0, \"#0d0887\"], [0.1111111111111111, \"#46039f\"], [0.2222222222222222, \"#7201a8\"], [0.3333333333333333, \"#9c179e\"], [0.4444444444444444, \"#bd3786\"], [0.5555555555555556, \"#d8576b\"], [0.6666666666666666, \"#ed7953\"], [0.7777777777777778, \"#fb9f3a\"], [0.8888888888888888, \"#fdca26\"], [1.0, \"#f0f921\"]], \"type\": \"histogram2d\"}], \"histogram2dcontour\": [{\"colorbar\": {\"outlinewidth\": 0, \"ticks\": \"\"}, \"colorscale\": [[0.0, \"#0d0887\"], [0.1111111111111111, \"#46039f\"], [0.2222222222222222, \"#7201a8\"], [0.3333333333333333, \"#9c179e\"], [0.4444444444444444, \"#bd3786\"], [0.5555555555555556, \"#d8576b\"], [0.6666666666666666, \"#ed7953\"], [0.7777777777777778, \"#fb9f3a\"], [0.8888888888888888, \"#fdca26\"], [1.0, \"#f0f921\"]], \"type\": \"histogram2dcontour\"}], \"mesh3d\": [{\"colorbar\": {\"outlinewidth\": 0, \"ticks\": \"\"}, \"type\": \"mesh3d\"}], \"parcoords\": [{\"line\": {\"colorbar\": {\"outlinewidth\": 0, \"ticks\": \"\"}}, \"type\": \"parcoords\"}], \"pie\": [{\"automargin\": true, \"type\": \"pie\"}], \"scatter\": [{\"marker\": {\"colorbar\": {\"outlinewidth\": 0, \"ticks\": \"\"}}, \"type\": \"scatter\"}], \"scatter3d\": [{\"line\": {\"colorbar\": {\"outlinewidth\": 0, \"ticks\": \"\"}}, \"marker\": {\"colorbar\": {\"outlinewidth\": 0, \"ticks\": \"\"}}, \"type\": \"scatter3d\"}], \"scattercarpet\": [{\"marker\": {\"colorbar\": {\"outlinewidth\": 0, \"ticks\": \"\"}}, \"type\": \"scattercarpet\"}], \"scattergeo\": [{\"marker\": {\"colorbar\": {\"outlinewidth\": 0, \"ticks\": \"\"}}, \"type\": \"scattergeo\"}], \"scattergl\": [{\"marker\": {\"colorbar\": {\"outlinewidth\": 0, \"ticks\": \"\"}}, \"type\": \"scattergl\"}], \"scattermapbox\": [{\"marker\": {\"colorbar\": {\"outlinewidth\": 0, \"ticks\": \"\"}}, \"type\": \"scattermapbox\"}], \"scatterpolar\": [{\"marker\": {\"colorbar\": {\"outlinewidth\": 0, \"ticks\": \"\"}}, \"type\": \"scatterpolar\"}], \"scatterpolargl\": [{\"marker\": {\"colorbar\": {\"outlinewidth\": 0, \"ticks\": \"\"}}, \"type\": \"scatterpolargl\"}], \"scatterternary\": [{\"marker\": {\"colorbar\": {\"outlinewidth\": 0, \"ticks\": \"\"}}, \"type\": \"scatterternary\"}], \"surface\": [{\"colorbar\": {\"outlinewidth\": 0, \"ticks\": \"\"}, \"colorscale\": [[0.0, \"#0d0887\"], [0.1111111111111111, \"#46039f\"], [0.2222222222222222, \"#7201a8\"], [0.3333333333333333, \"#9c179e\"], [0.4444444444444444, \"#bd3786\"], [0.5555555555555556, \"#d8576b\"], [0.6666666666666666, \"#ed7953\"], [0.7777777777777778, \"#fb9f3a\"], [0.8888888888888888, \"#fdca26\"], [1.0, \"#f0f921\"]], \"type\": \"surface\"}], \"table\": [{\"cells\": {\"fill\": {\"color\": \"#EBF0F8\"}, \"line\": {\"color\": \"white\"}}, \"header\": {\"fill\": {\"color\": \"#C8D4E3\"}, \"line\": {\"color\": \"white\"}}, \"type\": \"table\"}]}, \"layout\": {\"annotationdefaults\": {\"arrowcolor\": \"#2a3f5f\", \"arrowhead\": 0, \"arrowwidth\": 1}, \"coloraxis\": {\"colorbar\": {\"outlinewidth\": 0, \"ticks\": \"\"}}, \"colorscale\": {\"diverging\": [[0, \"#8e0152\"], [0.1, \"#c51b7d\"], [0.2, \"#de77ae\"], [0.3, \"#f1b6da\"], [0.4, \"#fde0ef\"], [0.5, \"#f7f7f7\"], [0.6, \"#e6f5d0\"], [0.7, \"#b8e186\"], [0.8, \"#7fbc41\"], [0.9, \"#4d9221\"], [1, \"#276419\"]], \"sequential\": [[0.0, \"#0d0887\"], [0.1111111111111111, \"#46039f\"], [0.2222222222222222, \"#7201a8\"], [0.3333333333333333, \"#9c179e\"], [0.4444444444444444, \"#bd3786\"], [0.5555555555555556, \"#d8576b\"], [0.6666666666666666, \"#ed7953\"], [0.7777777777777778, \"#fb9f3a\"], [0.8888888888888888, \"#fdca26\"], [1.0, \"#f0f921\"]], \"sequentialminus\": [[0.0, \"#0d0887\"], [0.1111111111111111, \"#46039f\"], [0.2222222222222222, \"#7201a8\"], [0.3333333333333333, \"#9c179e\"], [0.4444444444444444, \"#bd3786\"], [0.5555555555555556, \"#d8576b\"], [0.6666666666666666, \"#ed7953\"], [0.7777777777777778, \"#fb9f3a\"], [0.8888888888888888, \"#fdca26\"], [1.0, \"#f0f921\"]]}, \"colorway\": [\"#636efa\", \"#EF553B\", \"#00cc96\", \"#ab63fa\", \"#FFA15A\", \"#19d3f3\", \"#FF6692\", \"#B6E880\", \"#FF97FF\", \"#FECB52\"], \"font\": {\"color\": \"#2a3f5f\"}, \"geo\": {\"bgcolor\": \"white\", \"lakecolor\": \"white\", \"landcolor\": \"white\", \"showlakes\": true, \"showland\": true, \"subunitcolor\": \"#C8D4E3\"}, \"hoverlabel\": {\"align\": \"left\"}, \"hovermode\": \"closest\", \"mapbox\": {\"style\": \"light\"}, \"paper_bgcolor\": \"white\", \"plot_bgcolor\": \"white\", \"polar\": {\"angularaxis\": {\"gridcolor\": \"#EBF0F8\", \"linecolor\": \"#EBF0F8\", \"ticks\": \"\"}, \"bgcolor\": \"white\", \"radialaxis\": {\"gridcolor\": \"#EBF0F8\", \"linecolor\": \"#EBF0F8\", \"ticks\": \"\"}}, \"scene\": {\"xaxis\": {\"backgroundcolor\": \"white\", \"gridcolor\": \"#DFE8F3\", \"gridwidth\": 2, \"linecolor\": \"#EBF0F8\", \"showbackground\": true, \"ticks\": \"\", \"zerolinecolor\": \"#EBF0F8\"}, \"yaxis\": {\"backgroundcolor\": \"white\", \"gridcolor\": \"#DFE8F3\", \"gridwidth\": 2, \"linecolor\": \"#EBF0F8\", \"showbackground\": true, \"ticks\": \"\", \"zerolinecolor\": \"#EBF0F8\"}, \"zaxis\": {\"backgroundcolor\": \"white\", \"gridcolor\": \"#DFE8F3\", \"gridwidth\": 2, \"linecolor\": \"#EBF0F8\", \"showbackground\": true, \"ticks\": \"\", \"zerolinecolor\": \"#EBF0F8\"}}, \"shapedefaults\": {\"line\": {\"color\": \"#2a3f5f\"}}, \"ternary\": {\"aaxis\": {\"gridcolor\": \"#DFE8F3\", \"linecolor\": \"#A2B1C6\", \"ticks\": \"\"}, \"baxis\": {\"gridcolor\": \"#DFE8F3\", \"linecolor\": \"#A2B1C6\", \"ticks\": \"\"}, \"bgcolor\": \"white\", \"caxis\": {\"gridcolor\": \"#DFE8F3\", \"linecolor\": \"#A2B1C6\", \"ticks\": \"\"}}, \"title\": {\"x\": 0.05}, \"xaxis\": {\"automargin\": true, \"gridcolor\": \"#EBF0F8\", \"linecolor\": \"#EBF0F8\", \"ticks\": \"\", \"title\": {\"standoff\": 15}, \"zerolinecolor\": \"#EBF0F8\", \"zerolinewidth\": 2}, \"yaxis\": {\"automargin\": true, \"gridcolor\": \"#EBF0F8\", \"linecolor\": \"#EBF0F8\", \"ticks\": \"\", \"title\": {\"standoff\": 15}, \"zerolinecolor\": \"#EBF0F8\", \"zerolinewidth\": 2}}}, \"title\": {\"text\": \"Actual vs Predicted Price\"}, \"width\": 600, \"xaxis\": {\"title\": {\"text\": \"Batch\"}}, \"yaxis\": {\"title\": {\"text\": \"Price\"}}},\n",
              "                        {\"responsive\": true}\n",
              "                    ).then(function(){\n",
              "                            \n",
              "var gd = document.getElementById('a81fe5f4-8139-4fb2-bf44-3a42c8ae3b68');\n",
              "var x = new MutationObserver(function (mutations, observer) {{\n",
              "        var display = window.getComputedStyle(gd).display;\n",
              "        if (!display || display === 'none') {{\n",
              "            console.log([gd, 'removed!']);\n",
              "            Plotly.purge(gd);\n",
              "            observer.disconnect();\n",
              "        }}\n",
              "}});\n",
              "\n",
              "// Listen for the removal of the full notebook cells\n",
              "var notebookContainer = gd.closest('#notebook-container');\n",
              "if (notebookContainer) {{\n",
              "    x.observe(notebookContainer, {childList: true});\n",
              "}}\n",
              "\n",
              "// Listen for the clearing of the current output cell\n",
              "var outputEl = gd.closest('.output');\n",
              "if (outputEl) {{\n",
              "    x.observe(outputEl, {childList: true});\n",
              "}}\n",
              "\n",
              "                        })\n",
              "                };\n",
              "                \n",
              "            </script>\n",
              "        </div>\n",
              "</body>\n",
              "</html>"
            ]
          },
          "metadata": {}
        },
        {
          "output_type": "display_data",
          "data": {
            "text/html": [
              "<html>\n",
              "<head><meta charset=\"utf-8\" /></head>\n",
              "<body>\n",
              "    <div>\n",
              "            <script src=\"https://cdnjs.cloudflare.com/ajax/libs/mathjax/2.7.5/MathJax.js?config=TeX-AMS-MML_SVG\"></script><script type=\"text/javascript\">if (window.MathJax) {MathJax.Hub.Config({SVG: {font: \"STIX-Web\"}});}</script>\n",
              "                <script type=\"text/javascript\">window.PlotlyConfig = {MathJaxConfig: 'local'};</script>\n",
              "        <script src=\"https://cdn.plot.ly/plotly-latest.min.js\"></script>    \n",
              "            <div id=\"fc08113c-c646-4021-b074-44262c256a9a\" class=\"plotly-graph-div\" style=\"height:400px; width:600px;\"></div>\n",
              "            <script type=\"text/javascript\">\n",
              "                \n",
              "                    window.PLOTLYENV=window.PLOTLYENV || {};\n",
              "                    \n",
              "                if (document.getElementById(\"fc08113c-c646-4021-b074-44262c256a9a\")) {\n",
              "                    Plotly.newPlot(\n",
              "                        'fc08113c-c646-4021-b074-44262c256a9a',\n",
              "                        [{\"fill\": \"tozeroy\", \"line\": {\"color\": \"#ccc\"}, \"mode\": \"lines\", \"name\": \"Test Data\", \"type\": \"scatter\", \"x\": [406, 407, 408, 409, 410, 411, 412, 413, 414, 415, 416, 417, 418, 419, 420, 421, 422, 423, 424, 425, 426, 427, 428, 429, 430, 431, 432, 433, 434, 435, 436, 437, 438, 439, 440, 441, 442, 443, 444, 445], \"y\": [3.756538102587751, 3.7556030861568446, 3.7621299158535293, 3.7395725684294545, 3.7297814454343623, 3.7230393057606412, 3.7064737625148876, 3.6737658163038884, 3.6485781573404106, 3.6256733782101436, 3.612808017162641, 3.581850881355413, 3.586015818654697, 3.584906863730958, 3.5684053006460617, 3.5452977256359124, 3.5567756134805992, 3.5553480614894135, 3.549904701823348, 3.5898875049069856, 3.6160399079369787, 3.6149637711637683, 3.6068556186353455, 3.594568774642695, 3.609565647394211, 3.6160399079369787, 3.606312730456974, 3.6144252681889886, 3.6109179126442243, 3.612808017162641, 3.62886402170395, 3.6280673147171787, 3.6197972929264925, 3.623540612805596, 3.6230067099632284, 3.6519561000093383, 3.6483178423578133, 3.6735119769828146, 3.643358938812127, 3.6691868207682004]}, {\"fill\": \"tozeroy\", \"line\": {\"color\": \"#ccc\"}, \"mode\": \"lines+markers\", \"name\": \"Actual Price\", \"type\": \"scatter\", \"x\": [446, 447, 448, 449, 450], \"y\": [3.756538102587751, 3.7556030861568446, 3.7621299158535293, 3.7395725684294545, 3.7297814454343623]}, {\"line\": {\"color\": \"red\"}, \"mode\": \"lines+markers\", \"name\": \"Predicted Price\", \"type\": \"scatter\", \"x\": [446, 447, 448, 449, 450], \"y\": [3.6598243713378906, 3.659160614013672, 3.6595544815063477, 3.6520040035247803, 3.6562185287475586]}],\n",
              "                        {\"height\": 400, \"template\": {\"data\": {\"bar\": [{\"error_x\": {\"color\": \"#2a3f5f\"}, \"error_y\": {\"color\": \"#2a3f5f\"}, \"marker\": {\"line\": {\"color\": \"white\", \"width\": 0.5}}, \"type\": \"bar\"}], \"barpolar\": [{\"marker\": {\"line\": {\"color\": \"white\", \"width\": 0.5}}, \"type\": \"barpolar\"}], \"carpet\": [{\"aaxis\": {\"endlinecolor\": \"#2a3f5f\", \"gridcolor\": \"#C8D4E3\", \"linecolor\": \"#C8D4E3\", \"minorgridcolor\": \"#C8D4E3\", \"startlinecolor\": \"#2a3f5f\"}, \"baxis\": {\"endlinecolor\": \"#2a3f5f\", \"gridcolor\": \"#C8D4E3\", \"linecolor\": \"#C8D4E3\", \"minorgridcolor\": \"#C8D4E3\", \"startlinecolor\": \"#2a3f5f\"}, \"type\": \"carpet\"}], \"choropleth\": [{\"colorbar\": {\"outlinewidth\": 0, \"ticks\": \"\"}, \"type\": \"choropleth\"}], \"contour\": [{\"colorbar\": {\"outlinewidth\": 0, \"ticks\": \"\"}, \"colorscale\": [[0.0, \"#0d0887\"], [0.1111111111111111, \"#46039f\"], [0.2222222222222222, \"#7201a8\"], [0.3333333333333333, \"#9c179e\"], [0.4444444444444444, \"#bd3786\"], [0.5555555555555556, \"#d8576b\"], [0.6666666666666666, \"#ed7953\"], [0.7777777777777778, \"#fb9f3a\"], [0.8888888888888888, \"#fdca26\"], [1.0, \"#f0f921\"]], \"type\": \"contour\"}], \"contourcarpet\": [{\"colorbar\": {\"outlinewidth\": 0, \"ticks\": \"\"}, \"type\": \"contourcarpet\"}], \"heatmap\": [{\"colorbar\": {\"outlinewidth\": 0, \"ticks\": \"\"}, \"colorscale\": [[0.0, \"#0d0887\"], [0.1111111111111111, \"#46039f\"], [0.2222222222222222, \"#7201a8\"], [0.3333333333333333, \"#9c179e\"], [0.4444444444444444, \"#bd3786\"], [0.5555555555555556, \"#d8576b\"], [0.6666666666666666, \"#ed7953\"], [0.7777777777777778, \"#fb9f3a\"], [0.8888888888888888, \"#fdca26\"], [1.0, \"#f0f921\"]], \"type\": \"heatmap\"}], \"heatmapgl\": [{\"colorbar\": {\"outlinewidth\": 0, \"ticks\": \"\"}, \"colorscale\": [[0.0, \"#0d0887\"], [0.1111111111111111, \"#46039f\"], [0.2222222222222222, \"#7201a8\"], [0.3333333333333333, \"#9c179e\"], [0.4444444444444444, \"#bd3786\"], [0.5555555555555556, \"#d8576b\"], [0.6666666666666666, \"#ed7953\"], [0.7777777777777778, \"#fb9f3a\"], [0.8888888888888888, \"#fdca26\"], [1.0, \"#f0f921\"]], \"type\": \"heatmapgl\"}], \"histogram\": [{\"marker\": {\"colorbar\": {\"outlinewidth\": 0, \"ticks\": \"\"}}, \"type\": \"histogram\"}], \"histogram2d\": [{\"colorbar\": {\"outlinewidth\": 0, \"ticks\": \"\"}, \"colorscale\": [[0.0, \"#0d0887\"], [0.1111111111111111, \"#46039f\"], [0.2222222222222222, \"#7201a8\"], [0.3333333333333333, \"#9c179e\"], [0.4444444444444444, \"#bd3786\"], [0.5555555555555556, \"#d8576b\"], [0.6666666666666666, \"#ed7953\"], [0.7777777777777778, \"#fb9f3a\"], [0.8888888888888888, \"#fdca26\"], [1.0, \"#f0f921\"]], \"type\": \"histogram2d\"}], \"histogram2dcontour\": [{\"colorbar\": {\"outlinewidth\": 0, \"ticks\": \"\"}, \"colorscale\": [[0.0, \"#0d0887\"], [0.1111111111111111, \"#46039f\"], [0.2222222222222222, \"#7201a8\"], [0.3333333333333333, \"#9c179e\"], [0.4444444444444444, \"#bd3786\"], [0.5555555555555556, \"#d8576b\"], [0.6666666666666666, \"#ed7953\"], [0.7777777777777778, \"#fb9f3a\"], [0.8888888888888888, \"#fdca26\"], [1.0, \"#f0f921\"]], \"type\": \"histogram2dcontour\"}], \"mesh3d\": [{\"colorbar\": {\"outlinewidth\": 0, \"ticks\": \"\"}, \"type\": \"mesh3d\"}], \"parcoords\": [{\"line\": {\"colorbar\": {\"outlinewidth\": 0, \"ticks\": \"\"}}, \"type\": \"parcoords\"}], \"pie\": [{\"automargin\": true, \"type\": \"pie\"}], \"scatter\": [{\"marker\": {\"colorbar\": {\"outlinewidth\": 0, \"ticks\": \"\"}}, \"type\": \"scatter\"}], \"scatter3d\": [{\"line\": {\"colorbar\": {\"outlinewidth\": 0, \"ticks\": \"\"}}, \"marker\": {\"colorbar\": {\"outlinewidth\": 0, \"ticks\": \"\"}}, \"type\": \"scatter3d\"}], \"scattercarpet\": [{\"marker\": {\"colorbar\": {\"outlinewidth\": 0, \"ticks\": \"\"}}, \"type\": \"scattercarpet\"}], \"scattergeo\": [{\"marker\": {\"colorbar\": {\"outlinewidth\": 0, \"ticks\": \"\"}}, \"type\": \"scattergeo\"}], \"scattergl\": [{\"marker\": {\"colorbar\": {\"outlinewidth\": 0, \"ticks\": \"\"}}, \"type\": \"scattergl\"}], \"scattermapbox\": [{\"marker\": {\"colorbar\": {\"outlinewidth\": 0, \"ticks\": \"\"}}, \"type\": \"scattermapbox\"}], \"scatterpolar\": [{\"marker\": {\"colorbar\": {\"outlinewidth\": 0, \"ticks\": \"\"}}, \"type\": \"scatterpolar\"}], \"scatterpolargl\": [{\"marker\": {\"colorbar\": {\"outlinewidth\": 0, \"ticks\": \"\"}}, \"type\": \"scatterpolargl\"}], \"scatterternary\": [{\"marker\": {\"colorbar\": {\"outlinewidth\": 0, \"ticks\": \"\"}}, \"type\": \"scatterternary\"}], \"surface\": [{\"colorbar\": {\"outlinewidth\": 0, \"ticks\": \"\"}, \"colorscale\": [[0.0, \"#0d0887\"], [0.1111111111111111, \"#46039f\"], [0.2222222222222222, \"#7201a8\"], [0.3333333333333333, \"#9c179e\"], [0.4444444444444444, \"#bd3786\"], [0.5555555555555556, \"#d8576b\"], [0.6666666666666666, \"#ed7953\"], [0.7777777777777778, \"#fb9f3a\"], [0.8888888888888888, \"#fdca26\"], [1.0, \"#f0f921\"]], \"type\": \"surface\"}], \"table\": [{\"cells\": {\"fill\": {\"color\": \"#EBF0F8\"}, \"line\": {\"color\": \"white\"}}, \"header\": {\"fill\": {\"color\": \"#C8D4E3\"}, \"line\": {\"color\": \"white\"}}, \"type\": \"table\"}]}, \"layout\": {\"annotationdefaults\": {\"arrowcolor\": \"#2a3f5f\", \"arrowhead\": 0, \"arrowwidth\": 1}, \"coloraxis\": {\"colorbar\": {\"outlinewidth\": 0, \"ticks\": \"\"}}, \"colorscale\": {\"diverging\": [[0, \"#8e0152\"], [0.1, \"#c51b7d\"], [0.2, \"#de77ae\"], [0.3, \"#f1b6da\"], [0.4, \"#fde0ef\"], [0.5, \"#f7f7f7\"], [0.6, \"#e6f5d0\"], [0.7, \"#b8e186\"], [0.8, \"#7fbc41\"], [0.9, \"#4d9221\"], [1, \"#276419\"]], \"sequential\": [[0.0, \"#0d0887\"], [0.1111111111111111, \"#46039f\"], [0.2222222222222222, \"#7201a8\"], [0.3333333333333333, \"#9c179e\"], [0.4444444444444444, \"#bd3786\"], [0.5555555555555556, \"#d8576b\"], [0.6666666666666666, \"#ed7953\"], [0.7777777777777778, \"#fb9f3a\"], [0.8888888888888888, \"#fdca26\"], [1.0, \"#f0f921\"]], \"sequentialminus\": [[0.0, \"#0d0887\"], [0.1111111111111111, \"#46039f\"], [0.2222222222222222, \"#7201a8\"], [0.3333333333333333, \"#9c179e\"], [0.4444444444444444, \"#bd3786\"], [0.5555555555555556, \"#d8576b\"], [0.6666666666666666, \"#ed7953\"], [0.7777777777777778, \"#fb9f3a\"], [0.8888888888888888, \"#fdca26\"], [1.0, \"#f0f921\"]]}, \"colorway\": [\"#636efa\", \"#EF553B\", \"#00cc96\", \"#ab63fa\", \"#FFA15A\", \"#19d3f3\", \"#FF6692\", \"#B6E880\", \"#FF97FF\", \"#FECB52\"], \"font\": {\"color\": \"#2a3f5f\"}, \"geo\": {\"bgcolor\": \"white\", \"lakecolor\": \"white\", \"landcolor\": \"white\", \"showlakes\": true, \"showland\": true, \"subunitcolor\": \"#C8D4E3\"}, \"hoverlabel\": {\"align\": \"left\"}, \"hovermode\": \"closest\", \"mapbox\": {\"style\": \"light\"}, \"paper_bgcolor\": \"white\", \"plot_bgcolor\": \"white\", \"polar\": {\"angularaxis\": {\"gridcolor\": \"#EBF0F8\", \"linecolor\": \"#EBF0F8\", \"ticks\": \"\"}, \"bgcolor\": \"white\", \"radialaxis\": {\"gridcolor\": \"#EBF0F8\", \"linecolor\": \"#EBF0F8\", \"ticks\": \"\"}}, \"scene\": {\"xaxis\": {\"backgroundcolor\": \"white\", \"gridcolor\": \"#DFE8F3\", \"gridwidth\": 2, \"linecolor\": \"#EBF0F8\", \"showbackground\": true, \"ticks\": \"\", \"zerolinecolor\": \"#EBF0F8\"}, \"yaxis\": {\"backgroundcolor\": \"white\", \"gridcolor\": \"#DFE8F3\", \"gridwidth\": 2, \"linecolor\": \"#EBF0F8\", \"showbackground\": true, \"ticks\": \"\", \"zerolinecolor\": \"#EBF0F8\"}, \"zaxis\": {\"backgroundcolor\": \"white\", \"gridcolor\": \"#DFE8F3\", \"gridwidth\": 2, \"linecolor\": \"#EBF0F8\", \"showbackground\": true, \"ticks\": \"\", \"zerolinecolor\": \"#EBF0F8\"}}, \"shapedefaults\": {\"line\": {\"color\": \"#2a3f5f\"}}, \"ternary\": {\"aaxis\": {\"gridcolor\": \"#DFE8F3\", \"linecolor\": \"#A2B1C6\", \"ticks\": \"\"}, \"baxis\": {\"gridcolor\": \"#DFE8F3\", \"linecolor\": \"#A2B1C6\", \"ticks\": \"\"}, \"bgcolor\": \"white\", \"caxis\": {\"gridcolor\": \"#DFE8F3\", \"linecolor\": \"#A2B1C6\", \"ticks\": \"\"}}, \"title\": {\"x\": 0.05}, \"xaxis\": {\"automargin\": true, \"gridcolor\": \"#EBF0F8\", \"linecolor\": \"#EBF0F8\", \"ticks\": \"\", \"title\": {\"standoff\": 15}, \"zerolinecolor\": \"#EBF0F8\", \"zerolinewidth\": 2}, \"yaxis\": {\"automargin\": true, \"gridcolor\": \"#EBF0F8\", \"linecolor\": \"#EBF0F8\", \"ticks\": \"\", \"title\": {\"standoff\": 15}, \"zerolinecolor\": \"#EBF0F8\", \"zerolinewidth\": 2}}}, \"title\": {\"text\": \"Actual vs Predicted Price\"}, \"width\": 600, \"xaxis\": {\"title\": {\"text\": \"Batch\"}}, \"yaxis\": {\"title\": {\"text\": \"Price\"}}},\n",
              "                        {\"responsive\": true}\n",
              "                    ).then(function(){\n",
              "                            \n",
              "var gd = document.getElementById('fc08113c-c646-4021-b074-44262c256a9a');\n",
              "var x = new MutationObserver(function (mutations, observer) {{\n",
              "        var display = window.getComputedStyle(gd).display;\n",
              "        if (!display || display === 'none') {{\n",
              "            console.log([gd, 'removed!']);\n",
              "            Plotly.purge(gd);\n",
              "            observer.disconnect();\n",
              "        }}\n",
              "}});\n",
              "\n",
              "// Listen for the removal of the full notebook cells\n",
              "var notebookContainer = gd.closest('#notebook-container');\n",
              "if (notebookContainer) {{\n",
              "    x.observe(notebookContainer, {childList: true});\n",
              "}}\n",
              "\n",
              "// Listen for the clearing of the current output cell\n",
              "var outputEl = gd.closest('.output');\n",
              "if (outputEl) {{\n",
              "    x.observe(outputEl, {childList: true});\n",
              "}}\n",
              "\n",
              "                        })\n",
              "                };\n",
              "                \n",
              "            </script>\n",
              "        </div>\n",
              "</body>\n",
              "</html>"
            ]
          },
          "metadata": {}
        },
        {
          "output_type": "stream",
          "name": "stderr",
          "text": [
            "WARNING:absl:Found untraced functions such as lstm_cell_layer_call_fn, lstm_cell_layer_call_and_return_conditional_losses, lstm_cell_1_layer_call_fn, lstm_cell_1_layer_call_and_return_conditional_losses, lstm_cell_2_layer_call_fn while saving (showing 5 of 15). These functions will not be directly callable after loading.\n"
          ]
        },
        {
          "output_type": "stream",
          "name": "stdout",
          "text": [
            "INFO:tensorflow:Assets written to: /content/drive/MyDrive/Colab Notebooks/models/model_BLX.TO_log_features_optimized/assets\n"
          ]
        },
        {
          "output_type": "stream",
          "name": "stderr",
          "text": [
            "INFO:tensorflow:Assets written to: /content/drive/MyDrive/Colab Notebooks/models/model_BLX.TO_log_features_optimized/assets\n"
          ]
        }
      ]
    }
  ]
}