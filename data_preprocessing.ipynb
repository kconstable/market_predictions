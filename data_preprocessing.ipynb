{
  "nbformat": 4,
  "nbformat_minor": 0,
  "metadata": {
    "colab": {
      "name": "data_preprocessing.ipynb",
      "provenance": [],
      "collapsed_sections": [],
      "toc_visible": true,
      "authorship_tag": "ABX9TyPHnreIgl5BP/QDEgRapRKD",
      "include_colab_link": true
    },
    "kernelspec": {
      "name": "python3",
      "display_name": "Python 3"
    },
    "language_info": {
      "name": "python"
    }
  },
  "cells": [
    {
      "cell_type": "markdown",
      "metadata": {
        "id": "view-in-github",
        "colab_type": "text"
      },
      "source": [
        "<a href=\"https://colab.research.google.com/github/kconstable/market_predictions/blob/main/data_preprocessing.ipynb\" target=\"_parent\"><img src=\"https://colab.research.google.com/assets/colab-badge.svg\" alt=\"Open In Colab\"/></a>"
      ]
    },
    {
      "cell_type": "markdown",
      "metadata": {
        "id": "sahnivo9hvrY"
      },
      "source": [
        "# Data Preprocessing for Deep Learning\n",
        "## Import Libraries"
      ]
    },
    {
      "cell_type": "code",
      "metadata": {
        "colab": {
          "base_uri": "https://localhost:8080/"
        },
        "id": "qAEgND5ohu_y",
        "outputId": "0696fb44-4f7e-4e4c-b79f-e19e826b8c72"
      },
      "source": [
        "import pandas as pd\n",
        "import numpy as np\n",
        "import math\n",
        "from sklearn.preprocessing import MinMaxScaler\n",
        "from google.colab import files\n",
        "from google.colab import drive\n",
        "drive.mount('/content/drive')\n",
        "\n",
        "import matplotlib.pyplot as plt \n",
        "import seaborn as sns"
      ],
      "execution_count": 64,
      "outputs": [
        {
          "output_type": "stream",
          "name": "stdout",
          "text": [
            "Drive already mounted at /content/drive; to attempt to forcibly remount, call drive.mount(\"/content/drive\", force_remount=True).\n"
          ]
        }
      ]
    },
    {
      "cell_type": "markdown",
      "metadata": {
        "id": "1h15JNv-iamW"
      },
      "source": [
        "## Load Data"
      ]
    },
    {
      "cell_type": "code",
      "metadata": {
        "id": "YVFeOvp6icWo"
      },
      "source": [
        "df = pd.read_pickle('/content/drive/MyDrive/Colab Notebooks/data/market_data_full.pickle')"
      ],
      "execution_count": 50,
      "outputs": []
    },
    {
      "cell_type": "code",
      "metadata": {
        "colab": {
          "base_uri": "https://localhost:8080/"
        },
        "id": "fWaAdRxXipxQ",
        "outputId": "05868ff7-5ef1-45d3-f240-679b8dd5e0aa"
      },
      "source": [
        "def scale_data(df,y='close',features=[]):\n",
        "  \"\"\"\n",
        "  \"\"\"\n",
        "\n",
        "  # reverse the index such that dates are in chronological order\n",
        "  df = df.iloc[::-1]\n",
        "\n",
        "  # Subset features, get the y values\n",
        "  df_y = df[y]\n",
        "  df_X = df[features]\n",
        "\n",
        "  # save the date index, then replace the date index with an integer index\n",
        "  idx_date = df_X.index\n",
        "  df_X.reset_index(drop=True,inplace=True)\n",
        "\n",
        "  # convert to numpay arrays\n",
        "  array_X = np.array(df_X)\n",
        "  array_y = np.array(df_y).reshape(-1,1)\n",
        "\n",
        "  # scale the input and outputs\n",
        "  scaler = MinMaxScaler()\n",
        "  scaled_X = scaler.fit_transform(array_X)\n",
        "  scaled_y = scaler.fit_transform(array_y)\n",
        "\n",
        "  # print the output\n",
        "  print(\"Data Scaling\")\n",
        "  print(\"--\"*50)\n",
        "  print(f\"=> {len(features)} Features\")\n",
        "  print(\"=>\",features)\n",
        "  print(f\"=> Input Dimensions:{scaled_X.shape}\")\n",
        "  print(f\"=> Output Dimensions:{scaled_y.shape}\")\n",
        "\n",
        "  return scaled_y, scaled_X, idx_date\n",
        "\n",
        "scaled_y,scaled_X, idx_date = scale_data(df,'close',['open','high','volume','low','BAR','OILK','VXZ','b-lower','b-upper','rsi','macd_signal'])\n"
      ],
      "execution_count": 51,
      "outputs": [
        {
          "output_type": "stream",
          "name": "stdout",
          "text": [
            "Data Scaling\n",
            "----------------------------------------------------------------------------------------------------\n",
            "=> 11 Features\n",
            "=> ['open', 'high', 'volume', 'low', 'BAR', 'OILK', 'VXZ', 'b-lower', 'b-upper', 'rsi', 'macd_signal']\n",
            "=> Input Dimensions:(5494, 11)\n",
            "=> Output Dimensions:(5494, 1)\n"
          ]
        }
      ]
    },
    {
      "cell_type": "code",
      "metadata": {
        "colab": {
          "base_uri": "https://localhost:8080/"
        },
        "id": "GSWNcMJGkPke",
        "outputId": "4bd19473-cfec-47f1-805b-68c1fcbcba14"
      },
      "source": [
        "# The number of time steps included in each training batch\n",
        "# The number of time steps into the future the model will predict\n",
        "batch_input_ts_steps = 50\n",
        "batch_output_ts_steps = 10\n",
        "train_pct = 0.8\n",
        "\n",
        "idx_close = df.columns.get_loc(\"close\")\n",
        "\n",
        "# split into train, test\n",
        "train_num = math.ceil(scaled_X.shape[0]*train_pct)\n",
        "\n",
        "train = scaled_X[0:train_num,:]\n",
        "test = scaled_X[train_num - batch_input_ts_steps:,:]\n",
        "test.shape\n",
        "\n",
        "# LSTM input format: [samples, time steps, features]\n",
        "# https://www.relataly.com/time-series-forecasting-multi-step-regression-using-neural-networks-with-multiple-outputs-in-python/5800/\n",
        "def partition_dataset(input_sequence_length, output_sequence_length, data):\n",
        "    x, y = [], []\n",
        "    data_len = data.shape[0]\n",
        "    for i in range(input_sequence_length, data_len - output_sequence_length):\n",
        "        x.append(data[i-input_sequence_length:i,:]) #contains input_sequence_length values 0-input_sequence_length * columns\n",
        "        y.append(data[i:i + output_sequence_length, idx_close]) #contains the prediction values for validation (3rd column = Close),  for single-step prediction\n",
        "    \n",
        "    # Convert the x and y to numpy arrays\n",
        "    x = np.array(x)\n",
        "    y = np.array(y)\n",
        "    return x, y\n",
        "\n",
        "# Generate training data and test data\n",
        "x_train, y_train = partition_dataset(batch_input_ts_steps, batch_output_ts_steps, train)\n",
        "x_test, y_test = partition_dataset(batch_input_ts_steps, batch_output_ts_steps, test)\n",
        "\n",
        "print(x_train.shape,y_train.shape)\n",
        "print(x_test.shape,y_test.shape)\n"
      ],
      "execution_count": 58,
      "outputs": [
        {
          "output_type": "stream",
          "name": "stdout",
          "text": [
            "(4336, 50, 11) (4336, 10)\n",
            "(1088, 50, 11) (1088, 10)\n"
          ]
        }
      ]
    },
    {
      "cell_type": "code",
      "metadata": {
        "colab": {
          "base_uri": "https://localhost:8080/",
          "height": 419
        },
        "id": "UCP2Bgqk3fCH",
        "outputId": "cffabf07-72ba-4f13-e62e-9b94fa1d4c06"
      },
      "source": [
        "pd.DataFrame(y_train)"
      ],
      "execution_count": 72,
      "outputs": [
        {
          "output_type": "execute_result",
          "data": {
            "text/html": [
              "<div>\n",
              "<style scoped>\n",
              "    .dataframe tbody tr th:only-of-type {\n",
              "        vertical-align: middle;\n",
              "    }\n",
              "\n",
              "    .dataframe tbody tr th {\n",
              "        vertical-align: top;\n",
              "    }\n",
              "\n",
              "    .dataframe thead th {\n",
              "        text-align: right;\n",
              "    }\n",
              "</style>\n",
              "<table border=\"1\" class=\"dataframe\">\n",
              "  <thead>\n",
              "    <tr style=\"text-align: right;\">\n",
              "      <th></th>\n",
              "      <th>0</th>\n",
              "      <th>1</th>\n",
              "      <th>2</th>\n",
              "      <th>3</th>\n",
              "      <th>4</th>\n",
              "      <th>5</th>\n",
              "      <th>6</th>\n",
              "      <th>7</th>\n",
              "      <th>8</th>\n",
              "      <th>9</th>\n",
              "    </tr>\n",
              "  </thead>\n",
              "  <tbody>\n",
              "    <tr>\n",
              "      <th>0</th>\n",
              "      <td>0.649718</td>\n",
              "      <td>0.649718</td>\n",
              "      <td>0.653390</td>\n",
              "      <td>0.665537</td>\n",
              "      <td>0.655085</td>\n",
              "      <td>0.653390</td>\n",
              "      <td>0.651412</td>\n",
              "      <td>0.646328</td>\n",
              "      <td>0.649718</td>\n",
              "      <td>0.639266</td>\n",
              "    </tr>\n",
              "    <tr>\n",
              "      <th>1</th>\n",
              "      <td>0.649718</td>\n",
              "      <td>0.653390</td>\n",
              "      <td>0.665537</td>\n",
              "      <td>0.655085</td>\n",
              "      <td>0.653390</td>\n",
              "      <td>0.651412</td>\n",
              "      <td>0.646328</td>\n",
              "      <td>0.649718</td>\n",
              "      <td>0.639266</td>\n",
              "      <td>0.618079</td>\n",
              "    </tr>\n",
              "    <tr>\n",
              "      <th>2</th>\n",
              "      <td>0.653390</td>\n",
              "      <td>0.665537</td>\n",
              "      <td>0.655085</td>\n",
              "      <td>0.653390</td>\n",
              "      <td>0.651412</td>\n",
              "      <td>0.646328</td>\n",
              "      <td>0.649718</td>\n",
              "      <td>0.639266</td>\n",
              "      <td>0.618079</td>\n",
              "      <td>0.614407</td>\n",
              "    </tr>\n",
              "    <tr>\n",
              "      <th>3</th>\n",
              "      <td>0.665537</td>\n",
              "      <td>0.655085</td>\n",
              "      <td>0.653390</td>\n",
              "      <td>0.651412</td>\n",
              "      <td>0.646328</td>\n",
              "      <td>0.649718</td>\n",
              "      <td>0.639266</td>\n",
              "      <td>0.618079</td>\n",
              "      <td>0.614407</td>\n",
              "      <td>0.614407</td>\n",
              "    </tr>\n",
              "    <tr>\n",
              "      <th>4</th>\n",
              "      <td>0.655085</td>\n",
              "      <td>0.653390</td>\n",
              "      <td>0.651412</td>\n",
              "      <td>0.646328</td>\n",
              "      <td>0.649718</td>\n",
              "      <td>0.639266</td>\n",
              "      <td>0.618079</td>\n",
              "      <td>0.614407</td>\n",
              "      <td>0.614407</td>\n",
              "      <td>0.621469</td>\n",
              "    </tr>\n",
              "    <tr>\n",
              "      <th>...</th>\n",
              "      <td>...</td>\n",
              "      <td>...</td>\n",
              "      <td>...</td>\n",
              "      <td>...</td>\n",
              "      <td>...</td>\n",
              "      <td>...</td>\n",
              "      <td>...</td>\n",
              "      <td>...</td>\n",
              "      <td>...</td>\n",
              "      <td>...</td>\n",
              "    </tr>\n",
              "    <tr>\n",
              "      <th>4331</th>\n",
              "      <td>0.723164</td>\n",
              "      <td>0.724294</td>\n",
              "      <td>0.730226</td>\n",
              "      <td>0.725989</td>\n",
              "      <td>0.726554</td>\n",
              "      <td>0.726836</td>\n",
              "      <td>0.727684</td>\n",
              "      <td>0.731638</td>\n",
              "      <td>0.733054</td>\n",
              "      <td>0.720621</td>\n",
              "    </tr>\n",
              "    <tr>\n",
              "      <th>4332</th>\n",
              "      <td>0.724294</td>\n",
              "      <td>0.730226</td>\n",
              "      <td>0.725989</td>\n",
              "      <td>0.726554</td>\n",
              "      <td>0.726836</td>\n",
              "      <td>0.727684</td>\n",
              "      <td>0.731638</td>\n",
              "      <td>0.733054</td>\n",
              "      <td>0.720621</td>\n",
              "      <td>0.721186</td>\n",
              "    </tr>\n",
              "    <tr>\n",
              "      <th>4333</th>\n",
              "      <td>0.730226</td>\n",
              "      <td>0.725989</td>\n",
              "      <td>0.726554</td>\n",
              "      <td>0.726836</td>\n",
              "      <td>0.727684</td>\n",
              "      <td>0.731638</td>\n",
              "      <td>0.733054</td>\n",
              "      <td>0.720621</td>\n",
              "      <td>0.721186</td>\n",
              "      <td>0.721469</td>\n",
              "    </tr>\n",
              "    <tr>\n",
              "      <th>4334</th>\n",
              "      <td>0.725989</td>\n",
              "      <td>0.726554</td>\n",
              "      <td>0.726836</td>\n",
              "      <td>0.727684</td>\n",
              "      <td>0.731638</td>\n",
              "      <td>0.733054</td>\n",
              "      <td>0.720621</td>\n",
              "      <td>0.721186</td>\n",
              "      <td>0.721469</td>\n",
              "      <td>0.727401</td>\n",
              "    </tr>\n",
              "    <tr>\n",
              "      <th>4335</th>\n",
              "      <td>0.726554</td>\n",
              "      <td>0.726836</td>\n",
              "      <td>0.727684</td>\n",
              "      <td>0.731638</td>\n",
              "      <td>0.733054</td>\n",
              "      <td>0.720621</td>\n",
              "      <td>0.721186</td>\n",
              "      <td>0.721469</td>\n",
              "      <td>0.727401</td>\n",
              "      <td>0.732206</td>\n",
              "    </tr>\n",
              "  </tbody>\n",
              "</table>\n",
              "<p>4336 rows × 10 columns</p>\n",
              "</div>"
            ],
            "text/plain": [
              "             0         1         2  ...         7         8         9\n",
              "0     0.649718  0.649718  0.653390  ...  0.646328  0.649718  0.639266\n",
              "1     0.649718  0.653390  0.665537  ...  0.649718  0.639266  0.618079\n",
              "2     0.653390  0.665537  0.655085  ...  0.639266  0.618079  0.614407\n",
              "3     0.665537  0.655085  0.653390  ...  0.618079  0.614407  0.614407\n",
              "4     0.655085  0.653390  0.651412  ...  0.614407  0.614407  0.621469\n",
              "...        ...       ...       ...  ...       ...       ...       ...\n",
              "4331  0.723164  0.724294  0.730226  ...  0.731638  0.733054  0.720621\n",
              "4332  0.724294  0.730226  0.725989  ...  0.733054  0.720621  0.721186\n",
              "4333  0.730226  0.725989  0.726554  ...  0.720621  0.721186  0.721469\n",
              "4334  0.725989  0.726554  0.726836  ...  0.721186  0.721469  0.727401\n",
              "4335  0.726554  0.726836  0.727684  ...  0.721469  0.727401  0.732206\n",
              "\n",
              "[4336 rows x 10 columns]"
            ]
          },
          "metadata": {},
          "execution_count": 72
        }
      ]
    },
    {
      "cell_type": "code",
      "metadata": {
        "colab": {
          "base_uri": "https://localhost:8080/",
          "height": 445
        },
        "id": "yjcRsIZkw4Nh",
        "outputId": "e0cc5f3f-824f-4fc1-e0c0-2fdb9b7c6d35"
      },
      "source": [
        "nrows = 3 # number of shifted plots\n",
        "fig, ax = plt.subplots(nrows=nrows, ncols=1, figsize=(14, 7))\n",
        "for i in range(nrows):\n",
        "    sns.lineplot(y = pd.DataFrame(x_train[i])[idx_close], x = range(batch_input_ts_steps), ax = ax[i])\n",
        "    sns.lineplot(y = y_train[i], x = range(batch_input_ts_steps -1, batch_input_ts_steps + batch_output_ts_steps - 1), ax = ax[i])\n",
        "plt.show"
      ],
      "execution_count": 67,
      "outputs": [
        {
          "output_type": "execute_result",
          "data": {
            "text/plain": [
              "<function matplotlib.pyplot.show>"
            ]
          },
          "metadata": {},
          "execution_count": 67
        },
        {
          "output_type": "display_data",
          "data": {
            "image/png": "[encoded data removed]",
            "text/plain": [
              "<Figure size 1008x504 with 3 Axes>"
            ]
          },
          "metadata": {
            "needs_background": "light"
          }
        }
      ]
    }
  ]
}