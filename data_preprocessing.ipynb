{
  "nbformat": 4,
  "nbformat_minor": 0,
  "metadata": {
    "colab": {
      "name": "data_preprocessing.ipynb",
      "provenance": [],
      "collapsed_sections": [],
      "toc_visible": true,
      "authorship_tag": "ABX9TyNwVUBULp2cMP3y6kveSS0S",
      "include_colab_link": true
    },
    "kernelspec": {
      "name": "python3",
      "display_name": "Python 3"
    },
    "language_info": {
      "name": "python"
    }
  },
  "cells": [
    {
      "cell_type": "markdown",
      "metadata": {
        "id": "view-in-github",
        "colab_type": "text"
      },
      "source": [
        "<a href=\"https://colab.research.google.com/github/kconstable/market_predictions/blob/main/data_preprocessing.ipynb\" target=\"_parent\"><img src=\"https://colab.research.google.com/assets/colab-badge.svg\" alt=\"Open In Colab\"/></a>"
      ]
    },
    {
      "cell_type": "markdown",
      "metadata": {
        "id": "sahnivo9hvrY"
      },
      "source": [
        "# Data Preprocessing for Deep Learning\n",
        "## Import Libraries"
      ]
    },
    {
      "cell_type": "code",
      "metadata": {
        "colab": {
          "base_uri": "https://localhost:8080/"
        },
        "id": "qAEgND5ohu_y",
        "outputId": "eeed60bd-47b4-4099-f475-b227a725920c"
      },
      "source": [
        "import pandas as pd\n",
        "import numpy as np\n",
        "import math\n",
        "from sklearn.preprocessing import MinMaxScaler\n",
        "from google.colab import files\n",
        "from google.colab import drive\n",
        "drive.mount('/content/drive')\n",
        "\n",
        "\n",
        "import plotly.graph_objects as go"
      ],
      "execution_count": 285,
      "outputs": [
        {
          "output_type": "stream",
          "name": "stdout",
          "text": [
            "Drive already mounted at /content/drive; to attempt to forcibly remount, call drive.mount(\"/content/drive\", force_remount=True).\n"
          ]
        }
      ]
    },
    {
      "cell_type": "markdown",
      "metadata": {
        "id": "1h15JNv-iamW"
      },
      "source": [
        "## Load Data"
      ]
    },
    {
      "cell_type": "code",
      "metadata": {
        "id": "YVFeOvp6icWo"
      },
      "source": [
        "# df = pd.read_pickle('/content/drive/MyDrive/Colab Notebooks/data/market_data_full.pickle')\n",
        "df = pd.read_pickle('/content/drive/MyDrive/Colab Notebooks/data/market_data_compact.pickle')"
      ],
      "execution_count": 287,
      "outputs": []
    },
    {
      "cell_type": "code",
      "metadata": {
        "id": "fWaAdRxXipxQ"
      },
      "source": [
        "def scale_data(df,y='close',features=[]):\n",
        "  \"\"\"\n",
        "  \"\"\"\n",
        "\n",
        "  # reverse the index such that dates are in chronological order\n",
        "  df = df.iloc[::-1]\n",
        "\n",
        "  # Subset features, get the y values\n",
        "  df_y = df[y]\n",
        "  df_X = df[features]\n",
        "\n",
        "  # save the date index, then replace the date index with an integer index\n",
        "  idx_date = df_X.index\n",
        "  df_X.reset_index(drop=True,inplace=True)\n",
        "\n",
        "  # convert to numpay arrays\n",
        "  array_X = np.array(df_X)\n",
        "  array_y = np.array(df_y).reshape(-1,1)\n",
        "\n",
        "  # scale the input and outputs\n",
        "  scaler = MinMaxScaler()\n",
        "  scaled_X = scaler.fit_transform(array_X)\n",
        "  scaled_y = scaler.fit_transform(array_y)\n",
        "\n",
        "  # print the output\n",
        "  print(\"Data Scaling\")\n",
        "  print(\"--\"*50)\n",
        "  print(f\"=> {len(features)} Features\")\n",
        "  print(\"=>\",features)\n",
        "  print(f\"=> Input Dimensions:{scaled_X.shape}\")\n",
        "  print(f\"=> Output Dimensions:{scaled_y.shape}\")\n",
        "  print(\"\\n\")\n",
        "\n",
        "  return scaled_y, scaled_X, idx_date"
      ],
      "execution_count": 273,
      "outputs": []
    },
    {
      "cell_type": "code",
      "metadata": {
        "id": "Org74SkESW4u"
      },
      "source": [
        "def create_partitions(data,idx_close,n_steps,n_predict,visualize=False):\n",
        "  \"\"\"\n",
        "  This function partitions the train/test data into batches for training\n",
        "  Each batch consists of n_steps of training data, and n_predict steps of label data\n",
        "  The function outputs an x array [samples, time steps, features] and a y array [samples, time steps]\n",
        "\n",
        "  Inputs:\n",
        "    data     : train or test array\n",
        "    idx_close: the position of y value in the data\n",
        "    n_steps  : the number of time steps in each training batch\n",
        "    n_predict: the number of time steps that will be predicted\n",
        "    visualize: boolean, will plot a visual of training/prediction windows\n",
        "\n",
        "  Reference:\n",
        "    https://www.relataly.com/time-series-forecasting-multi-step-regression-using-neural-networks-with-multiple-outputs-in-python/5800/\n",
        "  \"\"\"\n",
        "  n = data.shape[0]\n",
        "  window = n_steps + n_predict\n",
        "  i, p = [],[]\n",
        "\n",
        "  # print the moving window\n",
        "  if visualize:\n",
        "    print(\"Data Window: I(Input), P(Predict),-(scanned), +(to be scanned)\")\n",
        "    print(\"=\"*n)\n",
        "\n",
        "  # create the partitions\n",
        "  for s in range(n_steps, n-n_predict):\n",
        "    # get the input window + all features\n",
        "\n",
        "    # print(s-n_steps,s+n_predict)\n",
        "    i.append(data[s-n_steps:s,:])\n",
        "\n",
        "    # get the prediction window + the closing price\n",
        "    # print(\"X:\",s-n_steps,s+n_predict,'\\ty:',s,s+n_predict)\n",
        "    p.append(data[s:s+n_predict,idx_close])\n",
        "\n",
        "    # print the moving window\n",
        "    if visualize and s <= 50:\n",
        "      scanned = n-((s-n_steps)+window)\n",
        "      print(\"-\"*(s-n_steps),'I'*n_steps,'P'*n_predict,\"+\"*scanned,sep=\"\")\n",
        "    \n",
        "  return np.array(i),np.array(p)"
      ],
      "execution_count": 290,
      "outputs": []
    },
    {
      "cell_type": "code",
      "metadata": {
        "id": "wjSwwN3h-vEG"
      },
      "source": [
        "def plot_training_window(x_train,y_train,idx_close,n_steps,n_predict,batch):\n",
        "  \"\"\"\n",
        "  \"\"\"\n",
        "  # convert the arrays to dataframes\n",
        "  # need to align the x indexes to compare\n",
        "  df_y = pd.DataFrame(y_train[batch],index=range(n_steps-1,n_predict+n_steps-1),columns=['y'])\n",
        "  df_x = pd.DataFrame(x_train[batch+1])[idx_close]\n",
        "  df_x = pd.DataFrame(df_x)\n",
        "  df_x.columns = ['x']\n",
        "\n",
        "  # create the plots\n",
        "  fig = go.Figure()\n",
        "  fig.add_trace(go.Scatter(x=df_x.index,y=df_x['x'],name='train window'))\n",
        "  fig.add_trace(go.Scatter(x=df_y.index,y=df_y['y'],name='predict window'))\n",
        "  fig.update_layout(template='plotly_white',title='Train/Predict Windows')\n",
        "  fig.show()\n"
      ],
      "execution_count": 275,
      "outputs": []
    },
    {
      "cell_type": "code",
      "metadata": {
        "colab": {
          "base_uri": "https://localhost:8080/",
          "height": 814
        },
        "id": "GSWNcMJGkPke",
        "outputId": "416f93e6-aed0-4531-ad27-a8fe6e78dd16"
      },
      "source": [
        "# Training Config\n",
        "features = ['open','high','low','close','volume','BAR','OILK','VXZ','b-lower','b-upper','rsi','macd_signal']\n",
        "n_steps = 40    # The number of time steps included in each training batch\n",
        "n_predict = 10   # The number of time steps into the future the model will predict\n",
        "\n",
        "# Scale the data and convert to numpy arrays\n",
        "scaled_y,scaled_X, idx_date = scale_data(df,'close',features)\n",
        "\n",
        "\n",
        "# Index of the y variable (closing price)\n",
        "idx_close = df.columns.get_loc(\"close\")\n",
        "\n",
        "# split into train, test\n",
        "train_pct = 0.8\n",
        "train_num = math.ceil(scaled_X.shape[0]*train_pct)\n",
        "train = scaled_X[0:train_num,:]\n",
        "test = scaled_X[train_num - n_steps:,:]\n",
        "\n",
        "\n",
        "# Generate training data and test data\n",
        "# LSTM input format: [samples, time steps, features]\n",
        "x_train, y_train = create_partitions(train,idx_close,n_steps, n_predict)\n",
        "x_test,  y_test  = create_partitions(test,idx_close,n_steps, n_predict)\n",
        "\n",
        "\n",
        "# Print the results\n",
        "print('Train/Test Dimensions')\n",
        "print(x_train.shape,y_train.shape)\n",
        "print(x_test.shape,y_test.shape)\n",
        "\n",
        "print('\\nThe last value in the training batch should match the first value in the predict batch')\n",
        "print(x_train[1][n_steps-1][idx_close])\n",
        "print(y_train[0])\n",
        "\n",
        "\n",
        "# Make sure the train/predict batch windows are aligned\n",
        "plot_training_window(x_train,y_train,idx_close,n_steps,n_predict,0)"
      ],
      "execution_count": 277,
      "outputs": [
        {
          "output_type": "stream",
          "name": "stdout",
          "text": [
            "Data Scaling\n",
            "----------------------------------------------------------------------------------------------------\n",
            "=> 12 Features\n",
            "=> ['open', 'high', 'low', 'close', 'volume', 'BAR', 'OILK', 'VXZ', 'b-lower', 'b-upper', 'rsi', 'macd_signal']\n",
            "=> Input Dimensions:(5494, 12)\n",
            "=> Output Dimensions:(5494, 1)\n",
            "\n",
            "\n",
            "Train/Test Dimensions\n",
            "(4346, 40, 12) (4346, 10)\n",
            "(1088, 40, 12) (1088, 10)\n",
            "\n",
            "The last value in the training batch should match the first value in the predict batch\n",
            "0.5647158131682611\n",
            "[0.56471581 0.61029826 0.60692178 0.59454136 0.57512662 0.55936972\n",
            " 0.56978053 0.5858188  0.62605515 0.64546989]\n"
          ]
        },
        {
          "output_type": "display_data",
          "data": {
            "text/html": [
              "<html>\n",
              "<head><meta charset=\"utf-8\" /></head>\n",
              "<body>\n",
              "    <div>\n",
              "            <script src=\"https://cdnjs.cloudflare.com/ajax/libs/mathjax/2.7.5/MathJax.js?config=TeX-AMS-MML_SVG\"></script><script type=\"text/javascript\">if (window.MathJax) {MathJax.Hub.Config({SVG: {font: \"STIX-Web\"}});}</script>\n",
              "                <script type=\"text/javascript\">window.PlotlyConfig = {MathJaxConfig: 'local'};</script>\n",
              "        <script src=\"https://cdn.plot.ly/plotly-latest.min.js\"></script>    \n",
              "            <div id=\"8268661f-9793-4780-841a-b92d3ddb6fb9\" class=\"plotly-graph-div\" style=\"height:525px; width:100%;\"></div>\n",
              "            <script type=\"text/javascript\">\n",
              "                \n",
              "                    window.PLOTLYENV=window.PLOTLYENV || {};\n",
              "                    \n",
              "                if (document.getElementById(\"8268661f-9793-4780-841a-b92d3ddb6fb9\")) {\n",
              "                    Plotly.newPlot(\n",
              "                        '8268661f-9793-4780-841a-b92d3ddb6fb9',\n",
              "                        [{\"name\": \"train window\", \"type\": \"scatter\", \"x\": [0, 1, 2, 3, 4, 5, 6, 7, 8, 9, 10, 11, 12, 13, 14, 15, 16, 17, 18, 19, 20, 21, 22, 23, 24, 25, 26, 27, 28, 29, 30, 31, 32, 33, 34, 35, 36, 37, 38, 39], \"y\": [0.6086100168823861, 0.5891952729319078, 0.56809229037704, 0.56809229037704, 0.5664040517726506, 0.5891952729319078, 0.6032639279684863, 0.6069217782779966, 0.6139561057962859, 0.6139561057962859, 0.6401238041643219, 0.652504220596511, 0.6595385481148003, 0.652504220596511, 0.6384355655599325, 0.6297129994372539, 0.6314012380416433, 0.6280247608328644, 0.6209904333145752, 0.6173325830050648, 0.6209904333145752, 0.6226786719189646, 0.6209904333145752, 0.6102982554867755, 0.5908835115362971, 0.6032639279684863, 0.6049521665728756, 0.5858187957231289, 0.5804727068092291, 0.5821609454136185, 0.5804727068092291, 0.5647158131682611, 0.5610579628587508, 0.5469893078221723, 0.5627462014631401, 0.5610579628587508, 0.5593697242543614, 0.5523353967360721, 0.5540236353404615, 0.5647158131682611]}, {\"name\": \"predict window\", \"type\": \"scatter\", \"x\": [39, 40, 41, 42, 43, 44, 45, 46, 47, 48], \"y\": [0.5647158131682611, 0.6102982554867755, 0.6069217782779966, 0.5945413618458076, 0.5751266178953293, 0.5593697242543614, 0.5697805289814294, 0.5858187957231289, 0.6260551491277434, 0.6454698930782218]}],\n",
              "                        {\"template\": {\"data\": {\"bar\": [{\"error_x\": {\"color\": \"#2a3f5f\"}, \"error_y\": {\"color\": \"#2a3f5f\"}, \"marker\": {\"line\": {\"color\": \"white\", \"width\": 0.5}}, \"type\": \"bar\"}], \"barpolar\": [{\"marker\": {\"line\": {\"color\": \"white\", \"width\": 0.5}}, \"type\": \"barpolar\"}], \"carpet\": [{\"aaxis\": {\"endlinecolor\": \"#2a3f5f\", \"gridcolor\": \"#C8D4E3\", \"linecolor\": \"#C8D4E3\", \"minorgridcolor\": \"#C8D4E3\", \"startlinecolor\": \"#2a3f5f\"}, \"baxis\": {\"endlinecolor\": \"#2a3f5f\", \"gridcolor\": \"#C8D4E3\", \"linecolor\": \"#C8D4E3\", \"minorgridcolor\": \"#C8D4E3\", \"startlinecolor\": \"#2a3f5f\"}, \"type\": \"carpet\"}], \"choropleth\": [{\"colorbar\": {\"outlinewidth\": 0, \"ticks\": \"\"}, \"type\": \"choropleth\"}], \"contour\": [{\"colorbar\": {\"outlinewidth\": 0, \"ticks\": \"\"}, \"colorscale\": [[0.0, \"#0d0887\"], [0.1111111111111111, \"#46039f\"], [0.2222222222222222, \"#7201a8\"], [0.3333333333333333, \"#9c179e\"], [0.4444444444444444, \"#bd3786\"], [0.5555555555555556, \"#d8576b\"], [0.6666666666666666, \"#ed7953\"], [0.7777777777777778, \"#fb9f3a\"], [0.8888888888888888, \"#fdca26\"], [1.0, \"#f0f921\"]], \"type\": \"contour\"}], \"contourcarpet\": [{\"colorbar\": {\"outlinewidth\": 0, \"ticks\": \"\"}, \"type\": \"contourcarpet\"}], \"heatmap\": [{\"colorbar\": {\"outlinewidth\": 0, \"ticks\": \"\"}, \"colorscale\": [[0.0, \"#0d0887\"], [0.1111111111111111, \"#46039f\"], [0.2222222222222222, \"#7201a8\"], [0.3333333333333333, \"#9c179e\"], [0.4444444444444444, \"#bd3786\"], [0.5555555555555556, \"#d8576b\"], [0.6666666666666666, \"#ed7953\"], [0.7777777777777778, \"#fb9f3a\"], [0.8888888888888888, \"#fdca26\"], [1.0, \"#f0f921\"]], \"type\": \"heatmap\"}], \"heatmapgl\": [{\"colorbar\": {\"outlinewidth\": 0, \"ticks\": \"\"}, \"colorscale\": [[0.0, \"#0d0887\"], [0.1111111111111111, \"#46039f\"], [0.2222222222222222, \"#7201a8\"], [0.3333333333333333, \"#9c179e\"], [0.4444444444444444, \"#bd3786\"], [0.5555555555555556, \"#d8576b\"], [0.6666666666666666, \"#ed7953\"], [0.7777777777777778, \"#fb9f3a\"], [0.8888888888888888, \"#fdca26\"], [1.0, \"#f0f921\"]], \"type\": \"heatmapgl\"}], \"histogram\": [{\"marker\": {\"colorbar\": {\"outlinewidth\": 0, \"ticks\": \"\"}}, \"type\": \"histogram\"}], \"histogram2d\": [{\"colorbar\": {\"outlinewidth\": 0, \"ticks\": \"\"}, \"colorscale\": [[0.0, \"#0d0887\"], [0.1111111111111111, \"#46039f\"], [0.2222222222222222, \"#7201a8\"], [0.3333333333333333, \"#9c179e\"], [0.4444444444444444, \"#bd3786\"], [0.5555555555555556, \"#d8576b\"], [0.6666666666666666, \"#ed7953\"], [0.7777777777777778, \"#fb9f3a\"], [0.8888888888888888, \"#fdca26\"], [1.0, \"#f0f921\"]], \"type\": \"histogram2d\"}], \"histogram2dcontour\": [{\"colorbar\": {\"outlinewidth\": 0, \"ticks\": \"\"}, \"colorscale\": [[0.0, \"#0d0887\"], [0.1111111111111111, \"#46039f\"], [0.2222222222222222, \"#7201a8\"], [0.3333333333333333, \"#9c179e\"], [0.4444444444444444, \"#bd3786\"], [0.5555555555555556, \"#d8576b\"], [0.6666666666666666, \"#ed7953\"], [0.7777777777777778, \"#fb9f3a\"], [0.8888888888888888, \"#fdca26\"], [1.0, \"#f0f921\"]], \"type\": \"histogram2dcontour\"}], \"mesh3d\": [{\"colorbar\": {\"outlinewidth\": 0, \"ticks\": \"\"}, \"type\": \"mesh3d\"}], \"parcoords\": [{\"line\": {\"colorbar\": {\"outlinewidth\": 0, \"ticks\": \"\"}}, \"type\": \"parcoords\"}], \"pie\": [{\"automargin\": true, \"type\": \"pie\"}], \"scatter\": [{\"marker\": {\"colorbar\": {\"outlinewidth\": 0, \"ticks\": \"\"}}, \"type\": \"scatter\"}], \"scatter3d\": [{\"line\": {\"colorbar\": {\"outlinewidth\": 0, \"ticks\": \"\"}}, \"marker\": {\"colorbar\": {\"outlinewidth\": 0, \"ticks\": \"\"}}, \"type\": \"scatter3d\"}], \"scattercarpet\": [{\"marker\": {\"colorbar\": {\"outlinewidth\": 0, \"ticks\": \"\"}}, \"type\": \"scattercarpet\"}], \"scattergeo\": [{\"marker\": {\"colorbar\": {\"outlinewidth\": 0, \"ticks\": \"\"}}, \"type\": \"scattergeo\"}], \"scattergl\": [{\"marker\": {\"colorbar\": {\"outlinewidth\": 0, \"ticks\": \"\"}}, \"type\": \"scattergl\"}], \"scattermapbox\": [{\"marker\": {\"colorbar\": {\"outlinewidth\": 0, \"ticks\": \"\"}}, \"type\": \"scattermapbox\"}], \"scatterpolar\": [{\"marker\": {\"colorbar\": {\"outlinewidth\": 0, \"ticks\": \"\"}}, \"type\": \"scatterpolar\"}], \"scatterpolargl\": [{\"marker\": {\"colorbar\": {\"outlinewidth\": 0, \"ticks\": \"\"}}, \"type\": \"scatterpolargl\"}], \"scatterternary\": [{\"marker\": {\"colorbar\": {\"outlinewidth\": 0, \"ticks\": \"\"}}, \"type\": \"scatterternary\"}], \"surface\": [{\"colorbar\": {\"outlinewidth\": 0, \"ticks\": \"\"}, \"colorscale\": [[0.0, \"#0d0887\"], [0.1111111111111111, \"#46039f\"], [0.2222222222222222, \"#7201a8\"], [0.3333333333333333, \"#9c179e\"], [0.4444444444444444, \"#bd3786\"], [0.5555555555555556, \"#d8576b\"], [0.6666666666666666, \"#ed7953\"], [0.7777777777777778, \"#fb9f3a\"], [0.8888888888888888, \"#fdca26\"], [1.0, \"#f0f921\"]], \"type\": \"surface\"}], \"table\": [{\"cells\": {\"fill\": {\"color\": \"#EBF0F8\"}, \"line\": {\"color\": \"white\"}}, \"header\": {\"fill\": {\"color\": \"#C8D4E3\"}, \"line\": {\"color\": \"white\"}}, \"type\": \"table\"}]}, \"layout\": {\"annotationdefaults\": {\"arrowcolor\": \"#2a3f5f\", \"arrowhead\": 0, \"arrowwidth\": 1}, \"coloraxis\": {\"colorbar\": {\"outlinewidth\": 0, \"ticks\": \"\"}}, \"colorscale\": {\"diverging\": [[0, \"#8e0152\"], [0.1, \"#c51b7d\"], [0.2, \"#de77ae\"], [0.3, \"#f1b6da\"], [0.4, \"#fde0ef\"], [0.5, \"#f7f7f7\"], [0.6, \"#e6f5d0\"], [0.7, \"#b8e186\"], [0.8, \"#7fbc41\"], [0.9, \"#4d9221\"], [1, \"#276419\"]], \"sequential\": [[0.0, \"#0d0887\"], [0.1111111111111111, \"#46039f\"], [0.2222222222222222, \"#7201a8\"], [0.3333333333333333, \"#9c179e\"], [0.4444444444444444, \"#bd3786\"], [0.5555555555555556, \"#d8576b\"], [0.6666666666666666, \"#ed7953\"], [0.7777777777777778, \"#fb9f3a\"], [0.8888888888888888, \"#fdca26\"], [1.0, \"#f0f921\"]], \"sequentialminus\": [[0.0, \"#0d0887\"], [0.1111111111111111, \"#46039f\"], [0.2222222222222222, \"#7201a8\"], [0.3333333333333333, \"#9c179e\"], [0.4444444444444444, \"#bd3786\"], [0.5555555555555556, \"#d8576b\"], [0.6666666666666666, \"#ed7953\"], [0.7777777777777778, \"#fb9f3a\"], [0.8888888888888888, \"#fdca26\"], [1.0, \"#f0f921\"]]}, \"colorway\": [\"#636efa\", \"#EF553B\", \"#00cc96\", \"#ab63fa\", \"#FFA15A\", \"#19d3f3\", \"#FF6692\", \"#B6E880\", \"#FF97FF\", \"#FECB52\"], \"font\": {\"color\": \"#2a3f5f\"}, \"geo\": {\"bgcolor\": \"white\", \"lakecolor\": \"white\", \"landcolor\": \"white\", \"showlakes\": true, \"showland\": true, \"subunitcolor\": \"#C8D4E3\"}, \"hoverlabel\": {\"align\": \"left\"}, \"hovermode\": \"closest\", \"mapbox\": {\"style\": \"light\"}, \"paper_bgcolor\": \"white\", \"plot_bgcolor\": \"white\", \"polar\": {\"angularaxis\": {\"gridcolor\": \"#EBF0F8\", \"linecolor\": \"#EBF0F8\", \"ticks\": \"\"}, \"bgcolor\": \"white\", \"radialaxis\": {\"gridcolor\": \"#EBF0F8\", \"linecolor\": \"#EBF0F8\", \"ticks\": \"\"}}, \"scene\": {\"xaxis\": {\"backgroundcolor\": \"white\", \"gridcolor\": \"#DFE8F3\", \"gridwidth\": 2, \"linecolor\": \"#EBF0F8\", \"showbackground\": true, \"ticks\": \"\", \"zerolinecolor\": \"#EBF0F8\"}, \"yaxis\": {\"backgroundcolor\": \"white\", \"gridcolor\": \"#DFE8F3\", \"gridwidth\": 2, \"linecolor\": \"#EBF0F8\", \"showbackground\": true, \"ticks\": \"\", \"zerolinecolor\": \"#EBF0F8\"}, \"zaxis\": {\"backgroundcolor\": \"white\", \"gridcolor\": \"#DFE8F3\", \"gridwidth\": 2, \"linecolor\": \"#EBF0F8\", \"showbackground\": true, \"ticks\": \"\", \"zerolinecolor\": \"#EBF0F8\"}}, \"shapedefaults\": {\"line\": {\"color\": \"#2a3f5f\"}}, \"ternary\": {\"aaxis\": {\"gridcolor\": \"#DFE8F3\", \"linecolor\": \"#A2B1C6\", \"ticks\": \"\"}, \"baxis\": {\"gridcolor\": \"#DFE8F3\", \"linecolor\": \"#A2B1C6\", \"ticks\": \"\"}, \"bgcolor\": \"white\", \"caxis\": {\"gridcolor\": \"#DFE8F3\", \"linecolor\": \"#A2B1C6\", \"ticks\": \"\"}}, \"title\": {\"x\": 0.05}, \"xaxis\": {\"automargin\": true, \"gridcolor\": \"#EBF0F8\", \"linecolor\": \"#EBF0F8\", \"ticks\": \"\", \"title\": {\"standoff\": 15}, \"zerolinecolor\": \"#EBF0F8\", \"zerolinewidth\": 2}, \"yaxis\": {\"automargin\": true, \"gridcolor\": \"#EBF0F8\", \"linecolor\": \"#EBF0F8\", \"ticks\": \"\", \"title\": {\"standoff\": 15}, \"zerolinecolor\": \"#EBF0F8\", \"zerolinewidth\": 2}}}, \"title\": {\"text\": \"Train/Predict Windows\"}},\n",
              "                        {\"responsive\": true}\n",
              "                    ).then(function(){\n",
              "                            \n",
              "var gd = document.getElementById('8268661f-9793-4780-841a-b92d3ddb6fb9');\n",
              "var x = new MutationObserver(function (mutations, observer) {{\n",
              "        var display = window.getComputedStyle(gd).display;\n",
              "        if (!display || display === 'none') {{\n",
              "            console.log([gd, 'removed!']);\n",
              "            Plotly.purge(gd);\n",
              "            observer.disconnect();\n",
              "        }}\n",
              "}});\n",
              "\n",
              "// Listen for the removal of the full notebook cells\n",
              "var notebookContainer = gd.closest('#notebook-container');\n",
              "if (notebookContainer) {{\n",
              "    x.observe(notebookContainer, {childList: true});\n",
              "}}\n",
              "\n",
              "// Listen for the clearing of the current output cell\n",
              "var outputEl = gd.closest('.output');\n",
              "if (outputEl) {{\n",
              "    x.observe(outputEl, {childList: true});\n",
              "}}\n",
              "\n",
              "                        })\n",
              "                };\n",
              "                \n",
              "            </script>\n",
              "        </div>\n",
              "</body>\n",
              "</html>"
            ]
          },
          "metadata": {}
        }
      ]
    }
  ]
}