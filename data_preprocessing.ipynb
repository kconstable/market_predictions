{
  "nbformat": 4,
  "nbformat_minor": 0,
  "metadata": {
    "colab": {
      "name": "data_preprocessing.ipynb",
      "provenance": [],
      "collapsed_sections": [
        "TAnqKBgDbFt0"
      ],
      "toc_visible": true,
      "authorship_tag": "ABX9TyPsPkOgR+b9FK2QgwSWj5Qb",
      "include_colab_link": true
    },
    "kernelspec": {
      "name": "python3",
      "display_name": "Python 3"
    },
    "language_info": {
      "name": "python"
    }
  },
  "cells": [
    {
      "cell_type": "markdown",
      "metadata": {
        "id": "view-in-github",
        "colab_type": "text"
      },
      "source": [
        "<a href=\"https://colab.research.google.com/github/kconstable/market_predictions/blob/main/data_preprocessing.ipynb\" target=\"_parent\"><img src=\"https://colab.research.google.com/assets/colab-badge.svg\" alt=\"Open In Colab\"/></a>"
      ]
    },
    {
      "cell_type": "markdown",
      "metadata": {
        "id": "sahnivo9hvrY"
      },
      "source": [
        "# Data Preprocessing for Deep Learning\n"
      ]
    },
    {
      "cell_type": "markdown",
      "metadata": {
        "id": "07-vhmw4cmDI"
      },
      "source": [
        "## Import Libraries "
      ]
    },
    {
      "cell_type": "code",
      "metadata": {
        "colab": {
          "base_uri": "https://localhost:8080/"
        },
        "id": "tNFMcf2vhiWz",
        "outputId": "405e40fe-702a-4f70-efbd-8894a77e1132"
      },
      "source": [
        "!pip install -q -U keras-tuner"
      ],
      "execution_count": 82,
      "outputs": [
        {
          "output_type": "stream",
          "name": "stdout",
          "text": [
            "\u001b[?25l\r\u001b[K     |███▍                            | 10 kB 23.5 MB/s eta 0:00:01\r\u001b[K     |██████▊                         | 20 kB 26.4 MB/s eta 0:00:01\r\u001b[K     |██████████                      | 30 kB 29.9 MB/s eta 0:00:01\r\u001b[K     |█████████████▍                  | 40 kB 31.5 MB/s eta 0:00:01\r\u001b[K     |████████████████▊               | 51 kB 33.7 MB/s eta 0:00:01\r\u001b[K     |████████████████████            | 61 kB 36.4 MB/s eta 0:00:01\r\u001b[K     |███████████████████████▍        | 71 kB 37.6 MB/s eta 0:00:01\r\u001b[K     |██████████████████████████▊     | 81 kB 38.7 MB/s eta 0:00:01\r\u001b[K     |██████████████████████████████▏ | 92 kB 41.0 MB/s eta 0:00:01\r\u001b[K     |████████████████████████████████| 97 kB 6.5 MB/s \n",
            "\u001b[?25h"
          ]
        }
      ]
    },
    {
      "cell_type": "code",
      "metadata": {
        "colab": {
          "base_uri": "https://localhost:8080/"
        },
        "id": "qAEgND5ohu_y",
        "outputId": "0de4fec8-1404-484a-d338-d0f00cb01e97"
      },
      "source": [
        "# deep learning /RNN\n",
        "import tensorflow as tf\n",
        "from keras import backend as K\n",
        "from tensorflow import keras\n",
        "from keras.models import Sequential,backend\n",
        "from keras.layers import LSTM, Dense, Dropout\n",
        "from keras.callbacks import EarlyStopping\n",
        "import keras_tuner as kt\n",
        "from kerastuner.tuners import Hyperband\n",
        "from sklearn.preprocessing import MinMaxScaler\n",
        "from sklearn.metrics import mean_absolute_error, mean_squared_error\n",
        "\n",
        "# stats, data structures and plotting\n",
        "import random as rn\n",
        "import math\n",
        "import numpy as np\n",
        "import pandas as pd\n",
        "import timeit\n",
        "import plotly.graph_objects as go\n",
        "from plotly.subplots import make_subplots\n",
        "from statsmodels.tsa.stattools import adfuller\n",
        "from scipy import stats\n",
        "\n",
        "# File operations\n",
        "import os\n",
        "import pickle\n",
        "from google.colab import files\n",
        "from google.colab import drive\n",
        "drive.mount('/content/drive')\n",
        "\n",
        "\n",
        "# Set Seeds\n",
        "seed = 1985\n",
        "np.random.seed(seed)\n",
        "rn.seed(seed)\n",
        "os.environ['PYTHONHASHSEED']=str(seed)"
      ],
      "execution_count": 121,
      "outputs": [
        {
          "output_type": "stream",
          "name": "stdout",
          "text": [
            "Drive already mounted at /content/drive; to attempt to forcibly remount, call drive.mount(\"/content/drive\", force_remount=True).\n"
          ]
        }
      ]
    },
    {
      "cell_type": "markdown",
      "metadata": {
        "id": "1h15JNv-iamW"
      },
      "source": [
        "## Load Data"
      ]
    },
    {
      "cell_type": "code",
      "metadata": {
        "id": "YVFeOvp6icWo",
        "colab": {
          "base_uri": "https://localhost:8080/"
        },
        "outputId": "8abb0b05-e6cd-470c-9c34-93f886148fd3"
      },
      "source": [
        "stock = 'VMW'\n",
        "df_vmw = pd.read_pickle(f'/content/drive/MyDrive/Colab Notebooks/data/{stock}_market_data.pickle')\n",
        "df_vmw_features = pd.read_pickle(f'/content/drive/MyDrive/Colab Notebooks/data/{stock}_market_data_features.pickle')\n",
        "print(f\"\\n{stock}\")\n",
        "print(\"=\"*60)\n",
        "print(f\"{stock}-all features: \",df_blx.shape)\n",
        "print(f\"{stock}-optimal features: \",df_blx_features.shape)\n",
        "\n",
        "\n",
        "crypto='BTC'\n",
        "df_btc = pd.read_pickle(f'/content/drive/MyDrive/Colab Notebooks/data/{crypto}_market_data.pickle')\n",
        "df_btc_features = pd.read_pickle(f'/content/drive/MyDrive/Colab Notebooks/data/{crypto}_market_data_features.pickle')\n",
        "print(f\"\\n{crypto}\")\n",
        "print(\"=\"*60)\n",
        "print(f\"{crypto}-all features: \",df_btc.shape)\n",
        "print(f\"{crypto}-optimal features: \",df_btc_features.shape)\n",
        "\n",
        "\n",
        "stock='BLX.TO'\n",
        "df_blx = pd.read_pickle(f'/content/drive/MyDrive/Colab Notebooks/data/{stock}_market_data.pickle')\n",
        "df_blx_features = pd.read_pickle(f'/content/drive/MyDrive/Colab Notebooks/data/{stock}_market_data_features.pickle')\n",
        "print(f\"\\n{stock}\")\n",
        "print(\"=\"*60)\n",
        "print(f\"{stock}-all features: \",df_blx.shape)\n",
        "print(f\"{stock}-optimal features: \",df_blx_features.shape)"
      ],
      "execution_count": 12,
      "outputs": [
        {
          "output_type": "stream",
          "name": "stdout",
          "text": [
            "\n",
            "VMW\n",
            "============================================================\n",
            "VMW-all features:  (2610, 29)\n",
            "VMW-optimal features:  (2570, 10)\n",
            "\n",
            "BTC\n",
            "============================================================\n",
            "BTC-all features:  (1000, 28)\n",
            "BTC-optimal features:  (940, 14)\n",
            "\n",
            "BLX.TO\n",
            "============================================================\n",
            "BLX.TO-all features:  (2610, 29)\n",
            "BLX.TO-optimal features:  (2570, 10)\n"
          ]
        }
      ]
    },
    {
      "cell_type": "markdown",
      "metadata": {
        "id": "AKUw170RVZQ_"
      },
      "source": [
        "## Prepare Data for Deep Learning\n"
      ]
    },
    {
      "cell_type": "markdown",
      "metadata": {
        "id": "N4qHCumNV0Cq"
      },
      "source": [
        "### Prepare the Data \n",
        "+ Reverse the date-time index\n",
        "+ Convert the date-time index to an integer index\n",
        "+ Convert to numpay arrays"
      ]
    },
    {
      "cell_type": "code",
      "metadata": {
        "id": "fWaAdRxXipxQ"
      },
      "source": [
        "def prepare_data(df,y='close',features=[]):\n",
        "  \"\"\"\n",
        "  Filter, scale and convert dataframe data to numpy arrays\n",
        "\n",
        "  Inputs: \n",
        "    df       => A dataframe of observations with features and y-labels\n",
        "    y        => The name of the column that is the truth labels\n",
        "    features => A list of features.  Used to subset columns\n",
        "\n",
        "  Outputs:\n",
        "    scaled_y => numpy array of the y-label data\n",
        "    scaled_x => numpy array of the training features\n",
        "\n",
        "  \"\"\"\n",
        "\n",
        "  # reverse the index such that dates are in chronological order\n",
        "  df = df.iloc[::-1]\n",
        "\n",
        "  # Subset features, get the y-label values\n",
        "  df_y = df[y]\n",
        "  df_X = df[features]\n",
        "\n",
        "  # replace the date index with an integer index\n",
        "  df_X.reset_index(drop=True,inplace=True)\n",
        "\n",
        "  # convert to numpay arrays\n",
        "  array_X = np.array(df_X)\n",
        "  array_y = np.array(df_y).reshape(-1,1)\n",
        "\n",
        "  # print the output\n",
        "  print(\"\\nData Preparation\")\n",
        "  print(\"=\"*60)\n",
        "  print(f\"=> {len(features)} Features\")\n",
        "  print(f\"=> Input Dimensions :{array_X.shape}\")\n",
        "  print(f\"=> Output Dimensions:{array_y.shape}\")\n",
        "  print(\"\\n\")\n",
        "\n",
        "  return array_y, array_X\n"
      ],
      "execution_count": 13,
      "outputs": []
    },
    {
      "cell_type": "markdown",
      "metadata": {
        "id": "d5QUVRHgQ5Xc"
      },
      "source": [
        "### Split the Data into Train/Test Sets\n",
        "+ Time series data cannot be split randomly like other observational data because the order is important.  \n",
        "+ The data is split into train/test based on dates"
      ]
    },
    {
      "cell_type": "code",
      "metadata": {
        "id": "CjyPjV4zsnNg"
      },
      "source": [
        "def split_train_test(X,idx_close,train_pct=0.80):\n",
        "  \"\"\"\n",
        "  \"\"\"\n",
        "\n",
        "  # Train\n",
        "  train_num = math.ceil(X.shape[0]*train_pct)\n",
        "  train_X = X[0:train_num,:]\n",
        "  train_str = f'{round(train_X.shape[0]/X.shape[0],3)*100}%'\n",
        "\n",
        "  # Test\n",
        "  # test_X = X[train_num-n_steps:,:]  # if you use this, need to add n_steps as a param!\n",
        "  test_X = X[train_num:,:]\n",
        "  test_str =f'{round(test_X.shape[0]/X.shape[0],3)*100}%'\n",
        "\n",
        "  # print the results\n",
        "  print(\"\\nSplit Data (X)\")\n",
        "  print(\"=\"*60)\n",
        "  print(f'Data  :100.0% {X.shape}')\n",
        "  print(f'Train :{train_str:>6} {train_X.shape}')\n",
        "  print(f'Test  :{test_str:>6} {test_X.shape}')\n",
        "  print('\\n')\n",
        "\n",
        "  # create the line plots\n",
        "  plot_train_test_data(train_X,test_X,idx_close)\n",
        "\n",
        "  return train_X,test_X\n"
      ],
      "execution_count": 14,
      "outputs": []
    },
    {
      "cell_type": "code",
      "metadata": {
        "id": "9ZgO4Lz3tRYv"
      },
      "source": [
        "def plot_train_test_data(train_x,test_x,idx_close):\n",
        "  \"\"\"\n",
        "  \"\"\"\n",
        "\n",
        "  ts0 = list(range(0,train_x.shape[0]))\n",
        "  ts1 = list(range(train_x.shape[0],train_x.shape[0]+test_x.shape[0]))\n",
        "\n",
        "  fig = go.Figure()\n",
        "  fig.add_trace(go.Scatter(x=ts0,y=train_x[:,idx_close],name='Train'))\n",
        "  fig.add_trace(go.Scatter(x=ts1,y=test_x[:,idx_close],name='Test'))\n",
        "  fig.add_shape(type ='rect',\n",
        "                  x0=ts1[0],x1=ts1[-1],\n",
        "                  y0=0,y1=1,\n",
        "                  line=dict(color='#F6B28D'),\n",
        "                  fillcolor='#F6B28D',\n",
        "                  opacity=0.1)\n",
        "  fig.add_shape(type ='rect',\n",
        "                  x0=ts0[0],x1=ts0[-1],\n",
        "                  y0=0,y1=1,\n",
        "                  line=dict(color='#7BA1AA'),\n",
        "                  fillcolor='#7BA1AA',\n",
        "                  opacity=0.1)\n",
        "  fig.update_layout(title = 'Train/Test Datasets (Scaled)',\n",
        "                      template=\"plotly_white\",\n",
        "                      yaxis_title='Closing Price (Scaled)',\n",
        "                      xaxis_title='time steps',\n",
        "                      width = 600,\n",
        "                      height =600)\n",
        "  fig.update_shapes(dict(xref='x',yref='paper'))\n",
        "  fig.show()\n",
        "\n"
      ],
      "execution_count": 15,
      "outputs": []
    },
    {
      "cell_type": "markdown",
      "metadata": {
        "id": "pgdFdUFnVold"
      },
      "source": [
        "### Partition the Data"
      ]
    },
    {
      "cell_type": "code",
      "metadata": {
        "id": "Org74SkESW4u"
      },
      "source": [
        "def create_partitions(data,idx_close,n_steps,n_predict,visualize=False):\n",
        "  \"\"\"\n",
        "  This function partitions the train/test data into batches with times-step windows for training\n",
        "\n",
        "  Each batch consists of n_steps of training data, and n_predict steps of label data\n",
        "  The function outputs an x array [samples, time steps, features] and a y array [samples, time steps]\n",
        "\n",
        "  Inputs:\n",
        "    data      => train or test array\n",
        "    idx_close => the position of y value in the data\n",
        "    n_steps   => the number of time steps in each training batch\n",
        "    n_predict => the number of time steps that will be predicted\n",
        "    visualize => boolean, will plot a visual of training/prediction windows\n",
        "  Outputs:\n",
        "    array(i)  => np.array of batched & partitioned training data with features\n",
        "    array(p)  => np.array of batched & partitioned y-lables \n",
        "\n",
        "  Reference:\n",
        "    https://www.relataly.com/time-series-forecasting-multi-step-regression-using-neural-networks-with-multiple-outputs-in-python/5800/\n",
        "  \"\"\"\n",
        "  n = data.shape[0]\n",
        "  window = n_steps + n_predict\n",
        "  i, p = [],[]\n",
        "\n",
        "  # print the moving window\n",
        "  if visualize:\n",
        "    print(\"Data Window: I(Input), P(Predict),-(scanned), +(to be scanned)\")\n",
        "    print(\"=\"*max(n,100))\n",
        "\n",
        "  # create the partitions\n",
        "  for step in range(n_steps, n-n_predict):\n",
        "    # get the input window + all features\n",
        "\n",
        "    # train window\n",
        "    i.append(data[step-n_steps:step,:])\n",
        "\n",
        "    # get the prediction window + the closing price\n",
        "    p.append(data[step:step+n_predict,idx_close])\n",
        "\n",
        "    # print the moving window\n",
        "    if visualize and step <= 50:\n",
        "      scanned = n-((step-n_steps)+window)\n",
        "      print(\"-\"*(step-n_steps),'I'*n_steps,'P'*n_predict,\"+\"*scanned,sep=\"\")\n",
        "    \n",
        "  return np.array(i),np.array(p)"
      ],
      "execution_count": 16,
      "outputs": []
    },
    {
      "cell_type": "code",
      "metadata": {
        "id": "wjSwwN3h-vEG"
      },
      "source": [
        "def plot_training_window(x_array,y_array,idx_close,n_steps,n_predict,batch):\n",
        "  \"\"\"\n",
        "  Inputs: \n",
        "    x_array/y_array => partitioned data from create_partitions\n",
        "    idx_close       => the position of the y-label (close price)\n",
        "    n_steps         => the number of time steps in each training batch\n",
        "    n_predict       => the number of time steps predicted each training batch\n",
        "    batch           => the batch number to plot\n",
        "  Outputs:\n",
        "    A line chart with the train/predict values\n",
        "  \"\"\"\n",
        "  # convert the arrays to dataframes\n",
        "  # align the x indexes to compare\n",
        "  df_y = pd.DataFrame(y_array[batch],index=range(n_steps-1,n_predict+n_steps-1),columns=['y'])\n",
        "  df_x = pd.DataFrame(x_array[batch+1])[idx_close]\n",
        "  df_x = pd.DataFrame(df_x)\n",
        "  df_x.columns = ['x']\n",
        "\n",
        "  # create the plots\n",
        "  fig = go.Figure()\n",
        "  fig.add_trace(go.Scatter(x=df_x.index,y=df_x['x'],name='train window'))\n",
        "  fig.add_trace(go.Scatter(x=df_y.index,y=df_y['y'],name='predict window'))\n",
        "  fig.update_layout(template='plotly_white',\n",
        "                    title='Train/Predict Windows',\n",
        "                    yaxis_title = 'Closing Price (Scaled)',\n",
        "                    xaxis_title='Period',\n",
        "                    width = 600,\n",
        "                    height = 600)\n",
        "  fig.show()\n"
      ],
      "execution_count": 17,
      "outputs": []
    },
    {
      "cell_type": "markdown",
      "metadata": {
        "id": "LGNorbPjJ6Ku"
      },
      "source": [
        "### Data Transformations\n",
        "\n",
        "#### Check for stationarity\n",
        "+ Augmented Dickey-Fuller (ADF) test for stationarity\n",
        "+ null: the data is non-stationary\n",
        "+ alternative: the data is stationary\n",
        "+ => if the test stat is less than all critical values,  we cannot reject the null, therefore the data is non-stationary\n",
        "\n",
        "**Reference**\n",
        "\n",
        " https://analyzingalpha.com/check-time-series-stationarity-python#augmented-dickey-fuller-adf"
      ]
    },
    {
      "cell_type": "code",
      "metadata": {
        "id": "FmF3WIaraUg9"
      },
      "source": [
        "def transform_stationary(df,features_to_transform,transform='log'):\n",
        "  \"\"\"\n",
        "  transform: log, boxcox\n",
        "  \"\"\"\n",
        "  # transform each column in the features_to_transform list\n",
        "  for feature in df.columns:\n",
        "    if feature in features_to_transform:\n",
        "      # log transform\n",
        "      if transform=='log':\n",
        "        df[feature] = df[feature].apply(np.log)\n",
        "\n",
        "      # boxcox transform  \n",
        "      elif transform=='boxcox':\n",
        "        bc,_ = stats.boxcox(df[feature])\n",
        "        df[feature] = bc\n",
        "\n",
        "      else:\n",
        "        print(\"Transformation not recognized\")\n",
        "\n",
        "  # check the closing price for stationarity using the augmented dicky fuller test\n",
        "  t_stat, p_value, _, _, critical_values, _  = adfuller(df.close.values, autolag='AIC')\n",
        "  print('Augmented Dicky Fuller Test for Stationarity')\n",
        "  print(\"=\"*60)\n",
        "  print(f'ADF Statistic: {t_stat:.2f}')\n",
        "  for key, value in critical_values.items():\n",
        "    print('Critial Values:')\n",
        "    if t_stat < value:\n",
        "      print(f'   {key}, {value:.2f} => non-stationary')\n",
        "    else:\n",
        "      print(f'   {key}, {value:.2f} => stationary')"
      ],
      "execution_count": 18,
      "outputs": []
    },
    {
      "cell_type": "markdown",
      "metadata": {
        "id": "gKMEqyw7cdho"
      },
      "source": [
        "### Process the Data"
      ]
    },
    {
      "cell_type": "code",
      "metadata": {
        "colab": {
          "base_uri": "https://localhost:8080/",
          "height": 1000
        },
        "id": "GSWNcMJGkPke",
        "outputId": "ac9b4ba6-3b4c-4053-ffe4-5f186dc65701"
      },
      "source": [
        "# Training Config\n",
        "\n",
        "# uncomment the desired data\n",
        "# df = df_btc.copy()\n",
        "# df = df_btc_features.copy()\n",
        "df = df_vmw.copy()\n",
        "# df = df_vmw_features.copy()\n",
        "# df = df_blx.copy()\n",
        "# df = df_blx_features.copy()\n",
        "\n",
        "# Extract the features needed for training\n",
        "features = [c for c in df.columns if c not in ['symbol']]\n",
        "n_steps  = 40   # The number of time steps included in each training batch\n",
        "n_predict = 5   # The number of time steps into the future the model will predict\n",
        "idx_close = df.columns.get_loc(\"close\") # index postiion variable (closing price)\n",
        "transform = 'log'\n",
        "\n",
        "# difference the price data\n",
        "features_to_transform = ['open','high','low','close']  # blx_features\n",
        "transform_stationary(df,features_to_transform,transform)\n",
        "\n",
        "\n",
        "# Scale the data and convert to numpy arrays\n",
        "array_y,array_X = prepare_data(df,'close',features)\n",
        "\n",
        "\n",
        "# scale the input and outputs\n",
        "scaler_X = MinMaxScaler(feature_range=(0,1))\n",
        "scaler_y = MinMaxScaler(feature_range=(0,1))\n",
        "scaled_X = scaler_X.fit_transform(array_X)\n",
        "scaled_y = scaler_y.fit_transform(array_y)\n",
        "\n",
        "\n",
        "# split into train, test\n",
        "train_pct = 0.80\n",
        "train_x,test_x=split_train_test(scaled_X,idx_close,train_pct)\n",
        "\n",
        "\n",
        "# Partition the train/test data into time series windows for training\n",
        "# LSTM input format: [samples, time steps, features]\n",
        "x_train, y_train = create_partitions(train_x,idx_close,n_steps, n_predict)\n",
        "x_test,  y_test  = create_partitions(test_x, idx_close,n_steps, n_predict)\n",
        "\n",
        "\n",
        "# Print the results\n",
        "print('Train/Test Dimensions')\n",
        "print('='*60)\n",
        "print(\"Train Data Dimensions: \",\"x\",x_train.shape,\"y\",y_train.shape)\n",
        "print(\"Test Data Dimensions : \",\"x\",x_test.shape,\" y\",y_test.shape)\n",
        "\n",
        "print(\"\\n\\nCheck the dimensions of the training windows\")\n",
        "print(\"=\"*60)\n",
        "print('The last value in the training batch should match the first value in the predict batch')\n",
        "print(\"Last Training Value:   \",x_train[1][n_steps-1][idx_close])\n",
        "print(\"First Prediction Value:\",y_train[0][0])\n",
        "\n",
        "# Make sure the train/predict batch windows are aligned\n",
        "plot_training_window(x_train,y_train,idx_close,n_steps,n_predict,seed//10)\n",
        "\n",
        "# save to google drive\n",
        "np.save('/content/drive/MyDrive/Colab Notebooks/data/x_train',x_train)\n",
        "np.save('/content/drive/MyDrive/Colab Notebooks/data/y_train',y_train)\n",
        "np.save('/content/drive/MyDrive/Colab Notebooks/data/x_test',x_test)\n",
        "np.save('/content/drive/MyDrive/Colab Notebooks/data/y_test',y_test)\n"
      ],
      "execution_count": 79,
      "outputs": [
        {
          "output_type": "stream",
          "name": "stdout",
          "text": [
            "Augmented Dicky Fuller Test for Stationarity\n",
            "============================================================\n",
            "ADF Statistic: -1.75\n",
            "Critial Values:\n",
            "   1%, -3.43 => stationary\n",
            "Critial Values:\n",
            "   5%, -2.86 => stationary\n",
            "Critial Values:\n",
            "   10%, -2.57 => stationary\n",
            "\n",
            "Data Preparation\n",
            "============================================================\n",
            "=> 28 Features\n",
            "=> Input Dimensions :(2569, 28)\n",
            "=> Output Dimensions:(2569, 1)\n",
            "\n",
            "\n",
            "\n",
            "Split Data (X)\n",
            "============================================================\n",
            "Data  :100.0% (2569, 28)\n",
            "Train : 80.0% (2056, 28)\n",
            "Test  : 20.0% (513, 28)\n",
            "\n",
            "\n"
          ]
        },
        {
          "output_type": "display_data",
          "data": {
            "text/html": [
              "<html>\n",
              "<head><meta charset=\"utf-8\" /></head>\n",
              "<body>\n",
              "    <div>\n",
              "            <script src=\"https://cdnjs.cloudflare.com/ajax/libs/mathjax/2.7.5/MathJax.js?config=TeX-AMS-MML_SVG\"></script><script type=\"text/javascript\">if (window.MathJax) {MathJax.Hub.Config({SVG: {font: \"STIX-Web\"}});}</script>\n",
              "                <script type=\"text/javascript\">window.PlotlyConfig = {MathJaxConfig: 'local'};</script>\n",
              "        <script src=\"https://cdn.plot.ly/plotly-latest.min.js\"></script>    \n",
              "            <div id=\"4664f1a1-56c0-45ab-9d65-6b6b5946fe99\" class=\"plotly-graph-div\" style=\"height:600px; width:600px;\"></div>\n",
              "            <script type=\"text/javascript\">\n",
              "                \n",
              "                    window.PLOTLYENV=window.PLOTLYENV || {};\n",
              "                    \n",
              "                if (document.getElementById(\"4664f1a1-56c0-45ab-9d65-6b6b5946fe99\")) {\n",
              "                    Plotly.newPlot(\n",
              "                        '4664f1a1-56c0-45ab-9d65-6b6b5946fe99',\n",
              "                        [{\"name\": \"Train\", \"type\": \"scatter\", \"x\": [0, 1, 2, 3, 4, 5, 6, 7, 8, 9, 10, 11, 12, 13, 14, 15, 16, 17, 18, 19, 20, 21, 22, 23, 24, 25, 26, 27, 28, 29, 30, 31, 32, 33, 34, 35, 36, 37, 38, 39, 40, 41, 42, 43, 44, 45, 46, 47, 48, 49, 50, 51, 52, 53, 54, 55, 56, 57, 58, 59, 60, 61, 62, 63, 64, 65, 66, 67, 68, 69, 70, 71, 72, 73, 74, 75, 76, 77, 78, 79, 80, 81, 82, 83, 84, 85, 86, 87, 88, 89, 90, 91, 92, 93, 94, 95, 96, 97, 98, 99, 100, 101, 102, 103, 104, 105, 106, 107, 108, 109, 110, 111, 112, 113, 114, 115, 116, 117, 118, 119, 120, 121, 122, 123, 124, 125, 126, 127, 128, 129, 130, 131, 132, 133, 134, 135, 136, 137, 138, 139, 140, 141, 142, 143, 144, 145, 146, 147, 148, 149, 150, 151, 152, 153, 154, 155, 156, 157, 158, 159, 160, 161, 162, 163, 164, 165, 166, 167, 168, 169, 170, 171, 172, 173, 174, 175, 176, 177, 178, 179, 180, 181, 182, 183, 184, 185, 186, 187, 188, 189, 190, 191, 192, 193, 194, 195, 196, 197, 198, 199, 200, 201, 202, 203, 204, 205, 206, 207, 208, 209, 210, 211, 212, 213, 214, 215, 216, 217, 218, 219, 220, 221, 222, 223, 224, 225, 226, 227, 228, 229, 230, 231, 232, 233, 234, 235, 236, 237, 238, 239, 240, 241, 242, 243, 244, 245, 246, 247, 248, 249, 250, 251, 252, 253, 254, 255, 256, 257, 258, 259, 260, 261, 262, 263, 264, 265, 266, 267, 268, 269, 270, 271, 272, 273, 274, 275, 276, 277, 278, 279, 280, 281, 282, 283, 284, 285, 286, 287, 288, 289, 290, 291, 292, 293, 294, 295, 296, 297, 298, 299, 300, 301, 302, 303, 304, 305, 306, 307, 308, 309, 310, 311, 312, 313, 314, 315, 316, 317, 318, 319, 320, 321, 322, 323, 324, 325, 326, 327, 328, 329, 330, 331, 332, 333, 334, 335, 336, 337, 338, 339, 340, 341, 342, 343, 344, 345, 346, 347, 348, 349, 350, 351, 352, 353, 354, 355, 356, 357, 358, 359, 360, 361, 362, 363, 364, 365, 366, 367, 368, 369, 370, 371, 372, 373, 374, 375, 376, 377, 378, 379, 380, 381, 382, 383, 384, 385, 386, 387, 388, 389, 390, 391, 392, 393, 394, 395, 396, 397, 398, 399, 400, 401, 402, 403, 404, 405, 406, 407, 408, 409, 410, 411, 412, 413, 414, 415, 416, 417, 418, 419, 420, 421, 422, 423, 424, 425, 426, 427, 428, 429, 430, 431, 432, 433, 434, 435, 436, 437, 438, 439, 440, 441, 442, 443, 444, 445, 446, 447, 448, 449, 450, 451, 452, 453, 454, 455, 456, 457, 458, 459, 460, 461, 462, 463, 464, 465, 466, 467, 468, 469, 470, 471, 472, 473, 474, 475, 476, 477, 478, 479, 480, 481, 482, 483, 484, 485, 486, 487, 488, 489, 490, 491, 492, 493, 494, 495, 496, 497, 498, 499, 500, 501, 502, 503, 504, 505, 506, 507, 508, 509, 510, 511, 512, 513, 514, 515, 516, 517, 518, 519, 520, 521, 522, 523, 524, 525, 526, 527, 528, 529, 530, 531, 532, 533, 534, 535, 536, 537, 538, 539, 540, 541, 542, 543, 544, 545, 546, 547, 548, 549, 550, 551, 552, 553, 554, 555, 556, 557, 558, 559, 560, 561, 562, 563, 564, 565, 566, 567, 568, 569, 570, 571, 572, 573, 574, 575, 576, 577, 578, 579, 580, 581, 582, 583, 584, 585, 586, 587, 588, 589, 590, 591, 592, 593, 594, 595, 596, 597, 598, 599, 600, 601, 602, 603, 604, 605, 606, 607, 608, 609, 610, 611, 612, 613, 614, 615, 616, 617, 618, 619, 620, 621, 622, 623, 624, 625, 626, 627, 628, 629, 630, 631, 632, 633, 634, 635, 636, 637, 638, 639, 640, 641, 642, 643, 644, 645, 646, 647, 648, 649, 650, 651, 652, 653, 654, 655, 656, 657, 658, 659, 660, 661, 662, 663, 664, 665, 666, 667, 668, 669, 670, 671, 672, 673, 674, 675, 676, 677, 678, 679, 680, 681, 682, 683, 684, 685, 686, 687, 688, 689, 690, 691, 692, 693, 694, 695, 696, 697, 698, 699, 700, 701, 702, 703, 704, 705, 706, 707, 708, 709, 710, 711, 712, 713, 714, 715, 716, 717, 718, 719, 720, 721, 722, 723, 724, 725, 726, 727, 728, 729, 730, 731, 732, 733, 734, 735, 736, 737, 738, 739, 740, 741, 742, 743, 744, 745, 746, 747, 748, 749, 750, 751, 752, 753, 754, 755, 756, 757, 758, 759, 760, 761, 762, 763, 764, 765, 766, 767, 768, 769, 770, 771, 772, 773, 774, 775, 776, 777, 778, 779, 780, 781, 782, 783, 784, 785, 786, 787, 788, 789, 790, 791, 792, 793, 794, 795, 796, 797, 798, 799, 800, 801, 802, 803, 804, 805, 806, 807, 808, 809, 810, 811, 812, 813, 814, 815, 816, 817, 818, 819, 820, 821, 822, 823, 824, 825, 826, 827, 828, 829, 830, 831, 832, 833, 834, 835, 836, 837, 838, 839, 840, 841, 842, 843, 844, 845, 846, 847, 848, 849, 850, 851, 852, 853, 854, 855, 856, 857, 858, 859, 860, 861, 862, 863, 864, 865, 866, 867, 868, 869, 870, 871, 872, 873, 874, 875, 876, 877, 878, 879, 880, 881, 882, 883, 884, 885, 886, 887, 888, 889, 890, 891, 892, 893, 894, 895, 896, 897, 898, 899, 900, 901, 902, 903, 904, 905, 906, 907, 908, 909, 910, 911, 912, 913, 914, 915, 916, 917, 918, 919, 920, 921, 922, 923, 924, 925, 926, 927, 928, 929, 930, 931, 932, 933, 934, 935, 936, 937, 938, 939, 940, 941, 942, 943, 944, 945, 946, 947, 948, 949, 950, 951, 952, 953, 954, 955, 956, 957, 958, 959, 960, 961, 962, 963, 964, 965, 966, 967, 968, 969, 970, 971, 972, 973, 974, 975, 976, 977, 978, 979, 980, 981, 982, 983, 984, 985, 986, 987, 988, 989, 990, 991, 992, 993, 994, 995, 996, 997, 998, 999, 1000, 1001, 1002, 1003, 1004, 1005, 1006, 1007, 1008, 1009, 1010, 1011, 1012, 1013, 1014, 1015, 1016, 1017, 1018, 1019, 1020, 1021, 1022, 1023, 1024, 1025, 1026, 1027, 1028, 1029, 1030, 1031, 1032, 1033, 1034, 1035, 1036, 1037, 1038, 1039, 1040, 1041, 1042, 1043, 1044, 1045, 1046, 1047, 1048, 1049, 1050, 1051, 1052, 1053, 1054, 1055, 1056, 1057, 1058, 1059, 1060, 1061, 1062, 1063, 1064, 1065, 1066, 1067, 1068, 1069, 1070, 1071, 1072, 1073, 1074, 1075, 1076, 1077, 1078, 1079, 1080, 1081, 1082, 1083, 1084, 1085, 1086, 1087, 1088, 1089, 1090, 1091, 1092, 1093, 1094, 1095, 1096, 1097, 1098, 1099, 1100, 1101, 1102, 1103, 1104, 1105, 1106, 1107, 1108, 1109, 1110, 1111, 1112, 1113, 1114, 1115, 1116, 1117, 1118, 1119, 1120, 1121, 1122, 1123, 1124, 1125, 1126, 1127, 1128, 1129, 1130, 1131, 1132, 1133, 1134, 1135, 1136, 1137, 1138, 1139, 1140, 1141, 1142, 1143, 1144, 1145, 1146, 1147, 1148, 1149, 1150, 1151, 1152, 1153, 1154, 1155, 1156, 1157, 1158, 1159, 1160, 1161, 1162, 1163, 1164, 1165, 1166, 1167, 1168, 1169, 1170, 1171, 1172, 1173, 1174, 1175, 1176, 1177, 1178, 1179, 1180, 1181, 1182, 1183, 1184, 1185, 1186, 1187, 1188, 1189, 1190, 1191, 1192, 1193, 1194, 1195, 1196, 1197, 1198, 1199, 1200, 1201, 1202, 1203, 1204, 1205, 1206, 1207, 1208, 1209, 1210, 1211, 1212, 1213, 1214, 1215, 1216, 1217, 1218, 1219, 1220, 1221, 1222, 1223, 1224, 1225, 1226, 1227, 1228, 1229, 1230, 1231, 1232, 1233, 1234, 1235, 1236, 1237, 1238, 1239, 1240, 1241, 1242, 1243, 1244, 1245, 1246, 1247, 1248, 1249, 1250, 1251, 1252, 1253, 1254, 1255, 1256, 1257, 1258, 1259, 1260, 1261, 1262, 1263, 1264, 1265, 1266, 1267, 1268, 1269, 1270, 1271, 1272, 1273, 1274, 1275, 1276, 1277, 1278, 1279, 1280, 1281, 1282, 1283, 1284, 1285, 1286, 1287, 1288, 1289, 1290, 1291, 1292, 1293, 1294, 1295, 1296, 1297, 1298, 1299, 1300, 1301, 1302, 1303, 1304, 1305, 1306, 1307, 1308, 1309, 1310, 1311, 1312, 1313, 1314, 1315, 1316, 1317, 1318, 1319, 1320, 1321, 1322, 1323, 1324, 1325, 1326, 1327, 1328, 1329, 1330, 1331, 1332, 1333, 1334, 1335, 1336, 1337, 1338, 1339, 1340, 1341, 1342, 1343, 1344, 1345, 1346, 1347, 1348, 1349, 1350, 1351, 1352, 1353, 1354, 1355, 1356, 1357, 1358, 1359, 1360, 1361, 1362, 1363, 1364, 1365, 1366, 1367, 1368, 1369, 1370, 1371, 1372, 1373, 1374, 1375, 1376, 1377, 1378, 1379, 1380, 1381, 1382, 1383, 1384, 1385, 1386, 1387, 1388, 1389, 1390, 1391, 1392, 1393, 1394, 1395, 1396, 1397, 1398, 1399, 1400, 1401, 1402, 1403, 1404, 1405, 1406, 1407, 1408, 1409, 1410, 1411, 1412, 1413, 1414, 1415, 1416, 1417, 1418, 1419, 1420, 1421, 1422, 1423, 1424, 1425, 1426, 1427, 1428, 1429, 1430, 1431, 1432, 1433, 1434, 1435, 1436, 1437, 1438, 1439, 1440, 1441, 1442, 1443, 1444, 1445, 1446, 1447, 1448, 1449, 1450, 1451, 1452, 1453, 1454, 1455, 1456, 1457, 1458, 1459, 1460, 1461, 1462, 1463, 1464, 1465, 1466, 1467, 1468, 1469, 1470, 1471, 1472, 1473, 1474, 1475, 1476, 1477, 1478, 1479, 1480, 1481, 1482, 1483, 1484, 1485, 1486, 1487, 1488, 1489, 1490, 1491, 1492, 1493, 1494, 1495, 1496, 1497, 1498, 1499, 1500, 1501, 1502, 1503, 1504, 1505, 1506, 1507, 1508, 1509, 1510, 1511, 1512, 1513, 1514, 1515, 1516, 1517, 1518, 1519, 1520, 1521, 1522, 1523, 1524, 1525, 1526, 1527, 1528, 1529, 1530, 1531, 1532, 1533, 1534, 1535, 1536, 1537, 1538, 1539, 1540, 1541, 1542, 1543, 1544, 1545, 1546, 1547, 1548, 1549, 1550, 1551, 1552, 1553, 1554, 1555, 1556, 1557, 1558, 1559, 1560, 1561, 1562, 1563, 1564, 1565, 1566, 1567, 1568, 1569, 1570, 1571, 1572, 1573, 1574, 1575, 1576, 1577, 1578, 1579, 1580, 1581, 1582, 1583, 1584, 1585, 1586, 1587, 1588, 1589, 1590, 1591, 1592, 1593, 1594, 1595, 1596, 1597, 1598, 1599, 1600, 1601, 1602, 1603, 1604, 1605, 1606, 1607, 1608, 1609, 1610, 1611, 1612, 1613, 1614, 1615, 1616, 1617, 1618, 1619, 1620, 1621, 1622, 1623, 1624, 1625, 1626, 1627, 1628, 1629, 1630, 1631, 1632, 1633, 1634, 1635, 1636, 1637, 1638, 1639, 1640, 1641, 1642, 1643, 1644, 1645, 1646, 1647, 1648, 1649, 1650, 1651, 1652, 1653, 1654, 1655, 1656, 1657, 1658, 1659, 1660, 1661, 1662, 1663, 1664, 1665, 1666, 1667, 1668, 1669, 1670, 1671, 1672, 1673, 1674, 1675, 1676, 1677, 1678, 1679, 1680, 1681, 1682, 1683, 1684, 1685, 1686, 1687, 1688, 1689, 1690, 1691, 1692, 1693, 1694, 1695, 1696, 1697, 1698, 1699, 1700, 1701, 1702, 1703, 1704, 1705, 1706, 1707, 1708, 1709, 1710, 1711, 1712, 1713, 1714, 1715, 1716, 1717, 1718, 1719, 1720, 1721, 1722, 1723, 1724, 1725, 1726, 1727, 1728, 1729, 1730, 1731, 1732, 1733, 1734, 1735, 1736, 1737, 1738, 1739, 1740, 1741, 1742, 1743, 1744, 1745, 1746, 1747, 1748, 1749, 1750, 1751, 1752, 1753, 1754, 1755, 1756, 1757, 1758, 1759, 1760, 1761, 1762, 1763, 1764, 1765, 1766, 1767, 1768, 1769, 1770, 1771, 1772, 1773, 1774, 1775, 1776, 1777, 1778, 1779, 1780, 1781, 1782, 1783, 1784, 1785, 1786, 1787, 1788, 1789, 1790, 1791, 1792, 1793, 1794, 1795, 1796, 1797, 1798, 1799, 1800, 1801, 1802, 1803, 1804, 1805, 1806, 1807, 1808, 1809, 1810, 1811, 1812, 1813, 1814, 1815, 1816, 1817, 1818, 1819, 1820, 1821, 1822, 1823, 1824, 1825, 1826, 1827, 1828, 1829, 1830, 1831, 1832, 1833, 1834, 1835, 1836, 1837, 1838, 1839, 1840, 1841, 1842, 1843, 1844, 1845, 1846, 1847, 1848, 1849, 1850, 1851, 1852, 1853, 1854, 1855, 1856, 1857, 1858, 1859, 1860, 1861, 1862, 1863, 1864, 1865, 1866, 1867, 1868, 1869, 1870, 1871, 1872, 1873, 1874, 1875, 1876, 1877, 1878, 1879, 1880, 1881, 1882, 1883, 1884, 1885, 1886, 1887, 1888, 1889, 1890, 1891, 1892, 1893, 1894, 1895, 1896, 1897, 1898, 1899, 1900, 1901, 1902, 1903, 1904, 1905, 1906, 1907, 1908, 1909, 1910, 1911, 1912, 1913, 1914, 1915, 1916, 1917, 1918, 1919, 1920, 1921, 1922, 1923, 1924, 1925, 1926, 1927, 1928, 1929, 1930, 1931, 1932, 1933, 1934, 1935, 1936, 1937, 1938, 1939, 1940, 1941, 1942, 1943, 1944, 1945, 1946, 1947, 1948, 1949, 1950, 1951, 1952, 1953, 1954, 1955, 1956, 1957, 1958, 1959, 1960, 1961, 1962, 1963, 1964, 1965, 1966, 1967, 1968, 1969, 1970, 1971, 1972, 1973, 1974, 1975, 1976, 1977, 1978, 1979, 1980, 1981, 1982, 1983, 1984, 1985, 1986, 1987, 1988, 1989, 1990, 1991, 1992, 1993, 1994, 1995, 1996, 1997, 1998, 1999, 2000, 2001, 2002, 2003, 2004, 2005, 2006, 2007, 2008, 2009, 2010, 2011, 2012, 2013, 2014, 2015, 2016, 2017, 2018, 2019, 2020, 2021, 2022, 2023, 2024, 2025, 2026, 2027, 2028, 2029, 2030, 2031, 2032, 2033, 2034, 2035, 2036, 2037, 2038, 2039, 2040, 2041, 2042, 2043, 2044, 2045, 2046, 2047, 2048, 2049, 2050, 2051, 2052, 2053, 2054, 2055], \"y\": [0.558687890584658, 0.5527443174223743, 0.5653175193015496, 0.5473797215151639, 0.5363218958123577, 0.5355478268711944, 0.5372881819870869, 0.550792964848422, 0.5387670246401255, 0.5715747529503674, 0.5709028559183187, 0.5647007964638862, 0.575834196717703, 0.5820511334615603, 0.5721239685702177, 0.5396014000245559, 0.5433747206841151, 0.5359349770586861, 0.5334143515556784, 0.5010151896375752, 0.5140233183929683, 0.45743819261438423, 0.44568036576136993, 0.4205794407449539, 0.45224699953307423, 0.43090385494160266, 0.46733882980086294, 0.4702725889926467, 0.4983545511403418, 0.48201666399794885, 0.4523204047578946, 0.3825579644643118, 0.3625490105031055, 0.3715090877257605, 0.40529057473455055, 0.4135259248238832, 0.3907629450624195, 0.4267938304615999, 0.454664987151026, 0.4706294564930906, 0.496163264852131, 0.481034386522893, 0.45158597761775576, 0.4529806774274996, 0.4799802894941516, 0.46812724208601564, 0.4509242799259545, 0.46489582963685994, 0.4720549621219554, 0.4900986921529209, 0.49849126052286685, 0.49085987856242763, 0.47836066583549774, 0.456928230971243, 0.45202673389570647, 0.41313613223808376, 0.43310036591458534, 0.4518798484828084, 0.43964552536905677, 0.4225806927612288, 0.41360385517966414, 0.3923754286297356, 0.38026478024389165, 0.4017288077993615, 0.43181366027237056, 0.45947403072692206, 0.4485660832819023, 0.463021411441344, 0.46755394659312444, 0.46106913767532376, 0.4699155246215021, 0.48732317087940524, 0.4620821628086915, 0.5130884675167171, 0.4923105715174816, 0.5018316521478048, 0.5061012645996472, 0.5186111735740488, 0.5052901735547111, 0.5122191810180516, 0.5298428570356006, 0.5342556512190999, 0.5190085849061155, 0.5077877801433583, 0.5152898887352388, 0.5349666670454054, 0.5358059527247283, 0.5310788753833808, 0.5387027973446958, 0.5134224978534689, 0.5152898887352388, 0.5380601736132347, 0.5502884335402802, 0.554439102405361, 0.5408829578517329, 0.5196042447592326, 0.4926554958897049, 0.49890121550489797, 0.4832774056848268, 0.4709861273398075, 0.46099671803114717, 0.4936203073937606, 0.48019124627884, 0.5118845289403007, 0.5120184105353913, 0.5021715411274998, 0.5146235817285283, 0.5138898509073608, 0.5137563558941709, 0.5008109129847336, 0.5102086682113036, 0.4941021743646057, 0.4723396868902814, 0.448935118339028, 0.4295367445712408, 0.43476172635554944, 0.42350226468126406, 0.43097972091709336, 0.36330745797253927, 0.3986260088886069, 0.4183399507692358, 0.42946070926200086, 0.41453828830995043, 0.42373245278249616, 0.41461609687759315, 0.40741826464803976, 0.4026805304104779, 0.40773288396115337, 0.41554907083251535, 0.42816674050320414, 0.4308279800726149, 0.4504091580769116, 0.45011461856367996, 0.43204091192283833, 0.42088772870941904, 0.43204091192283833, 0.44959885167611047, 0.4518798484828084, 0.4361178565507453, 0.4843960070765032, 0.4808237044066215, 0.47927660322223176, 0.4816660217177664, 0.4739034382023646, 0.47461298724202505, 0.48767076262244435, 0.4921035286295967, 0.5044780648294025, 0.4999249683979703, 0.5042748783360813, 0.4951335400194279, 0.5024433238605113, 0.49698586683003354, 0.5122191810180516, 0.5174174734155348, 0.5174838478778976, 0.528995798234575, 0.52795174022953, 0.521255984973644, 0.5242185366150083, 0.531273820589159, 0.5370950401238668, 0.5367085834087391, 0.5349666670454054, 0.5265134050394926, 0.5463649237466242, 0.5394731045693972, 0.5325071119229365, 0.5215198726825925, 0.5338027795944362, 0.5376742928968219, 0.5370950401238668, 0.5334791057520358, 0.565810474823595, 0.5683309959682457, 0.588922540297077, 0.5781952124954279, 0.5763192102804195, 0.5743161825851342, 0.5921832553502693, 0.5874945186054927, 0.5885658301369552, 0.5974837900892824, 0.5868389542328214, 0.5870774181092075, 0.6097430201813165, 0.6092248281754831, 0.6208132548097445, 0.6215483492319258, 0.6126716308670361, 0.6171252074002194, 0.6100307254663835, 0.5976010881267833, 0.58120961142918, 0.5899321528040016, 0.6098581176421263, 0.5895166207143312, 0.5983044302977691, 0.6029739469464448, 0.6171252074002194, 0.6026830870264108, 0.5806680546530663, 0.5558793161365951, 0.5756522228907719, 0.6008184820086533, 0.6094551869533071, 0.6054699613821248, 0.6107206968233534, 0.6220567721358705, 0.6097430201813165, 0.583670985571553, 0.5811494608256185, 0.5657488759114226, 0.5673485454327309, 0.5413309042816059, 0.5485827309897826, 0.5380601736132347, 0.5450305825336215, 0.5310138805980511, 0.526905995368447, 0.5200010470006324, 0.5425451984727703, 0.5394731045693972, 0.5435022451785003, 0.503461493913413, 0.4938268657389502, 0.49978856153357576, 0.49855960438747404, 0.4868362286258927, 0.46164820330925815, 0.45342048530568446, 0.47041535960514924, 0.4930002365472066, 0.4815257116003391, 0.4923105715174816, 0.46905776559702606, 0.4716988799381614, 0.4567095529233858, 0.45539593084153607, 0.472837654050537, 0.4802615499305851, 0.48912861296820154, 0.4900294489788344, 0.4567095529233858, 0.48292744592006454, 0.4541528349755328, 0.45261394243601316, 0.4559071007202071, 0.4213498855081754, 0.4729798600423556, 0.46920080439742184, 0.4787131028543654, 0.4670518961514074, 0.42065652650329666, 0.4137596877479286, 0.40859729934620503, 0.4035517151563477, 0.4181852171875384, 0.43143473012328926, 0.4240392429620319, 0.3916503081054694, 0.46539955460353877, 0.48509415251055765, 0.4641034689279504, 0.45998199128711637, 0.45751101148931683, 0.44871372255470465, 0.48264734180700186, 0.5052901735547111, 0.4823671164236192, 0.4709861273398075, 0.45831147887570145, 0.4479751891916486, 0.4871145261983445, 0.487740258576681, 0.4965746965234641, 0.4907215476003368, 0.5189423666269479, 0.5167533541605134, 0.5097386485854716, 0.49417098322760156, 0.4978074246756763, 0.5209919896323032, 0.5190747964113811, 0.508124556554078, 0.5015596123963344, 0.5010151896375752, 0.4744002041917854, 0.4812450000837809, 0.48201666399794885, 0.4714138730779158, 0.4699869532558134, 0.4547381186769117, 0.4586023126568963, 0.45055637758605505, 0.4589656712074812, 0.4938268657389502, 0.4956829304559429, 0.491965463234628, 0.5105441876678651, 0.5180145986818552, 0.5292565498018682, 0.5482663662690999, 0.5372238077696032, 0.5308188570735033, 0.5288653830479246, 0.5321179053152028, 0.5381244647053323, 0.515955510522776, 0.5083265383217199, 0.4951335400194279, 0.5152232888926984, 0.5122860906753348, 0.4901679279201323, 0.5018316521478048, 0.5114827179170547, 0.5162215676919351, 0.5162215676919351, 0.5100744117144198, 0.4732641783290088, 0.46784065781338624, 0.45823875000668224, 0.44582866466662674, 0.45048277201718534, 0.4709861273398075, 0.4457545194613033, 0.4327978416888594, 0.4181852171875384, 0.41593741341880897, 0.41872662296495156, 0.43362944330541753, 0.4388216224329793, 0.4286237308040137, 0.4267938304615999, 0.4511449209947891, 0.45641786721806277, 0.46280478269971415, 0.4861399607347838, 0.4669083816122037, 0.4492301949655926, 0.4479751891916486, 0.44449274970494645, 0.44061787863438706, 0.4274806494993917, 0.4267938304615999, 0.43468630241219586, 0.4394958028217415, 0.4361931138694928, 0.451438992135313, 0.46345445153498943, 0.46769731807873827, 0.462371307584176, 0.48453569641969274, 0.47772579519199354, 0.4723396868902814, 0.47821963727645667, 0.47602975604489073, 0.46798396581112867, 0.4781491114720655, 0.47836066583549774, 0.4839767580696228, 0.4956142821481775, 0.4780080368051691, 0.4737614350054016, 0.48334737493727653, 0.495339616084578, 0.5039360923722311, 0.5128211190746019, 0.5114157251550888, 0.5040038637527609, 0.5061688096630177, 0.4993791683705542, 0.49787584078156577, 0.4857218401975314, 0.49465244055643787, 0.5000613465209276, 0.47934700628633076, 0.4882265214365904, 0.47990995528390457, 0.4850243718443088, 0.4996521259156257, 0.5069113405115955, 0.5047488809710763, 0.5147568980151291, 0.5187436711321691, 0.5022394975104856, 0.5029865471984483, 0.4923795710985033, 0.4852336912777595, 0.4965746965234641, 0.5052901735547111, 0.527232972172146, 0.5227718721377728, 0.3657453161056372, 0.37001043639442033, 0.36018369647213255, 0.37944381289745044, 0.3725062643037784, 0.375736518906312, 0.3803468197356241, 0.3815761659155612, 0.3827214528635534, 0.36490571218824375, 0.36204288465756473, 0.3412920496054004, 0.3334018596281725, 0.34710402836564036, 0.33586690830092003, 0.3151531223907731, 0.3143360586561501, 0.3245206751561991, 0.3062921689257956, 0.3192230408678087, 0.3284434178855711, 0.3195835759386303, 0.33489961564609194, 0.3350755945947448, 0.3464127982167424, 0.3415534065922583, 0.33779716763060286, 0.3437272870839556, 0.3509785029363188, 0.3500335487223216, 0.4002985948131954, 0.4293086118416891, 0.41973089092307303, 0.4113400566341405, 0.3947064173652719, 0.39982115399797014, 0.3977481644459564, 0.3905207256736416, 0.36035293443077965, 0.356874680652818, 0.37755162685449095, 0.3801827303522738, 0.3739163064678581, 0.37001043639442033, 0.3572148465096334, 0.3617896732430457, 0.3638125963195824, 0.3591673383949465, 0.36229599705177984, 0.3725062643037784, 0.36608085295563875, 0.3617896732430457, 0.36212726645406734, 0.3766447091517202, 0.3606912776528901, 0.34224984304859163, 0.3252356717151361, 0.33700821173655715, 0.35354866079062086, 0.3141543487815266, 0.32174257914407445, 0.31624093872945114, 0.3142452100955184, 0.30748678236906457, 0.307027576554018, 0.31569725909298363, 0.34320622125480105, 0.3625490105031055, 0.3605221281499911, 0.36406501773421773, 0.35080679566136075, 0.36372843396732035, 0.3626333263462733, 0.3678395733173221, 0.3657453161056372, 0.3801827303522738, 0.38075686128824104, 0.3625490105031055, 0.35797956666717345, 0.3353394733382893, 0.3245206751561991, 0.3237153587984314, 0.33207742583443123, 0.32487827216483023, 0.3166031382739667, 0.31315403158055855, 0.29730822198635876, 0.2899924587823901, 0.27385213941877096, 0.3195835759386303, 0.3145177175316496, 0.30555592477513693, 0.31041800988284995, 0.3078539125939721, 0.3078539125939721, 0.3003786322266908, 0.30213985935194154, 0.3052796171640426, 0.312061010376548, 0.3013061912406352, 0.28125596282528154, 0.26410860800001146, 0.2601697516686179, 0.276457938117288, 0.2807777577284214, 0.2744321130858549, 0.2723999275258362, 0.26086078414241953, 0.26076211037606356, 0.2697777069136289, 0.2606634215645349, 0.26606908373529325, 0.27587977767763183, 0.31460852785367344, 0.30748678236906457, 0.3121521660092821, 0.3212933803133873, 0.31904269799421003, 0.3184111019332039, 0.3086791950068979, 0.3019546925450265, 0.31460852785367344, 0.4146938960926829, 0.4211958699050311, 0.4081259431638311, 0.41360385517966414, 0.4096173950170243, 0.4067885668538427, 0.40607942378912343, 0.40663104663667227, 0.40985257357075033, 0.40977419021380834, 0.4121215715433344, 0.42816674050320414, 0.42847143655174413, 0.4362683624389154, 0.4352140855370319, 0.4337805288731338, 0.4205794407449539, 0.42065652650329666, 0.41593741341880897, 0.4165582773217227, 0.4232719946868433, 0.43204091192283833, 0.44952513713025777, 0.44001968028389715, 0.4161703071793399, 0.419499275043286, 0.4274806494993917, 0.42204250255571063, 0.42572399456652743, 0.42831910645709925, 0.42778566862339584, 0.4270991733469227, 0.44419550489184223, 0.4567095529233858, 0.45371352461760983, 0.450629974785425, 0.44827070366734834, 0.45334720474300694, 0.44738375516382956, 0.45947403072692206, 0.45751101148931683, 0.44738375516382956, 0.431055578001172, 0.41461609687759315, 0.4149272376451081, 0.41934481839796156, 0.4102443480329012, 0.39654918188175126, 0.40560622973673865, 0.4087543418240247, 0.3880935331949291, 0.39782801770238496, 0.39494707569455834, 0.3734189952108471, 0.3805928758378685, 0.38541306644347006, 0.3928583913949564, 0.3915696889898199, 0.37217404278017074, 0.38655159016563045, 0.3790329384031357, 0.4007756837064118, 0.4104009914434332, 0.4285475881571217, 0.41733352064012896, 0.42687017968836605, 0.4161703071793399, 0.4073395859183302, 0.4041054955463119, 0.40085516434372614, 0.39958230145728413, 0.3953479741707744, 0.3999007519282385, 0.39350178167572647, 0.4025220071255413, 0.39462617803346944, 0.38345664005970814, 0.3918921052202262, 0.39462617803346944, 0.3859012504282662, 0.36658383231198943, 0.3808388384359862, 0.37474431037911327, 0.37532328351644795, 0.37639714725573636, 0.3972688379102327, 0.39974154627766145, 0.39197268418941356, 0.3960689662773129, 0.3956685142635745, 0.39438540033741054, 0.38533166663588503, 0.3897935231600407, 0.41857198180565414, 0.42211941427455324, 0.439720373656987, 0.44434414436181635, 0.44076734187697664, 0.43310036591458534, 0.43807170858572686, 0.43325157501915346, 0.4397952132904357, 0.4415141408165906, 0.44760560626082935, 0.4461992633421725, 0.46683661240781005, 0.45758382217268956, 0.46150348546200215, 0.4572196868217868, 0.4580205143533109, 0.45940143237911935, 0.46345445153498943, 0.4619375419681484, 0.4613587352502484, 0.45882035226453644, 0.49855960438747404, 0.4898909404036944, 0.48565212717369777, 0.48857362852334507, 0.4868362286258927, 0.5122191810180516, 0.5228376998082238, 0.5293868862036692, 0.521981417446622, 0.5164210388227426, 0.524021454481288, 0.5186774257435278, 0.500129524808151, 0.48753174832441015, 0.500129524808151, 0.47779636713440166, 0.4710574379297716, 0.4665494559837753, 0.44434414436181635, 0.45158597761775576, 0.46266032324834816, 0.4721973401623796, 0.47779636713440166, 0.4872536301251982, 0.48718408189871365, 0.49044479695190546, 0.49175830990619707, 0.5018996442240438, 0.5046811875579351, 0.49595745090079957, 0.5061012645996472, 0.5100744117144198, 0.5119514731994657, 0.5089993560217634, 0.5186111735740488, 0.5192071991057485, 0.5076530204990743, 0.5049519187421225, 0.5404347011942803, 0.5518008491500415, 0.5463014460268498, 0.5434384860719961, 0.5530585014823068, 0.5575659228302148, 0.576743299216274, 0.558936952855805, 0.5683923496408974, 0.5938959500405256, 0.5967208342590835, 0.5915916185913801, 0.5993580125746139, 0.5907624175291941, 0.5880899105793671, 0.5958981824943925, 0.5687603495953715, 0.5754701978877002, 0.573221003695823, 0.583670985571553, 0.6059332760541327, 0.5927743518015411, 0.5830715129259785, 0.5589992034515885, 0.5613603005911263, 0.58163050920834, 0.5738904998541319, 0.5476965198030985, 0.528800165599216, 0.5387670246401255, 0.5479498468392712, 0.548709233593363, 0.5539374063669427, 0.5643304804992746, 0.5662415031403478, 0.5041393852292106, 0.5102757860180898, 0.48586124372362693, 0.4659747606570881, 0.46554340404721506, 0.48334737493727653, 0.4801209349899591, 0.49148200229510275, 0.4878097470698668, 0.48794870167949433, 0.48173616537203845, 0.48446585551655996, 0.4885042219961049, 0.5005384437872098, 0.4938268657389502, 0.49182736838256647, 0.4926554958897049, 0.4968488390812089, 0.5021035776088607, 0.48905926593120874, 0.5004021661639761, 0.5102757860180898, 0.5107454158893394, 0.5126205352490754, 0.5075182327915573, 0.5248750439936973, 0.510678346766523, 0.5126205352490754, 0.5073159985861442, 0.5098729747391464, 0.5120184105353913, 0.5138231068424237, 0.5111476847457674, 0.5096714750532478, 0.5105441876678651, 0.49444614555256994, 0.5008790123660534, 0.5016276330541825, 0.4986962704709965, 0.5024433238605113, 0.49595745090079957, 0.48787922810360396, 0.49650614273754456, 0.49175830990619707, 0.5077877801433583, 0.5187436711321691, 0.5140900418164756, 0.5127542647059884, 0.5225743489474421, 0.5179482786275771, 0.5228376998082238, 0.5146235817285283, 0.502035606953072, 0.49862794103634256, 0.5035971289870775, 0.4947899340395163, 0.5071137011726652, 0.4993109109943603, 0.4940333581857992, 0.5026470860435759, 0.5026470860435759, 0.4864185577773541, 0.5075182327915573, 0.4972598353290061, 0.5114157251550888, 0.5155562195976153, 0.5173510921458844, 0.5246781616897738, 0.5454756686540247, 0.5295823416087959, 0.533932203823853, 0.533932203823853, 0.5250062655996532, 0.5337380577735575, 0.525727509280701, 0.5246781616897738, 0.5349666670454054, 0.5274290789966001, 0.5342556512190999, 0.5396655382170636, 0.5418424637385124, 0.5543137148479835, 0.5509190362491241, 0.5568793172148618, 0.5501622392390111, 0.5480764731859837, 0.5387670246401255, 0.5193395747211311, 0.5173510921458844, 0.5201332603744269, 0.5244812194794735, 0.5271022012717808, 0.5205957946173871, 0.5090665993410441, 0.5032579879946923, 0.4977390013372589, 0.5038683138948499, 0.5165539854328758, 0.5120184105353913, 0.5056282516867951, 0.49465244055643787, 0.5014915845893291, 0.497122865575208, 0.5096042945488382, 0.49465244055643787, 0.508393851573214, 0.5046134870642636, 0.5033936657164255, 0.48488478793840706, 0.4947211909488929, 0.4943773659372712, 0.49258652571870254, 0.48912861296820154, 0.4947211909488929, 0.4940333581857992, 0.48794870167949433, 0.4756758544727524, 0.48662742689200256, 0.4849545836541336, 0.4689862343410369, 0.4689862343410369, 0.46143111440259243, 0.4624435735999004, 0.45539593084153607, 0.460851854429567, 0.4484922510147653, 0.4523938016587108, 0.40489578937973203, 0.40946056182770363, 0.41965369483864023, 0.4205794407449539, 0.43158632880513004, 0.4194220513279694, 0.4398700442714034, 0.41756591268469023, 0.42296484053745154, 0.41733352064012896, 0.41864930700366276, 0.41756591268469023, 0.4142269604688549, 0.4234255171185777, 0.4234255171185777, 0.4398700442714034, 0.4329491214766601, 0.4385967394951127, 0.4409167706134496, 0.43829677398439904, 0.42003958322374135, 0.4125900279467696, 0.430524391619977, 0.4282429279636131, 0.44293068930736545, 0.4530539994971514, 0.4507035636171972, 0.44367499777158503, 0.42557101641191375, 0.4306762036458065, 0.4219655816964889, 0.42111884835806634, 0.4073395859183302, 0.399980340070873, 0.38833666244182163, 0.37399915454082366, 0.36229599705177984, 0.3597604078760783, 0.36229599705177984, 0.3782927063988981, 0.4177982213200102, 0.4208106704833434, 0.41880392969172675, 0.4205023458048167, 0.42265754055819116, 0.4228880292195951, 0.4161703071793399, 0.4105575969533084, 0.4093821309800876, 0.40584287000596087, 0.39758842837180985, 0.37944381289745044, 0.379936518251736, 0.38752587620382206, 0.3803468197356241, 0.39526781433796954, 0.3893082671814261, 0.3707601958092859, 0.38247620477631594, 0.3942248320981454, 0.3944656695220061, 0.3889845609635474, 0.4064734880747558, 0.41298014945165384, 0.40891134620785285, 0.3942248320981454, 0.34805326608803977, 0.3577247603247349, 0.36540960522199084, 0.3829666080596512, 0.3895509406464295, 0.39518764457640554, 0.3847615811653582, 0.3777163845413063, 0.36884241494207215, 0.37927949439716224, 0.4025220071255413, 0.41795304743464845, 0.42610628184310606, 0.42042524168069706, 0.4265647287298142, 0.42610628184310606, 0.42976479692047587, 0.4154713743473186, 0.4162479198143818, 0.4247289896524231, 0.4207336030820308, 0.42908039867513903, 0.4405431340683177, 0.4358920320782014, 0.43671967023348746, 0.4405431340683177, 0.42999276894601746, 0.42687017968836605, 0.41383758996492803, 0.3974286528663926, 0.39974154627766145, 0.39854625402815813, 0.40180817148889236, 0.40489578937973203, 0.4130581455437117, 0.4034725649796469, 0.4117309320425768, 0.41523822891555184, 0.4230416427409427, 0.40552733041694067, 0.4074969338148531, 0.40576399952890485, 0.41298014945165384, 0.4053695029181932, 0.40607942378912343, 0.39221436092474704, 0.4162479198143818, 0.4168684860835481, 0.40985257357075033, 0.40529057473455055, 0.41609268523655185, 0.41391548280684853, 0.4211958699050311, 0.4290043097349283, 0.42580047008728306, 0.42908039867513903, 0.42296484053745154, 0.43158632880513004, 0.4724820023194294, 0.4589656712074812, 0.4526873060596861, 0.45823875000668224, 0.46323796770360826, 0.4591835884653026, 0.45173292972853796, 0.44708783536479757, 0.44871372255470465, 0.4487875295642101, 0.4420363878605551, 0.4387466701349214, 0.4509978353063575, 0.4624435735999004, 0.44959885167611047, 0.4479751891916486, 0.45055637758605505, 0.4473097878968324, 0.4493776828480027, 0.44834456120941013, 0.44745771397887424, 0.4447155937660767, 0.448935118339028, 0.4424091636406904, 0.440169281710463, 0.44449274970494645, 0.4459769296012248, 0.44516105184915, 0.448935118339028, 0.45867500068764944, 0.454226024388078, 0.4615758484302881, 0.4526873060596861, 0.45055637758605505, 0.4707008063877951, 0.46092429028316584, 0.4576566246663445, 0.45400643131755514, 0.460851854429567, 0.46525567318265937, 0.45947403072692206, 0.456490800968679, 0.4647518361837282, 0.4704867331035021, 0.46812724208601564, 0.46077941046853566, 0.4479751891916486, 0.4349879454651484, 0.43415808856951843, 0.4274806494993917, 0.4300687417812661, 0.41360385517966414, 0.41298014945165384, 0.4045007630817463, 0.4022048440325072, 0.40584287000596087, 0.41934481839796156, 0.4232719946868433, 0.4221963168551892, 0.42885210501484794, 0.4250353079587361, 0.4210418176445967, 0.41461609687759315, 0.43694520617949184, 0.44582866466662674, 0.4428562113636487, 0.4306762036458065, 0.4397952132904357, 0.4453094697743958, 0.4547381186769117, 0.4592562112501368, 0.4736904217221931, 0.4722685174395349, 0.4377714995965052, 0.41344798508399005, 0.4274806494993917, 0.4432285154113935, 0.43438451871671413, 0.440169281710463, 0.4440468312793455, 0.45459184736122493, 0.45838419957339704, 0.45940143237911935, 0.45437237838964206, 0.43934604563246626, 0.42380916396115254, 0.4053695029181932, 0.39910433178449267, 0.3736676986026324, 0.3846800993789903, 0.36917635049399555, 0.38239443475925805, 0.38198542964665405, 0.3909243743110822, 0.3878503125861328, 0.38565720446201457, 0.3933409940536947, 0.37614949063547476, 0.38329333727868287, 0.3938232371425565, 0.3891464343091853, 0.3932605852618454, 0.39702904146322027, 0.395107464883623, 0.38198542964665405, 0.38793139627795936, 0.38263971382585504, 0.37812809536821446, 0.37969021245724077, 0.3821490627076085, 0.3656614047074309, 0.3680068215273371, 0.37944381289745044, 0.39430512119694683, 0.3869577209244901, 0.38516883630316245, 0.39958230145728413, 0.4060005821337289, 0.36708642110583956, 0.3782927063988981, 0.3235362634544119, 0.296468303315768, 0.28383218283542044, 0.288481514252275, 0.29935677966270635, 0.295627293290214, 0.29131164805375853, 0.1517115831078466, 0.16751725718721122, 0.18316868156803112, 0.20029503500740953, 0.1882660416203481, 0.21274254496092393, 0.18694016085115406, 0.20472198918002205, 0.19823320732473393, 0.1925564919692735, 0.20061998718685192, 0.19310449857991063, 0.19758073693766764, 0.197254254928648, 0.20783506699579757, 0.1949642581076576, 0.1914590848410742, 0.18903821963849676, 0.19551023078377483, 0.18505716822066853, 0.17544657228884342, 0.1860547290179162, 0.18848675792910585, 0.18238946503499776, 0.20687054076011213, 0.20256628171135382, 0.20794214790747523, 0.21814029990150408, 0.2263095902899397, 0.21018676446673634, 0.19233715934461992, 0.19899359240574332, 0.21125289972534445, 0.20396830798630194, 0.19046982505396137, 0.18947905096434647, 0.19277575029425575, 0.17273887901458895, 0.18116308343293142, 0.1806048681597301, 0.17081405302230435, 0.16831457431119645, 0.1598356883029397, 0.1662623424976788, 0.17555914739464207, 0.17398131134107242, 0.16956552019136417, 0.1692245928360192, 0.17024683664286266, 0.16500499000324398, 0.16190836579818768, 0.17013333369313566, 0.1497231005326003, 0.14111419315949858, 0.13610873203130902, 0.12415469271416812, 0.1208558152818342, 0.11383580879382205, 0.11457835254924875, 0.11185151731699028, 0.07188983140235061, 0.07452683064640597, 0.07963828217756763, 0.07859306504423769, 0.06884394074998834, 0.07570998424537034, 0.008798285486475432, 0.01690349691930626, 0.027602097015016813, 0.02391324117336291, 0.00543973015807353, 0.016327907224496396, 0.020918356034416163, 0.010253108686426593, 0.011994591089006246, 0.0, 0.009380607225401683, 0.012574045531609901, 0.017047314399990743, 0.032955963333173965, 0.05746135747173797, 0.06083000548975859, 0.07492145553567076, 0.08445057623529362, 0.06738212794080756, 0.07452683064640597, 0.09153850795367502, 0.09486233805059152, 0.09141032683251948, 0.09473481355620628, 0.07373685833211985, 0.07767711341374595, 0.07793894617183028, 0.08948455757742346, 0.07122889948628774, 0.0746583990113594, 0.07570998424537034, 0.08016025847130726, 0.08094243448088712, 0.07439523553175986, 0.08315348047221871, 0.104607031612022, 0.10448141286943313, 0.11507290888212296, 0.12097829623009648, 0.10861401252964153, 0.09892991196632694, 0.09905661267518973, 0.1025942002315392, 0.11160305260408965, 0.11433093260389748, 0.11085708567269892, 0.10673882849714644, 0.09409681392923241, 0.09791541243393098, 0.09588163049614051, 0.11048377955690514, 0.10032225752344326, 0.08999865654738892, 0.10911314543978934, 0.10948724268697774, 0.10711430017111478, 0.10661362285420672, 0.10372718799967418, 0.18705075471202237, 0.18238946503499776, 0.18450230271805612, 0.17420695212047432, 0.17769436259852922, 0.18660826584217682, 0.17600925212012353, 0.1688834858088053, 0.17364270261289017, 0.15902785116783003, 0.15101046308714183, 0.15147796080999942, 0.15089353587714793, 0.1512442541567447, 0.16363054127760845, 0.16098799512172857, 0.16557681667632318, 0.18026970776431028, 0.1954010730857072, 0.19866782246220405, 0.1980157902688906, 0.1900296682405629, 0.20051168791961071, 0.197254254928648, 0.20472198918002205, 0.20353723866023898, 0.19627381964525537, 0.19910214596057374, 0.20911887019848985, 0.21919342504298056, 0.22453787037267992, 0.22516373720870675, 0.23004553468332167, 0.24467617917581608, 0.24669631367824651, 0.2448784765892955, 0.23683925760988211, 0.23252423783389098, 0.21929864337518934, 0.2184564174018826, 0.21454680286054106, 0.2060119757936869, 0.211359416728655, 0.21359223404804206, 0.21157239816169193, 0.2258931511125324, 0.18716132967926136, 0.15077658754018586, 0.16190836579818768, 0.16649068985201732, 0.1723996195139459, 0.1812746687395017, 0.1652337812990723, 0.17330391664904043, 0.1803814471809293, 0.1941991218226402, 0.19845055137283296, 0.21539412822345438, 0.213379916326224, 0.21422876965334403, 0.2250594680873923, 0.23025245622253898, 0.2863033333845926, 0.3024175102759785, 0.30922879925941604, 0.31705560286363266, 0.3252356717151361, 0.3271978493955805, 0.32799884710831684, 0.32977530100008323, 0.3298639958366949, 0.3255035919269611, 0.30389630702186077, 0.30656804471422694, 0.305924151534696, 0.31187866058828506, 0.31288094927463383, 0.31687465498178335, 0.30950342647624707, 0.31224330880590623, 0.3127898962296558, 0.31087481741762657, 0.3103266096752342, 0.30665997718638716, 0.32156293701992444, 0.32862116073143843, 0.330750276365642, 0.3437272870839556, 0.34485482604904316, 0.34346680660455675, 0.34103058704108635, 0.3495175370799295, 0.3407690188139827, 0.33296068275255575, 0.33692049057776474, 0.33692049057776474, 0.3334900589291414, 0.32790989629815037, 0.34181465808688793, 0.330750276365642, 0.335954772357141, 0.33092738693431034, 0.3326958322124791, 0.33322542496191465, 0.32505699660864407, 0.3271978493955805, 0.3304845196100472, 0.3337545847427106, 0.3371836183959389, 0.3334018596281725, 0.33393087524336673, 0.3353394733382893, 0.3375342891720412, 0.330750276365642, 0.33313718959007144, 0.33542740901795165, 0.3251463403273531, 0.3388476150926958, 0.3412920496054004, 0.3387601428891487, 0.3313699514432846, 0.33357824621303855, 0.33190062972047807, 0.33030728779920304, 0.3298639958366949, 0.3288876835143517, 0.33119296195102566, 0.33437139153965934, 0.3323425294912843, 0.3292428765918114, 0.3385851630099652, 0.3318122135507955, 0.3327841277680572, 0.3541468986339762, 0.37001043639442033, 0.3778811002997111, 0.37267231114131283, 0.37515791546006616, 0.3706769320838017, 0.362801925088867, 0.37200786805033426, 0.3684247530774414, 0.36431734074533706, 0.3630547408862972, 0.3598450877439503, 0.3545738730997261, 0.37499250514248894, 0.3768096978268827, 0.3890655026968055, 0.3904399657297901, 0.39253645626314704, 0.39084366471946197, 0.38402787554835394, 0.38768811472307174, 0.38833666244182163, 0.4022048440325072, 0.3984664893390235, 0.37325313984308295, 0.37919731950094837, 0.39100507383978966, 0.3937428882418068, 0.3986260088886069, 0.3953479741707744, 0.393983905027, 0.39205325312823147, 0.38947005960050607, 0.3967091746076079, 0.40985257357075033, 0.3956685142635745, 0.4003781340537449, 0.4041845683665386, 0.4045797876309143, 0.38557583535396134, 0.39027841560561205, 0.39100507383978966, 0.38500596499652584, 0.3820672513481922, 0.37895073219623576, 0.3801827303522738, 0.38516883630316245, 0.38492451397154426, 0.40133184331641303, 0.3937428882418068, 0.4011729893288303, 0.40607942378912343, 0.4035517151563477, 0.4053695029181932, 0.4012524211960411, 0.4114182506021198, 0.41071416458086407, 0.4103226744768955, 0.4056851194399451, 0.42564751000878376, 0.42778566862339584, 0.4225806927612288, 0.4447898580733298, 0.4438237568090493, 0.44760560626082935, 0.44501259988309627, 0.4509978353063575, 0.45794775278062394, 0.46099671803114717, 0.46172055010072244, 0.4638150970946402, 0.4654714833216391, 0.4649678143524052, 0.4681988683317764, 0.4699869532558134, 0.4709861273398075, 0.4723396868902814, 0.4742583099526647, 0.48222695822273387, 0.478078577982195, 0.4708434825856962, 0.4727665393364999, 0.4696297312316471, 0.4647518361837282, 0.4709861273398075, 0.46338229830274713, 0.4633101370262178, 0.4572925302824635, 0.4607069583982568, 0.4636708629839239, 0.4607069583982568, 0.46482383691456164, 0.4646798274425783, 0.46827048665208837, 0.4733352383904692, 0.4802615499305851, 0.4839767580696228, 0.4840466517654045, 0.4664058299831506, 0.4744711396479535, 0.4736904217221931, 0.47786693138294956, 0.4790653480707645, 0.48075346179228573, 0.4786426308014722, 0.4756758544727524, 0.48075346179228573, 0.47744343045017956, 0.4813853710600755, 0.4737614350054016, 0.4763834642176139, 0.4820867696648632, 0.48341733662670894, 0.48278740901576267, 0.4742583099526647, 0.47134260174941156, 0.47503834360070174, 0.47758462821888026, 0.4784311685934952, 0.478783567235161, 0.47162763998771107, 0.4872536301251982, 0.4867666355319966, 0.49306916265015843, 0.49540829352844984, 0.49451491785982826, 0.49767057076478327, 0.48954453923451746, 0.48418641651851946, 0.4855126785963706, 0.49348256519933553, 0.4977390013372589, 0.4941021743646057, 0.4947211909488929, 0.4901679279201323, 0.48815707767608707, 0.49814943291040237, 0.4980810457193452, 0.4816660217177664, 0.48173616537203845, 0.48341733662670894, 0.5021715411274998, 0.4996521259156257, 0.5074508284104335, 0.5124867781563984, 0.5127542647059884, 0.5122860906753348, 0.5150234482378431, 0.5166869047411069, 0.5029865471984483, 0.4790653480707645, 0.4803318459468544, 0.4857218401975314, 0.4699155246215021, 0.44827070366734834, 0.44627335762067544, 0.456928230971243, 0.450629974785425, 0.44900890010817696, 0.45173292972853796, 0.4567095529233858, 0.45261394243601316, 0.4656153167820438, 0.468700030237696, 0.4721261550570941, 0.4702725889926467, 0.46012704968511464, 0.4625158315479694, 0.443972481664749, 0.4467917802107926, 0.43528944800660074, 0.4454578536744398, 0.44738375516382956, 0.4523938016587108, 0.45349375757260635, 0.45510365241292616, 0.4567095529233858, 0.454664987151026, 0.45371352461760983, 0.47305095132356945, 0.4727665393364999, 0.48159587046108276, 0.48355723732306277, 0.4816660217177664, 0.4818063014255456, 0.4824371841442998, 0.48229704111697824, 0.4797692639304203, 0.4818764298799354, 0.4847451739238111, 0.4873927041629398, 0.48054268819938084, 0.48278740901576267, 0.4873927041629398, 0.48968312194977903, 0.48954453923451746, 0.4862792742456872, 0.4797692639304203, 0.4794174016933459, 0.5207939224397062, 0.5025112517158665, 0.511750619646524, 0.5057634335104191, 0.5091338356750947, 0.5140900418164756, 0.5332848237247156, 0.536257425413464, 0.5390880655519985, 0.551234107359448, 0.5633419341915609, 0.564885875024693, 0.5772881484391528, 0.584150164249118, 0.5804272172292055, 0.5780139013492334, 0.579282014079582, 0.5744985323733971, 0.5720629676211919, 0.5818708993946351, 0.5930696977200398, 0.5979528547491144, 0.5998257214336671, 0.5968969808295426, 0.5953099332771696, 0.5935419710493899, 0.5961921067395588, 0.5899321528040016, 0.5904067201933554, 0.5806680546530663, 0.5825315124198078, 0.5907624175291941, 0.5907031482128065, 0.590643873468577, 0.5963096390749394, 0.5989484898977704, 0.5988899655006819, 0.6047163669752833, 0.6043682580196932, 0.6062226793986185, 0.6058753798539818, 0.6072634613135031, 0.613759302888262, 0.61638506944746, 0.6250427442824518, 0.6275672350764641, 0.6331422098459654, 0.6375678720060409, 0.642729649893397, 0.6469274573072279, 0.6497470168968058, 0.6458397323740495, 0.6463838233351056, 0.6569566987787674, 0.6513681161809295, 0.6500715617318646, 0.6469817955995958, 0.6457852981139647, 0.6405381781226676, 0.6474706350574331, 0.6540609581794885, 0.6547055766102208, 0.6569566987787674, 0.6632397003334924, 0.6615949789563338, 0.6649331047998182, 0.6581327407707587, 0.6662002569836276, 0.669094824665375, 0.6732821306760117, 0.680184126380817, 0.6708253720833484, 0.6741163509547401, 0.684403103693338, 0.6901723640805697, 0.648609826731668, 0.6523388304309372, 0.6752616510622684, 0.6247054003367549, 0.6216048603917956, 0.6335306656371182, 0.6365747330979636, 0.6494223092466052, 0.6575984411125835, 0.6519615034176187, 0.6617543283238017, 0.6584531089850993, 0.6719242253285915, 0.6980032240094176, 0.6942259271598981, 0.6966459352228598, 0.6893077016852143, 0.6919489224574629, 0.691289627011697, 0.6882379920841317, 0.686451204663916, 0.6798226925248203, 0.6899181714962404, 0.7037028255610731, 0.7096979936858654, 0.7097966223442138, 0.7080190029411058, 0.6999086732960116, 0.6996582765389885, 0.7196329258431815, 0.7160289630240859, 0.7141214713954867, 0.7295611634865953, 0.7309944027107593, 0.7329480445175793, 0.7360332472200937, 0.7420191498716981, 0.7378301158221223, 0.740469073381925, 0.7961755797704062, 0.6784266968271098, 0.6449137267731642, 0.6718719412646541, 0.6818338300387787, 0.6662530011933425, 0.6320310497976864, 0.6273432341850929, 0.6122704484055177, 0.5863020890693353, 0.6135876866684686, 0.6330311796425612, 0.6521771457881482, 0.6751576165737121, 0.670982465381921, 0.6758335420397326, 0.6708777407527533, 0.6674122877135904, 0.6793576950893407, 0.6854791647377909, 0.6968471947298167, 0.6978023236992272, 0.7122083416387519, 0.6711918638208738, 0.6316973294659012, 0.6421824771757487, 0.6545981847783566, 0.6742726476277316, 0.6704586727101702, 0.6825028229346755, 0.6894094866467637, 0.6731255946030594, 0.6768720509976385, 0.6808032581003971, 0.6754176714485025, 0.6812156838055712, 0.6841466347875143, 0.6747933641233619, 0.662974705214475, 0.662762630976288, 0.6834793396414458, 0.6696721880625978, 0.6514760452405688, 0.6585598631613525, 0.6543296272170753, 0.6510442209769267, 0.6615418537813413, 0.6614355903483067, 0.6444229516435032, 0.6542759023306233, 0.6611166953332379, 0.65973299847357, 0.6632397003334924, 0.6589333641802586, 0.6923036497307069, 0.7128466800737607, 0.740045680182801, 0.7308034874172411, 0.7329956207290866, 0.728076807915087, 0.722975394018293, 0.7115693730331842, 0.7154426410371433, 0.7185635720011501, 0.7195843571590212, 0.7193900459689826, 0.7158335813701511, 0.7176873301220725, 0.7248570078213361, 0.7319004821229775, 0.7351329388049375, 0.7448747061411489, 0.7693038848794931, 0.7699332874412961, 0.7572732807076412, 0.7565855697495572, 0.7449214137413249, 0.7399044875476313, 0.7468335290733519, 0.7454349750089895, 0.7365539065966464, 0.7432846389143384, 0.7364119501163842, 0.7348958072510272, 0.7346585887879877, 0.7423005835608163, 0.7397632641056746, 0.7783708561514673, 0.7633846265800139, 0.7853849197137737, 0.7917592432803362, 0.7973395835055279, 0.7946203113348775, 0.7931480072711605, 0.7886672414095393, 0.7995754875157748, 0.7972534327574761, 0.7981574442078383, 0.8023595494461802, 0.8015469846155505, 0.8055145877807268, 0.8048762945409123, 0.7962187283700795, 0.7745897864401017, 0.7781934178475236, 0.7620669058464804, 0.7792130244479236, 0.7829672605271085, 0.8460685599943019, 0.8394432132771845, 0.8300113440937449, 0.8284943338621074, 0.8166885339560297, 0.8194833559528294, 0.8114839750412304, 0.8185252991385497, 0.8176075680927197, 0.8184002305923825, 0.8178579874545586, 0.8129992921468103, 0.804748560322988, 0.8058122426809637, 0.8002190270602143, 0.7927143385318831, 0.8011189088266937, 0.7995325621207159, 0.7909767520677748, 0.7716385870222155, 0.7724000320202928, 0.7723552659263402, 0.7877935818732897, 0.7937979660563137, 0.8021030602139119, 0.8092466155549438, 0.8083156240559881, 0.812199983552556, 0.8098806155754263, 0.804493016237616, 0.8058122426809637, 0.8049188670123426, 0.8044504157459986, 0.7999616880193221, 0.8031284078646332, 0.8033844911792141, 0.814385223233546, 0.8164376616392617, 0.8020603021251, 0.7963050169409525, 0.7896704941689952, 0.7980283769929821, 0.8159774763591883, 0.8100918109860373, 0.8080191184401153, 0.8009904308623668, 0.8124945805200992, 0.8044504157459986, 0.8123262558148636, 0.8133775677588906, 0.8145530134014738, 0.8157263282337484, 0.8485804543507687, 0.825738233975922, 0.8106827917854735, 0.7994037688521272, 0.8089928415586884, 0.8051316873769863, 0.8110202529866317, 0.8300522950645703, 0.8208970212768851, 0.8208554869252072, 0.8218101033469707, 0.8222661618010147, 0.8154331988667147, 0.8156425905314313, 0.8196082154013387, 0.8237978225879754, 0.80051912668368, 0.7912376875960652, 0.7666898201180574, 0.7583721006404893, 0.7863494604681369, 0.7699332874412961, 0.7890600037937339, 0.7881868746054006, 0.7769499858399636, 0.7536430986763225, 0.7793016100320154, 0.7760603553388892, 0.74925055375618, 0.7589208118587916, 0.7457615746903912, 0.7339939141921872, 0.7452015885826486, 0.757914485682825, 0.772623816059157, 0.7577313490701134, 0.7649714147470563, 0.7653335636272045, 0.7937979660563137, 0.8032564621867762, 0.7997042466228255, 0.7880558035794389, 0.7983724990555352, 0.8060247695484648, 0.8286995431372035, 0.825738233975922, 0.8106827917854735, 0.789234488380087, 0.7944040059593527, 0.8089505362173774, 0.8128310986633305, 0.8055996460066406, 0.8369765695697304, 0.8439077214658783, 0.8669798578971446, 0.85246857170528, 0.8319332444065921, 0.8479832678690755, 0.8347444589270578, 0.8513996846237819, 0.8559008047513079, 0.8484610611258794, 0.8436270838459401, 0.8321781831301047, 0.8086966460850067, 0.8148884633023012, 0.8247068244942581, 0.8092889015490896, 0.7741881416433731, 0.7722657244488293, 0.8084426563227574, 0.8144691237546504, 0.8313613599914622, 0.7381133764696015, 0.7335187283774673, 0.706880740378323, 0.7464608767022614, 0.7685838174219333, 0.7822181533409474, 0.7976410208539861, 0.7913246427341227, 0.7817770967179798, 0.7706069688355899, 0.7836275182291237, 0.7706518560070879, 0.7693038848794931, 0.7859988846604278, 0.7876187083648549, 0.7995325621207159, 0.788143187212508, 0.7937113425860081, 0.7879684081473379, 0.7752140722596481, 0.7803636924294843, 0.8007762442330724, 0.7983724990555352, 0.8086119939047709, 0.8223904856293878, 0.8257794561884095, 0.8228047260077886, 0.8286174672343343, 0.8337680294465217, 0.8591975040812172, 0.8657797039722848, 0.8694505776112527, 0.8759679931453546, 0.8773397716224367, 0.8800746372511985, 0.880188339591264, 0.8899300987227878, 0.8927982468181015, 0.8963933718860471, 0.8996745169900651, 0.8840423823886439, 0.9076782255737132, 0.885960831997441, 0.8873490978587162, 0.8776442168628371, 0.8735603627095965, 0.8738665904374248, 0.8898927663179239, 0.8964303312333328, 0.9025731241962869, 0.9115169074644243, 0.9197686477918929, 0.9237136844772387, 0.9268242824627504, 0.931392302183037, 0.9431548249877371, 0.9273530099822742, 0.915404742372445, 0.9193407135157035, 0.9033048942789348, 0.9069513860036107, 0.9160145946927849, 0.9294284911802437, 0.9320922217637144, 0.9362064118260238, 0.9191623240293727, 0.9346753630478766, 0.9372135356512539, 0.9343617473254402, 0.9468235309244104, 0.9574374912659289, 0.9586807503663648, 0.9564276872712671, 0.9486330681792805, 0.9460024507540532, 0.9426388544803892, 0.9544709209640647, 0.969664902067028, 0.9774726822728992, 0.9828955583470087, 0.981438770495568, 0.9868286565399695, 0.9956075589213231, 0.9902905834476172, 0.9823779649014659, 0.9929067720871898, 0.9907060510534915, 0.9664223558836667, 0.9747932283922403, 0.9748587130714905, 0.9826044629658224, 0.9560907355383423, 0.9756440128826926, 0.9864428524936817, 1.0, 0.9940520107861395, 0.973646172727562, 0.9895868763102738, 0.9943062333224626, 0.9716092421957199, 0.9758401890518522, 0.9612938773316193, 0.9534903149459408, 0.9528809148462711, 0.9032317544891337, 0.8736369332253795, 0.893726737250109, 0.8785187000980805, 0.8653533074148219, 0.8742491714682816, 0.8847953934318209, 0.8962085434861624, 0.8992330843597172, 0.8940606680163472, 0.8706439503966918, 0.8651593978986591, 0.8759679931453546, 0.8900794068132214, 0.9030122855175504, 0.8899674289745017, 0.8978701020935009, 0.880491448216675, 0.8857354269562783, 0.8834770486387034, 0.8664768384487775, 0.8724874232692734, 0.8733305967969391, 0.8751282505895452, 0.8740579092201601, 0.8584140973417171, 0.850924056505018, 0.8639947192569766, 0.8714127022765501, 0.8760442793814214, 0.88554752944018, 0.8858481392890241, 0.8924264773827462, 0.8934668941597548, 0.9123828911848539, 0.9208728369072752, 0.9097814563454194, 0.9162296995698593, 0.9079687330153758, 0.9080776396987966, 0.9057138824296835, 0.9041454083620253, 0.8940606680163472, 0.9047659571322102, 0.8486998255561895, 0.8205646718117352, 0.8173988112551873, 0.8203152976729702, 0.8325454175054361, 0.8277550412983987, 0.8309525615384374, 0.8298065503666265, 0.8093734652504327, 0.762294290556059, 0.768493752637935, 0.7705620785509262, 0.7716385870222155, 0.7878810009130177, 0.788143187212508, 0.7203610191021088, 0.717346248773862, 0.7063356455054866, 0.7156381407197165, 0.7314714447202362, 0.7581433336041559, 0.7622488200042712, 0.7761493734340861, 0.7870500429412535]}, {\"name\": \"Test\", \"type\": \"scatter\", \"x\": [2056, 2057, 2058, 2059, 2060, 2061, 2062, 2063, 2064, 2065, 2066, 2067, 2068, 2069, 2070, 2071, 2072, 2073, 2074, 2075, 2076, 2077, 2078, 2079, 2080, 2081, 2082, 2083, 2084, 2085, 2086, 2087, 2088, 2089, 2090, 2091, 2092, 2093, 2094, 2095, 2096, 2097, 2098, 2099, 2100, 2101, 2102, 2103, 2104, 2105, 2106, 2107, 2108, 2109, 2110, 2111, 2112, 2113, 2114, 2115, 2116, 2117, 2118, 2119, 2120, 2121, 2122, 2123, 2124, 2125, 2126, 2127, 2128, 2129, 2130, 2131, 2132, 2133, 2134, 2135, 2136, 2137, 2138, 2139, 2140, 2141, 2142, 2143, 2144, 2145, 2146, 2147, 2148, 2149, 2150, 2151, 2152, 2153, 2154, 2155, 2156, 2157, 2158, 2159, 2160, 2161, 2162, 2163, 2164, 2165, 2166, 2167, 2168, 2169, 2170, 2171, 2172, 2173, 2174, 2175, 2176, 2177, 2178, 2179, 2180, 2181, 2182, 2183, 2184, 2185, 2186, 2187, 2188, 2189, 2190, 2191, 2192, 2193, 2194, 2195, 2196, 2197, 2198, 2199, 2200, 2201, 2202, 2203, 2204, 2205, 2206, 2207, 2208, 2209, 2210, 2211, 2212, 2213, 2214, 2215, 2216, 2217, 2218, 2219, 2220, 2221, 2222, 2223, 2224, 2225, 2226, 2227, 2228, 2229, 2230, 2231, 2232, 2233, 2234, 2235, 2236, 2237, 2238, 2239, 2240, 2241, 2242, 2243, 2244, 2245, 2246, 2247, 2248, 2249, 2250, 2251, 2252, 2253, 2254, 2255, 2256, 2257, 2258, 2259, 2260, 2261, 2262, 2263, 2264, 2265, 2266, 2267, 2268, 2269, 2270, 2271, 2272, 2273, 2274, 2275, 2276, 2277, 2278, 2279, 2280, 2281, 2282, 2283, 2284, 2285, 2286, 2287, 2288, 2289, 2290, 2291, 2292, 2293, 2294, 2295, 2296, 2297, 2298, 2299, 2300, 2301, 2302, 2303, 2304, 2305, 2306, 2307, 2308, 2309, 2310, 2311, 2312, 2313, 2314, 2315, 2316, 2317, 2318, 2319, 2320, 2321, 2322, 2323, 2324, 2325, 2326, 2327, 2328, 2329, 2330, 2331, 2332, 2333, 2334, 2335, 2336, 2337, 2338, 2339, 2340, 2341, 2342, 2343, 2344, 2345, 2346, 2347, 2348, 2349, 2350, 2351, 2352, 2353, 2354, 2355, 2356, 2357, 2358, 2359, 2360, 2361, 2362, 2363, 2364, 2365, 2366, 2367, 2368, 2369, 2370, 2371, 2372, 2373, 2374, 2375, 2376, 2377, 2378, 2379, 2380, 2381, 2382, 2383, 2384, 2385, 2386, 2387, 2388, 2389, 2390, 2391, 2392, 2393, 2394, 2395, 2396, 2397, 2398, 2399, 2400, 2401, 2402, 2403, 2404, 2405, 2406, 2407, 2408, 2409, 2410, 2411, 2412, 2413, 2414, 2415, 2416, 2417, 2418, 2419, 2420, 2421, 2422, 2423, 2424, 2425, 2426, 2427, 2428, 2429, 2430, 2431, 2432, 2433, 2434, 2435, 2436, 2437, 2438, 2439, 2440, 2441, 2442, 2443, 2444, 2445, 2446, 2447, 2448, 2449, 2450, 2451, 2452, 2453, 2454, 2455, 2456, 2457, 2458, 2459, 2460, 2461, 2462, 2463, 2464, 2465, 2466, 2467, 2468, 2469, 2470, 2471, 2472, 2473, 2474, 2475, 2476, 2477, 2478, 2479, 2480, 2481, 2482, 2483, 2484, 2485, 2486, 2487, 2488, 2489, 2490, 2491, 2492, 2493, 2494, 2495, 2496, 2497, 2498, 2499, 2500, 2501, 2502, 2503, 2504, 2505, 2506, 2507, 2508, 2509, 2510, 2511, 2512, 2513, 2514, 2515, 2516, 2517, 2518, 2519, 2520, 2521, 2522, 2523, 2524, 2525, 2526, 2527, 2528, 2529, 2530, 2531, 2532, 2533, 2534, 2535, 2536, 2537, 2538, 2539, 2540, 2541, 2542, 2543, 2544, 2545, 2546, 2547, 2548, 2549, 2550, 2551, 2552, 2553, 2554, 2555, 2556, 2557, 2558, 2559, 2560, 2561, 2562, 2563, 2564, 2565, 2566, 2567, 2568], \"y\": [0.7838474545420757, 0.7850338209423988, 0.8103029375068638, 0.8150142122071085, 0.8133775677588906, 0.800947599206383, 0.8210216083426496, 0.8123262558148636, 0.7976840718745981, 0.8034271618829347, 0.7995325621207159, 0.8049614366837816, 0.7793458982778958, 0.7921067137324651, 0.7846825316153723, 0.7781490506699926, 0.7964344282318279, 0.8123683410952292, 0.8071712103223154, 0.8110624232683779, 0.8129992921468103, 0.8073832915094283, 0.7935813856396505, 0.8052167959332115, 0.803341817662194, 0.8171899870658752, 0.8147626899620422, 0.8154331988667147, 0.8064071421430259, 0.8050891289018316, 0.8053444377878547, 0.8062797097089818, 0.8090774439467783, 0.8134195847389543, 0.8289046873718005, 0.834663146041378, 0.8236737688129607, 0.8360035041359057, 0.8428647392260542, 0.8309116674888797, 0.850209958348314, 0.8521520484057836, 0.8509637055337396, 0.8535751858807141, 0.8525081262363621, 0.8576689816355669, 0.8607224253288983, 0.8694120450576373, 0.8611128527560816, 0.8615810550086938, 0.8709515607246625, 0.8670572108185586, 0.8878361609131065, 0.8757390804748315, 0.8606052511616369, 0.8612299350746784, 0.8723340009114211, 0.8574727559044417, 0.8425836489226564, 0.8199826492939879, 0.8125787264600453, 0.7936247075210736, 0.8008619273903537, 0.788885472157471, 0.7834515153540327, 0.7937113425860081, 0.7906721942707318, 0.8000903703291313, 0.8221418140879448, 0.8017609163871748, 0.8000045849653001, 0.7915854380781218, 0.7918461283827098, 0.7904545652147967, 0.8006476982257333, 0.8076376972391985, 0.8005619867021814, 0.8109359041796886, 0.8138815915890261, 0.8065770130367667, 0.8038537142702973, 0.820065827417749, 0.8132935256151437, 0.8134615989916161, 0.7976410208539861, 0.8028295158855703, 0.8038963540522, 0.7956143860580518, 0.804748560322988, 0.8051316873769863, 0.7946203113348775, 0.8055996460066406, 0.8020175412114545, 0.7904545652147967, 0.7960029566011846, 0.8093311847807989, 0.7988883393451687, 0.7753032068145167, 0.7910202486283335, 0.789234488380087, 0.8014613921042963, 0.7877498679254016, 0.7932347061620755, 0.8115261151219224, 0.8028722231911294, 0.8277550412983987, 0.8226804817288467, 0.8292737832235528, 0.8223490470065524, 0.8333607486822916, 0.8339308700207901, 0.8452690903161284, 0.8394028521903278, 0.8473057897617413, 0.8467872393750824, 0.8374220694628463, 0.8034271618829347, 0.7832754646065423, 0.7709659790752084, 0.7309944027107593, 0.654544482179765, 0.661063530885456, 0.6549203068333589, 0.6811126020138007, 0.6618074360628396, 0.6360775916079859, 0.5921832553502693, 0.6176371152543494, 0.5715137002154109, 0.5196703953616875, 0.5828315683192793, 0.5069113405115955, 0.5062363476783296, 0.4868362286258927, 0.5349666670454054, 0.5697406611332556, 0.5698630957442625, 0.6101457717818586, 0.6309179788971364, 0.6767163808395567, 0.6283506282704141, 0.654544482179765, 0.6576518909304561, 0.6298029905608402, 0.6419634785036692, 0.6351928405854266, 0.6674122877135904, 0.6706158550242525, 0.7058397060366146, 0.7106343596933145, 0.7032048638738257, 0.7330431934437569, 0.7209429045795606, 0.7294176648563302, 0.7350380966083931, 0.7164683562238707, 0.6780124895852908, 0.6935183837172043, 0.6854791647377909, 0.6943774430364802, 0.7033044868645035, 0.7017086760389324, 0.7278370766003879, 0.7110774291247579, 0.6799259799373365, 0.6850694476364958, 0.6873196889234832, 0.6877790033620315, 0.719778610032376, 0.7529515177053456, 0.7566773067731898, 0.7424412545294197, 0.7273093549493366, 0.7222986064468664, 0.7254829988234524, 0.7470197748322538, 0.7483219967227268, 0.7518434488378265, 0.7354173820392047, 0.726060299800471, 0.7418783871245793, 0.749946098368544, 0.7627033818385023, 0.8226804817288467, 0.8137976148689394, 0.8087389680236989, 0.7935380608584057, 0.7878372928690291, 0.7951823672400113, 0.8041095108363288, 0.7804963302732815, 0.7732947043158416, 0.7341364019350096, 0.7320434314155286, 0.7369795893276478, 0.7491577579754969, 0.7572274560363654, 0.767186402967925, 0.7991461054055882, 0.7874875222206041, 0.7928444696657508, 0.8078496256550789, 0.7937979660563137, 0.7808940807977254, 0.8004333981313487, 0.8168139336598337, 0.8094157429583517, 0.7956575720843668, 0.7924973951515515, 0.7765942803591916, 0.7830993659606027, 0.7874437875965015, 0.7790801233347318, 0.7440801608071816, 0.7433782804899014, 0.7501314507664767, 0.7509186068298508, 0.751196198214731, 0.7742774175840883, 0.7671412748124835, 0.7707864988469084, 0.7612476588314832, 0.755299884314296, 0.7567690307964647, 0.7444541859947971, 0.7507334797440954, 0.7463210767299784, 0.7524900528567957, 0.7660120471120506, 0.7665091500347745, 0.77823778198402, 0.7712799497673504, 0.7621123891794221, 0.7582348501216871, 0.7555296583836473, 0.7548400913212028, 0.7383493323502934, 0.7320434314155286, 0.7347534866063761, 0.745854858623558, 0.7480896491705464, 0.7465074699837237, 0.7461812465557061, 0.7618394412266176, 0.7547020897068442, 0.7679080258638389, 0.7647902642927091, 0.7790801233347318, 0.771728215294762, 0.7574107352586457, 0.7832314444365553, 0.7698434102531828, 0.7397161827767467, 0.7254829988234524, 0.7521206439466281, 0.7506871896980067, 0.7607464969255635, 0.755299884314296, 0.7659216237297914, 0.7736522272520374, 0.757914485682825, 0.7569982840022615, 0.7527669712448581, 0.7634754050611101, 0.7469732184165419, 0.7532743474519008, 0.7591036122749353, 0.7651977815416413, 0.7775275906422605, 0.7682685358330046, 0.7728922548142974, 0.7650166944399048, 0.7745005535773206, 0.7830993659606027, 0.7863932690957998, 0.7972534327574761, 0.8025304858182709, 0.8056846930561234, 0.8175658221112703, 0.8201489948536693, 0.8097538652432559, 0.8073408808309632, 0.7958302873806975, 0.7942741880276141, 0.7948365444472212, 0.7862618343163539, 0.7927143385318831, 0.7635207895276412, 0.7473455760101038, 0.7030055718795922, 0.7023574487829514, 0.6971992483523985, 0.6884418826415457, 0.7130920273225034, 0.7219115527237712, 0.7549320760537044, 0.7528592510524224, 0.755483710094901, 0.7512887022264874, 0.7541037424714099, 0.7443606999587922, 0.7600624683603052, 0.772444795018282, 0.7790801233347318, 0.7841552398801745, 0.7904545652147967, 0.7866122677678802, 0.7915854380781218, 0.7983724990555352, 0.7592863610780571, 0.7610654630331912, 0.7510111505201937, 0.7549780635182275, 0.7575939625972108, 0.7538273955366677, 0.7525823721507989, 0.7503167501004531, 0.7615208564025426, 0.7568607418230666, 0.7599712099083873, 0.7600168407427077, 0.7682234830665395, 0.7729369837849216, 0.7715041213378928, 0.7879247060056542, 0.752166831592072, 0.761748432991209, 0.754011639935622, 0.7610654630331912, 0.7647902642927091, 0.7602905582133044, 0.7488328679336025, 0.7424412545294197, 0.7527208264069132, 0.7453883044556178, 0.7505482996930049, 0.7486935794062926, 0.769978221355657, 0.7646090631243481, 0.7584178443465865, 0.7648355566596257, 0.7192928684942625, 0.7306125157940637, 0.7270693391609377, 0.7149047122342607, 0.716712334729213, 0.7236032065949591, 0.725579251417749, 0.7340889095059495, 0.7541958319030462, 0.7762828776256607, 0.7528592510524224, 0.7415028700676132, 0.7406571592733053, 0.7639744592519397, 0.7622488200042712, 0.7728027875988452, 0.7774387619082761, 0.7822181533409474, 0.7859988846604278, 0.7809382602161352, 0.7652430454018755, 0.7748128147904558, 0.7661024578635813, 0.7575481606250616, 0.7629305430976894, 0.7728027875988452, 0.769168933236549, 0.7705620785509262, 0.7820417667560817, 0.7676375115512526, 0.7431909837891344, 0.7534126537815329, 0.7479966867906156, 0.7472059670145255, 0.7472059670145255, 0.769258904124817, 0.7680883059483294, 0.7714592932345985, 0.7779715515411798, 0.7854726646565178, 0.7881868746054006, 0.7937113425860081, 0.7868311923663338, 0.7955280053600515, 0.7827470248690722, 0.7785925856487399, 0.7786812561837317, 0.7729369837849216, 0.7721761705823207, 0.7812915870453301, 0.8129572478732459, 0.815768193022687, 0.7969949116906023, 0.7981144246624998, 0.8064496140462638, 0.8066619317680814, 0.7992749499504859, 0.8113996866482012, 0.8071287857446343, 0.8132094725575412, 0.8162285270711691, 0.8148884633023012, 0.8194417307835709, 0.8382717187145516, 0.8543250265678539, 0.8773017058965951, 0.8613079781891586, 0.8617370471933756, 0.8560188336066012, 0.8607614786712432, 0.8452690903161284, 0.8490578071368264, 0.8404111250819488, 0.8482620234635099, 0.8412971078311333, 0.8403708243086627, 0.8406931602561403, 0.8381099667284153, 0.8473057897617413, 0.8515977598981981, 0.8525872280475402, 0.8418602842475358, 0.8235496912569094, 0.8465078477644101, 0.8551133952026646, 0.8518749634867664, 0.8475449806621564, 0.8375030365093812, 0.8447088734052217, 0.8435067733212605, 0.8467473336708764, 0.8424631442704653, 0.8409348069153437, 0.8428245909415044, 0.82935577594841, 0.8430253074653189, 0.836328021850981, 0.8378268034487446, 0.8434666648429112, 0.8425836489226564, 0.8462682732141764, 0.8459886574487818, 0.8519145543097393, 0.8546799112897987, 0.8402499069307554, 0.833686593793526, 0.8271794516035893, 0.825490845553051, 0.8153913124037233, 0.8270971827036808, 0.8283301195851496, 0.821478222519723, 0.82081394990808, 0.8261915339824002, 0.8359223492779022, 0.845109077813667, 0.8378268034487446, 0.8221003595409577, 0.8284943338621074, 0.8247481124456111, 0.8298884756333846, 0.8307071584761014, 0.8358411842431028, 0.8149303823184852, 0.8013757882727788, 0.7984155014519341, 0.8002619069548378, 0.7964775595795368, 0.7997900717995288, 0.8186920196157828, 0.822887542279306, 0.8253671158743057, 0.8311978715922206, 0.82734395803964, 0.8256557816740067, 0.8195249784453136, 0.8160193249073009, 0.8121157883564489, 0.813923575863627, 0.8269737597439888, 0.8247481124456111, 0.8323414241320188, 0.8272617100480231, 0.8266856812789491, 0.8250370543836456, 0.8271794516035893, 0.8240871889657218, 0.8284122319314893, 0.8270971827036808, 0.8195249784453136, 0.8151818394192225, 0.8092889015490896, 0.8189836771561456, 0.8289457084174878, 0.8252846162796295, 0.8318107402765476, 0.8330754995837029, 0.7882742405458933, 0.7944040059593527, 0.7912811666253465, 0.7824826431229388, 0.7794344656793966, 0.7747236126721839, 0.7770388816743505, 0.7774831777991262, 0.7766832250575808, 0.7575939625972108, 0.7607920731371909, 0.7513349492751411, 0.7602449466725254, 0.7510111505201937, 0.749992441444435]}],\n",
              "                        {\"height\": 600, \"shapes\": [{\"fillcolor\": \"#F6B28D\", \"line\": {\"color\": \"#F6B28D\"}, \"opacity\": 0.1, \"type\": \"rect\", \"x0\": 2056, \"x1\": 2568, \"xref\": \"x\", \"y0\": 0, \"y1\": 1, \"yref\": \"paper\"}, {\"fillcolor\": \"#7BA1AA\", \"line\": {\"color\": \"#7BA1AA\"}, \"opacity\": 0.1, \"type\": \"rect\", \"x0\": 0, \"x1\": 2055, \"xref\": \"x\", \"y0\": 0, \"y1\": 1, \"yref\": \"paper\"}], \"template\": {\"data\": {\"bar\": [{\"error_x\": {\"color\": \"#2a3f5f\"}, \"error_y\": {\"color\": \"#2a3f5f\"}, \"marker\": {\"line\": {\"color\": \"white\", \"width\": 0.5}}, \"type\": \"bar\"}], \"barpolar\": [{\"marker\": {\"line\": {\"color\": \"white\", \"width\": 0.5}}, \"type\": \"barpolar\"}], \"carpet\": [{\"aaxis\": {\"endlinecolor\": \"#2a3f5f\", \"gridcolor\": \"#C8D4E3\", \"linecolor\": \"#C8D4E3\", \"minorgridcolor\": \"#C8D4E3\", \"startlinecolor\": \"#2a3f5f\"}, \"baxis\": {\"endlinecolor\": \"#2a3f5f\", \"gridcolor\": \"#C8D4E3\", \"linecolor\": \"#C8D4E3\", \"minorgridcolor\": \"#C8D4E3\", \"startlinecolor\": \"#2a3f5f\"}, \"type\": \"carpet\"}], \"choropleth\": [{\"colorbar\": {\"outlinewidth\": 0, \"ticks\": \"\"}, \"type\": \"choropleth\"}], \"contour\": [{\"colorbar\": {\"outlinewidth\": 0, \"ticks\": \"\"}, \"colorscale\": [[0.0, \"#0d0887\"], [0.1111111111111111, \"#46039f\"], [0.2222222222222222, \"#7201a8\"], [0.3333333333333333, \"#9c179e\"], [0.4444444444444444, \"#bd3786\"], [0.5555555555555556, \"#d8576b\"], [0.6666666666666666, \"#ed7953\"], [0.7777777777777778, \"#fb9f3a\"], [0.8888888888888888, \"#fdca26\"], [1.0, \"#f0f921\"]], \"type\": \"contour\"}], \"contourcarpet\": [{\"colorbar\": {\"outlinewidth\": 0, \"ticks\": \"\"}, \"type\": \"contourcarpet\"}], \"heatmap\": [{\"colorbar\": {\"outlinewidth\": 0, \"ticks\": \"\"}, \"colorscale\": [[0.0, \"#0d0887\"], [0.1111111111111111, \"#46039f\"], [0.2222222222222222, \"#7201a8\"], [0.3333333333333333, \"#9c179e\"], [0.4444444444444444, \"#bd3786\"], [0.5555555555555556, \"#d8576b\"], [0.6666666666666666, \"#ed7953\"], [0.7777777777777778, \"#fb9f3a\"], [0.8888888888888888, \"#fdca26\"], [1.0, \"#f0f921\"]], \"type\": \"heatmap\"}], \"heatmapgl\": [{\"colorbar\": {\"outlinewidth\": 0, \"ticks\": \"\"}, \"colorscale\": [[0.0, \"#0d0887\"], [0.1111111111111111, \"#46039f\"], [0.2222222222222222, \"#7201a8\"], [0.3333333333333333, \"#9c179e\"], [0.4444444444444444, \"#bd3786\"], [0.5555555555555556, \"#d8576b\"], [0.6666666666666666, \"#ed7953\"], [0.7777777777777778, \"#fb9f3a\"], [0.8888888888888888, \"#fdca26\"], [1.0, \"#f0f921\"]], \"type\": \"heatmapgl\"}], \"histogram\": [{\"marker\": {\"colorbar\": {\"outlinewidth\": 0, \"ticks\": \"\"}}, \"type\": \"histogram\"}], \"histogram2d\": [{\"colorbar\": {\"outlinewidth\": 0, \"ticks\": \"\"}, \"colorscale\": [[0.0, \"#0d0887\"], [0.1111111111111111, \"#46039f\"], [0.2222222222222222, \"#7201a8\"], [0.3333333333333333, \"#9c179e\"], [0.4444444444444444, \"#bd3786\"], [0.5555555555555556, \"#d8576b\"], [0.6666666666666666, \"#ed7953\"], [0.7777777777777778, \"#fb9f3a\"], [0.8888888888888888, \"#fdca26\"], [1.0, \"#f0f921\"]], \"type\": \"histogram2d\"}], \"histogram2dcontour\": [{\"colorbar\": {\"outlinewidth\": 0, \"ticks\": \"\"}, \"colorscale\": [[0.0, \"#0d0887\"], [0.1111111111111111, \"#46039f\"], [0.2222222222222222, \"#7201a8\"], [0.3333333333333333, \"#9c179e\"], [0.4444444444444444, \"#bd3786\"], [0.5555555555555556, \"#d8576b\"], [0.6666666666666666, \"#ed7953\"], [0.7777777777777778, \"#fb9f3a\"], [0.8888888888888888, \"#fdca26\"], [1.0, \"#f0f921\"]], \"type\": \"histogram2dcontour\"}], \"mesh3d\": [{\"colorbar\": {\"outlinewidth\": 0, \"ticks\": \"\"}, \"type\": \"mesh3d\"}], \"parcoords\": [{\"line\": {\"colorbar\": {\"outlinewidth\": 0, \"ticks\": \"\"}}, \"type\": \"parcoords\"}], \"pie\": [{\"automargin\": true, \"type\": \"pie\"}], \"scatter\": [{\"marker\": {\"colorbar\": {\"outlinewidth\": 0, \"ticks\": \"\"}}, \"type\": \"scatter\"}], \"scatter3d\": [{\"line\": {\"colorbar\": {\"outlinewidth\": 0, \"ticks\": \"\"}}, \"marker\": {\"colorbar\": {\"outlinewidth\": 0, \"ticks\": \"\"}}, \"type\": \"scatter3d\"}], \"scattercarpet\": [{\"marker\": {\"colorbar\": {\"outlinewidth\": 0, \"ticks\": \"\"}}, \"type\": \"scattercarpet\"}], \"scattergeo\": [{\"marker\": {\"colorbar\": {\"outlinewidth\": 0, \"ticks\": \"\"}}, \"type\": \"scattergeo\"}], \"scattergl\": [{\"marker\": {\"colorbar\": {\"outlinewidth\": 0, \"ticks\": \"\"}}, \"type\": \"scattergl\"}], \"scattermapbox\": [{\"marker\": {\"colorbar\": {\"outlinewidth\": 0, \"ticks\": \"\"}}, \"type\": \"scattermapbox\"}], \"scatterpolar\": [{\"marker\": {\"colorbar\": {\"outlinewidth\": 0, \"ticks\": \"\"}}, \"type\": \"scatterpolar\"}], \"scatterpolargl\": [{\"marker\": {\"colorbar\": {\"outlinewidth\": 0, \"ticks\": \"\"}}, \"type\": \"scatterpolargl\"}], \"scatterternary\": [{\"marker\": {\"colorbar\": {\"outlinewidth\": 0, \"ticks\": \"\"}}, \"type\": \"scatterternary\"}], \"surface\": [{\"colorbar\": {\"outlinewidth\": 0, \"ticks\": \"\"}, \"colorscale\": [[0.0, \"#0d0887\"], [0.1111111111111111, \"#46039f\"], [0.2222222222222222, \"#7201a8\"], [0.3333333333333333, \"#9c179e\"], [0.4444444444444444, \"#bd3786\"], [0.5555555555555556, \"#d8576b\"], [0.6666666666666666, \"#ed7953\"], [0.7777777777777778, \"#fb9f3a\"], [0.8888888888888888, \"#fdca26\"], [1.0, \"#f0f921\"]], \"type\": \"surface\"}], \"table\": [{\"cells\": {\"fill\": {\"color\": \"#EBF0F8\"}, \"line\": {\"color\": \"white\"}}, \"header\": {\"fill\": {\"color\": \"#C8D4E3\"}, \"line\": {\"color\": \"white\"}}, \"type\": \"table\"}]}, \"layout\": {\"annotationdefaults\": {\"arrowcolor\": \"#2a3f5f\", \"arrowhead\": 0, \"arrowwidth\": 1}, \"coloraxis\": {\"colorbar\": {\"outlinewidth\": 0, \"ticks\": \"\"}}, \"colorscale\": {\"diverging\": [[0, \"#8e0152\"], [0.1, \"#c51b7d\"], [0.2, \"#de77ae\"], [0.3, \"#f1b6da\"], [0.4, \"#fde0ef\"], [0.5, \"#f7f7f7\"], [0.6, \"#e6f5d0\"], [0.7, \"#b8e186\"], [0.8, \"#7fbc41\"], [0.9, \"#4d9221\"], [1, \"#276419\"]], \"sequential\": [[0.0, \"#0d0887\"], [0.1111111111111111, \"#46039f\"], [0.2222222222222222, \"#7201a8\"], [0.3333333333333333, \"#9c179e\"], [0.4444444444444444, \"#bd3786\"], [0.5555555555555556, \"#d8576b\"], [0.6666666666666666, \"#ed7953\"], [0.7777777777777778, \"#fb9f3a\"], [0.8888888888888888, \"#fdca26\"], [1.0, \"#f0f921\"]], \"sequentialminus\": [[0.0, \"#0d0887\"], [0.1111111111111111, \"#46039f\"], [0.2222222222222222, \"#7201a8\"], [0.3333333333333333, \"#9c179e\"], [0.4444444444444444, \"#bd3786\"], [0.5555555555555556, \"#d8576b\"], [0.6666666666666666, \"#ed7953\"], [0.7777777777777778, \"#fb9f3a\"], [0.8888888888888888, \"#fdca26\"], [1.0, \"#f0f921\"]]}, \"colorway\": [\"#636efa\", \"#EF553B\", \"#00cc96\", \"#ab63fa\", \"#FFA15A\", \"#19d3f3\", \"#FF6692\", \"#B6E880\", \"#FF97FF\", \"#FECB52\"], \"font\": {\"color\": \"#2a3f5f\"}, \"geo\": {\"bgcolor\": \"white\", \"lakecolor\": \"white\", \"landcolor\": \"white\", \"showlakes\": true, \"showland\": true, \"subunitcolor\": \"#C8D4E3\"}, \"hoverlabel\": {\"align\": \"left\"}, \"hovermode\": \"closest\", \"mapbox\": {\"style\": \"light\"}, \"paper_bgcolor\": \"white\", \"plot_bgcolor\": \"white\", \"polar\": {\"angularaxis\": {\"gridcolor\": \"#EBF0F8\", \"linecolor\": \"#EBF0F8\", \"ticks\": \"\"}, \"bgcolor\": \"white\", \"radialaxis\": {\"gridcolor\": \"#EBF0F8\", \"linecolor\": \"#EBF0F8\", \"ticks\": \"\"}}, \"scene\": {\"xaxis\": {\"backgroundcolor\": \"white\", \"gridcolor\": \"#DFE8F3\", \"gridwidth\": 2, \"linecolor\": \"#EBF0F8\", \"showbackground\": true, \"ticks\": \"\", \"zerolinecolor\": \"#EBF0F8\"}, \"yaxis\": {\"backgroundcolor\": \"white\", \"gridcolor\": \"#DFE8F3\", \"gridwidth\": 2, \"linecolor\": \"#EBF0F8\", \"showbackground\": true, \"ticks\": \"\", \"zerolinecolor\": \"#EBF0F8\"}, \"zaxis\": {\"backgroundcolor\": \"white\", \"gridcolor\": \"#DFE8F3\", \"gridwidth\": 2, \"linecolor\": \"#EBF0F8\", \"showbackground\": true, \"ticks\": \"\", \"zerolinecolor\": \"#EBF0F8\"}}, \"shapedefaults\": {\"line\": {\"color\": \"#2a3f5f\"}}, \"ternary\": {\"aaxis\": {\"gridcolor\": \"#DFE8F3\", \"linecolor\": \"#A2B1C6\", \"ticks\": \"\"}, \"baxis\": {\"gridcolor\": \"#DFE8F3\", \"linecolor\": \"#A2B1C6\", \"ticks\": \"\"}, \"bgcolor\": \"white\", \"caxis\": {\"gridcolor\": \"#DFE8F3\", \"linecolor\": \"#A2B1C6\", \"ticks\": \"\"}}, \"title\": {\"x\": 0.05}, \"xaxis\": {\"automargin\": true, \"gridcolor\": \"#EBF0F8\", \"linecolor\": \"#EBF0F8\", \"ticks\": \"\", \"title\": {\"standoff\": 15}, \"zerolinecolor\": \"#EBF0F8\", \"zerolinewidth\": 2}, \"yaxis\": {\"automargin\": true, \"gridcolor\": \"#EBF0F8\", \"linecolor\": \"#EBF0F8\", \"ticks\": \"\", \"title\": {\"standoff\": 15}, \"zerolinecolor\": \"#EBF0F8\", \"zerolinewidth\": 2}}}, \"title\": {\"text\": \"Train/Test Datasets (Scaled)\"}, \"width\": 600, \"xaxis\": {\"title\": {\"text\": \"time steps\"}}, \"yaxis\": {\"title\": {\"text\": \"Closing Price (Scaled)\"}}},\n",
              "                        {\"responsive\": true}\n",
              "                    ).then(function(){\n",
              "                            \n",
              "var gd = document.getElementById('4664f1a1-56c0-45ab-9d65-6b6b5946fe99');\n",
              "var x = new MutationObserver(function (mutations, observer) {{\n",
              "        var display = window.getComputedStyle(gd).display;\n",
              "        if (!display || display === 'none') {{\n",
              "            console.log([gd, 'removed!']);\n",
              "            Plotly.purge(gd);\n",
              "            observer.disconnect();\n",
              "        }}\n",
              "}});\n",
              "\n",
              "// Listen for the removal of the full notebook cells\n",
              "var notebookContainer = gd.closest('#notebook-container');\n",
              "if (notebookContainer) {{\n",
              "    x.observe(notebookContainer, {childList: true});\n",
              "}}\n",
              "\n",
              "// Listen for the clearing of the current output cell\n",
              "var outputEl = gd.closest('.output');\n",
              "if (outputEl) {{\n",
              "    x.observe(outputEl, {childList: true});\n",
              "}}\n",
              "\n",
              "                        })\n",
              "                };\n",
              "                \n",
              "            </script>\n",
              "        </div>\n",
              "</body>\n",
              "</html>"
            ]
          },
          "metadata": {}
        },
        {
          "output_type": "stream",
          "name": "stdout",
          "text": [
            "Train/Test Dimensions\n",
            "============================================================\n",
            "Train Data Dimensions:  x (2011, 40, 28) y (2011, 5)\n",
            "Test Data Dimensions :  x (468, 40, 28)  y (468, 5)\n",
            "\n",
            "\n",
            "Check the dimensions of the training windows\n",
            "============================================================\n",
            "The last value in the training batch should match the first value in the predict batch\n",
            "Last Training Value:    0.496163264852131\n",
            "First Prediction Value: 0.496163264852131\n"
          ]
        },
        {
          "output_type": "display_data",
          "data": {
            "text/html": [
              "<html>\n",
              "<head><meta charset=\"utf-8\" /></head>\n",
              "<body>\n",
              "    <div>\n",
              "            <script src=\"https://cdnjs.cloudflare.com/ajax/libs/mathjax/2.7.5/MathJax.js?config=TeX-AMS-MML_SVG\"></script><script type=\"text/javascript\">if (window.MathJax) {MathJax.Hub.Config({SVG: {font: \"STIX-Web\"}});}</script>\n",
              "                <script type=\"text/javascript\">window.PlotlyConfig = {MathJaxConfig: 'local'};</script>\n",
              "        <script src=\"https://cdn.plot.ly/plotly-latest.min.js\"></script>    \n",
              "            <div id=\"6ce686c9-925e-4486-940f-f898a70ef6a5\" class=\"plotly-graph-div\" style=\"height:600px; width:600px;\"></div>\n",
              "            <script type=\"text/javascript\">\n",
              "                \n",
              "                    window.PLOTLYENV=window.PLOTLYENV || {};\n",
              "                    \n",
              "                if (document.getElementById(\"6ce686c9-925e-4486-940f-f898a70ef6a5\")) {\n",
              "                    Plotly.newPlot(\n",
              "                        '6ce686c9-925e-4486-940f-f898a70ef6a5',\n",
              "                        [{\"name\": \"train window\", \"type\": \"scatter\", \"x\": [0, 1, 2, 3, 4, 5, 6, 7, 8, 9, 10, 11, 12, 13, 14, 15, 16, 17, 18, 19, 20, 21, 22, 23, 24, 25, 26, 27, 28, 29, 30, 31, 32, 33, 34, 35, 36, 37, 38, 39], \"y\": [0.6171252074002194, 0.6026830870264108, 0.5806680546530663, 0.5558793161365951, 0.5756522228907719, 0.6008184820086533, 0.6094551869533071, 0.6054699613821248, 0.6107206968233534, 0.6220567721358705, 0.6097430201813165, 0.583670985571553, 0.5811494608256185, 0.5657488759114226, 0.5673485454327309, 0.5413309042816059, 0.5485827309897826, 0.5380601736132347, 0.5450305825336215, 0.5310138805980511, 0.526905995368447, 0.5200010470006324, 0.5425451984727703, 0.5394731045693972, 0.5435022451785003, 0.503461493913413, 0.4938268657389502, 0.49978856153357576, 0.49855960438747404, 0.4868362286258927, 0.46164820330925815, 0.45342048530568446, 0.47041535960514924, 0.4930002365472066, 0.4815257116003391, 0.4923105715174816, 0.46905776559702606, 0.4716988799381614, 0.4567095529233858, 0.45539593084153607]}, {\"name\": \"predict window\", \"type\": \"scatter\", \"x\": [39, 40, 41, 42, 43], \"y\": [0.45539593084153607, 0.472837654050537, 0.4802615499305851, 0.48912861296820154, 0.4900294489788344]}],\n",
              "                        {\"height\": 600, \"template\": {\"data\": {\"bar\": [{\"error_x\": {\"color\": \"#2a3f5f\"}, \"error_y\": {\"color\": \"#2a3f5f\"}, \"marker\": {\"line\": {\"color\": \"white\", \"width\": 0.5}}, \"type\": \"bar\"}], \"barpolar\": [{\"marker\": {\"line\": {\"color\": \"white\", \"width\": 0.5}}, \"type\": \"barpolar\"}], \"carpet\": [{\"aaxis\": {\"endlinecolor\": \"#2a3f5f\", \"gridcolor\": \"#C8D4E3\", \"linecolor\": \"#C8D4E3\", \"minorgridcolor\": \"#C8D4E3\", \"startlinecolor\": \"#2a3f5f\"}, \"baxis\": {\"endlinecolor\": \"#2a3f5f\", \"gridcolor\": \"#C8D4E3\", \"linecolor\": \"#C8D4E3\", \"minorgridcolor\": \"#C8D4E3\", \"startlinecolor\": \"#2a3f5f\"}, \"type\": \"carpet\"}], \"choropleth\": [{\"colorbar\": {\"outlinewidth\": 0, \"ticks\": \"\"}, \"type\": \"choropleth\"}], \"contour\": [{\"colorbar\": {\"outlinewidth\": 0, \"ticks\": \"\"}, \"colorscale\": [[0.0, \"#0d0887\"], [0.1111111111111111, \"#46039f\"], [0.2222222222222222, \"#7201a8\"], [0.3333333333333333, \"#9c179e\"], [0.4444444444444444, \"#bd3786\"], [0.5555555555555556, \"#d8576b\"], [0.6666666666666666, \"#ed7953\"], [0.7777777777777778, \"#fb9f3a\"], [0.8888888888888888, \"#fdca26\"], [1.0, \"#f0f921\"]], \"type\": \"contour\"}], \"contourcarpet\": [{\"colorbar\": {\"outlinewidth\": 0, \"ticks\": \"\"}, \"type\": \"contourcarpet\"}], \"heatmap\": [{\"colorbar\": {\"outlinewidth\": 0, \"ticks\": \"\"}, \"colorscale\": [[0.0, \"#0d0887\"], [0.1111111111111111, \"#46039f\"], [0.2222222222222222, \"#7201a8\"], [0.3333333333333333, \"#9c179e\"], [0.4444444444444444, \"#bd3786\"], [0.5555555555555556, \"#d8576b\"], [0.6666666666666666, \"#ed7953\"], [0.7777777777777778, \"#fb9f3a\"], [0.8888888888888888, \"#fdca26\"], [1.0, \"#f0f921\"]], \"type\": \"heatmap\"}], \"heatmapgl\": [{\"colorbar\": {\"outlinewidth\": 0, \"ticks\": \"\"}, \"colorscale\": [[0.0, \"#0d0887\"], [0.1111111111111111, \"#46039f\"], [0.2222222222222222, \"#7201a8\"], [0.3333333333333333, \"#9c179e\"], [0.4444444444444444, \"#bd3786\"], [0.5555555555555556, \"#d8576b\"], [0.6666666666666666, \"#ed7953\"], [0.7777777777777778, \"#fb9f3a\"], [0.8888888888888888, \"#fdca26\"], [1.0, \"#f0f921\"]], \"type\": \"heatmapgl\"}], \"histogram\": [{\"marker\": {\"colorbar\": {\"outlinewidth\": 0, \"ticks\": \"\"}}, \"type\": \"histogram\"}], \"histogram2d\": [{\"colorbar\": {\"outlinewidth\": 0, \"ticks\": \"\"}, \"colorscale\": [[0.0, \"#0d0887\"], [0.1111111111111111, \"#46039f\"], [0.2222222222222222, \"#7201a8\"], [0.3333333333333333, \"#9c179e\"], [0.4444444444444444, \"#bd3786\"], [0.5555555555555556, \"#d8576b\"], [0.6666666666666666, \"#ed7953\"], [0.7777777777777778, \"#fb9f3a\"], [0.8888888888888888, \"#fdca26\"], [1.0, \"#f0f921\"]], \"type\": \"histogram2d\"}], \"histogram2dcontour\": [{\"colorbar\": {\"outlinewidth\": 0, \"ticks\": \"\"}, \"colorscale\": [[0.0, \"#0d0887\"], [0.1111111111111111, \"#46039f\"], [0.2222222222222222, \"#7201a8\"], [0.3333333333333333, \"#9c179e\"], [0.4444444444444444, \"#bd3786\"], [0.5555555555555556, \"#d8576b\"], [0.6666666666666666, \"#ed7953\"], [0.7777777777777778, \"#fb9f3a\"], [0.8888888888888888, \"#fdca26\"], [1.0, \"#f0f921\"]], \"type\": \"histogram2dcontour\"}], \"mesh3d\": [{\"colorbar\": {\"outlinewidth\": 0, \"ticks\": \"\"}, \"type\": \"mesh3d\"}], \"parcoords\": [{\"line\": {\"colorbar\": {\"outlinewidth\": 0, \"ticks\": \"\"}}, \"type\": \"parcoords\"}], \"pie\": [{\"automargin\": true, \"type\": \"pie\"}], \"scatter\": [{\"marker\": {\"colorbar\": {\"outlinewidth\": 0, \"ticks\": \"\"}}, \"type\": \"scatter\"}], \"scatter3d\": [{\"line\": {\"colorbar\": {\"outlinewidth\": 0, \"ticks\": \"\"}}, \"marker\": {\"colorbar\": {\"outlinewidth\": 0, \"ticks\": \"\"}}, \"type\": \"scatter3d\"}], \"scattercarpet\": [{\"marker\": {\"colorbar\": {\"outlinewidth\": 0, \"ticks\": \"\"}}, \"type\": \"scattercarpet\"}], \"scattergeo\": [{\"marker\": {\"colorbar\": {\"outlinewidth\": 0, \"ticks\": \"\"}}, \"type\": \"scattergeo\"}], \"scattergl\": [{\"marker\": {\"colorbar\": {\"outlinewidth\": 0, \"ticks\": \"\"}}, \"type\": \"scattergl\"}], \"scattermapbox\": [{\"marker\": {\"colorbar\": {\"outlinewidth\": 0, \"ticks\": \"\"}}, \"type\": \"scattermapbox\"}], \"scatterpolar\": [{\"marker\": {\"colorbar\": {\"outlinewidth\": 0, \"ticks\": \"\"}}, \"type\": \"scatterpolar\"}], \"scatterpolargl\": [{\"marker\": {\"colorbar\": {\"outlinewidth\": 0, \"ticks\": \"\"}}, \"type\": \"scatterpolargl\"}], \"scatterternary\": [{\"marker\": {\"colorbar\": {\"outlinewidth\": 0, \"ticks\": \"\"}}, \"type\": \"scatterternary\"}], \"surface\": [{\"colorbar\": {\"outlinewidth\": 0, \"ticks\": \"\"}, \"colorscale\": [[0.0, \"#0d0887\"], [0.1111111111111111, \"#46039f\"], [0.2222222222222222, \"#7201a8\"], [0.3333333333333333, \"#9c179e\"], [0.4444444444444444, \"#bd3786\"], [0.5555555555555556, \"#d8576b\"], [0.6666666666666666, \"#ed7953\"], [0.7777777777777778, \"#fb9f3a\"], [0.8888888888888888, \"#fdca26\"], [1.0, \"#f0f921\"]], \"type\": \"surface\"}], \"table\": [{\"cells\": {\"fill\": {\"color\": \"#EBF0F8\"}, \"line\": {\"color\": \"white\"}}, \"header\": {\"fill\": {\"color\": \"#C8D4E3\"}, \"line\": {\"color\": \"white\"}}, \"type\": \"table\"}]}, \"layout\": {\"annotationdefaults\": {\"arrowcolor\": \"#2a3f5f\", \"arrowhead\": 0, \"arrowwidth\": 1}, \"coloraxis\": {\"colorbar\": {\"outlinewidth\": 0, \"ticks\": \"\"}}, \"colorscale\": {\"diverging\": [[0, \"#8e0152\"], [0.1, \"#c51b7d\"], [0.2, \"#de77ae\"], [0.3, \"#f1b6da\"], [0.4, \"#fde0ef\"], [0.5, \"#f7f7f7\"], [0.6, \"#e6f5d0\"], [0.7, \"#b8e186\"], [0.8, \"#7fbc41\"], [0.9, \"#4d9221\"], [1, \"#276419\"]], \"sequential\": [[0.0, \"#0d0887\"], [0.1111111111111111, \"#46039f\"], [0.2222222222222222, \"#7201a8\"], [0.3333333333333333, \"#9c179e\"], [0.4444444444444444, \"#bd3786\"], [0.5555555555555556, \"#d8576b\"], [0.6666666666666666, \"#ed7953\"], [0.7777777777777778, \"#fb9f3a\"], [0.8888888888888888, \"#fdca26\"], [1.0, \"#f0f921\"]], \"sequentialminus\": [[0.0, \"#0d0887\"], [0.1111111111111111, \"#46039f\"], [0.2222222222222222, \"#7201a8\"], [0.3333333333333333, \"#9c179e\"], [0.4444444444444444, \"#bd3786\"], [0.5555555555555556, \"#d8576b\"], [0.6666666666666666, \"#ed7953\"], [0.7777777777777778, \"#fb9f3a\"], [0.8888888888888888, \"#fdca26\"], [1.0, \"#f0f921\"]]}, \"colorway\": [\"#636efa\", \"#EF553B\", \"#00cc96\", \"#ab63fa\", \"#FFA15A\", \"#19d3f3\", \"#FF6692\", \"#B6E880\", \"#FF97FF\", \"#FECB52\"], \"font\": {\"color\": \"#2a3f5f\"}, \"geo\": {\"bgcolor\": \"white\", \"lakecolor\": \"white\", \"landcolor\": \"white\", \"showlakes\": true, \"showland\": true, \"subunitcolor\": \"#C8D4E3\"}, \"hoverlabel\": {\"align\": \"left\"}, \"hovermode\": \"closest\", \"mapbox\": {\"style\": \"light\"}, \"paper_bgcolor\": \"white\", \"plot_bgcolor\": \"white\", \"polar\": {\"angularaxis\": {\"gridcolor\": \"#EBF0F8\", \"linecolor\": \"#EBF0F8\", \"ticks\": \"\"}, \"bgcolor\": \"white\", \"radialaxis\": {\"gridcolor\": \"#EBF0F8\", \"linecolor\": \"#EBF0F8\", \"ticks\": \"\"}}, \"scene\": {\"xaxis\": {\"backgroundcolor\": \"white\", \"gridcolor\": \"#DFE8F3\", \"gridwidth\": 2, \"linecolor\": \"#EBF0F8\", \"showbackground\": true, \"ticks\": \"\", \"zerolinecolor\": \"#EBF0F8\"}, \"yaxis\": {\"backgroundcolor\": \"white\", \"gridcolor\": \"#DFE8F3\", \"gridwidth\": 2, \"linecolor\": \"#EBF0F8\", \"showbackground\": true, \"ticks\": \"\", \"zerolinecolor\": \"#EBF0F8\"}, \"zaxis\": {\"backgroundcolor\": \"white\", \"gridcolor\": \"#DFE8F3\", \"gridwidth\": 2, \"linecolor\": \"#EBF0F8\", \"showbackground\": true, \"ticks\": \"\", \"zerolinecolor\": \"#EBF0F8\"}}, \"shapedefaults\": {\"line\": {\"color\": \"#2a3f5f\"}}, \"ternary\": {\"aaxis\": {\"gridcolor\": \"#DFE8F3\", \"linecolor\": \"#A2B1C6\", \"ticks\": \"\"}, \"baxis\": {\"gridcolor\": \"#DFE8F3\", \"linecolor\": \"#A2B1C6\", \"ticks\": \"\"}, \"bgcolor\": \"white\", \"caxis\": {\"gridcolor\": \"#DFE8F3\", \"linecolor\": \"#A2B1C6\", \"ticks\": \"\"}}, \"title\": {\"x\": 0.05}, \"xaxis\": {\"automargin\": true, \"gridcolor\": \"#EBF0F8\", \"linecolor\": \"#EBF0F8\", \"ticks\": \"\", \"title\": {\"standoff\": 15}, \"zerolinecolor\": \"#EBF0F8\", \"zerolinewidth\": 2}, \"yaxis\": {\"automargin\": true, \"gridcolor\": \"#EBF0F8\", \"linecolor\": \"#EBF0F8\", \"ticks\": \"\", \"title\": {\"standoff\": 15}, \"zerolinecolor\": \"#EBF0F8\", \"zerolinewidth\": 2}}}, \"title\": {\"text\": \"Train/Predict Windows\"}, \"width\": 600, \"xaxis\": {\"title\": {\"text\": \"Period\"}}, \"yaxis\": {\"title\": {\"text\": \"Closing Price (Scaled)\"}}},\n",
              "                        {\"responsive\": true}\n",
              "                    ).then(function(){\n",
              "                            \n",
              "var gd = document.getElementById('6ce686c9-925e-4486-940f-f898a70ef6a5');\n",
              "var x = new MutationObserver(function (mutations, observer) {{\n",
              "        var display = window.getComputedStyle(gd).display;\n",
              "        if (!display || display === 'none') {{\n",
              "            console.log([gd, 'removed!']);\n",
              "            Plotly.purge(gd);\n",
              "            observer.disconnect();\n",
              "        }}\n",
              "}});\n",
              "\n",
              "// Listen for the removal of the full notebook cells\n",
              "var notebookContainer = gd.closest('#notebook-container');\n",
              "if (notebookContainer) {{\n",
              "    x.observe(notebookContainer, {childList: true});\n",
              "}}\n",
              "\n",
              "// Listen for the clearing of the current output cell\n",
              "var outputEl = gd.closest('.output');\n",
              "if (outputEl) {{\n",
              "    x.observe(outputEl, {childList: true});\n",
              "}}\n",
              "\n",
              "                        })\n",
              "                };\n",
              "                \n",
              "            </script>\n",
              "        </div>\n",
              "</body>\n",
              "</html>"
            ]
          },
          "metadata": {}
        }
      ]
    },
    {
      "cell_type": "markdown",
      "metadata": {
        "id": "fA_WcAx3YT2r"
      },
      "source": [
        "# Deep Learning LSTM"
      ]
    },
    {
      "cell_type": "markdown",
      "metadata": {
        "id": "GcGrkK63g1ZX"
      },
      "source": [
        "### Build the LSTM Model"
      ]
    },
    {
      "cell_type": "code",
      "metadata": {
        "id": "2euanyq81ht2"
      },
      "source": [
        "def create_lstm_model(config,x_train,n_predict):\n",
        "  \"\"\"\n",
        "  \"\"\"\n",
        "  # get window size\n",
        "  n_steps = config['data']['n_steps']\n",
        "  n_predict = config['data']['n_predict']\n",
        "  n_features = x_train.shape[2]\n",
        "\n",
        "  # clear previous models\n",
        "  backend.clear_session()\n",
        "\n",
        "  # LSTM Model+ first layer\n",
        "  model = Sequential(name='LSTM')\n",
        "  model.add(LSTM(n_steps,return_sequences=True,input_shape=(n_steps,n_features)))\n",
        "\n",
        "  # add additional layers\n",
        "  for layer,nodes,ret_seq,drop in config['layers']:\n",
        "    # add LSTM layers + dropout\n",
        "    if layer=='lstm':\n",
        "      model.add(LSTM(nodes,return_sequences =ret_seq))\n",
        "      if drop is not None:\n",
        "        model.add(Dropout(drop))\n",
        "\n",
        "    # Add Dense Layers + dropout\n",
        "    elif layer =='dense':\n",
        "      model.add(Dense(nodes))\n",
        "      if drop is not None:\n",
        "        model.add(Dropout(drop))\n",
        "\n",
        "  # add the prediction layer\n",
        "  model.add(Dense(n_predict))\n",
        "  \n",
        "  # compile\n",
        "  model.compile(optimizer='adam',loss='mse')\n",
        "  model.summary()\n",
        "\n",
        "  return model\n"
      ],
      "execution_count": 20,
      "outputs": []
    },
    {
      "cell_type": "markdown",
      "metadata": {
        "id": "k43YdoAag6Hi"
      },
      "source": [
        "### Calculate Model Performance"
      ]
    },
    {
      "cell_type": "code",
      "metadata": {
        "id": "vgZrENeE1V6h"
      },
      "source": [
        "def calculate_performance(x_test,y_test,model,scaler_y):\n",
        "  \"\"\"\n",
        "  \"\"\"\n",
        "\n",
        "  # Predict the prices\n",
        "  y_pred = model.predict(x_test)\n",
        "\n",
        "  # convert units back to the original scale\n",
        "  y_pred_unscaled = scaler_y.inverse_transform(y_pred)\n",
        "  y_test_unscaled = scaler_y.inverse_transform(y_test)\n",
        "\n",
        "  # # Root mean squarred error,mean abs error, mean abs percent error, median abs percent error\n",
        "  rmse  = math.sqrt(mean_squared_error(y_test_unscaled, y_pred_unscaled))\n",
        "  mae   = mean_absolute_error(y_test_unscaled, y_pred_unscaled)\n",
        "  mape  = np.mean((np.abs(np.subtract(y_test_unscaled, y_pred_unscaled)/ y_test_unscaled))) * 100\n",
        "  mdape = np.median((np.abs(np.subtract(y_test_unscaled, y_pred_unscaled)/ y_test_unscaled)) ) * 100\n",
        "\n",
        "  print(\"\\nModel Error\")\n",
        "  print(\"=\"*62)\n",
        "  print(f'{\"Mean Absolute Error (MAE)\" :-<55} {np.round(mae, 2):>5}')\n",
        "  print(f'{\"Root Mean Squared Error (MSE)\" :-<55} {np.round(rmse,2):>5}')\n",
        "  print(f'{\"Mean Absolute Percentage Error (MAPE)\" :-<55} {np.round(mape, 2):>5}%')\n",
        "  print(f'{\"Median Absolute Percentage Error (MDAPE)\" :-<55} {np.round(mdape, 2):>5}%')\n",
        "\n",
        "  return y_pred\n"
      ],
      "execution_count": 21,
      "outputs": []
    },
    {
      "cell_type": "markdown",
      "metadata": {
        "id": "JMMZUcmEg9hw"
      },
      "source": [
        "### Plot Training Metrics"
      ]
    },
    {
      "cell_type": "code",
      "metadata": {
        "id": "PALdRNgOrzLy"
      },
      "source": [
        "\n",
        "def plot_training_metrics(history):\n",
        "  \"\"\"\n",
        "  \"\"\"\n",
        "  # get the number of epochs\n",
        "  epochs = list(range(1, len(history.history['loss']) + 1))\n",
        "\n",
        "  # min_train_loss = min(history.history['loss'])\n",
        "  # min_val_loss = min(history.history['val_loss'])\n",
        "\n",
        "  # create the line plots\n",
        "  fig = go.Figure()\n",
        "  fig.add_trace(go.Scatter(x=epochs,\n",
        "                           y=history.history['loss'],\n",
        "                           name = 'train-loss',\n",
        "                           line=dict(width=3,color='royalblue')))\n",
        "  fig.add_trace(go.Scatter(x=epochs,\n",
        "                           y=history.history['val_loss'],\n",
        "                           name='val-loss',\n",
        "                           line=dict(width=3,color='crimson')))\n",
        "\n",
        "  # fig.add_shape(type ='rect',\n",
        "  #               x0=0,\n",
        "  #               x1=1,\n",
        "  #               y0=min(min_train_loss,min_val_loss),\n",
        "  #               y1=max(min_train_loss,min_val_loss),\n",
        "  #               line=dict(color='#ccc'),\n",
        "  #               fillcolor='#ccc',\n",
        "  #               opacity=0.4)\n",
        "  fig.update_layout(title = 'Training Metrics',\n",
        "                    template=\"plotly_white\",\n",
        "                    width = 700,\n",
        "                    height= 500,\n",
        "                    yaxis_title='loss',\n",
        "                    xaxis_title='epochs')\n",
        "  # fig.update_shapes(dict(xref='paper',yref='y'))\n",
        "  fig.show()\n",
        "\n"
      ],
      "execution_count": 22,
      "outputs": []
    },
    {
      "cell_type": "markdown",
      "metadata": {
        "id": "Fj_cJeIUTqcA"
      },
      "source": [
        "## Plot Predicted vs Actual Price"
      ]
    },
    {
      "cell_type": "code",
      "metadata": {
        "id": "XQbBzIj0S-5x"
      },
      "source": [
        "def plot_price_predictions(batch, idx_close, x_test, y_pred_scaled,scaler_y): \n",
        "  \"\"\"\n",
        "  \"\"\"\n",
        "\n",
        "  # unscale the y predictions\n",
        "  y_pred_unscaled = scaler_y.inverse_transform(y_pred_scaled)\n",
        "\n",
        "  # unscale the x_test data\n",
        "  x_test_np = np.array(pd.DataFrame(x_test[batch])[idx_close]).reshape(-1,1)\n",
        "  x_test_unscaled = scaler_y.inverse_transform(x_test_np)\n",
        "  x_test_df = pd.DataFrame(x_test_unscaled)\n",
        "\n",
        "  # set the indexes for plotting\n",
        "  max_test_idx=x_test_df.shape[0]\n",
        "  max_pred_idx =y_pred_unscaled[0].shape[0]\n",
        "  test_idx = list(range(batch,batch + max_test_idx))\n",
        "  pred_idx = list(range(batch + max_test_idx,batch + max_test_idx + max_pred_idx))\n",
        "\n",
        "\n",
        "  # combine the actual + predicted prices\n",
        "  data = pd.DataFrame(list(zip(y_pred_unscaled[batch], x_test_df[0])), columns=['pred', 'actual'])\n",
        "\n",
        "  # create the plot\n",
        "  fig = go.Figure()\n",
        "  fig.add_trace(go.Scatter(x=test_idx, y=x_test_df[0],\n",
        "                        mode='lines',\n",
        "                        name='Test Data',\n",
        "                        fill='tozeroy',\n",
        "                        line_color='#ccc'))\n",
        "  fig.add_trace(go.Scatter(x=pred_idx, y=data['actual'],\n",
        "                        mode='lines+markers', \n",
        "                        name='Actual Price',\n",
        "                        fill='tozeroy',\n",
        "                        line_color ='#ccc')) \n",
        "  fig.add_trace(go.Scatter(x=pred_idx, y=data['pred'],\n",
        "                        mode='lines+markers',\n",
        "                        name='Predicted Price',\n",
        "                        line_color='red'))\n",
        "\n",
        "  fig.update_layout(template = 'plotly_white',\n",
        "                      title= 'Actual vs Predicted Price',\n",
        "                      xaxis_title = 'Batch',\n",
        "                      yaxis_title = 'Price',\n",
        "                      width=600,\n",
        "                      height=400)\n",
        "\n",
        "  fig.show()\n",
        "  "
      ],
      "execution_count": 40,
      "outputs": []
    },
    {
      "cell_type": "code",
      "metadata": {
        "id": "feLlg3wjNlGS"
      },
      "source": [
        "def plot_n_price_predictions(idx_close,x_test,y_pred_scaled,scaler_y,n_batches=2):\n",
        "  \"\"\"\n",
        "  \"\"\"\n",
        "\n",
        "  # select random batch numbers\n",
        "  batches=[]\n",
        "  [batches.append(rn.randint(0,y_pred_scaled.shape[0])) for r in list(range(n_batches))]\n",
        "\n",
        "  # plot predictions\n",
        "  for batch in batches:\n",
        "    plot_price_predictions(batch, idx_close, x_test, y_pred_scaled,scaler_y)\n"
      ],
      "execution_count": null,
      "outputs": []
    },
    {
      "cell_type": "markdown",
      "metadata": {
        "id": "Fv3doKGGg_2R"
      },
      "source": [
        "## Train the Model\n",
        "Training config file."
      ]
    },
    {
      "cell_type": "code",
      "metadata": {
        "colab": {
          "base_uri": "https://localhost:8080/"
        },
        "id": "WKXbNCQql_ge",
        "outputId": "9ce7edf7-0cdd-44ba-b487-bb04d9c1d207"
      },
      "source": [
        "config ={\n",
        "    'data': {'n_steps':n_steps,'n_predict':n_predict},\n",
        "    'layers': [('lstm',256,True,0.3),('lstm',128,False,0.2),('dense',32,None,0.1),('dense',16,None,0.1)],\n",
        "    'train':{'epochs':250,'batch_size':128,'early_stop':EarlyStopping(monitor='loss',patience=10)}\n",
        "}\n",
        "config"
      ],
      "execution_count": 23,
      "outputs": [
        {
          "output_type": "execute_result",
          "data": {
            "text/plain": [
              "{'data': {'n_predict': 5, 'n_steps': 40},\n",
              " 'layers': [('lstm', 256, True, 0.3),\n",
              "  ('lstm', 128, False, 0.2),\n",
              "  ('dense', 32, None, 0.1),\n",
              "  ('dense', 16, None, 0.1)],\n",
              " 'train': {'batch_size': 128,\n",
              "  'early_stop': <keras.callbacks.EarlyStopping at 0x7f2976dea590>,\n",
              "  'epochs': 250}}"
            ]
          },
          "metadata": {},
          "execution_count": 23
        }
      ]
    },
    {
      "cell_type": "markdown",
      "metadata": {
        "id": "iC1uKsFdS9Q4"
      },
      "source": [
        "### Bitcoin\n",
        "+ train with all features\n",
        "+ train with the optimal features"
      ]
    },
    {
      "cell_type": "code",
      "metadata": {
        "colab": {
          "base_uri": "https://localhost:8080/",
          "height": 1000
        },
        "id": "C6Je3J4du1i6",
        "outputId": "739cd681-9eaa-4e57-b9db-b3fa4f79be52"
      },
      "source": [
        "# BTC - all features\n",
        "modelname = f'model_{crypto}_{transform}'\n",
        "model = create_lstm_model(config,x_train,n_predict)\n",
        "\n",
        "# Train the model\n",
        "tic = timeit.default_timer()\n",
        "history = model.fit(x_train,\n",
        "                    y_train,\n",
        "                    batch_size=config['train']['batch_size'],\n",
        "                    epochs=config['train']['epochs'],\n",
        "                    callbacks = [config['train']['early_stop']],\n",
        "                    validation_split =0.10, \n",
        "                    verbose = 0\n",
        "                    )\n",
        "\n",
        "# print the training time\n",
        "toc =timeit.default_timer()\n",
        "print('\\nTraining Time')\n",
        "print('='*60)\n",
        "print(f'Minutes:{round((toc-tic)/60,2)}\\n')\n",
        "\n",
        "\n",
        "# predict prices\n",
        "# calculate the performance metrics\n",
        "# plot training metrics\n",
        "# plot predictions for random batches\n",
        "y_pred_scaled = calculate_performance(x_test,y_test,model,scaler_y)\n",
        "plot_training_metrics(history)\n",
        "plot_n_price_predictions(idx_close,x_test,y_pred_scaled,scaler_y,2)\n",
        "\n",
        "\n",
        "# save model and training performance\n",
        "model.save(f'/content/drive/MyDrive/Colab Notebooks/models/{modelname}_all')\n",
        "\n",
        "df_hist = pd.DataFrame(history.history) \n",
        "df_hist.to_csv(f'/content/drive/MyDrive/Colab Notebooks/models/{modelname}_all/train_history.csv')\n"
      ],
      "execution_count": 76,
      "outputs": [
        {
          "output_type": "stream",
          "name": "stdout",
          "text": [
            "Model: \"LSTM\"\n",
            "_________________________________________________________________\n",
            "Layer (type)                 Output Shape              Param #   \n",
            "=================================================================\n",
            "lstm (LSTM)                  (None, 40, 40)            10880     \n",
            "_________________________________________________________________\n",
            "lstm_1 (LSTM)                (None, 40, 256)           304128    \n",
            "_________________________________________________________________\n",
            "dropout (Dropout)            (None, 40, 256)           0         \n",
            "_________________________________________________________________\n",
            "lstm_2 (LSTM)                (None, 128)               197120    \n",
            "_________________________________________________________________\n",
            "dropout_1 (Dropout)          (None, 128)               0         \n",
            "_________________________________________________________________\n",
            "dense (Dense)                (None, 32)                4128      \n",
            "_________________________________________________________________\n",
            "dropout_2 (Dropout)          (None, 32)                0         \n",
            "_________________________________________________________________\n",
            "dense_1 (Dense)              (None, 16)                528       \n",
            "_________________________________________________________________\n",
            "dropout_3 (Dropout)          (None, 16)                0         \n",
            "_________________________________________________________________\n",
            "dense_2 (Dense)              (None, 5)                 85        \n",
            "=================================================================\n",
            "Total params: 516,869\n",
            "Trainable params: 516,869\n",
            "Non-trainable params: 0\n",
            "_________________________________________________________________\n",
            "\n",
            "Training Time\n",
            "============================================================\n",
            "Minutes:6.25\n",
            "\n",
            "\n",
            "Model Error\n",
            "==============================================================\n",
            "Mean Absolute Error (MAE)------------------------------  0.33\n",
            "Root Mean Squared Error (MSE)--------------------------  0.34\n",
            "Mean Absolute Percentage Error (MAPE)------------------  3.13%\n",
            "Median Absolute Percentage Error (MDAPE)---------------  3.04%\n"
          ]
        },
        {
          "output_type": "display_data",
          "data": {
            "text/html": [
              "<html>\n",
              "<head><meta charset=\"utf-8\" /></head>\n",
              "<body>\n",
              "    <div>\n",
              "            <script src=\"https://cdnjs.cloudflare.com/ajax/libs/mathjax/2.7.5/MathJax.js?config=TeX-AMS-MML_SVG\"></script><script type=\"text/javascript\">if (window.MathJax) {MathJax.Hub.Config({SVG: {font: \"STIX-Web\"}});}</script>\n",
              "                <script type=\"text/javascript\">window.PlotlyConfig = {MathJaxConfig: 'local'};</script>\n",
              "        <script src=\"https://cdn.plot.ly/plotly-latest.min.js\"></script>    \n",
              "            <div id=\"3d6b530b-4e3a-453a-87e7-97be04fccbd4\" class=\"plotly-graph-div\" style=\"height:500px; width:700px;\"></div>\n",
              "            <script type=\"text/javascript\">\n",
              "                \n",
              "                    window.PLOTLYENV=window.PLOTLYENV || {};\n",
              "                    \n",
              "                if (document.getElementById(\"3d6b530b-4e3a-453a-87e7-97be04fccbd4\")) {\n",
              "                    Plotly.newPlot(\n",
              "                        '3d6b530b-4e3a-453a-87e7-97be04fccbd4',\n",
              "                        [{\"line\": {\"color\": \"royalblue\", \"width\": 3}, \"name\": \"train-loss\", \"type\": \"scatter\", \"x\": [1, 2, 3, 4, 5, 6, 7, 8, 9, 10, 11, 12, 13, 14, 15, 16, 17, 18, 19, 20, 21, 22, 23, 24, 25, 26, 27, 28, 29, 30, 31, 32, 33, 34, 35, 36, 37, 38, 39, 40, 41, 42, 43, 44, 45, 46, 47, 48, 49, 50, 51, 52, 53, 54, 55, 56, 57, 58, 59, 60, 61, 62, 63, 64, 65, 66, 67, 68, 69, 70, 71, 72, 73, 74, 75, 76, 77, 78, 79, 80, 81, 82, 83, 84, 85, 86, 87, 88, 89, 90, 91, 92, 93, 94, 95, 96, 97, 98, 99, 100, 101, 102, 103, 104, 105, 106, 107, 108, 109, 110, 111, 112, 113, 114, 115, 116, 117, 118, 119, 120, 121, 122, 123, 124, 125, 126, 127, 128, 129, 130], \"y\": [0.06323007494211197, 0.018396809697151184, 0.013955439440906048, 0.010658715851604939, 0.009123388677835464, 0.008720530197024345, 0.006677211262285709, 0.006402349099516869, 0.006576778832823038, 0.006147615611553192, 0.00621225219219923, 0.005772201810032129, 0.005237468518316746, 0.0054588294588029385, 0.005521552171558142, 0.005003495141863823, 0.005363446660339832, 0.005056446418166161, 0.004759844858199358, 0.004389933776110411, 0.003965673502534628, 0.003802193095907569, 0.003954875282943249, 0.003687269054353237, 0.0035361945629119873, 0.003702994901686907, 0.003943921998143196, 0.0035685671027749777, 0.00362015119753778, 0.003849989967420697, 0.0034463866613805294, 0.0034773764200508595, 0.00352288456633687, 0.002996628638356924, 0.003087954595685005, 0.002968207001686096, 0.0027501829899847507, 0.0030091125518083572, 0.0030825408175587654, 0.002936256118118763, 0.002879898762330413, 0.00299500091932714, 0.002735632238909602, 0.0026864060200750828, 0.0027114562690258026, 0.0026469756849110126, 0.0026757624000310898, 0.0028040437027812004, 0.0025470538530498743, 0.002384471008554101, 0.0023264545015990734, 0.002098053228110075, 0.0022970023564994335, 0.002245195908471942, 0.002123629441484809, 0.0021119778975844383, 0.002097669756039977, 0.0022888637613505125, 0.002120512304827571, 0.002061766106635332, 0.00223528896458447, 0.002117724623531103, 0.002042229287326336, 0.0018645355012267828, 0.0019050397677347064, 0.002068723551928997, 0.0020370252896100283, 0.0017515001818537712, 0.0016732242656871676, 0.0019213476916775107, 0.0016721230931580067, 0.0017048297449946404, 0.0017849304713308811, 0.0017399232601746917, 0.0017238683067262173, 0.001680157263763249, 0.0016876261215656996, 0.0016416988801211119, 0.0014982935972511768, 0.0015879581915214658, 0.0016770639922469854, 0.0015838741092011333, 0.0016017237212508917, 0.001547366613522172, 0.001481949002481997, 0.001561070792376995, 0.001573513844050467, 0.0016517466865479946, 0.0016104301903396845, 0.0014574843226000667, 0.00143611675594002, 0.0015047895722091198, 0.001359091722406447, 0.001502739149145782, 0.0015365310246124864, 0.0014238030416890979, 0.0012507818173617125, 0.0014007824938744307, 0.0013266204623505473, 0.001445668749511242, 0.0013233714271336794, 0.0012489851796999574, 0.0012725398410111666, 0.001300977193750441, 0.00134175643324852, 0.0013815771089866757, 0.0012283363612368703, 0.0012284329859539866, 0.0013389689847826958, 0.0012365427101030946, 0.0013012668350711465, 0.0013607192086055875, 0.0015101644676178694, 0.0014836093178018928, 0.001279402757063508, 0.0012234851019456983, 0.0015260609798133373, 0.0013259501429274678, 0.0012668510898947716, 0.001046214485540986, 0.001270520850084722, 0.0012086204951629043, 0.001224989420734346, 0.0012338283704593778, 0.00116404565051198, 0.0010648546740412712, 0.0011849632719531655, 0.0011162093142047524, 0.0011354718590155244, 0.0012029838981106877]}, {\"line\": {\"color\": \"crimson\", \"width\": 3}, \"name\": \"val-loss\", \"type\": \"scatter\", \"x\": [1, 2, 3, 4, 5, 6, 7, 8, 9, 10, 11, 12, 13, 14, 15, 16, 17, 18, 19, 20, 21, 22, 23, 24, 25, 26, 27, 28, 29, 30, 31, 32, 33, 34, 35, 36, 37, 38, 39, 40, 41, 42, 43, 44, 45, 46, 47, 48, 49, 50, 51, 52, 53, 54, 55, 56, 57, 58, 59, 60, 61, 62, 63, 64, 65, 66, 67, 68, 69, 70, 71, 72, 73, 74, 75, 76, 77, 78, 79, 80, 81, 82, 83, 84, 85, 86, 87, 88, 89, 90, 91, 92, 93, 94, 95, 96, 97, 98, 99, 100, 101, 102, 103, 104, 105, 106, 107, 108, 109, 110, 111, 112, 113, 114, 115, 116, 117, 118, 119, 120, 121, 122, 123, 124, 125, 126, 127, 128, 129, 130], \"y\": [0.17615514993667603, 0.14649315178394318, 0.07404676824808121, 0.06162024289369583, 0.03166160732507706, 0.01847236044704914, 0.012606083415448666, 0.008194690570235252, 0.013518757186830044, 0.013325667940080166, 0.01174771599471569, 0.021702870726585388, 0.014092291705310345, 0.012007873505353928, 0.00890298467129469, 0.017244035378098488, 0.008457220159471035, 0.01631963811814785, 0.005725334398448467, 0.009752082638442516, 0.005899581592530012, 0.0058970022946596146, 0.008315053768455982, 0.0065680560655891895, 0.010168581269681454, 0.008964848704636097, 0.013855241239070892, 0.010644860565662384, 0.012079224921762943, 0.008778830990195274, 0.011236499063670635, 0.007909509353339672, 0.010855027474462986, 0.007872349582612514, 0.009660952724516392, 0.008156999945640564, 0.008266333490610123, 0.0041003418155014515, 0.004576701205223799, 0.004251090344041586, 0.004940879996865988, 0.006148127373307943, 0.007435752544552088, 0.008121115155518055, 0.007279976271092892, 0.009249209426343441, 0.007837611250579357, 0.0040517388842999935, 0.004766794852912426, 0.006060065235942602, 0.008206037804484367, 0.011297517456114292, 0.008434835821390152, 0.006885277573019266, 0.005945930723100901, 0.006014507729560137, 0.0050983731634914875, 0.004593838006258011, 0.0057648662477731705, 0.0019120585639029741, 0.006654918193817139, 0.0027413549832999706, 0.004860367625951767, 0.0024673829320818186, 0.0030520609579980373, 0.0019824448972940445, 0.005728007759898901, 0.002434405731037259, 0.0044135646894574165, 0.003433228237554431, 0.0034776953980326653, 0.004320893436670303, 0.004902882967144251, 0.002871635602787137, 0.0027802186086773872, 0.004413950257003307, 0.0016113562742248178, 0.0041905720718204975, 0.004129078239202499, 0.0022107691038399935, 0.002462780801579356, 0.0015408815816044807, 0.0026484753470867872, 0.002714955247938633, 0.002630466129630804, 0.0033477596007287502, 0.005029608029872179, 0.0074766757898032665, 0.0023254803381860256, 0.002507138531655073, 0.002590228570625186, 0.0046315621584653854, 0.0019266848685219884, 0.0024735648185014725, 0.001403167494572699, 0.00226365658454597, 0.003510493552312255, 0.0024087983183562756, 0.0014560382114723325, 0.001634937128983438, 0.002871071919798851, 0.001515181502327323, 0.001811773981899023, 0.0016594402259215713, 0.001108494121581316, 0.0015461459988728166, 0.0021673075389117002, 0.0022668903693556786, 0.0028914392460137606, 0.0009914471302181482, 0.001856977236457169, 0.0019240359542891383, 0.004118533805012703, 0.005691154859960079, 0.001855674316175282, 0.0016452526906505227, 0.0016239258693531156, 0.002583299996331334, 0.0025847209617495537, 0.0027852363418787718, 0.004397669807076454, 0.0030149156227707863, 0.002291608601808548, 0.0021980279125273228, 0.0020932748448103666, 0.002013967139646411, 0.0016729680355638266, 0.0019467310048639774, 0.0013990841107442975, 0.006107588764280081]}],\n",
              "                        {\"height\": 500, \"template\": {\"data\": {\"bar\": [{\"error_x\": {\"color\": \"#2a3f5f\"}, \"error_y\": {\"color\": \"#2a3f5f\"}, \"marker\": {\"line\": {\"color\": \"white\", \"width\": 0.5}}, \"type\": \"bar\"}], \"barpolar\": [{\"marker\": {\"line\": {\"color\": \"white\", \"width\": 0.5}}, \"type\": \"barpolar\"}], \"carpet\": [{\"aaxis\": {\"endlinecolor\": \"#2a3f5f\", \"gridcolor\": \"#C8D4E3\", \"linecolor\": \"#C8D4E3\", \"minorgridcolor\": \"#C8D4E3\", \"startlinecolor\": \"#2a3f5f\"}, \"baxis\": {\"endlinecolor\": \"#2a3f5f\", \"gridcolor\": \"#C8D4E3\", \"linecolor\": \"#C8D4E3\", \"minorgridcolor\": \"#C8D4E3\", \"startlinecolor\": \"#2a3f5f\"}, \"type\": \"carpet\"}], \"choropleth\": [{\"colorbar\": {\"outlinewidth\": 0, \"ticks\": \"\"}, \"type\": \"choropleth\"}], \"contour\": [{\"colorbar\": {\"outlinewidth\": 0, \"ticks\": \"\"}, \"colorscale\": [[0.0, \"#0d0887\"], [0.1111111111111111, \"#46039f\"], [0.2222222222222222, \"#7201a8\"], [0.3333333333333333, \"#9c179e\"], [0.4444444444444444, \"#bd3786\"], [0.5555555555555556, \"#d8576b\"], [0.6666666666666666, \"#ed7953\"], [0.7777777777777778, \"#fb9f3a\"], [0.8888888888888888, \"#fdca26\"], [1.0, \"#f0f921\"]], \"type\": \"contour\"}], \"contourcarpet\": [{\"colorbar\": {\"outlinewidth\": 0, \"ticks\": \"\"}, \"type\": \"contourcarpet\"}], \"heatmap\": [{\"colorbar\": {\"outlinewidth\": 0, \"ticks\": \"\"}, \"colorscale\": [[0.0, \"#0d0887\"], [0.1111111111111111, \"#46039f\"], [0.2222222222222222, \"#7201a8\"], [0.3333333333333333, \"#9c179e\"], [0.4444444444444444, \"#bd3786\"], [0.5555555555555556, \"#d8576b\"], [0.6666666666666666, \"#ed7953\"], [0.7777777777777778, \"#fb9f3a\"], [0.8888888888888888, \"#fdca26\"], [1.0, \"#f0f921\"]], \"type\": \"heatmap\"}], \"heatmapgl\": [{\"colorbar\": {\"outlinewidth\": 0, \"ticks\": \"\"}, \"colorscale\": [[0.0, \"#0d0887\"], [0.1111111111111111, \"#46039f\"], [0.2222222222222222, \"#7201a8\"], [0.3333333333333333, \"#9c179e\"], [0.4444444444444444, \"#bd3786\"], [0.5555555555555556, \"#d8576b\"], [0.6666666666666666, \"#ed7953\"], [0.7777777777777778, \"#fb9f3a\"], [0.8888888888888888, \"#fdca26\"], [1.0, \"#f0f921\"]], \"type\": \"heatmapgl\"}], \"histogram\": [{\"marker\": {\"colorbar\": {\"outlinewidth\": 0, \"ticks\": \"\"}}, \"type\": \"histogram\"}], \"histogram2d\": [{\"colorbar\": {\"outlinewidth\": 0, \"ticks\": \"\"}, \"colorscale\": [[0.0, \"#0d0887\"], [0.1111111111111111, \"#46039f\"], [0.2222222222222222, \"#7201a8\"], [0.3333333333333333, \"#9c179e\"], [0.4444444444444444, \"#bd3786\"], [0.5555555555555556, \"#d8576b\"], [0.6666666666666666, \"#ed7953\"], [0.7777777777777778, \"#fb9f3a\"], [0.8888888888888888, \"#fdca26\"], [1.0, \"#f0f921\"]], \"type\": \"histogram2d\"}], \"histogram2dcontour\": [{\"colorbar\": {\"outlinewidth\": 0, \"ticks\": \"\"}, \"colorscale\": [[0.0, \"#0d0887\"], [0.1111111111111111, \"#46039f\"], [0.2222222222222222, \"#7201a8\"], [0.3333333333333333, \"#9c179e\"], [0.4444444444444444, \"#bd3786\"], [0.5555555555555556, \"#d8576b\"], [0.6666666666666666, \"#ed7953\"], [0.7777777777777778, \"#fb9f3a\"], [0.8888888888888888, \"#fdca26\"], [1.0, \"#f0f921\"]], \"type\": \"histogram2dcontour\"}], \"mesh3d\": [{\"colorbar\": {\"outlinewidth\": 0, \"ticks\": \"\"}, \"type\": \"mesh3d\"}], \"parcoords\": [{\"line\": {\"colorbar\": {\"outlinewidth\": 0, \"ticks\": \"\"}}, \"type\": \"parcoords\"}], \"pie\": [{\"automargin\": true, \"type\": \"pie\"}], \"scatter\": [{\"marker\": {\"colorbar\": {\"outlinewidth\": 0, \"ticks\": \"\"}}, \"type\": \"scatter\"}], \"scatter3d\": [{\"line\": {\"colorbar\": {\"outlinewidth\": 0, \"ticks\": \"\"}}, \"marker\": {\"colorbar\": {\"outlinewidth\": 0, \"ticks\": \"\"}}, \"type\": \"scatter3d\"}], \"scattercarpet\": [{\"marker\": {\"colorbar\": {\"outlinewidth\": 0, \"ticks\": \"\"}}, \"type\": \"scattercarpet\"}], \"scattergeo\": [{\"marker\": {\"colorbar\": {\"outlinewidth\": 0, \"ticks\": \"\"}}, \"type\": \"scattergeo\"}], \"scattergl\": [{\"marker\": {\"colorbar\": {\"outlinewidth\": 0, \"ticks\": \"\"}}, \"type\": \"scattergl\"}], \"scattermapbox\": [{\"marker\": {\"colorbar\": {\"outlinewidth\": 0, \"ticks\": \"\"}}, \"type\": \"scattermapbox\"}], \"scatterpolar\": [{\"marker\": {\"colorbar\": {\"outlinewidth\": 0, \"ticks\": \"\"}}, \"type\": \"scatterpolar\"}], \"scatterpolargl\": [{\"marker\": {\"colorbar\": {\"outlinewidth\": 0, \"ticks\": \"\"}}, \"type\": \"scatterpolargl\"}], \"scatterternary\": [{\"marker\": {\"colorbar\": {\"outlinewidth\": 0, \"ticks\": \"\"}}, \"type\": \"scatterternary\"}], \"surface\": [{\"colorbar\": {\"outlinewidth\": 0, \"ticks\": \"\"}, \"colorscale\": [[0.0, \"#0d0887\"], [0.1111111111111111, \"#46039f\"], [0.2222222222222222, \"#7201a8\"], [0.3333333333333333, \"#9c179e\"], [0.4444444444444444, \"#bd3786\"], [0.5555555555555556, \"#d8576b\"], [0.6666666666666666, \"#ed7953\"], [0.7777777777777778, \"#fb9f3a\"], [0.8888888888888888, \"#fdca26\"], [1.0, \"#f0f921\"]], \"type\": \"surface\"}], \"table\": [{\"cells\": {\"fill\": {\"color\": \"#EBF0F8\"}, \"line\": {\"color\": \"white\"}}, \"header\": {\"fill\": {\"color\": \"#C8D4E3\"}, \"line\": {\"color\": \"white\"}}, \"type\": \"table\"}]}, \"layout\": {\"annotationdefaults\": {\"arrowcolor\": \"#2a3f5f\", \"arrowhead\": 0, \"arrowwidth\": 1}, \"coloraxis\": {\"colorbar\": {\"outlinewidth\": 0, \"ticks\": \"\"}}, \"colorscale\": {\"diverging\": [[0, \"#8e0152\"], [0.1, \"#c51b7d\"], [0.2, \"#de77ae\"], [0.3, \"#f1b6da\"], [0.4, \"#fde0ef\"], [0.5, \"#f7f7f7\"], [0.6, \"#e6f5d0\"], [0.7, \"#b8e186\"], [0.8, \"#7fbc41\"], [0.9, \"#4d9221\"], [1, \"#276419\"]], \"sequential\": [[0.0, \"#0d0887\"], [0.1111111111111111, \"#46039f\"], [0.2222222222222222, \"#7201a8\"], [0.3333333333333333, \"#9c179e\"], [0.4444444444444444, \"#bd3786\"], [0.5555555555555556, \"#d8576b\"], [0.6666666666666666, \"#ed7953\"], [0.7777777777777778, \"#fb9f3a\"], [0.8888888888888888, \"#fdca26\"], [1.0, \"#f0f921\"]], \"sequentialminus\": [[0.0, \"#0d0887\"], [0.1111111111111111, \"#46039f\"], [0.2222222222222222, \"#7201a8\"], [0.3333333333333333, \"#9c179e\"], [0.4444444444444444, \"#bd3786\"], [0.5555555555555556, \"#d8576b\"], [0.6666666666666666, \"#ed7953\"], [0.7777777777777778, \"#fb9f3a\"], [0.8888888888888888, \"#fdca26\"], [1.0, \"#f0f921\"]]}, \"colorway\": [\"#636efa\", \"#EF553B\", \"#00cc96\", \"#ab63fa\", \"#FFA15A\", \"#19d3f3\", \"#FF6692\", \"#B6E880\", \"#FF97FF\", \"#FECB52\"], \"font\": {\"color\": \"#2a3f5f\"}, \"geo\": {\"bgcolor\": \"white\", \"lakecolor\": \"white\", \"landcolor\": \"white\", \"showlakes\": true, \"showland\": true, \"subunitcolor\": \"#C8D4E3\"}, \"hoverlabel\": {\"align\": \"left\"}, \"hovermode\": \"closest\", \"mapbox\": {\"style\": \"light\"}, \"paper_bgcolor\": \"white\", \"plot_bgcolor\": \"white\", \"polar\": {\"angularaxis\": {\"gridcolor\": \"#EBF0F8\", \"linecolor\": \"#EBF0F8\", \"ticks\": \"\"}, \"bgcolor\": \"white\", \"radialaxis\": {\"gridcolor\": \"#EBF0F8\", \"linecolor\": \"#EBF0F8\", \"ticks\": \"\"}}, \"scene\": {\"xaxis\": {\"backgroundcolor\": \"white\", \"gridcolor\": \"#DFE8F3\", \"gridwidth\": 2, \"linecolor\": \"#EBF0F8\", \"showbackground\": true, \"ticks\": \"\", \"zerolinecolor\": \"#EBF0F8\"}, \"yaxis\": {\"backgroundcolor\": \"white\", \"gridcolor\": \"#DFE8F3\", \"gridwidth\": 2, \"linecolor\": \"#EBF0F8\", \"showbackground\": true, \"ticks\": \"\", \"zerolinecolor\": \"#EBF0F8\"}, \"zaxis\": {\"backgroundcolor\": \"white\", \"gridcolor\": \"#DFE8F3\", \"gridwidth\": 2, \"linecolor\": \"#EBF0F8\", \"showbackground\": true, \"ticks\": \"\", \"zerolinecolor\": \"#EBF0F8\"}}, \"shapedefaults\": {\"line\": {\"color\": \"#2a3f5f\"}}, \"ternary\": {\"aaxis\": {\"gridcolor\": \"#DFE8F3\", \"linecolor\": \"#A2B1C6\", \"ticks\": \"\"}, \"baxis\": {\"gridcolor\": \"#DFE8F3\", \"linecolor\": \"#A2B1C6\", \"ticks\": \"\"}, \"bgcolor\": \"white\", \"caxis\": {\"gridcolor\": \"#DFE8F3\", \"linecolor\": \"#A2B1C6\", \"ticks\": \"\"}}, \"title\": {\"x\": 0.05}, \"xaxis\": {\"automargin\": true, \"gridcolor\": \"#EBF0F8\", \"linecolor\": \"#EBF0F8\", \"ticks\": \"\", \"title\": {\"standoff\": 15}, \"zerolinecolor\": \"#EBF0F8\", \"zerolinewidth\": 2}, \"yaxis\": {\"automargin\": true, \"gridcolor\": \"#EBF0F8\", \"linecolor\": \"#EBF0F8\", \"ticks\": \"\", \"title\": {\"standoff\": 15}, \"zerolinecolor\": \"#EBF0F8\", \"zerolinewidth\": 2}}}, \"title\": {\"text\": \"Training Metrics\"}, \"width\": 700, \"xaxis\": {\"title\": {\"text\": \"epochs\"}}, \"yaxis\": {\"title\": {\"text\": \"loss\"}}},\n",
              "                        {\"responsive\": true}\n",
              "                    ).then(function(){\n",
              "                            \n",
              "var gd = document.getElementById('3d6b530b-4e3a-453a-87e7-97be04fccbd4');\n",
              "var x = new MutationObserver(function (mutations, observer) {{\n",
              "        var display = window.getComputedStyle(gd).display;\n",
              "        if (!display || display === 'none') {{\n",
              "            console.log([gd, 'removed!']);\n",
              "            Plotly.purge(gd);\n",
              "            observer.disconnect();\n",
              "        }}\n",
              "}});\n",
              "\n",
              "// Listen for the removal of the full notebook cells\n",
              "var notebookContainer = gd.closest('#notebook-container');\n",
              "if (notebookContainer) {{\n",
              "    x.observe(notebookContainer, {childList: true});\n",
              "}}\n",
              "\n",
              "// Listen for the clearing of the current output cell\n",
              "var outputEl = gd.closest('.output');\n",
              "if (outputEl) {{\n",
              "    x.observe(outputEl, {childList: true});\n",
              "}}\n",
              "\n",
              "                        })\n",
              "                };\n",
              "                \n",
              "            </script>\n",
              "        </div>\n",
              "</body>\n",
              "</html>"
            ]
          },
          "metadata": {}
        },
        {
          "output_type": "display_data",
          "data": {
            "text/html": [
              "<html>\n",
              "<head><meta charset=\"utf-8\" /></head>\n",
              "<body>\n",
              "    <div>\n",
              "            <script src=\"https://cdnjs.cloudflare.com/ajax/libs/mathjax/2.7.5/MathJax.js?config=TeX-AMS-MML_SVG\"></script><script type=\"text/javascript\">if (window.MathJax) {MathJax.Hub.Config({SVG: {font: \"STIX-Web\"}});}</script>\n",
              "                <script type=\"text/javascript\">window.PlotlyConfig = {MathJaxConfig: 'local'};</script>\n",
              "        <script src=\"https://cdn.plot.ly/plotly-latest.min.js\"></script>    \n",
              "            <div id=\"2af6f2c5-e836-4d46-a62c-35937c34fe3d\" class=\"plotly-graph-div\" style=\"height:400px; width:600px;\"></div>\n",
              "            <script type=\"text/javascript\">\n",
              "                \n",
              "                    window.PLOTLYENV=window.PLOTLYENV || {};\n",
              "                    \n",
              "                if (document.getElementById(\"2af6f2c5-e836-4d46-a62c-35937c34fe3d\")) {\n",
              "                    Plotly.newPlot(\n",
              "                        '2af6f2c5-e836-4d46-a62c-35937c34fe3d',\n",
              "                        [{\"fill\": \"tozeroy\", \"line\": {\"color\": \"#ccc\"}, \"mode\": \"lines\", \"name\": \"Test Data\", \"type\": \"scatter\", \"x\": [93, 94, 95, 96, 97, 98, 99, 100, 101, 102, 103, 104, 105, 106, 107, 108, 109, 110, 111, 112, 113, 114, 115, 116, 117, 118, 119, 120, 121, 122, 123, 124, 125, 126, 127, 128, 129, 130, 131, 132], \"y\": [10.514040857292054, 10.477659737337413, 10.485600094450746, 10.42087529840576, 10.415736462948972, 10.529106413629064, 10.509870234720319, 10.527605610952074, 10.478586005896817, 10.571844221963795, 10.609459394447178, 10.600229265018621, 10.55448399159909, 10.547785029654214, 10.486257208826391, 10.476829278728948, 10.480105411212044, 10.361194954589283, 10.389289478909223, 10.424602162676319, 10.453430711055768, 10.360420189852075, 10.382316189101887, 10.454504764157841, 10.448566476107173, 10.488819262055246, 10.464388228934425, 10.419440708014072, 10.427818073282275, 10.45360494462323, 10.471256016907827, 10.424960491927731, 10.44056583967291, 10.430052264477302, 10.40048936620503, 10.428683723588778, 10.419386385785343, 10.441704290999889, 10.406884552272023, 10.396040340278358]}, {\"fill\": \"tozeroy\", \"line\": {\"color\": \"#ccc\"}, \"mode\": \"lines+markers\", \"name\": \"Actual Price\", \"type\": \"scatter\", \"x\": [133, 134, 135, 136, 137], \"y\": [10.514040857292054, 10.477659737337413, 10.485600094450746, 10.42087529840576, 10.415736462948972]}, {\"line\": {\"color\": \"red\"}, \"mode\": \"lines+markers\", \"name\": \"Predicted Price\", \"type\": \"scatter\", \"x\": [133, 134, 135, 136, 137], \"y\": [10.063397407531738, 10.070898056030273, 10.091297149658203, 10.096734046936035, 10.101543426513672]}],\n",
              "                        {\"height\": 400, \"template\": {\"data\": {\"bar\": [{\"error_x\": {\"color\": \"#2a3f5f\"}, \"error_y\": {\"color\": \"#2a3f5f\"}, \"marker\": {\"line\": {\"color\": \"white\", \"width\": 0.5}}, \"type\": \"bar\"}], \"barpolar\": [{\"marker\": {\"line\": {\"color\": \"white\", \"width\": 0.5}}, \"type\": \"barpolar\"}], \"carpet\": [{\"aaxis\": {\"endlinecolor\": \"#2a3f5f\", \"gridcolor\": \"#C8D4E3\", \"linecolor\": \"#C8D4E3\", \"minorgridcolor\": \"#C8D4E3\", \"startlinecolor\": \"#2a3f5f\"}, \"baxis\": {\"endlinecolor\": \"#2a3f5f\", \"gridcolor\": \"#C8D4E3\", \"linecolor\": \"#C8D4E3\", \"minorgridcolor\": \"#C8D4E3\", \"startlinecolor\": \"#2a3f5f\"}, \"type\": \"carpet\"}], \"choropleth\": [{\"colorbar\": {\"outlinewidth\": 0, \"ticks\": \"\"}, \"type\": \"choropleth\"}], \"contour\": [{\"colorbar\": {\"outlinewidth\": 0, \"ticks\": \"\"}, \"colorscale\": [[0.0, \"#0d0887\"], [0.1111111111111111, \"#46039f\"], [0.2222222222222222, \"#7201a8\"], [0.3333333333333333, \"#9c179e\"], [0.4444444444444444, \"#bd3786\"], [0.5555555555555556, \"#d8576b\"], [0.6666666666666666, \"#ed7953\"], [0.7777777777777778, \"#fb9f3a\"], [0.8888888888888888, \"#fdca26\"], [1.0, \"#f0f921\"]], \"type\": \"contour\"}], \"contourcarpet\": [{\"colorbar\": {\"outlinewidth\": 0, \"ticks\": \"\"}, \"type\": \"contourcarpet\"}], \"heatmap\": [{\"colorbar\": {\"outlinewidth\": 0, \"ticks\": \"\"}, \"colorscale\": [[0.0, \"#0d0887\"], [0.1111111111111111, \"#46039f\"], [0.2222222222222222, \"#7201a8\"], [0.3333333333333333, \"#9c179e\"], [0.4444444444444444, \"#bd3786\"], [0.5555555555555556, \"#d8576b\"], [0.6666666666666666, \"#ed7953\"], [0.7777777777777778, \"#fb9f3a\"], [0.8888888888888888, \"#fdca26\"], [1.0, \"#f0f921\"]], \"type\": \"heatmap\"}], \"heatmapgl\": [{\"colorbar\": {\"outlinewidth\": 0, \"ticks\": \"\"}, \"colorscale\": [[0.0, \"#0d0887\"], [0.1111111111111111, \"#46039f\"], [0.2222222222222222, \"#7201a8\"], [0.3333333333333333, \"#9c179e\"], [0.4444444444444444, \"#bd3786\"], [0.5555555555555556, \"#d8576b\"], [0.6666666666666666, \"#ed7953\"], [0.7777777777777778, \"#fb9f3a\"], [0.8888888888888888, \"#fdca26\"], [1.0, \"#f0f921\"]], \"type\": \"heatmapgl\"}], \"histogram\": [{\"marker\": {\"colorbar\": {\"outlinewidth\": 0, \"ticks\": \"\"}}, \"type\": \"histogram\"}], \"histogram2d\": [{\"colorbar\": {\"outlinewidth\": 0, \"ticks\": \"\"}, \"colorscale\": [[0.0, \"#0d0887\"], [0.1111111111111111, \"#46039f\"], [0.2222222222222222, \"#7201a8\"], [0.3333333333333333, \"#9c179e\"], [0.4444444444444444, \"#bd3786\"], [0.5555555555555556, \"#d8576b\"], [0.6666666666666666, \"#ed7953\"], [0.7777777777777778, \"#fb9f3a\"], [0.8888888888888888, \"#fdca26\"], [1.0, \"#f0f921\"]], \"type\": \"histogram2d\"}], \"histogram2dcontour\": [{\"colorbar\": {\"outlinewidth\": 0, \"ticks\": \"\"}, \"colorscale\": [[0.0, \"#0d0887\"], [0.1111111111111111, \"#46039f\"], [0.2222222222222222, \"#7201a8\"], [0.3333333333333333, \"#9c179e\"], [0.4444444444444444, \"#bd3786\"], [0.5555555555555556, \"#d8576b\"], [0.6666666666666666, \"#ed7953\"], [0.7777777777777778, \"#fb9f3a\"], [0.8888888888888888, \"#fdca26\"], [1.0, \"#f0f921\"]], \"type\": \"histogram2dcontour\"}], \"mesh3d\": [{\"colorbar\": {\"outlinewidth\": 0, \"ticks\": \"\"}, \"type\": \"mesh3d\"}], \"parcoords\": [{\"line\": {\"colorbar\": {\"outlinewidth\": 0, \"ticks\": \"\"}}, \"type\": \"parcoords\"}], \"pie\": [{\"automargin\": true, \"type\": \"pie\"}], \"scatter\": [{\"marker\": {\"colorbar\": {\"outlinewidth\": 0, \"ticks\": \"\"}}, \"type\": \"scatter\"}], \"scatter3d\": [{\"line\": {\"colorbar\": {\"outlinewidth\": 0, \"ticks\": \"\"}}, \"marker\": {\"colorbar\": {\"outlinewidth\": 0, \"ticks\": \"\"}}, \"type\": \"scatter3d\"}], \"scattercarpet\": [{\"marker\": {\"colorbar\": {\"outlinewidth\": 0, \"ticks\": \"\"}}, \"type\": \"scattercarpet\"}], \"scattergeo\": [{\"marker\": {\"colorbar\": {\"outlinewidth\": 0, \"ticks\": \"\"}}, \"type\": \"scattergeo\"}], \"scattergl\": [{\"marker\": {\"colorbar\": {\"outlinewidth\": 0, \"ticks\": \"\"}}, \"type\": \"scattergl\"}], \"scattermapbox\": [{\"marker\": {\"colorbar\": {\"outlinewidth\": 0, \"ticks\": \"\"}}, \"type\": \"scattermapbox\"}], \"scatterpolar\": [{\"marker\": {\"colorbar\": {\"outlinewidth\": 0, \"ticks\": \"\"}}, \"type\": \"scatterpolar\"}], \"scatterpolargl\": [{\"marker\": {\"colorbar\": {\"outlinewidth\": 0, \"ticks\": \"\"}}, \"type\": \"scatterpolargl\"}], \"scatterternary\": [{\"marker\": {\"colorbar\": {\"outlinewidth\": 0, \"ticks\": \"\"}}, \"type\": \"scatterternary\"}], \"surface\": [{\"colorbar\": {\"outlinewidth\": 0, \"ticks\": \"\"}, \"colorscale\": [[0.0, \"#0d0887\"], [0.1111111111111111, \"#46039f\"], [0.2222222222222222, \"#7201a8\"], [0.3333333333333333, \"#9c179e\"], [0.4444444444444444, \"#bd3786\"], [0.5555555555555556, \"#d8576b\"], [0.6666666666666666, \"#ed7953\"], [0.7777777777777778, \"#fb9f3a\"], [0.8888888888888888, \"#fdca26\"], [1.0, \"#f0f921\"]], \"type\": \"surface\"}], \"table\": [{\"cells\": {\"fill\": {\"color\": \"#EBF0F8\"}, \"line\": {\"color\": \"white\"}}, \"header\": {\"fill\": {\"color\": \"#C8D4E3\"}, \"line\": {\"color\": \"white\"}}, \"type\": \"table\"}]}, \"layout\": {\"annotationdefaults\": {\"arrowcolor\": \"#2a3f5f\", \"arrowhead\": 0, \"arrowwidth\": 1}, \"coloraxis\": {\"colorbar\": {\"outlinewidth\": 0, \"ticks\": \"\"}}, \"colorscale\": {\"diverging\": [[0, \"#8e0152\"], [0.1, \"#c51b7d\"], [0.2, \"#de77ae\"], [0.3, \"#f1b6da\"], [0.4, \"#fde0ef\"], [0.5, \"#f7f7f7\"], [0.6, \"#e6f5d0\"], [0.7, \"#b8e186\"], [0.8, \"#7fbc41\"], [0.9, \"#4d9221\"], [1, \"#276419\"]], \"sequential\": [[0.0, \"#0d0887\"], [0.1111111111111111, \"#46039f\"], [0.2222222222222222, \"#7201a8\"], [0.3333333333333333, \"#9c179e\"], [0.4444444444444444, \"#bd3786\"], [0.5555555555555556, \"#d8576b\"], [0.6666666666666666, \"#ed7953\"], [0.7777777777777778, \"#fb9f3a\"], [0.8888888888888888, \"#fdca26\"], [1.0, \"#f0f921\"]], \"sequentialminus\": [[0.0, \"#0d0887\"], [0.1111111111111111, \"#46039f\"], [0.2222222222222222, \"#7201a8\"], [0.3333333333333333, \"#9c179e\"], [0.4444444444444444, \"#bd3786\"], [0.5555555555555556, \"#d8576b\"], [0.6666666666666666, \"#ed7953\"], [0.7777777777777778, \"#fb9f3a\"], [0.8888888888888888, \"#fdca26\"], [1.0, \"#f0f921\"]]}, \"colorway\": [\"#636efa\", \"#EF553B\", \"#00cc96\", \"#ab63fa\", \"#FFA15A\", \"#19d3f3\", \"#FF6692\", \"#B6E880\", \"#FF97FF\", \"#FECB52\"], \"font\": {\"color\": \"#2a3f5f\"}, \"geo\": {\"bgcolor\": \"white\", \"lakecolor\": \"white\", \"landcolor\": \"white\", \"showlakes\": true, \"showland\": true, \"subunitcolor\": \"#C8D4E3\"}, \"hoverlabel\": {\"align\": \"left\"}, \"hovermode\": \"closest\", \"mapbox\": {\"style\": \"light\"}, \"paper_bgcolor\": \"white\", \"plot_bgcolor\": \"white\", \"polar\": {\"angularaxis\": {\"gridcolor\": \"#EBF0F8\", \"linecolor\": \"#EBF0F8\", \"ticks\": \"\"}, \"bgcolor\": \"white\", \"radialaxis\": {\"gridcolor\": \"#EBF0F8\", \"linecolor\": \"#EBF0F8\", \"ticks\": \"\"}}, \"scene\": {\"xaxis\": {\"backgroundcolor\": \"white\", \"gridcolor\": \"#DFE8F3\", \"gridwidth\": 2, \"linecolor\": \"#EBF0F8\", \"showbackground\": true, \"ticks\": \"\", \"zerolinecolor\": \"#EBF0F8\"}, \"yaxis\": {\"backgroundcolor\": \"white\", \"gridcolor\": \"#DFE8F3\", \"gridwidth\": 2, \"linecolor\": \"#EBF0F8\", \"showbackground\": true, \"ticks\": \"\", \"zerolinecolor\": \"#EBF0F8\"}, \"zaxis\": {\"backgroundcolor\": \"white\", \"gridcolor\": \"#DFE8F3\", \"gridwidth\": 2, \"linecolor\": \"#EBF0F8\", \"showbackground\": true, \"ticks\": \"\", \"zerolinecolor\": \"#EBF0F8\"}}, \"shapedefaults\": {\"line\": {\"color\": \"#2a3f5f\"}}, \"ternary\": {\"aaxis\": {\"gridcolor\": \"#DFE8F3\", \"linecolor\": \"#A2B1C6\", \"ticks\": \"\"}, \"baxis\": {\"gridcolor\": \"#DFE8F3\", \"linecolor\": \"#A2B1C6\", \"ticks\": \"\"}, \"bgcolor\": \"white\", \"caxis\": {\"gridcolor\": \"#DFE8F3\", \"linecolor\": \"#A2B1C6\", \"ticks\": \"\"}}, \"title\": {\"x\": 0.05}, \"xaxis\": {\"automargin\": true, \"gridcolor\": \"#EBF0F8\", \"linecolor\": \"#EBF0F8\", \"ticks\": \"\", \"title\": {\"standoff\": 15}, \"zerolinecolor\": \"#EBF0F8\", \"zerolinewidth\": 2}, \"yaxis\": {\"automargin\": true, \"gridcolor\": \"#EBF0F8\", \"linecolor\": \"#EBF0F8\", \"ticks\": \"\", \"title\": {\"standoff\": 15}, \"zerolinecolor\": \"#EBF0F8\", \"zerolinewidth\": 2}}}, \"title\": {\"text\": \"Actual vs Predicted Price\"}, \"width\": 600, \"xaxis\": {\"title\": {\"text\": \"Batch\"}}, \"yaxis\": {\"title\": {\"text\": \"Price\"}}},\n",
              "                        {\"responsive\": true}\n",
              "                    ).then(function(){\n",
              "                            \n",
              "var gd = document.getElementById('2af6f2c5-e836-4d46-a62c-35937c34fe3d');\n",
              "var x = new MutationObserver(function (mutations, observer) {{\n",
              "        var display = window.getComputedStyle(gd).display;\n",
              "        if (!display || display === 'none') {{\n",
              "            console.log([gd, 'removed!']);\n",
              "            Plotly.purge(gd);\n",
              "            observer.disconnect();\n",
              "        }}\n",
              "}});\n",
              "\n",
              "// Listen for the removal of the full notebook cells\n",
              "var notebookContainer = gd.closest('#notebook-container');\n",
              "if (notebookContainer) {{\n",
              "    x.observe(notebookContainer, {childList: true});\n",
              "}}\n",
              "\n",
              "// Listen for the clearing of the current output cell\n",
              "var outputEl = gd.closest('.output');\n",
              "if (outputEl) {{\n",
              "    x.observe(outputEl, {childList: true});\n",
              "}}\n",
              "\n",
              "                        })\n",
              "                };\n",
              "                \n",
              "            </script>\n",
              "        </div>\n",
              "</body>\n",
              "</html>"
            ]
          },
          "metadata": {}
        },
        {
          "output_type": "display_data",
          "data": {
            "text/html": [
              "<html>\n",
              "<head><meta charset=\"utf-8\" /></head>\n",
              "<body>\n",
              "    <div>\n",
              "            <script src=\"https://cdnjs.cloudflare.com/ajax/libs/mathjax/2.7.5/MathJax.js?config=TeX-AMS-MML_SVG\"></script><script type=\"text/javascript\">if (window.MathJax) {MathJax.Hub.Config({SVG: {font: \"STIX-Web\"}});}</script>\n",
              "                <script type=\"text/javascript\">window.PlotlyConfig = {MathJaxConfig: 'local'};</script>\n",
              "        <script src=\"https://cdn.plot.ly/plotly-latest.min.js\"></script>    \n",
              "            <div id=\"be98dec7-6b91-4640-916f-3e5c0b2a311f\" class=\"plotly-graph-div\" style=\"height:400px; width:600px;\"></div>\n",
              "            <script type=\"text/javascript\">\n",
              "                \n",
              "                    window.PLOTLYENV=window.PLOTLYENV || {};\n",
              "                    \n",
              "                if (document.getElementById(\"be98dec7-6b91-4640-916f-3e5c0b2a311f\")) {\n",
              "                    Plotly.newPlot(\n",
              "                        'be98dec7-6b91-4640-916f-3e5c0b2a311f',\n",
              "                        [{\"fill\": \"tozeroy\", \"line\": {\"color\": \"#ccc\"}, \"mode\": \"lines\", \"name\": \"Test Data\", \"type\": \"scatter\", \"x\": [53, 54, 55, 56, 57, 58, 59, 60, 61, 62, 63, 64, 65, 66, 67, 68, 69, 70, 71, 72, 73, 74, 75, 76, 77, 78, 79, 80, 81, 82, 83, 84, 85, 86, 87, 88, 89, 90, 91, 92], \"y\": [10.800937302584847, 10.896765065955865, 10.915306076898887, 10.912288548105277, 10.88846444219873, 10.962913140805849, 10.964750456024063, 10.943379207734395, 10.953773894269311, 10.881813863299643, 10.958428478587585, 10.940112374469736, 10.9563132866797, 10.982951849587357, 10.97234210584348, 10.929818353857291, 10.945000602084018, 10.81237736504424, 10.813175936801388, 10.816602246136052, 10.752847357083192, 10.745733387190374, 10.681390317698114, 10.665455789823714, 10.510261970330783, 10.609714814631426, 10.525461182083475, 10.530754779306559, 10.453204508292304, 10.566079902482919, 10.553850397777254, 10.57750058731633, 10.559191918544023, 10.481882755388813, 10.451757793900292, 10.481259515068833, 10.525509500456465, 10.510343732936374, 10.53392600353503, 10.577624936426616]}, {\"fill\": \"tozeroy\", \"line\": {\"color\": \"#ccc\"}, \"mode\": \"lines+markers\", \"name\": \"Actual Price\", \"type\": \"scatter\", \"x\": [93, 94, 95, 96, 97], \"y\": [10.800937302584847, 10.896765065955865, 10.915306076898887, 10.912288548105277, 10.88846444219873]}, {\"line\": {\"color\": \"red\"}, \"mode\": \"lines+markers\", \"name\": \"Predicted Price\", \"type\": \"scatter\", \"x\": [93, 94, 95, 96, 97], \"y\": [10.152375221252441, 10.159567832946777, 10.185381889343262, 10.190038681030273, 10.200319290161133]}],\n",
              "                        {\"height\": 400, \"template\": {\"data\": {\"bar\": [{\"error_x\": {\"color\": \"#2a3f5f\"}, \"error_y\": {\"color\": \"#2a3f5f\"}, \"marker\": {\"line\": {\"color\": \"white\", \"width\": 0.5}}, \"type\": \"bar\"}], \"barpolar\": [{\"marker\": {\"line\": {\"color\": \"white\", \"width\": 0.5}}, \"type\": \"barpolar\"}], \"carpet\": [{\"aaxis\": {\"endlinecolor\": \"#2a3f5f\", \"gridcolor\": \"#C8D4E3\", \"linecolor\": \"#C8D4E3\", \"minorgridcolor\": \"#C8D4E3\", \"startlinecolor\": \"#2a3f5f\"}, \"baxis\": {\"endlinecolor\": \"#2a3f5f\", \"gridcolor\": \"#C8D4E3\", \"linecolor\": \"#C8D4E3\", \"minorgridcolor\": \"#C8D4E3\", \"startlinecolor\": \"#2a3f5f\"}, \"type\": \"carpet\"}], \"choropleth\": [{\"colorbar\": {\"outlinewidth\": 0, \"ticks\": \"\"}, \"type\": \"choropleth\"}], \"contour\": [{\"colorbar\": {\"outlinewidth\": 0, \"ticks\": \"\"}, \"colorscale\": [[0.0, \"#0d0887\"], [0.1111111111111111, \"#46039f\"], [0.2222222222222222, \"#7201a8\"], [0.3333333333333333, \"#9c179e\"], [0.4444444444444444, \"#bd3786\"], [0.5555555555555556, \"#d8576b\"], [0.6666666666666666, \"#ed7953\"], [0.7777777777777778, \"#fb9f3a\"], [0.8888888888888888, \"#fdca26\"], [1.0, \"#f0f921\"]], \"type\": \"contour\"}], \"contourcarpet\": [{\"colorbar\": {\"outlinewidth\": 0, \"ticks\": \"\"}, \"type\": \"contourcarpet\"}], \"heatmap\": [{\"colorbar\": {\"outlinewidth\": 0, \"ticks\": \"\"}, \"colorscale\": [[0.0, \"#0d0887\"], [0.1111111111111111, \"#46039f\"], [0.2222222222222222, \"#7201a8\"], [0.3333333333333333, \"#9c179e\"], [0.4444444444444444, \"#bd3786\"], [0.5555555555555556, \"#d8576b\"], [0.6666666666666666, \"#ed7953\"], [0.7777777777777778, \"#fb9f3a\"], [0.8888888888888888, \"#fdca26\"], [1.0, \"#f0f921\"]], \"type\": \"heatmap\"}], \"heatmapgl\": [{\"colorbar\": {\"outlinewidth\": 0, \"ticks\": \"\"}, \"colorscale\": [[0.0, \"#0d0887\"], [0.1111111111111111, \"#46039f\"], [0.2222222222222222, \"#7201a8\"], [0.3333333333333333, \"#9c179e\"], [0.4444444444444444, \"#bd3786\"], [0.5555555555555556, \"#d8576b\"], [0.6666666666666666, \"#ed7953\"], [0.7777777777777778, \"#fb9f3a\"], [0.8888888888888888, \"#fdca26\"], [1.0, \"#f0f921\"]], \"type\": \"heatmapgl\"}], \"histogram\": [{\"marker\": {\"colorbar\": {\"outlinewidth\": 0, \"ticks\": \"\"}}, \"type\": \"histogram\"}], \"histogram2d\": [{\"colorbar\": {\"outlinewidth\": 0, \"ticks\": \"\"}, \"colorscale\": [[0.0, \"#0d0887\"], [0.1111111111111111, \"#46039f\"], [0.2222222222222222, \"#7201a8\"], [0.3333333333333333, \"#9c179e\"], [0.4444444444444444, \"#bd3786\"], [0.5555555555555556, \"#d8576b\"], [0.6666666666666666, \"#ed7953\"], [0.7777777777777778, \"#fb9f3a\"], [0.8888888888888888, \"#fdca26\"], [1.0, \"#f0f921\"]], \"type\": \"histogram2d\"}], \"histogram2dcontour\": [{\"colorbar\": {\"outlinewidth\": 0, \"ticks\": \"\"}, \"colorscale\": [[0.0, \"#0d0887\"], [0.1111111111111111, \"#46039f\"], [0.2222222222222222, \"#7201a8\"], [0.3333333333333333, \"#9c179e\"], [0.4444444444444444, \"#bd3786\"], [0.5555555555555556, \"#d8576b\"], [0.6666666666666666, \"#ed7953\"], [0.7777777777777778, \"#fb9f3a\"], [0.8888888888888888, \"#fdca26\"], [1.0, \"#f0f921\"]], \"type\": \"histogram2dcontour\"}], \"mesh3d\": [{\"colorbar\": {\"outlinewidth\": 0, \"ticks\": \"\"}, \"type\": \"mesh3d\"}], \"parcoords\": [{\"line\": {\"colorbar\": {\"outlinewidth\": 0, \"ticks\": \"\"}}, \"type\": \"parcoords\"}], \"pie\": [{\"automargin\": true, \"type\": \"pie\"}], \"scatter\": [{\"marker\": {\"colorbar\": {\"outlinewidth\": 0, \"ticks\": \"\"}}, \"type\": \"scatter\"}], \"scatter3d\": [{\"line\": {\"colorbar\": {\"outlinewidth\": 0, \"ticks\": \"\"}}, \"marker\": {\"colorbar\": {\"outlinewidth\": 0, \"ticks\": \"\"}}, \"type\": \"scatter3d\"}], \"scattercarpet\": [{\"marker\": {\"colorbar\": {\"outlinewidth\": 0, \"ticks\": \"\"}}, \"type\": \"scattercarpet\"}], \"scattergeo\": [{\"marker\": {\"colorbar\": {\"outlinewidth\": 0, \"ticks\": \"\"}}, \"type\": \"scattergeo\"}], \"scattergl\": [{\"marker\": {\"colorbar\": {\"outlinewidth\": 0, \"ticks\": \"\"}}, \"type\": \"scattergl\"}], \"scattermapbox\": [{\"marker\": {\"colorbar\": {\"outlinewidth\": 0, \"ticks\": \"\"}}, \"type\": \"scattermapbox\"}], \"scatterpolar\": [{\"marker\": {\"colorbar\": {\"outlinewidth\": 0, \"ticks\": \"\"}}, \"type\": \"scatterpolar\"}], \"scatterpolargl\": [{\"marker\": {\"colorbar\": {\"outlinewidth\": 0, \"ticks\": \"\"}}, \"type\": \"scatterpolargl\"}], \"scatterternary\": [{\"marker\": {\"colorbar\": {\"outlinewidth\": 0, \"ticks\": \"\"}}, \"type\": \"scatterternary\"}], \"surface\": [{\"colorbar\": {\"outlinewidth\": 0, \"ticks\": \"\"}, \"colorscale\": [[0.0, \"#0d0887\"], [0.1111111111111111, \"#46039f\"], [0.2222222222222222, \"#7201a8\"], [0.3333333333333333, \"#9c179e\"], [0.4444444444444444, \"#bd3786\"], [0.5555555555555556, \"#d8576b\"], [0.6666666666666666, \"#ed7953\"], [0.7777777777777778, \"#fb9f3a\"], [0.8888888888888888, \"#fdca26\"], [1.0, \"#f0f921\"]], \"type\": \"surface\"}], \"table\": [{\"cells\": {\"fill\": {\"color\": \"#EBF0F8\"}, \"line\": {\"color\": \"white\"}}, \"header\": {\"fill\": {\"color\": \"#C8D4E3\"}, \"line\": {\"color\": \"white\"}}, \"type\": \"table\"}]}, \"layout\": {\"annotationdefaults\": {\"arrowcolor\": \"#2a3f5f\", \"arrowhead\": 0, \"arrowwidth\": 1}, \"coloraxis\": {\"colorbar\": {\"outlinewidth\": 0, \"ticks\": \"\"}}, \"colorscale\": {\"diverging\": [[0, \"#8e0152\"], [0.1, \"#c51b7d\"], [0.2, \"#de77ae\"], [0.3, \"#f1b6da\"], [0.4, \"#fde0ef\"], [0.5, \"#f7f7f7\"], [0.6, \"#e6f5d0\"], [0.7, \"#b8e186\"], [0.8, \"#7fbc41\"], [0.9, \"#4d9221\"], [1, \"#276419\"]], \"sequential\": [[0.0, \"#0d0887\"], [0.1111111111111111, \"#46039f\"], [0.2222222222222222, \"#7201a8\"], [0.3333333333333333, \"#9c179e\"], [0.4444444444444444, \"#bd3786\"], [0.5555555555555556, \"#d8576b\"], [0.6666666666666666, \"#ed7953\"], [0.7777777777777778, \"#fb9f3a\"], [0.8888888888888888, \"#fdca26\"], [1.0, \"#f0f921\"]], \"sequentialminus\": [[0.0, \"#0d0887\"], [0.1111111111111111, \"#46039f\"], [0.2222222222222222, \"#7201a8\"], [0.3333333333333333, \"#9c179e\"], [0.4444444444444444, \"#bd3786\"], [0.5555555555555556, \"#d8576b\"], [0.6666666666666666, \"#ed7953\"], [0.7777777777777778, \"#fb9f3a\"], [0.8888888888888888, \"#fdca26\"], [1.0, \"#f0f921\"]]}, \"colorway\": [\"#636efa\", \"#EF553B\", \"#00cc96\", \"#ab63fa\", \"#FFA15A\", \"#19d3f3\", \"#FF6692\", \"#B6E880\", \"#FF97FF\", \"#FECB52\"], \"font\": {\"color\": \"#2a3f5f\"}, \"geo\": {\"bgcolor\": \"white\", \"lakecolor\": \"white\", \"landcolor\": \"white\", \"showlakes\": true, \"showland\": true, \"subunitcolor\": \"#C8D4E3\"}, \"hoverlabel\": {\"align\": \"left\"}, \"hovermode\": \"closest\", \"mapbox\": {\"style\": \"light\"}, \"paper_bgcolor\": \"white\", \"plot_bgcolor\": \"white\", \"polar\": {\"angularaxis\": {\"gridcolor\": \"#EBF0F8\", \"linecolor\": \"#EBF0F8\", \"ticks\": \"\"}, \"bgcolor\": \"white\", \"radialaxis\": {\"gridcolor\": \"#EBF0F8\", \"linecolor\": \"#EBF0F8\", \"ticks\": \"\"}}, \"scene\": {\"xaxis\": {\"backgroundcolor\": \"white\", \"gridcolor\": \"#DFE8F3\", \"gridwidth\": 2, \"linecolor\": \"#EBF0F8\", \"showbackground\": true, \"ticks\": \"\", \"zerolinecolor\": \"#EBF0F8\"}, \"yaxis\": {\"backgroundcolor\": \"white\", \"gridcolor\": \"#DFE8F3\", \"gridwidth\": 2, \"linecolor\": \"#EBF0F8\", \"showbackground\": true, \"ticks\": \"\", \"zerolinecolor\": \"#EBF0F8\"}, \"zaxis\": {\"backgroundcolor\": \"white\", \"gridcolor\": \"#DFE8F3\", \"gridwidth\": 2, \"linecolor\": \"#EBF0F8\", \"showbackground\": true, \"ticks\": \"\", \"zerolinecolor\": \"#EBF0F8\"}}, \"shapedefaults\": {\"line\": {\"color\": \"#2a3f5f\"}}, \"ternary\": {\"aaxis\": {\"gridcolor\": \"#DFE8F3\", \"linecolor\": \"#A2B1C6\", \"ticks\": \"\"}, \"baxis\": {\"gridcolor\": \"#DFE8F3\", \"linecolor\": \"#A2B1C6\", \"ticks\": \"\"}, \"bgcolor\": \"white\", \"caxis\": {\"gridcolor\": \"#DFE8F3\", \"linecolor\": \"#A2B1C6\", \"ticks\": \"\"}}, \"title\": {\"x\": 0.05}, \"xaxis\": {\"automargin\": true, \"gridcolor\": \"#EBF0F8\", \"linecolor\": \"#EBF0F8\", \"ticks\": \"\", \"title\": {\"standoff\": 15}, \"zerolinecolor\": \"#EBF0F8\", \"zerolinewidth\": 2}, \"yaxis\": {\"automargin\": true, \"gridcolor\": \"#EBF0F8\", \"linecolor\": \"#EBF0F8\", \"ticks\": \"\", \"title\": {\"standoff\": 15}, \"zerolinecolor\": \"#EBF0F8\", \"zerolinewidth\": 2}}}, \"title\": {\"text\": \"Actual vs Predicted Price\"}, \"width\": 600, \"xaxis\": {\"title\": {\"text\": \"Batch\"}}, \"yaxis\": {\"title\": {\"text\": \"Price\"}}},\n",
              "                        {\"responsive\": true}\n",
              "                    ).then(function(){\n",
              "                            \n",
              "var gd = document.getElementById('be98dec7-6b91-4640-916f-3e5c0b2a311f');\n",
              "var x = new MutationObserver(function (mutations, observer) {{\n",
              "        var display = window.getComputedStyle(gd).display;\n",
              "        if (!display || display === 'none') {{\n",
              "            console.log([gd, 'removed!']);\n",
              "            Plotly.purge(gd);\n",
              "            observer.disconnect();\n",
              "        }}\n",
              "}});\n",
              "\n",
              "// Listen for the removal of the full notebook cells\n",
              "var notebookContainer = gd.closest('#notebook-container');\n",
              "if (notebookContainer) {{\n",
              "    x.observe(notebookContainer, {childList: true});\n",
              "}}\n",
              "\n",
              "// Listen for the clearing of the current output cell\n",
              "var outputEl = gd.closest('.output');\n",
              "if (outputEl) {{\n",
              "    x.observe(outputEl, {childList: true});\n",
              "}}\n",
              "\n",
              "                        })\n",
              "                };\n",
              "                \n",
              "            </script>\n",
              "        </div>\n",
              "</body>\n",
              "</html>"
            ]
          },
          "metadata": {}
        },
        {
          "output_type": "stream",
          "name": "stderr",
          "text": [
            "WARNING:absl:Found untraced functions such as lstm_cell_layer_call_fn, lstm_cell_layer_call_and_return_conditional_losses, lstm_cell_1_layer_call_fn, lstm_cell_1_layer_call_and_return_conditional_losses, lstm_cell_2_layer_call_fn while saving (showing 5 of 15). These functions will not be directly callable after loading.\n"
          ]
        },
        {
          "output_type": "stream",
          "name": "stdout",
          "text": [
            "INFO:tensorflow:Assets written to: /content/drive/MyDrive/Colab Notebooks/models/model_BTC_log_all/assets\n"
          ]
        },
        {
          "output_type": "stream",
          "name": "stderr",
          "text": [
            "INFO:tensorflow:Assets written to: /content/drive/MyDrive/Colab Notebooks/models/model_BTC_log_all/assets\n"
          ]
        }
      ]
    },
    {
      "cell_type": "code",
      "metadata": {
        "colab": {
          "base_uri": "https://localhost:8080/",
          "height": 1000
        },
        "id": "GiHOCL1XQdPb",
        "outputId": "be0a26a4-b598-437f-fab6-6f51fba485c8"
      },
      "source": [
        "# BTC -optimal features\n",
        "modelname = f'model_{crypto}_{transform}'\n",
        "model = create_lstm_model(config,x_train,n_predict)\n",
        "\n",
        "# train\n",
        "tic = timeit.default_timer()\n",
        "history = model.fit(x_train,\n",
        "                    y_train,\n",
        "                    batch_size=config['train']['batch_size'],\n",
        "                    epochs=config['train']['epochs'],\n",
        "                    callbacks = [config['train']['early_stop']],\n",
        "                    validation_split =0.10, \n",
        "                    verbose = 0\n",
        "                    )\n",
        "\n",
        "# print the training time\n",
        "toc =timeit.default_timer()\n",
        "print('\\nTraining Time')\n",
        "print('='*60)\n",
        "print(f'Minutes:{round((toc-tic)/60,2)}\\n')\n",
        "\n",
        "# predict prices\n",
        "# calculate the performance metrics\n",
        "# plot training metrics\n",
        "# plot predictions for random batches\n",
        "y_pred_scaled = calculate_performance(x_test,y_test,model,scaler_y)\n",
        "plot_training_metrics(history)\n",
        "plot_n_price_predictions(idx_close,x_test,y_pred_scaled,scaler_y,2)\n",
        "\n",
        "\n",
        "# save model and training performance\n",
        "model.save(f'/content/drive/MyDrive/Colab Notebooks/models/{modelname}_features')\n",
        "\n",
        "df_hist = pd.DataFrame(history.history) \n",
        "df_hist.to_csv(f'/content/drive/MyDrive/Colab Notebooks/models/{modelname}_features/train_history.csv')"
      ],
      "execution_count": 78,
      "outputs": [
        {
          "output_type": "stream",
          "name": "stdout",
          "text": [
            "Model: \"LSTM\"\n",
            "_________________________________________________________________\n",
            "Layer (type)                 Output Shape              Param #   \n",
            "=================================================================\n",
            "lstm (LSTM)                  (None, 40, 40)            8800      \n",
            "_________________________________________________________________\n",
            "lstm_1 (LSTM)                (None, 40, 256)           304128    \n",
            "_________________________________________________________________\n",
            "dropout (Dropout)            (None, 40, 256)           0         \n",
            "_________________________________________________________________\n",
            "lstm_2 (LSTM)                (None, 128)               197120    \n",
            "_________________________________________________________________\n",
            "dropout_1 (Dropout)          (None, 128)               0         \n",
            "_________________________________________________________________\n",
            "dense (Dense)                (None, 32)                4128      \n",
            "_________________________________________________________________\n",
            "dropout_2 (Dropout)          (None, 32)                0         \n",
            "_________________________________________________________________\n",
            "dense_1 (Dense)              (None, 16)                528       \n",
            "_________________________________________________________________\n",
            "dropout_3 (Dropout)          (None, 16)                0         \n",
            "_________________________________________________________________\n",
            "dense_2 (Dense)              (None, 5)                 85        \n",
            "=================================================================\n",
            "Total params: 514,789\n",
            "Trainable params: 514,789\n",
            "Non-trainable params: 0\n",
            "_________________________________________________________________\n",
            "\n",
            "Training Time\n",
            "============================================================\n",
            "Minutes:4.1\n",
            "\n",
            "\n",
            "Model Error\n",
            "==============================================================\n",
            "Mean Absolute Error (MAE)------------------------------  0.24\n",
            "Root Mean Squared Error (MSE)--------------------------  0.27\n",
            "Mean Absolute Percentage Error (MAPE)------------------  2.29%\n",
            "Median Absolute Percentage Error (MDAPE)---------------   2.1%\n"
          ]
        },
        {
          "output_type": "display_data",
          "data": {
            "text/html": [
              "<html>\n",
              "<head><meta charset=\"utf-8\" /></head>\n",
              "<body>\n",
              "    <div>\n",
              "            <script src=\"https://cdnjs.cloudflare.com/ajax/libs/mathjax/2.7.5/MathJax.js?config=TeX-AMS-MML_SVG\"></script><script type=\"text/javascript\">if (window.MathJax) {MathJax.Hub.Config({SVG: {font: \"STIX-Web\"}});}</script>\n",
              "                <script type=\"text/javascript\">window.PlotlyConfig = {MathJaxConfig: 'local'};</script>\n",
              "        <script src=\"https://cdn.plot.ly/plotly-latest.min.js\"></script>    \n",
              "            <div id=\"6931c133-f230-48d4-9af8-7910ac84c462\" class=\"plotly-graph-div\" style=\"height:500px; width:700px;\"></div>\n",
              "            <script type=\"text/javascript\">\n",
              "                \n",
              "                    window.PLOTLYENV=window.PLOTLYENV || {};\n",
              "                    \n",
              "                if (document.getElementById(\"6931c133-f230-48d4-9af8-7910ac84c462\")) {\n",
              "                    Plotly.newPlot(\n",
              "                        '6931c133-f230-48d4-9af8-7910ac84c462',\n",
              "                        [{\"line\": {\"color\": \"royalblue\", \"width\": 3}, \"name\": \"train-loss\", \"type\": \"scatter\", \"x\": [1, 2, 3, 4, 5, 6, 7, 8, 9, 10, 11, 12, 13, 14, 15, 16, 17, 18, 19, 20, 21, 22, 23, 24, 25, 26, 27, 28, 29, 30, 31, 32, 33, 34, 35, 36, 37, 38, 39, 40, 41, 42, 43, 44, 45, 46, 47, 48, 49, 50, 51, 52, 53, 54, 55, 56, 57, 58, 59, 60, 61, 62, 63, 64, 65, 66, 67, 68, 69, 70, 71, 72, 73, 74, 75, 76, 77, 78, 79, 80, 81, 82, 83, 84, 85, 86, 87, 88, 89, 90, 91, 92, 93, 94, 95], \"y\": [0.05634976178407669, 0.01986554078757763, 0.012918290682137012, 0.011533777229487896, 0.008814538829028606, 0.009026577696204185, 0.008161582984030247, 0.007345395162701607, 0.007059688679873943, 0.0067759184166789055, 0.006590802688151598, 0.006736771669238806, 0.006130790803581476, 0.005849429406225681, 0.005778704769909382, 0.005278755445033312, 0.005739827640354633, 0.005077033769339323, 0.004949376918375492, 0.004697384778410196, 0.004781118128448725, 0.00461305258795619, 0.004311277996748686, 0.004653616342693567, 0.004196313675493002, 0.004323406610637903, 0.004222431685775518, 0.004083328880369663, 0.004302405286580324, 0.003747759386897087, 0.004054560791701078, 0.003744102083146572, 0.003586977254599333, 0.003599788760766387, 0.0034560393542051315, 0.003793667769059539, 0.003289407817646861, 0.0031800486613065004, 0.0034793082159012556, 0.003319421550258994, 0.003019197378307581, 0.0029784319922327995, 0.0031641225796192884, 0.002752976957708597, 0.002781806280836463, 0.0028717799577862024, 0.0026623085141181946, 0.0026898665819317102, 0.0027392299380153418, 0.002640985883772373, 0.0025292758364230394, 0.0027121177408844233, 0.002574975835159421, 0.002327664289623499, 0.0022614202462136745, 0.0022835745476186275, 0.0022026023361831903, 0.0023222577292472124, 0.0022505391389131546, 0.0021898436825722456, 0.002412488218396902, 0.002121187513694167, 0.0020007737912237644, 0.0021384546998888254, 0.002338235964998603, 0.002218867652118206, 0.0020306785590946674, 0.002210326259955764, 0.0021426451858133078, 0.001997079700231552, 0.0019417915027588606, 0.001869752537459135, 0.0018595921574160457, 0.0019754834938794374, 0.0021728447172790766, 0.0019055482698604465, 0.0018456497928127646, 0.0017183972522616386, 0.0016622303519397974, 0.0016538873314857483, 0.001770869712345302, 0.0017808184493333101, 0.0016916944878175855, 0.001685634022578597, 0.0015525156632065773, 0.0016645718133077025, 0.0015804236754775047, 0.001706003793515265, 0.0015990958781912923, 0.0017046420834958553, 0.001707445946522057, 0.0015619981568306684, 0.0015957430005073547, 0.0016251925844699144, 0.0015728826401755214]}, {\"line\": {\"color\": \"crimson\", \"width\": 3}, \"name\": \"val-loss\", \"type\": \"scatter\", \"x\": [1, 2, 3, 4, 5, 6, 7, 8, 9, 10, 11, 12, 13, 14, 15, 16, 17, 18, 19, 20, 21, 22, 23, 24, 25, 26, 27, 28, 29, 30, 31, 32, 33, 34, 35, 36, 37, 38, 39, 40, 41, 42, 43, 44, 45, 46, 47, 48, 49, 50, 51, 52, 53, 54, 55, 56, 57, 58, 59, 60, 61, 62, 63, 64, 65, 66, 67, 68, 69, 70, 71, 72, 73, 74, 75, 76, 77, 78, 79, 80, 81, 82, 83, 84, 85, 86, 87, 88, 89, 90, 91, 92, 93, 94, 95], \"y\": [0.16764098405838013, 0.019877303391695023, 0.020503688603639603, 0.0048466031439602375, 0.005095107015222311, 0.006616233382374048, 0.00974275078624487, 0.002403970342129469, 0.0013588983565568924, 0.002278665080666542, 0.005805119872093201, 0.0020185401663184166, 0.001438881503418088, 0.00131008040625602, 0.0013137838104739785, 0.003157590050250292, 0.001074245315976441, 0.002206339268013835, 0.0017943748971447349, 0.000874465680681169, 0.001111319288611412, 0.0007260782876983285, 0.0018934931140393019, 0.0017988436156883836, 0.00177091418299824, 0.0014069387689232826, 0.0015739890513941646, 0.0018023059237748384, 0.0007837340235710144, 0.001906752004288137, 0.004158644936978817, 0.001468381262384355, 0.0019140182994306087, 0.0019605273846536875, 0.0028870408423244953, 0.0006900144508108497, 0.0031311255879700184, 0.003402122063562274, 0.003879009513184428, 0.0009209216805174947, 0.0006265933043323457, 0.0012947228970006108, 0.0007165108690969646, 0.0007441985071636736, 0.001055454253219068, 0.002953664865344763, 0.002559648361057043, 0.001425253925845027, 0.0015005336608737707, 0.002410468878224492, 0.004037271719425917, 0.0011568766785785556, 0.002363138133659959, 0.0021189795807003975, 0.003711528843268752, 0.002035786397755146, 0.003592970548197627, 0.0026344191282987595, 0.0009030775399878621, 0.0021592124830931425, 0.001850334694609046, 0.0008630636730231345, 0.0032258641440421343, 0.0013983409153297544, 0.0006393498624674976, 0.0014657978899776936, 0.0011283060302957892, 0.000696131493896246, 0.0025522380601614714, 0.0017574371304363012, 0.00146190426312387, 0.0037377486005425453, 0.001974456710740924, 0.00103863631375134, 0.0009597805328667164, 0.0015350542962551117, 0.0017151255160570145, 0.0019302989821881056, 0.0011429029982537031, 0.0018155593425035477, 0.0011495060753077269, 0.0010908275144174695, 0.001052415114827454, 0.002207244047895074, 0.0030228127725422382, 0.00208880752325058, 0.0023102047853171825, 0.0021235181484371424, 0.0010339227737858891, 0.0025099380873143673, 0.003946052864193916, 0.0011594687821343541, 0.002400825032964349, 0.0022585445549339056, 0.004858050961047411]}],\n",
              "                        {\"height\": 500, \"template\": {\"data\": {\"bar\": [{\"error_x\": {\"color\": \"#2a3f5f\"}, \"error_y\": {\"color\": \"#2a3f5f\"}, \"marker\": {\"line\": {\"color\": \"white\", \"width\": 0.5}}, \"type\": \"bar\"}], \"barpolar\": [{\"marker\": {\"line\": {\"color\": \"white\", \"width\": 0.5}}, \"type\": \"barpolar\"}], \"carpet\": [{\"aaxis\": {\"endlinecolor\": \"#2a3f5f\", \"gridcolor\": \"#C8D4E3\", \"linecolor\": \"#C8D4E3\", \"minorgridcolor\": \"#C8D4E3\", \"startlinecolor\": \"#2a3f5f\"}, \"baxis\": {\"endlinecolor\": \"#2a3f5f\", \"gridcolor\": \"#C8D4E3\", \"linecolor\": \"#C8D4E3\", \"minorgridcolor\": \"#C8D4E3\", \"startlinecolor\": \"#2a3f5f\"}, \"type\": \"carpet\"}], \"choropleth\": [{\"colorbar\": {\"outlinewidth\": 0, \"ticks\": \"\"}, \"type\": \"choropleth\"}], \"contour\": [{\"colorbar\": {\"outlinewidth\": 0, \"ticks\": \"\"}, \"colorscale\": [[0.0, \"#0d0887\"], [0.1111111111111111, \"#46039f\"], [0.2222222222222222, \"#7201a8\"], [0.3333333333333333, \"#9c179e\"], [0.4444444444444444, \"#bd3786\"], [0.5555555555555556, \"#d8576b\"], [0.6666666666666666, \"#ed7953\"], [0.7777777777777778, \"#fb9f3a\"], [0.8888888888888888, \"#fdca26\"], [1.0, \"#f0f921\"]], \"type\": \"contour\"}], \"contourcarpet\": [{\"colorbar\": {\"outlinewidth\": 0, \"ticks\": \"\"}, \"type\": \"contourcarpet\"}], \"heatmap\": [{\"colorbar\": {\"outlinewidth\": 0, \"ticks\": \"\"}, \"colorscale\": [[0.0, \"#0d0887\"], [0.1111111111111111, \"#46039f\"], [0.2222222222222222, \"#7201a8\"], [0.3333333333333333, \"#9c179e\"], [0.4444444444444444, \"#bd3786\"], [0.5555555555555556, \"#d8576b\"], [0.6666666666666666, \"#ed7953\"], [0.7777777777777778, \"#fb9f3a\"], [0.8888888888888888, \"#fdca26\"], [1.0, \"#f0f921\"]], \"type\": \"heatmap\"}], \"heatmapgl\": [{\"colorbar\": {\"outlinewidth\": 0, \"ticks\": \"\"}, \"colorscale\": [[0.0, \"#0d0887\"], [0.1111111111111111, \"#46039f\"], [0.2222222222222222, \"#7201a8\"], [0.3333333333333333, \"#9c179e\"], [0.4444444444444444, \"#bd3786\"], [0.5555555555555556, \"#d8576b\"], [0.6666666666666666, \"#ed7953\"], [0.7777777777777778, \"#fb9f3a\"], [0.8888888888888888, \"#fdca26\"], [1.0, \"#f0f921\"]], \"type\": \"heatmapgl\"}], \"histogram\": [{\"marker\": {\"colorbar\": {\"outlinewidth\": 0, \"ticks\": \"\"}}, \"type\": \"histogram\"}], \"histogram2d\": [{\"colorbar\": {\"outlinewidth\": 0, \"ticks\": \"\"}, \"colorscale\": [[0.0, \"#0d0887\"], [0.1111111111111111, \"#46039f\"], [0.2222222222222222, \"#7201a8\"], [0.3333333333333333, \"#9c179e\"], [0.4444444444444444, \"#bd3786\"], [0.5555555555555556, \"#d8576b\"], [0.6666666666666666, \"#ed7953\"], [0.7777777777777778, \"#fb9f3a\"], [0.8888888888888888, \"#fdca26\"], [1.0, \"#f0f921\"]], \"type\": \"histogram2d\"}], \"histogram2dcontour\": [{\"colorbar\": {\"outlinewidth\": 0, \"ticks\": \"\"}, \"colorscale\": [[0.0, \"#0d0887\"], [0.1111111111111111, \"#46039f\"], [0.2222222222222222, \"#7201a8\"], [0.3333333333333333, \"#9c179e\"], [0.4444444444444444, \"#bd3786\"], [0.5555555555555556, \"#d8576b\"], [0.6666666666666666, \"#ed7953\"], [0.7777777777777778, \"#fb9f3a\"], [0.8888888888888888, \"#fdca26\"], [1.0, \"#f0f921\"]], \"type\": \"histogram2dcontour\"}], \"mesh3d\": [{\"colorbar\": {\"outlinewidth\": 0, \"ticks\": \"\"}, \"type\": \"mesh3d\"}], \"parcoords\": [{\"line\": {\"colorbar\": {\"outlinewidth\": 0, \"ticks\": \"\"}}, \"type\": \"parcoords\"}], \"pie\": [{\"automargin\": true, \"type\": \"pie\"}], \"scatter\": [{\"marker\": {\"colorbar\": {\"outlinewidth\": 0, \"ticks\": \"\"}}, \"type\": \"scatter\"}], \"scatter3d\": [{\"line\": {\"colorbar\": {\"outlinewidth\": 0, \"ticks\": \"\"}}, \"marker\": {\"colorbar\": {\"outlinewidth\": 0, \"ticks\": \"\"}}, \"type\": \"scatter3d\"}], \"scattercarpet\": [{\"marker\": {\"colorbar\": {\"outlinewidth\": 0, \"ticks\": \"\"}}, \"type\": \"scattercarpet\"}], \"scattergeo\": [{\"marker\": {\"colorbar\": {\"outlinewidth\": 0, \"ticks\": \"\"}}, \"type\": \"scattergeo\"}], \"scattergl\": [{\"marker\": {\"colorbar\": {\"outlinewidth\": 0, \"ticks\": \"\"}}, \"type\": \"scattergl\"}], \"scattermapbox\": [{\"marker\": {\"colorbar\": {\"outlinewidth\": 0, \"ticks\": \"\"}}, \"type\": \"scattermapbox\"}], \"scatterpolar\": [{\"marker\": {\"colorbar\": {\"outlinewidth\": 0, \"ticks\": \"\"}}, \"type\": \"scatterpolar\"}], \"scatterpolargl\": [{\"marker\": {\"colorbar\": {\"outlinewidth\": 0, \"ticks\": \"\"}}, \"type\": \"scatterpolargl\"}], \"scatterternary\": [{\"marker\": {\"colorbar\": {\"outlinewidth\": 0, \"ticks\": \"\"}}, \"type\": \"scatterternary\"}], \"surface\": [{\"colorbar\": {\"outlinewidth\": 0, \"ticks\": \"\"}, \"colorscale\": [[0.0, \"#0d0887\"], [0.1111111111111111, \"#46039f\"], [0.2222222222222222, \"#7201a8\"], [0.3333333333333333, \"#9c179e\"], [0.4444444444444444, \"#bd3786\"], [0.5555555555555556, \"#d8576b\"], [0.6666666666666666, \"#ed7953\"], [0.7777777777777778, \"#fb9f3a\"], [0.8888888888888888, \"#fdca26\"], [1.0, \"#f0f921\"]], \"type\": \"surface\"}], \"table\": [{\"cells\": {\"fill\": {\"color\": \"#EBF0F8\"}, \"line\": {\"color\": \"white\"}}, \"header\": {\"fill\": {\"color\": \"#C8D4E3\"}, \"line\": {\"color\": \"white\"}}, \"type\": \"table\"}]}, \"layout\": {\"annotationdefaults\": {\"arrowcolor\": \"#2a3f5f\", \"arrowhead\": 0, \"arrowwidth\": 1}, \"coloraxis\": {\"colorbar\": {\"outlinewidth\": 0, \"ticks\": \"\"}}, \"colorscale\": {\"diverging\": [[0, \"#8e0152\"], [0.1, \"#c51b7d\"], [0.2, \"#de77ae\"], [0.3, \"#f1b6da\"], [0.4, \"#fde0ef\"], [0.5, \"#f7f7f7\"], [0.6, \"#e6f5d0\"], [0.7, \"#b8e186\"], [0.8, \"#7fbc41\"], [0.9, \"#4d9221\"], [1, \"#276419\"]], \"sequential\": [[0.0, \"#0d0887\"], [0.1111111111111111, \"#46039f\"], [0.2222222222222222, \"#7201a8\"], [0.3333333333333333, \"#9c179e\"], [0.4444444444444444, \"#bd3786\"], [0.5555555555555556, \"#d8576b\"], [0.6666666666666666, \"#ed7953\"], [0.7777777777777778, \"#fb9f3a\"], [0.8888888888888888, \"#fdca26\"], [1.0, \"#f0f921\"]], \"sequentialminus\": [[0.0, \"#0d0887\"], [0.1111111111111111, \"#46039f\"], [0.2222222222222222, \"#7201a8\"], [0.3333333333333333, \"#9c179e\"], [0.4444444444444444, \"#bd3786\"], [0.5555555555555556, \"#d8576b\"], [0.6666666666666666, \"#ed7953\"], [0.7777777777777778, \"#fb9f3a\"], [0.8888888888888888, \"#fdca26\"], [1.0, \"#f0f921\"]]}, \"colorway\": [\"#636efa\", \"#EF553B\", \"#00cc96\", \"#ab63fa\", \"#FFA15A\", \"#19d3f3\", \"#FF6692\", \"#B6E880\", \"#FF97FF\", \"#FECB52\"], \"font\": {\"color\": \"#2a3f5f\"}, \"geo\": {\"bgcolor\": \"white\", \"lakecolor\": \"white\", \"landcolor\": \"white\", \"showlakes\": true, \"showland\": true, \"subunitcolor\": \"#C8D4E3\"}, \"hoverlabel\": {\"align\": \"left\"}, \"hovermode\": \"closest\", \"mapbox\": {\"style\": \"light\"}, \"paper_bgcolor\": \"white\", \"plot_bgcolor\": \"white\", \"polar\": {\"angularaxis\": {\"gridcolor\": \"#EBF0F8\", \"linecolor\": \"#EBF0F8\", \"ticks\": \"\"}, \"bgcolor\": \"white\", \"radialaxis\": {\"gridcolor\": \"#EBF0F8\", \"linecolor\": \"#EBF0F8\", \"ticks\": \"\"}}, \"scene\": {\"xaxis\": {\"backgroundcolor\": \"white\", \"gridcolor\": \"#DFE8F3\", \"gridwidth\": 2, \"linecolor\": \"#EBF0F8\", \"showbackground\": true, \"ticks\": \"\", \"zerolinecolor\": \"#EBF0F8\"}, \"yaxis\": {\"backgroundcolor\": \"white\", \"gridcolor\": \"#DFE8F3\", \"gridwidth\": 2, \"linecolor\": \"#EBF0F8\", \"showbackground\": true, \"ticks\": \"\", \"zerolinecolor\": \"#EBF0F8\"}, \"zaxis\": {\"backgroundcolor\": \"white\", \"gridcolor\": \"#DFE8F3\", \"gridwidth\": 2, \"linecolor\": \"#EBF0F8\", \"showbackground\": true, \"ticks\": \"\", \"zerolinecolor\": \"#EBF0F8\"}}, \"shapedefaults\": {\"line\": {\"color\": \"#2a3f5f\"}}, \"ternary\": {\"aaxis\": {\"gridcolor\": \"#DFE8F3\", \"linecolor\": \"#A2B1C6\", \"ticks\": \"\"}, \"baxis\": {\"gridcolor\": \"#DFE8F3\", \"linecolor\": \"#A2B1C6\", \"ticks\": \"\"}, \"bgcolor\": \"white\", \"caxis\": {\"gridcolor\": \"#DFE8F3\", \"linecolor\": \"#A2B1C6\", \"ticks\": \"\"}}, \"title\": {\"x\": 0.05}, \"xaxis\": {\"automargin\": true, \"gridcolor\": \"#EBF0F8\", \"linecolor\": \"#EBF0F8\", \"ticks\": \"\", \"title\": {\"standoff\": 15}, \"zerolinecolor\": \"#EBF0F8\", \"zerolinewidth\": 2}, \"yaxis\": {\"automargin\": true, \"gridcolor\": \"#EBF0F8\", \"linecolor\": \"#EBF0F8\", \"ticks\": \"\", \"title\": {\"standoff\": 15}, \"zerolinecolor\": \"#EBF0F8\", \"zerolinewidth\": 2}}}, \"title\": {\"text\": \"Training Metrics\"}, \"width\": 700, \"xaxis\": {\"title\": {\"text\": \"epochs\"}}, \"yaxis\": {\"title\": {\"text\": \"loss\"}}},\n",
              "                        {\"responsive\": true}\n",
              "                    ).then(function(){\n",
              "                            \n",
              "var gd = document.getElementById('6931c133-f230-48d4-9af8-7910ac84c462');\n",
              "var x = new MutationObserver(function (mutations, observer) {{\n",
              "        var display = window.getComputedStyle(gd).display;\n",
              "        if (!display || display === 'none') {{\n",
              "            console.log([gd, 'removed!']);\n",
              "            Plotly.purge(gd);\n",
              "            observer.disconnect();\n",
              "        }}\n",
              "}});\n",
              "\n",
              "// Listen for the removal of the full notebook cells\n",
              "var notebookContainer = gd.closest('#notebook-container');\n",
              "if (notebookContainer) {{\n",
              "    x.observe(notebookContainer, {childList: true});\n",
              "}}\n",
              "\n",
              "// Listen for the clearing of the current output cell\n",
              "var outputEl = gd.closest('.output');\n",
              "if (outputEl) {{\n",
              "    x.observe(outputEl, {childList: true});\n",
              "}}\n",
              "\n",
              "                        })\n",
              "                };\n",
              "                \n",
              "            </script>\n",
              "        </div>\n",
              "</body>\n",
              "</html>"
            ]
          },
          "metadata": {}
        },
        {
          "output_type": "display_data",
          "data": {
            "text/html": [
              "<html>\n",
              "<head><meta charset=\"utf-8\" /></head>\n",
              "<body>\n",
              "    <div>\n",
              "            <script src=\"https://cdnjs.cloudflare.com/ajax/libs/mathjax/2.7.5/MathJax.js?config=TeX-AMS-MML_SVG\"></script><script type=\"text/javascript\">if (window.MathJax) {MathJax.Hub.Config({SVG: {font: \"STIX-Web\"}});}</script>\n",
              "                <script type=\"text/javascript\">window.PlotlyConfig = {MathJaxConfig: 'local'};</script>\n",
              "        <script src=\"https://cdn.plot.ly/plotly-latest.min.js\"></script>    \n",
              "            <div id=\"6f28f458-15a0-43ce-917e-22f2abc8d3dd\" class=\"plotly-graph-div\" style=\"height:400px; width:600px;\"></div>\n",
              "            <script type=\"text/javascript\">\n",
              "                \n",
              "                    window.PLOTLYENV=window.PLOTLYENV || {};\n",
              "                    \n",
              "                if (document.getElementById(\"6f28f458-15a0-43ce-917e-22f2abc8d3dd\")) {\n",
              "                    Plotly.newPlot(\n",
              "                        '6f28f458-15a0-43ce-917e-22f2abc8d3dd',\n",
              "                        [{\"fill\": \"tozeroy\", \"line\": {\"color\": \"#ccc\"}, \"mode\": \"lines\", \"name\": \"Test Data\", \"type\": \"scatter\", \"x\": [132, 133, 134, 135, 136, 137, 138, 139, 140, 141, 142, 143, 144, 145, 146, 147, 148, 149, 150, 151, 152, 153, 154, 155, 156, 157, 158, 159, 160, 161, 162, 163, 164, 165, 166, 167, 168, 169, 170, 171], \"y\": [10.473930797145576, 10.525074282482853, 10.582988799407083, 10.597123613574535, 10.597046648247378, 10.650326436499919, 10.632528523944766, 10.592763248561692, 10.575100016599102, 10.550775332540315, 10.589690175377404, 10.61796707213936, 10.66515445933413, 10.704873253322848, 10.687260549289931, 10.741890253752098, 10.727333774648573, 10.725709333961985, 10.700972225644158, 10.774780918479548, 10.759359478912216, 10.757345704221615, 10.734248500228874, 10.707638172470022, 10.707847118118515, 10.752796674693997, 10.806135037127264, 10.795933647187153, 10.804445739393069, 10.809502670658368, 10.772141664652592, 10.799030939008446, 10.754575435989532, 10.80100109117684, 10.79743757891689, 10.794826153147854, 10.75753919754622, 10.760047175792012, 10.795701142379043, 10.804596420922662]}, {\"fill\": \"tozeroy\", \"line\": {\"color\": \"#ccc\"}, \"mode\": \"lines+markers\", \"name\": \"Actual Price\", \"type\": \"scatter\", \"x\": [172, 173, 174, 175, 176], \"y\": [10.473930797145576, 10.525074282482853, 10.582988799407083, 10.597123613574535, 10.597046648247378]}, {\"line\": {\"color\": \"red\"}, \"mode\": \"lines+markers\", \"name\": \"Predicted Price\", \"type\": \"scatter\", \"x\": [172, 173, 174, 175, 176], \"y\": [10.497579574584961, 10.519671440124512, 10.483576774597168, 10.584507942199707, 10.461252212524414]}],\n",
              "                        {\"height\": 400, \"template\": {\"data\": {\"bar\": [{\"error_x\": {\"color\": \"#2a3f5f\"}, \"error_y\": {\"color\": \"#2a3f5f\"}, \"marker\": {\"line\": {\"color\": \"white\", \"width\": 0.5}}, \"type\": \"bar\"}], \"barpolar\": [{\"marker\": {\"line\": {\"color\": \"white\", \"width\": 0.5}}, \"type\": \"barpolar\"}], \"carpet\": [{\"aaxis\": {\"endlinecolor\": \"#2a3f5f\", \"gridcolor\": \"#C8D4E3\", \"linecolor\": \"#C8D4E3\", \"minorgridcolor\": \"#C8D4E3\", \"startlinecolor\": \"#2a3f5f\"}, \"baxis\": {\"endlinecolor\": \"#2a3f5f\", \"gridcolor\": \"#C8D4E3\", \"linecolor\": \"#C8D4E3\", \"minorgridcolor\": \"#C8D4E3\", \"startlinecolor\": \"#2a3f5f\"}, \"type\": \"carpet\"}], \"choropleth\": [{\"colorbar\": {\"outlinewidth\": 0, \"ticks\": \"\"}, \"type\": \"choropleth\"}], \"contour\": [{\"colorbar\": {\"outlinewidth\": 0, \"ticks\": \"\"}, \"colorscale\": [[0.0, \"#0d0887\"], [0.1111111111111111, \"#46039f\"], [0.2222222222222222, \"#7201a8\"], [0.3333333333333333, \"#9c179e\"], [0.4444444444444444, \"#bd3786\"], [0.5555555555555556, \"#d8576b\"], [0.6666666666666666, \"#ed7953\"], [0.7777777777777778, \"#fb9f3a\"], [0.8888888888888888, \"#fdca26\"], [1.0, \"#f0f921\"]], \"type\": \"contour\"}], \"contourcarpet\": [{\"colorbar\": {\"outlinewidth\": 0, \"ticks\": \"\"}, \"type\": \"contourcarpet\"}], \"heatmap\": [{\"colorbar\": {\"outlinewidth\": 0, \"ticks\": \"\"}, \"colorscale\": [[0.0, \"#0d0887\"], [0.1111111111111111, \"#46039f\"], [0.2222222222222222, \"#7201a8\"], [0.3333333333333333, \"#9c179e\"], [0.4444444444444444, \"#bd3786\"], [0.5555555555555556, \"#d8576b\"], [0.6666666666666666, \"#ed7953\"], [0.7777777777777778, \"#fb9f3a\"], [0.8888888888888888, \"#fdca26\"], [1.0, \"#f0f921\"]], \"type\": \"heatmap\"}], \"heatmapgl\": [{\"colorbar\": {\"outlinewidth\": 0, \"ticks\": \"\"}, \"colorscale\": [[0.0, \"#0d0887\"], [0.1111111111111111, \"#46039f\"], [0.2222222222222222, \"#7201a8\"], [0.3333333333333333, \"#9c179e\"], [0.4444444444444444, \"#bd3786\"], [0.5555555555555556, \"#d8576b\"], [0.6666666666666666, \"#ed7953\"], [0.7777777777777778, \"#fb9f3a\"], [0.8888888888888888, \"#fdca26\"], [1.0, \"#f0f921\"]], \"type\": \"heatmapgl\"}], \"histogram\": [{\"marker\": {\"colorbar\": {\"outlinewidth\": 0, \"ticks\": \"\"}}, \"type\": \"histogram\"}], \"histogram2d\": [{\"colorbar\": {\"outlinewidth\": 0, \"ticks\": \"\"}, \"colorscale\": [[0.0, \"#0d0887\"], [0.1111111111111111, \"#46039f\"], [0.2222222222222222, \"#7201a8\"], [0.3333333333333333, \"#9c179e\"], [0.4444444444444444, \"#bd3786\"], [0.5555555555555556, \"#d8576b\"], [0.6666666666666666, \"#ed7953\"], [0.7777777777777778, \"#fb9f3a\"], [0.8888888888888888, \"#fdca26\"], [1.0, \"#f0f921\"]], \"type\": \"histogram2d\"}], \"histogram2dcontour\": [{\"colorbar\": {\"outlinewidth\": 0, \"ticks\": \"\"}, \"colorscale\": [[0.0, \"#0d0887\"], [0.1111111111111111, \"#46039f\"], [0.2222222222222222, \"#7201a8\"], [0.3333333333333333, \"#9c179e\"], [0.4444444444444444, \"#bd3786\"], [0.5555555555555556, \"#d8576b\"], [0.6666666666666666, \"#ed7953\"], [0.7777777777777778, \"#fb9f3a\"], [0.8888888888888888, \"#fdca26\"], [1.0, \"#f0f921\"]], \"type\": \"histogram2dcontour\"}], \"mesh3d\": [{\"colorbar\": {\"outlinewidth\": 0, \"ticks\": \"\"}, \"type\": \"mesh3d\"}], \"parcoords\": [{\"line\": {\"colorbar\": {\"outlinewidth\": 0, \"ticks\": \"\"}}, \"type\": \"parcoords\"}], \"pie\": [{\"automargin\": true, \"type\": \"pie\"}], \"scatter\": [{\"marker\": {\"colorbar\": {\"outlinewidth\": 0, \"ticks\": \"\"}}, \"type\": \"scatter\"}], \"scatter3d\": [{\"line\": {\"colorbar\": {\"outlinewidth\": 0, \"ticks\": \"\"}}, \"marker\": {\"colorbar\": {\"outlinewidth\": 0, \"ticks\": \"\"}}, \"type\": \"scatter3d\"}], \"scattercarpet\": [{\"marker\": {\"colorbar\": {\"outlinewidth\": 0, \"ticks\": \"\"}}, \"type\": \"scattercarpet\"}], \"scattergeo\": [{\"marker\": {\"colorbar\": {\"outlinewidth\": 0, \"ticks\": \"\"}}, \"type\": \"scattergeo\"}], \"scattergl\": [{\"marker\": {\"colorbar\": {\"outlinewidth\": 0, \"ticks\": \"\"}}, \"type\": \"scattergl\"}], \"scattermapbox\": [{\"marker\": {\"colorbar\": {\"outlinewidth\": 0, \"ticks\": \"\"}}, \"type\": \"scattermapbox\"}], \"scatterpolar\": [{\"marker\": {\"colorbar\": {\"outlinewidth\": 0, \"ticks\": \"\"}}, \"type\": \"scatterpolar\"}], \"scatterpolargl\": [{\"marker\": {\"colorbar\": {\"outlinewidth\": 0, \"ticks\": \"\"}}, \"type\": \"scatterpolargl\"}], \"scatterternary\": [{\"marker\": {\"colorbar\": {\"outlinewidth\": 0, \"ticks\": \"\"}}, \"type\": \"scatterternary\"}], \"surface\": [{\"colorbar\": {\"outlinewidth\": 0, \"ticks\": \"\"}, \"colorscale\": [[0.0, \"#0d0887\"], [0.1111111111111111, \"#46039f\"], [0.2222222222222222, \"#7201a8\"], [0.3333333333333333, \"#9c179e\"], [0.4444444444444444, \"#bd3786\"], [0.5555555555555556, \"#d8576b\"], [0.6666666666666666, \"#ed7953\"], [0.7777777777777778, \"#fb9f3a\"], [0.8888888888888888, \"#fdca26\"], [1.0, \"#f0f921\"]], \"type\": \"surface\"}], \"table\": [{\"cells\": {\"fill\": {\"color\": \"#EBF0F8\"}, \"line\": {\"color\": \"white\"}}, \"header\": {\"fill\": {\"color\": \"#C8D4E3\"}, \"line\": {\"color\": \"white\"}}, \"type\": \"table\"}]}, \"layout\": {\"annotationdefaults\": {\"arrowcolor\": \"#2a3f5f\", \"arrowhead\": 0, \"arrowwidth\": 1}, \"coloraxis\": {\"colorbar\": {\"outlinewidth\": 0, \"ticks\": \"\"}}, \"colorscale\": {\"diverging\": [[0, \"#8e0152\"], [0.1, \"#c51b7d\"], [0.2, \"#de77ae\"], [0.3, \"#f1b6da\"], [0.4, \"#fde0ef\"], [0.5, \"#f7f7f7\"], [0.6, \"#e6f5d0\"], [0.7, \"#b8e186\"], [0.8, \"#7fbc41\"], [0.9, \"#4d9221\"], [1, \"#276419\"]], \"sequential\": [[0.0, \"#0d0887\"], [0.1111111111111111, \"#46039f\"], [0.2222222222222222, \"#7201a8\"], [0.3333333333333333, \"#9c179e\"], [0.4444444444444444, \"#bd3786\"], [0.5555555555555556, \"#d8576b\"], [0.6666666666666666, \"#ed7953\"], [0.7777777777777778, \"#fb9f3a\"], [0.8888888888888888, \"#fdca26\"], [1.0, \"#f0f921\"]], \"sequentialminus\": [[0.0, \"#0d0887\"], [0.1111111111111111, \"#46039f\"], [0.2222222222222222, \"#7201a8\"], [0.3333333333333333, \"#9c179e\"], [0.4444444444444444, \"#bd3786\"], [0.5555555555555556, \"#d8576b\"], [0.6666666666666666, \"#ed7953\"], [0.7777777777777778, \"#fb9f3a\"], [0.8888888888888888, \"#fdca26\"], [1.0, \"#f0f921\"]]}, \"colorway\": [\"#636efa\", \"#EF553B\", \"#00cc96\", \"#ab63fa\", \"#FFA15A\", \"#19d3f3\", \"#FF6692\", \"#B6E880\", \"#FF97FF\", \"#FECB52\"], \"font\": {\"color\": \"#2a3f5f\"}, \"geo\": {\"bgcolor\": \"white\", \"lakecolor\": \"white\", \"landcolor\": \"white\", \"showlakes\": true, \"showland\": true, \"subunitcolor\": \"#C8D4E3\"}, \"hoverlabel\": {\"align\": \"left\"}, \"hovermode\": \"closest\", \"mapbox\": {\"style\": \"light\"}, \"paper_bgcolor\": \"white\", \"plot_bgcolor\": \"white\", \"polar\": {\"angularaxis\": {\"gridcolor\": \"#EBF0F8\", \"linecolor\": \"#EBF0F8\", \"ticks\": \"\"}, \"bgcolor\": \"white\", \"radialaxis\": {\"gridcolor\": \"#EBF0F8\", \"linecolor\": \"#EBF0F8\", \"ticks\": \"\"}}, \"scene\": {\"xaxis\": {\"backgroundcolor\": \"white\", \"gridcolor\": \"#DFE8F3\", \"gridwidth\": 2, \"linecolor\": \"#EBF0F8\", \"showbackground\": true, \"ticks\": \"\", \"zerolinecolor\": \"#EBF0F8\"}, \"yaxis\": {\"backgroundcolor\": \"white\", \"gridcolor\": \"#DFE8F3\", \"gridwidth\": 2, \"linecolor\": \"#EBF0F8\", \"showbackground\": true, \"ticks\": \"\", \"zerolinecolor\": \"#EBF0F8\"}, \"zaxis\": {\"backgroundcolor\": \"white\", \"gridcolor\": \"#DFE8F3\", \"gridwidth\": 2, \"linecolor\": \"#EBF0F8\", \"showbackground\": true, \"ticks\": \"\", \"zerolinecolor\": \"#EBF0F8\"}}, \"shapedefaults\": {\"line\": {\"color\": \"#2a3f5f\"}}, \"ternary\": {\"aaxis\": {\"gridcolor\": \"#DFE8F3\", \"linecolor\": \"#A2B1C6\", \"ticks\": \"\"}, \"baxis\": {\"gridcolor\": \"#DFE8F3\", \"linecolor\": \"#A2B1C6\", \"ticks\": \"\"}, \"bgcolor\": \"white\", \"caxis\": {\"gridcolor\": \"#DFE8F3\", \"linecolor\": \"#A2B1C6\", \"ticks\": \"\"}}, \"title\": {\"x\": 0.05}, \"xaxis\": {\"automargin\": true, \"gridcolor\": \"#EBF0F8\", \"linecolor\": \"#EBF0F8\", \"ticks\": \"\", \"title\": {\"standoff\": 15}, \"zerolinecolor\": \"#EBF0F8\", \"zerolinewidth\": 2}, \"yaxis\": {\"automargin\": true, \"gridcolor\": \"#EBF0F8\", \"linecolor\": \"#EBF0F8\", \"ticks\": \"\", \"title\": {\"standoff\": 15}, \"zerolinecolor\": \"#EBF0F8\", \"zerolinewidth\": 2}}}, \"title\": {\"text\": \"Actual vs Predicted Price\"}, \"width\": 600, \"xaxis\": {\"title\": {\"text\": \"Batch\"}}, \"yaxis\": {\"title\": {\"text\": \"Price\"}}},\n",
              "                        {\"responsive\": true}\n",
              "                    ).then(function(){\n",
              "                            \n",
              "var gd = document.getElementById('6f28f458-15a0-43ce-917e-22f2abc8d3dd');\n",
              "var x = new MutationObserver(function (mutations, observer) {{\n",
              "        var display = window.getComputedStyle(gd).display;\n",
              "        if (!display || display === 'none') {{\n",
              "            console.log([gd, 'removed!']);\n",
              "            Plotly.purge(gd);\n",
              "            observer.disconnect();\n",
              "        }}\n",
              "}});\n",
              "\n",
              "// Listen for the removal of the full notebook cells\n",
              "var notebookContainer = gd.closest('#notebook-container');\n",
              "if (notebookContainer) {{\n",
              "    x.observe(notebookContainer, {childList: true});\n",
              "}}\n",
              "\n",
              "// Listen for the clearing of the current output cell\n",
              "var outputEl = gd.closest('.output');\n",
              "if (outputEl) {{\n",
              "    x.observe(outputEl, {childList: true});\n",
              "}}\n",
              "\n",
              "                        })\n",
              "                };\n",
              "                \n",
              "            </script>\n",
              "        </div>\n",
              "</body>\n",
              "</html>"
            ]
          },
          "metadata": {}
        },
        {
          "output_type": "display_data",
          "data": {
            "text/html": [
              "<html>\n",
              "<head><meta charset=\"utf-8\" /></head>\n",
              "<body>\n",
              "    <div>\n",
              "            <script src=\"https://cdnjs.cloudflare.com/ajax/libs/mathjax/2.7.5/MathJax.js?config=TeX-AMS-MML_SVG\"></script><script type=\"text/javascript\">if (window.MathJax) {MathJax.Hub.Config({SVG: {font: \"STIX-Web\"}});}</script>\n",
              "                <script type=\"text/javascript\">window.PlotlyConfig = {MathJaxConfig: 'local'};</script>\n",
              "        <script src=\"https://cdn.plot.ly/plotly-latest.min.js\"></script>    \n",
              "            <div id=\"2fc987fb-0f0e-473a-af69-209599b94c05\" class=\"plotly-graph-div\" style=\"height:400px; width:600px;\"></div>\n",
              "            <script type=\"text/javascript\">\n",
              "                \n",
              "                    window.PLOTLYENV=window.PLOTLYENV || {};\n",
              "                    \n",
              "                if (document.getElementById(\"2fc987fb-0f0e-473a-af69-209599b94c05\")) {\n",
              "                    Plotly.newPlot(\n",
              "                        '2fc987fb-0f0e-473a-af69-209599b94c05',\n",
              "                        [{\"fill\": \"tozeroy\", \"line\": {\"color\": \"#ccc\"}, \"mode\": \"lines\", \"name\": \"Test Data\", \"type\": \"scatter\", \"x\": [139, 140, 141, 142, 143, 144, 145, 146, 147, 148, 149, 150, 151, 152, 153, 154, 155, 156, 157, 158, 159, 160, 161, 162, 163, 164, 165, 166, 167, 168, 169, 170, 171, 172, 173, 174, 175, 176, 177, 178], \"y\": [10.592763248561692, 10.575100016599102, 10.550775332540315, 10.589690175377404, 10.61796707213936, 10.66515445933413, 10.704873253322848, 10.687260549289931, 10.741890253752098, 10.727333774648573, 10.725709333961985, 10.700972225644158, 10.774780918479548, 10.759359478912216, 10.757345704221615, 10.734248500228874, 10.707638172470022, 10.707847118118515, 10.752796674693997, 10.806135037127264, 10.795933647187153, 10.804445739393069, 10.809502670658368, 10.772141664652592, 10.799030939008446, 10.754575435989532, 10.80100109117684, 10.79743757891689, 10.794826153147854, 10.75753919754622, 10.760047175792012, 10.795701142379043, 10.804596420922662, 10.819761084262362, 10.818089659485382, 10.854312649150868, 10.87168549031559, 10.75499930769892, 10.737446341770063, 10.744949991349275]}, {\"fill\": \"tozeroy\", \"line\": {\"color\": \"#ccc\"}, \"mode\": \"lines+markers\", \"name\": \"Actual Price\", \"type\": \"scatter\", \"x\": [179, 180, 181, 182, 183], \"y\": [10.592763248561692, 10.575100016599102, 10.550775332540315, 10.589690175377404, 10.61796707213936]}, {\"line\": {\"color\": \"red\"}, \"mode\": \"lines+markers\", \"name\": \"Predicted Price\", \"type\": \"scatter\", \"x\": [179, 180, 181, 182, 183], \"y\": [10.478832244873047, 10.501327514648438, 10.464738845825195, 10.563251495361328, 10.444165229797363]}],\n",
              "                        {\"height\": 400, \"template\": {\"data\": {\"bar\": [{\"error_x\": {\"color\": \"#2a3f5f\"}, \"error_y\": {\"color\": \"#2a3f5f\"}, \"marker\": {\"line\": {\"color\": \"white\", \"width\": 0.5}}, \"type\": \"bar\"}], \"barpolar\": [{\"marker\": {\"line\": {\"color\": \"white\", \"width\": 0.5}}, \"type\": \"barpolar\"}], \"carpet\": [{\"aaxis\": {\"endlinecolor\": \"#2a3f5f\", \"gridcolor\": \"#C8D4E3\", \"linecolor\": \"#C8D4E3\", \"minorgridcolor\": \"#C8D4E3\", \"startlinecolor\": \"#2a3f5f\"}, \"baxis\": {\"endlinecolor\": \"#2a3f5f\", \"gridcolor\": \"#C8D4E3\", \"linecolor\": \"#C8D4E3\", \"minorgridcolor\": \"#C8D4E3\", \"startlinecolor\": \"#2a3f5f\"}, \"type\": \"carpet\"}], \"choropleth\": [{\"colorbar\": {\"outlinewidth\": 0, \"ticks\": \"\"}, \"type\": \"choropleth\"}], \"contour\": [{\"colorbar\": {\"outlinewidth\": 0, \"ticks\": \"\"}, \"colorscale\": [[0.0, \"#0d0887\"], [0.1111111111111111, \"#46039f\"], [0.2222222222222222, \"#7201a8\"], [0.3333333333333333, \"#9c179e\"], [0.4444444444444444, \"#bd3786\"], [0.5555555555555556, \"#d8576b\"], [0.6666666666666666, \"#ed7953\"], [0.7777777777777778, \"#fb9f3a\"], [0.8888888888888888, \"#fdca26\"], [1.0, \"#f0f921\"]], \"type\": \"contour\"}], \"contourcarpet\": [{\"colorbar\": {\"outlinewidth\": 0, \"ticks\": \"\"}, \"type\": \"contourcarpet\"}], \"heatmap\": [{\"colorbar\": {\"outlinewidth\": 0, \"ticks\": \"\"}, \"colorscale\": [[0.0, \"#0d0887\"], [0.1111111111111111, \"#46039f\"], [0.2222222222222222, \"#7201a8\"], [0.3333333333333333, \"#9c179e\"], [0.4444444444444444, \"#bd3786\"], [0.5555555555555556, \"#d8576b\"], [0.6666666666666666, \"#ed7953\"], [0.7777777777777778, \"#fb9f3a\"], [0.8888888888888888, \"#fdca26\"], [1.0, \"#f0f921\"]], \"type\": \"heatmap\"}], \"heatmapgl\": [{\"colorbar\": {\"outlinewidth\": 0, \"ticks\": \"\"}, \"colorscale\": [[0.0, \"#0d0887\"], [0.1111111111111111, \"#46039f\"], [0.2222222222222222, \"#7201a8\"], [0.3333333333333333, \"#9c179e\"], [0.4444444444444444, \"#bd3786\"], [0.5555555555555556, \"#d8576b\"], [0.6666666666666666, \"#ed7953\"], [0.7777777777777778, \"#fb9f3a\"], [0.8888888888888888, \"#fdca26\"], [1.0, \"#f0f921\"]], \"type\": \"heatmapgl\"}], \"histogram\": [{\"marker\": {\"colorbar\": {\"outlinewidth\": 0, \"ticks\": \"\"}}, \"type\": \"histogram\"}], \"histogram2d\": [{\"colorbar\": {\"outlinewidth\": 0, \"ticks\": \"\"}, \"colorscale\": [[0.0, \"#0d0887\"], [0.1111111111111111, \"#46039f\"], [0.2222222222222222, \"#7201a8\"], [0.3333333333333333, \"#9c179e\"], [0.4444444444444444, \"#bd3786\"], [0.5555555555555556, \"#d8576b\"], [0.6666666666666666, \"#ed7953\"], [0.7777777777777778, \"#fb9f3a\"], [0.8888888888888888, \"#fdca26\"], [1.0, \"#f0f921\"]], \"type\": \"histogram2d\"}], \"histogram2dcontour\": [{\"colorbar\": {\"outlinewidth\": 0, \"ticks\": \"\"}, \"colorscale\": [[0.0, \"#0d0887\"], [0.1111111111111111, \"#46039f\"], [0.2222222222222222, \"#7201a8\"], [0.3333333333333333, \"#9c179e\"], [0.4444444444444444, \"#bd3786\"], [0.5555555555555556, \"#d8576b\"], [0.6666666666666666, \"#ed7953\"], [0.7777777777777778, \"#fb9f3a\"], [0.8888888888888888, \"#fdca26\"], [1.0, \"#f0f921\"]], \"type\": \"histogram2dcontour\"}], \"mesh3d\": [{\"colorbar\": {\"outlinewidth\": 0, \"ticks\": \"\"}, \"type\": \"mesh3d\"}], \"parcoords\": [{\"line\": {\"colorbar\": {\"outlinewidth\": 0, \"ticks\": \"\"}}, \"type\": \"parcoords\"}], \"pie\": [{\"automargin\": true, \"type\": \"pie\"}], \"scatter\": [{\"marker\": {\"colorbar\": {\"outlinewidth\": 0, \"ticks\": \"\"}}, \"type\": \"scatter\"}], \"scatter3d\": [{\"line\": {\"colorbar\": {\"outlinewidth\": 0, \"ticks\": \"\"}}, \"marker\": {\"colorbar\": {\"outlinewidth\": 0, \"ticks\": \"\"}}, \"type\": \"scatter3d\"}], \"scattercarpet\": [{\"marker\": {\"colorbar\": {\"outlinewidth\": 0, \"ticks\": \"\"}}, \"type\": \"scattercarpet\"}], \"scattergeo\": [{\"marker\": {\"colorbar\": {\"outlinewidth\": 0, \"ticks\": \"\"}}, \"type\": \"scattergeo\"}], \"scattergl\": [{\"marker\": {\"colorbar\": {\"outlinewidth\": 0, \"ticks\": \"\"}}, \"type\": \"scattergl\"}], \"scattermapbox\": [{\"marker\": {\"colorbar\": {\"outlinewidth\": 0, \"ticks\": \"\"}}, \"type\": \"scattermapbox\"}], \"scatterpolar\": [{\"marker\": {\"colorbar\": {\"outlinewidth\": 0, \"ticks\": \"\"}}, \"type\": \"scatterpolar\"}], \"scatterpolargl\": [{\"marker\": {\"colorbar\": {\"outlinewidth\": 0, \"ticks\": \"\"}}, \"type\": \"scatterpolargl\"}], \"scatterternary\": [{\"marker\": {\"colorbar\": {\"outlinewidth\": 0, \"ticks\": \"\"}}, \"type\": \"scatterternary\"}], \"surface\": [{\"colorbar\": {\"outlinewidth\": 0, \"ticks\": \"\"}, \"colorscale\": [[0.0, \"#0d0887\"], [0.1111111111111111, \"#46039f\"], [0.2222222222222222, \"#7201a8\"], [0.3333333333333333, \"#9c179e\"], [0.4444444444444444, \"#bd3786\"], [0.5555555555555556, \"#d8576b\"], [0.6666666666666666, \"#ed7953\"], [0.7777777777777778, \"#fb9f3a\"], [0.8888888888888888, \"#fdca26\"], [1.0, \"#f0f921\"]], \"type\": \"surface\"}], \"table\": [{\"cells\": {\"fill\": {\"color\": \"#EBF0F8\"}, \"line\": {\"color\": \"white\"}}, \"header\": {\"fill\": {\"color\": \"#C8D4E3\"}, \"line\": {\"color\": \"white\"}}, \"type\": \"table\"}]}, \"layout\": {\"annotationdefaults\": {\"arrowcolor\": \"#2a3f5f\", \"arrowhead\": 0, \"arrowwidth\": 1}, \"coloraxis\": {\"colorbar\": {\"outlinewidth\": 0, \"ticks\": \"\"}}, \"colorscale\": {\"diverging\": [[0, \"#8e0152\"], [0.1, \"#c51b7d\"], [0.2, \"#de77ae\"], [0.3, \"#f1b6da\"], [0.4, \"#fde0ef\"], [0.5, \"#f7f7f7\"], [0.6, \"#e6f5d0\"], [0.7, \"#b8e186\"], [0.8, \"#7fbc41\"], [0.9, \"#4d9221\"], [1, \"#276419\"]], \"sequential\": [[0.0, \"#0d0887\"], [0.1111111111111111, \"#46039f\"], [0.2222222222222222, \"#7201a8\"], [0.3333333333333333, \"#9c179e\"], [0.4444444444444444, \"#bd3786\"], [0.5555555555555556, \"#d8576b\"], [0.6666666666666666, \"#ed7953\"], [0.7777777777777778, \"#fb9f3a\"], [0.8888888888888888, \"#fdca26\"], [1.0, \"#f0f921\"]], \"sequentialminus\": [[0.0, \"#0d0887\"], [0.1111111111111111, \"#46039f\"], [0.2222222222222222, \"#7201a8\"], [0.3333333333333333, \"#9c179e\"], [0.4444444444444444, \"#bd3786\"], [0.5555555555555556, \"#d8576b\"], [0.6666666666666666, \"#ed7953\"], [0.7777777777777778, \"#fb9f3a\"], [0.8888888888888888, \"#fdca26\"], [1.0, \"#f0f921\"]]}, \"colorway\": [\"#636efa\", \"#EF553B\", \"#00cc96\", \"#ab63fa\", \"#FFA15A\", \"#19d3f3\", \"#FF6692\", \"#B6E880\", \"#FF97FF\", \"#FECB52\"], \"font\": {\"color\": \"#2a3f5f\"}, \"geo\": {\"bgcolor\": \"white\", \"lakecolor\": \"white\", \"landcolor\": \"white\", \"showlakes\": true, \"showland\": true, \"subunitcolor\": \"#C8D4E3\"}, \"hoverlabel\": {\"align\": \"left\"}, \"hovermode\": \"closest\", \"mapbox\": {\"style\": \"light\"}, \"paper_bgcolor\": \"white\", \"plot_bgcolor\": \"white\", \"polar\": {\"angularaxis\": {\"gridcolor\": \"#EBF0F8\", \"linecolor\": \"#EBF0F8\", \"ticks\": \"\"}, \"bgcolor\": \"white\", \"radialaxis\": {\"gridcolor\": \"#EBF0F8\", \"linecolor\": \"#EBF0F8\", \"ticks\": \"\"}}, \"scene\": {\"xaxis\": {\"backgroundcolor\": \"white\", \"gridcolor\": \"#DFE8F3\", \"gridwidth\": 2, \"linecolor\": \"#EBF0F8\", \"showbackground\": true, \"ticks\": \"\", \"zerolinecolor\": \"#EBF0F8\"}, \"yaxis\": {\"backgroundcolor\": \"white\", \"gridcolor\": \"#DFE8F3\", \"gridwidth\": 2, \"linecolor\": \"#EBF0F8\", \"showbackground\": true, \"ticks\": \"\", \"zerolinecolor\": \"#EBF0F8\"}, \"zaxis\": {\"backgroundcolor\": \"white\", \"gridcolor\": \"#DFE8F3\", \"gridwidth\": 2, \"linecolor\": \"#EBF0F8\", \"showbackground\": true, \"ticks\": \"\", \"zerolinecolor\": \"#EBF0F8\"}}, \"shapedefaults\": {\"line\": {\"color\": \"#2a3f5f\"}}, \"ternary\": {\"aaxis\": {\"gridcolor\": \"#DFE8F3\", \"linecolor\": \"#A2B1C6\", \"ticks\": \"\"}, \"baxis\": {\"gridcolor\": \"#DFE8F3\", \"linecolor\": \"#A2B1C6\", \"ticks\": \"\"}, \"bgcolor\": \"white\", \"caxis\": {\"gridcolor\": \"#DFE8F3\", \"linecolor\": \"#A2B1C6\", \"ticks\": \"\"}}, \"title\": {\"x\": 0.05}, \"xaxis\": {\"automargin\": true, \"gridcolor\": \"#EBF0F8\", \"linecolor\": \"#EBF0F8\", \"ticks\": \"\", \"title\": {\"standoff\": 15}, \"zerolinecolor\": \"#EBF0F8\", \"zerolinewidth\": 2}, \"yaxis\": {\"automargin\": true, \"gridcolor\": \"#EBF0F8\", \"linecolor\": \"#EBF0F8\", \"ticks\": \"\", \"title\": {\"standoff\": 15}, \"zerolinecolor\": \"#EBF0F8\", \"zerolinewidth\": 2}}}, \"title\": {\"text\": \"Actual vs Predicted Price\"}, \"width\": 600, \"xaxis\": {\"title\": {\"text\": \"Batch\"}}, \"yaxis\": {\"title\": {\"text\": \"Price\"}}},\n",
              "                        {\"responsive\": true}\n",
              "                    ).then(function(){\n",
              "                            \n",
              "var gd = document.getElementById('2fc987fb-0f0e-473a-af69-209599b94c05');\n",
              "var x = new MutationObserver(function (mutations, observer) {{\n",
              "        var display = window.getComputedStyle(gd).display;\n",
              "        if (!display || display === 'none') {{\n",
              "            console.log([gd, 'removed!']);\n",
              "            Plotly.purge(gd);\n",
              "            observer.disconnect();\n",
              "        }}\n",
              "}});\n",
              "\n",
              "// Listen for the removal of the full notebook cells\n",
              "var notebookContainer = gd.closest('#notebook-container');\n",
              "if (notebookContainer) {{\n",
              "    x.observe(notebookContainer, {childList: true});\n",
              "}}\n",
              "\n",
              "// Listen for the clearing of the current output cell\n",
              "var outputEl = gd.closest('.output');\n",
              "if (outputEl) {{\n",
              "    x.observe(outputEl, {childList: true});\n",
              "}}\n",
              "\n",
              "                        })\n",
              "                };\n",
              "                \n",
              "            </script>\n",
              "        </div>\n",
              "</body>\n",
              "</html>"
            ]
          },
          "metadata": {}
        },
        {
          "output_type": "stream",
          "name": "stderr",
          "text": [
            "WARNING:absl:Found untraced functions such as lstm_cell_layer_call_fn, lstm_cell_layer_call_and_return_conditional_losses, lstm_cell_1_layer_call_fn, lstm_cell_1_layer_call_and_return_conditional_losses, lstm_cell_2_layer_call_fn while saving (showing 5 of 15). These functions will not be directly callable after loading.\n"
          ]
        },
        {
          "output_type": "stream",
          "name": "stdout",
          "text": [
            "INFO:tensorflow:Assets written to: /content/drive/MyDrive/Colab Notebooks/models/model_BTC_log_features/assets\n"
          ]
        },
        {
          "output_type": "stream",
          "name": "stderr",
          "text": [
            "INFO:tensorflow:Assets written to: /content/drive/MyDrive/Colab Notebooks/models/model_BTC_log_features/assets\n"
          ]
        }
      ]
    },
    {
      "cell_type": "markdown",
      "metadata": {
        "id": "pD3E9YDpTFgp"
      },
      "source": [
        "### VM Ware\n",
        "+ train with all features\n",
        "+ train with optimal features"
      ]
    },
    {
      "cell_type": "code",
      "metadata": {
        "colab": {
          "base_uri": "https://localhost:8080/",
          "height": 1000
        },
        "id": "U82sdpFfTE4j",
        "outputId": "3aacb499-7b34-41c1-c6fa-a25b322b6e8f"
      },
      "source": [
        "# VW Ware -all features\n",
        "stock= 'VWM'\n",
        "modelname = f'model_{stock}_{transform}'\n",
        "model = create_lstm_model(config,x_train,n_predict)\n",
        "\n",
        "# train\n",
        "tic = timeit.default_timer()\n",
        "history = model.fit(x_train,\n",
        "                    y_train,\n",
        "                    batch_size=config['train']['batch_size'],\n",
        "                    epochs=config['train']['epochs'],\n",
        "                    callbacks = [config['train']['early_stop']],\n",
        "                    validation_split =0.10, \n",
        "                    verbose = 0\n",
        "                    )\n",
        "\n",
        "\n",
        "# print the training time\n",
        "toc =timeit.default_timer()\n",
        "print('\\nTraining Time')\n",
        "print('='*60)\n",
        "print(f'Minutes:{round((toc-tic)/60,2)}\\n')\n",
        "\n",
        "# predict prices\n",
        "# calculate the performance metrics\n",
        "# plot training metrics\n",
        "# plot predictions for random batches\n",
        "y_pred_scaled = calculate_performance(x_test,y_test,model,scaler_y)\n",
        "plot_training_metrics(history)\n",
        "plot_n_price_predictions(idx_close,x_test,y_pred_scaled,scaler_y,2)\n",
        "\n",
        "\n",
        "# save model and training performance\n",
        "model.save(f'/content/drive/MyDrive/Colab Notebooks/models/{modelname}_all')\n",
        "\n",
        "df_hist = pd.DataFrame(history.history) \n",
        "df_hist.to_csv(f'/content/drive/MyDrive/Colab Notebooks/models/{modelname}_all/train_history.csv')"
      ],
      "execution_count": 80,
      "outputs": [
        {
          "output_type": "stream",
          "name": "stdout",
          "text": [
            "Model: \"LSTM\"\n",
            "_________________________________________________________________\n",
            "Layer (type)                 Output Shape              Param #   \n",
            "=================================================================\n",
            "lstm (LSTM)                  (None, 40, 40)            11040     \n",
            "_________________________________________________________________\n",
            "lstm_1 (LSTM)                (None, 40, 256)           304128    \n",
            "_________________________________________________________________\n",
            "dropout (Dropout)            (None, 40, 256)           0         \n",
            "_________________________________________________________________\n",
            "lstm_2 (LSTM)                (None, 128)               197120    \n",
            "_________________________________________________________________\n",
            "dropout_1 (Dropout)          (None, 128)               0         \n",
            "_________________________________________________________________\n",
            "dense (Dense)                (None, 32)                4128      \n",
            "_________________________________________________________________\n",
            "dropout_2 (Dropout)          (None, 32)                0         \n",
            "_________________________________________________________________\n",
            "dense_1 (Dense)              (None, 16)                528       \n",
            "_________________________________________________________________\n",
            "dropout_3 (Dropout)          (None, 16)                0         \n",
            "_________________________________________________________________\n",
            "dense_2 (Dense)              (None, 5)                 85        \n",
            "=================================================================\n",
            "Total params: 517,029\n",
            "Trainable params: 517,029\n",
            "Non-trainable params: 0\n",
            "_________________________________________________________________\n",
            "\n",
            "Training Time\n",
            "============================================================\n",
            "Minutes:13.16\n",
            "\n",
            "\n",
            "Model Error\n",
            "==============================================================\n",
            "Mean Absolute Error (MAE)------------------------------  0.05\n",
            "Root Mean Squared Error (MSE)--------------------------  0.06\n",
            "Mean Absolute Percentage Error (MAPE)------------------  0.98%\n",
            "Median Absolute Percentage Error (MDAPE)---------------  0.76%\n"
          ]
        },
        {
          "output_type": "display_data",
          "data": {
            "text/html": [
              "<html>\n",
              "<head><meta charset=\"utf-8\" /></head>\n",
              "<body>\n",
              "    <div>\n",
              "            <script src=\"https://cdnjs.cloudflare.com/ajax/libs/mathjax/2.7.5/MathJax.js?config=TeX-AMS-MML_SVG\"></script><script type=\"text/javascript\">if (window.MathJax) {MathJax.Hub.Config({SVG: {font: \"STIX-Web\"}});}</script>\n",
              "                <script type=\"text/javascript\">window.PlotlyConfig = {MathJaxConfig: 'local'};</script>\n",
              "        <script src=\"https://cdn.plot.ly/plotly-latest.min.js\"></script>    \n",
              "            <div id=\"1042add6-5ab5-4f61-bd14-0acbd0952333\" class=\"plotly-graph-div\" style=\"height:500px; width:700px;\"></div>\n",
              "            <script type=\"text/javascript\">\n",
              "                \n",
              "                    window.PLOTLYENV=window.PLOTLYENV || {};\n",
              "                    \n",
              "                if (document.getElementById(\"1042add6-5ab5-4f61-bd14-0acbd0952333\")) {\n",
              "                    Plotly.newPlot(\n",
              "                        '1042add6-5ab5-4f61-bd14-0acbd0952333',\n",
              "                        [{\"line\": {\"color\": \"royalblue\", \"width\": 3}, \"name\": \"train-loss\", \"type\": \"scatter\", \"x\": [1, 2, 3, 4, 5, 6, 7, 8, 9, 10, 11, 12, 13, 14, 15, 16, 17, 18, 19, 20, 21, 22, 23, 24, 25, 26, 27, 28, 29, 30, 31, 32, 33, 34, 35, 36, 37, 38, 39, 40, 41, 42, 43, 44, 45, 46, 47, 48, 49, 50, 51, 52, 53, 54, 55, 56, 57, 58, 59, 60, 61, 62, 63, 64, 65, 66, 67, 68, 69, 70, 71, 72, 73, 74, 75, 76, 77, 78, 79, 80, 81, 82, 83, 84, 85, 86, 87, 88, 89, 90, 91, 92, 93, 94, 95, 96, 97, 98, 99, 100, 101, 102, 103, 104, 105, 106, 107], \"y\": [0.06101709231734276, 0.02110440284013748, 0.01624101959168911, 0.013533694669604301, 0.01265043206512928, 0.011983088217675686, 0.010700208134949207, 0.010139843448996544, 0.009269781410694122, 0.008502977900207043, 0.008078754879534245, 0.008154080249369144, 0.007357812952250242, 0.007200972642749548, 0.006618056911975145, 0.0065355459228158, 0.006610622629523277, 0.005955013912171125, 0.0060568018816411495, 0.006874333135783672, 0.0062003349885344505, 0.005378718487918377, 0.004904498346149921, 0.004702340345829725, 0.004982892889529467, 0.004481371492147446, 0.0043519604951143265, 0.004281875677406788, 0.004340995103120804, 0.004137368872761726, 0.0038846065290272236, 0.004217279609292746, 0.003739218460395932, 0.0037126573733985424, 0.0037365909665822983, 0.0036824471317231655, 0.0039327251724898815, 0.003741838503628969, 0.0032520119566470385, 0.0035618559923022985, 0.0032066362909972668, 0.0033333508763462305, 0.003217722289264202, 0.0031282480340451, 0.0031244191341102123, 0.0032024686224758625, 0.002927394350990653, 0.0028834000695496798, 0.00306185195222497, 0.002788122743368149, 0.0026874977629631758, 0.0027880363631993532, 0.0027511485386639833, 0.002531021134927869, 0.0024557700380682945, 0.0027462525758892298, 0.0028987338300794363, 0.0028185290284454823, 0.002502399031072855, 0.002489822916686535, 0.002429892774671316, 0.0025405471678823233, 0.002504603937268257, 0.0023854076862335205, 0.0021942672319710255, 0.0023947034496814013, 0.0024450819473713636, 0.0025124705862253904, 0.002124818041920662, 0.002206339966505766, 0.002191955456510186, 0.0021110137458890676, 0.0021966237109154463, 0.002075308933854103, 0.0019332763040438294, 0.002067079534754157, 0.0020221963059157133, 0.001882163342088461, 0.002081074984744191, 0.0020866417326033115, 0.0019208920421078801, 0.0019928275141865015, 0.001956300577148795, 0.0018523980397731066, 0.0020338704343885183, 0.0017849620198830962, 0.0018141194013878703, 0.0018262705998495221, 0.0017502097180113196, 0.0017117069801315665, 0.0017925180727615952, 0.0019313583616167307, 0.0018031236249953508, 0.0016051223501563072, 0.0017516904044896364, 0.0016351453959941864, 0.0015503618633374572, 0.0017530161421746016, 0.0017170024802908301, 0.001965959556400776, 0.0016727136680856347, 0.0015755672939121723, 0.001595910987816751, 0.001644897274672985, 0.0016667612362653017, 0.0015749651938676834, 0.001595567213371396]}, {\"line\": {\"color\": \"crimson\", \"width\": 3}, \"name\": \"val-loss\", \"type\": \"scatter\", \"x\": [1, 2, 3, 4, 5, 6, 7, 8, 9, 10, 11, 12, 13, 14, 15, 16, 17, 18, 19, 20, 21, 22, 23, 24, 25, 26, 27, 28, 29, 30, 31, 32, 33, 34, 35, 36, 37, 38, 39, 40, 41, 42, 43, 44, 45, 46, 47, 48, 49, 50, 51, 52, 53, 54, 55, 56, 57, 58, 59, 60, 61, 62, 63, 64, 65, 66, 67, 68, 69, 70, 71, 72, 73, 74, 75, 76, 77, 78, 79, 80, 81, 82, 83, 84, 85, 86, 87, 88, 89, 90, 91, 92, 93, 94, 95, 96, 97, 98, 99, 100, 101, 102, 103, 104, 105, 106, 107], \"y\": [0.00895706843584776, 0.005299109499901533, 0.003399890149012208, 0.005336099769920111, 0.004757632501423359, 0.009431537240743637, 0.0036781462840735912, 0.0032618341501802206, 0.006862567737698555, 0.0032719888258725405, 0.008368049748241901, 0.002419833792373538, 0.0033871368505060673, 0.006316633429378271, 0.00804384145885706, 0.006577123422175646, 0.002406504936516285, 0.002182197058573365, 0.006797781679779291, 0.003924654331058264, 0.002498841844499111, 0.0036797593347728252, 0.002551271114498377, 0.0020017626229673624, 0.0021843486465513706, 0.00285843457095325, 0.002055095974355936, 0.002399532124400139, 0.002673499984666705, 0.003913762979209423, 0.00672536063939333, 0.004049562383443117, 0.0026393167208880186, 0.0027030485216528177, 0.0029216972179710865, 0.004291928838938475, 0.00391346262767911, 0.0028460489120334387, 0.003530201967805624, 0.004969095811247826, 0.00508266082033515, 0.0028194752521812916, 0.003650056663900614, 0.0036600809544324875, 0.004117180127650499, 0.002179308095946908, 0.0023167964536696672, 0.0021999075543135405, 0.002506180899217725, 0.00356869213283062, 0.002036310965195298, 0.0019909748807549477, 0.0021659245248883963, 0.0019866470247507095, 0.004734718706458807, 0.002040963852778077, 0.0018443036824464798, 0.0019598999060690403, 0.002367486245930195, 0.003833936993032694, 0.004428818356245756, 0.0017895884811878204, 0.002490068320184946, 0.002940094331279397, 0.004002148751169443, 0.00666301092132926, 0.005658240523189306, 0.0024880964774638414, 0.002496809931471944, 0.001813286915421486, 0.002208937890827656, 0.0019587210845202208, 0.001753775984980166, 0.0017368154367431998, 0.002027754206210375, 0.0022016556467860937, 0.0027099575381726027, 0.0017643326427787542, 0.0017182512674480677, 0.0020000990480184555, 0.00188077287748456, 0.0018355200299993157, 0.00201333942823112, 0.0021367515437304974, 0.001957168336957693, 0.001703969668596983, 0.002053978620097041, 0.002765642013400793, 0.0022981087677180767, 0.0024099666625261307, 0.0031975472811609507, 0.002750708954408765, 0.0025059848558157682, 0.0019402155885472894, 0.002305844333022833, 0.0015235489699989557, 0.001542497775517404, 0.001575626665726304, 0.005766881629824638, 0.0032212771475315094, 0.0021563146729022264, 0.0020713431295007467, 0.0018957830034196377, 0.001895506284199655, 0.0018664068775251508, 0.003648807993158698, 0.0027754679322242737]}],\n",
              "                        {\"height\": 500, \"template\": {\"data\": {\"bar\": [{\"error_x\": {\"color\": \"#2a3f5f\"}, \"error_y\": {\"color\": \"#2a3f5f\"}, \"marker\": {\"line\": {\"color\": \"white\", \"width\": 0.5}}, \"type\": \"bar\"}], \"barpolar\": [{\"marker\": {\"line\": {\"color\": \"white\", \"width\": 0.5}}, \"type\": \"barpolar\"}], \"carpet\": [{\"aaxis\": {\"endlinecolor\": \"#2a3f5f\", \"gridcolor\": \"#C8D4E3\", \"linecolor\": \"#C8D4E3\", \"minorgridcolor\": \"#C8D4E3\", \"startlinecolor\": \"#2a3f5f\"}, \"baxis\": {\"endlinecolor\": \"#2a3f5f\", \"gridcolor\": \"#C8D4E3\", \"linecolor\": \"#C8D4E3\", \"minorgridcolor\": \"#C8D4E3\", \"startlinecolor\": \"#2a3f5f\"}, \"type\": \"carpet\"}], \"choropleth\": [{\"colorbar\": {\"outlinewidth\": 0, \"ticks\": \"\"}, \"type\": \"choropleth\"}], \"contour\": [{\"colorbar\": {\"outlinewidth\": 0, \"ticks\": \"\"}, \"colorscale\": [[0.0, \"#0d0887\"], [0.1111111111111111, \"#46039f\"], [0.2222222222222222, \"#7201a8\"], [0.3333333333333333, \"#9c179e\"], [0.4444444444444444, \"#bd3786\"], [0.5555555555555556, \"#d8576b\"], [0.6666666666666666, \"#ed7953\"], [0.7777777777777778, \"#fb9f3a\"], [0.8888888888888888, \"#fdca26\"], [1.0, \"#f0f921\"]], \"type\": \"contour\"}], \"contourcarpet\": [{\"colorbar\": {\"outlinewidth\": 0, \"ticks\": \"\"}, \"type\": \"contourcarpet\"}], \"heatmap\": [{\"colorbar\": {\"outlinewidth\": 0, \"ticks\": \"\"}, \"colorscale\": [[0.0, \"#0d0887\"], [0.1111111111111111, \"#46039f\"], [0.2222222222222222, \"#7201a8\"], [0.3333333333333333, \"#9c179e\"], [0.4444444444444444, \"#bd3786\"], [0.5555555555555556, \"#d8576b\"], [0.6666666666666666, \"#ed7953\"], [0.7777777777777778, \"#fb9f3a\"], [0.8888888888888888, \"#fdca26\"], [1.0, \"#f0f921\"]], \"type\": \"heatmap\"}], \"heatmapgl\": [{\"colorbar\": {\"outlinewidth\": 0, \"ticks\": \"\"}, \"colorscale\": [[0.0, \"#0d0887\"], [0.1111111111111111, \"#46039f\"], [0.2222222222222222, \"#7201a8\"], [0.3333333333333333, \"#9c179e\"], [0.4444444444444444, \"#bd3786\"], [0.5555555555555556, \"#d8576b\"], [0.6666666666666666, \"#ed7953\"], [0.7777777777777778, \"#fb9f3a\"], [0.8888888888888888, \"#fdca26\"], [1.0, \"#f0f921\"]], \"type\": \"heatmapgl\"}], \"histogram\": [{\"marker\": {\"colorbar\": {\"outlinewidth\": 0, \"ticks\": \"\"}}, \"type\": \"histogram\"}], \"histogram2d\": [{\"colorbar\": {\"outlinewidth\": 0, \"ticks\": \"\"}, \"colorscale\": [[0.0, \"#0d0887\"], [0.1111111111111111, \"#46039f\"], [0.2222222222222222, \"#7201a8\"], [0.3333333333333333, \"#9c179e\"], [0.4444444444444444, \"#bd3786\"], [0.5555555555555556, \"#d8576b\"], [0.6666666666666666, \"#ed7953\"], [0.7777777777777778, \"#fb9f3a\"], [0.8888888888888888, \"#fdca26\"], [1.0, \"#f0f921\"]], \"type\": \"histogram2d\"}], \"histogram2dcontour\": [{\"colorbar\": {\"outlinewidth\": 0, \"ticks\": \"\"}, \"colorscale\": [[0.0, \"#0d0887\"], [0.1111111111111111, \"#46039f\"], [0.2222222222222222, \"#7201a8\"], [0.3333333333333333, \"#9c179e\"], [0.4444444444444444, \"#bd3786\"], [0.5555555555555556, \"#d8576b\"], [0.6666666666666666, \"#ed7953\"], [0.7777777777777778, \"#fb9f3a\"], [0.8888888888888888, \"#fdca26\"], [1.0, \"#f0f921\"]], \"type\": \"histogram2dcontour\"}], \"mesh3d\": [{\"colorbar\": {\"outlinewidth\": 0, \"ticks\": \"\"}, \"type\": \"mesh3d\"}], \"parcoords\": [{\"line\": {\"colorbar\": {\"outlinewidth\": 0, \"ticks\": \"\"}}, \"type\": \"parcoords\"}], \"pie\": [{\"automargin\": true, \"type\": \"pie\"}], \"scatter\": [{\"marker\": {\"colorbar\": {\"outlinewidth\": 0, \"ticks\": \"\"}}, \"type\": \"scatter\"}], \"scatter3d\": [{\"line\": {\"colorbar\": {\"outlinewidth\": 0, \"ticks\": \"\"}}, \"marker\": {\"colorbar\": {\"outlinewidth\": 0, \"ticks\": \"\"}}, \"type\": \"scatter3d\"}], \"scattercarpet\": [{\"marker\": {\"colorbar\": {\"outlinewidth\": 0, \"ticks\": \"\"}}, \"type\": \"scattercarpet\"}], \"scattergeo\": [{\"marker\": {\"colorbar\": {\"outlinewidth\": 0, \"ticks\": \"\"}}, \"type\": \"scattergeo\"}], \"scattergl\": [{\"marker\": {\"colorbar\": {\"outlinewidth\": 0, \"ticks\": \"\"}}, \"type\": \"scattergl\"}], \"scattermapbox\": [{\"marker\": {\"colorbar\": {\"outlinewidth\": 0, \"ticks\": \"\"}}, \"type\": \"scattermapbox\"}], \"scatterpolar\": [{\"marker\": {\"colorbar\": {\"outlinewidth\": 0, \"ticks\": \"\"}}, \"type\": \"scatterpolar\"}], \"scatterpolargl\": [{\"marker\": {\"colorbar\": {\"outlinewidth\": 0, \"ticks\": \"\"}}, \"type\": \"scatterpolargl\"}], \"scatterternary\": [{\"marker\": {\"colorbar\": {\"outlinewidth\": 0, \"ticks\": \"\"}}, \"type\": \"scatterternary\"}], \"surface\": [{\"colorbar\": {\"outlinewidth\": 0, \"ticks\": \"\"}, \"colorscale\": [[0.0, \"#0d0887\"], [0.1111111111111111, \"#46039f\"], [0.2222222222222222, \"#7201a8\"], [0.3333333333333333, \"#9c179e\"], [0.4444444444444444, \"#bd3786\"], [0.5555555555555556, \"#d8576b\"], [0.6666666666666666, \"#ed7953\"], [0.7777777777777778, \"#fb9f3a\"], [0.8888888888888888, \"#fdca26\"], [1.0, \"#f0f921\"]], \"type\": \"surface\"}], \"table\": [{\"cells\": {\"fill\": {\"color\": \"#EBF0F8\"}, \"line\": {\"color\": \"white\"}}, \"header\": {\"fill\": {\"color\": \"#C8D4E3\"}, \"line\": {\"color\": \"white\"}}, \"type\": \"table\"}]}, \"layout\": {\"annotationdefaults\": {\"arrowcolor\": \"#2a3f5f\", \"arrowhead\": 0, \"arrowwidth\": 1}, \"coloraxis\": {\"colorbar\": {\"outlinewidth\": 0, \"ticks\": \"\"}}, \"colorscale\": {\"diverging\": [[0, \"#8e0152\"], [0.1, \"#c51b7d\"], [0.2, \"#de77ae\"], [0.3, \"#f1b6da\"], [0.4, \"#fde0ef\"], [0.5, \"#f7f7f7\"], [0.6, \"#e6f5d0\"], [0.7, \"#b8e186\"], [0.8, \"#7fbc41\"], [0.9, \"#4d9221\"], [1, \"#276419\"]], \"sequential\": [[0.0, \"#0d0887\"], [0.1111111111111111, \"#46039f\"], [0.2222222222222222, \"#7201a8\"], [0.3333333333333333, \"#9c179e\"], [0.4444444444444444, \"#bd3786\"], [0.5555555555555556, \"#d8576b\"], [0.6666666666666666, \"#ed7953\"], [0.7777777777777778, \"#fb9f3a\"], [0.8888888888888888, \"#fdca26\"], [1.0, \"#f0f921\"]], \"sequentialminus\": [[0.0, \"#0d0887\"], [0.1111111111111111, \"#46039f\"], [0.2222222222222222, \"#7201a8\"], [0.3333333333333333, \"#9c179e\"], [0.4444444444444444, \"#bd3786\"], [0.5555555555555556, \"#d8576b\"], [0.6666666666666666, \"#ed7953\"], [0.7777777777777778, \"#fb9f3a\"], [0.8888888888888888, \"#fdca26\"], [1.0, \"#f0f921\"]]}, \"colorway\": [\"#636efa\", \"#EF553B\", \"#00cc96\", \"#ab63fa\", \"#FFA15A\", \"#19d3f3\", \"#FF6692\", \"#B6E880\", \"#FF97FF\", \"#FECB52\"], \"font\": {\"color\": \"#2a3f5f\"}, \"geo\": {\"bgcolor\": \"white\", \"lakecolor\": \"white\", \"landcolor\": \"white\", \"showlakes\": true, \"showland\": true, \"subunitcolor\": \"#C8D4E3\"}, \"hoverlabel\": {\"align\": \"left\"}, \"hovermode\": \"closest\", \"mapbox\": {\"style\": \"light\"}, \"paper_bgcolor\": \"white\", \"plot_bgcolor\": \"white\", \"polar\": {\"angularaxis\": {\"gridcolor\": \"#EBF0F8\", \"linecolor\": \"#EBF0F8\", \"ticks\": \"\"}, \"bgcolor\": \"white\", \"radialaxis\": {\"gridcolor\": \"#EBF0F8\", \"linecolor\": \"#EBF0F8\", \"ticks\": \"\"}}, \"scene\": {\"xaxis\": {\"backgroundcolor\": \"white\", \"gridcolor\": \"#DFE8F3\", \"gridwidth\": 2, \"linecolor\": \"#EBF0F8\", \"showbackground\": true, \"ticks\": \"\", \"zerolinecolor\": \"#EBF0F8\"}, \"yaxis\": {\"backgroundcolor\": \"white\", \"gridcolor\": \"#DFE8F3\", \"gridwidth\": 2, \"linecolor\": \"#EBF0F8\", \"showbackground\": true, \"ticks\": \"\", \"zerolinecolor\": \"#EBF0F8\"}, \"zaxis\": {\"backgroundcolor\": \"white\", \"gridcolor\": \"#DFE8F3\", \"gridwidth\": 2, \"linecolor\": \"#EBF0F8\", \"showbackground\": true, \"ticks\": \"\", \"zerolinecolor\": \"#EBF0F8\"}}, \"shapedefaults\": {\"line\": {\"color\": \"#2a3f5f\"}}, \"ternary\": {\"aaxis\": {\"gridcolor\": \"#DFE8F3\", \"linecolor\": \"#A2B1C6\", \"ticks\": \"\"}, \"baxis\": {\"gridcolor\": \"#DFE8F3\", \"linecolor\": \"#A2B1C6\", \"ticks\": \"\"}, \"bgcolor\": \"white\", \"caxis\": {\"gridcolor\": \"#DFE8F3\", \"linecolor\": \"#A2B1C6\", \"ticks\": \"\"}}, \"title\": {\"x\": 0.05}, \"xaxis\": {\"automargin\": true, \"gridcolor\": \"#EBF0F8\", \"linecolor\": \"#EBF0F8\", \"ticks\": \"\", \"title\": {\"standoff\": 15}, \"zerolinecolor\": \"#EBF0F8\", \"zerolinewidth\": 2}, \"yaxis\": {\"automargin\": true, \"gridcolor\": \"#EBF0F8\", \"linecolor\": \"#EBF0F8\", \"ticks\": \"\", \"title\": {\"standoff\": 15}, \"zerolinecolor\": \"#EBF0F8\", \"zerolinewidth\": 2}}}, \"title\": {\"text\": \"Training Metrics\"}, \"width\": 700, \"xaxis\": {\"title\": {\"text\": \"epochs\"}}, \"yaxis\": {\"title\": {\"text\": \"loss\"}}},\n",
              "                        {\"responsive\": true}\n",
              "                    ).then(function(){\n",
              "                            \n",
              "var gd = document.getElementById('1042add6-5ab5-4f61-bd14-0acbd0952333');\n",
              "var x = new MutationObserver(function (mutations, observer) {{\n",
              "        var display = window.getComputedStyle(gd).display;\n",
              "        if (!display || display === 'none') {{\n",
              "            console.log([gd, 'removed!']);\n",
              "            Plotly.purge(gd);\n",
              "            observer.disconnect();\n",
              "        }}\n",
              "}});\n",
              "\n",
              "// Listen for the removal of the full notebook cells\n",
              "var notebookContainer = gd.closest('#notebook-container');\n",
              "if (notebookContainer) {{\n",
              "    x.observe(notebookContainer, {childList: true});\n",
              "}}\n",
              "\n",
              "// Listen for the clearing of the current output cell\n",
              "var outputEl = gd.closest('.output');\n",
              "if (outputEl) {{\n",
              "    x.observe(outputEl, {childList: true});\n",
              "}}\n",
              "\n",
              "                        })\n",
              "                };\n",
              "                \n",
              "            </script>\n",
              "        </div>\n",
              "</body>\n",
              "</html>"
            ]
          },
          "metadata": {}
        },
        {
          "output_type": "display_data",
          "data": {
            "text/html": [
              "<html>\n",
              "<head><meta charset=\"utf-8\" /></head>\n",
              "<body>\n",
              "    <div>\n",
              "            <script src=\"https://cdnjs.cloudflare.com/ajax/libs/mathjax/2.7.5/MathJax.js?config=TeX-AMS-MML_SVG\"></script><script type=\"text/javascript\">if (window.MathJax) {MathJax.Hub.Config({SVG: {font: \"STIX-Web\"}});}</script>\n",
              "                <script type=\"text/javascript\">window.PlotlyConfig = {MathJaxConfig: 'local'};</script>\n",
              "        <script src=\"https://cdn.plot.ly/plotly-latest.min.js\"></script>    \n",
              "            <div id=\"8860f8be-99cc-493e-a573-4a8a7e17b085\" class=\"plotly-graph-div\" style=\"height:400px; width:600px;\"></div>\n",
              "            <script type=\"text/javascript\">\n",
              "                \n",
              "                    window.PLOTLYENV=window.PLOTLYENV || {};\n",
              "                    \n",
              "                if (document.getElementById(\"8860f8be-99cc-493e-a573-4a8a7e17b085\")) {\n",
              "                    Plotly.newPlot(\n",
              "                        '8860f8be-99cc-493e-a573-4a8a7e17b085',\n",
              "                        [{\"fill\": \"tozeroy\", \"line\": {\"color\": \"#ccc\"}, \"mode\": \"lines\", \"name\": \"Test Data\", \"type\": \"scatter\", \"x\": [258, 259, 260, 261, 262, 263, 264, 265, 266, 267, 268, 269, 270, 271, 272, 273, 274, 275, 276, 277, 278, 279, 280, 281, 282, 283, 284, 285, 286, 287, 288, 289, 290, 291, 292, 293, 294, 295, 296, 297], \"y\": [4.963893031544124, 4.97583678855356, 4.951522029603749, 4.950106501021434, 4.94356913673158, 4.960113631748675, 4.93461780767234, 4.944353031302275, 4.953359226276525, 4.962774697744756, 4.981824212242136, 4.967519003022628, 4.974662633637438, 4.9624949187683205, 4.977147449935266, 4.990432586778736, 4.995521656286208, 5.012300573415317, 5.0204536030335944, 5.025326842839245, 5.043683148142456, 5.0476741415312425, 5.031613700481447, 5.027885647502783, 5.010101818490112, 5.007697650108913, 5.008566488927144, 4.995318589984363, 5.005287687769661, 4.960183750600158, 4.935193098929397, 4.866687938419193, 4.865686590367103, 4.857717187671543, 4.844187086458591, 4.882271478895685, 4.895897616625833, 4.946914216538403, 4.943711708730681, 4.947766489317265]}, {\"fill\": \"tozeroy\", \"line\": {\"color\": \"#ccc\"}, \"mode\": \"lines+markers\", \"name\": \"Actual Price\", \"type\": \"scatter\", \"x\": [298, 299, 300, 301, 302], \"y\": [4.963893031544124, 4.97583678855356, 4.951522029603749, 4.950106501021434, 4.94356913673158]}, {\"line\": {\"color\": \"red\"}, \"mode\": \"lines+markers\", \"name\": \"Predicted Price\", \"type\": \"scatter\", \"x\": [298, 299, 300, 301, 302], \"y\": [4.940337657928467, 4.934676170349121, 4.939664363861084, 4.921699047088623, 4.912163734436035]}],\n",
              "                        {\"height\": 400, \"template\": {\"data\": {\"bar\": [{\"error_x\": {\"color\": \"#2a3f5f\"}, \"error_y\": {\"color\": \"#2a3f5f\"}, \"marker\": {\"line\": {\"color\": \"white\", \"width\": 0.5}}, \"type\": \"bar\"}], \"barpolar\": [{\"marker\": {\"line\": {\"color\": \"white\", \"width\": 0.5}}, \"type\": \"barpolar\"}], \"carpet\": [{\"aaxis\": {\"endlinecolor\": \"#2a3f5f\", \"gridcolor\": \"#C8D4E3\", \"linecolor\": \"#C8D4E3\", \"minorgridcolor\": \"#C8D4E3\", \"startlinecolor\": \"#2a3f5f\"}, \"baxis\": {\"endlinecolor\": \"#2a3f5f\", \"gridcolor\": \"#C8D4E3\", \"linecolor\": \"#C8D4E3\", \"minorgridcolor\": \"#C8D4E3\", \"startlinecolor\": \"#2a3f5f\"}, \"type\": \"carpet\"}], \"choropleth\": [{\"colorbar\": {\"outlinewidth\": 0, \"ticks\": \"\"}, \"type\": \"choropleth\"}], \"contour\": [{\"colorbar\": {\"outlinewidth\": 0, \"ticks\": \"\"}, \"colorscale\": [[0.0, \"#0d0887\"], [0.1111111111111111, \"#46039f\"], [0.2222222222222222, \"#7201a8\"], [0.3333333333333333, \"#9c179e\"], [0.4444444444444444, \"#bd3786\"], [0.5555555555555556, \"#d8576b\"], [0.6666666666666666, \"#ed7953\"], [0.7777777777777778, \"#fb9f3a\"], [0.8888888888888888, \"#fdca26\"], [1.0, \"#f0f921\"]], \"type\": \"contour\"}], \"contourcarpet\": [{\"colorbar\": {\"outlinewidth\": 0, \"ticks\": \"\"}, \"type\": \"contourcarpet\"}], \"heatmap\": [{\"colorbar\": {\"outlinewidth\": 0, \"ticks\": \"\"}, \"colorscale\": [[0.0, \"#0d0887\"], [0.1111111111111111, \"#46039f\"], [0.2222222222222222, \"#7201a8\"], [0.3333333333333333, \"#9c179e\"], [0.4444444444444444, \"#bd3786\"], [0.5555555555555556, \"#d8576b\"], [0.6666666666666666, \"#ed7953\"], [0.7777777777777778, \"#fb9f3a\"], [0.8888888888888888, \"#fdca26\"], [1.0, \"#f0f921\"]], \"type\": \"heatmap\"}], \"heatmapgl\": [{\"colorbar\": {\"outlinewidth\": 0, \"ticks\": \"\"}, \"colorscale\": [[0.0, \"#0d0887\"], [0.1111111111111111, \"#46039f\"], [0.2222222222222222, \"#7201a8\"], [0.3333333333333333, \"#9c179e\"], [0.4444444444444444, \"#bd3786\"], [0.5555555555555556, \"#d8576b\"], [0.6666666666666666, \"#ed7953\"], [0.7777777777777778, \"#fb9f3a\"], [0.8888888888888888, \"#fdca26\"], [1.0, \"#f0f921\"]], \"type\": \"heatmapgl\"}], \"histogram\": [{\"marker\": {\"colorbar\": {\"outlinewidth\": 0, \"ticks\": \"\"}}, \"type\": \"histogram\"}], \"histogram2d\": [{\"colorbar\": {\"outlinewidth\": 0, \"ticks\": \"\"}, \"colorscale\": [[0.0, \"#0d0887\"], [0.1111111111111111, \"#46039f\"], [0.2222222222222222, \"#7201a8\"], [0.3333333333333333, \"#9c179e\"], [0.4444444444444444, \"#bd3786\"], [0.5555555555555556, \"#d8576b\"], [0.6666666666666666, \"#ed7953\"], [0.7777777777777778, \"#fb9f3a\"], [0.8888888888888888, \"#fdca26\"], [1.0, \"#f0f921\"]], \"type\": \"histogram2d\"}], \"histogram2dcontour\": [{\"colorbar\": {\"outlinewidth\": 0, \"ticks\": \"\"}, \"colorscale\": [[0.0, \"#0d0887\"], [0.1111111111111111, \"#46039f\"], [0.2222222222222222, \"#7201a8\"], [0.3333333333333333, \"#9c179e\"], [0.4444444444444444, \"#bd3786\"], [0.5555555555555556, \"#d8576b\"], [0.6666666666666666, \"#ed7953\"], [0.7777777777777778, \"#fb9f3a\"], [0.8888888888888888, \"#fdca26\"], [1.0, \"#f0f921\"]], \"type\": \"histogram2dcontour\"}], \"mesh3d\": [{\"colorbar\": {\"outlinewidth\": 0, \"ticks\": \"\"}, \"type\": \"mesh3d\"}], \"parcoords\": [{\"line\": {\"colorbar\": {\"outlinewidth\": 0, \"ticks\": \"\"}}, \"type\": \"parcoords\"}], \"pie\": [{\"automargin\": true, \"type\": \"pie\"}], \"scatter\": [{\"marker\": {\"colorbar\": {\"outlinewidth\": 0, \"ticks\": \"\"}}, \"type\": \"scatter\"}], \"scatter3d\": [{\"line\": {\"colorbar\": {\"outlinewidth\": 0, \"ticks\": \"\"}}, \"marker\": {\"colorbar\": {\"outlinewidth\": 0, \"ticks\": \"\"}}, \"type\": \"scatter3d\"}], \"scattercarpet\": [{\"marker\": {\"colorbar\": {\"outlinewidth\": 0, \"ticks\": \"\"}}, \"type\": \"scattercarpet\"}], \"scattergeo\": [{\"marker\": {\"colorbar\": {\"outlinewidth\": 0, \"ticks\": \"\"}}, \"type\": \"scattergeo\"}], \"scattergl\": [{\"marker\": {\"colorbar\": {\"outlinewidth\": 0, \"ticks\": \"\"}}, \"type\": \"scattergl\"}], \"scattermapbox\": [{\"marker\": {\"colorbar\": {\"outlinewidth\": 0, \"ticks\": \"\"}}, \"type\": \"scattermapbox\"}], \"scatterpolar\": [{\"marker\": {\"colorbar\": {\"outlinewidth\": 0, \"ticks\": \"\"}}, \"type\": \"scatterpolar\"}], \"scatterpolargl\": [{\"marker\": {\"colorbar\": {\"outlinewidth\": 0, \"ticks\": \"\"}}, \"type\": \"scatterpolargl\"}], \"scatterternary\": [{\"marker\": {\"colorbar\": {\"outlinewidth\": 0, \"ticks\": \"\"}}, \"type\": \"scatterternary\"}], \"surface\": [{\"colorbar\": {\"outlinewidth\": 0, \"ticks\": \"\"}, \"colorscale\": [[0.0, \"#0d0887\"], [0.1111111111111111, \"#46039f\"], [0.2222222222222222, \"#7201a8\"], [0.3333333333333333, \"#9c179e\"], [0.4444444444444444, \"#bd3786\"], [0.5555555555555556, \"#d8576b\"], [0.6666666666666666, \"#ed7953\"], [0.7777777777777778, \"#fb9f3a\"], [0.8888888888888888, \"#fdca26\"], [1.0, \"#f0f921\"]], \"type\": \"surface\"}], \"table\": [{\"cells\": {\"fill\": {\"color\": \"#EBF0F8\"}, \"line\": {\"color\": \"white\"}}, \"header\": {\"fill\": {\"color\": \"#C8D4E3\"}, \"line\": {\"color\": \"white\"}}, \"type\": \"table\"}]}, \"layout\": {\"annotationdefaults\": {\"arrowcolor\": \"#2a3f5f\", \"arrowhead\": 0, \"arrowwidth\": 1}, \"coloraxis\": {\"colorbar\": {\"outlinewidth\": 0, \"ticks\": \"\"}}, \"colorscale\": {\"diverging\": [[0, \"#8e0152\"], [0.1, \"#c51b7d\"], [0.2, \"#de77ae\"], [0.3, \"#f1b6da\"], [0.4, \"#fde0ef\"], [0.5, \"#f7f7f7\"], [0.6, \"#e6f5d0\"], [0.7, \"#b8e186\"], [0.8, \"#7fbc41\"], [0.9, \"#4d9221\"], [1, \"#276419\"]], \"sequential\": [[0.0, \"#0d0887\"], [0.1111111111111111, \"#46039f\"], [0.2222222222222222, \"#7201a8\"], [0.3333333333333333, \"#9c179e\"], [0.4444444444444444, \"#bd3786\"], [0.5555555555555556, \"#d8576b\"], [0.6666666666666666, \"#ed7953\"], [0.7777777777777778, \"#fb9f3a\"], [0.8888888888888888, \"#fdca26\"], [1.0, \"#f0f921\"]], \"sequentialminus\": [[0.0, \"#0d0887\"], [0.1111111111111111, \"#46039f\"], [0.2222222222222222, \"#7201a8\"], [0.3333333333333333, \"#9c179e\"], [0.4444444444444444, \"#bd3786\"], [0.5555555555555556, \"#d8576b\"], [0.6666666666666666, \"#ed7953\"], [0.7777777777777778, \"#fb9f3a\"], [0.8888888888888888, \"#fdca26\"], [1.0, \"#f0f921\"]]}, \"colorway\": [\"#636efa\", \"#EF553B\", \"#00cc96\", \"#ab63fa\", \"#FFA15A\", \"#19d3f3\", \"#FF6692\", \"#B6E880\", \"#FF97FF\", \"#FECB52\"], \"font\": {\"color\": \"#2a3f5f\"}, \"geo\": {\"bgcolor\": \"white\", \"lakecolor\": \"white\", \"landcolor\": \"white\", \"showlakes\": true, \"showland\": true, \"subunitcolor\": \"#C8D4E3\"}, \"hoverlabel\": {\"align\": \"left\"}, \"hovermode\": \"closest\", \"mapbox\": {\"style\": \"light\"}, \"paper_bgcolor\": \"white\", \"plot_bgcolor\": \"white\", \"polar\": {\"angularaxis\": {\"gridcolor\": \"#EBF0F8\", \"linecolor\": \"#EBF0F8\", \"ticks\": \"\"}, \"bgcolor\": \"white\", \"radialaxis\": {\"gridcolor\": \"#EBF0F8\", \"linecolor\": \"#EBF0F8\", \"ticks\": \"\"}}, \"scene\": {\"xaxis\": {\"backgroundcolor\": \"white\", \"gridcolor\": \"#DFE8F3\", \"gridwidth\": 2, \"linecolor\": \"#EBF0F8\", \"showbackground\": true, \"ticks\": \"\", \"zerolinecolor\": \"#EBF0F8\"}, \"yaxis\": {\"backgroundcolor\": \"white\", \"gridcolor\": \"#DFE8F3\", \"gridwidth\": 2, \"linecolor\": \"#EBF0F8\", \"showbackground\": true, \"ticks\": \"\", \"zerolinecolor\": \"#EBF0F8\"}, \"zaxis\": {\"backgroundcolor\": \"white\", \"gridcolor\": \"#DFE8F3\", \"gridwidth\": 2, \"linecolor\": \"#EBF0F8\", \"showbackground\": true, \"ticks\": \"\", \"zerolinecolor\": \"#EBF0F8\"}}, \"shapedefaults\": {\"line\": {\"color\": \"#2a3f5f\"}}, \"ternary\": {\"aaxis\": {\"gridcolor\": \"#DFE8F3\", \"linecolor\": \"#A2B1C6\", \"ticks\": \"\"}, \"baxis\": {\"gridcolor\": \"#DFE8F3\", \"linecolor\": \"#A2B1C6\", \"ticks\": \"\"}, \"bgcolor\": \"white\", \"caxis\": {\"gridcolor\": \"#DFE8F3\", \"linecolor\": \"#A2B1C6\", \"ticks\": \"\"}}, \"title\": {\"x\": 0.05}, \"xaxis\": {\"automargin\": true, \"gridcolor\": \"#EBF0F8\", \"linecolor\": \"#EBF0F8\", \"ticks\": \"\", \"title\": {\"standoff\": 15}, \"zerolinecolor\": \"#EBF0F8\", \"zerolinewidth\": 2}, \"yaxis\": {\"automargin\": true, \"gridcolor\": \"#EBF0F8\", \"linecolor\": \"#EBF0F8\", \"ticks\": \"\", \"title\": {\"standoff\": 15}, \"zerolinecolor\": \"#EBF0F8\", \"zerolinewidth\": 2}}}, \"title\": {\"text\": \"Actual vs Predicted Price\"}, \"width\": 600, \"xaxis\": {\"title\": {\"text\": \"Batch\"}}, \"yaxis\": {\"title\": {\"text\": \"Price\"}}},\n",
              "                        {\"responsive\": true}\n",
              "                    ).then(function(){\n",
              "                            \n",
              "var gd = document.getElementById('8860f8be-99cc-493e-a573-4a8a7e17b085');\n",
              "var x = new MutationObserver(function (mutations, observer) {{\n",
              "        var display = window.getComputedStyle(gd).display;\n",
              "        if (!display || display === 'none') {{\n",
              "            console.log([gd, 'removed!']);\n",
              "            Plotly.purge(gd);\n",
              "            observer.disconnect();\n",
              "        }}\n",
              "}});\n",
              "\n",
              "// Listen for the removal of the full notebook cells\n",
              "var notebookContainer = gd.closest('#notebook-container');\n",
              "if (notebookContainer) {{\n",
              "    x.observe(notebookContainer, {childList: true});\n",
              "}}\n",
              "\n",
              "// Listen for the clearing of the current output cell\n",
              "var outputEl = gd.closest('.output');\n",
              "if (outputEl) {{\n",
              "    x.observe(outputEl, {childList: true});\n",
              "}}\n",
              "\n",
              "                        })\n",
              "                };\n",
              "                \n",
              "            </script>\n",
              "        </div>\n",
              "</body>\n",
              "</html>"
            ]
          },
          "metadata": {}
        },
        {
          "output_type": "display_data",
          "data": {
            "text/html": [
              "<html>\n",
              "<head><meta charset=\"utf-8\" /></head>\n",
              "<body>\n",
              "    <div>\n",
              "            <script src=\"https://cdnjs.cloudflare.com/ajax/libs/mathjax/2.7.5/MathJax.js?config=TeX-AMS-MML_SVG\"></script><script type=\"text/javascript\">if (window.MathJax) {MathJax.Hub.Config({SVG: {font: \"STIX-Web\"}});}</script>\n",
              "                <script type=\"text/javascript\">window.PlotlyConfig = {MathJaxConfig: 'local'};</script>\n",
              "        <script src=\"https://cdn.plot.ly/plotly-latest.min.js\"></script>    \n",
              "            <div id=\"b9023b46-7757-44d3-b6e2-f36c6ff0d5ba\" class=\"plotly-graph-div\" style=\"height:400px; width:600px;\"></div>\n",
              "            <script type=\"text/javascript\">\n",
              "                \n",
              "                    window.PLOTLYENV=window.PLOTLYENV || {};\n",
              "                    \n",
              "                if (document.getElementById(\"b9023b46-7757-44d3-b6e2-f36c6ff0d5ba\")) {\n",
              "                    Plotly.newPlot(\n",
              "                        'b9023b46-7757-44d3-b6e2-f36c6ff0d5ba',\n",
              "                        [{\"fill\": \"tozeroy\", \"line\": {\"color\": \"#ccc\"}, \"mode\": \"lines\", \"name\": \"Test Data\", \"type\": \"scatter\", \"x\": [147, 148, 149, 150, 151, 152, 153, 154, 155, 156, 157, 158, 159, 160, 161, 162, 163, 164, 165, 166, 167, 168, 169, 170, 171, 172, 173, 174, 175, 176, 177, 178, 179, 180, 181, 182, 183, 184, 185, 186], \"y\": [4.816645932434619, 4.87106666636795, 4.878474390493917, 4.866995843894645, 4.913095964916915, 4.894401058429723, 4.907494535176743, 4.916178083743369, 4.887487895940722, 4.828073708497692, 4.852030263919617, 4.8396096970441524, 4.853357507741732, 4.867149761087499, 4.864684238611951, 4.905052531521191, 4.87915893130787, 4.831030044796529, 4.838976685470555, 4.84245330085602, 4.843162940152507, 4.892602227184663, 4.943854260405905, 4.949610592258481, 4.927615938376164, 4.904237203306436, 4.896495613354671, 4.90141548910036, 4.9346897371814515, 4.936701665718133, 4.942142297650955, 4.916764078486185, 4.902307417210627, 4.926746310087428, 4.939210897417889, 4.958920858409577, 5.0515852804252095, 5.037861280349847, 5.030045687616079, 5.006560336054226]}, {\"fill\": \"tozeroy\", \"line\": {\"color\": \"#ccc\"}, \"mode\": \"lines+markers\", \"name\": \"Actual Price\", \"type\": \"scatter\", \"x\": [187, 188, 189, 190, 191], \"y\": [4.816645932434619, 4.87106666636795, 4.878474390493917, 4.866995843894645, 4.913095964916915]}, {\"line\": {\"color\": \"red\"}, \"mode\": \"lines+markers\", \"name\": \"Predicted Price\", \"type\": \"scatter\", \"x\": [187, 188, 189, 190, 191], \"y\": [4.937628269195557, 4.923033237457275, 4.933152198791504, 4.911087989807129, 4.9034504890441895]}],\n",
              "                        {\"height\": 400, \"template\": {\"data\": {\"bar\": [{\"error_x\": {\"color\": \"#2a3f5f\"}, \"error_y\": {\"color\": \"#2a3f5f\"}, \"marker\": {\"line\": {\"color\": \"white\", \"width\": 0.5}}, \"type\": \"bar\"}], \"barpolar\": [{\"marker\": {\"line\": {\"color\": \"white\", \"width\": 0.5}}, \"type\": \"barpolar\"}], \"carpet\": [{\"aaxis\": {\"endlinecolor\": \"#2a3f5f\", \"gridcolor\": \"#C8D4E3\", \"linecolor\": \"#C8D4E3\", \"minorgridcolor\": \"#C8D4E3\", \"startlinecolor\": \"#2a3f5f\"}, \"baxis\": {\"endlinecolor\": \"#2a3f5f\", \"gridcolor\": \"#C8D4E3\", \"linecolor\": \"#C8D4E3\", \"minorgridcolor\": \"#C8D4E3\", \"startlinecolor\": \"#2a3f5f\"}, \"type\": \"carpet\"}], \"choropleth\": [{\"colorbar\": {\"outlinewidth\": 0, \"ticks\": \"\"}, \"type\": \"choropleth\"}], \"contour\": [{\"colorbar\": {\"outlinewidth\": 0, \"ticks\": \"\"}, \"colorscale\": [[0.0, \"#0d0887\"], [0.1111111111111111, \"#46039f\"], [0.2222222222222222, \"#7201a8\"], [0.3333333333333333, \"#9c179e\"], [0.4444444444444444, \"#bd3786\"], [0.5555555555555556, \"#d8576b\"], [0.6666666666666666, \"#ed7953\"], [0.7777777777777778, \"#fb9f3a\"], [0.8888888888888888, \"#fdca26\"], [1.0, \"#f0f921\"]], \"type\": \"contour\"}], \"contourcarpet\": [{\"colorbar\": {\"outlinewidth\": 0, \"ticks\": \"\"}, \"type\": \"contourcarpet\"}], \"heatmap\": [{\"colorbar\": {\"outlinewidth\": 0, \"ticks\": \"\"}, \"colorscale\": [[0.0, \"#0d0887\"], [0.1111111111111111, \"#46039f\"], [0.2222222222222222, \"#7201a8\"], [0.3333333333333333, \"#9c179e\"], [0.4444444444444444, \"#bd3786\"], [0.5555555555555556, \"#d8576b\"], [0.6666666666666666, \"#ed7953\"], [0.7777777777777778, \"#fb9f3a\"], [0.8888888888888888, \"#fdca26\"], [1.0, \"#f0f921\"]], \"type\": \"heatmap\"}], \"heatmapgl\": [{\"colorbar\": {\"outlinewidth\": 0, \"ticks\": \"\"}, \"colorscale\": [[0.0, \"#0d0887\"], [0.1111111111111111, \"#46039f\"], [0.2222222222222222, \"#7201a8\"], [0.3333333333333333, \"#9c179e\"], [0.4444444444444444, \"#bd3786\"], [0.5555555555555556, \"#d8576b\"], [0.6666666666666666, \"#ed7953\"], [0.7777777777777778, \"#fb9f3a\"], [0.8888888888888888, \"#fdca26\"], [1.0, \"#f0f921\"]], \"type\": \"heatmapgl\"}], \"histogram\": [{\"marker\": {\"colorbar\": {\"outlinewidth\": 0, \"ticks\": \"\"}}, \"type\": \"histogram\"}], \"histogram2d\": [{\"colorbar\": {\"outlinewidth\": 0, \"ticks\": \"\"}, \"colorscale\": [[0.0, \"#0d0887\"], [0.1111111111111111, \"#46039f\"], [0.2222222222222222, \"#7201a8\"], [0.3333333333333333, \"#9c179e\"], [0.4444444444444444, \"#bd3786\"], [0.5555555555555556, \"#d8576b\"], [0.6666666666666666, \"#ed7953\"], [0.7777777777777778, \"#fb9f3a\"], [0.8888888888888888, \"#fdca26\"], [1.0, \"#f0f921\"]], \"type\": \"histogram2d\"}], \"histogram2dcontour\": [{\"colorbar\": {\"outlinewidth\": 0, \"ticks\": \"\"}, \"colorscale\": [[0.0, \"#0d0887\"], [0.1111111111111111, \"#46039f\"], [0.2222222222222222, \"#7201a8\"], [0.3333333333333333, \"#9c179e\"], [0.4444444444444444, \"#bd3786\"], [0.5555555555555556, \"#d8576b\"], [0.6666666666666666, \"#ed7953\"], [0.7777777777777778, \"#fb9f3a\"], [0.8888888888888888, \"#fdca26\"], [1.0, \"#f0f921\"]], \"type\": \"histogram2dcontour\"}], \"mesh3d\": [{\"colorbar\": {\"outlinewidth\": 0, \"ticks\": \"\"}, \"type\": \"mesh3d\"}], \"parcoords\": [{\"line\": {\"colorbar\": {\"outlinewidth\": 0, \"ticks\": \"\"}}, \"type\": \"parcoords\"}], \"pie\": [{\"automargin\": true, \"type\": \"pie\"}], \"scatter\": [{\"marker\": {\"colorbar\": {\"outlinewidth\": 0, \"ticks\": \"\"}}, \"type\": \"scatter\"}], \"scatter3d\": [{\"line\": {\"colorbar\": {\"outlinewidth\": 0, \"ticks\": \"\"}}, \"marker\": {\"colorbar\": {\"outlinewidth\": 0, \"ticks\": \"\"}}, \"type\": \"scatter3d\"}], \"scattercarpet\": [{\"marker\": {\"colorbar\": {\"outlinewidth\": 0, \"ticks\": \"\"}}, \"type\": \"scattercarpet\"}], \"scattergeo\": [{\"marker\": {\"colorbar\": {\"outlinewidth\": 0, \"ticks\": \"\"}}, \"type\": \"scattergeo\"}], \"scattergl\": [{\"marker\": {\"colorbar\": {\"outlinewidth\": 0, \"ticks\": \"\"}}, \"type\": \"scattergl\"}], \"scattermapbox\": [{\"marker\": {\"colorbar\": {\"outlinewidth\": 0, \"ticks\": \"\"}}, \"type\": \"scattermapbox\"}], \"scatterpolar\": [{\"marker\": {\"colorbar\": {\"outlinewidth\": 0, \"ticks\": \"\"}}, \"type\": \"scatterpolar\"}], \"scatterpolargl\": [{\"marker\": {\"colorbar\": {\"outlinewidth\": 0, \"ticks\": \"\"}}, \"type\": \"scatterpolargl\"}], \"scatterternary\": [{\"marker\": {\"colorbar\": {\"outlinewidth\": 0, \"ticks\": \"\"}}, \"type\": \"scatterternary\"}], \"surface\": [{\"colorbar\": {\"outlinewidth\": 0, \"ticks\": \"\"}, \"colorscale\": [[0.0, \"#0d0887\"], [0.1111111111111111, \"#46039f\"], [0.2222222222222222, \"#7201a8\"], [0.3333333333333333, \"#9c179e\"], [0.4444444444444444, \"#bd3786\"], [0.5555555555555556, \"#d8576b\"], [0.6666666666666666, \"#ed7953\"], [0.7777777777777778, \"#fb9f3a\"], [0.8888888888888888, \"#fdca26\"], [1.0, \"#f0f921\"]], \"type\": \"surface\"}], \"table\": [{\"cells\": {\"fill\": {\"color\": \"#EBF0F8\"}, \"line\": {\"color\": \"white\"}}, \"header\": {\"fill\": {\"color\": \"#C8D4E3\"}, \"line\": {\"color\": \"white\"}}, \"type\": \"table\"}]}, \"layout\": {\"annotationdefaults\": {\"arrowcolor\": \"#2a3f5f\", \"arrowhead\": 0, \"arrowwidth\": 1}, \"coloraxis\": {\"colorbar\": {\"outlinewidth\": 0, \"ticks\": \"\"}}, \"colorscale\": {\"diverging\": [[0, \"#8e0152\"], [0.1, \"#c51b7d\"], [0.2, \"#de77ae\"], [0.3, \"#f1b6da\"], [0.4, \"#fde0ef\"], [0.5, \"#f7f7f7\"], [0.6, \"#e6f5d0\"], [0.7, \"#b8e186\"], [0.8, \"#7fbc41\"], [0.9, \"#4d9221\"], [1, \"#276419\"]], \"sequential\": [[0.0, \"#0d0887\"], [0.1111111111111111, \"#46039f\"], [0.2222222222222222, \"#7201a8\"], [0.3333333333333333, \"#9c179e\"], [0.4444444444444444, \"#bd3786\"], [0.5555555555555556, \"#d8576b\"], [0.6666666666666666, \"#ed7953\"], [0.7777777777777778, \"#fb9f3a\"], [0.8888888888888888, \"#fdca26\"], [1.0, \"#f0f921\"]], \"sequentialminus\": [[0.0, \"#0d0887\"], [0.1111111111111111, \"#46039f\"], [0.2222222222222222, \"#7201a8\"], [0.3333333333333333, \"#9c179e\"], [0.4444444444444444, \"#bd3786\"], [0.5555555555555556, \"#d8576b\"], [0.6666666666666666, \"#ed7953\"], [0.7777777777777778, \"#fb9f3a\"], [0.8888888888888888, \"#fdca26\"], [1.0, \"#f0f921\"]]}, \"colorway\": [\"#636efa\", \"#EF553B\", \"#00cc96\", \"#ab63fa\", \"#FFA15A\", \"#19d3f3\", \"#FF6692\", \"#B6E880\", \"#FF97FF\", \"#FECB52\"], \"font\": {\"color\": \"#2a3f5f\"}, \"geo\": {\"bgcolor\": \"white\", \"lakecolor\": \"white\", \"landcolor\": \"white\", \"showlakes\": true, \"showland\": true, \"subunitcolor\": \"#C8D4E3\"}, \"hoverlabel\": {\"align\": \"left\"}, \"hovermode\": \"closest\", \"mapbox\": {\"style\": \"light\"}, \"paper_bgcolor\": \"white\", \"plot_bgcolor\": \"white\", \"polar\": {\"angularaxis\": {\"gridcolor\": \"#EBF0F8\", \"linecolor\": \"#EBF0F8\", \"ticks\": \"\"}, \"bgcolor\": \"white\", \"radialaxis\": {\"gridcolor\": \"#EBF0F8\", \"linecolor\": \"#EBF0F8\", \"ticks\": \"\"}}, \"scene\": {\"xaxis\": {\"backgroundcolor\": \"white\", \"gridcolor\": \"#DFE8F3\", \"gridwidth\": 2, \"linecolor\": \"#EBF0F8\", \"showbackground\": true, \"ticks\": \"\", \"zerolinecolor\": \"#EBF0F8\"}, \"yaxis\": {\"backgroundcolor\": \"white\", \"gridcolor\": \"#DFE8F3\", \"gridwidth\": 2, \"linecolor\": \"#EBF0F8\", \"showbackground\": true, \"ticks\": \"\", \"zerolinecolor\": \"#EBF0F8\"}, \"zaxis\": {\"backgroundcolor\": \"white\", \"gridcolor\": \"#DFE8F3\", \"gridwidth\": 2, \"linecolor\": \"#EBF0F8\", \"showbackground\": true, \"ticks\": \"\", \"zerolinecolor\": \"#EBF0F8\"}}, \"shapedefaults\": {\"line\": {\"color\": \"#2a3f5f\"}}, \"ternary\": {\"aaxis\": {\"gridcolor\": \"#DFE8F3\", \"linecolor\": \"#A2B1C6\", \"ticks\": \"\"}, \"baxis\": {\"gridcolor\": \"#DFE8F3\", \"linecolor\": \"#A2B1C6\", \"ticks\": \"\"}, \"bgcolor\": \"white\", \"caxis\": {\"gridcolor\": \"#DFE8F3\", \"linecolor\": \"#A2B1C6\", \"ticks\": \"\"}}, \"title\": {\"x\": 0.05}, \"xaxis\": {\"automargin\": true, \"gridcolor\": \"#EBF0F8\", \"linecolor\": \"#EBF0F8\", \"ticks\": \"\", \"title\": {\"standoff\": 15}, \"zerolinecolor\": \"#EBF0F8\", \"zerolinewidth\": 2}, \"yaxis\": {\"automargin\": true, \"gridcolor\": \"#EBF0F8\", \"linecolor\": \"#EBF0F8\", \"ticks\": \"\", \"title\": {\"standoff\": 15}, \"zerolinecolor\": \"#EBF0F8\", \"zerolinewidth\": 2}}}, \"title\": {\"text\": \"Actual vs Predicted Price\"}, \"width\": 600, \"xaxis\": {\"title\": {\"text\": \"Batch\"}}, \"yaxis\": {\"title\": {\"text\": \"Price\"}}},\n",
              "                        {\"responsive\": true}\n",
              "                    ).then(function(){\n",
              "                            \n",
              "var gd = document.getElementById('b9023b46-7757-44d3-b6e2-f36c6ff0d5ba');\n",
              "var x = new MutationObserver(function (mutations, observer) {{\n",
              "        var display = window.getComputedStyle(gd).display;\n",
              "        if (!display || display === 'none') {{\n",
              "            console.log([gd, 'removed!']);\n",
              "            Plotly.purge(gd);\n",
              "            observer.disconnect();\n",
              "        }}\n",
              "}});\n",
              "\n",
              "// Listen for the removal of the full notebook cells\n",
              "var notebookContainer = gd.closest('#notebook-container');\n",
              "if (notebookContainer) {{\n",
              "    x.observe(notebookContainer, {childList: true});\n",
              "}}\n",
              "\n",
              "// Listen for the clearing of the current output cell\n",
              "var outputEl = gd.closest('.output');\n",
              "if (outputEl) {{\n",
              "    x.observe(outputEl, {childList: true});\n",
              "}}\n",
              "\n",
              "                        })\n",
              "                };\n",
              "                \n",
              "            </script>\n",
              "        </div>\n",
              "</body>\n",
              "</html>"
            ]
          },
          "metadata": {}
        },
        {
          "output_type": "stream",
          "name": "stderr",
          "text": [
            "WARNING:absl:Found untraced functions such as lstm_cell_layer_call_fn, lstm_cell_layer_call_and_return_conditional_losses, lstm_cell_1_layer_call_fn, lstm_cell_1_layer_call_and_return_conditional_losses, lstm_cell_2_layer_call_fn while saving (showing 5 of 15). These functions will not be directly callable after loading.\n"
          ]
        },
        {
          "output_type": "stream",
          "name": "stdout",
          "text": [
            "INFO:tensorflow:Assets written to: /content/drive/MyDrive/Colab Notebooks/models/model_VWM_log_all/assets\n"
          ]
        },
        {
          "output_type": "stream",
          "name": "stderr",
          "text": [
            "INFO:tensorflow:Assets written to: /content/drive/MyDrive/Colab Notebooks/models/model_VWM_log_all/assets\n"
          ]
        }
      ]
    },
    {
      "cell_type": "code",
      "metadata": {
        "colab": {
          "base_uri": "https://localhost:8080/",
          "height": 1000
        },
        "id": "jIRGn9b_5f8L",
        "outputId": "6b63bf2a-78dd-4c88-b7a6-c734769c4ffb"
      },
      "source": [
        "# VW Ware -optimal features\n",
        "stock= 'VWM'\n",
        "modelname = f'model_{stock}_{transform}'\n",
        "model = create_lstm_model(config,x_train,n_predict)\n",
        "\n",
        "# train\n",
        "tic = timeit.default_timer()\n",
        "history = model.fit(x_train,\n",
        "                    y_train,\n",
        "                    batch_size=config['train']['batch_size'],\n",
        "                    epochs=config['train']['epochs'],\n",
        "                    callbacks = [config['train']['early_stop']],\n",
        "                    validation_split =0.10, \n",
        "                    verbose = 0\n",
        "                    )\n",
        "\n",
        "# print the training time\n",
        "toc =timeit.default_timer()\n",
        "print('\\nTraining Time')\n",
        "print('='*60)\n",
        "print(f'Minutes:{round((toc-tic)/60,2)}\\n')\n",
        "\n",
        "# predict prices\n",
        "# calculate the performance metrics\n",
        "# plot training metrics\n",
        "# plot predictions for random batches\n",
        "y_pred_scaled = calculate_performance(x_test,y_test,model,scaler_y)\n",
        "plot_training_metrics(history)\n",
        "plot_n_price_predictions(idx_close,x_test,y_pred_scaled,scaler_y,2)\n",
        "\n",
        "# save model and training performance\n",
        "model.save(f'/content/drive/MyDrive/Colab Notebooks/models/{modelname}_features')\n",
        "\n",
        "df_hist = pd.DataFrame(history.history) \n",
        "df_hist.to_csv(f'/content/drive/MyDrive/Colab Notebooks/models/{modelname}_features/train_history.csv')"
      ],
      "execution_count": 58,
      "outputs": [
        {
          "output_type": "stream",
          "name": "stdout",
          "text": [
            "Model: \"LSTM\"\n",
            "_________________________________________________________________\n",
            "Layer (type)                 Output Shape              Param #   \n",
            "=================================================================\n",
            "lstm (LSTM)                  (None, 40, 40)            8160      \n",
            "_________________________________________________________________\n",
            "lstm_1 (LSTM)                (None, 40, 256)           304128    \n",
            "_________________________________________________________________\n",
            "dropout (Dropout)            (None, 40, 256)           0         \n",
            "_________________________________________________________________\n",
            "lstm_2 (LSTM)                (None, 128)               197120    \n",
            "_________________________________________________________________\n",
            "dropout_1 (Dropout)          (None, 128)               0         \n",
            "_________________________________________________________________\n",
            "dense (Dense)                (None, 32)                4128      \n",
            "_________________________________________________________________\n",
            "dropout_2 (Dropout)          (None, 32)                0         \n",
            "_________________________________________________________________\n",
            "dense_1 (Dense)              (None, 16)                528       \n",
            "_________________________________________________________________\n",
            "dropout_3 (Dropout)          (None, 16)                0         \n",
            "_________________________________________________________________\n",
            "dense_2 (Dense)              (None, 5)                 85        \n",
            "=================================================================\n",
            "Total params: 514,149\n",
            "Trainable params: 514,149\n",
            "Non-trainable params: 0\n",
            "_________________________________________________________________\n",
            "\n",
            "Model Error\n",
            "==============================================================\n",
            "Mean Absolute Error (MAE)------------------------------   0.1\n",
            "Root Mean Squared Error (MSE)--------------------------  0.11\n",
            "Mean Absolute Percentage Error (MAPE)------------------  1.92%\n",
            "Median Absolute Percentage Error (MDAPE)---------------  1.84%\n"
          ]
        },
        {
          "output_type": "display_data",
          "data": {
            "text/html": [
              "<html>\n",
              "<head><meta charset=\"utf-8\" /></head>\n",
              "<body>\n",
              "    <div>\n",
              "            <script src=\"https://cdnjs.cloudflare.com/ajax/libs/mathjax/2.7.5/MathJax.js?config=TeX-AMS-MML_SVG\"></script><script type=\"text/javascript\">if (window.MathJax) {MathJax.Hub.Config({SVG: {font: \"STIX-Web\"}});}</script>\n",
              "                <script type=\"text/javascript\">window.PlotlyConfig = {MathJaxConfig: 'local'};</script>\n",
              "        <script src=\"https://cdn.plot.ly/plotly-latest.min.js\"></script>    \n",
              "            <div id=\"2b118276-8d2e-443a-8bcd-01078ac30f9b\" class=\"plotly-graph-div\" style=\"height:500px; width:700px;\"></div>\n",
              "            <script type=\"text/javascript\">\n",
              "                \n",
              "                    window.PLOTLYENV=window.PLOTLYENV || {};\n",
              "                    \n",
              "                if (document.getElementById(\"2b118276-8d2e-443a-8bcd-01078ac30f9b\")) {\n",
              "                    Plotly.newPlot(\n",
              "                        '2b118276-8d2e-443a-8bcd-01078ac30f9b',\n",
              "                        [{\"line\": {\"color\": \"royalblue\", \"width\": 3}, \"name\": \"train-loss\", \"type\": \"scatter\", \"x\": [1, 2, 3, 4, 5, 6, 7, 8, 9, 10, 11, 12, 13, 14, 15, 16, 17, 18, 19, 20, 21, 22, 23, 24, 25, 26, 27, 28, 29, 30, 31, 32, 33, 34, 35, 36, 37, 38, 39, 40, 41, 42, 43, 44, 45, 46, 47, 48, 49, 50, 51, 52, 53, 54, 55, 56, 57, 58, 59, 60, 61, 62, 63, 64, 65, 66, 67, 68, 69, 70, 71, 72, 73, 74, 75, 76, 77, 78, 79, 80, 81, 82, 83, 84, 85, 86, 87, 88, 89, 90, 91, 92, 93, 94, 95, 96, 97, 98, 99], \"y\": [0.050059642642736435, 0.02154547907412052, 0.017522837966680527, 0.018119322136044502, 0.014744571410119534, 0.013354524970054626, 0.012510462664067745, 0.01160888560116291, 0.010395041666924953, 0.010248151607811451, 0.009210394695401192, 0.008914344012737274, 0.008412603288888931, 0.009093488566577435, 0.00782562792301178, 0.007458088453859091, 0.006491420790553093, 0.006481106858700514, 0.006231179926544428, 0.005468631628900766, 0.005705445073544979, 0.0052076480351388454, 0.005022508092224598, 0.004859810695052147, 0.004867581184953451, 0.004789501894265413, 0.004818479530513287, 0.0044331918470561504, 0.004254825878888369, 0.004338445141911507, 0.0042584678158164024, 0.004301900044083595, 0.003831355832517147, 0.0038896130863577127, 0.003440400818362832, 0.0036282686050981283, 0.0034522879868745804, 0.003462165826931596, 0.003467625705525279, 0.0032809129916131496, 0.0032450968865305185, 0.003207119181752205, 0.002952408976852894, 0.0031347444746643305, 0.0029185768216848373, 0.0027546521741896868, 0.002772253006696701, 0.002926488174125552, 0.0027013160288333893, 0.0026234127581119537, 0.0028521062340587378, 0.0029489577282220125, 0.002854232443496585, 0.0026572546921670437, 0.0025862969923764467, 0.0026020959485322237, 0.0025884283240884542, 0.002544599585235119, 0.00253317435272038, 0.0025025000795722008, 0.0023915532510727644, 0.0024822084233164787, 0.002282836241647601, 0.0024345163255929947, 0.002510103164240718, 0.002540925517678261, 0.002245737239718437, 0.002246817806735635, 0.0020740171894431114, 0.0022931736893951893, 0.0022110934369266033, 0.002025076188147068, 0.002072271192446351, 0.0022011292167007923, 0.0020085147116333246, 0.002081563463434577, 0.0020803799852728844, 0.002128344029188156, 0.002054849173873663, 0.0020887090358883142, 0.0019795428961515427, 0.001874503563158214, 0.0018745680572465062, 0.0018606028752401471, 0.0020700020249933004, 0.0018910695798695087, 0.0019497387111186981, 0.0019099587807431817, 0.001714440411888063, 0.001828554319217801, 0.001825692248530686, 0.001749793067574501, 0.0017518559470772743, 0.0017395166214555502, 0.0017171063227578998, 0.0018310367595404387, 0.0017375817988067865, 0.0018024926539510489, 0.0017458891961723566]}, {\"line\": {\"color\": \"crimson\", \"width\": 3}, \"name\": \"val-loss\", \"type\": \"scatter\", \"x\": [1, 2, 3, 4, 5, 6, 7, 8, 9, 10, 11, 12, 13, 14, 15, 16, 17, 18, 19, 20, 21, 22, 23, 24, 25, 26, 27, 28, 29, 30, 31, 32, 33, 34, 35, 36, 37, 38, 39, 40, 41, 42, 43, 44, 45, 46, 47, 48, 49, 50, 51, 52, 53, 54, 55, 56, 57, 58, 59, 60, 61, 62, 63, 64, 65, 66, 67, 68, 69, 70, 71, 72, 73, 74, 75, 76, 77, 78, 79, 80, 81, 82, 83, 84, 85, 86, 87, 88, 89, 90, 91, 92, 93, 94, 95, 96, 97, 98, 99], \"y\": [0.010446732863783836, 0.004658893682062626, 0.002815995831042528, 0.003431063611060381, 0.0036010148469358683, 0.0032153655774891376, 0.0032314728014171124, 0.0017203752649948, 0.0027446020394563675, 0.002306077629327774, 0.0018925577169284225, 0.006568416021764278, 0.010185045190155506, 0.0036628840025514364, 0.008310181088745594, 0.004464138764888048, 0.002783253090456128, 0.0031439398881047964, 0.0033290849532932043, 0.004725243430584669, 0.0019039459293708205, 0.0023321611806750298, 0.002407749881967902, 0.002333850134164095, 0.0022515133023262024, 0.007457263767719269, 0.008037621155381203, 0.002398974960669875, 0.001975791761651635, 0.006223343312740326, 0.002566676354035735, 0.002420723205432296, 0.0025253777857869864, 0.0028881877660751343, 0.0017837448976933956, 0.0016413002740591764, 0.0014510221080854535, 0.0017271157121285796, 0.0028875472489744425, 0.0032099871896207333, 0.0038217445835471153, 0.002482790732756257, 0.00300159421749413, 0.0018690426368266344, 0.0030148315709084272, 0.0014764348743483424, 0.0019219913519918919, 0.0018754831980913877, 0.0027370485477149487, 0.004384210798889399, 0.0015271607553586364, 0.0011783299269154668, 0.0021485278848558664, 0.002716607181355357, 0.0013212936464697123, 0.001191487186588347, 0.001070696860551834, 0.001758198719471693, 0.0012867804616689682, 0.0012463420862331986, 0.0009884557221084833, 0.0014126755995675921, 0.002004384296014905, 0.001468361122533679, 0.001553845126181841, 0.0011229112278670073, 0.0011779021006077528, 0.0013890806585550308, 0.0020912757609039545, 0.0023586065508425236, 0.0019855829887092113, 0.001834516879171133, 0.002570266602560878, 0.001673840219154954, 0.0017687496729195118, 0.0028233430348336697, 0.002968182787299156, 0.0015037811826914549, 0.0012672580778598785, 0.0014809496933594346, 0.0009724408737383783, 0.0011440960224717855, 0.00114561861846596, 0.0009577620658092201, 0.0012900873553007841, 0.0032253728713840246, 0.0023203170858323574, 0.0012117072474211454, 0.0014514729846268892, 0.0015511951642110944, 0.0015558636514469981, 0.001896694884635508, 0.0014638102147728205, 0.0009348210878670216, 0.0011536922538653016, 0.0010671496856957674, 0.0013377444120123982, 0.0017088681925088167, 0.0023762767668813467]}],\n",
              "                        {\"height\": 500, \"template\": {\"data\": {\"bar\": [{\"error_x\": {\"color\": \"#2a3f5f\"}, \"error_y\": {\"color\": \"#2a3f5f\"}, \"marker\": {\"line\": {\"color\": \"white\", \"width\": 0.5}}, \"type\": \"bar\"}], \"barpolar\": [{\"marker\": {\"line\": {\"color\": \"white\", \"width\": 0.5}}, \"type\": \"barpolar\"}], \"carpet\": [{\"aaxis\": {\"endlinecolor\": \"#2a3f5f\", \"gridcolor\": \"#C8D4E3\", \"linecolor\": \"#C8D4E3\", \"minorgridcolor\": \"#C8D4E3\", \"startlinecolor\": \"#2a3f5f\"}, \"baxis\": {\"endlinecolor\": \"#2a3f5f\", \"gridcolor\": \"#C8D4E3\", \"linecolor\": \"#C8D4E3\", \"minorgridcolor\": \"#C8D4E3\", \"startlinecolor\": \"#2a3f5f\"}, \"type\": \"carpet\"}], \"choropleth\": [{\"colorbar\": {\"outlinewidth\": 0, \"ticks\": \"\"}, \"type\": \"choropleth\"}], \"contour\": [{\"colorbar\": {\"outlinewidth\": 0, \"ticks\": \"\"}, \"colorscale\": [[0.0, \"#0d0887\"], [0.1111111111111111, \"#46039f\"], [0.2222222222222222, \"#7201a8\"], [0.3333333333333333, \"#9c179e\"], [0.4444444444444444, \"#bd3786\"], [0.5555555555555556, \"#d8576b\"], [0.6666666666666666, \"#ed7953\"], [0.7777777777777778, \"#fb9f3a\"], [0.8888888888888888, \"#fdca26\"], [1.0, \"#f0f921\"]], \"type\": \"contour\"}], \"contourcarpet\": [{\"colorbar\": {\"outlinewidth\": 0, \"ticks\": \"\"}, \"type\": \"contourcarpet\"}], \"heatmap\": [{\"colorbar\": {\"outlinewidth\": 0, \"ticks\": \"\"}, \"colorscale\": [[0.0, \"#0d0887\"], [0.1111111111111111, \"#46039f\"], [0.2222222222222222, \"#7201a8\"], [0.3333333333333333, \"#9c179e\"], [0.4444444444444444, \"#bd3786\"], [0.5555555555555556, \"#d8576b\"], [0.6666666666666666, \"#ed7953\"], [0.7777777777777778, \"#fb9f3a\"], [0.8888888888888888, \"#fdca26\"], [1.0, \"#f0f921\"]], \"type\": \"heatmap\"}], \"heatmapgl\": [{\"colorbar\": {\"outlinewidth\": 0, \"ticks\": \"\"}, \"colorscale\": [[0.0, \"#0d0887\"], [0.1111111111111111, \"#46039f\"], [0.2222222222222222, \"#7201a8\"], [0.3333333333333333, \"#9c179e\"], [0.4444444444444444, \"#bd3786\"], [0.5555555555555556, \"#d8576b\"], [0.6666666666666666, \"#ed7953\"], [0.7777777777777778, \"#fb9f3a\"], [0.8888888888888888, \"#fdca26\"], [1.0, \"#f0f921\"]], \"type\": \"heatmapgl\"}], \"histogram\": [{\"marker\": {\"colorbar\": {\"outlinewidth\": 0, \"ticks\": \"\"}}, \"type\": \"histogram\"}], \"histogram2d\": [{\"colorbar\": {\"outlinewidth\": 0, \"ticks\": \"\"}, \"colorscale\": [[0.0, \"#0d0887\"], [0.1111111111111111, \"#46039f\"], [0.2222222222222222, \"#7201a8\"], [0.3333333333333333, \"#9c179e\"], [0.4444444444444444, \"#bd3786\"], [0.5555555555555556, \"#d8576b\"], [0.6666666666666666, \"#ed7953\"], [0.7777777777777778, \"#fb9f3a\"], [0.8888888888888888, \"#fdca26\"], [1.0, \"#f0f921\"]], \"type\": \"histogram2d\"}], \"histogram2dcontour\": [{\"colorbar\": {\"outlinewidth\": 0, \"ticks\": \"\"}, \"colorscale\": [[0.0, \"#0d0887\"], [0.1111111111111111, \"#46039f\"], [0.2222222222222222, \"#7201a8\"], [0.3333333333333333, \"#9c179e\"], [0.4444444444444444, \"#bd3786\"], [0.5555555555555556, \"#d8576b\"], [0.6666666666666666, \"#ed7953\"], [0.7777777777777778, \"#fb9f3a\"], [0.8888888888888888, \"#fdca26\"], [1.0, \"#f0f921\"]], \"type\": \"histogram2dcontour\"}], \"mesh3d\": [{\"colorbar\": {\"outlinewidth\": 0, \"ticks\": \"\"}, \"type\": \"mesh3d\"}], \"parcoords\": [{\"line\": {\"colorbar\": {\"outlinewidth\": 0, \"ticks\": \"\"}}, \"type\": \"parcoords\"}], \"pie\": [{\"automargin\": true, \"type\": \"pie\"}], \"scatter\": [{\"marker\": {\"colorbar\": {\"outlinewidth\": 0, \"ticks\": \"\"}}, \"type\": \"scatter\"}], \"scatter3d\": [{\"line\": {\"colorbar\": {\"outlinewidth\": 0, \"ticks\": \"\"}}, \"marker\": {\"colorbar\": {\"outlinewidth\": 0, \"ticks\": \"\"}}, \"type\": \"scatter3d\"}], \"scattercarpet\": [{\"marker\": {\"colorbar\": {\"outlinewidth\": 0, \"ticks\": \"\"}}, \"type\": \"scattercarpet\"}], \"scattergeo\": [{\"marker\": {\"colorbar\": {\"outlinewidth\": 0, \"ticks\": \"\"}}, \"type\": \"scattergeo\"}], \"scattergl\": [{\"marker\": {\"colorbar\": {\"outlinewidth\": 0, \"ticks\": \"\"}}, \"type\": \"scattergl\"}], \"scattermapbox\": [{\"marker\": {\"colorbar\": {\"outlinewidth\": 0, \"ticks\": \"\"}}, \"type\": \"scattermapbox\"}], \"scatterpolar\": [{\"marker\": {\"colorbar\": {\"outlinewidth\": 0, \"ticks\": \"\"}}, \"type\": \"scatterpolar\"}], \"scatterpolargl\": [{\"marker\": {\"colorbar\": {\"outlinewidth\": 0, \"ticks\": \"\"}}, \"type\": \"scatterpolargl\"}], \"scatterternary\": [{\"marker\": {\"colorbar\": {\"outlinewidth\": 0, \"ticks\": \"\"}}, \"type\": \"scatterternary\"}], \"surface\": [{\"colorbar\": {\"outlinewidth\": 0, \"ticks\": \"\"}, \"colorscale\": [[0.0, \"#0d0887\"], [0.1111111111111111, \"#46039f\"], [0.2222222222222222, \"#7201a8\"], [0.3333333333333333, \"#9c179e\"], [0.4444444444444444, \"#bd3786\"], [0.5555555555555556, \"#d8576b\"], [0.6666666666666666, \"#ed7953\"], [0.7777777777777778, \"#fb9f3a\"], [0.8888888888888888, \"#fdca26\"], [1.0, \"#f0f921\"]], \"type\": \"surface\"}], \"table\": [{\"cells\": {\"fill\": {\"color\": \"#EBF0F8\"}, \"line\": {\"color\": \"white\"}}, \"header\": {\"fill\": {\"color\": \"#C8D4E3\"}, \"line\": {\"color\": \"white\"}}, \"type\": \"table\"}]}, \"layout\": {\"annotationdefaults\": {\"arrowcolor\": \"#2a3f5f\", \"arrowhead\": 0, \"arrowwidth\": 1}, \"coloraxis\": {\"colorbar\": {\"outlinewidth\": 0, \"ticks\": \"\"}}, \"colorscale\": {\"diverging\": [[0, \"#8e0152\"], [0.1, \"#c51b7d\"], [0.2, \"#de77ae\"], [0.3, \"#f1b6da\"], [0.4, \"#fde0ef\"], [0.5, \"#f7f7f7\"], [0.6, \"#e6f5d0\"], [0.7, \"#b8e186\"], [0.8, \"#7fbc41\"], [0.9, \"#4d9221\"], [1, \"#276419\"]], \"sequential\": [[0.0, \"#0d0887\"], [0.1111111111111111, \"#46039f\"], [0.2222222222222222, \"#7201a8\"], [0.3333333333333333, \"#9c179e\"], [0.4444444444444444, \"#bd3786\"], [0.5555555555555556, \"#d8576b\"], [0.6666666666666666, \"#ed7953\"], [0.7777777777777778, \"#fb9f3a\"], [0.8888888888888888, \"#fdca26\"], [1.0, \"#f0f921\"]], \"sequentialminus\": [[0.0, \"#0d0887\"], [0.1111111111111111, \"#46039f\"], [0.2222222222222222, \"#7201a8\"], [0.3333333333333333, \"#9c179e\"], [0.4444444444444444, \"#bd3786\"], [0.5555555555555556, \"#d8576b\"], [0.6666666666666666, \"#ed7953\"], [0.7777777777777778, \"#fb9f3a\"], [0.8888888888888888, \"#fdca26\"], [1.0, \"#f0f921\"]]}, \"colorway\": [\"#636efa\", \"#EF553B\", \"#00cc96\", \"#ab63fa\", \"#FFA15A\", \"#19d3f3\", \"#FF6692\", \"#B6E880\", \"#FF97FF\", \"#FECB52\"], \"font\": {\"color\": \"#2a3f5f\"}, \"geo\": {\"bgcolor\": \"white\", \"lakecolor\": \"white\", \"landcolor\": \"white\", \"showlakes\": true, \"showland\": true, \"subunitcolor\": \"#C8D4E3\"}, \"hoverlabel\": {\"align\": \"left\"}, \"hovermode\": \"closest\", \"mapbox\": {\"style\": \"light\"}, \"paper_bgcolor\": \"white\", \"plot_bgcolor\": \"white\", \"polar\": {\"angularaxis\": {\"gridcolor\": \"#EBF0F8\", \"linecolor\": \"#EBF0F8\", \"ticks\": \"\"}, \"bgcolor\": \"white\", \"radialaxis\": {\"gridcolor\": \"#EBF0F8\", \"linecolor\": \"#EBF0F8\", \"ticks\": \"\"}}, \"scene\": {\"xaxis\": {\"backgroundcolor\": \"white\", \"gridcolor\": \"#DFE8F3\", \"gridwidth\": 2, \"linecolor\": \"#EBF0F8\", \"showbackground\": true, \"ticks\": \"\", \"zerolinecolor\": \"#EBF0F8\"}, \"yaxis\": {\"backgroundcolor\": \"white\", \"gridcolor\": \"#DFE8F3\", \"gridwidth\": 2, \"linecolor\": \"#EBF0F8\", \"showbackground\": true, \"ticks\": \"\", \"zerolinecolor\": \"#EBF0F8\"}, \"zaxis\": {\"backgroundcolor\": \"white\", \"gridcolor\": \"#DFE8F3\", \"gridwidth\": 2, \"linecolor\": \"#EBF0F8\", \"showbackground\": true, \"ticks\": \"\", \"zerolinecolor\": \"#EBF0F8\"}}, \"shapedefaults\": {\"line\": {\"color\": \"#2a3f5f\"}}, \"ternary\": {\"aaxis\": {\"gridcolor\": \"#DFE8F3\", \"linecolor\": \"#A2B1C6\", \"ticks\": \"\"}, \"baxis\": {\"gridcolor\": \"#DFE8F3\", \"linecolor\": \"#A2B1C6\", \"ticks\": \"\"}, \"bgcolor\": \"white\", \"caxis\": {\"gridcolor\": \"#DFE8F3\", \"linecolor\": \"#A2B1C6\", \"ticks\": \"\"}}, \"title\": {\"x\": 0.05}, \"xaxis\": {\"automargin\": true, \"gridcolor\": \"#EBF0F8\", \"linecolor\": \"#EBF0F8\", \"ticks\": \"\", \"title\": {\"standoff\": 15}, \"zerolinecolor\": \"#EBF0F8\", \"zerolinewidth\": 2}, \"yaxis\": {\"automargin\": true, \"gridcolor\": \"#EBF0F8\", \"linecolor\": \"#EBF0F8\", \"ticks\": \"\", \"title\": {\"standoff\": 15}, \"zerolinecolor\": \"#EBF0F8\", \"zerolinewidth\": 2}}}, \"title\": {\"text\": \"Training Metrics\"}, \"width\": 700, \"xaxis\": {\"title\": {\"text\": \"epochs\"}}, \"yaxis\": {\"title\": {\"text\": \"loss\"}}},\n",
              "                        {\"responsive\": true}\n",
              "                    ).then(function(){\n",
              "                            \n",
              "var gd = document.getElementById('2b118276-8d2e-443a-8bcd-01078ac30f9b');\n",
              "var x = new MutationObserver(function (mutations, observer) {{\n",
              "        var display = window.getComputedStyle(gd).display;\n",
              "        if (!display || display === 'none') {{\n",
              "            console.log([gd, 'removed!']);\n",
              "            Plotly.purge(gd);\n",
              "            observer.disconnect();\n",
              "        }}\n",
              "}});\n",
              "\n",
              "// Listen for the removal of the full notebook cells\n",
              "var notebookContainer = gd.closest('#notebook-container');\n",
              "if (notebookContainer) {{\n",
              "    x.observe(notebookContainer, {childList: true});\n",
              "}}\n",
              "\n",
              "// Listen for the clearing of the current output cell\n",
              "var outputEl = gd.closest('.output');\n",
              "if (outputEl) {{\n",
              "    x.observe(outputEl, {childList: true});\n",
              "}}\n",
              "\n",
              "                        })\n",
              "                };\n",
              "                \n",
              "            </script>\n",
              "        </div>\n",
              "</body>\n",
              "</html>"
            ]
          },
          "metadata": {}
        },
        {
          "output_type": "stream",
          "name": "stderr",
          "text": [
            "WARNING:absl:Found untraced functions such as lstm_cell_layer_call_and_return_conditional_losses, lstm_cell_layer_call_fn, lstm_cell_1_layer_call_and_return_conditional_losses, lstm_cell_1_layer_call_fn, lstm_cell_2_layer_call_and_return_conditional_losses while saving (showing 5 of 15). These functions will not be directly callable after loading.\n"
          ]
        },
        {
          "output_type": "stream",
          "name": "stdout",
          "text": [
            "INFO:tensorflow:Assets written to: /content/drive/MyDrive/Colab Notebooks/models/model_VWM_log_features/assets\n"
          ]
        },
        {
          "output_type": "stream",
          "name": "stderr",
          "text": [
            "INFO:tensorflow:Assets written to: /content/drive/MyDrive/Colab Notebooks/models/model_VWM_log_features/assets\n"
          ]
        }
      ]
    },
    {
      "cell_type": "markdown",
      "metadata": {
        "id": "TobMN5jOvIIj"
      },
      "source": [
        "### BLX.TO"
      ]
    },
    {
      "cell_type": "code",
      "metadata": {
        "colab": {
          "base_uri": "https://localhost:8080/",
          "height": 1000
        },
        "id": "pWe0wsANnike",
        "outputId": "58faf7e6-3a66-4234-e178-f0820578d70b"
      },
      "source": [
        "# BLX  -all features\n",
        "stock= 'BLX.TO'\n",
        "modelname = f'model_{stock}_{transform}'\n",
        "model = create_lstm_model(config,x_train,n_predict)\n",
        "\n",
        "# train\n",
        "tic = timeit.default_timer()\n",
        "history = model.fit(x_train,\n",
        "                    y_train,\n",
        "                    batch_size=config['train']['batch_size'],\n",
        "                    epochs=config['train']['epochs'],\n",
        "                    callbacks = [config['train']['early_stop']],\n",
        "                    validation_split =0.10, \n",
        "                    verbose = 0\n",
        "                    )\n",
        "\n",
        "# print the training time\n",
        "toc =timeit.default_timer()\n",
        "print('\\nTraining Time')\n",
        "print('='*60)\n",
        "print(f'Minutes:{round((toc-tic)/60,2)}\\n')\n",
        "\n",
        "# predict prices\n",
        "# calculate the performance metrics\n",
        "# plot training metrics\n",
        "# plot predictions for random batches\n",
        "y_pred_scaled = calculate_performance(x_test,y_test,model,scaler_y)\n",
        "plot_training_metrics(history)\n",
        "plot_n_price_predictions(idx_close,x_test,y_pred_scaled,scaler_y,2)\n",
        "\n",
        "\n",
        "# save model and training performance\n",
        "model.save(f'/content/drive/MyDrive/Colab Notebooks/models/{modelname}_all')\n",
        "\n",
        "df_hist = pd.DataFrame(history.history) \n",
        "df_hist.to_csv(f'/content/drive/MyDrive/Colab Notebooks/models/{modelname}_all/train_history.csv')"
      ],
      "execution_count": 50,
      "outputs": [
        {
          "output_type": "stream",
          "name": "stdout",
          "text": [
            "Model: \"LSTM\"\n",
            "_________________________________________________________________\n",
            "Layer (type)                 Output Shape              Param #   \n",
            "=================================================================\n",
            "lstm (LSTM)                  (None, 40, 40)            11040     \n",
            "_________________________________________________________________\n",
            "lstm_1 (LSTM)                (None, 40, 256)           304128    \n",
            "_________________________________________________________________\n",
            "dropout (Dropout)            (None, 40, 256)           0         \n",
            "_________________________________________________________________\n",
            "lstm_2 (LSTM)                (None, 128)               197120    \n",
            "_________________________________________________________________\n",
            "dropout_1 (Dropout)          (None, 128)               0         \n",
            "_________________________________________________________________\n",
            "dense (Dense)                (None, 32)                4128      \n",
            "_________________________________________________________________\n",
            "dropout_2 (Dropout)          (None, 32)                0         \n",
            "_________________________________________________________________\n",
            "dense_1 (Dense)              (None, 16)                528       \n",
            "_________________________________________________________________\n",
            "dropout_3 (Dropout)          (None, 16)                0         \n",
            "_________________________________________________________________\n",
            "dense_2 (Dense)              (None, 5)                 85        \n",
            "=================================================================\n",
            "Total params: 517,029\n",
            "Trainable params: 517,029\n",
            "Non-trainable params: 0\n",
            "_________________________________________________________________\n",
            "\n",
            "Model Error\n",
            "==============================================================\n",
            "Mean Absolute Error (MAE)------------------------------  0.23\n",
            "Root Mean Squared Error (MSE)--------------------------  0.26\n",
            "Mean Absolute Percentage Error (MAPE)------------------  6.46%\n",
            "Median Absolute Percentage Error (MDAPE)---------------  6.28%\n"
          ]
        },
        {
          "output_type": "display_data",
          "data": {
            "text/html": [
              "<html>\n",
              "<head><meta charset=\"utf-8\" /></head>\n",
              "<body>\n",
              "    <div>\n",
              "            <script src=\"https://cdnjs.cloudflare.com/ajax/libs/mathjax/2.7.5/MathJax.js?config=TeX-AMS-MML_SVG\"></script><script type=\"text/javascript\">if (window.MathJax) {MathJax.Hub.Config({SVG: {font: \"STIX-Web\"}});}</script>\n",
              "                <script type=\"text/javascript\">window.PlotlyConfig = {MathJaxConfig: 'local'};</script>\n",
              "        <script src=\"https://cdn.plot.ly/plotly-latest.min.js\"></script>    \n",
              "            <div id=\"044567d2-feae-4e9d-b297-20b334635b6e\" class=\"plotly-graph-div\" style=\"height:500px; width:700px;\"></div>\n",
              "            <script type=\"text/javascript\">\n",
              "                \n",
              "                    window.PLOTLYENV=window.PLOTLYENV || {};\n",
              "                    \n",
              "                if (document.getElementById(\"044567d2-feae-4e9d-b297-20b334635b6e\")) {\n",
              "                    Plotly.newPlot(\n",
              "                        '044567d2-feae-4e9d-b297-20b334635b6e',\n",
              "                        [{\"line\": {\"color\": \"royalblue\", \"width\": 3}, \"name\": \"train-loss\", \"type\": \"scatter\", \"x\": [1, 2, 3, 4, 5, 6, 7, 8, 9, 10, 11, 12, 13, 14, 15, 16, 17, 18, 19, 20, 21, 22, 23, 24, 25, 26, 27, 28, 29, 30, 31, 32, 33, 34, 35, 36, 37, 38, 39, 40, 41, 42, 43, 44, 45, 46, 47, 48, 49, 50, 51, 52, 53, 54, 55, 56, 57, 58, 59, 60, 61, 62, 63, 64, 65, 66, 67, 68, 69, 70, 71, 72, 73, 74, 75, 76, 77, 78, 79, 80, 81, 82, 83, 84, 85, 86, 87, 88, 89, 90, 91, 92, 93, 94, 95, 96, 97, 98, 99, 100, 101, 102, 103, 104, 105, 106, 107, 108, 109, 110, 111, 112, 113, 114], \"y\": [0.05966600030660629, 0.020295800641179085, 0.014819415286183357, 0.012588917277753353, 0.010355125181376934, 0.009482204914093018, 0.008287790231406689, 0.007990420795977116, 0.006676572374999523, 0.006606982555240393, 0.005992216523736715, 0.005436633247882128, 0.005189365241676569, 0.004919916857033968, 0.004460016265511513, 0.004400672856718302, 0.003885256126523018, 0.004018215928226709, 0.0037693632766604424, 0.003425906877964735, 0.0032135508954524994, 0.00320390984416008, 0.003098605666309595, 0.0028762356378138065, 0.0027513145469129086, 0.0028402507305145264, 0.0026726971846073866, 0.0026793556753546, 0.002687044907361269, 0.0026065486017614603, 0.002527508419007063, 0.0022978188935667276, 0.0022830055095255375, 0.0022725090384483337, 0.002474210225045681, 0.0020166297908872366, 0.0022028740495443344, 0.0020370546262711287, 0.002020715270191431, 0.0020108288154006004, 0.001916909241117537, 0.0019551371224224567, 0.0018712759483605623, 0.0018584466306492686, 0.0018453042721375823, 0.0017921804683282971, 0.0017372898291796446, 0.0018168507376685739, 0.0017883031396195292, 0.001630326616577804, 0.001762704341672361, 0.001716328551992774, 0.0016225817380473018, 0.001647294033318758, 0.0016289468621835113, 0.0016562486998736858, 0.001473875599913299, 0.0015990134561434388, 0.0015648172702640295, 0.0014403098030015826, 0.0013878887984901667, 0.0014046784490346909, 0.0013941891957074404, 0.0013342478778213263, 0.0014092893106862903, 0.0013860928593203425, 0.0013827327638864517, 0.0013350549852475524, 0.001451603602617979, 0.0013449870748445392, 0.0012965278001502156, 0.0013355936389416456, 0.0013317123521119356, 0.0013411964755505323, 0.0013145903358235955, 0.001267769723199308, 0.0012776459334418178, 0.0013768305070698261, 0.0012158658355474472, 0.0011366711696609855, 0.0011836447520181537, 0.0012423505540937185, 0.0011159995337948203, 0.0011701717739924788, 0.001230538124218583, 0.0011028884910047054, 0.001093638245947659, 0.0012254975736141205, 0.0012984140776097775, 0.0011502117849886417, 0.0010866249212995172, 0.0010193685302510858, 0.0010629125172272325, 0.0010506355902180076, 0.0011179270222783089, 0.0009968760423362255, 0.0010169078595936298, 0.0010488287080079317, 0.0010481229983270168, 0.001001790864393115, 0.001032667700201273, 0.0010497844778001308, 0.0010148808360099792, 0.0009192082798108459, 0.0009505765046924353, 0.0009969309903681278, 0.0010883552022278309, 0.0010170289315283298, 0.001017587841488421, 0.0010509403655305505, 0.0009687872370705009, 0.000953691836912185, 0.0009971857070922852, 0.00101213320158422]}, {\"line\": {\"color\": \"crimson\", \"width\": 3}, \"name\": \"val-loss\", \"type\": \"scatter\", \"x\": [1, 2, 3, 4, 5, 6, 7, 8, 9, 10, 11, 12, 13, 14, 15, 16, 17, 18, 19, 20, 21, 22, 23, 24, 25, 26, 27, 28, 29, 30, 31, 32, 33, 34, 35, 36, 37, 38, 39, 40, 41, 42, 43, 44, 45, 46, 47, 48, 49, 50, 51, 52, 53, 54, 55, 56, 57, 58, 59, 60, 61, 62, 63, 64, 65, 66, 67, 68, 69, 70, 71, 72, 73, 74, 75, 76, 77, 78, 79, 80, 81, 82, 83, 84, 85, 86, 87, 88, 89, 90, 91, 92, 93, 94, 95, 96, 97, 98, 99, 100, 101, 102, 103, 104, 105, 106, 107, 108, 109, 110, 111, 112, 113, 114], \"y\": [0.005440603941679001, 0.00109331333078444, 0.0010952207958325744, 0.0014705585781484842, 0.0006700506783090532, 0.0007542463135905564, 0.002272089710459113, 0.000940724101383239, 0.00047870437265373766, 0.00038264741306193173, 0.0006158746546134353, 0.0016984546091407537, 0.0005634145927615464, 0.00042101246071979403, 0.001124561415053904, 0.0003473374526947737, 0.0019383534090593457, 0.0007352082757279277, 0.0007552135502919555, 0.0004210028564557433, 0.001724955509416759, 0.0006022173329256475, 0.0006130922120064497, 0.00022082452778704464, 0.000387488427804783, 0.002074836054816842, 0.00023496849462389946, 0.0006400211714208126, 0.00013284734450280666, 0.0004867951211053878, 0.0008016045321710408, 0.00021291905432008207, 0.00014954147627577186, 0.0005350633291527629, 0.00011671963147819042, 0.0005856386269442737, 0.00016395440616179258, 0.001368337427265942, 0.0008069753530435264, 0.00029869828722439706, 0.0008544036536477506, 0.0018101707100868225, 0.00034517302992753685, 0.0007439280161634088, 0.001552871777676046, 0.0004817288718186319, 0.0007661688141524792, 0.0016317602712661028, 0.0003692761529237032, 0.0003242332022637129, 0.0008638646686449647, 0.000424787838710472, 0.0008609046344645321, 0.00014766136882826686, 0.0003716361243277788, 0.0008913787896744907, 0.0002718897594604641, 0.0010699055856093764, 0.0011265530483797193, 0.0005835152696818113, 0.000577961967792362, 0.0004870026314165443, 0.0013598221121355891, 0.0006729078013449907, 0.0002805888361763209, 0.0004902160726487637, 0.0016101259971037507, 0.000877055455930531, 0.0004376060969661921, 0.0009625513921491802, 0.0004307804338168353, 0.0002914627839345485, 0.001675608684308827, 0.00013550027506425977, 0.0009918368887156248, 0.0004379074671305716, 0.0011825732653960586, 0.00044065009569749236, 0.0004392834671307355, 0.0009683809475973248, 0.0005951150087639689, 0.0007287916378118098, 0.0005069219623692334, 0.0013163043186068535, 0.0001884807861642912, 0.0011136039393022656, 0.0007467585965059698, 0.0008363844244740903, 0.00020960642723366618, 0.0005829783622175455, 0.000664395047351718, 0.0003641440416686237, 0.0010395008139312267, 0.0006135762669146061, 0.000299622246529907, 0.0006519465241581202, 0.0008926917216740549, 0.00114595633931458, 0.0007933580782264471, 0.0002072787465294823, 0.0005674178246408701, 0.0009397407993674278, 0.00039071336505003273, 0.000350268732290715, 0.0008236921275965869, 0.00012126044020988047, 0.0010759122669696808, 0.0004306467599235475, 0.00037733279168605804, 0.00030279220663942397, 0.000747793645132333, 0.000497492728754878, 0.00047625062870793045, 0.0006762676639482379]}],\n",
              "                        {\"height\": 500, \"template\": {\"data\": {\"bar\": [{\"error_x\": {\"color\": \"#2a3f5f\"}, \"error_y\": {\"color\": \"#2a3f5f\"}, \"marker\": {\"line\": {\"color\": \"white\", \"width\": 0.5}}, \"type\": \"bar\"}], \"barpolar\": [{\"marker\": {\"line\": {\"color\": \"white\", \"width\": 0.5}}, \"type\": \"barpolar\"}], \"carpet\": [{\"aaxis\": {\"endlinecolor\": \"#2a3f5f\", \"gridcolor\": \"#C8D4E3\", \"linecolor\": \"#C8D4E3\", \"minorgridcolor\": \"#C8D4E3\", \"startlinecolor\": \"#2a3f5f\"}, \"baxis\": {\"endlinecolor\": \"#2a3f5f\", \"gridcolor\": \"#C8D4E3\", \"linecolor\": \"#C8D4E3\", \"minorgridcolor\": \"#C8D4E3\", \"startlinecolor\": \"#2a3f5f\"}, \"type\": \"carpet\"}], \"choropleth\": [{\"colorbar\": {\"outlinewidth\": 0, \"ticks\": \"\"}, \"type\": \"choropleth\"}], \"contour\": [{\"colorbar\": {\"outlinewidth\": 0, \"ticks\": \"\"}, \"colorscale\": [[0.0, \"#0d0887\"], [0.1111111111111111, \"#46039f\"], [0.2222222222222222, \"#7201a8\"], [0.3333333333333333, \"#9c179e\"], [0.4444444444444444, \"#bd3786\"], [0.5555555555555556, \"#d8576b\"], [0.6666666666666666, \"#ed7953\"], [0.7777777777777778, \"#fb9f3a\"], [0.8888888888888888, \"#fdca26\"], [1.0, \"#f0f921\"]], \"type\": \"contour\"}], \"contourcarpet\": [{\"colorbar\": {\"outlinewidth\": 0, \"ticks\": \"\"}, \"type\": \"contourcarpet\"}], \"heatmap\": [{\"colorbar\": {\"outlinewidth\": 0, \"ticks\": \"\"}, \"colorscale\": [[0.0, \"#0d0887\"], [0.1111111111111111, \"#46039f\"], [0.2222222222222222, \"#7201a8\"], [0.3333333333333333, \"#9c179e\"], [0.4444444444444444, \"#bd3786\"], [0.5555555555555556, \"#d8576b\"], [0.6666666666666666, \"#ed7953\"], [0.7777777777777778, \"#fb9f3a\"], [0.8888888888888888, \"#fdca26\"], [1.0, \"#f0f921\"]], \"type\": \"heatmap\"}], \"heatmapgl\": [{\"colorbar\": {\"outlinewidth\": 0, \"ticks\": \"\"}, \"colorscale\": [[0.0, \"#0d0887\"], [0.1111111111111111, \"#46039f\"], [0.2222222222222222, \"#7201a8\"], [0.3333333333333333, \"#9c179e\"], [0.4444444444444444, \"#bd3786\"], [0.5555555555555556, \"#d8576b\"], [0.6666666666666666, \"#ed7953\"], [0.7777777777777778, \"#fb9f3a\"], [0.8888888888888888, \"#fdca26\"], [1.0, \"#f0f921\"]], \"type\": \"heatmapgl\"}], \"histogram\": [{\"marker\": {\"colorbar\": {\"outlinewidth\": 0, \"ticks\": \"\"}}, \"type\": \"histogram\"}], \"histogram2d\": [{\"colorbar\": {\"outlinewidth\": 0, \"ticks\": \"\"}, \"colorscale\": [[0.0, \"#0d0887\"], [0.1111111111111111, \"#46039f\"], [0.2222222222222222, \"#7201a8\"], [0.3333333333333333, \"#9c179e\"], [0.4444444444444444, \"#bd3786\"], [0.5555555555555556, \"#d8576b\"], [0.6666666666666666, \"#ed7953\"], [0.7777777777777778, \"#fb9f3a\"], [0.8888888888888888, \"#fdca26\"], [1.0, \"#f0f921\"]], \"type\": \"histogram2d\"}], \"histogram2dcontour\": [{\"colorbar\": {\"outlinewidth\": 0, \"ticks\": \"\"}, \"colorscale\": [[0.0, \"#0d0887\"], [0.1111111111111111, \"#46039f\"], [0.2222222222222222, \"#7201a8\"], [0.3333333333333333, \"#9c179e\"], [0.4444444444444444, \"#bd3786\"], [0.5555555555555556, \"#d8576b\"], [0.6666666666666666, \"#ed7953\"], [0.7777777777777778, \"#fb9f3a\"], [0.8888888888888888, \"#fdca26\"], [1.0, \"#f0f921\"]], \"type\": \"histogram2dcontour\"}], \"mesh3d\": [{\"colorbar\": {\"outlinewidth\": 0, \"ticks\": \"\"}, \"type\": \"mesh3d\"}], \"parcoords\": [{\"line\": {\"colorbar\": {\"outlinewidth\": 0, \"ticks\": \"\"}}, \"type\": \"parcoords\"}], \"pie\": [{\"automargin\": true, \"type\": \"pie\"}], \"scatter\": [{\"marker\": {\"colorbar\": {\"outlinewidth\": 0, \"ticks\": \"\"}}, \"type\": \"scatter\"}], \"scatter3d\": [{\"line\": {\"colorbar\": {\"outlinewidth\": 0, \"ticks\": \"\"}}, \"marker\": {\"colorbar\": {\"outlinewidth\": 0, \"ticks\": \"\"}}, \"type\": \"scatter3d\"}], \"scattercarpet\": [{\"marker\": {\"colorbar\": {\"outlinewidth\": 0, \"ticks\": \"\"}}, \"type\": \"scattercarpet\"}], \"scattergeo\": [{\"marker\": {\"colorbar\": {\"outlinewidth\": 0, \"ticks\": \"\"}}, \"type\": \"scattergeo\"}], \"scattergl\": [{\"marker\": {\"colorbar\": {\"outlinewidth\": 0, \"ticks\": \"\"}}, \"type\": \"scattergl\"}], \"scattermapbox\": [{\"marker\": {\"colorbar\": {\"outlinewidth\": 0, \"ticks\": \"\"}}, \"type\": \"scattermapbox\"}], \"scatterpolar\": [{\"marker\": {\"colorbar\": {\"outlinewidth\": 0, \"ticks\": \"\"}}, \"type\": \"scatterpolar\"}], \"scatterpolargl\": [{\"marker\": {\"colorbar\": {\"outlinewidth\": 0, \"ticks\": \"\"}}, \"type\": \"scatterpolargl\"}], \"scatterternary\": [{\"marker\": {\"colorbar\": {\"outlinewidth\": 0, \"ticks\": \"\"}}, \"type\": \"scatterternary\"}], \"surface\": [{\"colorbar\": {\"outlinewidth\": 0, \"ticks\": \"\"}, \"colorscale\": [[0.0, \"#0d0887\"], [0.1111111111111111, \"#46039f\"], [0.2222222222222222, \"#7201a8\"], [0.3333333333333333, \"#9c179e\"], [0.4444444444444444, \"#bd3786\"], [0.5555555555555556, \"#d8576b\"], [0.6666666666666666, \"#ed7953\"], [0.7777777777777778, \"#fb9f3a\"], [0.8888888888888888, \"#fdca26\"], [1.0, \"#f0f921\"]], \"type\": \"surface\"}], \"table\": [{\"cells\": {\"fill\": {\"color\": \"#EBF0F8\"}, \"line\": {\"color\": \"white\"}}, \"header\": {\"fill\": {\"color\": \"#C8D4E3\"}, \"line\": {\"color\": \"white\"}}, \"type\": \"table\"}]}, \"layout\": {\"annotationdefaults\": {\"arrowcolor\": \"#2a3f5f\", \"arrowhead\": 0, \"arrowwidth\": 1}, \"coloraxis\": {\"colorbar\": {\"outlinewidth\": 0, \"ticks\": \"\"}}, \"colorscale\": {\"diverging\": [[0, \"#8e0152\"], [0.1, \"#c51b7d\"], [0.2, \"#de77ae\"], [0.3, \"#f1b6da\"], [0.4, \"#fde0ef\"], [0.5, \"#f7f7f7\"], [0.6, \"#e6f5d0\"], [0.7, \"#b8e186\"], [0.8, \"#7fbc41\"], [0.9, \"#4d9221\"], [1, \"#276419\"]], \"sequential\": [[0.0, \"#0d0887\"], [0.1111111111111111, \"#46039f\"], [0.2222222222222222, \"#7201a8\"], [0.3333333333333333, \"#9c179e\"], [0.4444444444444444, \"#bd3786\"], [0.5555555555555556, \"#d8576b\"], [0.6666666666666666, \"#ed7953\"], [0.7777777777777778, \"#fb9f3a\"], [0.8888888888888888, \"#fdca26\"], [1.0, \"#f0f921\"]], \"sequentialminus\": [[0.0, \"#0d0887\"], [0.1111111111111111, \"#46039f\"], [0.2222222222222222, \"#7201a8\"], [0.3333333333333333, \"#9c179e\"], [0.4444444444444444, \"#bd3786\"], [0.5555555555555556, \"#d8576b\"], [0.6666666666666666, \"#ed7953\"], [0.7777777777777778, \"#fb9f3a\"], [0.8888888888888888, \"#fdca26\"], [1.0, \"#f0f921\"]]}, \"colorway\": [\"#636efa\", \"#EF553B\", \"#00cc96\", \"#ab63fa\", \"#FFA15A\", \"#19d3f3\", \"#FF6692\", \"#B6E880\", \"#FF97FF\", \"#FECB52\"], \"font\": {\"color\": \"#2a3f5f\"}, \"geo\": {\"bgcolor\": \"white\", \"lakecolor\": \"white\", \"landcolor\": \"white\", \"showlakes\": true, \"showland\": true, \"subunitcolor\": \"#C8D4E3\"}, \"hoverlabel\": {\"align\": \"left\"}, \"hovermode\": \"closest\", \"mapbox\": {\"style\": \"light\"}, \"paper_bgcolor\": \"white\", \"plot_bgcolor\": \"white\", \"polar\": {\"angularaxis\": {\"gridcolor\": \"#EBF0F8\", \"linecolor\": \"#EBF0F8\", \"ticks\": \"\"}, \"bgcolor\": \"white\", \"radialaxis\": {\"gridcolor\": \"#EBF0F8\", \"linecolor\": \"#EBF0F8\", \"ticks\": \"\"}}, \"scene\": {\"xaxis\": {\"backgroundcolor\": \"white\", \"gridcolor\": \"#DFE8F3\", \"gridwidth\": 2, \"linecolor\": \"#EBF0F8\", \"showbackground\": true, \"ticks\": \"\", \"zerolinecolor\": \"#EBF0F8\"}, \"yaxis\": {\"backgroundcolor\": \"white\", \"gridcolor\": \"#DFE8F3\", \"gridwidth\": 2, \"linecolor\": \"#EBF0F8\", \"showbackground\": true, \"ticks\": \"\", \"zerolinecolor\": \"#EBF0F8\"}, \"zaxis\": {\"backgroundcolor\": \"white\", \"gridcolor\": \"#DFE8F3\", \"gridwidth\": 2, \"linecolor\": \"#EBF0F8\", \"showbackground\": true, \"ticks\": \"\", \"zerolinecolor\": \"#EBF0F8\"}}, \"shapedefaults\": {\"line\": {\"color\": \"#2a3f5f\"}}, \"ternary\": {\"aaxis\": {\"gridcolor\": \"#DFE8F3\", \"linecolor\": \"#A2B1C6\", \"ticks\": \"\"}, \"baxis\": {\"gridcolor\": \"#DFE8F3\", \"linecolor\": \"#A2B1C6\", \"ticks\": \"\"}, \"bgcolor\": \"white\", \"caxis\": {\"gridcolor\": \"#DFE8F3\", \"linecolor\": \"#A2B1C6\", \"ticks\": \"\"}}, \"title\": {\"x\": 0.05}, \"xaxis\": {\"automargin\": true, \"gridcolor\": \"#EBF0F8\", \"linecolor\": \"#EBF0F8\", \"ticks\": \"\", \"title\": {\"standoff\": 15}, \"zerolinecolor\": \"#EBF0F8\", \"zerolinewidth\": 2}, \"yaxis\": {\"automargin\": true, \"gridcolor\": \"#EBF0F8\", \"linecolor\": \"#EBF0F8\", \"ticks\": \"\", \"title\": {\"standoff\": 15}, \"zerolinecolor\": \"#EBF0F8\", \"zerolinewidth\": 2}}}, \"title\": {\"text\": \"Training Metrics\"}, \"width\": 700, \"xaxis\": {\"title\": {\"text\": \"epochs\"}}, \"yaxis\": {\"title\": {\"text\": \"loss\"}}},\n",
              "                        {\"responsive\": true}\n",
              "                    ).then(function(){\n",
              "                            \n",
              "var gd = document.getElementById('044567d2-feae-4e9d-b297-20b334635b6e');\n",
              "var x = new MutationObserver(function (mutations, observer) {{\n",
              "        var display = window.getComputedStyle(gd).display;\n",
              "        if (!display || display === 'none') {{\n",
              "            console.log([gd, 'removed!']);\n",
              "            Plotly.purge(gd);\n",
              "            observer.disconnect();\n",
              "        }}\n",
              "}});\n",
              "\n",
              "// Listen for the removal of the full notebook cells\n",
              "var notebookContainer = gd.closest('#notebook-container');\n",
              "if (notebookContainer) {{\n",
              "    x.observe(notebookContainer, {childList: true});\n",
              "}}\n",
              "\n",
              "// Listen for the clearing of the current output cell\n",
              "var outputEl = gd.closest('.output');\n",
              "if (outputEl) {{\n",
              "    x.observe(outputEl, {childList: true});\n",
              "}}\n",
              "\n",
              "                        })\n",
              "                };\n",
              "                \n",
              "            </script>\n",
              "        </div>\n",
              "</body>\n",
              "</html>"
            ]
          },
          "metadata": {}
        },
        {
          "output_type": "stream",
          "name": "stderr",
          "text": [
            "WARNING:absl:Found untraced functions such as lstm_cell_layer_call_and_return_conditional_losses, lstm_cell_layer_call_fn, lstm_cell_1_layer_call_and_return_conditional_losses, lstm_cell_1_layer_call_fn, lstm_cell_2_layer_call_and_return_conditional_losses while saving (showing 5 of 15). These functions will not be directly callable after loading.\n"
          ]
        },
        {
          "output_type": "stream",
          "name": "stdout",
          "text": [
            "INFO:tensorflow:Assets written to: /content/drive/MyDrive/Colab Notebooks/models/model_BLX.TO_log_all/assets\n"
          ]
        },
        {
          "output_type": "stream",
          "name": "stderr",
          "text": [
            "INFO:tensorflow:Assets written to: /content/drive/MyDrive/Colab Notebooks/models/model_BLX.TO_log_all/assets\n"
          ]
        }
      ]
    },
    {
      "cell_type": "code",
      "metadata": {
        "colab": {
          "base_uri": "https://localhost:8080/",
          "height": 1000
        },
        "id": "A2aUo9-xvAVJ",
        "outputId": "cff7e72c-6ce4-4fc3-b966-7bbc64af9ed0"
      },
      "source": [
        "# BLX  -optimal features\n",
        "stock= 'BLX.TO'\n",
        "modelname = f'model_{stock}_{transform}'\n",
        "model = create_lstm_model(config,x_train,n_predict)\n",
        "\n",
        "# train\n",
        "tic = timeit.default_timer()\n",
        "history = model.fit(x_train,\n",
        "                    y_train,\n",
        "                    batch_size=config['train']['batch_size'],\n",
        "                    epochs=config['train']['epochs'],\n",
        "                    callbacks = [config['train']['early_stop']],\n",
        "                    validation_split =0.10, \n",
        "                    verbose = 0\n",
        "                    )\n",
        "\n",
        "# print the training time\n",
        "toc =timeit.default_timer()\n",
        "print('\\nTraining Time')\n",
        "print('='*60)\n",
        "print(f'Minutes:{round((toc-tic)/60,2)}\\n')\n",
        "\n",
        "# predict prices\n",
        "# calculate the performance metrics\n",
        "# plot training metrics\n",
        "# plot predictions for random batches\n",
        "y_pred_scaled = calculate_performance(x_test,y_test,model,scaler_y)\n",
        "plot_training_metrics(history)\n",
        "plot_n_price_predictions(idx_close,x_test,y_pred_scaled,scaler_y,2)\n",
        "\n",
        "\n",
        "# save model and training performance\n",
        "model.save(f'/content/drive/MyDrive/Colab Notebooks/models/{modelname}_all')\n",
        "\n",
        "df_hist = pd.DataFrame(history.history) \n",
        "df_hist.to_csv(f'/content/drive/MyDrive/Colab Notebooks/models/{modelname}_all/train_history.csv')"
      ],
      "execution_count": 52,
      "outputs": [
        {
          "output_type": "stream",
          "name": "stdout",
          "text": [
            "Model: \"LSTM\"\n",
            "_________________________________________________________________\n",
            "Layer (type)                 Output Shape              Param #   \n",
            "=================================================================\n",
            "lstm (LSTM)                  (None, 40, 40)            8160      \n",
            "_________________________________________________________________\n",
            "lstm_1 (LSTM)                (None, 40, 256)           304128    \n",
            "_________________________________________________________________\n",
            "dropout (Dropout)            (None, 40, 256)           0         \n",
            "_________________________________________________________________\n",
            "lstm_2 (LSTM)                (None, 128)               197120    \n",
            "_________________________________________________________________\n",
            "dropout_1 (Dropout)          (None, 128)               0         \n",
            "_________________________________________________________________\n",
            "dense (Dense)                (None, 32)                4128      \n",
            "_________________________________________________________________\n",
            "dropout_2 (Dropout)          (None, 32)                0         \n",
            "_________________________________________________________________\n",
            "dense_1 (Dense)              (None, 16)                528       \n",
            "_________________________________________________________________\n",
            "dropout_3 (Dropout)          (None, 16)                0         \n",
            "_________________________________________________________________\n",
            "dense_2 (Dense)              (None, 5)                 85        \n",
            "=================================================================\n",
            "Total params: 514,149\n",
            "Trainable params: 514,149\n",
            "Non-trainable params: 0\n",
            "_________________________________________________________________\n",
            "\n",
            "Model Error\n",
            "==============================================================\n",
            "Mean Absolute Error (MAE)------------------------------  0.11\n",
            "Root Mean Squared Error (MSE)--------------------------  0.14\n",
            "Mean Absolute Percentage Error (MAPE)------------------  3.12%\n",
            "Median Absolute Percentage Error (MDAPE)---------------  2.97%\n"
          ]
        },
        {
          "output_type": "display_data",
          "data": {
            "text/html": [
              "<html>\n",
              "<head><meta charset=\"utf-8\" /></head>\n",
              "<body>\n",
              "    <div>\n",
              "            <script src=\"https://cdnjs.cloudflare.com/ajax/libs/mathjax/2.7.5/MathJax.js?config=TeX-AMS-MML_SVG\"></script><script type=\"text/javascript\">if (window.MathJax) {MathJax.Hub.Config({SVG: {font: \"STIX-Web\"}});}</script>\n",
              "                <script type=\"text/javascript\">window.PlotlyConfig = {MathJaxConfig: 'local'};</script>\n",
              "        <script src=\"https://cdn.plot.ly/plotly-latest.min.js\"></script>    \n",
              "            <div id=\"d6fcf5cc-e765-4563-8d5b-fad8ddd0f8d0\" class=\"plotly-graph-div\" style=\"height:500px; width:700px;\"></div>\n",
              "            <script type=\"text/javascript\">\n",
              "                \n",
              "                    window.PLOTLYENV=window.PLOTLYENV || {};\n",
              "                    \n",
              "                if (document.getElementById(\"d6fcf5cc-e765-4563-8d5b-fad8ddd0f8d0\")) {\n",
              "                    Plotly.newPlot(\n",
              "                        'd6fcf5cc-e765-4563-8d5b-fad8ddd0f8d0',\n",
              "                        [{\"line\": {\"color\": \"royalblue\", \"width\": 3}, \"name\": \"train-loss\", \"type\": \"scatter\", \"x\": [1, 2, 3, 4, 5, 6, 7, 8, 9, 10, 11, 12, 13, 14, 15, 16, 17, 18, 19, 20, 21, 22, 23, 24, 25, 26, 27, 28, 29, 30, 31, 32, 33, 34, 35, 36, 37, 38, 39, 40, 41, 42, 43, 44, 45, 46, 47, 48, 49, 50, 51, 52, 53, 54, 55, 56, 57, 58, 59, 60, 61, 62, 63, 64, 65, 66, 67, 68, 69, 70, 71, 72, 73, 74, 75, 76, 77, 78, 79, 80, 81, 82, 83, 84, 85, 86, 87, 88, 89, 90, 91], \"y\": [0.036390043795108795, 0.01207166537642479, 0.008971644565463066, 0.008301468566060066, 0.0074485549703240395, 0.0066431001760065556, 0.006848437711596489, 0.005141483154147863, 0.005266822874546051, 0.005023666191846132, 0.004289644304662943, 0.004251475445926189, 0.004328122828155756, 0.004224580712616444, 0.003913457505404949, 0.0038172744680196047, 0.0035043961834162474, 0.0033068484626710415, 0.0030795338097959757, 0.0029634451493620872, 0.0030639951582998037, 0.0026998533867299557, 0.0025862327311187983, 0.002665651263669133, 0.0025815011467784643, 0.002511505503207445, 0.0024104774929583073, 0.002453078981488943, 0.0023008990101516247, 0.002259142929688096, 0.0022684314753860235, 0.002247813856229186, 0.0023527871817350388, 0.0019275383092463017, 0.0020232885144650936, 0.001996460137888789, 0.0018627591198310256, 0.0019032829441130161, 0.0019642063416540623, 0.0019563979003578424, 0.0016712512588128448, 0.0017672511748969555, 0.0017399042844772339, 0.0017399232601746917, 0.0018074873369187117, 0.0016757510602474213, 0.001546846586279571, 0.0015662185614928603, 0.0017459538066759706, 0.0016268498729914427, 0.001537460251711309, 0.0015070382505655289, 0.0014566773315891623, 0.0015060529112815857, 0.0014273474225774407, 0.0013783504255115986, 0.0014097702223807573, 0.0014625031035393476, 0.001476856879889965, 0.0013234218349680305, 0.0014622992603108287, 0.0013392403488978744, 0.0012892779195681214, 0.0013014329597353935, 0.0012586936354637146, 0.001282418379560113, 0.0013862749328836799, 0.001384081901051104, 0.0012916310224682093, 0.0013121571391820908, 0.0012278965441510081, 0.0011985991150140762, 0.001240245415829122, 0.0011604359606280923, 0.0011731813428923488, 0.0010980569059029222, 0.0012294544139876962, 0.0010915776947513223, 0.0010380189632996917, 0.0011149337515234947, 0.0010001176269724965, 0.0010740292491391301, 0.0011854757321998477, 0.001104322262108326, 0.0010435334406793118, 0.0010052698198705912, 0.0011902926489710808, 0.0010758715216070414, 0.001035971101373434, 0.001004744553938508, 0.0010594448540359735]}, {\"line\": {\"color\": \"crimson\", \"width\": 3}, \"name\": \"val-loss\", \"type\": \"scatter\", \"x\": [1, 2, 3, 4, 5, 6, 7, 8, 9, 10, 11, 12, 13, 14, 15, 16, 17, 18, 19, 20, 21, 22, 23, 24, 25, 26, 27, 28, 29, 30, 31, 32, 33, 34, 35, 36, 37, 38, 39, 40, 41, 42, 43, 44, 45, 46, 47, 48, 49, 50, 51, 52, 53, 54, 55, 56, 57, 58, 59, 60, 61, 62, 63, 64, 65, 66, 67, 68, 69, 70, 71, 72, 73, 74, 75, 76, 77, 78, 79, 80, 81, 82, 83, 84, 85, 86, 87, 88, 89, 90, 91], \"y\": [0.00684136338531971, 0.0015470972284674644, 0.0007579926168546081, 0.00032614616793580353, 0.00043840985745191574, 0.0005106484750285745, 0.0004931266885250807, 0.0004453044675756246, 0.0007833608542568982, 0.00045059644617140293, 0.0021105357445776463, 0.002300417749211192, 0.0012488286010921001, 0.0005438709631562233, 0.0014815611066296697, 0.0015003096777945757, 0.0001628054742468521, 0.00016106157272588462, 0.00017955580551642925, 0.00021442314027808607, 0.0009087779326364398, 0.00037310109473764896, 0.00027143399347551167, 0.0002186798519687727, 0.0003232338931411505, 0.0002725220692809671, 0.0007182988920249045, 0.00017543745343573391, 0.00023121002595871687, 0.00016451647388748825, 0.00020960779511369765, 0.0001888900005724281, 0.00016739568673074245, 0.00014869263395667076, 0.00015743392577860504, 0.00018809027096722275, 0.00022432830883190036, 0.00014778890181332827, 0.0005161219160072505, 0.0005485225119628012, 0.0003700324450619519, 0.00015748362056910992, 0.00022899388568475842, 0.0002562924928497523, 0.0002121598954545334, 0.0004564306582324207, 0.00021940232545603067, 0.00028311836649663746, 0.0010439034085720778, 0.0006450632936321199, 0.0002994879905600101, 0.00013467132521327585, 0.00013504966045729816, 0.00013174574996810406, 0.00016724082524888217, 0.00013820953608956188, 0.0001460199273424223, 0.00018001138232648373, 0.00017514746286906302, 0.00028266472509130836, 0.00014025723794475198, 0.0003122747002635151, 0.00012900390720460564, 0.00013677001697942615, 0.00016626565775368363, 0.0007197939557954669, 0.0003481807070784271, 0.00013613335613626987, 0.00036686784005723894, 0.00013095025497023016, 0.00020151943317614496, 0.00018185281078331172, 0.00033994033583439887, 0.0001419604814145714, 0.00012331722246017307, 0.0003818498516920954, 0.00018370538600720465, 0.0001920285722007975, 0.00013218044477980584, 0.00012938361032865942, 0.0002147302293451503, 0.000434582878369838, 0.0004943176754750311, 0.00019630396855063736, 0.00032418928458355367, 0.000634900585282594, 0.00022639975941274315, 0.00014257317525334656, 0.00015481645823456347, 0.00012115075514884666, 0.00019839766900986433]}],\n",
              "                        {\"height\": 500, \"template\": {\"data\": {\"bar\": [{\"error_x\": {\"color\": \"#2a3f5f\"}, \"error_y\": {\"color\": \"#2a3f5f\"}, \"marker\": {\"line\": {\"color\": \"white\", \"width\": 0.5}}, \"type\": \"bar\"}], \"barpolar\": [{\"marker\": {\"line\": {\"color\": \"white\", \"width\": 0.5}}, \"type\": \"barpolar\"}], \"carpet\": [{\"aaxis\": {\"endlinecolor\": \"#2a3f5f\", \"gridcolor\": \"#C8D4E3\", \"linecolor\": \"#C8D4E3\", \"minorgridcolor\": \"#C8D4E3\", \"startlinecolor\": \"#2a3f5f\"}, \"baxis\": {\"endlinecolor\": \"#2a3f5f\", \"gridcolor\": \"#C8D4E3\", \"linecolor\": \"#C8D4E3\", \"minorgridcolor\": \"#C8D4E3\", \"startlinecolor\": \"#2a3f5f\"}, \"type\": \"carpet\"}], \"choropleth\": [{\"colorbar\": {\"outlinewidth\": 0, \"ticks\": \"\"}, \"type\": \"choropleth\"}], \"contour\": [{\"colorbar\": {\"outlinewidth\": 0, \"ticks\": \"\"}, \"colorscale\": [[0.0, \"#0d0887\"], [0.1111111111111111, \"#46039f\"], [0.2222222222222222, \"#7201a8\"], [0.3333333333333333, \"#9c179e\"], [0.4444444444444444, \"#bd3786\"], [0.5555555555555556, \"#d8576b\"], [0.6666666666666666, \"#ed7953\"], [0.7777777777777778, \"#fb9f3a\"], [0.8888888888888888, \"#fdca26\"], [1.0, \"#f0f921\"]], \"type\": \"contour\"}], \"contourcarpet\": [{\"colorbar\": {\"outlinewidth\": 0, \"ticks\": \"\"}, \"type\": \"contourcarpet\"}], \"heatmap\": [{\"colorbar\": {\"outlinewidth\": 0, \"ticks\": \"\"}, \"colorscale\": [[0.0, \"#0d0887\"], [0.1111111111111111, \"#46039f\"], [0.2222222222222222, \"#7201a8\"], [0.3333333333333333, \"#9c179e\"], [0.4444444444444444, \"#bd3786\"], [0.5555555555555556, \"#d8576b\"], [0.6666666666666666, \"#ed7953\"], [0.7777777777777778, \"#fb9f3a\"], [0.8888888888888888, \"#fdca26\"], [1.0, \"#f0f921\"]], \"type\": \"heatmap\"}], \"heatmapgl\": [{\"colorbar\": {\"outlinewidth\": 0, \"ticks\": \"\"}, \"colorscale\": [[0.0, \"#0d0887\"], [0.1111111111111111, \"#46039f\"], [0.2222222222222222, \"#7201a8\"], [0.3333333333333333, \"#9c179e\"], [0.4444444444444444, \"#bd3786\"], [0.5555555555555556, \"#d8576b\"], [0.6666666666666666, \"#ed7953\"], [0.7777777777777778, \"#fb9f3a\"], [0.8888888888888888, \"#fdca26\"], [1.0, \"#f0f921\"]], \"type\": \"heatmapgl\"}], \"histogram\": [{\"marker\": {\"colorbar\": {\"outlinewidth\": 0, \"ticks\": \"\"}}, \"type\": \"histogram\"}], \"histogram2d\": [{\"colorbar\": {\"outlinewidth\": 0, \"ticks\": \"\"}, \"colorscale\": [[0.0, \"#0d0887\"], [0.1111111111111111, \"#46039f\"], [0.2222222222222222, \"#7201a8\"], [0.3333333333333333, \"#9c179e\"], [0.4444444444444444, \"#bd3786\"], [0.5555555555555556, \"#d8576b\"], [0.6666666666666666, \"#ed7953\"], [0.7777777777777778, \"#fb9f3a\"], [0.8888888888888888, \"#fdca26\"], [1.0, \"#f0f921\"]], \"type\": \"histogram2d\"}], \"histogram2dcontour\": [{\"colorbar\": {\"outlinewidth\": 0, \"ticks\": \"\"}, \"colorscale\": [[0.0, \"#0d0887\"], [0.1111111111111111, \"#46039f\"], [0.2222222222222222, \"#7201a8\"], [0.3333333333333333, \"#9c179e\"], [0.4444444444444444, \"#bd3786\"], [0.5555555555555556, \"#d8576b\"], [0.6666666666666666, \"#ed7953\"], [0.7777777777777778, \"#fb9f3a\"], [0.8888888888888888, \"#fdca26\"], [1.0, \"#f0f921\"]], \"type\": \"histogram2dcontour\"}], \"mesh3d\": [{\"colorbar\": {\"outlinewidth\": 0, \"ticks\": \"\"}, \"type\": \"mesh3d\"}], \"parcoords\": [{\"line\": {\"colorbar\": {\"outlinewidth\": 0, \"ticks\": \"\"}}, \"type\": \"parcoords\"}], \"pie\": [{\"automargin\": true, \"type\": \"pie\"}], \"scatter\": [{\"marker\": {\"colorbar\": {\"outlinewidth\": 0, \"ticks\": \"\"}}, \"type\": \"scatter\"}], \"scatter3d\": [{\"line\": {\"colorbar\": {\"outlinewidth\": 0, \"ticks\": \"\"}}, \"marker\": {\"colorbar\": {\"outlinewidth\": 0, \"ticks\": \"\"}}, \"type\": \"scatter3d\"}], \"scattercarpet\": [{\"marker\": {\"colorbar\": {\"outlinewidth\": 0, \"ticks\": \"\"}}, \"type\": \"scattercarpet\"}], \"scattergeo\": [{\"marker\": {\"colorbar\": {\"outlinewidth\": 0, \"ticks\": \"\"}}, \"type\": \"scattergeo\"}], \"scattergl\": [{\"marker\": {\"colorbar\": {\"outlinewidth\": 0, \"ticks\": \"\"}}, \"type\": \"scattergl\"}], \"scattermapbox\": [{\"marker\": {\"colorbar\": {\"outlinewidth\": 0, \"ticks\": \"\"}}, \"type\": \"scattermapbox\"}], \"scatterpolar\": [{\"marker\": {\"colorbar\": {\"outlinewidth\": 0, \"ticks\": \"\"}}, \"type\": \"scatterpolar\"}], \"scatterpolargl\": [{\"marker\": {\"colorbar\": {\"outlinewidth\": 0, \"ticks\": \"\"}}, \"type\": \"scatterpolargl\"}], \"scatterternary\": [{\"marker\": {\"colorbar\": {\"outlinewidth\": 0, \"ticks\": \"\"}}, \"type\": \"scatterternary\"}], \"surface\": [{\"colorbar\": {\"outlinewidth\": 0, \"ticks\": \"\"}, \"colorscale\": [[0.0, \"#0d0887\"], [0.1111111111111111, \"#46039f\"], [0.2222222222222222, \"#7201a8\"], [0.3333333333333333, \"#9c179e\"], [0.4444444444444444, \"#bd3786\"], [0.5555555555555556, \"#d8576b\"], [0.6666666666666666, \"#ed7953\"], [0.7777777777777778, \"#fb9f3a\"], [0.8888888888888888, \"#fdca26\"], [1.0, \"#f0f921\"]], \"type\": \"surface\"}], \"table\": [{\"cells\": {\"fill\": {\"color\": \"#EBF0F8\"}, \"line\": {\"color\": \"white\"}}, \"header\": {\"fill\": {\"color\": \"#C8D4E3\"}, \"line\": {\"color\": \"white\"}}, \"type\": \"table\"}]}, \"layout\": {\"annotationdefaults\": {\"arrowcolor\": \"#2a3f5f\", \"arrowhead\": 0, \"arrowwidth\": 1}, \"coloraxis\": {\"colorbar\": {\"outlinewidth\": 0, \"ticks\": \"\"}}, \"colorscale\": {\"diverging\": [[0, \"#8e0152\"], [0.1, \"#c51b7d\"], [0.2, \"#de77ae\"], [0.3, \"#f1b6da\"], [0.4, \"#fde0ef\"], [0.5, \"#f7f7f7\"], [0.6, \"#e6f5d0\"], [0.7, \"#b8e186\"], [0.8, \"#7fbc41\"], [0.9, \"#4d9221\"], [1, \"#276419\"]], \"sequential\": [[0.0, \"#0d0887\"], [0.1111111111111111, \"#46039f\"], [0.2222222222222222, \"#7201a8\"], [0.3333333333333333, \"#9c179e\"], [0.4444444444444444, \"#bd3786\"], [0.5555555555555556, \"#d8576b\"], [0.6666666666666666, \"#ed7953\"], [0.7777777777777778, \"#fb9f3a\"], [0.8888888888888888, \"#fdca26\"], [1.0, \"#f0f921\"]], \"sequentialminus\": [[0.0, \"#0d0887\"], [0.1111111111111111, \"#46039f\"], [0.2222222222222222, \"#7201a8\"], [0.3333333333333333, \"#9c179e\"], [0.4444444444444444, \"#bd3786\"], [0.5555555555555556, \"#d8576b\"], [0.6666666666666666, \"#ed7953\"], [0.7777777777777778, \"#fb9f3a\"], [0.8888888888888888, \"#fdca26\"], [1.0, \"#f0f921\"]]}, \"colorway\": [\"#636efa\", \"#EF553B\", \"#00cc96\", \"#ab63fa\", \"#FFA15A\", \"#19d3f3\", \"#FF6692\", \"#B6E880\", \"#FF97FF\", \"#FECB52\"], \"font\": {\"color\": \"#2a3f5f\"}, \"geo\": {\"bgcolor\": \"white\", \"lakecolor\": \"white\", \"landcolor\": \"white\", \"showlakes\": true, \"showland\": true, \"subunitcolor\": \"#C8D4E3\"}, \"hoverlabel\": {\"align\": \"left\"}, \"hovermode\": \"closest\", \"mapbox\": {\"style\": \"light\"}, \"paper_bgcolor\": \"white\", \"plot_bgcolor\": \"white\", \"polar\": {\"angularaxis\": {\"gridcolor\": \"#EBF0F8\", \"linecolor\": \"#EBF0F8\", \"ticks\": \"\"}, \"bgcolor\": \"white\", \"radialaxis\": {\"gridcolor\": \"#EBF0F8\", \"linecolor\": \"#EBF0F8\", \"ticks\": \"\"}}, \"scene\": {\"xaxis\": {\"backgroundcolor\": \"white\", \"gridcolor\": \"#DFE8F3\", \"gridwidth\": 2, \"linecolor\": \"#EBF0F8\", \"showbackground\": true, \"ticks\": \"\", \"zerolinecolor\": \"#EBF0F8\"}, \"yaxis\": {\"backgroundcolor\": \"white\", \"gridcolor\": \"#DFE8F3\", \"gridwidth\": 2, \"linecolor\": \"#EBF0F8\", \"showbackground\": true, \"ticks\": \"\", \"zerolinecolor\": \"#EBF0F8\"}, \"zaxis\": {\"backgroundcolor\": \"white\", \"gridcolor\": \"#DFE8F3\", \"gridwidth\": 2, \"linecolor\": \"#EBF0F8\", \"showbackground\": true, \"ticks\": \"\", \"zerolinecolor\": \"#EBF0F8\"}}, \"shapedefaults\": {\"line\": {\"color\": \"#2a3f5f\"}}, \"ternary\": {\"aaxis\": {\"gridcolor\": \"#DFE8F3\", \"linecolor\": \"#A2B1C6\", \"ticks\": \"\"}, \"baxis\": {\"gridcolor\": \"#DFE8F3\", \"linecolor\": \"#A2B1C6\", \"ticks\": \"\"}, \"bgcolor\": \"white\", \"caxis\": {\"gridcolor\": \"#DFE8F3\", \"linecolor\": \"#A2B1C6\", \"ticks\": \"\"}}, \"title\": {\"x\": 0.05}, \"xaxis\": {\"automargin\": true, \"gridcolor\": \"#EBF0F8\", \"linecolor\": \"#EBF0F8\", \"ticks\": \"\", \"title\": {\"standoff\": 15}, \"zerolinecolor\": \"#EBF0F8\", \"zerolinewidth\": 2}, \"yaxis\": {\"automargin\": true, \"gridcolor\": \"#EBF0F8\", \"linecolor\": \"#EBF0F8\", \"ticks\": \"\", \"title\": {\"standoff\": 15}, \"zerolinecolor\": \"#EBF0F8\", \"zerolinewidth\": 2}}}, \"title\": {\"text\": \"Training Metrics\"}, \"width\": 700, \"xaxis\": {\"title\": {\"text\": \"epochs\"}}, \"yaxis\": {\"title\": {\"text\": \"loss\"}}},\n",
              "                        {\"responsive\": true}\n",
              "                    ).then(function(){\n",
              "                            \n",
              "var gd = document.getElementById('d6fcf5cc-e765-4563-8d5b-fad8ddd0f8d0');\n",
              "var x = new MutationObserver(function (mutations, observer) {{\n",
              "        var display = window.getComputedStyle(gd).display;\n",
              "        if (!display || display === 'none') {{\n",
              "            console.log([gd, 'removed!']);\n",
              "            Plotly.purge(gd);\n",
              "            observer.disconnect();\n",
              "        }}\n",
              "}});\n",
              "\n",
              "// Listen for the removal of the full notebook cells\n",
              "var notebookContainer = gd.closest('#notebook-container');\n",
              "if (notebookContainer) {{\n",
              "    x.observe(notebookContainer, {childList: true});\n",
              "}}\n",
              "\n",
              "// Listen for the clearing of the current output cell\n",
              "var outputEl = gd.closest('.output');\n",
              "if (outputEl) {{\n",
              "    x.observe(outputEl, {childList: true});\n",
              "}}\n",
              "\n",
              "                        })\n",
              "                };\n",
              "                \n",
              "            </script>\n",
              "        </div>\n",
              "</body>\n",
              "</html>"
            ]
          },
          "metadata": {}
        },
        {
          "output_type": "stream",
          "name": "stderr",
          "text": [
            "WARNING:absl:Found untraced functions such as lstm_cell_layer_call_and_return_conditional_losses, lstm_cell_layer_call_fn, lstm_cell_1_layer_call_and_return_conditional_losses, lstm_cell_1_layer_call_fn, lstm_cell_2_layer_call_and_return_conditional_losses while saving (showing 5 of 15). These functions will not be directly callable after loading.\n"
          ]
        },
        {
          "output_type": "stream",
          "name": "stdout",
          "text": [
            "INFO:tensorflow:Assets written to: /content/drive/MyDrive/Colab Notebooks/models/model_BLX.TO_log_all/assets\n"
          ]
        },
        {
          "output_type": "stream",
          "name": "stderr",
          "text": [
            "INFO:tensorflow:Assets written to: /content/drive/MyDrive/Colab Notebooks/models/model_BLX.TO_log_all/assets\n"
          ]
        }
      ]
    },
    {
      "cell_type": "markdown",
      "metadata": {
        "id": "LdUBFl_VQei5"
      },
      "source": [
        "## Load Saved Model"
      ]
    },
    {
      "cell_type": "code",
      "metadata": {
        "id": "LQFngZAlMS1Z"
      },
      "source": [
        "# get saved training evaluation\n",
        "modelname = 'model_BTC_log_features'\n",
        "model = keras.models.load_model(f'/content/drive/MyDrive/Colab Notebooks/models/{modelname}')\n",
        "df_hist = pd.read_csv(f'/content/drive/MyDrive/Colab Notebooks/models/{modelname}/train_history.csv')"
      ],
      "execution_count": 15,
      "outputs": []
    },
    {
      "cell_type": "markdown",
      "metadata": {
        "id": "TAnqKBgDbFt0"
      },
      "source": [
        "## Old keep for now"
      ]
    },
    {
      "cell_type": "code",
      "metadata": {
        "colab": {
          "base_uri": "https://localhost:8080/",
          "height": 0
        },
        "id": "zWR1KQgfcagj",
        "outputId": "f1900d07-74fa-4380-b639-da84fc47a19c"
      },
      "source": [
        "\n",
        "# Plot train+test+predict\n",
        "# test numbers don't line up \n",
        "#=> check create paritions to see why the number of records don't match\n",
        "\n",
        "y_test_unscaled = scaler_y.inverse_transform(y_test)\n",
        "\n",
        "# train data\n",
        "train_unscaled = scaler_X.inverse_transform(train_x)\n",
        "df_train=pd.DataFrame(train_unscaled[:,idx_close])\n",
        "df_train.columns=['price']\n",
        "print(df_train.shape)\n",
        "\n",
        "\n",
        "# test data\n",
        "test_unscaled = scaler_X.inverse_transform(test_x)\n",
        "df_test = pd.DataFrame(test_unscaled[:,idx_close])\n",
        "df_test.columns = ['price']\n",
        "\n",
        "\n",
        "# reindex the the test set to start from the train set\n",
        "idx_last_train = df_train.shape[0]\n",
        "idx_last_test = df_test.shape[0]\n",
        "idx_rng = list(range(idx_last_train,idx_last_train + idx_last_test))\n",
        "\n",
        "df_test['idx'] = idx_rng\n",
        "df_test.set_index('idx',drop=True,inplace=True)\n",
        "print(df_test.shape)\n",
        "\n",
        "\n",
        "\n",
        "# get the predictions\n",
        "y_pred = model.predict(x_test)\n",
        "\n",
        "# convert units back to the original scale\n",
        "y_pred_unscaled = scaler_y.inverse_transform(y_pred)\n",
        "\n",
        "# reset the index to align with the train/test indexes\n",
        "# idx will be supplied by the caller function\n",
        "idx = y_test_unscaled.shape[0]-1\n",
        "idx_pred_start = idx_last_train  + idx_last_test -(idx_last_test - idx)\n",
        "idx_rng = list(range(idx_pred_start,idx_pred_start+n_predict))\n",
        "\n",
        "\n",
        "y_pred =y_pred_unscaled[idx,:]\n",
        "df_pred = pd.DataFrame(y_pred)\n",
        "df_pred.columns =['price']\n",
        "df_pred['idx']=idx_rng\n",
        "df_pred.set_index('idx',drop=True,inplace=True)\n",
        "print(df_pred.shape)\n",
        "\n",
        "\n",
        "fig = go.Figure()\n",
        "fig.add_trace(go.Scatter(x=df_train.index,y=df_train.price,name='Train'))\n",
        "fig.add_trace(go.Scatter(x=df_test.index,y=df_test.price,name='Test'))\n",
        "fig.add_trace(go.Scatter(x=df_pred.index,y=df_pred.price,name='Predict'))\n",
        "fig.show()  \n",
        "\n",
        "print(idx,idx_last_train,idx_last_test,idx_pred_start)\n",
        "df_pred\n",
        "\n"
      ],
      "execution_count": 42,
      "outputs": [
        {
          "output_type": "stream",
          "name": "stdout",
          "text": [
            "(2317, 1)\n",
            "(579, 1)\n",
            "(5, 1)\n"
          ]
        },
        {
          "output_type": "display_data",
          "data": {
            "text/html": [
              "<html>\n",
              "<head><meta charset=\"utf-8\" /></head>\n",
              "<body>\n",
              "    <div>\n",
              "            <script src=\"https://cdnjs.cloudflare.com/ajax/libs/mathjax/2.7.5/MathJax.js?config=TeX-AMS-MML_SVG\"></script><script type=\"text/javascript\">if (window.MathJax) {MathJax.Hub.Config({SVG: {font: \"STIX-Web\"}});}</script>\n",
              "                <script type=\"text/javascript\">window.PlotlyConfig = {MathJaxConfig: 'local'};</script>\n",
              "        <script src=\"https://cdn.plot.ly/plotly-latest.min.js\"></script>    \n",
              "            <div id=\"7be2d971-c2f7-419e-b56e-b6c43297a47e\" class=\"plotly-graph-div\" style=\"height:525px; width:100%;\"></div>\n",
              "            <script type=\"text/javascript\">\n",
              "                \n",
              "                    window.PLOTLYENV=window.PLOTLYENV || {};\n",
              "                    \n",
              "                if (document.getElementById(\"7be2d971-c2f7-419e-b56e-b6c43297a47e\")) {\n",
              "                    Plotly.newPlot(\n",
              "                        '7be2d971-c2f7-419e-b56e-b6c43297a47e',\n",
              "                        [{\"name\": \"Train\", \"type\": \"scatter\", \"x\": [0, 1, 2, 3, 4, 5, 6, 7, 8, 9, 10, 11, 12, 13, 14, 15, 16, 17, 18, 19, 20, 21, 22, 23, 24, 25, 26, 27, 28, 29, 30, 31, 32, 33, 34, 35, 36, 37, 38, 39, 40, 41, 42, 43, 44, 45, 46, 47, 48, 49, 50, 51, 52, 53, 54, 55, 56, 57, 58, 59, 60, 61, 62, 63, 64, 65, 66, 67, 68, 69, 70, 71, 72, 73, 74, 75, 76, 77, 78, 79, 80, 81, 82, 83, 84, 85, 86, 87, 88, 89, 90, 91, 92, 93, 94, 95, 96, 97, 98, 99, 100, 101, 102, 103, 104, 105, 106, 107, 108, 109, 110, 111, 112, 113, 114, 115, 116, 117, 118, 119, 120, 121, 122, 123, 124, 125, 126, 127, 128, 129, 130, 131, 132, 133, 134, 135, 136, 137, 138, 139, 140, 141, 142, 143, 144, 145, 146, 147, 148, 149, 150, 151, 152, 153, 154, 155, 156, 157, 158, 159, 160, 161, 162, 163, 164, 165, 166, 167, 168, 169, 170, 171, 172, 173, 174, 175, 176, 177, 178, 179, 180, 181, 182, 183, 184, 185, 186, 187, 188, 189, 190, 191, 192, 193, 194, 195, 196, 197, 198, 199, 200, 201, 202, 203, 204, 205, 206, 207, 208, 209, 210, 211, 212, 213, 214, 215, 216, 217, 218, 219, 220, 221, 222, 223, 224, 225, 226, 227, 228, 229, 230, 231, 232, 233, 234, 235, 236, 237, 238, 239, 240, 241, 242, 243, 244, 245, 246, 247, 248, 249, 250, 251, 252, 253, 254, 255, 256, 257, 258, 259, 260, 261, 262, 263, 264, 265, 266, 267, 268, 269, 270, 271, 272, 273, 274, 275, 276, 277, 278, 279, 280, 281, 282, 283, 284, 285, 286, 287, 288, 289, 290, 291, 292, 293, 294, 295, 296, 297, 298, 299, 300, 301, 302, 303, 304, 305, 306, 307, 308, 309, 310, 311, 312, 313, 314, 315, 316, 317, 318, 319, 320, 321, 322, 323, 324, 325, 326, 327, 328, 329, 330, 331, 332, 333, 334, 335, 336, 337, 338, 339, 340, 341, 342, 343, 344, 345, 346, 347, 348, 349, 350, 351, 352, 353, 354, 355, 356, 357, 358, 359, 360, 361, 362, 363, 364, 365, 366, 367, 368, 369, 370, 371, 372, 373, 374, 375, 376, 377, 378, 379, 380, 381, 382, 383, 384, 385, 386, 387, 388, 389, 390, 391, 392, 393, 394, 395, 396, 397, 398, 399, 400, 401, 402, 403, 404, 405, 406, 407, 408, 409, 410, 411, 412, 413, 414, 415, 416, 417, 418, 419, 420, 421, 422, 423, 424, 425, 426, 427, 428, 429, 430, 431, 432, 433, 434, 435, 436, 437, 438, 439, 440, 441, 442, 443, 444, 445, 446, 447, 448, 449, 450, 451, 452, 453, 454, 455, 456, 457, 458, 459, 460, 461, 462, 463, 464, 465, 466, 467, 468, 469, 470, 471, 472, 473, 474, 475, 476, 477, 478, 479, 480, 481, 482, 483, 484, 485, 486, 487, 488, 489, 490, 491, 492, 493, 494, 495, 496, 497, 498, 499, 500, 501, 502, 503, 504, 505, 506, 507, 508, 509, 510, 511, 512, 513, 514, 515, 516, 517, 518, 519, 520, 521, 522, 523, 524, 525, 526, 527, 528, 529, 530, 531, 532, 533, 534, 535, 536, 537, 538, 539, 540, 541, 542, 543, 544, 545, 546, 547, 548, 549, 550, 551, 552, 553, 554, 555, 556, 557, 558, 559, 560, 561, 562, 563, 564, 565, 566, 567, 568, 569, 570, 571, 572, 573, 574, 575, 576, 577, 578, 579, 580, 581, 582, 583, 584, 585, 586, 587, 588, 589, 590, 591, 592, 593, 594, 595, 596, 597, 598, 599, 600, 601, 602, 603, 604, 605, 606, 607, 608, 609, 610, 611, 612, 613, 614, 615, 616, 617, 618, 619, 620, 621, 622, 623, 624, 625, 626, 627, 628, 629, 630, 631, 632, 633, 634, 635, 636, 637, 638, 639, 640, 641, 642, 643, 644, 645, 646, 647, 648, 649, 650, 651, 652, 653, 654, 655, 656, 657, 658, 659, 660, 661, 662, 663, 664, 665, 666, 667, 668, 669, 670, 671, 672, 673, 674, 675, 676, 677, 678, 679, 680, 681, 682, 683, 684, 685, 686, 687, 688, 689, 690, 691, 692, 693, 694, 695, 696, 697, 698, 699, 700, 701, 702, 703, 704, 705, 706, 707, 708, 709, 710, 711, 712, 713, 714, 715, 716, 717, 718, 719, 720, 721, 722, 723, 724, 725, 726, 727, 728, 729, 730, 731, 732, 733, 734, 735, 736, 737, 738, 739, 740, 741, 742, 743, 744, 745, 746, 747, 748, 749, 750, 751, 752, 753, 754, 755, 756, 757, 758, 759, 760, 761, 762, 763, 764, 765, 766, 767, 768, 769, 770, 771, 772, 773, 774, 775, 776, 777, 778, 779, 780, 781, 782, 783, 784, 785, 786, 787, 788, 789, 790, 791, 792, 793, 794, 795, 796, 797, 798, 799, 800, 801, 802, 803, 804, 805, 806, 807, 808, 809, 810, 811, 812, 813, 814, 815, 816, 817, 818, 819, 820, 821, 822, 823, 824, 825, 826, 827, 828, 829, 830, 831, 832, 833, 834, 835, 836, 837, 838, 839, 840, 841, 842, 843, 844, 845, 846, 847, 848, 849, 850, 851, 852, 853, 854, 855, 856, 857, 858, 859, 860, 861, 862, 863, 864, 865, 866, 867, 868, 869, 870, 871, 872, 873, 874, 875, 876, 877, 878, 879, 880, 881, 882, 883, 884, 885, 886, 887, 888, 889, 890, 891, 892, 893, 894, 895, 896, 897, 898, 899, 900, 901, 902, 903, 904, 905, 906, 907, 908, 909, 910, 911, 912, 913, 914, 915, 916, 917, 918, 919, 920, 921, 922, 923, 924, 925, 926, 927, 928, 929, 930, 931, 932, 933, 934, 935, 936, 937, 938, 939, 940, 941, 942, 943, 944, 945, 946, 947, 948, 949, 950, 951, 952, 953, 954, 955, 956, 957, 958, 959, 960, 961, 962, 963, 964, 965, 966, 967, 968, 969, 970, 971, 972, 973, 974, 975, 976, 977, 978, 979, 980, 981, 982, 983, 984, 985, 986, 987, 988, 989, 990, 991, 992, 993, 994, 995, 996, 997, 998, 999, 1000, 1001, 1002, 1003, 1004, 1005, 1006, 1007, 1008, 1009, 1010, 1011, 1012, 1013, 1014, 1015, 1016, 1017, 1018, 1019, 1020, 1021, 1022, 1023, 1024, 1025, 1026, 1027, 1028, 1029, 1030, 1031, 1032, 1033, 1034, 1035, 1036, 1037, 1038, 1039, 1040, 1041, 1042, 1043, 1044, 1045, 1046, 1047, 1048, 1049, 1050, 1051, 1052, 1053, 1054, 1055, 1056, 1057, 1058, 1059, 1060, 1061, 1062, 1063, 1064, 1065, 1066, 1067, 1068, 1069, 1070, 1071, 1072, 1073, 1074, 1075, 1076, 1077, 1078, 1079, 1080, 1081, 1082, 1083, 1084, 1085, 1086, 1087, 1088, 1089, 1090, 1091, 1092, 1093, 1094, 1095, 1096, 1097, 1098, 1099, 1100, 1101, 1102, 1103, 1104, 1105, 1106, 1107, 1108, 1109, 1110, 1111, 1112, 1113, 1114, 1115, 1116, 1117, 1118, 1119, 1120, 1121, 1122, 1123, 1124, 1125, 1126, 1127, 1128, 1129, 1130, 1131, 1132, 1133, 1134, 1135, 1136, 1137, 1138, 1139, 1140, 1141, 1142, 1143, 1144, 1145, 1146, 1147, 1148, 1149, 1150, 1151, 1152, 1153, 1154, 1155, 1156, 1157, 1158, 1159, 1160, 1161, 1162, 1163, 1164, 1165, 1166, 1167, 1168, 1169, 1170, 1171, 1172, 1173, 1174, 1175, 1176, 1177, 1178, 1179, 1180, 1181, 1182, 1183, 1184, 1185, 1186, 1187, 1188, 1189, 1190, 1191, 1192, 1193, 1194, 1195, 1196, 1197, 1198, 1199, 1200, 1201, 1202, 1203, 1204, 1205, 1206, 1207, 1208, 1209, 1210, 1211, 1212, 1213, 1214, 1215, 1216, 1217, 1218, 1219, 1220, 1221, 1222, 1223, 1224, 1225, 1226, 1227, 1228, 1229, 1230, 1231, 1232, 1233, 1234, 1235, 1236, 1237, 1238, 1239, 1240, 1241, 1242, 1243, 1244, 1245, 1246, 1247, 1248, 1249, 1250, 1251, 1252, 1253, 1254, 1255, 1256, 1257, 1258, 1259, 1260, 1261, 1262, 1263, 1264, 1265, 1266, 1267, 1268, 1269, 1270, 1271, 1272, 1273, 1274, 1275, 1276, 1277, 1278, 1279, 1280, 1281, 1282, 1283, 1284, 1285, 1286, 1287, 1288, 1289, 1290, 1291, 1292, 1293, 1294, 1295, 1296, 1297, 1298, 1299, 1300, 1301, 1302, 1303, 1304, 1305, 1306, 1307, 1308, 1309, 1310, 1311, 1312, 1313, 1314, 1315, 1316, 1317, 1318, 1319, 1320, 1321, 1322, 1323, 1324, 1325, 1326, 1327, 1328, 1329, 1330, 1331, 1332, 1333, 1334, 1335, 1336, 1337, 1338, 1339, 1340, 1341, 1342, 1343, 1344, 1345, 1346, 1347, 1348, 1349, 1350, 1351, 1352, 1353, 1354, 1355, 1356, 1357, 1358, 1359, 1360, 1361, 1362, 1363, 1364, 1365, 1366, 1367, 1368, 1369, 1370, 1371, 1372, 1373, 1374, 1375, 1376, 1377, 1378, 1379, 1380, 1381, 1382, 1383, 1384, 1385, 1386, 1387, 1388, 1389, 1390, 1391, 1392, 1393, 1394, 1395, 1396, 1397, 1398, 1399, 1400, 1401, 1402, 1403, 1404, 1405, 1406, 1407, 1408, 1409, 1410, 1411, 1412, 1413, 1414, 1415, 1416, 1417, 1418, 1419, 1420, 1421, 1422, 1423, 1424, 1425, 1426, 1427, 1428, 1429, 1430, 1431, 1432, 1433, 1434, 1435, 1436, 1437, 1438, 1439, 1440, 1441, 1442, 1443, 1444, 1445, 1446, 1447, 1448, 1449, 1450, 1451, 1452, 1453, 1454, 1455, 1456, 1457, 1458, 1459, 1460, 1461, 1462, 1463, 1464, 1465, 1466, 1467, 1468, 1469, 1470, 1471, 1472, 1473, 1474, 1475, 1476, 1477, 1478, 1479, 1480, 1481, 1482, 1483, 1484, 1485, 1486, 1487, 1488, 1489, 1490, 1491, 1492, 1493, 1494, 1495, 1496, 1497, 1498, 1499, 1500, 1501, 1502, 1503, 1504, 1505, 1506, 1507, 1508, 1509, 1510, 1511, 1512, 1513, 1514, 1515, 1516, 1517, 1518, 1519, 1520, 1521, 1522, 1523, 1524, 1525, 1526, 1527, 1528, 1529, 1530, 1531, 1532, 1533, 1534, 1535, 1536, 1537, 1538, 1539, 1540, 1541, 1542, 1543, 1544, 1545, 1546, 1547, 1548, 1549, 1550, 1551, 1552, 1553, 1554, 1555, 1556, 1557, 1558, 1559, 1560, 1561, 1562, 1563, 1564, 1565, 1566, 1567, 1568, 1569, 1570, 1571, 1572, 1573, 1574, 1575, 1576, 1577, 1578, 1579, 1580, 1581, 1582, 1583, 1584, 1585, 1586, 1587, 1588, 1589, 1590, 1591, 1592, 1593, 1594, 1595, 1596, 1597, 1598, 1599, 1600, 1601, 1602, 1603, 1604, 1605, 1606, 1607, 1608, 1609, 1610, 1611, 1612, 1613, 1614, 1615, 1616, 1617, 1618, 1619, 1620, 1621, 1622, 1623, 1624, 1625, 1626, 1627, 1628, 1629, 1630, 1631, 1632, 1633, 1634, 1635, 1636, 1637, 1638, 1639, 1640, 1641, 1642, 1643, 1644, 1645, 1646, 1647, 1648, 1649, 1650, 1651, 1652, 1653, 1654, 1655, 1656, 1657, 1658, 1659, 1660, 1661, 1662, 1663, 1664, 1665, 1666, 1667, 1668, 1669, 1670, 1671, 1672, 1673, 1674, 1675, 1676, 1677, 1678, 1679, 1680, 1681, 1682, 1683, 1684, 1685, 1686, 1687, 1688, 1689, 1690, 1691, 1692, 1693, 1694, 1695, 1696, 1697, 1698, 1699, 1700, 1701, 1702, 1703, 1704, 1705, 1706, 1707, 1708, 1709, 1710, 1711, 1712, 1713, 1714, 1715, 1716, 1717, 1718, 1719, 1720, 1721, 1722, 1723, 1724, 1725, 1726, 1727, 1728, 1729, 1730, 1731, 1732, 1733, 1734, 1735, 1736, 1737, 1738, 1739, 1740, 1741, 1742, 1743, 1744, 1745, 1746, 1747, 1748, 1749, 1750, 1751, 1752, 1753, 1754, 1755, 1756, 1757, 1758, 1759, 1760, 1761, 1762, 1763, 1764, 1765, 1766, 1767, 1768, 1769, 1770, 1771, 1772, 1773, 1774, 1775, 1776, 1777, 1778, 1779, 1780, 1781, 1782, 1783, 1784, 1785, 1786, 1787, 1788, 1789, 1790, 1791, 1792, 1793, 1794, 1795, 1796, 1797, 1798, 1799, 1800, 1801, 1802, 1803, 1804, 1805, 1806, 1807, 1808, 1809, 1810, 1811, 1812, 1813, 1814, 1815, 1816, 1817, 1818, 1819, 1820, 1821, 1822, 1823, 1824, 1825, 1826, 1827, 1828, 1829, 1830, 1831, 1832, 1833, 1834, 1835, 1836, 1837, 1838, 1839, 1840, 1841, 1842, 1843, 1844, 1845, 1846, 1847, 1848, 1849, 1850, 1851, 1852, 1853, 1854, 1855, 1856, 1857, 1858, 1859, 1860, 1861, 1862, 1863, 1864, 1865, 1866, 1867, 1868, 1869, 1870, 1871, 1872, 1873, 1874, 1875, 1876, 1877, 1878, 1879, 1880, 1881, 1882, 1883, 1884, 1885, 1886, 1887, 1888, 1889, 1890, 1891, 1892, 1893, 1894, 1895, 1896, 1897, 1898, 1899, 1900, 1901, 1902, 1903, 1904, 1905, 1906, 1907, 1908, 1909, 1910, 1911, 1912, 1913, 1914, 1915, 1916, 1917, 1918, 1919, 1920, 1921, 1922, 1923, 1924, 1925, 1926, 1927, 1928, 1929, 1930, 1931, 1932, 1933, 1934, 1935, 1936, 1937, 1938, 1939, 1940, 1941, 1942, 1943, 1944, 1945, 1946, 1947, 1948, 1949, 1950, 1951, 1952, 1953, 1954, 1955, 1956, 1957, 1958, 1959, 1960, 1961, 1962, 1963, 1964, 1965, 1966, 1967, 1968, 1969, 1970, 1971, 1972, 1973, 1974, 1975, 1976, 1977, 1978, 1979, 1980, 1981, 1982, 1983, 1984, 1985, 1986, 1987, 1988, 1989, 1990, 1991, 1992, 1993, 1994, 1995, 1996, 1997, 1998, 1999, 2000, 2001, 2002, 2003, 2004, 2005, 2006, 2007, 2008, 2009, 2010, 2011, 2012, 2013, 2014, 2015, 2016, 2017, 2018, 2019, 2020, 2021, 2022, 2023, 2024, 2025, 2026, 2027, 2028, 2029, 2030, 2031, 2032, 2033, 2034, 2035, 2036, 2037, 2038, 2039, 2040, 2041, 2042, 2043, 2044, 2045, 2046, 2047, 2048, 2049, 2050, 2051, 2052, 2053, 2054, 2055, 2056, 2057, 2058, 2059, 2060, 2061, 2062, 2063, 2064, 2065, 2066, 2067, 2068, 2069, 2070, 2071, 2072, 2073, 2074, 2075, 2076, 2077, 2078, 2079, 2080, 2081, 2082, 2083, 2084, 2085, 2086, 2087, 2088, 2089, 2090, 2091, 2092, 2093, 2094, 2095, 2096, 2097, 2098, 2099, 2100, 2101, 2102, 2103, 2104, 2105, 2106, 2107, 2108, 2109, 2110, 2111, 2112, 2113, 2114, 2115, 2116, 2117, 2118, 2119, 2120, 2121, 2122, 2123, 2124, 2125, 2126, 2127, 2128, 2129, 2130, 2131, 2132, 2133, 2134, 2135, 2136, 2137, 2138, 2139, 2140, 2141, 2142, 2143, 2144, 2145, 2146, 2147, 2148, 2149, 2150, 2151, 2152, 2153, 2154, 2155, 2156, 2157, 2158, 2159, 2160, 2161, 2162, 2163, 2164, 2165, 2166, 2167, 2168, 2169, 2170, 2171, 2172, 2173, 2174, 2175, 2176, 2177, 2178, 2179, 2180, 2181, 2182, 2183, 2184, 2185, 2186, 2187, 2188, 2189, 2190, 2191, 2192, 2193, 2194, 2195, 2196, 2197, 2198, 2199, 2200, 2201, 2202, 2203, 2204, 2205, 2206, 2207, 2208, 2209, 2210, 2211, 2212, 2213, 2214, 2215, 2216, 2217, 2218, 2219, 2220, 2221, 2222, 2223, 2224, 2225, 2226, 2227, 2228, 2229, 2230, 2231, 2232, 2233, 2234, 2235, 2236, 2237, 2238, 2239, 2240, 2241, 2242, 2243, 2244, 2245, 2246, 2247, 2248, 2249, 2250, 2251, 2252, 2253, 2254, 2255, 2256, 2257, 2258, 2259, 2260, 2261, 2262, 2263, 2264, 2265, 2266, 2267, 2268, 2269, 2270, 2271, 2272, 2273, 2274, 2275, 2276, 2277, 2278, 2279, 2280, 2281, 2282, 2283, 2284, 2285, 2286, 2287, 2288, 2289, 2290, 2291, 2292, 2293, 2294, 2295, 2296, 2297, 2298, 2299, 2300, 2301, 2302, 2303, 2304, 2305, 2306, 2307, 2308, 2309, 2310, 2311, 2312, 2313, 2314, 2315, 2316], \"y\": [2.337952236831337, 2.336019869080283, 2.307572634505085, 2.299580583973747, 2.288486168614544, 2.2975725511705014, 2.3135250330323798, 2.306577114263583, 2.3045830956567186, 2.3145136638593193, 2.3282528397426234, 2.365559892155434, 2.3561258599220753, 2.340843805111136, 2.3561258599220753, 2.340843805111136, 2.3427668826268775, 2.3263016196113617, 2.3398808777377424, 2.3456445824544927, 2.3513752571634776, 2.3617969526258915, 2.3513752571634776, 2.359910159613315, 2.336986519711378, 2.3398808777377424, 2.3456445824544927, 2.33214389523559, 2.337952236831337, 2.3340837600534163, 2.3233676321765744, 2.3340837600534163, 2.336019869080283, 2.3045830956567186, 2.298577071596507, 2.278292400425001, 2.2741856184723477, 2.255493485460195, 2.2617630984737906, 2.2278615467981093, 2.209372711271867, 2.2192034840549946, 2.252343876557299, 2.2364452904895007, 2.2407096892759584, 2.2669579153508947, 2.2544447176661104, 2.2192034840549946, 2.238579763018133, 2.286455711064162, 2.2762411176544437, 2.2512917986064953, 2.224623551524334, 2.180417459019838, 2.174751721484161, 2.157559320943788, 2.122261538862764, 2.1471001901536506, 2.1174596088673567, 2.1447610078004784, 2.163323025660538, 2.1849270495258133, 2.2027647577118348, 2.191653532286764, 2.174751721484161, 2.189416394888408, 2.1713368063840917, 2.186051276738094, 2.155244505095337, 2.1656192379208883, 2.174751721484161, 2.167910189667444, 2.163323025660538, 2.163323025660538, 2.152924318439639, 2.1598687907924505, 2.1471001901536506, 2.1400661634962708, 2.134166441369082, 2.1234584270966104, 2.1294214739848565, 2.1186622548331173, 2.1138429683971682, 2.0592388343623163, 2.0719132752590443, 2.0681277817795625, 2.063058062429312, 2.0943301541735866, 2.089391872533004, 2.0844290831908747, 2.0980179272527715, 2.0980179272527715, 2.0831845279586703, 2.066862759472976, 2.0844290831908747, 2.0844290831908747, 2.086913556518537, 2.0992441689760155, 2.0980179272527715, 2.1162555148025524, 2.1102132003465894, 2.130609828254235, 2.1471001901536506, 2.1471001901536506, 2.1540850846756014, 2.157559320943788, 2.1482677326096886, 2.1471001901536506, 2.1294214739848565, 2.066862759472976, 2.1041341542702074, 2.0794415416798357, 2.050270164379556, 2.052840859882657, 2.0731719286662407, 2.0731719286662407, 2.081938421878423, 2.0781907597781832, 2.061786606441115, 2.0794415416798357, 2.0794415416798357, 2.050270164379556, 2.0541237336955462, 2.0541237336955462, 2.057962510002712, 2.0541237336955462, 2.0228711901914416, 2.018895041811802, 2.0215475632609334, 2.010894999144726, 2.0014800002101243, 2.0014800002101243, 2.0082140323914683, 2.0014800002101243, 2.004179057179289, 2.0135687975291283, 2.017566137961748, 2.0794415416798357, 2.0943301541735866, 2.1065702090680887, 2.1077860146889784, 2.1041341542702074, 2.0769384114617173, 2.0856720914304723, 2.080690761080268, 2.086913556518537, 2.1041341542702074, 2.0992441689760155, 2.0980179272527715, 2.0943301541735866, 2.0992441689760155, 2.0856720914304723, 2.0794415416798357, 2.0794415416798357, 2.066862759472976, 2.064327903869788, 2.05668455455722, 2.057962510002712, 2.057962510002712, 2.0541237336955462, 2.05668455455722, 2.060513531794317, 2.089391872533004, 2.089391872533004, 2.1041341542702074, 2.1126345090356, 2.1102132003465894, 2.128231705849268, 2.167910189667444, 2.175887439948088, 2.166765369851511, 2.157559320943788, 2.1598687907924505, 2.163323025660538, 2.149433913499871, 2.128231705849268, 2.1294214739848565, 2.135349173618132, 2.1471001901536506, 2.1400661634962708, 2.1424163408412245, 2.122261538862764, 2.1294214739848565, 2.151762203259462, 2.1471001901536506, 2.163323025660538, 2.169053700369523, 2.169053700369523, 2.163323025660538, 2.149433913499871, 2.151762203259462, 2.145931282948669, 2.145931282948669, 2.145931282948669, 2.145931282948669, 2.138889000323256, 2.1126345090356, 2.128231705849268, 2.1234584270966104, 2.122261538862764, 2.122261538862764, 2.1186622548331173, 2.086913556518537, 2.0992441689760155, 2.102913897864978, 2.1004689088719113, 2.0980179272527715, 2.096790180014449, 2.0980179272527715, 2.102913897864978, 2.0930978681273213, 2.1138429683971682, 2.125847914493992, 2.1234584270966104, 2.122261538862764, 2.1138429683971682, 2.1162555148025524, 2.1174596088673567, 2.1162555148025524, 2.1210632163706555, 2.128231705849268, 2.1400661634962708, 2.1435893615035875, 2.1400661634962708, 2.1587147225743437, 2.186051276738094, 2.157559320943788, 2.187174241482718, 2.2364452904895007, 2.222459048514761, 2.2267833795777636, 2.2159372862683733, 2.1972245773362196, 2.200552367428894, 2.191653532286764, 2.186051276738094, 2.1770218700187, 2.180417459019838, 2.174751721484161, 2.1610215286722587, 2.174751721484161, 2.1849270495258133, 2.186051276738094, 2.1815467646169897, 2.1838015570040787, 2.169053700369523, 2.1644717908644115, 2.1587147225743437, 2.1424163408412245, 2.130609828254235, 2.1041341542702074, 2.1090003439213802, 2.1150499691472033, 2.1150499691472033, 2.1186622548331173, 2.1004689088719113, 2.0943301541735866, 2.086913556518537, 2.0918640616783932, 2.0794415416798357, 2.0980179272527715, 2.1065702090680887, 2.1210632163706555, 2.130609828254235, 2.124653884501384, 2.1400661634962708, 2.145931282948669, 2.150598735996164, 2.1471001901536506, 2.150598735996164, 2.157559320943788, 2.1234584270966104, 2.134166441369082, 2.136530508663963, 2.1329823086078656, 2.122261538862764, 2.145931282948669, 2.1400661634962708, 2.151762203259462, 2.151762203259462, 2.151762203259462, 2.162172939277301, 2.180417459019838, 2.169053700369523, 2.175887439948088, 2.174751721484161, 2.175887439948088, 2.1736147116970854, 2.169053700369523, 2.1713368063840917, 2.169053700369523, 2.174751721484161, 2.163323025660538, 2.1412419425852827, 2.1400661634962708, 2.145931282948669, 2.1138429683971682, 2.1424163408412245, 2.1400661634962708, 2.149433913499871, 2.188295946591918, 2.194999882314108, 2.162172939277301, 2.1540850846756014, 2.1644717908644115, 2.1564025828159643, 2.1587147225743437, 2.169053700369523, 2.1713368063840917, 2.157559320943788, 2.163323025660538, 2.189416394888408, 2.163323025660538, 2.169053700369523, 2.169053700369523, 2.163323025660538, 2.162172939277301, 2.157559320943788, 2.138889000323256, 2.0918640616783932, 2.130609828254235, 2.1210632163706555, 2.1114245875328868, 2.128231705849268, 2.1162555148025524, 2.1041341542702074, 2.1041341542702074, 2.096790180014449, 2.136530508663963, 2.1234584270966104, 2.1041341542702074, 2.1090003439213802, 2.102913897864978, 2.0794415416798357, 2.0706530356467567, 2.0706530356467567, 2.0943301541735866, 2.0918640616783932, 2.1114245875328868, 2.1400661634962708, 2.1174596088673567, 2.1162555148025524, 2.0930978681273213, 2.0918640616783932, 2.1174596088673567, 2.1065702090680887, 2.0794415416798357, 2.0794415416798357, 2.105352923464337, 2.0844290831908747, 2.1016921506146558, 2.086913556518537, 2.096790180014449, 2.081938421878423, 2.075684492802124, 2.0844290831908747, 2.0794415416798357, 2.0731719286662407, 2.065596134857783, 2.0082140323914683, 1.9600947840472698, 1.9629077254238845, 1.9726911717329552, 1.9473377010464987, 1.9712993830601329, 1.94876321803772, 1.9416152247724328, 1.922787731634459, 1.8870696490323797, 1.8082887711792655, 1.8500283773520307, 1.8389610707123492, 1.8484548129046001, 1.8484548129046001, 1.8562979903656263, 1.8764069432883397, 1.9358598132018119, 1.9358598132018119, 1.9643112344262046, 1.9080599249242156, 1.8946168546677629, 1.916922612182061, 1.9213246735826988, 1.864080130807681, 1.8718021769015913, 1.9095425048844386, 1.9095425048844386, 1.9065751436566365, 1.944480556245719, 1.9139771019523042, 1.8976198599275322, 1.8687205103641833, 1.8562979903656263, 1.8484548129046001, 1.9286186519452522, 1.9430489167742813, 1.9242486522741338, 1.9416152247724328, 1.9401794743463283, 1.9401794743463283, 1.944480556245719, 1.916922612182061, 1.8870696490323797, 1.8870696490323797, 1.8870696490323797, 1.864080130807681, 1.864080130807681, 1.8531680973566986, 1.851599469584072, 1.8325814637483102, 1.8213182714695995, 1.824549292051046, 1.8082887711792655, 1.8229350866965048, 1.8164520818184267, 1.8164520818184267, 1.80005827204275, 1.80005827204275, 1.791759469228055, 1.7900914121273581, 1.786746927404511, 1.7884205679625405, 1.7934247485471162, 1.900613874140137, 1.9242486522741338, 1.9095425048844386, 1.9110228900548725, 1.888583653863595, 1.8809906029559975, 1.8764069432883397, 1.918392120161421, 1.918392120161421, 1.9242486522741338, 1.890095369948917, 1.937301774518713, 1.9035989509835904, 1.8870696490323797, 1.9035989509835904, 1.9021075263969205, 1.9035989509835904, 1.916922612182061, 1.9387416595767009, 1.9416152247724328, 1.9615022438151493, 1.9726911717329552, 2.0320878452963655, 1.998773638612381, 2.0215475632609334, 2.0014800002101243, 1.9878743481543455, 1.9629077254238845, 1.9459101490553132, 1.9387416595767009, 1.9401794743463283, 1.9387416595767009, 1.9300710850255671, 1.9416152247724328, 1.94876321803772, 1.9558604799084813, 1.9459101490553132, 1.9643112344262046, 1.9643112344262046, 1.9685099809725544, 1.9782390361706736, 1.9823798288367047, 2.0135687975291283, 2.0149030205422647, 2.012232791986386, 2.0255131996542803, 2.0215475632609334, 2.0412203288596382, 2.0476928433652555, 2.0541237336955462, 2.0554049638515948, 2.0149030205422647, 2.046401687601636, 2.0693912058263346, 2.1090003439213802, 2.1174596088673567, 2.138889000323256, 2.128231705849268, 2.134166441369082, 2.1435893615035875, 2.1150499691472033, 2.1210632163706555, 2.134166441369082, 2.131796772013764, 2.1162555148025524, 2.124653884501384, 2.1150499691472033, 2.0980179272527715, 2.0906287310704004, 2.102913897864978, 2.1016921506146558, 2.1102132003465894, 2.128231705849268, 2.124653884501384, 2.127040520479115, 2.127040520479115, 2.134166441369082, 2.131796772013764, 2.1198634561787513, 2.134166441369082, 2.134166441369082, 2.134166441369082, 2.0980179272527715, 2.1210632163706555, 2.1126345090356, 2.1162555148025524, 2.0930978681273213, 2.0881534822818573, 2.0719132752590443, 2.0347056478384444, 2.0412203288596382, 2.066862759472976, 2.064327903869788, 2.065596134857783, 2.081938421878423, 2.0769384114617173, 2.1102132003465894, 2.080690761080268, 2.0918640616783932, 2.0906287310704004, 2.0980179272527715, 2.081938421878423, 2.081938421878423, 2.096790180014449, 2.0794415416798357, 2.0918640616783932, 2.0794415416798357, 2.080690761080268, 2.0794415416798357, 2.0794415416798357, 2.0794415416798357, 2.0794415416798357, 2.0906287310704004, 2.0794415416798357, 2.0856720914304723, 2.080690761080268, 2.081938421878423, 2.0744289998562917, 2.0918640616783932, 2.0918640616783932, 2.0918640616783932, 2.1150499691472033, 2.1138429683971682, 2.1150499691472033, 2.0918640616783932, 2.0744289998562917, 2.0831845279586703, 2.0881534822818573, 2.0980179272527715, 2.0980179272527715, 2.080690761080268, 2.0856720914304723, 2.080690761080268, 2.0294631718735947, 2.0149030205422647, 2.0228711901914416, 2.0347056478384444, 2.028148247292285, 2.0320878452963655, 2.0215475632609334, 2.0541237336955462, 2.060513531794317, 2.0541237336955462, 2.061786606441115, 2.0541237336955462, 2.066862759472976, 2.0781907597781832, 2.075684492802124, 2.05668455455722, 2.0451088625993306, 2.038619547159581, 2.0744289998562917, 2.0794415416798357, 2.0856720914304723, 2.1102132003465894, 2.134166441369082, 2.122261538862764, 2.1016921506146558, 2.1004689088719113, 2.1077860146889784, 2.1150499691472033, 2.1114245875328868, 2.1424163408412245, 2.128231705849268, 2.1329823086078656, 2.136530508663963, 2.1400661634962708, 2.151762203259462, 2.151762203259462, 2.167910189667444, 2.1598687907924505, 2.151762203259462, 2.149433913499871, 2.157559320943788, 2.151762203259462, 2.152924318439639, 2.188295946591918, 2.206074192613202, 2.2192034840549946, 2.214846178686039, 2.1983350716202463, 2.174751721484161, 2.169053700369523, 2.167910189667444, 2.163323025660538, 2.1610215286722587, 2.151762203259462, 2.163323025660538, 2.169053700369523, 2.169053700369523, 2.163323025660538, 2.151762203259462, 2.1482677326096886, 2.157559320943788, 2.163323025660538, 2.169053700369523, 2.1424163408412245, 2.151762203259462, 2.163323025660538, 2.163323025660538, 2.1610215286722587, 2.151762203259462, 2.134166441369082, 2.1186622548331173, 2.1150499691472033, 2.0943301541735866, 2.1198634561787513, 2.1102132003465894, 2.128231705849268, 2.128231705849268, 2.1126345090356, 2.1198634561787513, 2.1210632163706555, 2.162172939277301, 2.1736147116970854, 2.1713368063840917, 2.1540850846756014, 2.1400661634962708, 2.1482677326096886, 2.149433913499871, 2.150598735996164, 2.1424163408412245, 2.167910189667444, 2.1540850846756014, 2.1656192379208883, 2.167910189667444, 2.189416394888408, 2.2159372862683733, 2.2071749081893874, 2.2192034840549946, 2.1983350716202463, 2.2027647577118348, 2.211565694606877, 2.1983350716202463, 2.2049722641270453, 2.224623551524334, 2.2364452904895007, 2.2512917986064953, 2.2669579153508947, 2.2844211223663744, 2.2874714551839976, 2.2762411176544437, 2.256541154492639, 2.255493485460195, 2.262804222982201, 2.2669579153508947, 2.2669579153508947, 2.256541154492639, 2.255493485460195, 2.2834022735772717, 2.2741856184723477, 2.2772672850097555, 2.3025850929940455, 2.3025850929940455, 2.299580583973747, 2.295560478057081, 2.2353763433005955, 2.225704048658088, 2.209372711271867, 2.21046980408624, 2.1972245773362196, 2.1983350716202463, 2.2027647577118348, 2.206074192613202, 2.200552367428894, 2.199444334074532, 2.1972245773362196, 2.2126603854660587, 2.2082744135228043, 2.214846178686039, 2.2321626286975, 2.252343876557299, 2.2460147415056513, 2.2375130962503307, 2.225704048658088, 2.2181159363675955, 2.234306252240751, 2.2321626286975, 2.21375387928743, 2.194999882314108, 2.1972245773362196, 2.1972245773362196, 2.1972245773362196, 2.180417459019838, 2.180417459019838, 2.1983350716202463, 2.192770226986839, 2.2159372862683733, 2.2289385528257473, 2.1972245773362196, 2.178155014615869, 2.1938856760707046, 2.2192034840549946, 2.2235418856535927, 2.217027204632399, 2.2213750375685026, 2.2181159363675955, 2.224623551524334, 2.2407096892759584, 2.2617630984737906, 2.2407096892759584, 2.234306252240751, 2.2126603854660587, 2.2071749081893874, 2.217027204632399, 2.1972245773362196, 2.194999882314108, 2.1972245773362196, 2.21046980408624, 2.21375387928743, 2.2027647577118348, 2.2027647577118348, 2.238579763018133, 2.2353763433005955, 2.2407096892759584, 2.2428350885882717, 2.2417729535972883, 2.2460147415056513, 2.2512917986064953, 2.2407096892759584, 2.2502386126218363, 2.214846178686039, 2.2300144001592104, 2.2407096892759584, 2.2364452904895007, 2.2417729535972883, 2.2460147415056513, 2.2460147415056513, 2.255493485460195, 2.2544447176661104, 2.2669579153508947, 2.263844264677615, 2.272125885509337, 2.2844211223663744, 2.2975725511705014, 2.2874714551839976, 2.294552921296781, 2.3025850929940455, 2.306577114263583, 2.325324579963535, 2.306577114263583, 2.3145136638593193, 2.344686269012681, 2.34660197841082, 2.3513752571634776, 2.3513752571634776, 2.3513752571634776, 2.365559892155434, 2.365559892155434, 2.336986519711378, 2.33214389523559, 2.33214389523559, 2.322387720290225, 2.312535423847214, 2.3105532626432224, 2.3272777055844167, 2.3272777055844167, 2.305580601973844, 2.322387720290225, 2.307572634505085, 2.3025850929940455, 2.306577114263583, 2.3025850929940455, 2.317473705487796, 2.305580601973844, 2.3025850929940455, 2.3085671646715933, 2.309560706730471, 2.318458442150336, 2.3025850929940455, 2.3115448343655176, 2.303584593327129, 2.33214389523559, 2.318458442150336, 2.331172549845958, 2.3340837600534163, 2.3340837600534163, 2.3272777055844167, 2.3272777055844167, 2.3272777055844167, 2.3272777055844167, 2.33214389523559, 2.368372833532048, 2.411439497906128, 2.395164274287139, 2.3942522815198695, 2.402430427963762, 2.406945108318288, 2.3942522815198695, 2.395164274287139, 2.3933394562625097, 2.4042387467205457, 2.388762789235098, 2.411439497906128, 2.39698576841553, 2.39698576841553, 2.388762789235098, 2.390595970316759, 2.3850863145057892, 2.3795461341301736, 2.3749057545736716, 2.3739750890807185, 2.3589654264301534, 2.3427668826268775, 2.333114298028869, 2.316487998163037, 2.336019869080283, 2.3145136638593193, 2.309560706730471, 2.307572634505085, 2.3045830956567186, 2.3272777055844167, 2.3749057545736716, 2.3570732782781154, 2.3570732782781154, 2.349468678892896, 2.3427668826268775, 2.3456445824544927, 2.3282528397426234, 2.34660197841082, 2.336019869080283, 2.322387720290225, 2.3340837600534163, 2.3513752571634776, 2.3513752571634776, 2.3523271848888596, 2.341805806147327, 2.336986519711378, 2.340843805111136, 2.365559892155434, 2.368372833532048, 2.3711778844596574, 2.365559892155434, 2.3664984187376983, 2.3702437414678603, 2.3646204839134985, 2.382320061012899, 2.390595970316759, 2.388762789235098, 2.4168062370840686, 2.4292177439274116, 2.4292177439274116, 2.418588768750352, 2.415913778301049, 2.406945108318288, 2.4042387467205457, 2.3702437414678603, 2.3513752571634776, 2.3542283261458836, 2.330200260027019, 2.3499456643538834, 2.3608540011180215, 2.350422422408206, 2.3608540011180215, 2.3513752571634776, 2.3608540011180215, 2.3933394562625097, 2.386006701133118, 2.359910159613315, 2.3749057545736716, 2.3617969526258915, 2.3589654264301534, 2.336986519711378, 2.322387720290225, 2.3570732782781154, 2.3513752571634776, 2.329227023940467, 2.341805806147327, 2.341805806147327, 2.3282528397426234, 2.322387720290225, 2.340843805111136, 2.33214389523559, 2.331172549845958, 2.336986519711378, 2.3542283261458836, 2.359910159613315, 2.372111155642656, 2.3702437414678603, 2.355177543113216, 2.336986519711378, 2.341805806147327, 2.330200260027019, 2.350422422408206, 2.3513752571634776, 2.3427668826268775, 2.340843805111136, 2.350422422408206, 2.341805806147327, 2.3570732782781154, 2.3739750890807185, 2.378619779270043, 2.3749057545736716, 2.365559892155434, 2.3485140248824456, 2.3702437414678603, 2.3523271848888596, 2.350422422408206, 2.3389170222414357, 2.3340837600534163, 2.329227023940467, 2.3389170222414357, 2.3045830956567186, 2.3243465847755584, 2.3115448343655176, 2.3272777055844167, 2.322387720290225, 2.336986519711378, 2.3427668826268775, 2.347558458636777, 2.3427668826268775, 2.347558458636777, 2.34660197841082, 2.3664984187376983, 2.3749057545736716, 2.3758355547336385, 2.3841650799864684, 2.3832429960115, 2.392425796993835, 2.3693087250369538, 2.388762789235098, 2.3960754360813845, 2.402430427963762, 2.3978952727983707, 2.3978952727983707, 2.395164274287139, 2.390595970316759, 2.402430427963762, 2.3978952727983707, 2.3795461341301736, 2.3933394562625097, 2.3739750890807185, 2.3664984187376983, 2.390595970316759, 2.3795461341301736, 2.378619779270043, 2.382320061012899, 2.382320061012899, 2.3813962734183356, 2.3813962734183356, 2.378619779270043, 2.388762789235098, 2.3997118037247684, 2.406945108318288, 2.424802725718295, 2.4423470353692043, 2.4344901638739844, 2.4561641809223462, 2.4595888418037104, 2.4874035299865875, 2.485739636091892, 2.4932054526026954, 2.5176964726109907, 2.501435951739211, 2.498151876538021, 2.4849066497880004, 2.4807312783775197, 2.5176964726109907, 2.5289235352047745, 2.501435951739211, 2.5087859235779435, 2.501435951739211, 2.4973291697865574, 2.503891949699081, 2.506341930508065, 2.503891949699081, 2.5160822672564502, 2.5176964726109907, 2.50470927708418, 2.509599262378372, 2.506341930508065, 2.5160822672564502, 2.5664866367804233, 2.5680215564985067, 2.5748996883147055, 2.58173083442354, 2.5794589667292236, 2.558776498354456, 2.5680215564985067, 2.5794589667292236, 2.5900171341906173, 2.580216829592325, 2.5710843460290524, 2.560323289072755, 2.561867690924129, 2.557227311367627, 2.550226115908643, 2.5764217586237734, 2.5756610130564646, 2.574137783515943, 2.5726122302071057, 2.5710843460290524, 2.570319527636131, 2.5779415157551897, 2.5680215564985067, 2.569554123848285, 2.567254391136754, 2.557227311367627, 2.563409711275944, 2.553343811341229, 2.5649493574615367, 2.5641798306825083, 2.546315277916644, 2.547098670044448, 2.555675720676208, 2.5649493574615367, 2.5726122302071057, 2.5771819258971713, 2.5764217586237734, 2.5726122302071057, 2.555675720676208, 2.547098670044448, 2.5641798306825083, 2.552565298261815, 2.558002204858551, 2.557227311367627, 2.551786178627545, 2.553343811341229, 2.558002204858551, 2.543961412569315, 2.5494451709255714, 2.546315277916644, 2.5478814489493886, 2.5494451709255714, 2.557227311367627, 2.5649493574615367, 2.5922651681085, 2.589266665112243, 2.6026896854443833, 2.609334228163053, 2.605648267484129, 2.605648267484129, 2.6108048166633746, 2.6217658325051976, 2.631888840136646, 2.6217658325051976, 2.611539300721366, 2.6100697927420065, 2.612273245708441, 2.6100697927420065, 2.6026896854443833, 2.604909442182697, 2.604170070614818, 2.6034301519721073, 2.609334228163053, 2.6275629501895237, 2.6137395216309685, 2.619583219779879, 2.614471854142644, 2.617395832834079, 2.6019486702196644, 2.5847519847577165, 2.583997552432231, 2.587011872725154, 2.587011872725154, 2.5832425505088623, 2.5847519847577165, 2.580216829592325, 2.560323289072755, 2.569554123848285, 2.5710843460290524, 2.583997552432231, 2.591516384846259, 2.60638654732571, 2.6071242825122494, 2.6108048166633746, 2.6078614738467776, 2.6181254935742233, 2.6137395216309685, 2.6026896854443833, 2.612273245708441, 2.6188546222977394, 2.6239436918052106, 2.596000697293587, 2.591516384846259, 2.5764217586237734, 2.591516384846259, 2.614471854142644, 2.613006652415316, 2.622492312740563, 2.626840145676667, 2.617395832834079, 2.6210388241125804, 2.6210388241125804, 2.6361960973342264, 2.6188546222977394, 2.6304489550786583, 2.6454653259105885, 2.640484881606444, 2.6369121732688705, 2.6282852326333477, 2.622492312740563, 2.6152036507358583, 2.609334228163053, 2.617395832834079, 2.6304489550786583, 2.6354795082673745, 2.640484881606444, 2.6166656393003573, 2.6188546222977394, 2.631888840136646, 2.620311286794203, 2.6152036507358583, 2.6100697927420065, 2.613006652415316, 2.6100697927420065, 2.601207105484161, 2.5952547069568657, 2.590767040487478, 2.5832425505088623, 2.5847519847577165, 2.5726122302071057, 2.5726122302071057, 2.5809741185342334, 2.5771819258971713, 2.58173083442354, 2.580216829592325, 2.5764217586237734, 2.5756610130564646, 2.543175557911976, 2.570319527636131, 2.5626389983283526, 2.5626389983283526, 2.5626389983283526, 2.565718292524414, 2.5687881337687024, 2.5756610130564646, 2.5764217586237734, 2.5832425505088623, 2.5748996883147055, 2.569554123848285, 2.574137783515943, 2.548663615590751, 2.5494451709255714, 2.5392369943330477, 2.542389085201363, 2.531313022602156, 2.525728644308255, 2.5209170873110334, 2.531313022602156, 2.5376572151735295, 2.529720665577793, 2.554899021608035, 2.5733752977756086, 2.5726122302071057, 2.5809741185342334, 2.587011872725154, 2.5794589667292236, 2.5764217586237734, 2.5710843460290524, 2.5649493574615367, 2.5794589667292236, 2.58173083442354, 2.617395832834079, 2.60859812213055, 2.5937610547000824, 2.5982353350950036, 2.6019486702196644, 2.5824869781268642, 2.5952547069568657, 2.6004649904222727, 2.604909442182697, 2.5945081597030812, 2.591516384846259, 2.601207105484161, 2.6026896854443833, 2.596000697293587, 2.602319246469968, 2.5945081597030812, 2.604909442182697, 2.605648267484129, 2.6100697927420065, 2.6137395216309685, 2.6239436918052106, 2.6100697927420065, 2.6026896854443833, 2.6026896854443833, 2.589266665112243, 2.5930133911138515, 2.596000697293587, 2.5649493574615367, 2.563409711275944, 2.5626389983283526, 2.5626389983283526, 2.565718292524414, 2.5610957881455465, 2.560323289072755, 2.559550192783766, 2.557227311367627, 2.553343811341229, 2.556451816951096, 2.550226115908643, 2.547098670044448, 2.550226115908643, 2.558002204858551, 2.553343811341229, 2.5478814489493886, 2.546315277916644, 2.546315277916644, 2.5416019934645457, 2.553343811341229, 2.551786178627545, 2.551006451492524, 2.550226115908643, 2.558002204858551, 2.557227311367627, 2.5687881337687024, 2.5832425505088623, 2.5771819258971713, 2.583997552432231, 2.6108048166633746, 2.6411978941143697, 2.604170070614818, 2.6071242825122494, 2.60638654732571, 2.604170070614818, 2.589266665112243, 2.6019486702196644, 2.5967461315435356, 2.5952547069568657, 2.5855058483441162, 2.5771819258971713, 2.580216829592325, 2.58851563240702, 2.5974910105351463, 2.596000697293587, 2.596000697293587, 2.5952547069568657, 2.5726122302071057, 2.5610957881455465, 2.569554123848285, 2.58173083442354, 2.580216829592325, 2.5922651681085, 2.5771819258971713, 2.583997552432231, 2.5664866367804233, 2.5945081597030812, 2.589266665112243, 2.5726122302071057, 2.559550192783766, 2.5649493574615367, 2.5756610130564646, 2.5748996883147055, 2.5756610130564646, 2.580216829592325, 2.5877640352277083, 2.5922651681085, 2.5974910105351463, 2.6019486702196644, 2.6078614738467776, 2.5862591440482876, 2.596000697293587, 2.5967461315435356, 2.5967461315435356, 2.5937610547000824, 2.596000697293587, 2.5779415157551897, 2.5809741185342334, 2.5847519847577165, 2.615934912194404, 2.6004649904222727, 2.611539300721366, 2.6181254935742233, 2.6239436918052106, 2.6253929674212007, 2.626116818339524, 2.617395832834079, 2.620311286794203, 2.626116818339524, 2.60859812213055, 2.614471854142644, 2.6282852326333477, 2.6275629501895237, 2.6297282343267403, 2.6326080059353516, 2.626840145676667, 2.640484881606444, 2.6588599569114386, 2.668616131856803, 2.655352412101761, 2.653945942109009, 2.6518325211039815, 2.6525374911719513, 2.6658383522929006, 2.664446563620078, 2.6623552418400807, 2.667228206581955, 2.6700021334646804, 2.6461747973841225, 2.6411978941143697, 2.639057329615259, 2.6454653259105885, 2.663052835171474, 2.6454653259105885, 2.629006993761757, 2.615934912194404, 2.609334228163053, 2.5855058483441162, 2.5824869781268642, 2.5974910105351463, 2.6071242825122494, 2.60859812213055, 2.5937610547000824, 2.587388024694983, 2.5771819258971713, 2.589266665112243, 2.5756610130564646, 2.5945081597030812, 2.6100697927420065, 2.6232182655855123, 2.6232182655855123, 2.626840145676667, 2.590767040487478, 2.5862591440482876, 2.5922651681085, 2.591516384846259, 2.598979106047848, 2.6034301519721073, 2.5952547069568657, 2.5952547069568657, 2.5945081597030812, 2.6217658325051976, 2.6354795082673745, 2.6361960973342264, 2.644044871126298, 2.6518325211039815, 2.6461747973841225, 2.639057329615259, 2.6397713603489157, 2.640484881606444, 2.6275629501895237, 2.5937610547000824, 2.615934912194404, 2.615934912194404, 2.6282852326333477, 2.6311691567662523, 2.6426223957797546, 2.614471854142644, 2.6326080059353516, 2.6333266549062735, 2.619583219779879, 2.6181254935742233, 2.6210388241125804, 2.611539300721366, 2.6188546222977394, 2.615934912194404, 2.6152036507358583, 2.601207105484161, 2.5726122302071057, 2.555675720676208, 2.5193080765053333, 2.546315277916644, 2.5610957881455465, 2.557227311367627, 2.5641798306825083, 2.5922651681085, 2.546315277916644, 2.523325759691945, 2.529720665577793, 2.5273273656719524, 2.510411940196362, 2.503073953743449, 2.4965057856313524, 2.495681722955959, 2.4782176616372036, 2.506341930508065, 2.503073953743449, 2.510411940196362, 2.506341930508065, 2.5079719227189963, 2.4989739069994363, 2.513656063073986, 2.546315277916644, 2.5494451709255714, 2.5321082512722946, 2.5321082512722946, 2.545531271604435, 2.5718485799218085, 2.58173083442354, 2.5982353350950036, 2.570319527636131, 2.5832425505088623, 2.604170070614818, 2.624668592163159, 2.6217658325051976, 2.6239436918052106, 2.6217658325051976, 2.6239436918052106, 2.6426223957797546, 2.647592232065096, 2.6411978941143697, 2.6546494243750947, 2.643333886382519, 2.6340447877917144, 2.6333266549062735, 2.6483001966964363, 2.6483001966964363, 2.6333266549062735, 2.644755350729896, 2.6354795082673745, 2.6311691567662523, 2.6181254935742233, 2.613006652415316, 2.631888840136646, 2.6232182655855123, 2.6217658325051976, 2.5900171341906173, 2.5862591440482876, 2.5997223242165823, 2.5748996883147055, 2.604909442182697, 2.5967461315435356, 2.596000697293587, 2.604909442182697, 2.5877640352277083, 2.578700529074361, 2.5779415157551897, 2.587011872725154, 2.5832425505088623, 2.5922651681085, 2.580216829592325, 2.5832425505088623, 2.5847519847577165, 2.563409711275944, 2.551006451492524, 2.559550192783766, 2.567254391136754, 2.557227311367627, 2.551786178627545, 2.5764217586237734, 2.6397713603489157, 2.639057329615259, 2.640484881606444, 2.647592232065096, 2.655352412101761, 2.655352412101761, 2.6665335208992764, 2.6616571615324998, 2.670694414558441, 2.671386216730619, 2.6700021334646804, 2.65605490598383, 2.6397713603489157, 2.60638654732571, 2.615934912194404, 2.6369121732688705, 2.673458756332591, 2.6411978941143697, 2.6397713603489157, 2.6347624053323777, 2.626840145676667, 2.649714624089247, 2.655352412101761, 2.6511270537025893, 2.6858045921548905, 2.6748380668960965, 2.6727683869575705, 2.6837575085331657, 2.710048203764883, 2.726544783738374, 2.73046379593911, 2.7212954278522306, 2.706048198431537, 2.7073833121145063, 2.716018370751387, 2.7206373166076814, 2.710048203764883, 2.70805020110221, 2.7140322727797574, 2.7206373166076814, 2.731115474033206, 2.731766727719526, 2.7427736371605955, 2.7343675094195836, 2.751109690562657, 2.726544783738374, 2.7466296830696852, 2.7794401971888836, 2.794839331174601, 2.7825390530929495, 2.7800607370784824, 2.8021475244813256, 2.7899373605743945, 2.7794401971888836, 2.7732135270086236, 2.785628335747585, 2.7862450486872667, 2.7744619666214616, 2.7707119622269207, 2.7644305345383176, 2.760009940032921, 2.776954179749421, 2.7781979610042917, 2.772588722239781, 2.776954179749421, 2.7781979610042917, 2.7750856024383683, 2.768831673362069, 2.7732135270086236, 2.7819200496686656, 2.7813006628418027, 2.7788192719904172, 2.7788192719904172, 2.7794401971888836, 2.7669478423496954, 2.768831673362069, 2.7930039069823738, 2.7899373605743945, 2.7744619666214616, 2.7936160894318567, 2.7960610784249234, 2.7880929087757464, 2.7911651078127173, 2.783157673589016, 2.7893229212309465, 2.811208293204836, 2.7942278973432626, 2.8178010650613294, 2.8207834710894493, 2.8027541365715076, 2.8124102164264526, 2.803360380906535, 2.799108932049177, 2.813610696762703, 2.811208293204836, 2.808800104202353, 2.8172035149987327, 2.8069901489571136, 2.8124102164264526, 2.826129489167811, 2.866761892257031, 2.8780742300857587, 2.8690346205080335, 2.8887037007954675, 2.8701690505786455, 2.8361502037295256, 2.851284369188118, 2.8690346205080335, 2.8864752876170416, 2.8875901149342877, 2.9041650800285006, 2.9041650800285006, 2.896464271895322, 2.884800712846709, 2.893699547988839, 2.9047128751668225, 2.926382195419198, 2.926382195419198, 2.9322598505984176, 2.9311937524164198, 2.928523523860541, 2.9402195636237325, 2.924773184613497, 2.9317269435780786, 2.9231615807191558, 2.9210087273580543, 2.9183111265854063, 2.9269179575536315, 2.9418039315284354, 2.930660276810276, 2.9386326815134183, 2.9391619220655962, 2.9391619220655962, 2.9454910571172443, 2.9616582932202395, 2.968874819384108, 2.9796028916241073, 2.9882040071331994, 2.972975286431375, 2.9801108926510342, 2.9902170928658807, 2.9992261628082466, 3.0061775314155303, 3.000222178826843, 3.0140632302387145, 2.9992261628082466, 2.993730270883318, 2.993730270883318, 2.9745086371023644, 2.961140828784372, 2.9866915289018414, 2.983659692319722, 2.9816333491744893, 2.9734866646066713, 2.9816333491744893, 2.9932291433358724, 2.995232148512309, 2.9932291433358724, 2.9806186357439426, 2.962692419475791, 2.9719517448885875, 2.9486406660201405, 2.9454910571172443, 2.94706710157271, 2.9396908826703663, 2.9412760877579323, 2.9439125248241944, 2.9517803860248084, 2.9699015135194693, 2.955430976780465, 2.9512577834521614, 2.9418039315284354, 2.93651291389402, 2.942331496826876, 2.9269179575536315, 2.916689066213538, 2.8887037007954675, 2.884241897520628, 2.9036169846461855, 2.9047128751668225, 2.9161477942111484, 2.9215473753646144, 2.9317269435780786, 2.9156062290747062, 2.8875901149342877, 2.883682769745368, 2.8931456847788897, 2.9107188992270343, 2.914522218128448, 2.953868069455292, 2.9454910571172443, 2.946016681308058, 2.9595868269176373, 2.9507349076232554, 2.9381031607173544, 2.924773184613497, 2.928523523860541, 2.9279886214674717, 2.9290581402859983, 2.9090844668283187, 2.914522218128448, 2.9079933592459843, 2.8892600290434745, 2.8892600290434745, 2.8780742300857587, 2.8763855159214247, 2.8808824318750488, 2.8864752876170416, 2.8887037007954675, 2.9025198918318122, 2.9079933592459843, 2.9134370308271613, 2.9279886214674717, 2.942331496826876, 2.9407479652212314, 2.9444389791664403, 2.9454910571172443, 2.950211758252182, 2.9569914452375605, 2.946016681308058, 2.946016681308058, 2.929592471049446, 2.932792473780117, 2.9439125248241944, 2.929592471049446, 2.8803214220426634, 2.8437459165561094, 2.8213788864092133, 2.792391349535961, 2.828496354178077, 2.826721730819709, 2.8361502037295256, 2.8201877010390604, 2.8213788864092133, 2.848970892158587, 2.8616292890305104, 2.8808824318750488, 2.8604851241459652, 2.8570447537800976, 2.866192902199006, 2.8610573702273894, 2.8903717578961645, 2.8541687092322037, 2.863913698933143, 2.831447079246135, 2.834389123145228, 2.843163674909384, 2.8449093838194073, 2.8449093838194073, 2.8735646395797834, 2.847812143477369, 2.856470206220483, 2.864483986944037, 2.858766418480834, 2.862200880929468, 2.854744580253014, 2.851861903134289, 2.864483986944037, 2.9418039315284354, 2.9601050959108397, 2.952302715626655, 2.9322598505984176, 2.9668182633893485, 2.9657883971809187, 2.97092715463502, 2.968361076757859, 2.954910279033736, 2.937043277205311, 2.9439125248241944, 2.930660276810276, 2.9338568698359038, 2.950211758252182, 2.9575110607337933, 2.961140828784372, 2.9590682891823996, 2.9564715596006885, 2.9657883971809187, 2.953868069455292, 2.9621754900251482, 2.962692419475791, 2.961140828784372, 2.987700101856727, 2.9866915289018414, 2.9987277825337895, 3.0091419604639085, 3.0027078872904163, 3.012097627640255, 3.0037004432031678, 3.000222178826843, 3.0061775314155303, 3.005682604407159, 3.0076608444192643, 3.0155349008501706, 3.0145540277945786, 3.0076608444192643, 3.0061775314155303, 3.013080911888604, 3.0061775314155303, 3.0007198150650303, 3.000222178826843, 3.005682604407159, 3.041661205442391, 3.038791763014438, 3.0301337002713233, 3.0349529867072724, 3.027715319407042, 3.013080911888604, 3.017982882488811, 3.0199369622508083, 3.0257763949023677, 3.0204248861443626, 3.018960399673198, 3.032064202801381, 3.0325462466767075, 3.0325462466767075, 3.023833703664866, 3.0483247236731614, 3.0359140631868233, 3.039749158970765, 3.0666566118906893, 3.071303460401065, 3.0740812399649675, 3.067122269640664, 3.0661907372025525, 3.068052935133617, 3.0777729838902004, 3.080073421987742, 3.0763901765714454, 3.062455905596899, 3.0647918094854854, 3.0661907372025525, 3.067587710654419, 3.0591764461105257, 3.052112606990099, 3.052112606990099, 3.0430928449138284, 3.045474365448805, 3.0483247236731614, 3.0469005601283903, 3.037353948244811, 3.0349529867072724, 3.041661205442391, 3.0392705755684744, 3.043569602968151, 3.045474365448805, 3.056356895370426, 3.054944133185837, 3.0535293722802077, 3.0832851705618523, 3.0883114548470845, 3.091042453358316, 3.080532875246456, 3.0814511489565284, 3.0846584827483925, 3.086943153607375, 3.080532875246456, 3.075928815548268, 3.0809921175048145, 3.093312601892855, 3.100092288878234, 3.1059310658520665, 3.1036894150590832, 3.0978374964911444, 3.08922261664133, 3.096482176654134, 3.091951131294534, 3.109953417644014, 3.1112906141882632, 3.1250046092581303, 3.1271990362962967, 3.122364924487357, 3.1166215908294443, 3.1059310658520665, 3.1041381473977774, 3.102791345847399, 3.100092288878234, 3.1210424645194377, 3.104586678466073, 3.0991909819222214, 3.100092288878234, 3.087399462079815, 3.0851158346886765, 3.0860299115347716, 3.0937660138253564, 3.094219220268645, 3.089677886396519, 3.08922261664133, 3.067122269640664, 3.061520014091994, 3.0535293722802077, 3.065724645374026, 3.054944133185837, 3.0525850851467737, 3.062455905596899, 3.05870707271538, 3.058237478905388, 3.0535293722802077, 3.046425387869509, 3.0540011816779664, 3.0469005601283903, 3.0516399054922867, 3.056356895370426, 3.055415275715165, 3.0591764461105257, 3.107720775502038, 3.111735949310297, 3.1032404812692764, 3.093312601892855, 3.0955776085237066, 3.096029994869355, 3.098288861879083, 3.0955776085237066, 3.0791538816930633, 3.0860299115347716, 3.094219220268645, 3.086486636822455, 3.0955776085237066, 3.092858984284714, 3.0878555624297968, 3.089677886396519, 3.09058780456667, 3.08922261664133, 3.089677886396519, 3.091951131294534, 3.091042453358316, 3.08876713952118, 3.0814511489565284, 3.086486636822455, 3.084200921541599, 3.068517943279639, 3.0846584827483925, 3.0914968955383704, 3.092858984284714, 3.109060958860994, 3.120159851929043, 3.108167702883779, 3.096029994869355, 3.094672221408894, 3.0717669598299886, 3.0633909220278057, 3.05870707271538, 3.065724645374026, 3.067587710654419, 3.0689827352935835, 3.071303460401065, 3.0717669598299886, 3.05870707271538, 3.064325065019603, 3.067587710654419, 3.073618812211062, 3.0666566118906893, 3.0694473113762717, 3.0851158346886765, 3.0937660138253564, 3.094672221408894, 3.096029994869355, 3.096029994869355, 3.0969341540629585, 3.0991909819222214, 3.102791345847399, 3.109060958860994, 3.119718253334982, 3.1210424645194377, 3.113959654918641, 3.1179499062782403, 3.126760535960395, 3.1350593387750902, 3.139832617527748, 3.132009891846539, 3.1241254883223895, 3.120159851929043, 3.1210424645194377, 3.125443880075648, 3.1250046092581303, 3.1054831375131102, 3.0937660138253564, 3.0855729775537806, 3.094672221408894, 3.09874002362822, 3.09058780456667, 3.102791345847399, 3.107720775502038, 3.1166215908294443, 3.1315734964654043, 3.1359289040472746, 3.147594622863237, 3.1458749319837103, 3.1535903581695712, 3.150596984114906, 3.138099514840913, 3.1561489949598958, 3.154443964708812, 3.1488824530476656, 3.1548704948922883, 3.1548704948922883, 3.160398895109225, 3.159125820462427, 3.1625170911988163, 3.1633631149379418, 3.1616703510974213, 3.1582762027392706, 3.1354942159291497, 3.1432898379116057, 3.1315734964654043, 3.1354942159291497, 3.1376657694426577, 3.1359289040472746, 3.1458749319837103, 3.1531632815028194, 3.1570004211501135, 3.1557230098629323, 3.142858338444285, 3.1376657694426577, 3.1514531485507664, 3.1633631149379418, 3.1535903581695712, 3.145444546782318, 3.1471649773142003, 3.1467351470905185, 3.159550358783386, 3.1826266921930797, 3.19948911106801, 3.2088254890146994, 3.2100368762009963, 3.2100368762009963, 3.201526186533088, 3.2039652121324464, 3.1830413718589847, 3.167161389181522, 3.169265324314866, 3.1620938107692163, 3.1629401925378975, 3.1629401925378975, 3.1376657694426577, 3.125882958019036, 3.125443880075648, 3.132446096869813, 3.1359289040472746, 3.1346242724206097, 3.139399623366404, 3.133753571451366, 3.132446096869813, 3.1458749319837103, 3.1437211512674406, 3.1432898379116057, 3.1432898379116057, 3.1450139762697455, 3.154443964708812, 3.1620938107692163, 3.1612467120315646, 3.1599747169480397, 3.126321843257593, 3.120159851929043, 3.1170645587215158, 3.108167702883779, 3.120159851929043, 3.1188344706879745, 3.1188344706879745, 3.1072736482868986, 3.1032404812692764, 3.104586678466073, 3.1054831375131102, 3.094219220268645, 3.096029994869355, 3.094219220268645, 3.1036894150590832, 3.0991909819222214, 3.107720775502038, 3.096482176654134, 3.102791345847399, 3.1232455938529506, 3.107720775502038, 3.1023420086122493, 3.1041381473977774, 3.109953417644014, 3.1086144306106633, 3.1072736482868986, 3.110399348532117, 3.104586678466073, 3.102791345847399, 3.0991909819222214, 3.100542637906336, 3.1041381473977774, 3.105035008444441, 3.107720775502038, 3.106826321059578, 3.1250046092581303, 3.12060125559986, 3.119718253334982, 3.1219242987917504, 3.133317936506554, 3.145444546782318, 3.133317936506554, 3.139399623366404, 3.1471649773142003, 3.1548704948922883, 3.1535903581695712, 3.1523085805960878, 3.1535903581695712, 3.128951117340214, 3.1432898379116057, 3.125882958019036, 3.12982600803469, 3.1183922862898785, 3.0991909819222214, 3.0754672415728446, 3.073618812211062, 3.0525850851467737, 3.083743150876704, 3.0878555624297968, 3.0823685802135374, 3.075928815548268, 3.0763901765714454, 3.0726933146901194, 3.0819099697950434, 3.067587710654419, 3.070839746040796, 3.064325065019603, 3.0469005601283903, 3.0378334495726262, 3.0368742168851663, 3.033509637888021, 3.038791763014438, 3.0368742168851663, 3.045474365448805, 3.068517943279639, 3.067122269640664, 3.0638581026015914, 3.041661205442391, 3.0218872310308424, 3.046425387869509, 3.0339909856710814, 3.039749158970765, 3.0411835364579085, 3.038312721089109, 3.0473755067058295, 3.050220458838061, 3.045949989714608, 3.038312721089109, 3.0497468618602293, 3.039749158970765, 3.0392705755684744, 3.0325462466767075, 3.0257763949023677, 2.998229153752578, 3.004692014925463, 3.0061775314155303, 3.0106208860477417, 3.0096351787229825, 3.0076608444192643, 3.0017143452315387, 2.987700101856727, 2.9856819377004897, 2.9796028916241073, 2.972463646614637, 2.9780773383152703, 2.989714201228428, 2.983659692319722, 2.9887076586170265, 2.9932291433358724, 2.990719731730447, 2.982140320034524, 2.9927277645336923, 2.961140828784372, 2.9402195636237325, 2.9533465570575532, 2.947591898226056, 2.942331496826876, 2.949164637737656, 2.9396908826703663, 2.9407479652212314, 2.9391619220655962, 2.934388643312939, 2.9338568698359038, 2.932792473780117, 2.937043277205311, 2.9381031607173544, 2.934388643312939, 2.955430976780465, 2.953868069455292, 2.9575110607337933, 2.978586114719021, 2.9714395809849465, 2.9601050959108397, 2.972463646614637, 3.000222178826843, 2.991222118076105, 2.9816333491744893, 2.9861868607104594, 2.970414465569701, 2.9699015135194693, 2.935982269148217, 2.9096295745005794, 2.9052603703899154, 2.8898160479624417, 2.883682769745368, 2.88703285663065, 2.8920370372152258, 2.8881470628740535, 2.8808824318750488, 2.8604851241459652, 2.8290871961450446, 2.8142103969306005, 2.828496354178077, 2.8118094353930627, 2.7997173896280336, 2.8172035149987327, 2.828496354178077, 2.840247370713596, 2.859912550411456, 2.8570447537800976, 2.8713021951758138, 2.8763855159214247, 2.882003508225648, 2.8981194446869907, 2.9161477942111484, 2.8975680247667595, 2.8425810940598164, 2.845490610223448, 2.833213344056216, 2.847812143477369, 2.8326249356838407, 2.836736542063533, 2.850128299695199, 2.87751164216656, 2.862200880929468, 2.8124102164264526, 2.8735646395797834, 2.8616292890305104, 2.859339648648436, 2.8390784635086144, 2.845490610223448, 2.8320361808832013, 2.850128299695199, 2.872999508171694, 2.8684669225081145, 2.89591193827178, 2.87751164216656, 2.8808824318750488, 2.8881470628740535, 2.88703285663065, 2.884800712846709, 2.87976009730157, 2.8903717578961645, 2.8909271591878647, 2.9030685886905716, 2.8931456847788897, 2.8986705607108596, 2.8920370372152258, 2.8859174075467844, 2.9090844668283187, 2.8970163006148333, 2.859339648648436, 2.8627721462977607, 2.865053949911875, 2.8535925063928684, 2.8237570088141806, 2.7837759116303458, 2.799108932049177, 2.826129489167811, 2.8237570088141806, 2.827905162910489, 2.822568654544802, 2.827905162910489, 2.850128299695199, 2.8786365016777435, 2.8903717578961645, 2.896464271895322, 2.8914822521801917, 2.8931456847788897, 2.8746939451769347, 2.869601996409779, 2.8786365016777435, 2.893699547988839, 2.907447358686419, 2.91180703861623, 2.9019708937395166, 2.916689066213538, 2.9402195636237325, 2.9338568698359038, 2.928523523860541, 2.929592471049446, 2.9279886214674717, 2.9338568698359038, 2.935451342669061, 2.9279886214674717, 2.917770732084279, 2.911263116927541, 2.91180703861623, 2.9085390618516134, 2.89480635496403, 2.9014215940827497, 2.915064370486536, 2.915064370486536, 2.9107188992270343, 2.9052603703899154, 2.91180703861623, 2.917770732084279, 2.9161477942111484, 2.929592471049446, 2.916689066213538, 2.922623801733353, 2.9433857931817817, 2.915064370486536, 2.8925915146344776, 2.918851229218033, 2.91180703861623, 2.91180703861623, 2.9161477942111484, 2.9172300453990334, 2.919930560137709, 2.9386326815134183, 2.9465420293632194, 2.933324813425374, 2.9454910571172443, 2.952302715626655, 2.9590682891823996, 2.958549482426275, 2.944965156500338, 2.9517803860248084, 2.961140828784372, 2.9428587839469227, 2.942331496826876, 2.9402195636237325, 2.9301265164559966, 2.9391619220655962, 2.932792473780117, 2.952302715626655, 2.961140828784372, 2.958549482426275, 2.9657883971809187, 2.9290581402859983, 2.9418039315284354, 2.9595868269176373, 2.9386326815134183, 2.928523523860541, 2.9269179575536315, 2.933324813425374, 2.922085733385692, 2.91235066461494, 2.9079933592459843, 2.91180703861623, 2.906354462402774, 2.906354462402774, 2.9128939952449864, 2.91235066461494, 2.9069010598473755, 2.907447358686419, 2.91235066461494, 2.93651291389402, 2.930660276810276, 2.925309809257445, 2.918851229218033, 2.9052603703899154, 2.8981194446869907, 2.9069010598473755, 2.9107188992270343, 2.89977188240808, 2.9107188992270343, 2.914522218128448, 2.9172300453990334, 2.924236271848921, 2.9231615807191558]}, {\"name\": \"Test\", \"type\": \"scatter\", \"x\": [2317, 2318, 2319, 2320, 2321, 2322, 2323, 2324, 2325, 2326, 2327, 2328, 2329, 2330, 2331, 2332, 2333, 2334, 2335, 2336, 2337, 2338, 2339, 2340, 2341, 2342, 2343, 2344, 2345, 2346, 2347, 2348, 2349, 2350, 2351, 2352, 2353, 2354, 2355, 2356, 2357, 2358, 2359, 2360, 2361, 2362, 2363, 2364, 2365, 2366, 2367, 2368, 2369, 2370, 2371, 2372, 2373, 2374, 2375, 2376, 2377, 2378, 2379, 2380, 2381, 2382, 2383, 2384, 2385, 2386, 2387, 2388, 2389, 2390, 2391, 2392, 2393, 2394, 2395, 2396, 2397, 2398, 2399, 2400, 2401, 2402, 2403, 2404, 2405, 2406, 2407, 2408, 2409, 2410, 2411, 2412, 2413, 2414, 2415, 2416, 2417, 2418, 2419, 2420, 2421, 2422, 2423, 2424, 2425, 2426, 2427, 2428, 2429, 2430, 2431, 2432, 2433, 2434, 2435, 2436, 2437, 2438, 2439, 2440, 2441, 2442, 2443, 2444, 2445, 2446, 2447, 2448, 2449, 2450, 2451, 2452, 2453, 2454, 2455, 2456, 2457, 2458, 2459, 2460, 2461, 2462, 2463, 2464, 2465, 2466, 2467, 2468, 2469, 2470, 2471, 2472, 2473, 2474, 2475, 2476, 2477, 2478, 2479, 2480, 2481, 2482, 2483, 2484, 2485, 2486, 2487, 2488, 2489, 2490, 2491, 2492, 2493, 2494, 2495, 2496, 2497, 2498, 2499, 2500, 2501, 2502, 2503, 2504, 2505, 2506, 2507, 2508, 2509, 2510, 2511, 2512, 2513, 2514, 2515, 2516, 2517, 2518, 2519, 2520, 2521, 2522, 2523, 2524, 2525, 2526, 2527, 2528, 2529, 2530, 2531, 2532, 2533, 2534, 2535, 2536, 2537, 2538, 2539, 2540, 2541, 2542, 2543, 2544, 2545, 2546, 2547, 2548, 2549, 2550, 2551, 2552, 2553, 2554, 2555, 2556, 2557, 2558, 2559, 2560, 2561, 2562, 2563, 2564, 2565, 2566, 2567, 2568, 2569, 2570, 2571, 2572, 2573, 2574, 2575, 2576, 2577, 2578, 2579, 2580, 2581, 2582, 2583, 2584, 2585, 2586, 2587, 2588, 2589, 2590, 2591, 2592, 2593, 2594, 2595, 2596, 2597, 2598, 2599, 2600, 2601, 2602, 2603, 2604, 2605, 2606, 2607, 2608, 2609, 2610, 2611, 2612, 2613, 2614, 2615, 2616, 2617, 2618, 2619, 2620, 2621, 2622, 2623, 2624, 2625, 2626, 2627, 2628, 2629, 2630, 2631, 2632, 2633, 2634, 2635, 2636, 2637, 2638, 2639, 2640, 2641, 2642, 2643, 2644, 2645, 2646, 2647, 2648, 2649, 2650, 2651, 2652, 2653, 2654, 2655, 2656, 2657, 2658, 2659, 2660, 2661, 2662, 2663, 2664, 2665, 2666, 2667, 2668, 2669, 2670, 2671, 2672, 2673, 2674, 2675, 2676, 2677, 2678, 2679, 2680, 2681, 2682, 2683, 2684, 2685, 2686, 2687, 2688, 2689, 2690, 2691, 2692, 2693, 2694, 2695, 2696, 2697, 2698, 2699, 2700, 2701, 2702, 2703, 2704, 2705, 2706, 2707, 2708, 2709, 2710, 2711, 2712, 2713, 2714, 2715, 2716, 2717, 2718, 2719, 2720, 2721, 2722, 2723, 2724, 2725, 2726, 2727, 2728, 2729, 2730, 2731, 2732, 2733, 2734, 2735, 2736, 2737, 2738, 2739, 2740, 2741, 2742, 2743, 2744, 2745, 2746, 2747, 2748, 2749, 2750, 2751, 2752, 2753, 2754, 2755, 2756, 2757, 2758, 2759, 2760, 2761, 2762, 2763, 2764, 2765, 2766, 2767, 2768, 2769, 2770, 2771, 2772, 2773, 2774, 2775, 2776, 2777, 2778, 2779, 2780, 2781, 2782, 2783, 2784, 2785, 2786, 2787, 2788, 2789, 2790, 2791, 2792, 2793, 2794, 2795, 2796, 2797, 2798, 2799, 2800, 2801, 2802, 2803, 2804, 2805, 2806, 2807, 2808, 2809, 2810, 2811, 2812, 2813, 2814, 2815, 2816, 2817, 2818, 2819, 2820, 2821, 2822, 2823, 2824, 2825, 2826, 2827, 2828, 2829, 2830, 2831, 2832, 2833, 2834, 2835, 2836, 2837, 2838, 2839, 2840, 2841, 2842, 2843, 2844, 2845, 2846, 2847, 2848, 2849, 2850, 2851, 2852, 2853, 2854, 2855, 2856, 2857, 2858, 2859, 2860, 2861, 2862, 2863, 2864, 2865, 2866, 2867, 2868, 2869, 2870, 2871, 2872, 2873, 2874, 2875, 2876, 2877, 2878, 2879, 2880, 2881, 2882, 2883, 2884, 2885, 2886, 2887, 2888, 2889, 2890, 2891, 2892, 2893, 2894, 2895], \"y\": [2.915064370486536, 2.9069010598473755, 2.9156062290747062, 2.919930560137709, 2.9269179575536315, 2.928523523860541, 2.9349201341572337, 2.962692419475791, 2.9569914452375605, 2.9601050959108397, 2.9668182633893485, 2.968874819384108, 2.9745086371023644, 2.9826470340053355, 2.982140320034524, 2.9871959425317045, 2.9987277825337895, 3.001217203784561, 2.9992261628082466, 2.9882040071331994, 2.9806186357439426, 2.9801108926510342, 2.9801108926510342, 2.9801108926510342, 2.9811261211646287, 2.983659692319722, 2.994231147427724, 2.991222118076105, 2.9932291433358724, 2.991724252156452, 2.9947317732204075, 2.995732273553991, 2.9927277645336923, 2.9882040071331994, 2.9856819377004897, 2.9927277645336923, 2.9932291433358724, 2.987700101856727, 2.9882040071331994, 2.990719731730447, 2.987700101856727, 2.9932291433358724, 2.9902170928658807, 2.991724252156452, 2.993730270883318, 2.995232148512309, 2.995732273553991, 2.9932291433358724, 2.9861868607104594, 3.006672213592325, 3.013080911888604, 3.0086484988205373, 3.0145540277945786, 3.013572191682322, 3.0155349008501706, 3.01651481273652, 3.017982882488811, 3.0281994636914926, 3.027715319407042, 3.038791763014438, 3.0392705755684744, 3.0378334495726262, 3.039749158970765, 3.0392705755684744, 3.031099417391282, 3.0291670496402285, 3.0601145324832593, 3.0773122605464143, 3.067587710654419, 3.0666566118906893, 3.0661907372025525, 3.067122269640664, 3.0819099697950434, 3.0832851705618523, 3.092405160814252, 3.100992784211484, 3.0878555624297968, 3.1018924693823817, 3.1018924693823817, 3.114847754444153, 3.1175073304799117, 3.121483478859551, 3.1250046092581303, 3.121483478859551, 3.1175073304799117, 3.119276459645446, 3.12060125559986, 3.108167702883779, 3.1166215908294443, 3.1232455938529506, 3.1276373444339294, 3.125443880075648, 3.125443880075648, 3.1250046092581303, 3.120159851929043, 3.12060125559986, 3.0955776085237066, 3.100992784211484, 3.0996417369445024, 3.0996417369445024, 3.104586678466073, 3.0878555624297968, 3.075005454448499, 3.0638581026015914, 3.071303460401065, 3.0661907372025525, 3.0722302445267164, 3.0819099697950434, 3.0883114548470845, 3.080073421987742, 3.0791538816930633, 3.0851158346886765, 3.092858984284714, 3.108167702883779, 3.1188344706879745, 3.138966441639899, 3.150596984114906, 3.164630810015805, 3.1608228934195837, 3.171364842197149, 3.1763857732472487, 3.1822118404966093, 3.1888289035159043, 3.1855258451866466, 3.1855258451866466, 3.1747149290824312, 3.1871787381249463, 3.188416617383492, 3.2128577525426376, 3.2072080200005186, 3.1949928844048685, 3.208017081533325, 3.205993199037187, 3.20761263258949, 3.2164729402518906, 3.223664341599998, 3.217274543501227, 3.205993199037187, 3.217675104291682, 3.228430037673012, 3.2011191032789417, 3.19744787745458, 3.1986731175506815, 3.2068032436339315, 3.205993199037187, 3.212455257065278, 3.2100368762009963, 3.2128577525426376, 3.1970391302590264, 3.1921210875593813, 3.196630215920881, 3.1933528676371155, 3.194173212227829, 3.1990811975400213, 3.22525543183224, 3.2414197893030954, 3.2437635403759804, 3.264995760481754, 3.2634667081960758, 3.264231526588998, 3.2726061472891685, 3.2699490950522008, 3.279406324608233, 3.285038027121869, 3.295836866004329, 3.3043193066856684, 3.313822302177155, 3.3243163373261977, 3.318540147981146, 3.3170908723651555, 3.3178157727231046, 3.3210713371828704, 3.329343277894172, 3.3350575791576103, 3.3769046890931107, 3.3833727967496032, 3.411807560774171, 3.4151002868311466, 3.4262151446374434, 3.427189961936409, 3.435598808379488, 3.4534735262275262, 3.4522073025699003, 3.4474446328274753, 3.461665128429245, 3.452524008827496, 3.4407385562826884, 3.436564525499447, 3.4200191359027436, 3.3551534431607486, 3.3816747151732915, 3.4075107437187473, 3.449987545831587, 3.4388142452334622, 3.426865128410733, 3.3488509012899463, 3.3210713371828704, 3.2910104226273997, 3.1608228934195837, 3.2492110246642736, 3.1717842173343502, 3.254242968705492, 3.170945291110651, 3.2188758248682006, 3.1018924693823817, 2.9090844668283187, 3.055886196373738, 3.19948911106801, 3.230804395733475, 3.2264470903645193, 3.19948911106801, 3.2188758248682006, 3.2031528644029645, 3.2168738221975275, 3.18179681662678, 3.285038027121869, 3.306520334720247, 3.3253956682458736, 3.3575937441800234, 3.334701390373791, 3.34603697048488, 3.3090820927543496, 3.3235961356386037, 3.3361253849184407, 3.283539338193923, 3.263849190510932, 3.2924979647388146, 3.305787196857497, 3.2913825156549485, 3.3318473035273626, 3.312001802857684, 3.3250360206965914, 3.2939832973550063, 3.2928695047765273, 3.3032169733019514, 3.3264738354662193, 3.3894621254437345, 3.3796332037463146, 3.391820219849558, 3.3975239762958465, 3.3847291889548488, 3.351656936102019, 3.3488509012899463, 3.3446270301737613, 3.3575937441800234, 3.3386125064705343, 3.3196257279683437, 3.334701390373791, 3.3178157727231046, 3.3207101307494686, 3.3210713371828704, 3.342861804649192, 3.3551534431607486, 3.3368366225017656, 3.3386125064705343, 3.3600281046240843, 3.361069590571376, 3.3614165116503107, 3.3593331775634563, 3.349904087274605, 3.358289880650879, 3.2924979647388146, 3.312730400339825, 3.343568268825519, 3.351306612048691, 3.3775875160230218, 3.4141136069287015, 3.4151002868311466, 3.3921566370100065, 3.3775875160230218, 3.3717685709713434, 3.391820219849558, 3.369362658142137, 3.401863826205316, 3.4307561839036995, 3.4445761049641, 3.4509394735569696, 3.4619788539220138, 3.4769230921902907, 3.4763048541489607, 3.479700443150099, 3.475067230228611, 3.488902962081261, 3.52311998561896, 3.551053137206533, 3.542407550213679, 3.5536323047059106, 3.5533460588187404, 3.551053137206533, 3.531055368920369, 3.547027829873695, 3.5336865647082343, 3.540089380528774, 3.5284172316728752, 3.537765824444175, 3.545874759696932, 3.5536323047059106, 3.554776469590456, 3.544431549748063, 3.5183876490735586, 3.5553480614894135, 3.5325179989895132, 3.521643534738023, 3.494384096388273, 3.499231121933521, 3.499231121933521, 3.499231121933521, 3.502549875922443, 3.4983240923928776, 3.488902962081261, 3.505557396986398, 3.501645852958961, 3.5157158351047473, 3.5076572927632825, 3.501645852958961, 3.497113438491982, 3.5115454388310208, 3.5052570515869337, 3.506457892319648, 3.4959013171314526, 3.482470101790892, 3.4946877247494936, 3.5157158351047473, 3.5049566159530077, 3.5133348815990053, 3.5234150143864045, 3.5467396869528134, 3.543853682063679, 3.544431549748063, 3.5522002551986827, 3.549042508926137, 3.581850881355413, 3.561897992353146, 3.5681232529781366, 3.5923685537330927, 3.613886475072506, 3.6386382376771897, 3.6503984672956546, 3.6788291182604347, 3.675540889674756, 3.6921241842788253, 3.6975913947159578, 3.7268975213014572, 3.7232808808312687, 3.7431308689458525, 3.740997408376043, 3.740997408376043, 3.7431308689458525, 3.759104899003433, 3.738859386418957, 3.7381456954168546, 3.7340917969354845, 3.695855067850362, 3.688629422858727, 3.6816030451431603, 3.6732580732109796, 3.6506582412937387, 3.665098925448533, 3.657130755799356, 3.6696966346971625, 3.6871279210751298, 3.676300671907076, 3.688629422858727, 3.695606774863363, 3.675794214565281, 3.6462328793924637, 3.652734007477583, 3.6783239401744194, 3.6712245188752153, 3.6501386257975055, 3.6540291766781894, 3.6449275665847534, 3.636796374243711, 3.6691868207682004, 3.6848714327163976, 3.680595234526239, 3.6916256797819615, 3.6888794541139363, 3.6998193941522706, 3.714547200862514, 3.7013019741124933, 3.685373314784649, 3.6876286722122837, 3.679586407202344, 3.676300671907076, 3.6666338451666167, 3.6625354787743345, 3.6436205477083212, 3.6686767467964168, 3.674526947889536, 3.6699514442284173, 3.6724959748634123, 3.688129172723232, 3.6936182084611096, 3.6871279210751298, 3.765145809567386, 3.7975096186393853, 3.827553848801696, 3.8450281366038674, 3.864302269216734, 3.8552409913291616, 3.8792931808052273, 3.861571461932048, 3.904998390491182, 3.9589065913269965, 4.012953724006587, 4.01764348729183, 4.018003328965378, 4.014579593753238, 3.9725535051681784, 3.9900945408483017, 3.966511190712216, 3.9684033388642534, 3.95718755738252, 3.9847156908215866, 4.002229273314295, 4.0033251638349325, 3.967646909176143, 3.906004933102583, 3.910622024512518, 3.9154172384961616, 3.9047969603364066, 3.8979240810486444, 3.891207865714226, 3.9001528328576587, 3.9247417778359206, 3.920586236088634, 3.8844462376579116, 3.8809450498572846, 3.883417748417812, 3.855664271758762, 3.8316802527456075, 3.8279890098181366, 3.811318301306514, 3.8179320820285505, 3.7679216614538893, 3.7400477406883357, 3.738859386418957, 3.7302612918927056, 3.790533107840436, 3.783052624131186, 3.76861442213279, 3.7074558396868715, 3.700313831739599, 3.6838669122903918, 3.65687265797885, 3.696351468952637, 3.6965995771290743, 3.7278597537548204, 3.7177098357818132, 3.7140597526442347, 3.696103299203256, 3.667400422436812, 3.6179203651734424, 3.5997749790311153, 3.6189933266497696, 3.6304555339762192, 3.602231647388264, 3.6506582412937387, 3.6653549090669792, 3.6790816116338254, 3.6735119769828146, 3.6768068728796672, 3.7285808209654885, 3.700066643504501, 3.730740908208854, 3.721588628523641, 3.7067193722422673, 3.74879794432518, 3.7539647007698704, 3.759104899003433, 3.7546671946519394, 3.7628266990660193, 3.77413929806476, 3.7089271494177143, 3.7421832261362473, 3.756538102587751, 3.7556030861568446, 3.7621299158535293, 3.7395725684294545, 3.7297814454343623, 3.7230393057606412, 3.7064737625148876, 3.6737658163038884, 3.6485781573404106, 3.6256733782101436, 3.612808017162641, 3.581850881355413, 3.586015818654697, 3.584906863730958, 3.5684053006460617, 3.5452977256359124, 3.5567756134805992, 3.5553480614894135, 3.549904701823348, 3.5898875049069856, 3.6160399079369787, 3.6149637711637683, 3.6068556186353455, 3.594568774642695, 3.609565647394211, 3.6160399079369787, 3.606312730456974, 3.6144252681889886, 3.6109179126442243, 3.612808017162641, 3.62886402170395, 3.6280673147171787, 3.6197972929264925, 3.623540612805596, 3.6230067099632284, 3.6519561000093383, 3.6483178423578133, 3.6735119769828146, 3.643358938812127, 3.6691868207682004, 3.654546775033431, 3.6509179478268177, 3.653511310276145, 3.654546775033431, 3.6470152500152375, 3.6238074573702215, 3.6160399079369787, 3.6251406131469297, 3.636796374243711, 3.630985475695034, 3.666378188767423, 3.6597080768136565, 3.6689318163042404, 3.6747805297344347, 3.6516966629862204, 3.6410013738694724, 3.6315151367243654, 3.6331024386449378, 3.62886402170395, 3.609294974771094, 3.6222053208459437, 3.6280673147171787, 3.636796374243711, 3.6381123370602833, 3.643358938812127, 3.6436205477083212, 3.6357423557008075, 3.64597195310266, 3.658935577740864, 3.647536490579554, 3.6704608685899185, 3.6686767467964168, 3.6488384045767526, 3.663818023518565, 3.6470152500152375, 3.6428355156125294, 3.6125382208572137, 3.594568774642695, 3.584629432740137, 3.5937442589988975, 3.6027767550605247, 3.610647605844363, 3.6041382256588457, 3.6133473915014993, 3.628598523229006, 3.627801604605346, 3.6373229671995344, 3.6333667441836774, 3.6320445173613978, 3.6430972614588084, 3.6464937376174986, 3.6550641056192057, 3.6808472824166723, 3.681351187693145, 3.6901286735143684, 3.6818548391769723, 3.670715483486265, 3.6709700335703683, 3.6615082573178044, 3.654805473780185, 3.666889436222321, 3.6686767467964168, 3.6622787723167574]}, {\"name\": \"Predict\", \"type\": \"scatter\", \"x\": [2850, 2851, 2852, 2853, 2854], \"y\": [3.470705509185791, 3.443459987640381, 3.424234390258789, 3.414137125015259, 3.4227991104125977]}],\n",
              "                        {\"template\": {\"data\": {\"bar\": [{\"error_x\": {\"color\": \"#2a3f5f\"}, \"error_y\": {\"color\": \"#2a3f5f\"}, \"marker\": {\"line\": {\"color\": \"#E5ECF6\", \"width\": 0.5}}, \"type\": \"bar\"}], \"barpolar\": [{\"marker\": {\"line\": {\"color\": \"#E5ECF6\", \"width\": 0.5}}, \"type\": \"barpolar\"}], \"carpet\": [{\"aaxis\": {\"endlinecolor\": \"#2a3f5f\", \"gridcolor\": \"white\", \"linecolor\": \"white\", \"minorgridcolor\": \"white\", \"startlinecolor\": \"#2a3f5f\"}, \"baxis\": {\"endlinecolor\": \"#2a3f5f\", \"gridcolor\": \"white\", \"linecolor\": \"white\", \"minorgridcolor\": \"white\", \"startlinecolor\": \"#2a3f5f\"}, \"type\": \"carpet\"}], \"choropleth\": [{\"colorbar\": {\"outlinewidth\": 0, \"ticks\": \"\"}, \"type\": \"choropleth\"}], \"contour\": [{\"colorbar\": {\"outlinewidth\": 0, \"ticks\": \"\"}, \"colorscale\": [[0.0, \"#0d0887\"], [0.1111111111111111, \"#46039f\"], [0.2222222222222222, \"#7201a8\"], [0.3333333333333333, \"#9c179e\"], [0.4444444444444444, \"#bd3786\"], [0.5555555555555556, \"#d8576b\"], [0.6666666666666666, \"#ed7953\"], [0.7777777777777778, \"#fb9f3a\"], [0.8888888888888888, \"#fdca26\"], [1.0, \"#f0f921\"]], \"type\": \"contour\"}], \"contourcarpet\": [{\"colorbar\": {\"outlinewidth\": 0, \"ticks\": \"\"}, \"type\": \"contourcarpet\"}], \"heatmap\": [{\"colorbar\": {\"outlinewidth\": 0, \"ticks\": \"\"}, \"colorscale\": [[0.0, \"#0d0887\"], [0.1111111111111111, \"#46039f\"], [0.2222222222222222, \"#7201a8\"], [0.3333333333333333, \"#9c179e\"], [0.4444444444444444, \"#bd3786\"], [0.5555555555555556, \"#d8576b\"], [0.6666666666666666, \"#ed7953\"], [0.7777777777777778, \"#fb9f3a\"], [0.8888888888888888, \"#fdca26\"], [1.0, \"#f0f921\"]], \"type\": \"heatmap\"}], \"heatmapgl\": [{\"colorbar\": {\"outlinewidth\": 0, \"ticks\": \"\"}, \"colorscale\": [[0.0, \"#0d0887\"], [0.1111111111111111, \"#46039f\"], [0.2222222222222222, \"#7201a8\"], [0.3333333333333333, \"#9c179e\"], [0.4444444444444444, \"#bd3786\"], [0.5555555555555556, \"#d8576b\"], [0.6666666666666666, \"#ed7953\"], [0.7777777777777778, \"#fb9f3a\"], [0.8888888888888888, \"#fdca26\"], [1.0, \"#f0f921\"]], \"type\": \"heatmapgl\"}], \"histogram\": [{\"marker\": {\"colorbar\": {\"outlinewidth\": 0, \"ticks\": \"\"}}, \"type\": \"histogram\"}], \"histogram2d\": [{\"colorbar\": {\"outlinewidth\": 0, \"ticks\": \"\"}, \"colorscale\": [[0.0, \"#0d0887\"], [0.1111111111111111, \"#46039f\"], [0.2222222222222222, \"#7201a8\"], [0.3333333333333333, \"#9c179e\"], [0.4444444444444444, \"#bd3786\"], [0.5555555555555556, \"#d8576b\"], [0.6666666666666666, \"#ed7953\"], [0.7777777777777778, \"#fb9f3a\"], [0.8888888888888888, \"#fdca26\"], [1.0, \"#f0f921\"]], \"type\": \"histogram2d\"}], \"histogram2dcontour\": [{\"colorbar\": {\"outlinewidth\": 0, \"ticks\": \"\"}, \"colorscale\": [[0.0, \"#0d0887\"], [0.1111111111111111, \"#46039f\"], [0.2222222222222222, \"#7201a8\"], [0.3333333333333333, \"#9c179e\"], [0.4444444444444444, \"#bd3786\"], [0.5555555555555556, \"#d8576b\"], [0.6666666666666666, \"#ed7953\"], [0.7777777777777778, \"#fb9f3a\"], [0.8888888888888888, \"#fdca26\"], [1.0, \"#f0f921\"]], \"type\": \"histogram2dcontour\"}], \"mesh3d\": [{\"colorbar\": {\"outlinewidth\": 0, \"ticks\": \"\"}, \"type\": \"mesh3d\"}], \"parcoords\": [{\"line\": {\"colorbar\": {\"outlinewidth\": 0, \"ticks\": \"\"}}, \"type\": \"parcoords\"}], \"pie\": [{\"automargin\": true, \"type\": \"pie\"}], \"scatter\": [{\"marker\": {\"colorbar\": {\"outlinewidth\": 0, \"ticks\": \"\"}}, \"type\": \"scatter\"}], \"scatter3d\": [{\"line\": {\"colorbar\": {\"outlinewidth\": 0, \"ticks\": \"\"}}, \"marker\": {\"colorbar\": {\"outlinewidth\": 0, \"ticks\": \"\"}}, \"type\": \"scatter3d\"}], \"scattercarpet\": [{\"marker\": {\"colorbar\": {\"outlinewidth\": 0, \"ticks\": \"\"}}, \"type\": \"scattercarpet\"}], \"scattergeo\": [{\"marker\": {\"colorbar\": {\"outlinewidth\": 0, \"ticks\": \"\"}}, \"type\": \"scattergeo\"}], \"scattergl\": [{\"marker\": {\"colorbar\": {\"outlinewidth\": 0, \"ticks\": \"\"}}, \"type\": \"scattergl\"}], \"scattermapbox\": [{\"marker\": {\"colorbar\": {\"outlinewidth\": 0, \"ticks\": \"\"}}, \"type\": \"scattermapbox\"}], \"scatterpolar\": [{\"marker\": {\"colorbar\": {\"outlinewidth\": 0, \"ticks\": \"\"}}, \"type\": \"scatterpolar\"}], \"scatterpolargl\": [{\"marker\": {\"colorbar\": {\"outlinewidth\": 0, \"ticks\": \"\"}}, \"type\": \"scatterpolargl\"}], \"scatterternary\": [{\"marker\": {\"colorbar\": {\"outlinewidth\": 0, \"ticks\": \"\"}}, \"type\": \"scatterternary\"}], \"surface\": [{\"colorbar\": {\"outlinewidth\": 0, \"ticks\": \"\"}, \"colorscale\": [[0.0, \"#0d0887\"], [0.1111111111111111, \"#46039f\"], [0.2222222222222222, \"#7201a8\"], [0.3333333333333333, \"#9c179e\"], [0.4444444444444444, \"#bd3786\"], [0.5555555555555556, \"#d8576b\"], [0.6666666666666666, \"#ed7953\"], [0.7777777777777778, \"#fb9f3a\"], [0.8888888888888888, \"#fdca26\"], [1.0, \"#f0f921\"]], \"type\": \"surface\"}], \"table\": [{\"cells\": {\"fill\": {\"color\": \"#EBF0F8\"}, \"line\": {\"color\": \"white\"}}, \"header\": {\"fill\": {\"color\": \"#C8D4E3\"}, \"line\": {\"color\": \"white\"}}, \"type\": \"table\"}]}, \"layout\": {\"annotationdefaults\": {\"arrowcolor\": \"#2a3f5f\", \"arrowhead\": 0, \"arrowwidth\": 1}, \"coloraxis\": {\"colorbar\": {\"outlinewidth\": 0, \"ticks\": \"\"}}, \"colorscale\": {\"diverging\": [[0, \"#8e0152\"], [0.1, \"#c51b7d\"], [0.2, \"#de77ae\"], [0.3, \"#f1b6da\"], [0.4, \"#fde0ef\"], [0.5, \"#f7f7f7\"], [0.6, \"#e6f5d0\"], [0.7, \"#b8e186\"], [0.8, \"#7fbc41\"], [0.9, \"#4d9221\"], [1, \"#276419\"]], \"sequential\": [[0.0, \"#0d0887\"], [0.1111111111111111, \"#46039f\"], [0.2222222222222222, \"#7201a8\"], [0.3333333333333333, \"#9c179e\"], [0.4444444444444444, \"#bd3786\"], [0.5555555555555556, \"#d8576b\"], [0.6666666666666666, \"#ed7953\"], [0.7777777777777778, \"#fb9f3a\"], [0.8888888888888888, \"#fdca26\"], [1.0, \"#f0f921\"]], \"sequentialminus\": [[0.0, \"#0d0887\"], [0.1111111111111111, \"#46039f\"], [0.2222222222222222, \"#7201a8\"], [0.3333333333333333, \"#9c179e\"], [0.4444444444444444, \"#bd3786\"], [0.5555555555555556, \"#d8576b\"], [0.6666666666666666, \"#ed7953\"], [0.7777777777777778, \"#fb9f3a\"], [0.8888888888888888, \"#fdca26\"], [1.0, \"#f0f921\"]]}, \"colorway\": [\"#636efa\", \"#EF553B\", \"#00cc96\", \"#ab63fa\", \"#FFA15A\", \"#19d3f3\", \"#FF6692\", \"#B6E880\", \"#FF97FF\", \"#FECB52\"], \"font\": {\"color\": \"#2a3f5f\"}, \"geo\": {\"bgcolor\": \"white\", \"lakecolor\": \"white\", \"landcolor\": \"#E5ECF6\", \"showlakes\": true, \"showland\": true, \"subunitcolor\": \"white\"}, \"hoverlabel\": {\"align\": \"left\"}, \"hovermode\": \"closest\", \"mapbox\": {\"style\": \"light\"}, \"paper_bgcolor\": \"white\", \"plot_bgcolor\": \"#E5ECF6\", \"polar\": {\"angularaxis\": {\"gridcolor\": \"white\", \"linecolor\": \"white\", \"ticks\": \"\"}, \"bgcolor\": \"#E5ECF6\", \"radialaxis\": {\"gridcolor\": \"white\", \"linecolor\": \"white\", \"ticks\": \"\"}}, \"scene\": {\"xaxis\": {\"backgroundcolor\": \"#E5ECF6\", \"gridcolor\": \"white\", \"gridwidth\": 2, \"linecolor\": \"white\", \"showbackground\": true, \"ticks\": \"\", \"zerolinecolor\": \"white\"}, \"yaxis\": {\"backgroundcolor\": \"#E5ECF6\", \"gridcolor\": \"white\", \"gridwidth\": 2, \"linecolor\": \"white\", \"showbackground\": true, \"ticks\": \"\", \"zerolinecolor\": \"white\"}, \"zaxis\": {\"backgroundcolor\": \"#E5ECF6\", \"gridcolor\": \"white\", \"gridwidth\": 2, \"linecolor\": \"white\", \"showbackground\": true, \"ticks\": \"\", \"zerolinecolor\": \"white\"}}, \"shapedefaults\": {\"line\": {\"color\": \"#2a3f5f\"}}, \"ternary\": {\"aaxis\": {\"gridcolor\": \"white\", \"linecolor\": \"white\", \"ticks\": \"\"}, \"baxis\": {\"gridcolor\": \"white\", \"linecolor\": \"white\", \"ticks\": \"\"}, \"bgcolor\": \"#E5ECF6\", \"caxis\": {\"gridcolor\": \"white\", \"linecolor\": \"white\", \"ticks\": \"\"}}, \"title\": {\"x\": 0.05}, \"xaxis\": {\"automargin\": true, \"gridcolor\": \"white\", \"linecolor\": \"white\", \"ticks\": \"\", \"title\": {\"standoff\": 15}, \"zerolinecolor\": \"white\", \"zerolinewidth\": 2}, \"yaxis\": {\"automargin\": true, \"gridcolor\": \"white\", \"linecolor\": \"white\", \"ticks\": \"\", \"title\": {\"standoff\": 15}, \"zerolinecolor\": \"white\", \"zerolinewidth\": 2}}}},\n",
              "                        {\"responsive\": true}\n",
              "                    ).then(function(){\n",
              "                            \n",
              "var gd = document.getElementById('7be2d971-c2f7-419e-b56e-b6c43297a47e');\n",
              "var x = new MutationObserver(function (mutations, observer) {{\n",
              "        var display = window.getComputedStyle(gd).display;\n",
              "        if (!display || display === 'none') {{\n",
              "            console.log([gd, 'removed!']);\n",
              "            Plotly.purge(gd);\n",
              "            observer.disconnect();\n",
              "        }}\n",
              "}});\n",
              "\n",
              "// Listen for the removal of the full notebook cells\n",
              "var notebookContainer = gd.closest('#notebook-container');\n",
              "if (notebookContainer) {{\n",
              "    x.observe(notebookContainer, {childList: true});\n",
              "}}\n",
              "\n",
              "// Listen for the clearing of the current output cell\n",
              "var outputEl = gd.closest('.output');\n",
              "if (outputEl) {{\n",
              "    x.observe(outputEl, {childList: true});\n",
              "}}\n",
              "\n",
              "                        })\n",
              "                };\n",
              "                \n",
              "            </script>\n",
              "        </div>\n",
              "</body>\n",
              "</html>"
            ]
          },
          "metadata": {}
        },
        {
          "output_type": "stream",
          "name": "stdout",
          "text": [
            "533 2317 579 2850\n"
          ]
        },
        {
          "output_type": "execute_result",
          "data": {
            "text/html": [
              "<div>\n",
              "<style scoped>\n",
              "    .dataframe tbody tr th:only-of-type {\n",
              "        vertical-align: middle;\n",
              "    }\n",
              "\n",
              "    .dataframe tbody tr th {\n",
              "        vertical-align: top;\n",
              "    }\n",
              "\n",
              "    .dataframe thead th {\n",
              "        text-align: right;\n",
              "    }\n",
              "</style>\n",
              "<table border=\"1\" class=\"dataframe\">\n",
              "  <thead>\n",
              "    <tr style=\"text-align: right;\">\n",
              "      <th></th>\n",
              "      <th>price</th>\n",
              "    </tr>\n",
              "    <tr>\n",
              "      <th>idx</th>\n",
              "      <th></th>\n",
              "    </tr>\n",
              "  </thead>\n",
              "  <tbody>\n",
              "    <tr>\n",
              "      <th>2850</th>\n",
              "      <td>3.470706</td>\n",
              "    </tr>\n",
              "    <tr>\n",
              "      <th>2851</th>\n",
              "      <td>3.443460</td>\n",
              "    </tr>\n",
              "    <tr>\n",
              "      <th>2852</th>\n",
              "      <td>3.424234</td>\n",
              "    </tr>\n",
              "    <tr>\n",
              "      <th>2853</th>\n",
              "      <td>3.414137</td>\n",
              "    </tr>\n",
              "    <tr>\n",
              "      <th>2854</th>\n",
              "      <td>3.422799</td>\n",
              "    </tr>\n",
              "  </tbody>\n",
              "</table>\n",
              "</div>"
            ],
            "text/plain": [
              "         price\n",
              "idx           \n",
              "2850  3.470706\n",
              "2851  3.443460\n",
              "2852  3.424234\n",
              "2853  3.414137\n",
              "2854  3.422799"
            ]
          },
          "metadata": {},
          "execution_count": 42
        }
      ]
    },
    {
      "cell_type": "markdown",
      "metadata": {
        "id": "m7tE_itGbKB4"
      },
      "source": [
        "# Hyperparameter Tuning"
      ]
    },
    {
      "cell_type": "code",
      "metadata": {
        "id": "Rh1Faq5P8BgX"
      },
      "source": [
        "def build_tuner_model(hp):\n",
        "  \"\"\"\n",
        "  \"\"\"\n",
        "  # Clear previous session\n",
        "  backend.clear_session()\n",
        "\n",
        "  # searchable parameters\n",
        "  lstm_nodes    = hp.Choice('lstm_units',values=LSTM_UNITS)\n",
        "  dense_nodes   = hp.Choice('dense_units',values=DENSE)\n",
        "  dropout_lstm  = hp.Choice('lstm_dropout',values=DROPOUT_LSTM)\n",
        "  dropout_dense = hp.Choice('dense_dropout',values=DROPOUT_DENSE)\n",
        "  learn_rate    = hp.Choice('learn_rate',values = LEARN_RATE)\n",
        "\n",
        "\n",
        "  # LSTM Model+ first layer\n",
        "  model = Sequential()\n",
        "  model.add(LSTM(N_STEPS,return_sequences=True,input_shape=(N_STEPS,N_FEATURES)))\n",
        "\n",
        "\n",
        "  # add layers\n",
        "  model.add(LSTM(units=lstm_nodes,return_sequences=True))\n",
        "  model.add(Dropout(dropout_lstm))\n",
        "  model.add(LSTM(lstm_nodes//2,return_sequences=False))\n",
        "  model.add(Dropout(max(0.1,dropout_lstm//2)))\n",
        "  model.add(Dense(units=dense_nodes))\n",
        "  model.add(Dropout(dropout_dense))\n",
        "  model.add(Dense(dense_nodes//2))\n",
        "  model.add(Dropout(max(0.1,dropout_dense//2)))\n",
        "\n",
        "  # add prediction layer\n",
        "  model.add(Dense(5))\n",
        "\n",
        "  # compile\n",
        "  model.compile(loss='mse',optimizer =tensorflow.keras.optimizers.Adam(lr=learn_rate))\n",
        "  model.summary()\n",
        "\n",
        "  return model"
      ],
      "execution_count": 139,
      "outputs": []
    },
    {
      "cell_type": "code",
      "metadata": {
        "colab": {
          "base_uri": "https://localhost:8080/"
        },
        "id": "R1vPCgLTbRsi",
        "outputId": "8919a12c-d714-4f26-b274-cb076c7bd6cc"
      },
      "source": [
        "# batch_size\n",
        "# epochs\n",
        "\n",
        "# Searchable hyperparameters\n",
        "LSTM_UNITS    = [32,64,128,256,512]\n",
        "DENSE         = [32,64,128,256,512]\n",
        "DROPOUT_LSTM  = [0.1,0.20,0.3,0.50]\n",
        "DROPOUT_DENSE = [0.1,0.20,0.3,0.50]\n",
        "N_FEATURES    = x_train.shape[2]\n",
        "N_STEPS       = config['data']['n_steps']\n",
        "N_PREDICT     = config['data']['n_predict']\n",
        "LEARN_RATE    = [0.001,0.0001]\n",
        "\n",
        "# initialize\n",
        "hp = kt.HyperParameters()\n",
        "batch_size = hp.Int('batch_size',32,256,step=32)\n",
        "\n",
        "# Setup the Tuner\n",
        "tuner = Hyperband(\n",
        "    build_tuner_model,\n",
        "    max_epochs = 50,\n",
        "    objective = 'val_loss',\n",
        "    directory = 'tune_hyperband',\n",
        "    project_name = 'prices_tune_hyperband',\n",
        "    overwrite = True\n",
        ")\n",
        "\n",
        "# Implement early stopping\n",
        "stop_early = tf.keras.callbacks.EarlyStopping(monitor='val_loss', patience=5)\n",
        "\n",
        "\n",
        "# Perform hyper\n",
        "tuner.search(x_train,\n",
        "             y_train,\n",
        "             batch_size = 128,\n",
        "             epochs = 50,\n",
        "             validation_split=0.10,\n",
        "             callbacks=[stop_early]\n",
        ")\n",
        "\n",
        "\n",
        "\n",
        "# Get the optimal hyperparameters\n",
        "best_hps=tuner.get_best_hyperparameters(num_trials=1)[0]\n",
        "best_model = tuner.get_best_models(num_models=1)[0]\n",
        "\n",
        "print(\"Hyperparmeter Search\")\n",
        "print(\"=\"*60)\n",
        "print(f\"First LSTM Node Size:          {best_hps.get('lstm_units')}\")\n",
        "print(f\"First LSTM Dropout Rate:       {best_hps.get('lstm_dropout')}\")\n",
        "print(f\"Second LSTM Node Size:         {best_hps.get('lstm_units')//2}\")\n",
        "print(f\"Second LSTM Dropout Rate:      {max(0.1,best_hps.get('lstm_dropout')//2)}\")\n",
        "print(f\"First Dense Node Size:         {best_hps.get('dense_units')}\")\n",
        "print(f\"First Dense Node Droput Rate:  {best_hps.get('dense_dropout')}\")\n",
        "print(f\"Second Dense Node Size:        {best_hps.get('dense_units')//2}\")\n",
        "print(f\"Second Dense Node Dropout Rate:{max(0.1,best_hps.get('dense_dropout')//2)}\")\n",
        "print(f\"Learning Rate:                 {best_hps.get('learn_rate')}\")\n",
        "\n",
        "\n",
        "print('\\n\\n')\n",
        "# show the optimal hyperparameters\n",
        "tuner.oracle.get_best_trials(num_trials=1)[0].hyperparameters.values\n"
      ],
      "execution_count": 128,
      "outputs": [
        {
          "output_type": "stream",
          "name": "stdout",
          "text": [
            "Trial 21 Complete [00h 00m 22s]\n",
            "val_loss: 0.004178881645202637\n",
            "\n",
            "Best val_loss So Far: 0.001735389232635498\n",
            "Total elapsed time: 00h 06m 50s\n",
            "INFO:tensorflow:Oracle triggered exit\n"
          ]
        },
        {
          "output_type": "stream",
          "name": "stderr",
          "text": [
            "INFO:tensorflow:Oracle triggered exit\n"
          ]
        },
        {
          "output_type": "stream",
          "name": "stdout",
          "text": [
            "Model: \"sequential\"\n",
            "_________________________________________________________________\n",
            "Layer (type)                 Output Shape              Param #   \n",
            "=================================================================\n",
            "lstm (LSTM)                  (None, 40, 40)            11040     \n",
            "_________________________________________________________________\n",
            "lstm_1 (LSTM)                (None, 40, 64)            26880     \n",
            "_________________________________________________________________\n",
            "dropout (Dropout)            (None, 40, 64)            0         \n",
            "_________________________________________________________________\n",
            "lstm_2 (LSTM)                (None, 32)                12416     \n",
            "_________________________________________________________________\n",
            "dropout_1 (Dropout)          (None, 32)                0         \n",
            "_________________________________________________________________\n",
            "dense (Dense)                (None, 32)                1056      \n",
            "_________________________________________________________________\n",
            "dropout_2 (Dropout)          (None, 32)                0         \n",
            "_________________________________________________________________\n",
            "dense_1 (Dense)              (None, 16)                528       \n",
            "_________________________________________________________________\n",
            "dropout_3 (Dropout)          (None, 16)                0         \n",
            "_________________________________________________________________\n",
            "dense_2 (Dense)              (None, 5)                 85        \n",
            "=================================================================\n",
            "Total params: 52,005\n",
            "Trainable params: 52,005\n",
            "Non-trainable params: 0\n",
            "_________________________________________________________________\n",
            "WARNING:tensorflow:Unresolved object in checkpoint: (root).optimizer.iter\n"
          ]
        },
        {
          "output_type": "stream",
          "name": "stderr",
          "text": [
            "WARNING:tensorflow:Unresolved object in checkpoint: (root).optimizer.iter\n"
          ]
        },
        {
          "output_type": "stream",
          "name": "stdout",
          "text": [
            "WARNING:tensorflow:Unresolved object in checkpoint: (root).optimizer.beta_1\n"
          ]
        },
        {
          "output_type": "stream",
          "name": "stderr",
          "text": [
            "WARNING:tensorflow:Unresolved object in checkpoint: (root).optimizer.beta_1\n"
          ]
        },
        {
          "output_type": "stream",
          "name": "stdout",
          "text": [
            "WARNING:tensorflow:Unresolved object in checkpoint: (root).optimizer.beta_2\n"
          ]
        },
        {
          "output_type": "stream",
          "name": "stderr",
          "text": [
            "WARNING:tensorflow:Unresolved object in checkpoint: (root).optimizer.beta_2\n"
          ]
        },
        {
          "output_type": "stream",
          "name": "stdout",
          "text": [
            "WARNING:tensorflow:Unresolved object in checkpoint: (root).optimizer.decay\n"
          ]
        },
        {
          "output_type": "stream",
          "name": "stderr",
          "text": [
            "WARNING:tensorflow:Unresolved object in checkpoint: (root).optimizer.decay\n"
          ]
        },
        {
          "output_type": "stream",
          "name": "stdout",
          "text": [
            "WARNING:tensorflow:Unresolved object in checkpoint: (root).optimizer.learning_rate\n"
          ]
        },
        {
          "output_type": "stream",
          "name": "stderr",
          "text": [
            "WARNING:tensorflow:Unresolved object in checkpoint: (root).optimizer.learning_rate\n"
          ]
        },
        {
          "output_type": "stream",
          "name": "stdout",
          "text": [
            "WARNING:tensorflow:A checkpoint was restored (e.g. tf.train.Checkpoint.restore or tf.keras.Model.load_weights) but not all checkpointed values were used. See above for specific issues. Use expect_partial() on the load status object, e.g. tf.train.Checkpoint.restore(...).expect_partial(), to silence these warnings, or use assert_consumed() to make the check explicit. See https://www.tensorflow.org/guide/checkpoint#loading_mechanics for details.\n"
          ]
        },
        {
          "output_type": "stream",
          "name": "stderr",
          "text": [
            "WARNING:tensorflow:A checkpoint was restored (e.g. tf.train.Checkpoint.restore or tf.keras.Model.load_weights) but not all checkpointed values were used. See above for specific issues. Use expect_partial() on the load status object, e.g. tf.train.Checkpoint.restore(...).expect_partial(), to silence these warnings, or use assert_consumed() to make the check explicit. See https://www.tensorflow.org/guide/checkpoint#loading_mechanics for details.\n"
          ]
        },
        {
          "output_type": "stream",
          "name": "stdout",
          "text": [
            "\n",
            "\n",
            "The hyperparameter search is complete. The optimal number of units in the first lstm-connected\n",
            "layer is 64, with a dropout rate of 0.1. The optimal number of units for the first dense layer is 32 \n",
            "with a dropout of  0.1.\n",
            "\n",
            "\n",
            "\n",
            "\n"
          ]
        },
        {
          "output_type": "execute_result",
          "data": {
            "text/plain": [
              "{'dense_dropout': 0.1,\n",
              " 'dense_units': 32,\n",
              " 'lstm_dropout': 0.1,\n",
              " 'lstm_units': 64,\n",
              " 'tuner/bracket': 2,\n",
              " 'tuner/epochs': 10,\n",
              " 'tuner/initial_epoch': 4,\n",
              " 'tuner/round': 2,\n",
              " 'tuner/trial_id': '4df11a93aff7c1472f777c2635b29d7a'}"
            ]
          },
          "metadata": {},
          "execution_count": 128
        }
      ]
    },
    {
      "cell_type": "code",
      "metadata": {
        "colab": {
          "base_uri": "https://localhost:8080/",
          "height": 282
        },
        "id": "TQcH7WLP12jD",
        "outputId": "efb96bf7-96c8-444b-fc4e-1b55ee4d3f53"
      },
      "source": [
        "best_hps.get('batch_size')"
      ],
      "execution_count": 129,
      "outputs": [
        {
          "output_type": "error",
          "ename": "KeyError",
          "evalue": "ignored",
          "traceback": [
            "\u001b[0;31m---------------------------------------------------------------------------\u001b[0m",
            "\u001b[0;31mKeyError\u001b[0m                                  Traceback (most recent call last)",
            "\u001b[0;32m<ipython-input-129-4199de1a6115>\u001b[0m in \u001b[0;36m<module>\u001b[0;34m()\u001b[0m\n\u001b[0;32m----> 1\u001b[0;31m \u001b[0mbest_hps\u001b[0m\u001b[0;34m.\u001b[0m\u001b[0mget\u001b[0m\u001b[0;34m(\u001b[0m\u001b[0;34m'batch_size'\u001b[0m\u001b[0;34m)\u001b[0m\u001b[0;34m\u001b[0m\u001b[0;34m\u001b[0m\u001b[0m\n\u001b[0m",
            "\u001b[0;32m/usr/local/lib/python3.7/dist-packages/keras_tuner/engine/hyperparameters.py\u001b[0m in \u001b[0;36mget\u001b[0;34m(self, name)\u001b[0m\n\u001b[1;32m    742\u001b[0m             \u001b[0;32mraise\u001b[0m \u001b[0mValueError\u001b[0m\u001b[0;34m(\u001b[0m\u001b[0;34m\"{} is currently inactive.\"\u001b[0m\u001b[0;34m.\u001b[0m\u001b[0mformat\u001b[0m\u001b[0;34m(\u001b[0m\u001b[0mname\u001b[0m\u001b[0;34m)\u001b[0m\u001b[0;34m)\u001b[0m\u001b[0;34m\u001b[0m\u001b[0;34m\u001b[0m\u001b[0m\n\u001b[1;32m    743\u001b[0m         \u001b[0;32melse\u001b[0m\u001b[0;34m:\u001b[0m\u001b[0;34m\u001b[0m\u001b[0;34m\u001b[0m\u001b[0m\n\u001b[0;32m--> 744\u001b[0;31m             \u001b[0;32mraise\u001b[0m \u001b[0mKeyError\u001b[0m\u001b[0;34m(\u001b[0m\u001b[0;34m\"{} does not exist.\"\u001b[0m\u001b[0;34m.\u001b[0m\u001b[0mformat\u001b[0m\u001b[0;34m(\u001b[0m\u001b[0mname\u001b[0m\u001b[0;34m)\u001b[0m\u001b[0;34m)\u001b[0m\u001b[0;34m\u001b[0m\u001b[0;34m\u001b[0m\u001b[0m\n\u001b[0m\u001b[1;32m    745\u001b[0m \u001b[0;34m\u001b[0m\u001b[0m\n\u001b[1;32m    746\u001b[0m     \u001b[0;32mdef\u001b[0m \u001b[0m__getitem__\u001b[0m\u001b[0;34m(\u001b[0m\u001b[0mself\u001b[0m\u001b[0;34m,\u001b[0m \u001b[0mname\u001b[0m\u001b[0;34m)\u001b[0m\u001b[0;34m:\u001b[0m\u001b[0;34m\u001b[0m\u001b[0;34m\u001b[0m\u001b[0m\n",
            "\u001b[0;31mKeyError\u001b[0m: 'batch_size does not exist.'"
          ]
        }
      ]
    }
  ]
}