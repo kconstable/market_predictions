{
  "nbformat": 4,
  "nbformat_minor": 0,
  "metadata": {
    "colab": {
      "name": "market_data_av.ipynb",
      "provenance": [],
      "collapsed_sections": [
        "05kyIBZcx9nQ",
        "_wES-gd8YdDO",
        "7YRg9tpgYobc",
        "sFVmh6eVYmub",
        "uXE-TPZnZfEB"
      ],
      "toc_visible": true,
      "mount_file_id": "1v8UC7WOeKVSKHr3UAS6YyUCiDnLd-7aj",
      "authorship_tag": "ABX9TyO4xNZh7Kk6oEZxH204AJYK",
      "include_colab_link": true
    },
    "kernelspec": {
      "display_name": "Python 3",
      "name": "python3"
    },
    "language_info": {
      "name": "python"
    }
  },
  "cells": [
    {
      "cell_type": "markdown",
      "metadata": {
        "id": "view-in-github",
        "colab_type": "text"
      },
      "source": [
        "<a href=\"https://colab.research.google.com/github/kconstable/market_predictions/blob/main/market_data_av.ipynb\" target=\"_parent\"><img src=\"https://colab.research.google.com/assets/colab-badge.svg\" alt=\"Open In Colab\"/></a>"
      ]
    },
    {
      "cell_type": "markdown",
      "metadata": {
        "id": "1ebcCOANLgmk"
      },
      "source": [
        "## Import Libraries"
      ]
    },
    {
      "cell_type": "code",
      "metadata": {
        "id": "NVQtqvcZkZD3"
      },
      "source": [
        "# import sys\n",
        "# !{sys.executable} -m pip install plotly"
      ],
      "execution_count": null,
      "outputs": []
    },
    {
      "cell_type": "code",
      "metadata": {
        "id": "Jb1ngDkemMPq"
      },
      "source": [
        "import pandas as pd\n",
        "import numpy as np\n",
        "import requests\n",
        "import time\n",
        "import pickle\n",
        "import re\n",
        "from datetime import date, timedelta,datetime\n",
        "from tabulate import tabulate\n",
        "import plotly.graph_objects as go\n",
        "from plotly.subplots import make_subplots\n",
        "import plotly.express as px\n",
        "from google.colab import files\n",
        "from sklearn.ensemble import RandomForestRegressor\n",
        "from sklearn.feature_selection import RFE\n",
        "\n",
        "# alphavalue key\n",
        "key = '2Y4KISB4XMRRRPW7'"
      ],
      "execution_count": null,
      "outputs": []
    },
    {
      "cell_type": "code",
      "metadata": {
        "colab": {
          "base_uri": "https://localhost:8080/"
        },
        "id": "T4GEoKtuxrS_",
        "outputId": "e86ae7db-d2ef-472e-a90b-7e432f1e412c"
      },
      "source": [
        "from google.colab import drive\n",
        "drive.mount('/content/drive')"
      ],
      "execution_count": null,
      "outputs": [
        {
          "name": "stdout",
          "output_type": "stream",
          "text": [
            "Drive already mounted at /content/drive; to attempt to forcibly remount, call drive.mount(\"/content/drive\", force_remount=True).\n"
          ]
        }
      ]
    },
    {
      "cell_type": "markdown",
      "metadata": {
        "id": "reTxG9AQF8Pe"
      },
      "source": [
        "# Economic and Technical Indicators"
      ]
    },
    {
      "cell_type": "markdown",
      "metadata": {
        "id": "05kyIBZcx9nQ"
      },
      "source": [
        "## Economic Indicators"
      ]
    },
    {
      "cell_type": "code",
      "metadata": {
        "id": "C2aZ6vt7y0xn"
      },
      "source": [
        "def get_economic_indicators(funct,key,interval=None,maturity=None,throttle=0):\n",
        "  \"\"\"\n",
        "  Returns Economic Indicator Data with missing values interpolated between dates\n",
        "  Monthly Data:\n",
        "    NONFARM_PAYROLL, INFLATION_EXPECTATION,CONSUMER_SENTIMENT,UNEMPLOYMENT\n",
        "  Daily, Weekly, Monthly Data:  \n",
        "    FEDERAL_FUNDS_RATE = interval (daily,weekly,monthly)\n",
        "    TREASURY_YIELD = interval (daily, weekly, monthly), \n",
        "                     maturity (3month, 5year, 10year, and 30year)\n",
        "  \"\"\"\n",
        "  \n",
        "  # query strings\n",
        "  # Monthly Data:\n",
        "  if funct in ['NONFARM_PAYROLL','INFLATION_EXPECTATION','CONSUMER_SENTIMENT','UNEMPLOYMENT']:\n",
        "    url = f'https://www.alphavantage.co/query?function={funct}&apikey={key}'\n",
        "\n",
        "  # Daily, Weekly or Monthly Data:\n",
        "  # Interest Rates\n",
        "  if funct == 'FEDERAL_FUNDS_RATE':\n",
        "    url = f'https://www.alphavantage.co/query?function={funct}&interval={interval}&apikey={key}'\n",
        "\n",
        "  # Treasury Yield  \n",
        "  if funct == 'TREASURY_YIELD':\n",
        "    url = f'https://www.alphavantage.co/query?function={funct}&interval={interval}&maturity={maturity}&apikey={key}'\n",
        "\n",
        "  # pull data\n",
        "  r = requests.get(url)\n",
        "  time.sleep(throttle)\n",
        "  d = r.json()\n",
        "\n",
        "  # convert to df\n",
        "  df = pd.DataFrame(d['data'])\n",
        "\n",
        "  # move date to a datetime index\n",
        "  df.date = pd.to_datetime(df.date)\n",
        "  df.set_index('date',inplace=True)\n",
        "\n",
        "  # add the ticker name and frequency\n",
        "  df['name'] = d['name']\n",
        "  df['interval']=d['interval'] \n",
        "\n",
        "  # clean data & interpolate missing values\n",
        "  # missing data encoded with '.'\n",
        "  # change datatype to float\n",
        "  df.replace('.',np.nan,inplace=True)\n",
        "  df.value = df.value.astype('float')\n",
        "\n",
        "  # missing data stats\n",
        "  missing =sum(df.value.isna())\n",
        "  total =df.shape[0]\n",
        "  missing_pct = round(missing/total*100,2)\n",
        "\n",
        "  # interpolate using the time index\n",
        "  if missing >0:\n",
        "    df.value.interpolate(method='time',inplace=True)\n",
        "    action = 'interpolate'\n",
        "  else:\n",
        "    action = 'none'\n",
        "\n",
        "  # Print the results\n",
        "  if maturity is not None:\n",
        "    summary = ['Economic Indicator',funct+':'+maturity,str(total),str(missing),str(missing_pct)+'%',action]\n",
        "  else:\n",
        "    summary = ['Economic Indicator',funct,str(total),str(missing),str(missing_pct)+'%',action]\n",
        "\n",
        "\n",
        "  return {'summary':summary,'data':df}\n"
      ],
      "execution_count": null,
      "outputs": []
    },
    {
      "cell_type": "markdown",
      "metadata": {
        "id": "LCAKaGYKHULq"
      },
      "source": [
        "## Technical Indicators"
      ]
    },
    {
      "cell_type": "code",
      "metadata": {
        "id": "mxrZNjgXmsE9"
      },
      "source": [
        "def get_technical_indicators(symbol,funct,key,interval,time_period=None,throttle=0):\n",
        "  \"\"\"\n",
        "  Returns Technical Indicators (only works for stocks, not cyrpto)\n",
        "  MACD:   symbol,interval\n",
        "  RSI:    symbol,interval,time_period\n",
        "  BBANDS: symbol,interval,time_period\n",
        "\n",
        "  Parameters:\n",
        "          interval: (1min, 5min, 15min, 30min, 60min, daily, weekly, monthly)\n",
        "          series_type: (open, close,high,low)-default to close\n",
        "          timer_periods: Integer\n",
        "  \"\"\"\n",
        "  # build the query string\n",
        "  if funct =='MACD':\n",
        "    url = f'https://www.alphavantage.co/query?function={funct}&symbol={symbol}&interval={interval}&series_type=close&apikey={key}'\n",
        "  if funct in ['RSI','BBANDS']:\n",
        "    url = f'https://www.alphavantage.co/query?function={funct}&symbol={symbol}&interval={interval}&series_type=close&time_period={time_period}&apikey={key}'\n",
        "\n",
        "  # request data as json, convert to dict, pause request to avoid the data throttle\n",
        "  r = requests.get(url)\n",
        "  time.sleep(throttle)\n",
        "  d = r.json()\n",
        "\n",
        "  # extract to a df, add the indicator name, convert the index to datetime\n",
        "  df = pd.DataFrame(d[f'Technical Analysis: {funct}']).T\n",
        "  df.index = pd.to_datetime(df.index)\n",
        "\n",
        "  # convert the data to float\n",
        "  for col in df.columns:\n",
        "    df[col] = df[col].astype('float')\n",
        "\n",
        "  # check for missing data\n",
        "  missing = df.isnull().any().sum()\n",
        "  total = len(df)\n",
        "  missing_pct = round(missing/total*100,2)\n",
        "\n",
        "\n",
        "  # Print the results\n",
        "  summary=['Technical Indicator',funct,str(total),str(missing),str(missing_pct)+'%','none']\n",
        "\n",
        "  return {'summary':summary,'data':df}\n"
      ],
      "execution_count": null,
      "outputs": []
    },
    {
      "cell_type": "markdown",
      "metadata": {
        "id": "RhEQdERdbMod"
      },
      "source": [
        "# Visualizations\n",
        "+ Candlestick Plots + Economic Indicators\n",
        "+ Technical Indicators + Interest Rates\n",
        "+ Correlations between Features"
      ]
    },
    {
      "cell_type": "markdown",
      "metadata": {
        "id": "_wES-gd8YdDO"
      },
      "source": [
        "### Candlestick/Economic Indicators"
      ]
    },
    {
      "cell_type": "code",
      "metadata": {
        "id": "0JArnCxXmT8k"
      },
      "source": [
        "def plot_candlestick(df,yearfrom=None):\n",
        "    \"\"\"\n",
        "    Plots candleskick plots: open/close/high/low prices + volume\n",
        "    Input:\n",
        "      df      : A dataframe with the price data\n",
        "      yearfrom: filters the df by year\n",
        "    \"\"\"\n",
        "\n",
        "    # get ticker name\n",
        "    name = df.symbol.unique()[0]\n",
        "\n",
        "    # filter by year if provided\n",
        "    if yearfrom is not None:\n",
        "      df = df[df.index.year >= yearfrom]\n",
        "    \n",
        "    # Create subplots\n",
        "    fig = make_subplots(rows=6, cols=1, \n",
        "                        shared_xaxes=True, \n",
        "                        subplot_titles=('Prices: Open/High/Low/Close','Volume','Non-Farm Payroll','Consumer Sentiment','Expected Inflation','Unemployment'),\n",
        "                        vertical_spacing=0.07)\n",
        "                   \n",
        "    # OHLC Plot\n",
        "    fig.add_trace(go.Candlestick(x=df.index, open=df.open, high=df.high,low=df.low, close=df.close, \n",
        "                name=\"Price\",\n",
        "                increasing_line_color= '#42BDA0', \n",
        "                decreasing_line_color= '#BD425F'), \n",
        "                row=1, col=1)\n",
        "    \n",
        "    \n",
        "    # area chart for volume\n",
        "    fig.add_trace(go.Scatter(x=df.index, y=df.volume, \n",
        "                fill='tozeroy',\n",
        "                name='Volume',\n",
        "                mode='none',\n",
        "                fillcolor='rgba(156,189,66,.5)'),\n",
        "                row=2,col=1)\n",
        "    \n",
        "    # Non-Farm Payrolls\n",
        "    fig.add_trace(go.Scatter(x=df.index, y=df.nfp,name='Non-Farm Payroll',line_color='#BD425F'),\n",
        "                  row=3,col=1)\n",
        "    \n",
        "    # Consumer Sentiment\n",
        "    fig.add_trace(go.Scatter(x=df.index, y=df.cs,name='Consumer Sentiment',line_color='#42BDA0'),\n",
        "                  row=4,col=1)\n",
        "\n",
        "    # Expected Inflation    \n",
        "    fig.add_trace(go.Scatter(x=df.index, y=df.infl,name='Expected Inflation',line_color='#6342BD'),\n",
        "                  row=5,col=1)\n",
        "    \n",
        "    # Unemployment    \n",
        "    fig.add_trace(go.Scatter(x=df.index, y=df.unemployment,name='Unemployment'),\n",
        "                  row=6,col=1)\n",
        "\n",
        "    # Do not show OHLC's rangeslider plot \n",
        "    fig.update(layout_xaxis_rangeslider_visible=False)\n",
        "    fig.update_layout(template='plotly_white',\n",
        "                      title = f\"Price, Volume and Economic Indicators: {name}\",\n",
        "                      width = 1000,\n",
        "                      height = 800)\n",
        "          \n",
        "    fig.show()"
      ],
      "execution_count": null,
      "outputs": []
    },
    {
      "cell_type": "markdown",
      "metadata": {
        "id": "7YRg9tpgYobc"
      },
      "source": [
        "### Technical Indicators"
      ]
    },
    {
      "cell_type": "code",
      "metadata": {
        "id": "hT9aqrEjHbMy"
      },
      "source": [
        "def plot_technicals(df,yearfrom=None):\n",
        "  \"\"\"\n",
        "  Plots technical indicators\n",
        "  Input:\n",
        "    df: a dataframe with techical indicators\n",
        "    yearfrom: filters the df by year\n",
        "  \"\"\"\n",
        "\n",
        "  # get the symbol name\n",
        "  name = df.symbol.unique()[0]\n",
        "\n",
        "  # filter by year if provided\n",
        "  if yearfrom is not None:\n",
        "    df = df[df.index.year >= yearfrom]\n",
        "\n",
        "\n",
        "  # make subplots\n",
        "  fig = make_subplots(rows=2, cols=2,\n",
        "                      shared_xaxes=True,\n",
        "                      subplot_titles = ('Bollinger Bands','MACD','RSI','Interest Rates'),\n",
        "                      vertical_spacing = 0.07)\n",
        "\n",
        "  # boolinger bands\n",
        "  # ********************************************************************************************\n",
        "  fig.add_trace(go.Scatter(x=df.index,y=df['b-upper'],name='Bollinger-Upper',line_color=\"#DFEBF9\"),row=1,col=1)\n",
        "  fig.add_trace(go.Scatter(x=df.index,y=df['b-lower'],name='Bollinger-Lower',line_color='#DFEBF9',fill='tonexty'),row=1,col=1)\n",
        "  fig.add_trace(go.Scatter(x=df.index,y=df['b-middle'],name='Closing Price',line_color='#297AD6'),row=1,col=1)\n",
        "\n",
        "\n",
        "  # MACD\n",
        "  # ********************************************************************************************\n",
        "  fig.add_trace(go.Scatter(x=df.index,y=df['macd'],name='MACD',line_color='#F7DAC6'),row=1,col=2)\n",
        "  fig.add_trace(go.Scatter(x=df.index,y=df['macd_signal'],name='MACD Signal',line_color='#E68A4C'),row=1,col=2)\n",
        "  try:\n",
        "    fig.add_trace(go.Bar(x=dff.index,y=df['macd_hist'],name='MACD Hist',marker_color='#E06D1F', marker_line_color='#E06D1F'),row=1,col=2)\n",
        "  except:\n",
        "    # skip mcad histogram for crypto\n",
        "    print('')\n",
        "\n",
        "\n",
        "  # # RSI\n",
        "  # ********************************************************************************************\n",
        "  fig.add_trace(go.Scatter(x=df.index,y=df['rsi'],name='RSI',line_color='#F00F3C'),row=2,col=1)\n",
        "\n",
        "  fig.update_yaxes(range=[0, 100],row=2,col=1)\n",
        "\n",
        "\n",
        "  # Interest Rates\n",
        "  # add Fed Rate, then loop through the df columns to add any feature that is a yield\n",
        "  # ********************************************************************************************\n",
        "  fig.add_trace(go.Scatter(x=df.index, y=df.ir,name='Fed Funds Rate',line_color='#4B9D0C'),row=2,col=2)\n",
        "  colors = ['#0E340F','#29541F','#5E9C53','#A3E090','#537455','#3B463E']\n",
        "  rate_cols = [c for c in df.columns if 'yield' in c]\n",
        "  for i,rate in enumerate(rate_cols):\n",
        "    # Extract the name of the yield\n",
        "    name = 'Yield:'+re.findall(r'\\d+', rate)[0]+' Year'\n",
        "    fig.add_trace(go.Scatter(x=df.index, y=df[rate],name=name,line_color = colors[i]),row=2,col=2)\n",
        "\n",
        "\n",
        "  # Set template\n",
        "  fig.update_layout(template = 'plotly_white',width= 1000,height=800,title ='Technical Indicators & Yields')\n",
        "  fig.show()\n"
      ],
      "execution_count": null,
      "outputs": []
    },
    {
      "cell_type": "markdown",
      "metadata": {
        "id": "sFVmh6eVYmub"
      },
      "source": [
        "### Distributions"
      ]
    },
    {
      "cell_type": "code",
      "metadata": {
        "id": "LfrJOUpsPtCR"
      },
      "source": [
        "def plot_distribution(df,feature):\n",
        "  \"\"\"\n",
        "  Plot a historgram and bloxplot the input feature\n",
        "  Input: \n",
        "    df:      a dataframe of features\n",
        "    feature: a feature name\n",
        "  Output:\n",
        "    Plots the histogram and boxplot for the feature\n",
        "  \"\"\"\n",
        "\n",
        "  # create subplots\n",
        "  fig = make_subplots(rows=1, cols=2)\n",
        "\n",
        "  # histogram\n",
        "  fig.add_trace(\n",
        "      go.Histogram(x=df[feature],name='histogram'),\n",
        "      row=1, col=1\n",
        "  )\n",
        "\n",
        "  #box plot\n",
        "  fig.add_trace(\n",
        "      go.Box(y=df[feature],name='bloxplot'),\n",
        "      row=1, col=2\n",
        "  )\n",
        "\n",
        "  #\n",
        "  fig.update_layout(height=500, \n",
        "                    width=500, \n",
        "                    title_text=f\"Distribution:{feature}\",\n",
        "                    template='plotly_white')\n",
        "  fig.show()\n",
        "\n",
        "\n"
      ],
      "execution_count": null,
      "outputs": []
    },
    {
      "cell_type": "markdown",
      "metadata": {
        "id": "uXE-TPZnZfEB"
      },
      "source": [
        "### Correlations"
      ]
    },
    {
      "cell_type": "code",
      "metadata": {
        "id": "8yORPayxBxdh"
      },
      "source": [
        "def plot_corr(df):\n",
        "  \"\"\"\n",
        "  Plots correlations in a heatmap\n",
        "  Input: \n",
        "    df: a dataframe of features to plot\n",
        "  \"\"\"\n",
        "  # subset columns\n",
        "  # remove redundent columns (only keep one price, and the signal for technical indicators)\n",
        "  cols = [c for c in df.columns if c not in ['open','high','low','b-upper','b-lower','macd_hist','macd','symbol']]\n",
        "          \n",
        "  # calculate correlations\n",
        "  cm =df[cols].corr()\n",
        "\n",
        "  # plot a heatmap of correlations\n",
        "  fig = go.Figure()\n",
        "  fig.add_trace(go.Heatmap(\n",
        "        z = cm,\n",
        "        x = cm.columns.values,\n",
        "        y = cm.columns.values,\n",
        "        colorscale = 'Bluyl'\n",
        "      )\n",
        "  )\n",
        "  fig.update_layout(\n",
        "      title_text=\"Feature Correlations\", \n",
        "      title_x=0.5, \n",
        "      width=800, \n",
        "      height=800,\n",
        "      yaxis_autorange='reversed',\n",
        "      template = 'plotly_white'\n",
        "  )\n",
        "\n",
        "  fig.show()\n"
      ],
      "execution_count": null,
      "outputs": []
    },
    {
      "cell_type": "markdown",
      "metadata": {
        "id": "YnICwBvSxt0T"
      },
      "source": [
        "# Cypto Currencies"
      ]
    },
    {
      "cell_type": "code",
      "metadata": {
        "id": "jS9uZN2ObG2C"
      },
      "source": [
        "def get_crypto_intraday(symbol,key,interval='60min',outputsize='compact',market='USD'):\n",
        "  \"\"\"\n",
        "  CRYPTO_INTRADAY\n",
        "    symbol: DOGE, BTC, ETH\n",
        "    key: apikey\n",
        "    interval: 1min, 5min, 15min, 30min, 60min\n",
        "    outputsize: compact(last 100), full (all)\n",
        "    market: USD\n",
        "  \"\"\"\n",
        "\n",
        "  # build query string, get data as json and convert to a dict\n",
        "  url = f\"https://www.alphavantage.co/query?function=CRYPTO_INTRADAY&symbol={symbol}&market={market}&interval={interval}&outputsize={outputsize}&apikey={key}\"\n",
        "  r = requests.get(url)\n",
        "  d = r.json()\n",
        "\n",
        "  # extract data to df\n",
        "  df=pd.DataFrame(d[f'Time Series Crypto ({interval})']).T\n",
        "  df.columns = ['open','high','low','close','volume']\n",
        "  df['symbol'] = d['Meta Data']['2. Digital Currency Code']\n",
        "  df['name'] = d['Meta Data']['3. Digital Currency Name']\n",
        "\n",
        "  return df\n"
      ],
      "execution_count": null,
      "outputs": []
    },
    {
      "cell_type": "code",
      "metadata": {
        "id": "OK_XYLGZ-zMU"
      },
      "source": [
        "def get_crypto_data(symbol,key):\n",
        "  \"\"\"\n",
        "  'ETH', 'BTC', 'DOGE'\n",
        "  \"\"\"\n",
        "  # build query string, get data as json and convert to a dict\n",
        "  url = f'https://www.alphavantage.co/query?function=DIGITAL_CURRENCY_DAILY&symbol={symbol}&market=CAD&apikey={key}'\n",
        "  r = requests.get(url)\n",
        "  d = r.json()\n",
        "\n",
        "  # extract data to df\n",
        "  df=pd.DataFrame(d['Time Series (Digital Currency Daily)']).T\n",
        "\n",
        "  # remove columns not required\n",
        "  # returns the price in two currencies, just keep USD\n",
        "  cols = [c for c in df.columns if '(CAD)' not in c]\n",
        "  df=df.loc[:, cols]\n",
        "  df.columns = ['open','high','low','close','volume','marketcap']\n",
        "  df.drop(['marketcap'],axis=1,inplace=True)\n",
        "\n",
        "  # change data types\n",
        "  df.index = pd.to_datetime(df.index)\n",
        "\n",
        "  # convert datatype to float\n",
        "  for col in ['open','high','low','close','volume']:\n",
        "    df[col] = df[col].astype('float')\n",
        "\n",
        "  # add the cyrpto name\n",
        "  df['symbol'] = d['Meta Data']['3. Digital Currency Name']\n",
        "\n",
        "  return df\n",
        "   "
      ],
      "execution_count": null,
      "outputs": []
    },
    {
      "cell_type": "markdown",
      "metadata": {
        "id": "DkBHWKbg293f"
      },
      "source": [
        "### Calculate Technical Indicators\n",
        "\n",
        "\n",
        "+ https://www.analyticsvidhya.com/blog/2021/01/algotrading-using-technical-indicator-and-ml-models/\n",
        "\n",
        "+ https://towardsdatascience.com/implementing-macd-in-python-cc9b2280126a\n",
        "\n"
      ]
    },
    {
      "cell_type": "markdown",
      "metadata": {
        "id": "yPxnm-KSFYbb"
      },
      "source": [
        "#### Bollinger Bands"
      ]
    },
    {
      "cell_type": "code",
      "metadata": {
        "id": "xoyBhsM58VHy"
      },
      "source": [
        "def calc_bollinger(df,feature,window=20,st=2):\n",
        "  \"\"\"\n",
        "  \"\"\"\n",
        "\n",
        "  # rolling mean and stdev\n",
        "  rolling_m  = df[feature].rolling(window).mean()\n",
        "  rolling_st = df[feature].rolling(window).std()\n",
        "\n",
        "  # add the upper/lower and middle bollinger bands\n",
        "  df['b-upper']  = rolling_m + (rolling_st * st)\n",
        "  df['b-middle'] = rolling_m \n",
        "  df['b-lower']  = rolling_m - (rolling_st * st)"
      ],
      "execution_count": null,
      "outputs": []
    },
    {
      "cell_type": "markdown",
      "metadata": {
        "id": "HFxOX7MP8Tpk"
      },
      "source": [
        "\n",
        "#### Relative Strength Index (RSI)-leading indicator"
      ]
    },
    {
      "cell_type": "code",
      "metadata": {
        "id": "PLnAV-2cn1_t"
      },
      "source": [
        "def calc_rsi(df,feature='close',window=14):\n",
        "  \"\"\"\n",
        "  \"\"\"\n",
        "  # RSI\n",
        "  # calc the diff in daily prices, exclude nan\n",
        "  diff =df[feature].diff()\n",
        "  diff.dropna(how='any',inplace=True)\n",
        "\n",
        "  # separate positive and negitive changes\n",
        "  pos_m, neg_m = diff.copy(),diff.copy()\n",
        "  pos_m[pos_m<0]=0\n",
        "  neg_m[neg_m>0]=0\n",
        "\n",
        "  # positive/negative rolling means\n",
        "  prm = pos_m.rolling(window).mean()\n",
        "  nrm = neg_m.abs().rolling(window).mean()\n",
        "\n",
        "  # calc the rsi and add to the df\n",
        "  ratio = prm /nrm\n",
        "  rsi = 100.0 - (100.0 / (1.0 + ratio))\n",
        "  df['rsi']=rsi"
      ],
      "execution_count": null,
      "outputs": []
    },
    {
      "cell_type": "markdown",
      "metadata": {
        "id": "_rLWjRpTFlUA"
      },
      "source": [
        "#### Moving Average Convergence/Divergence (MACD)\n"
      ]
    },
    {
      "cell_type": "code",
      "metadata": {
        "id": "x_E7mvodClwj"
      },
      "source": [
        "def calc_macd(df,feature='close'):\n",
        "  \"\"\"\n",
        "  \"\"\"\n",
        "  ema12 = df[feature].ewm(span=12,adjust=False).mean()\n",
        "  ema26 = df[feature].ewm(span=26,adjust=False).mean()\n",
        "  df['macd']=ema12-ema26\n",
        "  df['macd_signal'] = df['macd'].ewm(span=9,adjust=False).mean()\n"
      ],
      "execution_count": null,
      "outputs": []
    },
    {
      "cell_type": "markdown",
      "metadata": {
        "id": "wRrMO9qzFypf"
      },
      "source": [
        "### Combine Cyrpto Data"
      ]
    },
    {
      "cell_type": "code",
      "metadata": {
        "id": "LE8ui21SFx6j"
      },
      "source": [
        "def get_consolidated_crypto_data(symbol,key,config,boll_window=20,boll_std=2,rsi_window=14,throttle=30,dropna=True):\n",
        "  \"\"\"\n",
        "  Pulls data from alpha advantage and consolidates\n",
        "  API Limitations: 5 API requests per minute and 500 requests per day\n",
        "  Inputs:\n",
        "    symbol: crypto ticker\n",
        "    key   : api key\n",
        "    config: dictionary which lists the economic indicators and commodities to pull\n",
        "    throttle: number of seconds to wait between api requests\n",
        "    dropna: True/False, drops any records with nan\n",
        "  Output:\n",
        "    A dataframe with consolidated price data for the symbol + economic/technical\n",
        "    indicators and commodity prices\n",
        "  \"\"\"\n",
        "\n",
        "  # Result header and accumulator\n",
        "  header = ['Type','Data','Total','Missing',' % ','Action']\n",
        "  summary =[]\n",
        "\n",
        "  # Get crypto prices\n",
        "  try:\n",
        "    dff  = get_crypto_data(symbol,key)\n",
        "    print(f'Complete:===>Crypto:{symbol}')\n",
        "  except:\n",
        "    print(f'Error:===>Crypto:{symbol}')\n",
        "\n",
        "  # add month feature\n",
        "  dff['month'] = dff.index.month\n",
        "\n",
        "\n",
        "  # Get Commodity prices\n",
        "  # ****************************************************************************\n",
        "  for commodity in config['Commodities']:\n",
        "    try:\n",
        "      # get prices\n",
        "      results = get_ticker_data(commodity,key,'full',throttle)\n",
        "      df = results['data']\n",
        "      summary.append(results['summary'])\n",
        "      print(f'Complete:===>Commodity:{commodity}')\n",
        "\n",
        "\n",
        "      # rename close to commodity name, remove unneeded columns and join with \n",
        "      # the stock prices by date\n",
        "      df.rename(columns={'close':commodity},inplace=True)\n",
        "      df.drop(['open','high','low','volume','symbol'],axis=1,inplace=True)\n",
        "      dff = dff.join(df,how='left')\n",
        "    except:\n",
        "      print(f\"Error===>Commodity:{commodity}\")\n",
        "\n",
        "\n",
        "  # Economic Indicators\n",
        "  # ****************************************************************************\n",
        "  # loop through the config to pull the requested data\n",
        "  for indicator,values in config['Economic'].items():\n",
        "    if indicator == 'TREASURY_YIELD':\n",
        "      for tr in values:\n",
        "        try:\n",
        "          results = get_economic_indicators(indicator,key,interval=tr['interval'],maturity=tr['maturity'],throttle=throttle)\n",
        "          summary.append(results['summary'])\n",
        "          print(f\"Complete:===>{indicator}:{tr['maturity']}\")\n",
        "\n",
        "          df = results['data']\n",
        "          dff = dff.join(df,how='left')\n",
        "          dff.rename(columns={\"value\": tr['name']},inplace=True)\n",
        "          dff.drop(['name', 'interval'], axis=1,inplace = True)\n",
        "        except:\n",
        "          print(f\"Error===>{indicator}:{tr['maturity']}\")\n",
        "   \n",
        "    else: \n",
        "      # daily\n",
        "      if values['interval']=='daily':\n",
        "        try:\n",
        "      \n",
        "          results = get_economic_indicators(indicator,key,interval=values['interval'],throttle=throttle)\n",
        "          df = results['data']\n",
        "          summary.append(results['summary'])\n",
        "          print(f\"Complete:===>{indicator}\")\n",
        "\n",
        "          dff = dff.join(df,how='left')\n",
        "          dff.rename(columns={\"value\": values['name']},inplace=True)\n",
        "          dff.drop(['name', 'interval'], axis=1,inplace = True)\n",
        "        except:\n",
        "          print(f\"Error===>{indicator}\")\n",
        "  \n",
        "      else: \n",
        "        try:\n",
        "          # monthly or weekly\n",
        "         \n",
        "          results = get_economic_indicators(indicator,key,throttle=throttle)\n",
        "          summary.append(results['summary'])\n",
        "          df = results['data']\n",
        "          print(f\"Complete:===>{indicator}\")\n",
        "\n",
        "          # reindex to daily, fill missing values forward\n",
        "          days = pd.date_range(start = min(df.index),end =max(df.index),freq='D')\n",
        "          df =df.reindex(days,method = 'ffill')\n",
        "      \n",
        "          # join with the other data\n",
        "          dff = dff.join(df,how='left')\n",
        "          dff.rename(columns={\"value\": values['name']},inplace=True)\n",
        "          dff.drop(['name', 'interval'], axis=1,inplace = True)\n",
        "        except:\n",
        "          print(f\"Error===>{indicator}\")\n",
        "\n",
        "  # # Technical Indicators\n",
        "  # ****************************************************************************\n",
        "  calc_rsi(dff,'close',rsi_window)\n",
        "  calc_bollinger(dff,'close',boll_window,boll_std)\n",
        "  calc_macd(dff,'close')\n",
        "      \n",
        "\n",
        "  # Fill in any missing data after joining all datasets\n",
        "  dff.fillna(method='bfill',inplace=True,axis = 0)\n",
        "\n",
        "  # drop rows with missing commodity prices\n",
        "  if dropna:\n",
        "    dff.dropna(how='any',inplace=True)\n",
        "\n",
        "  # print the results table\n",
        "  print(\"\\n\\n\")\n",
        "  print(tabulate(summary,header))\n",
        "\n",
        "  return dff"
      ],
      "execution_count": null,
      "outputs": []
    },
    {
      "cell_type": "markdown",
      "metadata": {
        "id": "1coKUQKAV-Ij"
      },
      "source": [
        "### Pull Crypto Data"
      ]
    },
    {
      "cell_type": "code",
      "metadata": {
        "id": "AeVl3_IqL1AF"
      },
      "source": [
        "# Get Consolidated Data\n",
        "# https://etfdb.com/\n",
        "# cypto:  BTC, ETH,DOGE\n",
        "# S&P500: SPY = jan 1993\n",
        "# gold:   GLD = nov 2004\n",
        "# oil:    USO =apr 2006, OIL = apr 2011\n",
        "# energy: PBD =  jun 2007 (clean), PBW=mar 2005 (cleaner oil & gas), XLE= dec 1998 (oil & gas)\n",
        "# gas:    UNL = jan 2010, BOIL=oct 2011\n",
        "# vol:    VXX = jan 2009\n",
        "\n",
        "config ={'Economic':\n",
        "         {'TREASURY_YIELD':[{'interval':'daily','maturity':'5year','name':'yield5y'},\n",
        "                            {'interval':'daily','maturity':'10year','name':'yield10y'},\n",
        "                            {'interval':'daily','maturity':'30year','name':'yield30y'},\n",
        "                            {'interval':'daily','maturity':'3month','name':'yield3m'}\n",
        "                            ],\n",
        "          'FEDERAL_FUNDS_RATE':{'interval':'daily','name':'ir'},\n",
        "          'NONFARM_PAYROLL':{'interval':'monthly','name':'nfp'},\n",
        "          'UNEMPLOYMENT':{'interval':'monthly','name':'unemployment'},\n",
        "          'CONSUMER_SENTIMENT':{'interval':'monthly','name':'cs'},\n",
        "          'INFLATION_EXPECTATION':{'interval':'monthly','name':'infl'},\n",
        "          },\n",
        "         'Commodities':['GLD','OIL','SPY','XLE','VXX','BOIL']\n",
        "         }\n",
        "\n",
        "# compact, full\n",
        "crypto = 'BTC'\n",
        "df_c = get_consolidated_crypto_data(crypto,key,config,throttle=30,dropna=True)\n",
        "\n",
        "\n",
        "# save to google drive\n",
        "df_c.to_pickle(f'/content/drive/MyDrive/Colab Notebooks/data/{crypto}_market_data.pickle')\n",
        "df_c.to_csv(f'/content/drive/MyDrive/Colab Notebooks/data/{crypto}_market_data.csv')"
      ],
      "execution_count": null,
      "outputs": []
    },
    {
      "cell_type": "markdown",
      "metadata": {
        "id": "YI-Q9ZOAx1JL"
      },
      "source": [
        "# Stocks"
      ]
    },
    {
      "cell_type": "code",
      "metadata": {
        "id": "0IdfePWQ-gy3"
      },
      "source": [
        "def get_ticker_data(symbol,key,outputsize='compact',throttle=0):\n",
        "  \"\"\"\n",
        "  Returns daily data for a stock (symbol)\n",
        "    outputsize: compact(last 100) or full (20 years)\n",
        "    key: apikey\n",
        "    symbols: OILK (oil ETF),BAR(gold ETF),VXZ (volatility ETF)\n",
        "  \"\"\"\n",
        "  url = f'https://www.alphavantage.co/query?function=TIME_SERIES_DAILY&symbol={symbol}&outputsize={outputsize}&apikey={key}'\n",
        "  r = requests.get(url)\n",
        "  time.sleep(throttle)\n",
        "  d = r.json()\n",
        "\n",
        "  # extract data to a df\n",
        "  df = pd.DataFrame(d['Time Series (Daily)']).T\n",
        "  df.columns = ['open','high','low','close','volume']\n",
        "  df['symbol'] = d['Meta Data']['2. Symbol']\n",
        "\n",
        "  # change data types\n",
        "  df.index = pd.to_datetime(df.index)\n",
        "\n",
        "  # convert datatype to float\n",
        "  for col in ['open','high','low','close','volume']:\n",
        "    df[col] = df[col].astype('float')\n",
        "\n",
        "  # Calculate missing data\n",
        "  missing = sum(df.close.isna())\n",
        "  total = df.shape[0]\n",
        "  missing_pct = round(missing/total*100,2)\n",
        "\n",
        "  # Print the results\n",
        "  summary = ['Ticker',symbol,str(total),str(missing),str(missing_pct)+'%','none']\n",
        "\n",
        "  return {'summary':summary,'data':df}"
      ],
      "execution_count": null,
      "outputs": []
    },
    {
      "cell_type": "markdown",
      "metadata": {
        "id": "39_LOzVb3Zk2"
      },
      "source": [
        "## Combine Stock Data\n",
        "+ price data\n",
        "+ economic\n",
        "+ technical"
      ]
    },
    {
      "cell_type": "code",
      "metadata": {
        "id": "0GJ0MMc778kZ"
      },
      "source": [
        "def get_consolidated_stock_data(symbol,key,config,outputsize='compact',throttle=30,dropna=True):\n",
        "  \"\"\"\n",
        "  Pulls data from alpha advantage and consolidates\n",
        "  API Limitations: 5 API requests per minute and 500 requests per day\n",
        "  Inputs:\n",
        "    symbol: stock ticker\n",
        "    key   : api key\n",
        "    config: dictionary which lists the economic, technical and commodities to pull\n",
        "    outputsize: compact(latest 100) or full (up to 20 years of daily data)\n",
        "    throttle: number of seconds to wait between api requests\n",
        "    dropna: True/False, drops any records with nan\n",
        "  Output:\n",
        "    A dataframe with consolidated price data for the symbol + economic/technical\n",
        "    indicators and commodity prices\n",
        "  \"\"\"\n",
        "\n",
        "  # Result header and accumulator\n",
        "  header = ['Type','Data','Total','Missing',' % ','Action']\n",
        "  summary =[]\n",
        "\n",
        "  # Get stock prices\n",
        "  try:\n",
        "    results  = get_ticker_data(symbol,key,outputsize,0)\n",
        "    dff = results['data']\n",
        "    summary.append(results['summary'])\n",
        "    print(f'Complete:===>Ticker:{symbol}')\n",
        "  except:\n",
        "    print(f'Error:===>Ticker:{symbol}')\n",
        "\n",
        "\n",
        "\n",
        "  # Get Commodity prices\n",
        "  # ****************************************************************************\n",
        "  for commodity in config['Commodities']:\n",
        "    try:\n",
        "      # get prices\n",
        "      results = get_ticker_data(commodity,key,outputsize,throttle)\n",
        "      df = results['data']\n",
        "      summary.append(results['summary'])\n",
        "      print(f'Complete:===>Commodity:{commodity}')\n",
        "\n",
        "\n",
        "      # rename close to commodity name, remove unneeded columns and join with \n",
        "      # the stock prices by date\n",
        "      df.rename(columns={'close':commodity},inplace=True)\n",
        "      df.drop(['open','high','low','volume','symbol'],axis=1,inplace=True)\n",
        "      dff = dff.join(df,how='left')\n",
        "    except:\n",
        "      print(f\"Error===>Commodity:{commodity}\")\n",
        "\n",
        "\n",
        "  # Economic Indicators\n",
        "  # ****************************************************************************\n",
        "  # loop through the config to pull the requested data\n",
        "  for indicator,values in config['Economic'].items():\n",
        "    if indicator == 'TREASURY_YIELD':\n",
        "      for tr in values:\n",
        "        try:\n",
        "          results = get_economic_indicators(indicator,key,interval=tr['interval'],maturity=tr['maturity'],throttle=throttle)\n",
        "          summary.append(results['summary'])\n",
        "          print(f\"Complete:===>{indicator}:{tr['maturity']}\")\n",
        "\n",
        "          df = results['data']\n",
        "          dff = dff.join(df,how='left')\n",
        "          dff.rename(columns={\"value\": tr['name']},inplace=True)\n",
        "          dff.drop(['name', 'interval'], axis=1,inplace = True)\n",
        "        except:\n",
        "          print(f\"Error===>{indicator}:{tr['maturity']}\")\n",
        "   \n",
        "    else: \n",
        "      # daily\n",
        "      if values['interval']=='daily':\n",
        "        try:\n",
        "          results = get_economic_indicators(indicator,key,interval=values['interval'],throttle=throttle)\n",
        "          df = results['data']\n",
        "          summary.append(results['summary'])\n",
        "          print(f\"Complete:===>{indicator}\")\n",
        "\n",
        "          dff = dff.join(df,how='left')\n",
        "          dff.rename(columns={\"value\": values['name']},inplace=True)\n",
        "          dff.drop(['name', 'interval'], axis=1,inplace = True)\n",
        "        except:\n",
        "          print(f\"Error===>{indicator}\")\n",
        "  \n",
        "      else: \n",
        "        try:\n",
        "          # monthly or weekly\n",
        "          results = get_economic_indicators(indicator,key,throttle=throttle)\n",
        "          summary.append(results['summary'])\n",
        "          df = results['data']\n",
        "          print(f\"Complete:===>{indicator}\")\n",
        "\n",
        "          # reindex to daily, fill missing values forward\n",
        "          days = pd.date_range(start = min(df.index),end =max(df.index),freq='D')\n",
        "          df =df.reindex(days,method = 'ffill')\n",
        "      \n",
        "          # join with the other data\n",
        "          dff = dff.join(df,how='left')\n",
        "          dff.rename(columns={\"value\": values['name']},inplace=True)\n",
        "          dff.drop(['name', 'interval'], axis=1,inplace = True)\n",
        "        except:\n",
        "          print(f\"Error===>{indicator}\")\n",
        "\n",
        "  # # Technical Indicators\n",
        "  # ****************************************************************************\n",
        "  for indicator,values in config['Technical'].items():\n",
        "    try:\n",
        "      results = get_technical_indicators(symbol,indicator,key,values['interval'],values['time_period'],throttle)\n",
        "      df = results['data']\n",
        "      summary.append(results['summary'])\n",
        "\n",
        "      dff = dff.join(df,how='left')\n",
        "      print(f\"Complete:===>{indicator}\")\n",
        "    except:\n",
        "      print(f\"Error===>{indicator}\")\n",
        "\n",
        "  \n",
        "  # clean column names\n",
        "  dff.rename(columns={\"Real Upper Band\":'b-upper',\n",
        "                      \"Real Lower Band\":'b-lower',\n",
        "                      \"Real Middle Band\":\"b-middle\",\n",
        "                      \"RSI\":\"rsi\",\n",
        "                      \"MACD_Hist\":\"macd_hist\",\n",
        "                      \"MACD_Signal\":\"macd_signal\",\n",
        "                      \"MACD\":\"macd\"\n",
        "                      },inplace=True)\n",
        "      \n",
        "\n",
        "  # Fill in any missing data after joining all datasets\n",
        "  dff.fillna(method='bfill',inplace=True,axis = 0)\n",
        "\n",
        "  # drop rows with missing commodity prices\n",
        "  if dropna:\n",
        "    dff.dropna(how='any',inplace=True)\n",
        "\n",
        "  # print the results table\n",
        "  print(\"\\n\\n\")\n",
        "  print(tabulate(summary,header))\n",
        "\n",
        "  return dff"
      ],
      "execution_count": null,
      "outputs": []
    },
    {
      "cell_type": "markdown",
      "metadata": {
        "id": "m6MU_at9beRA"
      },
      "source": [
        "## Pull Stock Data"
      ]
    },
    {
      "cell_type": "code",
      "metadata": {
        "colab": {
          "background_save": true,
          "base_uri": "https://localhost:8080/"
        },
        "id": "j9i-5dIkl0kn",
        "outputId": "f1f2ec1c-967b-4173-e3ea-d00caf0cbd31"
      },
      "source": [
        "# Get Consolidated Data\n",
        "# https://etfdb.com/\n",
        "# stock:  BLX.TO =  jan 2005, VMW = aug 2007\n",
        "# S&P500: SPY = jan 1993\n",
        "# gold:   GLD = nov 2004\n",
        "# oil:    USO =apr 2006, OIL = apr 2011\n",
        "# energy: PBD =  jun 2007 (clean), PBW=mar 2005 (cleaner oil & gas), XLE= dec 1998 (oil & gas)\n",
        "# gas:    UNL = jan 2010, BOIL=oct 2011\n",
        "# vol:    VXX = jan 2009\n",
        "# TSX:    EWC = mar 1996\n",
        "# tech: VGT (jan 2004-tech), QQQ (1999-nasdaq), SKYY (jul 2011 - cloud)\n",
        "\n",
        "# VMW\n",
        "# config ={'Economic':\n",
        "#          {'TREASURY_YIELD':[{'interval':'daily','maturity':'5year','name':'yield5y'},\n",
        "#                             {'interval':'daily','maturity':'10year','name':'yield10y'},\n",
        "#                             {'interval':'daily','maturity':'30year','name':'yield30y'},\n",
        "#                             {'interval':'daily','maturity':'3month','name':'yield3m'}\n",
        "#                             ],\n",
        "#           'FEDERAL_FUNDS_RATE':{'interval':'daily','name':'ir'},\n",
        "#           'NONFARM_PAYROLL':{'interval':'monthly','name':'nfp'},\n",
        "#           'UNEMPLOYMENT':{'interval':'monthly','name':'unemployment'},\n",
        "#           'CONSUMER_SENTIMENT':{'interval':'monthly','name':'cs'},\n",
        "#           'INFLATION_EXPECTATION':{'interval':'monthly','name':'infl'},\n",
        "#           },\n",
        "#          'Technical':{\n",
        "#            'BBANDS':{'interval':'daily','time_period':20},\n",
        "#            'RSI':{'interval':'daily','time_period':14},\n",
        "#            'MACD':{'interval':'daily','time_period':None}\n",
        "#            },\n",
        "#          'Commodities':['GLD','OIL','SPY','VXX','QQQ','SKYY','VGT']\n",
        "#          }\n",
        "\n",
        "#BLX.TO\n",
        "config ={'Economic':\n",
        "         {'TREASURY_YIELD':[{'interval':'daily','maturity':'5year','name':'yield5y'},\n",
        "                            {'interval':'daily','maturity':'10year','name':'yield10y'},\n",
        "                            {'interval':'daily','maturity':'30year','name':'yield30y'},\n",
        "                            {'interval':'daily','maturity':'3month','name':'yield3m'}\n",
        "                            ],\n",
        "          'FEDERAL_FUNDS_RATE':{'interval':'daily','name':'ir'},\n",
        "          'NONFARM_PAYROLL':{'interval':'monthly','name':'nfp'},\n",
        "          'UNEMPLOYMENT':{'interval':'monthly','name':'unemployment'},\n",
        "          'CONSUMER_SENTIMENT':{'interval':'monthly','name':'cs'},\n",
        "          'INFLATION_EXPECTATION':{'interval':'monthly','name':'infl'},\n",
        "          },\n",
        "         'Technical':{\n",
        "           'BBANDS':{'interval':'daily','time_period':20},\n",
        "           'RSI':{'interval':'daily','time_period':14},\n",
        "           'MACD':{'interval':'daily','time_period':None}\n",
        "           },\n",
        "         'Commodities':['GLD','OIL','SPY','PBD','XLE','EWC','VXX']\n",
        "         }\n",
        "\n",
        "\n",
        "# compact, full\n",
        "stock = 'BLX.TO'\n",
        "outputsize = 'full'\n",
        "df_s = get_consolidated_stock_data(stock,key,config,throttle=30,outputsize=outputsize,dropna=True)\n",
        "\n",
        "\n",
        "# save to google drive\n",
        "df_s.to_pickle(f'/content/drive/MyDrive/Colab Notebooks/data/{stock}_market_data.pickle')\n",
        "df_s.to_csv(f'/content/drive/MyDrive/Colab Notebooks/data/{stock}_market_data.csv')\n"
      ],
      "execution_count": null,
      "outputs": [
        {
          "name": "stdout",
          "output_type": "stream",
          "text": [
            "Complete:===>Ticker:BLX.TO\n",
            "Complete:===>Commodity:GLD\n",
            "Complete:===>Commodity:OIL\n",
            "Complete:===>Commodity:SPY\n",
            "Complete:===>Commodity:PBD\n",
            "Complete:===>Commodity:XLE\n",
            "Complete:===>Commodity:EWC\n",
            "Complete:===>Commodity:VXX\n",
            "Complete:===>TREASURY_YIELD:5year\n",
            "Complete:===>TREASURY_YIELD:10year\n",
            "Complete:===>TREASURY_YIELD:30year\n",
            "Complete:===>TREASURY_YIELD:3month\n",
            "Complete:===>FEDERAL_FUNDS_RATE\n",
            "Complete:===>NONFARM_PAYROLL\n",
            "Complete:===>UNEMPLOYMENT\n",
            "Complete:===>CONSUMER_SENTIMENT\n",
            "Complete:===>INFLATION_EXPECTATION\n",
            "Complete:===>BBANDS\n",
            "Complete:===>RSI\n",
            "Complete:===>MACD\n",
            "\n",
            "\n",
            "\n",
            "Type                 Data                     Total    Missing   %      Action\n",
            "-------------------  ---------------------  -------  ---------  ------  -----------\n",
            "Ticker               BLX.TO                    4190          0  0.0%    none\n",
            "Ticker               GLD                       4237          0  0.0%    none\n",
            "Ticker               OIL                       2620          0  0.0%    none\n",
            "Ticker               SPY                       5506          0  0.0%    none\n",
            "Ticker               PBD                       3593          0  0.0%    none\n",
            "Ticker               XLE                       5506          0  0.0%    none\n",
            "Ticker               EWC                       5506          0  0.0%    none\n",
            "Ticker               VXX                       3181          0  0.0%    none\n",
            "Economic Indicator   TREASURY_YIELD:5year     15578        664  4.26%   interpolate\n",
            "Economic Indicator   TREASURY_YIELD:10year    15578        664  4.26%   interpolate\n",
            "Economic Indicator   TREASURY_YIELD:30year    11633        489  4.2%    interpolate\n",
            "Economic Indicator   TREASURY_YIELD:3month    10448        436  4.17%   interpolate\n",
            "Economic Indicator   FEDERAL_FUNDS_RATE       24550          0  0.0%    none\n",
            "Economic Indicator   NONFARM_PAYROLL            992          0  0.0%    none\n",
            "Economic Indicator   UNEMPLOYMENT               884          0  0.0%    none\n",
            "Economic Indicator   CONSUMER_SENTIMENT         825        210  25.45%  interpolate\n",
            "Economic Indicator   INFLATION_EXPECTATION      523          0  0.0%    none\n",
            "Technical Indicator  BBANDS                    4171          0  0.0%    none\n",
            "Technical Indicator  RSI                       4176          0  0.0%    none\n",
            "Technical Indicator  MACD                      4157          0  0.0%    none\n"
          ]
        }
      ]
    },
    {
      "cell_type": "markdown",
      "metadata": {
        "id": "csbZsFOmhaCz"
      },
      "source": [
        "# Feature Selection"
      ]
    },
    {
      "cell_type": "markdown",
      "metadata": {
        "id": "f1lDaR9P695e"
      },
      "source": [
        "## Feature Importance"
      ]
    },
    {
      "cell_type": "code",
      "metadata": {
        "id": "F4FLEVdedZqp"
      },
      "source": [
        "def plot_feature_importance(df,num_features,seed):\n",
        "  \"\"\"\n",
        "  Calculate the feature importance and rank using RFE and random forest regression\n",
        "  Input: \n",
        "    df: dataframe of features. Expects that the close price is the target variable\n",
        "    num_features: the number of features to rank\n",
        "    seed: set the seed for reproducability\n",
        "  Output:\n",
        "    A list of top features, and plos of feature importance and ranks\n",
        "  \"\"\"\n",
        "\n",
        "  # get y target\n",
        "  y = df.close\n",
        "\n",
        "  # exclude price features and the symbol name from the feature list\n",
        "  cols = [c for c in df.columns if c not in  ['symbol','close','open','high','low']]\n",
        "  X = df[cols]\n",
        "\n",
        "\n",
        "  # fit random forest model to get feature importance scores\n",
        "  model = RandomForestRegressor(n_estimators=500, random_state=seed)\n",
        "  model.fit(X, y)\n",
        "\n",
        "  # use RFE to rank features\n",
        "  rfe = RFE(RandomForestRegressor(n_estimators=500, random_state=seed), n_features_to_select=num_features)\n",
        "  fit = rfe.fit(X, y)\n",
        "\n",
        "  # create plots\n",
        "  fig = make_subplots(rows=1, cols=2,\n",
        "                      subplot_titles = ('Feature Importance','Feature Ranks'),\n",
        "                      shared_yaxes=True\n",
        "  )\n",
        "\n",
        "  # Print Top Features\n",
        "  selected =[]\n",
        "  for i in range(len(fit.support_)):\n",
        "    if fit.support_[i]:\n",
        "      selected.append(cols[i])\n",
        "  \n",
        "  print(\"Top Ranked Features\")\n",
        "  print(\"=\"*60)\n",
        "  print(selected)\n",
        "  \n",
        "  # create the plot of feature importance\n",
        "  fig.add_trace(go.Bar(\n",
        "              name = 'Importance',\n",
        "              x=model.feature_importances_,\n",
        "              y=cols,\n",
        "              orientation='h',\n",
        "              marker=dict(color='skyblue'),\n",
        "              opacity = 0.5\n",
        "    ),row=1,col=1\n",
        "  )\n",
        "\n",
        "  # feature rank\n",
        "  fig.add_trace(go.Bar(\n",
        "      name = 'Rank',\n",
        "      x = fit.ranking_,\n",
        "      y= cols,\n",
        "      orientation = 'h',\n",
        "      marker=dict(color='crimson'),\n",
        "      opacity = 0.5\n",
        "    ),row=1,col=2\n",
        "  )\n",
        "\n",
        "  fig.update_layout(\n",
        "      title = 'Feature Importance',\n",
        "      template='plotly_white',\n",
        "                    width=700,\n",
        "                    height=800,\n",
        "                    xaxis={'categoryorder':'total ascending'})\n",
        "\n",
        "  fig.show()\n",
        "  return selected\n"
      ],
      "execution_count": null,
      "outputs": []
    },
    {
      "cell_type": "markdown",
      "metadata": {
        "id": "s3NrcCQnYW2m"
      },
      "source": [
        "## Create Lag Features\n",
        "Try shifting each feature to lag the closing price and check the magnitude of correlations increase\n"
      ]
    },
    {
      "cell_type": "code",
      "metadata": {
        "id": "O0FqzBSTGowW"
      },
      "source": [
        "def shift_features(df,features_shift):\n",
        "  \"\"\"\n",
        "  Shifts features by time periods to convert them to lagged indicators\n",
        "  Input:\n",
        "    df: dataframe of features\n",
        "    features_shift: dictionary  of {feature:period shift}\n",
        "  Output:\n",
        "    df: original dataframe + the shifted features\n",
        "  \"\"\"\n",
        "  dff = df.copy()\n",
        "  for feature,shift in features_shift.items():\n",
        "    t_shift = pd.DataFrame(dff[feature].shift(periods=shift))\n",
        "    dff =dff.join(t_shift,how='left',rsuffix='_shift')\n",
        "\n",
        "  # remove nan introducted with lag features\n",
        "  dff.dropna(how='any',inplace=True)\n",
        "\n",
        "  return dff"
      ],
      "execution_count": null,
      "outputs": []
    },
    {
      "cell_type": "markdown",
      "metadata": {
        "id": "eYJcnB3bA954"
      },
      "source": [
        "#### VM Ware (VMW)"
      ]
    },
    {
      "cell_type": "code",
      "metadata": {
        "colab": {
          "base_uri": "https://localhost:8080/",
          "height": 1000
        },
        "id": "VxyIcm6VMkKC",
        "outputId": "8bad8f4f-166f-4871-be1f-028b8620ca11"
      },
      "source": [
        "# VMW\n",
        "stock= 'VMW'\n",
        "features_shift ={'OIL':-60,'VXX':-60,'cs':-20}\n",
        "df_vmw = shift_features(df_s,features_shift)\n",
        "\n",
        "\n",
        "# check correlations\n",
        "plot_corr(df_vmw)\n",
        "\n",
        "# plot feature importance and ranks\n",
        "features = plot_feature_importance(df_vmw,6,1985)\n",
        "\n",
        "\n",
        "# subset features, add back the price features\n",
        "[selected.append(f) for f in ['open','close','high','low']]\n",
        "df_vmw_features = df_vmw[selected]\n",
        "\n",
        "\n",
        "# save to google drive\n",
        "df_vmw_features.to_pickle(f'/content/drive/MyDrive/Colab Notebooks/data/{stock}_market_data_features.pickle')\n",
        "df_vmw_features.to_csv(f'/content/drive/MyDrive/Colab Notebooks/data/{stock}_market_data_features.csv')\n"
      ],
      "execution_count": null,
      "outputs": [
        {
          "data": {
            "text/html": [
              "<html>\n",
              "<head><meta charset=\"utf-8\" /></head>\n",
              "<body>\n",
              "    <div>\n",
              "            <script src=\"https://cdnjs.cloudflare.com/ajax/libs/mathjax/2.7.5/MathJax.js?config=TeX-AMS-MML_SVG\"></script><script type=\"text/javascript\">if (window.MathJax) {MathJax.Hub.Config({SVG: {font: \"STIX-Web\"}});}</script>\n",
              "                <script type=\"text/javascript\">window.PlotlyConfig = {MathJaxConfig: 'local'};</script>\n",
              "        <script src=\"https://cdn.plot.ly/plotly-latest.min.js\"></script>    \n",
              "            <div id=\"f84ef64e-1d66-48b8-b642-9912c5a1e012\" class=\"plotly-graph-div\" style=\"height:800px; width:800px;\"></div>\n",
              "            <script type=\"text/javascript\">\n",
              "                \n",
              "                    window.PLOTLYENV=window.PLOTLYENV || {};\n",
              "                    \n",
              "                if (document.getElementById(\"f84ef64e-1d66-48b8-b642-9912c5a1e012\")) {\n",
              "                    Plotly.newPlot(\n",
              "                        'f84ef64e-1d66-48b8-b642-9912c5a1e012',\n",
              "                        [{\"colorscale\": [[0.0, \"rgb(247, 254, 174)\"], [0.16666666666666666, \"rgb(183, 230, 165)\"], [0.3333333333333333, \"rgb(124, 203, 162)\"], [0.5, \"rgb(70, 174, 160)\"], [0.6666666666666666, \"rgb(8, 144, 153)\"], [0.8333333333333334, \"rgb(0, 113, 139)\"], [1.0, \"rgb(4, 82, 117)\"]], \"type\": \"heatmap\", \"x\": [\"close\", \"volume\", \"GLD\", \"OIL\", \"SPY\", \"VXX\", \"QQQ\", \"SKYY\", \"VGT\", \"yield5y\", \"yield10y\", \"yield30y\", \"yield3m\", \"ir\", \"nfp\", \"unemployment\", \"cs\", \"infl\", \"b-middle\", \"rsi\", \"macd_signal\", \"OIL_shift\", \"VXX_shift\", \"cs_shift\"], \"y\": [\"close\", \"volume\", \"GLD\", \"OIL\", \"SPY\", \"VXX\", \"QQQ\", \"SKYY\", \"VGT\", \"yield5y\", \"yield10y\", \"yield30y\", \"yield3m\", \"ir\", \"nfp\", \"unemployment\", \"cs\", \"infl\", \"b-middle\", \"rsi\", \"macd_signal\", \"OIL_shift\", \"VXX_shift\", \"cs_shift\"], \"z\": [[1.0, -0.21802908138855034, 0.33348947535437856, -0.3387906395006367, 0.7379054293428349, 0.16600435233700814, 0.7240366134487698, 0.7577860725001039, 0.7443773429843774, 0.19153171023987756, -0.09855622367836064, -0.37407899676014317, 0.62960086282698, 0.6111201446108785, 0.5432640707117397, -0.2232291174360817, 0.17189193059391752, 0.16409010027371024, 0.9702767642137395, 0.1575758326136742, 0.2483137284108343, -0.4040622349489108, 0.25444232488463425, 0.1934793540446472], [-0.21802908138855034, 1.0, -0.06302889626842, 0.10244062964626088, -0.19736686729999237, 0.03980656120888002, -0.19698425205844677, -0.19756732281196282, -0.20014469899914558, -0.020934034352075328, 0.047174666590225754, 0.10541899936406239, -0.08789990550047701, -0.08703139418864364, -0.13361903509136452, 0.05847156614343584, -0.04966357585132007, -0.03990826641288127, -0.20711621409901637, -0.11428879649711252, -0.07940453443350261, 0.11026763910177109, -0.03466469643298836, -0.05072986177315848], [0.33348947535437856, -0.06302889626842, 1.0, 0.12235947420682637, 0.2649284165478372, -0.03526519523114645, 0.41442175911730433, 0.4196360820368858, 0.44838116955324414, -0.7519029350496064, -0.7088291451047584, -0.5471744437617035, -0.30351617385188023, -0.3134418723729189, -0.3465000426329246, 0.5577492373911818, -0.6744705585814195, 0.5064327875759997, 0.39855752510818526, -0.06406911733713186, -0.05079789600070424, 0.040461183132720596, -0.019419379259241643, -0.665490408231904], [-0.3387906395006367, 0.10244062964626088, 0.12235947420682637, 1.0, -0.6617625807352591, 0.05380766000951395, -0.6129627392839129, -0.5902725630647119, -0.5883695292251427, -0.1486482593646558, 0.3218586586176913, 0.6381811760372925, -0.41734108086373384, -0.41870866737742934, -0.6816131461260584, 0.3787343505667392, -0.5203088429467501, 0.37933371234957186, -0.38548728636476476, -0.07224157359202678, -0.02763660755981899, 0.940589239724819, 0.16508972553618426, -0.553160807557245], [0.7379054293428349, -0.19736686729999237, 0.2649284165478372, -0.6617625807352591, 1.0, -0.006959657405727979, 0.9816910314050571, 0.9776732482861814, 0.9760754158362593, 0.01792336998850945, -0.3355702442168076, -0.6233076357625048, 0.3278309024550975, 0.31373120873143784, 0.6400107957567378, -0.30739788653233985, 0.2642000821484872, 0.20614693035776632, 0.781920750485044, 0.04375354242672592, 0.08830355765554614, -0.714441852208162, 0.01584683219313611, 0.2897339960060249], [0.16600435233700814, 0.03980656120888002, -0.03526519523114645, 0.05380766000951395, -0.006959657405727979, 1.0, -0.009414582513070537, 0.0024695909002359776, -0.009890028473398487, 0.21348076657900975, 0.19867899468488232, 0.09458564264973743, 0.1493832066716972, 0.12396032032998347, -0.04101852193346778, 0.11723213109685872, -0.05350874219468615, 0.07626708561807023, 0.11955513163237583, 0.019562688478508658, 0.04244512542734127, 0.10398435792501738, 0.23882832751698954, -0.05461341316480303], [0.7240366134487698, -0.19698425205844677, 0.41442175911730433, -0.6129627392839129, 0.9816910314050571, -0.009414582513070537, 1.0, 0.9958616099686087, 0.9983538312150322, -0.13658862677959274, -0.455622994765712, -0.690954206592392, 0.21496664386909228, 0.19765231681049145, 0.5109295414221895, -0.16078978266835176, 0.10185275274184741, 0.2887626984543331, 0.780720216165337, 0.009053940053097415, 0.06171224829133743, -0.6674293008102247, 0.003951603158835054, 0.12864296344864376], [0.7577860725001039, -0.19756732281196282, 0.4196360820368858, -0.5902725630647119, 0.9776732482861814, 0.0024695909002359776, 0.9958616099686087, 1.0, 0.9963068797863014, -0.11230477439117456, -0.4229826053758786, -0.6599073131295469, 0.2511252806486606, 0.23270593396989026, 0.5162032093230688, -0.1698845844515775, 0.10014816319481319, 0.2982239607659073, 0.8078700227717104, 0.027967155386272986, 0.0897567642921733, -0.6546272007929006, 0.025459258154985686, 0.12384640814219991], [0.7443773429843774, -0.20014469899914558, 0.44838116955324414, -0.5883695292251427, 0.9760754158362593, -0.009890028473398487, 0.9983538312150322, 0.9963068797863014, 1.0, -0.15503918731315255, -0.4676447565517184, -0.6948023819436229, 0.21954137939799018, 0.20288284239720963, 0.4951703746621558, -0.13978973912196244, 0.07629274124558204, 0.3011991244839327, 0.8027248672737863, 0.004881666725288622, 0.0571127610597859, -0.6463916319756176, 0.009753527450799212, 0.10476418459796888], [0.19153171023987756, -0.020934034352075328, -0.7519029350496064, -0.1486482593646558, 0.01792336998850945, 0.21348076657900975, -0.13658862677959274, -0.11230477439117456, -0.15503918731315255, 1.0, 0.8561999604606834, 0.5429423437695156, 0.7389789161336816, 0.7233758102395245, 0.6000548797332566, -0.708241226290572, 0.7499272304374194, -0.3549078617560371, 0.058464729755734704, 0.1900050419805543, 0.2273762788238302, -0.15110250169862305, 0.25105837889701177, 0.7383395080483465], [-0.09855622367836064, 0.047174666590225754, -0.7088291451047584, 0.3218586586176913, -0.3355702442168076, 0.19867899468488232, -0.455622994765712, -0.4229826053758786, -0.4676447565517184, 0.8561999604606834, 1.0, 0.8929117123013084, 0.40613443528830767, 0.39091180946583964, 0.20262392277996938, -0.48871351099635896, 0.4505502778333807, -0.14915545962297488, -0.2429190563007641, 0.17283070672711862, 0.2202509709849316, 0.2901705113140993, 0.21736344776734162, 0.4211446470756463], [-0.37407899676014317, 0.10541899936406239, -0.5471744437617035, 0.6381811760372925, -0.6233076357625048, 0.09458564264973743, -0.690954206592392, -0.6599073131295469, -0.6948023819436229, 0.5429423437695156, 0.8929117123013084, 1.0, 0.04860102605794896, 0.041482032813006664, -0.17815386538697953, -0.2060559990233037, 0.119528644815873, -0.012596139170098724, -0.4921921906756322, 0.11865084140208584, 0.15650921915842286, 0.5950025070860949, 0.11817378260385793, 0.07982490893053111], [0.62960086282698, -0.08789990550047701, -0.30351617385188023, -0.41734108086373384, 0.3278309024550975, 0.1493832066716972, 0.21496664386909228, 0.2511252806486606, 0.21954137939799018, 0.7389789161336816, 0.40613443528830767, 0.04860102605794896, 1.0, 0.9929837271882773, 0.7588252359070321, -0.6182213912333986, 0.6503206433348051, -0.36595028065272067, 0.5538563953612502, 0.15049062840149394, 0.18948736198885077, -0.4346104696208456, 0.20433568173679842, 0.6602258934024963], [0.6111201446108785, -0.08703139418864364, -0.3134418723729189, -0.41870866737742934, 0.31373120873143784, 0.12396032032998347, 0.19765231681049145, 0.23270593396989026, 0.20288284239720963, 0.7233758102395245, 0.39091180946583964, 0.041482032813006664, 0.9929837271882773, 1.0, 0.7579835694178111, -0.6217174973559169, 0.6540413179276036, -0.38602687160422944, 0.5468384457577334, 0.13670131629515236, 0.1582413498215007, -0.43042253207014897, 0.17692197166673923, 0.6717440672747158], [0.5432640707117397, -0.13361903509136452, -0.3465000426329246, -0.6816131461260584, 0.6400107957567378, -0.04101852193346778, 0.5109295414221895, 0.5162032093230688, 0.4951703746621558, 0.6000548797332566, 0.20262392277996938, -0.17815386538697953, 0.7588252359070321, 0.7579835694178111, 1.0, -0.8501310606369415, 0.8011430655072176, -0.2934553885142276, 0.5161885032335769, 0.1527511495914034, 0.19482829161794357, -0.7150675592746096, 0.037102791151606834, 0.7803198055903392], [-0.2232291174360817, 0.05847156614343584, 0.5577492373911818, 0.3787343505667392, -0.30739788653233985, 0.11723213109685872, -0.16078978266835176, -0.1698845844515775, -0.13978973912196244, -0.708241226290572, -0.48871351099635896, -0.2060559990233037, -0.6182213912333986, -0.6217174973559169, -0.8501310606369415, 1.0, -0.8430975662602873, 0.27560369495815984, -0.1658883492250247, -0.13930307864894775, -0.2150702886157338, 0.4155102463493835, -0.08223018921106205, -0.7794275545931315], [0.17189193059391752, -0.04966357585132007, -0.6744705585814195, -0.5203088429467501, 0.2642000821484872, -0.05350874219468615, 0.10185275274184741, 0.10014816319481319, 0.07629274124558204, 0.7499272304374194, 0.4505502778333807, 0.119528644815873, 0.6503206433348051, 0.6540413179276036, 0.8011430655072176, -0.8430975662602873, 1.0, -0.5078803263546878, 0.11511352284040294, 0.160547529006137, 0.16299876119012066, -0.5064746529343793, 0.061968222059250795, 0.9159025626244616], [0.16409010027371024, -0.03990826641288127, 0.5064327875759997, 0.37933371234957186, 0.20614693035776632, 0.07626708561807023, 0.2887626984543331, 0.2982239607659073, 0.3011991244839327, -0.3549078617560371, -0.14915545962297488, -0.012596139170098724, -0.36595028065272067, -0.38602687160422944, -0.2934553885142276, 0.27560369495815984, -0.5078803263546878, 1.0, 0.16898672772767642, -0.06979935603787998, 0.04845866011702828, 0.2975506769271076, 0.06199771224418582, -0.49137254905415667], [0.9702767642137395, -0.20711621409901637, 0.39855752510818526, -0.38548728636476476, 0.781920750485044, 0.11955513163237583, 0.780720216165337, 0.8078700227717104, 0.8027248672737863, 0.058464729755734704, -0.2429190563007641, -0.4921921906756322, 0.5538563953612502, 0.5468384457577334, 0.5161885032335769, -0.1658883492250247, 0.11511352284040294, 0.16898672772767642, 1.0, 0.006129753238240016, 0.1414584556280771, -0.4401855581638724, 0.1989960444231439, 0.1479150569750105], [0.1575758326136742, -0.11428879649711252, -0.06406911733713186, -0.07224157359202678, 0.04375354242672592, 0.019562688478508658, 0.009053940053097415, 0.027967155386272986, 0.004881666725288622, 0.1900050419805543, 0.17283070672711862, 0.11865084140208584, 0.15049062840149394, 0.13670131629515236, 0.1527511495914034, -0.13930307864894775, 0.160547529006137, -0.06979935603787998, 0.006129753238240016, 1.0, 0.6078662524579831, -0.16142760228672148, 0.031623838012586024, 0.13581948765141297], [0.2483137284108343, -0.07940453443350261, -0.05079789600070424, -0.02763660755981899, 0.08830355765554614, 0.04244512542734127, 0.06171224829133743, 0.0897567642921733, 0.0571127610597859, 0.2273762788238302, 0.2202509709849316, 0.15650921915842286, 0.18948736198885077, 0.1582413498215007, 0.19482829161794357, -0.2150702886157338, 0.16299876119012066, 0.04845866011702828, 0.1414584556280771, 0.6078662524579831, 1.0, -0.13038455527988005, 0.17882932646535699, 0.09844419772085299], [-0.4040622349489108, 0.11026763910177109, 0.040461183132720596, 0.940589239724819, -0.714441852208162, 0.10398435792501738, -0.6674293008102247, -0.6546272007929006, -0.6463916319756176, -0.15110250169862305, 0.2901705113140993, 0.5950025070860949, -0.4346104696208456, -0.43042253207014897, -0.7150675592746096, 0.4155102463493835, -0.5064746529343793, 0.2975506769271076, -0.4401855581638724, -0.16142760228672148, -0.13038455527988005, 1.0, 0.06945166012593766, -0.5246514422620773], [0.25444232488463425, -0.03466469643298836, -0.019419379259241643, 0.16508972553618426, 0.01584683219313611, 0.23882832751698954, 0.003951603158835054, 0.025459258154985686, 0.009753527450799212, 0.25105837889701177, 0.21736344776734162, 0.11817378260385793, 0.20433568173679842, 0.17692197166673923, 0.037102791151606834, -0.08223018921106205, 0.061968222059250795, 0.06199771224418582, 0.1989960444231439, 0.031623838012586024, 0.17882932646535699, 0.06945166012593766, 1.0, 0.018778295407417833], [0.1934793540446472, -0.05072986177315848, -0.665490408231904, -0.553160807557245, 0.2897339960060249, -0.05461341316480303, 0.12864296344864376, 0.12384640814219991, 0.10476418459796888, 0.7383395080483465, 0.4211446470756463, 0.07982490893053111, 0.6602258934024963, 0.6717440672747158, 0.7803198055903392, -0.7794275545931315, 0.9159025626244616, -0.49137254905415667, 0.1479150569750105, 0.13581948765141297, 0.09844419772085299, -0.5246514422620773, 0.018778295407417833, 1.0]]}],\n",
              "                        {\"height\": 800, \"template\": {\"data\": {\"bar\": [{\"error_x\": {\"color\": \"#2a3f5f\"}, \"error_y\": {\"color\": \"#2a3f5f\"}, \"marker\": {\"line\": {\"color\": \"white\", \"width\": 0.5}}, \"type\": \"bar\"}], \"barpolar\": [{\"marker\": {\"line\": {\"color\": \"white\", \"width\": 0.5}}, \"type\": \"barpolar\"}], \"carpet\": [{\"aaxis\": {\"endlinecolor\": \"#2a3f5f\", \"gridcolor\": \"#C8D4E3\", \"linecolor\": \"#C8D4E3\", \"minorgridcolor\": \"#C8D4E3\", \"startlinecolor\": \"#2a3f5f\"}, \"baxis\": {\"endlinecolor\": \"#2a3f5f\", \"gridcolor\": \"#C8D4E3\", \"linecolor\": \"#C8D4E3\", \"minorgridcolor\": \"#C8D4E3\", \"startlinecolor\": \"#2a3f5f\"}, \"type\": \"carpet\"}], \"choropleth\": [{\"colorbar\": {\"outlinewidth\": 0, \"ticks\": \"\"}, \"type\": \"choropleth\"}], \"contour\": [{\"colorbar\": {\"outlinewidth\": 0, \"ticks\": \"\"}, \"colorscale\": [[0.0, \"#0d0887\"], [0.1111111111111111, \"#46039f\"], [0.2222222222222222, \"#7201a8\"], [0.3333333333333333, \"#9c179e\"], [0.4444444444444444, \"#bd3786\"], [0.5555555555555556, \"#d8576b\"], [0.6666666666666666, \"#ed7953\"], [0.7777777777777778, \"#fb9f3a\"], [0.8888888888888888, \"#fdca26\"], [1.0, \"#f0f921\"]], \"type\": \"contour\"}], \"contourcarpet\": [{\"colorbar\": {\"outlinewidth\": 0, \"ticks\": \"\"}, \"type\": \"contourcarpet\"}], \"heatmap\": [{\"colorbar\": {\"outlinewidth\": 0, \"ticks\": \"\"}, \"colorscale\": [[0.0, \"#0d0887\"], [0.1111111111111111, \"#46039f\"], [0.2222222222222222, \"#7201a8\"], [0.3333333333333333, \"#9c179e\"], [0.4444444444444444, \"#bd3786\"], [0.5555555555555556, \"#d8576b\"], [0.6666666666666666, \"#ed7953\"], [0.7777777777777778, \"#fb9f3a\"], [0.8888888888888888, \"#fdca26\"], [1.0, \"#f0f921\"]], \"type\": \"heatmap\"}], \"heatmapgl\": [{\"colorbar\": {\"outlinewidth\": 0, \"ticks\": \"\"}, \"colorscale\": [[0.0, \"#0d0887\"], [0.1111111111111111, \"#46039f\"], [0.2222222222222222, \"#7201a8\"], [0.3333333333333333, \"#9c179e\"], [0.4444444444444444, \"#bd3786\"], [0.5555555555555556, \"#d8576b\"], [0.6666666666666666, \"#ed7953\"], [0.7777777777777778, \"#fb9f3a\"], [0.8888888888888888, \"#fdca26\"], [1.0, \"#f0f921\"]], \"type\": \"heatmapgl\"}], \"histogram\": [{\"marker\": {\"colorbar\": {\"outlinewidth\": 0, \"ticks\": \"\"}}, \"type\": \"histogram\"}], \"histogram2d\": [{\"colorbar\": {\"outlinewidth\": 0, \"ticks\": \"\"}, \"colorscale\": [[0.0, \"#0d0887\"], [0.1111111111111111, \"#46039f\"], [0.2222222222222222, \"#7201a8\"], [0.3333333333333333, \"#9c179e\"], [0.4444444444444444, \"#bd3786\"], [0.5555555555555556, \"#d8576b\"], [0.6666666666666666, \"#ed7953\"], [0.7777777777777778, \"#fb9f3a\"], [0.8888888888888888, \"#fdca26\"], [1.0, \"#f0f921\"]], \"type\": \"histogram2d\"}], \"histogram2dcontour\": [{\"colorbar\": {\"outlinewidth\": 0, \"ticks\": \"\"}, \"colorscale\": [[0.0, \"#0d0887\"], [0.1111111111111111, \"#46039f\"], [0.2222222222222222, \"#7201a8\"], [0.3333333333333333, \"#9c179e\"], [0.4444444444444444, \"#bd3786\"], [0.5555555555555556, \"#d8576b\"], [0.6666666666666666, \"#ed7953\"], [0.7777777777777778, \"#fb9f3a\"], [0.8888888888888888, \"#fdca26\"], [1.0, \"#f0f921\"]], \"type\": \"histogram2dcontour\"}], \"mesh3d\": [{\"colorbar\": {\"outlinewidth\": 0, \"ticks\": \"\"}, \"type\": \"mesh3d\"}], \"parcoords\": [{\"line\": {\"colorbar\": {\"outlinewidth\": 0, \"ticks\": \"\"}}, \"type\": \"parcoords\"}], \"pie\": [{\"automargin\": true, \"type\": \"pie\"}], \"scatter\": [{\"marker\": {\"colorbar\": {\"outlinewidth\": 0, \"ticks\": \"\"}}, \"type\": \"scatter\"}], \"scatter3d\": [{\"line\": {\"colorbar\": {\"outlinewidth\": 0, \"ticks\": \"\"}}, \"marker\": {\"colorbar\": {\"outlinewidth\": 0, \"ticks\": \"\"}}, \"type\": \"scatter3d\"}], \"scattercarpet\": [{\"marker\": {\"colorbar\": {\"outlinewidth\": 0, \"ticks\": \"\"}}, \"type\": \"scattercarpet\"}], \"scattergeo\": [{\"marker\": {\"colorbar\": {\"outlinewidth\": 0, \"ticks\": \"\"}}, \"type\": \"scattergeo\"}], \"scattergl\": [{\"marker\": {\"colorbar\": {\"outlinewidth\": 0, \"ticks\": \"\"}}, \"type\": \"scattergl\"}], \"scattermapbox\": [{\"marker\": {\"colorbar\": {\"outlinewidth\": 0, \"ticks\": \"\"}}, \"type\": \"scattermapbox\"}], \"scatterpolar\": [{\"marker\": {\"colorbar\": {\"outlinewidth\": 0, \"ticks\": \"\"}}, \"type\": \"scatterpolar\"}], \"scatterpolargl\": [{\"marker\": {\"colorbar\": {\"outlinewidth\": 0, \"ticks\": \"\"}}, \"type\": \"scatterpolargl\"}], \"scatterternary\": [{\"marker\": {\"colorbar\": {\"outlinewidth\": 0, \"ticks\": \"\"}}, \"type\": \"scatterternary\"}], \"surface\": [{\"colorbar\": {\"outlinewidth\": 0, \"ticks\": \"\"}, \"colorscale\": [[0.0, \"#0d0887\"], [0.1111111111111111, \"#46039f\"], [0.2222222222222222, \"#7201a8\"], [0.3333333333333333, \"#9c179e\"], [0.4444444444444444, \"#bd3786\"], [0.5555555555555556, \"#d8576b\"], [0.6666666666666666, \"#ed7953\"], [0.7777777777777778, \"#fb9f3a\"], [0.8888888888888888, \"#fdca26\"], [1.0, \"#f0f921\"]], \"type\": \"surface\"}], \"table\": [{\"cells\": {\"fill\": {\"color\": \"#EBF0F8\"}, \"line\": {\"color\": \"white\"}}, \"header\": {\"fill\": {\"color\": \"#C8D4E3\"}, \"line\": {\"color\": \"white\"}}, \"type\": \"table\"}]}, \"layout\": {\"annotationdefaults\": {\"arrowcolor\": \"#2a3f5f\", \"arrowhead\": 0, \"arrowwidth\": 1}, \"coloraxis\": {\"colorbar\": {\"outlinewidth\": 0, \"ticks\": \"\"}}, \"colorscale\": {\"diverging\": [[0, \"#8e0152\"], [0.1, \"#c51b7d\"], [0.2, \"#de77ae\"], [0.3, \"#f1b6da\"], [0.4, \"#fde0ef\"], [0.5, \"#f7f7f7\"], [0.6, \"#e6f5d0\"], [0.7, \"#b8e186\"], [0.8, \"#7fbc41\"], [0.9, \"#4d9221\"], [1, \"#276419\"]], \"sequential\": [[0.0, \"#0d0887\"], [0.1111111111111111, \"#46039f\"], [0.2222222222222222, \"#7201a8\"], [0.3333333333333333, \"#9c179e\"], [0.4444444444444444, \"#bd3786\"], [0.5555555555555556, \"#d8576b\"], [0.6666666666666666, \"#ed7953\"], [0.7777777777777778, \"#fb9f3a\"], [0.8888888888888888, \"#fdca26\"], [1.0, \"#f0f921\"]], \"sequentialminus\": [[0.0, \"#0d0887\"], [0.1111111111111111, \"#46039f\"], [0.2222222222222222, \"#7201a8\"], [0.3333333333333333, \"#9c179e\"], [0.4444444444444444, \"#bd3786\"], [0.5555555555555556, \"#d8576b\"], [0.6666666666666666, \"#ed7953\"], [0.7777777777777778, \"#fb9f3a\"], [0.8888888888888888, \"#fdca26\"], [1.0, \"#f0f921\"]]}, \"colorway\": [\"#636efa\", \"#EF553B\", \"#00cc96\", \"#ab63fa\", \"#FFA15A\", \"#19d3f3\", \"#FF6692\", \"#B6E880\", \"#FF97FF\", \"#FECB52\"], \"font\": {\"color\": \"#2a3f5f\"}, \"geo\": {\"bgcolor\": \"white\", \"lakecolor\": \"white\", \"landcolor\": \"white\", \"showlakes\": true, \"showland\": true, \"subunitcolor\": \"#C8D4E3\"}, \"hoverlabel\": {\"align\": \"left\"}, \"hovermode\": \"closest\", \"mapbox\": {\"style\": \"light\"}, \"paper_bgcolor\": \"white\", \"plot_bgcolor\": \"white\", \"polar\": {\"angularaxis\": {\"gridcolor\": \"#EBF0F8\", \"linecolor\": \"#EBF0F8\", \"ticks\": \"\"}, \"bgcolor\": \"white\", \"radialaxis\": {\"gridcolor\": \"#EBF0F8\", \"linecolor\": \"#EBF0F8\", \"ticks\": \"\"}}, \"scene\": {\"xaxis\": {\"backgroundcolor\": \"white\", \"gridcolor\": \"#DFE8F3\", \"gridwidth\": 2, \"linecolor\": \"#EBF0F8\", \"showbackground\": true, \"ticks\": \"\", \"zerolinecolor\": \"#EBF0F8\"}, \"yaxis\": {\"backgroundcolor\": \"white\", \"gridcolor\": \"#DFE8F3\", \"gridwidth\": 2, \"linecolor\": \"#EBF0F8\", \"showbackground\": true, \"ticks\": \"\", \"zerolinecolor\": \"#EBF0F8\"}, \"zaxis\": {\"backgroundcolor\": \"white\", \"gridcolor\": \"#DFE8F3\", \"gridwidth\": 2, \"linecolor\": \"#EBF0F8\", \"showbackground\": true, \"ticks\": \"\", \"zerolinecolor\": \"#EBF0F8\"}}, \"shapedefaults\": {\"line\": {\"color\": \"#2a3f5f\"}}, \"ternary\": {\"aaxis\": {\"gridcolor\": \"#DFE8F3\", \"linecolor\": \"#A2B1C6\", \"ticks\": \"\"}, \"baxis\": {\"gridcolor\": \"#DFE8F3\", \"linecolor\": \"#A2B1C6\", \"ticks\": \"\"}, \"bgcolor\": \"white\", \"caxis\": {\"gridcolor\": \"#DFE8F3\", \"linecolor\": \"#A2B1C6\", \"ticks\": \"\"}}, \"title\": {\"x\": 0.05}, \"xaxis\": {\"automargin\": true, \"gridcolor\": \"#EBF0F8\", \"linecolor\": \"#EBF0F8\", \"ticks\": \"\", \"title\": {\"standoff\": 15}, \"zerolinecolor\": \"#EBF0F8\", \"zerolinewidth\": 2}, \"yaxis\": {\"automargin\": true, \"gridcolor\": \"#EBF0F8\", \"linecolor\": \"#EBF0F8\", \"ticks\": \"\", \"title\": {\"standoff\": 15}, \"zerolinecolor\": \"#EBF0F8\", \"zerolinewidth\": 2}}}, \"title\": {\"text\": \"Feature Correlations\", \"x\": 0.5}, \"width\": 800, \"yaxis\": {\"autorange\": \"reversed\"}},\n",
              "                        {\"responsive\": true}\n",
              "                    ).then(function(){\n",
              "                            \n",
              "var gd = document.getElementById('f84ef64e-1d66-48b8-b642-9912c5a1e012');\n",
              "var x = new MutationObserver(function (mutations, observer) {{\n",
              "        var display = window.getComputedStyle(gd).display;\n",
              "        if (!display || display === 'none') {{\n",
              "            console.log([gd, 'removed!']);\n",
              "            Plotly.purge(gd);\n",
              "            observer.disconnect();\n",
              "        }}\n",
              "}});\n",
              "\n",
              "// Listen for the removal of the full notebook cells\n",
              "var notebookContainer = gd.closest('#notebook-container');\n",
              "if (notebookContainer) {{\n",
              "    x.observe(notebookContainer, {childList: true});\n",
              "}}\n",
              "\n",
              "// Listen for the clearing of the current output cell\n",
              "var outputEl = gd.closest('.output');\n",
              "if (outputEl) {{\n",
              "    x.observe(outputEl, {childList: true});\n",
              "}}\n",
              "\n",
              "                        })\n",
              "                };\n",
              "                \n",
              "            </script>\n",
              "        </div>\n",
              "</body>\n",
              "</html>"
            ]
          },
          "metadata": {},
          "output_type": "display_data"
        },
        {
          "name": "stdout",
          "output_type": "stream",
          "text": [
            "Top Ranked Features\n",
            "============================================================\n",
            "['SKYY', 'VGT', 'b-middle', 'b-lower', 'b-upper', 'rsi']\n"
          ]
        },
        {
          "data": {
            "text/html": [
              "<html>\n",
              "<head><meta charset=\"utf-8\" /></head>\n",
              "<body>\n",
              "    <div>\n",
              "            <script src=\"https://cdnjs.cloudflare.com/ajax/libs/mathjax/2.7.5/MathJax.js?config=TeX-AMS-MML_SVG\"></script><script type=\"text/javascript\">if (window.MathJax) {MathJax.Hub.Config({SVG: {font: \"STIX-Web\"}});}</script>\n",
              "                <script type=\"text/javascript\">window.PlotlyConfig = {MathJaxConfig: 'local'};</script>\n",
              "        <script src=\"https://cdn.plot.ly/plotly-latest.min.js\"></script>    \n",
              "            <div id=\"df3436d5-9d1a-41ea-90d3-3777bf8f7cec\" class=\"plotly-graph-div\" style=\"height:800px; width:700px;\"></div>\n",
              "            <script type=\"text/javascript\">\n",
              "                \n",
              "                    window.PLOTLYENV=window.PLOTLYENV || {};\n",
              "                    \n",
              "                if (document.getElementById(\"df3436d5-9d1a-41ea-90d3-3777bf8f7cec\")) {\n",
              "                    Plotly.newPlot(\n",
              "                        'df3436d5-9d1a-41ea-90d3-3777bf8f7cec',\n",
              "                        [{\"marker\": {\"color\": \"skyblue\"}, \"name\": \"Importance\", \"opacity\": 0.5, \"orientation\": \"h\", \"type\": \"bar\", \"x\": [0.00028716958907288453, 0.0036706587259771333, 0.0012708815927290657, 0.0005032241502106686, 0.00041129701399442175, 0.000442876920069388, 0.032726849804401936, 0.01155789326199394, 0.0003711715604488808, 0.0016519531503305937, 0.0025036119085350217, 0.000533362099416082, 0.000627741939534001, 0.0013638372687039702, 0.0005185350362680146, 0.00016136402011648353, 8.479313329958843e-05, 0.14188090210343773, 0.7683315259502465, 0.018095843009616665, 0.007591813812917707, 0.002462593838813886, 0.00146918039616083, 0.0004540574798750999, 0.00033556250425952413, 0.000473234306766584, 0.00021806542280336508], \"xaxis\": \"x\", \"y\": [\"volume\", \"GLD\", \"OIL\", \"SPY\", \"VXX\", \"QQQ\", \"SKYY\", \"VGT\", \"yield5y\", \"yield10y\", \"yield30y\", \"yield3m\", \"ir\", \"nfp\", \"unemployment\", \"cs\", \"infl\", \"b-middle\", \"b-lower\", \"b-upper\", \"rsi\", \"macd_hist\", \"macd\", \"macd_signal\", \"OIL_shift\", \"VXX_shift\", \"cs_shift\"], \"yaxis\": \"y\"}, {\"marker\": {\"color\": \"crimson\"}, \"name\": \"Rank\", \"opacity\": 0.5, \"orientation\": \"h\", \"type\": \"bar\", \"x\": [19, 2, 8, 11, 16, 14, 1, 1, 17, 3, 4, 9, 10, 6, 12, 21, 22, 1, 1, 1, 1, 5, 7, 15, 18, 13, 20], \"xaxis\": \"x2\", \"y\": [\"volume\", \"GLD\", \"OIL\", \"SPY\", \"VXX\", \"QQQ\", \"SKYY\", \"VGT\", \"yield5y\", \"yield10y\", \"yield30y\", \"yield3m\", \"ir\", \"nfp\", \"unemployment\", \"cs\", \"infl\", \"b-middle\", \"b-lower\", \"b-upper\", \"rsi\", \"macd_hist\", \"macd\", \"macd_signal\", \"OIL_shift\", \"VXX_shift\", \"cs_shift\"], \"yaxis\": \"y2\"}],\n",
              "                        {\"annotations\": [{\"font\": {\"size\": 16}, \"showarrow\": false, \"text\": \"Feature Importance\", \"x\": 0.225, \"xanchor\": \"center\", \"xref\": \"paper\", \"y\": 1.0, \"yanchor\": \"bottom\", \"yref\": \"paper\"}, {\"font\": {\"size\": 16}, \"showarrow\": false, \"text\": \"Feature Ranks\", \"x\": 0.775, \"xanchor\": \"center\", \"xref\": \"paper\", \"y\": 1.0, \"yanchor\": \"bottom\", \"yref\": \"paper\"}], \"height\": 800, \"template\": {\"data\": {\"bar\": [{\"error_x\": {\"color\": \"#2a3f5f\"}, \"error_y\": {\"color\": \"#2a3f5f\"}, \"marker\": {\"line\": {\"color\": \"white\", \"width\": 0.5}}, \"type\": \"bar\"}], \"barpolar\": [{\"marker\": {\"line\": {\"color\": \"white\", \"width\": 0.5}}, \"type\": \"barpolar\"}], \"carpet\": [{\"aaxis\": {\"endlinecolor\": \"#2a3f5f\", \"gridcolor\": \"#C8D4E3\", \"linecolor\": \"#C8D4E3\", \"minorgridcolor\": \"#C8D4E3\", \"startlinecolor\": \"#2a3f5f\"}, \"baxis\": {\"endlinecolor\": \"#2a3f5f\", \"gridcolor\": \"#C8D4E3\", \"linecolor\": \"#C8D4E3\", \"minorgridcolor\": \"#C8D4E3\", \"startlinecolor\": \"#2a3f5f\"}, \"type\": \"carpet\"}], \"choropleth\": [{\"colorbar\": {\"outlinewidth\": 0, \"ticks\": \"\"}, \"type\": \"choropleth\"}], \"contour\": [{\"colorbar\": {\"outlinewidth\": 0, \"ticks\": \"\"}, \"colorscale\": [[0.0, \"#0d0887\"], [0.1111111111111111, \"#46039f\"], [0.2222222222222222, \"#7201a8\"], [0.3333333333333333, \"#9c179e\"], [0.4444444444444444, \"#bd3786\"], [0.5555555555555556, \"#d8576b\"], [0.6666666666666666, \"#ed7953\"], [0.7777777777777778, \"#fb9f3a\"], [0.8888888888888888, \"#fdca26\"], [1.0, \"#f0f921\"]], \"type\": \"contour\"}], \"contourcarpet\": [{\"colorbar\": {\"outlinewidth\": 0, \"ticks\": \"\"}, \"type\": \"contourcarpet\"}], \"heatmap\": [{\"colorbar\": {\"outlinewidth\": 0, \"ticks\": \"\"}, \"colorscale\": [[0.0, \"#0d0887\"], [0.1111111111111111, \"#46039f\"], [0.2222222222222222, \"#7201a8\"], [0.3333333333333333, \"#9c179e\"], [0.4444444444444444, \"#bd3786\"], [0.5555555555555556, \"#d8576b\"], [0.6666666666666666, \"#ed7953\"], [0.7777777777777778, \"#fb9f3a\"], [0.8888888888888888, \"#fdca26\"], [1.0, \"#f0f921\"]], \"type\": \"heatmap\"}], \"heatmapgl\": [{\"colorbar\": {\"outlinewidth\": 0, \"ticks\": \"\"}, \"colorscale\": [[0.0, \"#0d0887\"], [0.1111111111111111, \"#46039f\"], [0.2222222222222222, \"#7201a8\"], [0.3333333333333333, \"#9c179e\"], [0.4444444444444444, \"#bd3786\"], [0.5555555555555556, \"#d8576b\"], [0.6666666666666666, \"#ed7953\"], [0.7777777777777778, \"#fb9f3a\"], [0.8888888888888888, \"#fdca26\"], [1.0, \"#f0f921\"]], \"type\": \"heatmapgl\"}], \"histogram\": [{\"marker\": {\"colorbar\": {\"outlinewidth\": 0, \"ticks\": \"\"}}, \"type\": \"histogram\"}], \"histogram2d\": [{\"colorbar\": {\"outlinewidth\": 0, \"ticks\": \"\"}, \"colorscale\": [[0.0, \"#0d0887\"], [0.1111111111111111, \"#46039f\"], [0.2222222222222222, \"#7201a8\"], [0.3333333333333333, \"#9c179e\"], [0.4444444444444444, \"#bd3786\"], [0.5555555555555556, \"#d8576b\"], [0.6666666666666666, \"#ed7953\"], [0.7777777777777778, \"#fb9f3a\"], [0.8888888888888888, \"#fdca26\"], [1.0, \"#f0f921\"]], \"type\": \"histogram2d\"}], \"histogram2dcontour\": [{\"colorbar\": {\"outlinewidth\": 0, \"ticks\": \"\"}, \"colorscale\": [[0.0, \"#0d0887\"], [0.1111111111111111, \"#46039f\"], [0.2222222222222222, \"#7201a8\"], [0.3333333333333333, \"#9c179e\"], [0.4444444444444444, \"#bd3786\"], [0.5555555555555556, \"#d8576b\"], [0.6666666666666666, \"#ed7953\"], [0.7777777777777778, \"#fb9f3a\"], [0.8888888888888888, \"#fdca26\"], [1.0, \"#f0f921\"]], \"type\": \"histogram2dcontour\"}], \"mesh3d\": [{\"colorbar\": {\"outlinewidth\": 0, \"ticks\": \"\"}, \"type\": \"mesh3d\"}], \"parcoords\": [{\"line\": {\"colorbar\": {\"outlinewidth\": 0, \"ticks\": \"\"}}, \"type\": \"parcoords\"}], \"pie\": [{\"automargin\": true, \"type\": \"pie\"}], \"scatter\": [{\"marker\": {\"colorbar\": {\"outlinewidth\": 0, \"ticks\": \"\"}}, \"type\": \"scatter\"}], \"scatter3d\": [{\"line\": {\"colorbar\": {\"outlinewidth\": 0, \"ticks\": \"\"}}, \"marker\": {\"colorbar\": {\"outlinewidth\": 0, \"ticks\": \"\"}}, \"type\": \"scatter3d\"}], \"scattercarpet\": [{\"marker\": {\"colorbar\": {\"outlinewidth\": 0, \"ticks\": \"\"}}, \"type\": \"scattercarpet\"}], \"scattergeo\": [{\"marker\": {\"colorbar\": {\"outlinewidth\": 0, \"ticks\": \"\"}}, \"type\": \"scattergeo\"}], \"scattergl\": [{\"marker\": {\"colorbar\": {\"outlinewidth\": 0, \"ticks\": \"\"}}, \"type\": \"scattergl\"}], \"scattermapbox\": [{\"marker\": {\"colorbar\": {\"outlinewidth\": 0, \"ticks\": \"\"}}, \"type\": \"scattermapbox\"}], \"scatterpolar\": [{\"marker\": {\"colorbar\": {\"outlinewidth\": 0, \"ticks\": \"\"}}, \"type\": \"scatterpolar\"}], \"scatterpolargl\": [{\"marker\": {\"colorbar\": {\"outlinewidth\": 0, \"ticks\": \"\"}}, \"type\": \"scatterpolargl\"}], \"scatterternary\": [{\"marker\": {\"colorbar\": {\"outlinewidth\": 0, \"ticks\": \"\"}}, \"type\": \"scatterternary\"}], \"surface\": [{\"colorbar\": {\"outlinewidth\": 0, \"ticks\": \"\"}, \"colorscale\": [[0.0, \"#0d0887\"], [0.1111111111111111, \"#46039f\"], [0.2222222222222222, \"#7201a8\"], [0.3333333333333333, \"#9c179e\"], [0.4444444444444444, \"#bd3786\"], [0.5555555555555556, \"#d8576b\"], [0.6666666666666666, \"#ed7953\"], [0.7777777777777778, \"#fb9f3a\"], [0.8888888888888888, \"#fdca26\"], [1.0, \"#f0f921\"]], \"type\": \"surface\"}], \"table\": [{\"cells\": {\"fill\": {\"color\": \"#EBF0F8\"}, \"line\": {\"color\": \"white\"}}, \"header\": {\"fill\": {\"color\": \"#C8D4E3\"}, \"line\": {\"color\": \"white\"}}, \"type\": \"table\"}]}, \"layout\": {\"annotationdefaults\": {\"arrowcolor\": \"#2a3f5f\", \"arrowhead\": 0, \"arrowwidth\": 1}, \"coloraxis\": {\"colorbar\": {\"outlinewidth\": 0, \"ticks\": \"\"}}, \"colorscale\": {\"diverging\": [[0, \"#8e0152\"], [0.1, \"#c51b7d\"], [0.2, \"#de77ae\"], [0.3, \"#f1b6da\"], [0.4, \"#fde0ef\"], [0.5, \"#f7f7f7\"], [0.6, \"#e6f5d0\"], [0.7, \"#b8e186\"], [0.8, \"#7fbc41\"], [0.9, \"#4d9221\"], [1, \"#276419\"]], \"sequential\": [[0.0, \"#0d0887\"], [0.1111111111111111, \"#46039f\"], [0.2222222222222222, \"#7201a8\"], [0.3333333333333333, \"#9c179e\"], [0.4444444444444444, \"#bd3786\"], [0.5555555555555556, \"#d8576b\"], [0.6666666666666666, \"#ed7953\"], [0.7777777777777778, \"#fb9f3a\"], [0.8888888888888888, \"#fdca26\"], [1.0, \"#f0f921\"]], \"sequentialminus\": [[0.0, \"#0d0887\"], [0.1111111111111111, \"#46039f\"], [0.2222222222222222, \"#7201a8\"], [0.3333333333333333, \"#9c179e\"], [0.4444444444444444, \"#bd3786\"], [0.5555555555555556, \"#d8576b\"], [0.6666666666666666, \"#ed7953\"], [0.7777777777777778, \"#fb9f3a\"], [0.8888888888888888, \"#fdca26\"], [1.0, \"#f0f921\"]]}, \"colorway\": [\"#636efa\", \"#EF553B\", \"#00cc96\", \"#ab63fa\", \"#FFA15A\", \"#19d3f3\", \"#FF6692\", \"#B6E880\", \"#FF97FF\", \"#FECB52\"], \"font\": {\"color\": \"#2a3f5f\"}, \"geo\": {\"bgcolor\": \"white\", \"lakecolor\": \"white\", \"landcolor\": \"white\", \"showlakes\": true, \"showland\": true, \"subunitcolor\": \"#C8D4E3\"}, \"hoverlabel\": {\"align\": \"left\"}, \"hovermode\": \"closest\", \"mapbox\": {\"style\": \"light\"}, \"paper_bgcolor\": \"white\", \"plot_bgcolor\": \"white\", \"polar\": {\"angularaxis\": {\"gridcolor\": \"#EBF0F8\", \"linecolor\": \"#EBF0F8\", \"ticks\": \"\"}, \"bgcolor\": \"white\", \"radialaxis\": {\"gridcolor\": \"#EBF0F8\", \"linecolor\": \"#EBF0F8\", \"ticks\": \"\"}}, \"scene\": {\"xaxis\": {\"backgroundcolor\": \"white\", \"gridcolor\": \"#DFE8F3\", \"gridwidth\": 2, \"linecolor\": \"#EBF0F8\", \"showbackground\": true, \"ticks\": \"\", \"zerolinecolor\": \"#EBF0F8\"}, \"yaxis\": {\"backgroundcolor\": \"white\", \"gridcolor\": \"#DFE8F3\", \"gridwidth\": 2, \"linecolor\": \"#EBF0F8\", \"showbackground\": true, \"ticks\": \"\", \"zerolinecolor\": \"#EBF0F8\"}, \"zaxis\": {\"backgroundcolor\": \"white\", \"gridcolor\": \"#DFE8F3\", \"gridwidth\": 2, \"linecolor\": \"#EBF0F8\", \"showbackground\": true, \"ticks\": \"\", \"zerolinecolor\": \"#EBF0F8\"}}, \"shapedefaults\": {\"line\": {\"color\": \"#2a3f5f\"}}, \"ternary\": {\"aaxis\": {\"gridcolor\": \"#DFE8F3\", \"linecolor\": \"#A2B1C6\", \"ticks\": \"\"}, \"baxis\": {\"gridcolor\": \"#DFE8F3\", \"linecolor\": \"#A2B1C6\", \"ticks\": \"\"}, \"bgcolor\": \"white\", \"caxis\": {\"gridcolor\": \"#DFE8F3\", \"linecolor\": \"#A2B1C6\", \"ticks\": \"\"}}, \"title\": {\"x\": 0.05}, \"xaxis\": {\"automargin\": true, \"gridcolor\": \"#EBF0F8\", \"linecolor\": \"#EBF0F8\", \"ticks\": \"\", \"title\": {\"standoff\": 15}, \"zerolinecolor\": \"#EBF0F8\", \"zerolinewidth\": 2}, \"yaxis\": {\"automargin\": true, \"gridcolor\": \"#EBF0F8\", \"linecolor\": \"#EBF0F8\", \"ticks\": \"\", \"title\": {\"standoff\": 15}, \"zerolinecolor\": \"#EBF0F8\", \"zerolinewidth\": 2}}}, \"title\": {\"text\": \"Feature Importance\"}, \"width\": 700, \"xaxis\": {\"anchor\": \"y\", \"categoryorder\": \"total ascending\", \"domain\": [0.0, 0.45]}, \"xaxis2\": {\"anchor\": \"y2\", \"domain\": [0.55, 1.0]}, \"yaxis\": {\"anchor\": \"x\", \"domain\": [0.0, 1.0]}, \"yaxis2\": {\"anchor\": \"x2\", \"domain\": [0.0, 1.0], \"matches\": \"y\", \"showticklabels\": false}},\n",
              "                        {\"responsive\": true}\n",
              "                    ).then(function(){\n",
              "                            \n",
              "var gd = document.getElementById('df3436d5-9d1a-41ea-90d3-3777bf8f7cec');\n",
              "var x = new MutationObserver(function (mutations, observer) {{\n",
              "        var display = window.getComputedStyle(gd).display;\n",
              "        if (!display || display === 'none') {{\n",
              "            console.log([gd, 'removed!']);\n",
              "            Plotly.purge(gd);\n",
              "            observer.disconnect();\n",
              "        }}\n",
              "}});\n",
              "\n",
              "// Listen for the removal of the full notebook cells\n",
              "var notebookContainer = gd.closest('#notebook-container');\n",
              "if (notebookContainer) {{\n",
              "    x.observe(notebookContainer, {childList: true});\n",
              "}}\n",
              "\n",
              "// Listen for the clearing of the current output cell\n",
              "var outputEl = gd.closest('.output');\n",
              "if (outputEl) {{\n",
              "    x.observe(outputEl, {childList: true});\n",
              "}}\n",
              "\n",
              "                        })\n",
              "                };\n",
              "                \n",
              "            </script>\n",
              "        </div>\n",
              "</body>\n",
              "</html>"
            ]
          },
          "metadata": {},
          "output_type": "display_data"
        }
      ]
    },
    {
      "cell_type": "markdown",
      "metadata": {
        "id": "fEj30n0gB_oy"
      },
      "source": [
        "#### Boralex (BLX.TO)"
      ]
    },
    {
      "cell_type": "code",
      "metadata": {
        "colab": {
          "base_uri": "https://localhost:8080/",
          "height": 816
        },
        "id": "3h1KJqj_Awg7",
        "outputId": "09679237-d723-495d-822c-08d5c1e2f61e"
      },
      "source": [
        "# BLX.TO\n",
        "stock= 'BLX.TO'\n",
        "features_shift ={'OIL':-40}\n",
        "df = shift_features(dff,features_shift)\n",
        "df.head()\n",
        "\n",
        "# check correlations\n",
        "plot_corr(df)\n",
        "\n",
        "# remove columns with lower corr\n",
        "df.drop(columns=['USO'],inplace=True)\n",
        "\n",
        "# remove rows with na introduced with the lags\n",
        "df.dropna(how='any',inplace=True)\n",
        "\n",
        "# save to google drive\n",
        "df.to_pickle(f'/content/drive/MyDrive/Colab Notebooks/data/{stock}_market_data.pickle')\n",
        "df.to_csv(f'/content/drive/MyDrive/Colab Notebooks/data/{stock}_market_data.csv')\n"
      ],
      "execution_count": null,
      "outputs": [
        {
          "data": {
            "text/html": [
              "<html>\n",
              "<head><meta charset=\"utf-8\" /></head>\n",
              "<body>\n",
              "    <div>\n",
              "            <script src=\"https://cdnjs.cloudflare.com/ajax/libs/mathjax/2.7.5/MathJax.js?config=TeX-AMS-MML_SVG\"></script><script type=\"text/javascript\">if (window.MathJax) {MathJax.Hub.Config({SVG: {font: \"STIX-Web\"}});}</script>\n",
              "                <script type=\"text/javascript\">window.PlotlyConfig = {MathJaxConfig: 'local'};</script>\n",
              "        <script src=\"https://cdn.plot.ly/plotly-latest.min.js\"></script>    \n",
              "            <div id=\"ce75596c-0f8a-4112-b080-b059bafb49c0\" class=\"plotly-graph-div\" style=\"height:800px; width:800px;\"></div>\n",
              "            <script type=\"text/javascript\">\n",
              "                \n",
              "                    window.PLOTLYENV=window.PLOTLYENV || {};\n",
              "                    \n",
              "                if (document.getElementById(\"ce75596c-0f8a-4112-b080-b059bafb49c0\")) {\n",
              "                    Plotly.newPlot(\n",
              "                        'ce75596c-0f8a-4112-b080-b059bafb49c0',\n",
              "                        [{\"colorscale\": [[0.0, \"rgb(247, 254, 174)\"], [0.16666666666666666, \"rgb(183, 230, 165)\"], [0.3333333333333333, \"rgb(124, 203, 162)\"], [0.5, \"rgb(70, 174, 160)\"], [0.6666666666666666, \"rgb(8, 144, 153)\"], [0.8333333333333334, \"rgb(0, 113, 139)\"], [1.0, \"rgb(4, 82, 117)\"]], \"type\": \"heatmap\", \"x\": [\"close\", \"volume\", \"GLD\", \"USO\", \"SPY\", \"PBD\", \"XLE\", \"EWC\", \"UNL\", \"VXX\", \"yield5y\", \"yield10y\", \"yield30y\", \"yield3m\", \"ir\", \"nfp\", \"unemployment\", \"cs\", \"infl\", \"b-middle\", \"rsi\", \"macd_signal\", \"USO_shift\"], \"y\": [\"close\", \"volume\", \"GLD\", \"USO\", \"SPY\", \"PBD\", \"XLE\", \"EWC\", \"UNL\", \"VXX\", \"yield5y\", \"yield10y\", \"yield30y\", \"yield3m\", \"ir\", \"nfp\", \"unemployment\", \"cs\", \"infl\", \"b-middle\", \"rsi\", \"macd_signal\", \"USO_shift\"], \"z\": [[1.0, 0.5073266109716111, 0.35324555865124063, -0.16031073158477652, 0.9331743158465425, 0.8059939210410428, -0.611312155939048, 0.3211516158551013, -0.6001620546713402, -0.07571650122567758, -0.2346057478165091, -0.5681365363454395, -0.7216473945920483, 0.20366322767101167, 0.1907841464030648, 0.5723738742423106, -0.31994640334740215, 0.3037814343345158, 0.05722942753921231, 0.9927822409479936, 0.14859836511096322, 0.2588670335808019, -0.25467482282012666], [0.5073266109716111, 1.0, 0.1838970564375447, -0.09155790415168585, 0.4787305768168647, 0.42231264434286214, -0.36449272711758257, 0.12959170534450512, -0.3018741453099074, -0.06349405139347772, -0.11240138442805536, -0.2781179902183537, -0.35992995179887716, 0.12103976549328632, 0.11922265688831944, 0.2700727121227822, -0.11621580062377201, 0.14096115815419877, 0.017997121522753606, 0.5117548627062192, 0.030528321038595534, 0.010991887005941399, -0.13328441068681593], [0.35324555865124063, 0.1838970564375447, 1.0, 0.48838833897388967, 0.2436521954993294, 0.40030665534682874, -0.4370592657395137, 0.3960658988687353, -0.07106349106560023, 0.004455652156790342, -0.7353585739379832, -0.6117882546178184, -0.42833996503869115, -0.27329239019988544, -0.2800824996572589, -0.21040506045090654, 0.390208082760644, -0.5092182889173038, 0.47370245239721936, 0.37551726828581145, 0.06280976976978858, 0.1466446837466176, 0.43488763804286384], [-0.16031073158477652, -0.09155790415168585, 0.48838833897388967, 1.0, -0.25737843862712806, 0.3344704285838446, 0.10623858953050369, 0.582985128923747, 0.5818155813244978, 0.010272628710445887, -0.35786823868391404, 0.11672012610056008, 0.36568433704706627, -0.6256078876168805, -0.6407854012237876, -0.6688881412105167, 0.5905270739188998, -0.7432647091953972, 0.7243420698429812, -0.13910420452884414, -0.12382718315904065, -0.09139463435988654, 0.9481060918938844], [0.9331743158465425, 0.4787305768168647, 0.2436521954993294, -0.25737843862712806, 1.0, 0.6928167325598168, -0.4691481925283852, 0.3605858864199382, -0.7146619814062986, -0.027815651141397807, -0.08912786161447084, -0.5041503137131979, -0.7216260223583929, 0.3923147340339201, 0.38276655730654, 0.7468055966384115, -0.5073352020085966, 0.47990364632979227, 0.05654738960539781, 0.9372157409999133, 0.10097491095896632, 0.11948379164813701, -0.3316280530522002], [0.8059939210410428, 0.42231264434286214, 0.40030665534682874, 0.3344704285838446, 0.6928167325598168, 1.0, -0.495989419634359, 0.6089367177088911, -0.13981728650297703, -0.08051148660620867, -0.25054418089121605, -0.297450169094906, -0.33203867407617244, -0.12957780859950194, -0.14468719313182068, 0.1741696382093425, -0.032060299316063814, -0.07497731682262891, 0.3962834687452027, 0.8135389608450042, 0.005987934336758291, 0.14382867089256968, 0.23404654843888673], [-0.611312155939048, -0.36449272711758257, -0.4370592657395137, 0.10623858953050369, -0.4691481925283852, -0.495989419634359, 1.0, 0.14042460139279409, 0.13661292801338182, 0.06382385616320183, 0.3790998902278662, 0.5325399514090347, 0.5407795632860016, -0.05221248277533685, -0.04713644739780341, -0.09067926018598228, -0.2142259754654246, 0.15012118584991563, 0.06773579489797642, -0.6305221203314669, -0.06586277331600454, -0.19339868215678085, 0.17628548824753237], [0.3211516158551013, 0.12959170534450512, 0.3960658988687353, 0.582985128923747, 0.3605858864199382, 0.6089367177088911, 0.14042460139279409, 1.0, 0.08842255871555549, 0.0138250586441039, -0.03211600249864992, 0.07222513787860159, 0.07869135062162136, -0.06907179105650744, -0.07745261288853976, 0.03917228829689983, -0.04119881336033993, -0.13932207351488066, 0.6773936153059467, 0.33417993251158856, -0.047689302286968514, -0.08300618500121207, 0.5383508545141512], [-0.6001620546713402, -0.3018741453099074, -0.07106349106560023, 0.5818155813244978, -0.7146619814062986, -0.13981728650297703, 0.13661292801338182, 0.08842255871555549, 1.0, 0.08120645512904238, 0.153279958660892, 0.6059190723503086, 0.788167843140849, -0.38432210537568434, -0.3874452866732901, -0.7849032646907586, 0.6451547368314081, -0.6737675804826346, 0.2337049937800596, -0.5878961089629348, -0.14128096258088882, -0.1140487510812015, 0.636551569858962], [-0.07571650122567758, -0.06349405139347772, 0.004455652156790342, 0.010272628710445887, -0.027815651141397807, -0.08051148660620867, 0.06382385616320183, 0.0138250586441039, 0.08120645512904238, 1.0, 0.18503013934005988, 0.15522145929994244, 0.08116819996327122, 0.12603189521714606, 0.10277846378286626, -0.056772689190814546, 0.10600688298336408, -0.06428038992444866, 0.09751111190952944, -0.058132991668064765, -0.1707514582969305, -0.14941832512746045, 0.0169373684872487], [-0.2346057478165091, -0.11240138442805536, -0.7353585739379832, -0.35786823868391404, -0.08912786161447084, -0.25054418089121605, 0.3790998902278662, -0.03211600249864992, 0.153279958660892, 0.18503013934005988, 1.0, 0.8237298576891204, 0.5493212621973678, 0.6289012339329448, 0.6114825629682598, 0.3032043856498381, -0.42398679694781477, 0.4574405125960281, -0.22277370171076408, -0.23799918743694992, -0.14891558406139613, -0.18576150710010178, -0.3419646056835327], [-0.5681365363454395, -0.2781179902183537, -0.6117882546178184, 0.11672012610056008, -0.5041503137131979, -0.297450169094906, 0.5325399514090347, 0.07222513787860159, 0.6059190723503086, 0.15522145929994244, 0.8237298576891204, 1.0, 0.9220950990795181, 0.18967450757163395, 0.17351576919397005, -0.22076296331425188, -0.005389068045090165, -0.014670751312534093, 0.04089957494262415, -0.5658401500221663, -0.20828116071896594, -0.25583327022911145, 0.14432502919148282], [-0.7216473945920483, -0.35992995179887716, -0.42833996503869115, 0.36568433704706627, -0.7216260223583929, -0.33203867407617244, 0.5407795632860016, 0.07869135062162136, 0.788167843140849, 0.08116819996327122, 0.5493212621973678, 0.9220950990795181, 1.0, -0.12150584183392796, -0.13076999862849634, -0.5231195009339584, 0.2653425787869679, -0.31584613891532914, 0.1694177965253967, -0.717403141172981, -0.19132032267650143, -0.2391895611969486, 0.4038061191756191], [0.20366322767101167, 0.12103976549328632, -0.27329239019988544, -0.6256078876168805, 0.3923147340339201, -0.12957780859950194, -0.05221248277533685, -0.06907179105650744, -0.38432210537568434, 0.12603189521714606, 0.6289012339329448, 0.18967450757163395, -0.12150584183392796, 1.0, 0.9932659617951549, 0.7207638775933313, -0.6245181375763045, 0.6326870597237197, -0.3608312819271426, 0.20956713414515513, 0.05482371849145376, 0.011422936193931829, -0.6268522720421553], [0.1907841464030648, 0.11922265688831944, -0.2800824996572589, -0.6407854012237876, 0.38276655730654, -0.14468719313182068, -0.04713644739780341, -0.07745261288853976, -0.3874452866732901, 0.10277846378286626, 0.6114825629682598, 0.17351576919397005, -0.13076999862849634, 0.9932659617951549, 1.0, 0.722583786135545, -0.6294404019962125, 0.6370359250354803, -0.3784475323489234, 0.1973521327074131, 0.07000611506166278, 0.02022521187623927, -0.635009862322266], [0.5723738742423106, 0.2700727121227822, -0.21040506045090654, -0.6688881412105167, 0.7468055966384115, 0.1741696382093425, -0.09067926018598228, 0.03917228829689983, -0.7849032646907586, -0.056772689190814546, 0.3032043856498381, -0.22076296331425188, -0.5231195009339584, 0.7207638775933313, 0.722583786135545, 1.0, -0.8987173868232269, 0.8486334995828387, -0.32135151477399804, 0.5606842243501542, 0.12720884118270992, 0.07063347220034068, -0.6903492178973781], [-0.31994640334740215, -0.11621580062377201, 0.390208082760644, 0.5905270739188998, -0.5073352020085966, -0.032060299316063814, -0.2142259754654246, -0.04119881336033993, 0.6451547368314081, 0.10600688298336408, -0.42398679694781477, -0.005389068045090165, 0.2653425787869679, -0.6245181375763045, -0.6294404019962125, -0.8987173868232269, 1.0, -0.8717891616575365, 0.3016324957041113, -0.29642237947894007, -0.1261809622863883, -0.0512363325678583, 0.5643681218461709], [0.3037814343345158, 0.14096115815419877, -0.5092182889173038, -0.7432647091953972, 0.47990364632979227, -0.07497731682262891, 0.15012118584991563, -0.13932207351488066, -0.6737675804826346, -0.06428038992444866, 0.4574405125960281, -0.014670751312534093, -0.31584613891532914, 0.6326870597237197, 0.6370359250354803, 0.8486334995828387, -0.8717891616575365, 1.0, -0.4774100989512537, 0.2843598813175129, 0.11251666096837284, -0.010085808847640734, -0.7337688063565855], [0.05722942753921231, 0.017997121522753606, 0.47370245239721936, 0.7243420698429812, 0.05654738960539781, 0.3962834687452027, 0.06773579489797642, 0.6773936153059467, 0.2337049937800596, 0.09751111190952944, -0.22277370171076408, 0.04089957494262415, 0.1694177965253967, -0.3608312819271426, -0.3784475323489234, -0.32135151477399804, 0.3016324957041113, -0.4774100989512537, 1.0, 0.07534623401943459, -0.11400346272581845, -0.14154359952400572, 0.6799074362760957], [0.9927822409479936, 0.5117548627062192, 0.37551726828581145, -0.13910420452884414, 0.9372157409999133, 0.8135389608450042, -0.6305221203314669, 0.33417993251158856, -0.5878961089629348, -0.058132991668064765, -0.23799918743694992, -0.5658401500221663, -0.717403141172981, 0.20956713414515513, 0.1973521327074131, 0.5606842243501542, -0.29642237947894007, 0.2843598813175129, 0.07534623401943459, 1.0, 0.0736465395199088, 0.20457142970983558, -0.2331412287362395], [0.14859836511096322, 0.030528321038595534, 0.06280976976978858, -0.12382718315904065, 0.10097491095896632, 0.005987934336758291, -0.06586277331600454, -0.047689302286968514, -0.14128096258088882, -0.1707514582969305, -0.14891558406139613, -0.20828116071896594, -0.19132032267650143, 0.05482371849145376, 0.07000611506166278, 0.12720884118270992, -0.1261809622863883, 0.11251666096837284, -0.11400346272581845, 0.0736465395199088, 1.0, 0.4708175928942682, -0.16435540971196785], [0.2588670335808019, 0.010991887005941399, 0.1466446837466176, -0.09139463435988654, 0.11948379164813701, 0.14382867089256968, -0.19339868215678085, -0.08300618500121207, -0.1140487510812015, -0.14941832512746045, -0.18576150710010178, -0.25583327022911145, -0.2391895611969486, 0.011422936193931829, 0.02022521187623927, 0.07063347220034068, -0.0512363325678583, -0.010085808847640734, -0.14154359952400572, 0.20457142970983558, 0.4708175928942682, 1.0, -0.12820539829538058], [-0.25467482282012666, -0.13328441068681593, 0.43488763804286384, 0.9481060918938844, -0.3316280530522002, 0.23404654843888673, 0.17628548824753237, 0.5383508545141512, 0.636551569858962, 0.0169373684872487, -0.3419646056835327, 0.14432502919148282, 0.4038061191756191, -0.6268522720421553, -0.635009862322266, -0.6903492178973781, 0.5643681218461709, -0.7337688063565855, 0.6799074362760957, -0.2331412287362395, -0.16435540971196785, -0.12820539829538058, 1.0]]}],\n",
              "                        {\"height\": 800, \"template\": {\"data\": {\"bar\": [{\"error_x\": {\"color\": \"#2a3f5f\"}, \"error_y\": {\"color\": \"#2a3f5f\"}, \"marker\": {\"line\": {\"color\": \"white\", \"width\": 0.5}}, \"type\": \"bar\"}], \"barpolar\": [{\"marker\": {\"line\": {\"color\": \"white\", \"width\": 0.5}}, \"type\": \"barpolar\"}], \"carpet\": [{\"aaxis\": {\"endlinecolor\": \"#2a3f5f\", \"gridcolor\": \"#C8D4E3\", \"linecolor\": \"#C8D4E3\", \"minorgridcolor\": \"#C8D4E3\", \"startlinecolor\": \"#2a3f5f\"}, \"baxis\": {\"endlinecolor\": \"#2a3f5f\", \"gridcolor\": \"#C8D4E3\", \"linecolor\": \"#C8D4E3\", \"minorgridcolor\": \"#C8D4E3\", \"startlinecolor\": \"#2a3f5f\"}, \"type\": \"carpet\"}], \"choropleth\": [{\"colorbar\": {\"outlinewidth\": 0, \"ticks\": \"\"}, \"type\": \"choropleth\"}], \"contour\": [{\"colorbar\": {\"outlinewidth\": 0, \"ticks\": \"\"}, \"colorscale\": [[0.0, \"#0d0887\"], [0.1111111111111111, \"#46039f\"], [0.2222222222222222, \"#7201a8\"], [0.3333333333333333, \"#9c179e\"], [0.4444444444444444, \"#bd3786\"], [0.5555555555555556, \"#d8576b\"], [0.6666666666666666, \"#ed7953\"], [0.7777777777777778, \"#fb9f3a\"], [0.8888888888888888, \"#fdca26\"], [1.0, \"#f0f921\"]], \"type\": \"contour\"}], \"contourcarpet\": [{\"colorbar\": {\"outlinewidth\": 0, \"ticks\": \"\"}, \"type\": \"contourcarpet\"}], \"heatmap\": [{\"colorbar\": {\"outlinewidth\": 0, \"ticks\": \"\"}, \"colorscale\": [[0.0, \"#0d0887\"], [0.1111111111111111, \"#46039f\"], [0.2222222222222222, \"#7201a8\"], [0.3333333333333333, \"#9c179e\"], [0.4444444444444444, \"#bd3786\"], [0.5555555555555556, \"#d8576b\"], [0.6666666666666666, \"#ed7953\"], [0.7777777777777778, \"#fb9f3a\"], [0.8888888888888888, \"#fdca26\"], [1.0, \"#f0f921\"]], \"type\": \"heatmap\"}], \"heatmapgl\": [{\"colorbar\": {\"outlinewidth\": 0, \"ticks\": \"\"}, \"colorscale\": [[0.0, \"#0d0887\"], [0.1111111111111111, \"#46039f\"], [0.2222222222222222, \"#7201a8\"], [0.3333333333333333, \"#9c179e\"], [0.4444444444444444, \"#bd3786\"], [0.5555555555555556, \"#d8576b\"], [0.6666666666666666, \"#ed7953\"], [0.7777777777777778, \"#fb9f3a\"], [0.8888888888888888, \"#fdca26\"], [1.0, \"#f0f921\"]], \"type\": \"heatmapgl\"}], \"histogram\": [{\"marker\": {\"colorbar\": {\"outlinewidth\": 0, \"ticks\": \"\"}}, \"type\": \"histogram\"}], \"histogram2d\": [{\"colorbar\": {\"outlinewidth\": 0, \"ticks\": \"\"}, \"colorscale\": [[0.0, \"#0d0887\"], [0.1111111111111111, \"#46039f\"], [0.2222222222222222, \"#7201a8\"], [0.3333333333333333, \"#9c179e\"], [0.4444444444444444, \"#bd3786\"], [0.5555555555555556, \"#d8576b\"], [0.6666666666666666, \"#ed7953\"], [0.7777777777777778, \"#fb9f3a\"], [0.8888888888888888, \"#fdca26\"], [1.0, \"#f0f921\"]], \"type\": \"histogram2d\"}], \"histogram2dcontour\": [{\"colorbar\": {\"outlinewidth\": 0, \"ticks\": \"\"}, \"colorscale\": [[0.0, \"#0d0887\"], [0.1111111111111111, \"#46039f\"], [0.2222222222222222, \"#7201a8\"], [0.3333333333333333, \"#9c179e\"], [0.4444444444444444, \"#bd3786\"], [0.5555555555555556, \"#d8576b\"], [0.6666666666666666, \"#ed7953\"], [0.7777777777777778, \"#fb9f3a\"], [0.8888888888888888, \"#fdca26\"], [1.0, \"#f0f921\"]], \"type\": \"histogram2dcontour\"}], \"mesh3d\": [{\"colorbar\": {\"outlinewidth\": 0, \"ticks\": \"\"}, \"type\": \"mesh3d\"}], \"parcoords\": [{\"line\": {\"colorbar\": {\"outlinewidth\": 0, \"ticks\": \"\"}}, \"type\": \"parcoords\"}], \"pie\": [{\"automargin\": true, \"type\": \"pie\"}], \"scatter\": [{\"marker\": {\"colorbar\": {\"outlinewidth\": 0, \"ticks\": \"\"}}, \"type\": \"scatter\"}], \"scatter3d\": [{\"line\": {\"colorbar\": {\"outlinewidth\": 0, \"ticks\": \"\"}}, \"marker\": {\"colorbar\": {\"outlinewidth\": 0, \"ticks\": \"\"}}, \"type\": \"scatter3d\"}], \"scattercarpet\": [{\"marker\": {\"colorbar\": {\"outlinewidth\": 0, \"ticks\": \"\"}}, \"type\": \"scattercarpet\"}], \"scattergeo\": [{\"marker\": {\"colorbar\": {\"outlinewidth\": 0, \"ticks\": \"\"}}, \"type\": \"scattergeo\"}], \"scattergl\": [{\"marker\": {\"colorbar\": {\"outlinewidth\": 0, \"ticks\": \"\"}}, \"type\": \"scattergl\"}], \"scattermapbox\": [{\"marker\": {\"colorbar\": {\"outlinewidth\": 0, \"ticks\": \"\"}}, \"type\": \"scattermapbox\"}], \"scatterpolar\": [{\"marker\": {\"colorbar\": {\"outlinewidth\": 0, \"ticks\": \"\"}}, \"type\": \"scatterpolar\"}], \"scatterpolargl\": [{\"marker\": {\"colorbar\": {\"outlinewidth\": 0, \"ticks\": \"\"}}, \"type\": \"scatterpolargl\"}], \"scatterternary\": [{\"marker\": {\"colorbar\": {\"outlinewidth\": 0, \"ticks\": \"\"}}, \"type\": \"scatterternary\"}], \"surface\": [{\"colorbar\": {\"outlinewidth\": 0, \"ticks\": \"\"}, \"colorscale\": [[0.0, \"#0d0887\"], [0.1111111111111111, \"#46039f\"], [0.2222222222222222, \"#7201a8\"], [0.3333333333333333, \"#9c179e\"], [0.4444444444444444, \"#bd3786\"], [0.5555555555555556, \"#d8576b\"], [0.6666666666666666, \"#ed7953\"], [0.7777777777777778, \"#fb9f3a\"], [0.8888888888888888, \"#fdca26\"], [1.0, \"#f0f921\"]], \"type\": \"surface\"}], \"table\": [{\"cells\": {\"fill\": {\"color\": \"#EBF0F8\"}, \"line\": {\"color\": \"white\"}}, \"header\": {\"fill\": {\"color\": \"#C8D4E3\"}, \"line\": {\"color\": \"white\"}}, \"type\": \"table\"}]}, \"layout\": {\"annotationdefaults\": {\"arrowcolor\": \"#2a3f5f\", \"arrowhead\": 0, \"arrowwidth\": 1}, \"coloraxis\": {\"colorbar\": {\"outlinewidth\": 0, \"ticks\": \"\"}}, \"colorscale\": {\"diverging\": [[0, \"#8e0152\"], [0.1, \"#c51b7d\"], [0.2, \"#de77ae\"], [0.3, \"#f1b6da\"], [0.4, \"#fde0ef\"], [0.5, \"#f7f7f7\"], [0.6, \"#e6f5d0\"], [0.7, \"#b8e186\"], [0.8, \"#7fbc41\"], [0.9, \"#4d9221\"], [1, \"#276419\"]], \"sequential\": [[0.0, \"#0d0887\"], [0.1111111111111111, \"#46039f\"], [0.2222222222222222, \"#7201a8\"], [0.3333333333333333, \"#9c179e\"], [0.4444444444444444, \"#bd3786\"], [0.5555555555555556, \"#d8576b\"], [0.6666666666666666, \"#ed7953\"], [0.7777777777777778, \"#fb9f3a\"], [0.8888888888888888, \"#fdca26\"], [1.0, \"#f0f921\"]], \"sequentialminus\": [[0.0, \"#0d0887\"], [0.1111111111111111, \"#46039f\"], [0.2222222222222222, \"#7201a8\"], [0.3333333333333333, \"#9c179e\"], [0.4444444444444444, \"#bd3786\"], [0.5555555555555556, \"#d8576b\"], [0.6666666666666666, \"#ed7953\"], [0.7777777777777778, \"#fb9f3a\"], [0.8888888888888888, \"#fdca26\"], [1.0, \"#f0f921\"]]}, \"colorway\": [\"#636efa\", \"#EF553B\", \"#00cc96\", \"#ab63fa\", \"#FFA15A\", \"#19d3f3\", \"#FF6692\", \"#B6E880\", \"#FF97FF\", \"#FECB52\"], \"font\": {\"color\": \"#2a3f5f\"}, \"geo\": {\"bgcolor\": \"white\", \"lakecolor\": \"white\", \"landcolor\": \"white\", \"showlakes\": true, \"showland\": true, \"subunitcolor\": \"#C8D4E3\"}, \"hoverlabel\": {\"align\": \"left\"}, \"hovermode\": \"closest\", \"mapbox\": {\"style\": \"light\"}, \"paper_bgcolor\": \"white\", \"plot_bgcolor\": \"white\", \"polar\": {\"angularaxis\": {\"gridcolor\": \"#EBF0F8\", \"linecolor\": \"#EBF0F8\", \"ticks\": \"\"}, \"bgcolor\": \"white\", \"radialaxis\": {\"gridcolor\": \"#EBF0F8\", \"linecolor\": \"#EBF0F8\", \"ticks\": \"\"}}, \"scene\": {\"xaxis\": {\"backgroundcolor\": \"white\", \"gridcolor\": \"#DFE8F3\", \"gridwidth\": 2, \"linecolor\": \"#EBF0F8\", \"showbackground\": true, \"ticks\": \"\", \"zerolinecolor\": \"#EBF0F8\"}, \"yaxis\": {\"backgroundcolor\": \"white\", \"gridcolor\": \"#DFE8F3\", \"gridwidth\": 2, \"linecolor\": \"#EBF0F8\", \"showbackground\": true, \"ticks\": \"\", \"zerolinecolor\": \"#EBF0F8\"}, \"zaxis\": {\"backgroundcolor\": \"white\", \"gridcolor\": \"#DFE8F3\", \"gridwidth\": 2, \"linecolor\": \"#EBF0F8\", \"showbackground\": true, \"ticks\": \"\", \"zerolinecolor\": \"#EBF0F8\"}}, \"shapedefaults\": {\"line\": {\"color\": \"#2a3f5f\"}}, \"ternary\": {\"aaxis\": {\"gridcolor\": \"#DFE8F3\", \"linecolor\": \"#A2B1C6\", \"ticks\": \"\"}, \"baxis\": {\"gridcolor\": \"#DFE8F3\", \"linecolor\": \"#A2B1C6\", \"ticks\": \"\"}, \"bgcolor\": \"white\", \"caxis\": {\"gridcolor\": \"#DFE8F3\", \"linecolor\": \"#A2B1C6\", \"ticks\": \"\"}}, \"title\": {\"x\": 0.05}, \"xaxis\": {\"automargin\": true, \"gridcolor\": \"#EBF0F8\", \"linecolor\": \"#EBF0F8\", \"ticks\": \"\", \"title\": {\"standoff\": 15}, \"zerolinecolor\": \"#EBF0F8\", \"zerolinewidth\": 2}, \"yaxis\": {\"automargin\": true, \"gridcolor\": \"#EBF0F8\", \"linecolor\": \"#EBF0F8\", \"ticks\": \"\", \"title\": {\"standoff\": 15}, \"zerolinecolor\": \"#EBF0F8\", \"zerolinewidth\": 2}}}, \"title\": {\"text\": \"Feature Correlations\", \"x\": 0.5}, \"width\": 800, \"yaxis\": {\"autorange\": \"reversed\"}},\n",
              "                        {\"responsive\": true}\n",
              "                    ).then(function(){\n",
              "                            \n",
              "var gd = document.getElementById('ce75596c-0f8a-4112-b080-b059bafb49c0');\n",
              "var x = new MutationObserver(function (mutations, observer) {{\n",
              "        var display = window.getComputedStyle(gd).display;\n",
              "        if (!display || display === 'none') {{\n",
              "            console.log([gd, 'removed!']);\n",
              "            Plotly.purge(gd);\n",
              "            observer.disconnect();\n",
              "        }}\n",
              "}});\n",
              "\n",
              "// Listen for the removal of the full notebook cells\n",
              "var notebookContainer = gd.closest('#notebook-container');\n",
              "if (notebookContainer) {{\n",
              "    x.observe(notebookContainer, {childList: true});\n",
              "}}\n",
              "\n",
              "// Listen for the clearing of the current output cell\n",
              "var outputEl = gd.closest('.output');\n",
              "if (outputEl) {{\n",
              "    x.observe(outputEl, {childList: true});\n",
              "}}\n",
              "\n",
              "                        })\n",
              "                };\n",
              "                \n",
              "            </script>\n",
              "        </div>\n",
              "</body>\n",
              "</html>"
            ]
          },
          "metadata": {},
          "output_type": "display_data"
        }
      ]
    },
    {
      "cell_type": "markdown",
      "metadata": {
        "id": "bCpq1oQgBFPY"
      },
      "source": [
        "#### Bitcoin (BTC)\n",
        "+ Correlations increase in magnitude when adding lags to these features;\n",
        "  + VXX: -0.26 =>-0.34 with a 25 day lag\n",
        "  + nonfarm-payroll: -0.11 => -0.25 with a 60 day lag\n",
        "  + consumer sentiment: -0.30=>-0.39"
      ]
    },
    {
      "cell_type": "code",
      "metadata": {
        "colab": {
          "base_uri": "https://localhost:8080/",
          "height": 817
        },
        "id": "k32dz7uAZmlv",
        "outputId": "30d79faa-48d8-4a1d-fdc4-1f26e9273215"
      },
      "source": [
        "# Bitcoin\n",
        "crypto = 'BTC'\n",
        "features_shift ={'VXX':-25,'nfp':-60,'cs':-60}\n",
        "df_btc = shift_features(df_c,features_shift)\n",
        "\n",
        "\n",
        "# check correlations\n",
        "plot_corr(df_btc)\n",
        "\n",
        "# plot feature importance and ranks\n",
        "# features = plot_feature_importance(df_btc,6,1985)\n",
        "\n",
        "\n",
        "# subset features, add back the price features\n",
        "[selected.append(f) for f in ['open','close','high','low']]\n",
        "df_btc_features = df_btc[selected]\n",
        "\n",
        "\n",
        "# save to google drive\n",
        "df_btc_features.to_pickle(f'/content/drive/MyDrive/Colab Notebooks/data/{crypto}_market_data_features.pickle')\n",
        "df_btc_features.to_csv(f'/content/drive/MyDrive/Colab Notebooks/data/{crypto}_market_data_features.csv')\n"
      ],
      "execution_count": null,
      "outputs": [
        {
          "data": {
            "text/html": [
              "<html>\n",
              "<head><meta charset=\"utf-8\" /></head>\n",
              "<body>\n",
              "    <div>\n",
              "            <script src=\"https://cdnjs.cloudflare.com/ajax/libs/mathjax/2.7.5/MathJax.js?config=TeX-AMS-MML_SVG\"></script><script type=\"text/javascript\">if (window.MathJax) {MathJax.Hub.Config({SVG: {font: \"STIX-Web\"}});}</script>\n",
              "                <script type=\"text/javascript\">window.PlotlyConfig = {MathJaxConfig: 'local'};</script>\n",
              "        <script src=\"https://cdn.plot.ly/plotly-latest.min.js\"></script>    \n",
              "            <div id=\"0420ab72-5dd4-4c8a-9fd5-0b647ddf56a1\" class=\"plotly-graph-div\" style=\"height:800px; width:800px;\"></div>\n",
              "            <script type=\"text/javascript\">\n",
              "                \n",
              "                    window.PLOTLYENV=window.PLOTLYENV || {};\n",
              "                    \n",
              "                if (document.getElementById(\"0420ab72-5dd4-4c8a-9fd5-0b647ddf56a1\")) {\n",
              "                    Plotly.newPlot(\n",
              "                        '0420ab72-5dd4-4c8a-9fd5-0b647ddf56a1',\n",
              "                        [{\"colorscale\": [[0.0, \"rgb(247, 254, 174)\"], [0.16666666666666666, \"rgb(183, 230, 165)\"], [0.3333333333333333, \"rgb(124, 203, 162)\"], [0.5, \"rgb(70, 174, 160)\"], [0.6666666666666666, \"rgb(8, 144, 153)\"], [0.8333333333333334, \"rgb(0, 113, 139)\"], [1.0, \"rgb(4, 82, 117)\"]], \"type\": \"heatmap\", \"x\": [\"close\", \"volume\", \"month\", \"GLD\", \"OIL\", \"SPY\", \"XLE\", \"VXX\", \"BOIL\", \"yield5y\", \"yield10y\", \"yield30y\", \"yield3m\", \"ir\", \"nfp\", \"unemployment\", \"cs\", \"infl\", \"rsi\", \"b-middle\", \"macd_signal\", \"VXX_shift\", \"nfp_shift\", \"cs_shift\"], \"y\": [\"close\", \"volume\", \"month\", \"GLD\", \"OIL\", \"SPY\", \"XLE\", \"VXX\", \"BOIL\", \"yield5y\", \"yield10y\", \"yield30y\", \"yield3m\", \"ir\", \"nfp\", \"unemployment\", \"cs\", \"infl\", \"rsi\", \"b-middle\", \"macd_signal\", \"VXX_shift\", \"nfp_shift\", \"cs_shift\"], \"z\": [[1.0, 0.22214846196395316, -0.1865609951715145, 0.4737297750936869, 0.4370743163433207, 0.873682957610499, -0.08648219082619632, -0.20036834450806798, 0.32957528969232375, -0.3342312263085076, -0.06966669425987623, 0.04097876471195653, -0.5687310263805478, -0.550528119759664, -0.08696537063337716, -0.05544117042369325, -0.2626517125457589, 0.7915839595762448, 0.15653404703775783, 0.9871085059782125, 0.14156008769822134, -0.2885656734752324, -0.24443673795187623, -0.38963029920903863], [0.22214846196395316, 1.0, -0.17800242894811016, 0.3065268023149155, -0.18970735985424633, 0.16293382143231583, -0.32995890356621427, 0.20581268434219432, 0.030104674083528443, -0.3547105479958878, -0.28204431966126764, -0.2424571779298404, -0.39174934445144755, -0.36648894120923947, -0.4023150959513481, 0.3614821227639545, -0.360913129694365, 0.13464868116953893, 0.020901976260772153, 0.22656946158831973, -0.10870347513330994, -0.02870963708889008, -0.16152992675536074, -0.1397209938186509], [-0.1865609951715145, -0.17800242894811016, 1.0, 0.1512723021946107, -0.058735374813008716, 0.03404151375717809, -0.1008955471417929, -0.11356002115218577, 0.21493430839958166, -0.10802310343252904, -0.18318082509969041, -0.20220219727986627, -0.032967218342106634, -0.033608299540031965, 0.17998145267375118, -0.1752701151285929, 0.026397574278730913, -0.062196065435401085, 0.024797360103000002, -0.1768408480464445, -0.12879150860082028, 0.06120632865455355, 0.04846687722170204, -0.15931384885655156], [0.4737297750936869, 0.3065268023149155, 0.1512723021946107, 1.0, -0.3164540329676699, 0.6230793645739121, -0.7821506618957392, -0.003298314510234131, 0.591418532508395, -0.922415393099217, -0.8238931741158346, -0.7501904569812944, -0.9193461927923287, -0.9155265011676641, -0.564878189290256, 0.4348268915528791, -0.7700036578707714, 0.42674580174453114, -0.013646807472988546, 0.48577981736337844, -0.17513100275799254, 0.02838717633051912, -0.6536713540783978, -0.7960527200719373], [0.4370743163433207, -0.18970735985424633, -0.058735374813008716, -0.3164540329676699, 1.0, 0.48509316490220694, 0.7652424159960942, -0.32258772118343293, -0.10304021112599404, 0.5650192961153852, 0.7092473455595125, 0.7298748315878157, 0.33147212749894917, 0.3389836236021189, 0.70765050633881, -0.7472381672882139, 0.5731786175355982, 0.4668158034305003, 0.1727989016037975, 0.42088188665257614, 0.15691507815086653, -0.24099612644978116, 0.46759026423446076, 0.35113238181999235], [0.873682957610499, 0.16293382143231583, 0.03404151375717809, 0.6230793645739121, 0.48509316490220694, 1.0, -0.1320713322049817, -0.24663038170538748, 0.49586833656245266, -0.4020096762800496, -0.17221895894017072, -0.07682284298784894, -0.6187760807669345, -0.61002322121194, -0.018056716515860195, -0.13969653567231818, -0.2982650223422698, 0.8317042304801193, 0.07968057793309427, 0.8774988384432191, -0.04170825210047826, -0.18675388034049029, -0.2513952625630788, -0.4571391579928473], [-0.08648219082619632, -0.32995890356621427, -0.1008955471417929, -0.7821506618957392, 0.7652424159960942, -0.1320713322049817, 1.0, -0.2629512737399457, -0.43605527488905055, 0.919826761090251, 0.9355749487083974, 0.9035474284542235, 0.8126041343540327, 0.8098585983468843, 0.8387387533919196, -0.7771097305576767, 0.8723984912069617, -0.049331436761949364, 0.1788337990874245, -0.11310567870830858, 0.24665566066620712, -0.12383843020860022, 0.6259350829187006, 0.6568698190449425], [-0.20036834450806798, 0.20581268434219432, -0.11356002115218577, -0.003298314510234131, -0.32258772118343293, -0.24663038170538748, -0.2629512737399457, 1.0, 0.16583297775597228, -0.16660148474443032, -0.2172160188057411, -0.24500283433251266, -0.14638161174879888, -0.1432129332300721, -0.44913803835707994, 0.5674995522001111, -0.38947517427817246, 0.14182755571157135, -0.01946655137202733, -0.22658778457733023, 0.15037271645484473, 0.5714596452035446, -0.1606255765325442, -0.014147896026636572], [0.32957528969232375, 0.030104674083528443, 0.21493430839958166, 0.591418532508395, -0.10304021112599404, 0.49586833656245266, -0.43605527488905055, 0.16583297775597228, 1.0, -0.5157905244846551, -0.4460923776247749, -0.38745609411561904, -0.5639732751704984, -0.5847176659391569, -0.26970953156627353, 0.20804172107855717, -0.48757963953770705, 0.49974646340333556, -0.07304180074046297, 0.3427170302894396, -0.14039847175625095, 0.35841566664707575, -0.6238361389504194, -0.7302065180703835], [-0.3342312263085076, -0.3547105479958878, -0.10802310343252904, -0.922415393099217, 0.5650192961153852, -0.4020096762800496, 0.919826761090251, -0.16660148474443032, -0.5157905244846551, 1.0, 0.9546768872264868, 0.8989294879457038, 0.9381029045502287, 0.93004321290598, 0.7781580924082772, -0.69029082020595, 0.8955224689410543, -0.292165989792179, 0.04415441543122467, -0.3530581293076547, 0.20854892764225497, -0.10620784128074673, 0.7058214411560502, 0.7809614945115777], [-0.06966669425987623, -0.28204431966126764, -0.18318082509969041, -0.8238931741158346, 0.7092473455595125, -0.17221895894017072, 0.9355749487083974, -0.2172160188057411, -0.4460923776247749, 0.9546768872264868, 1.0, 0.9858769416353885, 0.8130774302974617, 0.8063528635546123, 0.7801459469567597, -0.7389683371990099, 0.8602037425437815, -0.08388348904172595, 0.047051735854229455, -0.09030448990122512, 0.2281014662356664, -0.18064735023433245, 0.6397587340032498, 0.6892467823536065], [0.04097876471195653, -0.2424571779298404, -0.20220219727986627, -0.7501904569812944, 0.7298748315878157, -0.07682284298784894, 0.9035474284542235, -0.24500283433251266, -0.38745609411561904, 0.8989294879457038, 0.9858769416353885, 1.0, 0.7338346155527692, 0.7267441763028119, 0.7562168722466219, -0.7416087552287883, 0.8136930870143027, -0.009888303436476405, 0.03131800825885372, 0.0220089501346641, 0.20772651226105607, -0.206497232006511, 0.5552115284934112, 0.5992149710073037], [-0.5687310263805478, -0.39174934445144755, -0.032967218342106634, -0.9193461927923287, 0.33147212749894917, -0.6187760807669345, 0.8126041343540327, -0.14638161174879888, -0.5639732751704984, 0.9381029045502287, 0.8130774302974617, 0.7338346155527692, 1.0, 0.9933855396640486, 0.7271940239072171, -0.6164569224621054, 0.85305072129622, -0.5220848721794518, 0.028626552617868232, -0.5815511506652385, 0.14726820363851761, -0.057332750465105824, 0.6716424531562966, 0.7792558359288972], [-0.550528119759664, -0.36648894120923947, -0.033608299540031965, -0.9155265011676641, 0.3389836236021189, -0.61002322121194, 0.8098585983468843, -0.1432129332300721, -0.5847176659391569, 0.93004321290598, 0.8063528635546123, 0.7267441763028119, 0.9933855396640486, 1.0, 0.7147826847493625, -0.6032604815127766, 0.8384932712117651, -0.5187587324789894, 0.04905336649726294, -0.564553376190935, 0.15762338115753152, -0.09168939516093501, 0.6964166675217726, 0.8039788723244079], [-0.08696537063337716, -0.4023150959513481, 0.17998145267375118, -0.564878189290256, 0.70765050633881, -0.018056716515860195, 0.8387387533919196, -0.44913803835707994, -0.26970953156627353, 0.7781580924082772, 0.7801459469567597, 0.7562168722466219, 0.7271940239072171, 0.7147826847493625, 1.0, -0.961011267945748, 0.8756617278128672, -0.08020887987446021, 0.14468148270909967, -0.10408750596290191, 0.1884333814969133, -0.2289251645995751, 0.5544670478874841, 0.5064574405215598], [-0.05544117042369325, 0.3614821227639545, -0.1752701151285929, 0.4348268915528791, -0.7472381672882139, -0.13969653567231818, -0.7771097305576767, 0.5674995522001111, 0.20804172107855717, -0.69029082020595, -0.7389683371990099, -0.7416087552287883, -0.6164569224621054, -0.6032604815127766, -0.961011267945748, 1.0, -0.8110582027281539, -0.00342422540694608, -0.05813873541626673, -0.05388888896689642, -0.059552151173096486, 0.3259408246742168, -0.4978629456295535, -0.39722451916000073], [-0.2626517125457589, -0.360913129694365, 0.026397574278730913, -0.7700036578707714, 0.5731786175355982, -0.2982650223422698, 0.8723984912069617, -0.38947517427817246, -0.48757963953770705, 0.8955224689410543, 0.8602037425437815, 0.8136930870143027, 0.85305072129622, 0.8384932712117651, 0.8756617278128672, -0.8110582027281539, 1.0, -0.3426756171345677, 0.07337080857025667, -0.2769789484562557, 0.20769883631262975, -0.26144537341024576, 0.6548743105869737, 0.6679402337185094], [0.7915839595762448, 0.13464868116953893, -0.062196065435401085, 0.42674580174453114, 0.4668158034305003, 0.8317042304801193, -0.049331436761949364, 0.14182755571157135, 0.49974646340333556, -0.292165989792179, -0.08388348904172595, -0.009888303436476405, -0.5220848721794518, -0.5187587324789894, -0.08020887987446021, -0.00342422540694608, -0.3426756171345677, 1.0, 0.06588517338025855, 0.7828515195402493, 0.10141632135278252, 0.16676154365408358, -0.24508894260612074, -0.3686748766326524], [0.15653404703775783, 0.020901976260772153, 0.024797360103000002, -0.013646807472988546, 0.1727989016037975, 0.07968057793309427, 0.1788337990874245, -0.01946655137202733, -0.07304180074046297, 0.04415441543122467, 0.047051735854229455, 0.03131800825885372, 0.028626552617868232, 0.04905336649726294, 0.14468148270909967, -0.05813873541626673, 0.07337080857025667, 0.06588517338025855, 1.0, 0.05490917924665737, 0.4673683587827093, -0.12234108013228315, 0.04761639033785269, 0.06299721106714616], [0.9871085059782125, 0.22656946158831973, -0.1768408480464445, 0.48577981736337844, 0.42088188665257614, 0.8774988384432191, -0.11310567870830858, -0.22658778457733023, 0.3427170302894396, -0.3530581293076547, -0.09030448990122512, 0.0220089501346641, -0.5815511506652385, -0.564553376190935, -0.10408750596290191, -0.05388888896689642, -0.2769789484562557, 0.7828515195402493, 0.05490917924665737, 1.0, 0.05023247842386205, -0.28249250116679403, -0.25408075267522556, -0.41493281735276294], [0.14156008769822134, -0.10870347513330994, -0.12879150860082028, -0.17513100275799254, 0.15691507815086653, -0.04170825210047826, 0.24665566066620712, 0.15037271645484473, -0.14039847175625095, 0.20854892764225497, 0.2281014662356664, 0.20772651226105607, 0.14726820363851761, 0.15762338115753152, 0.1884333814969133, -0.059552151173096486, 0.20769883631262975, 0.10141632135278252, 0.4673683587827093, 0.05023247842386205, 1.0, -0.1024765673292391, 0.08113743407545672, 0.20603498197073794], [-0.2885656734752324, -0.02870963708889008, 0.06120632865455355, 0.02838717633051912, -0.24099612644978116, -0.18675388034049029, -0.12383843020860022, 0.5714596452035446, 0.35841566664707575, -0.10620784128074673, -0.18064735023433245, -0.206497232006511, -0.057332750465105824, -0.09168939516093501, -0.2289251645995751, 0.3259408246742168, -0.26144537341024576, 0.16676154365408358, -0.12234108013228315, -0.28249250116679403, -0.1024765673292391, 1.0, -0.25789420104331295, -0.22805272668293844], [-0.24443673795187623, -0.16152992675536074, 0.04846687722170204, -0.6536713540783978, 0.46759026423446076, -0.2513952625630788, 0.6259350829187006, -0.1606255765325442, -0.6238361389504194, 0.7058214411560502, 0.6397587340032498, 0.5552115284934112, 0.6716424531562966, 0.6964166675217726, 0.5544670478874841, -0.4978629456295535, 0.6548743105869737, -0.24508894260612074, 0.04761639033785269, -0.25408075267522556, 0.08113743407545672, -0.25789420104331295, 1.0, 0.8909015777782492], [-0.38963029920903863, -0.1397209938186509, -0.15931384885655156, -0.7960527200719373, 0.35113238181999235, -0.4571391579928473, 0.6568698190449425, -0.014147896026636572, -0.7302065180703835, 0.7809614945115777, 0.6892467823536065, 0.5992149710073037, 0.7792558359288972, 0.8039788723244079, 0.5064574405215598, -0.39722451916000073, 0.6679402337185094, -0.3686748766326524, 0.06299721106714616, -0.41493281735276294, 0.20603498197073794, -0.22805272668293844, 0.8909015777782492, 1.0]]}],\n",
              "                        {\"height\": 800, \"template\": {\"data\": {\"bar\": [{\"error_x\": {\"color\": \"#2a3f5f\"}, \"error_y\": {\"color\": \"#2a3f5f\"}, \"marker\": {\"line\": {\"color\": \"white\", \"width\": 0.5}}, \"type\": \"bar\"}], \"barpolar\": [{\"marker\": {\"line\": {\"color\": \"white\", \"width\": 0.5}}, \"type\": \"barpolar\"}], \"carpet\": [{\"aaxis\": {\"endlinecolor\": \"#2a3f5f\", \"gridcolor\": \"#C8D4E3\", \"linecolor\": \"#C8D4E3\", \"minorgridcolor\": \"#C8D4E3\", \"startlinecolor\": \"#2a3f5f\"}, \"baxis\": {\"endlinecolor\": \"#2a3f5f\", \"gridcolor\": \"#C8D4E3\", \"linecolor\": \"#C8D4E3\", \"minorgridcolor\": \"#C8D4E3\", \"startlinecolor\": \"#2a3f5f\"}, \"type\": \"carpet\"}], \"choropleth\": [{\"colorbar\": {\"outlinewidth\": 0, \"ticks\": \"\"}, \"type\": \"choropleth\"}], \"contour\": [{\"colorbar\": {\"outlinewidth\": 0, \"ticks\": \"\"}, \"colorscale\": [[0.0, \"#0d0887\"], [0.1111111111111111, \"#46039f\"], [0.2222222222222222, \"#7201a8\"], [0.3333333333333333, \"#9c179e\"], [0.4444444444444444, \"#bd3786\"], [0.5555555555555556, \"#d8576b\"], [0.6666666666666666, \"#ed7953\"], [0.7777777777777778, \"#fb9f3a\"], [0.8888888888888888, \"#fdca26\"], [1.0, \"#f0f921\"]], \"type\": \"contour\"}], \"contourcarpet\": [{\"colorbar\": {\"outlinewidth\": 0, \"ticks\": \"\"}, \"type\": \"contourcarpet\"}], \"heatmap\": [{\"colorbar\": {\"outlinewidth\": 0, \"ticks\": \"\"}, \"colorscale\": [[0.0, \"#0d0887\"], [0.1111111111111111, \"#46039f\"], [0.2222222222222222, \"#7201a8\"], [0.3333333333333333, \"#9c179e\"], [0.4444444444444444, \"#bd3786\"], [0.5555555555555556, \"#d8576b\"], [0.6666666666666666, \"#ed7953\"], [0.7777777777777778, \"#fb9f3a\"], [0.8888888888888888, \"#fdca26\"], [1.0, \"#f0f921\"]], \"type\": \"heatmap\"}], \"heatmapgl\": [{\"colorbar\": {\"outlinewidth\": 0, \"ticks\": \"\"}, \"colorscale\": [[0.0, \"#0d0887\"], [0.1111111111111111, \"#46039f\"], [0.2222222222222222, \"#7201a8\"], [0.3333333333333333, \"#9c179e\"], [0.4444444444444444, \"#bd3786\"], [0.5555555555555556, \"#d8576b\"], [0.6666666666666666, \"#ed7953\"], [0.7777777777777778, \"#fb9f3a\"], [0.8888888888888888, \"#fdca26\"], [1.0, \"#f0f921\"]], \"type\": \"heatmapgl\"}], \"histogram\": [{\"marker\": {\"colorbar\": {\"outlinewidth\": 0, \"ticks\": \"\"}}, \"type\": \"histogram\"}], \"histogram2d\": [{\"colorbar\": {\"outlinewidth\": 0, \"ticks\": \"\"}, \"colorscale\": [[0.0, \"#0d0887\"], [0.1111111111111111, \"#46039f\"], [0.2222222222222222, \"#7201a8\"], [0.3333333333333333, \"#9c179e\"], [0.4444444444444444, \"#bd3786\"], [0.5555555555555556, \"#d8576b\"], [0.6666666666666666, \"#ed7953\"], [0.7777777777777778, \"#fb9f3a\"], [0.8888888888888888, \"#fdca26\"], [1.0, \"#f0f921\"]], \"type\": \"histogram2d\"}], \"histogram2dcontour\": [{\"colorbar\": {\"outlinewidth\": 0, \"ticks\": \"\"}, \"colorscale\": [[0.0, \"#0d0887\"], [0.1111111111111111, \"#46039f\"], [0.2222222222222222, \"#7201a8\"], [0.3333333333333333, \"#9c179e\"], [0.4444444444444444, \"#bd3786\"], [0.5555555555555556, \"#d8576b\"], [0.6666666666666666, \"#ed7953\"], [0.7777777777777778, \"#fb9f3a\"], [0.8888888888888888, \"#fdca26\"], [1.0, \"#f0f921\"]], \"type\": \"histogram2dcontour\"}], \"mesh3d\": [{\"colorbar\": {\"outlinewidth\": 0, \"ticks\": \"\"}, \"type\": \"mesh3d\"}], \"parcoords\": [{\"line\": {\"colorbar\": {\"outlinewidth\": 0, \"ticks\": \"\"}}, \"type\": \"parcoords\"}], \"pie\": [{\"automargin\": true, \"type\": \"pie\"}], \"scatter\": [{\"marker\": {\"colorbar\": {\"outlinewidth\": 0, \"ticks\": \"\"}}, \"type\": \"scatter\"}], \"scatter3d\": [{\"line\": {\"colorbar\": {\"outlinewidth\": 0, \"ticks\": \"\"}}, \"marker\": {\"colorbar\": {\"outlinewidth\": 0, \"ticks\": \"\"}}, \"type\": \"scatter3d\"}], \"scattercarpet\": [{\"marker\": {\"colorbar\": {\"outlinewidth\": 0, \"ticks\": \"\"}}, \"type\": \"scattercarpet\"}], \"scattergeo\": [{\"marker\": {\"colorbar\": {\"outlinewidth\": 0, \"ticks\": \"\"}}, \"type\": \"scattergeo\"}], \"scattergl\": [{\"marker\": {\"colorbar\": {\"outlinewidth\": 0, \"ticks\": \"\"}}, \"type\": \"scattergl\"}], \"scattermapbox\": [{\"marker\": {\"colorbar\": {\"outlinewidth\": 0, \"ticks\": \"\"}}, \"type\": \"scattermapbox\"}], \"scatterpolar\": [{\"marker\": {\"colorbar\": {\"outlinewidth\": 0, \"ticks\": \"\"}}, \"type\": \"scatterpolar\"}], \"scatterpolargl\": [{\"marker\": {\"colorbar\": {\"outlinewidth\": 0, \"ticks\": \"\"}}, \"type\": \"scatterpolargl\"}], \"scatterternary\": [{\"marker\": {\"colorbar\": {\"outlinewidth\": 0, \"ticks\": \"\"}}, \"type\": \"scatterternary\"}], \"surface\": [{\"colorbar\": {\"outlinewidth\": 0, \"ticks\": \"\"}, \"colorscale\": [[0.0, \"#0d0887\"], [0.1111111111111111, \"#46039f\"], [0.2222222222222222, \"#7201a8\"], [0.3333333333333333, \"#9c179e\"], [0.4444444444444444, \"#bd3786\"], [0.5555555555555556, \"#d8576b\"], [0.6666666666666666, \"#ed7953\"], [0.7777777777777778, \"#fb9f3a\"], [0.8888888888888888, \"#fdca26\"], [1.0, \"#f0f921\"]], \"type\": \"surface\"}], \"table\": [{\"cells\": {\"fill\": {\"color\": \"#EBF0F8\"}, \"line\": {\"color\": \"white\"}}, \"header\": {\"fill\": {\"color\": \"#C8D4E3\"}, \"line\": {\"color\": \"white\"}}, \"type\": \"table\"}]}, \"layout\": {\"annotationdefaults\": {\"arrowcolor\": \"#2a3f5f\", \"arrowhead\": 0, \"arrowwidth\": 1}, \"coloraxis\": {\"colorbar\": {\"outlinewidth\": 0, \"ticks\": \"\"}}, \"colorscale\": {\"diverging\": [[0, \"#8e0152\"], [0.1, \"#c51b7d\"], [0.2, \"#de77ae\"], [0.3, \"#f1b6da\"], [0.4, \"#fde0ef\"], [0.5, \"#f7f7f7\"], [0.6, \"#e6f5d0\"], [0.7, \"#b8e186\"], [0.8, \"#7fbc41\"], [0.9, \"#4d9221\"], [1, \"#276419\"]], \"sequential\": [[0.0, \"#0d0887\"], [0.1111111111111111, \"#46039f\"], [0.2222222222222222, \"#7201a8\"], [0.3333333333333333, \"#9c179e\"], [0.4444444444444444, \"#bd3786\"], [0.5555555555555556, \"#d8576b\"], [0.6666666666666666, \"#ed7953\"], [0.7777777777777778, \"#fb9f3a\"], [0.8888888888888888, \"#fdca26\"], [1.0, \"#f0f921\"]], \"sequentialminus\": [[0.0, \"#0d0887\"], [0.1111111111111111, \"#46039f\"], [0.2222222222222222, \"#7201a8\"], [0.3333333333333333, \"#9c179e\"], [0.4444444444444444, \"#bd3786\"], [0.5555555555555556, \"#d8576b\"], [0.6666666666666666, \"#ed7953\"], [0.7777777777777778, \"#fb9f3a\"], [0.8888888888888888, \"#fdca26\"], [1.0, \"#f0f921\"]]}, \"colorway\": [\"#636efa\", \"#EF553B\", \"#00cc96\", \"#ab63fa\", \"#FFA15A\", \"#19d3f3\", \"#FF6692\", \"#B6E880\", \"#FF97FF\", \"#FECB52\"], \"font\": {\"color\": \"#2a3f5f\"}, \"geo\": {\"bgcolor\": \"white\", \"lakecolor\": \"white\", \"landcolor\": \"white\", \"showlakes\": true, \"showland\": true, \"subunitcolor\": \"#C8D4E3\"}, \"hoverlabel\": {\"align\": \"left\"}, \"hovermode\": \"closest\", \"mapbox\": {\"style\": \"light\"}, \"paper_bgcolor\": \"white\", \"plot_bgcolor\": \"white\", \"polar\": {\"angularaxis\": {\"gridcolor\": \"#EBF0F8\", \"linecolor\": \"#EBF0F8\", \"ticks\": \"\"}, \"bgcolor\": \"white\", \"radialaxis\": {\"gridcolor\": \"#EBF0F8\", \"linecolor\": \"#EBF0F8\", \"ticks\": \"\"}}, \"scene\": {\"xaxis\": {\"backgroundcolor\": \"white\", \"gridcolor\": \"#DFE8F3\", \"gridwidth\": 2, \"linecolor\": \"#EBF0F8\", \"showbackground\": true, \"ticks\": \"\", \"zerolinecolor\": \"#EBF0F8\"}, \"yaxis\": {\"backgroundcolor\": \"white\", \"gridcolor\": \"#DFE8F3\", \"gridwidth\": 2, \"linecolor\": \"#EBF0F8\", \"showbackground\": true, \"ticks\": \"\", \"zerolinecolor\": \"#EBF0F8\"}, \"zaxis\": {\"backgroundcolor\": \"white\", \"gridcolor\": \"#DFE8F3\", \"gridwidth\": 2, \"linecolor\": \"#EBF0F8\", \"showbackground\": true, \"ticks\": \"\", \"zerolinecolor\": \"#EBF0F8\"}}, \"shapedefaults\": {\"line\": {\"color\": \"#2a3f5f\"}}, \"ternary\": {\"aaxis\": {\"gridcolor\": \"#DFE8F3\", \"linecolor\": \"#A2B1C6\", \"ticks\": \"\"}, \"baxis\": {\"gridcolor\": \"#DFE8F3\", \"linecolor\": \"#A2B1C6\", \"ticks\": \"\"}, \"bgcolor\": \"white\", \"caxis\": {\"gridcolor\": \"#DFE8F3\", \"linecolor\": \"#A2B1C6\", \"ticks\": \"\"}}, \"title\": {\"x\": 0.05}, \"xaxis\": {\"automargin\": true, \"gridcolor\": \"#EBF0F8\", \"linecolor\": \"#EBF0F8\", \"ticks\": \"\", \"title\": {\"standoff\": 15}, \"zerolinecolor\": \"#EBF0F8\", \"zerolinewidth\": 2}, \"yaxis\": {\"automargin\": true, \"gridcolor\": \"#EBF0F8\", \"linecolor\": \"#EBF0F8\", \"ticks\": \"\", \"title\": {\"standoff\": 15}, \"zerolinecolor\": \"#EBF0F8\", \"zerolinewidth\": 2}}}, \"title\": {\"text\": \"Feature Correlations\", \"x\": 0.5}, \"width\": 800, \"yaxis\": {\"autorange\": \"reversed\"}},\n",
              "                        {\"responsive\": true}\n",
              "                    ).then(function(){\n",
              "                            \n",
              "var gd = document.getElementById('0420ab72-5dd4-4c8a-9fd5-0b647ddf56a1');\n",
              "var x = new MutationObserver(function (mutations, observer) {{\n",
              "        var display = window.getComputedStyle(gd).display;\n",
              "        if (!display || display === 'none') {{\n",
              "            console.log([gd, 'removed!']);\n",
              "            Plotly.purge(gd);\n",
              "            observer.disconnect();\n",
              "        }}\n",
              "}});\n",
              "\n",
              "// Listen for the removal of the full notebook cells\n",
              "var notebookContainer = gd.closest('#notebook-container');\n",
              "if (notebookContainer) {{\n",
              "    x.observe(notebookContainer, {childList: true});\n",
              "}}\n",
              "\n",
              "// Listen for the clearing of the current output cell\n",
              "var outputEl = gd.closest('.output');\n",
              "if (outputEl) {{\n",
              "    x.observe(outputEl, {childList: true});\n",
              "}}\n",
              "\n",
              "                        })\n",
              "                };\n",
              "                \n",
              "            </script>\n",
              "        </div>\n",
              "</body>\n",
              "</html>"
            ]
          },
          "metadata": {},
          "output_type": "display_data"
        }
      ]
    },
    {
      "cell_type": "code",
      "metadata": {
        "colab": {
          "base_uri": "https://localhost:8080/",
          "height": 868
        },
        "id": "HJkft79Y7B3z",
        "outputId": "3d063e0b-7167-4c94-9897-542715c9e8f1"
      },
      "source": [
        "# BTC\n",
        "# b-lower,b-middle,b-upper,VXX_shift,SPY,macd\n",
        "# df_btc = pd.read_pickle('/content/drive/MyDrive/Colab Notebooks/data/BTC_market_data.pickle')\n",
        "# selected = plot_feature_importance(df_btc,6,1985)\n",
        "\n",
        "selected = plot_feature_importance(df_c,10,1985)\n",
        "\n",
        "# add back the price features\n",
        "[selected.append(f) for f in ['open','close','high','low']]\n",
        "df_btc= df_btc[selected].copy()\n",
        "\n",
        "# save to google drive\n",
        "df_c.to_pickle(f'/content/drive/MyDrive/Colab Notebooks/data/BTC_market_data_features.pickle')\n",
        "df_c.to_csv(f'/content/drive/MyDrive/Colab Notebooks/data/BTC_market_data_features.csv')"
      ],
      "execution_count": null,
      "outputs": [
        {
          "name": "stdout",
          "output_type": "stream",
          "text": [
            "Top Ranked Features\n",
            "============================================================\n",
            "['SPY', 'VXX', 'yield10y', 'yield30y', 'rsi', 'b-upper', 'b-middle', 'b-lower', 'macd', 'macd_signal']\n"
          ]
        },
        {
          "data": {
            "text/html": [
              "<html>\n",
              "<head><meta charset=\"utf-8\" /></head>\n",
              "<body>\n",
              "    <div>\n",
              "            <script src=\"https://cdnjs.cloudflare.com/ajax/libs/mathjax/2.7.5/MathJax.js?config=TeX-AMS-MML_SVG\"></script><script type=\"text/javascript\">if (window.MathJax) {MathJax.Hub.Config({SVG: {font: \"STIX-Web\"}});}</script>\n",
              "                <script type=\"text/javascript\">window.PlotlyConfig = {MathJaxConfig: 'local'};</script>\n",
              "        <script src=\"https://cdn.plot.ly/plotly-latest.min.js\"></script>    \n",
              "            <div id=\"da1b7543-2e9f-4b2e-8172-064955847eb1\" class=\"plotly-graph-div\" style=\"height:800px; width:700px;\"></div>\n",
              "            <script type=\"text/javascript\">\n",
              "                \n",
              "                    window.PLOTLYENV=window.PLOTLYENV || {};\n",
              "                    \n",
              "                if (document.getElementById(\"da1b7543-2e9f-4b2e-8172-064955847eb1\")) {\n",
              "                    Plotly.newPlot(\n",
              "                        'da1b7543-2e9f-4b2e-8172-064955847eb1',\n",
              "                        [{\"marker\": {\"color\": \"skyblue\"}, \"name\": \"Importance\", \"opacity\": 0.5, \"orientation\": \"h\", \"type\": \"bar\", \"x\": [0.00029745471646928364, 5.242864227874076e-05, 0.00031437223534229534, 0.0004896863833563212, 0.005570774102992675, 0.0005281952904914926, 0.0016357233983193495, 0.0009567732231239837, 0.0011017150204619198, 0.0076385759037553205, 0.003475779633113554, 0.00019166307063319698, 0.00018973920115944662, 9.849829424218996e-05, 7.901043187085182e-05, 3.1101060380663495e-05, 6.173755969934072e-05, 0.003070807577060959, 0.020479506846418725, 0.17506838473887404, 0.7681382216567765, 0.005150778099331306, 0.005379072913847946], \"xaxis\": \"x\", \"y\": [\"volume\", \"month\", \"GLD\", \"OIL\", \"SPY\", \"XLE\", \"VXX\", \"BOIL\", \"yield5y\", \"yield10y\", \"yield30y\", \"yield3m\", \"ir\", \"nfp\", \"unemployment\", \"cs\", \"infl\", \"rsi\", \"b-upper\", \"b-middle\", \"b-lower\", \"macd\", \"macd_signal\"], \"yaxis\": \"y\"}, {\"marker\": {\"color\": \"crimson\"}, \"name\": \"Rank\", \"opacity\": 0.5, \"orientation\": \"h\", \"type\": \"bar\", \"x\": [7, 13, 6, 4, 1, 5, 1, 3, 2, 1, 1, 10, 8, 9, 11, 14, 12, 1, 1, 1, 1, 1, 1], \"xaxis\": \"x2\", \"y\": [\"volume\", \"month\", \"GLD\", \"OIL\", \"SPY\", \"XLE\", \"VXX\", \"BOIL\", \"yield5y\", \"yield10y\", \"yield30y\", \"yield3m\", \"ir\", \"nfp\", \"unemployment\", \"cs\", \"infl\", \"rsi\", \"b-upper\", \"b-middle\", \"b-lower\", \"macd\", \"macd_signal\"], \"yaxis\": \"y2\"}],\n",
              "                        {\"annotations\": [{\"font\": {\"size\": 16}, \"showarrow\": false, \"text\": \"Feature Importance\", \"x\": 0.225, \"xanchor\": \"center\", \"xref\": \"paper\", \"y\": 1.0, \"yanchor\": \"bottom\", \"yref\": \"paper\"}, {\"font\": {\"size\": 16}, \"showarrow\": false, \"text\": \"Feature Ranks\", \"x\": 0.775, \"xanchor\": \"center\", \"xref\": \"paper\", \"y\": 1.0, \"yanchor\": \"bottom\", \"yref\": \"paper\"}], \"height\": 800, \"template\": {\"data\": {\"bar\": [{\"error_x\": {\"color\": \"#2a3f5f\"}, \"error_y\": {\"color\": \"#2a3f5f\"}, \"marker\": {\"line\": {\"color\": \"white\", \"width\": 0.5}}, \"type\": \"bar\"}], \"barpolar\": [{\"marker\": {\"line\": {\"color\": \"white\", \"width\": 0.5}}, \"type\": \"barpolar\"}], \"carpet\": [{\"aaxis\": {\"endlinecolor\": \"#2a3f5f\", \"gridcolor\": \"#C8D4E3\", \"linecolor\": \"#C8D4E3\", \"minorgridcolor\": \"#C8D4E3\", \"startlinecolor\": \"#2a3f5f\"}, \"baxis\": {\"endlinecolor\": \"#2a3f5f\", \"gridcolor\": \"#C8D4E3\", \"linecolor\": \"#C8D4E3\", \"minorgridcolor\": \"#C8D4E3\", \"startlinecolor\": \"#2a3f5f\"}, \"type\": \"carpet\"}], \"choropleth\": [{\"colorbar\": {\"outlinewidth\": 0, \"ticks\": \"\"}, \"type\": \"choropleth\"}], \"contour\": [{\"colorbar\": {\"outlinewidth\": 0, \"ticks\": \"\"}, \"colorscale\": [[0.0, \"#0d0887\"], [0.1111111111111111, \"#46039f\"], [0.2222222222222222, \"#7201a8\"], [0.3333333333333333, \"#9c179e\"], [0.4444444444444444, \"#bd3786\"], [0.5555555555555556, \"#d8576b\"], [0.6666666666666666, \"#ed7953\"], [0.7777777777777778, \"#fb9f3a\"], [0.8888888888888888, \"#fdca26\"], [1.0, \"#f0f921\"]], \"type\": \"contour\"}], \"contourcarpet\": [{\"colorbar\": {\"outlinewidth\": 0, \"ticks\": \"\"}, \"type\": \"contourcarpet\"}], \"heatmap\": [{\"colorbar\": {\"outlinewidth\": 0, \"ticks\": \"\"}, \"colorscale\": [[0.0, \"#0d0887\"], [0.1111111111111111, \"#46039f\"], [0.2222222222222222, \"#7201a8\"], [0.3333333333333333, \"#9c179e\"], [0.4444444444444444, \"#bd3786\"], [0.5555555555555556, \"#d8576b\"], [0.6666666666666666, \"#ed7953\"], [0.7777777777777778, \"#fb9f3a\"], [0.8888888888888888, \"#fdca26\"], [1.0, \"#f0f921\"]], \"type\": \"heatmap\"}], \"heatmapgl\": [{\"colorbar\": {\"outlinewidth\": 0, \"ticks\": \"\"}, \"colorscale\": [[0.0, \"#0d0887\"], [0.1111111111111111, \"#46039f\"], [0.2222222222222222, \"#7201a8\"], [0.3333333333333333, \"#9c179e\"], [0.4444444444444444, \"#bd3786\"], [0.5555555555555556, \"#d8576b\"], [0.6666666666666666, \"#ed7953\"], [0.7777777777777778, \"#fb9f3a\"], [0.8888888888888888, \"#fdca26\"], [1.0, \"#f0f921\"]], \"type\": \"heatmapgl\"}], \"histogram\": [{\"marker\": {\"colorbar\": {\"outlinewidth\": 0, \"ticks\": \"\"}}, \"type\": \"histogram\"}], \"histogram2d\": [{\"colorbar\": {\"outlinewidth\": 0, \"ticks\": \"\"}, \"colorscale\": [[0.0, \"#0d0887\"], [0.1111111111111111, \"#46039f\"], [0.2222222222222222, \"#7201a8\"], [0.3333333333333333, \"#9c179e\"], [0.4444444444444444, \"#bd3786\"], [0.5555555555555556, \"#d8576b\"], [0.6666666666666666, \"#ed7953\"], [0.7777777777777778, \"#fb9f3a\"], [0.8888888888888888, \"#fdca26\"], [1.0, \"#f0f921\"]], \"type\": \"histogram2d\"}], \"histogram2dcontour\": [{\"colorbar\": {\"outlinewidth\": 0, \"ticks\": \"\"}, \"colorscale\": [[0.0, \"#0d0887\"], [0.1111111111111111, \"#46039f\"], [0.2222222222222222, \"#7201a8\"], [0.3333333333333333, \"#9c179e\"], [0.4444444444444444, \"#bd3786\"], [0.5555555555555556, \"#d8576b\"], [0.6666666666666666, \"#ed7953\"], [0.7777777777777778, \"#fb9f3a\"], [0.8888888888888888, \"#fdca26\"], [1.0, \"#f0f921\"]], \"type\": \"histogram2dcontour\"}], \"mesh3d\": [{\"colorbar\": {\"outlinewidth\": 0, \"ticks\": \"\"}, \"type\": \"mesh3d\"}], \"parcoords\": [{\"line\": {\"colorbar\": {\"outlinewidth\": 0, \"ticks\": \"\"}}, \"type\": \"parcoords\"}], \"pie\": [{\"automargin\": true, \"type\": \"pie\"}], \"scatter\": [{\"marker\": {\"colorbar\": {\"outlinewidth\": 0, \"ticks\": \"\"}}, \"type\": \"scatter\"}], \"scatter3d\": [{\"line\": {\"colorbar\": {\"outlinewidth\": 0, \"ticks\": \"\"}}, \"marker\": {\"colorbar\": {\"outlinewidth\": 0, \"ticks\": \"\"}}, \"type\": \"scatter3d\"}], \"scattercarpet\": [{\"marker\": {\"colorbar\": {\"outlinewidth\": 0, \"ticks\": \"\"}}, \"type\": \"scattercarpet\"}], \"scattergeo\": [{\"marker\": {\"colorbar\": {\"outlinewidth\": 0, \"ticks\": \"\"}}, \"type\": \"scattergeo\"}], \"scattergl\": [{\"marker\": {\"colorbar\": {\"outlinewidth\": 0, \"ticks\": \"\"}}, \"type\": \"scattergl\"}], \"scattermapbox\": [{\"marker\": {\"colorbar\": {\"outlinewidth\": 0, \"ticks\": \"\"}}, \"type\": \"scattermapbox\"}], \"scatterpolar\": [{\"marker\": {\"colorbar\": {\"outlinewidth\": 0, \"ticks\": \"\"}}, \"type\": \"scatterpolar\"}], \"scatterpolargl\": [{\"marker\": {\"colorbar\": {\"outlinewidth\": 0, \"ticks\": \"\"}}, \"type\": \"scatterpolargl\"}], \"scatterternary\": [{\"marker\": {\"colorbar\": {\"outlinewidth\": 0, \"ticks\": \"\"}}, \"type\": \"scatterternary\"}], \"surface\": [{\"colorbar\": {\"outlinewidth\": 0, \"ticks\": \"\"}, \"colorscale\": [[0.0, \"#0d0887\"], [0.1111111111111111, \"#46039f\"], [0.2222222222222222, \"#7201a8\"], [0.3333333333333333, \"#9c179e\"], [0.4444444444444444, \"#bd3786\"], [0.5555555555555556, \"#d8576b\"], [0.6666666666666666, \"#ed7953\"], [0.7777777777777778, \"#fb9f3a\"], [0.8888888888888888, \"#fdca26\"], [1.0, \"#f0f921\"]], \"type\": \"surface\"}], \"table\": [{\"cells\": {\"fill\": {\"color\": \"#EBF0F8\"}, \"line\": {\"color\": \"white\"}}, \"header\": {\"fill\": {\"color\": \"#C8D4E3\"}, \"line\": {\"color\": \"white\"}}, \"type\": \"table\"}]}, \"layout\": {\"annotationdefaults\": {\"arrowcolor\": \"#2a3f5f\", \"arrowhead\": 0, \"arrowwidth\": 1}, \"coloraxis\": {\"colorbar\": {\"outlinewidth\": 0, \"ticks\": \"\"}}, \"colorscale\": {\"diverging\": [[0, \"#8e0152\"], [0.1, \"#c51b7d\"], [0.2, \"#de77ae\"], [0.3, \"#f1b6da\"], [0.4, \"#fde0ef\"], [0.5, \"#f7f7f7\"], [0.6, \"#e6f5d0\"], [0.7, \"#b8e186\"], [0.8, \"#7fbc41\"], [0.9, \"#4d9221\"], [1, \"#276419\"]], \"sequential\": [[0.0, \"#0d0887\"], [0.1111111111111111, \"#46039f\"], [0.2222222222222222, \"#7201a8\"], [0.3333333333333333, \"#9c179e\"], [0.4444444444444444, \"#bd3786\"], [0.5555555555555556, \"#d8576b\"], [0.6666666666666666, \"#ed7953\"], [0.7777777777777778, \"#fb9f3a\"], [0.8888888888888888, \"#fdca26\"], [1.0, \"#f0f921\"]], \"sequentialminus\": [[0.0, \"#0d0887\"], [0.1111111111111111, \"#46039f\"], [0.2222222222222222, \"#7201a8\"], [0.3333333333333333, \"#9c179e\"], [0.4444444444444444, \"#bd3786\"], [0.5555555555555556, \"#d8576b\"], [0.6666666666666666, \"#ed7953\"], [0.7777777777777778, \"#fb9f3a\"], [0.8888888888888888, \"#fdca26\"], [1.0, \"#f0f921\"]]}, \"colorway\": [\"#636efa\", \"#EF553B\", \"#00cc96\", \"#ab63fa\", \"#FFA15A\", \"#19d3f3\", \"#FF6692\", \"#B6E880\", \"#FF97FF\", \"#FECB52\"], \"font\": {\"color\": \"#2a3f5f\"}, \"geo\": {\"bgcolor\": \"white\", \"lakecolor\": \"white\", \"landcolor\": \"white\", \"showlakes\": true, \"showland\": true, \"subunitcolor\": \"#C8D4E3\"}, \"hoverlabel\": {\"align\": \"left\"}, \"hovermode\": \"closest\", \"mapbox\": {\"style\": \"light\"}, \"paper_bgcolor\": \"white\", \"plot_bgcolor\": \"white\", \"polar\": {\"angularaxis\": {\"gridcolor\": \"#EBF0F8\", \"linecolor\": \"#EBF0F8\", \"ticks\": \"\"}, \"bgcolor\": \"white\", \"radialaxis\": {\"gridcolor\": \"#EBF0F8\", \"linecolor\": \"#EBF0F8\", \"ticks\": \"\"}}, \"scene\": {\"xaxis\": {\"backgroundcolor\": \"white\", \"gridcolor\": \"#DFE8F3\", \"gridwidth\": 2, \"linecolor\": \"#EBF0F8\", \"showbackground\": true, \"ticks\": \"\", \"zerolinecolor\": \"#EBF0F8\"}, \"yaxis\": {\"backgroundcolor\": \"white\", \"gridcolor\": \"#DFE8F3\", \"gridwidth\": 2, \"linecolor\": \"#EBF0F8\", \"showbackground\": true, \"ticks\": \"\", \"zerolinecolor\": \"#EBF0F8\"}, \"zaxis\": {\"backgroundcolor\": \"white\", \"gridcolor\": \"#DFE8F3\", \"gridwidth\": 2, \"linecolor\": \"#EBF0F8\", \"showbackground\": true, \"ticks\": \"\", \"zerolinecolor\": \"#EBF0F8\"}}, \"shapedefaults\": {\"line\": {\"color\": \"#2a3f5f\"}}, \"ternary\": {\"aaxis\": {\"gridcolor\": \"#DFE8F3\", \"linecolor\": \"#A2B1C6\", \"ticks\": \"\"}, \"baxis\": {\"gridcolor\": \"#DFE8F3\", \"linecolor\": \"#A2B1C6\", \"ticks\": \"\"}, \"bgcolor\": \"white\", \"caxis\": {\"gridcolor\": \"#DFE8F3\", \"linecolor\": \"#A2B1C6\", \"ticks\": \"\"}}, \"title\": {\"x\": 0.05}, \"xaxis\": {\"automargin\": true, \"gridcolor\": \"#EBF0F8\", \"linecolor\": \"#EBF0F8\", \"ticks\": \"\", \"title\": {\"standoff\": 15}, \"zerolinecolor\": \"#EBF0F8\", \"zerolinewidth\": 2}, \"yaxis\": {\"automargin\": true, \"gridcolor\": \"#EBF0F8\", \"linecolor\": \"#EBF0F8\", \"ticks\": \"\", \"title\": {\"standoff\": 15}, \"zerolinecolor\": \"#EBF0F8\", \"zerolinewidth\": 2}}}, \"title\": {\"text\": \"Feature Importance\"}, \"width\": 700, \"xaxis\": {\"anchor\": \"y\", \"categoryorder\": \"total ascending\", \"domain\": [0.0, 0.45]}, \"xaxis2\": {\"anchor\": \"y2\", \"domain\": [0.55, 1.0]}, \"yaxis\": {\"anchor\": \"x\", \"domain\": [0.0, 1.0]}, \"yaxis2\": {\"anchor\": \"x2\", \"domain\": [0.0, 1.0], \"matches\": \"y\", \"showticklabels\": false}},\n",
              "                        {\"responsive\": true}\n",
              "                    ).then(function(){\n",
              "                            \n",
              "var gd = document.getElementById('da1b7543-2e9f-4b2e-8172-064955847eb1');\n",
              "var x = new MutationObserver(function (mutations, observer) {{\n",
              "        var display = window.getComputedStyle(gd).display;\n",
              "        if (!display || display === 'none') {{\n",
              "            console.log([gd, 'removed!']);\n",
              "            Plotly.purge(gd);\n",
              "            observer.disconnect();\n",
              "        }}\n",
              "}});\n",
              "\n",
              "// Listen for the removal of the full notebook cells\n",
              "var notebookContainer = gd.closest('#notebook-container');\n",
              "if (notebookContainer) {{\n",
              "    x.observe(notebookContainer, {childList: true});\n",
              "}}\n",
              "\n",
              "// Listen for the clearing of the current output cell\n",
              "var outputEl = gd.closest('.output');\n",
              "if (outputEl) {{\n",
              "    x.observe(outputEl, {childList: true});\n",
              "}}\n",
              "\n",
              "                        })\n",
              "                };\n",
              "                \n",
              "            </script>\n",
              "        </div>\n",
              "</body>\n",
              "</html>"
            ]
          },
          "metadata": {},
          "output_type": "display_data"
        }
      ]
    },
    {
      "cell_type": "code",
      "metadata": {
        "colab": {
          "base_uri": "https://localhost:8080/",
          "height": 868
        },
        "id": "HzgLRjXb7Dhj",
        "outputId": "c096d42e-2f92-4cd4-890f-efac3d86cfe8"
      },
      "source": [
        "# VMW\n",
        "# b-lower,b-upper,b-middle,VGT,SKYY,rsi,SPY,GLD,nfp\n",
        "df_vmw = pd.read_pickle('/content/drive/MyDrive/Colab Notebooks/data/VMW_market_data.pickle')\n",
        "selected =plot_feature_importance(df_vmw,6,1985)\n",
        "\n",
        "selected.append['open','close','high','low']\n",
        "df_btc[selected]"
      ],
      "execution_count": null,
      "outputs": [
        {
          "name": "stdout",
          "output_type": "stream",
          "text": [
            "Top Ranked Features\n",
            "============================================================\n",
            "['SKYY', 'VGT', 'b-middle', 'b-lower', 'b-upper', 'rsi']\n"
          ]
        },
        {
          "data": {
            "text/html": [
              "<html>\n",
              "<head><meta charset=\"utf-8\" /></head>\n",
              "<body>\n",
              "    <div>\n",
              "            <script src=\"https://cdnjs.cloudflare.com/ajax/libs/mathjax/2.7.5/MathJax.js?config=TeX-AMS-MML_SVG\"></script><script type=\"text/javascript\">if (window.MathJax) {MathJax.Hub.Config({SVG: {font: \"STIX-Web\"}});}</script>\n",
              "                <script type=\"text/javascript\">window.PlotlyConfig = {MathJaxConfig: 'local'};</script>\n",
              "        <script src=\"https://cdn.plot.ly/plotly-latest.min.js\"></script>    \n",
              "            <div id=\"d3112c3d-cf87-4319-8fb6-9078ecc46e5d\" class=\"plotly-graph-div\" style=\"height:800px; width:700px;\"></div>\n",
              "            <script type=\"text/javascript\">\n",
              "                \n",
              "                    window.PLOTLYENV=window.PLOTLYENV || {};\n",
              "                    \n",
              "                if (document.getElementById(\"d3112c3d-cf87-4319-8fb6-9078ecc46e5d\")) {\n",
              "                    Plotly.newPlot(\n",
              "                        'd3112c3d-cf87-4319-8fb6-9078ecc46e5d',\n",
              "                        [{\"marker\": {\"color\": \"skyblue\"}, \"name\": \"Importance\", \"opacity\": 0.5, \"orientation\": \"h\", \"type\": \"bar\", \"x\": [0.00030794033294177624, 0.0038020112988971363, 0.00536375086962946, 0.0005242810899761985, 0.02660954644270091, 0.014791315019421719, 0.00043740490298225994, 0.0018932986926368512, 0.0020272896961129696, 0.0004964021208452555, 0.0006889783059655585, 0.001722384522735393, 0.0004974558650939965, 0.00011488115493140654, 0.13424953016694932, 0.7572124622588569, 0.03607630089245844, 0.007812256867404667, 0.0024271496899815827, 0.0004521459411724868, 0.0014850456051011163, 0.00036697461283099206, 0.00042389956798821943, 0.0002172940823855845], \"xaxis\": \"x\", \"y\": [\"volume\", \"GLD\", \"SPY\", \"QQQ\", \"SKYY\", \"VGT\", \"yield5y\", \"yield10y\", \"yield30y\", \"yield3m\", \"ir\", \"nfp\", \"unemployment\", \"infl\", \"b-middle\", \"b-lower\", \"b-upper\", \"rsi\", \"macd_hist\", \"macd_signal\", \"macd\", \"OIL_shift\", \"VXX_shift\", \"cs_shift\"], \"yaxis\": \"y\"}, {\"marker\": {\"color\": \"crimson\"}, \"name\": \"Rank\", \"opacity\": 0.5, \"orientation\": \"h\", \"type\": \"bar\", \"x\": [17, 2, 3, 11, 1, 1, 15, 4, 6, 9, 10, 7, 12, 19, 1, 1, 1, 1, 5, 13, 8, 16, 14, 18], \"xaxis\": \"x2\", \"y\": [\"volume\", \"GLD\", \"SPY\", \"QQQ\", \"SKYY\", \"VGT\", \"yield5y\", \"yield10y\", \"yield30y\", \"yield3m\", \"ir\", \"nfp\", \"unemployment\", \"infl\", \"b-middle\", \"b-lower\", \"b-upper\", \"rsi\", \"macd_hist\", \"macd_signal\", \"macd\", \"OIL_shift\", \"VXX_shift\", \"cs_shift\"], \"yaxis\": \"y2\"}],\n",
              "                        {\"annotations\": [{\"font\": {\"size\": 16}, \"showarrow\": false, \"text\": \"Feature Importance\", \"x\": 0.225, \"xanchor\": \"center\", \"xref\": \"paper\", \"y\": 1.0, \"yanchor\": \"bottom\", \"yref\": \"paper\"}, {\"font\": {\"size\": 16}, \"showarrow\": false, \"text\": \"Feature Ranks\", \"x\": 0.775, \"xanchor\": \"center\", \"xref\": \"paper\", \"y\": 1.0, \"yanchor\": \"bottom\", \"yref\": \"paper\"}], \"height\": 800, \"template\": {\"data\": {\"bar\": [{\"error_x\": {\"color\": \"#2a3f5f\"}, \"error_y\": {\"color\": \"#2a3f5f\"}, \"marker\": {\"line\": {\"color\": \"white\", \"width\": 0.5}}, \"type\": \"bar\"}], \"barpolar\": [{\"marker\": {\"line\": {\"color\": \"white\", \"width\": 0.5}}, \"type\": \"barpolar\"}], \"carpet\": [{\"aaxis\": {\"endlinecolor\": \"#2a3f5f\", \"gridcolor\": \"#C8D4E3\", \"linecolor\": \"#C8D4E3\", \"minorgridcolor\": \"#C8D4E3\", \"startlinecolor\": \"#2a3f5f\"}, \"baxis\": {\"endlinecolor\": \"#2a3f5f\", \"gridcolor\": \"#C8D4E3\", \"linecolor\": \"#C8D4E3\", \"minorgridcolor\": \"#C8D4E3\", \"startlinecolor\": \"#2a3f5f\"}, \"type\": \"carpet\"}], \"choropleth\": [{\"colorbar\": {\"outlinewidth\": 0, \"ticks\": \"\"}, \"type\": \"choropleth\"}], \"contour\": [{\"colorbar\": {\"outlinewidth\": 0, \"ticks\": \"\"}, \"colorscale\": [[0.0, \"#0d0887\"], [0.1111111111111111, \"#46039f\"], [0.2222222222222222, \"#7201a8\"], [0.3333333333333333, \"#9c179e\"], [0.4444444444444444, \"#bd3786\"], [0.5555555555555556, \"#d8576b\"], [0.6666666666666666, \"#ed7953\"], [0.7777777777777778, \"#fb9f3a\"], [0.8888888888888888, \"#fdca26\"], [1.0, \"#f0f921\"]], \"type\": \"contour\"}], \"contourcarpet\": [{\"colorbar\": {\"outlinewidth\": 0, \"ticks\": \"\"}, \"type\": \"contourcarpet\"}], \"heatmap\": [{\"colorbar\": {\"outlinewidth\": 0, \"ticks\": \"\"}, \"colorscale\": [[0.0, \"#0d0887\"], [0.1111111111111111, \"#46039f\"], [0.2222222222222222, \"#7201a8\"], [0.3333333333333333, \"#9c179e\"], [0.4444444444444444, \"#bd3786\"], [0.5555555555555556, \"#d8576b\"], [0.6666666666666666, \"#ed7953\"], [0.7777777777777778, \"#fb9f3a\"], [0.8888888888888888, \"#fdca26\"], [1.0, \"#f0f921\"]], \"type\": \"heatmap\"}], \"heatmapgl\": [{\"colorbar\": {\"outlinewidth\": 0, \"ticks\": \"\"}, \"colorscale\": [[0.0, \"#0d0887\"], [0.1111111111111111, \"#46039f\"], [0.2222222222222222, \"#7201a8\"], [0.3333333333333333, \"#9c179e\"], [0.4444444444444444, \"#bd3786\"], [0.5555555555555556, \"#d8576b\"], [0.6666666666666666, \"#ed7953\"], [0.7777777777777778, \"#fb9f3a\"], [0.8888888888888888, \"#fdca26\"], [1.0, \"#f0f921\"]], \"type\": \"heatmapgl\"}], \"histogram\": [{\"marker\": {\"colorbar\": {\"outlinewidth\": 0, \"ticks\": \"\"}}, \"type\": \"histogram\"}], \"histogram2d\": [{\"colorbar\": {\"outlinewidth\": 0, \"ticks\": \"\"}, \"colorscale\": [[0.0, \"#0d0887\"], [0.1111111111111111, \"#46039f\"], [0.2222222222222222, \"#7201a8\"], [0.3333333333333333, \"#9c179e\"], [0.4444444444444444, \"#bd3786\"], [0.5555555555555556, \"#d8576b\"], [0.6666666666666666, \"#ed7953\"], [0.7777777777777778, \"#fb9f3a\"], [0.8888888888888888, \"#fdca26\"], [1.0, \"#f0f921\"]], \"type\": \"histogram2d\"}], \"histogram2dcontour\": [{\"colorbar\": {\"outlinewidth\": 0, \"ticks\": \"\"}, \"colorscale\": [[0.0, \"#0d0887\"], [0.1111111111111111, \"#46039f\"], [0.2222222222222222, \"#7201a8\"], [0.3333333333333333, \"#9c179e\"], [0.4444444444444444, \"#bd3786\"], [0.5555555555555556, \"#d8576b\"], [0.6666666666666666, \"#ed7953\"], [0.7777777777777778, \"#fb9f3a\"], [0.8888888888888888, \"#fdca26\"], [1.0, \"#f0f921\"]], \"type\": \"histogram2dcontour\"}], \"mesh3d\": [{\"colorbar\": {\"outlinewidth\": 0, \"ticks\": \"\"}, \"type\": \"mesh3d\"}], \"parcoords\": [{\"line\": {\"colorbar\": {\"outlinewidth\": 0, \"ticks\": \"\"}}, \"type\": \"parcoords\"}], \"pie\": [{\"automargin\": true, \"type\": \"pie\"}], \"scatter\": [{\"marker\": {\"colorbar\": {\"outlinewidth\": 0, \"ticks\": \"\"}}, \"type\": \"scatter\"}], \"scatter3d\": [{\"line\": {\"colorbar\": {\"outlinewidth\": 0, \"ticks\": \"\"}}, \"marker\": {\"colorbar\": {\"outlinewidth\": 0, \"ticks\": \"\"}}, \"type\": \"scatter3d\"}], \"scattercarpet\": [{\"marker\": {\"colorbar\": {\"outlinewidth\": 0, \"ticks\": \"\"}}, \"type\": \"scattercarpet\"}], \"scattergeo\": [{\"marker\": {\"colorbar\": {\"outlinewidth\": 0, \"ticks\": \"\"}}, \"type\": \"scattergeo\"}], \"scattergl\": [{\"marker\": {\"colorbar\": {\"outlinewidth\": 0, \"ticks\": \"\"}}, \"type\": \"scattergl\"}], \"scattermapbox\": [{\"marker\": {\"colorbar\": {\"outlinewidth\": 0, \"ticks\": \"\"}}, \"type\": \"scattermapbox\"}], \"scatterpolar\": [{\"marker\": {\"colorbar\": {\"outlinewidth\": 0, \"ticks\": \"\"}}, \"type\": \"scatterpolar\"}], \"scatterpolargl\": [{\"marker\": {\"colorbar\": {\"outlinewidth\": 0, \"ticks\": \"\"}}, \"type\": \"scatterpolargl\"}], \"scatterternary\": [{\"marker\": {\"colorbar\": {\"outlinewidth\": 0, \"ticks\": \"\"}}, \"type\": \"scatterternary\"}], \"surface\": [{\"colorbar\": {\"outlinewidth\": 0, \"ticks\": \"\"}, \"colorscale\": [[0.0, \"#0d0887\"], [0.1111111111111111, \"#46039f\"], [0.2222222222222222, \"#7201a8\"], [0.3333333333333333, \"#9c179e\"], [0.4444444444444444, \"#bd3786\"], [0.5555555555555556, \"#d8576b\"], [0.6666666666666666, \"#ed7953\"], [0.7777777777777778, \"#fb9f3a\"], [0.8888888888888888, \"#fdca26\"], [1.0, \"#f0f921\"]], \"type\": \"surface\"}], \"table\": [{\"cells\": {\"fill\": {\"color\": \"#EBF0F8\"}, \"line\": {\"color\": \"white\"}}, \"header\": {\"fill\": {\"color\": \"#C8D4E3\"}, \"line\": {\"color\": \"white\"}}, \"type\": \"table\"}]}, \"layout\": {\"annotationdefaults\": {\"arrowcolor\": \"#2a3f5f\", \"arrowhead\": 0, \"arrowwidth\": 1}, \"coloraxis\": {\"colorbar\": {\"outlinewidth\": 0, \"ticks\": \"\"}}, \"colorscale\": {\"diverging\": [[0, \"#8e0152\"], [0.1, \"#c51b7d\"], [0.2, \"#de77ae\"], [0.3, \"#f1b6da\"], [0.4, \"#fde0ef\"], [0.5, \"#f7f7f7\"], [0.6, \"#e6f5d0\"], [0.7, \"#b8e186\"], [0.8, \"#7fbc41\"], [0.9, \"#4d9221\"], [1, \"#276419\"]], \"sequential\": [[0.0, \"#0d0887\"], [0.1111111111111111, \"#46039f\"], [0.2222222222222222, \"#7201a8\"], [0.3333333333333333, \"#9c179e\"], [0.4444444444444444, \"#bd3786\"], [0.5555555555555556, \"#d8576b\"], [0.6666666666666666, \"#ed7953\"], [0.7777777777777778, \"#fb9f3a\"], [0.8888888888888888, \"#fdca26\"], [1.0, \"#f0f921\"]], \"sequentialminus\": [[0.0, \"#0d0887\"], [0.1111111111111111, \"#46039f\"], [0.2222222222222222, \"#7201a8\"], [0.3333333333333333, \"#9c179e\"], [0.4444444444444444, \"#bd3786\"], [0.5555555555555556, \"#d8576b\"], [0.6666666666666666, \"#ed7953\"], [0.7777777777777778, \"#fb9f3a\"], [0.8888888888888888, \"#fdca26\"], [1.0, \"#f0f921\"]]}, \"colorway\": [\"#636efa\", \"#EF553B\", \"#00cc96\", \"#ab63fa\", \"#FFA15A\", \"#19d3f3\", \"#FF6692\", \"#B6E880\", \"#FF97FF\", \"#FECB52\"], \"font\": {\"color\": \"#2a3f5f\"}, \"geo\": {\"bgcolor\": \"white\", \"lakecolor\": \"white\", \"landcolor\": \"white\", \"showlakes\": true, \"showland\": true, \"subunitcolor\": \"#C8D4E3\"}, \"hoverlabel\": {\"align\": \"left\"}, \"hovermode\": \"closest\", \"mapbox\": {\"style\": \"light\"}, \"paper_bgcolor\": \"white\", \"plot_bgcolor\": \"white\", \"polar\": {\"angularaxis\": {\"gridcolor\": \"#EBF0F8\", \"linecolor\": \"#EBF0F8\", \"ticks\": \"\"}, \"bgcolor\": \"white\", \"radialaxis\": {\"gridcolor\": \"#EBF0F8\", \"linecolor\": \"#EBF0F8\", \"ticks\": \"\"}}, \"scene\": {\"xaxis\": {\"backgroundcolor\": \"white\", \"gridcolor\": \"#DFE8F3\", \"gridwidth\": 2, \"linecolor\": \"#EBF0F8\", \"showbackground\": true, \"ticks\": \"\", \"zerolinecolor\": \"#EBF0F8\"}, \"yaxis\": {\"backgroundcolor\": \"white\", \"gridcolor\": \"#DFE8F3\", \"gridwidth\": 2, \"linecolor\": \"#EBF0F8\", \"showbackground\": true, \"ticks\": \"\", \"zerolinecolor\": \"#EBF0F8\"}, \"zaxis\": {\"backgroundcolor\": \"white\", \"gridcolor\": \"#DFE8F3\", \"gridwidth\": 2, \"linecolor\": \"#EBF0F8\", \"showbackground\": true, \"ticks\": \"\", \"zerolinecolor\": \"#EBF0F8\"}}, \"shapedefaults\": {\"line\": {\"color\": \"#2a3f5f\"}}, \"ternary\": {\"aaxis\": {\"gridcolor\": \"#DFE8F3\", \"linecolor\": \"#A2B1C6\", \"ticks\": \"\"}, \"baxis\": {\"gridcolor\": \"#DFE8F3\", \"linecolor\": \"#A2B1C6\", \"ticks\": \"\"}, \"bgcolor\": \"white\", \"caxis\": {\"gridcolor\": \"#DFE8F3\", \"linecolor\": \"#A2B1C6\", \"ticks\": \"\"}}, \"title\": {\"x\": 0.05}, \"xaxis\": {\"automargin\": true, \"gridcolor\": \"#EBF0F8\", \"linecolor\": \"#EBF0F8\", \"ticks\": \"\", \"title\": {\"standoff\": 15}, \"zerolinecolor\": \"#EBF0F8\", \"zerolinewidth\": 2}, \"yaxis\": {\"automargin\": true, \"gridcolor\": \"#EBF0F8\", \"linecolor\": \"#EBF0F8\", \"ticks\": \"\", \"title\": {\"standoff\": 15}, \"zerolinecolor\": \"#EBF0F8\", \"zerolinewidth\": 2}}}, \"title\": {\"text\": \"Feature Importance\"}, \"width\": 700, \"xaxis\": {\"anchor\": \"y\", \"categoryorder\": \"total ascending\", \"domain\": [0.0, 0.45]}, \"xaxis2\": {\"anchor\": \"y2\", \"domain\": [0.55, 1.0]}, \"yaxis\": {\"anchor\": \"x\", \"domain\": [0.0, 1.0]}, \"yaxis2\": {\"anchor\": \"x2\", \"domain\": [0.0, 1.0], \"matches\": \"y\", \"showticklabels\": false}},\n",
              "                        {\"responsive\": true}\n",
              "                    ).then(function(){\n",
              "                            \n",
              "var gd = document.getElementById('d3112c3d-cf87-4319-8fb6-9078ecc46e5d');\n",
              "var x = new MutationObserver(function (mutations, observer) {{\n",
              "        var display = window.getComputedStyle(gd).display;\n",
              "        if (!display || display === 'none') {{\n",
              "            console.log([gd, 'removed!']);\n",
              "            Plotly.purge(gd);\n",
              "            observer.disconnect();\n",
              "        }}\n",
              "}});\n",
              "\n",
              "// Listen for the removal of the full notebook cells\n",
              "var notebookContainer = gd.closest('#notebook-container');\n",
              "if (notebookContainer) {{\n",
              "    x.observe(notebookContainer, {childList: true});\n",
              "}}\n",
              "\n",
              "// Listen for the clearing of the current output cell\n",
              "var outputEl = gd.closest('.output');\n",
              "if (outputEl) {{\n",
              "    x.observe(outputEl, {childList: true});\n",
              "}}\n",
              "\n",
              "                        })\n",
              "                };\n",
              "                \n",
              "            </script>\n",
              "        </div>\n",
              "</body>\n",
              "</html>"
            ]
          },
          "metadata": {},
          "output_type": "display_data"
        }
      ]
    },
    {
      "cell_type": "code",
      "metadata": {
        "colab": {
          "base_uri": "https://localhost:8080/",
          "height": 868
        },
        "id": "uNmLLHlF7D2q",
        "outputId": "887835a4-1cae-4a06-ac2b-3fc3f6459e95"
      },
      "source": [
        "# BLX.TO\n",
        "df_blx = pd.read_pickle('/content/drive/MyDrive/Colab Notebooks/data/BLX.TO_market_data.pickle')\n",
        "selected = plot_feature_importance(df_blx,6,1985)\n",
        "\n",
        "selected.append['open','close','high','low']\n",
        "df_btc[selected]"
      ],
      "execution_count": null,
      "outputs": [
        {
          "name": "stdout",
          "output_type": "stream",
          "text": [
            "Top Ranked Features\n",
            "============================================================\n",
            "['PBD', 'b-middle', 'b-lower', 'b-upper', 'macd', 'USO_shift']\n"
          ]
        },
        {
          "data": {
            "text/html": [
              "<html>\n",
              "<head><meta charset=\"utf-8\" /></head>\n",
              "<body>\n",
              "    <div>\n",
              "            <script src=\"https://cdnjs.cloudflare.com/ajax/libs/mathjax/2.7.5/MathJax.js?config=TeX-AMS-MML_SVG\"></script><script type=\"text/javascript\">if (window.MathJax) {MathJax.Hub.Config({SVG: {font: \"STIX-Web\"}});}</script>\n",
              "                <script type=\"text/javascript\">window.PlotlyConfig = {MathJaxConfig: 'local'};</script>\n",
              "        <script src=\"https://cdn.plot.ly/plotly-latest.min.js\"></script>    \n",
              "            <div id=\"f7a6f5dd-878c-4391-b501-86dd0d282f91\" class=\"plotly-graph-div\" style=\"height:800px; width:700px;\"></div>\n",
              "            <script type=\"text/javascript\">\n",
              "                \n",
              "                    window.PLOTLYENV=window.PLOTLYENV || {};\n",
              "                    \n",
              "                if (document.getElementById(\"f7a6f5dd-878c-4391-b501-86dd0d282f91\")) {\n",
              "                    Plotly.newPlot(\n",
              "                        'f7a6f5dd-878c-4391-b501-86dd0d282f91',\n",
              "                        [{\"marker\": {\"color\": \"skyblue\"}, \"name\": \"Importance\", \"opacity\": 0.5, \"orientation\": \"h\", \"type\": \"bar\", \"x\": [5.2411940961762606e-05, 0.00025358106516011565, 0.00032068913746349624, 0.02459105865052564, 0.00022578471737972375, 0.0005520396991548709, 0.00024200975673867686, 0.000791780802605103, 0.00011142388839458337, 6.909940400734078e-05, 8.744757935565054e-05, 0.0002556278892137611, 9.361240735346914e-05, 0.0009369241555813662, 0.00019185204908739938, 5.039747395946913e-05, 2.4750907707270088e-05, 0.15860734653159325, 0.20542583782283663, 0.6008193429516714, 0.0014692481583795521, 0.0016960460560027303, 0.00030576193924623465, 0.0006057599898270427, 0.002220165025793479], \"xaxis\": \"x\", \"y\": [\"volume\", \"GLD\", \"SPY\", \"PBD\", \"XLE\", \"EWC\", \"UNL\", \"VXX\", \"yield5y\", \"yield10y\", \"yield30y\", \"yield3m\", \"ir\", \"nfp\", \"unemployment\", \"cs\", \"infl\", \"b-middle\", \"b-lower\", \"b-upper\", \"rsi\", \"macd\", \"macd_hist\", \"macd_signal\", \"USO_shift\"], \"yaxis\": \"y\"}, {\"marker\": {\"color\": \"crimson\"}, \"name\": \"Rank\", \"opacity\": 0.5, \"orientation\": \"h\", \"type\": \"bar\", \"x\": [19, 10, 5, 1, 11, 7, 12, 4, 14, 17, 15, 9, 16, 3, 13, 18, 20, 1, 1, 1, 2, 1, 8, 6, 1], \"xaxis\": \"x2\", \"y\": [\"volume\", \"GLD\", \"SPY\", \"PBD\", \"XLE\", \"EWC\", \"UNL\", \"VXX\", \"yield5y\", \"yield10y\", \"yield30y\", \"yield3m\", \"ir\", \"nfp\", \"unemployment\", \"cs\", \"infl\", \"b-middle\", \"b-lower\", \"b-upper\", \"rsi\", \"macd\", \"macd_hist\", \"macd_signal\", \"USO_shift\"], \"yaxis\": \"y2\"}],\n",
              "                        {\"annotations\": [{\"font\": {\"size\": 16}, \"showarrow\": false, \"text\": \"Feature Importance\", \"x\": 0.225, \"xanchor\": \"center\", \"xref\": \"paper\", \"y\": 1.0, \"yanchor\": \"bottom\", \"yref\": \"paper\"}, {\"font\": {\"size\": 16}, \"showarrow\": false, \"text\": \"Feature Ranks\", \"x\": 0.775, \"xanchor\": \"center\", \"xref\": \"paper\", \"y\": 1.0, \"yanchor\": \"bottom\", \"yref\": \"paper\"}], \"height\": 800, \"template\": {\"data\": {\"bar\": [{\"error_x\": {\"color\": \"#2a3f5f\"}, \"error_y\": {\"color\": \"#2a3f5f\"}, \"marker\": {\"line\": {\"color\": \"white\", \"width\": 0.5}}, \"type\": \"bar\"}], \"barpolar\": [{\"marker\": {\"line\": {\"color\": \"white\", \"width\": 0.5}}, \"type\": \"barpolar\"}], \"carpet\": [{\"aaxis\": {\"endlinecolor\": \"#2a3f5f\", \"gridcolor\": \"#C8D4E3\", \"linecolor\": \"#C8D4E3\", \"minorgridcolor\": \"#C8D4E3\", \"startlinecolor\": \"#2a3f5f\"}, \"baxis\": {\"endlinecolor\": \"#2a3f5f\", \"gridcolor\": \"#C8D4E3\", \"linecolor\": \"#C8D4E3\", \"minorgridcolor\": \"#C8D4E3\", \"startlinecolor\": \"#2a3f5f\"}, \"type\": \"carpet\"}], \"choropleth\": [{\"colorbar\": {\"outlinewidth\": 0, \"ticks\": \"\"}, \"type\": \"choropleth\"}], \"contour\": [{\"colorbar\": {\"outlinewidth\": 0, \"ticks\": \"\"}, \"colorscale\": [[0.0, \"#0d0887\"], [0.1111111111111111, \"#46039f\"], [0.2222222222222222, \"#7201a8\"], [0.3333333333333333, \"#9c179e\"], [0.4444444444444444, \"#bd3786\"], [0.5555555555555556, \"#d8576b\"], [0.6666666666666666, \"#ed7953\"], [0.7777777777777778, \"#fb9f3a\"], [0.8888888888888888, \"#fdca26\"], [1.0, \"#f0f921\"]], \"type\": \"contour\"}], \"contourcarpet\": [{\"colorbar\": {\"outlinewidth\": 0, \"ticks\": \"\"}, \"type\": \"contourcarpet\"}], \"heatmap\": [{\"colorbar\": {\"outlinewidth\": 0, \"ticks\": \"\"}, \"colorscale\": [[0.0, \"#0d0887\"], [0.1111111111111111, \"#46039f\"], [0.2222222222222222, \"#7201a8\"], [0.3333333333333333, \"#9c179e\"], [0.4444444444444444, \"#bd3786\"], [0.5555555555555556, \"#d8576b\"], [0.6666666666666666, \"#ed7953\"], [0.7777777777777778, \"#fb9f3a\"], [0.8888888888888888, \"#fdca26\"], [1.0, \"#f0f921\"]], \"type\": \"heatmap\"}], \"heatmapgl\": [{\"colorbar\": {\"outlinewidth\": 0, \"ticks\": \"\"}, \"colorscale\": [[0.0, \"#0d0887\"], [0.1111111111111111, \"#46039f\"], [0.2222222222222222, \"#7201a8\"], [0.3333333333333333, \"#9c179e\"], [0.4444444444444444, \"#bd3786\"], [0.5555555555555556, \"#d8576b\"], [0.6666666666666666, \"#ed7953\"], [0.7777777777777778, \"#fb9f3a\"], [0.8888888888888888, \"#fdca26\"], [1.0, \"#f0f921\"]], \"type\": \"heatmapgl\"}], \"histogram\": [{\"marker\": {\"colorbar\": {\"outlinewidth\": 0, \"ticks\": \"\"}}, \"type\": \"histogram\"}], \"histogram2d\": [{\"colorbar\": {\"outlinewidth\": 0, \"ticks\": \"\"}, \"colorscale\": [[0.0, \"#0d0887\"], [0.1111111111111111, \"#46039f\"], [0.2222222222222222, \"#7201a8\"], [0.3333333333333333, \"#9c179e\"], [0.4444444444444444, \"#bd3786\"], [0.5555555555555556, \"#d8576b\"], [0.6666666666666666, \"#ed7953\"], [0.7777777777777778, \"#fb9f3a\"], [0.8888888888888888, \"#fdca26\"], [1.0, \"#f0f921\"]], \"type\": \"histogram2d\"}], \"histogram2dcontour\": [{\"colorbar\": {\"outlinewidth\": 0, \"ticks\": \"\"}, \"colorscale\": [[0.0, \"#0d0887\"], [0.1111111111111111, \"#46039f\"], [0.2222222222222222, \"#7201a8\"], [0.3333333333333333, \"#9c179e\"], [0.4444444444444444, \"#bd3786\"], [0.5555555555555556, \"#d8576b\"], [0.6666666666666666, \"#ed7953\"], [0.7777777777777778, \"#fb9f3a\"], [0.8888888888888888, \"#fdca26\"], [1.0, \"#f0f921\"]], \"type\": \"histogram2dcontour\"}], \"mesh3d\": [{\"colorbar\": {\"outlinewidth\": 0, \"ticks\": \"\"}, \"type\": \"mesh3d\"}], \"parcoords\": [{\"line\": {\"colorbar\": {\"outlinewidth\": 0, \"ticks\": \"\"}}, \"type\": \"parcoords\"}], \"pie\": [{\"automargin\": true, \"type\": \"pie\"}], \"scatter\": [{\"marker\": {\"colorbar\": {\"outlinewidth\": 0, \"ticks\": \"\"}}, \"type\": \"scatter\"}], \"scatter3d\": [{\"line\": {\"colorbar\": {\"outlinewidth\": 0, \"ticks\": \"\"}}, \"marker\": {\"colorbar\": {\"outlinewidth\": 0, \"ticks\": \"\"}}, \"type\": \"scatter3d\"}], \"scattercarpet\": [{\"marker\": {\"colorbar\": {\"outlinewidth\": 0, \"ticks\": \"\"}}, \"type\": \"scattercarpet\"}], \"scattergeo\": [{\"marker\": {\"colorbar\": {\"outlinewidth\": 0, \"ticks\": \"\"}}, \"type\": \"scattergeo\"}], \"scattergl\": [{\"marker\": {\"colorbar\": {\"outlinewidth\": 0, \"ticks\": \"\"}}, \"type\": \"scattergl\"}], \"scattermapbox\": [{\"marker\": {\"colorbar\": {\"outlinewidth\": 0, \"ticks\": \"\"}}, \"type\": \"scattermapbox\"}], \"scatterpolar\": [{\"marker\": {\"colorbar\": {\"outlinewidth\": 0, \"ticks\": \"\"}}, \"type\": \"scatterpolar\"}], \"scatterpolargl\": [{\"marker\": {\"colorbar\": {\"outlinewidth\": 0, \"ticks\": \"\"}}, \"type\": \"scatterpolargl\"}], \"scatterternary\": [{\"marker\": {\"colorbar\": {\"outlinewidth\": 0, \"ticks\": \"\"}}, \"type\": \"scatterternary\"}], \"surface\": [{\"colorbar\": {\"outlinewidth\": 0, \"ticks\": \"\"}, \"colorscale\": [[0.0, \"#0d0887\"], [0.1111111111111111, \"#46039f\"], [0.2222222222222222, \"#7201a8\"], [0.3333333333333333, \"#9c179e\"], [0.4444444444444444, \"#bd3786\"], [0.5555555555555556, \"#d8576b\"], [0.6666666666666666, \"#ed7953\"], [0.7777777777777778, \"#fb9f3a\"], [0.8888888888888888, \"#fdca26\"], [1.0, \"#f0f921\"]], \"type\": \"surface\"}], \"table\": [{\"cells\": {\"fill\": {\"color\": \"#EBF0F8\"}, \"line\": {\"color\": \"white\"}}, \"header\": {\"fill\": {\"color\": \"#C8D4E3\"}, \"line\": {\"color\": \"white\"}}, \"type\": \"table\"}]}, \"layout\": {\"annotationdefaults\": {\"arrowcolor\": \"#2a3f5f\", \"arrowhead\": 0, \"arrowwidth\": 1}, \"coloraxis\": {\"colorbar\": {\"outlinewidth\": 0, \"ticks\": \"\"}}, \"colorscale\": {\"diverging\": [[0, \"#8e0152\"], [0.1, \"#c51b7d\"], [0.2, \"#de77ae\"], [0.3, \"#f1b6da\"], [0.4, \"#fde0ef\"], [0.5, \"#f7f7f7\"], [0.6, \"#e6f5d0\"], [0.7, \"#b8e186\"], [0.8, \"#7fbc41\"], [0.9, \"#4d9221\"], [1, \"#276419\"]], \"sequential\": [[0.0, \"#0d0887\"], [0.1111111111111111, \"#46039f\"], [0.2222222222222222, \"#7201a8\"], [0.3333333333333333, \"#9c179e\"], [0.4444444444444444, \"#bd3786\"], [0.5555555555555556, \"#d8576b\"], [0.6666666666666666, \"#ed7953\"], [0.7777777777777778, \"#fb9f3a\"], [0.8888888888888888, \"#fdca26\"], [1.0, \"#f0f921\"]], \"sequentialminus\": [[0.0, \"#0d0887\"], [0.1111111111111111, \"#46039f\"], [0.2222222222222222, \"#7201a8\"], [0.3333333333333333, \"#9c179e\"], [0.4444444444444444, \"#bd3786\"], [0.5555555555555556, \"#d8576b\"], [0.6666666666666666, \"#ed7953\"], [0.7777777777777778, \"#fb9f3a\"], [0.8888888888888888, \"#fdca26\"], [1.0, \"#f0f921\"]]}, \"colorway\": [\"#636efa\", \"#EF553B\", \"#00cc96\", \"#ab63fa\", \"#FFA15A\", \"#19d3f3\", \"#FF6692\", \"#B6E880\", \"#FF97FF\", \"#FECB52\"], \"font\": {\"color\": \"#2a3f5f\"}, \"geo\": {\"bgcolor\": \"white\", \"lakecolor\": \"white\", \"landcolor\": \"white\", \"showlakes\": true, \"showland\": true, \"subunitcolor\": \"#C8D4E3\"}, \"hoverlabel\": {\"align\": \"left\"}, \"hovermode\": \"closest\", \"mapbox\": {\"style\": \"light\"}, \"paper_bgcolor\": \"white\", \"plot_bgcolor\": \"white\", \"polar\": {\"angularaxis\": {\"gridcolor\": \"#EBF0F8\", \"linecolor\": \"#EBF0F8\", \"ticks\": \"\"}, \"bgcolor\": \"white\", \"radialaxis\": {\"gridcolor\": \"#EBF0F8\", \"linecolor\": \"#EBF0F8\", \"ticks\": \"\"}}, \"scene\": {\"xaxis\": {\"backgroundcolor\": \"white\", \"gridcolor\": \"#DFE8F3\", \"gridwidth\": 2, \"linecolor\": \"#EBF0F8\", \"showbackground\": true, \"ticks\": \"\", \"zerolinecolor\": \"#EBF0F8\"}, \"yaxis\": {\"backgroundcolor\": \"white\", \"gridcolor\": \"#DFE8F3\", \"gridwidth\": 2, \"linecolor\": \"#EBF0F8\", \"showbackground\": true, \"ticks\": \"\", \"zerolinecolor\": \"#EBF0F8\"}, \"zaxis\": {\"backgroundcolor\": \"white\", \"gridcolor\": \"#DFE8F3\", \"gridwidth\": 2, \"linecolor\": \"#EBF0F8\", \"showbackground\": true, \"ticks\": \"\", \"zerolinecolor\": \"#EBF0F8\"}}, \"shapedefaults\": {\"line\": {\"color\": \"#2a3f5f\"}}, \"ternary\": {\"aaxis\": {\"gridcolor\": \"#DFE8F3\", \"linecolor\": \"#A2B1C6\", \"ticks\": \"\"}, \"baxis\": {\"gridcolor\": \"#DFE8F3\", \"linecolor\": \"#A2B1C6\", \"ticks\": \"\"}, \"bgcolor\": \"white\", \"caxis\": {\"gridcolor\": \"#DFE8F3\", \"linecolor\": \"#A2B1C6\", \"ticks\": \"\"}}, \"title\": {\"x\": 0.05}, \"xaxis\": {\"automargin\": true, \"gridcolor\": \"#EBF0F8\", \"linecolor\": \"#EBF0F8\", \"ticks\": \"\", \"title\": {\"standoff\": 15}, \"zerolinecolor\": \"#EBF0F8\", \"zerolinewidth\": 2}, \"yaxis\": {\"automargin\": true, \"gridcolor\": \"#EBF0F8\", \"linecolor\": \"#EBF0F8\", \"ticks\": \"\", \"title\": {\"standoff\": 15}, \"zerolinecolor\": \"#EBF0F8\", \"zerolinewidth\": 2}}}, \"title\": {\"text\": \"Feature Importance\"}, \"width\": 700, \"xaxis\": {\"anchor\": \"y\", \"categoryorder\": \"total ascending\", \"domain\": [0.0, 0.45]}, \"xaxis2\": {\"anchor\": \"y2\", \"domain\": [0.55, 1.0]}, \"yaxis\": {\"anchor\": \"x\", \"domain\": [0.0, 1.0]}, \"yaxis2\": {\"anchor\": \"x2\", \"domain\": [0.0, 1.0], \"matches\": \"y\", \"showticklabels\": false}},\n",
              "                        {\"responsive\": true}\n",
              "                    ).then(function(){\n",
              "                            \n",
              "var gd = document.getElementById('f7a6f5dd-878c-4391-b501-86dd0d282f91');\n",
              "var x = new MutationObserver(function (mutations, observer) {{\n",
              "        var display = window.getComputedStyle(gd).display;\n",
              "        if (!display || display === 'none') {{\n",
              "            console.log([gd, 'removed!']);\n",
              "            Plotly.purge(gd);\n",
              "            observer.disconnect();\n",
              "        }}\n",
              "}});\n",
              "\n",
              "// Listen for the removal of the full notebook cells\n",
              "var notebookContainer = gd.closest('#notebook-container');\n",
              "if (notebookContainer) {{\n",
              "    x.observe(notebookContainer, {childList: true});\n",
              "}}\n",
              "\n",
              "// Listen for the clearing of the current output cell\n",
              "var outputEl = gd.closest('.output');\n",
              "if (outputEl) {{\n",
              "    x.observe(outputEl, {childList: true});\n",
              "}}\n",
              "\n",
              "                        })\n",
              "                };\n",
              "                \n",
              "            </script>\n",
              "        </div>\n",
              "</body>\n",
              "</html>"
            ]
          },
          "metadata": {},
          "output_type": "display_data"
        }
      ]
    },
    {
      "cell_type": "code",
      "metadata": {
        "id": "rUyIJVsuVmw-"
      },
      "source": [
        "#PCA\n",
        "# from sklearn.decomposition import PCA\n",
        "# from sklearn.preprocessing import StandardScaler\n",
        "\n",
        "\n",
        "# df_pca = df.copy()\n",
        "# pca_cols =[c for c in df_pca.columns if df_pca[c].dtype != 'object']\n",
        "# df_pca = df_pca[pca_cols]\n",
        "\n",
        "\n",
        "# # scale\n",
        "# scaler = StandardScaler()\n",
        "# scaler.fit(df_pca)\n",
        "# pca_X = scaler.transform(df_pca)\n",
        "# # pca_y = scaler.transform(df_pca['close'])\n",
        "\n",
        "\n",
        "# pca = PCA(n_components=0.90, svd_solver='full')\n",
        "# pca.fit(pca_X)\n",
        "\n",
        "# X = pca.transform(pca_X)\n",
        "\n",
        "# print(pca.explained_variance_ratio_)\n",
        "# X.shape"
      ],
      "execution_count": null,
      "outputs": []
    }
  ]
}